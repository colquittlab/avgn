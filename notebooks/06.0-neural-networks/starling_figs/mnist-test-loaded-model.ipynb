{
 "cells": [
  {
   "cell_type": "code",
   "execution_count": 1,
   "metadata": {
    "ExecuteTime": {
     "end_time": "2020-03-06T08:31:33.352841Z",
     "start_time": "2020-03-06T08:31:31.575362Z"
    }
   },
   "outputs": [],
   "source": [
    "import umap\n",
    "from sklearn.datasets import fetch_openml\n",
    "import matplotlib.pyplot as plt\n",
    "import seaborn as sns\n",
    "import numpy as np"
   ]
  },
  {
   "cell_type": "code",
   "execution_count": 2,
   "metadata": {
    "ExecuteTime": {
     "end_time": "2020-03-06T08:31:33.357639Z",
     "start_time": "2020-03-06T08:31:33.354170Z"
    }
   },
   "outputs": [],
   "source": [
    "sns.set(context=\"paper\", style=\"white\")"
   ]
  },
  {
   "cell_type": "code",
   "execution_count": 3,
   "metadata": {
    "ExecuteTime": {
     "end_time": "2020-03-06T08:31:51.597328Z",
     "start_time": "2020-03-06T08:31:33.359076Z"
    }
   },
   "outputs": [],
   "source": [
    "mnist = fetch_openml(\"mnist_784\", version=1)"
   ]
  },
  {
   "cell_type": "code",
   "execution_count": 4,
   "metadata": {
    "ExecuteTime": {
     "end_time": "2020-03-06T08:31:51.606531Z",
     "start_time": "2020-03-06T08:31:51.599137Z"
    }
   },
   "outputs": [
    {
     "data": {
      "text/plain": [
       "array([0., 0., 0., 0.])"
      ]
     },
     "execution_count": 4,
     "metadata": {},
     "output_type": "execute_result"
    }
   ],
   "source": [
    "mnist.data[0][:4]"
   ]
  },
  {
   "cell_type": "code",
   "execution_count": 5,
   "metadata": {
    "ExecuteTime": {
     "end_time": "2020-03-06T08:31:51.622624Z",
     "start_time": "2020-03-06T08:31:51.609442Z"
    }
   },
   "outputs": [
    {
     "data": {
      "text/plain": [
       "(70000, 784)"
      ]
     },
     "execution_count": 5,
     "metadata": {},
     "output_type": "execute_result"
    }
   ],
   "source": [
    "np.shape(mnist.data)"
   ]
  },
  {
   "cell_type": "code",
   "execution_count": 6,
   "metadata": {
    "ExecuteTime": {
     "end_time": "2020-03-06T08:31:52.821976Z",
     "start_time": "2020-03-06T08:31:51.625033Z"
    }
   },
   "outputs": [
    {
     "name": "stdout",
     "output_type": "stream",
     "text": [
      "<class 'umap.umap_.UMAP'>\n"
     ]
    }
   ],
   "source": [
    "# with pickle\n",
    "import pickle\n",
    "\n",
    "f_name = 'saving_example.sav'\n",
    "# time passes\n",
    "loaded_model = pickle.load((open(f_name, 'rb')))\n",
    "print(type(loaded_model))\n",
    "# <class 'umap.umap_.UMAP'>"
   ]
  },
  {
   "cell_type": "code",
   "execution_count": 7,
   "metadata": {
    "ExecuteTime": {
     "end_time": "2020-03-06T08:31:52.826865Z",
     "start_time": "2020-03-06T08:31:52.823526Z"
    }
   },
   "outputs": [
    {
     "data": {
      "text/plain": [
       "False"
      ]
     },
     "execution_count": 7,
     "metadata": {},
     "output_type": "execute_result"
    }
   ],
   "source": [
    "loaded_model._sparse_data"
   ]
  },
  {
   "cell_type": "code",
   "execution_count": 8,
   "metadata": {
    "ExecuteTime": {
     "end_time": "2020-03-06T08:31:52.839626Z",
     "start_time": "2020-03-06T08:31:52.828232Z"
    }
   },
   "outputs": [],
   "source": [
    "reducer = umap.UMAP(random_state=42,  verbose=True)"
   ]
  },
  {
   "cell_type": "code",
   "execution_count": 9,
   "metadata": {
    "ExecuteTime": {
     "end_time": "2020-03-06T08:31:52.849516Z",
     "start_time": "2020-03-06T08:31:52.841483Z"
    }
   },
   "outputs": [],
   "source": [
    "#reducer.fit(mnist.data[:10])"
   ]
  },
  {
   "cell_type": "code",
   "execution_count": 10,
   "metadata": {
    "ExecuteTime": {
     "end_time": "2020-03-06T08:31:52.860457Z",
     "start_time": "2020-03-06T08:31:52.851288Z"
    }
   },
   "outputs": [
    {
     "data": {
      "text/plain": [
       "'0.4.0rc1'"
      ]
     },
     "execution_count": 10,
     "metadata": {},
     "output_type": "execute_result"
    }
   ],
   "source": [
    "umap.__version__"
   ]
  },
  {
   "cell_type": "code",
   "execution_count": 11,
   "metadata": {
    "ExecuteTime": {
     "end_time": "2020-03-06T08:31:53.944479Z",
     "start_time": "2020-03-06T08:31:52.862345Z"
    }
   },
   "outputs": [],
   "source": [
    "sigmas, rhos = umap.umap_.smooth_knn_dist(loaded_model._knn_indices, loaded_model.n_neighbors, loaded_model.local_connectivity)"
   ]
  },
  {
   "cell_type": "code",
   "execution_count": 12,
   "metadata": {
    "ExecuteTime": {
     "end_time": "2020-03-06T08:31:53.950047Z",
     "start_time": "2020-03-06T08:31:53.946157Z"
    }
   },
   "outputs": [],
   "source": [
    "reducer.embedding_ = loaded_model.embedding_\n",
    "reducer.graph_ = loaded_model.graph_#.toarray()\n",
    "reducer._sparse_data = loaded_model._sparse_data\n",
    "reducer._raw_data = loaded_model._raw_data\n",
    "reducer._a = loaded_model._a\n",
    "reducer._b = loaded_model._b\n",
    "reducer.n_epochs = loaded_model.n_epochs\n",
    "reducer.metric = loaded_model.metric\n",
    "reducer.repulsion_strength = loaded_model.repulsion_strength\n",
    "reducer._initial_alpha = loaded_model._initial_alpha\n",
    "reducer.negative_sample_rate = loaded_model.negative_sample_rate\n",
    "reducer._metric_kwds = loaded_model._metric_kwds\n",
    "reducer._sigmas = sigmas\n",
    "reducer._rhos = rhos"
   ]
  },
  {
   "cell_type": "code",
   "execution_count": 36,
   "metadata": {
    "ExecuteTime": {
     "end_time": "2020-03-06T08:34:32.573945Z",
     "start_time": "2020-03-06T08:34:32.569113Z"
    }
   },
   "outputs": [],
   "source": [
    "reducer._input_hash = loaded_model._input_hash\n",
    "reducer._small_data = loaded_model._small_data\n",
    "reducer._rp_forest = loaded_model._rp_forest\n",
    "reducer._n_neighbors = loaded_model._n_neighbors\n",
    "reducer._distance_func = loaded_model._distance_func\n",
    "reducer._search_graph = loaded_model._search_graph"
   ]
  },
  {
   "cell_type": "code",
   "execution_count": 37,
   "metadata": {
    "ExecuteTime": {
     "end_time": "2020-03-06T08:34:32.717949Z",
     "start_time": "2020-03-06T08:34:32.712632Z"
    }
   },
   "outputs": [
    {
     "data": {
      "text/plain": [
       "(10, 784)"
      ]
     },
     "execution_count": 37,
     "metadata": {},
     "output_type": "execute_result"
    }
   ],
   "source": [
    "np.shape(mnist.data[:10])"
   ]
  },
  {
   "cell_type": "code",
   "execution_count": 39,
   "metadata": {
    "ExecuteTime": {
     "end_time": "2020-03-06T08:34:47.349816Z",
     "start_time": "2020-03-06T08:34:47.346675Z"
    }
   },
   "outputs": [],
   "source": [
    "#z = reducer.transform(mnist.data[:10])"
   ]
  },
  {
   "cell_type": "code",
   "execution_count": 69,
   "metadata": {
    "ExecuteTime": {
     "end_time": "2020-03-06T17:39:32.815419Z",
     "start_time": "2020-03-06T17:39:32.809494Z"
    }
   },
   "outputs": [
    {
     "data": {
      "text/plain": [
       "array([[ 0.5264052 , -1.2105161 ],\n",
       "       [12.6892805 ,  0.13754378],\n",
       "       [-2.077842  ,  8.564555  ]], dtype=float32)"
      ]
     },
     "execution_count": 69,
     "metadata": {},
     "output_type": "execute_result"
    }
   ],
   "source": [
    "loaded_model.embedding_[:3]"
   ]
  },
  {
   "cell_type": "code",
   "execution_count": 13,
   "metadata": {
    "ExecuteTime": {
     "end_time": "2020-03-06T08:33:10.153101Z",
     "start_time": "2020-03-06T08:31:53.951539Z"
    }
   },
   "outputs": [
    {
     "name": "stdout",
     "output_type": "stream",
     "text": [
      "\tcompleted  0  /  100 epochs\n",
      "\tcompleted  10  /  100 epochs\n",
      "\tcompleted  20  /  100 epochs\n",
      "\tcompleted  30  /  100 epochs\n",
      "\tcompleted  40  /  100 epochs\n",
      "\tcompleted  50  /  100 epochs\n",
      "\tcompleted  60  /  100 epochs\n",
      "\tcompleted  70  /  100 epochs\n",
      "\tcompleted  80  /  100 epochs\n",
      "\tcompleted  90  /  100 epochs\n"
     ]
    }
   ],
   "source": [
    "trans = reducer.inverse_transform(loaded_model.embedding_[:3])"
   ]
  },
  {
   "cell_type": "code",
   "execution_count": 42,
   "metadata": {
    "ExecuteTime": {
     "end_time": "2020-03-06T08:35:43.239754Z",
     "start_time": "2020-03-06T08:35:43.161182Z"
    }
   },
   "outputs": [
    {
     "data": {
      "text/plain": [
       "<matplotlib.image.AxesImage at 0x7fe424895128>"
      ]
     },
     "execution_count": 42,
     "metadata": {},
     "output_type": "execute_result"
    },
    {
     "data": {
      "image/png": "[encoded data removed]",
      "text/plain": [
       "<Figure size 288x288 with 1 Axes>"
      ]
     },
     "metadata": {},
     "output_type": "display_data"
    }
   ],
   "source": [
    "plt.matshow(mnist.data[0].reshape(28,28))"
   ]
  },
  {
   "cell_type": "code",
   "execution_count": null,
   "metadata": {},
   "outputs": [],
   "source": []
  },
  {
   "cell_type": "code",
   "execution_count": 78,
   "metadata": {
    "ExecuteTime": {
     "end_time": "2020-03-06T17:41:21.948246Z",
     "start_time": "2020-03-06T17:41:21.669072Z"
    }
   },
   "outputs": [
    {
     "name": "stderr",
     "output_type": "stream",
     "text": [
      "/home/AD/tsainbur/anaconda3/envs/tf1/lib/python3.6/site-packages/ipykernel_launcher.py:1: RuntimeWarning: divide by zero encountered in log\n",
      "  \"\"\"Entry point for launching an IPython kernel.\n",
      "/home/AD/tsainbur/anaconda3/envs/tf1/lib/python3.6/site-packages/ipykernel_launcher.py:1: RuntimeWarning: invalid value encountered in log\n",
      "  \"\"\"Entry point for launching an IPython kernel.\n"
     ]
    },
    {
     "data": {
      "text/plain": [
       "<matplotlib.colorbar.Colorbar at 0x7fe3baf3ec88>"
      ]
     },
     "execution_count": 78,
     "metadata": {},
     "output_type": "execute_result"
    },
    {
     "data": {
      "image/png": "[encoded data removed]",
      "text/plain": [
       "<Figure size 288x288 with 2 Axes>"
      ]
     },
     "metadata": {},
     "output_type": "display_data"
    }
   ],
   "source": [
    "plt.matshow(np.log(trans[0]).reshape(28,28))#, vmax = 1)\n",
    "plt.colorbar()"
   ]
  },
  {
   "cell_type": "code",
   "execution_count": 67,
   "metadata": {
    "ExecuteTime": {
     "end_time": "2020-03-06T08:50:52.128672Z",
     "start_time": "2020-03-06T08:50:51.998409Z"
    }
   },
   "outputs": [
    {
     "data": {
      "text/plain": [
       "<matplotlib.colorbar.Colorbar at 0x7fe3bb343a58>"
      ]
     },
     "execution_count": 67,
     "metadata": {},
     "output_type": "execute_result"
    },
    {
     "data": {
      "image/png": "[encoded data removed]",
      "text/plain": [
       "<Figure size 288x288 with 2 Axes>"
      ]
     },
     "metadata": {},
     "output_type": "display_data"
    }
   ],
   "source": [
    "plt.matshow(trans[0].reshape(28,28), vmin=3000)#, vmax = 1)\n",
    "plt.colorbar()"
   ]
  },
  {
   "cell_type": "code",
   "execution_count": 73,
   "metadata": {
    "ExecuteTime": {
     "end_time": "2020-03-06T17:40:15.392918Z",
     "start_time": "2020-03-06T17:40:15.264460Z"
    }
   },
   "outputs": [
    {
     "data": {
      "text/plain": [
       "<matplotlib.colorbar.Colorbar at 0x7fe3bb1f1898>"
      ]
     },
     "execution_count": 73,
     "metadata": {},
     "output_type": "execute_result"
    },
    {
     "data": {
      "image/png": "[encoded data removed]",
      "text/plain": [
       "<Figure size 288x288 with 2 Axes>"
      ]
     },
     "metadata": {},
     "output_type": "display_data"
    }
   ],
   "source": [
    "plt.matshow(trans[1].reshape(28,28), vmin=2900)#, vmax = 1)\n",
    "plt.colorbar()"
   ]
  },
  {
   "cell_type": "code",
   "execution_count": 74,
   "metadata": {
    "ExecuteTime": {
     "end_time": "2020-03-06T17:40:17.139363Z",
     "start_time": "2020-03-06T17:40:17.007205Z"
    }
   },
   "outputs": [
    {
     "data": {
      "text/plain": [
       "<matplotlib.colorbar.Colorbar at 0x7fe3bb0cfe80>"
      ]
     },
     "execution_count": 74,
     "metadata": {},
     "output_type": "execute_result"
    },
    {
     "data": {
      "image/png": "[encoded data removed]",
      "text/plain": [
       "<Figure size 288x288 with 2 Axes>"
      ]
     },
     "metadata": {},
     "output_type": "display_data"
    }
   ],
   "source": [
    "plt.matshow(trans[2].reshape(28,28), vmin=2900)#, vmax = 1)\n",
    "plt.colorbar()"
   ]
  },
  {
   "cell_type": "code",
   "execution_count": 71,
   "metadata": {
    "ExecuteTime": {
     "end_time": "2020-03-06T17:39:53.908148Z",
     "start_time": "2020-03-06T17:39:53.903625Z"
    }
   },
   "outputs": [
    {
     "data": {
      "text/plain": [
       "(3, 784)"
      ]
     },
     "execution_count": 71,
     "metadata": {},
     "output_type": "execute_result"
    }
   ],
   "source": [
    "np.shape(trans)"
   ]
  },
  {
   "cell_type": "code",
   "execution_count": 76,
   "metadata": {
    "ExecuteTime": {
     "end_time": "2020-03-06T17:40:35.665640Z",
     "start_time": "2020-03-06T17:40:35.535321Z"
    }
   },
   "outputs": [
    {
     "data": {
      "text/plain": [
       "<matplotlib.colorbar.Colorbar at 0x7fe3bb01c978>"
      ]
     },
     "execution_count": 76,
     "metadata": {},
     "output_type": "execute_result"
    },
    {
     "data": {
      "image/png": "[encoded data removed]",
      "text/plain": [
       "<Figure size 288x288 with 2 Axes>"
      ]
     },
     "metadata": {},
     "output_type": "display_data"
    }
   ],
   "source": [
    "plt.matshow(trans[1].reshape(28,28))#, vmin=2900)#, vmax = 1)\n",
    "plt.colorbar()"
   ]
  },
  {
   "cell_type": "code",
   "execution_count": null,
   "metadata": {},
   "outputs": [],
   "source": []
  }
 ],
 "metadata": {
  "kernelspec": {
   "display_name": "Python [conda env:tf1]",
   "language": "python",
   "name": "conda-env-tf1-py"
  },
  "language_info": {
   "codemirror_mode": {
    "name": "ipython",
    "version": 3
   },
   "file_extension": ".py",
   "mimetype": "text/x-python",
   "name": "python",
   "nbconvert_exporter": "python",
   "pygments_lexer": "ipython3",
   "version": "3.6.10"
  }
 },
 "nbformat": 4,
 "nbformat_minor": 2
}
