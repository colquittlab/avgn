{
 "cells": [
  {
   "cell_type": "code",
   "execution_count": 1,
   "metadata": {
    "ExecuteTime": {
     "end_time": "2020-03-06T22:15:11.819779Z",
     "start_time": "2020-03-06T22:15:11.808613Z"
    }
   },
   "outputs": [],
   "source": [
    "%load_ext autoreload\n",
    "%autoreload 2"
   ]
  },
  {
   "cell_type": "code",
   "execution_count": 2,
   "metadata": {
    "ExecuteTime": {
     "end_time": "2020-03-06T22:15:11.830551Z",
     "start_time": "2020-03-06T22:15:11.821864Z"
    }
   },
   "outputs": [
    {
     "name": "stdout",
     "output_type": "stream",
     "text": [
      "env: CUDA_DEVICE_ORDER=PCI_BUS_ID\n",
      "env: CUDA_VISIBLE_DEVICES=[]#2\n"
     ]
    }
   ],
   "source": [
    "%env CUDA_DEVICE_ORDER=PCI_BUS_ID\n",
    "%env CUDA_VISIBLE_DEVICES=[]#2"
   ]
  },
  {
   "cell_type": "code",
   "execution_count": 3,
   "metadata": {
    "ExecuteTime": {
     "end_time": "2020-03-06T22:15:13.607470Z",
     "start_time": "2020-03-06T22:15:11.832261Z"
    }
   },
   "outputs": [
    {
     "name": "stderr",
     "output_type": "stream",
     "text": [
      "/mnt/cube/tsainbur/conda_envs/tpy3/lib/python3.6/site-packages/tqdm/autonotebook/__init__.py:14: TqdmExperimentalWarning: Using `tqdm.autonotebook.tqdm` in notebook mode. Use `tqdm.tqdm` instead to force console mode (e.g. in jupyter console)\n",
      "  \" (e.g. in jupyter console)\", TqdmExperimentalWarning)\n"
     ]
    }
   ],
   "source": [
    "from avgn.utils.paths import DATA_DIR, most_recent_subdirectory, ensure_dir"
   ]
  },
  {
   "cell_type": "code",
   "execution_count": 4,
   "metadata": {
    "ExecuteTime": {
     "end_time": "2020-03-06T22:15:13.626155Z",
     "start_time": "2020-03-06T22:15:13.608844Z"
    }
   },
   "outputs": [],
   "source": [
    "import numpy as np\n",
    "import matplotlib.pyplot as plt\n",
    "from tqdm.autonotebook import tqdm\n",
    "%matplotlib inline\n",
    "from IPython import display"
   ]
  },
  {
   "cell_type": "code",
   "execution_count": 5,
   "metadata": {
    "ExecuteTime": {
     "end_time": "2020-03-06T22:15:14.328707Z",
     "start_time": "2020-03-06T22:15:13.627132Z"
    }
   },
   "outputs": [],
   "source": [
    "from cuml.manifold.umap import UMAP as cumlUMAP"
   ]
  },
  {
   "cell_type": "code",
   "execution_count": 6,
   "metadata": {
    "ExecuteTime": {
     "end_time": "2020-03-06T22:15:14.610902Z",
     "start_time": "2020-03-06T22:15:14.330558Z"
    }
   },
   "outputs": [],
   "source": [
    "all_x = np.load(DATA_DIR / 'starling_128_numpy' / 'all_specs.npy')"
   ]
  },
  {
   "cell_type": "code",
   "execution_count": 7,
   "metadata": {
    "ExecuteTime": {
     "end_time": "2020-03-06T22:15:14.633574Z",
     "start_time": "2020-03-06T22:15:14.612605Z"
    }
   },
   "outputs": [],
   "source": [
    "x1, x2, x3 = np.load(DATA_DIR / 'starling_128_numpy' / 'j-points.npy')"
   ]
  },
  {
   "cell_type": "code",
   "execution_count": 8,
   "metadata": {
    "ExecuteTime": {
     "end_time": "2020-03-06T22:15:14.652617Z",
     "start_time": "2020-03-06T22:15:14.634936Z"
    }
   },
   "outputs": [
    {
     "data": {
      "text/plain": [
       "(91648, 128, 128)"
      ]
     },
     "execution_count": 8,
     "metadata": {},
     "output_type": "execute_result"
    }
   ],
   "source": [
    "np.shape(all_x)"
   ]
  },
  {
   "cell_type": "markdown",
   "metadata": {},
   "source": [
    "### PCA"
   ]
  },
  {
   "cell_type": "code",
   "execution_count": 9,
   "metadata": {
    "ExecuteTime": {
     "end_time": "2020-03-06T22:15:14.673179Z",
     "start_time": "2020-03-06T22:15:14.653846Z"
    }
   },
   "outputs": [],
   "source": [
    "from avgn.signalprocessing.create_spectrogram_dataset import flatten_spectrograms"
   ]
  },
  {
   "cell_type": "code",
   "execution_count": 10,
   "metadata": {
    "ExecuteTime": {
     "end_time": "2020-03-06T22:15:14.689663Z",
     "start_time": "2020-03-06T22:15:14.674419Z"
    }
   },
   "outputs": [],
   "source": [
    "# umap\n",
    "specs_flattened = flatten_spectrograms(all_x)#[:, :10]#[:20000]"
   ]
  },
  {
   "cell_type": "code",
   "execution_count": 11,
   "metadata": {
    "ExecuteTime": {
     "end_time": "2020-03-06T22:15:14.706847Z",
     "start_time": "2020-03-06T22:15:14.690846Z"
    }
   },
   "outputs": [
    {
     "data": {
      "text/plain": [
       "(91648, 16384)"
      ]
     },
     "execution_count": 11,
     "metadata": {},
     "output_type": "execute_result"
    }
   ],
   "source": [
    "np.shape(specs_flattened)"
   ]
  },
  {
   "cell_type": "code",
   "execution_count": 12,
   "metadata": {
    "ExecuteTime": {
     "end_time": "2020-03-06T22:15:14.722960Z",
     "start_time": "2020-03-06T22:15:14.707987Z"
    }
   },
   "outputs": [],
   "source": [
    "from sklearn.decomposition import PCA"
   ]
  },
  {
   "cell_type": "code",
   "execution_count": 13,
   "metadata": {
    "ExecuteTime": {
     "end_time": "2020-03-06T22:15:14.739037Z",
     "start_time": "2020-03-06T22:15:14.724126Z"
    }
   },
   "outputs": [],
   "source": [
    "pca = PCA(n_components=1000)"
   ]
  },
  {
   "cell_type": "code",
   "execution_count": 14,
   "metadata": {
    "ExecuteTime": {
     "end_time": "2020-03-06T22:20:56.245362Z",
     "start_time": "2020-03-06T22:15:14.740206Z"
    }
   },
   "outputs": [
    {
     "data": {
      "text/plain": [
       "PCA(copy=True, iterated_power='auto', n_components=1000, random_state=None,\n",
       "    svd_solver='auto', tol=0.0, whiten=False)"
      ]
     },
     "execution_count": 14,
     "metadata": {},
     "output_type": "execute_result"
    }
   ],
   "source": [
    "pca.fit(specs_flattened)"
   ]
  },
  {
   "cell_type": "code",
   "execution_count": 15,
   "metadata": {
    "ExecuteTime": {
     "end_time": "2020-03-06T22:21:04.987830Z",
     "start_time": "2020-03-06T22:20:56.248550Z"
    }
   },
   "outputs": [],
   "source": [
    "zpca = pca.transform(specs_flattened)"
   ]
  },
  {
   "cell_type": "code",
   "execution_count": 16,
   "metadata": {
    "ExecuteTime": {
     "end_time": "2020-03-06T22:21:05.088243Z",
     "start_time": "2020-03-06T22:21:04.993645Z"
    }
   },
   "outputs": [],
   "source": [
    "proj = pca.inverse_transform(zpca[0])"
   ]
  },
  {
   "cell_type": "code",
   "execution_count": null,
   "metadata": {
    "ExecuteTime": {
     "start_time": "2020-03-06T22:15:11.794Z"
    }
   },
   "outputs": [
    {
     "data": {
      "text/plain": [
       "<matplotlib.image.AxesImage at 0x7f1c7618ab00>"
      ]
     },
     "execution_count": 17,
     "metadata": {},
     "output_type": "execute_result"
    },
    {
     "data": {
      "image/png": "[encoded data removed]",
      "text/plain": [
       "<Figure size 720x360 with 2 Axes>"
      ]
     },
     "metadata": {
      "needs_background": "light"
     },
     "output_type": "display_data"
    }
   ],
   "source": [
    "fig, axs = plt.subplots(ncols=2, figsize=(10,5))\n",
    "axs[0].matshow(specs_flattened[0].reshape((128,128)))\n",
    "axs[1].matshow(proj.reshape((128,128)))"
   ]
  },
  {
   "cell_type": "code",
   "execution_count": null,
   "metadata": {
    "ExecuteTime": {
     "start_time": "2020-03-06T22:15:11.796Z"
    }
   },
   "outputs": [
    {
     "data": {
      "text/plain": [
       "(91648, 1000)"
      ]
     },
     "execution_count": 18,
     "metadata": {},
     "output_type": "execute_result"
    }
   ],
   "source": [
    "np.shape(zpca)"
   ]
  },
  {
   "cell_type": "markdown",
   "metadata": {},
   "source": [
    "### project umap"
   ]
  },
  {
   "cell_type": "code",
   "execution_count": null,
   "metadata": {
    "ExecuteTime": {
     "start_time": "2020-03-06T22:15:11.797Z"
    }
   },
   "outputs": [
    {
     "name": "stdout",
     "output_type": "stream",
     "text": [
      "0.4.0rc1\n"
     ]
    }
   ],
   "source": [
    "import umap\n",
    "print(umap.__version__)\n",
    "#import umap.plot"
   ]
  },
  {
   "cell_type": "code",
   "execution_count": null,
   "metadata": {
    "ExecuteTime": {
     "start_time": "2020-03-06T22:15:11.798Z"
    }
   },
   "outputs": [],
   "source": [
    "N_Z = 10 #128 #works with 2"
   ]
  },
  {
   "cell_type": "code",
   "execution_count": null,
   "metadata": {
    "ExecuteTime": {
     "start_time": "2020-03-06T22:15:11.800Z"
    },
    "scrolled": true
   },
   "outputs": [
    {
     "name": "stdout",
     "output_type": "stream",
     "text": [
      "UMAP(a=None, angular_rp_forest=False, b=None,\n",
      "     force_approximation_algorithm=False, init='spectral', learning_rate=1.0,\n",
      "     local_connectivity=1.0, low_memory=False, metric='euclidean',\n",
      "     metric_kwds=None, min_dist=0.1, n_components=10, n_epochs=None,\n",
      "     n_neighbors=15, negative_sample_rate=5, output_metric='euclidean',\n",
      "     output_metric_kwds=None, random_state=42, repulsion_strength=1.0,\n",
      "     set_op_mix_ratio=1.0, spread=1.0, target_metric='categorical',\n",
      "     target_metric_kwds=None, target_n_neighbors=-1, target_weight=0.5,\n",
      "     transform_queue_size=4.0, transform_seed=42, unique=False, verbose=True)\n",
      "Construct fuzzy simplicial set\n",
      "Fri Mar  6 14:21:06 2020 Finding Nearest Neighbors\n",
      "Fri Mar  6 14:21:06 2020 Building RP forest with 20 trees\n",
      "Fri Mar  6 14:21:24 2020 NN descent for 16 iterations\n",
      "\t 0  /  16\n",
      "\t 1  /  16\n",
      "\t 2  /  16\n",
      "\t 3  /  16\n",
      "\t 4  /  16\n",
      "\t 5  /  16\n",
      "\t 6  /  16\n",
      "Fri Mar  6 14:21:44 2020 Finished Nearest Neighbor Search\n",
      "Fri Mar  6 14:21:49 2020 Construct embedding\n",
      "\tcompleted  0  /  200 epochs\n",
      "\tcompleted  20  /  200 epochs\n",
      "\tcompleted  40  /  200 epochs\n",
      "\tcompleted  60  /  200 epochs\n",
      "\tcompleted  80  /  200 epochs\n",
      "\tcompleted  100  /  200 epochs\n",
      "\tcompleted  120  /  200 epochs\n",
      "\tcompleted  140  /  200 epochs\n",
      "\tcompleted  160  /  200 epochs\n",
      "\tcompleted  180  /  200 epochs\n",
      "Fri Mar  6 14:23:56 2020 Finished embedding\n"
     ]
    },
    {
     "data": {
      "text/plain": [
       "UMAP(a=None, angular_rp_forest=False, b=None,\n",
       "     force_approximation_algorithm=False, init='spectral', learning_rate=1.0,\n",
       "     local_connectivity=1.0, low_memory=False, metric='euclidean',\n",
       "     metric_kwds=None, min_dist=0.1, n_components=10, n_epochs=None,\n",
       "     n_neighbors=15, negative_sample_rate=5, output_metric='euclidean',\n",
       "     output_metric_kwds=None, random_state=42, repulsion_strength=1.0,\n",
       "     set_op_mix_ratio=1.0, spread=1.0, target_metric='categorical',\n",
       "     target_metric_kwds=None, target_n_neighbors=-1, target_weight=0.5,\n",
       "     transform_queue_size=4.0, transform_seed=42, unique=False, verbose=True)"
      ]
     },
     "execution_count": 21,
     "metadata": {},
     "output_type": "execute_result"
    }
   ],
   "source": [
    "mapper = umap.UMAP(random_state=42, n_components=N_Z, verbose=True)\n",
    "mapper.fit(zpca)"
   ]
  },
  {
   "cell_type": "code",
   "execution_count": null,
   "metadata": {
    "ExecuteTime": {
     "start_time": "2020-03-07T00:50:09.261Z"
    }
   },
   "outputs": [],
   "source": [
    "print('test')"
   ]
  },
  {
   "cell_type": "code",
   "execution_count": null,
   "metadata": {
    "ExecuteTime": {
     "start_time": "2020-03-06T22:15:11.801Z"
    }
   },
   "outputs": [],
   "source": [
    "x = mapper.transform(zpca)#.astype('float32'))"
   ]
  },
  {
   "cell_type": "markdown",
   "metadata": {},
   "source": [
    "### map random points"
   ]
  },
  {
   "cell_type": "code",
   "execution_count": null,
   "metadata": {
    "ExecuteTime": {
     "start_time": "2020-03-06T22:15:11.802Z"
    }
   },
   "outputs": [],
   "source": [
    "#x_r = mapper.inverse_transform(x1)\n",
    "x_r1 = mapper.inverse_transform(x[:5])"
   ]
  },
  {
   "cell_type": "code",
   "execution_count": null,
   "metadata": {
    "ExecuteTime": {
     "start_time": "2020-03-06T22:15:11.804Z"
    }
   },
   "outputs": [],
   "source": [
    "x_r1 = pca.inverse_transform(x_r1)"
   ]
  },
  {
   "cell_type": "code",
   "execution_count": null,
   "metadata": {
    "ExecuteTime": {
     "start_time": "2020-03-06T22:15:11.805Z"
    },
    "scrolled": true
   },
   "outputs": [],
   "source": [
    "for i in range(5):\n",
    "    fig, axs = plt.subplots(ncols=2, figsize=(10,5))\n",
    "    axs[0].matshow(specs_flattened[i].reshape((128,128)), origin=\"lower\")\n",
    "    axs[1].matshow(x_r1[i].reshape((128,128)), origin=\"lower\")"
   ]
  },
  {
   "cell_type": "code",
   "execution_count": null,
   "metadata": {
    "ExecuteTime": {
     "start_time": "2020-03-06T22:15:11.807Z"
    }
   },
   "outputs": [],
   "source": [
    "pt1 = x[0]\n",
    "pt2 = x[1]\n",
    "pt3 = x[2]"
   ]
  },
  {
   "cell_type": "code",
   "execution_count": null,
   "metadata": {
    "ExecuteTime": {
     "start_time": "2020-03-06T22:15:11.808Z"
    }
   },
   "outputs": [],
   "source": [
    "interp_len = 5"
   ]
  },
  {
   "cell_type": "code",
   "execution_count": null,
   "metadata": {
    "ExecuteTime": {
     "start_time": "2020-03-06T22:15:11.809Z"
    }
   },
   "outputs": [],
   "source": [
    "#get proportions\n",
    "z_list = []\n",
    "for ci, C in enumerate(np.linspace(0, 1, interp_len)):\n",
    "    for bi, B in enumerate(np.linspace(0, 1, interp_len)):\n",
    "        A = 1 - C - B\n",
    "        z_list.append(\n",
    "            C * pt1 +\n",
    "            B * pt2 + \n",
    "            A * pt3\n",
    "        )\n",
    "z_list = np.vstack(z_list)\n",
    "# get X\n",
    "x_list_pca = mapper.inverse_transform(z_list) "
   ]
  },
  {
   "cell_type": "code",
   "execution_count": null,
   "metadata": {
    "ExecuteTime": {
     "start_time": "2020-03-06T22:15:11.810Z"
    }
   },
   "outputs": [],
   "source": [
    "x_list = pca.inverse_transform(x_list_pca)"
   ]
  },
  {
   "cell_type": "code",
   "execution_count": null,
   "metadata": {
    "ExecuteTime": {
     "start_time": "2020-03-06T22:15:11.812Z"
    }
   },
   "outputs": [],
   "source": [
    "x_list = x_list.reshape(len(x_list), 128, 128, 1)\n",
    "np.shape(x_list)"
   ]
  },
  {
   "cell_type": "code",
   "execution_count": null,
   "metadata": {
    "ExecuteTime": {
     "start_time": "2020-03-06T22:15:11.813Z"
    },
    "code_folding": [],
    "scrolled": false
   },
   "outputs": [],
   "source": [
    "# make diagram\n",
    "Jdiagram = np.ones((x_list.shape[1] * (interp_len),\n",
    "                    x_list.shape[2] * (interp_len + 2), x_list.shape[3]))\n",
    "np.shape(Jdiagram)\n",
    "\n",
    "Jdiagram[(interp_len - 1) * x_list.shape[1]:(interp_len) *\n",
    "         x_list.shape[1], :x_list.shape[2], :] = specs_flattened[2].reshape(\n",
    "             128, 128, 1)\n",
    "\n",
    "Jdiagram[(interp_len - 1) * x_list.shape[1]:(interp_len) *\n",
    "         x_list.shape[1], (interp_len + 1) * x_list.shape[2]:(interp_len + 2) *\n",
    "         x_list.shape[2], :] = specs_flattened[0].reshape(128, 128, 1)\n",
    "\n",
    "Jdiagram[:x_list.shape[1], :x_list.shape[2], :] = specs_flattened[1].reshape(\n",
    "    128, 128, 1)\n",
    "\n",
    "#populate\n",
    "i = 0\n",
    "for ci, C in enumerate(np.linspace(0, 1, interp_len)):\n",
    "    for bi, B in enumerate(np.linspace(0, 1, interp_len)):\n",
    "        Jdiagram[(interp_len - 1 - bi) * x_list.shape[1]:(\n",
    "            (interp_len - bi)) * x_list.shape[1], (ci + 1) *\n",
    "                 x_list.shape[2]:(ci + 2) * x_list.shape[2], :] = x_list[i]\n",
    "        i += 1\n",
    "\n",
    "fig, ax = plt.subplots(figsize=(10, 10))\n",
    "ax.matshow(np.squeeze(Jdiagram), vmin=0, cmap=plt.cm.afmhot, origin='lower')\n",
    "ax.axis('off')"
   ]
  },
  {
   "cell_type": "markdown",
   "metadata": {},
   "source": [
    "### map exemplars"
   ]
  },
  {
   "cell_type": "code",
   "execution_count": null,
   "metadata": {
    "ExecuteTime": {
     "start_time": "2020-03-06T22:15:11.814Z"
    }
   },
   "outputs": [],
   "source": [
    "xx = pca.transform(flatten_spectrograms(np.array([x1*255, x2*255, x3*255]).astype('uint8')))"
   ]
  },
  {
   "cell_type": "code",
   "execution_count": null,
   "metadata": {
    "ExecuteTime": {
     "start_time": "2020-03-06T22:15:11.816Z"
    }
   },
   "outputs": [],
   "source": [
    "x_z = mapper.transform(xx)#.astype('float32'))"
   ]
  },
  {
   "cell_type": "code",
   "execution_count": null,
   "metadata": {
    "ExecuteTime": {
     "start_time": "2020-03-06T22:15:11.819Z"
    }
   },
   "outputs": [],
   "source": [
    "plt.scatter(x[:,0], x[:,1], alpha = 0.01, s=1, color='k')\n",
    "plt.scatter(x_z[:,0], x_z[:,1], alpha = 1, s=30, color = 'red')"
   ]
  },
  {
   "cell_type": "code",
   "execution_count": null,
   "metadata": {
    "ExecuteTime": {
     "start_time": "2020-03-06T22:15:11.820Z"
    }
   },
   "outputs": [],
   "source": [
    "#x_r = mapper.inverse_transform(x1)\n",
    "x_r = mapper.inverse_transform(x_z)"
   ]
  },
  {
   "cell_type": "code",
   "execution_count": null,
   "metadata": {
    "ExecuteTime": {
     "start_time": "2020-03-06T22:15:11.821Z"
    }
   },
   "outputs": [],
   "source": [
    "x_r = pca.inverse_transform(x_r)"
   ]
  },
  {
   "cell_type": "code",
   "execution_count": null,
   "metadata": {
    "ExecuteTime": {
     "start_time": "2020-03-06T22:15:11.822Z"
    }
   },
   "outputs": [],
   "source": [
    "np.shape(x_r)"
   ]
  },
  {
   "cell_type": "code",
   "execution_count": null,
   "metadata": {
    "ExecuteTime": {
     "start_time": "2020-03-06T22:15:11.824Z"
    }
   },
   "outputs": [],
   "source": [
    "fig, axs = plt.subplots(ncols=2, figsize=(10,5))\n",
    "axs[0].matshow(x1[0].reshape((128,128)), origin=\"lower\")\n",
    "axs[1].matshow(x_r[0].reshape((128,128)), origin=\"lower\")"
   ]
  },
  {
   "cell_type": "code",
   "execution_count": null,
   "metadata": {
    "ExecuteTime": {
     "start_time": "2020-03-06T22:15:11.825Z"
    }
   },
   "outputs": [],
   "source": [
    "np.shape(x_r)"
   ]
  },
  {
   "cell_type": "code",
   "execution_count": null,
   "metadata": {
    "ExecuteTime": {
     "start_time": "2020-03-06T22:15:11.826Z"
    }
   },
   "outputs": [],
   "source": [
    "fig, axs = plt.subplots(ncols=2, figsize=(10,5))\n",
    "axs[0].matshow(x2[0].reshape((128,128)), origin=\"lower\")\n",
    "axs[1].matshow(x_r[1].reshape((128,128)), origin=\"lower\")"
   ]
  },
  {
   "cell_type": "code",
   "execution_count": null,
   "metadata": {
    "ExecuteTime": {
     "start_time": "2020-03-06T22:15:11.827Z"
    }
   },
   "outputs": [],
   "source": [
    "fig, axs = plt.subplots(ncols=2, figsize=(10,5))\n",
    "axs[0].matshow(x3[0].reshape((128,128)), origin=\"lower\")\n",
    "axs[1].matshow(x_r[2].reshape((128,128)), origin=\"lower\")"
   ]
  },
  {
   "cell_type": "code",
   "execution_count": null,
   "metadata": {
    "ExecuteTime": {
     "start_time": "2020-03-06T22:15:11.829Z"
    }
   },
   "outputs": [],
   "source": [
    "### 2D only\n",
    "breakme"
   ]
  },
  {
   "cell_type": "code",
   "execution_count": null,
   "metadata": {
    "ExecuteTime": {
     "start_time": "2020-03-06T22:15:11.830Z"
    }
   },
   "outputs": [],
   "source": [
    "corners = np.array([\n",
    "    [-10, -10],  # 1\n",
    "    [-10, 10],  # 7\n",
    "    [10, -10],  # 2\n",
    "    [10, 10],  # 0\n",
    "])\n",
    "\n",
    "test_pts = np.array([\n",
    "    (corners[0]*(1-x) + corners[1]*x)*(1-y) +\n",
    "    (corners[2]*(1-x) + corners[3]*x)*y\n",
    "    for y in np.linspace(0, 1, 10)\n",
    "    for x in np.linspace(0, 1, 10)\n",
    "])\n"
   ]
  },
  {
   "cell_type": "code",
   "execution_count": null,
   "metadata": {
    "ExecuteTime": {
     "start_time": "2020-03-06T22:15:11.831Z"
    }
   },
   "outputs": [],
   "source": [
    "inv_transformed_points = mapper.inverse_transform(test_pts)"
   ]
  },
  {
   "cell_type": "code",
   "execution_count": null,
   "metadata": {
    "ExecuteTime": {
     "start_time": "2020-03-06T22:15:11.832Z"
    }
   },
   "outputs": [],
   "source": [
    "inv_transformed_points = pca.inverse_transform(inv_transformed_points)"
   ]
  },
  {
   "cell_type": "code",
   "execution_count": null,
   "metadata": {
    "ExecuteTime": {
     "start_time": "2020-03-06T22:15:11.833Z"
    }
   },
   "outputs": [],
   "source": [
    "from matplotlib.gridspec import GridSpec\n"
   ]
  },
  {
   "cell_type": "code",
   "execution_count": null,
   "metadata": {
    "ExecuteTime": {
     "start_time": "2020-03-06T22:15:11.834Z"
    }
   },
   "outputs": [],
   "source": [
    "# Set up the grid\n",
    "fig = plt.figure(figsize=(30,15))\n",
    "gs = GridSpec(10, 20, fig)\n",
    "scatter_ax = fig.add_subplot(gs[:, :10])\n",
    "digit_axes = np.zeros((10, 10), dtype=object)\n",
    "for i in range(10):\n",
    "    for j in range(10):\n",
    "        digit_axes[i, j] = fig.add_subplot(gs[i, 10 + j])\n",
    "\n",
    "# Use umap.plot to plot to the major axis\n",
    "# umap.plot.points(mapper, labels=labels, ax=scatter_ax)\n",
    "scatter_ax.scatter(mapper.embedding_[:, 0], mapper.embedding_[:, 1], s=1, alpha = 0.05, color='k')\n",
    "scatter_ax.set(xticks=[], yticks=[])\n",
    "\n",
    "# Plot the locations of the text points\n",
    "scatter_ax.scatter(test_pts[:, 0], test_pts[:, 1], c='blue', s=200)\n",
    "scatter_ax.scatter(x_z[:,0], x_z[:,1], alpha = 1, s=50, color = 'red')\n",
    "\n",
    "# Plot each of the generated digit images\n",
    "for i in range(10):\n",
    "    for j in range(10):\n",
    "        digit_axes[i, j].imshow(inv_transformed_points[i*10 + j].reshape(128, 128))\n",
    "        digit_axes[i, j].set(xticks=[], yticks=[])"
   ]
  },
  {
   "cell_type": "code",
   "execution_count": null,
   "metadata": {},
   "outputs": [],
   "source": []
  }
 ],
 "metadata": {
  "kernelspec": {
   "display_name": "Python 3",
   "language": "python",
   "name": "python3"
  },
  "language_info": {
   "codemirror_mode": {
    "name": "ipython",
    "version": 3
   },
   "file_extension": ".py",
   "mimetype": "text/x-python",
   "name": "python",
   "nbconvert_exporter": "python",
   "pygments_lexer": "ipython3",
   "version": "3.6.7"
  }
 },
 "nbformat": 4,
 "nbformat_minor": 2
}
