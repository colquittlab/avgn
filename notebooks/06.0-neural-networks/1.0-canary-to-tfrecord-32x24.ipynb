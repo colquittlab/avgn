{
 "cells": [
  {
   "cell_type": "code",
   "execution_count": 29,
   "metadata": {
    "ExecuteTime": {
     "end_time": "2019-10-25T03:11:41.374252Z",
     "start_time": "2019-10-25T03:11:37.787781Z"
    }
   },
   "outputs": [
    {
     "name": "stdout",
     "output_type": "stream",
     "text": [
      "The autoreload extension is already loaded. To reload it, use:\n",
      "  %reload_ext autoreload\n"
     ]
    }
   ],
   "source": [
    "%load_ext autoreload\n",
    "%autoreload 2"
   ]
  },
  {
   "cell_type": "code",
   "execution_count": 30,
   "metadata": {
    "ExecuteTime": {
     "end_time": "2019-10-25T03:11:41.483771Z",
     "start_time": "2019-10-25T03:11:41.379914Z"
    }
   },
   "outputs": [],
   "source": [
    "import numpy as np\n",
    "import matplotlib.pyplot as plt\n",
    "%matplotlib inline\n",
    "from tqdm.autonotebook import tqdm\n",
    "from joblib import Parallel, delayed\n",
    "import umap\n",
    "import pandas as pd"
   ]
  },
  {
   "cell_type": "code",
   "execution_count": 31,
   "metadata": {
    "ExecuteTime": {
     "end_time": "2019-10-25T03:11:41.570583Z",
     "start_time": "2019-10-25T03:11:41.485811Z"
    }
   },
   "outputs": [],
   "source": [
    "from avgn.utils.paths import DATA_DIR, most_recent_subdirectory, ensure_dir\n",
    "from avgn.signalprocessing.create_spectrogram_dataset import flatten_spectrograms\n",
    "from avgn.visualization.spectrogram import draw_spec_set\n",
    "from avgn.visualization.quickplots import draw_projection_plots"
   ]
  },
  {
   "cell_type": "markdown",
   "metadata": {},
   "source": [
    "### Collect data"
   ]
  },
  {
   "cell_type": "code",
   "execution_count": 32,
   "metadata": {
    "ExecuteTime": {
     "end_time": "2019-10-25T03:11:41.653534Z",
     "start_time": "2019-10-25T03:11:41.573673Z"
    }
   },
   "outputs": [],
   "source": [
    "DATASET_ID = 'canary_segmented'"
   ]
  },
  {
   "cell_type": "code",
   "execution_count": 33,
   "metadata": {
    "ExecuteTime": {
     "end_time": "2019-10-25T03:11:41.736760Z",
     "start_time": "2019-10-25T03:11:41.658237Z"
    }
   },
   "outputs": [],
   "source": [
    "from avgn.visualization.projections import (\n",
    "    scatter_projections,\n",
    "    draw_projection_transitions,\n",
    ")"
   ]
  },
  {
   "cell_type": "code",
   "execution_count": 34,
   "metadata": {
    "ExecuteTime": {
     "end_time": "2019-10-25T03:11:41.821613Z",
     "start_time": "2019-10-25T03:11:41.738698Z"
    }
   },
   "outputs": [
    {
     "data": {
      "text/plain": [
       "PosixPath('/local/home/tsainbur/github_repos/avgn_paper/data/syllable_dfs/canary_segmented/canary.pickle')"
      ]
     },
     "execution_count": 34,
     "metadata": {},
     "output_type": "execute_result"
    }
   ],
   "source": [
    "df_loc =  DATA_DIR / 'syllable_dfs' / DATASET_ID / 'canary.pickle'\n",
    "df_loc"
   ]
  },
  {
   "cell_type": "code",
   "execution_count": 35,
   "metadata": {
    "ExecuteTime": {
     "end_time": "2019-10-25T03:11:44.701245Z",
     "start_time": "2019-10-25T03:11:41.823568Z"
    }
   },
   "outputs": [],
   "source": [
    "syllable_df = pd.read_pickle(df_loc)"
   ]
  },
  {
   "cell_type": "code",
   "execution_count": 36,
   "metadata": {
    "ExecuteTime": {
     "end_time": "2019-10-25T03:11:45.003046Z",
     "start_time": "2019-10-25T03:11:44.734690Z"
    }
   },
   "outputs": [
    {
     "data": {
      "text/html": [
       "<div>\n",
       "<style scoped>\n",
       "    .dataframe tbody tr th:only-of-type {\n",
       "        vertical-align: middle;\n",
       "    }\n",
       "\n",
       "    .dataframe tbody tr th {\n",
       "        vertical-align: top;\n",
       "    }\n",
       "\n",
       "    .dataframe thead th {\n",
       "        text-align: right;\n",
       "    }\n",
       "</style>\n",
       "<table border=\"1\" class=\"dataframe\">\n",
       "  <thead>\n",
       "    <tr style=\"text-align: right;\">\n",
       "      <th></th>\n",
       "      <th>start_time</th>\n",
       "      <th>end_time</th>\n",
       "      <th>indv</th>\n",
       "      <th>indvi</th>\n",
       "      <th>key</th>\n",
       "      <th>rate</th>\n",
       "      <th>spectrogram</th>\n",
       "      <th>phrase</th>\n",
       "      <th>med_time</th>\n",
       "    </tr>\n",
       "  </thead>\n",
       "  <tbody>\n",
       "    <tr>\n",
       "      <th>0</th>\n",
       "      <td>0.000</td>\n",
       "      <td>0.036</td>\n",
       "      <td>bird3</td>\n",
       "      <td>0</td>\n",
       "      <td>bird3_0525_2004_04_19_16_06</td>\n",
       "      <td>48000</td>\n",
       "      <td>[[0, 0, 0, 0, 0, 0, 206, 254, 90, 0, 18, 0, 0,...</td>\n",
       "      <td>2</td>\n",
       "      <td>0.0180</td>\n",
       "    </tr>\n",
       "    <tr>\n",
       "      <th>1</th>\n",
       "      <td>0.101</td>\n",
       "      <td>0.136</td>\n",
       "      <td>bird3</td>\n",
       "      <td>0</td>\n",
       "      <td>bird3_0525_2004_04_19_16_06</td>\n",
       "      <td>48000</td>\n",
       "      <td>[[0, 0, 0, 0, 0, 0, 0, 0, 0, 0, 0, 0, 0, 0, 0,...</td>\n",
       "      <td>2</td>\n",
       "      <td>0.1185</td>\n",
       "    </tr>\n",
       "    <tr>\n",
       "      <th>2</th>\n",
       "      <td>0.208</td>\n",
       "      <td>0.247</td>\n",
       "      <td>bird3</td>\n",
       "      <td>0</td>\n",
       "      <td>bird3_0525_2004_04_19_16_06</td>\n",
       "      <td>48000</td>\n",
       "      <td>[[0, 0, 0, 0, 0, 0, 0, 0, 0, 0, 0, 0, 0, 0, 0,...</td>\n",
       "      <td>2</td>\n",
       "      <td>0.2275</td>\n",
       "    </tr>\n",
       "  </tbody>\n",
       "</table>\n",
       "</div>"
      ],
      "text/plain": [
       "   start_time  end_time   indv  indvi                          key   rate  \\\n",
       "0       0.000     0.036  bird3      0  bird3_0525_2004_04_19_16_06  48000   \n",
       "1       0.101     0.136  bird3      0  bird3_0525_2004_04_19_16_06  48000   \n",
       "2       0.208     0.247  bird3      0  bird3_0525_2004_04_19_16_06  48000   \n",
       "\n",
       "                                         spectrogram phrase  med_time  \n",
       "0  [[0, 0, 0, 0, 0, 0, 206, 254, 90, 0, 18, 0, 0,...      2    0.0180  \n",
       "1  [[0, 0, 0, 0, 0, 0, 0, 0, 0, 0, 0, 0, 0, 0, 0,...      2    0.1185  \n",
       "2  [[0, 0, 0, 0, 0, 0, 0, 0, 0, 0, 0, 0, 0, 0, 0,...      2    0.2275  "
      ]
     },
     "execution_count": 36,
     "metadata": {},
     "output_type": "execute_result"
    }
   ],
   "source": [
    "syllable_df[:3]"
   ]
  },
  {
   "cell_type": "code",
   "execution_count": 37,
   "metadata": {
    "ExecuteTime": {
     "end_time": "2019-10-25T03:11:45.108893Z",
     "start_time": "2019-10-25T03:11:45.005326Z"
    }
   },
   "outputs": [
    {
     "data": {
      "text/plain": [
       "482608"
      ]
     },
     "execution_count": 37,
     "metadata": {},
     "output_type": "execute_result"
    }
   ],
   "source": [
    "len(syllable_df)"
   ]
  },
  {
   "cell_type": "code",
   "execution_count": 38,
   "metadata": {
    "ExecuteTime": {
     "end_time": "2019-10-25T03:11:45.195063Z",
     "start_time": "2019-10-25T03:11:45.110949Z"
    }
   },
   "outputs": [],
   "source": [
    "import tensorflow as tf"
   ]
  },
  {
   "cell_type": "code",
   "execution_count": 39,
   "metadata": {
    "ExecuteTime": {
     "end_time": "2019-10-25T03:11:45.278180Z",
     "start_time": "2019-10-25T03:11:45.196956Z"
    }
   },
   "outputs": [],
   "source": [
    "ensure_dir(DATA_DIR / 'tfrecords')"
   ]
  },
  {
   "cell_type": "code",
   "execution_count": 40,
   "metadata": {
    "ExecuteTime": {
     "end_time": "2019-10-25T03:11:45.602002Z",
     "start_time": "2019-10-25T03:11:45.281429Z"
    }
   },
   "outputs": [
    {
     "data": {
      "application/vnd.jupyter.widget-view+json": {
       "model_id": "713eff159b834d12a309b44ed20fadfb",
       "version_major": 2,
       "version_minor": 0
      },
      "text/plain": [
       "HBox(children=(IntProgress(value=0, max=482608), HTML(value='')))"
      ]
     },
     "metadata": {},
     "output_type": "display_data"
    },
    {
     "name": "stdout",
     "output_type": "stream",
     "text": [
      "\n"
     ]
    }
   ],
   "source": [
    "for idx, row in tqdm(syllable_df.iterrows(), total=len(syllable_df)):\n",
    "    break"
   ]
  },
  {
   "cell_type": "code",
   "execution_count": 41,
   "metadata": {
    "ExecuteTime": {
     "end_time": "2019-10-25T03:11:45.696727Z",
     "start_time": "2019-10-25T03:11:45.604266Z"
    }
   },
   "outputs": [
    {
     "data": {
      "text/plain": [
       "start_time                                                     0\n",
       "end_time                                                   0.036\n",
       "indv                                                       bird3\n",
       "indvi                                                          0\n",
       "key                                  bird3_0525_2004_04_19_16_06\n",
       "rate                                                       48000\n",
       "spectrogram    [[0, 0, 0, 0, 0, 0, 206, 254, 90, 0, 18, 0, 0,...\n",
       "phrase                                                         2\n",
       "med_time                                                   0.018\n",
       "Name: 0, dtype: object"
      ]
     },
     "execution_count": 41,
     "metadata": {},
     "output_type": "execute_result"
    }
   ],
   "source": [
    "row"
   ]
  },
  {
   "cell_type": "code",
   "execution_count": 47,
   "metadata": {
    "ExecuteTime": {
     "end_time": "2019-10-25T03:19:48.108509Z",
     "start_time": "2019-10-25T03:19:47.998814Z"
    }
   },
   "outputs": [
    {
     "data": {
      "text/plain": [
       "(32, 24)"
      ]
     },
     "execution_count": 47,
     "metadata": {},
     "output_type": "execute_result"
    }
   ],
   "source": [
    "np.shape(row.spectrogram)"
   ]
  },
  {
   "cell_type": "code",
   "execution_count": 2,
   "metadata": {
    "ExecuteTime": {
     "end_time": "2019-10-25T04:38:42.022148Z",
     "start_time": "2019-10-25T04:38:31.515395Z"
    }
   },
   "outputs": [
    {
     "name": "stderr",
     "output_type": "stream",
     "text": [
      "/mnt/cube/tsainbur/conda_envs/tpy3/lib/python3.6/site-packages/tqdm/autonotebook/__init__.py:14: TqdmExperimentalWarning: Using `tqdm.autonotebook.tqdm` in notebook mode. Use `tqdm.tqdm` instead to force console mode (e.g. in jupyter console)\n",
      "  \" (e.g. in jupyter console)\", TqdmExperimentalWarning)\n"
     ]
    }
   ],
   "source": [
    "import avgn.tensorflow.data as tfdata"
   ]
  },
  {
   "cell_type": "code",
   "execution_count": 81,
   "metadata": {
    "ExecuteTime": {
     "end_time": "2019-10-25T03:43:40.880117Z",
     "start_time": "2019-10-25T03:43:36.561748Z"
    }
   },
   "outputs": [
    {
     "data": {
      "text/plain": [
       "PosixPath('/local/home/tsainbur/github_repos/avgn_paper/data/tfrecords/canary_32x24.tfrecord')"
      ]
     },
     "execution_count": 81,
     "metadata": {},
     "output_type": "execute_result"
    }
   ],
   "source": [
    "record_loc = DATA_DIR / 'tfrecords' / \"canary_32x24.tfrecord\"\n",
    "record_loc"
   ]
  },
  {
   "cell_type": "code",
   "execution_count": 97,
   "metadata": {
    "ExecuteTime": {
     "end_time": "2019-10-25T03:48:47.649207Z",
     "start_time": "2019-10-25T03:45:11.849805Z"
    }
   },
   "outputs": [
    {
     "data": {
      "application/vnd.jupyter.widget-view+json": {
       "model_id": "799f7cad5f10411382eb8126eddcfa96",
       "version_major": 2,
       "version_minor": 0
      },
      "text/plain": [
       "HBox(children=(IntProgress(value=0, max=482608), HTML(value='')))"
      ]
     },
     "metadata": {},
     "output_type": "display_data"
    },
    {
     "name": "stdout",
     "output_type": "stream",
     "text": [
      "\n"
     ]
    }
   ],
   "source": [
    "with tf.io.TFRecordWriter((record_loc).as_posix()) as writer:\n",
    "    for idx, row in tqdm(syllable_df.iterrows(), total=len(syllable_df)):\n",
    "        example = tfdata.serialize_example(\n",
    "            {\n",
    "                \"spectrogram\": {\n",
    "                    \"data\": row.spectrogram.flatten().tobytes(),\n",
    "                    \"_type\": tfdata._bytes_feature,\n",
    "                },\n",
    "                \"index\": {\n",
    "                    \"data\": idx,\n",
    "                    \"_type\": tfdata._int64_feature,\n",
    "                },\n",
    "                \"indv\": {\n",
    "                    \"data\": np.string_(row.indv).astype(\"|S7\"),\n",
    "                    \"_type\": tfdata._bytes_feature,\n",
    "                },\n",
    "                \"phrase\": {\n",
    "                    \"data\":  int(row.phrase),\n",
    "                    \"_type\": tfdata._int64_feature,\n",
    "                },\n",
    "            }\n",
    "        )\n",
    "        # write the defined example into the dataset\n",
    "        writer.write(example)"
   ]
  },
  {
   "cell_type": "markdown",
   "metadata": {},
   "source": [
    "### test read data back"
   ]
  },
  {
   "cell_type": "code",
   "execution_count": 98,
   "metadata": {
    "ExecuteTime": {
     "end_time": "2019-10-25T03:48:51.036633Z",
     "start_time": "2019-10-25T03:48:47.651960Z"
    }
   },
   "outputs": [],
   "source": [
    "from tensorflow.io import FixedLenFeature, parse_single_example"
   ]
  },
  {
   "cell_type": "code",
   "execution_count": 99,
   "metadata": {
    "ExecuteTime": {
     "end_time": "2019-10-25T03:48:51.167119Z",
     "start_time": "2019-10-25T03:48:51.039524Z"
    }
   },
   "outputs": [],
   "source": [
    "# read the dataset\n",
    "raw_dataset = tf.data.TFRecordDataset([record_loc.as_posix()])"
   ]
  },
  {
   "cell_type": "code",
   "execution_count": 100,
   "metadata": {
    "ExecuteTime": {
     "end_time": "2019-10-25T03:48:51.240332Z",
     "start_time": "2019-10-25T03:48:51.170269Z"
    }
   },
   "outputs": [],
   "source": [
    "data_types = {\n",
    "    \"spectrogram\": tf.uint8,\n",
    "    \"index\": tf.int64,\n",
    "    \"phrase\": tf.int64,\n",
    "    \"indv\": tf.string,\n",
    "}"
   ]
  },
  {
   "cell_type": "code",
   "execution_count": 101,
   "metadata": {
    "ExecuteTime": {
     "end_time": "2019-10-25T03:48:51.335150Z",
     "start_time": "2019-10-25T03:48:51.242832Z"
    }
   },
   "outputs": [],
   "source": [
    "# parse each data type to the raw dataset\n",
    "dataset = raw_dataset.map(lambda x: tfdata._parse_function(x, data_types=data_types))"
   ]
  },
  {
   "cell_type": "code",
   "execution_count": 102,
   "metadata": {
    "ExecuteTime": {
     "end_time": "2019-10-25T03:48:51.409025Z",
     "start_time": "2019-10-25T03:48:51.337454Z"
    }
   },
   "outputs": [],
   "source": [
    "# shuffle the dataset\n",
    "dataset = dataset.shuffle(buffer_size=10000)\n",
    "# create batches\n",
    "dataset = dataset.batch(10)"
   ]
  },
  {
   "cell_type": "code",
   "execution_count": 103,
   "metadata": {
    "ExecuteTime": {
     "end_time": "2019-10-25T03:48:52.118714Z",
     "start_time": "2019-10-25T03:48:51.411308Z"
    }
   },
   "outputs": [],
   "source": [
    "spec, index, phrase, indv  = next(iter(dataset))"
   ]
  },
  {
   "cell_type": "code",
   "execution_count": 104,
   "metadata": {
    "ExecuteTime": {
     "end_time": "2019-10-25T03:48:52.542961Z",
     "start_time": "2019-10-25T03:48:52.121368Z"
    }
   },
   "outputs": [
    {
     "data": {
      "image/png": "[encoded data removed]",
      "text/plain": [
       "<Figure size 1080x216 with 5 Axes>"
      ]
     },
     "metadata": {
      "needs_background": "light"
     },
     "output_type": "display_data"
    }
   ],
   "source": [
    "fig, ax = plt.subplots(ncols = 5, figsize=(15,3))\n",
    "for i in range(5):\n",
    "    # show the image\n",
    "    ax[i].matshow(spec[i].numpy().reshape(32,24), cmap=plt.cm.Greys, origin=\"lower\")\n",
    "    string_label = indv[i].numpy().decode(\"utf-8\") \n",
    "    ax[i].set_title(string_label)\n",
    "    ax[i].axis('off')"
   ]
  },
  {
   "cell_type": "code",
   "execution_count": null,
   "metadata": {},
   "outputs": [],
   "source": []
  }
 ],
 "metadata": {
  "kernelspec": {
   "display_name": "Python 3",
   "language": "python",
   "name": "python3"
  },
  "language_info": {
   "codemirror_mode": {
    "name": "ipython",
    "version": 3
   },
   "file_extension": ".py",
   "mimetype": "text/x-python",
   "name": "python",
   "nbconvert_exporter": "python",
   "pygments_lexer": "ipython3",
   "version": "3.6.7"
  }
 },
 "nbformat": 4,
 "nbformat_minor": 4
}
