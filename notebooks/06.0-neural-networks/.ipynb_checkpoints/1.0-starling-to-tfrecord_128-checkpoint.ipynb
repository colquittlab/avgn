{
 "cells": [
  {
   "cell_type": "code",
   "execution_count": null,
   "metadata": {
    "ExecuteTime": {
     "start_time": "2019-10-22T03:31:30.450Z"
    }
   },
   "outputs": [],
   "source": [
    "%load_ext autoreload\n",
    "%autoreload 2"
   ]
  },
  {
   "cell_type": "code",
   "execution_count": null,
   "metadata": {
    "ExecuteTime": {
     "start_time": "2019-10-22T03:31:30.607Z"
    }
   },
   "outputs": [],
   "source": [
    "import numpy as np\n",
    "import matplotlib.pyplot as plt\n",
    "%matplotlib inline\n",
    "from tqdm.autonotebook import tqdm\n",
    "from joblib import Parallel, delayed\n",
    "import umap\n",
    "import pandas as pd"
   ]
  },
  {
   "cell_type": "code",
   "execution_count": null,
   "metadata": {
    "ExecuteTime": {
     "start_time": "2019-10-22T03:31:30.743Z"
    }
   },
   "outputs": [],
   "source": [
    "from avgn.utils.paths import DATA_DIR, most_recent_subdirectory, ensure_dir\n",
    "from avgn.signalprocessing.create_spectrogram_dataset import flatten_spectrograms\n",
    "from avgn.visualization.spectrogram import draw_spec_set\n",
    "from avgn.visualization.quickplots import draw_projection_plots"
   ]
  },
  {
   "cell_type": "markdown",
   "metadata": {},
   "source": [
    "### Collect data"
   ]
  },
  {
   "cell_type": "code",
   "execution_count": null,
   "metadata": {
    "ExecuteTime": {
     "start_time": "2019-10-22T03:31:31.263Z"
    }
   },
   "outputs": [],
   "source": [
    "DATASET_ID = 'european_starling_gentner_segmented'"
   ]
  },
  {
   "cell_type": "code",
   "execution_count": null,
   "metadata": {
    "ExecuteTime": {
     "start_time": "2019-10-22T03:31:32.086Z"
    }
   },
   "outputs": [],
   "source": [
    "from avgn.visualization.projections import (\n",
    "    scatter_projections,\n",
    "    draw_projection_transitions,\n",
    ")"
   ]
  },
  {
   "cell_type": "code",
   "execution_count": null,
   "metadata": {
    "ExecuteTime": {
     "start_time": "2019-10-22T03:31:32.270Z"
    }
   },
   "outputs": [],
   "source": [
    "df_loc =  DATA_DIR / 'syllable_dfs' / DATASET_ID / 'starling_128.pickle'\n",
    "df_loc"
   ]
  },
  {
   "cell_type": "code",
   "execution_count": 7,
   "metadata": {
    "ExecuteTime": {
     "end_time": "2019-10-20T21:06:05.643011Z",
     "start_time": "2019-10-20T21:06:03.637666Z"
    }
   },
   "outputs": [],
   "source": [
    "syllable_df = pd.read_pickle(df_loc)"
   ]
  },
  {
   "cell_type": "code",
   "execution_count": 8,
   "metadata": {},
   "outputs": [
    {
     "data": {
      "text/html": [
       "<div>\n",
       "<style scoped>\n",
       "    .dataframe tbody tr th:only-of-type {\n",
       "        vertical-align: middle;\n",
       "    }\n",
       "\n",
       "    .dataframe tbody tr th {\n",
       "        vertical-align: top;\n",
       "    }\n",
       "\n",
       "    .dataframe thead th {\n",
       "        text-align: right;\n",
       "    }\n",
       "</style>\n",
       "<table border=\"1\" class=\"dataframe\">\n",
       "  <thead>\n",
       "    <tr style=\"text-align: right;\">\n",
       "      <th></th>\n",
       "      <th>start_time</th>\n",
       "      <th>end_time</th>\n",
       "      <th>indv</th>\n",
       "      <th>indvi</th>\n",
       "      <th>key</th>\n",
       "      <th>rate</th>\n",
       "      <th>spectrogram</th>\n",
       "    </tr>\n",
       "  </thead>\n",
       "  <tbody>\n",
       "    <tr>\n",
       "      <th>0</th>\n",
       "      <td>6.543</td>\n",
       "      <td>7.913</td>\n",
       "      <td>b1076</td>\n",
       "      <td>0</td>\n",
       "      <td>2017-09-01_19-19-15-490000</td>\n",
       "      <td>44100</td>\n",
       "      <td>[[11, 11, 11, 11, 11, 11, 11, 11, 11, 11, 11, ...</td>\n",
       "    </tr>\n",
       "    <tr>\n",
       "      <th>1</th>\n",
       "      <td>8.411</td>\n",
       "      <td>9.894</td>\n",
       "      <td>b1076</td>\n",
       "      <td>0</td>\n",
       "      <td>2017-09-01_19-19-15-490000</td>\n",
       "      <td>44100</td>\n",
       "      <td>[[47, 24, 37, 40, 17, 10, 6, 6, 6, 6, 6, 6, 6,...</td>\n",
       "    </tr>\n",
       "    <tr>\n",
       "      <th>2</th>\n",
       "      <td>10.490</td>\n",
       "      <td>10.678</td>\n",
       "      <td>b1076</td>\n",
       "      <td>0</td>\n",
       "      <td>2017-09-01_19-19-15-490000</td>\n",
       "      <td>44100</td>\n",
       "      <td>[[0, 0, 0, 0, 103, 115, 118, 103, 132, 147, 16...</td>\n",
       "    </tr>\n",
       "  </tbody>\n",
       "</table>\n",
       "</div>"
      ],
      "text/plain": [
       "   start_time  end_time   indv  indvi                         key   rate  \\\n",
       "0       6.543     7.913  b1076      0  2017-09-01_19-19-15-490000  44100   \n",
       "1       8.411     9.894  b1076      0  2017-09-01_19-19-15-490000  44100   \n",
       "2      10.490    10.678  b1076      0  2017-09-01_19-19-15-490000  44100   \n",
       "\n",
       "                                         spectrogram  \n",
       "0  [[11, 11, 11, 11, 11, 11, 11, 11, 11, 11, 11, ...  \n",
       "1  [[47, 24, 37, 40, 17, 10, 6, 6, 6, 6, 6, 6, 6,...  \n",
       "2  [[0, 0, 0, 0, 103, 115, 118, 103, 132, 147, 16...  "
      ]
     },
     "execution_count": 8,
     "metadata": {},
     "output_type": "execute_result"
    }
   ],
   "source": [
    "syllable_df[:3]"
   ]
  },
  {
   "cell_type": "code",
   "execution_count": 50,
   "metadata": {
    "ExecuteTime": {
     "end_time": "2019-10-22T02:18:18.045834Z",
     "start_time": "2019-10-22T02:18:17.977421Z"
    }
   },
   "outputs": [
    {
     "data": {
      "text/plain": [
       "164234"
      ]
     },
     "execution_count": 50,
     "metadata": {},
     "output_type": "execute_result"
    }
   ],
   "source": [
    "len(syllable_df)"
   ]
  },
  {
   "cell_type": "code",
   "execution_count": 9,
   "metadata": {},
   "outputs": [],
   "source": [
    "import tensorflow as tf"
   ]
  },
  {
   "cell_type": "code",
   "execution_count": 10,
   "metadata": {},
   "outputs": [],
   "source": [
    "ensure_dir(DATA_DIR / 'tfrecords')"
   ]
  },
  {
   "cell_type": "code",
   "execution_count": 12,
   "metadata": {},
   "outputs": [
    {
     "data": {
      "application/vnd.jupyter.widget-view+json": {
       "model_id": "975ab034866e48ac8a88784586f0db6b",
       "version_major": 2,
       "version_minor": 0
      },
      "text/plain": [
       "HBox(children=(IntProgress(value=0, max=164234), HTML(value='')))"
      ]
     },
     "metadata": {},
     "output_type": "display_data"
    },
    {
     "name": "stdout",
     "output_type": "stream",
     "text": [
      "\n"
     ]
    }
   ],
   "source": [
    "for idx, row in tqdm(syllable_df.iterrows(), total=len(syllable_df)):\n",
    "    break"
   ]
  },
  {
   "cell_type": "code",
   "execution_count": 14,
   "metadata": {},
   "outputs": [
    {
     "data": {
      "text/plain": [
       "start_time                                                 6.543\n",
       "end_time                                                   7.913\n",
       "indv                                                       b1076\n",
       "indvi                                                          0\n",
       "key                                   2017-09-01_19-19-15-490000\n",
       "rate                                                       44100\n",
       "spectrogram    [[11, 11, 11, 11, 11, 11, 11, 11, 11, 11, 11, ...\n",
       "Name: 0, dtype: object"
      ]
     },
     "execution_count": 14,
     "metadata": {},
     "output_type": "execute_result"
    }
   ],
   "source": [
    "row"
   ]
  },
  {
   "cell_type": "code",
   "execution_count": 47,
   "metadata": {},
   "outputs": [
    {
     "data": {
      "text/plain": [
       "(32, 27)"
      ]
     },
     "execution_count": 47,
     "metadata": {},
     "output_type": "execute_result"
    }
   ],
   "source": [
    "np.shape(row.spectrogram)"
   ]
  },
  {
   "cell_type": "code",
   "execution_count": 33,
   "metadata": {},
   "outputs": [],
   "source": [
    "def _bytes_feature(value):\n",
    "    \"\"\"Returns a bytes_list from a string / byte.\"\"\"\n",
    "    return tf.train.Feature(bytes_list=tf.train.BytesList(value=[value]))\n",
    "\n",
    "\n",
    "def _float_feature(value):\n",
    "    \"\"\"Returns a float_list from a float / double.\"\"\"\n",
    "    return tf.train.Feature(float_list=tf.train.FloatList(value=[value]))\n",
    "\n",
    "\n",
    "def _int64_feature(value):\n",
    "    \"\"\"Returns an int64_list from a bool / enum / int / uint.\"\"\"\n",
    "    return tf.train.Feature(int64_list=tf.train.Int64List(value=[value]))\n",
    "\n",
    "def serialize_example(example):\n",
    "    \"\"\"Serialize an item in a dataset\n",
    "    Arguments:\n",
    "      example {[list]} -- list of dictionaries with fields \"name\" , \"_type\", and \"data\"\n",
    "\n",
    "    Returns:\n",
    "      [type] -- [description]\n",
    "    \"\"\"\n",
    "    dset_item = {}\n",
    "    for feature in example.keys():\n",
    "        dset_item[feature] = example[feature][\"_type\"](example[feature][\"data\"])\n",
    "        example_proto = tf.train.Example(features=tf.train.Features(feature=dset_item))\n",
    "    return example_proto.SerializeToString()"
   ]
  },
  {
   "cell_type": "code",
   "execution_count": 39,
   "metadata": {},
   "outputs": [],
   "source": [
    "record_loc = DATA_DIR / 'tfrecords' / \"starling.tfrecords\""
   ]
  },
  {
   "cell_type": "code",
   "execution_count": 34,
   "metadata": {},
   "outputs": [
    {
     "data": {
      "application/vnd.jupyter.widget-view+json": {
       "model_id": "3eabf4d5d701469f92ec74fa2edc02b0",
       "version_major": 2,
       "version_minor": 0
      },
      "text/plain": [
       "HBox(children=(IntProgress(value=0, max=164234), HTML(value='')))"
      ]
     },
     "metadata": {},
     "output_type": "display_data"
    },
    {
     "name": "stdout",
     "output_type": "stream",
     "text": [
      "\n"
     ]
    }
   ],
   "source": [
    "with tf.io.TFRecordWriter((record_loc).as_posix()) as writer:\n",
    "    for idx, row in tqdm(syllable_df.iterrows(), total=len(syllable_df)):\n",
    "        example = serialize_example(\n",
    "            {\n",
    "                \"spectrogram\": {\n",
    "                    \"data\": row.spectrogram.flatten().tobytes(),\n",
    "                    \"_type\": _bytes_feature,\n",
    "                },\n",
    "                \"index\": {\n",
    "                    \"data\": idx,\n",
    "                    \"_type\": _int64_feature,\n",
    "                },\n",
    "                \"indv\": {\n",
    "                    \"data\": np.string_(row.indv).astype(\"|S7\"),\n",
    "                    \"_type\": _bytes_feature,\n",
    "                },\n",
    "            }\n",
    "        )\n",
    "        # write the defined example into the dataset\n",
    "        writer.write(example)"
   ]
  },
  {
   "cell_type": "markdown",
   "metadata": {},
   "source": [
    "### test read data back"
   ]
  },
  {
   "cell_type": "code",
   "execution_count": 36,
   "metadata": {},
   "outputs": [],
   "source": [
    "from tensorflow.io import FixedLenFeature, parse_single_example"
   ]
  },
  {
   "cell_type": "code",
   "execution_count": 38,
   "metadata": {},
   "outputs": [],
   "source": [
    "def _dtype_to_tf_feattype(dtype):\n",
    "    \"\"\" convert tf dtype to correct tffeature format\n",
    "    \"\"\"\n",
    "    if dtype in [tf.float32, tf.int64]:\n",
    "        return dtype\n",
    "    else:\n",
    "        return tf.string\n",
    "    \n",
    "def _parse_function(example_proto, data_types):\n",
    "    \"\"\" parse dataset from tfrecord, and convert to correct format\n",
    "    \"\"\"\n",
    "    # list features\n",
    "    features = {\n",
    "        lab: FixedLenFeature([], _dtype_to_tf_feattype(dtype))\n",
    "        for lab, dtype in data_types.items()\n",
    "    }\n",
    "    # parse features\n",
    "    parsed_features = parse_single_example(example_proto, features)\n",
    "    feat_dtypes = [tf.float32, tf.string, tf.int64]\n",
    "    \n",
    "    # convert the features if they are in the wrong format\n",
    "    parse_list = [\n",
    "        parsed_features[lab]\n",
    "        if dtype in feat_dtypes\n",
    "        else tf.io.decode_raw(parsed_features[lab], dtype)\n",
    "        for lab, dtype in data_types.items()\n",
    "    ]\n",
    "    return parse_list"
   ]
  },
  {
   "cell_type": "code",
   "execution_count": 40,
   "metadata": {},
   "outputs": [],
   "source": [
    "# read the dataset\n",
    "raw_dataset = tf.data.TFRecordDataset([record_loc.as_posix()])"
   ]
  },
  {
   "cell_type": "code",
   "execution_count": 41,
   "metadata": {},
   "outputs": [],
   "source": [
    "data_types = {\n",
    "    \"spectrogram\": tf.uint8,\n",
    "    \"index\": tf.int64,\n",
    "    \"indv\": tf.string,\n",
    "}"
   ]
  },
  {
   "cell_type": "code",
   "execution_count": 42,
   "metadata": {},
   "outputs": [],
   "source": [
    "# parse each data type to the raw dataset\n",
    "dataset = raw_dataset.map(lambda x: _parse_function(x, data_types=data_types))"
   ]
  },
  {
   "cell_type": "code",
   "execution_count": 43,
   "metadata": {},
   "outputs": [],
   "source": [
    "# shuffle the dataset\n",
    "dataset = dataset.shuffle(buffer_size=10000)\n",
    "# create batches\n",
    "dataset = dataset.batch(10)"
   ]
  },
  {
   "cell_type": "code",
   "execution_count": 45,
   "metadata": {},
   "outputs": [],
   "source": [
    "spec, index, indv  = next(iter(dataset))"
   ]
  },
  {
   "cell_type": "code",
   "execution_count": 49,
   "metadata": {},
   "outputs": [
    {
     "data": {
      "image/png": "[encoded data removed]",
      "text/plain": [
       "<Figure size 1080x216 with 5 Axes>"
      ]
     },
     "metadata": {
      "needs_background": "light"
     },
     "output_type": "display_data"
    }
   ],
   "source": [
    "fig, ax = plt.subplots(ncols = 5, figsize=(15,3))\n",
    "for i in range(5):\n",
    "    # show the image\n",
    "    ax[i].matshow(spec[i].numpy().reshape(128,128), cmap=plt.cm.Greys, origin=\"lower\")\n",
    "    string_label = indv[i].numpy().decode(\"utf-8\") \n",
    "    ax[i].set_title(string_label)\n",
    "    ax[i].axis('off')"
   ]
  },
  {
   "cell_type": "code",
   "execution_count": null,
   "metadata": {},
   "outputs": [],
   "source": []
  }
 ],
 "metadata": {
  "kernelspec": {
   "display_name": "Python 3",
   "language": "python",
   "name": "python3"
  },
  "language_info": {
   "codemirror_mode": {
    "name": "ipython",
    "version": 3
   },
   "file_extension": ".py",
   "mimetype": "text/x-python",
   "name": "python",
   "nbconvert_exporter": "python",
   "pygments_lexer": "ipython3",
   "version": "3.6.7"
  }
 },
 "nbformat": 4,
 "nbformat_minor": 4
}
