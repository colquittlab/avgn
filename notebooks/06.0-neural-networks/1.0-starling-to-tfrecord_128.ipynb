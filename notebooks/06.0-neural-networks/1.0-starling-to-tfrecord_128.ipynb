{
 "cells": [
  {
   "cell_type": "code",
   "execution_count": 1,
   "metadata": {
    "ExecuteTime": {
     "end_time": "2019-10-22T03:34:13.903850Z",
     "start_time": "2019-10-22T03:34:13.851270Z"
    }
   },
   "outputs": [],
   "source": [
    "%load_ext autoreload\n",
    "%autoreload 2"
   ]
  },
  {
   "cell_type": "code",
   "execution_count": 2,
   "metadata": {
    "ExecuteTime": {
     "end_time": "2019-10-22T03:34:19.644695Z",
     "start_time": "2019-10-22T03:34:13.906928Z"
    }
   },
   "outputs": [
    {
     "name": "stderr",
     "output_type": "stream",
     "text": [
      "/mnt/cube/tsainbur/conda_envs/tpy3/lib/python3.6/site-packages/tqdm/autonotebook/__init__.py:14: TqdmExperimentalWarning: Using `tqdm.autonotebook.tqdm` in notebook mode. Use `tqdm.tqdm` instead to force console mode (e.g. in jupyter console)\n",
      "  \" (e.g. in jupyter console)\", TqdmExperimentalWarning)\n"
     ]
    }
   ],
   "source": [
    "import numpy as np\n",
    "import matplotlib.pyplot as plt\n",
    "%matplotlib inline\n",
    "from tqdm.autonotebook import tqdm\n",
    "from joblib import Parallel, delayed\n",
    "import umap\n",
    "import pandas as pd"
   ]
  },
  {
   "cell_type": "code",
   "execution_count": 3,
   "metadata": {
    "ExecuteTime": {
     "end_time": "2019-10-22T03:34:20.210386Z",
     "start_time": "2019-10-22T03:34:19.647163Z"
    }
   },
   "outputs": [],
   "source": [
    "from avgn.utils.paths import DATA_DIR, most_recent_subdirectory, ensure_dir\n",
    "from avgn.signalprocessing.create_spectrogram_dataset import flatten_spectrograms\n",
    "from avgn.visualization.spectrogram import draw_spec_set\n",
    "from avgn.visualization.quickplots import draw_projection_plots"
   ]
  },
  {
   "cell_type": "markdown",
   "metadata": {},
   "source": [
    "### Collect data"
   ]
  },
  {
   "cell_type": "code",
   "execution_count": 4,
   "metadata": {
    "ExecuteTime": {
     "end_time": "2019-10-22T03:34:20.251696Z",
     "start_time": "2019-10-22T03:34:20.212840Z"
    }
   },
   "outputs": [],
   "source": [
    "DATASET_ID = 'european_starling_gentner_segmented'"
   ]
  },
  {
   "cell_type": "code",
   "execution_count": 5,
   "metadata": {
    "ExecuteTime": {
     "end_time": "2019-10-22T03:34:20.335716Z",
     "start_time": "2019-10-22T03:34:20.254065Z"
    }
   },
   "outputs": [],
   "source": [
    "from avgn.visualization.projections import (\n",
    "    scatter_projections,\n",
    "    draw_projection_transitions,\n",
    ")"
   ]
  },
  {
   "cell_type": "code",
   "execution_count": 6,
   "metadata": {
    "ExecuteTime": {
     "end_time": "2019-10-22T03:34:20.424534Z",
     "start_time": "2019-10-22T03:34:20.337742Z"
    }
   },
   "outputs": [
    {
     "data": {
      "text/plain": [
       "PosixPath('/local/home/tsainbur/github_repos/avgn_paper/data/syllable_dfs/european_starling_gentner_segmented/starling_128.pickle')"
      ]
     },
     "execution_count": 6,
     "metadata": {},
     "output_type": "execute_result"
    }
   ],
   "source": [
    "df_loc =  DATA_DIR / 'syllable_dfs' / DATASET_ID / 'starling_128.pickle'\n",
    "df_loc"
   ]
  },
  {
   "cell_type": "code",
   "execution_count": 7,
   "metadata": {
    "ExecuteTime": {
     "end_time": "2019-10-22T03:34:22.463919Z",
     "start_time": "2019-10-22T03:34:20.426505Z"
    }
   },
   "outputs": [],
   "source": [
    "syllable_df = pd.read_pickle(df_loc)"
   ]
  },
  {
   "cell_type": "code",
   "execution_count": 8,
   "metadata": {
    "ExecuteTime": {
     "end_time": "2019-10-22T03:34:23.259650Z",
     "start_time": "2019-10-22T03:34:22.466236Z"
    }
   },
   "outputs": [
    {
     "data": {
      "text/html": [
       "<div>\n",
       "<style scoped>\n",
       "    .dataframe tbody tr th:only-of-type {\n",
       "        vertical-align: middle;\n",
       "    }\n",
       "\n",
       "    .dataframe tbody tr th {\n",
       "        vertical-align: top;\n",
       "    }\n",
       "\n",
       "    .dataframe thead th {\n",
       "        text-align: right;\n",
       "    }\n",
       "</style>\n",
       "<table border=\"1\" class=\"dataframe\">\n",
       "  <thead>\n",
       "    <tr style=\"text-align: right;\">\n",
       "      <th></th>\n",
       "      <th>start_time</th>\n",
       "      <th>end_time</th>\n",
       "      <th>indv</th>\n",
       "      <th>indvi</th>\n",
       "      <th>key</th>\n",
       "      <th>rate</th>\n",
       "      <th>spectrogram</th>\n",
       "    </tr>\n",
       "  </thead>\n",
       "  <tbody>\n",
       "    <tr>\n",
       "      <th>3</th>\n",
       "      <td>8.110</td>\n",
       "      <td>9.092</td>\n",
       "      <td>b1060</td>\n",
       "      <td>0</td>\n",
       "      <td>2017-12-08_16-45-25-480000</td>\n",
       "      <td>44100</td>\n",
       "      <td>[[0, 0, 0, 0, 0, 0, 0, 0, 0, 0, 0, 0, 0, 0, 0,...</td>\n",
       "    </tr>\n",
       "    <tr>\n",
       "      <th>5</th>\n",
       "      <td>9.780</td>\n",
       "      <td>10.453</td>\n",
       "      <td>b1060</td>\n",
       "      <td>0</td>\n",
       "      <td>2017-12-08_16-45-25-480000</td>\n",
       "      <td>44100</td>\n",
       "      <td>[[0, 0, 0, 0, 0, 0, 0, 0, 0, 0, 0, 0, 0, 0, 0,...</td>\n",
       "    </tr>\n",
       "    <tr>\n",
       "      <th>7</th>\n",
       "      <td>10.725</td>\n",
       "      <td>11.656</td>\n",
       "      <td>b1060</td>\n",
       "      <td>0</td>\n",
       "      <td>2017-12-08_16-45-25-480000</td>\n",
       "      <td>44100</td>\n",
       "      <td>[[0, 0, 0, 0, 0, 0, 0, 0, 0, 0, 0, 0, 0, 0, 0,...</td>\n",
       "    </tr>\n",
       "  </tbody>\n",
       "</table>\n",
       "</div>"
      ],
      "text/plain": [
       "   start_time  end_time   indv  indvi                         key   rate  \\\n",
       "3       8.110     9.092  b1060      0  2017-12-08_16-45-25-480000  44100   \n",
       "5       9.780    10.453  b1060      0  2017-12-08_16-45-25-480000  44100   \n",
       "7      10.725    11.656  b1060      0  2017-12-08_16-45-25-480000  44100   \n",
       "\n",
       "                                         spectrogram  \n",
       "3  [[0, 0, 0, 0, 0, 0, 0, 0, 0, 0, 0, 0, 0, 0, 0,...  \n",
       "5  [[0, 0, 0, 0, 0, 0, 0, 0, 0, 0, 0, 0, 0, 0, 0,...  \n",
       "7  [[0, 0, 0, 0, 0, 0, 0, 0, 0, 0, 0, 0, 0, 0, 0,...  "
      ]
     },
     "execution_count": 8,
     "metadata": {},
     "output_type": "execute_result"
    }
   ],
   "source": [
    "syllable_df[:3]"
   ]
  },
  {
   "cell_type": "code",
   "execution_count": 9,
   "metadata": {
    "ExecuteTime": {
     "end_time": "2019-10-22T03:34:23.305885Z",
     "start_time": "2019-10-22T03:34:23.261655Z"
    }
   },
   "outputs": [
    {
     "data": {
      "text/plain": [
       "101726"
      ]
     },
     "execution_count": 9,
     "metadata": {},
     "output_type": "execute_result"
    }
   ],
   "source": [
    "len(syllable_df)"
   ]
  },
  {
   "cell_type": "code",
   "execution_count": 10,
   "metadata": {
    "ExecuteTime": {
     "end_time": "2019-10-22T03:34:31.533534Z",
     "start_time": "2019-10-22T03:34:23.308431Z"
    }
   },
   "outputs": [],
   "source": [
    "import tensorflow as tf"
   ]
  },
  {
   "cell_type": "code",
   "execution_count": 11,
   "metadata": {
    "ExecuteTime": {
     "end_time": "2019-10-22T03:34:31.658167Z",
     "start_time": "2019-10-22T03:34:31.536287Z"
    }
   },
   "outputs": [],
   "source": [
    "ensure_dir(DATA_DIR / 'tfrecords')"
   ]
  },
  {
   "cell_type": "code",
   "execution_count": 12,
   "metadata": {
    "ExecuteTime": {
     "end_time": "2019-10-22T03:34:31.890174Z",
     "start_time": "2019-10-22T03:34:31.660397Z"
    }
   },
   "outputs": [
    {
     "data": {
      "application/vnd.jupyter.widget-view+json": {
       "model_id": "9a1521ed5e274efaa8d6d4489c1780c9",
       "version_major": 2,
       "version_minor": 0
      },
      "text/plain": [
       "HBox(children=(IntProgress(value=0, max=101726), HTML(value='')))"
      ]
     },
     "metadata": {},
     "output_type": "display_data"
    },
    {
     "name": "stdout",
     "output_type": "stream",
     "text": [
      "\n"
     ]
    }
   ],
   "source": [
    "for idx, row in tqdm(syllable_df.iterrows(), total=len(syllable_df)):\n",
    "    break"
   ]
  },
  {
   "cell_type": "code",
   "execution_count": 13,
   "metadata": {
    "ExecuteTime": {
     "end_time": "2019-10-22T03:34:32.083708Z",
     "start_time": "2019-10-22T03:34:31.892960Z"
    }
   },
   "outputs": [
    {
     "data": {
      "text/plain": [
       "start_time                                                  8.11\n",
       "end_time                                                   9.092\n",
       "indv                                                       b1060\n",
       "indvi                                                          0\n",
       "key                                   2017-12-08_16-45-25-480000\n",
       "rate                                                       44100\n",
       "spectrogram    [[0, 0, 0, 0, 0, 0, 0, 0, 0, 0, 0, 0, 0, 0, 0,...\n",
       "Name: 3, dtype: object"
      ]
     },
     "execution_count": 13,
     "metadata": {},
     "output_type": "execute_result"
    }
   ],
   "source": [
    "row"
   ]
  },
  {
   "cell_type": "code",
   "execution_count": 14,
   "metadata": {
    "ExecuteTime": {
     "end_time": "2019-10-22T03:34:32.189147Z",
     "start_time": "2019-10-22T03:34:32.086116Z"
    }
   },
   "outputs": [
    {
     "data": {
      "text/plain": [
       "(128, 128)"
      ]
     },
     "execution_count": 14,
     "metadata": {},
     "output_type": "execute_result"
    }
   ],
   "source": [
    "np.shape(row.spectrogram)"
   ]
  },
  {
   "cell_type": "code",
   "execution_count": 15,
   "metadata": {
    "ExecuteTime": {
     "end_time": "2019-10-22T03:34:32.269806Z",
     "start_time": "2019-10-22T03:34:32.191115Z"
    }
   },
   "outputs": [],
   "source": [
    "def _bytes_feature(value):\n",
    "    \"\"\"Returns a bytes_list from a string / byte.\"\"\"\n",
    "    return tf.train.Feature(bytes_list=tf.train.BytesList(value=[value]))\n",
    "\n",
    "\n",
    "def _float_feature(value):\n",
    "    \"\"\"Returns a float_list from a float / double.\"\"\"\n",
    "    return tf.train.Feature(float_list=tf.train.FloatList(value=[value]))\n",
    "\n",
    "\n",
    "def _int64_feature(value):\n",
    "    \"\"\"Returns an int64_list from a bool / enum / int / uint.\"\"\"\n",
    "    return tf.train.Feature(int64_list=tf.train.Int64List(value=[value]))\n",
    "\n",
    "def serialize_example(example):\n",
    "    \"\"\"Serialize an item in a dataset\n",
    "    Arguments:\n",
    "      example {[list]} -- list of dictionaries with fields \"name\" , \"_type\", and \"data\"\n",
    "\n",
    "    Returns:\n",
    "      [type] -- [description]\n",
    "    \"\"\"\n",
    "    dset_item = {}\n",
    "    for feature in example.keys():\n",
    "        dset_item[feature] = example[feature][\"_type\"](example[feature][\"data\"])\n",
    "        example_proto = tf.train.Example(features=tf.train.Features(feature=dset_item))\n",
    "    return example_proto.SerializeToString()"
   ]
  },
  {
   "cell_type": "code",
   "execution_count": 16,
   "metadata": {
    "ExecuteTime": {
     "end_time": "2019-10-22T03:34:32.352336Z",
     "start_time": "2019-10-22T03:34:32.271947Z"
    }
   },
   "outputs": [],
   "source": [
    "record_loc = DATA_DIR / 'tfrecords' / \"starling.tfrecords\""
   ]
  },
  {
   "cell_type": "code",
   "execution_count": 17,
   "metadata": {
    "ExecuteTime": {
     "end_time": "2019-10-22T03:35:16.635570Z",
     "start_time": "2019-10-22T03:34:32.354544Z"
    }
   },
   "outputs": [
    {
     "data": {
      "application/vnd.jupyter.widget-view+json": {
       "model_id": "1e752df084e14227b96d31bae4e4fc25",
       "version_major": 2,
       "version_minor": 0
      },
      "text/plain": [
       "HBox(children=(IntProgress(value=0, max=101726), HTML(value='')))"
      ]
     },
     "metadata": {},
     "output_type": "display_data"
    },
    {
     "name": "stdout",
     "output_type": "stream",
     "text": [
      "\n"
     ]
    }
   ],
   "source": [
    "with tf.io.TFRecordWriter((record_loc).as_posix()) as writer:\n",
    "    for idx, row in tqdm(syllable_df.iterrows(), total=len(syllable_df)):\n",
    "        example = serialize_example(\n",
    "            {\n",
    "                \"spectrogram\": {\n",
    "                    \"data\": row.spectrogram.flatten().tobytes(),\n",
    "                    \"_type\": _bytes_feature,\n",
    "                },\n",
    "                \"index\": {\n",
    "                    \"data\": idx,\n",
    "                    \"_type\": _int64_feature,\n",
    "                },\n",
    "                \"indv\": {\n",
    "                    \"data\": np.string_(row.indv).astype(\"|S7\"),\n",
    "                    \"_type\": _bytes_feature,\n",
    "                },\n",
    "            }\n",
    "        )\n",
    "        # write the defined example into the dataset\n",
    "        writer.write(example)"
   ]
  },
  {
   "cell_type": "markdown",
   "metadata": {},
   "source": [
    "### test read data back"
   ]
  },
  {
   "cell_type": "code",
   "execution_count": 18,
   "metadata": {
    "ExecuteTime": {
     "end_time": "2019-10-22T03:35:17.014694Z",
     "start_time": "2019-10-22T03:35:16.640790Z"
    }
   },
   "outputs": [],
   "source": [
    "from tensorflow.io import FixedLenFeature, parse_single_example"
   ]
  },
  {
   "cell_type": "code",
   "execution_count": 19,
   "metadata": {
    "ExecuteTime": {
     "end_time": "2019-10-22T03:35:17.934575Z",
     "start_time": "2019-10-22T03:35:17.021699Z"
    }
   },
   "outputs": [],
   "source": [
    "def _dtype_to_tf_feattype(dtype):\n",
    "    \"\"\" convert tf dtype to correct tffeature format\n",
    "    \"\"\"\n",
    "    if dtype in [tf.float32, tf.int64]:\n",
    "        return dtype\n",
    "    else:\n",
    "        return tf.string\n",
    "    \n",
    "def _parse_function(example_proto, data_types):\n",
    "    \"\"\" parse dataset from tfrecord, and convert to correct format\n",
    "    \"\"\"\n",
    "    # list features\n",
    "    features = {\n",
    "        lab: FixedLenFeature([], _dtype_to_tf_feattype(dtype))\n",
    "        for lab, dtype in data_types.items()\n",
    "    }\n",
    "    # parse features\n",
    "    parsed_features = parse_single_example(example_proto, features)\n",
    "    feat_dtypes = [tf.float32, tf.string, tf.int64]\n",
    "    \n",
    "    # convert the features if they are in the wrong format\n",
    "    parse_list = [\n",
    "        parsed_features[lab]\n",
    "        if dtype in feat_dtypes\n",
    "        else tf.io.decode_raw(parsed_features[lab], dtype)\n",
    "        for lab, dtype in data_types.items()\n",
    "    ]\n",
    "    return parse_list"
   ]
  },
  {
   "cell_type": "code",
   "execution_count": 20,
   "metadata": {
    "ExecuteTime": {
     "end_time": "2019-10-22T03:35:25.052960Z",
     "start_time": "2019-10-22T03:35:17.939282Z"
    }
   },
   "outputs": [],
   "source": [
    "# read the dataset\n",
    "raw_dataset = tf.data.TFRecordDataset([record_loc.as_posix()])"
   ]
  },
  {
   "cell_type": "code",
   "execution_count": 21,
   "metadata": {
    "ExecuteTime": {
     "end_time": "2019-10-22T03:35:25.291698Z",
     "start_time": "2019-10-22T03:35:25.055665Z"
    }
   },
   "outputs": [],
   "source": [
    "data_types = {\n",
    "    \"spectrogram\": tf.uint8,\n",
    "    \"index\": tf.int64,\n",
    "    \"indv\": tf.string,\n",
    "}"
   ]
  },
  {
   "cell_type": "code",
   "execution_count": 22,
   "metadata": {
    "ExecuteTime": {
     "end_time": "2019-10-22T03:35:25.413207Z",
     "start_time": "2019-10-22T03:35:25.295052Z"
    }
   },
   "outputs": [],
   "source": [
    "# parse each data type to the raw dataset\n",
    "dataset = raw_dataset.map(lambda x: _parse_function(x, data_types=data_types))"
   ]
  },
  {
   "cell_type": "code",
   "execution_count": 23,
   "metadata": {
    "ExecuteTime": {
     "end_time": "2019-10-22T03:35:25.484999Z",
     "start_time": "2019-10-22T03:35:25.415276Z"
    }
   },
   "outputs": [],
   "source": [
    "# shuffle the dataset\n",
    "dataset = dataset.shuffle(buffer_size=10000)\n",
    "# create batches\n",
    "dataset = dataset.batch(10)"
   ]
  },
  {
   "cell_type": "code",
   "execution_count": 24,
   "metadata": {
    "ExecuteTime": {
     "end_time": "2019-10-22T03:35:26.378448Z",
     "start_time": "2019-10-22T03:35:25.486962Z"
    }
   },
   "outputs": [],
   "source": [
    "spec, index, indv  = next(iter(dataset))"
   ]
  },
  {
   "cell_type": "code",
   "execution_count": 25,
   "metadata": {
    "ExecuteTime": {
     "end_time": "2019-10-22T03:35:27.078497Z",
     "start_time": "2019-10-22T03:35:26.380508Z"
    }
   },
   "outputs": [
    {
     "data": {
      "image/png": "[encoded data removed]",
      "text/plain": [
       "<Figure size 1080x216 with 5 Axes>"
      ]
     },
     "metadata": {
      "needs_background": "light"
     },
     "output_type": "display_data"
    }
   ],
   "source": [
    "fig, ax = plt.subplots(ncols = 5, figsize=(15,3))\n",
    "for i in range(5):\n",
    "    # show the image\n",
    "    ax[i].matshow(spec[i].numpy().reshape(128,128), cmap=plt.cm.Greys, origin=\"lower\")\n",
    "    string_label = indv[i].numpy().decode(\"utf-8\") \n",
    "    ax[i].set_title(string_label)\n",
    "    ax[i].axis('off')"
   ]
  },
  {
   "cell_type": "code",
   "execution_count": null,
   "metadata": {},
   "outputs": [],
   "source": []
  }
 ],
 "metadata": {
  "kernelspec": {
   "display_name": "Python 3",
   "language": "python",
   "name": "python3"
  },
  "language_info": {
   "codemirror_mode": {
    "name": "ipython",
    "version": 3
   },
   "file_extension": ".py",
   "mimetype": "text/x-python",
   "name": "python",
   "nbconvert_exporter": "python",
   "pygments_lexer": "ipython3",
   "version": "3.6.7"
  }
 },
 "nbformat": 4,
 "nbformat_minor": 4
}
