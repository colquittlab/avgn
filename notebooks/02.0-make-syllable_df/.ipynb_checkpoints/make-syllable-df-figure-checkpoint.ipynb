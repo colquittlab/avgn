{
 "cells": [
  {
   "cell_type": "code",
   "execution_count": 1,
   "metadata": {
    "ExecuteTime": {
     "end_time": "2020-03-07T00:59:23.433043Z",
     "start_time": "2020-03-07T00:59:22.241757Z"
    }
   },
   "outputs": [
    {
     "name": "stderr",
     "output_type": "stream",
     "text": [
      "/mnt/cube/tsainbur/conda_envs/tpy3/lib/python3.6/site-packages/tqdm/autonotebook/__init__.py:14: TqdmExperimentalWarning: Using `tqdm.autonotebook.tqdm` in notebook mode. Use `tqdm.tqdm` instead to force console mode (e.g. in jupyter console)\n",
      "  \" (e.g. in jupyter console)\", TqdmExperimentalWarning)\n"
     ]
    }
   ],
   "source": [
    "import numpy as np\n",
    "import matplotlib.pyplot as plt\n",
    "%matplotlib inline\n",
    "from tqdm.autonotebook import tqdm\n",
    "from joblib import Parallel, delayed\n",
    "import pandas as pd\n",
    "from datetime import datetime"
   ]
  },
  {
   "cell_type": "code",
   "execution_count": 2,
   "metadata": {
    "ExecuteTime": {
     "end_time": "2020-03-07T00:59:24.953236Z",
     "start_time": "2020-03-07T00:59:23.436802Z"
    }
   },
   "outputs": [],
   "source": [
    "from avgn.visualization.spectrogram import draw_spec_set\n",
    "from avgn.utils.paths import DATA_DIR, most_recent_subdirectory, ensure_dir\n",
    "from avgn.dataset_names import species_dict"
   ]
  },
  {
   "cell_type": "code",
   "execution_count": 3,
   "metadata": {
    "ExecuteTime": {
     "end_time": "2020-03-07T00:59:26.068384Z",
     "start_time": "2020-03-07T00:59:26.061169Z"
    }
   },
   "outputs": [
    {
     "name": "stdout",
     "output_type": "stream",
     "text": [
      "['castellucci_mouse_usv_segmented', 'BIRD_DB_Vireo_cassinii', 'gibbon_morita_segmented', 'bengalese_finch_sober', 'buckeye', 'swamp_sparrow', 'mobysound_humpback_whale', 'koumura_bengalese_finch', 'batsong_segmented', 'giant_otter', 'BIRD_DB_Toxostoma_redivivum', 'zebra_finch_gardner_segmented', 'katahira_white_munia_segmented', 'european_starling_gentner_segmented', 'macaque_coo', 'zebra_finch_theunisson', 'marmoset', 'hildebrand_Cuviers_beaked_whale', 'hildebrand_Gervaiss_beaked_whale', 'NA_BIRDS_american_crow', 'NA_BIRDS_american_yellow_warbler', 'NA_BIRDS_blue_jay', 'NA_BIRDS_cedar_waxwing', 'NA_BIRDS_chipping_sparrow', 'NA_BIRDS_common_yellowthroat', 'NA_BIRDS_great_blue_heron', 'NA_BIRDS_house_finch', 'NA_BIRDS_indigo_bunting', 'NA_BIRDS_marsh_wren', 'NA_BIRDS_song_sparrow', 'canary_segmented']\n"
     ]
    }
   ],
   "source": [
    "datasets = list(species_dict.keys())\n",
    "print(datasets)"
   ]
  },
  {
   "cell_type": "code",
   "execution_count": 4,
   "metadata": {
    "ExecuteTime": {
     "end_time": "2020-03-07T00:59:29.110846Z",
     "start_time": "2020-03-07T00:59:29.105545Z"
    }
   },
   "outputs": [],
   "source": [
    "# for each dataset, load it, and plot a set of spectrograms"
   ]
  },
  {
   "cell_type": "code",
   "execution_count": 5,
   "metadata": {
    "ExecuteTime": {
     "end_time": "2020-03-07T00:59:30.157113Z",
     "start_time": "2020-03-07T00:59:30.024358Z"
    }
   },
   "outputs": [
    {
     "data": {
      "text/plain": [
       "([PosixPath('/mnt/cube/tsainbur/Projects/github_repos/avgn_paper/data/syllable_dfs/swamp_sparrow/swampsparrow.pickle'),\n",
       "  PosixPath('/mnt/cube/tsainbur/Projects/github_repos/avgn_paper/data/syllable_dfs/macaque_coo/macaque.pickle'),\n",
       "  PosixPath('/mnt/cube/tsainbur/Projects/github_repos/avgn_paper/data/syllable_dfs/bengalese_finch_sober/gr41rd51.pickle'),\n",
       "  PosixPath('/mnt/cube/tsainbur/Projects/github_repos/avgn_paper/data/syllable_dfs/marmoset/marmoset.pickle'),\n",
       "  PosixPath('/mnt/cube/tsainbur/Projects/github_repos/avgn_paper/data/syllable_dfs/katahira_white_munia_segmented/munia.pickle'),\n",
       "  PosixPath('/mnt/cube/tsainbur/Projects/github_repos/avgn_paper/data/syllable_dfs/mobysound_humpback_whale/humpback.pickle'),\n",
       "  PosixPath('/mnt/cube/tsainbur/Projects/github_repos/avgn_paper/data/syllable_dfs/giant_otter/otter.pickle'),\n",
       "  PosixPath('/mnt/cube/tsainbur/Projects/github_repos/avgn_paper/data/syllable_dfs/european_starling_gentner_segmented/starling.pickle'),\n",
       "  PosixPath('/mnt/cube/tsainbur/Projects/github_repos/avgn_paper/data/syllable_dfs/zebra_finch_theunisson/macaque.pickle'),\n",
       "  PosixPath('/mnt/cube/tsainbur/Projects/github_repos/avgn_paper/data/syllable_dfs/koumura_bengalese_finch/Bird10.pickle'),\n",
       "  PosixPath('/mnt/cube/tsainbur/Projects/github_repos/avgn_paper/data/syllable_dfs/BIRD_DB_Vireo_cassinii/cassins.pickle'),\n",
       "  PosixPath('/mnt/cube/tsainbur/Projects/github_repos/avgn_paper/data/syllable_dfs/canary_segmented/canary.pickle'),\n",
       "  PosixPath('/mnt/cube/tsainbur/Projects/github_repos/avgn_paper/data/syllable_dfs/BIRD_DB_Toxostoma_redivivum/thrasher.pickle'),\n",
       "  PosixPath('/mnt/cube/tsainbur/Projects/github_repos/avgn_paper/data/syllable_dfs/castellucci_mouse_usv_segmented/mouse.pickle'),\n",
       "  PosixPath('/mnt/cube/tsainbur/Projects/github_repos/avgn_paper/data/syllable_dfs/zebra_finch_gardner_segmented/zf.pickle'),\n",
       "  PosixPath('/mnt/cube/tsainbur/Projects/github_repos/avgn_paper/data/syllable_dfs/buckeye/phones.pickle'),\n",
       "  PosixPath('/mnt/cube/tsainbur/Projects/github_repos/avgn_paper/data/syllable_dfs/NA_BIRDS/nabirds.pickle'),\n",
       "  PosixPath('/mnt/cube/tsainbur/Projects/github_repos/avgn_paper/data/syllable_dfs/hildebrand/beaked_whale.pickle')],\n",
       " 18)"
      ]
     },
     "execution_count": 5,
     "metadata": {},
     "output_type": "execute_result"
    }
   ],
   "source": [
    "dsets_to_load = list(DATA_DIR.glob('syllable_dfs/*/*.pickle'))\n",
    "all_datasets_to_load = []\n",
    "used_datasets = []\n",
    "for i in dsets_to_load:\n",
    "     if i.parent.stem in datasets:\n",
    "        if i.parent.stem not in used_datasets:\n",
    "            if i.parent.stem == \"swamp_sparrow\":\n",
    "                if i.stem != \"swampsparrow-pad.pickle\":\n",
    "                    continue\n",
    "            if i.parent.stem == 'buckeye': \n",
    "                if i.stem != 'phones':\n",
    "                    continue\n",
    "            all_datasets_to_load.append(i)\n",
    "            used_datasets.append(i.parent.stem)\n",
    "all_datasets_to_load = all_datasets_to_load + [DATA_DIR / 'syllable_dfs/NA_BIRDS/nabirds.pickle']\n",
    "all_datasets_to_load = all_datasets_to_load + [DATA_DIR / 'syllable_dfs/hildebrand/beaked_whale.pickle']\n",
    "all_datasets_to_load, len(all_datasets_to_load)        "
   ]
  },
  {
   "cell_type": "code",
   "execution_count": 6,
   "metadata": {
    "ExecuteTime": {
     "end_time": "2020-03-07T00:59:45.104220Z",
     "start_time": "2020-03-07T00:59:45.099317Z"
    }
   },
   "outputs": [],
   "source": [
    "#del dset_specs['Human (English)']"
   ]
  },
  {
   "cell_type": "code",
   "execution_count": 7,
   "metadata": {
    "ExecuteTime": {
     "end_time": "2020-03-07T00:59:45.356834Z",
     "start_time": "2020-03-07T00:59:45.352830Z"
    }
   },
   "outputs": [],
   "source": [
    "dset_specs = {}"
   ]
  },
  {
   "cell_type": "code",
   "execution_count": null,
   "metadata": {
    "ExecuteTime": {
     "start_time": "2020-03-07T00:59:46.461Z"
    },
    "scrolled": false
   },
   "outputs": [
    {
     "data": {
      "application/vnd.jupyter.widget-view+json": {
       "model_id": "a0128b5d49fa43828f133d2b24def7ea",
       "version_major": 2,
       "version_minor": 0
      },
      "text/plain": [
       "HBox(children=(IntProgress(value=0, max=18), HTML(value='')))"
      ]
     },
     "metadata": {},
     "output_type": "display_data"
    },
    {
     "name": "stdout",
     "output_type": "stream",
     "text": [
      "swamp_sparrow\n",
      "macaque_coo\n",
      "bengalese_finch_sober\n",
      "marmoset\n",
      "katahira_white_munia_segmented\n",
      "mobysound_humpback_whale\n",
      "giant_otter\n",
      "european_starling_gentner_segmented\n",
      "zebra_finch_theunisson\n",
      "koumura_bengalese_finch\n",
      "BIRD_DB_Vireo_cassinii\n"
     ]
    }
   ],
   "source": [
    "for dataset in tqdm(all_datasets_to_load):\n",
    "    print(dataset.parent.stem)\n",
    "    if dataset.parent.stem in species_dict:\n",
    "        species= species_dict[dataset.parent.stem]['species']\n",
    "        \n",
    "        if species in dset_specs:\n",
    "            continue\n",
    "    \n",
    "    dset = pd.read_pickle(dataset)  \n",
    "    \n",
    "    #\n",
    "    if dataset.parent.stem == 'NA_BIRDS':\n",
    "        for species in dset.species.unique():\n",
    "            specs = dset[dset.species == species].spectrogram.values\n",
    "            idxs = np.random.choice(len(specs), size=100, replace=False)\n",
    "            dset_specs[species] = specs[idxs]    \n",
    "        continue\n",
    "    if dataset.parent.stem == 'hildebrand':\n",
    "        for species in dset.common_name.unique():\n",
    "            specs = dset[dset.common_name == species].spectrogram.values\n",
    "            idxs = np.random.choice(len(specs), size=100, replace=False)\n",
    "            dset_specs[species] = specs[idxs]    \n",
    "        continue\n",
    "    \n",
    "    species= species_dict[dataset.parent.stem]['species']\n",
    "    \n",
    "    if species == 'Common marmoset': \n",
    "            dset = dset[dset.indvi == 0]\n",
    "            dset = dset[\n",
    "                ((dset.end_time - dset.start_time).values < 2)\n",
    "                & ((dset.end_time - dset.start_time).values > 0.75)\n",
    "            ]\n",
    "            dset = dset[np.array([np.sum(i) for i in dset.spectrogram.values]) > 100]\n",
    "\n",
    "    if dataset.parent.stem == 'bengalese_finch_sober':  \n",
    "        specs = dset.syllables_spec.values\n",
    "    else:\n",
    "        specs = dset.spectrogram.values\n",
    "    idxs = np.random.choice(len(specs), size=100, replace=False)\n",
    "    dset_specs[species] = specs[idxs]    "
   ]
  },
  {
   "cell_type": "code",
   "execution_count": null,
   "metadata": {
    "ExecuteTime": {
     "end_time": "2019-12-07T01:32:08.053660Z",
     "start_time": "2019-12-07T01:32:02.637Z"
    }
   },
   "outputs": [],
   "source": [
    "dset_specs.keys()"
   ]
  },
  {
   "cell_type": "code",
   "execution_count": null,
   "metadata": {
    "ExecuteTime": {
     "end_time": "2019-12-07T01:32:08.055796Z",
     "start_time": "2019-12-07T01:32:02.638Z"
    }
   },
   "outputs": [],
   "source": [
    "from avgn.visualization.projections import scatter_spec\n",
    "from avgn.utils.general import save_fig\n",
    "from avgn.utils.paths import FIGURE_DIR, ensure_dir"
   ]
  },
  {
   "cell_type": "code",
   "execution_count": null,
   "metadata": {
    "ExecuteTime": {
     "end_time": "2019-12-07T01:32:08.057764Z",
     "start_time": "2019-12-07T01:32:02.640Z"
    }
   },
   "outputs": [],
   "source": [
    "nex = 2\n",
    "ncols = 5\n",
    "nrows = int(np.ceil(len(dset_specs.keys())/ ncols))\n",
    "zm = 8\n",
    "fig, axs = plt.subplots(ncols=ncols, nrows= nrows, figsize=(ncols*zm, nrows*zm), gridspec_kw = {'wspace':0.05})\n",
    "for si, species in tqdm(enumerate(np.sort(list(dset_specs.keys())))):\n",
    "    ax = axs.flatten()[si]\n",
    "    specs = dset_specs[species]\n",
    "    spec_size = np.shape(specs[0])\n",
    "    canvas = np.zeros((spec_size[0]*nex, spec_size[1]*nex))\n",
    "    np.shape(canvas)\n",
    "    for i in range(nex):\n",
    "        for j in range(nex):\n",
    "            a = i*nex+j\n",
    "            canvas[i*spec_size[0]:(i+1)*spec_size[0], j*spec_size[1]:(j+1)*spec_size[1]] = specs[a] / np.max(specs[a])\n",
    "            \n",
    "    ax.matshow(canvas, interpolation = None, origin='lower', aspect='auto', vmin=0, cmap= plt.cm.afmhot)\n",
    "    ax.set_title(species, fontsize=28)\n",
    "    ax.axis('off')\n",
    "for si in range(si, ncols*nrows):\n",
    "    ax = axs.flatten()[si]\n",
    "    ax.axis('off')\n",
    "#save_fig(FIGURE_DIR / 'vocalization_examples_smaller', dpi=300, save_jpg=True)"
   ]
  },
  {
   "cell_type": "code",
   "execution_count": null,
   "metadata": {},
   "outputs": [],
   "source": []
  }
 ],
 "metadata": {
  "kernelspec": {
   "display_name": "Python 3",
   "language": "python",
   "name": "python3"
  },
  "language_info": {
   "codemirror_mode": {
    "name": "ipython",
    "version": 3
   },
   "file_extension": ".py",
   "mimetype": "text/x-python",
   "name": "python",
   "nbconvert_exporter": "python",
   "pygments_lexer": "ipython3",
   "version": "3.6.7"
  }
 },
 "nbformat": 4,
 "nbformat_minor": 2
}
