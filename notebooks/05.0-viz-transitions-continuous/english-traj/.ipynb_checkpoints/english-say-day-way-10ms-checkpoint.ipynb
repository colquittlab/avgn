{
 "cells": [
  {
   "cell_type": "code",
   "execution_count": null,
   "metadata": {
    "ExecuteTime": {
     "start_time": "2019-11-23T22:23:23.008Z"
    }
   },
   "outputs": [
    {
     "name": "stdout",
     "output_type": "stream",
     "text": [
      "env: CUDA_DEVICE_ORDER=PCI_BUS_ID\n",
      "env: CUDA_VISIBLE_DEVICES=2\n"
     ]
    }
   ],
   "source": [
    "%env CUDA_DEVICE_ORDER=PCI_BUS_ID\n",
    "%env CUDA_VISIBLE_DEVICES=2"
   ]
  },
  {
   "cell_type": "code",
   "execution_count": null,
   "metadata": {
    "ExecuteTime": {
     "start_time": "2019-11-23T22:23:23.011Z"
    }
   },
   "outputs": [],
   "source": [
    "%load_ext autoreload\n",
    "%autoreload 2"
   ]
  },
  {
   "cell_type": "code",
   "execution_count": null,
   "metadata": {
    "ExecuteTime": {
     "start_time": "2019-11-23T22:23:23.013Z"
    }
   },
   "outputs": [
    {
     "name": "stderr",
     "output_type": "stream",
     "text": [
      "/mnt/cube/tsainbur/conda_envs/tpy3/lib/python3.6/site-packages/tqdm/autonotebook/__init__.py:14: TqdmExperimentalWarning: Using `tqdm.autonotebook.tqdm` in notebook mode. Use `tqdm.tqdm` instead to force console mode (e.g. in jupyter console)\n",
      "  \" (e.g. in jupyter console)\", TqdmExperimentalWarning)\n"
     ]
    }
   ],
   "source": [
    "import os\n",
    "import numpy as np\n",
    "import pandas as pd\n",
    "import cudf as gd\n",
    "from cuml.manifold.umap import UMAP as cumlUMAP\n",
    "import matplotlib.pyplot as plt\n",
    "import seaborn as sns\n",
    "from tqdm.autonotebook import tqdm\n",
    "from avgn.utils.paths import DATA_DIR, most_recent_subdirectory, ensure_dir"
   ]
  },
  {
   "cell_type": "code",
   "execution_count": null,
   "metadata": {
    "ExecuteTime": {
     "start_time": "2019-11-23T22:23:23.014Z"
    }
   },
   "outputs": [],
   "source": [
    "window_loc = DATA_DIR / 'umap_windows/buckeye/way_say_day_20.pickle'"
   ]
  },
  {
   "cell_type": "code",
   "execution_count": null,
   "metadata": {
    "ExecuteTime": {
     "start_time": "2019-11-23T22:23:23.016Z"
    }
   },
   "outputs": [],
   "source": [
    "words_df = pd.read_pickle(window_loc)"
   ]
  },
  {
   "cell_type": "code",
   "execution_count": null,
   "metadata": {
    "ExecuteTime": {
     "start_time": "2019-11-23T22:23:23.019Z"
    }
   },
   "outputs": [
    {
     "data": {
      "text/html": [
       "<div>\n",
       "<style scoped>\n",
       "    .dataframe tbody tr th:only-of-type {\n",
       "        vertical-align: middle;\n",
       "    }\n",
       "\n",
       "    .dataframe tbody tr th {\n",
       "        vertical-align: top;\n",
       "    }\n",
       "\n",
       "    .dataframe thead th {\n",
       "        text-align: right;\n",
       "    }\n",
       "</style>\n",
       "<table border=\"1\" class=\"dataframe\">\n",
       "  <thead>\n",
       "    <tr style=\"text-align: right;\">\n",
       "      <th></th>\n",
       "      <th>start_time</th>\n",
       "      <th>end_time</th>\n",
       "      <th>word</th>\n",
       "      <th>phones</th>\n",
       "      <th>phone_start_times</th>\n",
       "      <th>phone_end_times</th>\n",
       "      <th>utterance_number</th>\n",
       "      <th>position_in_utterance</th>\n",
       "      <th>word_number</th>\n",
       "      <th>indv</th>\n",
       "      <th>indvi</th>\n",
       "      <th>age</th>\n",
       "      <th>sex</th>\n",
       "      <th>key</th>\n",
       "      <th>rate</th>\n",
       "      <th>spectrogram</th>\n",
       "      <th>windows</th>\n",
       "    </tr>\n",
       "  </thead>\n",
       "  <tbody>\n",
       "    <tr>\n",
       "      <th>4</th>\n",
       "      <td>25.588546</td>\n",
       "      <td>25.778605</td>\n",
       "      <td>they</td>\n",
       "      <td>[dh, ey]</td>\n",
       "      <td>[0.0, 0.06714699999999851]</td>\n",
       "      <td>[0.06714699999999851, 0.19005899999999798]</td>\n",
       "      <td>10</td>\n",
       "      <td>4</td>\n",
       "      <td>4</td>\n",
       "      <td>s25</td>\n",
       "      <td>0</td>\n",
       "      <td>o</td>\n",
       "      <td>f</td>\n",
       "      <td>s2501b</td>\n",
       "      <td>16000</td>\n",
       "      <td>[[3, 2, 2, 1, 0, 0, 0, 0, 0, 0, 0, 0, 0, 0, 0,...</td>\n",
       "      <td>[[[3, 23, 38, 44, 47, 47, 44, 36, 20, 8, 0, 1,...</td>\n",
       "    </tr>\n",
       "    <tr>\n",
       "      <th>26</th>\n",
       "      <td>33.108949</td>\n",
       "      <td>33.305837</td>\n",
       "      <td>they</td>\n",
       "      <td>[dh, ey]</td>\n",
       "      <td>[0.0, 0.08692599999999828]</td>\n",
       "      <td>[0.08692599999999828, 0.19688799999999418]</td>\n",
       "      <td>11</td>\n",
       "      <td>6</td>\n",
       "      <td>6</td>\n",
       "      <td>s25</td>\n",
       "      <td>0</td>\n",
       "      <td>o</td>\n",
       "      <td>f</td>\n",
       "      <td>s2501b</td>\n",
       "      <td>16000</td>\n",
       "      <td>[[48, 83, 111, 130, 143, 152, 158, 162, 165, 1...</td>\n",
       "      <td>[[[48, 111, 142, 139, 134, 135, 136, 124, 81, ...</td>\n",
       "    </tr>\n",
       "    <tr>\n",
       "      <th>69</th>\n",
       "      <td>48.811535</td>\n",
       "      <td>48.956812</td>\n",
       "      <td>then</td>\n",
       "      <td>[n, eh, n]</td>\n",
       "      <td>[0.0, 0.018174999999999386, 0.11372099999999818]</td>\n",
       "      <td>[0.018174999999999386, 0.11372099999999818, 0....</td>\n",
       "      <td>2</td>\n",
       "      <td>1</td>\n",
       "      <td>1</td>\n",
       "      <td>s25</td>\n",
       "      <td>0</td>\n",
       "      <td>o</td>\n",
       "      <td>f</td>\n",
       "      <td>s2501b</td>\n",
       "      <td>16000</td>\n",
       "      <td>[[205, 205, 203, 202, 200, 198, 196, 194, 193,...</td>\n",
       "      <td>[[[205, 199, 141, 98, 153, 150, 127, 113, 117,...</td>\n",
       "    </tr>\n",
       "  </tbody>\n",
       "</table>\n",
       "</div>"
      ],
      "text/plain": [
       "    start_time   end_time  word      phones  \\\n",
       "4    25.588546  25.778605  they    [dh, ey]   \n",
       "26   33.108949  33.305837  they    [dh, ey]   \n",
       "69   48.811535  48.956812  then  [n, eh, n]   \n",
       "\n",
       "                                   phone_start_times  \\\n",
       "4                         [0.0, 0.06714699999999851]   \n",
       "26                        [0.0, 0.08692599999999828]   \n",
       "69  [0.0, 0.018174999999999386, 0.11372099999999818]   \n",
       "\n",
       "                                      phone_end_times  utterance_number  \\\n",
       "4          [0.06714699999999851, 0.19005899999999798]                10   \n",
       "26         [0.08692599999999828, 0.19688799999999418]                11   \n",
       "69  [0.018174999999999386, 0.11372099999999818, 0....                 2   \n",
       "\n",
       "    position_in_utterance  word_number indv  indvi age sex     key   rate  \\\n",
       "4                       4            4  s25      0   o   f  s2501b  16000   \n",
       "26                      6            6  s25      0   o   f  s2501b  16000   \n",
       "69                      1            1  s25      0   o   f  s2501b  16000   \n",
       "\n",
       "                                          spectrogram  \\\n",
       "4   [[3, 2, 2, 1, 0, 0, 0, 0, 0, 0, 0, 0, 0, 0, 0,...   \n",
       "26  [[48, 83, 111, 130, 143, 152, 158, 162, 165, 1...   \n",
       "69  [[205, 205, 203, 202, 200, 198, 196, 194, 193,...   \n",
       "\n",
       "                                              windows  \n",
       "4   [[[3, 23, 38, 44, 47, 47, 44, 36, 20, 8, 0, 1,...  \n",
       "26  [[[48, 111, 142, 139, 134, 135, 136, 124, 81, ...  \n",
       "69  [[[205, 199, 141, 98, 153, 150, 127, 113, 117,...  "
      ]
     },
     "execution_count": 6,
     "metadata": {},
     "output_type": "execute_result"
    }
   ],
   "source": [
    "words_df[:3]"
   ]
  },
  {
   "cell_type": "code",
   "execution_count": null,
   "metadata": {
    "ExecuteTime": {
     "start_time": "2019-11-23T22:23:23.021Z"
    }
   },
   "outputs": [],
   "source": [
    "n_windows = [len(row.windows) for idx, row in words_df.iterrows()]\n",
    "words = np.concatenate([np.repeat(row.word, len(row.windows)) for idx, row in words_df.iterrows()])"
   ]
  },
  {
   "cell_type": "code",
   "execution_count": null,
   "metadata": {
    "ExecuteTime": {
     "start_time": "2019-11-23T22:23:23.022Z"
    }
   },
   "outputs": [
    {
     "data": {
      "text/plain": [
       "array(['they', 'they', 'they', 'they', 'they', 'they', 'they', 'they',\n",
       "       'they', 'they'], dtype='<U4')"
      ]
     },
     "execution_count": 8,
     "metadata": {},
     "output_type": "execute_result"
    }
   ],
   "source": [
    "words[:10]"
   ]
  },
  {
   "cell_type": "code",
   "execution_count": null,
   "metadata": {
    "ExecuteTime": {
     "start_time": "2019-11-23T22:23:23.024Z"
    }
   },
   "outputs": [
    {
     "data": {
      "image/png": "[encoded data removed]",
      "text/plain": [
       "<Figure size 432x288 with 1 Axes>"
      ]
     },
     "metadata": {
      "needs_background": "light"
     },
     "output_type": "display_data"
    }
   ],
   "source": [
    "plt.hist(n_windows, bins=50);"
   ]
  },
  {
   "cell_type": "code",
   "execution_count": null,
   "metadata": {
    "ExecuteTime": {
     "start_time": "2019-11-23T22:23:23.025Z"
    }
   },
   "outputs": [],
   "source": [
    "rate = 16000"
   ]
  },
  {
   "cell_type": "code",
   "execution_count": null,
   "metadata": {
    "ExecuteTime": {
     "start_time": "2019-11-23T22:23:23.027Z"
    }
   },
   "outputs": [
    {
     "name": "stdout",
     "output_type": "stream",
     "text": [
      "(2169974, 20, 32)\n",
      "(2169974, 640)\n"
     ]
    }
   ],
   "source": [
    "windows = np.vstack(list(words_df.windows))\n",
    "print(np.shape(windows))\n",
    "windows = np.reshape(windows, (len(windows), np.prod(np.shape(windows)[1:])))\n",
    "print(np.shape(windows))"
   ]
  },
  {
   "cell_type": "code",
   "execution_count": null,
   "metadata": {
    "ExecuteTime": {
     "start_time": "2019-11-23T22:23:23.030Z"
    }
   },
   "outputs": [
    {
     "name": "stderr",
     "output_type": "stream",
     "text": [
      "/mnt/cube/tsainbur/conda_envs/tpy3/lib/python3.6/site-packages/ipykernel_launcher.py:1: UserWarning: Parameter should_downcast is deprecated, use convert_dtype in fit, fit_transform and transform  methods instead. \n",
      "  \"\"\"Entry point for launching an IPython kernel.\n",
      "/mnt/cube/tsainbur/conda_envs/tpy3/lib/python3.6/site-packages/ipykernel_launcher.py:2: UserWarning: Parameter should_downcast is deprecated, use convert_dtype in fit, fit_transform and transform  methods instead. \n",
      "  \n"
     ]
    }
   ],
   "source": [
    "cuml_umap = cumlUMAP()# min_dist = 0.5\n",
    "embedding = cuml_umap.fit_transform(windows)"
   ]
  },
  {
   "cell_type": "code",
   "execution_count": null,
   "metadata": {
    "ExecuteTime": {
     "start_time": "2019-11-23T22:23:23.031Z"
    }
   },
   "outputs": [],
   "source": [
    "fig, ax = plt.subplots(figsize=(10,10))\n",
    "ax.scatter(embedding[:,0], embedding[:,1], alpha = 0.0025, s = 1, color='k')\n",
    "ax.set_xlim([-15,15])\n",
    "ax.set_ylim([-15,15])"
   ]
  },
  {
   "cell_type": "code",
   "execution_count": null,
   "metadata": {
    "ExecuteTime": {
     "start_time": "2019-11-23T22:23:23.033Z"
    }
   },
   "outputs": [],
   "source": [
    "len(np.unique(words))"
   ]
  },
  {
   "cell_type": "code",
   "execution_count": null,
   "metadata": {
    "ExecuteTime": {
     "start_time": "2019-11-23T22:23:23.036Z"
    }
   },
   "outputs": [],
   "source": [
    "pal = sns.color_palette('Set1', len(np.unique(words)))\n",
    "sns.palplot(pal)\n",
    "word_pal = {word:pal[wordi] for wordi, word in enumerate(np.unique(words))}"
   ]
  },
  {
   "cell_type": "code",
   "execution_count": null,
   "metadata": {
    "ExecuteTime": {
     "start_time": "2019-11-23T22:23:23.037Z"
    }
   },
   "outputs": [],
   "source": [
    "word_pal"
   ]
  },
  {
   "cell_type": "code",
   "execution_count": null,
   "metadata": {
    "ExecuteTime": {
     "start_time": "2019-11-23T22:23:23.039Z"
    }
   },
   "outputs": [],
   "source": [
    "cols = [word_pal[i] for i in words]"
   ]
  },
  {
   "cell_type": "code",
   "execution_count": null,
   "metadata": {
    "ExecuteTime": {
     "start_time": "2019-11-23T22:23:23.040Z"
    }
   },
   "outputs": [],
   "source": [
    "fig, ax = plt.subplots(figsize=(10,10))\n",
    "markers = [plt.Line2D([0,0],[0,0],color=color, marker='o', linestyle='') for color in word_pal.values()]\n",
    "ax.legend(markers, word_pal.keys(), numpoints=1)\n",
    "\n",
    "ax.scatter(embedding[:,0], embedding[:,1], alpha = 0.0025, s = 1, color=cols)\n",
    "ax.set_xlim([-15,15])\n",
    "ax.set_ylim([-15,15])"
   ]
  },
  {
   "cell_type": "code",
   "execution_count": null,
   "metadata": {
    "ExecuteTime": {
     "start_time": "2019-11-23T22:23:23.042Z"
    }
   },
   "outputs": [],
   "source": [
    "fig, ax = plt.subplots(figsize=(10,10))\n"
   ]
  },
  {
   "cell_type": "code",
   "execution_count": null,
   "metadata": {},
   "outputs": [],
   "source": []
  }
 ],
 "metadata": {
  "kernelspec": {
   "display_name": "Python 3",
   "language": "python",
   "name": "python3"
  },
  "language_info": {
   "codemirror_mode": {
    "name": "ipython",
    "version": 3
   },
   "file_extension": ".py",
   "mimetype": "text/x-python",
   "name": "python",
   "nbconvert_exporter": "python",
   "pygments_lexer": "ipython3",
   "version": "3.6.7"
  }
 },
 "nbformat": 4,
 "nbformat_minor": 2
}
