{
 "cells": [
  {
   "cell_type": "code",
   "execution_count": 1,
   "metadata": {
    "ExecuteTime": {
     "end_time": "2019-11-07T21:31:13.464624Z",
     "start_time": "2019-11-07T21:31:13.445021Z"
    }
   },
   "outputs": [],
   "source": [
    "%load_ext autoreload\n",
    "%autoreload 2"
   ]
  },
  {
   "cell_type": "code",
   "execution_count": 2,
   "metadata": {
    "ExecuteTime": {
     "end_time": "2019-11-07T21:31:24.594575Z",
     "start_time": "2019-11-07T21:31:13.466436Z"
    }
   },
   "outputs": [
    {
     "name": "stderr",
     "output_type": "stream",
     "text": [
      "/mnt/cube/tsainbur/conda_envs/tpy3/lib/python3.6/site-packages/tqdm/autonotebook/__init__.py:14: TqdmExperimentalWarning: Using `tqdm.autonotebook.tqdm` in notebook mode. Use `tqdm.tqdm` instead to force console mode (e.g. in jupyter console)\n",
      "  \" (e.g. in jupyter console)\", TqdmExperimentalWarning)\n"
     ]
    }
   ],
   "source": [
    "import numpy as np\n",
    "import matplotlib.pyplot as plt\n",
    "%matplotlib inline\n",
    "from tqdm.autonotebook import tqdm\n",
    "from joblib import Parallel, delayed\n",
    "import umap\n",
    "import pandas as pd"
   ]
  },
  {
   "cell_type": "code",
   "execution_count": 3,
   "metadata": {
    "ExecuteTime": {
     "end_time": "2019-11-07T21:31:25.018428Z",
     "start_time": "2019-11-07T21:31:24.598649Z"
    }
   },
   "outputs": [],
   "source": [
    "from scipy.io import loadmat\n",
    "from pathlib2 import Path"
   ]
  },
  {
   "cell_type": "code",
   "execution_count": null,
   "metadata": {
    "ExecuteTime": {
     "start_time": "2019-11-07T21:31:13.041Z"
    }
   },
   "outputs": [],
   "source": [
    "from avgn.utils.hparams import HParams\n",
    "from avgn.dataset import DataSet"
   ]
  },
  {
   "cell_type": "code",
   "execution_count": null,
   "metadata": {
    "ExecuteTime": {
     "start_time": "2019-11-07T21:31:13.042Z"
    }
   },
   "outputs": [],
   "source": [
    "from vocalseg.utils import butter_bandpass_filter, spectrogram, int16tofloat32, plot_spec\n",
    "from vocalseg.dynamic_thresholding import dynamic_threshold_segmentation"
   ]
  },
  {
   "cell_type": "code",
   "execution_count": null,
   "metadata": {
    "ExecuteTime": {
     "start_time": "2019-11-07T21:31:13.043Z"
    }
   },
   "outputs": [],
   "source": [
    "DATASET_ID = 'gibbon_morita_segmented'"
   ]
  },
  {
   "cell_type": "code",
   "execution_count": null,
   "metadata": {
    "ExecuteTime": {
     "start_time": "2019-11-07T21:31:13.044Z"
    }
   },
   "outputs": [],
   "source": [
    "### segmentation parameters\n",
    "n_fft=1024\n",
    "hop_length_ms=5\n",
    "win_length_ms=20\n",
    "ref_level_db=20\n",
    "pre=0.97\n",
    "min_level_db=-70\n",
    "min_level_db_floor = -50\n",
    "db_delta = 5\n",
    "silence_threshold = 0.01\n",
    "min_silence_for_spec=0.05\n",
    "max_vocal_for_spec=10,\n",
    "min_syllable_length_s = 0.5\n",
    "butter_min = 50\n",
    "butter_max = 7999\n",
    "spectral_range = [50, 7999]"
   ]
  },
  {
   "cell_type": "code",
   "execution_count": null,
   "metadata": {
    "ExecuteTime": {
     "start_time": "2019-11-07T21:31:13.045Z"
    }
   },
   "outputs": [],
   "source": [
    "from avgn.utils.paths import DATA_DIR, most_recent_subdirectory, ensure_dir"
   ]
  },
  {
   "cell_type": "code",
   "execution_count": null,
   "metadata": {
    "ExecuteTime": {
     "start_time": "2019-11-07T21:31:13.049Z"
    }
   },
   "outputs": [
    {
     "data": {
      "application/vnd.jupyter.widget-view+json": {
       "model_id": "adf2f1c68aed4cc99eeeaa5f8c5f11a6",
       "version_major": 2,
       "version_minor": 0
      },
      "text/plain": [
       "HBox(children=(IntProgress(value=0, description='loading json', max=128, style=ProgressStyle(description_width…"
      ]
     },
     "metadata": {},
     "output_type": "display_data"
    },
    {
     "name": "stderr",
     "output_type": "stream",
     "text": [
      "[Parallel(n_jobs=-1)]: Using backend LokyBackend with 24 concurrent workers.\n",
      "[Parallel(n_jobs=-1)]: Done   2 tasks      | elapsed:    8.1s\n",
      "[Parallel(n_jobs=-1)]: Done  81 out of 128 | elapsed:    8.2s remaining:    4.8s\n"
     ]
    },
    {
     "name": "stdout",
     "output_type": "stream",
     "text": [
      "\n"
     ]
    },
    {
     "name": "stderr",
     "output_type": "stream",
     "text": [
      "[Parallel(n_jobs=-1)]: Done 128 out of 128 | elapsed:    8.4s finished\n"
     ]
    },
    {
     "data": {
      "application/vnd.jupyter.widget-view+json": {
       "model_id": "",
       "version_major": 2,
       "version_minor": 0
      },
      "text/plain": [
       "HBox(children=(IntProgress(value=0, description='getting unique individuals', max=128, style=ProgressStyle(des…"
      ]
     },
     "metadata": {},
     "output_type": "display_data"
    },
    {
     "name": "stdout",
     "output_type": "stream",
     "text": [
      "\r"
     ]
    }
   ],
   "source": [
    "hparams = HParams(\n",
    "    butter_lowcut = 50,\n",
    "    butter_highcut = 7999,\n",
    "mel_upper_edge_hertz=7999,)\n",
    "# create a dataset object\n",
    "\n",
    "dataset = DataSet(DATASET_ID, hparams = hparams)"
   ]
  },
  {
   "cell_type": "code",
   "execution_count": null,
   "metadata": {
    "ExecuteTime": {
     "start_time": "2019-11-07T21:31:13.050Z"
    }
   },
   "outputs": [
    {
     "data": {
      "text/plain": [
       "OrderedDict([('datetime', '2017-09-12_07-00-02'),\n",
       "             ('species', 'Hylobatidae'),\n",
       "             ('common_name', 'Gibbon'),\n",
       "             ('samplerate_hz', 16000),\n",
       "             ('original_wav',\n",
       "              '/mnt/cube/tsainbur/Projects/github_repos/avgn_paper/data/raw/gibbon_morita/gibbon_superregular_data/test_data/20170912-070002_01_ch.wav'),\n",
       "             ('length_s', 1800.0),\n",
       "             ('wav_loc',\n",
       "              '/mnt/cube/tsainbur/Projects/github_repos/avgn_paper/data/raw/gibbon_morita/gibbon_superregular_data/test_data/20170912-070002_01_ch.wav'),\n",
       "             ('indvs',\n",
       "              OrderedDict([('UNK',\n",
       "                            OrderedDict([('syllables',\n",
       "                                          OrderedDict([('start_times',\n",
       "                                                        [349.04,\n",
       "                                                         390.04,\n",
       "                                                         422.44,\n",
       "                                                         440.06,\n",
       "                                                         444.56,\n",
       "                                                         459.94,\n",
       "                                                         477.84,\n",
       "                                                         498.46,\n",
       "                                                         515.98,\n",
       "                                                         525.54,\n",
       "                                                         537.52,\n",
       "                                                         553.94,\n",
       "                                                         554.48,\n",
       "                                                         571.06,\n",
       "                                                         571.74,\n",
       "                                                         578.72,\n",
       "                                                         579.78,\n",
       "                                                         589.28,\n",
       "                                                         604.32,\n",
       "                                                         615.46,\n",
       "                                                         632.34,\n",
       "                                                         652.58,\n",
       "                                                         688.6,\n",
       "                                                         706.24,\n",
       "                                                         721.8,\n",
       "                                                         737.42,\n",
       "                                                         760.92,\n",
       "                                                         766.02,\n",
       "                                                         768.08,\n",
       "                                                         779.88,\n",
       "                                                         781.0,\n",
       "                                                         800.88,\n",
       "                                                         804.9,\n",
       "                                                         813.58,\n",
       "                                                         826.24,\n",
       "                                                         828.92,\n",
       "                                                         844.84,\n",
       "                                                         862.46,\n",
       "                                                         885.6,\n",
       "                                                         903.62,\n",
       "                                                         918.42,\n",
       "                                                         920.26,\n",
       "                                                         937.96,\n",
       "                                                         949.26,\n",
       "                                                         963.78,\n",
       "                                                         969.98,\n",
       "                                                         978.78,\n",
       "                                                         991.3,\n",
       "                                                         1003.92,\n",
       "                                                         1012.08,\n",
       "                                                         1014.1,\n",
       "                                                         1015.86,\n",
       "                                                         1031.52,\n",
       "                                                         1043.46,\n",
       "                                                         1045.16,\n",
       "                                                         1050.42,\n",
       "                                                         1052.56,\n",
       "                                                         1055.94,\n",
       "                                                         1061.64,\n",
       "                                                         1084.5,\n",
       "                                                         1104.28,\n",
       "                                                         1124.94,\n",
       "                                                         1144.32,\n",
       "                                                         1442.94]),\n",
       "                                                       ('end_times',\n",
       "                                                        [350.98,\n",
       "                                                         391.94,\n",
       "                                                         425.08,\n",
       "                                                         440.92,\n",
       "                                                         447.08,\n",
       "                                                         462.78,\n",
       "                                                         480.72,\n",
       "                                                         501.14,\n",
       "                                                         518.5,\n",
       "                                                         527.92,\n",
       "                                                         541.22,\n",
       "                                                         554.46,\n",
       "                                                         557.4,\n",
       "                                                         571.58,\n",
       "                                                         574.08,\n",
       "                                                         579.48,\n",
       "                                                         582.52,\n",
       "                                                         592.7,\n",
       "                                                         607.48,\n",
       "                                                         618.72,\n",
       "                                                         636.24,\n",
       "                                                         655.66,\n",
       "                                                         691.0,\n",
       "                                                         709.5,\n",
       "                                                         725.4,\n",
       "                                                         740.94,\n",
       "                                                         765.46,\n",
       "                                                         767.42,\n",
       "                                                         770.84,\n",
       "                                                         780.62,\n",
       "                                                         784.64,\n",
       "                                                         804.82,\n",
       "                                                         806.5,\n",
       "                                                         818.04,\n",
       "                                                         828.64,\n",
       "                                                         831.56,\n",
       "                                                         848.24,\n",
       "                                                         866.36,\n",
       "                                                         889.28,\n",
       "                                                         907.04,\n",
       "                                                         919.3,\n",
       "                                                         924.2,\n",
       "                                                         941.48,\n",
       "                                                         953.1,\n",
       "                                                         967.84,\n",
       "                                                         970.6,\n",
       "                                                         982.5,\n",
       "                                                         995.12,\n",
       "                                                         1008.36,\n",
       "                                                         1012.84,\n",
       "                                                         1015.62,\n",
       "                                                         1021.04,\n",
       "                                                         1035.84,\n",
       "                                                         1044.48,\n",
       "                                                         1048.76,\n",
       "                                                         1051.92,\n",
       "                                                         1054.08,\n",
       "                                                         1057.34,\n",
       "                                                         1066.46,\n",
       "                                                         1089.08,\n",
       "                                                         1109.08,\n",
       "                                                         1129.58,\n",
       "                                                         1148.1,\n",
       "                                                         1443.44])]))]))]))])"
      ]
     },
     "execution_count": 10,
     "metadata": {},
     "output_type": "execute_result"
    }
   ],
   "source": [
    "dataset.sample_json"
   ]
  },
  {
   "cell_type": "code",
   "execution_count": null,
   "metadata": {
    "ExecuteTime": {
     "start_time": "2019-11-07T21:31:13.052Z"
    }
   },
   "outputs": [],
   "source": [
    "import librosa\n",
    "from vocalseg.utils import butter_bandpass_filter, spectrogram, int16tofloat32, plot_spec\n",
    "from vocalseg.dynamic_thresholding import dynamic_threshold_segmentation\n",
    "from PIL import Image\n",
    "from avgn.umap import umap_reduce\n",
    "import seaborn as sns"
   ]
  },
  {
   "cell_type": "code",
   "execution_count": null,
   "metadata": {
    "ExecuteTime": {
     "start_time": "2019-11-07T21:31:13.053Z"
    }
   },
   "outputs": [],
   "source": [
    "from itertools import islice\n",
    "\n",
    "def window(seq, n=2):\n",
    "    \"Returns a sliding window (of width n) over data from the iterable\"\n",
    "    \"   s -> (s0,s1,...s[n-1]), (s1,s2,...,sn), ...                   \"\n",
    "    it = iter(seq)\n",
    "    result = tuple(islice(it, n))\n",
    "    if len(result) == n:\n",
    "        yield result\n",
    "    for elem in it:\n",
    "        result = result[1:] + (elem,)\n",
    "        yield result"
   ]
  },
  {
   "cell_type": "code",
   "execution_count": null,
   "metadata": {
    "ExecuteTime": {
     "start_time": "2019-11-07T21:31:13.054Z"
    }
   },
   "outputs": [],
   "source": [
    "# for each wav, compute the spectrogram, break the spectrogram up into multiple segments, then project into PCA, then plot PCA projections over time"
   ]
  },
  {
   "cell_type": "code",
   "execution_count": null,
   "metadata": {
    "ExecuteTime": {
     "start_time": "2019-11-07T21:31:13.055Z"
    }
   },
   "outputs": [
    {
     "data": {
      "text/plain": [
       "array(['UNK'], dtype='<U3')"
      ]
     },
     "execution_count": 14,
     "metadata": {},
     "output_type": "execute_result"
    }
   ],
   "source": [
    "indvs = np.array([list(i)[0] for i in dataset.json_indv])\n",
    "np.unique(indvs)"
   ]
  },
  {
   "cell_type": "code",
   "execution_count": null,
   "metadata": {
    "ExecuteTime": {
     "start_time": "2019-11-07T21:31:13.056Z"
    }
   },
   "outputs": [],
   "source": [
    "indv = 'UNK' \n",
    "indv_keys = np.array(list(dataset.data_files.keys()))[indvs==indv]\n",
    "silence_thresh_seconds = 25"
   ]
  },
  {
   "cell_type": "code",
   "execution_count": null,
   "metadata": {
    "ExecuteTime": {
     "start_time": "2019-11-07T21:31:13.057Z"
    }
   },
   "outputs": [],
   "source": [
    "window_list = [200]\n",
    "window_length_ms = window_list[0]\n",
    "specs = []\n",
    "key_windows = {i:{} for i in window_list}"
   ]
  },
  {
   "cell_type": "code",
   "execution_count": null,
   "metadata": {
    "ExecuteTime": {
     "start_time": "2019-11-07T21:31:13.058Z"
    }
   },
   "outputs": [],
   "source": [
    "### for each key, get bouts with pauses > 10 seconds, save the windows from that bout, the key, the start and end time of the bout"
   ]
  },
  {
   "cell_type": "code",
   "execution_count": null,
   "metadata": {
    "ExecuteTime": {
     "start_time": "2019-11-07T21:31:13.059Z"
    }
   },
   "outputs": [],
   "source": [
    "from itertools import islice\n",
    "\n",
    "def window(seq, n=2, skip = 100):\n",
    "    \"Returns a sliding window (of width n) over data from the iterable\"\n",
    "    \"   s -> (s0,s1,...s[n-1]), (s1,s2,...,sn), ...                   \"\n",
    "    it = iter(seq)\n",
    "    result = tuple(islice(it, n))\n",
    "    if len(result) == n:\n",
    "        yield result\n",
    "    for elem in it:\n",
    "        result = result[1:] + (elem,)\n",
    "        yield result"
   ]
  },
  {
   "cell_type": "code",
   "execution_count": null,
   "metadata": {
    "ExecuteTime": {
     "start_time": "2019-11-07T21:31:13.062Z"
    },
    "scrolled": true
   },
   "outputs": [
    {
     "data": {
      "application/vnd.jupyter.widget-view+json": {
       "model_id": "6a892b515b25442fb647bdd6416307b2",
       "version_major": 2,
       "version_minor": 0
      },
      "text/plain": [
       "HBox(children=(IntProgress(value=0, max=128), HTML(value='')))"
      ]
     },
     "metadata": {},
     "output_type": "display_data"
    },
    {
     "name": "stderr",
     "output_type": "stream",
     "text": [
      "/mnt/cube/tsainbur/conda_envs/tpy3/lib/python3.6/site-packages/scipy/signal/signaltools.py:1344: FutureWarning: Using a non-tuple sequence for multidimensional indexing is deprecated; use `arr[tuple(seq)]` instead of `arr[seq]`. In the future this will be interpreted as an array index, `arr[np.array(seq)]`, which will result either in an error or a different result.\n",
      "  out = out_full[ind]\n",
      "/mnt/cube/tsainbur/Projects/github_repos/vocalization_segmentation/vocalseg/dynamic_thresholding.py:129: RuntimeWarning: invalid value encountered in sqrt\n",
      "  vocal_envelope = np.max(spec, axis=0) * np.sqrt(np.mean(spec, axis=0))\n",
      "Exception ignored in: <generator object tqdm_notebook.__iter__ at 0x7f933031c468>\n",
      "Traceback (most recent call last):\n",
      "  File \"/mnt/cube/tsainbur/conda_envs/tpy3/lib/python3.6/site-packages/tqdm/_tqdm_notebook.py\", line 226, in __iter__\n",
      "    self.sp(bar_style='danger')\n",
      "AttributeError: 'tqdm_notebook' object has no attribute 'sp'\n",
      "Exception ignored in: <generator object tqdm_notebook.__iter__ at 0x7f93300249e8>\n",
      "Traceback (most recent call last):\n",
      "  File \"/mnt/cube/tsainbur/conda_envs/tpy3/lib/python3.6/site-packages/tqdm/_tqdm_notebook.py\", line 226, in __iter__\n",
      "    self.sp(bar_style='danger')\n",
      "AttributeError: 'tqdm_notebook' object has no attribute 'sp'\n",
      "Exception ignored in: <generator object tqdm_notebook.__iter__ at 0x7f935c0e3780>\n",
      "Traceback (most recent call last):\n",
      "  File \"/mnt/cube/tsainbur/conda_envs/tpy3/lib/python3.6/site-packages/tqdm/_tqdm_notebook.py\", line 226, in __iter__\n",
      "    self.sp(bar_style='danger')\n",
      "AttributeError: 'tqdm_notebook' object has no attribute 'sp'\n",
      "Exception ignored in: <generator object tqdm_notebook.__iter__ at 0x7f9330024ba0>\n",
      "Traceback (most recent call last):\n",
      "  File \"/mnt/cube/tsainbur/conda_envs/tpy3/lib/python3.6/site-packages/tqdm/_tqdm_notebook.py\", line 226, in __iter__\n",
      "    self.sp(bar_style='danger')\n",
      "AttributeError: 'tqdm_notebook' object has no attribute 'sp'\n",
      "Exception ignored in: <generator object tqdm_notebook.__iter__ at 0x7f9330024ca8>\n",
      "Traceback (most recent call last):\n",
      "  File \"/mnt/cube/tsainbur/conda_envs/tpy3/lib/python3.6/site-packages/tqdm/_tqdm_notebook.py\", line 226, in __iter__\n",
      "    self.sp(bar_style='danger')\n",
      "AttributeError: 'tqdm_notebook' object has no attribute 'sp'\n",
      "Exception ignored in: <generator object tqdm_notebook.__iter__ at 0x7f9330024c50>\n",
      "Traceback (most recent call last):\n",
      "  File \"/mnt/cube/tsainbur/conda_envs/tpy3/lib/python3.6/site-packages/tqdm/_tqdm_notebook.py\", line 226, in __iter__\n",
      "    self.sp(bar_style='danger')\n",
      "AttributeError: 'tqdm_notebook' object has no attribute 'sp'\n",
      "Exception ignored in: <generator object tqdm_notebook.__iter__ at 0x7f9330024d00>\n",
      "Traceback (most recent call last):\n",
      "  File \"/mnt/cube/tsainbur/conda_envs/tpy3/lib/python3.6/site-packages/tqdm/_tqdm_notebook.py\", line 226, in __iter__\n",
      "    self.sp(bar_style='danger')\n",
      "AttributeError: 'tqdm_notebook' object has no attribute 'sp'\n",
      "Exception ignored in: <generator object tqdm_notebook.__iter__ at 0x7f9330024e08>\n",
      "Traceback (most recent call last):\n",
      "  File \"/mnt/cube/tsainbur/conda_envs/tpy3/lib/python3.6/site-packages/tqdm/_tqdm_notebook.py\", line 226, in __iter__\n",
      "    self.sp(bar_style='danger')\n",
      "AttributeError: 'tqdm_notebook' object has no attribute 'sp'\n",
      "Exception ignored in: <generator object tqdm_notebook.__iter__ at 0x7f9330024ca8>\n",
      "Traceback (most recent call last):\n",
      "  File \"/mnt/cube/tsainbur/conda_envs/tpy3/lib/python3.6/site-packages/tqdm/_tqdm_notebook.py\", line 226, in __iter__\n",
      "    self.sp(bar_style='danger')\n",
      "AttributeError: 'tqdm_notebook' object has no attribute 'sp'\n",
      "Exception ignored in: <generator object tqdm_notebook.__iter__ at 0x7f9454dc1990>\n",
      "Traceback (most recent call last):\n",
      "  File \"/mnt/cube/tsainbur/conda_envs/tpy3/lib/python3.6/site-packages/tqdm/_tqdm_notebook.py\", line 226, in __iter__\n",
      "    self.sp(bar_style='danger')\n",
      "AttributeError: 'tqdm_notebook' object has no attribute 'sp'\n",
      "Exception ignored in: <generator object tqdm_notebook.__iter__ at 0x7f9454dc12b0>\n",
      "Traceback (most recent call last):\n",
      "  File \"/mnt/cube/tsainbur/conda_envs/tpy3/lib/python3.6/site-packages/tqdm/_tqdm_notebook.py\", line 226, in __iter__\n",
      "    self.sp(bar_style='danger')\n",
      "AttributeError: 'tqdm_notebook' object has no attribute 'sp'\n",
      "Exception ignored in: <generator object tqdm_notebook.__iter__ at 0x7f9454dc10f8>\n",
      "Traceback (most recent call last):\n",
      "  File \"/mnt/cube/tsainbur/conda_envs/tpy3/lib/python3.6/site-packages/tqdm/_tqdm_notebook.py\", line 226, in __iter__\n",
      "    self.sp(bar_style='danger')\n",
      "AttributeError: 'tqdm_notebook' object has no attribute 'sp'\n",
      "Exception ignored in: <generator object tqdm_notebook.__iter__ at 0x7f9454dc1a98>\n",
      "Traceback (most recent call last):\n",
      "  File \"/mnt/cube/tsainbur/conda_envs/tpy3/lib/python3.6/site-packages/tqdm/_tqdm_notebook.py\", line 226, in __iter__\n",
      "    self.sp(bar_style='danger')\n",
      "AttributeError: 'tqdm_notebook' object has no attribute 'sp'\n",
      "Exception ignored in: <generator object tqdm_notebook.__iter__ at 0x7f9454dc10f8>\n",
      "Traceback (most recent call last):\n",
      "  File \"/mnt/cube/tsainbur/conda_envs/tpy3/lib/python3.6/site-packages/tqdm/_tqdm_notebook.py\", line 226, in __iter__\n",
      "    self.sp(bar_style='danger')\n",
      "AttributeError: 'tqdm_notebook' object has no attribute 'sp'\n",
      "Exception ignored in: <generator object tqdm_notebook.__iter__ at 0x7f9454dc1ba0>\n",
      "Traceback (most recent call last):\n",
      "  File \"/mnt/cube/tsainbur/conda_envs/tpy3/lib/python3.6/site-packages/tqdm/_tqdm_notebook.py\", line 226, in __iter__\n",
      "    self.sp(bar_style='danger')\n",
      "AttributeError: 'tqdm_notebook' object has no attribute 'sp'\n",
      "Exception ignored in: <generator object tqdm_notebook.__iter__ at 0x7f9454dc1150>\n",
      "Traceback (most recent call last):\n",
      "  File \"/mnt/cube/tsainbur/conda_envs/tpy3/lib/python3.6/site-packages/tqdm/_tqdm_notebook.py\", line 226, in __iter__\n",
      "    self.sp(bar_style='danger')\n",
      "AttributeError: 'tqdm_notebook' object has no attribute 'sp'\n",
      "Exception ignored in: <generator object tqdm_notebook.__iter__ at 0x7f9454dc10a0>\n",
      "Traceback (most recent call last):\n",
      "  File \"/mnt/cube/tsainbur/conda_envs/tpy3/lib/python3.6/site-packages/tqdm/_tqdm_notebook.py\", line 226, in __iter__\n",
      "    self.sp(bar_style='danger')\n",
      "AttributeError: 'tqdm_notebook' object has no attribute 'sp'\n",
      "Exception ignored in: <generator object tqdm_notebook.__iter__ at 0x7f9454d92db0>\n",
      "Traceback (most recent call last):\n",
      "  File \"/mnt/cube/tsainbur/conda_envs/tpy3/lib/python3.6/site-packages/tqdm/_tqdm_notebook.py\", line 226, in __iter__\n",
      "    self.sp(bar_style='danger')\n",
      "AttributeError: 'tqdm_notebook' object has no attribute 'sp'\n",
      "Exception ignored in: <generator object tqdm_notebook.__iter__ at 0x7f9454d92fc0>\n",
      "Traceback (most recent call last):\n",
      "  File \"/mnt/cube/tsainbur/conda_envs/tpy3/lib/python3.6/site-packages/tqdm/_tqdm_notebook.py\", line 226, in __iter__\n",
      "    self.sp(bar_style='danger')\n",
      "AttributeError: 'tqdm_notebook' object has no attribute 'sp'\n",
      "Exception ignored in: <generator object tqdm_notebook.__iter__ at 0x7f9454d92fc0>\n",
      "Traceback (most recent call last):\n",
      "  File \"/mnt/cube/tsainbur/conda_envs/tpy3/lib/python3.6/site-packages/tqdm/_tqdm_notebook.py\", line 226, in __iter__\n",
      "    self.sp(bar_style='danger')\n",
      "AttributeError: 'tqdm_notebook' object has no attribute 'sp'\n",
      "Exception ignored in: <generator object tqdm_notebook.__iter__ at 0x7f9454d929e8>\n",
      "Traceback (most recent call last):\n",
      "  File \"/mnt/cube/tsainbur/conda_envs/tpy3/lib/python3.6/site-packages/tqdm/_tqdm_notebook.py\", line 226, in __iter__\n",
      "    self.sp(bar_style='danger')\n",
      "AttributeError: 'tqdm_notebook' object has no attribute 'sp'\n",
      "Exception ignored in: <generator object tqdm_notebook.__iter__ at 0x7f9454d92af0>\n",
      "Traceback (most recent call last):\n",
      "  File \"/mnt/cube/tsainbur/conda_envs/tpy3/lib/python3.6/site-packages/tqdm/_tqdm_notebook.py\", line 226, in __iter__\n",
      "    self.sp(bar_style='danger')\n",
      "AttributeError: 'tqdm_notebook' object has no attribute 'sp'\n",
      "Exception ignored in: <generator object tqdm_notebook.__iter__ at 0x7f9454d92fc0>\n",
      "Traceback (most recent call last):\n",
      "  File \"/mnt/cube/tsainbur/conda_envs/tpy3/lib/python3.6/site-packages/tqdm/_tqdm_notebook.py\", line 226, in __iter__\n",
      "    self.sp(bar_style='danger')\n",
      "AttributeError: 'tqdm_notebook' object has no attribute 'sp'\n",
      "Exception ignored in: <generator object tqdm_notebook.__iter__ at 0x7f9330024ca8>\n",
      "Traceback (most recent call last):\n",
      "  File \"/mnt/cube/tsainbur/conda_envs/tpy3/lib/python3.6/site-packages/tqdm/_tqdm_notebook.py\", line 226, in __iter__\n",
      "    self.sp(bar_style='danger')\n",
      "AttributeError: 'tqdm_notebook' object has no attribute 'sp'\n"
     ]
    },
    {
     "name": "stderr",
     "output_type": "stream",
     "text": [
      "Exception ignored in: <generator object tqdm_notebook.__iter__ at 0x7f9330024eb8>\n",
      "Traceback (most recent call last):\n",
      "  File \"/mnt/cube/tsainbur/conda_envs/tpy3/lib/python3.6/site-packages/tqdm/_tqdm_notebook.py\", line 226, in __iter__\n",
      "    self.sp(bar_style='danger')\n",
      "AttributeError: 'tqdm_notebook' object has no attribute 'sp'\n",
      "Exception ignored in: <generator object tqdm_notebook.__iter__ at 0x7f9330024c50>\n",
      "Traceback (most recent call last):\n",
      "  File \"/mnt/cube/tsainbur/conda_envs/tpy3/lib/python3.6/site-packages/tqdm/_tqdm_notebook.py\", line 226, in __iter__\n",
      "    self.sp(bar_style='danger')\n",
      "AttributeError: 'tqdm_notebook' object has no attribute 'sp'\n",
      "Exception ignored in: <generator object tqdm_notebook.__iter__ at 0x7f93300542b0>\n",
      "Traceback (most recent call last):\n",
      "  File \"/mnt/cube/tsainbur/conda_envs/tpy3/lib/python3.6/site-packages/tqdm/_tqdm_notebook.py\", line 226, in __iter__\n",
      "    self.sp(bar_style='danger')\n",
      "AttributeError: 'tqdm_notebook' object has no attribute 'sp'\n",
      "Exception ignored in: <generator object tqdm_notebook.__iter__ at 0x7f9330054200>\n",
      "Traceback (most recent call last):\n",
      "  File \"/mnt/cube/tsainbur/conda_envs/tpy3/lib/python3.6/site-packages/tqdm/_tqdm_notebook.py\", line 226, in __iter__\n",
      "    self.sp(bar_style='danger')\n",
      "AttributeError: 'tqdm_notebook' object has no attribute 'sp'\n",
      "Exception ignored in: <generator object tqdm_notebook.__iter__ at 0x7f9330054410>\n",
      "Traceback (most recent call last):\n",
      "  File \"/mnt/cube/tsainbur/conda_envs/tpy3/lib/python3.6/site-packages/tqdm/_tqdm_notebook.py\", line 226, in __iter__\n",
      "    self.sp(bar_style='danger')\n",
      "AttributeError: 'tqdm_notebook' object has no attribute 'sp'\n",
      "Exception ignored in: <generator object tqdm_notebook.__iter__ at 0x7f93300540f8>\n",
      "Traceback (most recent call last):\n",
      "  File \"/mnt/cube/tsainbur/conda_envs/tpy3/lib/python3.6/site-packages/tqdm/_tqdm_notebook.py\", line 226, in __iter__\n",
      "    self.sp(bar_style='danger')\n",
      "AttributeError: 'tqdm_notebook' object has no attribute 'sp'\n",
      "Exception ignored in: <generator object tqdm_notebook.__iter__ at 0x7f9330054360>\n",
      "Traceback (most recent call last):\n",
      "  File \"/mnt/cube/tsainbur/conda_envs/tpy3/lib/python3.6/site-packages/tqdm/_tqdm_notebook.py\", line 226, in __iter__\n",
      "    self.sp(bar_style='danger')\n",
      "AttributeError: 'tqdm_notebook' object has no attribute 'sp'\n",
      "Exception ignored in: <generator object tqdm_notebook.__iter__ at 0x7f9330054410>\n",
      "Traceback (most recent call last):\n",
      "  File \"/mnt/cube/tsainbur/conda_envs/tpy3/lib/python3.6/site-packages/tqdm/_tqdm_notebook.py\", line 226, in __iter__\n",
      "    self.sp(bar_style='danger')\n",
      "AttributeError: 'tqdm_notebook' object has no attribute 'sp'\n",
      "Exception ignored in: <generator object tqdm_notebook.__iter__ at 0x7f93300545c8>\n",
      "Traceback (most recent call last):\n",
      "  File \"/mnt/cube/tsainbur/conda_envs/tpy3/lib/python3.6/site-packages/tqdm/_tqdm_notebook.py\", line 226, in __iter__\n",
      "    self.sp(bar_style='danger')\n",
      "AttributeError: 'tqdm_notebook' object has no attribute 'sp'\n",
      "Exception ignored in: <generator object tqdm_notebook.__iter__ at 0x7f93300549e8>\n",
      "Traceback (most recent call last):\n",
      "  File \"/mnt/cube/tsainbur/conda_envs/tpy3/lib/python3.6/site-packages/tqdm/_tqdm_notebook.py\", line 226, in __iter__\n",
      "    self.sp(bar_style='danger')\n",
      "AttributeError: 'tqdm_notebook' object has no attribute 'sp'\n",
      "Exception ignored in: <generator object tqdm_notebook.__iter__ at 0x7f93300549e8>\n",
      "Traceback (most recent call last):\n",
      "  File \"/mnt/cube/tsainbur/conda_envs/tpy3/lib/python3.6/site-packages/tqdm/_tqdm_notebook.py\", line 226, in __iter__\n",
      "    self.sp(bar_style='danger')\n",
      "AttributeError: 'tqdm_notebook' object has no attribute 'sp'\n",
      "Exception ignored in: <generator object tqdm_notebook.__iter__ at 0x7f9330054bf8>\n",
      "Traceback (most recent call last):\n",
      "  File \"/mnt/cube/tsainbur/conda_envs/tpy3/lib/python3.6/site-packages/tqdm/_tqdm_notebook.py\", line 226, in __iter__\n",
      "    self.sp(bar_style='danger')\n",
      "AttributeError: 'tqdm_notebook' object has no attribute 'sp'\n",
      "Exception ignored in: <generator object tqdm_notebook.__iter__ at 0x7f9330054ba0>\n",
      "Traceback (most recent call last):\n",
      "  File \"/mnt/cube/tsainbur/conda_envs/tpy3/lib/python3.6/site-packages/tqdm/_tqdm_notebook.py\", line 226, in __iter__\n",
      "    self.sp(bar_style='danger')\n",
      "AttributeError: 'tqdm_notebook' object has no attribute 'sp'\n",
      "Exception ignored in: <generator object tqdm_notebook.__iter__ at 0x7f9330054728>\n",
      "Traceback (most recent call last):\n",
      "  File \"/mnt/cube/tsainbur/conda_envs/tpy3/lib/python3.6/site-packages/tqdm/_tqdm_notebook.py\", line 226, in __iter__\n",
      "    self.sp(bar_style='danger')\n",
      "AttributeError: 'tqdm_notebook' object has no attribute 'sp'\n",
      "Exception ignored in: <generator object tqdm_notebook.__iter__ at 0x7f9330054f10>\n",
      "Traceback (most recent call last):\n",
      "  File \"/mnt/cube/tsainbur/conda_envs/tpy3/lib/python3.6/site-packages/tqdm/_tqdm_notebook.py\", line 226, in __iter__\n",
      "    self.sp(bar_style='danger')\n",
      "AttributeError: 'tqdm_notebook' object has no attribute 'sp'\n",
      "Exception ignored in: <generator object tqdm_notebook.__iter__ at 0x7f9330054728>\n",
      "Traceback (most recent call last):\n",
      "  File \"/mnt/cube/tsainbur/conda_envs/tpy3/lib/python3.6/site-packages/tqdm/_tqdm_notebook.py\", line 226, in __iter__\n",
      "    self.sp(bar_style='danger')\n",
      "AttributeError: 'tqdm_notebook' object has no attribute 'sp'\n",
      "Exception ignored in: <generator object tqdm_notebook.__iter__ at 0x7f93300581a8>\n",
      "Traceback (most recent call last):\n",
      "  File \"/mnt/cube/tsainbur/conda_envs/tpy3/lib/python3.6/site-packages/tqdm/_tqdm_notebook.py\", line 226, in __iter__\n",
      "    self.sp(bar_style='danger')\n",
      "AttributeError: 'tqdm_notebook' object has no attribute 'sp'\n",
      "Exception ignored in: <generator object tqdm_notebook.__iter__ at 0x7f9330054f68>\n",
      "Traceback (most recent call last):\n",
      "  File \"/mnt/cube/tsainbur/conda_envs/tpy3/lib/python3.6/site-packages/tqdm/_tqdm_notebook.py\", line 226, in __iter__\n",
      "    self.sp(bar_style='danger')\n",
      "AttributeError: 'tqdm_notebook' object has no attribute 'sp'\n",
      "Exception ignored in: <generator object tqdm_notebook.__iter__ at 0x7f93300580a0>\n",
      "Traceback (most recent call last):\n",
      "  File \"/mnt/cube/tsainbur/conda_envs/tpy3/lib/python3.6/site-packages/tqdm/_tqdm_notebook.py\", line 226, in __iter__\n",
      "    self.sp(bar_style='danger')\n",
      "AttributeError: 'tqdm_notebook' object has no attribute 'sp'\n",
      "Exception ignored in: <generator object tqdm_notebook.__iter__ at 0x7f9330054f68>\n",
      "Traceback (most recent call last):\n",
      "  File \"/mnt/cube/tsainbur/conda_envs/tpy3/lib/python3.6/site-packages/tqdm/_tqdm_notebook.py\", line 226, in __iter__\n",
      "    self.sp(bar_style='danger')\n",
      "AttributeError: 'tqdm_notebook' object has no attribute 'sp'\n",
      "Exception ignored in: <generator object tqdm_notebook.__iter__ at 0x7f93300580a0>\n",
      "Traceback (most recent call last):\n",
      "  File \"/mnt/cube/tsainbur/conda_envs/tpy3/lib/python3.6/site-packages/tqdm/_tqdm_notebook.py\", line 226, in __iter__\n",
      "    self.sp(bar_style='danger')\n",
      "AttributeError: 'tqdm_notebook' object has no attribute 'sp'\n",
      "Exception ignored in: <generator object tqdm_notebook.__iter__ at 0x7f93300584c0>\n",
      "Traceback (most recent call last):\n",
      "  File \"/mnt/cube/tsainbur/conda_envs/tpy3/lib/python3.6/site-packages/tqdm/_tqdm_notebook.py\", line 226, in __iter__\n",
      "    self.sp(bar_style='danger')\n",
      "AttributeError: 'tqdm_notebook' object has no attribute 'sp'\n",
      "Exception ignored in: <generator object tqdm_notebook.__iter__ at 0x7f9330058518>\n",
      "Traceback (most recent call last):\n",
      "  File \"/mnt/cube/tsainbur/conda_envs/tpy3/lib/python3.6/site-packages/tqdm/_tqdm_notebook.py\", line 226, in __iter__\n",
      "    self.sp(bar_style='danger')\n",
      "AttributeError: 'tqdm_notebook' object has no attribute 'sp'\n",
      "Exception ignored in: <generator object tqdm_notebook.__iter__ at 0x7f93300584c0>\n",
      "Traceback (most recent call last):\n",
      "  File \"/mnt/cube/tsainbur/conda_envs/tpy3/lib/python3.6/site-packages/tqdm/_tqdm_notebook.py\", line 226, in __iter__\n",
      "    self.sp(bar_style='danger')\n",
      "AttributeError: 'tqdm_notebook' object has no attribute 'sp'\n",
      "Exception ignored in: <generator object tqdm_notebook.__iter__ at 0x7f93300582b0>\n",
      "Traceback (most recent call last):\n",
      "  File \"/mnt/cube/tsainbur/conda_envs/tpy3/lib/python3.6/site-packages/tqdm/_tqdm_notebook.py\", line 226, in __iter__\n",
      "    self.sp(bar_style='danger')\n",
      "AttributeError: 'tqdm_notebook' object has no attribute 'sp'\n"
     ]
    },
    {
     "name": "stderr",
     "output_type": "stream",
     "text": [
      "Exception ignored in: <generator object tqdm_notebook.__iter__ at 0x7f93300584c0>\n",
      "Traceback (most recent call last):\n",
      "  File \"/mnt/cube/tsainbur/conda_envs/tpy3/lib/python3.6/site-packages/tqdm/_tqdm_notebook.py\", line 226, in __iter__\n",
      "    self.sp(bar_style='danger')\n",
      "AttributeError: 'tqdm_notebook' object has no attribute 'sp'\n",
      "Exception ignored in: <generator object tqdm_notebook.__iter__ at 0x7f9330058258>\n",
      "Traceback (most recent call last):\n",
      "  File \"/mnt/cube/tsainbur/conda_envs/tpy3/lib/python3.6/site-packages/tqdm/_tqdm_notebook.py\", line 226, in __iter__\n",
      "    self.sp(bar_style='danger')\n",
      "AttributeError: 'tqdm_notebook' object has no attribute 'sp'\n",
      "Exception ignored in: <generator object tqdm_notebook.__iter__ at 0x7f93300584c0>\n",
      "Traceback (most recent call last):\n",
      "  File \"/mnt/cube/tsainbur/conda_envs/tpy3/lib/python3.6/site-packages/tqdm/_tqdm_notebook.py\", line 226, in __iter__\n",
      "    self.sp(bar_style='danger')\n",
      "AttributeError: 'tqdm_notebook' object has no attribute 'sp'\n",
      "Exception ignored in: <generator object tqdm_notebook.__iter__ at 0x7f9330058780>\n",
      "Traceback (most recent call last):\n",
      "  File \"/mnt/cube/tsainbur/conda_envs/tpy3/lib/python3.6/site-packages/tqdm/_tqdm_notebook.py\", line 226, in __iter__\n",
      "    self.sp(bar_style='danger')\n",
      "AttributeError: 'tqdm_notebook' object has no attribute 'sp'\n",
      "Exception ignored in: <generator object tqdm_notebook.__iter__ at 0x7f9330058258>\n",
      "Traceback (most recent call last):\n",
      "  File \"/mnt/cube/tsainbur/conda_envs/tpy3/lib/python3.6/site-packages/tqdm/_tqdm_notebook.py\", line 226, in __iter__\n",
      "    self.sp(bar_style='danger')\n",
      "AttributeError: 'tqdm_notebook' object has no attribute 'sp'\n",
      "Exception ignored in: <generator object tqdm_notebook.__iter__ at 0x7f9330058938>\n",
      "Traceback (most recent call last):\n",
      "  File \"/mnt/cube/tsainbur/conda_envs/tpy3/lib/python3.6/site-packages/tqdm/_tqdm_notebook.py\", line 226, in __iter__\n",
      "    self.sp(bar_style='danger')\n",
      "AttributeError: 'tqdm_notebook' object has no attribute 'sp'\n",
      "Exception ignored in: <generator object tqdm_notebook.__iter__ at 0x7f9330058a98>\n",
      "Traceback (most recent call last):\n",
      "  File \"/mnt/cube/tsainbur/conda_envs/tpy3/lib/python3.6/site-packages/tqdm/_tqdm_notebook.py\", line 226, in __iter__\n",
      "    self.sp(bar_style='danger')\n",
      "AttributeError: 'tqdm_notebook' object has no attribute 'sp'\n",
      "Exception ignored in: <generator object tqdm_notebook.__iter__ at 0x7f93300589e8>\n",
      "Traceback (most recent call last):\n",
      "  File \"/mnt/cube/tsainbur/conda_envs/tpy3/lib/python3.6/site-packages/tqdm/_tqdm_notebook.py\", line 226, in __iter__\n",
      "    self.sp(bar_style='danger')\n",
      "AttributeError: 'tqdm_notebook' object has no attribute 'sp'\n",
      "Exception ignored in: <generator object tqdm_notebook.__iter__ at 0x7f9330058bf8>\n",
      "Traceback (most recent call last):\n",
      "  File \"/mnt/cube/tsainbur/conda_envs/tpy3/lib/python3.6/site-packages/tqdm/_tqdm_notebook.py\", line 226, in __iter__\n",
      "    self.sp(bar_style='danger')\n",
      "AttributeError: 'tqdm_notebook' object has no attribute 'sp'\n",
      "Exception ignored in: <generator object tqdm_notebook.__iter__ at 0x7f9330058b48>\n",
      "Traceback (most recent call last):\n",
      "  File \"/mnt/cube/tsainbur/conda_envs/tpy3/lib/python3.6/site-packages/tqdm/_tqdm_notebook.py\", line 226, in __iter__\n",
      "    self.sp(bar_style='danger')\n",
      "AttributeError: 'tqdm_notebook' object has no attribute 'sp'\n",
      "Exception ignored in: <generator object tqdm_notebook.__iter__ at 0x7f9330058d00>\n",
      "Traceback (most recent call last):\n",
      "  File \"/mnt/cube/tsainbur/conda_envs/tpy3/lib/python3.6/site-packages/tqdm/_tqdm_notebook.py\", line 226, in __iter__\n",
      "    self.sp(bar_style='danger')\n",
      "AttributeError: 'tqdm_notebook' object has no attribute 'sp'\n",
      "Exception ignored in: <generator object tqdm_notebook.__iter__ at 0x7f9330058c50>\n",
      "Traceback (most recent call last):\n",
      "  File \"/mnt/cube/tsainbur/conda_envs/tpy3/lib/python3.6/site-packages/tqdm/_tqdm_notebook.py\", line 226, in __iter__\n",
      "    self.sp(bar_style='danger')\n",
      "AttributeError: 'tqdm_notebook' object has no attribute 'sp'\n",
      "Exception ignored in: <generator object tqdm_notebook.__iter__ at 0x7f9330058d00>\n",
      "Traceback (most recent call last):\n",
      "  File \"/mnt/cube/tsainbur/conda_envs/tpy3/lib/python3.6/site-packages/tqdm/_tqdm_notebook.py\", line 226, in __iter__\n",
      "    self.sp(bar_style='danger')\n",
      "AttributeError: 'tqdm_notebook' object has no attribute 'sp'\n",
      "Exception ignored in: <generator object tqdm_notebook.__iter__ at 0x7f9330058f10>\n",
      "Traceback (most recent call last):\n",
      "  File \"/mnt/cube/tsainbur/conda_envs/tpy3/lib/python3.6/site-packages/tqdm/_tqdm_notebook.py\", line 226, in __iter__\n",
      "    self.sp(bar_style='danger')\n",
      "AttributeError: 'tqdm_notebook' object has no attribute 'sp'\n",
      "Exception ignored in: <generator object tqdm_notebook.__iter__ at 0x7f9330058e60>\n",
      "Traceback (most recent call last):\n",
      "  File \"/mnt/cube/tsainbur/conda_envs/tpy3/lib/python3.6/site-packages/tqdm/_tqdm_notebook.py\", line 226, in __iter__\n",
      "    self.sp(bar_style='danger')\n",
      "AttributeError: 'tqdm_notebook' object has no attribute 'sp'\n",
      "Exception ignored in: <generator object tqdm_notebook.__iter__ at 0x7f93103d0150>\n",
      "Traceback (most recent call last):\n",
      "  File \"/mnt/cube/tsainbur/conda_envs/tpy3/lib/python3.6/site-packages/tqdm/_tqdm_notebook.py\", line 226, in __iter__\n",
      "    self.sp(bar_style='danger')\n",
      "AttributeError: 'tqdm_notebook' object has no attribute 'sp'\n",
      "Exception ignored in: <generator object tqdm_notebook.__iter__ at 0x7f93103d00a0>\n",
      "Traceback (most recent call last):\n",
      "  File \"/mnt/cube/tsainbur/conda_envs/tpy3/lib/python3.6/site-packages/tqdm/_tqdm_notebook.py\", line 226, in __iter__\n",
      "    self.sp(bar_style='danger')\n",
      "AttributeError: 'tqdm_notebook' object has no attribute 'sp'\n",
      "Exception ignored in: <generator object tqdm_notebook.__iter__ at 0x7f93103d00f8>\n",
      "Traceback (most recent call last):\n",
      "  File \"/mnt/cube/tsainbur/conda_envs/tpy3/lib/python3.6/site-packages/tqdm/_tqdm_notebook.py\", line 226, in __iter__\n",
      "    self.sp(bar_style='danger')\n",
      "AttributeError: 'tqdm_notebook' object has no attribute 'sp'\n",
      "Exception ignored in: <generator object tqdm_notebook.__iter__ at 0x7f93103d02b0>\n",
      "Traceback (most recent call last):\n",
      "  File \"/mnt/cube/tsainbur/conda_envs/tpy3/lib/python3.6/site-packages/tqdm/_tqdm_notebook.py\", line 226, in __iter__\n",
      "    self.sp(bar_style='danger')\n",
      "AttributeError: 'tqdm_notebook' object has no attribute 'sp'\n",
      "Exception ignored in: <generator object tqdm_notebook.__iter__ at 0x7f93103d01a8>\n",
      "Traceback (most recent call last):\n",
      "  File \"/mnt/cube/tsainbur/conda_envs/tpy3/lib/python3.6/site-packages/tqdm/_tqdm_notebook.py\", line 226, in __iter__\n",
      "    self.sp(bar_style='danger')\n",
      "AttributeError: 'tqdm_notebook' object has no attribute 'sp'\n",
      "Exception ignored in: <generator object tqdm_notebook.__iter__ at 0x7f93103d0360>\n",
      "Traceback (most recent call last):\n",
      "  File \"/mnt/cube/tsainbur/conda_envs/tpy3/lib/python3.6/site-packages/tqdm/_tqdm_notebook.py\", line 226, in __iter__\n",
      "    self.sp(bar_style='danger')\n",
      "AttributeError: 'tqdm_notebook' object has no attribute 'sp'\n",
      "Exception ignored in: <generator object tqdm_notebook.__iter__ at 0x7f93103d00f8>\n",
      "Traceback (most recent call last):\n",
      "  File \"/mnt/cube/tsainbur/conda_envs/tpy3/lib/python3.6/site-packages/tqdm/_tqdm_notebook.py\", line 226, in __iter__\n",
      "    self.sp(bar_style='danger')\n",
      "AttributeError: 'tqdm_notebook' object has no attribute 'sp'\n",
      "Exception ignored in: <generator object tqdm_notebook.__iter__ at 0x7f93103d02b0>\n",
      "Traceback (most recent call last):\n",
      "  File \"/mnt/cube/tsainbur/conda_envs/tpy3/lib/python3.6/site-packages/tqdm/_tqdm_notebook.py\", line 226, in __iter__\n",
      "    self.sp(bar_style='danger')\n",
      "AttributeError: 'tqdm_notebook' object has no attribute 'sp'\n",
      "Exception ignored in: <generator object tqdm_notebook.__iter__ at 0x7f93103d0678>\n",
      "Traceback (most recent call last):\n",
      "  File \"/mnt/cube/tsainbur/conda_envs/tpy3/lib/python3.6/site-packages/tqdm/_tqdm_notebook.py\", line 226, in __iter__\n",
      "    self.sp(bar_style='danger')\n",
      "AttributeError: 'tqdm_notebook' object has no attribute 'sp'\n",
      "Exception ignored in: <generator object tqdm_notebook.__iter__ at 0x7f93103d07d8>\n",
      "Traceback (most recent call last):\n",
      "  File \"/mnt/cube/tsainbur/conda_envs/tpy3/lib/python3.6/site-packages/tqdm/_tqdm_notebook.py\", line 226, in __iter__\n",
      "    self.sp(bar_style='danger')\n",
      "AttributeError: 'tqdm_notebook' object has no attribute 'sp'\n"
     ]
    },
    {
     "name": "stderr",
     "output_type": "stream",
     "text": [
      "Exception ignored in: <generator object tqdm_notebook.__iter__ at 0x7f93103d05c8>\n",
      "Traceback (most recent call last):\n",
      "  File \"/mnt/cube/tsainbur/conda_envs/tpy3/lib/python3.6/site-packages/tqdm/_tqdm_notebook.py\", line 226, in __iter__\n",
      "    self.sp(bar_style='danger')\n",
      "AttributeError: 'tqdm_notebook' object has no attribute 'sp'\n",
      "Exception ignored in: <generator object tqdm_notebook.__iter__ at 0x7f93103d0990>\n",
      "Traceback (most recent call last):\n",
      "  File \"/mnt/cube/tsainbur/conda_envs/tpy3/lib/python3.6/site-packages/tqdm/_tqdm_notebook.py\", line 226, in __iter__\n",
      "    self.sp(bar_style='danger')\n",
      "AttributeError: 'tqdm_notebook' object has no attribute 'sp'\n",
      "Exception ignored in: <generator object tqdm_notebook.__iter__ at 0x7f93103d0ba0>\n",
      "Traceback (most recent call last):\n",
      "  File \"/mnt/cube/tsainbur/conda_envs/tpy3/lib/python3.6/site-packages/tqdm/_tqdm_notebook.py\", line 226, in __iter__\n",
      "    self.sp(bar_style='danger')\n",
      "AttributeError: 'tqdm_notebook' object has no attribute 'sp'\n",
      "Exception ignored in: <generator object tqdm_notebook.__iter__ at 0x7f93103d0830>\n",
      "Traceback (most recent call last):\n",
      "  File \"/mnt/cube/tsainbur/conda_envs/tpy3/lib/python3.6/site-packages/tqdm/_tqdm_notebook.py\", line 226, in __iter__\n",
      "    self.sp(bar_style='danger')\n",
      "AttributeError: 'tqdm_notebook' object has no attribute 'sp'\n",
      "Exception ignored in: <generator object tqdm_notebook.__iter__ at 0x7f93103d0bf8>\n",
      "Traceback (most recent call last):\n",
      "  File \"/mnt/cube/tsainbur/conda_envs/tpy3/lib/python3.6/site-packages/tqdm/_tqdm_notebook.py\", line 226, in __iter__\n",
      "    self.sp(bar_style='danger')\n",
      "AttributeError: 'tqdm_notebook' object has no attribute 'sp'\n",
      "Exception ignored in: <generator object tqdm_notebook.__iter__ at 0x7f93103d0ba0>\n",
      "Traceback (most recent call last):\n",
      "  File \"/mnt/cube/tsainbur/conda_envs/tpy3/lib/python3.6/site-packages/tqdm/_tqdm_notebook.py\", line 226, in __iter__\n",
      "    self.sp(bar_style='danger')\n",
      "AttributeError: 'tqdm_notebook' object has no attribute 'sp'\n",
      "Exception ignored in: <generator object tqdm_notebook.__iter__ at 0x7f93103d0eb8>\n",
      "Traceback (most recent call last):\n",
      "  File \"/mnt/cube/tsainbur/conda_envs/tpy3/lib/python3.6/site-packages/tqdm/_tqdm_notebook.py\", line 226, in __iter__\n",
      "    self.sp(bar_style='danger')\n",
      "AttributeError: 'tqdm_notebook' object has no attribute 'sp'\n",
      "Exception ignored in: <generator object tqdm_notebook.__iter__ at 0x7f93103d0e60>\n",
      "Traceback (most recent call last):\n",
      "  File \"/mnt/cube/tsainbur/conda_envs/tpy3/lib/python3.6/site-packages/tqdm/_tqdm_notebook.py\", line 226, in __iter__\n",
      "    self.sp(bar_style='danger')\n",
      "AttributeError: 'tqdm_notebook' object has no attribute 'sp'\n",
      "Exception ignored in: <generator object tqdm_notebook.__iter__ at 0x7f93103e4150>\n",
      "Traceback (most recent call last):\n",
      "  File \"/mnt/cube/tsainbur/conda_envs/tpy3/lib/python3.6/site-packages/tqdm/_tqdm_notebook.py\", line 226, in __iter__\n",
      "    self.sp(bar_style='danger')\n",
      "AttributeError: 'tqdm_notebook' object has no attribute 'sp'\n",
      "Exception ignored in: <generator object tqdm_notebook.__iter__ at 0x7f93103e51a8>\n",
      "Traceback (most recent call last):\n",
      "  File \"/mnt/cube/tsainbur/conda_envs/tpy3/lib/python3.6/site-packages/tqdm/_tqdm_notebook.py\", line 226, in __iter__\n",
      "    self.sp(bar_style='danger')\n",
      "AttributeError: 'tqdm_notebook' object has no attribute 'sp'\n",
      "Exception ignored in: <generator object tqdm_notebook.__iter__ at 0x7f93103e5150>\n",
      "Traceback (most recent call last):\n",
      "  File \"/mnt/cube/tsainbur/conda_envs/tpy3/lib/python3.6/site-packages/tqdm/_tqdm_notebook.py\", line 226, in __iter__\n",
      "    self.sp(bar_style='danger')\n",
      "AttributeError: 'tqdm_notebook' object has no attribute 'sp'\n",
      "Exception ignored in: <generator object tqdm_notebook.__iter__ at 0x7f93103e5518>\n",
      "Traceback (most recent call last):\n",
      "  File \"/mnt/cube/tsainbur/conda_envs/tpy3/lib/python3.6/site-packages/tqdm/_tqdm_notebook.py\", line 226, in __iter__\n",
      "    self.sp(bar_style='danger')\n",
      "AttributeError: 'tqdm_notebook' object has no attribute 'sp'\n",
      "Exception ignored in: <generator object tqdm_notebook.__iter__ at 0x7f93103e5570>\n",
      "Traceback (most recent call last):\n",
      "  File \"/mnt/cube/tsainbur/conda_envs/tpy3/lib/python3.6/site-packages/tqdm/_tqdm_notebook.py\", line 226, in __iter__\n",
      "    self.sp(bar_style='danger')\n",
      "AttributeError: 'tqdm_notebook' object has no attribute 'sp'\n",
      "Exception ignored in: <generator object tqdm_notebook.__iter__ at 0x7f93103e54c0>\n",
      "Traceback (most recent call last):\n",
      "  File \"/mnt/cube/tsainbur/conda_envs/tpy3/lib/python3.6/site-packages/tqdm/_tqdm_notebook.py\", line 226, in __iter__\n",
      "    self.sp(bar_style='danger')\n",
      "AttributeError: 'tqdm_notebook' object has no attribute 'sp'\n",
      "Exception ignored in: <generator object tqdm_notebook.__iter__ at 0x7f93103e5678>\n",
      "Traceback (most recent call last):\n",
      "  File \"/mnt/cube/tsainbur/conda_envs/tpy3/lib/python3.6/site-packages/tqdm/_tqdm_notebook.py\", line 226, in __iter__\n",
      "    self.sp(bar_style='danger')\n",
      "AttributeError: 'tqdm_notebook' object has no attribute 'sp'\n",
      "Exception ignored in: <generator object tqdm_notebook.__iter__ at 0x7f93103e57d8>\n",
      "Traceback (most recent call last):\n",
      "  File \"/mnt/cube/tsainbur/conda_envs/tpy3/lib/python3.6/site-packages/tqdm/_tqdm_notebook.py\", line 226, in __iter__\n",
      "    self.sp(bar_style='danger')\n",
      "AttributeError: 'tqdm_notebook' object has no attribute 'sp'\n",
      "Exception ignored in: <generator object tqdm_notebook.__iter__ at 0x7f93103e5678>\n",
      "Traceback (most recent call last):\n",
      "  File \"/mnt/cube/tsainbur/conda_envs/tpy3/lib/python3.6/site-packages/tqdm/_tqdm_notebook.py\", line 226, in __iter__\n",
      "    self.sp(bar_style='danger')\n",
      "AttributeError: 'tqdm_notebook' object has no attribute 'sp'\n",
      "Exception ignored in: <generator object tqdm_notebook.__iter__ at 0x7f93103e5888>\n",
      "Traceback (most recent call last):\n",
      "  File \"/mnt/cube/tsainbur/conda_envs/tpy3/lib/python3.6/site-packages/tqdm/_tqdm_notebook.py\", line 226, in __iter__\n",
      "    self.sp(bar_style='danger')\n",
      "AttributeError: 'tqdm_notebook' object has no attribute 'sp'\n",
      "Exception ignored in: <generator object tqdm_notebook.__iter__ at 0x7f93103e57d8>\n",
      "Traceback (most recent call last):\n",
      "  File \"/mnt/cube/tsainbur/conda_envs/tpy3/lib/python3.6/site-packages/tqdm/_tqdm_notebook.py\", line 226, in __iter__\n",
      "    self.sp(bar_style='danger')\n",
      "AttributeError: 'tqdm_notebook' object has no attribute 'sp'\n",
      "Exception ignored in: <generator object tqdm_notebook.__iter__ at 0x7f93103e5a40>\n",
      "Traceback (most recent call last):\n",
      "  File \"/mnt/cube/tsainbur/conda_envs/tpy3/lib/python3.6/site-packages/tqdm/_tqdm_notebook.py\", line 226, in __iter__\n",
      "    self.sp(bar_style='danger')\n",
      "AttributeError: 'tqdm_notebook' object has no attribute 'sp'\n"
     ]
    }
   ],
   "source": [
    "windows_df = pd.DataFrame(columns = ['key', 'bout_number', 'bout_start_time', 'bout_end_time', 'bout_window', 'bout_spec'])\n",
    "\n",
    "for key in tqdm(indv_keys):    \n",
    "    # load data\n",
    "    wf = dataset.data_files[key].data['wav_loc']\n",
    "    data, rate = librosa.core.load(wf, sr=None)\n",
    "    data = butter_bandpass_filter(data, 500, 7999, rate, order = 2)\n",
    "    \n",
    "    # get start and end times\n",
    "    start_times = dataset.data_files[key].data['indvs']['UNK']['syllables']['start_times']\n",
    "    end_times = dataset.data_files[key].data['indvs']['UNK']['syllables']['end_times']\n",
    "    if len(start_times) < 20: \n",
    "        continue\n",
    "    \n",
    "    # get split times\n",
    "    split_points = [False] + list(np.array(start_times[1:]) - (end_times[:-1]) > silence_thresh_seconds)\n",
    "    split_point_locs = [0] + list(np.where(split_points)[0])\n",
    "    if split_point_locs[-1] != len(split_points) -1:\n",
    "        split_point_locs = split_point_locs + [len(split_points) -1]\n",
    "\n",
    "    # get the spectrogram\n",
    "    # segment\n",
    "    results = dynamic_threshold_segmentation(\n",
    "        data,\n",
    "        rate,\n",
    "        n_fft=n_fft,\n",
    "        hop_length_ms=hop_length_ms,\n",
    "        win_length_ms=win_length_ms,\n",
    "        min_level_db_floor=min_level_db_floor,\n",
    "        db_delta=db_delta,\n",
    "        ref_level_db=ref_level_db,\n",
    "        pre=pre,\n",
    "        min_silence_for_spec=min_silence_for_spec,\n",
    "        max_vocal_for_spec=max_vocal_for_spec,\n",
    "        min_level_db=min_level_db,\n",
    "        silence_threshold=silence_threshold,\n",
    "        verbose=False,\n",
    "        min_syllable_length_s=min_syllable_length_s,\n",
    "        spectral_range=spectral_range,\n",
    "    )\n",
    "    spec = results['spec']\n",
    "    spec = np.array(Image.fromarray(spec).resize((np.shape(spec)[1], 32), Image.ANTIALIAS))\n",
    "    \n",
    "    # get bouts\n",
    "    for bi, (sp0, sp1) in enumerate(zip(split_point_locs[:-1], split_point_locs[1:])):\n",
    "        spec_st = int(start_times[sp0] / (hop_length_ms/ 1000))\n",
    "        spec_et = int(end_times[sp1-1] / (hop_length_ms/ 1000))\n",
    "        bout_spec = spec[:, spec_st:spec_et]\n",
    "        \n",
    "        # get windows\n",
    "        window_length_frames = int(window_length_ms / hop_length_ms)\n",
    "        windows = [i for i in window(bout_spec.T, n=window_length_frames)]\n",
    "        windows = np.reshape(windows, (len(windows), np.product(np.shape(windows)[1:])))\n",
    "        \n",
    "        windows_df.loc[len(windows_df)] = [key, bi, sp0, sp1, windows, bout_spec]"
   ]
  },
  {
   "cell_type": "code",
   "execution_count": null,
   "metadata": {
    "ExecuteTime": {
     "start_time": "2019-11-07T21:31:13.063Z"
    }
   },
   "outputs": [],
   "source": [
    "ensure_dir(DATA_DIR/'umap_windows' / DATASET_ID)\n",
    "save_loc = DATA_DIR/'umap_windows' / DATASET_ID / ('gibbon_windows_' + str(window_length_ms)+ '.pickle')"
   ]
  },
  {
   "cell_type": "code",
   "execution_count": null,
   "metadata": {
    "ExecuteTime": {
     "start_time": "2019-11-07T21:31:13.064Z"
    }
   },
   "outputs": [],
   "source": [
    "windows_df.to_pickle(save_loc)"
   ]
  },
  {
   "cell_type": "code",
   "execution_count": null,
   "metadata": {},
   "outputs": [],
   "source": []
  }
 ],
 "metadata": {
  "kernelspec": {
   "display_name": "Python 3",
   "language": "python",
   "name": "python3"
  },
  "language_info": {
   "codemirror_mode": {
    "name": "ipython",
    "version": 3
   },
   "file_extension": ".py",
   "mimetype": "text/x-python",
   "name": "python",
   "nbconvert_exporter": "python",
   "pygments_lexer": "ipython3",
   "version": "3.6.7"
  }
 },
 "nbformat": 4,
 "nbformat_minor": 4
}
