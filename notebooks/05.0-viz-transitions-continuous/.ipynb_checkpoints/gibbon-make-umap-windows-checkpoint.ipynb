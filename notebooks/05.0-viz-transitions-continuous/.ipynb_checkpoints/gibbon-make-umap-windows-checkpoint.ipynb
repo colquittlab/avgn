{
 "cells": [
  {
   "cell_type": "code",
   "execution_count": 1,
   "metadata": {
    "ExecuteTime": {
     "end_time": "2019-11-07T20:37:18.037693Z",
     "start_time": "2019-11-07T20:37:18.019507Z"
    }
   },
   "outputs": [],
   "source": [
    "%load_ext autoreload\n",
    "%autoreload 2"
   ]
  },
  {
   "cell_type": "code",
   "execution_count": 2,
   "metadata": {
    "ExecuteTime": {
     "end_time": "2019-11-07T20:37:25.842251Z",
     "start_time": "2019-11-07T20:37:18.180749Z"
    }
   },
   "outputs": [
    {
     "name": "stderr",
     "output_type": "stream",
     "text": [
      "/mnt/cube/tsainbur/conda_envs/tpy3/lib/python3.6/site-packages/tqdm/autonotebook/__init__.py:14: TqdmExperimentalWarning: Using `tqdm.autonotebook.tqdm` in notebook mode. Use `tqdm.tqdm` instead to force console mode (e.g. in jupyter console)\n",
      "  \" (e.g. in jupyter console)\", TqdmExperimentalWarning)\n"
     ]
    }
   ],
   "source": [
    "import numpy as np\n",
    "import matplotlib.pyplot as plt\n",
    "%matplotlib inline\n",
    "from tqdm.autonotebook import tqdm\n",
    "from joblib import Parallel, delayed\n",
    "import umap\n",
    "import pandas as pd"
   ]
  },
  {
   "cell_type": "code",
   "execution_count": 3,
   "metadata": {
    "ExecuteTime": {
     "end_time": "2019-11-07T20:37:25.875604Z",
     "start_time": "2019-11-07T20:37:25.844671Z"
    }
   },
   "outputs": [],
   "source": [
    "from scipy.io import loadmat\n",
    "from pathlib2 import Path"
   ]
  },
  {
   "cell_type": "code",
   "execution_count": 11,
   "metadata": {
    "ExecuteTime": {
     "end_time": "2019-11-07T20:38:35.237472Z",
     "start_time": "2019-11-07T20:38:35.025609Z"
    }
   },
   "outputs": [],
   "source": [
    "from avgn.utils.hparams import HParams\n",
    "from avgn.dataset import DataSet"
   ]
  },
  {
   "cell_type": "code",
   "execution_count": 6,
   "metadata": {
    "ExecuteTime": {
     "end_time": "2019-11-07T20:38:23.012750Z",
     "start_time": "2019-11-07T20:38:22.533392Z"
    }
   },
   "outputs": [],
   "source": [
    "from vocalseg.utils import butter_bandpass_filter, spectrogram, int16tofloat32, plot_spec\n",
    "from vocalseg.dynamic_thresholding import dynamic_threshold_segmentation"
   ]
  },
  {
   "cell_type": "code",
   "execution_count": 7,
   "metadata": {
    "ExecuteTime": {
     "end_time": "2019-11-07T20:38:23.106720Z",
     "start_time": "2019-11-07T20:38:23.015103Z"
    }
   },
   "outputs": [],
   "source": [
    "DATASET_ID = 'gibbon_morita_segmented'"
   ]
  },
  {
   "cell_type": "code",
   "execution_count": 8,
   "metadata": {
    "ExecuteTime": {
     "end_time": "2019-11-07T20:38:23.802272Z",
     "start_time": "2019-11-07T20:38:23.707140Z"
    }
   },
   "outputs": [],
   "source": [
    "### segmentation parameters\n",
    "n_fft=1024\n",
    "hop_length_ms=5\n",
    "win_length_ms=20\n",
    "ref_level_db=20\n",
    "pre=0.97\n",
    "min_level_db=-70\n",
    "min_level_db_floor = -50\n",
    "db_delta = 5\n",
    "silence_threshold = 0.01\n",
    "min_silence_for_spec=0.05\n",
    "max_vocal_for_spec=10,\n",
    "min_syllable_length_s = 0.5\n",
    "butter_min = 50\n",
    "butter_max = 7999\n",
    "spectral_range = [50, 7999]"
   ]
  },
  {
   "cell_type": "code",
   "execution_count": 9,
   "metadata": {
    "ExecuteTime": {
     "end_time": "2019-11-07T20:38:24.669588Z",
     "start_time": "2019-11-07T20:38:24.619639Z"
    }
   },
   "outputs": [],
   "source": [
    "from avgn.utils.paths import DATA_DIR, most_recent_subdirectory, ensure_dir"
   ]
  },
  {
   "cell_type": "code",
   "execution_count": 13,
   "metadata": {
    "ExecuteTime": {
     "end_time": "2019-11-07T20:39:01.601796Z",
     "start_time": "2019-11-07T20:39:00.479878Z"
    }
   },
   "outputs": [
    {
     "data": {
      "application/vnd.jupyter.widget-view+json": {
       "model_id": "fba06ea97bf742d0bc6b89deb8ebab6d",
       "version_major": 2,
       "version_minor": 0
      },
      "text/plain": [
       "HBox(children=(IntProgress(value=0, description='loading json', max=128, style=ProgressStyle(description_width…"
      ]
     },
     "metadata": {},
     "output_type": "display_data"
    },
    {
     "name": "stdout",
     "output_type": "stream",
     "text": [
      "\n"
     ]
    },
    {
     "name": "stderr",
     "output_type": "stream",
     "text": [
      "[Parallel(n_jobs=-1)]: Using backend LokyBackend with 24 concurrent workers.\n",
      "[Parallel(n_jobs=-1)]: Done 128 out of 128 | elapsed:    0.1s finished\n"
     ]
    },
    {
     "data": {
      "application/vnd.jupyter.widget-view+json": {
       "model_id": "",
       "version_major": 2,
       "version_minor": 0
      },
      "text/plain": [
       "HBox(children=(IntProgress(value=0, description='getting unique individuals', max=128, style=ProgressStyle(des…"
      ]
     },
     "metadata": {},
     "output_type": "display_data"
    },
    {
     "name": "stdout",
     "output_type": "stream",
     "text": [
      "\r"
     ]
    }
   ],
   "source": [
    "hparams = HParams(\n",
    "    butter_lowcut = 50,\n",
    "    butter_highcut = 7999,\n",
    "mel_upper_edge_hertz=7999,)\n",
    "# create a dataset object\n",
    "\n",
    "dataset = DataSet(DATASET_ID, hparams = hparams)"
   ]
  },
  {
   "cell_type": "code",
   "execution_count": 14,
   "metadata": {
    "ExecuteTime": {
     "end_time": "2019-11-07T20:39:01.676141Z",
     "start_time": "2019-11-07T20:39:01.605354Z"
    }
   },
   "outputs": [
    {
     "data": {
      "text/plain": [
       "OrderedDict([('datetime', '2017-09-12_07-00-02'),\n",
       "             ('species', 'Hylobatidae'),\n",
       "             ('common_name', 'Gibbon'),\n",
       "             ('samplerate_hz', 16000),\n",
       "             ('original_wav',\n",
       "              '/mnt/cube/tsainbur/Projects/github_repos/avgn_paper/data/raw/gibbon_morita/gibbon_superregular_data/test_data/20170912-070002_01_ch.wav'),\n",
       "             ('length_s', 1800.0),\n",
       "             ('wav_loc',\n",
       "              '/mnt/cube/tsainbur/Projects/github_repos/avgn_paper/data/raw/gibbon_morita/gibbon_superregular_data/test_data/20170912-070002_01_ch.wav'),\n",
       "             ('indvs',\n",
       "              OrderedDict([('UNK',\n",
       "                            OrderedDict([('syllables',\n",
       "                                          OrderedDict([('start_times',\n",
       "                                                        [349.04,\n",
       "                                                         390.04,\n",
       "                                                         422.44,\n",
       "                                                         440.06,\n",
       "                                                         444.56,\n",
       "                                                         459.94,\n",
       "                                                         477.84,\n",
       "                                                         498.46,\n",
       "                                                         515.98,\n",
       "                                                         525.54,\n",
       "                                                         537.52,\n",
       "                                                         553.94,\n",
       "                                                         554.48,\n",
       "                                                         571.06,\n",
       "                                                         571.74,\n",
       "                                                         578.72,\n",
       "                                                         579.78,\n",
       "                                                         589.28,\n",
       "                                                         604.32,\n",
       "                                                         615.46,\n",
       "                                                         632.34,\n",
       "                                                         652.58,\n",
       "                                                         688.6,\n",
       "                                                         706.24,\n",
       "                                                         721.8,\n",
       "                                                         737.42,\n",
       "                                                         760.92,\n",
       "                                                         766.02,\n",
       "                                                         768.08,\n",
       "                                                         779.88,\n",
       "                                                         781.0,\n",
       "                                                         800.88,\n",
       "                                                         804.9,\n",
       "                                                         813.58,\n",
       "                                                         826.24,\n",
       "                                                         828.92,\n",
       "                                                         844.84,\n",
       "                                                         862.46,\n",
       "                                                         885.6,\n",
       "                                                         903.62,\n",
       "                                                         918.42,\n",
       "                                                         920.26,\n",
       "                                                         937.96,\n",
       "                                                         949.26,\n",
       "                                                         963.78,\n",
       "                                                         969.98,\n",
       "                                                         978.78,\n",
       "                                                         991.3,\n",
       "                                                         1003.92,\n",
       "                                                         1012.08,\n",
       "                                                         1014.1,\n",
       "                                                         1015.86,\n",
       "                                                         1031.52,\n",
       "                                                         1043.46,\n",
       "                                                         1045.16,\n",
       "                                                         1050.42,\n",
       "                                                         1052.56,\n",
       "                                                         1055.94,\n",
       "                                                         1061.64,\n",
       "                                                         1084.5,\n",
       "                                                         1104.28,\n",
       "                                                         1124.94,\n",
       "                                                         1144.32,\n",
       "                                                         1442.94]),\n",
       "                                                       ('end_times',\n",
       "                                                        [350.98,\n",
       "                                                         391.94,\n",
       "                                                         425.08,\n",
       "                                                         440.92,\n",
       "                                                         447.08,\n",
       "                                                         462.78,\n",
       "                                                         480.72,\n",
       "                                                         501.14,\n",
       "                                                         518.5,\n",
       "                                                         527.92,\n",
       "                                                         541.22,\n",
       "                                                         554.46,\n",
       "                                                         557.4,\n",
       "                                                         571.58,\n",
       "                                                         574.08,\n",
       "                                                         579.48,\n",
       "                                                         582.52,\n",
       "                                                         592.7,\n",
       "                                                         607.48,\n",
       "                                                         618.72,\n",
       "                                                         636.24,\n",
       "                                                         655.66,\n",
       "                                                         691.0,\n",
       "                                                         709.5,\n",
       "                                                         725.4,\n",
       "                                                         740.94,\n",
       "                                                         765.46,\n",
       "                                                         767.42,\n",
       "                                                         770.84,\n",
       "                                                         780.62,\n",
       "                                                         784.64,\n",
       "                                                         804.82,\n",
       "                                                         806.5,\n",
       "                                                         818.04,\n",
       "                                                         828.64,\n",
       "                                                         831.56,\n",
       "                                                         848.24,\n",
       "                                                         866.36,\n",
       "                                                         889.28,\n",
       "                                                         907.04,\n",
       "                                                         919.3,\n",
       "                                                         924.2,\n",
       "                                                         941.48,\n",
       "                                                         953.1,\n",
       "                                                         967.84,\n",
       "                                                         970.6,\n",
       "                                                         982.5,\n",
       "                                                         995.12,\n",
       "                                                         1008.36,\n",
       "                                                         1012.84,\n",
       "                                                         1015.62,\n",
       "                                                         1021.04,\n",
       "                                                         1035.84,\n",
       "                                                         1044.48,\n",
       "                                                         1048.76,\n",
       "                                                         1051.92,\n",
       "                                                         1054.08,\n",
       "                                                         1057.34,\n",
       "                                                         1066.46,\n",
       "                                                         1089.08,\n",
       "                                                         1109.08,\n",
       "                                                         1129.58,\n",
       "                                                         1148.1,\n",
       "                                                         1443.44])]))]))]))])"
      ]
     },
     "execution_count": 14,
     "metadata": {},
     "output_type": "execute_result"
    }
   ],
   "source": [
    "dataset.sample_json"
   ]
  },
  {
   "cell_type": "code",
   "execution_count": 15,
   "metadata": {
    "ExecuteTime": {
     "end_time": "2019-11-07T20:39:02.205315Z",
     "start_time": "2019-11-07T20:39:01.677880Z"
    }
   },
   "outputs": [],
   "source": [
    "import librosa\n",
    "from vocalseg.utils import butter_bandpass_filter, spectrogram, int16tofloat32, plot_spec\n",
    "from vocalseg.dynamic_thresholding import dynamic_threshold_segmentation\n",
    "from PIL import Image\n",
    "from avgn.umap import umap_reduce\n",
    "import seaborn as sns"
   ]
  },
  {
   "cell_type": "code",
   "execution_count": 16,
   "metadata": {
    "ExecuteTime": {
     "end_time": "2019-11-07T20:39:02.267543Z",
     "start_time": "2019-11-07T20:39:02.207810Z"
    }
   },
   "outputs": [],
   "source": [
    "from itertools import islice\n",
    "\n",
    "def window(seq, n=2):\n",
    "    \"Returns a sliding window (of width n) over data from the iterable\"\n",
    "    \"   s -> (s0,s1,...s[n-1]), (s1,s2,...,sn), ...                   \"\n",
    "    it = iter(seq)\n",
    "    result = tuple(islice(it, n))\n",
    "    if len(result) == n:\n",
    "        yield result\n",
    "    for elem in it:\n",
    "        result = result[1:] + (elem,)\n",
    "        yield result"
   ]
  },
  {
   "cell_type": "code",
   "execution_count": 17,
   "metadata": {
    "ExecuteTime": {
     "end_time": "2019-11-07T20:39:02.385467Z",
     "start_time": "2019-11-07T20:39:02.269541Z"
    }
   },
   "outputs": [],
   "source": [
    "# for each wav, compute the spectrogram, break the spectrogram up into multiple segments, then project into PCA, then plot PCA projections over time"
   ]
  },
  {
   "cell_type": "code",
   "execution_count": 18,
   "metadata": {
    "ExecuteTime": {
     "end_time": "2019-11-07T20:39:11.656625Z",
     "start_time": "2019-11-07T20:39:11.596880Z"
    }
   },
   "outputs": [
    {
     "data": {
      "text/plain": [
       "array(['UNK'], dtype='<U3')"
      ]
     },
     "execution_count": 18,
     "metadata": {},
     "output_type": "execute_result"
    }
   ],
   "source": [
    "indvs = np.array([list(i)[0] for i in dataset.json_indv])\n",
    "np.unique(indvs)"
   ]
  },
  {
   "cell_type": "code",
   "execution_count": 125,
   "metadata": {
    "ExecuteTime": {
     "end_time": "2019-11-07T21:05:23.568929Z",
     "start_time": "2019-11-07T21:05:23.487816Z"
    }
   },
   "outputs": [],
   "source": [
    "indv = 'UNK' \n",
    "indv_keys = np.array(list(dataset.data_files.keys()))[indvs==indv]\n",
    "silence_thresh_seconds = 25"
   ]
  },
  {
   "cell_type": "code",
   "execution_count": 137,
   "metadata": {
    "ExecuteTime": {
     "end_time": "2019-11-07T21:14:59.348780Z",
     "start_time": "2019-11-07T21:14:59.284463Z"
    }
   },
   "outputs": [],
   "source": [
    "window_list = [200]\n",
    "window_length_ms = window_list[0]\n",
    "specs = []\n",
    "key_windows = {i:{} for i in window_list}"
   ]
  },
  {
   "cell_type": "code",
   "execution_count": 138,
   "metadata": {
    "ExecuteTime": {
     "end_time": "2019-11-07T21:14:59.518580Z",
     "start_time": "2019-11-07T21:14:59.459125Z"
    }
   },
   "outputs": [],
   "source": [
    "### for each key, get bouts with pauses > 10 seconds, save the windows from that bout, the key, the start and end time of the bout"
   ]
  },
  {
   "cell_type": "code",
   "execution_count": null,
   "metadata": {},
   "outputs": [],
   "source": [
    "from itertools import islice\n",
    "\n",
    "def window(seq, n=2, skip = 100):\n",
    "    \"Returns a sliding window (of width n) over data from the iterable\"\n",
    "    \"   s -> (s0,s1,...s[n-1]), (s1,s2,...,sn), ...                   \"\n",
    "    it = iter(seq)\n",
    "    result = tuple(islice(it, n))\n",
    "    if len(result) == n:\n",
    "        yield result\n",
    "    for elem in it:\n",
    "        result = result[1:] + (elem,)\n",
    "        yield result"
   ]
  },
  {
   "cell_type": "code",
   "execution_count": 142,
   "metadata": {
    "ExecuteTime": {
     "end_time": "2019-11-07T21:26:22.190304Z",
     "start_time": "2019-11-07T21:16:49.103876Z"
    },
    "scrolled": true
   },
   "outputs": [
    {
     "data": {
      "application/vnd.jupyter.widget-view+json": {
       "model_id": "6bdca604207845a2b574ab181ff91a13",
       "version_major": 2,
       "version_minor": 0
      },
      "text/plain": [
       "HBox(children=(IntProgress(value=0), HTML(value='')))"
      ]
     },
     "metadata": {},
     "output_type": "display_data"
    },
    {
     "name": "stderr",
     "output_type": "stream",
     "text": [
      "Exception ignored in: <generator object tqdm_notebook.__iter__ at 0x7f1f441f5ca8>\n",
      "Traceback (most recent call last):\n",
      "  File \"/mnt/cube/tsainbur/conda_envs/tpy3/lib/python3.6/site-packages/tqdm/_tqdm_notebook.py\", line 226, in __iter__\n",
      "    self.sp(bar_style='danger')\n",
      "AttributeError: 'tqdm_notebook' object has no attribute 'sp'\n",
      "Exception ignored in: <generator object tqdm_notebook.__iter__ at 0x7f1f44231f68>\n",
      "Traceback (most recent call last):\n",
      "  File \"/mnt/cube/tsainbur/conda_envs/tpy3/lib/python3.6/site-packages/tqdm/_tqdm_notebook.py\", line 226, in __iter__\n",
      "    self.sp(bar_style='danger')\n",
      "AttributeError: 'tqdm_notebook' object has no attribute 'sp'\n",
      "Exception ignored in: <generator object tqdm_notebook.__iter__ at 0x7f1f44231e60>\n",
      "Traceback (most recent call last):\n",
      "  File \"/mnt/cube/tsainbur/conda_envs/tpy3/lib/python3.6/site-packages/tqdm/_tqdm_notebook.py\", line 226, in __iter__\n",
      "    self.sp(bar_style='danger')\n",
      "AttributeError: 'tqdm_notebook' object has no attribute 'sp'\n",
      "Exception ignored in: <generator object tqdm_notebook.__iter__ at 0x7f1f442386d0>\n",
      "Traceback (most recent call last):\n",
      "  File \"/mnt/cube/tsainbur/conda_envs/tpy3/lib/python3.6/site-packages/tqdm/_tqdm_notebook.py\", line 226, in __iter__\n",
      "    self.sp(bar_style='danger')\n",
      "AttributeError: 'tqdm_notebook' object has no attribute 'sp'\n",
      "Exception ignored in: <generator object tqdm_notebook.__iter__ at 0x7f1f442e0f68>\n",
      "Traceback (most recent call last):\n",
      "  File \"/mnt/cube/tsainbur/conda_envs/tpy3/lib/python3.6/site-packages/tqdm/_tqdm_notebook.py\", line 226, in __iter__\n",
      "    self.sp(bar_style='danger')\n",
      "AttributeError: 'tqdm_notebook' object has no attribute 'sp'\n",
      "Exception ignored in: <generator object tqdm_notebook.__iter__ at 0x7f1f442e0d00>\n",
      "Traceback (most recent call last):\n",
      "  File \"/mnt/cube/tsainbur/conda_envs/tpy3/lib/python3.6/site-packages/tqdm/_tqdm_notebook.py\", line 226, in __iter__\n",
      "    self.sp(bar_style='danger')\n",
      "AttributeError: 'tqdm_notebook' object has no attribute 'sp'\n",
      "Exception ignored in: <generator object tqdm_notebook.__iter__ at 0x7f1f4430fdb0>\n",
      "Traceback (most recent call last):\n",
      "  File \"/mnt/cube/tsainbur/conda_envs/tpy3/lib/python3.6/site-packages/tqdm/_tqdm_notebook.py\", line 226, in __iter__\n",
      "    self.sp(bar_style='danger')\n",
      "AttributeError: 'tqdm_notebook' object has no attribute 'sp'\n",
      "Exception ignored in: <generator object tqdm_notebook.__iter__ at 0x7f1f442fdeb8>\n",
      "Traceback (most recent call last):\n",
      "  File \"/mnt/cube/tsainbur/conda_envs/tpy3/lib/python3.6/site-packages/tqdm/_tqdm_notebook.py\", line 226, in __iter__\n",
      "    self.sp(bar_style='danger')\n",
      "AttributeError: 'tqdm_notebook' object has no attribute 'sp'\n",
      "Exception ignored in: <generator object tqdm_notebook.__iter__ at 0x7f1f443b4f68>\n",
      "Traceback (most recent call last):\n",
      "  File \"/mnt/cube/tsainbur/conda_envs/tpy3/lib/python3.6/site-packages/tqdm/_tqdm_notebook.py\", line 226, in __iter__\n",
      "    self.sp(bar_style='danger')\n",
      "AttributeError: 'tqdm_notebook' object has no attribute 'sp'\n",
      "Exception ignored in: <generator object tqdm_notebook.__iter__ at 0x7f1f443a2b48>\n",
      "Traceback (most recent call last):\n",
      "  File \"/mnt/cube/tsainbur/conda_envs/tpy3/lib/python3.6/site-packages/tqdm/_tqdm_notebook.py\", line 226, in __iter__\n",
      "    self.sp(bar_style='danger')\n",
      "AttributeError: 'tqdm_notebook' object has no attribute 'sp'\n",
      "Exception ignored in: <generator object tqdm_notebook.__iter__ at 0x7f1f600abf68>\n",
      "Traceback (most recent call last):\n",
      "  File \"/mnt/cube/tsainbur/conda_envs/tpy3/lib/python3.6/site-packages/tqdm/_tqdm_notebook.py\", line 226, in __iter__\n",
      "    self.sp(bar_style='danger')\n",
      "AttributeError: 'tqdm_notebook' object has no attribute 'sp'\n",
      "Exception ignored in: <generator object tqdm_notebook.__iter__ at 0x7f1f600abf10>\n",
      "Traceback (most recent call last):\n",
      "  File \"/mnt/cube/tsainbur/conda_envs/tpy3/lib/python3.6/site-packages/tqdm/_tqdm_notebook.py\", line 226, in __iter__\n",
      "    self.sp(bar_style='danger')\n",
      "AttributeError: 'tqdm_notebook' object has no attribute 'sp'\n",
      "Exception ignored in: <generator object tqdm_notebook.__iter__ at 0x7f1f600f1f10>\n",
      "Traceback (most recent call last):\n",
      "  File \"/mnt/cube/tsainbur/conda_envs/tpy3/lib/python3.6/site-packages/tqdm/_tqdm_notebook.py\", line 226, in __iter__\n",
      "    self.sp(bar_style='danger')\n",
      "AttributeError: 'tqdm_notebook' object has no attribute 'sp'\n",
      "Exception ignored in: <generator object tqdm_notebook.__iter__ at 0x7f20cc285570>\n",
      "Traceback (most recent call last):\n",
      "  File \"/mnt/cube/tsainbur/conda_envs/tpy3/lib/python3.6/site-packages/tqdm/_tqdm_notebook.py\", line 226, in __iter__\n",
      "    self.sp(bar_style='danger')\n",
      "AttributeError: 'tqdm_notebook' object has no attribute 'sp'\n",
      "Exception ignored in: <generator object tqdm_notebook.__iter__ at 0x7f20a5d4a0f8>\n",
      "Traceback (most recent call last):\n",
      "  File \"/mnt/cube/tsainbur/conda_envs/tpy3/lib/python3.6/site-packages/tqdm/_tqdm_notebook.py\", line 226, in __iter__\n",
      "    self.sp(bar_style='danger')\n",
      "AttributeError: 'tqdm_notebook' object has no attribute 'sp'\n",
      "Exception ignored in: <generator object tqdm_notebook.__iter__ at 0x7f1f442d4db0>\n",
      "Traceback (most recent call last):\n",
      "  File \"/mnt/cube/tsainbur/conda_envs/tpy3/lib/python3.6/site-packages/tqdm/_tqdm_notebook.py\", line 226, in __iter__\n",
      "    self.sp(bar_style='danger')\n",
      "AttributeError: 'tqdm_notebook' object has no attribute 'sp'\n",
      "Exception ignored in: <generator object tqdm_notebook.__iter__ at 0x7f1f980a6f10>\n",
      "Traceback (most recent call last):\n",
      "  File \"/mnt/cube/tsainbur/conda_envs/tpy3/lib/python3.6/site-packages/tqdm/_tqdm_notebook.py\", line 226, in __iter__\n",
      "    self.sp(bar_style='danger')\n",
      "AttributeError: 'tqdm_notebook' object has no attribute 'sp'\n",
      "Exception ignored in: <generator object tqdm_notebook.__iter__ at 0x7f1f443b4f68>\n",
      "Traceback (most recent call last):\n",
      "  File \"/mnt/cube/tsainbur/conda_envs/tpy3/lib/python3.6/site-packages/tqdm/_tqdm_notebook.py\", line 226, in __iter__\n",
      "    self.sp(bar_style='danger')\n",
      "AttributeError: 'tqdm_notebook' object has no attribute 'sp'\n",
      "Exception ignored in: <generator object tqdm_notebook.__iter__ at 0x7f1f980a1678>\n",
      "Traceback (most recent call last):\n",
      "  File \"/mnt/cube/tsainbur/conda_envs/tpy3/lib/python3.6/site-packages/tqdm/_tqdm_notebook.py\", line 226, in __iter__\n",
      "    self.sp(bar_style='danger')\n",
      "AttributeError: 'tqdm_notebook' object has no attribute 'sp'\n",
      "Exception ignored in: <generator object tqdm_notebook.__iter__ at 0x7f1f603b6bf8>\n",
      "Traceback (most recent call last):\n",
      "  File \"/mnt/cube/tsainbur/conda_envs/tpy3/lib/python3.6/site-packages/tqdm/_tqdm_notebook.py\", line 226, in __iter__\n",
      "    self.sp(bar_style='danger')\n",
      "AttributeError: 'tqdm_notebook' object has no attribute 'sp'\n",
      "Exception ignored in: <generator object tqdm_notebook.__iter__ at 0x7f1f980a1728>\n",
      "Traceback (most recent call last):\n",
      "  File \"/mnt/cube/tsainbur/conda_envs/tpy3/lib/python3.6/site-packages/tqdm/_tqdm_notebook.py\", line 226, in __iter__\n",
      "    self.sp(bar_style='danger')\n",
      "AttributeError: 'tqdm_notebook' object has no attribute 'sp'\n",
      "Exception ignored in: <generator object tqdm_notebook.__iter__ at 0x7f1f441eedb0>\n",
      "Traceback (most recent call last):\n",
      "  File \"/mnt/cube/tsainbur/conda_envs/tpy3/lib/python3.6/site-packages/tqdm/_tqdm_notebook.py\", line 226, in __iter__\n",
      "    self.sp(bar_style='danger')\n",
      "AttributeError: 'tqdm_notebook' object has no attribute 'sp'\n",
      "Exception ignored in: <generator object tqdm_notebook.__iter__ at 0x7f1f441eeba0>\n",
      "Traceback (most recent call last):\n",
      "  File \"/mnt/cube/tsainbur/conda_envs/tpy3/lib/python3.6/site-packages/tqdm/_tqdm_notebook.py\", line 226, in __iter__\n",
      "    self.sp(bar_style='danger')\n",
      "AttributeError: 'tqdm_notebook' object has no attribute 'sp'\n",
      "Exception ignored in: <generator object tqdm_notebook.__iter__ at 0x7f1f44231990>\n",
      "Traceback (most recent call last):\n",
      "  File \"/mnt/cube/tsainbur/conda_envs/tpy3/lib/python3.6/site-packages/tqdm/_tqdm_notebook.py\", line 226, in __iter__\n",
      "    self.sp(bar_style='danger')\n",
      "AttributeError: 'tqdm_notebook' object has no attribute 'sp'\n",
      "Exception ignored in: <generator object tqdm_notebook.__iter__ at 0x7f1f44231e60>\n",
      "Traceback (most recent call last):\n",
      "  File \"/mnt/cube/tsainbur/conda_envs/tpy3/lib/python3.6/site-packages/tqdm/_tqdm_notebook.py\", line 226, in __iter__\n",
      "    self.sp(bar_style='danger')\n",
      "AttributeError: 'tqdm_notebook' object has no attribute 'sp'\n"
     ]
    },
    {
     "name": "stderr",
     "output_type": "stream",
     "text": [
      "Exception ignored in: <generator object tqdm_notebook.__iter__ at 0x7f1f603360f8>\n",
      "Traceback (most recent call last):\n",
      "  File \"/mnt/cube/tsainbur/conda_envs/tpy3/lib/python3.6/site-packages/tqdm/_tqdm_notebook.py\", line 226, in __iter__\n",
      "    self.sp(bar_style='danger')\n",
      "AttributeError: 'tqdm_notebook' object has no attribute 'sp'\n",
      "Exception ignored in: <generator object tqdm_notebook.__iter__ at 0x7f1f443dcdb0>\n",
      "Traceback (most recent call last):\n",
      "  File \"/mnt/cube/tsainbur/conda_envs/tpy3/lib/python3.6/site-packages/tqdm/_tqdm_notebook.py\", line 226, in __iter__\n",
      "    self.sp(bar_style='danger')\n",
      "AttributeError: 'tqdm_notebook' object has no attribute 'sp'\n",
      "Exception ignored in: <generator object tqdm_notebook.__iter__ at 0x7f1f442e0938>\n",
      "Traceback (most recent call last):\n",
      "  File \"/mnt/cube/tsainbur/conda_envs/tpy3/lib/python3.6/site-packages/tqdm/_tqdm_notebook.py\", line 226, in __iter__\n",
      "    self.sp(bar_style='danger')\n",
      "AttributeError: 'tqdm_notebook' object has no attribute 'sp'\n",
      "Exception ignored in: <generator object tqdm_notebook.__iter__ at 0x7f1f602aeb48>\n",
      "Traceback (most recent call last):\n",
      "  File \"/mnt/cube/tsainbur/conda_envs/tpy3/lib/python3.6/site-packages/tqdm/_tqdm_notebook.py\", line 226, in __iter__\n",
      "    self.sp(bar_style='danger')\n",
      "AttributeError: 'tqdm_notebook' object has no attribute 'sp'\n",
      "Exception ignored in: <generator object tqdm_notebook.__iter__ at 0x7f1f601adeb8>\n",
      "Traceback (most recent call last):\n",
      "  File \"/mnt/cube/tsainbur/conda_envs/tpy3/lib/python3.6/site-packages/tqdm/_tqdm_notebook.py\", line 226, in __iter__\n",
      "    self.sp(bar_style='danger')\n",
      "AttributeError: 'tqdm_notebook' object has no attribute 'sp'\n",
      "Exception ignored in: <generator object tqdm_notebook.__iter__ at 0x7f1f1c2cc200>\n",
      "Traceback (most recent call last):\n",
      "  File \"/mnt/cube/tsainbur/conda_envs/tpy3/lib/python3.6/site-packages/tqdm/_tqdm_notebook.py\", line 226, in __iter__\n",
      "    self.sp(bar_style='danger')\n",
      "AttributeError: 'tqdm_notebook' object has no attribute 'sp'\n",
      "Exception ignored in: <generator object tqdm_notebook.__iter__ at 0x7f1f1c2d74c0>\n",
      "Traceback (most recent call last):\n",
      "  File \"/mnt/cube/tsainbur/conda_envs/tpy3/lib/python3.6/site-packages/tqdm/_tqdm_notebook.py\", line 226, in __iter__\n",
      "    self.sp(bar_style='danger')\n",
      "AttributeError: 'tqdm_notebook' object has no attribute 'sp'\n",
      "Exception ignored in: <generator object tqdm_notebook.__iter__ at 0x7f1f442d4a98>\n",
      "Traceback (most recent call last):\n",
      "  File \"/mnt/cube/tsainbur/conda_envs/tpy3/lib/python3.6/site-packages/tqdm/_tqdm_notebook.py\", line 226, in __iter__\n",
      "    self.sp(bar_style='danger')\n",
      "AttributeError: 'tqdm_notebook' object has no attribute 'sp'\n",
      "Exception ignored in: <generator object tqdm_notebook.__iter__ at 0x7f1f980a17d8>\n",
      "Traceback (most recent call last):\n",
      "  File \"/mnt/cube/tsainbur/conda_envs/tpy3/lib/python3.6/site-packages/tqdm/_tqdm_notebook.py\", line 226, in __iter__\n",
      "    self.sp(bar_style='danger')\n",
      "AttributeError: 'tqdm_notebook' object has no attribute 'sp'\n",
      "Exception ignored in: <generator object tqdm_notebook.__iter__ at 0x7f1f603b6a40>\n",
      "Traceback (most recent call last):\n",
      "  File \"/mnt/cube/tsainbur/conda_envs/tpy3/lib/python3.6/site-packages/tqdm/_tqdm_notebook.py\", line 226, in __iter__\n",
      "    self.sp(bar_style='danger')\n",
      "AttributeError: 'tqdm_notebook' object has no attribute 'sp'\n",
      "Exception ignored in: <generator object tqdm_notebook.__iter__ at 0x7f1f980a1728>\n",
      "Traceback (most recent call last):\n",
      "  File \"/mnt/cube/tsainbur/conda_envs/tpy3/lib/python3.6/site-packages/tqdm/_tqdm_notebook.py\", line 226, in __iter__\n",
      "    self.sp(bar_style='danger')\n",
      "AttributeError: 'tqdm_notebook' object has no attribute 'sp'\n",
      "Exception ignored in: <generator object tqdm_notebook.__iter__ at 0x7f1f980a1fc0>\n",
      "Traceback (most recent call last):\n",
      "  File \"/mnt/cube/tsainbur/conda_envs/tpy3/lib/python3.6/site-packages/tqdm/_tqdm_notebook.py\", line 226, in __iter__\n",
      "    self.sp(bar_style='danger')\n",
      "AttributeError: 'tqdm_notebook' object has no attribute 'sp'\n",
      "Exception ignored in: <generator object tqdm_notebook.__iter__ at 0x7f1f980a17d8>\n",
      "Traceback (most recent call last):\n",
      "  File \"/mnt/cube/tsainbur/conda_envs/tpy3/lib/python3.6/site-packages/tqdm/_tqdm_notebook.py\", line 226, in __iter__\n",
      "    self.sp(bar_style='danger')\n",
      "AttributeError: 'tqdm_notebook' object has no attribute 'sp'\n",
      "Exception ignored in: <generator object tqdm_notebook.__iter__ at 0x7f1f601e4d00>\n",
      "Traceback (most recent call last):\n",
      "  File \"/mnt/cube/tsainbur/conda_envs/tpy3/lib/python3.6/site-packages/tqdm/_tqdm_notebook.py\", line 226, in __iter__\n",
      "    self.sp(bar_style='danger')\n",
      "AttributeError: 'tqdm_notebook' object has no attribute 'sp'\n",
      "Exception ignored in: <generator object tqdm_notebook.__iter__ at 0x7f1f980a6f68>\n",
      "Traceback (most recent call last):\n",
      "  File \"/mnt/cube/tsainbur/conda_envs/tpy3/lib/python3.6/site-packages/tqdm/_tqdm_notebook.py\", line 226, in __iter__\n",
      "    self.sp(bar_style='danger')\n",
      "AttributeError: 'tqdm_notebook' object has no attribute 'sp'\n",
      "Exception ignored in: <generator object tqdm_notebook.__iter__ at 0x7f1eb46040a0>\n",
      "Traceback (most recent call last):\n",
      "  File \"/mnt/cube/tsainbur/conda_envs/tpy3/lib/python3.6/site-packages/tqdm/_tqdm_notebook.py\", line 226, in __iter__\n",
      "    self.sp(bar_style='danger')\n",
      "AttributeError: 'tqdm_notebook' object has no attribute 'sp'\n",
      "Exception ignored in: <generator object tqdm_notebook.__iter__ at 0x7f1f443b4af0>\n",
      "Traceback (most recent call last):\n",
      "  File \"/mnt/cube/tsainbur/conda_envs/tpy3/lib/python3.6/site-packages/tqdm/_tqdm_notebook.py\", line 226, in __iter__\n",
      "    self.sp(bar_style='danger')\n",
      "AttributeError: 'tqdm_notebook' object has no attribute 'sp'\n",
      "Exception ignored in: <generator object tqdm_notebook.__iter__ at 0x7f1eb49f9308>\n",
      "Traceback (most recent call last):\n",
      "  File \"/mnt/cube/tsainbur/conda_envs/tpy3/lib/python3.6/site-packages/tqdm/_tqdm_notebook.py\", line 226, in __iter__\n",
      "    self.sp(bar_style='danger')\n",
      "AttributeError: 'tqdm_notebook' object has no attribute 'sp'\n",
      "Exception ignored in: <generator object tqdm_notebook.__iter__ at 0x7f1f443a2d00>\n",
      "Traceback (most recent call last):\n",
      "  File \"/mnt/cube/tsainbur/conda_envs/tpy3/lib/python3.6/site-packages/tqdm/_tqdm_notebook.py\", line 226, in __iter__\n",
      "    self.sp(bar_style='danger')\n",
      "AttributeError: 'tqdm_notebook' object has no attribute 'sp'\n",
      "Exception ignored in: <generator object tqdm_notebook.__iter__ at 0x7f1f1c3b2f10>\n",
      "Traceback (most recent call last):\n",
      "  File \"/mnt/cube/tsainbur/conda_envs/tpy3/lib/python3.6/site-packages/tqdm/_tqdm_notebook.py\", line 226, in __iter__\n",
      "    self.sp(bar_style='danger')\n",
      "AttributeError: 'tqdm_notebook' object has no attribute 'sp'\n",
      "Exception ignored in: <generator object tqdm_notebook.__iter__ at 0x7f1f60336728>\n",
      "Traceback (most recent call last):\n",
      "  File \"/mnt/cube/tsainbur/conda_envs/tpy3/lib/python3.6/site-packages/tqdm/_tqdm_notebook.py\", line 226, in __iter__\n",
      "    self.sp(bar_style='danger')\n",
      "AttributeError: 'tqdm_notebook' object has no attribute 'sp'\n",
      "Exception ignored in: <generator object tqdm_notebook.__iter__ at 0x7f1f442aca40>\n",
      "Traceback (most recent call last):\n",
      "  File \"/mnt/cube/tsainbur/conda_envs/tpy3/lib/python3.6/site-packages/tqdm/_tqdm_notebook.py\", line 226, in __iter__\n",
      "    self.sp(bar_style='danger')\n",
      "AttributeError: 'tqdm_notebook' object has no attribute 'sp'\n",
      "Exception ignored in: <generator object tqdm_notebook.__iter__ at 0x7f1f442e07d8>\n",
      "Traceback (most recent call last):\n",
      "  File \"/mnt/cube/tsainbur/conda_envs/tpy3/lib/python3.6/site-packages/tqdm/_tqdm_notebook.py\", line 226, in __iter__\n",
      "    self.sp(bar_style='danger')\n",
      "AttributeError: 'tqdm_notebook' object has no attribute 'sp'\n",
      "Exception ignored in: <generator object tqdm_notebook.__iter__ at 0x7f1f1c393150>\n",
      "Traceback (most recent call last):\n",
      "  File \"/mnt/cube/tsainbur/conda_envs/tpy3/lib/python3.6/site-packages/tqdm/_tqdm_notebook.py\", line 226, in __iter__\n",
      "    self.sp(bar_style='danger')\n",
      "AttributeError: 'tqdm_notebook' object has no attribute 'sp'\n",
      "Exception ignored in: <generator object tqdm_notebook.__iter__ at 0x7f1f1c3930f8>\n",
      "Traceback (most recent call last):\n",
      "  File \"/mnt/cube/tsainbur/conda_envs/tpy3/lib/python3.6/site-packages/tqdm/_tqdm_notebook.py\", line 226, in __iter__\n",
      "    self.sp(bar_style='danger')\n",
      "AttributeError: 'tqdm_notebook' object has no attribute 'sp'\n"
     ]
    },
    {
     "name": "stderr",
     "output_type": "stream",
     "text": [
      "Exception ignored in: <generator object tqdm_notebook.__iter__ at 0x7f1f600d5e60>\n",
      "Traceback (most recent call last):\n",
      "  File \"/mnt/cube/tsainbur/conda_envs/tpy3/lib/python3.6/site-packages/tqdm/_tqdm_notebook.py\", line 226, in __iter__\n",
      "    self.sp(bar_style='danger')\n",
      "AttributeError: 'tqdm_notebook' object has no attribute 'sp'\n",
      "Exception ignored in: <generator object tqdm_notebook.__iter__ at 0x7f1f442d4ca8>\n",
      "Traceback (most recent call last):\n",
      "  File \"/mnt/cube/tsainbur/conda_envs/tpy3/lib/python3.6/site-packages/tqdm/_tqdm_notebook.py\", line 226, in __iter__\n",
      "    self.sp(bar_style='danger')\n",
      "AttributeError: 'tqdm_notebook' object has no attribute 'sp'\n",
      "Exception ignored in: <generator object tqdm_notebook.__iter__ at 0x7f1f603e2938>\n",
      "Traceback (most recent call last):\n",
      "  File \"/mnt/cube/tsainbur/conda_envs/tpy3/lib/python3.6/site-packages/tqdm/_tqdm_notebook.py\", line 226, in __iter__\n",
      "    self.sp(bar_style='danger')\n",
      "AttributeError: 'tqdm_notebook' object has no attribute 'sp'\n",
      "Exception ignored in: <generator object tqdm_notebook.__iter__ at 0x7f1f60310eb8>\n",
      "Traceback (most recent call last):\n",
      "  File \"/mnt/cube/tsainbur/conda_envs/tpy3/lib/python3.6/site-packages/tqdm/_tqdm_notebook.py\", line 226, in __iter__\n",
      "    self.sp(bar_style='danger')\n",
      "AttributeError: 'tqdm_notebook' object has no attribute 'sp'\n",
      "Exception ignored in: <generator object tqdm_notebook.__iter__ at 0x7f1f443caca8>\n",
      "Traceback (most recent call last):\n",
      "  File \"/mnt/cube/tsainbur/conda_envs/tpy3/lib/python3.6/site-packages/tqdm/_tqdm_notebook.py\", line 226, in __iter__\n",
      "    self.sp(bar_style='danger')\n",
      "AttributeError: 'tqdm_notebook' object has no attribute 'sp'\n",
      "Exception ignored in: <generator object tqdm_notebook.__iter__ at 0x7f1f1c3960f8>\n",
      "Traceback (most recent call last):\n",
      "  File \"/mnt/cube/tsainbur/conda_envs/tpy3/lib/python3.6/site-packages/tqdm/_tqdm_notebook.py\", line 226, in __iter__\n",
      "    self.sp(bar_style='danger')\n",
      "AttributeError: 'tqdm_notebook' object has no attribute 'sp'\n",
      "Exception ignored in: <generator object tqdm_notebook.__iter__ at 0x7f1f44043150>\n",
      "Traceback (most recent call last):\n",
      "  File \"/mnt/cube/tsainbur/conda_envs/tpy3/lib/python3.6/site-packages/tqdm/_tqdm_notebook.py\", line 226, in __iter__\n",
      "    self.sp(bar_style='danger')\n",
      "AttributeError: 'tqdm_notebook' object has no attribute 'sp'\n",
      "Exception ignored in: <generator object tqdm_notebook.__iter__ at 0x7f1f441eea98>\n",
      "Traceback (most recent call last):\n",
      "  File \"/mnt/cube/tsainbur/conda_envs/tpy3/lib/python3.6/site-packages/tqdm/_tqdm_notebook.py\", line 226, in __iter__\n",
      "    self.sp(bar_style='danger')\n",
      "AttributeError: 'tqdm_notebook' object has no attribute 'sp'\n",
      "Exception ignored in: <generator object tqdm_notebook.__iter__ at 0x7f1eb4a7d3b8>\n",
      "Traceback (most recent call last):\n",
      "  File \"/mnt/cube/tsainbur/conda_envs/tpy3/lib/python3.6/site-packages/tqdm/_tqdm_notebook.py\", line 226, in __iter__\n",
      "    self.sp(bar_style='danger')\n",
      "AttributeError: 'tqdm_notebook' object has no attribute 'sp'\n",
      "Exception ignored in: <generator object tqdm_notebook.__iter__ at 0x7f1f603b6fc0>\n",
      "Traceback (most recent call last):\n",
      "  File \"/mnt/cube/tsainbur/conda_envs/tpy3/lib/python3.6/site-packages/tqdm/_tqdm_notebook.py\", line 226, in __iter__\n",
      "    self.sp(bar_style='danger')\n",
      "AttributeError: 'tqdm_notebook' object has no attribute 'sp'\n",
      "Exception ignored in: <generator object tqdm_notebook.__iter__ at 0x7f1eb46bf200>\n",
      "Traceback (most recent call last):\n",
      "  File \"/mnt/cube/tsainbur/conda_envs/tpy3/lib/python3.6/site-packages/tqdm/_tqdm_notebook.py\", line 226, in __iter__\n",
      "    self.sp(bar_style='danger')\n",
      "AttributeError: 'tqdm_notebook' object has no attribute 'sp'\n",
      "Exception ignored in: <generator object tqdm_notebook.__iter__ at 0x7f1eb46a5360>\n",
      "Traceback (most recent call last):\n",
      "  File \"/mnt/cube/tsainbur/conda_envs/tpy3/lib/python3.6/site-packages/tqdm/_tqdm_notebook.py\", line 226, in __iter__\n",
      "    self.sp(bar_style='danger')\n",
      "AttributeError: 'tqdm_notebook' object has no attribute 'sp'\n",
      "Exception ignored in: <generator object tqdm_notebook.__iter__ at 0x7f1f443a28e0>\n",
      "Traceback (most recent call last):\n",
      "  File \"/mnt/cube/tsainbur/conda_envs/tpy3/lib/python3.6/site-packages/tqdm/_tqdm_notebook.py\", line 226, in __iter__\n",
      "    self.sp(bar_style='danger')\n",
      "AttributeError: 'tqdm_notebook' object has no attribute 'sp'\n",
      "Exception ignored in: <generator object tqdm_notebook.__iter__ at 0x7f1f443a2d00>\n",
      "Traceback (most recent call last):\n",
      "  File \"/mnt/cube/tsainbur/conda_envs/tpy3/lib/python3.6/site-packages/tqdm/_tqdm_notebook.py\", line 226, in __iter__\n",
      "    self.sp(bar_style='danger')\n",
      "AttributeError: 'tqdm_notebook' object has no attribute 'sp'\n",
      "Exception ignored in: <generator object tqdm_notebook.__iter__ at 0x7f1f1c3b20a0>\n",
      "Traceback (most recent call last):\n",
      "  File \"/mnt/cube/tsainbur/conda_envs/tpy3/lib/python3.6/site-packages/tqdm/_tqdm_notebook.py\", line 226, in __iter__\n",
      "    self.sp(bar_style='danger')\n",
      "AttributeError: 'tqdm_notebook' object has no attribute 'sp'\n",
      "Exception ignored in: <generator object tqdm_notebook.__iter__ at 0x7f1f60336d00>\n",
      "Traceback (most recent call last):\n",
      "  File \"/mnt/cube/tsainbur/conda_envs/tpy3/lib/python3.6/site-packages/tqdm/_tqdm_notebook.py\", line 226, in __iter__\n",
      "    self.sp(bar_style='danger')\n",
      "AttributeError: 'tqdm_notebook' object has no attribute 'sp'\n",
      "Exception ignored in: <generator object tqdm_notebook.__iter__ at 0x7f1f442acbf8>\n",
      "Traceback (most recent call last):\n",
      "  File \"/mnt/cube/tsainbur/conda_envs/tpy3/lib/python3.6/site-packages/tqdm/_tqdm_notebook.py\", line 226, in __iter__\n",
      "    self.sp(bar_style='danger')\n",
      "AttributeError: 'tqdm_notebook' object has no attribute 'sp'\n",
      "Exception ignored in: <generator object tqdm_notebook.__iter__ at 0x7f1f443dcd00>\n",
      "Traceback (most recent call last):\n",
      "  File \"/mnt/cube/tsainbur/conda_envs/tpy3/lib/python3.6/site-packages/tqdm/_tqdm_notebook.py\", line 226, in __iter__\n",
      "    self.sp(bar_style='danger')\n",
      "AttributeError: 'tqdm_notebook' object has no attribute 'sp'\n",
      "Exception ignored in: <generator object tqdm_notebook.__iter__ at 0x7f1f443dca40>\n",
      "Traceback (most recent call last):\n",
      "  File \"/mnt/cube/tsainbur/conda_envs/tpy3/lib/python3.6/site-packages/tqdm/_tqdm_notebook.py\", line 226, in __iter__\n",
      "    self.sp(bar_style='danger')\n",
      "AttributeError: 'tqdm_notebook' object has no attribute 'sp'\n",
      "Exception ignored in: <generator object tqdm_notebook.__iter__ at 0x7f1f600ab8e0>\n",
      "Traceback (most recent call last):\n",
      "  File \"/mnt/cube/tsainbur/conda_envs/tpy3/lib/python3.6/site-packages/tqdm/_tqdm_notebook.py\", line 226, in __iter__\n",
      "    self.sp(bar_style='danger')\n",
      "AttributeError: 'tqdm_notebook' object has no attribute 'sp'\n",
      "Exception ignored in: <generator object tqdm_notebook.__iter__ at 0x7f1f601d6f10>\n",
      "Traceback (most recent call last):\n",
      "  File \"/mnt/cube/tsainbur/conda_envs/tpy3/lib/python3.6/site-packages/tqdm/_tqdm_notebook.py\", line 226, in __iter__\n",
      "    self.sp(bar_style='danger')\n",
      "AttributeError: 'tqdm_notebook' object has no attribute 'sp'\n",
      "Exception ignored in: <generator object tqdm_notebook.__iter__ at 0x7f1eb4761468>\n",
      "Traceback (most recent call last):\n",
      "  File \"/mnt/cube/tsainbur/conda_envs/tpy3/lib/python3.6/site-packages/tqdm/_tqdm_notebook.py\", line 226, in __iter__\n",
      "    self.sp(bar_style='danger')\n",
      "AttributeError: 'tqdm_notebook' object has no attribute 'sp'\n",
      "Exception ignored in: <generator object tqdm_notebook.__iter__ at 0x7f1f442ac7d8>\n",
      "Traceback (most recent call last):\n",
      "  File \"/mnt/cube/tsainbur/conda_envs/tpy3/lib/python3.6/site-packages/tqdm/_tqdm_notebook.py\", line 226, in __iter__\n",
      "    self.sp(bar_style='danger')\n",
      "AttributeError: 'tqdm_notebook' object has no attribute 'sp'\n",
      "Exception ignored in: <generator object tqdm_notebook.__iter__ at 0x7f1f1c353150>\n",
      "Traceback (most recent call last):\n",
      "  File \"/mnt/cube/tsainbur/conda_envs/tpy3/lib/python3.6/site-packages/tqdm/_tqdm_notebook.py\", line 226, in __iter__\n",
      "    self.sp(bar_style='danger')\n",
      "AttributeError: 'tqdm_notebook' object has no attribute 'sp'\n",
      "Exception ignored in: <generator object tqdm_notebook.__iter__ at 0x7f1f60310db0>\n",
      "Traceback (most recent call last):\n",
      "  File \"/mnt/cube/tsainbur/conda_envs/tpy3/lib/python3.6/site-packages/tqdm/_tqdm_notebook.py\", line 226, in __iter__\n",
      "    self.sp(bar_style='danger')\n",
      "AttributeError: 'tqdm_notebook' object has no attribute 'sp'\n"
     ]
    },
    {
     "name": "stderr",
     "output_type": "stream",
     "text": [
      "Exception ignored in: <generator object tqdm_notebook.__iter__ at 0x7f1f60336518>\n",
      "Traceback (most recent call last):\n",
      "  File \"/mnt/cube/tsainbur/conda_envs/tpy3/lib/python3.6/site-packages/tqdm/_tqdm_notebook.py\", line 226, in __iter__\n",
      "    self.sp(bar_style='danger')\n",
      "AttributeError: 'tqdm_notebook' object has no attribute 'sp'\n",
      "Exception ignored in: <generator object tqdm_notebook.__iter__ at 0x7f1f000420a0>\n",
      "Traceback (most recent call last):\n",
      "  File \"/mnt/cube/tsainbur/conda_envs/tpy3/lib/python3.6/site-packages/tqdm/_tqdm_notebook.py\", line 226, in __iter__\n",
      "    self.sp(bar_style='danger')\n",
      "AttributeError: 'tqdm_notebook' object has no attribute 'sp'\n",
      "Exception ignored in: <generator object tqdm_notebook.__iter__ at 0x7f1f441f52b0>\n",
      "Traceback (most recent call last):\n",
      "  File \"/mnt/cube/tsainbur/conda_envs/tpy3/lib/python3.6/site-packages/tqdm/_tqdm_notebook.py\", line 226, in __iter__\n",
      "    self.sp(bar_style='danger')\n",
      "AttributeError: 'tqdm_notebook' object has no attribute 'sp'\n",
      "Exception ignored in: <generator object tqdm_notebook.__iter__ at 0x7f1f1c2cc518>\n",
      "Traceback (most recent call last):\n",
      "  File \"/mnt/cube/tsainbur/conda_envs/tpy3/lib/python3.6/site-packages/tqdm/_tqdm_notebook.py\", line 226, in __iter__\n",
      "    self.sp(bar_style='danger')\n",
      "AttributeError: 'tqdm_notebook' object has no attribute 'sp'\n"
     ]
    },
    {
     "name": "stdout",
     "output_type": "stream",
     "text": [
      "\n"
     ]
    }
   ],
   "source": [
    "windows_df = pd.DataFrame(columns = ['key', 'bout_number', 'bout_start_time', 'bout_end_time', 'bout_window', 'bout_spec'])\n",
    "\n",
    "for key in tqdm(indv_keys):    \n",
    "    # load data\n",
    "    wf = dataset.data_files[key].data['wav_loc']\n",
    "    data, rate = librosa.core.load(wf, sr=None)\n",
    "    data = butter_bandpass_filter(data, 500, 7999, rate, order = 2)\n",
    "    \n",
    "    # get start and end times\n",
    "    start_times = dataset.data_files[key].data['indvs']['UNK']['syllables']['start_times']\n",
    "    end_times = dataset.data_files[key].data['indvs']['UNK']['syllables']['end_times']\n",
    "    if len(start_times) < 20: \n",
    "        continue\n",
    "    \n",
    "    # get split times\n",
    "    split_points = [False] + list(np.array(start_times[1:]) - (end_times[:-1]) > silence_thresh_seconds)\n",
    "    split_point_locs = [0] + list(np.where(split_points)[0])\n",
    "    if split_point_locs[-1] != len(split_points) -1:\n",
    "        split_point_locs = split_point_locs + [len(split_points) -1]\n",
    "\n",
    "    # get the spectrogram\n",
    "    # segment\n",
    "    results = dynamic_threshold_segmentation(\n",
    "        data,\n",
    "        rate,\n",
    "        n_fft=n_fft,\n",
    "        hop_length_ms=hop_length_ms,\n",
    "        win_length_ms=win_length_ms,\n",
    "        min_level_db_floor=min_level_db_floor,\n",
    "        db_delta=db_delta,\n",
    "        ref_level_db=ref_level_db,\n",
    "        pre=pre,\n",
    "        min_silence_for_spec=min_silence_for_spec,\n",
    "        max_vocal_for_spec=max_vocal_for_spec,\n",
    "        min_level_db=min_level_db,\n",
    "        silence_threshold=silence_threshold,\n",
    "        verbose=False,\n",
    "        min_syllable_length_s=min_syllable_length_s,\n",
    "        spectral_range=spectral_range,\n",
    "    )\n",
    "    spec = results['spec']\n",
    "    spec = np.array(Image.fromarray(spec).resize((np.shape(spec)[1], 32), Image.ANTIALIAS))\n",
    "    \n",
    "    # get bouts\n",
    "    for bi, (sp0, sp1) in enumerate(zip(split_point_locs[:-1], split_point_locs[1:])):\n",
    "        spec_st = int(start_times[sp0] / (hop_length_ms/ 1000))\n",
    "        spec_et = int(end_times[sp1-1] / (hop_length_ms/ 1000))\n",
    "        bout_spec = spec[:, spec_st:spec_et]\n",
    "        \n",
    "        # get windows\n",
    "        window_length_frames = int(window_length_ms / hop_length_ms)\n",
    "        windows = [i for i in window(bout_spec.T, n=window_length_frames)]\n",
    "        windows = np.reshape(windows, (len(windows), np.product(np.shape(windows)[1:])))\n",
    "        \n",
    "        windows_df.loc[len(windows_df)] = [key, bi, sp0, sp1, windows, bout_spec]"
   ]
  },
  {
   "cell_type": "code",
   "execution_count": 148,
   "metadata": {
    "ExecuteTime": {
     "end_time": "2019-11-07T21:27:10.366227Z",
     "start_time": "2019-11-07T21:27:10.286153Z"
    }
   },
   "outputs": [],
   "source": [
    "ensure_dir(DATA_DIR/'umap_windows' / DATASET_ID)\n",
    "save_loc = DATA_DIR/'umap_windows' / DATASET_ID / ('gibbon_windows_' + str(window_length_ms)+ '.pickle')"
   ]
  },
  {
   "cell_type": "code",
   "execution_count": 149,
   "metadata": {
    "ExecuteTime": {
     "end_time": "2019-11-07T21:27:17.942190Z",
     "start_time": "2019-11-07T21:27:10.882827Z"
    }
   },
   "outputs": [],
   "source": [
    "windows_df.to_pickle(save_loc)"
   ]
  },
  {
   "cell_type": "code",
   "execution_count": null,
   "metadata": {},
   "outputs": [],
   "source": []
  }
 ],
 "metadata": {
  "kernelspec": {
   "display_name": "Python 3",
   "language": "python",
   "name": "python3"
  },
  "language_info": {
   "codemirror_mode": {
    "name": "ipython",
    "version": 3
   },
   "file_extension": ".py",
   "mimetype": "text/x-python",
   "name": "python",
   "nbconvert_exporter": "python",
   "pygments_lexer": "ipython3",
   "version": "3.6.7"
  }
 },
 "nbformat": 4,
 "nbformat_minor": 4
}
