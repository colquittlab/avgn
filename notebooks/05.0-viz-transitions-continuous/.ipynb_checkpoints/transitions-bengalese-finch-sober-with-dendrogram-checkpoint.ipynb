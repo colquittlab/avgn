{
 "cells": [
  {
   "cell_type": "code",
   "execution_count": 1,
   "metadata": {
    "ExecuteTime": {
     "end_time": "2019-10-20T20:42:40.603561Z",
     "start_time": "2019-10-20T20:42:40.598086Z"
    }
   },
   "outputs": [
    {
     "name": "stdout",
     "output_type": "stream",
     "text": [
      "env: CUDA_DEVICE_ORDER=PCI_BUS_ID\n",
      "env: CUDA_VISIBLE_DEVICES=2\n"
     ]
    }
   ],
   "source": [
    "%env CUDA_DEVICE_ORDER=PCI_BUS_ID\n",
    "%env CUDA_VISIBLE_DEVICES=2"
   ]
  },
  {
   "cell_type": "code",
   "execution_count": 2,
   "metadata": {
    "ExecuteTime": {
     "end_time": "2019-10-20T20:42:40.754975Z",
     "start_time": "2019-10-20T20:42:40.605475Z"
    }
   },
   "outputs": [],
   "source": [
    "%load_ext autoreload\n",
    "%autoreload 2"
   ]
  },
  {
   "cell_type": "code",
   "execution_count": 3,
   "metadata": {
    "ExecuteTime": {
     "end_time": "2019-10-20T20:42:46.794902Z",
     "start_time": "2019-10-20T20:42:40.756848Z"
    }
   },
   "outputs": [
    {
     "name": "stderr",
     "output_type": "stream",
     "text": [
      "/mnt/cube/tsainbur/conda_envs/tpy3/lib/python3.6/site-packages/tqdm/autonotebook/__init__.py:14: TqdmExperimentalWarning: Using `tqdm.autonotebook.tqdm` in notebook mode. Use `tqdm.tqdm` instead to force console mode (e.g. in jupyter console)\n",
      "  \" (e.g. in jupyter console)\", TqdmExperimentalWarning)\n"
     ]
    }
   ],
   "source": [
    "import numpy as np\n",
    "import matplotlib.pyplot as plt\n",
    "%matplotlib inline\n",
    "from tqdm.autonotebook import tqdm\n",
    "from joblib import Parallel, delayed\n",
    "import umap\n",
    "import pandas as pd"
   ]
  },
  {
   "cell_type": "code",
   "execution_count": 4,
   "metadata": {
    "ExecuteTime": {
     "end_time": "2019-10-20T20:42:47.577273Z",
     "start_time": "2019-10-20T20:42:46.796977Z"
    }
   },
   "outputs": [],
   "source": [
    "from avgn.utils.paths import DATA_DIR, most_recent_subdirectory, ensure_dir\n",
    "from avgn.signalprocessing.create_spectrogram_dataset import flatten_spectrograms\n",
    "from avgn.visualization.spectrogram import draw_spec_set\n",
    "from avgn.visualization.quickplots import draw_projection_plots"
   ]
  },
  {
   "cell_type": "code",
   "execution_count": 5,
   "metadata": {
    "ExecuteTime": {
     "end_time": "2019-10-20T20:42:47.623359Z",
     "start_time": "2019-10-20T20:42:47.579638Z"
    }
   },
   "outputs": [],
   "source": [
    "from avgn.visualization.projections import (\n",
    "    scatter_projections,\n",
    "    draw_projection_transitions,\n",
    ")"
   ]
  },
  {
   "cell_type": "markdown",
   "metadata": {},
   "source": [
    "### Collect data"
   ]
  },
  {
   "cell_type": "code",
   "execution_count": 6,
   "metadata": {
    "ExecuteTime": {
     "end_time": "2019-10-20T20:42:47.738617Z",
     "start_time": "2019-10-20T20:42:47.625198Z"
    }
   },
   "outputs": [],
   "source": [
    "DATASET_ID = 'bengalese_finch_sober'"
   ]
  },
  {
   "cell_type": "markdown",
   "metadata": {
    "ExecuteTime": {
     "end_time": "2019-10-20T18:22:20.339583Z",
     "start_time": "2019-10-20T18:22:16.785947Z"
    }
   },
   "source": [
    "### create dataset"
   ]
  },
  {
   "cell_type": "code",
   "execution_count": 7,
   "metadata": {
    "ExecuteTime": {
     "end_time": "2019-10-20T20:42:47.822642Z",
     "start_time": "2019-10-20T20:42:47.740639Z"
    }
   },
   "outputs": [],
   "source": [
    "from avgn.utils.hparams import HParams\n",
    "from avgn.dataset import DataSet"
   ]
  },
  {
   "cell_type": "code",
   "execution_count": 8,
   "metadata": {
    "ExecuteTime": {
     "end_time": "2019-10-20T20:42:47.905323Z",
     "start_time": "2019-10-20T20:42:47.824659Z"
    }
   },
   "outputs": [],
   "source": [
    "hparams = HParams(\n",
    "    num_mel_bins = 32,\n",
    "    mel_lower_edge_hertz=500,\n",
    "    mel_upper_edge_hertz=15000,\n",
    "    butter_lowcut = 500,\n",
    "    butter_highcut = 15000,\n",
    "    ref_level_db = 20,\n",
    "    min_level_db = -25,\n",
    "    mask_spec = True,\n",
    "    win_length_ms = 10,\n",
    "    hop_length_ms = 2,\n",
    "    nex=-1,\n",
    "    n_jobs=-1,\n",
    "    verbosity = 1,\n",
    ")"
   ]
  },
  {
   "cell_type": "code",
   "execution_count": 9,
   "metadata": {
    "ExecuteTime": {
     "end_time": "2019-10-20T20:43:01.105853Z",
     "start_time": "2019-10-20T20:42:47.907254Z"
    }
   },
   "outputs": [
    {
     "data": {
      "application/vnd.jupyter.widget-view+json": {
       "model_id": "354edd92431f4b4f98c5bf8eaf3e5c48",
       "version_major": 2,
       "version_minor": 0
      },
      "text/plain": [
       "HBox(children=(IntProgress(value=0, description='loading json', max=2663, style=ProgressStyle(description_widt…"
      ]
     },
     "metadata": {},
     "output_type": "display_data"
    },
    {
     "name": "stderr",
     "output_type": "stream",
     "text": [
      "[Parallel(n_jobs=-1)]: Using backend LokyBackend with 24 concurrent workers.\n",
      "[Parallel(n_jobs=-1)]: Done   2 tasks      | elapsed:    4.6s\n"
     ]
    },
    {
     "name": "stdout",
     "output_type": "stream",
     "text": [
      "\n"
     ]
    },
    {
     "name": "stderr",
     "output_type": "stream",
     "text": [
      "[Parallel(n_jobs=-1)]: Done 2663 out of 2663 | elapsed:    5.4s finished\n"
     ]
    },
    {
     "data": {
      "application/vnd.jupyter.widget-view+json": {
       "model_id": "",
       "version_major": 2,
       "version_minor": 0
      },
      "text/plain": [
       "HBox(children=(IntProgress(value=0, description='getting unique individuals', max=2663, style=ProgressStyle(de…"
      ]
     },
     "metadata": {},
     "output_type": "display_data"
    },
    {
     "name": "stdout",
     "output_type": "stream",
     "text": [
      "\r"
     ]
    }
   ],
   "source": [
    "# create a dataset object\n",
    "dataset = DataSet(DATASET_ID, hparams = hparams)"
   ]
  },
  {
   "cell_type": "markdown",
   "metadata": {},
   "source": [
    "### load syllable df"
   ]
  },
  {
   "cell_type": "code",
   "execution_count": 10,
   "metadata": {
    "ExecuteTime": {
     "end_time": "2019-10-20T20:43:01.188309Z",
     "start_time": "2019-10-20T20:43:01.108369Z"
    }
   },
   "outputs": [
    {
     "data": {
      "text/plain": [
       "PosixPath('/local/home/tsainbur/github_repos/avgn_paper/data/syllable_dfs/bengalese_finch_sober/bf.pickle')"
      ]
     },
     "execution_count": 10,
     "metadata": {},
     "output_type": "execute_result"
    }
   ],
   "source": [
    "df_loc =  DATA_DIR / 'syllable_dfs' / DATASET_ID / 'bf.pickle'\n",
    "df_loc"
   ]
  },
  {
   "cell_type": "code",
   "execution_count": 11,
   "metadata": {
    "ExecuteTime": {
     "end_time": "2019-10-20T20:43:02.068285Z",
     "start_time": "2019-10-20T20:43:01.190111Z"
    }
   },
   "outputs": [],
   "source": [
    "syllable_df = pd.read_pickle(df_loc)"
   ]
  },
  {
   "cell_type": "code",
   "execution_count": 12,
   "metadata": {
    "ExecuteTime": {
     "end_time": "2019-10-20T20:43:02.220445Z",
     "start_time": "2019-10-20T20:43:02.083171Z"
    }
   },
   "outputs": [
    {
     "data": {
      "text/html": [
       "<div>\n",
       "<style scoped>\n",
       "    .dataframe tbody tr th:only-of-type {\n",
       "        vertical-align: middle;\n",
       "    }\n",
       "\n",
       "    .dataframe tbody tr th {\n",
       "        vertical-align: top;\n",
       "    }\n",
       "\n",
       "    .dataframe thead th {\n",
       "        text-align: right;\n",
       "    }\n",
       "</style>\n",
       "<table border=\"1\" class=\"dataframe\">\n",
       "  <thead>\n",
       "    <tr style=\"text-align: right;\">\n",
       "      <th></th>\n",
       "      <th>start_time</th>\n",
       "      <th>end_time</th>\n",
       "      <th>labels</th>\n",
       "      <th>indv</th>\n",
       "      <th>indvi</th>\n",
       "      <th>key</th>\n",
       "      <th>rate</th>\n",
       "      <th>spectrogram</th>\n",
       "    </tr>\n",
       "  </thead>\n",
       "  <tbody>\n",
       "    <tr>\n",
       "      <th>0</th>\n",
       "      <td>1.058250</td>\n",
       "      <td>1.089219</td>\n",
       "      <td>i</td>\n",
       "      <td>gr41rd51</td>\n",
       "      <td>0</td>\n",
       "      <td>gr41rd51__3part_SYLc_th4191_belowhits_220612_1...</td>\n",
       "      <td>32000</td>\n",
       "      <td>[[5, 5, 5, 5, 3, 25, 26, 75, 105, 80, 47, 16, ...</td>\n",
       "    </tr>\n",
       "    <tr>\n",
       "      <th>1</th>\n",
       "      <td>2.058187</td>\n",
       "      <td>2.117165</td>\n",
       "      <td>i</td>\n",
       "      <td>gr41rd51</td>\n",
       "      <td>0</td>\n",
       "      <td>gr41rd51__3part_SYLc_th4191_belowhits_220612_1...</td>\n",
       "      <td>32000</td>\n",
       "      <td>[[4, 4, 4, 4, 16, 8, 6, 11, 7, 3, 3, 14, 51, 2...</td>\n",
       "    </tr>\n",
       "    <tr>\n",
       "      <th>2</th>\n",
       "      <td>2.234500</td>\n",
       "      <td>2.285938</td>\n",
       "      <td>i</td>\n",
       "      <td>gr41rd51</td>\n",
       "      <td>0</td>\n",
       "      <td>gr41rd51__3part_SYLc_th4191_belowhits_220612_1...</td>\n",
       "      <td>32000</td>\n",
       "      <td>[[2, 2, 2, 3, 0, 26, 49, 12, 9, 2, 2, 93, 68, ...</td>\n",
       "    </tr>\n",
       "  </tbody>\n",
       "</table>\n",
       "</div>"
      ],
      "text/plain": [
       "   start_time  end_time labels      indv  indvi  \\\n",
       "0    1.058250  1.089219      i  gr41rd51      0   \n",
       "1    2.058187  2.117165      i  gr41rd51      0   \n",
       "2    2.234500  2.285938      i  gr41rd51      0   \n",
       "\n",
       "                                                 key   rate  \\\n",
       "0  gr41rd51__3part_SYLc_th4191_belowhits_220612_1...  32000   \n",
       "1  gr41rd51__3part_SYLc_th4191_belowhits_220612_1...  32000   \n",
       "2  gr41rd51__3part_SYLc_th4191_belowhits_220612_1...  32000   \n",
       "\n",
       "                                         spectrogram  \n",
       "0  [[5, 5, 5, 5, 3, 25, 26, 75, 105, 80, 47, 16, ...  \n",
       "1  [[4, 4, 4, 4, 16, 8, 6, 11, 7, 3, 3, 14, 51, 2...  \n",
       "2  [[2, 2, 2, 3, 0, 26, 49, 12, 9, 2, 2, 93, 68, ...  "
      ]
     },
     "execution_count": 12,
     "metadata": {},
     "output_type": "execute_result"
    }
   ],
   "source": [
    "syllable_df[:3]"
   ]
  },
  {
   "cell_type": "code",
   "execution_count": 54,
   "metadata": {
    "ExecuteTime": {
     "end_time": "2019-10-20T21:22:29.530309Z",
     "start_time": "2019-10-20T21:22:29.057331Z"
    }
   },
   "outputs": [
    {
     "data": {
      "image/png": "[encoded data removed]",
      "text/plain": [
       "<Figure size 432x288 with 1 Axes>"
      ]
     },
     "metadata": {
      "needs_background": "light"
     },
     "output_type": "display_data"
    }
   ],
   "source": [
    "plt.hist(np.array(syllable_df.end_time - syllable_df.start_time), bins=50);"
   ]
  },
  {
   "cell_type": "markdown",
   "metadata": {},
   "source": [
    "### Cluster"
   ]
  },
  {
   "cell_type": "code",
   "execution_count": 13,
   "metadata": {
    "ExecuteTime": {
     "end_time": "2019-10-20T20:43:02.284454Z",
     "start_time": "2019-10-20T20:43:02.222248Z"
    }
   },
   "outputs": [],
   "source": [
    "def norm(x):\n",
    "    return (x - np.min(x)) / (np.max(x) - np.min(x))"
   ]
  },
  {
   "cell_type": "code",
   "execution_count": 14,
   "metadata": {
    "ExecuteTime": {
     "end_time": "2019-10-20T20:43:02.702856Z",
     "start_time": "2019-10-20T20:43:02.289785Z"
    }
   },
   "outputs": [],
   "source": [
    "from cuml.manifold.umap import UMAP as cumlUMAP\n",
    "import hdbscan"
   ]
  },
  {
   "cell_type": "code",
   "execution_count": 15,
   "metadata": {
    "ExecuteTime": {
     "end_time": "2019-10-20T20:43:02.771561Z",
     "start_time": "2019-10-20T20:43:02.705327Z"
    }
   },
   "outputs": [],
   "source": [
    "from avgn.umap import umap_reduce"
   ]
  },
  {
   "cell_type": "code",
   "execution_count": 18,
   "metadata": {
    "ExecuteTime": {
     "end_time": "2019-10-20T21:04:31.321013Z",
     "start_time": "2019-10-20T20:55:47.867630Z"
    },
    "scrolled": true
   },
   "outputs": [
    {
     "data": {
      "application/vnd.jupyter.widget-view+json": {
       "model_id": "5540e58fc2454f22b64d452513a3fd26",
       "version_major": 2,
       "version_minor": 0
      },
      "text/plain": [
       "HBox(children=(IntProgress(value=0, max=4), HTML(value='')))"
      ]
     },
     "metadata": {},
     "output_type": "display_data"
    },
    {
     "name": "stdout",
     "output_type": "stream",
     "text": [
      "gr41rd51 52788\n"
     ]
    },
    {
     "name": "stderr",
     "output_type": "stream",
     "text": [
      "Exception ignored in: <bound method UMAP.__del__ of UMAP()>\n",
      "Traceback (most recent call last):\n",
      "  File \"cuml/manifold/umap.pyx\", line 313, in cuml.manifold.umap.UMAP.__del__\n",
      "AttributeError: 'UMAP' object has no attribute 'umap_params'\n",
      "/local/home/tsainbur/github_repos/avgn_paper/avgn/umap.py:11: UserWarning: Exception occured! file=/conda/conda-bld/libcuml_1566588242169/work/cpp/src/common/cumlHandle.cpp line=177: FAIL: call='cudaGetDevice(&cur_dev)'. Reason:no CUDA-capable device is detected\n",
      "\n",
      "Obtained 64 stack frames\n",
      "#0 in /mnt/cube/tsainbur/conda_envs/tpy3/lib/python3.6/site-packages/cuml/common/../../../../libcuml++.so(_ZN8MLCommon9Exception16collectCallStackEv+0x3e) [0x7f8b1806556e]\n",
      "#1 in /mnt/cube/tsainbur/conda_envs/tpy3/lib/python3.6/site-packages/cuml/common/../../../../libcuml++.so(_ZN8MLCommon9ExceptionC2ERKNSt7__cxx1112basic_stringIcSt11char_traitsIcESaIcEEE+0x80) [0x7f8b18066080]\n",
      "#2 in /mnt/cube/tsainbur/conda_envs/tpy3/lib/python3.6/site-packages/cuml/common/../../../../libcuml++.so(+0x1ad2f0) [0x7f8b180632f0]\n",
      "#3 in /mnt/cube/tsainbur/conda_envs/tpy3/lib/python3.6/site-packages/cuml/common/../../../../libcuml++.so(_ZN2ML15cumlHandle_implC1Ev+0xc) [0x7f8b18064f8c]\n",
      "#4 in /mnt/cube/tsainbur/conda_envs/tpy3/lib/python3.6/site-packages/cuml/common/../../../../libcuml++.so(_ZN2ML10cumlHandleC1Ev+0x1e) [0x7f8b180650de]\n",
      "#5 in /mnt/cube/tsainbur/conda_envs/tpy3/lib/python3.6/site-packages/cuml/common/handle.cpython-36m-x86_64-linux-gnu.so(+0x8446) [0x7f8c7002f446]\n",
      "#6 in /mnt/cube/tsainbur/conda_envs/tpy3/bin/python(+0x1a3755) [0x5627966e7755]\n",
      "#7 in /mnt/cube/tsainbur/conda_envs/tpy3/lib/python3.6/site-packages/cuml/common/base.cpython-36m-x86_64-linux-gnu.so(+0xc05b) [0x7f8c7b6a005b]\n",
      "#8 in /mnt/cube/tsainbur/conda_envs/tpy3/lib/python3.6/site-packages/cuml/manifold/umap.cpython-36m-x86_64-linux-gnu.so(+0x131dd) [0x7f8ae25d71dd]\n",
      "#9 in /mnt/cube/tsainbur/conda_envs/tpy3/bin/python(_PyObject_FastCallDict+0x8b) [0x5627966577bb]\n",
      "#10 in /mnt/cube/tsainbur/conda_envs/tpy3/bin/python(_PyObject_Call_Prepend+0x63) [0x56279665c613]\n",
      "#11 in /mnt/cube/tsainbur/conda_envs/tpy3/bin/python(PyObject_Call+0x3e) [0x5627966573de]\n",
      "#12 in /mnt/cube/tsainbur/conda_envs/tpy3/bin/python(+0x1789fb) [0x5627966bc9fb]\n",
      "#13 in /mnt/cube/tsainbur/conda_envs/tpy3/bin/python(+0x1a37a7) [0x5627966e77a7]\n",
      "#14 in /mnt/cube/tsainbur/conda_envs/tpy3/bin/python(PyObject_Call+0x3e) [0x5627966573de]\n",
      "#15 in /mnt/cube/tsainbur/conda_envs/tpy3/bin/python(_PyEval_EvalFrameDefault+0x1a26) [0x56279670be56]\n",
      "#16 in /mnt/cube/tsainbur/conda_envs/tpy3/bin/python(+0x16e056) [0x5627966b2056]\n",
      "#17 in /mnt/cube/tsainbur/conda_envs/tpy3/bin/python(+0x16f08f) [0x5627966b308f]\n",
      "#18 in /mnt/cube/tsainbur/conda_envs/tpy3/bin/python(+0x1a3545) [0x5627966e7545]\n",
      "#19 in /mnt/cube/tsainbur/conda_envs/tpy3/bin/python(_PyEval_EvalFrameDefault+0x1027) [0x56279670b457]\n",
      "#20 in /mnt/cube/tsainbur/conda_envs/tpy3/bin/python(PyEval_EvalCodeEx+0x329) [0x5627966b6749]\n",
      "#21 in /mnt/cube/tsainbur/conda_envs/tpy3/bin/python(PyEval_EvalCode+0x1c) [0x5627966b74ec]\n",
      "#22 in /mnt/cube/tsainbur/conda_envs/tpy3/bin/python(+0x1c414b) [0x56279670814b]\n",
      "#23 in /mnt/cube/tsainbur/conda_envs/tpy3/bin/python(_PyCFunction_FastCallDict+0x91) [0x562796657511]\n",
      "#24 in /mnt/cube/tsainbur/conda_envs/tpy3/bin/python(+0x1a346c) [0x5627966e746c]\n",
      "#25 in /mnt/cube/tsainbur/conda_envs/tpy3/bin/python(_PyEval_EvalFrameDefault+0x30a) [0x56279670a73a]\n",
      "#26 in /mnt/cube/tsainbur/conda_envs/tpy3/bin/python(_PyGen_Send+0x256) [0x5627966ea7e6]\n",
      "#27 in /mnt/cube/tsainbur/conda_envs/tpy3/bin/python(_PyEval_EvalFrameDefault+0x13d4) [0x56279670b804]\n",
      "#28 in /mnt/cube/tsainbur/conda_envs/tpy3/bin/python(_PyGen_Send+0x256) [0x5627966ea7e6]\n",
      "#29 in /mnt/cube/tsainbur/conda_envs/tpy3/bin/python(_PyEval_EvalFrameDefault+0x13d4) [0x56279670b804]\n",
      "#30 in /mnt/cube/tsainbur/conda_envs/tpy3/bin/python(_PyGen_Send+0x256) [0x5627966ea7e6]\n",
      "#31 in /mnt/cube/tsainbur/conda_envs/tpy3/bin/python(_PyCFunction_FastCallDict+0x115) [0x562796657595]\n",
      "#32 in /mnt/cube/tsainbur/conda_envs/tpy3/bin/python(+0x1a346c) [0x5627966e746c]\n",
      "#33 in /mnt/cube/tsainbur/conda_envs/tpy3/bin/python(_PyEval_EvalFrameDefault+0x30a) [0x56279670a73a]\n",
      "#34 in /mnt/cube/tsainbur/conda_envs/tpy3/bin/python(+0x16ee4b) [0x5627966b2e4b]\n",
      "#35 in /mnt/cube/tsainbur/conda_envs/tpy3/bin/python(+0x1a3545) [0x5627966e7545]\n",
      "#36 in /mnt/cube/tsainbur/conda_envs/tpy3/bin/python(_PyEval_EvalFrameDefault+0x30a) [0x56279670a73a]\n",
      "#37 in /mnt/cube/tsainbur/conda_envs/tpy3/bin/python(+0x16ee4b) [0x5627966b2e4b]\n",
      "#38 in /mnt/cube/tsainbur/conda_envs/tpy3/bin/python(+0x1a3545) [0x5627966e7545]\n",
      "#39 in /mnt/cube/tsainbur/conda_envs/tpy3/bin/python(_PyEval_EvalFrameDefault+0x30a) [0x56279670a73a]\n",
      "#40 in /mnt/cube/tsainbur/conda_envs/tpy3/bin/python(+0x16e056) [0x5627966b2056]\n",
      "#41 in /mnt/cube/tsainbur/conda_envs/tpy3/bin/python(_PyFunction_FastCallDict+0x3da) [0x5627966b376a]\n",
      "#42 in /mnt/cube/tsainbur/conda_envs/tpy3/bin/python(_PyObject_FastCallDict+0x26f) [0x56279665799f]\n",
      "#43 in /mnt/cube/tsainbur/conda_envs/tpy3/bin/python(_PyObject_Call_Prepend+0x63) [0x56279665c613]\n",
      "#44 in /mnt/cube/tsainbur/conda_envs/tpy3/bin/python(PyObject_Call+0x3e) [0x5627966573de]\n",
      "#45 in /mnt/cube/tsainbur/conda_envs/tpy3/bin/python(_PyEval_EvalFrameDefault+0x1a26) [0x56279670be56]\n",
      "#46 in /mnt/cube/tsainbur/conda_envs/tpy3/bin/python(+0x16e326) [0x5627966b2326]\n",
      "#47 in /mnt/cube/tsainbur/conda_envs/tpy3/bin/python(+0x16f08f) [0x5627966b308f]\n",
      "#48 in /mnt/cube/tsainbur/conda_envs/tpy3/bin/python(+0x1a3545) [0x5627966e7545]\n",
      "#49 in /mnt/cube/tsainbur/conda_envs/tpy3/bin/python(_PyEval_EvalFrameDefault+0x1027) [0x56279670b457]\n",
      "#50 in /mnt/cube/tsainbur/conda_envs/tpy3/bin/python(+0x1a6364) [0x5627966ea364]\n",
      "#51 in /mnt/cube/tsainbur/conda_envs/tpy3/bin/python(_PyCFunction_FastCallDict+0x91) [0x562796657511]\n",
      "#52 in /mnt/cube/tsainbur/conda_envs/tpy3/bin/python(+0x1a346c) [0x5627966e746c]\n",
      "#53 in /mnt/cube/tsainbur/conda_envs/tpy3/bin/python(_PyEval_EvalFrameDefault+0x30a) [0x56279670a73a]\n",
      "#54 in /mnt/cube/tsainbur/conda_envs/tpy3/bin/python(+0x16e48e) [0x5627966b248e]\n",
      "#55 in /mnt/cube/tsainbur/conda_envs/tpy3/bin/python(+0x16f08f) [0x5627966b308f]\n",
      "#56 in /mnt/cube/tsainbur/conda_envs/tpy3/bin/python(+0x1a3545) [0x5627966e7545]\n",
      "#57 in /mnt/cube/tsainbur/conda_envs/tpy3/bin/python(_PyEval_EvalFrameDefault+0x30a) [0x56279670a73a]\n",
      "#58 in /mnt/cube/tsainbur/conda_envs/tpy3/bin/python(+0x1a6364) [0x5627966ea364]\n",
      "#59 in /mnt/cube/tsainbur/conda_envs/tpy3/bin/python(_PyCFunction_FastCallDict+0x91) [0x562796657511]\n",
      "#60 in /mnt/cube/tsainbur/conda_envs/tpy3/bin/python(+0x1a346c) [0x5627966e746c]\n",
      "#61 in /mnt/cube/tsainbur/conda_envs/tpy3/bin/python(_PyEval_EvalFrameDefault+0x30a) [0x56279670a73a]\n",
      "#62 in /mnt/cube/tsainbur/conda_envs/tpy3/bin/python(+0x16e48e) [0x5627966b248e]\n",
      "#63 in /mnt/cube/tsainbur/conda_envs/tpy3/bin/python(+0x16f08f) [0x5627966b308f]\n",
      "\n",
      "  warnings.warn(e)\n",
      "/mnt/cube/tsainbur/conda_envs/tpy3/lib/python3.6/site-packages/numba/typed_passes.py:271: NumbaPerformanceWarning: \u001b[1m\n",
      "The keyword argument 'parallel=True' was specified but no transformation for parallel execution was possible.\n",
      "\n",
      "To find out why, try turning on parallel diagnostics, see http://numba.pydata.org/numba-doc/latest/user/parallel.html#diagnostics for help.\n",
      "\u001b[1m\n",
      "File \"../../../../../../../mnt/cube/tsainbur/conda_envs/tpy3/lib/python3.6/site-packages/umap/nndescent.py\", line 47:\u001b[0m\n",
      "\u001b[1m    @numba.njit(parallel=True)\n",
      "\u001b[1m    def nn_descent(\n",
      "\u001b[0m    \u001b[1m^\u001b[0m\u001b[0m\n",
      "\u001b[0m\n",
      "  state.func_ir.loc))\n",
      "/mnt/cube/tsainbur/conda_envs/tpy3/lib/python3.6/site-packages/sklearn/externals/joblib/parallel.py:268: DeprecationWarning: check_pickle is deprecated in joblib 0.12 and will be removed in 0.13\n",
      "  ' removed in 0.13', DeprecationWarning)\n",
      "/mnt/cube/tsainbur/conda_envs/tpy3/lib/python3.6/site-packages/sklearn/externals/joblib/parallel.py:268: DeprecationWarning: check_pickle is deprecated in joblib 0.12 and will be removed in 0.13\n",
      "  ' removed in 0.13', DeprecationWarning)\n",
      "/mnt/cube/tsainbur/conda_envs/tpy3/lib/python3.6/site-packages/sklearn/externals/joblib/parallel.py:268: DeprecationWarning: check_pickle is deprecated in joblib 0.12 and will be removed in 0.13\n",
      "  ' removed in 0.13', DeprecationWarning)\n",
      "/mnt/cube/tsainbur/conda_envs/tpy3/lib/python3.6/site-packages/sklearn/externals/joblib/parallel.py:268: DeprecationWarning: check_pickle is deprecated in joblib 0.12 and will be removed in 0.13\n",
      "  ' removed in 0.13', DeprecationWarning)\n"
     ]
    },
    {
     "name": "stdout",
     "output_type": "stream",
     "text": [
      "or60yw70 35799\n"
     ]
    },
    {
     "name": "stderr",
     "output_type": "stream",
     "text": [
      "Exception ignored in: <bound method UMAP.__del__ of UMAP()>\n",
      "Traceback (most recent call last):\n",
      "  File \"cuml/manifold/umap.pyx\", line 313, in cuml.manifold.umap.UMAP.__del__\n",
      "AttributeError: 'UMAP' object has no attribute 'umap_params'\n",
      "/local/home/tsainbur/github_repos/avgn_paper/avgn/umap.py:11: UserWarning: Exception occured! file=/conda/conda-bld/libcuml_1566588242169/work/cpp/src/common/cumlHandle.cpp line=177: FAIL: call='cudaGetDevice(&cur_dev)'. Reason:no CUDA-capable device is detected\n",
      "\n",
      "Obtained 64 stack frames\n",
      "#0 in /mnt/cube/tsainbur/conda_envs/tpy3/lib/python3.6/site-packages/cuml/common/../../../../libcuml++.so(_ZN8MLCommon9Exception16collectCallStackEv+0x3e) [0x7f8b1806556e]\n",
      "#1 in /mnt/cube/tsainbur/conda_envs/tpy3/lib/python3.6/site-packages/cuml/common/../../../../libcuml++.so(_ZN8MLCommon9ExceptionC2ERKNSt7__cxx1112basic_stringIcSt11char_traitsIcESaIcEEE+0x80) [0x7f8b18066080]\n",
      "#2 in /mnt/cube/tsainbur/conda_envs/tpy3/lib/python3.6/site-packages/cuml/common/../../../../libcuml++.so(+0x1ad2f0) [0x7f8b180632f0]\n",
      "#3 in /mnt/cube/tsainbur/conda_envs/tpy3/lib/python3.6/site-packages/cuml/common/../../../../libcuml++.so(_ZN2ML15cumlHandle_implC1Ev+0xc) [0x7f8b18064f8c]\n",
      "#4 in /mnt/cube/tsainbur/conda_envs/tpy3/lib/python3.6/site-packages/cuml/common/../../../../libcuml++.so(_ZN2ML10cumlHandleC1Ev+0x1e) [0x7f8b180650de]\n",
      "#5 in /mnt/cube/tsainbur/conda_envs/tpy3/lib/python3.6/site-packages/cuml/common/handle.cpython-36m-x86_64-linux-gnu.so(+0x8446) [0x7f8c7002f446]\n",
      "#6 in /mnt/cube/tsainbur/conda_envs/tpy3/bin/python(+0x1a3755) [0x5627966e7755]\n",
      "#7 in /mnt/cube/tsainbur/conda_envs/tpy3/lib/python3.6/site-packages/cuml/common/base.cpython-36m-x86_64-linux-gnu.so(+0xc05b) [0x7f8c7b6a005b]\n",
      "#8 in /mnt/cube/tsainbur/conda_envs/tpy3/lib/python3.6/site-packages/cuml/manifold/umap.cpython-36m-x86_64-linux-gnu.so(+0x131dd) [0x7f8ae25d71dd]\n",
      "#9 in /mnt/cube/tsainbur/conda_envs/tpy3/bin/python(_PyObject_FastCallDict+0x8b) [0x5627966577bb]\n",
      "#10 in /mnt/cube/tsainbur/conda_envs/tpy3/bin/python(_PyObject_Call_Prepend+0x63) [0x56279665c613]\n",
      "#11 in /mnt/cube/tsainbur/conda_envs/tpy3/bin/python(PyObject_Call+0x3e) [0x5627966573de]\n",
      "#12 in /mnt/cube/tsainbur/conda_envs/tpy3/bin/python(+0x1789fb) [0x5627966bc9fb]\n",
      "#13 in /mnt/cube/tsainbur/conda_envs/tpy3/bin/python(+0x1a37a7) [0x5627966e77a7]\n",
      "#14 in /mnt/cube/tsainbur/conda_envs/tpy3/bin/python(PyObject_Call+0x3e) [0x5627966573de]\n",
      "#15 in /mnt/cube/tsainbur/conda_envs/tpy3/bin/python(_PyEval_EvalFrameDefault+0x1a26) [0x56279670be56]\n",
      "#16 in /mnt/cube/tsainbur/conda_envs/tpy3/bin/python(+0x16e056) [0x5627966b2056]\n",
      "#17 in /mnt/cube/tsainbur/conda_envs/tpy3/bin/python(+0x16f08f) [0x5627966b308f]\n",
      "#18 in /mnt/cube/tsainbur/conda_envs/tpy3/bin/python(+0x1a3545) [0x5627966e7545]\n",
      "#19 in /mnt/cube/tsainbur/conda_envs/tpy3/bin/python(_PyEval_EvalFrameDefault+0x1027) [0x56279670b457]\n",
      "#20 in /mnt/cube/tsainbur/conda_envs/tpy3/bin/python(PyEval_EvalCodeEx+0x329) [0x5627966b6749]\n",
      "#21 in /mnt/cube/tsainbur/conda_envs/tpy3/bin/python(PyEval_EvalCode+0x1c) [0x5627966b74ec]\n",
      "#22 in /mnt/cube/tsainbur/conda_envs/tpy3/bin/python(+0x1c414b) [0x56279670814b]\n",
      "#23 in /mnt/cube/tsainbur/conda_envs/tpy3/bin/python(_PyCFunction_FastCallDict+0x91) [0x562796657511]\n",
      "#24 in /mnt/cube/tsainbur/conda_envs/tpy3/bin/python(+0x1a346c) [0x5627966e746c]\n",
      "#25 in /mnt/cube/tsainbur/conda_envs/tpy3/bin/python(_PyEval_EvalFrameDefault+0x30a) [0x56279670a73a]\n",
      "#26 in /mnt/cube/tsainbur/conda_envs/tpy3/bin/python(_PyGen_Send+0x256) [0x5627966ea7e6]\n",
      "#27 in /mnt/cube/tsainbur/conda_envs/tpy3/bin/python(_PyEval_EvalFrameDefault+0x13d4) [0x56279670b804]\n",
      "#28 in /mnt/cube/tsainbur/conda_envs/tpy3/bin/python(_PyGen_Send+0x256) [0x5627966ea7e6]\n",
      "#29 in /mnt/cube/tsainbur/conda_envs/tpy3/bin/python(_PyEval_EvalFrameDefault+0x13d4) [0x56279670b804]\n",
      "#30 in /mnt/cube/tsainbur/conda_envs/tpy3/bin/python(_PyGen_Send+0x256) [0x5627966ea7e6]\n",
      "#31 in /mnt/cube/tsainbur/conda_envs/tpy3/bin/python(_PyCFunction_FastCallDict+0x115) [0x562796657595]\n",
      "#32 in /mnt/cube/tsainbur/conda_envs/tpy3/bin/python(+0x1a346c) [0x5627966e746c]\n",
      "#33 in /mnt/cube/tsainbur/conda_envs/tpy3/bin/python(_PyEval_EvalFrameDefault+0x30a) [0x56279670a73a]\n",
      "#34 in /mnt/cube/tsainbur/conda_envs/tpy3/bin/python(+0x16ee4b) [0x5627966b2e4b]\n",
      "#35 in /mnt/cube/tsainbur/conda_envs/tpy3/bin/python(+0x1a3545) [0x5627966e7545]\n",
      "#36 in /mnt/cube/tsainbur/conda_envs/tpy3/bin/python(_PyEval_EvalFrameDefault+0x30a) [0x56279670a73a]\n",
      "#37 in /mnt/cube/tsainbur/conda_envs/tpy3/bin/python(+0x16ee4b) [0x5627966b2e4b]\n",
      "#38 in /mnt/cube/tsainbur/conda_envs/tpy3/bin/python(+0x1a3545) [0x5627966e7545]\n",
      "#39 in /mnt/cube/tsainbur/conda_envs/tpy3/bin/python(_PyEval_EvalFrameDefault+0x30a) [0x56279670a73a]\n",
      "#40 in /mnt/cube/tsainbur/conda_envs/tpy3/bin/python(+0x16e056) [0x5627966b2056]\n",
      "#41 in /mnt/cube/tsainbur/conda_envs/tpy3/bin/python(_PyFunction_FastCallDict+0x3da) [0x5627966b376a]\n",
      "#42 in /mnt/cube/tsainbur/conda_envs/tpy3/bin/python(_PyObject_FastCallDict+0x26f) [0x56279665799f]\n",
      "#43 in /mnt/cube/tsainbur/conda_envs/tpy3/bin/python(_PyObject_Call_Prepend+0x63) [0x56279665c613]\n",
      "#44 in /mnt/cube/tsainbur/conda_envs/tpy3/bin/python(PyObject_Call+0x3e) [0x5627966573de]\n",
      "#45 in /mnt/cube/tsainbur/conda_envs/tpy3/bin/python(_PyEval_EvalFrameDefault+0x1a26) [0x56279670be56]\n",
      "#46 in /mnt/cube/tsainbur/conda_envs/tpy3/bin/python(+0x16e326) [0x5627966b2326]\n",
      "#47 in /mnt/cube/tsainbur/conda_envs/tpy3/bin/python(+0x16f08f) [0x5627966b308f]\n",
      "#48 in /mnt/cube/tsainbur/conda_envs/tpy3/bin/python(+0x1a3545) [0x5627966e7545]\n",
      "#49 in /mnt/cube/tsainbur/conda_envs/tpy3/bin/python(_PyEval_EvalFrameDefault+0x1027) [0x56279670b457]\n",
      "#50 in /mnt/cube/tsainbur/conda_envs/tpy3/bin/python(+0x1a6364) [0x5627966ea364]\n",
      "#51 in /mnt/cube/tsainbur/conda_envs/tpy3/bin/python(_PyCFunction_FastCallDict+0x91) [0x562796657511]\n",
      "#52 in /mnt/cube/tsainbur/conda_envs/tpy3/bin/python(+0x1a346c) [0x5627966e746c]\n",
      "#53 in /mnt/cube/tsainbur/conda_envs/tpy3/bin/python(_PyEval_EvalFrameDefault+0x30a) [0x56279670a73a]\n",
      "#54 in /mnt/cube/tsainbur/conda_envs/tpy3/bin/python(+0x16e48e) [0x5627966b248e]\n",
      "#55 in /mnt/cube/tsainbur/conda_envs/tpy3/bin/python(+0x16f08f) [0x5627966b308f]\n",
      "#56 in /mnt/cube/tsainbur/conda_envs/tpy3/bin/python(+0x1a3545) [0x5627966e7545]\n",
      "#57 in /mnt/cube/tsainbur/conda_envs/tpy3/bin/python(_PyEval_EvalFrameDefault+0x30a) [0x56279670a73a]\n",
      "#58 in /mnt/cube/tsainbur/conda_envs/tpy3/bin/python(+0x1a6364) [0x5627966ea364]\n",
      "#59 in /mnt/cube/tsainbur/conda_envs/tpy3/bin/python(_PyCFunction_FastCallDict+0x91) [0x562796657511]\n",
      "#60 in /mnt/cube/tsainbur/conda_envs/tpy3/bin/python(+0x1a346c) [0x5627966e746c]\n",
      "#61 in /mnt/cube/tsainbur/conda_envs/tpy3/bin/python(_PyEval_EvalFrameDefault+0x30a) [0x56279670a73a]\n",
      "#62 in /mnt/cube/tsainbur/conda_envs/tpy3/bin/python(+0x16e48e) [0x5627966b248e]\n",
      "#63 in /mnt/cube/tsainbur/conda_envs/tpy3/bin/python(+0x16f08f) [0x5627966b308f]\n",
      "\n",
      "  warnings.warn(e)\n",
      "/mnt/cube/tsainbur/conda_envs/tpy3/lib/python3.6/site-packages/numba/typed_passes.py:271: NumbaPerformanceWarning: \u001b[1m\n",
      "The keyword argument 'parallel=True' was specified but no transformation for parallel execution was possible.\n",
      "\n",
      "To find out why, try turning on parallel diagnostics, see http://numba.pydata.org/numba-doc/latest/user/parallel.html#diagnostics for help.\n",
      "\u001b[1m\n",
      "File \"../../../../../../../mnt/cube/tsainbur/conda_envs/tpy3/lib/python3.6/site-packages/umap/nndescent.py\", line 47:\u001b[0m\n",
      "\u001b[1m    @numba.njit(parallel=True)\n",
      "\u001b[1m    def nn_descent(\n",
      "\u001b[0m    \u001b[1m^\u001b[0m\u001b[0m\n",
      "\u001b[0m\n",
      "  state.func_ir.loc))\n",
      "/mnt/cube/tsainbur/conda_envs/tpy3/lib/python3.6/site-packages/sklearn/externals/joblib/parallel.py:268: DeprecationWarning: check_pickle is deprecated in joblib 0.12 and will be removed in 0.13\n",
      "  ' removed in 0.13', DeprecationWarning)\n",
      "/mnt/cube/tsainbur/conda_envs/tpy3/lib/python3.6/site-packages/sklearn/externals/joblib/parallel.py:268: DeprecationWarning: check_pickle is deprecated in joblib 0.12 and will be removed in 0.13\n",
      "  ' removed in 0.13', DeprecationWarning)\n",
      "/mnt/cube/tsainbur/conda_envs/tpy3/lib/python3.6/site-packages/sklearn/externals/joblib/parallel.py:268: DeprecationWarning: check_pickle is deprecated in joblib 0.12 and will be removed in 0.13\n",
      "  ' removed in 0.13', DeprecationWarning)\n",
      "/mnt/cube/tsainbur/conda_envs/tpy3/lib/python3.6/site-packages/sklearn/externals/joblib/parallel.py:268: DeprecationWarning: check_pickle is deprecated in joblib 0.12 and will be removed in 0.13\n",
      "  ' removed in 0.13', DeprecationWarning)\n"
     ]
    },
    {
     "name": "stdout",
     "output_type": "stream",
     "text": [
      "gy6or6 56375\n"
     ]
    },
    {
     "name": "stderr",
     "output_type": "stream",
     "text": [
      "Exception ignored in: <bound method UMAP.__del__ of UMAP()>\n",
      "Traceback (most recent call last):\n",
      "  File \"cuml/manifold/umap.pyx\", line 313, in cuml.manifold.umap.UMAP.__del__\n",
      "AttributeError: 'UMAP' object has no attribute 'umap_params'\n",
      "/local/home/tsainbur/github_repos/avgn_paper/avgn/umap.py:11: UserWarning: Exception occured! file=/conda/conda-bld/libcuml_1566588242169/work/cpp/src/common/cumlHandle.cpp line=177: FAIL: call='cudaGetDevice(&cur_dev)'. Reason:no CUDA-capable device is detected\n",
      "\n",
      "Obtained 64 stack frames\n",
      "#0 in /mnt/cube/tsainbur/conda_envs/tpy3/lib/python3.6/site-packages/cuml/common/../../../../libcuml++.so(_ZN8MLCommon9Exception16collectCallStackEv+0x3e) [0x7f8b1806556e]\n",
      "#1 in /mnt/cube/tsainbur/conda_envs/tpy3/lib/python3.6/site-packages/cuml/common/../../../../libcuml++.so(_ZN8MLCommon9ExceptionC2ERKNSt7__cxx1112basic_stringIcSt11char_traitsIcESaIcEEE+0x80) [0x7f8b18066080]\n",
      "#2 in /mnt/cube/tsainbur/conda_envs/tpy3/lib/python3.6/site-packages/cuml/common/../../../../libcuml++.so(+0x1ad2f0) [0x7f8b180632f0]\n",
      "#3 in /mnt/cube/tsainbur/conda_envs/tpy3/lib/python3.6/site-packages/cuml/common/../../../../libcuml++.so(_ZN2ML15cumlHandle_implC1Ev+0xc) [0x7f8b18064f8c]\n",
      "#4 in /mnt/cube/tsainbur/conda_envs/tpy3/lib/python3.6/site-packages/cuml/common/../../../../libcuml++.so(_ZN2ML10cumlHandleC1Ev+0x1e) [0x7f8b180650de]\n",
      "#5 in /mnt/cube/tsainbur/conda_envs/tpy3/lib/python3.6/site-packages/cuml/common/handle.cpython-36m-x86_64-linux-gnu.so(+0x8446) [0x7f8c7002f446]\n",
      "#6 in /mnt/cube/tsainbur/conda_envs/tpy3/bin/python(+0x1a3755) [0x5627966e7755]\n",
      "#7 in /mnt/cube/tsainbur/conda_envs/tpy3/lib/python3.6/site-packages/cuml/common/base.cpython-36m-x86_64-linux-gnu.so(+0xc05b) [0x7f8c7b6a005b]\n",
      "#8 in /mnt/cube/tsainbur/conda_envs/tpy3/lib/python3.6/site-packages/cuml/manifold/umap.cpython-36m-x86_64-linux-gnu.so(+0x131dd) [0x7f8ae25d71dd]\n",
      "#9 in /mnt/cube/tsainbur/conda_envs/tpy3/bin/python(_PyObject_FastCallDict+0x8b) [0x5627966577bb]\n",
      "#10 in /mnt/cube/tsainbur/conda_envs/tpy3/bin/python(_PyObject_Call_Prepend+0x63) [0x56279665c613]\n",
      "#11 in /mnt/cube/tsainbur/conda_envs/tpy3/bin/python(PyObject_Call+0x3e) [0x5627966573de]\n",
      "#12 in /mnt/cube/tsainbur/conda_envs/tpy3/bin/python(+0x1789fb) [0x5627966bc9fb]\n",
      "#13 in /mnt/cube/tsainbur/conda_envs/tpy3/bin/python(+0x1a37a7) [0x5627966e77a7]\n",
      "#14 in /mnt/cube/tsainbur/conda_envs/tpy3/bin/python(PyObject_Call+0x3e) [0x5627966573de]\n",
      "#15 in /mnt/cube/tsainbur/conda_envs/tpy3/bin/python(_PyEval_EvalFrameDefault+0x1a26) [0x56279670be56]\n",
      "#16 in /mnt/cube/tsainbur/conda_envs/tpy3/bin/python(+0x16e056) [0x5627966b2056]\n",
      "#17 in /mnt/cube/tsainbur/conda_envs/tpy3/bin/python(+0x16f08f) [0x5627966b308f]\n",
      "#18 in /mnt/cube/tsainbur/conda_envs/tpy3/bin/python(+0x1a3545) [0x5627966e7545]\n",
      "#19 in /mnt/cube/tsainbur/conda_envs/tpy3/bin/python(_PyEval_EvalFrameDefault+0x1027) [0x56279670b457]\n",
      "#20 in /mnt/cube/tsainbur/conda_envs/tpy3/bin/python(PyEval_EvalCodeEx+0x329) [0x5627966b6749]\n",
      "#21 in /mnt/cube/tsainbur/conda_envs/tpy3/bin/python(PyEval_EvalCode+0x1c) [0x5627966b74ec]\n",
      "#22 in /mnt/cube/tsainbur/conda_envs/tpy3/bin/python(+0x1c414b) [0x56279670814b]\n",
      "#23 in /mnt/cube/tsainbur/conda_envs/tpy3/bin/python(_PyCFunction_FastCallDict+0x91) [0x562796657511]\n",
      "#24 in /mnt/cube/tsainbur/conda_envs/tpy3/bin/python(+0x1a346c) [0x5627966e746c]\n",
      "#25 in /mnt/cube/tsainbur/conda_envs/tpy3/bin/python(_PyEval_EvalFrameDefault+0x30a) [0x56279670a73a]\n",
      "#26 in /mnt/cube/tsainbur/conda_envs/tpy3/bin/python(_PyGen_Send+0x256) [0x5627966ea7e6]\n",
      "#27 in /mnt/cube/tsainbur/conda_envs/tpy3/bin/python(_PyEval_EvalFrameDefault+0x13d4) [0x56279670b804]\n",
      "#28 in /mnt/cube/tsainbur/conda_envs/tpy3/bin/python(_PyGen_Send+0x256) [0x5627966ea7e6]\n",
      "#29 in /mnt/cube/tsainbur/conda_envs/tpy3/bin/python(_PyEval_EvalFrameDefault+0x13d4) [0x56279670b804]\n",
      "#30 in /mnt/cube/tsainbur/conda_envs/tpy3/bin/python(_PyGen_Send+0x256) [0x5627966ea7e6]\n",
      "#31 in /mnt/cube/tsainbur/conda_envs/tpy3/bin/python(_PyCFunction_FastCallDict+0x115) [0x562796657595]\n",
      "#32 in /mnt/cube/tsainbur/conda_envs/tpy3/bin/python(+0x1a346c) [0x5627966e746c]\n",
      "#33 in /mnt/cube/tsainbur/conda_envs/tpy3/bin/python(_PyEval_EvalFrameDefault+0x30a) [0x56279670a73a]\n",
      "#34 in /mnt/cube/tsainbur/conda_envs/tpy3/bin/python(+0x16ee4b) [0x5627966b2e4b]\n",
      "#35 in /mnt/cube/tsainbur/conda_envs/tpy3/bin/python(+0x1a3545) [0x5627966e7545]\n",
      "#36 in /mnt/cube/tsainbur/conda_envs/tpy3/bin/python(_PyEval_EvalFrameDefault+0x30a) [0x56279670a73a]\n",
      "#37 in /mnt/cube/tsainbur/conda_envs/tpy3/bin/python(+0x16ee4b) [0x5627966b2e4b]\n",
      "#38 in /mnt/cube/tsainbur/conda_envs/tpy3/bin/python(+0x1a3545) [0x5627966e7545]\n",
      "#39 in /mnt/cube/tsainbur/conda_envs/tpy3/bin/python(_PyEval_EvalFrameDefault+0x30a) [0x56279670a73a]\n",
      "#40 in /mnt/cube/tsainbur/conda_envs/tpy3/bin/python(+0x16e056) [0x5627966b2056]\n",
      "#41 in /mnt/cube/tsainbur/conda_envs/tpy3/bin/python(_PyFunction_FastCallDict+0x3da) [0x5627966b376a]\n",
      "#42 in /mnt/cube/tsainbur/conda_envs/tpy3/bin/python(_PyObject_FastCallDict+0x26f) [0x56279665799f]\n",
      "#43 in /mnt/cube/tsainbur/conda_envs/tpy3/bin/python(_PyObject_Call_Prepend+0x63) [0x56279665c613]\n",
      "#44 in /mnt/cube/tsainbur/conda_envs/tpy3/bin/python(PyObject_Call+0x3e) [0x5627966573de]\n",
      "#45 in /mnt/cube/tsainbur/conda_envs/tpy3/bin/python(_PyEval_EvalFrameDefault+0x1a26) [0x56279670be56]\n",
      "#46 in /mnt/cube/tsainbur/conda_envs/tpy3/bin/python(+0x16e326) [0x5627966b2326]\n",
      "#47 in /mnt/cube/tsainbur/conda_envs/tpy3/bin/python(+0x16f08f) [0x5627966b308f]\n",
      "#48 in /mnt/cube/tsainbur/conda_envs/tpy3/bin/python(+0x1a3545) [0x5627966e7545]\n",
      "#49 in /mnt/cube/tsainbur/conda_envs/tpy3/bin/python(_PyEval_EvalFrameDefault+0x1027) [0x56279670b457]\n",
      "#50 in /mnt/cube/tsainbur/conda_envs/tpy3/bin/python(+0x1a6364) [0x5627966ea364]\n",
      "#51 in /mnt/cube/tsainbur/conda_envs/tpy3/bin/python(_PyCFunction_FastCallDict+0x91) [0x562796657511]\n",
      "#52 in /mnt/cube/tsainbur/conda_envs/tpy3/bin/python(+0x1a346c) [0x5627966e746c]\n",
      "#53 in /mnt/cube/tsainbur/conda_envs/tpy3/bin/python(_PyEval_EvalFrameDefault+0x30a) [0x56279670a73a]\n",
      "#54 in /mnt/cube/tsainbur/conda_envs/tpy3/bin/python(+0x16e48e) [0x5627966b248e]\n",
      "#55 in /mnt/cube/tsainbur/conda_envs/tpy3/bin/python(+0x16f08f) [0x5627966b308f]\n",
      "#56 in /mnt/cube/tsainbur/conda_envs/tpy3/bin/python(+0x1a3545) [0x5627966e7545]\n",
      "#57 in /mnt/cube/tsainbur/conda_envs/tpy3/bin/python(_PyEval_EvalFrameDefault+0x30a) [0x56279670a73a]\n",
      "#58 in /mnt/cube/tsainbur/conda_envs/tpy3/bin/python(+0x1a6364) [0x5627966ea364]\n",
      "#59 in /mnt/cube/tsainbur/conda_envs/tpy3/bin/python(_PyCFunction_FastCallDict+0x91) [0x562796657511]\n",
      "#60 in /mnt/cube/tsainbur/conda_envs/tpy3/bin/python(+0x1a346c) [0x5627966e746c]\n",
      "#61 in /mnt/cube/tsainbur/conda_envs/tpy3/bin/python(_PyEval_EvalFrameDefault+0x30a) [0x56279670a73a]\n",
      "#62 in /mnt/cube/tsainbur/conda_envs/tpy3/bin/python(+0x16e48e) [0x5627966b248e]\n",
      "#63 in /mnt/cube/tsainbur/conda_envs/tpy3/bin/python(+0x16f08f) [0x5627966b308f]\n",
      "\n",
      "  warnings.warn(e)\n",
      "/mnt/cube/tsainbur/conda_envs/tpy3/lib/python3.6/site-packages/numba/typed_passes.py:271: NumbaPerformanceWarning: \u001b[1m\n",
      "The keyword argument 'parallel=True' was specified but no transformation for parallel execution was possible.\n",
      "\n",
      "To find out why, try turning on parallel diagnostics, see http://numba.pydata.org/numba-doc/latest/user/parallel.html#diagnostics for help.\n",
      "\u001b[1m\n",
      "File \"../../../../../../../mnt/cube/tsainbur/conda_envs/tpy3/lib/python3.6/site-packages/umap/nndescent.py\", line 47:\u001b[0m\n",
      "\u001b[1m    @numba.njit(parallel=True)\n",
      "\u001b[1m    def nn_descent(\n",
      "\u001b[0m    \u001b[1m^\u001b[0m\u001b[0m\n",
      "\u001b[0m\n",
      "  state.func_ir.loc))\n",
      "/mnt/cube/tsainbur/conda_envs/tpy3/lib/python3.6/site-packages/sklearn/externals/joblib/parallel.py:268: DeprecationWarning: check_pickle is deprecated in joblib 0.12 and will be removed in 0.13\n",
      "  ' removed in 0.13', DeprecationWarning)\n",
      "/mnt/cube/tsainbur/conda_envs/tpy3/lib/python3.6/site-packages/sklearn/externals/joblib/parallel.py:268: DeprecationWarning: check_pickle is deprecated in joblib 0.12 and will be removed in 0.13\n",
      "  ' removed in 0.13', DeprecationWarning)\n",
      "/mnt/cube/tsainbur/conda_envs/tpy3/lib/python3.6/site-packages/sklearn/externals/joblib/parallel.py:268: DeprecationWarning: check_pickle is deprecated in joblib 0.12 and will be removed in 0.13\n",
      "  ' removed in 0.13', DeprecationWarning)\n",
      "/mnt/cube/tsainbur/conda_envs/tpy3/lib/python3.6/site-packages/sklearn/externals/joblib/parallel.py:268: DeprecationWarning: check_pickle is deprecated in joblib 0.12 and will be removed in 0.13\n",
      "  ' removed in 0.13', DeprecationWarning)\n"
     ]
    },
    {
     "name": "stdout",
     "output_type": "stream",
     "text": [
      "bl26lb16 70701\n"
     ]
    },
    {
     "name": "stderr",
     "output_type": "stream",
     "text": [
      "Exception ignored in: <bound method UMAP.__del__ of UMAP()>\n",
      "Traceback (most recent call last):\n",
      "  File \"cuml/manifold/umap.pyx\", line 313, in cuml.manifold.umap.UMAP.__del__\n",
      "AttributeError: 'UMAP' object has no attribute 'umap_params'\n",
      "/local/home/tsainbur/github_repos/avgn_paper/avgn/umap.py:11: UserWarning: Exception occured! file=/conda/conda-bld/libcuml_1566588242169/work/cpp/src/common/cumlHandle.cpp line=177: FAIL: call='cudaGetDevice(&cur_dev)'. Reason:no CUDA-capable device is detected\n",
      "\n",
      "Obtained 64 stack frames\n",
      "#0 in /mnt/cube/tsainbur/conda_envs/tpy3/lib/python3.6/site-packages/cuml/common/../../../../libcuml++.so(_ZN8MLCommon9Exception16collectCallStackEv+0x3e) [0x7f8b1806556e]\n",
      "#1 in /mnt/cube/tsainbur/conda_envs/tpy3/lib/python3.6/site-packages/cuml/common/../../../../libcuml++.so(_ZN8MLCommon9ExceptionC2ERKNSt7__cxx1112basic_stringIcSt11char_traitsIcESaIcEEE+0x80) [0x7f8b18066080]\n",
      "#2 in /mnt/cube/tsainbur/conda_envs/tpy3/lib/python3.6/site-packages/cuml/common/../../../../libcuml++.so(+0x1ad2f0) [0x7f8b180632f0]\n",
      "#3 in /mnt/cube/tsainbur/conda_envs/tpy3/lib/python3.6/site-packages/cuml/common/../../../../libcuml++.so(_ZN2ML15cumlHandle_implC1Ev+0xc) [0x7f8b18064f8c]\n",
      "#4 in /mnt/cube/tsainbur/conda_envs/tpy3/lib/python3.6/site-packages/cuml/common/../../../../libcuml++.so(_ZN2ML10cumlHandleC1Ev+0x1e) [0x7f8b180650de]\n",
      "#5 in /mnt/cube/tsainbur/conda_envs/tpy3/lib/python3.6/site-packages/cuml/common/handle.cpython-36m-x86_64-linux-gnu.so(+0x8446) [0x7f8c7002f446]\n",
      "#6 in /mnt/cube/tsainbur/conda_envs/tpy3/bin/python(+0x1a3755) [0x5627966e7755]\n",
      "#7 in /mnt/cube/tsainbur/conda_envs/tpy3/lib/python3.6/site-packages/cuml/common/base.cpython-36m-x86_64-linux-gnu.so(+0xc05b) [0x7f8c7b6a005b]\n",
      "#8 in /mnt/cube/tsainbur/conda_envs/tpy3/lib/python3.6/site-packages/cuml/manifold/umap.cpython-36m-x86_64-linux-gnu.so(+0x131dd) [0x7f8ae25d71dd]\n",
      "#9 in /mnt/cube/tsainbur/conda_envs/tpy3/bin/python(_PyObject_FastCallDict+0x8b) [0x5627966577bb]\n",
      "#10 in /mnt/cube/tsainbur/conda_envs/tpy3/bin/python(_PyObject_Call_Prepend+0x63) [0x56279665c613]\n",
      "#11 in /mnt/cube/tsainbur/conda_envs/tpy3/bin/python(PyObject_Call+0x3e) [0x5627966573de]\n",
      "#12 in /mnt/cube/tsainbur/conda_envs/tpy3/bin/python(+0x1789fb) [0x5627966bc9fb]\n",
      "#13 in /mnt/cube/tsainbur/conda_envs/tpy3/bin/python(+0x1a37a7) [0x5627966e77a7]\n",
      "#14 in /mnt/cube/tsainbur/conda_envs/tpy3/bin/python(PyObject_Call+0x3e) [0x5627966573de]\n",
      "#15 in /mnt/cube/tsainbur/conda_envs/tpy3/bin/python(_PyEval_EvalFrameDefault+0x1a26) [0x56279670be56]\n",
      "#16 in /mnt/cube/tsainbur/conda_envs/tpy3/bin/python(+0x16e056) [0x5627966b2056]\n",
      "#17 in /mnt/cube/tsainbur/conda_envs/tpy3/bin/python(+0x16f08f) [0x5627966b308f]\n",
      "#18 in /mnt/cube/tsainbur/conda_envs/tpy3/bin/python(+0x1a3545) [0x5627966e7545]\n",
      "#19 in /mnt/cube/tsainbur/conda_envs/tpy3/bin/python(_PyEval_EvalFrameDefault+0x1027) [0x56279670b457]\n",
      "#20 in /mnt/cube/tsainbur/conda_envs/tpy3/bin/python(PyEval_EvalCodeEx+0x329) [0x5627966b6749]\n",
      "#21 in /mnt/cube/tsainbur/conda_envs/tpy3/bin/python(PyEval_EvalCode+0x1c) [0x5627966b74ec]\n",
      "#22 in /mnt/cube/tsainbur/conda_envs/tpy3/bin/python(+0x1c414b) [0x56279670814b]\n",
      "#23 in /mnt/cube/tsainbur/conda_envs/tpy3/bin/python(_PyCFunction_FastCallDict+0x91) [0x562796657511]\n",
      "#24 in /mnt/cube/tsainbur/conda_envs/tpy3/bin/python(+0x1a346c) [0x5627966e746c]\n",
      "#25 in /mnt/cube/tsainbur/conda_envs/tpy3/bin/python(_PyEval_EvalFrameDefault+0x30a) [0x56279670a73a]\n",
      "#26 in /mnt/cube/tsainbur/conda_envs/tpy3/bin/python(_PyGen_Send+0x256) [0x5627966ea7e6]\n",
      "#27 in /mnt/cube/tsainbur/conda_envs/tpy3/bin/python(_PyEval_EvalFrameDefault+0x13d4) [0x56279670b804]\n",
      "#28 in /mnt/cube/tsainbur/conda_envs/tpy3/bin/python(_PyGen_Send+0x256) [0x5627966ea7e6]\n",
      "#29 in /mnt/cube/tsainbur/conda_envs/tpy3/bin/python(_PyEval_EvalFrameDefault+0x13d4) [0x56279670b804]\n",
      "#30 in /mnt/cube/tsainbur/conda_envs/tpy3/bin/python(_PyGen_Send+0x256) [0x5627966ea7e6]\n",
      "#31 in /mnt/cube/tsainbur/conda_envs/tpy3/bin/python(_PyCFunction_FastCallDict+0x115) [0x562796657595]\n",
      "#32 in /mnt/cube/tsainbur/conda_envs/tpy3/bin/python(+0x1a346c) [0x5627966e746c]\n",
      "#33 in /mnt/cube/tsainbur/conda_envs/tpy3/bin/python(_PyEval_EvalFrameDefault+0x30a) [0x56279670a73a]\n",
      "#34 in /mnt/cube/tsainbur/conda_envs/tpy3/bin/python(+0x16ee4b) [0x5627966b2e4b]\n",
      "#35 in /mnt/cube/tsainbur/conda_envs/tpy3/bin/python(+0x1a3545) [0x5627966e7545]\n",
      "#36 in /mnt/cube/tsainbur/conda_envs/tpy3/bin/python(_PyEval_EvalFrameDefault+0x30a) [0x56279670a73a]\n",
      "#37 in /mnt/cube/tsainbur/conda_envs/tpy3/bin/python(+0x16ee4b) [0x5627966b2e4b]\n",
      "#38 in /mnt/cube/tsainbur/conda_envs/tpy3/bin/python(+0x1a3545) [0x5627966e7545]\n",
      "#39 in /mnt/cube/tsainbur/conda_envs/tpy3/bin/python(_PyEval_EvalFrameDefault+0x30a) [0x56279670a73a]\n",
      "#40 in /mnt/cube/tsainbur/conda_envs/tpy3/bin/python(+0x16e056) [0x5627966b2056]\n",
      "#41 in /mnt/cube/tsainbur/conda_envs/tpy3/bin/python(_PyFunction_FastCallDict+0x3da) [0x5627966b376a]\n",
      "#42 in /mnt/cube/tsainbur/conda_envs/tpy3/bin/python(_PyObject_FastCallDict+0x26f) [0x56279665799f]\n",
      "#43 in /mnt/cube/tsainbur/conda_envs/tpy3/bin/python(_PyObject_Call_Prepend+0x63) [0x56279665c613]\n",
      "#44 in /mnt/cube/tsainbur/conda_envs/tpy3/bin/python(PyObject_Call+0x3e) [0x5627966573de]\n",
      "#45 in /mnt/cube/tsainbur/conda_envs/tpy3/bin/python(_PyEval_EvalFrameDefault+0x1a26) [0x56279670be56]\n",
      "#46 in /mnt/cube/tsainbur/conda_envs/tpy3/bin/python(+0x16e326) [0x5627966b2326]\n",
      "#47 in /mnt/cube/tsainbur/conda_envs/tpy3/bin/python(+0x16f08f) [0x5627966b308f]\n",
      "#48 in /mnt/cube/tsainbur/conda_envs/tpy3/bin/python(+0x1a3545) [0x5627966e7545]\n",
      "#49 in /mnt/cube/tsainbur/conda_envs/tpy3/bin/python(_PyEval_EvalFrameDefault+0x1027) [0x56279670b457]\n",
      "#50 in /mnt/cube/tsainbur/conda_envs/tpy3/bin/python(+0x1a6364) [0x5627966ea364]\n",
      "#51 in /mnt/cube/tsainbur/conda_envs/tpy3/bin/python(_PyCFunction_FastCallDict+0x91) [0x562796657511]\n",
      "#52 in /mnt/cube/tsainbur/conda_envs/tpy3/bin/python(+0x1a346c) [0x5627966e746c]\n",
      "#53 in /mnt/cube/tsainbur/conda_envs/tpy3/bin/python(_PyEval_EvalFrameDefault+0x30a) [0x56279670a73a]\n",
      "#54 in /mnt/cube/tsainbur/conda_envs/tpy3/bin/python(+0x16e48e) [0x5627966b248e]\n",
      "#55 in /mnt/cube/tsainbur/conda_envs/tpy3/bin/python(+0x16f08f) [0x5627966b308f]\n",
      "#56 in /mnt/cube/tsainbur/conda_envs/tpy3/bin/python(+0x1a3545) [0x5627966e7545]\n",
      "#57 in /mnt/cube/tsainbur/conda_envs/tpy3/bin/python(_PyEval_EvalFrameDefault+0x30a) [0x56279670a73a]\n",
      "#58 in /mnt/cube/tsainbur/conda_envs/tpy3/bin/python(+0x1a6364) [0x5627966ea364]\n",
      "#59 in /mnt/cube/tsainbur/conda_envs/tpy3/bin/python(_PyCFunction_FastCallDict+0x91) [0x562796657511]\n",
      "#60 in /mnt/cube/tsainbur/conda_envs/tpy3/bin/python(+0x1a346c) [0x5627966e746c]\n",
      "#61 in /mnt/cube/tsainbur/conda_envs/tpy3/bin/python(_PyEval_EvalFrameDefault+0x30a) [0x56279670a73a]\n",
      "#62 in /mnt/cube/tsainbur/conda_envs/tpy3/bin/python(+0x16e48e) [0x5627966b248e]\n",
      "#63 in /mnt/cube/tsainbur/conda_envs/tpy3/bin/python(+0x16f08f) [0x5627966b308f]\n",
      "\n",
      "  warnings.warn(e)\n",
      "/mnt/cube/tsainbur/conda_envs/tpy3/lib/python3.6/site-packages/numba/typed_passes.py:271: NumbaPerformanceWarning: \u001b[1m\n",
      "The keyword argument 'parallel=True' was specified but no transformation for parallel execution was possible.\n",
      "\n",
      "To find out why, try turning on parallel diagnostics, see http://numba.pydata.org/numba-doc/latest/user/parallel.html#diagnostics for help.\n",
      "\u001b[1m\n",
      "File \"../../../../../../../mnt/cube/tsainbur/conda_envs/tpy3/lib/python3.6/site-packages/umap/nndescent.py\", line 47:\u001b[0m\n",
      "\u001b[1m    @numba.njit(parallel=True)\n",
      "\u001b[1m    def nn_descent(\n",
      "\u001b[0m    \u001b[1m^\u001b[0m\u001b[0m\n",
      "\u001b[0m\n",
      "  state.func_ir.loc))\n",
      "/mnt/cube/tsainbur/conda_envs/tpy3/lib/python3.6/site-packages/sklearn/externals/joblib/parallel.py:268: DeprecationWarning: check_pickle is deprecated in joblib 0.12 and will be removed in 0.13\n",
      "  ' removed in 0.13', DeprecationWarning)\n",
      "/mnt/cube/tsainbur/conda_envs/tpy3/lib/python3.6/site-packages/sklearn/externals/joblib/parallel.py:268: DeprecationWarning: check_pickle is deprecated in joblib 0.12 and will be removed in 0.13\n",
      "  ' removed in 0.13', DeprecationWarning)\n",
      "/mnt/cube/tsainbur/conda_envs/tpy3/lib/python3.6/site-packages/sklearn/externals/joblib/parallel.py:268: DeprecationWarning: check_pickle is deprecated in joblib 0.12 and will be removed in 0.13\n",
      "  ' removed in 0.13', DeprecationWarning)\n",
      "/mnt/cube/tsainbur/conda_envs/tpy3/lib/python3.6/site-packages/sklearn/externals/joblib/parallel.py:268: DeprecationWarning: check_pickle is deprecated in joblib 0.12 and will be removed in 0.13\n",
      "  ' removed in 0.13', DeprecationWarning)\n"
     ]
    },
    {
     "data": {
      "image/png": "[encoded data removed]",
      "text/plain": [
       "<Figure size 2880x1440 with 8 Axes>"
      ]
     },
     "metadata": {
      "needs_background": "light"
     },
     "output_type": "display_data"
    }
   ],
   "source": [
    "fig, ax = plt.subplots(nrows=2, ncols=len(syllable_df.indv.unique()), figsize=(10*len(syllable_df.indv.unique()), 20))\n",
    "\n",
    "indv_dfs = {}\n",
    "for indvi, indv in enumerate(tqdm(syllable_df.indv.unique())):\n",
    "    #if indv != 'Bird5': continue\n",
    "    indv_dfs[indv] = syllable_df[syllable_df.indv == indv]\n",
    "    indv_dfs[indv] = indv_dfs[indv].sort_values(by=[\"key\", \"start_time\"])\n",
    "    print(indv, len(indv_dfs[indv]))\n",
    "    specs = [norm(i) for i in indv_dfs[indv].spectrogram.values]\n",
    "    \n",
    "    # sequencing\n",
    "    indv_dfs[indv][\"syllables_sequence_id\"] = None\n",
    "    indv_dfs[indv][\"syllables_sequence_pos\"] = None\n",
    "    for ki, key in enumerate(indv_dfs[indv].key.unique()):\n",
    "        indv_dfs[indv].loc[indv_dfs[indv].key == key, \"syllables_sequence_id\"] = ki\n",
    "        indv_dfs[indv].loc[indv_dfs[indv].key == key, \"syllables_sequence_pos\"] = np.arange(\n",
    "            np.sum(indv_dfs[indv].key == key)\n",
    "        )\n",
    "        \n",
    "    # umap\n",
    "    specs_flattened = flatten_spectrograms(specs)\n",
    "    #cuml_umap = cumlUMAP(min_dist=0.5)\n",
    "    #z = list(cuml_umap.fit_transform(specs_flattened))\n",
    "    z, _ = umap_reduce(specs_flattened, min_dist = 0.5)\n",
    "    indv_dfs[indv][\"umap\"] = list(z)\n",
    "    \n",
    "    # HDBSCAN UMAP\n",
    "    clusterer = hdbscan.HDBSCAN(\n",
    "        min_cluster_size=int(len(z) * 0.01), # the smallest size we would expect a cluster to be\n",
    "        min_samples=1, # larger values = more conservative clustering\n",
    "    )\n",
    "    clusterer.fit(z);\n",
    "    indv_dfs[indv]['hdbscan_labels'] = clusterer.labels_\n",
    "\n",
    "    "
   ]
  },
  {
   "cell_type": "code",
   "execution_count": 337,
   "metadata": {
    "ExecuteTime": {
     "end_time": "2019-10-20T22:41:58.225346Z",
     "start_time": "2019-10-20T22:41:57.338090Z"
    }
   },
   "outputs": [
    {
     "data": {
      "text/plain": [
       "4"
      ]
     },
     "execution_count": 337,
     "metadata": {},
     "output_type": "execute_result"
    }
   ],
   "source": [
    "len(indv_dfs)"
   ]
  },
  {
   "cell_type": "markdown",
   "metadata": {},
   "source": [
    "### Plot spectrogram with labels"
   ]
  },
  {
   "cell_type": "code",
   "execution_count": 195,
   "metadata": {
    "ExecuteTime": {
     "end_time": "2019-10-20T22:08:24.514941Z",
     "start_time": "2019-10-20T22:08:24.388773Z"
    }
   },
   "outputs": [],
   "source": [
    "import seaborn as sns\n",
    "def song_barcode(start_times, stop_times, labels, label_pal_dict, resolution = 0.01):\n",
    "    \"\"\"\n",
    "    \"\"\"\n",
    "    begin = np.min(start_times)\n",
    "    end = np.max(stop_times)\n",
    "    trans_list = np.zeros(\n",
    "        int((end - begin) / resolution)\n",
    "    ).astype('uint8').astype(\"object\")\n",
    "    #print(end, begin, end-begin, resolution, len(trans_list))\n",
    "    for start, stop, label in zip(start_times, stop_times, labels):\n",
    "        trans_list[int((start - begin)/resolution):int((stop-begin)/resolution)] = label\n",
    "        \n",
    "    color_list = [label_pal_dict[i] if i in label_pal_dict else [1,1,1] for i in trans_list]\n",
    "    color_list = np.expand_dims(color_list, 1)\n",
    "    \n",
    "    return trans_list, color_list"
   ]
  },
  {
   "cell_type": "code",
   "execution_count": 347,
   "metadata": {
    "ExecuteTime": {
     "end_time": "2019-10-20T22:48:37.007193Z",
     "start_time": "2019-10-20T22:48:36.106213Z"
    }
   },
   "outputs": [],
   "source": [
    "def indv_barcode(indv_df, time_resolution = 0.02, label = 'labels', pal = \"tab20\"):\n",
    "    unique_labels = indv_df[label].unique()\n",
    "    # song palette\n",
    "    label_pal = np.random.permutation(sns.color_palette(pal, len(unique_labels)))\n",
    "    label_pal_dict = {\n",
    "        lab: color\n",
    "        for lab, color in zip(\n",
    "            unique_labels,\n",
    "            label_pal,\n",
    "        )\n",
    "    }\n",
    "    sns.palplot(list(label_pal_dict.values()))\n",
    "    label_dict = {lab:int(i) for i, lab in enumerate(unique_labels)}\n",
    "    \n",
    "    # get list of syllables by time\n",
    "    trans_lists = []\n",
    "    color_lists = []\n",
    "    for key in tqdm(indv_dfs[indv].key.unique()):\n",
    "        # dataframe of wavs\n",
    "        wav_df = indv_dfs[indv][indv_dfs[indv]['key'] == key]\n",
    "        labels = wav_df['labels'].values\n",
    "        start_times = wav_df.start_time.values\n",
    "        stop_times = wav_df.end_time.values\n",
    "        start_times[:3], stop_times[:3], labels[:3]\n",
    "        trans_list, color_list = song_barcode(start_times, stop_times, labels, label_pal_dict, resolution = resolution)\n",
    "        color_lists.append(color_list)\n",
    "        trans_lists.append(trans_list)\n",
    "\n",
    "    return color_lists, trans_lists, label_pal_dict, label_pal"
   ]
  },
  {
   "cell_type": "code",
   "execution_count": 348,
   "metadata": {
    "ExecuteTime": {
     "end_time": "2019-10-20T22:48:41.529229Z",
     "start_time": "2019-10-20T22:48:37.011384Z"
    }
   },
   "outputs": [
    {
     "data": {
      "application/vnd.jupyter.widget-view+json": {
       "model_id": "c5991850a6a14091a27e3c22ac173c11",
       "version_major": 2,
       "version_minor": 0
      },
      "text/plain": [
       "HBox(children=(IntProgress(value=0, max=4), HTML(value='')))"
      ]
     },
     "metadata": {},
     "output_type": "display_data"
    },
    {
     "data": {
      "application/vnd.jupyter.widget-view+json": {
       "model_id": "8b4adf50fabc4bdb980004d98df44699",
       "version_major": 2,
       "version_minor": 0
      },
      "text/plain": [
       "HBox(children=(IntProgress(value=0, max=954), HTML(value='')))"
      ]
     },
     "metadata": {},
     "output_type": "display_data"
    },
    {
     "data": {
      "image/png": "[encoded data removed]",
      "text/plain": [
       "<Figure size 1872x72 with 1 Axes>"
      ]
     },
     "metadata": {
      "needs_background": "light"
     },
     "output_type": "display_data"
    }
   ],
   "source": [
    "# for each individual in the dataset\n",
    "for indv in tqdm(indv_dfs.keys()):\n",
    "    color_lists, trans_lists, label_pal_dict, label_pal = indv_barcode(\n",
    "        indv_dfs[indv], time_resolution=0.02, label=\"labels\", pal=\"tab20\"\n",
    "    )\n",
    "    break"
   ]
  },
  {
   "cell_type": "code",
   "execution_count": 355,
   "metadata": {
    "ExecuteTime": {
     "end_time": "2019-10-20T22:55:12.970387Z",
     "start_time": "2019-10-20T22:55:12.105658Z"
    }
   },
   "outputs": [],
   "source": [
    "from scipy.cluster import hierarchy\n",
    "from nltk.metrics.distance import edit_distance\n",
    "from scipy.cluster.hierarchy import dendrogram, linkage\n",
    "from scipy.spatial.distance import squareform"
   ]
  },
  {
   "cell_type": "code",
   "execution_count": 356,
   "metadata": {
    "ExecuteTime": {
     "end_time": "2019-10-20T22:55:13.075245Z",
     "start_time": "2019-10-20T22:55:12.975076Z"
    }
   },
   "outputs": [],
   "source": [
    "from matplotlib import gridspec"
   ]
  },
  {
   "cell_type": "code",
   "execution_count": 357,
   "metadata": {
    "ExecuteTime": {
     "end_time": "2019-10-20T22:55:13.153847Z",
     "start_time": "2019-10-20T22:55:13.077274Z"
    }
   },
   "outputs": [],
   "source": [
    "max_list_len = 600 # maximum length to visualize\n",
    "seq_len = 100 # maximumim length to compute lev distance\n",
    "nex = 50 # only show up to NEX examples"
   ]
  },
  {
   "cell_type": "code",
   "execution_count": 358,
   "metadata": {
    "ExecuteTime": {
     "end_time": "2019-10-20T22:55:39.387329Z",
     "start_time": "2019-10-20T22:55:13.156464Z"
    }
   },
   "outputs": [
    {
     "data": {
      "application/vnd.jupyter.widget-view+json": {
       "model_id": "14aed503ee7b40bebed6b5440ea40b47",
       "version_major": 2,
       "version_minor": 0
      },
      "text/plain": [
       "HBox(children=(IntProgress(value=0, max=50), HTML(value='')))"
      ]
     },
     "metadata": {},
     "output_type": "display_data"
    },
    {
     "data": {
      "application/vnd.jupyter.widget-view+json": {
       "model_id": "8eac4bb24b284ed79c40cf38bf239b8d",
       "version_major": 2,
       "version_minor": 0
      },
      "text/plain": [
       "HBox(children=(IntProgress(value=0, max=49), HTML(value='')))"
      ]
     },
     "metadata": {},
     "output_type": "display_data"
    }
   ],
   "source": [
    "# subset dataset\n",
    "color_lists = color_lists[:nex]\n",
    "trans_lists = trans_lists[:nex]\n",
    "\n",
    "# get length of lists\n",
    "list_lens = [len(i) for i in trans_lists]\n",
    "\n",
    "# set max list length\n",
    "if max_list_len is None:\n",
    "    max_list_len = np.max(list_lens)\n",
    "\n",
    "# make a matrix for color representations of syllables\n",
    "color_item = np.ones((max_list_len, len(list_lens), 3))\n",
    "for li, _list in enumerate(tqdm(color_lists)):\n",
    "    color_item[:len(_list), li, :] = np.squeeze(_list[:max_list_len])\n",
    "color_items = color_item.swapaxes(0,1)\n",
    "\n",
    "# make a list of symbols padded to equal length\n",
    "trans_lists = np.array(trans_lists)\n",
    "cut_lists = [\n",
    "    list(i[:seq_len].astype(\"str\"))\n",
    "    if len(i) >= seq_len\n",
    "    else list(i) + list(np.zeros(seq_len - len(i)).astype(\"str\"))\n",
    "    for i in trans_lists\n",
    "]\n",
    "cut_lists = [''.join(np.array(i).astype('str')) for i in cut_lists]\n",
    "\n",
    "\n",
    "# create a distance matrix (THIS COULD BE PARALLELIZED)\n",
    "dist = np.zeros((len(cut_lists), len(cut_lists)))\n",
    "for i in tqdm(range(1, len(cut_lists))):\n",
    "    for j in range(0, i):\n",
    "        dist[i,j] = edit_distance(cut_lists[i], cut_lists[j])\n",
    "        dist[j,i] = edit_distance(cut_lists[i], cut_lists[j])\n",
    "        \n",
    "# hierarchical clustering\n",
    "dists = squareform(dist)\n",
    "linkage_matrix = linkage(dists, \"single\")"
   ]
  },
  {
   "cell_type": "code",
   "execution_count": 359,
   "metadata": {
    "ExecuteTime": {
     "end_time": "2019-10-20T22:55:41.981218Z",
     "start_time": "2019-10-20T22:55:41.628745Z"
    }
   },
   "outputs": [
    {
     "data": {
      "image/png": "[encoded data removed]",
      "text/plain": [
       "<Figure size 1800x432 with 2 Axes>"
      ]
     },
     "metadata": {
      "needs_background": "light"
     },
     "output_type": "display_data"
    }
   ],
   "source": [
    "fig = plt.figure(figsize=(25, 6)) \n",
    "gs = gridspec.GridSpec(1, 2, width_ratios=[1, 4], wspace=0, hspace=0) \n",
    "ax0 = plt.subplot(gs[0])\n",
    "ax1 = plt.subplot(gs[1])\n",
    "\n",
    "dn = dendrogram(\n",
    "    linkage_matrix,\n",
    "    p=6,\n",
    "    truncate_mode=\"none\",\n",
    "    get_leaves=True,\n",
    "    orientation=\"left\",\n",
    "    no_labels=True,\n",
    "    link_color_func=lambda k: \"k\",\n",
    "    ax=ax0,\n",
    "    show_contracted=False\n",
    ")\n",
    "plt.title(\"test\")\n",
    "ax0.axis(\"off\")\n",
    "\n",
    "ax1.imshow(\n",
    "    color_item.swapaxes(0, 1)[np.array(dn[\"leaves\"])],\n",
    "    aspect=\"auto\", \n",
    "    interpolation=None,\n",
    "    origin='lower'\n",
    ")\n",
    "ax1.axis(\"off\")\n",
    "\n",
    "plt.show()"
   ]
  }
 ],
 "metadata": {
  "kernelspec": {
   "display_name": "Python 3",
   "language": "python",
   "name": "python3"
  },
  "language_info": {
   "codemirror_mode": {
    "name": "ipython",
    "version": 3
   },
   "file_extension": ".py",
   "mimetype": "text/x-python",
   "name": "python",
   "nbconvert_exporter": "python",
   "pygments_lexer": "ipython3",
   "version": "3.6.7"
  }
 },
 "nbformat": 4,
 "nbformat_minor": 2
}
