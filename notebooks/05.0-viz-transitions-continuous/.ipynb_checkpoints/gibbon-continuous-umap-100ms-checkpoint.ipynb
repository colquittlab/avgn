{
 "cells": [
  {
   "cell_type": "code",
   "execution_count": 1,
   "metadata": {
    "ExecuteTime": {
     "end_time": "2019-11-07T21:30:08.332077Z",
     "start_time": "2019-11-07T21:30:08.324900Z"
    }
   },
   "outputs": [
    {
     "name": "stdout",
     "output_type": "stream",
     "text": [
      "env: CUDA_DEVICE_ORDER=PCI_BUS_ID\n",
      "env: CUDA_VISIBLE_DEVICES=3\n"
     ]
    }
   ],
   "source": [
    "%env CUDA_DEVICE_ORDER=PCI_BUS_ID\n",
    "%env CUDA_VISIBLE_DEVICES=3"
   ]
  },
  {
   "cell_type": "code",
   "execution_count": 2,
   "metadata": {
    "ExecuteTime": {
     "end_time": "2019-11-07T21:30:08.495392Z",
     "start_time": "2019-11-07T21:30:08.477302Z"
    }
   },
   "outputs": [],
   "source": [
    "%load_ext autoreload\n",
    "%autoreload 2"
   ]
  },
  {
   "cell_type": "code",
   "execution_count": 11,
   "metadata": {
    "ExecuteTime": {
     "end_time": "2019-11-07T21:30:20.745633Z",
     "start_time": "2019-11-07T21:30:20.282223Z"
    }
   },
   "outputs": [],
   "source": [
    "from cuml.manifold.umap import UMAP as cumlUMAP"
   ]
  },
  {
   "cell_type": "code",
   "execution_count": 3,
   "metadata": {
    "ExecuteTime": {
     "end_time": "2019-11-07T21:30:15.130918Z",
     "start_time": "2019-11-07T21:30:08.629103Z"
    }
   },
   "outputs": [
    {
     "name": "stderr",
     "output_type": "stream",
     "text": [
      "/mnt/cube/tsainbur/conda_envs/tpy3/lib/python3.6/site-packages/tqdm/autonotebook/__init__.py:14: TqdmExperimentalWarning: Using `tqdm.autonotebook.tqdm` in notebook mode. Use `tqdm.tqdm` instead to force console mode (e.g. in jupyter console)\n",
      "  \" (e.g. in jupyter console)\", TqdmExperimentalWarning)\n"
     ]
    }
   ],
   "source": [
    "import numpy as np\n",
    "import matplotlib.pyplot as plt\n",
    "%matplotlib inline\n",
    "from tqdm.autonotebook import tqdm\n",
    "from joblib import Parallel, delayed\n",
    "import umap\n",
    "import pandas as pd"
   ]
  },
  {
   "cell_type": "code",
   "execution_count": 4,
   "metadata": {
    "ExecuteTime": {
     "end_time": "2019-11-07T21:30:15.335388Z",
     "start_time": "2019-11-07T21:30:15.133399Z"
    }
   },
   "outputs": [],
   "source": [
    "from avgn.utils.paths import DATA_DIR, most_recent_subdirectory, ensure_dir"
   ]
  },
  {
   "cell_type": "code",
   "execution_count": 5,
   "metadata": {
    "ExecuteTime": {
     "end_time": "2019-11-07T21:30:15.371271Z",
     "start_time": "2019-11-07T21:30:15.337558Z"
    }
   },
   "outputs": [],
   "source": [
    "DATASET_ID = 'gibbon_morita_segmented'"
   ]
  },
  {
   "cell_type": "code",
   "execution_count": 6,
   "metadata": {
    "ExecuteTime": {
     "end_time": "2019-11-07T21:30:15.454171Z",
     "start_time": "2019-11-07T21:30:15.374066Z"
    }
   },
   "outputs": [],
   "source": [
    "window_length_ms = 100\n",
    "hop_length_ms = 20"
   ]
  },
  {
   "cell_type": "code",
   "execution_count": 7,
   "metadata": {
    "ExecuteTime": {
     "end_time": "2019-11-07T21:30:15.546115Z",
     "start_time": "2019-11-07T21:30:15.457494Z"
    }
   },
   "outputs": [],
   "source": [
    "ensure_dir(DATA_DIR/'umap_windows' / DATASET_ID)\n",
    "save_loc = DATA_DIR/'umap_windows' / DATASET_ID / ('gibbon_windows_' + str(window_length_ms)+ '.pickle')"
   ]
  },
  {
   "cell_type": "code",
   "execution_count": 8,
   "metadata": {
    "ExecuteTime": {
     "end_time": "2019-11-07T21:30:17.862865Z",
     "start_time": "2019-11-07T21:30:15.548282Z"
    }
   },
   "outputs": [],
   "source": [
    "windows_df = pd.read_pickle(save_loc)"
   ]
  },
  {
   "cell_type": "code",
   "execution_count": 9,
   "metadata": {
    "ExecuteTime": {
     "end_time": "2019-11-07T21:30:19.610755Z",
     "start_time": "2019-11-07T21:30:17.865100Z"
    }
   },
   "outputs": [
    {
     "data": {
      "text/html": [
       "<div>\n",
       "<style scoped>\n",
       "    .dataframe tbody tr th:only-of-type {\n",
       "        vertical-align: middle;\n",
       "    }\n",
       "\n",
       "    .dataframe tbody tr th {\n",
       "        vertical-align: top;\n",
       "    }\n",
       "\n",
       "    .dataframe thead th {\n",
       "        text-align: right;\n",
       "    }\n",
       "</style>\n",
       "<table border=\"1\" class=\"dataframe\">\n",
       "  <thead>\n",
       "    <tr style=\"text-align: right;\">\n",
       "      <th></th>\n",
       "      <th>key</th>\n",
       "      <th>bout_number</th>\n",
       "      <th>bout_start_time</th>\n",
       "      <th>bout_end_time</th>\n",
       "      <th>bout_window</th>\n",
       "      <th>bout_spec</th>\n",
       "    </tr>\n",
       "  </thead>\n",
       "  <tbody>\n",
       "    <tr>\n",
       "      <th>0</th>\n",
       "      <td>20170912-070002_01_ch</td>\n",
       "      <td>0</td>\n",
       "      <td>0</td>\n",
       "      <td>1</td>\n",
       "      <td>[[-0.0055754497, 0.04379821, 0.010071515, 0.01...</td>\n",
       "      <td>[[-0.0055754497, -0.01713745, -0.021780146, -0...</td>\n",
       "    </tr>\n",
       "    <tr>\n",
       "      <th>1</th>\n",
       "      <td>20170912-070002_01_ch</td>\n",
       "      <td>1</td>\n",
       "      <td>1</td>\n",
       "      <td>2</td>\n",
       "      <td>[[-0.00048214695, 0.0070607667, 0.00067745586,...</td>\n",
       "      <td>[[-0.00048214695, -0.008496964, -0.0117263505,...</td>\n",
       "    </tr>\n",
       "    <tr>\n",
       "      <th>2</th>\n",
       "      <td>20170912-070002_01_ch</td>\n",
       "      <td>2</td>\n",
       "      <td>2</td>\n",
       "      <td>22</td>\n",
       "      <td>[[-0.007376921, 0.04710796, 0.017117992, -0.00...</td>\n",
       "      <td>[[-0.007376921, -0.023884187, -0.022982646, -0...</td>\n",
       "    </tr>\n",
       "  </tbody>\n",
       "</table>\n",
       "</div>"
      ],
      "text/plain": [
       "                     key bout_number bout_start_time bout_end_time  \\\n",
       "0  20170912-070002_01_ch           0               0             1   \n",
       "1  20170912-070002_01_ch           1               1             2   \n",
       "2  20170912-070002_01_ch           2               2            22   \n",
       "\n",
       "                                         bout_window  \\\n",
       "0  [[-0.0055754497, 0.04379821, 0.010071515, 0.01...   \n",
       "1  [[-0.00048214695, 0.0070607667, 0.00067745586,...   \n",
       "2  [[-0.007376921, 0.04710796, 0.017117992, -0.00...   \n",
       "\n",
       "                                           bout_spec  \n",
       "0  [[-0.0055754497, -0.01713745, -0.021780146, -0...  \n",
       "1  [[-0.00048214695, -0.008496964, -0.0117263505,...  \n",
       "2  [[-0.007376921, -0.023884187, -0.022982646, -0...  "
      ]
     },
     "execution_count": 9,
     "metadata": {},
     "output_type": "execute_result"
    }
   ],
   "source": [
    "windows_df[:3]"
   ]
  },
  {
   "cell_type": "code",
   "execution_count": 10,
   "metadata": {
    "ExecuteTime": {
     "end_time": "2019-11-07T21:30:20.279451Z",
     "start_time": "2019-11-07T21:30:19.612652Z"
    }
   },
   "outputs": [
    {
     "data": {
      "text/plain": [
       "(3070846, 160)"
      ]
     },
     "execution_count": 10,
     "metadata": {},
     "output_type": "execute_result"
    }
   ],
   "source": [
    "all_windows = np.vstack(windows_df.bout_window)\n",
    "np.shape(all_windows)"
   ]
  },
  {
   "cell_type": "code",
   "execution_count": 12,
   "metadata": {
    "ExecuteTime": {
     "end_time": "2019-11-07T21:42:53.025155Z",
     "start_time": "2019-11-07T21:31:13.981836Z"
    }
   },
   "outputs": [
    {
     "name": "stderr",
     "output_type": "stream",
     "text": [
      "/mnt/cube/tsainbur/conda_envs/tpy3/lib/python3.6/site-packages/ipykernel_launcher.py:1: UserWarning: Parameter should_downcast is deprecated, use convert_dtype in fit, fit_transform and transform  methods instead. \n",
      "  \"\"\"Entry point for launching an IPython kernel.\n",
      "/mnt/cube/tsainbur/conda_envs/tpy3/lib/python3.6/site-packages/ipykernel_launcher.py:2: UserWarning: Parameter should_downcast is deprecated, use convert_dtype in fit, fit_transform and transform  methods instead. \n",
      "  \n"
     ]
    }
   ],
   "source": [
    "cuml_umap = cumlUMAP(min_dist = 0.5)\n",
    "embedding = cuml_umap.fit_transform(all_windows)"
   ]
  },
  {
   "cell_type": "code",
   "execution_count": null,
   "metadata": {
    "ExecuteTime": {
     "start_time": "2019-11-07T22:20:21.323Z"
    }
   },
   "outputs": [],
   "source": [
    "fig, ax = plt.subplots(figsize=(15,15))\n",
    "ax.scatter(embedding[:,0], embedding[:,1], color = 'k', s=1)"
   ]
  },
  {
   "cell_type": "code",
   "execution_count": null,
   "metadata": {},
   "outputs": [],
   "source": []
  }
 ],
 "metadata": {
  "kernelspec": {
   "display_name": "Python 3",
   "language": "python",
   "name": "python3"
  },
  "language_info": {
   "codemirror_mode": {
    "name": "ipython",
    "version": 3
   },
   "file_extension": ".py",
   "mimetype": "text/x-python",
   "name": "python",
   "nbconvert_exporter": "python",
   "pygments_lexer": "ipython3",
   "version": "3.6.7"
  }
 },
 "nbformat": 4,
 "nbformat_minor": 2
}
