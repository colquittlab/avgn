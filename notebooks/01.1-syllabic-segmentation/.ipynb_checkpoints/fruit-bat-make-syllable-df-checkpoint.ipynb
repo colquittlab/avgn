{
 "cells": [
  {
   "cell_type": "code",
   "execution_count": 1,
   "metadata": {
    "ExecuteTime": {
     "end_time": "2019-11-13T03:19:28.667286Z",
     "start_time": "2019-11-13T03:19:28.624593Z"
    }
   },
   "outputs": [],
   "source": [
    "%load_ext autoreload\n",
    "%autoreload 2"
   ]
  },
  {
   "cell_type": "code",
   "execution_count": 2,
   "metadata": {
    "ExecuteTime": {
     "end_time": "2019-11-13T03:19:51.873497Z",
     "start_time": "2019-11-13T03:19:28.669348Z"
    }
   },
   "outputs": [
    {
     "name": "stderr",
     "output_type": "stream",
     "text": [
      "/mnt/cube/tsainbur/conda_envs/tpy3/lib/python3.6/site-packages/tqdm/autonotebook/__init__.py:14: TqdmExperimentalWarning: Using `tqdm.autonotebook.tqdm` in notebook mode. Use `tqdm.tqdm` instead to force console mode (e.g. in jupyter console)\n",
      "  \" (e.g. in jupyter console)\", TqdmExperimentalWarning)\n"
     ]
    }
   ],
   "source": [
    "import numpy as np\n",
    "import matplotlib.pyplot as plt\n",
    "%matplotlib inline\n",
    "from tqdm.autonotebook import tqdm\n",
    "from joblib import Parallel, delayed\n",
    "import umap\n",
    "import pandas as pd\n",
    "from datetime import datetime\n"
   ]
  },
  {
   "cell_type": "code",
   "execution_count": 3,
   "metadata": {
    "ExecuteTime": {
     "end_time": "2019-11-13T03:19:53.765893Z",
     "start_time": "2019-11-13T03:19:51.876342Z"
    }
   },
   "outputs": [],
   "source": [
    "from avgn.utils.paths import DATA_DIR, most_recent_subdirectory, ensure_dir"
   ]
  },
  {
   "cell_type": "code",
   "execution_count": 4,
   "metadata": {
    "ExecuteTime": {
     "end_time": "2019-11-13T03:19:53.823955Z",
     "start_time": "2019-11-13T03:19:53.769655Z"
    }
   },
   "outputs": [],
   "source": [
    "DATASET_ID = 'batsong_segmented'"
   ]
  },
  {
   "cell_type": "code",
   "execution_count": 5,
   "metadata": {
    "ExecuteTime": {
     "end_time": "2019-11-13T03:19:53.924765Z",
     "start_time": "2019-11-13T03:19:53.826630Z"
    }
   },
   "outputs": [
    {
     "data": {
      "text/plain": [
       "'2019-11-12_19-19-53'"
      ]
     },
     "execution_count": 5,
     "metadata": {},
     "output_type": "execute_result"
    }
   ],
   "source": [
    "# create a unique datetime identifier for the files output by this notebook\n",
    "DT_ID = datetime.now().strftime(\"%Y-%m-%d_%H-%M-%S\")\n",
    "DT_ID"
   ]
  },
  {
   "cell_type": "code",
   "execution_count": 6,
   "metadata": {
    "ExecuteTime": {
     "end_time": "2019-11-13T03:19:54.106857Z",
     "start_time": "2019-11-13T03:19:53.928030Z"
    }
   },
   "outputs": [],
   "source": [
    "from avgn.utils.hparams import HParams\n",
    "from avgn.dataset import DataSet"
   ]
  },
  {
   "cell_type": "code",
   "execution_count": 7,
   "metadata": {
    "ExecuteTime": {
     "end_time": "2019-11-13T03:19:54.371383Z",
     "start_time": "2019-11-13T03:19:54.110565Z"
    }
   },
   "outputs": [],
   "source": [
    "from avgn.signalprocessing.create_spectrogram_dataset import prepare_wav, create_label_df, get_row_audio"
   ]
  },
  {
   "cell_type": "markdown",
   "metadata": {},
   "source": [
    "### create dataset"
   ]
  },
  {
   "cell_type": "code",
   "execution_count": 8,
   "metadata": {
    "ExecuteTime": {
     "end_time": "2019-11-13T03:19:54.443871Z",
     "start_time": "2019-11-13T03:19:54.375004Z"
    }
   },
   "outputs": [],
   "source": [
    "hparams = HParams(\n",
    "    num_mel_bins = 32,\n",
    "    mel_lower_edge_hertz=2000,\n",
    "    mel_upper_edge_hertz=60000,#120000,\n",
    "    butter_lowcut = 500,\n",
    "    butter_highcut = 120000,\n",
    "    ref_level_db = 20,\n",
    "    min_level_db = -40,\n",
    "    mask_spec = True,\n",
    "    win_length_ms = 0.5,\n",
    "    hop_length_ms = 0.05,\n",
    "    mask_spec_kwargs = {\"spec_thresh\": 0.9, \"offset\": 1e-10},\n",
    "    n_jobs = -1,\n",
    "    verbosity=1,\n",
    "    nex = -1\n",
    ")"
   ]
  },
  {
   "cell_type": "code",
   "execution_count": 9,
   "metadata": {
    "ExecuteTime": {
     "end_time": "2019-11-13T03:20:35.195985Z",
     "start_time": "2019-11-13T03:19:54.446083Z"
    }
   },
   "outputs": [
    {
     "data": {
      "application/vnd.jupyter.widget-view+json": {
       "model_id": "59dc5fd5c4aa449c977cae5eed0e254c",
       "version_major": 2,
       "version_minor": 0
      },
      "text/plain": [
       "HBox(children=(IntProgress(value=0, description='loading json', max=83823, style=ProgressStyle(description_wid…"
      ]
     },
     "metadata": {},
     "output_type": "display_data"
    },
    {
     "name": "stderr",
     "output_type": "stream",
     "text": [
      "[Parallel(n_jobs=-1)]: Using backend LokyBackend with 24 concurrent workers.\n",
      "[Parallel(n_jobs=-1)]: Done   2 tasks      | elapsed:    4.7s\n",
      "[Parallel(n_jobs=-1)]: Done 192 tasks      | elapsed:    5.0s\n",
      "[Parallel(n_jobs=-1)]: Done 17780 tasks      | elapsed:    7.7s\n",
      "[Parallel(n_jobs=-1)]: Done 52080 tasks      | elapsed:   12.4s\n"
     ]
    },
    {
     "name": "stdout",
     "output_type": "stream",
     "text": [
      "\n"
     ]
    },
    {
     "name": "stderr",
     "output_type": "stream",
     "text": [
      "[Parallel(n_jobs=-1)]: Done 83823 out of 83823 | elapsed:   16.6s finished\n"
     ]
    },
    {
     "data": {
      "application/vnd.jupyter.widget-view+json": {
       "model_id": "",
       "version_major": 2,
       "version_minor": 0
      },
      "text/plain": [
       "HBox(children=(IntProgress(value=0, description='getting unique individuals', max=83823, style=ProgressStyle(d…"
      ]
     },
     "metadata": {},
     "output_type": "display_data"
    },
    {
     "name": "stdout",
     "output_type": "stream",
     "text": [
      "\r"
     ]
    }
   ],
   "source": [
    "# create a dataset object\n",
    "dataset = DataSet(DATASET_ID, hparams = hparams)"
   ]
  },
  {
   "cell_type": "code",
   "execution_count": 10,
   "metadata": {
    "ExecuteTime": {
     "end_time": "2019-11-13T03:20:35.379696Z",
     "start_time": "2019-11-13T03:20:35.198169Z"
    }
   },
   "outputs": [
    {
     "data": {
      "text/plain": [
       "OrderedDict([('fid', 166697),\n",
       "             ('Treatment ID', 17),\n",
       "             ('Recording channel', 1),\n",
       "             ('Recording time', '2013-01-16 08:06:24'),\n",
       "             ('indvs',\n",
       "              OrderedDict([('-210',\n",
       "                            OrderedDict([('syllables',\n",
       "                                          OrderedDict([('start_times',\n",
       "                                                        [0.203, 0.372]),\n",
       "                                                       ('end_times',\n",
       "                                                        [0.279,\n",
       "                                                         0.5065])]))]))])),\n",
       "             ('species', 'Rousettus aegyptiacus'),\n",
       "             ('common_name', 'Egyptian fruit bat'),\n",
       "             ('samplerate_hz', 250000),\n",
       "             ('original_wav',\n",
       "              '/mnt/cube/tsainbur/Projects/github_repos/avgn_paper/data/raw/batsong/zip_contents/files212/130116080549387242.WAV'),\n",
       "             ('length_s', 1.543488),\n",
       "             ('wav_loc',\n",
       "              '/mnt/cube/tsainbur/Projects/github_repos/avgn_paper/data/raw/batsong/zip_contents/files212/130116080549387242.WAV'),\n",
       "             ('context', 'Threat-like')])"
      ]
     },
     "execution_count": 10,
     "metadata": {},
     "output_type": "execute_result"
    }
   ],
   "source": [
    "dataset.sample_json"
   ]
  },
  {
   "cell_type": "markdown",
   "metadata": {},
   "source": [
    "#### Create dataset based upon JSON"
   ]
  },
  {
   "cell_type": "code",
   "execution_count": 11,
   "metadata": {
    "ExecuteTime": {
     "end_time": "2019-11-13T03:20:35.491167Z",
     "start_time": "2019-11-13T03:20:35.381493Z"
    }
   },
   "outputs": [],
   "source": [
    "from joblib import Parallel, delayed\n",
    "n_jobs = -1; verbosity = 1"
   ]
  },
  {
   "cell_type": "code",
   "execution_count": 12,
   "metadata": {
    "ExecuteTime": {
     "end_time": "2019-11-13T03:23:56.612995Z",
     "start_time": "2019-11-13T03:20:35.492862Z"
    },
    "scrolled": true
   },
   "outputs": [
    {
     "data": {
      "application/vnd.jupyter.widget-view+json": {
       "model_id": "9972bd8c3b4c475c9b01a70c8067a0cf",
       "version_major": 2,
       "version_minor": 0
      },
      "text/plain": [
       "HBox(children=(IntProgress(value=0, max=83823), HTML(value='')))"
      ]
     },
     "metadata": {},
     "output_type": "display_data"
    },
    {
     "name": "stderr",
     "output_type": "stream",
     "text": [
      "[Parallel(n_jobs=-1)]: Using backend LokyBackend with 24 concurrent workers.\n",
      "[Parallel(n_jobs=-1)]: Done   2 tasks      | elapsed:    1.2s\n",
      "[Parallel(n_jobs=-1)]: Done 210 tasks      | elapsed:    1.8s\n",
      "[Parallel(n_jobs=-1)]: Done 1710 tasks      | elapsed:    4.0s\n",
      "[Parallel(n_jobs=-1)]: Done 3810 tasks      | elapsed:    7.7s\n",
      "[Parallel(n_jobs=-1)]: Done 6510 tasks      | elapsed:   11.6s\n",
      "[Parallel(n_jobs=-1)]: Done 9810 tasks      | elapsed:   16.4s\n",
      "[Parallel(n_jobs=-1)]: Done 13710 tasks      | elapsed:   22.0s\n",
      "[Parallel(n_jobs=-1)]: Done 18210 tasks      | elapsed:   29.2s\n",
      "[Parallel(n_jobs=-1)]: Done 23310 tasks      | elapsed:   36.7s\n",
      "[Parallel(n_jobs=-1)]: Done 29010 tasks      | elapsed:   45.7s\n",
      "[Parallel(n_jobs=-1)]: Done 35310 tasks      | elapsed:   54.7s\n",
      "[Parallel(n_jobs=-1)]: Done 42210 tasks      | elapsed:  1.1min\n",
      "[Parallel(n_jobs=-1)]: Done 49710 tasks      | elapsed:  1.3min\n",
      "[Parallel(n_jobs=-1)]: Done 57810 tasks      | elapsed:  1.5min\n",
      "[Parallel(n_jobs=-1)]: Done 66510 tasks      | elapsed:  1.7min\n",
      "[Parallel(n_jobs=-1)]: Done 75810 tasks      | elapsed:  1.9min\n"
     ]
    },
    {
     "name": "stdout",
     "output_type": "stream",
     "text": [
      "\n"
     ]
    },
    {
     "name": "stderr",
     "output_type": "stream",
     "text": [
      "[Parallel(n_jobs=-1)]: Done 83823 out of 83823 | elapsed:  2.1min finished\n"
     ]
    },
    {
     "data": {
      "text/plain": [
       "423043"
      ]
     },
     "execution_count": 12,
     "metadata": {},
     "output_type": "execute_result"
    }
   ],
   "source": [
    "with Parallel(n_jobs=n_jobs, verbose=verbosity) as parallel:\n",
    "    syllable_dfs = parallel(\n",
    "        delayed(create_label_df)(\n",
    "            dataset.data_files[key].data,\n",
    "            hparams=dataset.hparams,\n",
    "            labels_to_retain=[],\n",
    "            unit=\"syllables\",\n",
    "            dict_features_to_retain = ['context'],\n",
    "            key = key,\n",
    "        )\n",
    "        for key in tqdm(dataset.data_files.keys())\n",
    "    )\n",
    "syllable_df = pd.concat(syllable_dfs)\n",
    "len(syllable_df)"
   ]
  },
  {
   "cell_type": "code",
   "execution_count": 13,
   "metadata": {
    "ExecuteTime": {
     "end_time": "2019-11-13T03:23:57.211843Z",
     "start_time": "2019-11-13T03:23:56.616720Z"
    }
   },
   "outputs": [
    {
     "data": {
      "text/html": [
       "<div>\n",
       "<style scoped>\n",
       "    .dataframe tbody tr th:only-of-type {\n",
       "        vertical-align: middle;\n",
       "    }\n",
       "\n",
       "    .dataframe tbody tr th {\n",
       "        vertical-align: top;\n",
       "    }\n",
       "\n",
       "    .dataframe thead th {\n",
       "        text-align: right;\n",
       "    }\n",
       "</style>\n",
       "<table border=\"1\" class=\"dataframe\">\n",
       "  <thead>\n",
       "    <tr style=\"text-align: right;\">\n",
       "      <th></th>\n",
       "      <th>start_time</th>\n",
       "      <th>end_time</th>\n",
       "      <th>indv</th>\n",
       "      <th>indvi</th>\n",
       "      <th>context</th>\n",
       "      <th>key</th>\n",
       "    </tr>\n",
       "  </thead>\n",
       "  <tbody>\n",
       "    <tr>\n",
       "      <th>0</th>\n",
       "      <td>0.203</td>\n",
       "      <td>0.2790</td>\n",
       "      <td>-210</td>\n",
       "      <td>0</td>\n",
       "      <td>Threat-like</td>\n",
       "      <td>130116080549387242</td>\n",
       "    </tr>\n",
       "    <tr>\n",
       "      <th>1</th>\n",
       "      <td>0.372</td>\n",
       "      <td>0.5065</td>\n",
       "      <td>-210</td>\n",
       "      <td>0</td>\n",
       "      <td>Threat-like</td>\n",
       "      <td>130116080549387242</td>\n",
       "    </tr>\n",
       "    <tr>\n",
       "      <th>0</th>\n",
       "      <td>0.223</td>\n",
       "      <td>0.2465</td>\n",
       "      <td>-221</td>\n",
       "      <td>0</td>\n",
       "      <td>Sleeping</td>\n",
       "      <td>130303053329639859</td>\n",
       "    </tr>\n",
       "  </tbody>\n",
       "</table>\n",
       "</div>"
      ],
      "text/plain": [
       "   start_time  end_time  indv  indvi      context                 key\n",
       "0       0.203    0.2790  -210      0  Threat-like  130116080549387242\n",
       "1       0.372    0.5065  -210      0  Threat-like  130116080549387242\n",
       "0       0.223    0.2465  -221      0     Sleeping  130303053329639859"
      ]
     },
     "execution_count": 13,
     "metadata": {},
     "output_type": "execute_result"
    }
   ],
   "source": [
    "syllable_df[:3]"
   ]
  },
  {
   "cell_type": "markdown",
   "metadata": {},
   "source": [
    "### get audio for dataset"
   ]
  },
  {
   "cell_type": "code",
   "execution_count": 14,
   "metadata": {
    "ExecuteTime": {
     "end_time": "2019-11-13T04:27:07.912327Z",
     "start_time": "2019-11-13T03:23:57.219445Z"
    },
    "scrolled": true
   },
   "outputs": [
    {
     "data": {
      "application/vnd.jupyter.widget-view+json": {
       "model_id": "630c3e59ec7d4dc6ba6052e281930a6b",
       "version_major": 2,
       "version_minor": 0
      },
      "text/plain": [
       "HBox(children=(IntProgress(value=0, max=83745), HTML(value='')))"
      ]
     },
     "metadata": {},
     "output_type": "display_data"
    },
    {
     "name": "stderr",
     "output_type": "stream",
     "text": [
      "[Parallel(n_jobs=-1)]: Using backend LokyBackend with 24 concurrent workers.\n",
      "[Parallel(n_jobs=-1)]: Done 152 tasks      | elapsed:    8.2s\n",
      "[Parallel(n_jobs=-1)]: Done 402 tasks      | elapsed:   18.6s\n",
      "[Parallel(n_jobs=-1)]: Done 752 tasks      | elapsed:   33.6s\n",
      "[Parallel(n_jobs=-1)]: Done 1202 tasks      | elapsed:   52.7s\n",
      "[Parallel(n_jobs=-1)]: Done 1752 tasks      | elapsed:  1.2min\n",
      "[Parallel(n_jobs=-1)]: Done 2402 tasks      | elapsed:  1.7min\n",
      "[Parallel(n_jobs=-1)]: Done 3152 tasks      | elapsed:  2.2min\n",
      "[Parallel(n_jobs=-1)]: Done 4002 tasks      | elapsed:  2.9min\n",
      "[Parallel(n_jobs=-1)]: Done 4952 tasks      | elapsed:  3.6min\n",
      "[Parallel(n_jobs=-1)]: Done 6002 tasks      | elapsed:  4.3min\n",
      "[Parallel(n_jobs=-1)]: Done 7152 tasks      | elapsed:  5.2min\n",
      "[Parallel(n_jobs=-1)]: Done 8402 tasks      | elapsed:  6.2min\n",
      "[Parallel(n_jobs=-1)]: Done 9752 tasks      | elapsed:  7.2min\n",
      "[Parallel(n_jobs=-1)]: Done 11202 tasks      | elapsed:  8.3min\n",
      "[Parallel(n_jobs=-1)]: Done 12752 tasks      | elapsed:  9.5min\n",
      "[Parallel(n_jobs=-1)]: Done 14402 tasks      | elapsed: 10.8min\n",
      "[Parallel(n_jobs=-1)]: Done 16152 tasks      | elapsed: 12.1min\n",
      "[Parallel(n_jobs=-1)]: Done 18002 tasks      | elapsed: 13.5min\n",
      "[Parallel(n_jobs=-1)]: Done 19952 tasks      | elapsed: 15.0min\n",
      "[Parallel(n_jobs=-1)]: Done 22002 tasks      | elapsed: 16.5min\n",
      "[Parallel(n_jobs=-1)]: Done 24152 tasks      | elapsed: 18.1min\n",
      "[Parallel(n_jobs=-1)]: Done 26402 tasks      | elapsed: 19.8min\n",
      "[Parallel(n_jobs=-1)]: Done 28752 tasks      | elapsed: 21.6min\n",
      "[Parallel(n_jobs=-1)]: Done 31202 tasks      | elapsed: 23.4min\n",
      "[Parallel(n_jobs=-1)]: Done 33752 tasks      | elapsed: 25.4min\n",
      "[Parallel(n_jobs=-1)]: Done 36402 tasks      | elapsed: 27.4min\n",
      "[Parallel(n_jobs=-1)]: Done 39152 tasks      | elapsed: 29.5min\n",
      "[Parallel(n_jobs=-1)]: Done 42002 tasks      | elapsed: 31.7min\n",
      "[Parallel(n_jobs=-1)]: Done 44952 tasks      | elapsed: 33.8min\n",
      "[Parallel(n_jobs=-1)]: Done 48002 tasks      | elapsed: 36.2min\n",
      "[Parallel(n_jobs=-1)]: Done 51152 tasks      | elapsed: 38.6min\n",
      "[Parallel(n_jobs=-1)]: Done 54402 tasks      | elapsed: 40.8min\n",
      "[Parallel(n_jobs=-1)]: Done 57752 tasks      | elapsed: 43.1min\n",
      "[Parallel(n_jobs=-1)]: Done 61202 tasks      | elapsed: 45.6min\n",
      "[Parallel(n_jobs=-1)]: Done 64752 tasks      | elapsed: 48.1min\n",
      "[Parallel(n_jobs=-1)]: Done 68402 tasks      | elapsed: 50.7min\n",
      "[Parallel(n_jobs=-1)]: Done 72152 tasks      | elapsed: 53.3min\n",
      "[Parallel(n_jobs=-1)]: Done 76002 tasks      | elapsed: 56.0min\n",
      "[Parallel(n_jobs=-1)]: Done 79952 tasks      | elapsed: 58.8min\n"
     ]
    },
    {
     "name": "stdout",
     "output_type": "stream",
     "text": [
      "\n"
     ]
    },
    {
     "name": "stderr",
     "output_type": "stream",
     "text": [
      "[Parallel(n_jobs=-1)]: Done 83745 out of 83745 | elapsed: 61.4min finished\n"
     ]
    },
    {
     "data": {
      "text/plain": [
       "423043"
      ]
     },
     "execution_count": 14,
     "metadata": {},
     "output_type": "execute_result"
    }
   ],
   "source": [
    "with Parallel(n_jobs=n_jobs, verbose=verbosity) as parallel:\n",
    "    syllable_df = pd.concat( parallel(\n",
    "        delayed(get_row_audio)(\n",
    "            syllable_df[syllable_df.key == key], \n",
    "            dataset.data_files[key].data['wav_loc'], \n",
    "            dataset.hparams\n",
    "        )\n",
    "        for key in tqdm(syllable_df.key.unique())\n",
    "    ))\n",
    "len(syllable_df)"
   ]
  },
  {
   "cell_type": "code",
   "execution_count": 15,
   "metadata": {
    "ExecuteTime": {
     "end_time": "2019-11-13T04:27:09.778229Z",
     "start_time": "2019-11-13T04:27:07.915175Z"
    }
   },
   "outputs": [
    {
     "data": {
      "text/html": [
       "<div>\n",
       "<style scoped>\n",
       "    .dataframe tbody tr th:only-of-type {\n",
       "        vertical-align: middle;\n",
       "    }\n",
       "\n",
       "    .dataframe tbody tr th {\n",
       "        vertical-align: top;\n",
       "    }\n",
       "\n",
       "    .dataframe thead th {\n",
       "        text-align: right;\n",
       "    }\n",
       "</style>\n",
       "<table border=\"1\" class=\"dataframe\">\n",
       "  <thead>\n",
       "    <tr style=\"text-align: right;\">\n",
       "      <th></th>\n",
       "      <th>start_time</th>\n",
       "      <th>end_time</th>\n",
       "      <th>indv</th>\n",
       "      <th>indvi</th>\n",
       "      <th>context</th>\n",
       "      <th>key</th>\n",
       "      <th>audio</th>\n",
       "      <th>rate</th>\n",
       "    </tr>\n",
       "  </thead>\n",
       "  <tbody>\n",
       "    <tr>\n",
       "      <th>0</th>\n",
       "      <td>0.203</td>\n",
       "      <td>0.2790</td>\n",
       "      <td>-210</td>\n",
       "      <td>0</td>\n",
       "      <td>Threat-like</td>\n",
       "      <td>130116080549387242</td>\n",
       "      <td>[-0.0005954731638914794, -0.000227343544072230...</td>\n",
       "      <td>250000</td>\n",
       "    </tr>\n",
       "    <tr>\n",
       "      <th>1</th>\n",
       "      <td>0.372</td>\n",
       "      <td>0.5065</td>\n",
       "      <td>-210</td>\n",
       "      <td>0</td>\n",
       "      <td>Threat-like</td>\n",
       "      <td>130116080549387242</td>\n",
       "      <td>[-0.00038089307984458547, -0.00108650837324423...</td>\n",
       "      <td>250000</td>\n",
       "    </tr>\n",
       "    <tr>\n",
       "      <th>0</th>\n",
       "      <td>0.223</td>\n",
       "      <td>0.2465</td>\n",
       "      <td>-221</td>\n",
       "      <td>0</td>\n",
       "      <td>Sleeping</td>\n",
       "      <td>130303053329639859</td>\n",
       "      <td>[0.00031099207149069374, -0.000298516154863722...</td>\n",
       "      <td>250000</td>\n",
       "    </tr>\n",
       "  </tbody>\n",
       "</table>\n",
       "</div>"
      ],
      "text/plain": [
       "   start_time  end_time  indv  indvi      context                 key  \\\n",
       "0       0.203    0.2790  -210      0  Threat-like  130116080549387242   \n",
       "1       0.372    0.5065  -210      0  Threat-like  130116080549387242   \n",
       "0       0.223    0.2465  -221      0     Sleeping  130303053329639859   \n",
       "\n",
       "                                               audio    rate  \n",
       "0  [-0.0005954731638914794, -0.000227343544072230...  250000  \n",
       "1  [-0.00038089307984458547, -0.00108650837324423...  250000  \n",
       "0  [0.00031099207149069374, -0.000298516154863722...  250000  "
      ]
     },
     "execution_count": 15,
     "metadata": {},
     "output_type": "execute_result"
    }
   ],
   "source": [
    "syllable_df[:3]"
   ]
  },
  {
   "cell_type": "code",
   "execution_count": 16,
   "metadata": {
    "ExecuteTime": {
     "end_time": "2019-11-13T04:27:17.084125Z",
     "start_time": "2019-11-13T04:27:09.780452Z"
    }
   },
   "outputs": [
    {
     "data": {
      "application/vnd.jupyter.widget-view+json": {
       "model_id": "3b7c5fa6b88a43339e01c15e4c857425",
       "version_major": 2,
       "version_minor": 0
      },
      "text/plain": [
       "HBox(children=(IntProgress(value=0, max=50), HTML(value='')))"
      ]
     },
     "metadata": {},
     "output_type": "display_data"
    },
    {
     "name": "stdout",
     "output_type": "stream",
     "text": [
      "\n"
     ]
    },
    {
     "data": {
      "image/png": "[encoded data removed]",
      "text/plain": [
       "<Figure size 1440x456 with 50 Axes>"
      ]
     },
     "metadata": {
      "needs_background": "light"
     },
     "output_type": "display_data"
    }
   ],
   "source": [
    "nrows = 5\n",
    "ncols = 10\n",
    "sylls = syllable_df.audio.values[:nrows*ncols]\n",
    "zoom = 2\n",
    "fig, axs = plt.subplots(ncols=ncols, nrows = nrows,figsize = (ncols*zoom, nrows+zoom/1.5))\n",
    "for i, syll in tqdm(enumerate(sylls), total = nrows*ncols):\n",
    "    ax = axs.flatten()[i]\n",
    "    ax.plot(syll)"
   ]
  },
  {
   "cell_type": "code",
   "execution_count": 17,
   "metadata": {
    "ExecuteTime": {
     "end_time": "2019-11-13T04:28:29.974077Z",
     "start_time": "2019-11-13T04:27:17.087684Z"
    }
   },
   "outputs": [
    {
     "data": {
      "application/vnd.jupyter.widget-view+json": {
       "model_id": "e364b643f39f442281d779cd755882dc",
       "version_major": 2,
       "version_minor": 0
      },
      "text/plain": [
       "HBox(children=(IntProgress(value=0, max=423043), HTML(value='')))"
      ]
     },
     "metadata": {},
     "output_type": "display_data"
    },
    {
     "name": "stdout",
     "output_type": "stream",
     "text": [
      "\n"
     ]
    }
   ],
   "source": [
    "syllable_df['audio'] = [i/np.max(np.abs(i)) for i in tqdm(syllable_df.audio.values)]"
   ]
  },
  {
   "cell_type": "markdown",
   "metadata": {},
   "source": [
    "### Create spectrograms"
   ]
  },
  {
   "cell_type": "code",
   "execution_count": 18,
   "metadata": {
    "ExecuteTime": {
     "end_time": "2019-11-13T04:28:32.175281Z",
     "start_time": "2019-11-13T04:28:29.976228Z"
    }
   },
   "outputs": [],
   "source": [
    "from avgn.visualization.spectrogram import draw_spec_set\n",
    "from avgn.signalprocessing.create_spectrogram_dataset import make_spec, mask_spec, log_resize_spec, pad_spectrogram"
   ]
  },
  {
   "cell_type": "code",
   "execution_count": null,
   "metadata": {
    "ExecuteTime": {
     "start_time": "2019-11-13T04:44:26.919Z"
    }
   },
   "outputs": [],
   "source": [
    "save_loc = DATA_DIR / 'syllable_dfs' / DATASET_ID / 'fruitbat-just_audio.pickle'\n",
    "ensure_dir(save_loc)\n",
    "syllable_df.to_pickle(save_loc)"
   ]
  },
  {
   "cell_type": "code",
   "execution_count": null,
   "metadata": {
    "ExecuteTime": {
     "end_time": "2019-11-13T04:28:32.926724Z",
     "start_time": "2019-11-13T03:19:28.301Z"
    },
    "scrolled": true
   },
   "outputs": [],
   "source": [
    "with Parallel(n_jobs=n_jobs, verbose=verbosity) as parallel:\n",
    "    # create spectrograms\n",
    "    syllables_spec = parallel(\n",
    "        delayed(make_spec)(\n",
    "            syllable,\n",
    "            rate,\n",
    "            hparams=hparams,\n",
    "            mel_matrix=dataset.mel_matrix,\n",
    "            use_mel=True,\n",
    "            use_tensorflow=False,\n",
    "        )\n",
    "        for syllable, rate in tqdm(\n",
    "            zip(syllable_df.audio.values, syllable_df.rate.values),\n",
    "            total=len(syllable_df.),\n",
    "            desc=\"getting syllable spectrograms\",\n",
    "            leave=False,\n",
    "        )\n",
    "    )"
   ]
  },
  {
   "cell_type": "markdown",
   "metadata": {},
   "source": [
    "### Rescale spectrogram\n",
    "- using log rescaling"
   ]
  },
  {
   "cell_type": "code",
   "execution_count": null,
   "metadata": {
    "ExecuteTime": {
     "end_time": "2019-11-13T04:28:32.928232Z",
     "start_time": "2019-11-13T03:19:28.303Z"
    }
   },
   "outputs": [],
   "source": [
    "log_scaling_factor = 4"
   ]
  },
  {
   "cell_type": "code",
   "execution_count": null,
   "metadata": {
    "ExecuteTime": {
     "end_time": "2019-11-13T04:28:32.929684Z",
     "start_time": "2019-11-13T03:19:28.305Z"
    },
    "scrolled": true
   },
   "outputs": [],
   "source": [
    "with Parallel(n_jobs=n_jobs, verbose=verbosity) as parallel:\n",
    "    syllables_spec = parallel(\n",
    "        delayed(log_resize_spec)(spec, scaling_factor=log_scaling_factor)\n",
    "        for spec in tqdm(syllables_spec, desc=\"scaling spectrograms\", leave=False)\n",
    "    )"
   ]
  },
  {
   "cell_type": "code",
   "execution_count": null,
   "metadata": {
    "ExecuteTime": {
     "end_time": "2019-11-13T04:28:32.931147Z",
     "start_time": "2019-11-13T03:19:28.307Z"
    }
   },
   "outputs": [],
   "source": [
    "draw_spec_set(syllables_spec, zoom=1, maxrows=10, colsize=10)"
   ]
  },
  {
   "cell_type": "markdown",
   "metadata": {},
   "source": [
    "### Pad spectrograms"
   ]
  },
  {
   "cell_type": "code",
   "execution_count": null,
   "metadata": {
    "ExecuteTime": {
     "end_time": "2019-11-13T04:28:32.932618Z",
     "start_time": "2019-11-13T03:19:28.309Z"
    }
   },
   "outputs": [],
   "source": [
    "syll_lens = [np.shape(i)[1] for i in syllables_spec]\n",
    "pad_length = np.max(syll_lens)"
   ]
  },
  {
   "cell_type": "code",
   "execution_count": null,
   "metadata": {
    "ExecuteTime": {
     "end_time": "2019-11-13T04:28:32.934035Z",
     "start_time": "2019-11-13T03:19:28.310Z"
    }
   },
   "outputs": [],
   "source": [
    "syllable_df[:3]"
   ]
  },
  {
   "cell_type": "code",
   "execution_count": null,
   "metadata": {
    "ExecuteTime": {
     "end_time": "2019-11-13T04:28:32.935534Z",
     "start_time": "2019-11-13T03:19:28.311Z"
    }
   },
   "outputs": [],
   "source": [
    "import seaborn as sns"
   ]
  },
  {
   "cell_type": "code",
   "execution_count": null,
   "metadata": {
    "ExecuteTime": {
     "end_time": "2019-11-13T04:28:32.936955Z",
     "start_time": "2019-11-13T03:19:28.313Z"
    }
   },
   "outputs": [],
   "source": [
    "sns.distplot((syllable_df[\"end_time\"] - syllable_df[\"start_time\"]))\n",
    "#plt.legend()"
   ]
  },
  {
   "cell_type": "code",
   "execution_count": null,
   "metadata": {
    "ExecuteTime": {
     "end_time": "2019-11-13T04:28:32.938402Z",
     "start_time": "2019-11-13T03:19:28.314Z"
    }
   },
   "outputs": [],
   "source": [
    "with Parallel(n_jobs=n_jobs, verbose=verbosity) as parallel:\n",
    "\n",
    "    syllables_spec = parallel(\n",
    "        delayed(pad_spectrogram)(spec, pad_length)\n",
    "        for spec in tqdm(\n",
    "            syllables_spec, desc=\"padding spectrograms\", leave=False\n",
    "        )\n",
    "    )"
   ]
  },
  {
   "cell_type": "code",
   "execution_count": null,
   "metadata": {
    "ExecuteTime": {
     "end_time": "2019-11-13T04:28:32.939869Z",
     "start_time": "2019-11-13T03:19:28.316Z"
    }
   },
   "outputs": [],
   "source": [
    "draw_spec_set(syllables_spec, zoom=1, maxrows=10, colsize=25)"
   ]
  },
  {
   "cell_type": "code",
   "execution_count": null,
   "metadata": {
    "ExecuteTime": {
     "end_time": "2019-11-13T04:28:32.941325Z",
     "start_time": "2019-11-13T03:19:28.318Z"
    }
   },
   "outputs": [],
   "source": [
    "syllable_df['spectrogram'] = syllables_spec"
   ]
  },
  {
   "cell_type": "code",
   "execution_count": null,
   "metadata": {
    "ExecuteTime": {
     "end_time": "2019-11-13T04:28:32.942741Z",
     "start_time": "2019-11-13T03:19:28.319Z"
    }
   },
   "outputs": [],
   "source": [
    "syllable_df[:3]"
   ]
  },
  {
   "cell_type": "code",
   "execution_count": null,
   "metadata": {
    "ExecuteTime": {
     "end_time": "2019-11-13T04:28:32.944191Z",
     "start_time": "2019-11-13T03:19:28.321Z"
    }
   },
   "outputs": [],
   "source": [
    "# remove noise spectrograms\n",
    "syll_shape = np.shape(syllables_spec[0])\n",
    "bad_specs = np.array([np.argmax(np.sum(i, axis=1)) > ((syll_shape[0]*.9)-1) for i in syllables_spec])\n",
    "print(np.sum(bad_specs))"
   ]
  },
  {
   "cell_type": "code",
   "execution_count": null,
   "metadata": {
    "ExecuteTime": {
     "end_time": "2019-11-13T04:28:32.945528Z",
     "start_time": "2019-11-13T03:19:28.322Z"
    }
   },
   "outputs": [],
   "source": [
    "syllable_df = syllable_df[bad_specs==False]"
   ]
  },
  {
   "cell_type": "code",
   "execution_count": null,
   "metadata": {
    "ExecuteTime": {
     "end_time": "2019-11-13T04:28:32.947141Z",
     "start_time": "2019-11-13T03:19:28.323Z"
    }
   },
   "outputs": [],
   "source": [
    "len(syllable_df)"
   ]
  },
  {
   "cell_type": "markdown",
   "metadata": {},
   "source": [
    "### view syllables per indv"
   ]
  },
  {
   "cell_type": "code",
   "execution_count": null,
   "metadata": {
    "ExecuteTime": {
     "end_time": "2019-11-13T04:28:32.948615Z",
     "start_time": "2019-11-13T03:19:28.325Z"
    }
   },
   "outputs": [],
   "source": [
    "syllable_df.indv.unique()"
   ]
  },
  {
   "cell_type": "code",
   "execution_count": null,
   "metadata": {
    "ExecuteTime": {
     "end_time": "2019-11-13T04:28:32.950022Z",
     "start_time": "2019-11-13T03:19:28.326Z"
    },
    "scrolled": true
   },
   "outputs": [],
   "source": [
    "for indv in np.sort(syllable_df.indv.unique()[:5]):\n",
    "    print(indv, np.sum(syllable_df.indv == indv))\n",
    "    specs = np.array([i/np.max(i) for i in syllable_df[syllable_df.indv == indv].spectrogram.values])\n",
    "    specs[specs<0] = 0\n",
    "    draw_spec_set(specs, zoom=2,\n",
    "                  maxrows=16, \n",
    "                  colsize=25)"
   ]
  },
  {
   "cell_type": "markdown",
   "metadata": {},
   "source": [
    "### save dataset"
   ]
  },
  {
   "cell_type": "code",
   "execution_count": null,
   "metadata": {
    "ExecuteTime": {
     "end_time": "2019-11-13T04:28:32.951519Z",
     "start_time": "2019-11-13T03:19:28.329Z"
    }
   },
   "outputs": [],
   "source": [
    "save_loc = DATA_DIR / 'syllable_dfs' / DATASET_ID / 'fruitbat.pickle'\n",
    "ensure_dir(save_loc)\n",
    "syllable_df.drop(columns = ['audio']).to_pickle(save_loc)"
   ]
  },
  {
   "cell_type": "code",
   "execution_count": null,
   "metadata": {},
   "outputs": [],
   "source": []
  },
  {
   "cell_type": "code",
   "execution_count": null,
   "metadata": {},
   "outputs": [],
   "source": []
  }
 ],
 "metadata": {
  "kernelspec": {
   "display_name": "Python 3",
   "language": "python",
   "name": "python3"
  },
  "language_info": {
   "codemirror_mode": {
    "name": "ipython",
    "version": 3
   },
   "file_extension": ".py",
   "mimetype": "text/x-python",
   "name": "python",
   "nbconvert_exporter": "python",
   "pygments_lexer": "ipython3",
   "version": "3.6.7"
  }
 },
 "nbformat": 4,
 "nbformat_minor": 2
}
