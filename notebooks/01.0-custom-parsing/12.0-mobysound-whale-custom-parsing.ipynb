{
 "cells": [
  {
   "cell_type": "markdown",
   "metadata": {},
   "source": [
    "### Mobysound whale custom parsing\n",
    "- This is a series of datasets with whale/dolphin echolocation clicks. They are all available on Mobysound. \n",
    "    - WAV files for vocalization that contains labels for species and vocalization. \n",
    "- This notebook creates a JSON corresponding to each WAV file.\n",
    "- Dataset origin:\n",
    "    - https://www.mobysound.org/"
   ]
  },
  {
   "cell_type": "code",
   "execution_count": 1,
   "metadata": {
    "ExecuteTime": {
     "end_time": "2019-09-30T23:07:06.215569Z",
     "start_time": "2019-09-30T23:07:03.738561Z"
    }
   },
   "outputs": [
    {
     "name": "stderr",
     "output_type": "stream",
     "text": [
      "/mnt/cube/tsainbur/conda_envs/tpy3/lib/python3.6/site-packages/tqdm/autonotebook/__init__.py:14: TqdmExperimentalWarning: Using `tqdm.autonotebook.tqdm` in notebook mode. Use `tqdm.tqdm` instead to force console mode (e.g. in jupyter console)\n",
      "  \" (e.g. in jupyter console)\", TqdmExperimentalWarning)\n"
     ]
    }
   ],
   "source": [
    "from avgn.utils.general import prepare_env"
   ]
  },
  {
   "cell_type": "code",
   "execution_count": 2,
   "metadata": {
    "ExecuteTime": {
     "end_time": "2019-09-30T23:07:06.264630Z",
     "start_time": "2019-09-30T23:07:06.220146Z"
    }
   },
   "outputs": [
    {
     "name": "stdout",
     "output_type": "stream",
     "text": [
      "env: CUDA_VISIBLE_DEVICES=GPU\n"
     ]
    }
   ],
   "source": [
    "prepare_env()"
   ]
  },
  {
   "cell_type": "markdown",
   "metadata": {},
   "source": [
    "### Import relevant packages"
   ]
  },
  {
   "cell_type": "code",
   "execution_count": 3,
   "metadata": {
    "ExecuteTime": {
     "end_time": "2019-09-30T23:07:06.748208Z",
     "start_time": "2019-09-30T23:07:06.266652Z"
    }
   },
   "outputs": [],
   "source": [
    "from joblib import Parallel, delayed\n",
    "from tqdm.autonotebook import tqdm\n",
    "import pandas as pd\n",
    "pd.options.display.max_columns = None\n",
    "import librosa\n",
    "from datetime import datetime\n",
    "import numpy as np\n",
    "import re"
   ]
  },
  {
   "cell_type": "code",
   "execution_count": 4,
   "metadata": {
    "ExecuteTime": {
     "end_time": "2019-09-30T23:07:06.788470Z",
     "start_time": "2019-09-30T23:07:06.750501Z"
    }
   },
   "outputs": [],
   "source": [
    "import avgn\n",
    "from avgn.custom_parsing.picidae_woodpecker import generate_json\n",
    "from avgn.utils.paths import DATA_DIR"
   ]
  },
  {
   "cell_type": "code",
   "execution_count": 5,
   "metadata": {
    "ExecuteTime": {
     "end_time": "2019-09-30T23:07:06.875704Z",
     "start_time": "2019-09-30T23:07:06.790865Z"
    }
   },
   "outputs": [],
   "source": [
    "DATASET_ID = \"MOBYSOUND_WHALES\""
   ]
  },
  {
   "cell_type": "markdown",
   "metadata": {},
   "source": [
    "### Load data in original format"
   ]
  },
  {
   "cell_type": "code",
   "execution_count": 6,
   "metadata": {
    "ExecuteTime": {
     "end_time": "2019-09-30T23:07:06.967255Z",
     "start_time": "2019-09-30T23:07:06.877806Z"
    }
   },
   "outputs": [
    {
     "data": {
      "text/plain": [
       "'2019-09-30_16-07-06'"
      ]
     },
     "execution_count": 6,
     "metadata": {},
     "output_type": "execute_result"
    }
   ],
   "source": [
    "# create a unique datetime identifier for the files output by this notebook\n",
    "DT_ID = datetime.now().strftime(\"%Y-%m-%d_%H-%M-%S\")\n",
    "DT_ID"
   ]
  },
  {
   "cell_type": "code",
   "execution_count": 7,
   "metadata": {
    "ExecuteTime": {
     "end_time": "2019-09-30T23:07:07.052893Z",
     "start_time": "2019-09-30T23:07:06.971110Z"
    }
   },
   "outputs": [],
   "source": [
    "subfolders = {\n",
    "        'Melon headed whale':{\n",
    "            'folder': 'MellonHeaded_MTSTCS',\n",
    "            'species': 'Peponocephala electra',\n",
    "            'split': '.',\n",
    "            'click_types' : [\n",
    "                            ['good', '*Good.txt']\n",
    "                        ]\n",
    "        },\n",
    "        'Sperm whale':{\n",
    "            'folder': 'Sperm whales_Bahamas(AUTEC)-Annotated/',\n",
    "            'species': 'Peponocephala electra',\n",
    "            'split': '_',\n",
    "            'click_types' : [\n",
    "                            ['maybe', '*maybe.txt'],\n",
    "                            ['good', '*short_good.txt']\n",
    "                        ]\n",
    "        },\n",
    "        'Pilot whale':{\n",
    "            'folder': 'Pilot_whales_Bahamas(AUTEC)-Annotated-NUWC',\n",
    "            'species': 'Peponocephala electra',\n",
    "            'split': '_',\n",
    "            'click_types' : [\n",
    "                                ['good', '*good.txt'],\n",
    "                                ['maybe', '*maybe1.txt']\n",
    "                        ]\n",
    "        },\n",
    "        'Risos whale':{\n",
    "            'folder': 'Rissos-SCORE-annot',\n",
    "            'species': 'Peponocephala electra',\n",
    "            'click_types' : [\n",
    "                            ['good', '*GoodSingle.txt'],\n",
    "                            ['poor', '*PoorSingle.txt'],\n",
    "                        ]\n",
    "        },\n",
    "        'Pacific whitesided dolphin':{\n",
    "            'folder': 'PacWhitesidedDolphin',\n",
    "            'split': '.',\n",
    "            'species': 'Peponocephala electra',\n",
    "            'click_types' : [\n",
    "                            ['type1h', '*type 1h.txt.txt']\n",
    "                        ]\n",
    "        },\n",
    "        'Blainsville\\'s beaked whale':{\n",
    "            'folder': 'Mesoplodon_Bahamas(AUTEC)-Annotated',\n",
    "            'split': '.',\n",
    "            'species': 'Peponocephala electra',\n",
    "            'click_types' : [\n",
    "                            ['good', '*/*on_final.log'],\n",
    "                            ['maybe', '*/*maybe_final.log'],\n",
    "                        ]\n",
    "        }\n",
    "}"
   ]
  },
  {
   "cell_type": "code",
   "execution_count": 8,
   "metadata": {
    "ExecuteTime": {
     "end_time": "2019-09-30T23:07:07.159554Z",
     "start_time": "2019-09-30T23:07:07.056629Z"
    }
   },
   "outputs": [
    {
     "data": {
      "text/plain": [
       "PosixPath('/mnt/cube/Datasets/mobysound')"
      ]
     },
     "execution_count": 8,
     "metadata": {},
     "output_type": "execute_result"
    }
   ],
   "source": [
    "DSLOC = avgn.utils.paths.Path('/mnt/cube/Datasets/mobysound/')\n",
    "DSLOC"
   ]
  },
  {
   "cell_type": "markdown",
   "metadata": {},
   "source": [
    "### create JSON for each species"
   ]
  },
  {
   "cell_type": "code",
   "execution_count": 9,
   "metadata": {
    "ExecuteTime": {
     "end_time": "2019-09-30T23:07:07.234157Z",
     "start_time": "2019-09-30T23:07:07.161543Z"
    }
   },
   "outputs": [],
   "source": [
    "from avgn.utils.audio import get_samplerate\n",
    "from avgn.utils.json import NoIndent, NoIndentEncoder"
   ]
  },
  {
   "cell_type": "code",
   "execution_count": 10,
   "metadata": {
    "ExecuteTime": {
     "end_time": "2019-09-30T23:07:07.349125Z",
     "start_time": "2019-09-30T23:07:07.237812Z"
    }
   },
   "outputs": [],
   "source": [
    "from IPython.display import display"
   ]
  },
  {
   "cell_type": "code",
   "execution_count": 30,
   "metadata": {
    "ExecuteTime": {
     "end_time": "2019-09-30T23:20:06.149392Z",
     "start_time": "2019-09-30T23:19:50.214520Z"
    },
    "scrolled": false
   },
   "outputs": [
    {
     "data": {
      "application/vnd.jupyter.widget-view+json": {
       "model_id": "904bac9961c74b28b36b95860e5baccd",
       "version_major": 2,
       "version_minor": 0
      },
      "text/plain": [
       "HBox(children=(IntProgress(value=0, max=6), HTML(value='')))"
      ]
     },
     "metadata": {},
     "output_type": "display_data"
    },
    {
     "name": "stderr",
     "output_type": "stream",
     "text": [
      "/mnt/cube/tsainbur/conda_envs/tpy3/lib/python3.6/site-packages/ipykernel_launcher.py:30: FutureWarning: Sorting because non-concatenation axis is not aligned. A future version\n",
      "of pandas will change to not sort by default.\n",
      "\n",
      "To accept the future behavior, pass 'sort=False'.\n",
      "\n",
      "To retain the current behavior and silence the warning, pass 'sort=True'.\n",
      "\n"
     ]
    },
    {
     "data": {
      "text/html": [
       "<div>\n",
       "<style scoped>\n",
       "    .dataframe tbody tr th:only-of-type {\n",
       "        vertical-align: middle;\n",
       "    }\n",
       "\n",
       "    .dataframe tbody tr th {\n",
       "        vertical-align: top;\n",
       "    }\n",
       "\n",
       "    .dataframe thead th {\n",
       "        text-align: right;\n",
       "    }\n",
       "</style>\n",
       "<table border=\"1\" class=\"dataframe\">\n",
       "  <thead>\n",
       "    <tr style=\"text-align: right;\">\n",
       "      <th></th>\n",
       "      <th>end time</th>\n",
       "      <th>low freq</th>\n",
       "      <th>high freq</th>\n",
       "      <th>peak freq</th>\n",
       "      <th>centr. freq</th>\n",
       "      <th>end time</th>\n",
       "      <th>high freq</th>\n",
       "      <th>% start time</th>\n",
       "      <th>%start time</th>\n",
       "      <th>Unnamed: 6</th>\n",
       "      <th>centr. freq</th>\n",
       "      <th>click_value</th>\n",
       "      <th>low freq</th>\n",
       "      <th>peak freq</th>\n",
       "      <th>stem</th>\n",
       "    </tr>\n",
       "  </thead>\n",
       "  <tbody>\n",
       "    <tr>\n",
       "      <th>0</th>\n",
       "      <td>120.35451</td>\n",
       "      <td>11936.23522</td>\n",
       "      <td>47548.39651</td>\n",
       "      <td>88.32861</td>\n",
       "      <td>28750.62782</td>\n",
       "      <td>NaN</td>\n",
       "      <td>NaN</td>\n",
       "      <td>120.35314</td>\n",
       "      <td>NaN</td>\n",
       "      <td>NaN</td>\n",
       "      <td>NaN</td>\n",
       "      <td>good</td>\n",
       "      <td>NaN</td>\n",
       "      <td>NaN</td>\n",
       "      <td>MISTCS070124-114000</td>\n",
       "    </tr>\n",
       "    <tr>\n",
       "      <th>1</th>\n",
       "      <td>120.43898</td>\n",
       "      <td>13613.61962</td>\n",
       "      <td>47290.33737</td>\n",
       "      <td>89.91411</td>\n",
       "      <td>27392.97215</td>\n",
       "      <td>NaN</td>\n",
       "      <td>NaN</td>\n",
       "      <td>120.43770</td>\n",
       "      <td>NaN</td>\n",
       "      <td>NaN</td>\n",
       "      <td>NaN</td>\n",
       "      <td>good</td>\n",
       "      <td>NaN</td>\n",
       "      <td>NaN</td>\n",
       "      <td>MISTCS070124-114000</td>\n",
       "    </tr>\n",
       "    <tr>\n",
       "      <th>2</th>\n",
       "      <td>121.30407</td>\n",
       "      <td>10258.85081</td>\n",
       "      <td>47419.36694</td>\n",
       "      <td>84.14929</td>\n",
       "      <td>22236.85906</td>\n",
       "      <td>NaN</td>\n",
       "      <td>NaN</td>\n",
       "      <td>121.30293</td>\n",
       "      <td>NaN</td>\n",
       "      <td>NaN</td>\n",
       "      <td>NaN</td>\n",
       "      <td>good</td>\n",
       "      <td>NaN</td>\n",
       "      <td>NaN</td>\n",
       "      <td>MISTCS070124-114000</td>\n",
       "    </tr>\n",
       "  </tbody>\n",
       "</table>\n",
       "</div>"
      ],
      "text/plain": [
       "    end time     low freq    high freq   peak freq   centr. freq   end time  \\\n",
       "0  120.35451  11936.23522  47548.39651    88.32861   28750.62782        NaN   \n",
       "1  120.43898  13613.61962  47290.33737    89.91411   27392.97215        NaN   \n",
       "2  121.30407  10258.85081  47419.36694    84.14929   22236.85906        NaN   \n",
       "\n",
       "    high freq  % start time  %start time Unnamed: 6  centr. freq click_value  \\\n",
       "0         NaN     120.35314          NaN        NaN          NaN        good   \n",
       "1         NaN     120.43770          NaN        NaN          NaN        good   \n",
       "2         NaN     121.30293          NaN        NaN          NaN        good   \n",
       "\n",
       "   low freq  peak freq                 stem  \n",
       "0       NaN        NaN  MISTCS070124-114000  \n",
       "1       NaN        NaN  MISTCS070124-114000  \n",
       "2       NaN        NaN  MISTCS070124-114000  "
      ]
     },
     "metadata": {},
     "output_type": "display_data"
    },
    {
     "data": {
      "application/vnd.jupyter.widget-view+json": {
       "model_id": "63b30f42d2094217955162ec4fd6b0c4",
       "version_major": 2,
       "version_minor": 0
      },
      "text/plain": [
       "HBox(children=(IntProgress(value=1, bar_style='info', max=1), HTML(value='')))"
      ]
     },
     "metadata": {},
     "output_type": "display_data"
    },
    {
     "name": "stdout",
     "output_type": "stream",
     "text": [
      "[120.35314, 120.4377, 121.30293] [120.35451, 120.43898, 121.30407]\n",
      "[nan, nan, nan] [nan, nan, nan]\n",
      "MISTCS070124-113934\n",
      "[400.81357, 401.21156, 405.2605] [400.81464, 401.2125, 405.26164]\n",
      "MISTCS070124-111000\n"
     ]
    },
    {
     "data": {
      "text/html": [
       "<div>\n",
       "<style scoped>\n",
       "    .dataframe tbody tr th:only-of-type {\n",
       "        vertical-align: middle;\n",
       "    }\n",
       "\n",
       "    .dataframe tbody tr th {\n",
       "        vertical-align: top;\n",
       "    }\n",
       "\n",
       "    .dataframe thead th {\n",
       "        text-align: right;\n",
       "    }\n",
       "</style>\n",
       "<table border=\"1\" class=\"dataframe\">\n",
       "  <thead>\n",
       "    <tr style=\"text-align: right;\">\n",
       "      <th></th>\n",
       "      <th>% start time</th>\n",
       "      <th>end time</th>\n",
       "      <th>duration</th>\n",
       "      <th>low freq</th>\n",
       "      <th>high freq</th>\n",
       "      <th>Unnamed: 5</th>\n",
       "      <th>stem</th>\n",
       "      <th>click_value</th>\n",
       "    </tr>\n",
       "  </thead>\n",
       "  <tbody>\n",
       "    <tr>\n",
       "      <th>0</th>\n",
       "      <td>0.009</td>\n",
       "      <td>0.012</td>\n",
       "      <td>0.003</td>\n",
       "      <td>4789.633</td>\n",
       "      <td>39380.461</td>\n",
       "      <td>NaN</td>\n",
       "      <td>SpermWh_A2_030306-H12</td>\n",
       "      <td>maybe</td>\n",
       "    </tr>\n",
       "    <tr>\n",
       "      <th>1</th>\n",
       "      <td>0.025</td>\n",
       "      <td>0.029</td>\n",
       "      <td>0.004</td>\n",
       "      <td>4226.264</td>\n",
       "      <td>41633.935</td>\n",
       "      <td>NaN</td>\n",
       "      <td>SpermWh_A2_030306-H12</td>\n",
       "      <td>maybe</td>\n",
       "    </tr>\n",
       "    <tr>\n",
       "      <th>2</th>\n",
       "      <td>0.041</td>\n",
       "      <td>0.046</td>\n",
       "      <td>0.004</td>\n",
       "      <td>4789.633</td>\n",
       "      <td>40507.198</td>\n",
       "      <td>NaN</td>\n",
       "      <td>SpermWh_A2_030306-H12</td>\n",
       "      <td>maybe</td>\n",
       "    </tr>\n",
       "  </tbody>\n",
       "</table>\n",
       "</div>"
      ],
      "text/plain": [
       "   % start time   end time   duration   low freq   high freq  Unnamed: 5  \\\n",
       "0         0.009      0.012      0.003   4789.633   39380.461         NaN   \n",
       "1         0.025      0.029      0.004   4226.264   41633.935         NaN   \n",
       "2         0.041      0.046      0.004   4789.633   40507.198         NaN   \n",
       "\n",
       "                    stem click_value  \n",
       "0  SpermWh_A2_030306-H12       maybe  \n",
       "1  SpermWh_A2_030306-H12       maybe  \n",
       "2  SpermWh_A2_030306-H12       maybe  "
      ]
     },
     "metadata": {},
     "output_type": "display_data"
    },
    {
     "data": {
      "application/vnd.jupyter.widget-view+json": {
       "model_id": "7871961b4a8a4f138aa612c37722b312",
       "version_major": 2,
       "version_minor": 0
      },
      "text/plain": [
       "HBox(children=(IntProgress(value=1, bar_style='info', max=1), HTML(value='')))"
      ]
     },
     "metadata": {},
     "output_type": "display_data"
    },
    {
     "name": "stdout",
     "output_type": "stream",
     "text": [
      "[0.289, 0.894, 1.608] [0.311, 0.915, 1.631]\n",
      "[0.009000000000000001, 0.025, 0.040999999999999995] [0.012, 0.028999999999999998, 0.046]\n"
     ]
    },
    {
     "data": {
      "text/html": [
       "<div>\n",
       "<style scoped>\n",
       "    .dataframe tbody tr th:only-of-type {\n",
       "        vertical-align: middle;\n",
       "    }\n",
       "\n",
       "    .dataframe tbody tr th {\n",
       "        vertical-align: top;\n",
       "    }\n",
       "\n",
       "    .dataframe thead th {\n",
       "        text-align: right;\n",
       "    }\n",
       "</style>\n",
       "<table border=\"1\" class=\"dataframe\">\n",
       "  <thead>\n",
       "    <tr style=\"text-align: right;\">\n",
       "      <th></th>\n",
       "      <th>% start time</th>\n",
       "      <th>end time</th>\n",
       "      <th>low freq</th>\n",
       "      <th>high freq</th>\n",
       "      <th>Unnamed: 4</th>\n",
       "      <th>stem</th>\n",
       "      <th>click_value</th>\n",
       "    </tr>\n",
       "  </thead>\n",
       "  <tbody>\n",
       "    <tr>\n",
       "      <th>0</th>\n",
       "      <td>51.874</td>\n",
       "      <td>51.882</td>\n",
       "      <td>6294.029</td>\n",
       "      <td>45928.382</td>\n",
       "      <td>NaN</td>\n",
       "      <td>Set3-A2-092605-H23-0615-0630-1450-1505loc</td>\n",
       "      <td>good</td>\n",
       "    </tr>\n",
       "    <tr>\n",
       "      <th>1</th>\n",
       "      <td>54.831</td>\n",
       "      <td>54.837</td>\n",
       "      <td>7779.340</td>\n",
       "      <td>45928.382</td>\n",
       "      <td>NaN</td>\n",
       "      <td>Set3-A2-092605-H23-0615-0630-1450-1505loc</td>\n",
       "      <td>good</td>\n",
       "    </tr>\n",
       "    <tr>\n",
       "      <th>2</th>\n",
       "      <td>56.453</td>\n",
       "      <td>56.460</td>\n",
       "      <td>7388.468</td>\n",
       "      <td>45302.988</td>\n",
       "      <td>NaN</td>\n",
       "      <td>Set3-A2-092605-H23-0615-0630-1450-1505loc</td>\n",
       "      <td>good</td>\n",
       "    </tr>\n",
       "  </tbody>\n",
       "</table>\n",
       "</div>"
      ],
      "text/plain": [
       "   % start time   end time   low freq   high freq  Unnamed: 4  \\\n",
       "0        51.874     51.882   6294.029   45928.382         NaN   \n",
       "1        54.831     54.837   7779.340   45928.382         NaN   \n",
       "2        56.453     56.460   7388.468   45302.988         NaN   \n",
       "\n",
       "                                        stem click_value  \n",
       "0  Set3-A2-092605-H23-0615-0630-1450-1505loc        good  \n",
       "1  Set3-A2-092605-H23-0615-0630-1450-1505loc        good  \n",
       "2  Set3-A2-092605-H23-0615-0630-1450-1505loc        good  "
      ]
     },
     "metadata": {},
     "output_type": "display_data"
    },
    {
     "data": {
      "application/vnd.jupyter.widget-view+json": {
       "model_id": "02107657bf0e48f38de43572f928cac6",
       "version_major": 2,
       "version_minor": 0
      },
      "text/plain": [
       "HBox(children=(IntProgress(value=1, bar_style='info', max=1), HTML(value='')))"
      ]
     },
     "metadata": {},
     "output_type": "display_data"
    },
    {
     "name": "stdout",
     "output_type": "stream",
     "text": [
      "[0.057999999999999996, 0.361, 0.795] [0.063, 0.366, 0.8009999999999999]\n",
      "[1.275, 1.494, 1.713] [1.2830000000000001, 1.5, 1.719]\n",
      "[51.873999999999995, 54.831, 56.453] [51.882, 54.836999999999996, 56.46]\n",
      "[2.613, 2.8169999999999997, 47.935] [2.622, 2.825, 47.942]\n",
      "[0.055999999999999994, 0.295, 0.295] [0.06, 0.3, 0.298]\n",
      "[3.7430000000000003, 4.502, 5.1160000000000005] [3.7489999999999997, 4.5089999999999995, 5.122999999999999]\n"
     ]
    },
    {
     "data": {
      "text/html": [
       "<div>\n",
       "<style scoped>\n",
       "    .dataframe tbody tr th:only-of-type {\n",
       "        vertical-align: middle;\n",
       "    }\n",
       "\n",
       "    .dataframe tbody tr th {\n",
       "        vertical-align: top;\n",
       "    }\n",
       "\n",
       "    .dataframe thead th {\n",
       "        text-align: right;\n",
       "    }\n",
       "</style>\n",
       "<table border=\"1\" class=\"dataframe\">\n",
       "  <thead>\n",
       "    <tr style=\"text-align: right;\">\n",
       "      <th></th>\n",
       "      <th>% start time</th>\n",
       "      <th>end time</th>\n",
       "      <th>low freq</th>\n",
       "      <th>high freq</th>\n",
       "      <th>Unnamed: 4</th>\n",
       "      <th>stem</th>\n",
       "      <th>click_value</th>\n",
       "    </tr>\n",
       "  </thead>\n",
       "  <tbody>\n",
       "    <tr>\n",
       "      <th>0</th>\n",
       "      <td>4.26258</td>\n",
       "      <td>4.27124</td>\n",
       "      <td>21328.39072</td>\n",
       "      <td>40132.12268</td>\n",
       "      <td>NaN</td>\n",
       "      <td>Set1-A2-H17-081406-0000-0030-1225-1255loc.GoodS</td>\n",
       "      <td>good</td>\n",
       "    </tr>\n",
       "    <tr>\n",
       "      <th>1</th>\n",
       "      <td>4.39858</td>\n",
       "      <td>4.40724</td>\n",
       "      <td>21427.35773</td>\n",
       "      <td>40033.15567</td>\n",
       "      <td>NaN</td>\n",
       "      <td>Set1-A2-H17-081406-0000-0030-1225-1255loc.GoodS</td>\n",
       "      <td>good</td>\n",
       "    </tr>\n",
       "    <tr>\n",
       "      <th>2</th>\n",
       "      <td>4.57381</td>\n",
       "      <td>4.58400</td>\n",
       "      <td>21526.32474</td>\n",
       "      <td>41913.52887</td>\n",
       "      <td>NaN</td>\n",
       "      <td>Set1-A2-H17-081406-0000-0030-1225-1255loc.GoodS</td>\n",
       "      <td>good</td>\n",
       "    </tr>\n",
       "  </tbody>\n",
       "</table>\n",
       "</div>"
      ],
      "text/plain": [
       "   % start time   end time     low freq    high freq  Unnamed: 4  \\\n",
       "0       4.26258    4.27124  21328.39072  40132.12268         NaN   \n",
       "1       4.39858    4.40724  21427.35773  40033.15567         NaN   \n",
       "2       4.57381    4.58400  21526.32474  41913.52887         NaN   \n",
       "\n",
       "                                              stem click_value  \n",
       "0  Set1-A2-H17-081406-0000-0030-1225-1255loc.GoodS        good  \n",
       "1  Set1-A2-H17-081406-0000-0030-1225-1255loc.GoodS        good  \n",
       "2  Set1-A2-H17-081406-0000-0030-1225-1255loc.GoodS        good  "
      ]
     },
     "metadata": {},
     "output_type": "display_data"
    },
    {
     "data": {
      "application/vnd.jupyter.widget-view+json": {
       "model_id": "8aefe6ee452844afaf674f9feb3e0f8c",
       "version_major": 2,
       "version_minor": 0
      },
      "text/plain": [
       "HBox(children=(IntProgress(value=1, bar_style='info', max=1), HTML(value='')))"
      ]
     },
     "metadata": {},
     "output_type": "display_data"
    },
    {
     "name": "stdout",
     "output_type": "stream",
     "text": [
      "Set1-A2-H17-081406-0000-0030-1225-1255loc\n",
      "/mnt/cube/Datasets/mobysound/PacWhitesidedDolphin/._Lo-070421-164044-Lo-B16h40m44s21apr2007y.wav\n"
     ]
    },
    {
     "data": {
      "text/html": [
       "<div>\n",
       "<style scoped>\n",
       "    .dataframe tbody tr th:only-of-type {\n",
       "        vertical-align: middle;\n",
       "    }\n",
       "\n",
       "    .dataframe tbody tr th {\n",
       "        vertical-align: top;\n",
       "    }\n",
       "\n",
       "    .dataframe thead th {\n",
       "        text-align: right;\n",
       "    }\n",
       "</style>\n",
       "<table border=\"1\" class=\"dataframe\">\n",
       "  <thead>\n",
       "    <tr style=\"text-align: right;\">\n",
       "      <th></th>\n",
       "      <th>184.422 184.423 23944.954 43211.009</th>\n",
       "      <th>189.550 189.550 26366.972 35724.771</th>\n",
       "      <th>click_value</th>\n",
       "      <th>stem</th>\n",
       "    </tr>\n",
       "  </thead>\n",
       "  <tbody>\n",
       "    <tr>\n",
       "      <th>0</th>\n",
       "      <td>184.641     184.642   24385.321   44532.110</td>\n",
       "      <td>NaN</td>\n",
       "      <td>good</td>\n",
       "      <td>Set3_A2_042705_CH1_H12_A0500-0530.mesoplodon_</td>\n",
       "    </tr>\n",
       "    <tr>\n",
       "      <th>1</th>\n",
       "      <td>184.866     184.866   24165.138   40788.991</td>\n",
       "      <td>NaN</td>\n",
       "      <td>good</td>\n",
       "      <td>Set3_A2_042705_CH1_H12_A0500-0530.mesoplodon_</td>\n",
       "    </tr>\n",
       "    <tr>\n",
       "      <th>2</th>\n",
       "      <td>185.101     185.102   22844.037   44972.477</td>\n",
       "      <td>NaN</td>\n",
       "      <td>good</td>\n",
       "      <td>Set3_A2_042705_CH1_H12_A0500-0530.mesoplodon_</td>\n",
       "    </tr>\n",
       "  </tbody>\n",
       "</table>\n",
       "</div>"
      ],
      "text/plain": [
       "                184.422 184.423 23944.954 43211.009  \\\n",
       "0       184.641     184.642   24385.321   44532.110   \n",
       "1       184.866     184.866   24165.138   40788.991   \n",
       "2       185.101     185.102   22844.037   44972.477   \n",
       "\n",
       "   189.550 189.550 26366.972 35724.771 click_value  \\\n",
       "0                                  NaN        good   \n",
       "1                                  NaN        good   \n",
       "2                                  NaN        good   \n",
       "\n",
       "                                            stem  \n",
       "0  Set3_A2_042705_CH1_H12_A0500-0530.mesoplodon_  \n",
       "1  Set3_A2_042705_CH1_H12_A0500-0530.mesoplodon_  \n",
       "2  Set3_A2_042705_CH1_H12_A0500-0530.mesoplodon_  "
      ]
     },
     "metadata": {},
     "output_type": "display_data"
    },
    {
     "data": {
      "application/vnd.jupyter.widget-view+json": {
       "model_id": "3e545b90cc8847b9840a4b752a201ecb",
       "version_major": 2,
       "version_minor": 0
      },
      "text/plain": [
       "HBox(children=(IntProgress(value=1, bar_style='info', max=1), HTML(value='')))"
      ]
     },
     "metadata": {},
     "output_type": "display_data"
    }
   ],
   "source": [
    "# for each species\n",
    "for common_name, species_dict in tqdm(subfolders.items()):\n",
    "    # get the folder\n",
    "    ds_folder = DSLOC / species_dict['folder']\n",
    "    \n",
    "    # create a df of wavs in that folder\n",
    "    wavs = list(ds_folder.glob('*.wav'))\n",
    "    wav_df = pd.DataFrame(columns = ['stem', 'path', 'rate', 'duration'])\n",
    "    for wav in wavs:\n",
    "        try:\n",
    "            sr = get_samplerate(wav.as_posix())\n",
    "        except:\n",
    "            print(wav)\n",
    "            continue\n",
    "        wav_duration = librosa.get_duration(filename=wav)\n",
    "        wav_df.loc[len(wav_df)] = [wav.stem, wav, sr, wav_duration]\n",
    "    \n",
    "    # create a dataframe of clicks for those wavs\n",
    "    clicks_df = []\n",
    "    for click_type, click_type_glob in species_dict['click_types']:\n",
    "        good_clicks = list(ds_folder.glob(click_type_glob))\n",
    "        good_clicks = [i for i in good_clicks if i.stem[0] != '.']\n",
    "        for click_label_loc in good_clicks:\n",
    "            good_clicks_df = pd.read_csv(click_label_loc, delimiter='\\t')\n",
    "            good_clicks_df['stem'] = click_label_loc.stem\n",
    "            good_clicks_df['click_value'] = click_type\n",
    "            clicks_df.append(good_clicks_df)\n",
    "    if len(clicks_df) == 0:\n",
    "        continue\n",
    "    clicks_df = pd.concat(clicks_df)\n",
    "    clicks_df.columns = [re.sub(' +', ' ', i) for i in clicks_df.columns]\n",
    "    clicks_df['stem'] = [row.stem[:-(len(row.click_value)+1)] for idx, row in clicks_df.iterrows()]\n",
    "    #clicks_df['stem'] = [i.split(species_dict['split'])[0] for i in clicks_df.stem]\n",
    "        \n",
    "    display(clicks_df[:3])\n",
    "        \n",
    "    # for each wav\n",
    "    for idx, wavrow in tqdm(wav_df.iterrows()):\n",
    "        wavclicks = clicks_df[clicks_df.stem == wavrow.stem]\n",
    "        if len(wavclicks) == 0:\n",
    "            print(wavrow.stem)\n",
    "            continue\n",
    "        if type(wavclicks[\" end time\"].values[0]) is np.ndarray:\n",
    "            stop_times = list([i[0] for i in wavclicks[\" end time\"].values])\n",
    "        else:\n",
    "            stop_times = list(wavclicks[\" end time\"].values)\n",
    "            \n",
    "        start_times = list(wavclicks[\"% start time\"].values)\n",
    "        \n",
    "        print(start_times[:3], stop_times[:3])\n",
    "\n",
    "        \n",
    "        if np.isnan(start_times[0]):\n",
    "            start_times = list(wavclicks[\"%start time\"].values)\n",
    "              \n",
    "        if np.isnan(stop_times[0]):\n",
    "            stop_times = [i[0] for i in wavclicks.index.values]        \n",
    "        \n",
    "        print(start_times[:3], stop_times[:3])\n",
    "        \n",
    "        # make json\n",
    "        json_dict = {}\n",
    "        json_dict[\"indvs\"] = {\n",
    "            \"UNK\": {\n",
    "                \"clicks\": {\n",
    "                    \"start_times\": NoIndent(start_times),\n",
    "                    \"end_times\": NoIndent(stop_times),\n",
    "                #\"peak_freq\": NoIndent(list(wavclicks[\"peak freq\"].values)),\n",
    "                #\"center_freq\": NoIndent(list(wavclicks[\"centr. freq\"].values)),\n",
    "                \"click_value\": NoIndent(list(wavclicks[\"click_value\"].values)),\n",
    "                }\n",
    "                \n",
    "            }\n",
    "        }\n",
    "        \n",
    "        # add species\n",
    "        json_dict[\"species\"] = species_dict['species']\n",
    "        json_dict[\"common_name\"] = common_name\n",
    "        json_dict[\"wav_loc\"] = wavrow.path.as_posix()\n",
    "        json_dict[\"stem\"] = wavrow.stem\n",
    "        # rate and length\n",
    "        json_dict[\"samplerate_hz\"] = wavrow.rate\n",
    "        json_dict[\"length_s\"] = wavrow.duration\n",
    "\n",
    "        # dump json\n",
    "        json_txt = json.dumps(json_dict, cls=NoIndentEncoder, indent=2)\n",
    "        \n",
    "        # json save location\n",
    "        wav_stem = wavrow.stem\n",
    "        json_out = (\n",
    "            DATA_DIR\n",
    "            / \"processed\"\n",
    "            / DATASET_ID\n",
    "            / DT_ID\n",
    "            / \"JSON\"\n",
    "            / (wav_stem + \".JSON\")\n",
    "        )\n",
    "        \n",
    "        # save json\n",
    "        avgn.utils.paths.ensure_dir(json_out.as_posix())\n",
    "        print(json_txt, file=open(json_out.as_posix(), \"w\"))\n",
    "        #print(json_txt)\n"
   ]
  },
  {
   "cell_type": "code",
   "execution_count": 26,
   "metadata": {
    "ExecuteTime": {
     "end_time": "2019-09-30T23:18:56.431590Z",
     "start_time": "2019-09-30T23:18:56.330846Z"
    }
   },
   "outputs": [
    {
     "data": {
      "text/html": [
       "<div>\n",
       "<style scoped>\n",
       "    .dataframe tbody tr th:only-of-type {\n",
       "        vertical-align: middle;\n",
       "    }\n",
       "\n",
       "    .dataframe tbody tr th {\n",
       "        vertical-align: top;\n",
       "    }\n",
       "\n",
       "    .dataframe thead th {\n",
       "        text-align: right;\n",
       "    }\n",
       "</style>\n",
       "<table border=\"1\" class=\"dataframe\">\n",
       "  <thead>\n",
       "    <tr style=\"text-align: right;\">\n",
       "      <th></th>\n",
       "      <th>end time</th>\n",
       "      <th>low freq</th>\n",
       "      <th>high freq</th>\n",
       "      <th>peak freq</th>\n",
       "      <th>centr. freq</th>\n",
       "      <th>end time</th>\n",
       "      <th>high freq</th>\n",
       "      <th>% start time</th>\n",
       "      <th>%start time</th>\n",
       "      <th>Unnamed: 6</th>\n",
       "      <th>centr. freq</th>\n",
       "      <th>click_value</th>\n",
       "      <th>low freq</th>\n",
       "      <th>peak freq</th>\n",
       "      <th>stem</th>\n",
       "    </tr>\n",
       "  </thead>\n",
       "  <tbody>\n",
       "    <tr>\n",
       "      <th>(41.88, nan)</th>\n",
       "      <td>NaN</td>\n",
       "      <td>NaN</td>\n",
       "      <td>NaN</td>\n",
       "      <td>NaN</td>\n",
       "      <td>NaN</td>\n",
       "      <td>NaN</td>\n",
       "      <td>47548.397</td>\n",
       "      <td>NaN</td>\n",
       "      <td>41.882</td>\n",
       "      <td>NaN</td>\n",
       "      <td>19704.276</td>\n",
       "      <td>good</td>\n",
       "      <td>6258.934</td>\n",
       "      <td>8578.125</td>\n",
       "      <td>MISTCS070124-112000</td>\n",
       "    </tr>\n",
       "    <tr>\n",
       "      <th>(41.897, nan)</th>\n",
       "      <td>NaN</td>\n",
       "      <td>NaN</td>\n",
       "      <td>NaN</td>\n",
       "      <td>NaN</td>\n",
       "      <td>NaN</td>\n",
       "      <td>NaN</td>\n",
       "      <td>47559.064</td>\n",
       "      <td>NaN</td>\n",
       "      <td>41.898</td>\n",
       "      <td>NaN</td>\n",
       "      <td>24827.020</td>\n",
       "      <td>good</td>\n",
       "      <td>9512.613</td>\n",
       "      <td>10117.647</td>\n",
       "      <td>MISTCS070124-112000</td>\n",
       "    </tr>\n",
       "    <tr>\n",
       "      <th>(41.917, nan)</th>\n",
       "      <td>NaN</td>\n",
       "      <td>NaN</td>\n",
       "      <td>NaN</td>\n",
       "      <td>NaN</td>\n",
       "      <td>NaN</td>\n",
       "      <td>NaN</td>\n",
       "      <td>47548.397</td>\n",
       "      <td>NaN</td>\n",
       "      <td>41.919</td>\n",
       "      <td>NaN</td>\n",
       "      <td>23733.798</td>\n",
       "      <td>good</td>\n",
       "      <td>10516.910</td>\n",
       "      <td>13072.500</td>\n",
       "      <td>MISTCS070124-112000</td>\n",
       "    </tr>\n",
       "    <tr>\n",
       "      <th>(41.943000000000005, nan)</th>\n",
       "      <td>NaN</td>\n",
       "      <td>NaN</td>\n",
       "      <td>NaN</td>\n",
       "      <td>NaN</td>\n",
       "      <td>NaN</td>\n",
       "      <td>NaN</td>\n",
       "      <td>47307.101</td>\n",
       "      <td>NaN</td>\n",
       "      <td>41.945</td>\n",
       "      <td>NaN</td>\n",
       "      <td>20261.269</td>\n",
       "      <td>good</td>\n",
       "      <td>6866.999</td>\n",
       "      <td>8590.909</td>\n",
       "      <td>MISTCS070124-112000</td>\n",
       "    </tr>\n",
       "    <tr>\n",
       "      <th>(41.949, nan)</th>\n",
       "      <td>NaN</td>\n",
       "      <td>NaN</td>\n",
       "      <td>NaN</td>\n",
       "      <td>NaN</td>\n",
       "      <td>NaN</td>\n",
       "      <td>NaN</td>\n",
       "      <td>47290.337</td>\n",
       "      <td>NaN</td>\n",
       "      <td>41.951</td>\n",
       "      <td>NaN</td>\n",
       "      <td>23896.944</td>\n",
       "      <td>good</td>\n",
       "      <td>7678.259</td>\n",
       "      <td>7868.056</td>\n",
       "      <td>MISTCS070124-112000</td>\n",
       "    </tr>\n",
       "    <tr>\n",
       "      <th>(41.953, nan)</th>\n",
       "      <td>NaN</td>\n",
       "      <td>NaN</td>\n",
       "      <td>NaN</td>\n",
       "      <td>NaN</td>\n",
       "      <td>NaN</td>\n",
       "      <td>NaN</td>\n",
       "      <td>47548.397</td>\n",
       "      <td>NaN</td>\n",
       "      <td>41.957</td>\n",
       "      <td>NaN</td>\n",
       "      <td>22803.348</td>\n",
       "      <td>good</td>\n",
       "      <td>8323.407</td>\n",
       "      <td>11561.321</td>\n",
       "      <td>MISTCS070124-112000</td>\n",
       "    </tr>\n",
       "    <tr>\n",
       "      <th>(41.955, nan)</th>\n",
       "      <td>NaN</td>\n",
       "      <td>NaN</td>\n",
       "      <td>NaN</td>\n",
       "      <td>NaN</td>\n",
       "      <td>NaN</td>\n",
       "      <td>NaN</td>\n",
       "      <td>47181.119</td>\n",
       "      <td>NaN</td>\n",
       "      <td>41.956</td>\n",
       "      <td>NaN</td>\n",
       "      <td>25892.160</td>\n",
       "      <td>good</td>\n",
       "      <td>9386.631</td>\n",
       "      <td>10852.941</td>\n",
       "      <td>MISTCS070124-112000</td>\n",
       "    </tr>\n",
       "    <tr>\n",
       "      <th>(41.956, nan)</th>\n",
       "      <td>NaN</td>\n",
       "      <td>NaN</td>\n",
       "      <td>NaN</td>\n",
       "      <td>NaN</td>\n",
       "      <td>NaN</td>\n",
       "      <td>NaN</td>\n",
       "      <td>47433.083</td>\n",
       "      <td>NaN</td>\n",
       "      <td>41.957</td>\n",
       "      <td>NaN</td>\n",
       "      <td>27982.309</td>\n",
       "      <td>good</td>\n",
       "      <td>11150.374</td>\n",
       "      <td>13821.429</td>\n",
       "      <td>MISTCS070124-112000</td>\n",
       "    </tr>\n",
       "    <tr>\n",
       "      <th>(42.059, nan)</th>\n",
       "      <td>NaN</td>\n",
       "      <td>NaN</td>\n",
       "      <td>NaN</td>\n",
       "      <td>NaN</td>\n",
       "      <td>NaN</td>\n",
       "      <td>NaN</td>\n",
       "      <td>47559.064</td>\n",
       "      <td>NaN</td>\n",
       "      <td>42.061</td>\n",
       "      <td>NaN</td>\n",
       "      <td>27351.206</td>\n",
       "      <td>good</td>\n",
       "      <td>12158.227</td>\n",
       "      <td>13101.563</td>\n",
       "      <td>MISTCS070124-112000</td>\n",
       "    </tr>\n",
       "    <tr>\n",
       "      <th>(99.027, nan)</th>\n",
       "      <td>NaN</td>\n",
       "      <td>NaN</td>\n",
       "      <td>NaN</td>\n",
       "      <td>NaN</td>\n",
       "      <td>NaN</td>\n",
       "      <td>NaN</td>\n",
       "      <td>47290.337</td>\n",
       "      <td>NaN</td>\n",
       "      <td>99.028</td>\n",
       "      <td>NaN</td>\n",
       "      <td>24713.391</td>\n",
       "      <td>good</td>\n",
       "      <td>11291.087</td>\n",
       "      <td>18964.286</td>\n",
       "      <td>MISTCS070124-112000</td>\n",
       "    </tr>\n",
       "    <tr>\n",
       "      <th>(352.342, nan)</th>\n",
       "      <td>NaN</td>\n",
       "      <td>NaN</td>\n",
       "      <td>NaN</td>\n",
       "      <td>NaN</td>\n",
       "      <td>NaN</td>\n",
       "      <td>NaN</td>\n",
       "      <td>47012.679</td>\n",
       "      <td>NaN</td>\n",
       "      <td>352.342</td>\n",
       "      <td>NaN</td>\n",
       "      <td>26702.850</td>\n",
       "      <td>good</td>\n",
       "      <td>11013.429</td>\n",
       "      <td>15540.000</td>\n",
       "      <td>MISTCS070124-112000</td>\n",
       "    </tr>\n",
       "    <tr>\n",
       "      <th>(352.342, nan)</th>\n",
       "      <td>NaN</td>\n",
       "      <td>NaN</td>\n",
       "      <td>NaN</td>\n",
       "      <td>NaN</td>\n",
       "      <td>NaN</td>\n",
       "      <td>NaN</td>\n",
       "      <td>46101.305</td>\n",
       "      <td>NaN</td>\n",
       "      <td>352.343</td>\n",
       "      <td>NaN</td>\n",
       "      <td>29274.107</td>\n",
       "      <td>good</td>\n",
       "      <td>13899.445</td>\n",
       "      <td>24260.870</td>\n",
       "      <td>MISTCS070124-112000</td>\n",
       "    </tr>\n",
       "  </tbody>\n",
       "</table>\n",
       "</div>"
      ],
      "text/plain": [
       "                            end time   low freq   high freq   peak freq  \\\n",
       "(41.88, nan)                     NaN        NaN         NaN         NaN   \n",
       "(41.897, nan)                    NaN        NaN         NaN         NaN   \n",
       "(41.917, nan)                    NaN        NaN         NaN         NaN   \n",
       "(41.943000000000005, nan)        NaN        NaN         NaN         NaN   \n",
       "(41.949, nan)                    NaN        NaN         NaN         NaN   \n",
       "(41.953, nan)                    NaN        NaN         NaN         NaN   \n",
       "(41.955, nan)                    NaN        NaN         NaN         NaN   \n",
       "(41.956, nan)                    NaN        NaN         NaN         NaN   \n",
       "(42.059, nan)                    NaN        NaN         NaN         NaN   \n",
       "(99.027, nan)                    NaN        NaN         NaN         NaN   \n",
       "(352.342, nan)                   NaN        NaN         NaN         NaN   \n",
       "(352.342, nan)                   NaN        NaN         NaN         NaN   \n",
       "\n",
       "                            centr. freq   end time   high freq  % start time  \\\n",
       "(41.88, nan)                        NaN        NaN   47548.397           NaN   \n",
       "(41.897, nan)                       NaN        NaN   47559.064           NaN   \n",
       "(41.917, nan)                       NaN        NaN   47548.397           NaN   \n",
       "(41.943000000000005, nan)           NaN        NaN   47307.101           NaN   \n",
       "(41.949, nan)                       NaN        NaN   47290.337           NaN   \n",
       "(41.953, nan)                       NaN        NaN   47548.397           NaN   \n",
       "(41.955, nan)                       NaN        NaN   47181.119           NaN   \n",
       "(41.956, nan)                       NaN        NaN   47433.083           NaN   \n",
       "(42.059, nan)                       NaN        NaN   47559.064           NaN   \n",
       "(99.027, nan)                       NaN        NaN   47290.337           NaN   \n",
       "(352.342, nan)                      NaN        NaN   47012.679           NaN   \n",
       "(352.342, nan)                      NaN        NaN   46101.305           NaN   \n",
       "\n",
       "                           %start time Unnamed: 6  centr. freq click_value  \\\n",
       "(41.88, nan)                    41.882        NaN    19704.276        good   \n",
       "(41.897, nan)                   41.898        NaN    24827.020        good   \n",
       "(41.917, nan)                   41.919        NaN    23733.798        good   \n",
       "(41.943000000000005, nan)       41.945        NaN    20261.269        good   \n",
       "(41.949, nan)                   41.951        NaN    23896.944        good   \n",
       "(41.953, nan)                   41.957        NaN    22803.348        good   \n",
       "(41.955, nan)                   41.956        NaN    25892.160        good   \n",
       "(41.956, nan)                   41.957        NaN    27982.309        good   \n",
       "(42.059, nan)                   42.061        NaN    27351.206        good   \n",
       "(99.027, nan)                   99.028        NaN    24713.391        good   \n",
       "(352.342, nan)                 352.342        NaN    26702.850        good   \n",
       "(352.342, nan)                 352.343        NaN    29274.107        good   \n",
       "\n",
       "                            low freq  peak freq                 stem  \n",
       "(41.88, nan)                6258.934   8578.125  MISTCS070124-112000  \n",
       "(41.897, nan)               9512.613  10117.647  MISTCS070124-112000  \n",
       "(41.917, nan)              10516.910  13072.500  MISTCS070124-112000  \n",
       "(41.943000000000005, nan)   6866.999   8590.909  MISTCS070124-112000  \n",
       "(41.949, nan)               7678.259   7868.056  MISTCS070124-112000  \n",
       "(41.953, nan)               8323.407  11561.321  MISTCS070124-112000  \n",
       "(41.955, nan)               9386.631  10852.941  MISTCS070124-112000  \n",
       "(41.956, nan)              11150.374  13821.429  MISTCS070124-112000  \n",
       "(42.059, nan)              12158.227  13101.563  MISTCS070124-112000  \n",
       "(99.027, nan)              11291.087  18964.286  MISTCS070124-112000  \n",
       "(352.342, nan)             11013.429  15540.000  MISTCS070124-112000  \n",
       "(352.342, nan)             13899.445  24260.870  MISTCS070124-112000  "
      ]
     },
     "execution_count": 26,
     "metadata": {},
     "output_type": "execute_result"
    }
   ],
   "source": [
    "wavclicks"
   ]
  },
  {
   "cell_type": "code",
   "execution_count": null,
   "metadata": {},
   "outputs": [],
   "source": []
  }
 ],
 "metadata": {
  "kernelspec": {
   "display_name": "Python 3",
   "language": "python",
   "name": "python3"
  },
  "language_info": {
   "codemirror_mode": {
    "name": "ipython",
    "version": 3
   },
   "file_extension": ".py",
   "mimetype": "text/x-python",
   "name": "python",
   "nbconvert_exporter": "python",
   "pygments_lexer": "ipython3",
   "version": "3.6.7"
  }
 },
 "nbformat": 4,
 "nbformat_minor": 2
}
