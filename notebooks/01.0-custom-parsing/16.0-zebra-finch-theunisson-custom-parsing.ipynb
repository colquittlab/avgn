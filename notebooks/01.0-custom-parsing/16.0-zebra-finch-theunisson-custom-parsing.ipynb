{
 "cells": [
  {
   "cell_type": "markdown",
   "metadata": {},
   "source": [
    "### Zebra finch custom parsing\n",
    "- An labelled (but smaller) dataset of zebra finch vocalizations\n",
    "    - .WAV files with labels\n",
    "- This notebook creates a JSON corresponding to each WAV file (and Noise file where available).\n",
    "- Dataset origin:\n",
    "    - https://drive.google.com/drive/folders/1etvuPjaNHV9oFPgUAuLxP3bk1aWfj3Pl\n",
    "    - https://www.nature.com/articles/s41467-018-06394-9\n",
    "    - https://www.ncbi.nlm.nih.gov/pubmed/26581377"
   ]
  },
  {
   "cell_type": "code",
   "execution_count": 1,
   "metadata": {
    "ExecuteTime": {
     "end_time": "2019-06-26T20:24:37.902854Z",
     "start_time": "2019-06-26T20:24:36.114206Z"
    }
   },
   "outputs": [],
   "source": [
    "from avgn.utils.general import prepare_env"
   ]
  },
  {
   "cell_type": "code",
   "execution_count": 2,
   "metadata": {
    "ExecuteTime": {
     "end_time": "2019-06-26T20:24:37.970066Z",
     "start_time": "2019-06-26T20:24:37.907703Z"
    }
   },
   "outputs": [
    {
     "name": "stdout",
     "output_type": "stream",
     "text": [
      "env: CUDA_VISIBLE_DEVICES=GPU\n"
     ]
    }
   ],
   "source": [
    "prepare_env()"
   ]
  },
  {
   "cell_type": "markdown",
   "metadata": {},
   "source": [
    "### Import relevant packages"
   ]
  },
  {
   "cell_type": "code",
   "execution_count": 3,
   "metadata": {
    "ExecuteTime": {
     "end_time": "2019-06-26T20:24:38.513983Z",
     "start_time": "2019-06-26T20:24:37.972498Z"
    }
   },
   "outputs": [
    {
     "name": "stderr",
     "output_type": "stream",
     "text": [
      "/mnt/cube/tsainbur/conda_envs/tpy3/lib/python3.6/site-packages/tqdm/autonotebook/__init__.py:14: TqdmExperimentalWarning: Using `tqdm.autonotebook.tqdm` in notebook mode. Use `tqdm.tqdm` instead to force console mode (e.g. in jupyter console)\n",
      "  \" (e.g. in jupyter console)\", TqdmExperimentalWarning)\n"
     ]
    }
   ],
   "source": [
    "from joblib import Parallel, delayed\n",
    "from tqdm.autonotebook import tqdm\n",
    "import pandas as pd\n",
    "pd.options.display.max_columns = None\n",
    "import librosa\n",
    "from datetime import datetime\n",
    "import numpy as np"
   ]
  },
  {
   "cell_type": "code",
   "execution_count": 4,
   "metadata": {
    "ExecuteTime": {
     "end_time": "2019-06-26T20:24:38.551577Z",
     "start_time": "2019-06-26T20:24:38.515996Z"
    }
   },
   "outputs": [],
   "source": [
    "import avgn\n",
    "from avgn.custom_parsing.zebra_finch_theunisson import generate_json, parse_wavlist\n",
    "from avgn.utils.paths import DATA_DIR"
   ]
  },
  {
   "cell_type": "markdown",
   "metadata": {},
   "source": [
    "### Load data in original format"
   ]
  },
  {
   "cell_type": "code",
   "execution_count": 5,
   "metadata": {
    "ExecuteTime": {
     "end_time": "2019-06-26T20:24:38.628912Z",
     "start_time": "2019-06-26T20:24:38.553511Z"
    }
   },
   "outputs": [],
   "source": [
    "DATASET_ID = 'zebra_finch_theunisson'"
   ]
  },
  {
   "cell_type": "code",
   "execution_count": 6,
   "metadata": {
    "ExecuteTime": {
     "end_time": "2019-06-26T20:24:38.727185Z",
     "start_time": "2019-06-26T20:24:38.631616Z"
    }
   },
   "outputs": [
    {
     "data": {
      "text/plain": [
       "'2019-06-26_13-24-38'"
      ]
     },
     "execution_count": 6,
     "metadata": {},
     "output_type": "execute_result"
    }
   ],
   "source": [
    "# create a unique datetime identifier for the files output by this notebook\n",
    "DT_ID = datetime.now().strftime(\"%Y-%m-%d_%H-%M-%S\")\n",
    "DT_ID"
   ]
  },
  {
   "cell_type": "code",
   "execution_count": 7,
   "metadata": {
    "ExecuteTime": {
     "end_time": "2019-06-26T20:24:38.813970Z",
     "start_time": "2019-06-26T20:24:38.729568Z"
    }
   },
   "outputs": [
    {
     "data": {
      "text/plain": [
       "PosixPath('/mnt/cube/Datasets/ZebraFinch/VocalizationBank/ZebraFinchVocalizationBank')"
      ]
     },
     "execution_count": 7,
     "metadata": {},
     "output_type": "execute_result"
    }
   ],
   "source": [
    "DSLOC = avgn.utils.paths.Path('/mnt/cube/Datasets/ZebraFinch/VocalizationBank/ZebraFinchVocalizationBank/')\n",
    "DSLOC"
   ]
  },
  {
   "cell_type": "code",
   "execution_count": 8,
   "metadata": {
    "ExecuteTime": {
     "end_time": "2019-06-26T20:24:38.930445Z",
     "start_time": "2019-06-26T20:24:38.815947Z"
    }
   },
   "outputs": [
    {
     "data": {
      "text/plain": [
       "(3433,\n",
       " PosixPath('/mnt/cube/Datasets/ZebraFinch/VocalizationBank/ZebraFinchVocalizationBank/AdultVocalizations/BluRas07dd_110607-TukC-15.wav'))"
      ]
     },
     "execution_count": 8,
     "metadata": {},
     "output_type": "execute_result"
    }
   ],
   "source": [
    "WAVLIST = list((DSLOC).expanduser().glob('*/*.wav'))\n",
    "len(WAVLIST), WAVLIST[0]"
   ]
  },
  {
   "cell_type": "code",
   "execution_count": 9,
   "metadata": {
    "ExecuteTime": {
     "end_time": "2019-06-26T20:24:58.032002Z",
     "start_time": "2019-06-26T20:24:38.933484Z"
    }
   },
   "outputs": [
    {
     "data": {
      "application/vnd.jupyter.widget-view+json": {
       "model_id": "81edc848c86948f594fa9ede8ce48216",
       "version_major": 2,
       "version_minor": 0
      },
      "text/plain": [
       "HBox(children=(IntProgress(value=0, max=3433), HTML(value='')))"
      ]
     },
     "metadata": {},
     "output_type": "display_data"
    },
    {
     "name": "stdout",
     "output_type": "stream",
     "text": [
      "\n"
     ]
    }
   ],
   "source": [
    "wav_df = parse_wavlist(WAVLIST)"
   ]
  },
  {
   "cell_type": "code",
   "execution_count": 10,
   "metadata": {
    "ExecuteTime": {
     "end_time": "2019-06-26T20:24:58.249677Z",
     "start_time": "2019-06-26T20:24:58.034413Z"
    }
   },
   "outputs": [
    {
     "name": "stdout",
     "output_type": "stream",
     "text": [
      "3376\n"
     ]
    },
    {
     "data": {
      "text/html": [
       "<div>\n",
       "<style scoped>\n",
       "    .dataframe tbody tr th:only-of-type {\n",
       "        vertical-align: middle;\n",
       "    }\n",
       "\n",
       "    .dataframe tbody tr th {\n",
       "        vertical-align: top;\n",
       "    }\n",
       "\n",
       "    .dataframe thead th {\n",
       "        text-align: right;\n",
       "    }\n",
       "</style>\n",
       "<table border=\"1\" class=\"dataframe\">\n",
       "  <thead>\n",
       "    <tr style=\"text-align: right;\">\n",
       "      <th></th>\n",
       "      <th>indv</th>\n",
       "      <th>age</th>\n",
       "      <th>recordingdate</th>\n",
       "      <th>vocalization_type</th>\n",
       "      <th>voc_type_full</th>\n",
       "      <th>voc_num</th>\n",
       "      <th>wav_loc</th>\n",
       "    </tr>\n",
       "  </thead>\n",
       "  <tbody>\n",
       "    <tr>\n",
       "      <th>0</th>\n",
       "      <td>BluRas07dd</td>\n",
       "      <td>AdultVocalizations</td>\n",
       "      <td>2011-06-07</td>\n",
       "      <td>Tu</td>\n",
       "      <td>TukC</td>\n",
       "      <td>15</td>\n",
       "      <td>/mnt/cube/Datasets/ZebraFinch/VocalizationBank...</td>\n",
       "    </tr>\n",
       "    <tr>\n",
       "      <th>1</th>\n",
       "      <td>GraGra0201</td>\n",
       "      <td>AdultVocalizations</td>\n",
       "      <td>2011-09-07</td>\n",
       "      <td>Th</td>\n",
       "      <td>ThuckC</td>\n",
       "      <td>47</td>\n",
       "      <td>/mnt/cube/Datasets/ZebraFinch/VocalizationBank...</td>\n",
       "    </tr>\n",
       "    <tr>\n",
       "      <th>2</th>\n",
       "      <td>BlaLbl8026</td>\n",
       "      <td>AdultVocalizations</td>\n",
       "      <td>2011-06-09</td>\n",
       "      <td>Ne</td>\n",
       "      <td>NestC</td>\n",
       "      <td>29</td>\n",
       "      <td>/mnt/cube/Datasets/ZebraFinch/VocalizationBank...</td>\n",
       "    </tr>\n",
       "  </tbody>\n",
       "</table>\n",
       "</div>"
      ],
      "text/plain": [
       "         indv                 age recordingdate vocalization_type  \\\n",
       "0  BluRas07dd  AdultVocalizations    2011-06-07                Tu   \n",
       "1  GraGra0201  AdultVocalizations    2011-09-07                Th   \n",
       "2  BlaLbl8026  AdultVocalizations    2011-06-09                Ne   \n",
       "\n",
       "  voc_type_full voc_num                                            wav_loc  \n",
       "0          TukC      15  /mnt/cube/Datasets/ZebraFinch/VocalizationBank...  \n",
       "1        ThuckC      47  /mnt/cube/Datasets/ZebraFinch/VocalizationBank...  \n",
       "2         NestC      29  /mnt/cube/Datasets/ZebraFinch/VocalizationBank...  "
      ]
     },
     "execution_count": 10,
     "metadata": {},
     "output_type": "execute_result"
    }
   ],
   "source": [
    "print(len(wav_df))\n",
    "wav_df[:3]"
   ]
  },
  {
   "cell_type": "markdown",
   "metadata": {},
   "source": [
    "### Parse into JSON"
   ]
  },
  {
   "cell_type": "code",
   "execution_count": 11,
   "metadata": {
    "ExecuteTime": {
     "end_time": "2019-06-26T20:25:07.037353Z",
     "start_time": "2019-06-26T20:24:58.253768Z"
    }
   },
   "outputs": [
    {
     "data": {
      "application/vnd.jupyter.widget-view+json": {
       "model_id": "0ee1733972e44b2985a675b473376aa5",
       "version_major": 2,
       "version_minor": 0
      },
      "text/plain": [
       "HBox(children=(IntProgress(value=0, max=3376), HTML(value='')))"
      ]
     },
     "metadata": {},
     "output_type": "display_data"
    },
    {
     "name": "stderr",
     "output_type": "stream",
     "text": [
      "[Parallel(n_jobs=-1)]: Using backend LokyBackend with 24 concurrent workers.\n",
      "[Parallel(n_jobs=-1)]: Done   2 tasks      | elapsed:    5.1s\n",
      "[Parallel(n_jobs=-1)]: Done  13 tasks      | elapsed:    5.2s\n",
      "[Parallel(n_jobs=-1)]: Done  24 tasks      | elapsed:    5.2s\n",
      "[Parallel(n_jobs=-1)]: Done  37 tasks      | elapsed:    5.3s\n",
      "[Parallel(n_jobs=-1)]: Done  50 tasks      | elapsed:    5.3s\n",
      "[Parallel(n_jobs=-1)]: Done  65 tasks      | elapsed:    5.3s\n",
      "[Parallel(n_jobs=-1)]: Batch computation too fast (0.1866s.) Setting batch_size=2.\n",
      "[Parallel(n_jobs=-1)]: Done  80 tasks      | elapsed:    5.3s\n",
      "[Parallel(n_jobs=-1)]: Done  97 tasks      | elapsed:    5.4s\n",
      "[Parallel(n_jobs=-1)]: Done 114 tasks      | elapsed:    5.4s\n",
      "[Parallel(n_jobs=-1)]: Batch computation too fast (0.0654s.) Setting batch_size=12.\n",
      "[Parallel(n_jobs=-1)]: Done 148 tasks      | elapsed:    5.4s\n",
      "[Parallel(n_jobs=-1)]: Done 186 tasks      | elapsed:    5.5s\n",
      "[Parallel(n_jobs=-1)]: Done 298 tasks      | elapsed:    5.6s\n",
      "[Parallel(n_jobs=-1)]: Done 550 tasks      | elapsed:    5.7s\n",
      "[Parallel(n_jobs=-1)]: Done 826 tasks      | elapsed:    5.8s\n",
      "[Parallel(n_jobs=-1)]: Done 1102 tasks      | elapsed:    6.0s\n",
      "[Parallel(n_jobs=-1)]: Batch computation too fast (0.1990s.) Setting batch_size=24.\n",
      "[Parallel(n_jobs=-1)]: Done 1402 tasks      | elapsed:    6.1s\n",
      "[Parallel(n_jobs=-1)]: Done 1702 tasks      | elapsed:    6.6s\n",
      "[Parallel(n_jobs=-1)]: Done 2206 tasks      | elapsed:    7.4s\n"
     ]
    },
    {
     "name": "stdout",
     "output_type": "stream",
     "text": [
      "\n"
     ]
    },
    {
     "name": "stderr",
     "output_type": "stream",
     "text": [
      "[Parallel(n_jobs=-1)]: Done 3376 out of 3376 | elapsed:    8.6s finished\n"
     ]
    }
   ],
   "source": [
    "with Parallel(n_jobs=-1, verbose=10) as parallel:\n",
    "    parallel(\n",
    "        delayed(generate_json)(\n",
    "            row, DT_ID\n",
    "        )\n",
    "        for idx, row in tqdm(wav_df.iterrows(), total = len(wav_df))\n",
    "    )"
   ]
  },
  {
   "cell_type": "code",
   "execution_count": null,
   "metadata": {},
   "outputs": [],
   "source": []
  }
 ],
 "metadata": {
  "kernelspec": {
   "display_name": "Python 3",
   "language": "python",
   "name": "python3"
  },
  "language_info": {
   "codemirror_mode": {
    "name": "ipython",
    "version": 3
   },
   "file_extension": ".py",
   "mimetype": "text/x-python",
   "name": "python",
   "nbconvert_exporter": "python",
   "pygments_lexer": "ipython3",
   "version": "3.6.7"
  }
 },
 "nbformat": 4,
 "nbformat_minor": 2
}
