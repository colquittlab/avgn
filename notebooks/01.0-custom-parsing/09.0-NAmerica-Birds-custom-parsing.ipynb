{
 "cells": [
  {
   "cell_type": "markdown",
   "metadata": {},
   "source": [
    "### North American birds dataset custom parsing\n",
    "- This dataset has a number of WAV files segmented into what are essentially syllables (however some vocalizations are not quite syllables). There are around 3000 vocalizations. The dataset contains:\n",
    "    - .WAV files of vocalizations and filename with ID and species\n",
    "- This notebook creates a JSON corresponding to each WAV file. \n",
    "- Dataset origin:\n",
    "    - https://zenodo.org/record/1250690#.XQAO_G9KjUI\n",
    "    - https://www.sciencedirect.com/science/article/pii/S157495411630231X\n",
    "    - https://ieeexplore.ieee.org/document/8462156"
   ]
  },
  {
   "cell_type": "code",
   "execution_count": 1,
   "metadata": {
    "ExecuteTime": {
     "end_time": "2019-06-24T05:56:04.391656Z",
     "start_time": "2019-06-24T05:56:02.629326Z"
    }
   },
   "outputs": [],
   "source": [
    "from avgn.utils.general import prepare_env"
   ]
  },
  {
   "cell_type": "code",
   "execution_count": 2,
   "metadata": {
    "ExecuteTime": {
     "end_time": "2019-06-24T05:56:04.431002Z",
     "start_time": "2019-06-24T05:56:04.393982Z"
    }
   },
   "outputs": [
    {
     "name": "stdout",
     "output_type": "stream",
     "text": [
      "env: CUDA_VISIBLE_DEVICES=GPU\n"
     ]
    }
   ],
   "source": [
    "prepare_env()"
   ]
  },
  {
   "cell_type": "markdown",
   "metadata": {},
   "source": [
    "### Import relevant packages"
   ]
  },
  {
   "cell_type": "code",
   "execution_count": 3,
   "metadata": {
    "ExecuteTime": {
     "end_time": "2019-06-24T05:56:05.100627Z",
     "start_time": "2019-06-24T05:56:04.432911Z"
    }
   },
   "outputs": [
    {
     "name": "stderr",
     "output_type": "stream",
     "text": [
      "/mnt/cube/tsainbur/conda_envs/tpy3/lib/python3.6/site-packages/tqdm/autonotebook/__init__.py:14: TqdmExperimentalWarning: Using `tqdm.autonotebook.tqdm` in notebook mode. Use `tqdm.tqdm` instead to force console mode (e.g. in jupyter console)\n",
      "  \" (e.g. in jupyter console)\", TqdmExperimentalWarning)\n"
     ]
    }
   ],
   "source": [
    "from joblib import Parallel, delayed\n",
    "from tqdm.autonotebook import tqdm\n",
    "import pandas as pd\n",
    "pd.options.display.max_columns = None\n",
    "import librosa\n",
    "from datetime import datetime\n",
    "import numpy as np"
   ]
  },
  {
   "cell_type": "code",
   "execution_count": 4,
   "metadata": {
    "ExecuteTime": {
     "end_time": "2019-06-24T05:56:05.139289Z",
     "start_time": "2019-06-24T05:56:05.102878Z"
    }
   },
   "outputs": [],
   "source": [
    "import avgn\n",
    "from avgn.custom_parsing.north_america_birds import generate_json\n",
    "from avgn.utils.paths import DATA_DIR"
   ]
  },
  {
   "cell_type": "markdown",
   "metadata": {},
   "source": [
    "### Load data in original format"
   ]
  },
  {
   "cell_type": "code",
   "execution_count": 5,
   "metadata": {
    "ExecuteTime": {
     "end_time": "2019-06-24T05:56:05.226906Z",
     "start_time": "2019-06-24T05:56:05.141188Z"
    }
   },
   "outputs": [],
   "source": [
    "DATASET_ID = 'NA-Birds'"
   ]
  },
  {
   "cell_type": "code",
   "execution_count": 6,
   "metadata": {
    "ExecuteTime": {
     "end_time": "2019-06-24T05:56:05.326995Z",
     "start_time": "2019-06-24T05:56:05.228666Z"
    }
   },
   "outputs": [
    {
     "data": {
      "text/plain": [
       "'2019-06-23_22-56-05'"
      ]
     },
     "execution_count": 6,
     "metadata": {},
     "output_type": "execute_result"
    }
   ],
   "source": [
    "# create a unique datetime identifier for the files output by this notebook\n",
    "DT_ID = datetime.now().strftime(\"%Y-%m-%d_%H-%M-%S\")\n",
    "DT_ID"
   ]
  },
  {
   "cell_type": "code",
   "execution_count": 7,
   "metadata": {
    "ExecuteTime": {
     "end_time": "2019-06-24T05:56:05.544784Z",
     "start_time": "2019-06-24T05:56:05.328851Z"
    }
   },
   "outputs": [
    {
     "data": {
      "text/plain": [
       "PosixPath('/mnt/cube/Datasets/NABirdSpecies/North American bird species')"
      ]
     },
     "execution_count": 7,
     "metadata": {},
     "output_type": "execute_result"
    }
   ],
   "source": [
    "DSLOC = avgn.utils.paths.Path('/mnt/cube/Datasets/NABirdSpecies/North American bird species/')\n",
    "DSLOC"
   ]
  },
  {
   "cell_type": "code",
   "execution_count": 8,
   "metadata": {
    "ExecuteTime": {
     "end_time": "2019-06-24T05:56:05.671088Z",
     "start_time": "2019-06-24T05:56:05.546634Z"
    }
   },
   "outputs": [
    {
     "data": {
      "text/plain": [
       "([PosixPath('/mnt/cube/Datasets/NABirdSpecies/North American bird species/S3(Great Blue Heron)/s (19).wav'),\n",
       "  PosixPath('/mnt/cube/Datasets/NABirdSpecies/North American bird species/S3(Great Blue Heron)/s (52).wav'),\n",
       "  PosixPath('/mnt/cube/Datasets/NABirdSpecies/North American bird species/S3(Great Blue Heron)/s (242).wav')],\n",
       " 3101)"
      ]
     },
     "execution_count": 8,
     "metadata": {},
     "output_type": "execute_result"
    }
   ],
   "source": [
    "wav_list = list(DSLOC.expanduser().glob('*/*.wav'))\n",
    "wav_list[:3], len(wav_list)"
   ]
  },
  {
   "cell_type": "code",
   "execution_count": 9,
   "metadata": {
    "ExecuteTime": {
     "end_time": "2019-06-24T05:56:15.402975Z",
     "start_time": "2019-06-24T05:56:05.673864Z"
    }
   },
   "outputs": [
    {
     "data": {
      "application/vnd.jupyter.widget-view+json": {
       "model_id": "614e1b272d1642fa9c82eaca320fd60e",
       "version_major": 2,
       "version_minor": 0
      },
      "text/plain": [
       "HBox(children=(IntProgress(value=0, max=3101), HTML(value='')))"
      ]
     },
     "metadata": {},
     "output_type": "display_data"
    },
    {
     "name": "stdout",
     "output_type": "stream",
     "text": [
      "\n"
     ]
    }
   ],
   "source": [
    "wav_df = pd.DataFrame(columns = ['species', 'wavloc', 'wavnum'])\n",
    "for wf in tqdm(wav_list):\n",
    "    wavnum = int(wf.stem.split('(')[1][:-1])\n",
    "    species = wf.parent.stem.split('(')[1][:-1]\n",
    "    wav_df.loc[len(wav_df)] = [species, wf, wavnum]"
   ]
  },
  {
   "cell_type": "code",
   "execution_count": 10,
   "metadata": {
    "ExecuteTime": {
     "end_time": "2019-06-24T05:56:15.449916Z",
     "start_time": "2019-06-24T05:56:15.405154Z"
    }
   },
   "outputs": [],
   "source": [
    "wav_df = wav_df[wav_df.species != 'б░unknownб▒ events']"
   ]
  },
  {
   "cell_type": "code",
   "execution_count": 11,
   "metadata": {
    "ExecuteTime": {
     "end_time": "2019-06-24T05:56:15.580704Z",
     "start_time": "2019-06-24T05:56:15.452233Z"
    }
   },
   "outputs": [
    {
     "name": "stdout",
     "output_type": "stream",
     "text": [
      "2762\n"
     ]
    },
    {
     "data": {
      "text/html": [
       "<div>\n",
       "<style scoped>\n",
       "    .dataframe tbody tr th:only-of-type {\n",
       "        vertical-align: middle;\n",
       "    }\n",
       "\n",
       "    .dataframe tbody tr th {\n",
       "        vertical-align: top;\n",
       "    }\n",
       "\n",
       "    .dataframe thead th {\n",
       "        text-align: right;\n",
       "    }\n",
       "</style>\n",
       "<table border=\"1\" class=\"dataframe\">\n",
       "  <thead>\n",
       "    <tr style=\"text-align: right;\">\n",
       "      <th></th>\n",
       "      <th>species</th>\n",
       "      <th>wavloc</th>\n",
       "      <th>wavnum</th>\n",
       "    </tr>\n",
       "  </thead>\n",
       "  <tbody>\n",
       "    <tr>\n",
       "      <th>0</th>\n",
       "      <td>Great Blue Heron</td>\n",
       "      <td>/mnt/cube/Datasets/NABirdSpecies/North America...</td>\n",
       "      <td>19</td>\n",
       "    </tr>\n",
       "    <tr>\n",
       "      <th>1</th>\n",
       "      <td>Great Blue Heron</td>\n",
       "      <td>/mnt/cube/Datasets/NABirdSpecies/North America...</td>\n",
       "      <td>52</td>\n",
       "    </tr>\n",
       "    <tr>\n",
       "      <th>2</th>\n",
       "      <td>Great Blue Heron</td>\n",
       "      <td>/mnt/cube/Datasets/NABirdSpecies/North America...</td>\n",
       "      <td>242</td>\n",
       "    </tr>\n",
       "  </tbody>\n",
       "</table>\n",
       "</div>"
      ],
      "text/plain": [
       "            species                                             wavloc wavnum\n",
       "0  Great Blue Heron  /mnt/cube/Datasets/NABirdSpecies/North America...     19\n",
       "1  Great Blue Heron  /mnt/cube/Datasets/NABirdSpecies/North America...     52\n",
       "2  Great Blue Heron  /mnt/cube/Datasets/NABirdSpecies/North America...    242"
      ]
     },
     "execution_count": 11,
     "metadata": {},
     "output_type": "execute_result"
    }
   ],
   "source": [
    "print(len(wav_df))\n",
    "wav_df[:3]"
   ]
  },
  {
   "cell_type": "markdown",
   "metadata": {},
   "source": [
    "### Generate JSON for files"
   ]
  },
  {
   "cell_type": "code",
   "execution_count": 12,
   "metadata": {
    "ExecuteTime": {
     "end_time": "2019-06-24T05:56:20.662629Z",
     "start_time": "2019-06-24T05:56:15.584171Z"
    }
   },
   "outputs": [
    {
     "data": {
      "application/vnd.jupyter.widget-view+json": {
       "model_id": "765983d133ae411798c74ed9f0e19019",
       "version_major": 2,
       "version_minor": 0
      },
      "text/plain": [
       "HBox(children=(IntProgress(value=0, max=2762), HTML(value='')))"
      ]
     },
     "metadata": {},
     "output_type": "display_data"
    },
    {
     "name": "stderr",
     "output_type": "stream",
     "text": [
      "[Parallel(n_jobs=-1)]: Using backend LokyBackend with 24 concurrent workers.\n",
      "[Parallel(n_jobs=-1)]: Done   2 tasks      | elapsed:    3.7s\n",
      "[Parallel(n_jobs=-1)]: Done  13 tasks      | elapsed:    3.8s\n",
      "[Parallel(n_jobs=-1)]: Done  24 tasks      | elapsed:    3.8s\n",
      "[Parallel(n_jobs=-1)]: Done  37 tasks      | elapsed:    3.9s\n",
      "[Parallel(n_jobs=-1)]: Batch computation too fast (0.1883s.) Setting batch_size=2.\n",
      "[Parallel(n_jobs=-1)]: Done  50 tasks      | elapsed:    3.9s\n",
      "[Parallel(n_jobs=-1)]: Done  65 tasks      | elapsed:    3.9s\n",
      "[Parallel(n_jobs=-1)]: Batch computation too fast (0.0550s.) Setting batch_size=14.\n",
      "[Parallel(n_jobs=-1)]: Done  86 tasks      | elapsed:    4.0s\n",
      "[Parallel(n_jobs=-1)]: Done 119 tasks      | elapsed:    4.1s\n",
      "[Parallel(n_jobs=-1)]: Batch computation too fast (0.1667s.) Setting batch_size=32.\n",
      "[Parallel(n_jobs=-1)]: Done 183 tasks      | elapsed:    4.2s\n",
      "[Parallel(n_jobs=-1)]: Done 358 tasks      | elapsed:    4.4s\n",
      "[Parallel(n_jobs=-1)]: Done 572 tasks      | elapsed:    4.6s\n"
     ]
    },
    {
     "name": "stdout",
     "output_type": "stream",
     "text": [
      "\n"
     ]
    },
    {
     "name": "stderr",
     "output_type": "stream",
     "text": [
      "[Parallel(n_jobs=-1)]: Done 1118 tasks      | elapsed:    4.8s\n",
      "[Parallel(n_jobs=-1)]: Done 2762 out of 2762 | elapsed:    5.0s finished\n"
     ]
    }
   ],
   "source": [
    "with Parallel(n_jobs=-1, verbose=10) as parallel:\n",
    "    parallel(\n",
    "        delayed(generate_json)(\n",
    "            row, DT_ID\n",
    "        )\n",
    "        for idx, row in tqdm(\n",
    "            wav_df.iterrows(),\n",
    "            total=len(wav_df),\n",
    "        )\n",
    "    )"
   ]
  }
 ],
 "metadata": {
  "kernelspec": {
   "display_name": "Python 3",
   "language": "python",
   "name": "python3"
  },
  "language_info": {
   "codemirror_mode": {
    "name": "ipython",
    "version": 3
   },
   "file_extension": ".py",
   "mimetype": "text/x-python",
   "name": "python",
   "nbconvert_exporter": "python",
   "pygments_lexer": "ipython3",
   "version": "3.6.7"
  }
 },
 "nbformat": 4,
 "nbformat_minor": 2
}
