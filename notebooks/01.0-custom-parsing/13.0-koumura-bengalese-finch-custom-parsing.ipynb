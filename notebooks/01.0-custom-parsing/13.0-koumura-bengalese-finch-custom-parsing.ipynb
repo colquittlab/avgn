{
 "cells": [
  {
   "cell_type": "markdown",
   "metadata": {},
   "source": [
    "### Bengalese-finch custom parsing\n",
    "- A labelled dataset of bengalese finch syllables:\n",
    "    - XML files with annotations corresponding to each WAV\n",
    "    - WAV files for vocalization\n",
    "- This notebook creates a JSON corresponding to each WAV file (and Noise file where available).\n",
    "- Dataset origin:\n",
    "    - https://figshare.com/articles/BirdsongRecognition/3470165"
   ]
  },
  {
   "cell_type": "code",
   "execution_count": 1,
   "metadata": {
    "ExecuteTime": {
     "end_time": "2019-06-26T17:25:15.954612Z",
     "start_time": "2019-06-26T17:25:14.322677Z"
    }
   },
   "outputs": [],
   "source": [
    "from avgn.utils.general import prepare_env"
   ]
  },
  {
   "cell_type": "code",
   "execution_count": 2,
   "metadata": {
    "ExecuteTime": {
     "end_time": "2019-06-26T17:25:15.991664Z",
     "start_time": "2019-06-26T17:25:15.956919Z"
    }
   },
   "outputs": [
    {
     "name": "stdout",
     "output_type": "stream",
     "text": [
      "env: CUDA_VISIBLE_DEVICES=GPU\n"
     ]
    }
   ],
   "source": [
    "prepare_env()"
   ]
  },
  {
   "cell_type": "markdown",
   "metadata": {},
   "source": [
    "### Import relevant packages"
   ]
  },
  {
   "cell_type": "code",
   "execution_count": 3,
   "metadata": {
    "ExecuteTime": {
     "end_time": "2019-06-26T17:25:16.663274Z",
     "start_time": "2019-06-26T17:25:15.993698Z"
    }
   },
   "outputs": [
    {
     "name": "stderr",
     "output_type": "stream",
     "text": [
      "/mnt/cube/tsainbur/conda_envs/tpy3/lib/python3.6/site-packages/tqdm/autonotebook/__init__.py:14: TqdmExperimentalWarning: Using `tqdm.autonotebook.tqdm` in notebook mode. Use `tqdm.tqdm` instead to force console mode (e.g. in jupyter console)\n",
      "  \" (e.g. in jupyter console)\", TqdmExperimentalWarning)\n"
     ]
    }
   ],
   "source": [
    "from joblib import Parallel, delayed\n",
    "from tqdm.autonotebook import tqdm\n",
    "import pandas as pd\n",
    "pd.options.display.max_columns = None\n",
    "import librosa\n",
    "from datetime import datetime\n",
    "import numpy as np"
   ]
  },
  {
   "cell_type": "code",
   "execution_count": 4,
   "metadata": {
    "ExecuteTime": {
     "end_time": "2019-06-26T17:25:16.705256Z",
     "start_time": "2019-06-26T17:25:16.665843Z"
    }
   },
   "outputs": [],
   "source": [
    "import avgn\n",
    "from avgn.custom_parsing.koumura_bengalese_finch import generate_json, Koumura_Okanoya_parser\n",
    "from avgn.utils.paths import DATA_DIR"
   ]
  },
  {
   "cell_type": "markdown",
   "metadata": {},
   "source": [
    "### Load data in original format"
   ]
  },
  {
   "cell_type": "code",
   "execution_count": 5,
   "metadata": {
    "ExecuteTime": {
     "end_time": "2019-06-26T17:25:16.792272Z",
     "start_time": "2019-06-26T17:25:16.707580Z"
    }
   },
   "outputs": [],
   "source": [
    "DATASET_ID = 'koumura_bengalese_finch'"
   ]
  },
  {
   "cell_type": "code",
   "execution_count": 6,
   "metadata": {
    "ExecuteTime": {
     "end_time": "2019-06-26T17:25:16.889426Z",
     "start_time": "2019-06-26T17:25:16.794224Z"
    }
   },
   "outputs": [
    {
     "data": {
      "text/plain": [
       "'2019-06-26_10-25-16'"
      ]
     },
     "execution_count": 6,
     "metadata": {},
     "output_type": "execute_result"
    }
   ],
   "source": [
    "# create a unique datetime identifier for the files output by this notebook\n",
    "DT_ID = datetime.now().strftime(\"%Y-%m-%d_%H-%M-%S\")\n",
    "DT_ID"
   ]
  },
  {
   "cell_type": "code",
   "execution_count": 7,
   "metadata": {
    "ExecuteTime": {
     "end_time": "2019-06-26T17:25:16.974088Z",
     "start_time": "2019-06-26T17:25:16.891787Z"
    }
   },
   "outputs": [
    {
     "data": {
      "text/plain": [
       "PosixPath('/mnt/cube/Datasets/BengaleseFinch/Koumura_Okanoya-paper_data')"
      ]
     },
     "execution_count": 7,
     "metadata": {},
     "output_type": "execute_result"
    }
   ],
   "source": [
    "DSLOC = avgn.utils.paths.Path('/mnt/cube/Datasets/BengaleseFinch/Koumura_Okanoya-paper_data/')\n",
    "DSLOC"
   ]
  },
  {
   "cell_type": "code",
   "execution_count": 8,
   "metadata": {
    "ExecuteTime": {
     "end_time": "2019-06-26T17:25:17.141908Z",
     "start_time": "2019-06-26T17:25:16.976511Z"
    }
   },
   "outputs": [
    {
     "data": {
      "text/plain": [
       "(2968,\n",
       " array([PosixPath('/mnt/cube/Datasets/BengaleseFinch/Koumura_Okanoya-paper_data/Bird9/Wave/98.wav'),\n",
       "        PosixPath('/mnt/cube/Datasets/BengaleseFinch/Koumura_Okanoya-paper_data/Bird9/Wave/99.wav')],\n",
       "       dtype=object))"
      ]
     },
     "execution_count": 8,
     "metadata": {},
     "output_type": "execute_result"
    }
   ],
   "source": [
    "wav_list = list(DSLOC.glob('Bird*/Wave/*.wav'))\n",
    "len(wav_list), np.sort(wav_list)[-2:]"
   ]
  },
  {
   "cell_type": "code",
   "execution_count": 9,
   "metadata": {
    "ExecuteTime": {
     "end_time": "2019-06-26T17:25:17.177193Z",
     "start_time": "2019-06-26T17:25:17.143733Z"
    }
   },
   "outputs": [
    {
     "data": {
      "text/plain": [
       "(11,\n",
       " array([PosixPath('/mnt/cube/Datasets/BengaleseFinch/Koumura_Okanoya-paper_data/Bird8/Annotation.xml'),\n",
       "        PosixPath('/mnt/cube/Datasets/BengaleseFinch/Koumura_Okanoya-paper_data/Bird9/Annotation.xml')],\n",
       "       dtype=object))"
      ]
     },
     "execution_count": 9,
     "metadata": {},
     "output_type": "execute_result"
    }
   ],
   "source": [
    "annotation_files = list(DSLOC.glob('Bird*/Annotation.xml'))\n",
    "len(annotation_files), np.sort(annotation_files)[-2:]"
   ]
  },
  {
   "cell_type": "markdown",
   "metadata": {},
   "source": [
    "### Generate JSON for each wav"
   ]
  },
  {
   "cell_type": "code",
   "execution_count": 10,
   "metadata": {
    "ExecuteTime": {
     "end_time": "2019-06-26T17:26:32.901344Z",
     "start_time": "2019-06-26T17:25:17.178940Z"
    }
   },
   "outputs": [
    {
     "data": {
      "application/vnd.jupyter.widget-view+json": {
       "model_id": "9575566de4bd46b6a18fec47c0cc572c",
       "version_major": 2,
       "version_minor": 0
      },
      "text/plain": [
       "HBox(children=(IntProgress(value=0, max=11), HTML(value='')))"
      ]
     },
     "metadata": {},
     "output_type": "display_data"
    },
    {
     "data": {
      "application/vnd.jupyter.widget-view+json": {
       "model_id": "",
       "version_major": 2,
       "version_minor": 0
      },
      "text/plain": [
       "HBox(children=(IntProgress(value=0, max=1964), HTML(value='')))"
      ]
     },
     "metadata": {},
     "output_type": "display_data"
    },
    {
     "data": {
      "application/vnd.jupyter.widget-view+json": {
       "model_id": "",
       "version_major": 2,
       "version_minor": 0
      },
      "text/plain": [
       "HBox(children=(IntProgress(value=0, max=2110), HTML(value='')))"
      ]
     },
     "metadata": {},
     "output_type": "display_data"
    },
    {
     "data": {
      "application/vnd.jupyter.widget-view+json": {
       "model_id": "",
       "version_major": 2,
       "version_minor": 0
      },
      "text/plain": [
       "HBox(children=(IntProgress(value=0, max=1351), HTML(value='')))"
      ]
     },
     "metadata": {},
     "output_type": "display_data"
    },
    {
     "data": {
      "application/vnd.jupyter.widget-view+json": {
       "model_id": "",
       "version_major": 2,
       "version_minor": 0
      },
      "text/plain": [
       "HBox(children=(IntProgress(value=0, max=1486), HTML(value='')))"
      ]
     },
     "metadata": {},
     "output_type": "display_data"
    },
    {
     "data": {
      "application/vnd.jupyter.widget-view+json": {
       "model_id": "",
       "version_major": 2,
       "version_minor": 0
      },
      "text/plain": [
       "HBox(children=(IntProgress(value=0, max=412), HTML(value='')))"
      ]
     },
     "metadata": {},
     "output_type": "display_data"
    },
    {
     "data": {
      "application/vnd.jupyter.widget-view+json": {
       "model_id": "",
       "version_major": 2,
       "version_minor": 0
      },
      "text/plain": [
       "HBox(children=(IntProgress(value=0, max=572), HTML(value='')))"
      ]
     },
     "metadata": {},
     "output_type": "display_data"
    },
    {
     "data": {
      "application/vnd.jupyter.widget-view+json": {
       "model_id": "",
       "version_major": 2,
       "version_minor": 0
      },
      "text/plain": [
       "HBox(children=(IntProgress(value=0, max=419), HTML(value='')))"
      ]
     },
     "metadata": {},
     "output_type": "display_data"
    },
    {
     "data": {
      "application/vnd.jupyter.widget-view+json": {
       "model_id": "",
       "version_major": 2,
       "version_minor": 0
      },
      "text/plain": [
       "HBox(children=(IntProgress(value=0, max=1854), HTML(value='')))"
      ]
     },
     "metadata": {},
     "output_type": "display_data"
    },
    {
     "data": {
      "application/vnd.jupyter.widget-view+json": {
       "model_id": "",
       "version_major": 2,
       "version_minor": 0
      },
      "text/plain": [
       "HBox(children=(IntProgress(value=0, max=1495), HTML(value='')))"
      ]
     },
     "metadata": {},
     "output_type": "display_data"
    },
    {
     "data": {
      "application/vnd.jupyter.widget-view+json": {
       "model_id": "",
       "version_major": 2,
       "version_minor": 0
      },
      "text/plain": [
       "HBox(children=(IntProgress(value=0, max=2501), HTML(value='')))"
      ]
     },
     "metadata": {},
     "output_type": "display_data"
    },
    {
     "data": {
      "application/vnd.jupyter.widget-view+json": {
       "model_id": "",
       "version_major": 2,
       "version_minor": 0
      },
      "text/plain": [
       "HBox(children=(IntProgress(value=0, max=1238), HTML(value='')))"
      ]
     },
     "metadata": {},
     "output_type": "display_data"
    },
    {
     "name": "stdout",
     "output_type": "stream",
     "text": [
      "\n"
     ]
    }
   ],
   "source": [
    "song_df = Koumura_Okanoya_parser(annotation_files, wav_list)"
   ]
  },
  {
   "cell_type": "code",
   "execution_count": 11,
   "metadata": {
    "ExecuteTime": {
     "end_time": "2019-06-26T17:26:33.127334Z",
     "start_time": "2019-06-26T17:26:32.903223Z"
    }
   },
   "outputs": [
    {
     "data": {
      "text/plain": [
       "15391"
      ]
     },
     "execution_count": 11,
     "metadata": {},
     "output_type": "execute_result"
    }
   ],
   "source": [
    "len(song_df)"
   ]
  },
  {
   "cell_type": "code",
   "execution_count": 12,
   "metadata": {
    "ExecuteTime": {
     "end_time": "2019-06-26T17:26:33.258745Z",
     "start_time": "2019-06-26T17:26:33.129037Z"
    }
   },
   "outputs": [
    {
     "data": {
      "text/html": [
       "<div>\n",
       "<style scoped>\n",
       "    .dataframe tbody tr th:only-of-type {\n",
       "        vertical-align: middle;\n",
       "    }\n",
       "\n",
       "    .dataframe tbody tr th {\n",
       "        vertical-align: top;\n",
       "    }\n",
       "\n",
       "    .dataframe thead th {\n",
       "        text-align: right;\n",
       "    }\n",
       "</style>\n",
       "<table border=\"1\" class=\"dataframe\">\n",
       "  <thead>\n",
       "    <tr style=\"text-align: right;\">\n",
       "      <th></th>\n",
       "      <th>bird</th>\n",
       "      <th>WaveFileName</th>\n",
       "      <th>Position</th>\n",
       "      <th>Length</th>\n",
       "      <th>NumNote</th>\n",
       "      <th>NotePositions</th>\n",
       "      <th>NoteLengths</th>\n",
       "      <th>NoteLabels</th>\n",
       "    </tr>\n",
       "  </thead>\n",
       "  <tbody>\n",
       "    <tr>\n",
       "      <th>0</th>\n",
       "      <td>Bird4</td>\n",
       "      <td>0.wav</td>\n",
       "      <td>32000</td>\n",
       "      <td>60880</td>\n",
       "      <td>13</td>\n",
       "      <td>[5056, 10240, 15648, 26240, 29760, 33952, 3708...</td>\n",
       "      <td>[2304, 2464, 2848, 2848, 1696, 2336, 2528, 265...</td>\n",
       "      <td>[0, 0, 0, 0, 1, 2, 2, 2, 2, 2, 2, 2, 2]</td>\n",
       "    </tr>\n",
       "    <tr>\n",
       "      <th>1</th>\n",
       "      <td>Bird4</td>\n",
       "      <td>0.wav</td>\n",
       "      <td>92880</td>\n",
       "      <td>56064</td>\n",
       "      <td>14</td>\n",
       "      <td>[512, 4288, 8480, 12896, 17888, 23168, 28096, ...</td>\n",
       "      <td>[2848, 3008, 2880, 2336, 2240, 2944, 3264, 176...</td>\n",
       "      <td>[3, 3, 3, 4, 4, 0, 0, 1, 2, 2, 2, 2, 2, 2]</td>\n",
       "    </tr>\n",
       "    <tr>\n",
       "      <th>2</th>\n",
       "      <td>Bird4</td>\n",
       "      <td>0.wav</td>\n",
       "      <td>152624</td>\n",
       "      <td>51312</td>\n",
       "      <td>13</td>\n",
       "      <td>[704, 5248, 10240, 15520, 19456, 22112, 25856,...</td>\n",
       "      <td>[2880, 2496, 2304, 3264, 1920, 2912, 2752, 262...</td>\n",
       "      <td>[3, 4, 4, 0, 1, 2, 2, 2, 2, 3, 3, 3, 3]</td>\n",
       "    </tr>\n",
       "  </tbody>\n",
       "</table>\n",
       "</div>"
      ],
      "text/plain": [
       "    bird WaveFileName Position Length NumNote  \\\n",
       "0  Bird4        0.wav    32000  60880      13   \n",
       "1  Bird4        0.wav    92880  56064      14   \n",
       "2  Bird4        0.wav   152624  51312      13   \n",
       "\n",
       "                                       NotePositions  \\\n",
       "0  [5056, 10240, 15648, 26240, 29760, 33952, 3708...   \n",
       "1  [512, 4288, 8480, 12896, 17888, 23168, 28096, ...   \n",
       "2  [704, 5248, 10240, 15520, 19456, 22112, 25856,...   \n",
       "\n",
       "                                         NoteLengths  \\\n",
       "0  [2304, 2464, 2848, 2848, 1696, 2336, 2528, 265...   \n",
       "1  [2848, 3008, 2880, 2336, 2240, 2944, 3264, 176...   \n",
       "2  [2880, 2496, 2304, 3264, 1920, 2912, 2752, 262...   \n",
       "\n",
       "                                   NoteLabels  \n",
       "0     [0, 0, 0, 0, 1, 2, 2, 2, 2, 2, 2, 2, 2]  \n",
       "1  [3, 3, 3, 4, 4, 0, 0, 1, 2, 2, 2, 2, 2, 2]  \n",
       "2     [3, 4, 4, 0, 1, 2, 2, 2, 2, 3, 3, 3, 3]  "
      ]
     },
     "execution_count": 12,
     "metadata": {},
     "output_type": "execute_result"
    }
   ],
   "source": [
    "song_df[:3]"
   ]
  },
  {
   "cell_type": "code",
   "execution_count": 13,
   "metadata": {
    "ExecuteTime": {
     "end_time": "2019-06-26T17:26:58.230605Z",
     "start_time": "2019-06-26T17:26:33.260377Z"
    },
    "scrolled": true
   },
   "outputs": [
    {
     "data": {
      "application/vnd.jupyter.widget-view+json": {
       "model_id": "79325ef8f78f43fa8060445d2fe1fec3",
       "version_major": 2,
       "version_minor": 0
      },
      "text/plain": [
       "HBox(children=(IntProgress(value=0, max=11), HTML(value='')))"
      ]
     },
     "metadata": {},
     "output_type": "display_data"
    },
    {
     "data": {
      "application/vnd.jupyter.widget-view+json": {
       "model_id": "7e84a30bf86f480bbe4950893431250c",
       "version_major": 2,
       "version_minor": 0
      },
      "text/plain": [
       "HBox(children=(IntProgress(value=0, max=135), HTML(value='')))"
      ]
     },
     "metadata": {},
     "output_type": "display_data"
    },
    {
     "name": "stderr",
     "output_type": "stream",
     "text": [
      "[Parallel(n_jobs=-1)]: Using backend LokyBackend with 24 concurrent workers.\n",
      "[Parallel(n_jobs=-1)]: Done   2 tasks      | elapsed:    5.2s\n",
      "[Parallel(n_jobs=-1)]: Done  13 tasks      | elapsed:    5.2s\n",
      "[Parallel(n_jobs=-1)]: Done  24 tasks      | elapsed:    5.3s\n",
      "[Parallel(n_jobs=-1)]: Done  37 tasks      | elapsed:    5.4s\n",
      "[Parallel(n_jobs=-1)]: Done  50 tasks      | elapsed:    5.4s\n",
      "[Parallel(n_jobs=-1)]: Done  65 tasks      | elapsed:    5.4s\n",
      "[Parallel(n_jobs=-1)]: Batch computation too fast (0.1941s.) Setting batch_size=2.\n",
      "[Parallel(n_jobs=-1)]: Done  80 tasks      | elapsed:    5.4s\n",
      "[Parallel(n_jobs=-1)]: Done  88 out of 135 | elapsed:    5.5s remaining:    2.9s\n",
      "[Parallel(n_jobs=-1)]: Done 102 out of 135 | elapsed:    5.5s remaining:    1.8s\n",
      "[Parallel(n_jobs=-1)]: Done 116 out of 135 | elapsed:    5.5s remaining:    0.9s\n",
      "[Parallel(n_jobs=-1)]: Done 135 out of 135 | elapsed:    5.5s finished\n"
     ]
    },
    {
     "data": {
      "application/vnd.jupyter.widget-view+json": {
       "model_id": "61fbdf8d4af34019a542342db422393a",
       "version_major": 2,
       "version_minor": 0
      },
      "text/plain": [
       "HBox(children=(IntProgress(value=0, max=315), HTML(value='')))"
      ]
     },
     "metadata": {},
     "output_type": "display_data"
    },
    {
     "name": "stderr",
     "output_type": "stream",
     "text": [
      "[Parallel(n_jobs=-1)]: Using backend LokyBackend with 24 concurrent workers.\n",
      "[Parallel(n_jobs=-1)]: Batch computation too fast (0.0166s.) Setting batch_size=24.\n",
      "[Parallel(n_jobs=-1)]: Batch computation too fast (0.0166s.) Setting batch_size=578.\n",
      "[Parallel(n_jobs=-1)]: Done  12 out of 315 | elapsed:    0.3s remaining:    8.7s\n",
      "[Parallel(n_jobs=-1)]: Done 315 out of 315 | elapsed:    2.9s finished\n"
     ]
    },
    {
     "data": {
      "application/vnd.jupyter.widget-view+json": {
       "model_id": "a11d1b27bc654da7bc635949cf94ca5a",
       "version_major": 2,
       "version_minor": 0
      },
      "text/plain": [
       "HBox(children=(IntProgress(value=0, max=94), HTML(value='')))"
      ]
     },
     "metadata": {},
     "output_type": "display_data"
    },
    {
     "name": "stderr",
     "output_type": "stream",
     "text": [
      "[Parallel(n_jobs=-1)]: Using backend LokyBackend with 24 concurrent workers.\n",
      "[Parallel(n_jobs=-1)]: Batch computation too fast (0.0385s.) Setting batch_size=10.\n",
      "[Parallel(n_jobs=-1)]: Done   7 out of  94 | elapsed:    0.1s remaining:    1.5s\n",
      "[Parallel(n_jobs=-1)]: Done  17 out of  94 | elapsed:    0.1s remaining:    0.6s\n",
      "[Parallel(n_jobs=-1)]: Done  27 out of  94 | elapsed:    0.1s remaining:    0.3s\n",
      "[Parallel(n_jobs=-1)]: Done  37 out of  94 | elapsed:    0.1s remaining:    0.2s\n",
      "[Parallel(n_jobs=-1)]: Done  94 out of  94 | elapsed:    0.2s finished\n"
     ]
    },
    {
     "data": {
      "application/vnd.jupyter.widget-view+json": {
       "model_id": "fe8356bcc6bf46a4b1526ebcc156d0b3",
       "version_major": 2,
       "version_minor": 0
      },
      "text/plain": [
       "HBox(children=(IntProgress(value=0, max=339), HTML(value='')))"
      ]
     },
     "metadata": {},
     "output_type": "display_data"
    },
    {
     "name": "stderr",
     "output_type": "stream",
     "text": [
      "[Parallel(n_jobs=-1)]: Using backend LokyBackend with 24 concurrent workers.\n",
      "[Parallel(n_jobs=-1)]: Batch computation too fast (0.0208s.) Setting batch_size=18.\n",
      "[Parallel(n_jobs=-1)]: Batch computation too fast (0.0208s.) Setting batch_size=344.\n",
      "[Parallel(n_jobs=-1)]: Done 339 out of 339 | elapsed:    2.4s finished\n"
     ]
    },
    {
     "data": {
      "application/vnd.jupyter.widget-view+json": {
       "model_id": "05982798228946fb981cfb23a882e79a",
       "version_major": 2,
       "version_minor": 0
      },
      "text/plain": [
       "HBox(children=(IntProgress(value=0, max=402), HTML(value='')))"
      ]
     },
     "metadata": {},
     "output_type": "display_data"
    },
    {
     "name": "stderr",
     "output_type": "stream",
     "text": [
      "[Parallel(n_jobs=-1)]: Using backend LokyBackend with 24 concurrent workers.\n",
      "[Parallel(n_jobs=-1)]: Batch computation too fast (0.0238s.) Setting batch_size=16.\n",
      "[Parallel(n_jobs=-1)]: Batch computation too fast (0.0238s.) Setting batch_size=268.\n",
      "[Parallel(n_jobs=-1)]: Done   3 tasks      | elapsed:    0.4s\n",
      "[Parallel(n_jobs=-1)]: Done 402 out of 402 | elapsed:    2.1s finished\n"
     ]
    },
    {
     "data": {
      "application/vnd.jupyter.widget-view+json": {
       "model_id": "d870dade507946b39dda2b8eba9423f0",
       "version_major": 2,
       "version_minor": 0
      },
      "text/plain": [
       "HBox(children=(IntProgress(value=0, max=441), HTML(value='')))"
      ]
     },
     "metadata": {},
     "output_type": "display_data"
    },
    {
     "name": "stderr",
     "output_type": "stream",
     "text": [
      "[Parallel(n_jobs=-1)]: Using backend LokyBackend with 24 concurrent workers.\n",
      "[Parallel(n_jobs=-1)]: Done   1 tasks      | elapsed:    0.0s\n",
      "[Parallel(n_jobs=-1)]: Batch computation too fast (0.0131s.) Setting batch_size=30.\n",
      "[Parallel(n_jobs=-1)]: Batch computation too fast (0.0131s.) Setting batch_size=914.\n",
      "[Parallel(n_jobs=-1)]: Done 441 out of 441 | elapsed:    2.9s finished\n"
     ]
    },
    {
     "data": {
      "application/vnd.jupyter.widget-view+json": {
       "model_id": "382aecfcdd634fffa7575e291aee62af",
       "version_major": 2,
       "version_minor": 0
      },
      "text/plain": [
       "HBox(children=(IntProgress(value=0, max=335), HTML(value='')))"
      ]
     },
     "metadata": {},
     "output_type": "display_data"
    },
    {
     "name": "stderr",
     "output_type": "stream",
     "text": [
      "[Parallel(n_jobs=-1)]: Using backend LokyBackend with 24 concurrent workers.\n",
      "[Parallel(n_jobs=-1)]: Done   1 tasks      | elapsed:    0.0s\n",
      "[Parallel(n_jobs=-1)]: Batch computation too fast (0.0135s.) Setting batch_size=28.\n",
      "[Parallel(n_jobs=-1)]: Batch computation too fast (0.0135s.) Setting batch_size=828.\n",
      "[Parallel(n_jobs=-1)]: Done 335 out of 335 | elapsed:    2.3s finished\n"
     ]
    },
    {
     "data": {
      "application/vnd.jupyter.widget-view+json": {
       "model_id": "1ca85f9cb44c408c8c6a8983882a1af9",
       "version_major": 2,
       "version_minor": 0
      },
      "text/plain": [
       "HBox(children=(IntProgress(value=0, max=235), HTML(value='')))"
      ]
     },
     "metadata": {},
     "output_type": "display_data"
    },
    {
     "name": "stderr",
     "output_type": "stream",
     "text": [
      "[Parallel(n_jobs=-1)]: Using backend LokyBackend with 24 concurrent workers.\n",
      "[Parallel(n_jobs=-1)]: Batch computation too fast (0.0211s.) Setting batch_size=18.\n",
      "[Parallel(n_jobs=-1)]: Batch computation too fast (0.0211s.) Setting batch_size=340.\n",
      "[Parallel(n_jobs=-1)]: Done 235 out of 235 | elapsed:    1.8s finished\n"
     ]
    },
    {
     "data": {
      "application/vnd.jupyter.widget-view+json": {
       "model_id": "7cb20243436c4d98a9f18096674cae24",
       "version_major": 2,
       "version_minor": 0
      },
      "text/plain": [
       "HBox(children=(IntProgress(value=0, max=310), HTML(value='')))"
      ]
     },
     "metadata": {},
     "output_type": "display_data"
    },
    {
     "name": "stderr",
     "output_type": "stream",
     "text": [
      "[Parallel(n_jobs=-1)]: Using backend LokyBackend with 24 concurrent workers.\n",
      "[Parallel(n_jobs=-1)]: Done   1 tasks      | elapsed:    0.0s\n",
      "[Parallel(n_jobs=-1)]: Batch computation too fast (0.0247s.) Setting batch_size=16.\n",
      "[Parallel(n_jobs=-1)]: Batch computation too fast (0.0247s.) Setting batch_size=258.\n",
      "[Parallel(n_jobs=-1)]: Done   7 out of 310 | elapsed:    0.3s remaining:   14.0s\n",
      "[Parallel(n_jobs=-1)]: Done 310 out of 310 | elapsed:    2.4s finished\n"
     ]
    },
    {
     "data": {
      "application/vnd.jupyter.widget-view+json": {
       "model_id": "7c1cf24017794326b0c079f267545e95",
       "version_major": 2,
       "version_minor": 0
      },
      "text/plain": [
       "HBox(children=(IntProgress(value=0, max=142), HTML(value='')))"
      ]
     },
     "metadata": {},
     "output_type": "display_data"
    },
    {
     "name": "stderr",
     "output_type": "stream",
     "text": [
      "[Parallel(n_jobs=-1)]: Using backend LokyBackend with 24 concurrent workers.\n",
      "[Parallel(n_jobs=-1)]: Batch computation too fast (0.0717s.) Setting batch_size=4.\n",
      "[Parallel(n_jobs=-1)]: Done   2 tasks      | elapsed:    0.1s\n",
      "[Parallel(n_jobs=-1)]: Done  13 tasks      | elapsed:    0.2s\n",
      "[Parallel(n_jobs=-1)]: Done  24 tasks      | elapsed:    0.2s\n",
      "[Parallel(n_jobs=-1)]: Done  35 out of 142 | elapsed:    0.2s remaining:    0.7s\n",
      "[Parallel(n_jobs=-1)]: Done  80 out of 142 | elapsed:    0.2s remaining:    0.2s\n",
      "[Parallel(n_jobs=-1)]: Done 142 out of 142 | elapsed:    0.3s finished\n"
     ]
    },
    {
     "data": {
      "application/vnd.jupyter.widget-view+json": {
       "model_id": "8fc0b91503814f59bc2a9a1fd75198bf",
       "version_major": 2,
       "version_minor": 0
      },
      "text/plain": [
       "HBox(children=(IntProgress(value=0, max=217), HTML(value='')))"
      ]
     },
     "metadata": {},
     "output_type": "display_data"
    },
    {
     "name": "stderr",
     "output_type": "stream",
     "text": [
      "[Parallel(n_jobs=-1)]: Using backend LokyBackend with 24 concurrent workers.\n",
      "[Parallel(n_jobs=-1)]: Done   1 tasks      | elapsed:    0.0s\n",
      "[Parallel(n_jobs=-1)]: Batch computation too fast (0.0116s.) Setting batch_size=34.\n",
      "[Parallel(n_jobs=-1)]: Batch computation too fast (0.0116s.) Setting batch_size=1168.\n"
     ]
    },
    {
     "name": "stdout",
     "output_type": "stream",
     "text": [
      "\n"
     ]
    },
    {
     "name": "stderr",
     "output_type": "stream",
     "text": [
      "[Parallel(n_jobs=-1)]: Done 217 out of 217 | elapsed:    1.8s finished\n"
     ]
    }
   ],
   "source": [
    "for bird in tqdm(np.unique(song_df.bird)):\n",
    "    bird_df = song_df[song_df.bird == bird]\n",
    "    with Parallel(n_jobs=-1, verbose=10) as parallel:\n",
    "        parallel(\n",
    "            delayed(generate_json)(\n",
    "                DSLOC, DT_ID, bird, wfn, wfn_df=bird_df[bird_df.WaveFileName == wfn]\n",
    "            )\n",
    "            for wfn in tqdm(bird_df.WaveFileName.unique())\n",
    "        )"
   ]
  }
 ],
 "metadata": {
  "kernelspec": {
   "display_name": "Python 3",
   "language": "python",
   "name": "python3"
  },
  "language_info": {
   "codemirror_mode": {
    "name": "ipython",
    "version": 3
   },
   "file_extension": ".py",
   "mimetype": "text/x-python",
   "name": "python",
   "nbconvert_exporter": "python",
   "pygments_lexer": "ipython3",
   "version": "3.6.8"
  }
 },
 "nbformat": 4,
 "nbformat_minor": 2
}
