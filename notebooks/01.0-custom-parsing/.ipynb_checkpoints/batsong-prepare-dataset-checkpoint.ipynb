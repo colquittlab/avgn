{
 "cells": [
  {
   "cell_type": "code",
   "execution_count": 1,
   "metadata": {
    "ExecuteTime": {
     "end_time": "2019-10-02T02:28:31.596101Z",
     "start_time": "2019-10-02T02:28:31.574600Z"
    }
   },
   "outputs": [],
   "source": [
    "%load_ext autoreload\n",
    "%autoreload 2"
   ]
  },
  {
   "cell_type": "markdown",
   "metadata": {},
   "source": [
    "### giant otter vocalizations\n",
    "- ~500 vocalizations from https://journals.plos.org/plosone/article?id=10.1371/journal.pone.0112562"
   ]
  },
  {
   "cell_type": "code",
   "execution_count": 2,
   "metadata": {
    "ExecuteTime": {
     "end_time": "2019-10-02T02:28:31.663800Z",
     "start_time": "2019-10-02T02:28:31.598155Z"
    }
   },
   "outputs": [],
   "source": [
    "context_dict = {\n",
    "    0:'Unknown',\n",
    "    1:'Separation',\n",
    "    2:'Biting',\n",
    "    3:'Feeding',\n",
    "    4:'Fighting',\n",
    "    5:'Grooming',\n",
    "    6:'Isolation',\n",
    "    7:'Kissing',\n",
    "    8:'Landing',\n",
    "    9:'Mating protest',\n",
    "    10:'Threat-like',\n",
    "    11:'General',\n",
    "    12:'Sleeping',\n",
    "}"
   ]
  },
  {
   "cell_type": "code",
   "execution_count": 3,
   "metadata": {
    "ExecuteTime": {
     "end_time": "2019-10-02T02:28:35.497268Z",
     "start_time": "2019-10-02T02:28:31.666030Z"
    }
   },
   "outputs": [
    {
     "name": "stderr",
     "output_type": "stream",
     "text": [
      "/mnt/cube/tsainbur/conda_envs/tpy3/lib/python3.6/site-packages/tqdm/autonotebook/__init__.py:14: TqdmExperimentalWarning: Using `tqdm.autonotebook.tqdm` in notebook mode. Use `tqdm.tqdm` instead to force console mode (e.g. in jupyter console)\n",
      "  \" (e.g. in jupyter console)\", TqdmExperimentalWarning)\n"
     ]
    }
   ],
   "source": [
    "from joblib import Parallel, delayed\n",
    "from tqdm.autonotebook import tqdm\n",
    "import pandas as pd\n",
    "import librosa\n",
    "from datetime import datetime\n",
    "import json\n",
    "from IPython.display import display"
   ]
  },
  {
   "cell_type": "code",
   "execution_count": 4,
   "metadata": {
    "ExecuteTime": {
     "end_time": "2019-10-02T02:28:35.736127Z",
     "start_time": "2019-10-02T02:28:35.499573Z"
    }
   },
   "outputs": [],
   "source": [
    "import pandas as pd\n",
    "import numpy as np\n",
    "import matplotlib.pyplot as plt"
   ]
  },
  {
   "cell_type": "code",
   "execution_count": 5,
   "metadata": {
    "ExecuteTime": {
     "end_time": "2019-10-02T02:28:35.807777Z",
     "start_time": "2019-10-02T02:28:35.738330Z"
    }
   },
   "outputs": [],
   "source": [
    "from avgn.utils.paths import DATA_DIR, ensure_dir"
   ]
  },
  {
   "cell_type": "code",
   "execution_count": 6,
   "metadata": {
    "ExecuteTime": {
     "end_time": "2019-10-02T02:28:35.863243Z",
     "start_time": "2019-10-02T02:28:35.809784Z"
    }
   },
   "outputs": [],
   "source": [
    "DSLOC = DATA_DIR / \"raw/batsong/\""
   ]
  },
  {
   "cell_type": "code",
   "execution_count": 7,
   "metadata": {
    "ExecuteTime": {
     "end_time": "2019-10-02T02:28:36.054434Z",
     "start_time": "2019-10-02T02:28:35.865295Z"
    }
   },
   "outputs": [
    {
     "data": {
      "text/plain": [
       "91080"
      ]
     },
     "execution_count": 7,
     "metadata": {},
     "output_type": "execute_result"
    }
   ],
   "source": [
    "annotations =  pd.read_csv(DSLOC/'Annotations.csv')\n",
    "len(annotations)"
   ]
  },
  {
   "cell_type": "code",
   "execution_count": 8,
   "metadata": {
    "ExecuteTime": {
     "end_time": "2019-10-02T02:28:36.108116Z",
     "start_time": "2019-10-02T02:28:36.056436Z"
    }
   },
   "outputs": [
    {
     "data": {
      "text/html": [
       "<div>\n",
       "<style scoped>\n",
       "    .dataframe tbody tr th:only-of-type {\n",
       "        vertical-align: middle;\n",
       "    }\n",
       "\n",
       "    .dataframe tbody tr th {\n",
       "        vertical-align: top;\n",
       "    }\n",
       "\n",
       "    .dataframe thead th {\n",
       "        text-align: right;\n",
       "    }\n",
       "</style>\n",
       "<table border=\"1\" class=\"dataframe\">\n",
       "  <thead>\n",
       "    <tr style=\"text-align: right;\">\n",
       "      <th></th>\n",
       "      <th>FileID</th>\n",
       "      <th>Emitter</th>\n",
       "      <th>Addressee</th>\n",
       "      <th>Context</th>\n",
       "      <th>Emitter pre-vocalization action</th>\n",
       "      <th>Addressee pre-vocalization action</th>\n",
       "      <th>Emitter post-vocalization action</th>\n",
       "      <th>Addressee post-vocalization action</th>\n",
       "      <th>Start sample</th>\n",
       "      <th>End sample</th>\n",
       "    </tr>\n",
       "  </thead>\n",
       "  <tbody>\n",
       "    <tr>\n",
       "      <th>0</th>\n",
       "      <td>7</td>\n",
       "      <td>118</td>\n",
       "      <td>0</td>\n",
       "      <td>9</td>\n",
       "      <td>2</td>\n",
       "      <td>2</td>\n",
       "      <td>3</td>\n",
       "      <td>3</td>\n",
       "      <td>1</td>\n",
       "      <td>336720</td>\n",
       "    </tr>\n",
       "    <tr>\n",
       "      <th>1</th>\n",
       "      <td>11</td>\n",
       "      <td>0</td>\n",
       "      <td>0</td>\n",
       "      <td>11</td>\n",
       "      <td>0</td>\n",
       "      <td>0</td>\n",
       "      <td>0</td>\n",
       "      <td>0</td>\n",
       "      <td>1</td>\n",
       "      <td>787280</td>\n",
       "    </tr>\n",
       "    <tr>\n",
       "      <th>2</th>\n",
       "      <td>12</td>\n",
       "      <td>118</td>\n",
       "      <td>0</td>\n",
       "      <td>12</td>\n",
       "      <td>2</td>\n",
       "      <td>2</td>\n",
       "      <td>3</td>\n",
       "      <td>3</td>\n",
       "      <td>1</td>\n",
       "      <td>566096</td>\n",
       "    </tr>\n",
       "  </tbody>\n",
       "</table>\n",
       "</div>"
      ],
      "text/plain": [
       "   FileID  Emitter  Addressee  Context  Emitter pre-vocalization action  \\\n",
       "0       7      118          0        9                                2   \n",
       "1      11        0          0       11                                0   \n",
       "2      12      118          0       12                                2   \n",
       "\n",
       "   Addressee pre-vocalization action  Emitter post-vocalization action  \\\n",
       "0                                  2                                 3   \n",
       "1                                  0                                 0   \n",
       "2                                  2                                 3   \n",
       "\n",
       "   Addressee post-vocalization action  Start sample  End sample  \n",
       "0                                   3             1      336720  \n",
       "1                                   0             1      787280  \n",
       "2                                   3             1      566096  "
      ]
     },
     "execution_count": 8,
     "metadata": {},
     "output_type": "execute_result"
    }
   ],
   "source": [
    "annotations[:3]"
   ]
  },
  {
   "cell_type": "code",
   "execution_count": 9,
   "metadata": {
    "ExecuteTime": {
     "end_time": "2019-10-02T02:28:37.967519Z",
     "start_time": "2019-10-02T02:28:36.110234Z"
    }
   },
   "outputs": [
    {
     "name": "stderr",
     "output_type": "stream",
     "text": [
      "/mnt/cube/tsainbur/conda_envs/tpy3/lib/python3.6/site-packages/IPython/core/interactiveshell.py:3018: DtypeWarning: Columns (0,1,4,6,7,8,9,10) have mixed types. Specify dtype option on import or set low_memory=False.\n",
      "  interactivity=interactivity, compiler=compiler, result=result)\n"
     ]
    },
    {
     "data": {
      "text/plain": [
       "293238"
      ]
     },
     "execution_count": 9,
     "metadata": {},
     "output_type": "execute_result"
    }
   ],
   "source": [
    "file_info = pd.read_csv(DSLOC / 'FileInfo.csv', names = np.arange(50))\n",
    "file_info.columns = file_info.loc[0].values\n",
    "file_info = file_info[1:]\n",
    "file_info = file_info.set_index('FileID')\n",
    "file_info.index = file_info.index.astype('int')\n",
    "len(file_info)"
   ]
  },
  {
   "cell_type": "code",
   "execution_count": 10,
   "metadata": {
    "ExecuteTime": {
     "end_time": "2019-10-02T02:28:38.031804Z",
     "start_time": "2019-10-02T02:28:37.969574Z"
    }
   },
   "outputs": [
    {
     "data": {
      "text/html": [
       "<div>\n",
       "<style scoped>\n",
       "    .dataframe tbody tr th:only-of-type {\n",
       "        vertical-align: middle;\n",
       "    }\n",
       "\n",
       "    .dataframe tbody tr th {\n",
       "        vertical-align: top;\n",
       "    }\n",
       "\n",
       "    .dataframe thead th {\n",
       "        text-align: right;\n",
       "    }\n",
       "</style>\n",
       "<table border=\"1\" class=\"dataframe\">\n",
       "  <thead>\n",
       "    <tr style=\"text-align: right;\">\n",
       "      <th></th>\n",
       "      <th>Treatment ID</th>\n",
       "      <th>File name</th>\n",
       "      <th>File folder</th>\n",
       "      <th>Recording channel</th>\n",
       "      <th>Recording time</th>\n",
       "      <th>Voice start sample (1)</th>\n",
       "      <th>Voice end sample (1)</th>\n",
       "      <th>Voice start sample (2)</th>\n",
       "      <th>Voice end sample (2)</th>\n",
       "      <th>...</th>\n",
       "      <th>...</th>\n",
       "      <th>nan</th>\n",
       "      <th>nan</th>\n",
       "      <th>nan</th>\n",
       "      <th>nan</th>\n",
       "      <th>nan</th>\n",
       "      <th>nan</th>\n",
       "      <th>nan</th>\n",
       "      <th>nan</th>\n",
       "      <th>nan</th>\n",
       "      <th>nan</th>\n",
       "    </tr>\n",
       "    <tr>\n",
       "      <th>FileID</th>\n",
       "      <th></th>\n",
       "      <th></th>\n",
       "      <th></th>\n",
       "      <th></th>\n",
       "      <th></th>\n",
       "      <th></th>\n",
       "      <th></th>\n",
       "      <th></th>\n",
       "      <th></th>\n",
       "      <th></th>\n",
       "      <th></th>\n",
       "      <th></th>\n",
       "      <th></th>\n",
       "      <th></th>\n",
       "      <th></th>\n",
       "      <th></th>\n",
       "      <th></th>\n",
       "      <th></th>\n",
       "      <th></th>\n",
       "      <th></th>\n",
       "      <th></th>\n",
       "    </tr>\n",
       "  </thead>\n",
       "  <tbody>\n",
       "    <tr>\n",
       "      <th>1</th>\n",
       "      <td>1</td>\n",
       "      <td>120601000005102988.WAV</td>\n",
       "      <td>files101</td>\n",
       "      <td>11</td>\n",
       "      <td>2012-06-01 00:01:57</td>\n",
       "      <td>52100</td>\n",
       "      <td>120902</td>\n",
       "      <td>130577</td>\n",
       "      <td>158906</td>\n",
       "      <td>NaN</td>\n",
       "      <td>...</td>\n",
       "      <td>NaN</td>\n",
       "      <td>NaN</td>\n",
       "      <td>NaN</td>\n",
       "      <td>NaN</td>\n",
       "      <td>NaN</td>\n",
       "      <td>NaN</td>\n",
       "      <td>NaN</td>\n",
       "      <td>NaN</td>\n",
       "      <td>NaN</td>\n",
       "      <td>NaN</td>\n",
       "    </tr>\n",
       "    <tr>\n",
       "      <th>2</th>\n",
       "      <td>1</td>\n",
       "      <td>120601000005108269.WAV</td>\n",
       "      <td>files101</td>\n",
       "      <td>4</td>\n",
       "      <td>2012-06-01 00:01:57</td>\n",
       "      <td>28895</td>\n",
       "      <td>89442</td>\n",
       "      <td>102612</td>\n",
       "      <td>129387</td>\n",
       "      <td>NaN</td>\n",
       "      <td>...</td>\n",
       "      <td>NaN</td>\n",
       "      <td>NaN</td>\n",
       "      <td>NaN</td>\n",
       "      <td>NaN</td>\n",
       "      <td>NaN</td>\n",
       "      <td>NaN</td>\n",
       "      <td>NaN</td>\n",
       "      <td>NaN</td>\n",
       "      <td>NaN</td>\n",
       "      <td>NaN</td>\n",
       "    </tr>\n",
       "    <tr>\n",
       "      <th>3</th>\n",
       "      <td>1</td>\n",
       "      <td>120601000011795989.WAV</td>\n",
       "      <td>files101</td>\n",
       "      <td>11</td>\n",
       "      <td>2012-06-01 00:02:04</td>\n",
       "      <td>54143</td>\n",
       "      <td>100989</td>\n",
       "      <td>101607</td>\n",
       "      <td>121337</td>\n",
       "      <td>NaN</td>\n",
       "      <td>...</td>\n",
       "      <td>NaN</td>\n",
       "      <td>NaN</td>\n",
       "      <td>NaN</td>\n",
       "      <td>NaN</td>\n",
       "      <td>NaN</td>\n",
       "      <td>NaN</td>\n",
       "      <td>NaN</td>\n",
       "      <td>NaN</td>\n",
       "      <td>NaN</td>\n",
       "      <td>NaN</td>\n",
       "    </tr>\n",
       "  </tbody>\n",
       "</table>\n",
       "<p>3 rows × 49 columns</p>\n",
       "</div>"
      ],
      "text/plain": [
       "       Treatment ID               File name File folder Recording channel  \\\n",
       "FileID                                                                      \n",
       "1                 1  120601000005102988.WAV    files101                11   \n",
       "2                 1  120601000005108269.WAV    files101                 4   \n",
       "3                 1  120601000011795989.WAV    files101                11   \n",
       "\n",
       "             Recording time Voice start sample (1) Voice end sample (1)  \\\n",
       "FileID                                                                    \n",
       "1       2012-06-01 00:01:57                  52100               120902   \n",
       "2       2012-06-01 00:01:57                  28895                89442   \n",
       "3       2012-06-01 00:02:04                  54143               100989   \n",
       "\n",
       "       Voice start sample (2) Voice end sample (2)  ...  ...  NaN  NaN  NaN  \\\n",
       "FileID                                                   ...                  \n",
       "1                      130577               158906  NaN  ...  NaN  NaN  NaN   \n",
       "2                      102612               129387  NaN  ...  NaN  NaN  NaN   \n",
       "3                      101607               121337  NaN  ...  NaN  NaN  NaN   \n",
       "\n",
       "        NaN  NaN  NaN  NaN  NaN  NaN  NaN  \n",
       "FileID                                     \n",
       "1       NaN  NaN  NaN  NaN  NaN  NaN  NaN  \n",
       "2       NaN  NaN  NaN  NaN  NaN  NaN  NaN  \n",
       "3       NaN  NaN  NaN  NaN  NaN  NaN  NaN  \n",
       "\n",
       "[3 rows x 49 columns]"
      ]
     },
     "execution_count": 10,
     "metadata": {},
     "output_type": "execute_result"
    }
   ],
   "source": [
    "file_info[:3]"
   ]
  },
  {
   "cell_type": "code",
   "execution_count": 11,
   "metadata": {
    "ExecuteTime": {
     "end_time": "2019-10-02T02:28:38.122669Z",
     "start_time": "2019-10-02T02:28:38.033657Z"
    }
   },
   "outputs": [
    {
     "data": {
      "text/plain": [
       "PosixPath('/mnt/cube/tsainbur/Projects/github_repos/avgn_paper/data/raw/batsong')"
      ]
     },
     "execution_count": 11,
     "metadata": {},
     "output_type": "execute_result"
    }
   ],
   "source": [
    "DSLOC"
   ]
  },
  {
   "cell_type": "code",
   "execution_count": 12,
   "metadata": {
    "ExecuteTime": {
     "end_time": "2019-10-02T02:28:40.353072Z",
     "start_time": "2019-10-02T02:28:38.124652Z"
    }
   },
   "outputs": [
    {
     "data": {
      "text/plain": [
       "(263436,\n",
       " PosixPath('/mnt/cube/tsainbur/Projects/github_repos/avgn_paper/data/raw/batsong/zip_contents/files102/120627013338667299.WAV'))"
      ]
     },
     "execution_count": 12,
     "metadata": {},
     "output_type": "execute_result"
    }
   ],
   "source": [
    "wavfiles = list(DSLOC.glob('zip_contents/*/*.WAV'))\n",
    "len(wavfiles), wavfiles[0]"
   ]
  },
  {
   "cell_type": "code",
   "execution_count": 13,
   "metadata": {
    "ExecuteTime": {
     "end_time": "2019-10-02T02:28:41.980378Z",
     "start_time": "2019-10-02T02:28:40.355126Z"
    }
   },
   "outputs": [
    {
     "data": {
      "application/vnd.jupyter.widget-view+json": {
       "model_id": "25ec779343a34efe80f2cd0b6dfc9480",
       "version_major": 2,
       "version_minor": 0
      },
      "text/plain": [
       "HBox(children=(IntProgress(value=0, max=263436), HTML(value='')))"
      ]
     },
     "metadata": {},
     "output_type": "display_data"
    },
    {
     "name": "stdout",
     "output_type": "stream",
     "text": [
      "\n"
     ]
    },
    {
     "data": {
      "text/plain": [
       "263436"
      ]
     },
     "execution_count": 13,
     "metadata": {},
     "output_type": "execute_result"
    }
   ],
   "source": [
    "wf_df = pd.DataFrame(\n",
    "    [[wf, wf.name, wf.parent.stem] for wf in tqdm(wavfiles)],\n",
    "    columns=[\"wav_loc\", \"id\", \"folder\"],\n",
    ")\n",
    "wf_df = wf_df.set_index('id')\n",
    "len(wf_df)"
   ]
  },
  {
   "cell_type": "code",
   "execution_count": 14,
   "metadata": {
    "ExecuteTime": {
     "end_time": "2019-10-02T02:28:42.066818Z",
     "start_time": "2019-10-02T02:28:41.991319Z"
    }
   },
   "outputs": [
    {
     "data": {
      "text/html": [
       "<div>\n",
       "<style scoped>\n",
       "    .dataframe tbody tr th:only-of-type {\n",
       "        vertical-align: middle;\n",
       "    }\n",
       "\n",
       "    .dataframe tbody tr th {\n",
       "        vertical-align: top;\n",
       "    }\n",
       "\n",
       "    .dataframe thead th {\n",
       "        text-align: right;\n",
       "    }\n",
       "</style>\n",
       "<table border=\"1\" class=\"dataframe\">\n",
       "  <thead>\n",
       "    <tr style=\"text-align: right;\">\n",
       "      <th></th>\n",
       "      <th>wav_loc</th>\n",
       "      <th>folder</th>\n",
       "    </tr>\n",
       "    <tr>\n",
       "      <th>id</th>\n",
       "      <th></th>\n",
       "      <th></th>\n",
       "    </tr>\n",
       "  </thead>\n",
       "  <tbody>\n",
       "    <tr>\n",
       "      <th>120627013338667299.WAV</th>\n",
       "      <td>/mnt/cube/tsainbur/Projects/github_repos/avgn_...</td>\n",
       "      <td>files102</td>\n",
       "    </tr>\n",
       "    <tr>\n",
       "      <th>120702045930363917.WAV</th>\n",
       "      <td>/mnt/cube/tsainbur/Projects/github_repos/avgn_...</td>\n",
       "      <td>files102</td>\n",
       "    </tr>\n",
       "    <tr>\n",
       "      <th>120621233540868238.WAV</th>\n",
       "      <td>/mnt/cube/tsainbur/Projects/github_repos/avgn_...</td>\n",
       "      <td>files102</td>\n",
       "    </tr>\n",
       "  </tbody>\n",
       "</table>\n",
       "</div>"
      ],
      "text/plain": [
       "                                                                  wav_loc  \\\n",
       "id                                                                          \n",
       "120627013338667299.WAV  /mnt/cube/tsainbur/Projects/github_repos/avgn_...   \n",
       "120702045930363917.WAV  /mnt/cube/tsainbur/Projects/github_repos/avgn_...   \n",
       "120621233540868238.WAV  /mnt/cube/tsainbur/Projects/github_repos/avgn_...   \n",
       "\n",
       "                          folder  \n",
       "id                                \n",
       "120627013338667299.WAV  files102  \n",
       "120702045930363917.WAV  files102  \n",
       "120621233540868238.WAV  files102  "
      ]
     },
     "execution_count": 14,
     "metadata": {},
     "output_type": "execute_result"
    }
   ],
   "source": [
    "wf_df[:3]"
   ]
  },
  {
   "cell_type": "markdown",
   "metadata": {},
   "source": [
    "### create json"
   ]
  },
  {
   "cell_type": "code",
   "execution_count": 15,
   "metadata": {
    "ExecuteTime": {
     "end_time": "2019-10-02T02:28:42.163535Z",
     "start_time": "2019-10-02T02:28:42.069145Z"
    }
   },
   "outputs": [],
   "source": [
    "sr = 250000"
   ]
  },
  {
   "cell_type": "code",
   "execution_count": 16,
   "metadata": {
    "ExecuteTime": {
     "end_time": "2019-10-02T02:28:42.247206Z",
     "start_time": "2019-10-02T02:28:42.166834Z"
    }
   },
   "outputs": [],
   "source": [
    "from avgn.utils.audio import get_samplerate\n",
    "from avgn.utils.json import NoIndent, NoIndentEncoder\n",
    "from datetime import datetime\n",
    "import librosa\n",
    "import json"
   ]
  },
  {
   "cell_type": "code",
   "execution_count": 17,
   "metadata": {
    "ExecuteTime": {
     "end_time": "2019-10-02T02:28:42.329575Z",
     "start_time": "2019-10-02T02:28:42.250726Z"
    }
   },
   "outputs": [],
   "source": [
    "DATASET_ID = \"batsong\""
   ]
  },
  {
   "cell_type": "code",
   "execution_count": 18,
   "metadata": {
    "ExecuteTime": {
     "end_time": "2019-10-02T02:28:42.422303Z",
     "start_time": "2019-10-02T02:28:42.331953Z"
    }
   },
   "outputs": [
    {
     "data": {
      "text/plain": [
       "'2019-10-01_19-28-42'"
      ]
     },
     "execution_count": 18,
     "metadata": {},
     "output_type": "execute_result"
    }
   ],
   "source": [
    "# create a unique datetime identifier for the files output by this notebook\n",
    "DT_ID = datetime.now().strftime(\"%Y-%m-%d_%H-%M-%S\")\n",
    "DT_ID"
   ]
  },
  {
   "cell_type": "code",
   "execution_count": null,
   "metadata": {},
   "outputs": [],
   "source": []
  },
  {
   "cell_type": "code",
   "execution_count": 19,
   "metadata": {
    "ExecuteTime": {
     "end_time": "2019-10-02T02:28:42.557795Z",
     "start_time": "2019-10-02T02:28:42.424328Z"
    }
   },
   "outputs": [
    {
     "data": {
      "text/html": [
       "<div>\n",
       "<style scoped>\n",
       "    .dataframe tbody tr th:only-of-type {\n",
       "        vertical-align: middle;\n",
       "    }\n",
       "\n",
       "    .dataframe tbody tr th {\n",
       "        vertical-align: top;\n",
       "    }\n",
       "\n",
       "    .dataframe thead th {\n",
       "        text-align: right;\n",
       "    }\n",
       "</style>\n",
       "<table border=\"1\" class=\"dataframe\">\n",
       "  <thead>\n",
       "    <tr style=\"text-align: right;\">\n",
       "      <th></th>\n",
       "      <th>FileID</th>\n",
       "      <th>Emitter</th>\n",
       "      <th>Addressee</th>\n",
       "      <th>Context</th>\n",
       "      <th>Emitter pre-vocalization action</th>\n",
       "      <th>Addressee pre-vocalization action</th>\n",
       "      <th>Emitter post-vocalization action</th>\n",
       "      <th>Addressee post-vocalization action</th>\n",
       "      <th>Start sample</th>\n",
       "      <th>End sample</th>\n",
       "    </tr>\n",
       "  </thead>\n",
       "  <tbody>\n",
       "    <tr>\n",
       "      <th>0</th>\n",
       "      <td>7</td>\n",
       "      <td>118</td>\n",
       "      <td>0</td>\n",
       "      <td>9</td>\n",
       "      <td>2</td>\n",
       "      <td>2</td>\n",
       "      <td>3</td>\n",
       "      <td>3</td>\n",
       "      <td>1</td>\n",
       "      <td>336720</td>\n",
       "    </tr>\n",
       "  </tbody>\n",
       "</table>\n",
       "</div>"
      ],
      "text/plain": [
       "   FileID  Emitter  Addressee  Context  Emitter pre-vocalization action  \\\n",
       "0       7      118          0        9                                2   \n",
       "\n",
       "   Addressee pre-vocalization action  Emitter post-vocalization action  \\\n",
       "0                                  2                                 3   \n",
       "\n",
       "   Addressee post-vocalization action  Start sample  End sample  \n",
       "0                                   3             1      336720  "
      ]
     },
     "metadata": {},
     "output_type": "display_data"
    },
    {
     "data": {
      "text/html": [
       "<div>\n",
       "<style scoped>\n",
       "    .dataframe tbody tr th:only-of-type {\n",
       "        vertical-align: middle;\n",
       "    }\n",
       "\n",
       "    .dataframe tbody tr th {\n",
       "        vertical-align: top;\n",
       "    }\n",
       "\n",
       "    .dataframe thead th {\n",
       "        text-align: right;\n",
       "    }\n",
       "</style>\n",
       "<table border=\"1\" class=\"dataframe\">\n",
       "  <thead>\n",
       "    <tr style=\"text-align: right;\">\n",
       "      <th></th>\n",
       "      <th>wav_loc</th>\n",
       "      <th>folder</th>\n",
       "    </tr>\n",
       "    <tr>\n",
       "      <th>id</th>\n",
       "      <th></th>\n",
       "      <th></th>\n",
       "    </tr>\n",
       "  </thead>\n",
       "  <tbody>\n",
       "    <tr>\n",
       "      <th>120627013338667299.WAV</th>\n",
       "      <td>/mnt/cube/tsainbur/Projects/github_repos/avgn_...</td>\n",
       "      <td>files102</td>\n",
       "    </tr>\n",
       "  </tbody>\n",
       "</table>\n",
       "</div>"
      ],
      "text/plain": [
       "                                                                  wav_loc  \\\n",
       "id                                                                          \n",
       "120627013338667299.WAV  /mnt/cube/tsainbur/Projects/github_repos/avgn_...   \n",
       "\n",
       "                          folder  \n",
       "id                                \n",
       "120627013338667299.WAV  files102  "
      ]
     },
     "metadata": {},
     "output_type": "display_data"
    },
    {
     "data": {
      "text/html": [
       "<div>\n",
       "<style scoped>\n",
       "    .dataframe tbody tr th:only-of-type {\n",
       "        vertical-align: middle;\n",
       "    }\n",
       "\n",
       "    .dataframe tbody tr th {\n",
       "        vertical-align: top;\n",
       "    }\n",
       "\n",
       "    .dataframe thead th {\n",
       "        text-align: right;\n",
       "    }\n",
       "</style>\n",
       "<table border=\"1\" class=\"dataframe\">\n",
       "  <thead>\n",
       "    <tr style=\"text-align: right;\">\n",
       "      <th></th>\n",
       "      <th>Treatment ID</th>\n",
       "      <th>File name</th>\n",
       "      <th>File folder</th>\n",
       "      <th>Recording channel</th>\n",
       "      <th>Recording time</th>\n",
       "      <th>Voice start sample (1)</th>\n",
       "      <th>Voice end sample (1)</th>\n",
       "      <th>Voice start sample (2)</th>\n",
       "      <th>Voice end sample (2)</th>\n",
       "      <th>...</th>\n",
       "      <th>...</th>\n",
       "      <th>nan</th>\n",
       "      <th>nan</th>\n",
       "      <th>nan</th>\n",
       "      <th>nan</th>\n",
       "      <th>nan</th>\n",
       "      <th>nan</th>\n",
       "      <th>nan</th>\n",
       "      <th>nan</th>\n",
       "      <th>nan</th>\n",
       "      <th>nan</th>\n",
       "    </tr>\n",
       "    <tr>\n",
       "      <th>FileID</th>\n",
       "      <th></th>\n",
       "      <th></th>\n",
       "      <th></th>\n",
       "      <th></th>\n",
       "      <th></th>\n",
       "      <th></th>\n",
       "      <th></th>\n",
       "      <th></th>\n",
       "      <th></th>\n",
       "      <th></th>\n",
       "      <th></th>\n",
       "      <th></th>\n",
       "      <th></th>\n",
       "      <th></th>\n",
       "      <th></th>\n",
       "      <th></th>\n",
       "      <th></th>\n",
       "      <th></th>\n",
       "      <th></th>\n",
       "      <th></th>\n",
       "      <th></th>\n",
       "    </tr>\n",
       "  </thead>\n",
       "  <tbody>\n",
       "    <tr>\n",
       "      <th>1</th>\n",
       "      <td>1</td>\n",
       "      <td>120601000005102988.WAV</td>\n",
       "      <td>files101</td>\n",
       "      <td>11</td>\n",
       "      <td>2012-06-01 00:01:57</td>\n",
       "      <td>52100</td>\n",
       "      <td>120902</td>\n",
       "      <td>130577</td>\n",
       "      <td>158906</td>\n",
       "      <td>NaN</td>\n",
       "      <td>...</td>\n",
       "      <td>NaN</td>\n",
       "      <td>NaN</td>\n",
       "      <td>NaN</td>\n",
       "      <td>NaN</td>\n",
       "      <td>NaN</td>\n",
       "      <td>NaN</td>\n",
       "      <td>NaN</td>\n",
       "      <td>NaN</td>\n",
       "      <td>NaN</td>\n",
       "      <td>NaN</td>\n",
       "    </tr>\n",
       "  </tbody>\n",
       "</table>\n",
       "<p>1 rows × 49 columns</p>\n",
       "</div>"
      ],
      "text/plain": [
       "       Treatment ID               File name File folder Recording channel  \\\n",
       "FileID                                                                      \n",
       "1                 1  120601000005102988.WAV    files101                11   \n",
       "\n",
       "             Recording time Voice start sample (1) Voice end sample (1)  \\\n",
       "FileID                                                                    \n",
       "1       2012-06-01 00:01:57                  52100               120902   \n",
       "\n",
       "       Voice start sample (2) Voice end sample (2)  ...  ...  NaN  NaN  NaN  \\\n",
       "FileID                                                   ...                  \n",
       "1                      130577               158906  NaN  ...  NaN  NaN  NaN   \n",
       "\n",
       "        NaN  NaN  NaN  NaN  NaN  NaN  NaN  \n",
       "FileID                                     \n",
       "1       NaN  NaN  NaN  NaN  NaN  NaN  NaN  \n",
       "\n",
       "[1 rows x 49 columns]"
      ]
     },
     "metadata": {},
     "output_type": "display_data"
    }
   ],
   "source": [
    "display(annotations[:1])\n",
    "display(wf_df[:1])\n",
    "display(file_info[:1])"
   ]
  },
  {
   "cell_type": "code",
   "execution_count": 20,
   "metadata": {
    "ExecuteTime": {
     "end_time": "2019-10-02T02:28:42.618568Z",
     "start_time": "2019-10-02T02:28:42.559901Z"
    }
   },
   "outputs": [
    {
     "data": {
      "text/plain": [
       "87986"
      ]
     },
     "execution_count": 20,
     "metadata": {},
     "output_type": "execute_result"
    }
   ],
   "source": [
    "len(annotations.FileID.unique())"
   ]
  },
  {
   "cell_type": "code",
   "execution_count": 21,
   "metadata": {
    "ExecuteTime": {
     "end_time": "2019-10-02T02:28:42.704596Z",
     "start_time": "2019-10-02T02:28:42.620612Z"
    }
   },
   "outputs": [],
   "source": [
    "from avgn.utils.json import NoIndent, NoIndentEncoder"
   ]
  },
  {
   "cell_type": "code",
   "execution_count": null,
   "metadata": {},
   "outputs": [],
   "source": []
  },
  {
   "cell_type": "code",
   "execution_count": 22,
   "metadata": {
    "ExecuteTime": {
     "end_time": "2019-10-02T03:09:45.021141Z",
     "start_time": "2019-10-02T02:28:42.706775Z"
    }
   },
   "outputs": [
    {
     "data": {
      "application/vnd.jupyter.widget-view+json": {
       "model_id": "16a191a8b00747f1b5433a043d1bed9c",
       "version_major": 2,
       "version_minor": 0
      },
      "text/plain": [
       "HBox(children=(IntProgress(value=0, max=87986), HTML(value='')))"
      ]
     },
     "metadata": {},
     "output_type": "display_data"
    },
    {
     "name": "stdout",
     "output_type": "stream",
     "text": [
      "\n"
     ]
    }
   ],
   "source": [
    "missing_wav = 0\n",
    "# for each unique wav\n",
    "for FID in tqdm(annotations.FileID.unique()):\n",
    "    file_row = file_info.loc[FID]\n",
    "    try:\n",
    "        wav_row = wf_df.loc[file_row[\"File name\"]]\n",
    "    except KeyError as e:\n",
    "        missing_wav += 1\n",
    "        continue\n",
    "    \n",
    "    # get the file\n",
    "    file_annotations = annotations[annotations.FileID == FID].sort_values(\n",
    "        by=\"Start sample\"\n",
    "    )\n",
    "            \n",
    "    json_out = (\n",
    "        DATA_DIR\n",
    "        / \"processed\"\n",
    "        / DATASET_ID\n",
    "        / DT_ID\n",
    "        / \"JSON\"\n",
    "        / (wav_row.wav_loc.stem.replace(\" \", \"_\") + \".JSON\")\n",
    "    )\n",
    "\n",
    "    rate = get_samplerate(wav_row.wav_loc.as_posix())\n",
    "    bout_duration = librosa.get_duration(filename=wav_row.wav_loc.as_posix())\n",
    "\n",
    "    # wav general information\n",
    "    json_dict = {}\n",
    "    json_dict[\"fid\"] = int(file_row.name)\n",
    "    json_dict[\"Treatment ID\"] = file_row[\"Treatment ID\"]\n",
    "    json_dict[\"Recording channel\"] = file_row[\"Recording channel\"]\n",
    "    json_dict[\"Recording time\"] = file_row[\"Recording time\"]\n",
    "\n",
    "    json_dict[\"indvs\"] = {}\n",
    "    for emitter in file_annotations.Emitter.unique():\n",
    "        emitter_anno = file_annotations[file_annotations.Emitter == emitter]\n",
    "\n",
    "        json_dict[\"indvs\"][str(emitter)] = {\n",
    "            \"syllables\": {\n",
    "                \"start_times\": NoIndent(\n",
    "                    list(emitter_anno[\"Start sample\"].astype(\"float32\") / sr)\n",
    "                ),\n",
    "                \"end_times\": NoIndent(\n",
    "                    list(emitter_anno[\"End sample\"].astype(\"float32\") / sr)\n",
    "                ),\n",
    "                \"addressee\": NoIndent(list(emitter_anno[\"Addressee\"].astype(\"int\"))),\n",
    "                \"context\": NoIndent([context_dict[i] for i in emitter_anno[\"Context\"]]),\n",
    "                \"emit_prevoc_act\": NoIndent(\n",
    "                    list(emitter_anno[\"Emitter pre-vocalization action\"].astype(\"int\"))\n",
    "                ),\n",
    "                \"add_prevoc_act\": NoIndent(\n",
    "                    list(\n",
    "                        emitter_anno[\"Addressee pre-vocalization action\"].astype(\"int\")\n",
    "                    )\n",
    "                ),\n",
    "                \"emit_postvoc_act\": NoIndent(\n",
    "                    list(emitter_anno[\"Emitter post-vocalization action\"].astype(\"int\"))\n",
    "                ),\n",
    "                \"add_postvoc_act\": NoIndent(\n",
    "                    list(\n",
    "                        emitter_anno[\"Addressee post-vocalization action\"].astype(\"int\")\n",
    "                    )\n",
    "                ),\n",
    "            }\n",
    "        }\n",
    "\n",
    "    json_dict[\"species\"] = \"Rousettus aegyptiacus\"\n",
    "    json_dict[\"common_name\"] = \"Egyptian fruit bat\"\n",
    "    json_dict[\"samplerate_hz\"] = rate\n",
    "    json_dict[\"original_wav\"] = wav_row.wav_loc.as_posix()\n",
    "    json_dict[\"length_s\"] = bout_duration\n",
    "    json_dict[\"wav_loc\"] = wav_row.wav_loc.as_posix()\n",
    "\n",
    "    json_txt = json.dumps(json_dict, cls=NoIndentEncoder, indent=2)\n",
    "\n",
    "    # save json\n",
    "    ensure_dir(json_out.as_posix())\n",
    "\n",
    "    print(json_txt, file=open(json_out.as_posix(), \"w\"))\n",
    "\n",
    "    #break"
   ]
  },
  {
   "cell_type": "code",
   "execution_count": 23,
   "metadata": {
    "ExecuteTime": {
     "end_time": "2019-10-02T03:09:45.101204Z",
     "start_time": "2019-10-02T03:09:45.025993Z"
    }
   },
   "outputs": [
    {
     "name": "stdout",
     "output_type": "stream",
     "text": [
      "{\n",
      "  \"fid\": 273433,\n",
      "  \"Treatment ID\": 19,\n",
      "  \"Recording channel\": 2,\n",
      "  \"Recording time\": \"2013-06-04 02:09:14\",\n",
      "  \"indvs\": {\n",
      "    \"-211\": {\n",
      "      \"syllables\": {\n",
      "        \"start_times\": [4e-06],\n",
      "        \"end_times\": [1.281344],\n",
      "        \"addressee\": [-208],\n",
      "        \"context\": [\"Feeding\"],\n",
      "        \"emit_prevoc_act\": [2],\n",
      "        \"add_prevoc_act\": [2],\n",
      "        \"emit_postvoc_act\": [3],\n",
      "        \"add_postvoc_act\": [3]\n",
      "      }\n",
      "    }\n",
      "  },\n",
      "  \"species\": \"Rousettus aegyptiacus\",\n",
      "  \"common_name\": \"Egyptian fruit bat\",\n",
      "  \"samplerate_hz\": 250000,\n",
      "  \"original_wav\": \"/mnt/cube/tsainbur/Projects/github_repos/avgn_paper/data/raw/batsong/zip_contents/files223/130604011439064237.WAV\",\n",
      "  \"length_s\": 1.281344,\n",
      "  \"wav_loc\": \"/mnt/cube/tsainbur/Projects/github_repos/avgn_paper/data/raw/batsong/zip_contents/files223/130604011439064237.WAV\"\n",
      "}\n"
     ]
    }
   ],
   "source": [
    "print(json_txt)"
   ]
  },
  {
   "cell_type": "code",
   "execution_count": null,
   "metadata": {},
   "outputs": [],
   "source": []
  }
 ],
 "metadata": {
  "kernelspec": {
   "display_name": "Python 3",
   "language": "python",
   "name": "python3"
  },
  "language_info": {
   "codemirror_mode": {
    "name": "ipython",
    "version": 3
   },
   "file_extension": ".py",
   "mimetype": "text/x-python",
   "name": "python",
   "nbconvert_exporter": "python",
   "pygments_lexer": "ipython3",
   "version": "3.6.7"
  }
 },
 "nbformat": 4,
 "nbformat_minor": 2
}
