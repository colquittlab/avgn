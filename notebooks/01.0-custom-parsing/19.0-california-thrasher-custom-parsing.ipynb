{
 "cells": [
  {
   "cell_type": "markdown",
   "metadata": {},
   "source": [
    "### California thrasher custom parsing\n",
    "- An labelled (but smaller) dataset of zebra finch vocalizations\n",
    "    - .WAV files with individual labels\n",
    "- This notebook creates a JSON corresponding to each WAV file (and Noise file where available).\n",
    "- Dataset origin:\n",
    "    - http://taylor0.biology.ucla.edu/birdDBQuery/"
   ]
  },
  {
   "cell_type": "code",
   "execution_count": 1,
   "metadata": {
    "ExecuteTime": {
     "end_time": "2019-09-30T19:21:12.157185Z",
     "start_time": "2019-09-30T19:21:03.349788Z"
    }
   },
   "outputs": [
    {
     "name": "stderr",
     "output_type": "stream",
     "text": [
      "/mnt/cube/tsainbur/conda_envs/tpy3/lib/python3.6/site-packages/tqdm/autonotebook/__init__.py:14: TqdmExperimentalWarning: Using `tqdm.autonotebook.tqdm` in notebook mode. Use `tqdm.tqdm` instead to force console mode (e.g. in jupyter console)\n",
      "  \" (e.g. in jupyter console)\", TqdmExperimentalWarning)\n"
     ]
    }
   ],
   "source": [
    "from avgn.utils.general import prepare_env"
   ]
  },
  {
   "cell_type": "code",
   "execution_count": 2,
   "metadata": {
    "ExecuteTime": {
     "end_time": "2019-09-30T19:21:12.240032Z",
     "start_time": "2019-09-30T19:21:12.162200Z"
    }
   },
   "outputs": [
    {
     "name": "stdout",
     "output_type": "stream",
     "text": [
      "env: CUDA_VISIBLE_DEVICES=GPU\n"
     ]
    }
   ],
   "source": [
    "prepare_env()"
   ]
  },
  {
   "cell_type": "markdown",
   "metadata": {},
   "source": [
    "### Import relevant packages"
   ]
  },
  {
   "cell_type": "code",
   "execution_count": 3,
   "metadata": {
    "ExecuteTime": {
     "end_time": "2019-09-30T19:21:14.537974Z",
     "start_time": "2019-09-30T19:21:12.243135Z"
    }
   },
   "outputs": [],
   "source": [
    "from joblib import Parallel, delayed\n",
    "from tqdm.autonotebook import tqdm\n",
    "import pandas as pd\n",
    "pd.options.display.max_columns = None\n",
    "import librosa\n",
    "from datetime import datetime\n",
    "import numpy as np\n",
    "import xlrd"
   ]
  },
  {
   "cell_type": "code",
   "execution_count": 4,
   "metadata": {
    "ExecuteTime": {
     "end_time": "2019-09-30T19:21:14.998375Z",
     "start_time": "2019-09-30T19:21:14.542208Z"
    }
   },
   "outputs": [],
   "source": [
    "import avgn\n",
    "from avgn.custom_parsing.bird_db import generate_json\n",
    "from avgn.utils.paths import DATA_DIR"
   ]
  },
  {
   "cell_type": "markdown",
   "metadata": {},
   "source": [
    "### Load data in original format"
   ]
  },
  {
   "cell_type": "code",
   "execution_count": 5,
   "metadata": {
    "ExecuteTime": {
     "end_time": "2019-09-30T19:21:15.036161Z",
     "start_time": "2019-09-30T19:21:15.000535Z"
    }
   },
   "outputs": [],
   "source": [
    "DATASET_ID = 'california_thrasher_cody'"
   ]
  },
  {
   "cell_type": "code",
   "execution_count": 6,
   "metadata": {
    "ExecuteTime": {
     "end_time": "2019-09-30T19:21:15.145358Z",
     "start_time": "2019-09-30T19:21:15.038260Z"
    }
   },
   "outputs": [
    {
     "data": {
      "text/plain": [
       "'2019-09-30_12-21-15'"
      ]
     },
     "execution_count": 6,
     "metadata": {},
     "output_type": "execute_result"
    }
   ],
   "source": [
    "# create a unique datetime identifier for the files output by this notebook\n",
    "DT_ID = datetime.now().strftime(\"%Y-%m-%d_%H-%M-%S\")\n",
    "DT_ID"
   ]
  },
  {
   "cell_type": "code",
   "execution_count": 7,
   "metadata": {
    "ExecuteTime": {
     "end_time": "2019-09-30T19:21:15.234525Z",
     "start_time": "2019-09-30T19:21:15.147288Z"
    }
   },
   "outputs": [
    {
     "data": {
      "text/plain": [
       "PosixPath('/mnt/cube/tsainbur/Projects/github_repos/avgn_paper/data/raw/bird-db/CATH')"
      ]
     },
     "execution_count": 7,
     "metadata": {},
     "output_type": "execute_result"
    }
   ],
   "source": [
    "DSLOC = DATA_DIR/ 'raw' / 'bird-db' / 'CATH'\n",
    "DSLOC"
   ]
  },
  {
   "cell_type": "code",
   "execution_count": 8,
   "metadata": {
    "ExecuteTime": {
     "end_time": "2019-09-30T19:21:15.773794Z",
     "start_time": "2019-09-30T19:21:15.236619Z"
    }
   },
   "outputs": [
    {
     "data": {
      "text/plain": [
       "(95,\n",
       " PosixPath('/mnt/cube/tsainbur/Projects/github_repos/avgn_paper/data/raw/bird-db/CATH/CATH-TLR1/wavs/2012-01-20_08-15-00-000000.wav'))"
      ]
     },
     "execution_count": 8,
     "metadata": {},
     "output_type": "execute_result"
    }
   ],
   "source": [
    "WAVLIST = list((DSLOC).expanduser().glob('*/wavs/*.wav'))\n",
    "len(WAVLIST), WAVLIST[0]"
   ]
  },
  {
   "cell_type": "code",
   "execution_count": 9,
   "metadata": {
    "ExecuteTime": {
     "end_time": "2019-09-30T19:21:16.719920Z",
     "start_time": "2019-09-30T19:21:15.775904Z"
    }
   },
   "outputs": [],
   "source": [
    "song_db = pd.read_excel(DATA_DIR / \"BIRD_DB.xls\")\n",
    "mainData_book = xlrd.open_workbook(DATA_DIR / \"BIRD_DB.xls\", formatting_info=True)\n",
    "mainData_sheet = mainData_book.sheet_by_index(0)\n",
    "song_urls = [\n",
    "    \"\"\n",
    "    if mainData_sheet.hyperlink_map.get((i, 11)) == None\n",
    "    else mainData_sheet.hyperlink_map.get((i, 11)).url_or_path\n",
    "    for i in range(mainData_sheet.nrows)\n",
    "]\n",
    "song_db[\"Audio_file\"] = song_urls[1:]\n",
    "song_db = song_db[1:]\n",
    "song_db[\"file_stem\"] = [\n",
    "    i.split(\"/\")[-1].split(\".\")[0] for i in song_db[\"Audio_file\"].values\n",
    "]"
   ]
  },
  {
   "cell_type": "code",
   "execution_count": 10,
   "metadata": {
    "ExecuteTime": {
     "end_time": "2019-09-30T19:21:16.833518Z",
     "start_time": "2019-09-30T19:21:16.723655Z"
    }
   },
   "outputs": [
    {
     "data": {
      "text/html": [
       "<div>\n",
       "<style scoped>\n",
       "    .dataframe tbody tr th:only-of-type {\n",
       "        vertical-align: middle;\n",
       "    }\n",
       "\n",
       "    .dataframe tbody tr th {\n",
       "        vertical-align: top;\n",
       "    }\n",
       "\n",
       "    .dataframe thead th {\n",
       "        text-align: right;\n",
       "    }\n",
       "</style>\n",
       "<table border=\"1\" class=\"dataframe\">\n",
       "  <thead>\n",
       "    <tr style=\"text-align: right;\">\n",
       "      <th></th>\n",
       "      <th>TrackName</th>\n",
       "      <th>type_of_device</th>\n",
       "      <th>configuration</th>\n",
       "      <th>microphone</th>\n",
       "      <th>recorder</th>\n",
       "      <th>sample_rate</th>\n",
       "      <th>Recordist_first_name</th>\n",
       "      <th>Recordist_last_name</th>\n",
       "      <th>recording_date</th>\n",
       "      <th>recording_time</th>\n",
       "      <th>recording_length</th>\n",
       "      <th>Audio_file</th>\n",
       "      <th>SubjectName</th>\n",
       "      <th>subject_importance</th>\n",
       "      <th>quality_rating</th>\n",
       "      <th>Species_short_name</th>\n",
       "      <th>Subject_species</th>\n",
       "      <th>sex</th>\n",
       "      <th>age_class</th>\n",
       "      <th>identified_by</th>\n",
       "      <th>certainty_of_species</th>\n",
       "      <th>latitude_degrees</th>\n",
       "      <th>latitude_minutes</th>\n",
       "      <th>latitude_seconds</th>\n",
       "      <th>latitude_orientation</th>\n",
       "      <th>longitude_degrees</th>\n",
       "      <th>longitude_minutes</th>\n",
       "      <th>longitude_seconds</th>\n",
       "      <th>longitude_orientation</th>\n",
       "      <th>elevation</th>\n",
       "      <th>Distance_from_marker</th>\n",
       "      <th>position</th>\n",
       "      <th>Marker</th>\n",
       "      <th>Area</th>\n",
       "      <th>Region</th>\n",
       "      <th>country</th>\n",
       "      <th>state_or_province</th>\n",
       "      <th>vegetation_type</th>\n",
       "      <th>Analysis</th>\n",
       "      <th>Analysis_date</th>\n",
       "      <th>Analysis_method</th>\n",
       "      <th>number_of_phrases</th>\n",
       "      <th>Textgrid_file</th>\n",
       "      <th>Keycode_file</th>\n",
       "      <th>file_stem</th>\n",
       "    </tr>\n",
       "  </thead>\n",
       "  <tbody>\n",
       "    <tr>\n",
       "      <th>1</th>\n",
       "      <td>tCOMM09-1</td>\n",
       "      <td>single microphone</td>\n",
       "      <td>MOC2012</td>\n",
       "      <td>Sennheiser omnidirectional with Telinga parabo...</td>\n",
       "      <td>Marantz PMD650</td>\n",
       "      <td>44.0</td>\n",
       "      <td>Martin</td>\n",
       "      <td>Cody</td>\n",
       "      <td>2009-03-21</td>\n",
       "      <td>08:25:00</td>\n",
       "      <td>00:02:30</td>\n",
       "      <td>http://taylor0.biology.ucla.edu/birdDBQuery/Fi...</td>\n",
       "      <td>CATH-CP1</td>\n",
       "      <td>Primary subject</td>\n",
       "      <td>4.0</td>\n",
       "      <td>CATH</td>\n",
       "      <td>California Thrasher</td>\n",
       "      <td>Male(s)</td>\n",
       "      <td>Reproductive adult</td>\n",
       "      <td>sight and sound</td>\n",
       "      <td>5.0</td>\n",
       "      <td>38.0</td>\n",
       "      <td>15.0</td>\n",
       "      <td>17.95</td>\n",
       "      <td>N</td>\n",
       "      <td>120.0</td>\n",
       "      <td>53.0</td>\n",
       "      <td>5.43</td>\n",
       "      <td>W</td>\n",
       "      <td>168.0</td>\n",
       "      <td>NaN</td>\n",
       "      <td>NaN</td>\n",
       "      <td>Along road</td>\n",
       "      <td>Lake Comanche</td>\n",
       "      <td>Amador</td>\n",
       "      <td>USA</td>\n",
       "      <td>California</td>\n",
       "      <td>Open Chapparal</td>\n",
       "      <td>CATH processed</td>\n",
       "      <td>2013-02-23</td>\n",
       "      <td>Praat annotation</td>\n",
       "      <td>383.0</td>\n",
       "      <td>Files_TextGrids/2009/March/CATH1.TextGrid</td>\n",
       "      <td>Files_Keys/CATH_2009/TRIPLELETTER_N_CA_phrases...</td>\n",
       "      <td>CATH1</td>\n",
       "    </tr>\n",
       "    <tr>\n",
       "      <th>2</th>\n",
       "      <td>tCOMM09-2</td>\n",
       "      <td>single microphone</td>\n",
       "      <td>MOC2012</td>\n",
       "      <td>Sennheiser omnidirectional with Telinga parabo...</td>\n",
       "      <td>Marantz PMD650</td>\n",
       "      <td>44.0</td>\n",
       "      <td>Martin</td>\n",
       "      <td>Cody</td>\n",
       "      <td>2009-03-21</td>\n",
       "      <td>08:27:00</td>\n",
       "      <td>00:00:51</td>\n",
       "      <td>http://taylor0.biology.ucla.edu/birdDBQuery/Fi...</td>\n",
       "      <td>CATH-CP1</td>\n",
       "      <td>Primary subject</td>\n",
       "      <td>4.0</td>\n",
       "      <td>CATH</td>\n",
       "      <td>California Thrasher</td>\n",
       "      <td>Male(s)</td>\n",
       "      <td>Reproductive adult</td>\n",
       "      <td>sight and sound</td>\n",
       "      <td>5.0</td>\n",
       "      <td>38.0</td>\n",
       "      <td>15.0</td>\n",
       "      <td>17.95</td>\n",
       "      <td>N</td>\n",
       "      <td>120.0</td>\n",
       "      <td>53.0</td>\n",
       "      <td>5.43</td>\n",
       "      <td>W</td>\n",
       "      <td>168.0</td>\n",
       "      <td>NaN</td>\n",
       "      <td>NaN</td>\n",
       "      <td>Along road</td>\n",
       "      <td>Lake Comanche</td>\n",
       "      <td>Amador</td>\n",
       "      <td>USA</td>\n",
       "      <td>California</td>\n",
       "      <td>Open Chapparal</td>\n",
       "      <td>CATH processed</td>\n",
       "      <td>2013-02-23</td>\n",
       "      <td>Praat annotation</td>\n",
       "      <td>152.0</td>\n",
       "      <td>Files_TextGrids/2009/March/CATH2.TextGrid</td>\n",
       "      <td>Files_Keys/CATH_2009/TRIPLELETTER_N_CA_phrases...</td>\n",
       "      <td>CATH2</td>\n",
       "    </tr>\n",
       "    <tr>\n",
       "      <th>3</th>\n",
       "      <td>tCOMM09-3</td>\n",
       "      <td>single microphone</td>\n",
       "      <td>MOC2012</td>\n",
       "      <td>Sennheiser omnidirectional with Telinga parabo...</td>\n",
       "      <td>Marantz PMD650</td>\n",
       "      <td>44.0</td>\n",
       "      <td>Martin</td>\n",
       "      <td>Cody</td>\n",
       "      <td>2009-03-21</td>\n",
       "      <td>08:28:00</td>\n",
       "      <td>00:00:57</td>\n",
       "      <td>http://taylor0.biology.ucla.edu/birdDBQuery/Fi...</td>\n",
       "      <td>CATH-CP1</td>\n",
       "      <td>Primary subject</td>\n",
       "      <td>4.0</td>\n",
       "      <td>CATH</td>\n",
       "      <td>California Thrasher</td>\n",
       "      <td>Male(s)</td>\n",
       "      <td>Reproductive adult</td>\n",
       "      <td>sight and sound</td>\n",
       "      <td>5.0</td>\n",
       "      <td>38.0</td>\n",
       "      <td>15.0</td>\n",
       "      <td>17.95</td>\n",
       "      <td>N</td>\n",
       "      <td>120.0</td>\n",
       "      <td>53.0</td>\n",
       "      <td>5.43</td>\n",
       "      <td>W</td>\n",
       "      <td>168.0</td>\n",
       "      <td>NaN</td>\n",
       "      <td>NaN</td>\n",
       "      <td>Along road</td>\n",
       "      <td>Lake Comanche</td>\n",
       "      <td>Amador</td>\n",
       "      <td>USA</td>\n",
       "      <td>California</td>\n",
       "      <td>Open Chapparal</td>\n",
       "      <td>CATH processed</td>\n",
       "      <td>2013-02-23</td>\n",
       "      <td>Praat annotation</td>\n",
       "      <td>140.0</td>\n",
       "      <td>Files_TextGrids/2009/March/CATH3.TextGrid</td>\n",
       "      <td>Files_Keys/CATH_2009/TRIPLELETTER_N_CA_phrases...</td>\n",
       "      <td>CATH3</td>\n",
       "    </tr>\n",
       "  </tbody>\n",
       "</table>\n",
       "</div>"
      ],
      "text/plain": [
       "   TrackName     type_of_device configuration  \\\n",
       "1  tCOMM09-1  single microphone       MOC2012   \n",
       "2  tCOMM09-2  single microphone       MOC2012   \n",
       "3  tCOMM09-3  single microphone       MOC2012   \n",
       "\n",
       "                                          microphone        recorder  \\\n",
       "1  Sennheiser omnidirectional with Telinga parabo...  Marantz PMD650   \n",
       "2  Sennheiser omnidirectional with Telinga parabo...  Marantz PMD650   \n",
       "3  Sennheiser omnidirectional with Telinga parabo...  Marantz PMD650   \n",
       "\n",
       "   sample_rate Recordist_first_name Recordist_last_name recording_date  \\\n",
       "1         44.0               Martin                Cody     2009-03-21   \n",
       "2         44.0               Martin                Cody     2009-03-21   \n",
       "3         44.0               Martin                Cody     2009-03-21   \n",
       "\n",
       "  recording_time recording_length  \\\n",
       "1       08:25:00         00:02:30   \n",
       "2       08:27:00         00:00:51   \n",
       "3       08:28:00         00:00:57   \n",
       "\n",
       "                                          Audio_file SubjectName  \\\n",
       "1  http://taylor0.biology.ucla.edu/birdDBQuery/Fi...    CATH-CP1   \n",
       "2  http://taylor0.biology.ucla.edu/birdDBQuery/Fi...    CATH-CP1   \n",
       "3  http://taylor0.biology.ucla.edu/birdDBQuery/Fi...    CATH-CP1   \n",
       "\n",
       "  subject_importance  quality_rating Species_short_name      Subject_species  \\\n",
       "1    Primary subject             4.0               CATH  California Thrasher   \n",
       "2    Primary subject             4.0               CATH  California Thrasher   \n",
       "3    Primary subject             4.0               CATH  California Thrasher   \n",
       "\n",
       "       sex           age_class    identified_by  certainty_of_species  \\\n",
       "1  Male(s)  Reproductive adult  sight and sound                   5.0   \n",
       "2  Male(s)  Reproductive adult  sight and sound                   5.0   \n",
       "3  Male(s)  Reproductive adult  sight and sound                   5.0   \n",
       "\n",
       "   latitude_degrees  latitude_minutes  latitude_seconds latitude_orientation  \\\n",
       "1              38.0              15.0             17.95                    N   \n",
       "2              38.0              15.0             17.95                    N   \n",
       "3              38.0              15.0             17.95                    N   \n",
       "\n",
       "   longitude_degrees  longitude_minutes  longitude_seconds  \\\n",
       "1              120.0               53.0               5.43   \n",
       "2              120.0               53.0               5.43   \n",
       "3              120.0               53.0               5.43   \n",
       "\n",
       "  longitude_orientation  elevation  Distance_from_marker position      Marker  \\\n",
       "1                     W      168.0                   NaN      NaN  Along road   \n",
       "2                     W      168.0                   NaN      NaN  Along road   \n",
       "3                     W      168.0                   NaN      NaN  Along road   \n",
       "\n",
       "            Area  Region country state_or_province vegetation_type  \\\n",
       "1  Lake Comanche  Amador     USA        California  Open Chapparal   \n",
       "2  Lake Comanche  Amador     USA        California  Open Chapparal   \n",
       "3  Lake Comanche  Amador     USA        California  Open Chapparal   \n",
       "\n",
       "         Analysis Analysis_date   Analysis_method  number_of_phrases  \\\n",
       "1  CATH processed    2013-02-23  Praat annotation              383.0   \n",
       "2  CATH processed    2013-02-23  Praat annotation              152.0   \n",
       "3  CATH processed    2013-02-23  Praat annotation              140.0   \n",
       "\n",
       "                               Textgrid_file  \\\n",
       "1  Files_TextGrids/2009/March/CATH1.TextGrid   \n",
       "2  Files_TextGrids/2009/March/CATH2.TextGrid   \n",
       "3  Files_TextGrids/2009/March/CATH3.TextGrid   \n",
       "\n",
       "                                        Keycode_file file_stem  \n",
       "1  Files_Keys/CATH_2009/TRIPLELETTER_N_CA_phrases...     CATH1  \n",
       "2  Files_Keys/CATH_2009/TRIPLELETTER_N_CA_phrases...     CATH2  \n",
       "3  Files_Keys/CATH_2009/TRIPLELETTER_N_CA_phrases...     CATH3  "
      ]
     },
     "execution_count": 10,
     "metadata": {},
     "output_type": "execute_result"
    }
   ],
   "source": [
    "song_db[:3]"
   ]
  },
  {
   "cell_type": "markdown",
   "metadata": {},
   "source": [
    "### Create a JSON for each wav"
   ]
  },
  {
   "cell_type": "code",
   "execution_count": 11,
   "metadata": {
    "ExecuteTime": {
     "end_time": "2019-09-30T19:21:35.336244Z",
     "start_time": "2019-09-30T19:21:16.835492Z"
    }
   },
   "outputs": [
    {
     "data": {
      "application/vnd.jupyter.widget-view+json": {
       "model_id": "433147a7777a4bd3a6aa698da9603fbc",
       "version_major": 2,
       "version_minor": 0
      },
      "text/plain": [
       "HBox(children=(IntProgress(value=0, max=95), HTML(value='')))"
      ]
     },
     "metadata": {},
     "output_type": "display_data"
    },
    {
     "name": "stdout",
     "output_type": "stream",
     "text": [
      "\n"
     ]
    }
   ],
   "source": [
    "for wavfile in tqdm(WAVLIST):\n",
    "    generate_json(\n",
    "            wavfile,\n",
    "            DT_ID,\n",
    "            song_db\n",
    "        )"
   ]
  },
  {
   "cell_type": "code",
   "execution_count": null,
   "metadata": {},
   "outputs": [],
   "source": []
  }
 ],
 "metadata": {
  "kernelspec": {
   "display_name": "Python 3",
   "language": "python",
   "name": "python3"
  },
  "language_info": {
   "codemirror_mode": {
    "name": "ipython",
    "version": 3
   },
   "file_extension": ".py",
   "mimetype": "text/x-python",
   "name": "python",
   "nbconvert_exporter": "python",
   "pygments_lexer": "ipython3",
   "version": "3.6.7"
  }
 },
 "nbformat": 4,
 "nbformat_minor": 2
}
