{
 "cells": [
  {
   "cell_type": "markdown",
   "metadata": {},
   "source": [
    "### European starling custom parsing\n",
    "- An labelled (but smaller) dataset of zebra finch vocalizations\n",
    "    - .WAV files with individual labels\n",
    "- This notebook creates a JSON corresponding to each WAV file (and Noise file where available).\n",
    "- Dataset origin:\n",
    "    - https://zenodo.org/record/3237218"
   ]
  },
  {
   "cell_type": "code",
   "execution_count": 1,
   "metadata": {
    "ExecuteTime": {
     "end_time": "2019-06-27T20:49:36.570275Z",
     "start_time": "2019-06-27T20:49:34.207698Z"
    }
   },
   "outputs": [],
   "source": [
    "from avgn.utils.general import prepare_env"
   ]
  },
  {
   "cell_type": "code",
   "execution_count": 2,
   "metadata": {
    "ExecuteTime": {
     "end_time": "2019-06-27T20:49:36.622689Z",
     "start_time": "2019-06-27T20:49:36.575234Z"
    }
   },
   "outputs": [
    {
     "name": "stdout",
     "output_type": "stream",
     "text": [
      "env: CUDA_VISIBLE_DEVICES=GPU\n"
     ]
    }
   ],
   "source": [
    "prepare_env()"
   ]
  },
  {
   "cell_type": "markdown",
   "metadata": {},
   "source": [
    "### Import relevant packages"
   ]
  },
  {
   "cell_type": "code",
   "execution_count": 3,
   "metadata": {
    "ExecuteTime": {
     "end_time": "2019-06-27T20:49:37.329073Z",
     "start_time": "2019-06-27T20:49:36.624819Z"
    }
   },
   "outputs": [
    {
     "name": "stderr",
     "output_type": "stream",
     "text": [
      "/mnt/cube/tsainbur/conda_envs/tpy3/lib/python3.6/site-packages/tqdm/autonotebook/__init__.py:14: TqdmExperimentalWarning: Using `tqdm.autonotebook.tqdm` in notebook mode. Use `tqdm.tqdm` instead to force console mode (e.g. in jupyter console)\n",
      "  \" (e.g. in jupyter console)\", TqdmExperimentalWarning)\n"
     ]
    }
   ],
   "source": [
    "from joblib import Parallel, delayed\n",
    "from tqdm.autonotebook import tqdm\n",
    "import pandas as pd\n",
    "pd.options.display.max_columns = None\n",
    "import librosa\n",
    "from datetime import datetime\n",
    "import numpy as np"
   ]
  },
  {
   "cell_type": "code",
   "execution_count": 4,
   "metadata": {
    "ExecuteTime": {
     "end_time": "2019-06-27T20:49:37.397757Z",
     "start_time": "2019-06-27T20:49:37.331093Z"
    }
   },
   "outputs": [],
   "source": [
    "import avgn\n",
    "from avgn.custom_parsing.starling_gentner import generate_json\n",
    "from avgn.utils.paths import DATA_DIR"
   ]
  },
  {
   "cell_type": "markdown",
   "metadata": {},
   "source": [
    "### Load data in original format"
   ]
  },
  {
   "cell_type": "code",
   "execution_count": 5,
   "metadata": {
    "ExecuteTime": {
     "end_time": "2019-06-27T20:49:37.454176Z",
     "start_time": "2019-06-27T20:49:37.400696Z"
    }
   },
   "outputs": [],
   "source": [
    "DATASET_ID = 'european_starling_gentner'"
   ]
  },
  {
   "cell_type": "code",
   "execution_count": 6,
   "metadata": {
    "ExecuteTime": {
     "end_time": "2019-06-27T20:49:37.554871Z",
     "start_time": "2019-06-27T20:49:37.456111Z"
    }
   },
   "outputs": [
    {
     "data": {
      "text/plain": [
       "'2019-06-27_13-49-37'"
      ]
     },
     "execution_count": 6,
     "metadata": {},
     "output_type": "execute_result"
    }
   ],
   "source": [
    "# create a unique datetime identifier for the files output by this notebook\n",
    "DT_ID = datetime.now().strftime(\"%Y-%m-%d_%H-%M-%S\")\n",
    "DT_ID"
   ]
  },
  {
   "cell_type": "code",
   "execution_count": 7,
   "metadata": {
    "ExecuteTime": {
     "end_time": "2019-06-27T20:49:37.647297Z",
     "start_time": "2019-06-27T20:49:37.556887Z"
    }
   },
   "outputs": [
    {
     "data": {
      "text/plain": [
       "PosixPath('/mnt/cube/Datasets/starling_zenodo')"
      ]
     },
     "execution_count": 7,
     "metadata": {},
     "output_type": "execute_result"
    }
   ],
   "source": [
    "DSLOC = avgn.utils.paths.Path('/mnt/cube/Datasets/starling_zenodo/')\n",
    "DSLOC"
   ]
  },
  {
   "cell_type": "code",
   "execution_count": 8,
   "metadata": {
    "ExecuteTime": {
     "end_time": "2019-06-27T20:49:37.835773Z",
     "start_time": "2019-06-27T20:49:37.649175Z"
    }
   },
   "outputs": [
    {
     "data": {
      "text/plain": [
       "(6932,\n",
       " PosixPath('/mnt/cube/Datasets/starling_zenodo/b1066/wavs/2017-11-09_13-40-55-270000.wav'))"
      ]
     },
     "execution_count": 8,
     "metadata": {},
     "output_type": "execute_result"
    }
   ],
   "source": [
    "WAVLIST = list((DSLOC).expanduser().glob('*/wavs/*.wav'))\n",
    "len(WAVLIST), WAVLIST[0]"
   ]
  },
  {
   "cell_type": "code",
   "execution_count": 9,
   "metadata": {
    "ExecuteTime": {
     "end_time": "2019-06-27T20:49:37.924929Z",
     "start_time": "2019-06-27T20:49:37.837751Z"
    }
   },
   "outputs": [
    {
     "data": {
      "text/html": [
       "<div>\n",
       "<style scoped>\n",
       "    .dataframe tbody tr th:only-of-type {\n",
       "        vertical-align: middle;\n",
       "    }\n",
       "\n",
       "    .dataframe tbody tr th {\n",
       "        vertical-align: top;\n",
       "    }\n",
       "\n",
       "    .dataframe thead th {\n",
       "        text-align: right;\n",
       "    }\n",
       "</style>\n",
       "<table border=\"1\" class=\"dataframe\">\n",
       "  <thead>\n",
       "    <tr style=\"text-align: right;\">\n",
       "      <th></th>\n",
       "      <th>indv</th>\n",
       "      <th>wavloc</th>\n",
       "      <th>wavdate</th>\n",
       "    </tr>\n",
       "  </thead>\n",
       "  <tbody>\n",
       "    <tr>\n",
       "      <th>0</th>\n",
       "      <td>b1066</td>\n",
       "      <td>/mnt/cube/Datasets/starling_zenodo/b1066/wavs/...</td>\n",
       "      <td>2017-11-09_13-40-55-270000</td>\n",
       "    </tr>\n",
       "    <tr>\n",
       "      <th>1</th>\n",
       "      <td>b1066</td>\n",
       "      <td>/mnt/cube/Datasets/starling_zenodo/b1066/wavs/...</td>\n",
       "      <td>2017-11-15_17-04-08-550000</td>\n",
       "    </tr>\n",
       "    <tr>\n",
       "      <th>2</th>\n",
       "      <td>b1066</td>\n",
       "      <td>/mnt/cube/Datasets/starling_zenodo/b1066/wavs/...</td>\n",
       "      <td>2017-11-07_15-38-52-610000</td>\n",
       "    </tr>\n",
       "  </tbody>\n",
       "</table>\n",
       "</div>"
      ],
      "text/plain": [
       "    indv                                             wavloc  \\\n",
       "0  b1066  /mnt/cube/Datasets/starling_zenodo/b1066/wavs/...   \n",
       "1  b1066  /mnt/cube/Datasets/starling_zenodo/b1066/wavs/...   \n",
       "2  b1066  /mnt/cube/Datasets/starling_zenodo/b1066/wavs/...   \n",
       "\n",
       "                      wavdate  \n",
       "0  2017-11-09_13-40-55-270000  \n",
       "1  2017-11-15_17-04-08-550000  \n",
       "2  2017-11-07_15-38-52-610000  "
      ]
     },
     "execution_count": 9,
     "metadata": {},
     "output_type": "execute_result"
    }
   ],
   "source": [
    "wav_df = pd.DataFrame([[i.parent.parent.stem, i, i.stem] for i in WAVLIST], columns = ['indv', 'wavloc', 'wavdate'])\n",
    "wav_df[:3]"
   ]
  },
  {
   "cell_type": "code",
   "execution_count": 17,
   "metadata": {
    "ExecuteTime": {
     "end_time": "2019-06-27T20:51:02.596801Z",
     "start_time": "2019-06-27T20:51:02.518511Z"
    }
   },
   "outputs": [],
   "source": [
    "wav_df = wav_df[np.array([i.stem[0] != '.' for i in wav_df.wavloc.values])]"
   ]
  },
  {
   "cell_type": "markdown",
   "metadata": {},
   "source": [
    "### generate JSON"
   ]
  },
  {
   "cell_type": "code",
   "execution_count": 19,
   "metadata": {
    "ExecuteTime": {
     "end_time": "2019-06-27T20:51:25.621618Z",
     "start_time": "2019-06-27T20:51:03.860902Z"
    }
   },
   "outputs": [
    {
     "data": {
      "application/vnd.jupyter.widget-view+json": {
       "model_id": "fe818fc3bc7e404fa32eb30896281ccc",
       "version_major": 2,
       "version_minor": 0
      },
      "text/plain": [
       "HBox(children=(IntProgress(value=0, max=6931), HTML(value='')))"
      ]
     },
     "metadata": {},
     "output_type": "display_data"
    }
   ],
   "source": [
    "for idx, row in tqdm(wav_df.iterrows(), total = len(wav_df)):\n",
    "    generate_json(row, DT_ID)"
   ]
  },
  {
   "cell_type": "code",
   "execution_count": null,
   "metadata": {},
   "outputs": [],
   "source": []
  }
 ],
 "metadata": {
  "kernelspec": {
   "display_name": "Python 3",
   "language": "python",
   "name": "python3"
  },
  "language_info": {
   "codemirror_mode": {
    "name": "ipython",
    "version": 3
   },
   "file_extension": ".py",
   "mimetype": "text/x-python",
   "name": "python",
   "nbconvert_exporter": "python",
   "pygments_lexer": "ipython3",
   "version": "3.6.7"
  }
 },
 "nbformat": 4,
 "nbformat_minor": 2
}
