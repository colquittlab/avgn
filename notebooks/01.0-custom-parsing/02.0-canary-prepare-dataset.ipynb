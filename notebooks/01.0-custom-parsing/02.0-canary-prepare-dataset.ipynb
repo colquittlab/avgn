{
 "cells": [
  {
   "cell_type": "markdown",
   "metadata": {},
   "source": [
    "### Canary vocalization dataset custom parsing\n",
    "- This dataset has:\n",
    "    - A number of WAVs where naming convention stores the individuals vocalizing and datetime of vocalization\n",
    "    - Corresponding .TextGrid files with phrase identity\n",
    "- This notebook extracts periods of vocalization into new WAV files, and creates a corresponding JSON and TextGrid for each WAV with annotation information\n",
    "- Dataset origin:\n",
    "    - Recieved via correspondance with Gardner Lab"
   ]
  },
  {
   "cell_type": "code",
   "execution_count": 1,
   "metadata": {
    "ExecuteTime": {
     "end_time": "2019-10-07T19:03:15.812649Z",
     "start_time": "2019-10-07T19:03:15.805445Z"
    }
   },
   "outputs": [],
   "source": [
    "DATASET_ID = 'canary'"
   ]
  },
  {
   "cell_type": "code",
   "execution_count": 2,
   "metadata": {
    "ExecuteTime": {
     "end_time": "2019-10-07T19:03:31.300431Z",
     "start_time": "2019-10-07T19:03:15.819095Z"
    }
   },
   "outputs": [
    {
     "name": "stderr",
     "output_type": "stream",
     "text": [
      "/mnt/cube/tsainbur/conda_envs/tpy3/lib/python3.6/site-packages/tqdm/autonotebook/__init__.py:14: TqdmExperimentalWarning: Using `tqdm.autonotebook.tqdm` in notebook mode. Use `tqdm.tqdm` instead to force console mode (e.g. in jupyter console)\n",
      "  \" (e.g. in jupyter console)\", TqdmExperimentalWarning)\n"
     ]
    }
   ],
   "source": [
    "from avgn.utils.general import prepare_env"
   ]
  },
  {
   "cell_type": "code",
   "execution_count": 3,
   "metadata": {
    "ExecuteTime": {
     "end_time": "2019-10-07T19:03:31.491750Z",
     "start_time": "2019-10-07T19:03:31.308286Z"
    }
   },
   "outputs": [
    {
     "name": "stdout",
     "output_type": "stream",
     "text": [
      "env: CUDA_VISIBLE_DEVICES=GPU\n"
     ]
    }
   ],
   "source": [
    "prepare_env()"
   ]
  },
  {
   "cell_type": "markdown",
   "metadata": {},
   "source": [
    "### Import relevant packages"
   ]
  },
  {
   "cell_type": "code",
   "execution_count": 4,
   "metadata": {
    "ExecuteTime": {
     "end_time": "2019-10-07T19:03:34.678332Z",
     "start_time": "2019-10-07T19:03:31.522403Z"
    }
   },
   "outputs": [],
   "source": [
    "from joblib import Parallel, delayed\n",
    "from tqdm.autonotebook import tqdm\n",
    "import pandas as pd\n",
    "import librosa\n",
    "from datetime import datetime\n",
    "import json\n",
    "import numpy as np"
   ]
  },
  {
   "cell_type": "code",
   "execution_count": 5,
   "metadata": {
    "ExecuteTime": {
     "end_time": "2019-10-07T19:03:34.991626Z",
     "start_time": "2019-10-07T19:03:34.690615Z"
    }
   },
   "outputs": [],
   "source": [
    "import avgn\n",
    "from avgn.custom_parsing.gardner_canary import (\n",
    "    get_phrases,\n",
    "    gen_wav_json\n",
    ")\n",
    "from avgn.utils.paths import DATA_DIR"
   ]
  },
  {
   "cell_type": "markdown",
   "metadata": {},
   "source": [
    "### Load data in original format"
   ]
  },
  {
   "cell_type": "code",
   "execution_count": 6,
   "metadata": {
    "ExecuteTime": {
     "end_time": "2019-10-07T19:03:35.094956Z",
     "start_time": "2019-10-07T19:03:35Z"
    }
   },
   "outputs": [
    {
     "data": {
      "text/plain": [
       "'2019-10-07_12-03-35'"
      ]
     },
     "execution_count": 6,
     "metadata": {},
     "output_type": "execute_result"
    }
   ],
   "source": [
    "# create a unique datetime identifier for the files output by this notebook\n",
    "DT_ID = datetime.now().strftime(\"%Y-%m-%d_%H-%M-%S\")\n",
    "DT_ID"
   ]
  },
  {
   "cell_type": "code",
   "execution_count": 7,
   "metadata": {
    "ExecuteTime": {
     "end_time": "2019-10-07T19:03:35.200012Z",
     "start_time": "2019-10-07T19:03:35.102681Z"
    }
   },
   "outputs": [],
   "source": [
    "DSLOC = avgn.utils.paths.Path('/mnt/cube/Datasets/canary/FromYarden2018')"
   ]
  },
  {
   "cell_type": "code",
   "execution_count": 8,
   "metadata": {
    "ExecuteTime": {
     "end_time": "2019-10-07T19:03:35.709591Z",
     "start_time": "2019-10-07T19:03:35.207446Z"
    }
   },
   "outputs": [
    {
     "data": {
      "text/plain": [
       "(PosixPath('/mnt/cube/Datasets/canary/FromYarden2018/TextGrids/bird1_0008_2004_03_06_08_22.TextGrid'),\n",
       " 2556)"
      ]
     },
     "execution_count": 8,
     "metadata": {},
     "output_type": "execute_result"
    }
   ],
   "source": [
    "TGLIST = np.array(list((DSLOC).expanduser().glob('TextGrids/*.TextGrid')))\n",
    "TGLIST = np.array([i for i in TGLIST if i.stem[0] != '.'])\n",
    "TGLIST[0], len(TGLIST)"
   ]
  },
  {
   "cell_type": "code",
   "execution_count": 9,
   "metadata": {
    "ExecuteTime": {
     "end_time": "2019-10-07T19:03:36.393287Z",
     "start_time": "2019-10-07T19:03:35.715759Z"
    }
   },
   "outputs": [
    {
     "data": {
      "text/plain": [
       "(PosixPath('/mnt/cube/Datasets/canary/FromYarden2018/bird_3/bird3_0067_2004_03_07_15_36.wav'),\n",
       " 3776)"
      ]
     },
     "execution_count": 9,
     "metadata": {},
     "output_type": "execute_result"
    }
   ],
   "source": [
    "WAVLIST = np.array(list((DSLOC).expanduser().glob('*/*.wav')))\n",
    "WAVLIST[0], len(WAVLIST)"
   ]
  },
  {
   "cell_type": "markdown",
   "metadata": {},
   "source": [
    "### load TextGrid data"
   ]
  },
  {
   "cell_type": "code",
   "execution_count": 10,
   "metadata": {
    "ExecuteTime": {
     "end_time": "2019-10-07T19:03:36.514282Z",
     "start_time": "2019-10-07T19:03:36.410087Z"
    }
   },
   "outputs": [],
   "source": [
    "wav_stems = np.array([i.stem for i in WAVLIST])"
   ]
  },
  {
   "cell_type": "code",
   "execution_count": 11,
   "metadata": {
    "ExecuteTime": {
     "end_time": "2019-10-07T19:06:36.135354Z",
     "start_time": "2019-10-07T19:03:36.520730Z"
    },
    "scrolled": true
   },
   "outputs": [
    {
     "data": {
      "application/vnd.jupyter.widget-view+json": {
       "model_id": "3a013452c09d4db987b02b567959dd4f",
       "version_major": 2,
       "version_minor": 0
      },
      "text/plain": [
       "HBox(children=(IntProgress(value=0, max=2556), HTML(value='')))"
      ]
     },
     "metadata": {},
     "output_type": "display_data"
    },
    {
     "name": "stderr",
     "output_type": "stream",
     "text": [
      "[Parallel(n_jobs=-1)]: Using backend LokyBackend with 24 concurrent workers.\n",
      "[Parallel(n_jobs=-1)]: Done   2 tasks      | elapsed:  1.3min\n",
      "[Parallel(n_jobs=-1)]: Done  13 tasks      | elapsed:  1.3min\n",
      "[Parallel(n_jobs=-1)]: Done  24 tasks      | elapsed:  1.3min\n",
      "[Parallel(n_jobs=-1)]: Done  37 tasks      | elapsed:  1.3min\n",
      "[Parallel(n_jobs=-1)]: Done  50 tasks      | elapsed:  1.3min\n",
      "[Parallel(n_jobs=-1)]: Done  65 tasks      | elapsed:  1.3min\n",
      "[Parallel(n_jobs=-1)]: Done  80 tasks      | elapsed:  1.4min\n",
      "[Parallel(n_jobs=-1)]: Done  97 tasks      | elapsed:  1.4min\n",
      "[Parallel(n_jobs=-1)]: Done 114 tasks      | elapsed:  1.4min\n",
      "[Parallel(n_jobs=-1)]: Done 133 tasks      | elapsed:  1.4min\n",
      "[Parallel(n_jobs=-1)]: Done 152 tasks      | elapsed:  1.4min\n",
      "[Parallel(n_jobs=-1)]: Done 173 tasks      | elapsed:  1.4min\n",
      "[Parallel(n_jobs=-1)]: Done 194 tasks      | elapsed:  1.4min\n",
      "[Parallel(n_jobs=-1)]: Done 217 tasks      | elapsed:  1.4min\n",
      "[Parallel(n_jobs=-1)]: Done 240 tasks      | elapsed:  1.4min\n",
      "[Parallel(n_jobs=-1)]: Done 265 tasks      | elapsed:  1.5min\n",
      "[Parallel(n_jobs=-1)]: Done 290 tasks      | elapsed:  1.5min\n",
      "[Parallel(n_jobs=-1)]: Done 317 tasks      | elapsed:  1.5min\n",
      "[Parallel(n_jobs=-1)]: Done 344 tasks      | elapsed:  1.5min\n",
      "[Parallel(n_jobs=-1)]: Done 373 tasks      | elapsed:  1.5min\n",
      "[Parallel(n_jobs=-1)]: Done 402 tasks      | elapsed:  1.5min\n",
      "[Parallel(n_jobs=-1)]: Done 433 tasks      | elapsed:  1.5min\n",
      "[Parallel(n_jobs=-1)]: Done 464 tasks      | elapsed:  1.5min\n",
      "[Parallel(n_jobs=-1)]: Done 497 tasks      | elapsed:  1.6min\n",
      "[Parallel(n_jobs=-1)]: Done 530 tasks      | elapsed:  1.6min\n",
      "[Parallel(n_jobs=-1)]: Done 565 tasks      | elapsed:  1.6min\n",
      "[Parallel(n_jobs=-1)]: Done 600 tasks      | elapsed:  1.6min\n",
      "[Parallel(n_jobs=-1)]: Done 637 tasks      | elapsed:  1.6min\n",
      "[Parallel(n_jobs=-1)]: Done 674 tasks      | elapsed:  1.6min\n",
      "[Parallel(n_jobs=-1)]: Done 713 tasks      | elapsed:  1.6min\n",
      "[Parallel(n_jobs=-1)]: Done 752 tasks      | elapsed:  1.6min\n",
      "[Parallel(n_jobs=-1)]: Done 793 tasks      | elapsed:  1.7min\n",
      "[Parallel(n_jobs=-1)]: Done 834 tasks      | elapsed:  1.7min\n",
      "[Parallel(n_jobs=-1)]: Done 877 tasks      | elapsed:  1.7min\n",
      "[Parallel(n_jobs=-1)]: Done 920 tasks      | elapsed:  1.7min\n",
      "[Parallel(n_jobs=-1)]: Done 965 tasks      | elapsed:  1.7min\n",
      "[Parallel(n_jobs=-1)]: Done 1010 tasks      | elapsed:  1.7min\n",
      "[Parallel(n_jobs=-1)]: Done 1057 tasks      | elapsed:  1.7min\n",
      "[Parallel(n_jobs=-1)]: Done 1104 tasks      | elapsed:  1.8min\n",
      "[Parallel(n_jobs=-1)]: Done 1153 tasks      | elapsed:  1.8min\n",
      "[Parallel(n_jobs=-1)]: Done 1202 tasks      | elapsed:  1.8min\n",
      "[Parallel(n_jobs=-1)]: Done 1253 tasks      | elapsed:  1.8min\n",
      "[Parallel(n_jobs=-1)]: Done 1304 tasks      | elapsed:  1.8min\n",
      "[Parallel(n_jobs=-1)]: Done 1357 tasks      | elapsed:  1.8min\n",
      "[Parallel(n_jobs=-1)]: Done 1410 tasks      | elapsed:  1.8min\n",
      "[Parallel(n_jobs=-1)]: Done 1465 tasks      | elapsed:  1.8min\n",
      "[Parallel(n_jobs=-1)]: Done 1520 tasks      | elapsed:  1.9min\n",
      "[Parallel(n_jobs=-1)]: Done 1577 tasks      | elapsed:  1.9min\n",
      "[Parallel(n_jobs=-1)]: Done 1634 tasks      | elapsed:  2.0min\n",
      "[Parallel(n_jobs=-1)]: Done 1693 tasks      | elapsed:  2.0min\n",
      "[Parallel(n_jobs=-1)]: Done 1752 tasks      | elapsed:  2.1min\n",
      "[Parallel(n_jobs=-1)]: Done 1813 tasks      | elapsed:  2.2min\n",
      "[Parallel(n_jobs=-1)]: Done 1874 tasks      | elapsed:  2.2min\n",
      "[Parallel(n_jobs=-1)]: Done 1937 tasks      | elapsed:  2.3min\n",
      "[Parallel(n_jobs=-1)]: Done 2000 tasks      | elapsed:  2.3min\n",
      "[Parallel(n_jobs=-1)]: Done 2065 tasks      | elapsed:  2.4min\n",
      "[Parallel(n_jobs=-1)]: Done 2130 tasks      | elapsed:  2.4min\n",
      "[Parallel(n_jobs=-1)]: Done 2197 tasks      | elapsed:  2.5min\n",
      "[Parallel(n_jobs=-1)]: Done 2264 tasks      | elapsed:  2.5min\n",
      "[Parallel(n_jobs=-1)]: Done 2333 tasks      | elapsed:  2.6min\n",
      "[Parallel(n_jobs=-1)]: Done 2402 tasks      | elapsed:  2.7min\n",
      "[Parallel(n_jobs=-1)]: Done 2473 tasks      | elapsed:  2.8min\n"
     ]
    },
    {
     "name": "stdout",
     "output_type": "stream",
     "text": [
      "\n"
     ]
    },
    {
     "name": "stderr",
     "output_type": "stream",
     "text": [
      "[Parallel(n_jobs=-1)]: Done 2556 out of 2556 | elapsed:  2.9min finished\n"
     ]
    }
   ],
   "source": [
    "with Parallel(n_jobs=-1, verbose=10) as parallel:\n",
    "    phrase_df = parallel(\n",
    "        delayed(get_phrases)(tg, WAVLIST, wav_stems)\n",
    "        for tg in tqdm(TGLIST)\n",
    "    )\n",
    "phrase_df = pd.concat(phrase_df)"
   ]
  },
  {
   "cell_type": "code",
   "execution_count": 12,
   "metadata": {
    "ExecuteTime": {
     "end_time": "2019-10-07T19:06:37.591874Z",
     "start_time": "2019-10-07T19:06:36.157249Z"
    }
   },
   "outputs": [
    {
     "data": {
      "text/html": [
       "<div>\n",
       "<style scoped>\n",
       "    .dataframe tbody tr th:only-of-type {\n",
       "        vertical-align: middle;\n",
       "    }\n",
       "\n",
       "    .dataframe tbody tr th {\n",
       "        vertical-align: top;\n",
       "    }\n",
       "\n",
       "    .dataframe thead th {\n",
       "        text-align: right;\n",
       "    }\n",
       "</style>\n",
       "<table border=\"1\" class=\"dataframe\">\n",
       "  <thead>\n",
       "    <tr style=\"text-align: right;\">\n",
       "      <th></th>\n",
       "      <th>indv</th>\n",
       "      <th>rendition</th>\n",
       "      <th>datetime</th>\n",
       "      <th>wavloc</th>\n",
       "      <th>tgloc</th>\n",
       "      <th>phrase_num</th>\n",
       "      <th>phrase_start</th>\n",
       "      <th>phrase_end</th>\n",
       "      <th>phrase_label</th>\n",
       "    </tr>\n",
       "  </thead>\n",
       "  <tbody>\n",
       "    <tr>\n",
       "      <th>0</th>\n",
       "      <td>bird1</td>\n",
       "      <td>0008</td>\n",
       "      <td>2004-03-06 08:22:00</td>\n",
       "      <td>/mnt/cube/Datasets/canary/FromYarden2018/bird_...</td>\n",
       "      <td>/mnt/cube/Datasets/canary/FromYarden2018/TextG...</td>\n",
       "      <td>0</td>\n",
       "      <td>0.062792</td>\n",
       "      <td>4.417292</td>\n",
       "      <td>1</td>\n",
       "    </tr>\n",
       "    <tr>\n",
       "      <th>1</th>\n",
       "      <td>bird1</td>\n",
       "      <td>0008</td>\n",
       "      <td>2004-03-06 08:22:00</td>\n",
       "      <td>/mnt/cube/Datasets/canary/FromYarden2018/bird_...</td>\n",
       "      <td>/mnt/cube/Datasets/canary/FromYarden2018/TextG...</td>\n",
       "      <td>1</td>\n",
       "      <td>4.438958</td>\n",
       "      <td>4.853333</td>\n",
       "      <td>11</td>\n",
       "    </tr>\n",
       "    <tr>\n",
       "      <th>2</th>\n",
       "      <td>bird1</td>\n",
       "      <td>0008</td>\n",
       "      <td>2004-03-06 08:22:00</td>\n",
       "      <td>/mnt/cube/Datasets/canary/FromYarden2018/bird_...</td>\n",
       "      <td>/mnt/cube/Datasets/canary/FromYarden2018/TextG...</td>\n",
       "      <td>2</td>\n",
       "      <td>4.875000</td>\n",
       "      <td>5.893333</td>\n",
       "      <td>5</td>\n",
       "    </tr>\n",
       "  </tbody>\n",
       "</table>\n",
       "</div>"
      ],
      "text/plain": [
       "    indv rendition            datetime  \\\n",
       "0  bird1      0008 2004-03-06 08:22:00   \n",
       "1  bird1      0008 2004-03-06 08:22:00   \n",
       "2  bird1      0008 2004-03-06 08:22:00   \n",
       "\n",
       "                                              wavloc  \\\n",
       "0  /mnt/cube/Datasets/canary/FromYarden2018/bird_...   \n",
       "1  /mnt/cube/Datasets/canary/FromYarden2018/bird_...   \n",
       "2  /mnt/cube/Datasets/canary/FromYarden2018/bird_...   \n",
       "\n",
       "                                               tgloc phrase_num  phrase_start  \\\n",
       "0  /mnt/cube/Datasets/canary/FromYarden2018/TextG...          0      0.062792   \n",
       "1  /mnt/cube/Datasets/canary/FromYarden2018/TextG...          1      4.438958   \n",
       "2  /mnt/cube/Datasets/canary/FromYarden2018/TextG...          2      4.875000   \n",
       "\n",
       "   phrase_end phrase_label  \n",
       "0    4.417292            1  \n",
       "1    4.853333           11  \n",
       "2    5.893333            5  "
      ]
     },
     "execution_count": 12,
     "metadata": {},
     "output_type": "execute_result"
    }
   ],
   "source": [
    "phrase_df[:3]"
   ]
  },
  {
   "cell_type": "markdown",
   "metadata": {},
   "source": [
    "### Reformat and create JSON"
   ]
  },
  {
   "cell_type": "code",
   "execution_count": 13,
   "metadata": {
    "ExecuteTime": {
     "end_time": "2019-10-07T19:06:37.635652Z",
     "start_time": "2019-10-07T19:06:37.595163Z"
    }
   },
   "outputs": [],
   "source": [
    "save_wav=False # should we generate a new wav file, or just reference the original?"
   ]
  },
  {
   "cell_type": "code",
   "execution_count": 14,
   "metadata": {
    "ExecuteTime": {
     "end_time": "2019-10-07T19:09:02.057123Z",
     "start_time": "2019-10-07T19:06:37.640081Z"
    },
    "scrolled": true
   },
   "outputs": [
    {
     "data": {
      "application/vnd.jupyter.widget-view+json": {
       "model_id": "fcfbc8bfaf654805ad434e57fcdde4e3",
       "version_major": 2,
       "version_minor": 0
      },
      "text/plain": [
       "HBox(children=(IntProgress(value=0, max=2556), HTML(value='')))"
      ]
     },
     "metadata": {},
     "output_type": "display_data"
    },
    {
     "name": "stderr",
     "output_type": "stream",
     "text": [
      "[Parallel(n_jobs=-1)]: Using backend LokyBackend with 24 concurrent workers.\n",
      "[Parallel(n_jobs=-1)]: Done   2 tasks      | elapsed:    0.4s\n",
      "[Parallel(n_jobs=-1)]: Done  10 tasks      | elapsed:    1.5s\n",
      "[Parallel(n_jobs=-1)]: Done  13 tasks      | elapsed:    1.9s\n",
      "[Parallel(n_jobs=-1)]: Done  27 tasks      | elapsed:    3.8s\n",
      "[Parallel(n_jobs=-1)]: Done  50 tasks      | elapsed:    6.3s\n",
      "[Parallel(n_jobs=-1)]: Done  65 tasks      | elapsed:    7.6s\n",
      "[Parallel(n_jobs=-1)]: Done  80 tasks      | elapsed:    8.7s\n",
      "[Parallel(n_jobs=-1)]: Done  97 tasks      | elapsed:    9.9s\n",
      "[Parallel(n_jobs=-1)]: Done 114 tasks      | elapsed:   11.1s\n",
      "[Parallel(n_jobs=-1)]: Done 133 tasks      | elapsed:   12.4s\n",
      "[Parallel(n_jobs=-1)]: Done 152 tasks      | elapsed:   13.9s\n",
      "[Parallel(n_jobs=-1)]: Done 173 tasks      | elapsed:   15.5s\n",
      "[Parallel(n_jobs=-1)]: Done 194 tasks      | elapsed:   17.5s\n",
      "[Parallel(n_jobs=-1)]: Done 217 tasks      | elapsed:   19.2s\n",
      "[Parallel(n_jobs=-1)]: Done 240 tasks      | elapsed:   21.2s\n",
      "[Parallel(n_jobs=-1)]: Done 265 tasks      | elapsed:   22.8s\n",
      "[Parallel(n_jobs=-1)]: Done 290 tasks      | elapsed:   24.4s\n",
      "[Parallel(n_jobs=-1)]: Done 317 tasks      | elapsed:   25.9s\n",
      "[Parallel(n_jobs=-1)]: Done 344 tasks      | elapsed:   27.8s\n",
      "[Parallel(n_jobs=-1)]: Done 373 tasks      | elapsed:   29.4s\n",
      "[Parallel(n_jobs=-1)]: Done 402 tasks      | elapsed:   31.4s\n",
      "[Parallel(n_jobs=-1)]: Done 433 tasks      | elapsed:   33.2s\n",
      "[Parallel(n_jobs=-1)]: Done 464 tasks      | elapsed:   34.8s\n",
      "[Parallel(n_jobs=-1)]: Done 497 tasks      | elapsed:   36.4s\n",
      "[Parallel(n_jobs=-1)]: Done 530 tasks      | elapsed:   37.9s\n",
      "[Parallel(n_jobs=-1)]: Done 565 tasks      | elapsed:   39.8s\n",
      "[Parallel(n_jobs=-1)]: Done 600 tasks      | elapsed:   41.3s\n",
      "[Parallel(n_jobs=-1)]: Done 637 tasks      | elapsed:   43.2s\n",
      "[Parallel(n_jobs=-1)]: Done 674 tasks      | elapsed:   45.2s\n",
      "[Parallel(n_jobs=-1)]: Done 713 tasks      | elapsed:   47.3s\n",
      "[Parallel(n_jobs=-1)]: Done 752 tasks      | elapsed:   48.9s\n",
      "[Parallel(n_jobs=-1)]: Done 793 tasks      | elapsed:   50.9s\n",
      "[Parallel(n_jobs=-1)]: Done 834 tasks      | elapsed:   52.9s\n",
      "[Parallel(n_jobs=-1)]: Done 877 tasks      | elapsed:   54.4s\n",
      "[Parallel(n_jobs=-1)]: Done 920 tasks      | elapsed:   55.9s\n",
      "[Parallel(n_jobs=-1)]: Done 965 tasks      | elapsed:   58.0s\n",
      "[Parallel(n_jobs=-1)]: Done 1010 tasks      | elapsed:  1.0min\n",
      "[Parallel(n_jobs=-1)]: Done 1057 tasks      | elapsed:  1.0min\n",
      "[Parallel(n_jobs=-1)]: Done 1104 tasks      | elapsed:  1.1min\n",
      "[Parallel(n_jobs=-1)]: Done 1153 tasks      | elapsed:  1.1min\n",
      "[Parallel(n_jobs=-1)]: Done 1202 tasks      | elapsed:  1.2min\n",
      "[Parallel(n_jobs=-1)]: Done 1253 tasks      | elapsed:  1.2min\n",
      "[Parallel(n_jobs=-1)]: Done 1304 tasks      | elapsed:  1.3min\n",
      "[Parallel(n_jobs=-1)]: Done 1357 tasks      | elapsed:  1.3min\n",
      "[Parallel(n_jobs=-1)]: Done 1410 tasks      | elapsed:  1.4min\n",
      "[Parallel(n_jobs=-1)]: Done 1465 tasks      | elapsed:  1.4min\n",
      "[Parallel(n_jobs=-1)]: Done 1520 tasks      | elapsed:  1.4min\n",
      "[Parallel(n_jobs=-1)]: Done 1577 tasks      | elapsed:  1.5min\n",
      "[Parallel(n_jobs=-1)]: Done 1634 tasks      | elapsed:  1.6min\n",
      "[Parallel(n_jobs=-1)]: Done 1693 tasks      | elapsed:  1.6min\n",
      "[Parallel(n_jobs=-1)]: Done 1752 tasks      | elapsed:  1.7min\n",
      "[Parallel(n_jobs=-1)]: Done 1813 tasks      | elapsed:  1.7min\n",
      "[Parallel(n_jobs=-1)]: Done 1874 tasks      | elapsed:  1.8min\n",
      "[Parallel(n_jobs=-1)]: Done 1937 tasks      | elapsed:  1.9min\n",
      "[Parallel(n_jobs=-1)]: Done 2000 tasks      | elapsed:  1.9min\n",
      "[Parallel(n_jobs=-1)]: Done 2065 tasks      | elapsed:  2.0min\n",
      "[Parallel(n_jobs=-1)]: Done 2130 tasks      | elapsed:  2.1min\n",
      "[Parallel(n_jobs=-1)]: Done 2197 tasks      | elapsed:  2.1min\n",
      "[Parallel(n_jobs=-1)]: Done 2264 tasks      | elapsed:  2.2min\n",
      "[Parallel(n_jobs=-1)]: Done 2333 tasks      | elapsed:  2.2min\n",
      "[Parallel(n_jobs=-1)]: Done 2402 tasks      | elapsed:  2.3min\n",
      "[Parallel(n_jobs=-1)]: Done 2473 tasks      | elapsed:  2.4min\n"
     ]
    },
    {
     "name": "stdout",
     "output_type": "stream",
     "text": [
      "\n"
     ]
    },
    {
     "name": "stderr",
     "output_type": "stream",
     "text": [
      "[Parallel(n_jobs=-1)]: Done 2556 out of 2556 | elapsed:  2.4min finished\n"
     ]
    }
   ],
   "source": [
    "with Parallel(n_jobs=-1, verbose=10) as parallel:\n",
    "    parallel(\n",
    "        delayed(gen_wav_json)(wf, phrase_df[phrase_df.wavloc == wf].sort_values(by='phrase_num'), DT_ID, save_wav=save_wav)\n",
    "        for wf in tqdm(phrase_df.wavloc.unique())\n",
    "    );"
   ]
  },
  {
   "cell_type": "code",
   "execution_count": null,
   "metadata": {},
   "outputs": [],
   "source": []
  }
 ],
 "metadata": {
  "kernelspec": {
   "display_name": "Python 3",
   "language": "python",
   "name": "python3"
  },
  "language_info": {
   "codemirror_mode": {
    "name": "ipython",
    "version": 3
   },
   "file_extension": ".py",
   "mimetype": "text/x-python",
   "name": "python",
   "nbconvert_exporter": "python",
   "pygments_lexer": "ipython3",
   "version": "3.6.7"
  }
 },
 "nbformat": 4,
 "nbformat_minor": 2
}
