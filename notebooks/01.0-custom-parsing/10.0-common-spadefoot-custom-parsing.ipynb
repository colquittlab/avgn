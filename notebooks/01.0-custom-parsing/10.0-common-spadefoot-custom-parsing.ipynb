{
 "cells": [
  {
   "cell_type": "markdown",
   "metadata": {},
   "source": [
    "### Common spadefoot custom parsing\n",
    "- This dataset consists of around 550 relatively well parsed frog vocalizations. Most WAVs contain only one vocalization. Songs are recorded by Leonie ten Hagen. Some contain more than one. Recordings are from a paper by Leonie ten Hagen:\n",
    "    - A CSV with information about where each song is recorded, age, sex, call type\n",
    "    - WAV files for vocalization\n",
    "- This notebook creates a JSON corresponding to each WAV file (and Noise file where available).\n",
    "- Dataset origin:\n",
    "    - http://www.tierstimmenarchiv.de/webinterface/contents/treebrowser.php\n",
    "    - https://link.springer.com/article/10.1007/s00114-016-1401-0"
   ]
  },
  {
   "cell_type": "code",
   "execution_count": 1,
   "metadata": {
    "ExecuteTime": {
     "end_time": "2019-06-24T16:01:50.487557Z",
     "start_time": "2019-06-24T16:01:48.429934Z"
    }
   },
   "outputs": [],
   "source": [
    "from avgn.utils.general import prepare_env"
   ]
  },
  {
   "cell_type": "code",
   "execution_count": 2,
   "metadata": {
    "ExecuteTime": {
     "end_time": "2019-06-24T16:01:50.526286Z",
     "start_time": "2019-06-24T16:01:50.489968Z"
    }
   },
   "outputs": [
    {
     "name": "stdout",
     "output_type": "stream",
     "text": [
      "env: CUDA_VISIBLE_DEVICES=GPU\n"
     ]
    }
   ],
   "source": [
    "prepare_env()"
   ]
  },
  {
   "cell_type": "markdown",
   "metadata": {},
   "source": [
    "### Import relevant packages"
   ]
  },
  {
   "cell_type": "code",
   "execution_count": 3,
   "metadata": {
    "ExecuteTime": {
     "end_time": "2019-06-24T16:01:51.176033Z",
     "start_time": "2019-06-24T16:01:50.528229Z"
    }
   },
   "outputs": [
    {
     "name": "stderr",
     "output_type": "stream",
     "text": [
      "/mnt/cube/tsainbur/conda_envs/tpy3/lib/python3.6/site-packages/tqdm/autonotebook/__init__.py:14: TqdmExperimentalWarning: Using `tqdm.autonotebook.tqdm` in notebook mode. Use `tqdm.tqdm` instead to force console mode (e.g. in jupyter console)\n",
      "  \" (e.g. in jupyter console)\", TqdmExperimentalWarning)\n"
     ]
    }
   ],
   "source": [
    "from joblib import Parallel, delayed\n",
    "from tqdm.autonotebook import tqdm\n",
    "import pandas as pd\n",
    "pd.options.display.max_columns = None\n",
    "import librosa\n",
    "from datetime import datetime\n",
    "import numpy as np"
   ]
  },
  {
   "cell_type": "code",
   "execution_count": 4,
   "metadata": {
    "ExecuteTime": {
     "end_time": "2019-06-24T16:01:51.217585Z",
     "start_time": "2019-06-24T16:01:51.178134Z"
    }
   },
   "outputs": [],
   "source": [
    "import avgn\n",
    "from avgn.custom_parsing.hagen_common_spadefoot import generate_wav_json\n",
    "from avgn.utils.paths import DATA_DIR"
   ]
  },
  {
   "cell_type": "markdown",
   "metadata": {},
   "source": [
    "### Load data in original format"
   ]
  },
  {
   "cell_type": "code",
   "execution_count": 5,
   "metadata": {
    "ExecuteTime": {
     "end_time": "2019-06-24T16:01:51.301333Z",
     "start_time": "2019-06-24T16:01:51.219581Z"
    }
   },
   "outputs": [],
   "source": [
    "DATASET_ID = 'hagen_common_spadefoot'"
   ]
  },
  {
   "cell_type": "code",
   "execution_count": 6,
   "metadata": {
    "ExecuteTime": {
     "end_time": "2019-06-24T16:01:51.409082Z",
     "start_time": "2019-06-24T16:01:51.305436Z"
    }
   },
   "outputs": [
    {
     "data": {
      "text/plain": [
       "'2019-06-24_09-01-51'"
      ]
     },
     "execution_count": 6,
     "metadata": {},
     "output_type": "execute_result"
    }
   ],
   "source": [
    "# create a unique datetime identifier for the files output by this notebook\n",
    "DT_ID = datetime.now().strftime(\"%Y-%m-%d_%H-%M-%S\")\n",
    "DT_ID"
   ]
  },
  {
   "cell_type": "code",
   "execution_count": 7,
   "metadata": {
    "ExecuteTime": {
     "end_time": "2019-06-24T16:01:51.492139Z",
     "start_time": "2019-06-24T16:01:51.412634Z"
    }
   },
   "outputs": [
    {
     "data": {
      "text/plain": [
       "PosixPath('/mnt/cube/Datasets/animalsoundarchive/pelobates_fuscus')"
      ]
     },
     "execution_count": 7,
     "metadata": {},
     "output_type": "execute_result"
    }
   ],
   "source": [
    "DSLOC = avgn.utils.paths.Path('/mnt/cube/Datasets/animalsoundarchive/pelobates_fuscus/')\n",
    "DSLOC"
   ]
  },
  {
   "cell_type": "code",
   "execution_count": 8,
   "metadata": {
    "ExecuteTime": {
     "end_time": "2019-06-24T16:01:51.607295Z",
     "start_time": "2019-06-24T16:01:51.494891Z"
    }
   },
   "outputs": [
    {
     "data": {
      "text/plain": [
       "(560,\n",
       " array([PosixPath('/mnt/cube/Datasets/animalsoundarchive/pelobates_fuscus/Pelobates_fuscus_juvenil_LtH_0526_short.mp3'),\n",
       "        PosixPath('/mnt/cube/Datasets/animalsoundarchive/pelobates_fuscus/Pelobates_fuscus_juvenil_LtH_0527_short.mp3')],\n",
       "       dtype=object))"
      ]
     },
     "execution_count": 8,
     "metadata": {},
     "output_type": "execute_result"
    }
   ],
   "source": [
    "fg_list = list(DSLOC.glob('*.mp3'))\n",
    "len(fg_list), np.sort(fg_list)[-2:]"
   ]
  },
  {
   "cell_type": "code",
   "execution_count": 9,
   "metadata": {
    "ExecuteTime": {
     "end_time": "2019-06-24T16:01:52.140018Z",
     "start_time": "2019-06-24T16:01:51.609828Z"
    }
   },
   "outputs": [
    {
     "data": {
      "text/html": [
       "<div>\n",
       "<style scoped>\n",
       "    .dataframe tbody tr th:only-of-type {\n",
       "        vertical-align: middle;\n",
       "    }\n",
       "\n",
       "    .dataframe tbody tr th {\n",
       "        vertical-align: top;\n",
       "    }\n",
       "\n",
       "    .dataframe thead th {\n",
       "        text-align: right;\n",
       "    }\n",
       "</style>\n",
       "<table border=\"1\" class=\"dataframe\">\n",
       "  <thead>\n",
       "    <tr style=\"text-align: right;\">\n",
       "      <th></th>\n",
       "      <th>filename</th>\n",
       "      <th>species</th>\n",
       "      <th>locality</th>\n",
       "      <th>administrative_area</th>\n",
       "      <th>country</th>\n",
       "      <th>state</th>\n",
       "      <th>recording_date</th>\n",
       "      <th>sex</th>\n",
       "      <th>age</th>\n",
       "      <th>sound_type</th>\n",
       "      <th>collection</th>\n",
       "      <th>filename_ext</th>\n",
       "      <th>description</th>\n",
       "      <th>duration</th>\n",
       "      <th>notes</th>\n",
       "      <th>unique_identifier</th>\n",
       "      <th>bytes</th>\n",
       "      <th>recording_type</th>\n",
       "      <th>collection</th>\n",
       "      <th>notes</th>\n",
       "    </tr>\n",
       "  </thead>\n",
       "  <tbody>\n",
       "    <tr>\n",
       "      <th>15070</th>\n",
       "      <td>Pelobates_fuscus_adult_LtH_0001</td>\n",
       "      <td>Pelobates fuscus</td>\n",
       "      <td>Ennigerloh</td>\n",
       "      <td>Warendorf</td>\n",
       "      <td>DE</td>\n",
       "      <td>Nordrhein-Westfalen</td>\n",
       "      <td>8.4.2015</td>\n",
       "      <td>NaN</td>\n",
       "      <td>adult</td>\n",
       "      <td>advertisment call</td>\n",
       "      <td>TSA</td>\n",
       "      <td>Pelobates_fuscus_adult_LtH_0001_short.mp3</td>\n",
       "      <td>Rufe adulter Knoblauchkröten aufgenommen in de...</td>\n",
       "      <td>00:00:01</td>\n",
       "      <td>NaN</td>\n",
       "      <td>TSA:Pelobates_fuscus_adult_LtH_0001</td>\n",
       "      <td>17000.0</td>\n",
       "      <td>z</td>\n",
       "      <td>TSA</td>\n",
       "      <td>NaN</td>\n",
       "    </tr>\n",
       "    <tr>\n",
       "      <th>15071</th>\n",
       "      <td>Pelobates_fuscus_adult_LtH_0002</td>\n",
       "      <td>Pelobates fuscus</td>\n",
       "      <td>Ennigerloh</td>\n",
       "      <td>Warendorf</td>\n",
       "      <td>DE</td>\n",
       "      <td>Nordrhein-Westfalen</td>\n",
       "      <td>8.4.2015</td>\n",
       "      <td>NaN</td>\n",
       "      <td>adult</td>\n",
       "      <td>advertisment call</td>\n",
       "      <td>TSA</td>\n",
       "      <td>Pelobates_fuscus_adult_LtH_0002_short.mp3</td>\n",
       "      <td>Rufe adulter Knoblauchkröten aufgenommen in de...</td>\n",
       "      <td>00:00:01</td>\n",
       "      <td>NaN</td>\n",
       "      <td>TSA:Pelobates_fuscus_adult_LtH_0002</td>\n",
       "      <td>17000.0</td>\n",
       "      <td>z</td>\n",
       "      <td>TSA</td>\n",
       "      <td>NaN</td>\n",
       "    </tr>\n",
       "    <tr>\n",
       "      <th>15072</th>\n",
       "      <td>Pelobates_fuscus_adult_LtH_0003</td>\n",
       "      <td>Pelobates fuscus</td>\n",
       "      <td>Ennigerloh</td>\n",
       "      <td>Warendorf</td>\n",
       "      <td>DE</td>\n",
       "      <td>Nordrhein-Westfalen</td>\n",
       "      <td>8.4.2015</td>\n",
       "      <td>NaN</td>\n",
       "      <td>adult</td>\n",
       "      <td>advertisment call</td>\n",
       "      <td>TSA</td>\n",
       "      <td>Pelobates_fuscus_adult_LtH_0003_short.mp3</td>\n",
       "      <td>Rufe adulter Knoblauchkröten aufgenommen in de...</td>\n",
       "      <td>00:00:01</td>\n",
       "      <td>NaN</td>\n",
       "      <td>TSA:Pelobates_fuscus_adult_LtH_0003</td>\n",
       "      <td>17000.0</td>\n",
       "      <td>z</td>\n",
       "      <td>TSA</td>\n",
       "      <td>NaN</td>\n",
       "    </tr>\n",
       "  </tbody>\n",
       "</table>\n",
       "</div>"
      ],
      "text/plain": [
       "                              filename           species    locality  \\\n",
       "15070  Pelobates_fuscus_adult_LtH_0001  Pelobates fuscus  Ennigerloh   \n",
       "15071  Pelobates_fuscus_adult_LtH_0002  Pelobates fuscus  Ennigerloh   \n",
       "15072  Pelobates_fuscus_adult_LtH_0003  Pelobates fuscus  Ennigerloh   \n",
       "\n",
       "      administrative_area country                state recording_date  sex  \\\n",
       "15070           Warendorf      DE  Nordrhein-Westfalen       8.4.2015  NaN   \n",
       "15071           Warendorf      DE  Nordrhein-Westfalen       8.4.2015  NaN   \n",
       "15072           Warendorf      DE  Nordrhein-Westfalen       8.4.2015  NaN   \n",
       "\n",
       "         age         sound_type collection  \\\n",
       "15070  adult  advertisment call        TSA   \n",
       "15071  adult  advertisment call        TSA   \n",
       "15072  adult  advertisment call        TSA   \n",
       "\n",
       "                                    filename_ext  \\\n",
       "15070  Pelobates_fuscus_adult_LtH_0001_short.mp3   \n",
       "15071  Pelobates_fuscus_adult_LtH_0002_short.mp3   \n",
       "15072  Pelobates_fuscus_adult_LtH_0003_short.mp3   \n",
       "\n",
       "                                             description  duration notes  \\\n",
       "15070  Rufe adulter Knoblauchkröten aufgenommen in de...  00:00:01   NaN   \n",
       "15071  Rufe adulter Knoblauchkröten aufgenommen in de...  00:00:01   NaN   \n",
       "15072  Rufe adulter Knoblauchkröten aufgenommen in de...  00:00:01   NaN   \n",
       "\n",
       "                         unique_identifier    bytes recording_type collection  \\\n",
       "15070  TSA:Pelobates_fuscus_adult_LtH_0001  17000.0              z        TSA   \n",
       "15071  TSA:Pelobates_fuscus_adult_LtH_0002  17000.0              z        TSA   \n",
       "15072  TSA:Pelobates_fuscus_adult_LtH_0003  17000.0              z        TSA   \n",
       "\n",
       "      notes  \n",
       "15070   NaN  \n",
       "15071   NaN  \n",
       "15072   NaN  "
      ]
     },
     "execution_count": 9,
     "metadata": {},
     "output_type": "execute_result"
    }
   ],
   "source": [
    "vocalization_lib = pd.read_csv(DSLOC.parent / 'recording_df.csv')\n",
    "voc_df = vocalization_lib[(vocalization_lib.species == 'Pelobates fuscus')  & (vocalization_lib.author == 'ten Hagen, Leonie')]\n",
    "\n",
    "voc_df = voc_df[\n",
    "    [\n",
    "        \"filename\",\n",
    "        \"species\",\n",
    "        \"locality\",\n",
    "        \"administrative_area\",\n",
    "        \"country\",\n",
    "        \"state\",\n",
    "        \"recording_date\",\n",
    "        \"sex\",\n",
    "        \"age\",\n",
    "        \"sound_type\",\n",
    "        \"collection\",\n",
    "        \"filename_ext\",\n",
    "        \"description\",\n",
    "        \"duration\",\n",
    "        \"notes\",\n",
    "        \"unique_identifier\",\n",
    "        \"bytes\",\n",
    "        \"recording_type\",\n",
    "        \"collection\",\n",
    "        \"notes\"\n",
    "    ]\n",
    "]\n",
    "voc_df[:3]\n"
   ]
  },
  {
   "cell_type": "markdown",
   "metadata": {},
   "source": [
    "### Generate JSON for each wav"
   ]
  },
  {
   "cell_type": "code",
   "execution_count": 21,
   "metadata": {
    "ExecuteTime": {
     "end_time": "2019-06-24T16:08:53.606751Z",
     "start_time": "2019-06-24T16:05:58.864028Z"
    },
    "scrolled": false
   },
   "outputs": [
    {
     "data": {
      "application/vnd.jupyter.widget-view+json": {
       "model_id": "e3892549506a4446a72cab068aeed5a4",
       "version_major": 2,
       "version_minor": 0
      },
      "text/plain": [
       "HBox(children=(IntProgress(value=0, max=560), HTML(value='')))"
      ]
     },
     "metadata": {},
     "output_type": "display_data"
    },
    {
     "name": "stderr",
     "output_type": "stream",
     "text": [
      "[Parallel(n_jobs=1)]: Using backend SequentialBackend with 1 concurrent workers.\n",
      "[Parallel(n_jobs=1)]: Done   1 out of   1 | elapsed:    0.3s remaining:    0.0s\n",
      "[Parallel(n_jobs=1)]: Done   2 out of   2 | elapsed:    0.6s remaining:    0.0s\n",
      "[Parallel(n_jobs=1)]: Done   3 out of   3 | elapsed:    0.8s remaining:    0.0s\n",
      "[Parallel(n_jobs=1)]: Done   4 out of   4 | elapsed:    1.1s remaining:    0.0s\n",
      "[Parallel(n_jobs=1)]: Done   5 out of   5 | elapsed:    1.4s remaining:    0.0s\n",
      "[Parallel(n_jobs=1)]: Done   6 out of   6 | elapsed:    1.9s remaining:    0.0s\n",
      "[Parallel(n_jobs=1)]: Done   7 out of   7 | elapsed:    2.1s remaining:    0.0s\n",
      "[Parallel(n_jobs=1)]: Done   8 out of   8 | elapsed:    2.5s remaining:    0.0s\n",
      "[Parallel(n_jobs=1)]: Done   9 out of   9 | elapsed:    2.8s remaining:    0.0s\n",
      "[Parallel(n_jobs=1)]: Done 560 out of 560 | elapsed:  2.9min finished\n"
     ]
    }
   ],
   "source": [
    "with Parallel(n_jobs=1, verbose=10) as parallel:\n",
    "    parallel(\n",
    "        delayed(generate_wav_json)(\n",
    "            row,\n",
    "            DT_ID,\n",
    "            mp3_path = np.array(fg_list)[row.filename_ext == np.array([i.name for i in fg_list])][0]\n",
    "        )\n",
    "        for idx, row in tqdm(voc_df.iterrows(), total = len(voc_df))\n",
    "    );"
   ]
  },
  {
   "cell_type": "code",
   "execution_count": null,
   "metadata": {},
   "outputs": [],
   "source": []
  }
 ],
 "metadata": {
  "kernelspec": {
   "display_name": "Python 3",
   "language": "python",
   "name": "python3"
  },
  "language_info": {
   "codemirror_mode": {
    "name": "ipython",
    "version": 3
   },
   "file_extension": ".py",
   "mimetype": "text/x-python",
   "name": "python",
   "nbconvert_exporter": "python",
   "pygments_lexer": "ipython3",
   "version": "3.6.8"
  }
 },
 "nbformat": 4,
 "nbformat_minor": 2
}
