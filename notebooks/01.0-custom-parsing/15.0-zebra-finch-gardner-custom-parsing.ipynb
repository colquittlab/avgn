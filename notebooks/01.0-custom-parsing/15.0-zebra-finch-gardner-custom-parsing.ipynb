{
 "cells": [
  {
   "cell_type": "markdown",
   "metadata": {},
   "source": [
    "### Zebra finch custom parsing\n",
    "- An unlabelled dataset of zebra finch vocalizations\n",
    "    - ,MAT files with rate and data\n",
    "- This notebook creates a JSON corresponding to each WAV file (and Noise file where available).\n",
    "- Dataset origin:\n",
    "    - https://journals.plos.org/plosone/article?id=10.1371/journal.pone.0181992\n",
    "    - https://osf.io/bx76r/"
   ]
  },
  {
   "cell_type": "code",
   "execution_count": 1,
   "metadata": {
    "ExecuteTime": {
     "end_time": "2019-10-08T17:16:02.467015Z",
     "start_time": "2019-10-08T17:15:53.842288Z"
    }
   },
   "outputs": [
    {
     "name": "stderr",
     "output_type": "stream",
     "text": [
      "/mnt/cube/tsainbur/conda_envs/tpy3/lib/python3.6/site-packages/tqdm/autonotebook/__init__.py:14: TqdmExperimentalWarning: Using `tqdm.autonotebook.tqdm` in notebook mode. Use `tqdm.tqdm` instead to force console mode (e.g. in jupyter console)\n",
      "  \" (e.g. in jupyter console)\", TqdmExperimentalWarning)\n"
     ]
    }
   ],
   "source": [
    "from avgn.utils.general import prepare_env"
   ]
  },
  {
   "cell_type": "code",
   "execution_count": 2,
   "metadata": {
    "ExecuteTime": {
     "end_time": "2019-10-08T17:16:02.531642Z",
     "start_time": "2019-10-08T17:16:02.470511Z"
    }
   },
   "outputs": [
    {
     "name": "stdout",
     "output_type": "stream",
     "text": [
      "env: CUDA_VISIBLE_DEVICES=GPU\n"
     ]
    }
   ],
   "source": [
    "prepare_env()"
   ]
  },
  {
   "cell_type": "markdown",
   "metadata": {},
   "source": [
    "### Import relevant packages"
   ]
  },
  {
   "cell_type": "code",
   "execution_count": 3,
   "metadata": {
    "ExecuteTime": {
     "end_time": "2019-10-08T17:16:03.562795Z",
     "start_time": "2019-10-08T17:16:02.534159Z"
    }
   },
   "outputs": [],
   "source": [
    "from joblib import Parallel, delayed\n",
    "from tqdm.autonotebook import tqdm\n",
    "import pandas as pd\n",
    "pd.options.display.max_columns = None\n",
    "import librosa\n",
    "from datetime import datetime\n",
    "import numpy as np"
   ]
  },
  {
   "cell_type": "code",
   "execution_count": 4,
   "metadata": {
    "ExecuteTime": {
     "end_time": "2019-10-08T17:16:03.705183Z",
     "start_time": "2019-10-08T17:16:03.565933Z"
    }
   },
   "outputs": [],
   "source": [
    "import avgn\n",
    "from avgn.custom_parsing.zebra_finch_gardner import generate_json_wav_noise\n",
    "from avgn.utils.paths import DATA_DIR"
   ]
  },
  {
   "cell_type": "markdown",
   "metadata": {},
   "source": [
    "### Load data in original format"
   ]
  },
  {
   "cell_type": "code",
   "execution_count": 5,
   "metadata": {
    "ExecuteTime": {
     "end_time": "2019-10-08T17:16:03.737592Z",
     "start_time": "2019-10-08T17:16:03.707182Z"
    }
   },
   "outputs": [],
   "source": [
    "DATASET_ID = 'zebra_finch_gardner'"
   ]
  },
  {
   "cell_type": "code",
   "execution_count": 6,
   "metadata": {
    "ExecuteTime": {
     "end_time": "2019-10-08T17:16:03.817953Z",
     "start_time": "2019-10-08T17:16:03.739669Z"
    }
   },
   "outputs": [
    {
     "data": {
      "text/plain": [
       "'2019-10-08_10-16-03'"
      ]
     },
     "execution_count": 6,
     "metadata": {},
     "output_type": "execute_result"
    }
   ],
   "source": [
    "# create a unique datetime identifier for the files output by this notebook\n",
    "DT_ID = datetime.now().strftime(\"%Y-%m-%d_%H-%M-%S\")\n",
    "DT_ID"
   ]
  },
  {
   "cell_type": "code",
   "execution_count": 8,
   "metadata": {
    "ExecuteTime": {
     "end_time": "2019-10-08T17:16:08.390479Z",
     "start_time": "2019-10-08T17:16:08.334137Z"
    }
   },
   "outputs": [
    {
     "data": {
      "text/plain": [
       "PosixPath('/mnt/cube/Datasets/ZebraFinch/OSF-BX76R')"
      ]
     },
     "execution_count": 8,
     "metadata": {},
     "output_type": "execute_result"
    }
   ],
   "source": [
    "DSLOC = avgn.utils.paths.Path('/mnt/cube/Datasets/ZebraFinch/OSF-BX76R/')\n",
    "DSLOC"
   ]
  },
  {
   "cell_type": "code",
   "execution_count": 9,
   "metadata": {
    "ExecuteTime": {
     "end_time": "2019-10-08T17:16:09.180330Z",
     "start_time": "2019-10-08T17:16:08.521717Z"
    }
   },
   "outputs": [
    {
     "data": {
      "text/plain": [
       "(8, PosixPath('/mnt/cube/Datasets/ZebraFinch/OSF-BX76R/lr13/song.mat'))"
      ]
     },
     "execution_count": 9,
     "metadata": {},
     "output_type": "execute_result"
    }
   ],
   "source": [
    "MATFILES = list((DSLOC).expanduser().glob('*/[!.]*.mat')) \n",
    "len(MATFILES), MATFILES[0]"
   ]
  },
  {
   "cell_type": "code",
   "execution_count": 10,
   "metadata": {
    "ExecuteTime": {
     "end_time": "2019-10-08T17:16:09.237748Z",
     "start_time": "2019-10-08T17:16:09.184896Z"
    }
   },
   "outputs": [
    {
     "data": {
      "text/plain": [
       "[PosixPath('/mnt/cube/Datasets/ZebraFinch/OSF-BX76R/lr13/song.mat'),\n",
       " PosixPath('/mnt/cube/Datasets/ZebraFinch/OSF-BX76R/lr77/song.mat'),\n",
       " PosixPath('/mnt/cube/Datasets/ZebraFinch/OSF-BX76R/lr28/song.mat'),\n",
       " PosixPath('/mnt/cube/Datasets/ZebraFinch/OSF-BX76R/lny46/song.mat'),\n",
       " PosixPath('/mnt/cube/Datasets/ZebraFinch/OSF-BX76R/lny4rb/song.mat'),\n",
       " PosixPath('/mnt/cube/Datasets/ZebraFinch/OSF-BX76R/lr12/song.mat'),\n",
       " PosixPath('/mnt/cube/Datasets/ZebraFinch/OSF-BX76R/lny64/song.mat'),\n",
       " PosixPath('/mnt/cube/Datasets/ZebraFinch/OSF-BX76R/lny42/song.mat')]"
      ]
     },
     "execution_count": 10,
     "metadata": {},
     "output_type": "execute_result"
    }
   ],
   "source": [
    "MATFILES"
   ]
  },
  {
   "cell_type": "markdown",
   "metadata": {},
   "source": [
    "### parse MAT and create wav/JSON"
   ]
  },
  {
   "cell_type": "code",
   "execution_count": 11,
   "metadata": {
    "ExecuteTime": {
     "end_time": "2019-10-08T17:17:20.696588Z",
     "start_time": "2019-10-08T17:17:19.921402Z"
    }
   },
   "outputs": [],
   "source": [
    "import h5py as h5"
   ]
  },
  {
   "cell_type": "code",
   "execution_count": 12,
   "metadata": {
    "ExecuteTime": {
     "end_time": "2019-10-08T17:21:01.605240Z",
     "start_time": "2019-10-08T17:17:24.766306Z"
    }
   },
   "outputs": [
    {
     "data": {
      "application/vnd.jupyter.widget-view+json": {
       "model_id": "2947c3dd80ef4ec884169021a2bde643",
       "version_major": 2,
       "version_minor": 0
      },
      "text/plain": [
       "HBox(children=(IntProgress(value=0, max=8), HTML(value='')))"
      ]
     },
     "metadata": {},
     "output_type": "display_data"
    },
    {
     "data": {
      "application/vnd.jupyter.widget-view+json": {
       "model_id": "68fea00939514b0b9d746efac130ff71",
       "version_major": 2,
       "version_minor": 0
      },
      "text/plain": [
       "HBox(children=(IntProgress(value=0, max=3000), HTML(value='')))"
      ]
     },
     "metadata": {},
     "output_type": "display_data"
    },
    {
     "name": "stderr",
     "output_type": "stream",
     "text": [
      "[Parallel(n_jobs=-1)]: Using backend LokyBackend with 24 concurrent workers.\n",
      "[Parallel(n_jobs=-1)]: Done   2 tasks      | elapsed:   17.9s\n",
      "[Parallel(n_jobs=-1)]: Done  13 tasks      | elapsed:   18.0s\n",
      "[Parallel(n_jobs=-1)]: Done  24 tasks      | elapsed:   18.0s\n",
      "[Parallel(n_jobs=-1)]: Done  37 tasks      | elapsed:   18.1s\n",
      "[Parallel(n_jobs=-1)]: Done  50 tasks      | elapsed:   18.2s\n",
      "[Parallel(n_jobs=-1)]: Done  65 tasks      | elapsed:   18.2s\n",
      "[Parallel(n_jobs=-1)]: Done  80 tasks      | elapsed:   18.3s\n",
      "[Parallel(n_jobs=-1)]: Batch computation too fast (0.1997s.) Setting batch_size=2.\n",
      "[Parallel(n_jobs=-1)]: Done  97 tasks      | elapsed:   18.3s\n",
      "[Parallel(n_jobs=-1)]: Done 114 tasks      | elapsed:   18.4s\n",
      "[Parallel(n_jobs=-1)]: Done 137 tasks      | elapsed:   18.6s\n",
      "[Parallel(n_jobs=-1)]: Done 175 tasks      | elapsed:   19.2s\n",
      "[Parallel(n_jobs=-1)]: Done 217 tasks      | elapsed:   19.4s\n",
      "[Parallel(n_jobs=-1)]: Done 259 tasks      | elapsed:   19.6s\n",
      "[Parallel(n_jobs=-1)]: Done 305 tasks      | elapsed:   20.1s\n",
      "[Parallel(n_jobs=-1)]: Done 351 tasks      | elapsed:   20.2s\n",
      "[Parallel(n_jobs=-1)]: Done 401 tasks      | elapsed:   20.4s\n",
      "[Parallel(n_jobs=-1)]: Done 451 tasks      | elapsed:   20.6s\n",
      "[Parallel(n_jobs=-1)]: Done 505 tasks      | elapsed:   20.7s\n",
      "[Parallel(n_jobs=-1)]: Done 559 tasks      | elapsed:   21.1s\n",
      "[Parallel(n_jobs=-1)]: Done 617 tasks      | elapsed:   21.3s\n",
      "[Parallel(n_jobs=-1)]: Done 675 tasks      | elapsed:   21.9s\n",
      "[Parallel(n_jobs=-1)]: Done 737 tasks      | elapsed:   22.1s\n",
      "[Parallel(n_jobs=-1)]: Done 799 tasks      | elapsed:   22.3s\n",
      "[Parallel(n_jobs=-1)]: Done 865 tasks      | elapsed:   22.6s\n",
      "[Parallel(n_jobs=-1)]: Done 931 tasks      | elapsed:   22.8s\n",
      "[Parallel(n_jobs=-1)]: Done 1001 tasks      | elapsed:   23.0s\n",
      "[Parallel(n_jobs=-1)]: Done 1071 tasks      | elapsed:   23.9s\n",
      "[Parallel(n_jobs=-1)]: Done 1145 tasks      | elapsed:   26.1s\n",
      "[Parallel(n_jobs=-1)]: Batch computation too slow (2.0114s.) Setting batch_size=1.\n",
      "[Parallel(n_jobs=-1)]: Done 1219 tasks      | elapsed:   26.3s\n",
      "[Parallel(n_jobs=-1)]: Done 1271 tasks      | elapsed:   26.5s\n",
      "[Parallel(n_jobs=-1)]: Batch computation too fast (0.1979s.) Setting batch_size=2.\n",
      "[Parallel(n_jobs=-1)]: Done 1310 tasks      | elapsed:   26.6s\n",
      "[Parallel(n_jobs=-1)]: Done 1384 tasks      | elapsed:   26.9s\n",
      "[Parallel(n_jobs=-1)]: Done 1466 tasks      | elapsed:   27.1s\n",
      "[Parallel(n_jobs=-1)]: Done 1552 tasks      | elapsed:   27.5s\n",
      "[Parallel(n_jobs=-1)]: Done 1638 tasks      | elapsed:   27.8s\n",
      "[Parallel(n_jobs=-1)]: Done 1728 tasks      | elapsed:   28.1s\n",
      "[Parallel(n_jobs=-1)]: Done 1818 tasks      | elapsed:   28.8s\n",
      "[Parallel(n_jobs=-1)]: Done 1912 tasks      | elapsed:   29.1s\n",
      "[Parallel(n_jobs=-1)]: Batch computation too slow (2.1999s.) Setting batch_size=1.\n",
      "[Parallel(n_jobs=-1)]: Done 2006 tasks      | elapsed:   32.5s\n",
      "[Parallel(n_jobs=-1)]: Done 2081 tasks      | elapsed:   33.2s\n",
      "[Parallel(n_jobs=-1)]: Done 2130 tasks      | elapsed:   33.4s\n",
      "[Parallel(n_jobs=-1)]: Batch computation too fast (0.1985s.) Setting batch_size=2.\n",
      "[Parallel(n_jobs=-1)]: Done 2184 tasks      | elapsed:   33.6s\n",
      "[Parallel(n_jobs=-1)]: Done 2286 tasks      | elapsed:   34.0s\n",
      "[Parallel(n_jobs=-1)]: Done 2392 tasks      | elapsed:   34.3s\n",
      "[Parallel(n_jobs=-1)]: Done 2498 tasks      | elapsed:   34.6s\n",
      "[Parallel(n_jobs=-1)]: Done 2608 tasks      | elapsed:   35.0s\n",
      "[Parallel(n_jobs=-1)]: Done 2718 tasks      | elapsed:   35.6s\n",
      "[Parallel(n_jobs=-1)]: Done 2832 tasks      | elapsed:   36.0s\n",
      "[Parallel(n_jobs=-1)]: Done 3000 out of 3000 | elapsed:   36.7s finished\n"
     ]
    },
    {
     "data": {
      "application/vnd.jupyter.widget-view+json": {
       "model_id": "bf19c793d8a4494d9176eb82e83c48e3",
       "version_major": 2,
       "version_minor": 0
      },
      "text/plain": [
       "HBox(children=(IntProgress(value=0, max=3000), HTML(value='')))"
      ]
     },
     "metadata": {},
     "output_type": "display_data"
    },
    {
     "name": "stderr",
     "output_type": "stream",
     "text": [
      "[Parallel(n_jobs=-1)]: Using backend LokyBackend with 24 concurrent workers.\n",
      "[Parallel(n_jobs=-1)]: Done   2 tasks      | elapsed:    1.9s\n",
      "[Parallel(n_jobs=-1)]: Done  13 tasks      | elapsed:    2.0s\n",
      "[Parallel(n_jobs=-1)]: Done  24 tasks      | elapsed:    2.0s\n",
      "[Parallel(n_jobs=-1)]: Done  37 tasks      | elapsed:    2.1s\n",
      "[Parallel(n_jobs=-1)]: Done  50 tasks      | elapsed:    2.1s\n",
      "[Parallel(n_jobs=-1)]: Done  65 tasks      | elapsed:    2.2s\n",
      "[Parallel(n_jobs=-1)]: Done  80 tasks      | elapsed:    2.3s\n",
      "[Parallel(n_jobs=-1)]: Done  97 tasks      | elapsed:    2.4s\n",
      "[Parallel(n_jobs=-1)]: Done 114 tasks      | elapsed:    2.5s\n",
      "[Parallel(n_jobs=-1)]: Batch computation too fast (0.1997s.) Setting batch_size=2.\n",
      "[Parallel(n_jobs=-1)]: Done 133 tasks      | elapsed:    2.5s\n",
      "[Parallel(n_jobs=-1)]: Done 152 tasks      | elapsed:    2.6s\n",
      "[Parallel(n_jobs=-1)]: Done 177 tasks      | elapsed:    2.8s\n",
      "[Parallel(n_jobs=-1)]: Done 219 tasks      | elapsed:    2.9s\n",
      "[Parallel(n_jobs=-1)]: Done 265 tasks      | elapsed:    3.0s\n",
      "[Parallel(n_jobs=-1)]: Done 311 tasks      | elapsed:    3.2s\n",
      "[Parallel(n_jobs=-1)]: Done 361 tasks      | elapsed:    3.4s\n",
      "[Parallel(n_jobs=-1)]: Done 411 tasks      | elapsed:    3.6s\n",
      "[Parallel(n_jobs=-1)]: Done 465 tasks      | elapsed:    3.8s\n",
      "[Parallel(n_jobs=-1)]: Done 519 tasks      | elapsed:    4.0s\n",
      "[Parallel(n_jobs=-1)]: Done 577 tasks      | elapsed:    4.2s\n",
      "[Parallel(n_jobs=-1)]: Done 635 tasks      | elapsed:    4.4s\n",
      "[Parallel(n_jobs=-1)]: Done 697 tasks      | elapsed:    4.6s\n",
      "[Parallel(n_jobs=-1)]: Done 759 tasks      | elapsed:    4.9s\n",
      "[Parallel(n_jobs=-1)]: Done 825 tasks      | elapsed:    5.1s\n",
      "[Parallel(n_jobs=-1)]: Done 891 tasks      | elapsed:    5.3s\n",
      "[Parallel(n_jobs=-1)]: Done 961 tasks      | elapsed:    5.6s\n",
      "[Parallel(n_jobs=-1)]: Done 1031 tasks      | elapsed:    5.9s\n",
      "[Parallel(n_jobs=-1)]: Done 1105 tasks      | elapsed:    7.5s\n",
      "[Parallel(n_jobs=-1)]: Done 1179 tasks      | elapsed:    9.1s\n",
      "[Parallel(n_jobs=-1)]: Batch computation too slow (2.0087s.) Setting batch_size=1.\n",
      "[Parallel(n_jobs=-1)]: Done 1257 tasks      | elapsed:    9.8s\n",
      "[Parallel(n_jobs=-1)]: Done 1323 tasks      | elapsed:   10.1s\n",
      "[Parallel(n_jobs=-1)]: Done 1372 tasks      | elapsed:   10.3s\n",
      "[Parallel(n_jobs=-1)]: Done 1413 tasks      | elapsed:   10.5s\n",
      "[Parallel(n_jobs=-1)]: Done 1456 tasks      | elapsed:   10.8s\n",
      "[Parallel(n_jobs=-1)]: Done 1499 tasks      | elapsed:   11.0s\n",
      "[Parallel(n_jobs=-1)]: Batch computation too fast (0.1985s.) Setting batch_size=2.\n",
      "[Parallel(n_jobs=-1)]: Done 1544 tasks      | elapsed:   11.1s\n",
      "[Parallel(n_jobs=-1)]: Done 1631 tasks      | elapsed:   11.5s\n",
      "[Parallel(n_jobs=-1)]: Done 1725 tasks      | elapsed:   11.8s\n",
      "[Parallel(n_jobs=-1)]: Done 1819 tasks      | elapsed:   12.2s\n",
      "[Parallel(n_jobs=-1)]: Done 1917 tasks      | elapsed:   12.5s\n",
      "[Parallel(n_jobs=-1)]: Done 2015 tasks      | elapsed:   13.3s\n",
      "[Parallel(n_jobs=-1)]: Done 2117 tasks      | elapsed:   13.7s\n",
      "[Parallel(n_jobs=-1)]: Done 2219 tasks      | elapsed:   14.1s\n",
      "[Parallel(n_jobs=-1)]: Done 2325 tasks      | elapsed:   14.5s\n",
      "[Parallel(n_jobs=-1)]: Done 2431 tasks      | elapsed:   14.9s\n",
      "[Parallel(n_jobs=-1)]: Done 2541 tasks      | elapsed:   15.3s\n",
      "[Parallel(n_jobs=-1)]: Done 2651 tasks      | elapsed:   16.2s\n",
      "[Parallel(n_jobs=-1)]: Done 2765 tasks      | elapsed:   16.6s\n",
      "[Parallel(n_jobs=-1)]: Done 2879 tasks      | elapsed:   17.0s\n",
      "[Parallel(n_jobs=-1)]: Done 2953 out of 3000 | elapsed:   17.3s remaining:    0.3s\n",
      "[Parallel(n_jobs=-1)]: Done 3000 out of 3000 | elapsed:   17.4s finished\n"
     ]
    },
    {
     "data": {
      "application/vnd.jupyter.widget-view+json": {
       "model_id": "e60a02b4acc34f31b7d6296d2a0542b6",
       "version_major": 2,
       "version_minor": 0
      },
      "text/plain": [
       "HBox(children=(IntProgress(value=0, max=4000), HTML(value='')))"
      ]
     },
     "metadata": {},
     "output_type": "display_data"
    },
    {
     "name": "stderr",
     "output_type": "stream",
     "text": [
      "[Parallel(n_jobs=-1)]: Using backend LokyBackend with 24 concurrent workers.\n",
      "[Parallel(n_jobs=-1)]: Done   2 tasks      | elapsed:    1.7s\n",
      "[Parallel(n_jobs=-1)]: Done  13 tasks      | elapsed:    1.8s\n",
      "[Parallel(n_jobs=-1)]: Done  24 tasks      | elapsed:    1.8s\n",
      "[Parallel(n_jobs=-1)]: Done  37 tasks      | elapsed:    1.8s\n",
      "[Parallel(n_jobs=-1)]: Done  50 tasks      | elapsed:    1.9s\n",
      "[Parallel(n_jobs=-1)]: Done  65 tasks      | elapsed:    2.0s\n",
      "[Parallel(n_jobs=-1)]: Batch computation too fast (0.1981s.) Setting batch_size=2.\n",
      "[Parallel(n_jobs=-1)]: Done  80 tasks      | elapsed:    2.0s\n",
      "[Parallel(n_jobs=-1)]: Done  97 tasks      | elapsed:    2.1s\n",
      "[Parallel(n_jobs=-1)]: Done 114 tasks      | elapsed:    2.1s\n",
      "[Parallel(n_jobs=-1)]: Batch computation too fast (0.1668s.) Setting batch_size=4.\n",
      "[Parallel(n_jobs=-1)]: Done 151 tasks      | elapsed:    2.2s\n",
      "[Parallel(n_jobs=-1)]: Done 189 tasks      | elapsed:    2.3s\n",
      "[Parallel(n_jobs=-1)]: Done 251 tasks      | elapsed:    2.5s\n",
      "[Parallel(n_jobs=-1)]: Done 335 tasks      | elapsed:    3.0s\n",
      "[Parallel(n_jobs=-1)]: Done 427 tasks      | elapsed:    3.2s\n",
      "[Parallel(n_jobs=-1)]: Done 519 tasks      | elapsed:    3.5s\n",
      "[Parallel(n_jobs=-1)]: Done 619 tasks      | elapsed:    4.0s\n",
      "[Parallel(n_jobs=-1)]: Done 719 tasks      | elapsed:    4.2s\n",
      "[Parallel(n_jobs=-1)]: Done 827 tasks      | elapsed:    4.5s\n",
      "[Parallel(n_jobs=-1)]: Done 935 tasks      | elapsed:    4.8s\n",
      "[Parallel(n_jobs=-1)]: Done 1051 tasks      | elapsed:    5.2s\n",
      "[Parallel(n_jobs=-1)]: Done 1167 tasks      | elapsed:    5.4s\n",
      "[Parallel(n_jobs=-1)]: Done 1291 tasks      | elapsed:    5.8s\n",
      "[Parallel(n_jobs=-1)]: Done 1415 tasks      | elapsed:    6.2s\n",
      "[Parallel(n_jobs=-1)]: Done 1547 tasks      | elapsed:    6.5s\n",
      "[Parallel(n_jobs=-1)]: Done 1679 tasks      | elapsed:    6.9s\n",
      "[Parallel(n_jobs=-1)]: Done 1819 tasks      | elapsed:    7.3s\n",
      "[Parallel(n_jobs=-1)]: Done 1959 tasks      | elapsed:    7.6s\n",
      "[Parallel(n_jobs=-1)]: Done 2107 tasks      | elapsed:    8.1s\n",
      "[Parallel(n_jobs=-1)]: Done 2255 tasks      | elapsed:    8.6s\n",
      "[Parallel(n_jobs=-1)]: Done 2411 tasks      | elapsed:    8.9s\n",
      "[Parallel(n_jobs=-1)]: Done 2567 tasks      | elapsed:    9.5s\n",
      "[Parallel(n_jobs=-1)]: Done 2731 tasks      | elapsed:   10.0s\n",
      "[Parallel(n_jobs=-1)]: Done 2895 tasks      | elapsed:   10.3s\n",
      "[Parallel(n_jobs=-1)]: Done 3067 tasks      | elapsed:   10.8s\n",
      "[Parallel(n_jobs=-1)]: Done 3239 tasks      | elapsed:   11.2s\n",
      "[Parallel(n_jobs=-1)]: Done 3419 tasks      | elapsed:   11.7s\n",
      "[Parallel(n_jobs=-1)]: Done 3599 tasks      | elapsed:   12.2s\n",
      "[Parallel(n_jobs=-1)]: Done 3787 tasks      | elapsed:   12.7s\n",
      "[Parallel(n_jobs=-1)]: Done 4000 out of 4000 | elapsed:   13.1s finished\n"
     ]
    },
    {
     "name": "stdout",
     "output_type": "stream",
     "text": [
      "lny46 failed\n",
      "lny4rb failed\n"
     ]
    },
    {
     "data": {
      "application/vnd.jupyter.widget-view+json": {
       "model_id": "23b8d147d0a046008d496e3f96f335a4",
       "version_major": 2,
       "version_minor": 0
      },
      "text/plain": [
       "HBox(children=(IntProgress(value=0, max=3000), HTML(value='')))"
      ]
     },
     "metadata": {},
     "output_type": "display_data"
    },
    {
     "name": "stderr",
     "output_type": "stream",
     "text": [
      "[Parallel(n_jobs=-1)]: Using backend LokyBackend with 24 concurrent workers.\n",
      "[Parallel(n_jobs=-1)]: Done   2 tasks      | elapsed:    1.5s\n",
      "[Parallel(n_jobs=-1)]: Done  13 tasks      | elapsed:    1.6s\n",
      "[Parallel(n_jobs=-1)]: Done  24 tasks      | elapsed:    1.6s\n",
      "[Parallel(n_jobs=-1)]: Done  37 tasks      | elapsed:    1.7s\n",
      "[Parallel(n_jobs=-1)]: Done  50 tasks      | elapsed:    1.7s\n",
      "[Parallel(n_jobs=-1)]: Batch computation too fast (0.1940s.) Setting batch_size=2.\n",
      "[Parallel(n_jobs=-1)]: Done  65 tasks      | elapsed:    1.7s\n",
      "[Parallel(n_jobs=-1)]: Done  80 tasks      | elapsed:    1.8s\n",
      "[Parallel(n_jobs=-1)]: Done  97 tasks      | elapsed:    1.8s\n",
      "[Parallel(n_jobs=-1)]: Batch computation too fast (0.1992s.) Setting batch_size=4.\n",
      "[Parallel(n_jobs=-1)]: Done 118 tasks      | elapsed:    1.9s\n",
      "[Parallel(n_jobs=-1)]: Done 156 tasks      | elapsed:    2.0s\n",
      "[Parallel(n_jobs=-1)]: Done 194 tasks      | elapsed:    2.1s\n",
      "[Parallel(n_jobs=-1)]: Done 266 tasks      | elapsed:    2.7s\n",
      "[Parallel(n_jobs=-1)]: Done 350 tasks      | elapsed:    2.9s\n",
      "[Parallel(n_jobs=-1)]: Done 442 tasks      | elapsed:    3.2s\n",
      "[Parallel(n_jobs=-1)]: Done 534 tasks      | elapsed:    3.5s\n",
      "[Parallel(n_jobs=-1)]: Done 634 tasks      | elapsed:    3.8s\n",
      "[Parallel(n_jobs=-1)]: Done 734 tasks      | elapsed:    4.1s\n",
      "[Parallel(n_jobs=-1)]: Done 842 tasks      | elapsed:    4.4s\n",
      "[Parallel(n_jobs=-1)]: Done 950 tasks      | elapsed:    4.7s\n",
      "[Parallel(n_jobs=-1)]: Done 1066 tasks      | elapsed:    5.0s\n",
      "[Parallel(n_jobs=-1)]: Done 1182 tasks      | elapsed:    5.4s\n",
      "[Parallel(n_jobs=-1)]: Done 1306 tasks      | elapsed:    5.9s\n",
      "[Parallel(n_jobs=-1)]: Done 1430 tasks      | elapsed:    6.2s\n",
      "[Parallel(n_jobs=-1)]: Done 1562 tasks      | elapsed:    6.7s\n",
      "[Parallel(n_jobs=-1)]: Done 1694 tasks      | elapsed:    7.2s\n",
      "[Parallel(n_jobs=-1)]: Done 1834 tasks      | elapsed:    7.6s\n",
      "[Parallel(n_jobs=-1)]: Done 1974 tasks      | elapsed:    8.2s\n",
      "[Parallel(n_jobs=-1)]: Done 2122 tasks      | elapsed:    8.7s\n",
      "[Parallel(n_jobs=-1)]: Done 2270 tasks      | elapsed:    9.2s\n",
      "[Parallel(n_jobs=-1)]: Done 2426 tasks      | elapsed:    9.7s\n",
      "[Parallel(n_jobs=-1)]: Done 2582 tasks      | elapsed:   10.1s\n",
      "[Parallel(n_jobs=-1)]: Done 2746 tasks      | elapsed:   10.6s\n",
      "[Parallel(n_jobs=-1)]: Done 3000 out of 3000 | elapsed:   11.3s finished\n"
     ]
    },
    {
     "data": {
      "application/vnd.jupyter.widget-view+json": {
       "model_id": "19a7a0c2015741e0bf491cf6d614c408",
       "version_major": 2,
       "version_minor": 0
      },
      "text/plain": [
       "HBox(children=(IntProgress(value=0, max=2818), HTML(value='')))"
      ]
     },
     "metadata": {},
     "output_type": "display_data"
    },
    {
     "name": "stderr",
     "output_type": "stream",
     "text": [
      "[Parallel(n_jobs=-1)]: Using backend LokyBackend with 24 concurrent workers.\n",
      "[Parallel(n_jobs=-1)]: Done   2 tasks      | elapsed:    8.2s\n",
      "[Parallel(n_jobs=-1)]: Done  13 tasks      | elapsed:    8.2s\n",
      "[Parallel(n_jobs=-1)]: Done  24 tasks      | elapsed:    8.2s\n",
      "[Parallel(n_jobs=-1)]: Done  37 tasks      | elapsed:    8.3s\n",
      "[Parallel(n_jobs=-1)]: Done  50 tasks      | elapsed:    8.3s\n",
      "[Parallel(n_jobs=-1)]: Done  65 tasks      | elapsed:    8.3s\n",
      "[Parallel(n_jobs=-1)]: Batch computation too fast (0.1825s.) Setting batch_size=2.\n",
      "[Parallel(n_jobs=-1)]: Done  80 tasks      | elapsed:    8.4s\n",
      "[Parallel(n_jobs=-1)]: Done  97 tasks      | elapsed:    9.4s\n",
      "[Parallel(n_jobs=-1)]: Done 114 tasks      | elapsed:    9.5s\n",
      "[Parallel(n_jobs=-1)]: Done 149 tasks      | elapsed:    9.6s\n",
      "[Parallel(n_jobs=-1)]: Done 187 tasks      | elapsed:    9.7s\n",
      "[Parallel(n_jobs=-1)]: Done 229 tasks      | elapsed:   10.1s\n",
      "[Parallel(n_jobs=-1)]: Batch computation too slow (2.3494s.) Setting batch_size=1.\n",
      "[Parallel(n_jobs=-1)]: Done 271 tasks      | elapsed:   18.0s\n",
      "[Parallel(n_jobs=-1)]: Done 317 tasks      | elapsed:   18.4s\n",
      "[Parallel(n_jobs=-1)]: Done 360 tasks      | elapsed:   18.5s\n",
      "[Parallel(n_jobs=-1)]: Done 386 tasks      | elapsed:   18.9s\n",
      "[Parallel(n_jobs=-1)]: Done 411 tasks      | elapsed:   19.4s\n",
      "[Parallel(n_jobs=-1)]: Done 438 tasks      | elapsed:   19.4s\n",
      "[Parallel(n_jobs=-1)]: Batch computation too fast (0.1907s.) Setting batch_size=2.\n",
      "[Parallel(n_jobs=-1)]: Done 465 tasks      | elapsed:   19.5s\n",
      "[Parallel(n_jobs=-1)]: Batch computation too fast (0.1488s.) Setting batch_size=4.\n",
      "[Parallel(n_jobs=-1)]: Done 496 tasks      | elapsed:   19.6s\n",
      "[Parallel(n_jobs=-1)]: Done 554 tasks      | elapsed:   19.7s\n",
      "[Parallel(n_jobs=-1)]: Done 644 tasks      | elapsed:   20.2s\n",
      "[Parallel(n_jobs=-1)]: Done 768 tasks      | elapsed:   20.6s\n",
      "[Parallel(n_jobs=-1)]: Done 900 tasks      | elapsed:   21.9s\n",
      "[Parallel(n_jobs=-1)]: Done 1032 tasks      | elapsed:   22.3s\n",
      "[Parallel(n_jobs=-1)]: Done 1172 tasks      | elapsed:   22.6s\n",
      "[Parallel(n_jobs=-1)]: Done 1312 tasks      | elapsed:   22.9s\n",
      "[Parallel(n_jobs=-1)]: Done 1460 tasks      | elapsed:   23.3s\n",
      "[Parallel(n_jobs=-1)]: Batch computation too slow (2.3804s.) Setting batch_size=2.\n",
      "[Parallel(n_jobs=-1)]: Done 1608 tasks      | elapsed:   27.1s\n",
      "[Parallel(n_jobs=-1)]: Done 1750 tasks      | elapsed:   28.9s\n",
      "[Parallel(n_jobs=-1)]: Done 1834 tasks      | elapsed:   29.1s\n",
      "[Parallel(n_jobs=-1)]: Done 1916 tasks      | elapsed:   29.3s\n",
      "[Parallel(n_jobs=-1)]: Done 1998 tasks      | elapsed:   29.5s\n",
      "[Parallel(n_jobs=-1)]: Done 2084 tasks      | elapsed:   29.7s\n",
      "[Parallel(n_jobs=-1)]: Done 2170 tasks      | elapsed:   30.0s\n",
      "[Parallel(n_jobs=-1)]: Done 2260 tasks      | elapsed:   30.2s\n",
      "[Parallel(n_jobs=-1)]: Done 2350 tasks      | elapsed:   30.4s\n",
      "[Parallel(n_jobs=-1)]: Batch computation too fast (0.1970s.) Setting batch_size=4.\n",
      "[Parallel(n_jobs=-1)]: Done 2444 tasks      | elapsed:   30.6s\n",
      "[Parallel(n_jobs=-1)]: Done 2548 tasks      | elapsed:   30.9s\n",
      "[Parallel(n_jobs=-1)]: Done 2818 out of 2818 | elapsed:   33.7s finished\n"
     ]
    },
    {
     "data": {
      "application/vnd.jupyter.widget-view+json": {
       "model_id": "1006f7cdbc794bb2a208b4f46c2aebf1",
       "version_major": 2,
       "version_minor": 0
      },
      "text/plain": [
       "HBox(children=(IntProgress(value=0, max=2245), HTML(value='')))"
      ]
     },
     "metadata": {},
     "output_type": "display_data"
    },
    {
     "name": "stderr",
     "output_type": "stream",
     "text": [
      "[Parallel(n_jobs=-1)]: Using backend LokyBackend with 24 concurrent workers.\n",
      "[Parallel(n_jobs=-1)]: Done   2 tasks      | elapsed:    0.7s\n",
      "[Parallel(n_jobs=-1)]: Done  13 tasks      | elapsed:    0.7s\n",
      "[Parallel(n_jobs=-1)]: Done  24 tasks      | elapsed:    0.8s\n",
      "[Parallel(n_jobs=-1)]: Done  37 tasks      | elapsed:    0.8s\n",
      "[Parallel(n_jobs=-1)]: Done  50 tasks      | elapsed:    0.8s\n",
      "[Parallel(n_jobs=-1)]: Batch computation too fast (0.1983s.) Setting batch_size=2.\n",
      "[Parallel(n_jobs=-1)]: Done  65 tasks      | elapsed:    0.9s\n",
      "[Parallel(n_jobs=-1)]: Done  80 tasks      | elapsed:    0.9s\n",
      "[Parallel(n_jobs=-1)]: Done  97 tasks      | elapsed:    1.0s\n",
      "[Parallel(n_jobs=-1)]: Done 121 tasks      | elapsed:    1.2s\n",
      "[Parallel(n_jobs=-1)]: Done 159 tasks      | elapsed:    1.8s\n",
      "[Parallel(n_jobs=-1)]: Done 197 tasks      | elapsed:    1.9s\n",
      "[Parallel(n_jobs=-1)]: Done 239 tasks      | elapsed:    2.0s\n",
      "[Parallel(n_jobs=-1)]: Done 281 tasks      | elapsed:    2.6s\n",
      "[Parallel(n_jobs=-1)]: Done 327 tasks      | elapsed:    2.8s\n",
      "[Parallel(n_jobs=-1)]: Done 373 tasks      | elapsed:    3.9s\n",
      "[Parallel(n_jobs=-1)]: Done 423 tasks      | elapsed:    4.1s\n",
      "[Parallel(n_jobs=-1)]: Done 473 tasks      | elapsed:    5.2s\n",
      "[Parallel(n_jobs=-1)]: Done 527 tasks      | elapsed:    5.7s\n",
      "[Parallel(n_jobs=-1)]: Done 581 tasks      | elapsed:    6.8s\n",
      "[Parallel(n_jobs=-1)]: Done 639 tasks      | elapsed:    7.1s\n",
      "[Parallel(n_jobs=-1)]: Batch computation too slow (2.0912s.) Setting batch_size=1.\n",
      "[Parallel(n_jobs=-1)]: Done 697 tasks      | elapsed:    8.7s\n",
      "[Parallel(n_jobs=-1)]: Done 746 tasks      | elapsed:    8.8s\n",
      "[Parallel(n_jobs=-1)]: Done 782 tasks      | elapsed:    8.9s\n",
      "[Parallel(n_jobs=-1)]: Done 815 tasks      | elapsed:    9.8s\n",
      "[Parallel(n_jobs=-1)]: Done 848 tasks      | elapsed:   10.0s\n",
      "[Parallel(n_jobs=-1)]: Done 883 tasks      | elapsed:   10.1s\n",
      "[Parallel(n_jobs=-1)]: Batch computation too fast (0.1971s.) Setting batch_size=2.\n",
      "[Parallel(n_jobs=-1)]: Done 918 tasks      | elapsed:   10.6s\n",
      "[Parallel(n_jobs=-1)]: Done 969 tasks      | elapsed:   11.5s\n",
      "[Parallel(n_jobs=-1)]: Done 1043 tasks      | elapsed:   12.2s\n",
      "[Parallel(n_jobs=-1)]: Done 1121 tasks      | elapsed:   12.8s\n",
      "[Parallel(n_jobs=-1)]: Done 1199 tasks      | elapsed:   13.6s\n",
      "[Parallel(n_jobs=-1)]: Done 1281 tasks      | elapsed:   14.0s\n",
      "[Parallel(n_jobs=-1)]: Done 1363 tasks      | elapsed:   14.3s\n",
      "[Parallel(n_jobs=-1)]: Done 1449 tasks      | elapsed:   14.6s\n",
      "[Parallel(n_jobs=-1)]: Done 1535 tasks      | elapsed:   15.6s\n",
      "[Parallel(n_jobs=-1)]: Done 1625 tasks      | elapsed:   17.1s\n",
      "[Parallel(n_jobs=-1)]: Done 1715 tasks      | elapsed:   17.6s\n",
      "[Parallel(n_jobs=-1)]: Done 1809 tasks      | elapsed:   18.6s\n",
      "[Parallel(n_jobs=-1)]: Done 1903 tasks      | elapsed:   19.3s\n",
      "[Parallel(n_jobs=-1)]: Done 2001 tasks      | elapsed:   20.5s\n",
      "[Parallel(n_jobs=-1)]: Done 2099 tasks      | elapsed:   21.3s\n"
     ]
    },
    {
     "name": "stdout",
     "output_type": "stream",
     "text": [
      "\n"
     ]
    },
    {
     "name": "stderr",
     "output_type": "stream",
     "text": [
      "[Parallel(n_jobs=-1)]: Done 2223 out of 2223 | elapsed:   22.1s finished\n"
     ]
    }
   ],
   "source": [
    "for mat_file in tqdm(MATFILES):\n",
    "    indv = mat_file.parent.stem\n",
    "    # try loading the MAT file\n",
    "    try:\n",
    "        with h5.File(mat_file) as f:\n",
    "            songs = f[\"song\"].value\n",
    "            nonsongs = f[\"nonsong\"].value\n",
    "            rate = f[\"fs\"].value\n",
    "    except:\n",
    "        print(indv + \" failed\")\n",
    "        continue\n",
    "\n",
    "    with Parallel(n_jobs=-1, verbose=10) as parallel:\n",
    "        parallel(\n",
    "            delayed(generate_json_wav_noise)(indv, wav_num, song, nonsong, int(rate), DT_ID)\n",
    "            for wav_num, (song, nonsong) in tqdm(\n",
    "                enumerate(zip(songs, nonsongs)), total=len(songs)\n",
    "            )\n",
    "        )"
   ]
  },
  {
   "cell_type": "code",
   "execution_count": null,
   "metadata": {},
   "outputs": [],
   "source": []
  }
 ],
 "metadata": {
  "kernelspec": {
   "display_name": "Python 3",
   "language": "python",
   "name": "python3"
  },
  "language_info": {
   "codemirror_mode": {
    "name": "ipython",
    "version": 3
   },
   "file_extension": ".py",
   "mimetype": "text/x-python",
   "name": "python",
   "nbconvert_exporter": "python",
   "pygments_lexer": "ipython3",
   "version": "3.6.7"
  }
 },
 "nbformat": 4,
 "nbformat_minor": 2
}
