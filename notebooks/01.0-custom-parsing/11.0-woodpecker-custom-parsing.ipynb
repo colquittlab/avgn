{
 "cells": [
  {
   "cell_type": "markdown",
   "metadata": {},
   "source": [
    "### woodpecker custom parsing\n",
    "- This dataset consists of 1669 wav files most of which consists of several syllables grouped into either 'song', 'call type' or 'drumming'. There are seven different species of vocalizers. The dataset is taken from XenoCanto The dataset consists of:\n",
    "    - WAV files for vocalization that contains labels for species and vocalization. \n",
    "- This notebook creates a JSON corresponding to each WAV file.\n",
    "- Dataset origin:\n",
    "    - https://zenodo.org/record/574438#.XOnxJ9NKhTY"
   ]
  },
  {
   "cell_type": "code",
   "execution_count": 1,
   "metadata": {
    "ExecuteTime": {
     "end_time": "2019-06-24T21:29:54.711863Z",
     "start_time": "2019-06-24T21:29:52.853033Z"
    }
   },
   "outputs": [],
   "source": [
    "from avgn.utils.general import prepare_env"
   ]
  },
  {
   "cell_type": "code",
   "execution_count": 2,
   "metadata": {
    "ExecuteTime": {
     "end_time": "2019-06-24T21:29:54.779771Z",
     "start_time": "2019-06-24T21:29:54.716725Z"
    }
   },
   "outputs": [
    {
     "name": "stdout",
     "output_type": "stream",
     "text": [
      "env: CUDA_VISIBLE_DEVICES=GPU\n"
     ]
    }
   ],
   "source": [
    "prepare_env()"
   ]
  },
  {
   "cell_type": "markdown",
   "metadata": {},
   "source": [
    "### Import relevant packages"
   ]
  },
  {
   "cell_type": "code",
   "execution_count": 3,
   "metadata": {
    "ExecuteTime": {
     "end_time": "2019-06-24T21:29:55.614249Z",
     "start_time": "2019-06-24T21:29:54.782540Z"
    }
   },
   "outputs": [
    {
     "name": "stderr",
     "output_type": "stream",
     "text": [
      "/mnt/cube/tsainbur/conda_envs/tpy3/lib/python3.6/site-packages/tqdm/autonotebook/__init__.py:14: TqdmExperimentalWarning: Using `tqdm.autonotebook.tqdm` in notebook mode. Use `tqdm.tqdm` instead to force console mode (e.g. in jupyter console)\n",
      "  \" (e.g. in jupyter console)\", TqdmExperimentalWarning)\n"
     ]
    }
   ],
   "source": [
    "from joblib import Parallel, delayed\n",
    "from tqdm.autonotebook import tqdm\n",
    "import pandas as pd\n",
    "pd.options.display.max_columns = None\n",
    "import librosa\n",
    "from datetime import datetime\n",
    "import numpy as np"
   ]
  },
  {
   "cell_type": "code",
   "execution_count": 4,
   "metadata": {
    "ExecuteTime": {
     "end_time": "2019-06-24T21:29:55.654921Z",
     "start_time": "2019-06-24T21:29:55.616605Z"
    }
   },
   "outputs": [],
   "source": [
    "import avgn\n",
    "from avgn.custom_parsing.picidae_woodpecker import generate_json\n",
    "from avgn.utils.paths import DATA_DIR"
   ]
  },
  {
   "cell_type": "markdown",
   "metadata": {},
   "source": [
    "### Load data in original format"
   ]
  },
  {
   "cell_type": "code",
   "execution_count": 5,
   "metadata": {
    "ExecuteTime": {
     "end_time": "2019-06-24T21:29:55.776122Z",
     "start_time": "2019-06-24T21:29:55.656805Z"
    }
   },
   "outputs": [
    {
     "data": {
      "text/plain": [
       "'2019-06-24_14-29-55'"
      ]
     },
     "execution_count": 5,
     "metadata": {},
     "output_type": "execute_result"
    }
   ],
   "source": [
    "# create a unique datetime identifier for the files output by this notebook\n",
    "DT_ID = datetime.now().strftime(\"%Y-%m-%d_%H-%M-%S\")\n",
    "DT_ID"
   ]
  },
  {
   "cell_type": "code",
   "execution_count": 6,
   "metadata": {
    "ExecuteTime": {
     "end_time": "2019-06-24T21:29:55.875337Z",
     "start_time": "2019-06-24T21:29:55.779898Z"
    }
   },
   "outputs": [
    {
     "data": {
      "text/plain": [
       "PosixPath('/mnt/cube/Datasets/Picidae/PicidaeDataset')"
      ]
     },
     "execution_count": 6,
     "metadata": {},
     "output_type": "execute_result"
    }
   ],
   "source": [
    "DSLOC = avgn.utils.paths.Path('/mnt/cube/Datasets/Picidae/PicidaeDataset/')\n",
    "DSLOC"
   ]
  },
  {
   "cell_type": "code",
   "execution_count": 7,
   "metadata": {
    "ExecuteTime": {
     "end_time": "2019-06-24T21:29:56.034178Z",
     "start_time": "2019-06-24T21:29:55.877776Z"
    }
   },
   "outputs": [
    {
     "data": {
      "text/plain": [
       "1669"
      ]
     },
     "execution_count": 7,
     "metadata": {},
     "output_type": "execute_result"
    }
   ],
   "source": [
    "all_wavs = list(DSLOC.expanduser().glob('*/*.wav'))\n",
    "all_wavs = [i for i in all_wavs if i.stem[0] != '.']\n",
    "len(all_wavs)"
   ]
  },
  {
   "cell_type": "code",
   "execution_count": 8,
   "metadata": {
    "ExecuteTime": {
     "end_time": "2019-06-24T21:29:59.275940Z",
     "start_time": "2019-06-24T21:29:56.036939Z"
    }
   },
   "outputs": [
    {
     "data": {
      "application/vnd.jupyter.widget-view+json": {
       "model_id": "2ea2a18fa9d04707ac29608960e94608",
       "version_major": 2,
       "version_minor": 0
      },
      "text/plain": [
       "HBox(children=(IntProgress(value=0, max=1669), HTML(value='')))"
      ]
     },
     "metadata": {},
     "output_type": "display_data"
    },
    {
     "name": "stdout",
     "output_type": "stream",
     "text": [
      "\n"
     ]
    }
   ],
   "source": [
    "wav_df = pd.DataFrame(columns = ['species', 'call_type', 'wavloc', 'origin'])\n",
    "for wav_loc in tqdm(all_wavs):\n",
    "    if wav_loc.parent.stem == 'Silence': continue\n",
    "    species, call_type = wav_loc.parent.stem.split('-')\n",
    "    wav_df.loc[len(wav_df)] = [species, call_type, wav_loc, wav_loc.stem.split('-')[0]]"
   ]
  },
  {
   "cell_type": "code",
   "execution_count": 9,
   "metadata": {
    "ExecuteTime": {
     "end_time": "2019-06-24T21:29:59.358524Z",
     "start_time": "2019-06-24T21:29:59.281125Z"
    }
   },
   "outputs": [
    {
     "data": {
      "text/html": [
       "<div>\n",
       "<style scoped>\n",
       "    .dataframe tbody tr th:only-of-type {\n",
       "        vertical-align: middle;\n",
       "    }\n",
       "\n",
       "    .dataframe tbody tr th {\n",
       "        vertical-align: top;\n",
       "    }\n",
       "\n",
       "    .dataframe thead th {\n",
       "        text-align: right;\n",
       "    }\n",
       "</style>\n",
       "<table border=\"1\" class=\"dataframe\">\n",
       "  <thead>\n",
       "    <tr style=\"text-align: right;\">\n",
       "      <th></th>\n",
       "      <th>species</th>\n",
       "      <th>call_type</th>\n",
       "      <th>wavloc</th>\n",
       "      <th>origin</th>\n",
       "    </tr>\n",
       "  </thead>\n",
       "  <tbody>\n",
       "    <tr>\n",
       "      <th>0</th>\n",
       "      <td>PicusViridis</td>\n",
       "      <td>song</td>\n",
       "      <td>/mnt/cube/Datasets/Picidae/PicidaeDataset/Picu...</td>\n",
       "      <td>XC252476</td>\n",
       "    </tr>\n",
       "    <tr>\n",
       "      <th>1</th>\n",
       "      <td>PicusViridis</td>\n",
       "      <td>song</td>\n",
       "      <td>/mnt/cube/Datasets/Picidae/PicidaeDataset/Picu...</td>\n",
       "      <td>XC281262</td>\n",
       "    </tr>\n",
       "    <tr>\n",
       "      <th>2</th>\n",
       "      <td>PicusViridis</td>\n",
       "      <td>song</td>\n",
       "      <td>/mnt/cube/Datasets/Picidae/PicidaeDataset/Picu...</td>\n",
       "      <td>XC281263</td>\n",
       "    </tr>\n",
       "  </tbody>\n",
       "</table>\n",
       "</div>"
      ],
      "text/plain": [
       "        species call_type                                             wavloc  \\\n",
       "0  PicusViridis      song  /mnt/cube/Datasets/Picidae/PicidaeDataset/Picu...   \n",
       "1  PicusViridis      song  /mnt/cube/Datasets/Picidae/PicidaeDataset/Picu...   \n",
       "2  PicusViridis      song  /mnt/cube/Datasets/Picidae/PicidaeDataset/Picu...   \n",
       "\n",
       "     origin  \n",
       "0  XC252476  \n",
       "1  XC281262  \n",
       "2  XC281263  "
      ]
     },
     "execution_count": 9,
     "metadata": {},
     "output_type": "execute_result"
    }
   ],
   "source": [
    "wav_df[:3]"
   ]
  },
  {
   "cell_type": "code",
   "execution_count": 10,
   "metadata": {
    "ExecuteTime": {
     "end_time": "2019-06-24T21:29:59.442857Z",
     "start_time": "2019-06-24T21:29:59.360884Z"
    }
   },
   "outputs": [
    {
     "data": {
      "text/plain": [
       "array(['PicusViridis', 'DryocopusMartius', 'DendrocoposMedius',\n",
       "       'JynxTorquilla', 'DendrocoposLeucotos', 'DendrocoposMinor',\n",
       "       'DendrocoposMajor'], dtype=object)"
      ]
     },
     "execution_count": 10,
     "metadata": {},
     "output_type": "execute_result"
    }
   ],
   "source": [
    "wav_df.species.unique()"
   ]
  },
  {
   "cell_type": "markdown",
   "metadata": {},
   "source": [
    "### create json for wavs"
   ]
  },
  {
   "cell_type": "code",
   "execution_count": 11,
   "metadata": {
    "ExecuteTime": {
     "end_time": "2019-06-24T21:30:04.050164Z",
     "start_time": "2019-06-24T21:29:59.444711Z"
    }
   },
   "outputs": [
    {
     "data": {
      "application/vnd.jupyter.widget-view+json": {
       "model_id": "27eef034a5c743bbb43ac27e711eb54e",
       "version_major": 2,
       "version_minor": 0
      },
      "text/plain": [
       "HBox(children=(IntProgress(value=0, max=1146), HTML(value='')))"
      ]
     },
     "metadata": {},
     "output_type": "display_data"
    },
    {
     "name": "stderr",
     "output_type": "stream",
     "text": [
      "[Parallel(n_jobs=-1)]: Using backend LokyBackend with 24 concurrent workers.\n",
      "[Parallel(n_jobs=-1)]: Done   2 tasks      | elapsed:    3.7s\n",
      "[Parallel(n_jobs=-1)]: Done  13 tasks      | elapsed:    3.8s\n",
      "[Parallel(n_jobs=-1)]: Done  24 tasks      | elapsed:    3.8s\n",
      "[Parallel(n_jobs=-1)]: Done  37 tasks      | elapsed:    3.9s\n",
      "[Parallel(n_jobs=-1)]: Batch computation too fast (0.1871s.) Setting batch_size=2.\n",
      "[Parallel(n_jobs=-1)]: Done  50 tasks      | elapsed:    3.9s\n",
      "[Parallel(n_jobs=-1)]: Done  65 tasks      | elapsed:    4.0s\n",
      "[Parallel(n_jobs=-1)]: Batch computation too fast (0.0667s.) Setting batch_size=12.\n",
      "[Parallel(n_jobs=-1)]: Done  83 tasks      | elapsed:    4.0s\n",
      "[Parallel(n_jobs=-1)]: Done 115 tasks      | elapsed:    4.1s\n",
      "[Parallel(n_jobs=-1)]: Batch computation too fast (0.1863s.) Setting batch_size=24.\n",
      "[Parallel(n_jobs=-1)]: Done 166 tasks      | elapsed:    4.2s\n",
      "[Parallel(n_jobs=-1)]: Done 317 tasks      | elapsed:    4.4s\n"
     ]
    },
    {
     "name": "stdout",
     "output_type": "stream",
     "text": [
      "\n"
     ]
    },
    {
     "name": "stderr",
     "output_type": "stream",
     "text": [
      "[Parallel(n_jobs=-1)]: Done 754 out of 1146 | elapsed:    4.4s remaining:    2.3s\n",
      "[Parallel(n_jobs=-1)]: Done 1146 out of 1146 | elapsed:    4.5s finished\n"
     ]
    }
   ],
   "source": [
    "with Parallel(n_jobs=-1, verbose=10) as parallel:\n",
    "    parallel(\n",
    "        delayed(generate_json)(\n",
    "            row,\n",
    "            DT_ID\n",
    "        )\n",
    "        for idx, row in tqdm(wav_df.iterrows(), total=len(wav_df))\n",
    "    );"
   ]
  }
 ],
 "metadata": {
  "kernelspec": {
   "display_name": "Python 3",
   "language": "python",
   "name": "python3"
  },
  "language_info": {
   "codemirror_mode": {
    "name": "ipython",
    "version": 3
   },
   "file_extension": ".py",
   "mimetype": "text/x-python",
   "name": "python",
   "nbconvert_exporter": "python",
   "pygments_lexer": "ipython3",
   "version": "3.6.7"
  }
 },
 "nbformat": 4,
 "nbformat_minor": 2
}
