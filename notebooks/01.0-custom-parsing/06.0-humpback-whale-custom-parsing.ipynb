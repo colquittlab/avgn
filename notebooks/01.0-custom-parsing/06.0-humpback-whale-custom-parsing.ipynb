{
 "cells": [
  {
   "cell_type": "markdown",
   "metadata": {},
   "source": [
    "### Humpback whale custom parsing\n",
    "- This dataset has vocalizations from a single individual. FIles include :\n",
    "    - .BOX (tsv) of vocalization times and frequences\n",
    "    - .wav vocalziations corresponding to the .box vocalizations\n",
    "- This notebook creates a JSON corresponding to each WAV file, as well as a WAV file from the MP3\n",
    "- Dataset origin:\n",
    "    - https://www.mobysound.org/mysticetes.html"
   ]
  },
  {
   "cell_type": "code",
   "execution_count": 1,
   "metadata": {
    "ExecuteTime": {
     "end_time": "2019-06-24T03:56:50.921987Z",
     "start_time": "2019-06-24T03:56:48.877076Z"
    }
   },
   "outputs": [],
   "source": [
    "from avgn.utils.general import prepare_env"
   ]
  },
  {
   "cell_type": "code",
   "execution_count": 2,
   "metadata": {
    "ExecuteTime": {
     "end_time": "2019-06-24T03:56:50.959713Z",
     "start_time": "2019-06-24T03:56:50.924819Z"
    }
   },
   "outputs": [
    {
     "name": "stdout",
     "output_type": "stream",
     "text": [
      "env: CUDA_VISIBLE_DEVICES=GPU\n"
     ]
    }
   ],
   "source": [
    "prepare_env()"
   ]
  },
  {
   "cell_type": "markdown",
   "metadata": {},
   "source": [
    "### Import relevant packages"
   ]
  },
  {
   "cell_type": "code",
   "execution_count": 3,
   "metadata": {
    "ExecuteTime": {
     "end_time": "2019-06-24T03:56:51.579050Z",
     "start_time": "2019-06-24T03:56:50.966578Z"
    }
   },
   "outputs": [
    {
     "name": "stderr",
     "output_type": "stream",
     "text": [
      "/mnt/cube/tsainbur/conda_envs/tpy3/lib/python3.6/site-packages/tqdm/autonotebook/__init__.py:14: TqdmExperimentalWarning: Using `tqdm.autonotebook.tqdm` in notebook mode. Use `tqdm.tqdm` instead to force console mode (e.g. in jupyter console)\n",
      "  \" (e.g. in jupyter console)\", TqdmExperimentalWarning)\n"
     ]
    }
   ],
   "source": [
    "from joblib import Parallel, delayed\n",
    "from tqdm.autonotebook import tqdm\n",
    "import pandas as pd\n",
    "pd.options.display.max_columns = None\n",
    "import librosa\n",
    "from datetime import datetime\n",
    "import numpy as np"
   ]
  },
  {
   "cell_type": "code",
   "execution_count": 4,
   "metadata": {
    "ExecuteTime": {
     "end_time": "2019-06-24T03:56:51.617014Z",
     "start_time": "2019-06-24T03:56:51.581086Z"
    }
   },
   "outputs": [],
   "source": [
    "import avgn\n",
    "from avgn.custom_parsing.mobysound_humpback import (\n",
    "    load_labs,\n",
    "    find_longest_nonvocal_stretch,\n",
    "    generate_noise_and_json,\n",
    ")\n",
    "from avgn.utils.paths import DATA_DIR"
   ]
  },
  {
   "cell_type": "markdown",
   "metadata": {},
   "source": [
    "### Load data in original format"
   ]
  },
  {
   "cell_type": "code",
   "execution_count": 5,
   "metadata": {
    "ExecuteTime": {
     "end_time": "2019-06-24T03:56:51.691242Z",
     "start_time": "2019-06-24T03:56:51.618960Z"
    }
   },
   "outputs": [],
   "source": [
    "DATASET_ID = 'mobysound_humpback_whale'"
   ]
  },
  {
   "cell_type": "code",
   "execution_count": 6,
   "metadata": {
    "ExecuteTime": {
     "end_time": "2019-06-24T03:56:52.667177Z",
     "start_time": "2019-06-24T03:56:52.630544Z"
    }
   },
   "outputs": [
    {
     "data": {
      "text/plain": [
       "'2019-06-23_20-56-52'"
      ]
     },
     "execution_count": 6,
     "metadata": {},
     "output_type": "execute_result"
    }
   ],
   "source": [
    "# create a unique datetime identifier for the files output by this notebook\n",
    "DT_ID = datetime.now().strftime(\"%Y-%m-%d_%H-%M-%S\")\n",
    "DT_ID"
   ]
  },
  {
   "cell_type": "code",
   "execution_count": 7,
   "metadata": {
    "ExecuteTime": {
     "end_time": "2019-06-24T03:56:52.769267Z",
     "start_time": "2019-06-24T03:56:52.669047Z"
    }
   },
   "outputs": [
    {
     "data": {
      "text/plain": [
       "PosixPath('/mnt/cube/Datasets/mobysound/humpback-01')"
      ]
     },
     "execution_count": 7,
     "metadata": {},
     "output_type": "execute_result"
    }
   ],
   "source": [
    "DSLOC = avgn.utils.paths.Path('/mnt/cube/Datasets/mobysound/humpback-01/')\n",
    "DSLOC"
   ]
  },
  {
   "cell_type": "code",
   "execution_count": 8,
   "metadata": {
    "ExecuteTime": {
     "end_time": "2019-06-24T03:56:53.303358Z",
     "start_time": "2019-06-24T03:56:53.270551Z"
    }
   },
   "outputs": [
    {
     "data": {
      "text/plain": [
       "(14, 14)"
      ]
     },
     "execution_count": 8,
     "metadata": {},
     "output_type": "execute_result"
    }
   ],
   "source": [
    "wavs = list(DSLOC.glob('*.wav'))\n",
    "labels = list(DSLOC.glob('*.box'))\n",
    "len(wavs), len(labels)"
   ]
  },
  {
   "cell_type": "markdown",
   "metadata": {},
   "source": [
    "### load labels"
   ]
  },
  {
   "cell_type": "code",
   "execution_count": 9,
   "metadata": {
    "ExecuteTime": {
     "end_time": "2019-06-24T03:56:53.836328Z",
     "start_time": "2019-06-24T03:56:53.781236Z"
    }
   },
   "outputs": [],
   "source": [
    "rate = 4000"
   ]
  },
  {
   "cell_type": "code",
   "execution_count": 10,
   "metadata": {
    "ExecuteTime": {
     "end_time": "2019-06-24T03:56:54.074068Z",
     "start_time": "2019-06-24T03:56:53.945315Z"
    }
   },
   "outputs": [
    {
     "name": "stdout",
     "output_type": "stream",
     "text": [
      "2310\n"
     ]
    },
    {
     "data": {
      "text/html": [
       "<div>\n",
       "<style scoped>\n",
       "    .dataframe tbody tr th:only-of-type {\n",
       "        vertical-align: middle;\n",
       "    }\n",
       "\n",
       "    .dataframe tbody tr th {\n",
       "        vertical-align: top;\n",
       "    }\n",
       "\n",
       "    .dataframe thead th {\n",
       "        text-align: right;\n",
       "    }\n",
       "</style>\n",
       "<table border=\"1\" class=\"dataframe\">\n",
       "  <thead>\n",
       "    <tr style=\"text-align: right;\">\n",
       "      <th></th>\n",
       "      <th>index</th>\n",
       "      <th>start_time</th>\n",
       "      <th>end_time</th>\n",
       "      <th>low_freq</th>\n",
       "      <th>high_freq</th>\n",
       "      <th>SNR</th>\n",
       "      <th>file</th>\n",
       "    </tr>\n",
       "  </thead>\n",
       "  <tbody>\n",
       "    <tr>\n",
       "      <th>0</th>\n",
       "      <td>0</td>\n",
       "      <td>1.00</td>\n",
       "      <td>2.67</td>\n",
       "      <td>28.617500</td>\n",
       "      <td>1996.070068</td>\n",
       "      <td>23.104601</td>\n",
       "      <td>940305-1007</td>\n",
       "    </tr>\n",
       "    <tr>\n",
       "      <th>1</th>\n",
       "      <td>1</td>\n",
       "      <td>4.60</td>\n",
       "      <td>5.94</td>\n",
       "      <td>71.543701</td>\n",
       "      <td>2024.687500</td>\n",
       "      <td>34.156601</td>\n",
       "      <td>940305-1007</td>\n",
       "    </tr>\n",
       "    <tr>\n",
       "      <th>2</th>\n",
       "      <td>2</td>\n",
       "      <td>6.43</td>\n",
       "      <td>8.20</td>\n",
       "      <td>21.463100</td>\n",
       "      <td>2003.224365</td>\n",
       "      <td>36.505402</td>\n",
       "      <td>940305-1007</td>\n",
       "    </tr>\n",
       "  </tbody>\n",
       "</table>\n",
       "</div>"
      ],
      "text/plain": [
       "   index  start_time  end_time   low_freq    high_freq        SNR         file\n",
       "0      0        1.00      2.67  28.617500  1996.070068  23.104601  940305-1007\n",
       "1      1        4.60      5.94  71.543701  2024.687500  34.156601  940305-1007\n",
       "2      2        6.43      8.20  21.463100  2003.224365  36.505402  940305-1007"
      ]
     },
     "execution_count": 10,
     "metadata": {},
     "output_type": "execute_result"
    }
   ],
   "source": [
    "label_df = load_labs(labels)\n",
    "print(len(label_df))\n",
    "label_df[:3]"
   ]
  },
  {
   "cell_type": "markdown",
   "metadata": {},
   "source": [
    "### generate JSON"
   ]
  },
  {
   "cell_type": "code",
   "execution_count": 11,
   "metadata": {
    "ExecuteTime": {
     "end_time": "2019-06-24T03:57:01.134906Z",
     "start_time": "2019-06-24T03:56:57.585558Z"
    }
   },
   "outputs": [
    {
     "data": {
      "application/vnd.jupyter.widget-view+json": {
       "model_id": "b207d8d3024d4230a18a5e0c479ce536",
       "version_major": 2,
       "version_minor": 0
      },
      "text/plain": [
       "HBox(children=(IntProgress(value=0, max=14), HTML(value='')))"
      ]
     },
     "metadata": {},
     "output_type": "display_data"
    },
    {
     "name": "stderr",
     "output_type": "stream",
     "text": [
      "[Parallel(n_jobs=-1)]: Using backend LokyBackend with 24 concurrent workers.\n"
     ]
    },
    {
     "name": "stdout",
     "output_type": "stream",
     "text": [
      "\n"
     ]
    },
    {
     "name": "stderr",
     "output_type": "stream",
     "text": [
      "[Parallel(n_jobs=-1)]: Done   3 out of  14 | elapsed:    3.2s remaining:   11.6s\n",
      "[Parallel(n_jobs=-1)]: Done   5 out of  14 | elapsed:    3.2s remaining:    5.8s\n",
      "[Parallel(n_jobs=-1)]: Done   7 out of  14 | elapsed:    3.3s remaining:    3.3s\n",
      "[Parallel(n_jobs=-1)]: Done   9 out of  14 | elapsed:    3.3s remaining:    1.8s\n",
      "[Parallel(n_jobs=-1)]: Done  11 out of  14 | elapsed:    3.4s remaining:    0.9s\n",
      "[Parallel(n_jobs=-1)]: Done  14 out of  14 | elapsed:    3.4s finished\n"
     ]
    }
   ],
   "source": [
    "with Parallel(n_jobs=-1, verbose=10) as parallel:\n",
    "    parallel(\n",
    "        delayed(generate_noise_and_json)(\n",
    "            bout_number,\n",
    "            fn,\n",
    "            DT_ID,\n",
    "            wavloc=np.array(wavs)[np.array([i.stem for i in wavs]) == fn][0],\n",
    "            file_df=label_df[label_df.file == fn].sort_values(by=\"start_time\"),\n",
    "        )\n",
    "        for bout_number, fn in tqdm(\n",
    "            enumerate(label_df.file.unique()), total=len(label_df.file.unique())\n",
    "        )\n",
    "    )"
   ]
  },
  {
   "cell_type": "code",
   "execution_count": null,
   "metadata": {},
   "outputs": [],
   "source": []
  }
 ],
 "metadata": {
  "kernelspec": {
   "display_name": "Python 3",
   "language": "python",
   "name": "python3"
  },
  "language_info": {
   "codemirror_mode": {
    "name": "ipython",
    "version": 3
   },
   "file_extension": ".py",
   "mimetype": "text/x-python",
   "name": "python",
   "nbconvert_exporter": "python",
   "pygments_lexer": "ipython3",
   "version": "3.6.7"
  }
 },
 "nbformat": 4,
 "nbformat_minor": 2
}
