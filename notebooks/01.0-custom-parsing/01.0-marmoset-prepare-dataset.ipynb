{
 "cells": [
  {
   "cell_type": "markdown",
   "metadata": {},
   "source": [
    "### Marmoset vocalization dataset custom parsing\n",
    "- This dataset has:\n",
    "    - A number of WAVs where naming convention stores the individuals vocalizing\n",
    "    - Corresponding .mat files with the timing of each phee/call and the individual making the vocalization\n",
    "- This notebook extracts periods of vocalization into new WAV files, and creates a corresponding JSON and TextGrid for each WAV with annotation information\n",
    "- Dataset origin:\n",
    "    - Recieved via correspondance with Miller Lab"
   ]
  },
  {
   "cell_type": "code",
   "execution_count": 1,
   "metadata": {
    "ExecuteTime": {
     "end_time": "2019-06-18T05:42:12.013700Z",
     "start_time": "2019-06-18T05:42:10.446062Z"
    }
   },
   "outputs": [],
   "source": [
    "from avgn.utils.general import prepare_env"
   ]
  },
  {
   "cell_type": "code",
   "execution_count": 2,
   "metadata": {
    "ExecuteTime": {
     "end_time": "2019-06-18T05:42:12.052298Z",
     "start_time": "2019-06-18T05:42:12.016101Z"
    }
   },
   "outputs": [
    {
     "name": "stdout",
     "output_type": "stream",
     "text": [
      "env: CUDA_VISIBLE_DEVICES=GPU\n"
     ]
    }
   ],
   "source": [
    "prepare_env()"
   ]
  },
  {
   "cell_type": "markdown",
   "metadata": {},
   "source": [
    "### Import relevant packages"
   ]
  },
  {
   "cell_type": "code",
   "execution_count": 3,
   "metadata": {
    "ExecuteTime": {
     "end_time": "2019-06-18T05:42:12.582175Z",
     "start_time": "2019-06-18T05:42:12.054263Z"
    }
   },
   "outputs": [
    {
     "name": "stderr",
     "output_type": "stream",
     "text": [
      "/mnt/cube/tsainbur/conda_envs/tpy3/lib/python3.6/site-packages/tqdm/autonotebook/__init__.py:14: TqdmExperimentalWarning: Using `tqdm.autonotebook.tqdm` in notebook mode. Use `tqdm.tqdm` instead to force console mode (e.g. in jupyter console)\n",
      "  \" (e.g. in jupyter console)\", TqdmExperimentalWarning)\n"
     ]
    }
   ],
   "source": [
    "from joblib import Parallel, delayed\n",
    "from tqdm.autonotebook import tqdm\n",
    "import pandas as pd\n",
    "import librosa\n",
    "from datetime import datetime\n",
    "import json"
   ]
  },
  {
   "cell_type": "code",
   "execution_count": 4,
   "metadata": {
    "ExecuteTime": {
     "end_time": "2019-06-18T05:42:12.618099Z",
     "start_time": "2019-06-18T05:42:12.584473Z"
    }
   },
   "outputs": [],
   "source": [
    "import avgn\n",
    "from avgn.custom_parsing.miller_marmoset import (\n",
    "    parse_marmoset_data,\n",
    "    parse_marmoset_calls,\n",
    "    annotate_bouts,\n",
    "    segment_wav_into_bouts\n",
    ")\n",
    "from avgn.utils.paths import DATA_DIR"
   ]
  },
  {
   "cell_type": "markdown",
   "metadata": {},
   "source": [
    "### Load data in original format"
   ]
  },
  {
   "cell_type": "code",
   "execution_count": 5,
   "metadata": {
    "ExecuteTime": {
     "end_time": "2019-06-18T05:42:12.722817Z",
     "start_time": "2019-06-18T05:42:12.619761Z"
    }
   },
   "outputs": [
    {
     "data": {
      "text/plain": [
       "'2019-06-17_22-42-12'"
      ]
     },
     "execution_count": 5,
     "metadata": {},
     "output_type": "execute_result"
    }
   ],
   "source": [
    "# create a unique datetime identifier for the files output by this notebook\n",
    "DT_ID = datetime.now().strftime(\"%Y-%m-%d_%H-%M-%S\")\n",
    "DT_ID"
   ]
  },
  {
   "cell_type": "code",
   "execution_count": 6,
   "metadata": {
    "ExecuteTime": {
     "end_time": "2019-06-18T05:42:12.811639Z",
     "start_time": "2019-06-18T05:42:12.725281Z"
    }
   },
   "outputs": [],
   "source": [
    "DSLOC = avgn.utils.paths.Path('/mnt/cube/Datasets/Marmosets/FromMillerLab')"
   ]
  },
  {
   "cell_type": "code",
   "execution_count": 7,
   "metadata": {
    "ExecuteTime": {
     "end_time": "2019-06-18T05:42:12.910153Z",
     "start_time": "2019-06-18T05:42:12.813878Z"
    }
   },
   "outputs": [
    {
     "data": {
      "text/plain": [
       "(186,\n",
       " [PosixPath('/mnt/cube/Datasets/Marmosets/FromMillerLab/han.todd.170621.wav'),\n",
       "  PosixPath('/mnt/cube/Datasets/Marmosets/FromMillerLab/ares_spn_230217_203.wav'),\n",
       "  PosixPath('/mnt/cube/Datasets/Marmosets/FromMillerLab/ares_ant_010317_33.wav')])"
      ]
     },
     "execution_count": 7,
     "metadata": {},
     "output_type": "execute_result"
    }
   ],
   "source": [
    "wavs = list(DSLOC.glob('*.wav'))\n",
    "len(wavs), wavs[:3]"
   ]
  },
  {
   "cell_type": "code",
   "execution_count": 8,
   "metadata": {
    "ExecuteTime": {
     "end_time": "2019-06-18T05:42:13.000407Z",
     "start_time": "2019-06-18T05:42:12.913811Z"
    }
   },
   "outputs": [
    {
     "data": {
      "text/plain": [
       "(82,\n",
       " [PosixPath('/mnt/cube/Datasets/Marmosets/FromMillerLab/apollo_angel_140217.mat'),\n",
       "  PosixPath('/mnt/cube/Datasets/Marmosets/FromMillerLab/jasmine.hermes.170622.mat'),\n",
       "  PosixPath('/mnt/cube/Datasets/Marmosets/FromMillerLab/aladdin_banana_060317.mat')])"
      ]
     },
     "execution_count": 8,
     "metadata": {},
     "output_type": "execute_result"
    }
   ],
   "source": [
    "matfiles = list(DSLOC.glob(\"*.mat\"))\n",
    "len(matfiles), matfiles[:3]"
   ]
  },
  {
   "cell_type": "markdown",
   "metadata": {},
   "source": [
    "### Parse data into dataframe"
   ]
  },
  {
   "cell_type": "code",
   "execution_count": 9,
   "metadata": {
    "ExecuteTime": {
     "end_time": "2019-06-18T05:42:13.650454Z",
     "start_time": "2019-06-18T05:42:13.003657Z"
    }
   },
   "outputs": [
    {
     "name": "stdout",
     "output_type": "stream",
     "text": [
      "183\n"
     ]
    },
    {
     "data": {
      "text/html": [
       "<div>\n",
       "<style scoped>\n",
       "    .dataframe tbody tr th:only-of-type {\n",
       "        vertical-align: middle;\n",
       "    }\n",
       "\n",
       "    .dataframe tbody tr th {\n",
       "        vertical-align: top;\n",
       "    }\n",
       "\n",
       "    .dataframe thead th {\n",
       "        text-align: right;\n",
       "    }\n",
       "</style>\n",
       "<table border=\"1\" class=\"dataframe\">\n",
       "  <thead>\n",
       "    <tr style=\"text-align: right;\">\n",
       "      <th></th>\n",
       "      <th>monkey1</th>\n",
       "      <th>monkey2</th>\n",
       "      <th>date</th>\n",
       "      <th>date_idx</th>\n",
       "      <th>wav_loc</th>\n",
       "    </tr>\n",
       "  </thead>\n",
       "  <tbody>\n",
       "    <tr>\n",
       "      <th>0</th>\n",
       "      <td>han</td>\n",
       "      <td>todd</td>\n",
       "      <td>170621</td>\n",
       "      <td>None</td>\n",
       "      <td>/mnt/cube/Datasets/Marmosets/FromMillerLab/han...</td>\n",
       "    </tr>\n",
       "    <tr>\n",
       "      <th>1</th>\n",
       "      <td>ares</td>\n",
       "      <td>spn</td>\n",
       "      <td>230217</td>\n",
       "      <td>203</td>\n",
       "      <td>/mnt/cube/Datasets/Marmosets/FromMillerLab/are...</td>\n",
       "    </tr>\n",
       "    <tr>\n",
       "      <th>2</th>\n",
       "      <td>ares</td>\n",
       "      <td>ant</td>\n",
       "      <td>010317</td>\n",
       "      <td>33</td>\n",
       "      <td>/mnt/cube/Datasets/Marmosets/FromMillerLab/are...</td>\n",
       "    </tr>\n",
       "  </tbody>\n",
       "</table>\n",
       "</div>"
      ],
      "text/plain": [
       "  monkey1 monkey2    date date_idx  \\\n",
       "0     han    todd  170621     None   \n",
       "1    ares     spn  230217      203   \n",
       "2    ares     ant  010317       33   \n",
       "\n",
       "                                             wav_loc  \n",
       "0  /mnt/cube/Datasets/Marmosets/FromMillerLab/han...  \n",
       "1  /mnt/cube/Datasets/Marmosets/FromMillerLab/are...  \n",
       "2  /mnt/cube/Datasets/Marmosets/FromMillerLab/are...  "
      ]
     },
     "metadata": {},
     "output_type": "display_data"
    }
   ],
   "source": [
    "wav_df = parse_marmoset_data(wavs, _filetype = \"wav\")\n",
    "print(len(wav_df))\n",
    "display(wav_df[:3])"
   ]
  },
  {
   "cell_type": "code",
   "execution_count": 10,
   "metadata": {
    "ExecuteTime": {
     "end_time": "2019-06-18T05:42:13.916586Z",
     "start_time": "2019-06-18T05:42:13.652296Z"
    }
   },
   "outputs": [
    {
     "name": "stdout",
     "output_type": "stream",
     "text": [
      "81\n"
     ]
    },
    {
     "data": {
      "text/html": [
       "<div>\n",
       "<style scoped>\n",
       "    .dataframe tbody tr th:only-of-type {\n",
       "        vertical-align: middle;\n",
       "    }\n",
       "\n",
       "    .dataframe tbody tr th {\n",
       "        vertical-align: top;\n",
       "    }\n",
       "\n",
       "    .dataframe thead th {\n",
       "        text-align: right;\n",
       "    }\n",
       "</style>\n",
       "<table border=\"1\" class=\"dataframe\">\n",
       "  <thead>\n",
       "    <tr style=\"text-align: right;\">\n",
       "      <th></th>\n",
       "      <th>monkey1</th>\n",
       "      <th>monkey2</th>\n",
       "      <th>date</th>\n",
       "      <th>date_idx</th>\n",
       "      <th>mat_loc</th>\n",
       "    </tr>\n",
       "  </thead>\n",
       "  <tbody>\n",
       "    <tr>\n",
       "      <th>0</th>\n",
       "      <td>apollo</td>\n",
       "      <td>angel</td>\n",
       "      <td>140217</td>\n",
       "      <td>None</td>\n",
       "      <td>/mnt/cube/Datasets/Marmosets/FromMillerLab/apo...</td>\n",
       "    </tr>\n",
       "    <tr>\n",
       "      <th>1</th>\n",
       "      <td>jasmine</td>\n",
       "      <td>hermes</td>\n",
       "      <td>170622</td>\n",
       "      <td>None</td>\n",
       "      <td>/mnt/cube/Datasets/Marmosets/FromMillerLab/jas...</td>\n",
       "    </tr>\n",
       "    <tr>\n",
       "      <th>2</th>\n",
       "      <td>aladdin</td>\n",
       "      <td>banana</td>\n",
       "      <td>060317</td>\n",
       "      <td>None</td>\n",
       "      <td>/mnt/cube/Datasets/Marmosets/FromMillerLab/ala...</td>\n",
       "    </tr>\n",
       "  </tbody>\n",
       "</table>\n",
       "</div>"
      ],
      "text/plain": [
       "   monkey1 monkey2    date date_idx  \\\n",
       "0   apollo   angel  140217     None   \n",
       "1  jasmine  hermes  170622     None   \n",
       "2  aladdin  banana  060317     None   \n",
       "\n",
       "                                             mat_loc  \n",
       "0  /mnt/cube/Datasets/Marmosets/FromMillerLab/apo...  \n",
       "1  /mnt/cube/Datasets/Marmosets/FromMillerLab/jas...  \n",
       "2  /mnt/cube/Datasets/Marmosets/FromMillerLab/ala...  "
      ]
     },
     "metadata": {},
     "output_type": "display_data"
    }
   ],
   "source": [
    "mf_df = parse_marmoset_data(matfiles, _filetype = \"mat\")\n",
    "print(len(mf_df))\n",
    "display(mf_df[:3])"
   ]
  },
  {
   "cell_type": "code",
   "execution_count": 11,
   "metadata": {
    "ExecuteTime": {
     "end_time": "2019-06-18T05:42:13.966840Z",
     "start_time": "2019-06-18T05:42:13.918395Z"
    }
   },
   "outputs": [
    {
     "name": "stdout",
     "output_type": "stream",
     "text": [
      "80\n"
     ]
    },
    {
     "data": {
      "text/html": [
       "<div>\n",
       "<style scoped>\n",
       "    .dataframe tbody tr th:only-of-type {\n",
       "        vertical-align: middle;\n",
       "    }\n",
       "\n",
       "    .dataframe tbody tr th {\n",
       "        vertical-align: top;\n",
       "    }\n",
       "\n",
       "    .dataframe thead th {\n",
       "        text-align: right;\n",
       "    }\n",
       "</style>\n",
       "<table border=\"1\" class=\"dataframe\">\n",
       "  <thead>\n",
       "    <tr style=\"text-align: right;\">\n",
       "      <th></th>\n",
       "      <th>monkey1</th>\n",
       "      <th>monkey2</th>\n",
       "      <th>date</th>\n",
       "      <th>date_idx</th>\n",
       "      <th>mat_loc</th>\n",
       "      <th>wav_loc</th>\n",
       "    </tr>\n",
       "  </thead>\n",
       "  <tbody>\n",
       "    <tr>\n",
       "      <th>0</th>\n",
       "      <td>apollo</td>\n",
       "      <td>angel</td>\n",
       "      <td>140217</td>\n",
       "      <td>None</td>\n",
       "      <td>/mnt/cube/Datasets/Marmosets/FromMillerLab/apo...</td>\n",
       "      <td>/mnt/cube/Datasets/Marmosets/FromMillerLab/apo...</td>\n",
       "    </tr>\n",
       "    <tr>\n",
       "      <th>1</th>\n",
       "      <td>jasmine</td>\n",
       "      <td>hermes</td>\n",
       "      <td>170622</td>\n",
       "      <td>None</td>\n",
       "      <td>/mnt/cube/Datasets/Marmosets/FromMillerLab/jas...</td>\n",
       "      <td>/mnt/cube/Datasets/Marmosets/FromMillerLab/jas...</td>\n",
       "    </tr>\n",
       "    <tr>\n",
       "      <th>2</th>\n",
       "      <td>aladdin</td>\n",
       "      <td>banana</td>\n",
       "      <td>060317</td>\n",
       "      <td>None</td>\n",
       "      <td>/mnt/cube/Datasets/Marmosets/FromMillerLab/ala...</td>\n",
       "      <td>/mnt/cube/Datasets/Marmosets/FromMillerLab/ala...</td>\n",
       "    </tr>\n",
       "  </tbody>\n",
       "</table>\n",
       "</div>"
      ],
      "text/plain": [
       "   monkey1 monkey2    date date_idx  \\\n",
       "0   apollo   angel  140217     None   \n",
       "1  jasmine  hermes  170622     None   \n",
       "2  aladdin  banana  060317     None   \n",
       "\n",
       "                                             mat_loc  \\\n",
       "0  /mnt/cube/Datasets/Marmosets/FromMillerLab/apo...   \n",
       "1  /mnt/cube/Datasets/Marmosets/FromMillerLab/jas...   \n",
       "2  /mnt/cube/Datasets/Marmosets/FromMillerLab/ala...   \n",
       "\n",
       "                                             wav_loc  \n",
       "0  /mnt/cube/Datasets/Marmosets/FromMillerLab/apo...  \n",
       "1  /mnt/cube/Datasets/Marmosets/FromMillerLab/jas...  \n",
       "2  /mnt/cube/Datasets/Marmosets/FromMillerLab/ala...  "
      ]
     },
     "metadata": {},
     "output_type": "display_data"
    }
   ],
   "source": [
    "# merge dataframes\n",
    "mf_df = pd.merge(\n",
    "    mf_df,\n",
    "    wav_df,\n",
    "    how=\"left\",\n",
    "    left_on=[\"monkey1\", \"monkey2\", \"date\", \"date_idx\"],\n",
    "    right_on=[\"monkey1\", \"monkey2\", \"date\", \"date_idx\"],\n",
    "    suffixes=(False, False),\n",
    ")\n",
    "# remove unlabelled wavs\n",
    "mf_df = mf_df[mf_df.wav_loc.isnull() == False]\n",
    "print(len(mf_df))\n",
    "display(mf_df[:3])"
   ]
  },
  {
   "cell_type": "markdown",
   "metadata": {},
   "source": [
    "### Parse matfiles into syllables"
   ]
  },
  {
   "cell_type": "code",
   "execution_count": 12,
   "metadata": {
    "ExecuteTime": {
     "end_time": "2019-06-18T05:42:23.716754Z",
     "start_time": "2019-06-18T05:42:13.968627Z"
    }
   },
   "outputs": [
    {
     "data": {
      "application/vnd.jupyter.widget-view+json": {
       "model_id": "ece2d2d533834f3ea21a67178789bfaf",
       "version_major": 2,
       "version_minor": 0
      },
      "text/plain": [
       "HBox(children=(IntProgress(value=0, max=80), HTML(value='')))"
      ]
     },
     "metadata": {},
     "output_type": "display_data"
    },
    {
     "name": "stderr",
     "output_type": "stream",
     "text": [
      "[Parallel(n_jobs=-1)]: Using backend LokyBackend with 24 concurrent workers.\n",
      "[Parallel(n_jobs=-1)]: Done   2 tasks      | elapsed:    4.2s\n",
      "[Parallel(n_jobs=-1)]: Done  13 tasks      | elapsed:    4.8s\n",
      "[Parallel(n_jobs=-1)]: Done  24 tasks      | elapsed:    5.5s\n"
     ]
    },
    {
     "name": "stdout",
     "output_type": "stream",
     "text": [
      "\n"
     ]
    },
    {
     "name": "stderr",
     "output_type": "stream",
     "text": [
      "[Parallel(n_jobs=-1)]: Done  42 out of  80 | elapsed:    6.3s remaining:    5.7s\n",
      "[Parallel(n_jobs=-1)]: Done  51 out of  80 | elapsed:    6.9s remaining:    3.9s\n",
      "[Parallel(n_jobs=-1)]: Done  60 out of  80 | elapsed:    7.3s remaining:    2.4s\n",
      "[Parallel(n_jobs=-1)]: Done  69 out of  80 | elapsed:    7.8s remaining:    1.3s\n",
      "[Parallel(n_jobs=-1)]: Done  78 out of  80 | elapsed:    8.9s remaining:    0.2s\n",
      "[Parallel(n_jobs=-1)]: Done  80 out of  80 | elapsed:    9.5s finished\n"
     ]
    }
   ],
   "source": [
    "syllable_df = pd.concat(\n",
    "    Parallel(n_jobs=-1, verbose=10)(\n",
    "        delayed(parse_marmoset_calls)(row)\n",
    "        for idx, row in tqdm(mf_df.iterrows(), total=len(mf_df))\n",
    "    )\n",
    ")"
   ]
  },
  {
   "cell_type": "code",
   "execution_count": 13,
   "metadata": {
    "ExecuteTime": {
     "end_time": "2019-06-18T05:42:23.780935Z",
     "start_time": "2019-06-18T05:42:23.719950Z"
    }
   },
   "outputs": [
    {
     "name": "stdout",
     "output_type": "stream",
     "text": [
      "14295\n"
     ]
    },
    {
     "data": {
      "text/html": [
       "<div>\n",
       "<style scoped>\n",
       "    .dataframe tbody tr th:only-of-type {\n",
       "        vertical-align: middle;\n",
       "    }\n",
       "\n",
       "    .dataframe tbody tr th {\n",
       "        vertical-align: top;\n",
       "    }\n",
       "\n",
       "    .dataframe thead th {\n",
       "        text-align: right;\n",
       "    }\n",
       "</style>\n",
       "<table border=\"1\" class=\"dataframe\">\n",
       "  <thead>\n",
       "    <tr style=\"text-align: right;\">\n",
       "      <th></th>\n",
       "      <th>indv</th>\n",
       "      <th>partner</th>\n",
       "      <th>date</th>\n",
       "      <th>call_type</th>\n",
       "      <th>wav_loc</th>\n",
       "      <th>call_num</th>\n",
       "      <th>pulse_n</th>\n",
       "      <th>pulse_start</th>\n",
       "      <th>pulse_end</th>\n",
       "    </tr>\n",
       "  </thead>\n",
       "  <tbody>\n",
       "    <tr>\n",
       "      <th>0</th>\n",
       "      <td>apollo</td>\n",
       "      <td>angel</td>\n",
       "      <td>140217</td>\n",
       "      <td>phee</td>\n",
       "      <td>/mnt/cube/Datasets/Marmosets/FromMillerLab/apo...</td>\n",
       "      <td>0</td>\n",
       "      <td>0</td>\n",
       "      <td>14.038007</td>\n",
       "      <td>16.171723</td>\n",
       "    </tr>\n",
       "    <tr>\n",
       "      <th>1</th>\n",
       "      <td>apollo</td>\n",
       "      <td>angel</td>\n",
       "      <td>140217</td>\n",
       "      <td>phee</td>\n",
       "      <td>/mnt/cube/Datasets/Marmosets/FromMillerLab/apo...</td>\n",
       "      <td>1</td>\n",
       "      <td>0</td>\n",
       "      <td>107.359792</td>\n",
       "      <td>108.729595</td>\n",
       "    </tr>\n",
       "    <tr>\n",
       "      <th>2</th>\n",
       "      <td>apollo</td>\n",
       "      <td>angel</td>\n",
       "      <td>140217</td>\n",
       "      <td>phee</td>\n",
       "      <td>/mnt/cube/Datasets/Marmosets/FromMillerLab/apo...</td>\n",
       "      <td>1</td>\n",
       "      <td>1</td>\n",
       "      <td>109.060383</td>\n",
       "      <td>110.417463</td>\n",
       "    </tr>\n",
       "  </tbody>\n",
       "</table>\n",
       "</div>"
      ],
      "text/plain": [
       "     indv partner    date call_type  \\\n",
       "0  apollo   angel  140217      phee   \n",
       "1  apollo   angel  140217      phee   \n",
       "2  apollo   angel  140217      phee   \n",
       "\n",
       "                                             wav_loc call_num pulse_n  \\\n",
       "0  /mnt/cube/Datasets/Marmosets/FromMillerLab/apo...        0       0   \n",
       "1  /mnt/cube/Datasets/Marmosets/FromMillerLab/apo...        1       0   \n",
       "2  /mnt/cube/Datasets/Marmosets/FromMillerLab/apo...        1       1   \n",
       "\n",
       "   pulse_start   pulse_end  \n",
       "0    14.038007   16.171723  \n",
       "1   107.359792  108.729595  \n",
       "2   109.060383  110.417463  "
      ]
     },
     "metadata": {},
     "output_type": "display_data"
    }
   ],
   "source": [
    "print(len(syllable_df))\n",
    "display(syllable_df[:3])"
   ]
  },
  {
   "cell_type": "markdown",
   "metadata": {},
   "source": [
    "### segment WAVs into 'bouts'\n",
    "- There are a lot of periods of time in the original datasets that are not occupied by any vocalizations. Here, we segment out those time periods and create new sub-WAVs. For each sub-WAV, we generate a JSON with metadata and segment information. "
   ]
  },
  {
   "cell_type": "code",
   "execution_count": 14,
   "metadata": {
    "ExecuteTime": {
     "end_time": "2019-06-18T05:42:23.869693Z",
     "start_time": "2019-06-18T05:42:23.789710Z"
    }
   },
   "outputs": [],
   "source": [
    "# HParams is just a python object storing a set of hyperparameters.\n",
    "hparams = avgn.utils.general.HParams(\n",
    "    bout_segmentation_min_s = 30,  # Minimum amount of seconds between vocal activity required to split a wavfile\n",
    "    bout_pad_s = 5, # how much time to pad this bout with on either side\n",
    "    # noise clip\n",
    "    get_noise_clip = True, # if a noise clip preceding the vocalization should be grabbed to help reduce noise in analysis\n",
    "    max_noise_clip_size_s = 10, # how large the noise clip can be\n",
    "    min_noise_clip_size_s = 1, # how small the noise clip can be\n",
    "    \n",
    ")"
   ]
  },
  {
   "cell_type": "code",
   "execution_count": 15,
   "metadata": {
    "ExecuteTime": {
     "end_time": "2019-06-18T05:42:25.904945Z",
     "start_time": "2019-06-18T05:42:23.872644Z"
    }
   },
   "outputs": [
    {
     "data": {
      "application/vnd.jupyter.widget-view+json": {
       "model_id": "d4fb7ec41a374a0787d08a84a47b8182",
       "version_major": 2,
       "version_minor": 0
      },
      "text/plain": [
       "HBox(children=(IntProgress(value=0, max=78), HTML(value='')))"
      ]
     },
     "metadata": {},
     "output_type": "display_data"
    },
    {
     "name": "stderr",
     "output_type": "stream",
     "text": [
      "[Parallel(n_jobs=-1)]: Using backend LokyBackend with 24 concurrent workers.\n",
      "[Parallel(n_jobs=-1)]: Batch computation too fast (0.1499s.) Setting batch_size=2.\n",
      "[Parallel(n_jobs=-1)]: Batch computation too fast (0.1499s.) Setting batch_size=4.\n",
      "[Parallel(n_jobs=-1)]: Done   5 tasks      | elapsed:    1.0s\n"
     ]
    },
    {
     "name": "stdout",
     "output_type": "stream",
     "text": [
      "\n"
     ]
    },
    {
     "name": "stderr",
     "output_type": "stream",
     "text": [
      "[Parallel(n_jobs=-1)]: Done  78 out of  78 | elapsed:    1.9s finished\n"
     ]
    }
   ],
   "source": [
    "bout_dfs =  Parallel(n_jobs=-1, verbose=10)(\n",
    "        delayed(segment_wav_into_bouts)(\n",
    "            (\n",
    "                syllable_df[syllable_df.wav_loc == wav_loc]\n",
    "                .sort_values(by=[\"pulse_start\"])\n",
    "                .reset_index()\n",
    "            ),\n",
    "            hparams,\n",
    "        )\n",
    "        for wav_loc in tqdm(syllable_df.wav_loc.unique())\n",
    "    )\n",
    "bout_dfs = [item for sublist in bout_dfs for item in sublist]"
   ]
  },
  {
   "cell_type": "markdown",
   "metadata": {},
   "source": [
    "### Save bouts and JSON files"
   ]
  },
  {
   "cell_type": "code",
   "execution_count": 16,
   "metadata": {
    "ExecuteTime": {
     "end_time": "2019-06-18T05:45:14.332279Z",
     "start_time": "2019-06-18T05:42:25.908602Z"
    },
    "scrolled": true
   },
   "outputs": [
    {
     "data": {
      "application/vnd.jupyter.widget-view+json": {
       "model_id": "c7bb063f3a8e4d42b664f1f0ad13134c",
       "version_major": 2,
       "version_minor": 0
      },
      "text/plain": [
       "HBox(children=(IntProgress(value=0, max=769), HTML(value='')))"
      ]
     },
     "metadata": {},
     "output_type": "display_data"
    },
    {
     "name": "stderr",
     "output_type": "stream",
     "text": [
      "[Parallel(n_jobs=-1)]: Using backend LokyBackend with 24 concurrent workers.\n",
      "[Parallel(n_jobs=-1)]: Done   1 tasks      | elapsed:    0.2s\n",
      "[Parallel(n_jobs=-1)]: Batch computation too fast (0.1786s.) Setting batch_size=2.\n",
      "[Parallel(n_jobs=-1)]: Batch computation too fast (0.1786s.) Setting batch_size=4.\n",
      "[Parallel(n_jobs=-1)]: Done   2 tasks      | elapsed:    0.5s\n",
      "[Parallel(n_jobs=-1)]: Done   4 tasks      | elapsed:    1.0s\n",
      "[Parallel(n_jobs=-1)]: Done   9 tasks      | elapsed:    3.1s\n",
      "[Parallel(n_jobs=-1)]: Batch computation too slow (11.0372s.) Setting batch_size=2.\n",
      "[Parallel(n_jobs=-1)]: Done  28 tasks      | elapsed:   13.9s\n",
      "[Parallel(n_jobs=-1)]: Batch computation too slow (2.9712s.) Setting batch_size=1.\n",
      "[Parallel(n_jobs=-1)]: Done  60 tasks      | elapsed:   19.2s\n",
      "[Parallel(n_jobs=-1)]: Done  95 tasks      | elapsed:   24.4s\n",
      "[Parallel(n_jobs=-1)]: Done 114 tasks      | elapsed:   26.0s\n",
      "[Parallel(n_jobs=-1)]: Done 131 tasks      | elapsed:   27.8s\n",
      "[Parallel(n_jobs=-1)]: Done 150 tasks      | elapsed:   30.6s\n",
      "[Parallel(n_jobs=-1)]: Done 165 tasks      | elapsed:   33.6s\n",
      "[Parallel(n_jobs=-1)]: Done 181 tasks      | elapsed:   37.5s\n",
      "[Parallel(n_jobs=-1)]: Done 199 tasks      | elapsed:   41.2s\n",
      "[Parallel(n_jobs=-1)]: Done 216 tasks      | elapsed:   45.7s\n",
      "[Parallel(n_jobs=-1)]: Done 238 tasks      | elapsed:   47.6s\n",
      "[Parallel(n_jobs=-1)]: Done 257 tasks      | elapsed:   50.7s\n",
      "[Parallel(n_jobs=-1)]: Done 278 tasks      | elapsed:   55.3s\n",
      "[Parallel(n_jobs=-1)]: Done 299 tasks      | elapsed:   59.7s\n",
      "[Parallel(n_jobs=-1)]: Done 322 tasks      | elapsed:  1.2min\n",
      "[Parallel(n_jobs=-1)]: Done 345 tasks      | elapsed:  1.2min\n",
      "[Parallel(n_jobs=-1)]: Done 370 tasks      | elapsed:  1.3min\n",
      "[Parallel(n_jobs=-1)]: Done 395 tasks      | elapsed:  1.4min\n",
      "[Parallel(n_jobs=-1)]: Done 422 tasks      | elapsed:  1.5min\n",
      "[Parallel(n_jobs=-1)]: Done 449 tasks      | elapsed:  1.6min\n",
      "[Parallel(n_jobs=-1)]: Done 478 tasks      | elapsed:  1.7min\n",
      "[Parallel(n_jobs=-1)]: Done 507 tasks      | elapsed:  1.8min\n",
      "[Parallel(n_jobs=-1)]: Done 538 tasks      | elapsed:  1.9min\n",
      "[Parallel(n_jobs=-1)]: Done 569 tasks      | elapsed:  2.0min\n",
      "[Parallel(n_jobs=-1)]: Done 602 tasks      | elapsed:  2.1min\n",
      "[Parallel(n_jobs=-1)]: Done 635 tasks      | elapsed:  2.2min\n",
      "[Parallel(n_jobs=-1)]: Done 670 tasks      | elapsed:  2.3min\n",
      "[Parallel(n_jobs=-1)]: Done 705 tasks      | elapsed:  2.4min\n",
      "[Parallel(n_jobs=-1)]: Done 742 tasks      | elapsed:  2.6min\n"
     ]
    },
    {
     "name": "stdout",
     "output_type": "stream",
     "text": [
      "\n"
     ]
    },
    {
     "name": "stderr",
     "output_type": "stream",
     "text": [
      "[Parallel(n_jobs=-1)]: Done 769 out of 769 | elapsed:  2.8min finished\n"
     ]
    }
   ],
   "source": [
    "Parallel(n_jobs=-1, verbose=10)(\n",
    "    delayed(annotate_bouts)(\n",
    "        DT_ID,\n",
    "        bout_number,\n",
    "        syllable_df[syllable_df.wav_loc == bout_df.iloc[0].wav_loc]\n",
    "        .sort_values(by=[\"pulse_start\"])\n",
    "        .reset_index(),\n",
    "        bout_df,\n",
    "        hparams,\n",
    "    )\n",
    "    for bout_number, bout_df in tqdm(enumerate(bout_dfs), total=len(bout_dfs))\n",
    ");"
   ]
  },
  {
   "cell_type": "code",
   "execution_count": null,
   "metadata": {},
   "outputs": [],
   "source": []
  }
 ],
 "metadata": {
  "kernelspec": {
   "display_name": "Python 3",
   "language": "python",
   "name": "python3"
  },
  "language_info": {
   "codemirror_mode": {
    "name": "ipython",
    "version": 3
   },
   "file_extension": ".py",
   "mimetype": "text/x-python",
   "name": "python",
   "nbconvert_exporter": "python",
   "pygments_lexer": "ipython3",
   "version": "3.6.7"
  }
 },
 "nbformat": 4,
 "nbformat_minor": 2
}
