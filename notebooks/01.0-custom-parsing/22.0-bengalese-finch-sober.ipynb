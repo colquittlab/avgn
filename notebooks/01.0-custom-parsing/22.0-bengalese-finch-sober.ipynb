{
 "cells": [
  {
   "cell_type": "markdown",
   "metadata": {},
   "source": [
    "### Bengalese finch (Sober lab) custom parsing\n",
    "- An labelled dataset of Bengalese finch vocalizations\n",
    "    - .MAT files with labels\n",
    "    - .BIN files with \n",
    "- This notebook creates a JSON corresponding to each WAV file (and Noise file where available).\n",
    "- Dataset origin:\n",
    "    - https://zenodo.org/record/3237218"
   ]
  },
  {
   "cell_type": "code",
   "execution_count": 1,
   "metadata": {
    "ExecuteTime": {
     "end_time": "2019-10-11T01:44:36.666215Z",
     "start_time": "2019-10-11T01:44:33.129906Z"
    }
   },
   "outputs": [
    {
     "name": "stderr",
     "output_type": "stream",
     "text": [
      "/mnt/cube/tsainbur/conda_envs/tpy3/lib/python3.6/site-packages/tqdm/autonotebook/__init__.py:14: TqdmExperimentalWarning: Using `tqdm.autonotebook.tqdm` in notebook mode. Use `tqdm.tqdm` instead to force console mode (e.g. in jupyter console)\n",
      "  \" (e.g. in jupyter console)\", TqdmExperimentalWarning)\n"
     ]
    }
   ],
   "source": [
    "from avgn.utils.general import prepare_env"
   ]
  },
  {
   "cell_type": "code",
   "execution_count": 2,
   "metadata": {
    "ExecuteTime": {
     "end_time": "2019-10-11T01:44:36.705904Z",
     "start_time": "2019-10-11T01:44:36.668672Z"
    }
   },
   "outputs": [
    {
     "name": "stdout",
     "output_type": "stream",
     "text": [
      "env: CUDA_VISIBLE_DEVICES=GPU\n"
     ]
    }
   ],
   "source": [
    "prepare_env()"
   ]
  },
  {
   "cell_type": "markdown",
   "metadata": {},
   "source": [
    "### Import relevant packages"
   ]
  },
  {
   "cell_type": "code",
   "execution_count": 3,
   "metadata": {
    "ExecuteTime": {
     "end_time": "2019-10-11T01:44:37.327360Z",
     "start_time": "2019-10-11T01:44:36.707736Z"
    }
   },
   "outputs": [],
   "source": [
    "from joblib import Parallel, delayed\n",
    "from tqdm.autonotebook import tqdm\n",
    "import pandas as pd\n",
    "pd.options.display.max_columns = None\n",
    "import librosa\n",
    "from datetime import datetime\n",
    "import numpy as np"
   ]
  },
  {
   "cell_type": "code",
   "execution_count": 4,
   "metadata": {
    "ExecuteTime": {
     "end_time": "2019-10-11T01:44:37.451929Z",
     "start_time": "2019-10-11T01:44:37.329403Z"
    }
   },
   "outputs": [],
   "source": [
    "import avgn\n",
    "from avgn.custom_parsing.bengalese_finch_sober import (\n",
    "    load_cbin,\n",
    "    generate_json_wav,\n",
    "    parse_song_df,\n",
    ")\n",
    "from avgn.utils.paths import DATA_DIR"
   ]
  },
  {
   "cell_type": "markdown",
   "metadata": {},
   "source": [
    "### Load data in original format"
   ]
  },
  {
   "cell_type": "code",
   "execution_count": 5,
   "metadata": {
    "ExecuteTime": {
     "end_time": "2019-10-11T01:44:37.485181Z",
     "start_time": "2019-10-11T01:44:37.454012Z"
    }
   },
   "outputs": [],
   "source": [
    "DATASET_ID = 'bengalese_finch_sober'"
   ]
  },
  {
   "cell_type": "code",
   "execution_count": 6,
   "metadata": {
    "ExecuteTime": {
     "end_time": "2019-10-11T01:44:37.569476Z",
     "start_time": "2019-10-11T01:44:37.487278Z"
    }
   },
   "outputs": [
    {
     "data": {
      "text/plain": [
       "'2019-10-10_18-44-37'"
      ]
     },
     "execution_count": 6,
     "metadata": {},
     "output_type": "execute_result"
    }
   ],
   "source": [
    "# create a unique datetime identifier for the files output by this notebook\n",
    "DT_ID = datetime.now().strftime(\"%Y-%m-%d_%H-%M-%S\")\n",
    "DT_ID"
   ]
  },
  {
   "cell_type": "code",
   "execution_count": 7,
   "metadata": {
    "ExecuteTime": {
     "end_time": "2019-10-11T01:44:37.682762Z",
     "start_time": "2019-10-11T01:44:37.571618Z"
    }
   },
   "outputs": [
    {
     "data": {
      "text/plain": [
       "PosixPath('/mnt/cube/Datasets/BengaleseFinch/sober')"
      ]
     },
     "execution_count": 7,
     "metadata": {},
     "output_type": "execute_result"
    }
   ],
   "source": [
    "DSLOC = avgn.utils.paths.Path('/mnt/cube/Datasets/BengaleseFinch/sober/')\n",
    "DSLOC"
   ]
  },
  {
   "cell_type": "code",
   "execution_count": 8,
   "metadata": {
    "ExecuteTime": {
     "end_time": "2019-10-11T01:44:40.365580Z",
     "start_time": "2019-10-11T01:44:37.684920Z"
    }
   },
   "outputs": [
    {
     "data": {
      "text/plain": [
       "(2664,\n",
       " PosixPath('/mnt/cube/Datasets/BengaleseFinch/sober/032212/gy6or6_baseline_220312_1744.1688.cbin.not.mat'))"
      ]
     },
     "execution_count": 8,
     "metadata": {},
     "output_type": "execute_result"
    }
   ],
   "source": [
    "MATLIST = list((DSLOC).expanduser().glob('*/*.not.mat'))\n",
    "len(MATLIST), MATLIST[0]"
   ]
  },
  {
   "cell_type": "code",
   "execution_count": 9,
   "metadata": {
    "ExecuteTime": {
     "end_time": "2019-10-11T01:44:40.438632Z",
     "start_time": "2019-10-11T01:44:40.367747Z"
    }
   },
   "outputs": [
    {
     "data": {
      "text/plain": [
       "(3546,\n",
       " PosixPath('/mnt/cube/Datasets/BengaleseFinch/sober/032212/gy6or6_washout_130312_1303.5709.cbin'))"
      ]
     },
     "execution_count": 9,
     "metadata": {},
     "output_type": "execute_result"
    }
   ],
   "source": [
    "CBINLIST = list((DSLOC).expanduser().glob('*/*.cbin'))\n",
    "len(CBINLIST), CBINLIST[0]"
   ]
  },
  {
   "cell_type": "code",
   "execution_count": 10,
   "metadata": {
    "ExecuteTime": {
     "end_time": "2019-10-11T01:45:32.671250Z",
     "start_time": "2019-10-11T01:44:40.440574Z"
    }
   },
   "outputs": [
    {
     "data": {
      "application/vnd.jupyter.widget-view+json": {
       "model_id": "3de2e8be67b248c9a4f0f990e9e5538d",
       "version_major": 2,
       "version_minor": 0
      },
      "text/plain": [
       "HBox(children=(IntProgress(value=0, max=2664), HTML(value='')))"
      ]
     },
     "metadata": {},
     "output_type": "display_data"
    },
    {
     "name": "stdout",
     "output_type": "stream",
     "text": [
      "\n"
     ]
    },
    {
     "name": "stderr",
     "output_type": "stream",
     "text": [
      "/mnt/cube/tsainbur/Projects/github_repos/avgn_paper/avgn/custom_parsing/bengalese_finch_sober.py:111: FutureWarning: set_value is deprecated and will be removed in a future release. Please use .at[] or .iat[] accessors instead\n",
      "  song_df.set_value(idx, \"rec_num\", idxi)\n"
     ]
    }
   ],
   "source": [
    "song_df = parse_song_df(MATLIST)"
   ]
  },
  {
   "cell_type": "code",
   "execution_count": 11,
   "metadata": {
    "ExecuteTime": {
     "end_time": "2019-10-11T01:45:33.158358Z",
     "start_time": "2019-10-11T01:45:32.673655Z"
    }
   },
   "outputs": [],
   "source": [
    "cbin_names = np.array([i.name for i in CBINLIST])"
   ]
  },
  {
   "cell_type": "code",
   "execution_count": 12,
   "metadata": {
    "ExecuteTime": {
     "end_time": "2019-10-11T01:45:33.283506Z",
     "start_time": "2019-10-11T01:45:33.160245Z"
    }
   },
   "outputs": [
    {
     "data": {
      "text/html": [
       "<div>\n",
       "<style scoped>\n",
       "    .dataframe tbody tr th:only-of-type {\n",
       "        vertical-align: middle;\n",
       "    }\n",
       "\n",
       "    .dataframe tbody tr th {\n",
       "        vertical-align: top;\n",
       "    }\n",
       "\n",
       "    .dataframe thead th {\n",
       "        text-align: right;\n",
       "    }\n",
       "</style>\n",
       "<table border=\"1\" class=\"dataframe\">\n",
       "  <thead>\n",
       "    <tr style=\"text-align: right;\">\n",
       "      <th></th>\n",
       "      <th>index</th>\n",
       "      <th>bird</th>\n",
       "      <th>species</th>\n",
       "      <th>stime</th>\n",
       "      <th>syllables</th>\n",
       "      <th>start_times</th>\n",
       "      <th>end_times</th>\n",
       "      <th>bout_duration</th>\n",
       "      <th>syll_lens</th>\n",
       "      <th>day</th>\n",
       "      <th>wavname</th>\n",
       "      <th>rate</th>\n",
       "      <th>NumNote</th>\n",
       "      <th>rec_num</th>\n",
       "    </tr>\n",
       "  </thead>\n",
       "  <tbody>\n",
       "    <tr>\n",
       "      <th>0</th>\n",
       "      <td>0</td>\n",
       "      <td>gy6or6</td>\n",
       "      <td>BF</td>\n",
       "      <td>2012-03-22 17:44:00</td>\n",
       "      <td>[i, i, i, i, i, i, i, i, i, i, i, a, b, c, d, ...</td>\n",
       "      <td>[0.023375, 0.18903125, 0.42575, 0.60078125, 0....</td>\n",
       "      <td>[0.08803125, 0.2813125, 0.5279375, 0.7005625, ...</td>\n",
       "      <td>8.446781</td>\n",
       "      <td>[0.06465625, 0.09228125, 0.1021875, 0.09978125...</td>\n",
       "      <td>2012-03-22</td>\n",
       "      <td>gy6or6_baseline_220312_1744.1688.cbin</td>\n",
       "      <td>32000</td>\n",
       "      <td>70</td>\n",
       "      <td>218</td>\n",
       "    </tr>\n",
       "    <tr>\n",
       "      <th>1</th>\n",
       "      <td>1</td>\n",
       "      <td>gy6or6</td>\n",
       "      <td>BF</td>\n",
       "      <td>2012-03-22 12:59:00</td>\n",
       "      <td>[i, i, i, i, i, i, i, i, i, i, i, a, b, c, d, ...</td>\n",
       "      <td>[0.02746875, 0.18878125, 0.35603125, 0.546125,...</td>\n",
       "      <td>[0.07509375, 0.2473125, 0.43353125, 0.63846875...</td>\n",
       "      <td>10.279844</td>\n",
       "      <td>[0.047625, 0.05853125, 0.0775, 0.09234375, 0.1...</td>\n",
       "      <td>2012-03-22</td>\n",
       "      <td>gy6or6_baseline_220312_1259.990.cbin</td>\n",
       "      <td>32000</td>\n",
       "      <td>73</td>\n",
       "      <td>149</td>\n",
       "    </tr>\n",
       "    <tr>\n",
       "      <th>2</th>\n",
       "      <td>2</td>\n",
       "      <td>gy6or6</td>\n",
       "      <td>BF</td>\n",
       "      <td>2012-03-22 09:06:00</td>\n",
       "      <td>[i, i, i, i, i, i, i, a, b, c, d, e, e, f, g, ...</td>\n",
       "      <td>[0.75171875, 0.9445, 1.13971875, 1.32734375, 1...</td>\n",
       "      <td>[0.8020625, 1.01359375, 1.22996875, 1.40834375...</td>\n",
       "      <td>10.561281</td>\n",
       "      <td>[0.05034375, 0.06909375000000012, 0.09025, 0.0...</td>\n",
       "      <td>2012-03-22</td>\n",
       "      <td>gy6or6_baseline_220312_0906.117.cbin</td>\n",
       "      <td>32000</td>\n",
       "      <td>82</td>\n",
       "      <td>36</td>\n",
       "    </tr>\n",
       "  </tbody>\n",
       "</table>\n",
       "</div>"
      ],
      "text/plain": [
       "   index    bird species               stime  \\\n",
       "0      0  gy6or6      BF 2012-03-22 17:44:00   \n",
       "1      1  gy6or6      BF 2012-03-22 12:59:00   \n",
       "2      2  gy6or6      BF 2012-03-22 09:06:00   \n",
       "\n",
       "                                           syllables  \\\n",
       "0  [i, i, i, i, i, i, i, i, i, i, i, a, b, c, d, ...   \n",
       "1  [i, i, i, i, i, i, i, i, i, i, i, a, b, c, d, ...   \n",
       "2  [i, i, i, i, i, i, i, a, b, c, d, e, e, f, g, ...   \n",
       "\n",
       "                                         start_times  \\\n",
       "0  [0.023375, 0.18903125, 0.42575, 0.60078125, 0....   \n",
       "1  [0.02746875, 0.18878125, 0.35603125, 0.546125,...   \n",
       "2  [0.75171875, 0.9445, 1.13971875, 1.32734375, 1...   \n",
       "\n",
       "                                           end_times  bout_duration  \\\n",
       "0  [0.08803125, 0.2813125, 0.5279375, 0.7005625, ...       8.446781   \n",
       "1  [0.07509375, 0.2473125, 0.43353125, 0.63846875...      10.279844   \n",
       "2  [0.8020625, 1.01359375, 1.22996875, 1.40834375...      10.561281   \n",
       "\n",
       "                                           syll_lens         day  \\\n",
       "0  [0.06465625, 0.09228125, 0.1021875, 0.09978125...  2012-03-22   \n",
       "1  [0.047625, 0.05853125, 0.0775, 0.09234375, 0.1...  2012-03-22   \n",
       "2  [0.05034375, 0.06909375000000012, 0.09025, 0.0...  2012-03-22   \n",
       "\n",
       "                                 wavname   rate  NumNote rec_num  \n",
       "0  gy6or6_baseline_220312_1744.1688.cbin  32000       70     218  \n",
       "1   gy6or6_baseline_220312_1259.990.cbin  32000       73     149  \n",
       "2   gy6or6_baseline_220312_0906.117.cbin  32000       82      36  "
      ]
     },
     "execution_count": 12,
     "metadata": {},
     "output_type": "execute_result"
    }
   ],
   "source": [
    "song_df[:3]"
   ]
  },
  {
   "cell_type": "markdown",
   "metadata": {},
   "source": [
    "### Generate JSON and WAV files"
   ]
  },
  {
   "cell_type": "code",
   "execution_count": 13,
   "metadata": {
    "ExecuteTime": {
     "end_time": "2019-10-11T01:52:23.929863Z",
     "start_time": "2019-10-11T01:45:33.285377Z"
    },
    "scrolled": true
   },
   "outputs": [
    {
     "data": {
      "application/vnd.jupyter.widget-view+json": {
       "model_id": "2c03d4b3d406493ba437aeb9370c4b7f",
       "version_major": 2,
       "version_minor": 0
      },
      "text/plain": [
       "HBox(children=(IntProgress(value=0, max=2664), HTML(value='')))"
      ]
     },
     "metadata": {},
     "output_type": "display_data"
    },
    {
     "name": "stderr",
     "output_type": "stream",
     "text": [
      "[Parallel(n_jobs=-1)]: Using backend LokyBackend with 24 concurrent workers.\n",
      "[Parallel(n_jobs=-1)]: Done   2 tasks      | elapsed:   13.1s\n",
      "[Parallel(n_jobs=-1)]: Done  13 tasks      | elapsed:   13.2s\n",
      "[Parallel(n_jobs=-1)]: Done  24 tasks      | elapsed:   13.8s\n",
      "[Parallel(n_jobs=-1)]: Done  37 tasks      | elapsed:   15.2s\n",
      "[Parallel(n_jobs=-1)]: Done  50 tasks      | elapsed:   17.0s\n",
      "[Parallel(n_jobs=-1)]: Done  65 tasks      | elapsed:   19.3s\n",
      "[Parallel(n_jobs=-1)]: Done  80 tasks      | elapsed:   21.4s\n",
      "[Parallel(n_jobs=-1)]: Done  97 tasks      | elapsed:   24.0s\n",
      "[Parallel(n_jobs=-1)]: Done 114 tasks      | elapsed:   26.4s\n",
      "[Parallel(n_jobs=-1)]: Done 133 tasks      | elapsed:   29.4s\n",
      "[Parallel(n_jobs=-1)]: Done 152 tasks      | elapsed:   32.3s\n",
      "[Parallel(n_jobs=-1)]: Done 173 tasks      | elapsed:   35.2s\n",
      "[Parallel(n_jobs=-1)]: Done 194 tasks      | elapsed:   38.2s\n",
      "[Parallel(n_jobs=-1)]: Done 217 tasks      | elapsed:   41.7s\n",
      "[Parallel(n_jobs=-1)]: Done 240 tasks      | elapsed:   45.5s\n",
      "[Parallel(n_jobs=-1)]: Done 265 tasks      | elapsed:   49.0s\n",
      "[Parallel(n_jobs=-1)]: Done 290 tasks      | elapsed:   52.8s\n",
      "[Parallel(n_jobs=-1)]: Done 317 tasks      | elapsed:   55.9s\n",
      "[Parallel(n_jobs=-1)]: Done 344 tasks      | elapsed:  1.0min\n",
      "[Parallel(n_jobs=-1)]: Done 373 tasks      | elapsed:  1.1min\n",
      "[Parallel(n_jobs=-1)]: Done 402 tasks      | elapsed:  1.1min\n",
      "[Parallel(n_jobs=-1)]: Done 433 tasks      | elapsed:  1.2min\n",
      "[Parallel(n_jobs=-1)]: Done 464 tasks      | elapsed:  1.3min\n",
      "[Parallel(n_jobs=-1)]: Done 497 tasks      | elapsed:  1.4min\n",
      "[Parallel(n_jobs=-1)]: Done 530 tasks      | elapsed:  1.5min\n",
      "[Parallel(n_jobs=-1)]: Done 565 tasks      | elapsed:  1.5min\n",
      "[Parallel(n_jobs=-1)]: Done 600 tasks      | elapsed:  1.6min\n",
      "[Parallel(n_jobs=-1)]: Done 637 tasks      | elapsed:  1.7min\n",
      "[Parallel(n_jobs=-1)]: Done 674 tasks      | elapsed:  1.8min\n",
      "[Parallel(n_jobs=-1)]: Done 713 tasks      | elapsed:  1.9min\n",
      "[Parallel(n_jobs=-1)]: Done 752 tasks      | elapsed:  2.0min\n",
      "[Parallel(n_jobs=-1)]: Done 793 tasks      | elapsed:  2.1min\n",
      "[Parallel(n_jobs=-1)]: Done 834 tasks      | elapsed:  2.2min\n",
      "[Parallel(n_jobs=-1)]: Done 877 tasks      | elapsed:  2.3min\n",
      "[Parallel(n_jobs=-1)]: Done 920 tasks      | elapsed:  2.4min\n",
      "[Parallel(n_jobs=-1)]: Done 965 tasks      | elapsed:  2.5min\n",
      "[Parallel(n_jobs=-1)]: Done 1010 tasks      | elapsed:  2.6min\n",
      "[Parallel(n_jobs=-1)]: Done 1057 tasks      | elapsed:  2.7min\n",
      "[Parallel(n_jobs=-1)]: Done 1104 tasks      | elapsed:  2.8min\n",
      "[Parallel(n_jobs=-1)]: Done 1153 tasks      | elapsed:  2.9min\n",
      "[Parallel(n_jobs=-1)]: Done 1202 tasks      | elapsed:  3.1min\n",
      "[Parallel(n_jobs=-1)]: Done 1253 tasks      | elapsed:  3.2min\n",
      "[Parallel(n_jobs=-1)]: Done 1304 tasks      | elapsed:  3.3min\n",
      "[Parallel(n_jobs=-1)]: Done 1357 tasks      | elapsed:  3.5min\n",
      "[Parallel(n_jobs=-1)]: Done 1410 tasks      | elapsed:  3.6min\n",
      "[Parallel(n_jobs=-1)]: Done 1465 tasks      | elapsed:  3.7min\n",
      "[Parallel(n_jobs=-1)]: Done 1520 tasks      | elapsed:  3.8min\n",
      "[Parallel(n_jobs=-1)]: Done 1577 tasks      | elapsed:  4.0min\n",
      "[Parallel(n_jobs=-1)]: Done 1634 tasks      | elapsed:  4.1min\n",
      "[Parallel(n_jobs=-1)]: Done 1693 tasks      | elapsed:  4.3min\n",
      "[Parallel(n_jobs=-1)]: Done 1752 tasks      | elapsed:  4.4min\n",
      "[Parallel(n_jobs=-1)]: Done 1813 tasks      | elapsed:  4.6min\n",
      "[Parallel(n_jobs=-1)]: Done 1874 tasks      | elapsed:  4.8min\n",
      "[Parallel(n_jobs=-1)]: Done 1937 tasks      | elapsed:  4.9min\n",
      "[Parallel(n_jobs=-1)]: Done 2000 tasks      | elapsed:  5.1min\n",
      "[Parallel(n_jobs=-1)]: Done 2065 tasks      | elapsed:  5.3min\n",
      "[Parallel(n_jobs=-1)]: Done 2130 tasks      | elapsed:  5.4min\n",
      "[Parallel(n_jobs=-1)]: Done 2197 tasks      | elapsed:  5.6min\n",
      "[Parallel(n_jobs=-1)]: Done 2264 tasks      | elapsed:  5.8min\n",
      "[Parallel(n_jobs=-1)]: Done 2333 tasks      | elapsed:  6.0min\n",
      "[Parallel(n_jobs=-1)]: Done 2402 tasks      | elapsed:  6.2min\n",
      "[Parallel(n_jobs=-1)]: Done 2473 tasks      | elapsed:  6.3min\n",
      "[Parallel(n_jobs=-1)]: Done 2544 tasks      | elapsed:  6.5min\n",
      "[Parallel(n_jobs=-1)]: Done 2617 tasks      | elapsed:  6.7min\n"
     ]
    },
    {
     "name": "stdout",
     "output_type": "stream",
     "text": [
      "\n"
     ]
    },
    {
     "name": "stderr",
     "output_type": "stream",
     "text": [
      "[Parallel(n_jobs=-1)]: Done 2664 out of 2664 | elapsed:  6.8min finished\n"
     ]
    }
   ],
   "source": [
    "Parallel(n_jobs=-1, verbose=10)(\n",
    "    delayed(generate_json_wav)(row, CBINLIST, cbin_names, DT_ID)\n",
    "    for idx, row in tqdm(song_df.iterrows(), total=len(song_df))\n",
    ");"
   ]
  },
  {
   "cell_type": "code",
   "execution_count": null,
   "metadata": {},
   "outputs": [],
   "source": []
  }
 ],
 "metadata": {
  "kernelspec": {
   "display_name": "Python 3",
   "language": "python",
   "name": "python3"
  },
  "language_info": {
   "codemirror_mode": {
    "name": "ipython",
    "version": 3
   },
   "file_extension": ".py",
   "mimetype": "text/x-python",
   "name": "python",
   "nbconvert_exporter": "python",
   "pygments_lexer": "ipython3",
   "version": "3.6.7"
  }
 },
 "nbformat": 4,
 "nbformat_minor": 2
}
