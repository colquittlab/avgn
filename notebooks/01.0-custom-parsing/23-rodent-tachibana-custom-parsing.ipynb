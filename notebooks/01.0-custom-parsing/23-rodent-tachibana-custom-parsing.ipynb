{
 "cells": [
  {
   "cell_type": "markdown",
   "metadata": {},
   "source": [
    "### rodent custom parsing\n",
    "- This dataset consists of 3861 vocalizations from Mice of two different strains, rats (pleasant calls and distress calls) and two different gerbils:\n",
    "    - WAV files for vocalization that contains labels for species and vocalization. \n",
    "- This notebook creates a JSON corresponding to each WAV file.\n",
    "- Dataset origin:\n",
    "    - https://sites.google.com/view/rtachi/resources\n",
    "    https://www.biorxiv.org/content/biorxiv/early/2019/03/10/572743.full.pdf"
   ]
  },
  {
   "cell_type": "code",
   "execution_count": 1,
   "metadata": {
    "ExecuteTime": {
     "end_time": "2019-09-26T23:31:00.019680Z",
     "start_time": "2019-09-26T23:30:59.996863Z"
    }
   },
   "outputs": [
    {
     "name": "stdout",
     "output_type": "stream",
     "text": [
      "env: CUDA_VISIBLE_DEVICES=[]\n"
     ]
    }
   ],
   "source": [
    "%load_ext autoreload\n",
    "%autoreload 2\n",
    "%env CUDA_VISIBLE_DEVICES=[]"
   ]
  },
  {
   "cell_type": "code",
   "execution_count": 2,
   "metadata": {
    "ExecuteTime": {
     "end_time": "2019-09-26T23:31:02.473884Z",
     "start_time": "2019-09-26T23:31:00.021650Z"
    }
   },
   "outputs": [
    {
     "name": "stderr",
     "output_type": "stream",
     "text": [
      "/mnt/cube/tsainbur/conda_envs/tpy3/lib/python3.6/site-packages/tqdm/autonotebook/__init__.py:14: TqdmExperimentalWarning: Using `tqdm.autonotebook.tqdm` in notebook mode. Use `tqdm.tqdm` instead to force console mode (e.g. in jupyter console)\n",
      "  \" (e.g. in jupyter console)\", TqdmExperimentalWarning)\n"
     ]
    }
   ],
   "source": [
    "from avgn.utils.general import prepare_env"
   ]
  },
  {
   "cell_type": "code",
   "execution_count": 3,
   "metadata": {
    "ExecuteTime": {
     "end_time": "2019-09-26T23:31:02.507030Z",
     "start_time": "2019-09-26T23:31:02.476192Z"
    }
   },
   "outputs": [
    {
     "name": "stdout",
     "output_type": "stream",
     "text": [
      "The autoreload extension is already loaded. To reload it, use:\n",
      "  %reload_ext autoreload\n",
      "env: CUDA_VISIBLE_DEVICES=GPU\n"
     ]
    }
   ],
   "source": [
    "prepare_env()"
   ]
  },
  {
   "cell_type": "markdown",
   "metadata": {},
   "source": [
    "### Import relevant packages"
   ]
  },
  {
   "cell_type": "code",
   "execution_count": 4,
   "metadata": {
    "ExecuteTime": {
     "end_time": "2019-09-26T23:31:03.196830Z",
     "start_time": "2019-09-26T23:31:02.508790Z"
    }
   },
   "outputs": [],
   "source": [
    "from joblib import Parallel, delayed\n",
    "from tqdm.autonotebook import tqdm\n",
    "import pandas as pd\n",
    "pd.options.display.max_columns = None\n",
    "import librosa\n",
    "from datetime import datetime\n",
    "import numpy as np"
   ]
  },
  {
   "cell_type": "code",
   "execution_count": 5,
   "metadata": {
    "ExecuteTime": {
     "end_time": "2019-09-26T23:31:03.238126Z",
     "start_time": "2019-09-26T23:31:03.198903Z"
    }
   },
   "outputs": [],
   "source": [
    "import avgn\n",
    "from avgn.custom_parsing.rodent_tachibana import generate_json\n",
    "from avgn.utils.paths import DATA_DIR"
   ]
  },
  {
   "cell_type": "markdown",
   "metadata": {},
   "source": [
    "### Load data in original format"
   ]
  },
  {
   "cell_type": "code",
   "execution_count": 6,
   "metadata": {
    "ExecuteTime": {
     "end_time": "2019-09-26T23:31:03.361429Z",
     "start_time": "2019-09-26T23:31:03.239999Z"
    }
   },
   "outputs": [
    {
     "data": {
      "text/plain": [
       "'2019-09-26_16-31-03'"
      ]
     },
     "execution_count": 6,
     "metadata": {},
     "output_type": "execute_result"
    }
   ],
   "source": [
    "# create a unique datetime identifier for the files output by this notebook\n",
    "DT_ID = datetime.now().strftime(\"%Y-%m-%d_%H-%M-%S\")\n",
    "DT_ID"
   ]
  },
  {
   "cell_type": "code",
   "execution_count": 7,
   "metadata": {
    "ExecuteTime": {
     "end_time": "2019-09-26T23:31:03.442112Z",
     "start_time": "2019-09-26T23:31:03.364705Z"
    }
   },
   "outputs": [
    {
     "data": {
      "text/plain": [
       "PosixPath('/mnt/cube/tsainbur/Projects/github_repos/avgn_paper/data/raw/rodent/zip_contents')"
      ]
     },
     "execution_count": 7,
     "metadata": {},
     "output_type": "execute_result"
    }
   ],
   "source": [
    "DSLOC = DATA_DIR/\"raw/rodent/zip_contents\"\n",
    "DSLOC"
   ]
  },
  {
   "cell_type": "code",
   "execution_count": 8,
   "metadata": {
    "ExecuteTime": {
     "end_time": "2019-09-26T23:31:03.527901Z",
     "start_time": "2019-09-26T23:31:03.444050Z"
    }
   },
   "outputs": [
    {
     "data": {
      "text/plain": [
       "21"
      ]
     },
     "execution_count": 8,
     "metadata": {},
     "output_type": "execute_result"
    }
   ],
   "source": [
    "all_wavs = list(DSLOC.expanduser().glob('*/*.wav')) + list(DSLOC.expanduser().glob('*/*.WAV'))\n",
    "all_wavs = [i for i in all_wavs if i.stem[0] != '.']\n",
    "len(all_wavs)"
   ]
  },
  {
   "cell_type": "code",
   "execution_count": 9,
   "metadata": {
    "ExecuteTime": {
     "end_time": "2019-09-26T23:31:03.609093Z",
     "start_time": "2019-09-26T23:31:03.530198Z"
    }
   },
   "outputs": [
    {
     "data": {
      "text/plain": [
       "21"
      ]
     },
     "execution_count": 9,
     "metadata": {},
     "output_type": "execute_result"
    }
   ],
   "source": [
    "all_csvs = list(DSLOC.expanduser().glob('*/*.csv'))\n",
    "all_csvs = [i for i in all_csvs if i.stem[0] != '.']\n",
    "len(all_csvs)"
   ]
  },
  {
   "cell_type": "code",
   "execution_count": 10,
   "metadata": {
    "ExecuteTime": {
     "end_time": "2019-09-26T23:31:03.692501Z",
     "start_time": "2019-09-26T23:31:03.611013Z"
    }
   },
   "outputs": [
    {
     "data": {
      "text/plain": [
       "[PosixPath('/mnt/cube/tsainbur/Projects/github_repos/avgn_paper/data/raw/rodent/zip_contents/rat_distressed/20181026_153035_384K_1Ch_a60_r.wav'),\n",
       " PosixPath('/mnt/cube/tsainbur/Projects/github_repos/avgn_paper/data/raw/rodent/zip_contents/rat_distressed/20181026_150742_384K_1Ch_a58_r.wav'),\n",
       " PosixPath('/mnt/cube/tsainbur/Projects/github_repos/avgn_paper/data/raw/rodent/zip_contents/rat_distressed/20181026_145634_384K_1Ch_a57_r.wav')]"
      ]
     },
     "execution_count": 10,
     "metadata": {},
     "output_type": "execute_result"
    }
   ],
   "source": [
    "all_wavs[:3]"
   ]
  },
  {
   "cell_type": "code",
   "execution_count": 11,
   "metadata": {
    "ExecuteTime": {
     "end_time": "2019-09-26T23:31:03.819295Z",
     "start_time": "2019-09-26T23:31:03.696317Z"
    }
   },
   "outputs": [
    {
     "data": {
      "text/html": [
       "<div>\n",
       "<style scoped>\n",
       "    .dataframe tbody tr th:only-of-type {\n",
       "        vertical-align: middle;\n",
       "    }\n",
       "\n",
       "    .dataframe tbody tr th {\n",
       "        vertical-align: top;\n",
       "    }\n",
       "\n",
       "    .dataframe thead th {\n",
       "        text-align: right;\n",
       "    }\n",
       "</style>\n",
       "<table border=\"1\" class=\"dataframe\">\n",
       "  <thead>\n",
       "    <tr style=\"text-align: right;\">\n",
       "      <th></th>\n",
       "      <th>wavloc</th>\n",
       "    </tr>\n",
       "  </thead>\n",
       "  <tbody>\n",
       "    <tr>\n",
       "      <th>0</th>\n",
       "      <td>/mnt/cube/tsainbur/Projects/github_repos/avgn_...</td>\n",
       "    </tr>\n",
       "    <tr>\n",
       "      <th>1</th>\n",
       "      <td>/mnt/cube/tsainbur/Projects/github_repos/avgn_...</td>\n",
       "    </tr>\n",
       "    <tr>\n",
       "      <th>2</th>\n",
       "      <td>/mnt/cube/tsainbur/Projects/github_repos/avgn_...</td>\n",
       "    </tr>\n",
       "  </tbody>\n",
       "</table>\n",
       "</div>"
      ],
      "text/plain": [
       "                                              wavloc\n",
       "0  /mnt/cube/tsainbur/Projects/github_repos/avgn_...\n",
       "1  /mnt/cube/tsainbur/Projects/github_repos/avgn_...\n",
       "2  /mnt/cube/tsainbur/Projects/github_repos/avgn_..."
      ]
     },
     "execution_count": 11,
     "metadata": {},
     "output_type": "execute_result"
    }
   ],
   "source": [
    "wav_df = pd.DataFrame(all_wavs, columns = ['wavloc'])\n",
    "wav_df[:3]"
   ]
  },
  {
   "cell_type": "markdown",
   "metadata": {},
   "source": [
    "### create json for wavs"
   ]
  },
  {
   "cell_type": "code",
   "execution_count": 12,
   "metadata": {
    "ExecuteTime": {
     "end_time": "2019-09-26T23:31:04.118408Z",
     "start_time": "2019-09-26T23:31:03.821354Z"
    },
    "scrolled": true
   },
   "outputs": [
    {
     "data": {
      "application/vnd.jupyter.widget-view+json": {
       "model_id": "6ff5412b4b6f4927b3182330c4b51164",
       "version_major": 2,
       "version_minor": 0
      },
      "text/plain": [
       "HBox(children=(IntProgress(value=0, max=21), HTML(value='')))"
      ]
     },
     "metadata": {},
     "output_type": "display_data"
    },
    {
     "name": "stdout",
     "output_type": "stream",
     "text": [
      "/mnt/cube/tsainbur/Projects/github_repos/avgn_paper/data/processed/tachibana_rat/2019-09-26_16-31-03/JSON/20181026_153035_384K_1Ch_a60_r.JSON\n",
      "/mnt/cube/tsainbur/Projects/github_repos/avgn_paper/data/processed/tachibana_rat/2019-09-26_16-31-03/JSON/20181026_150742_384K_1Ch_a58_r.JSON\n",
      "/mnt/cube/tsainbur/Projects/github_repos/avgn_paper/data/processed/tachibana_rat/2019-09-26_16-31-03/JSON/20181026_145634_384K_1Ch_a57_r.JSON\n",
      "/mnt/cube/tsainbur/Projects/github_repos/avgn_paper/data/processed/tachibana_rat/2019-09-26_16-31-03/JSON/20181026_142935_384K_1Ch_a55_r.JSON\n",
      "/mnt/cube/tsainbur/Projects/github_repos/avgn_paper/data/processed/tachibana_rat/2019-09-26_16-31-03/JSON/20181010_093120_384K_1Ch_a18_r.JSON\n",
      "/mnt/cube/tsainbur/Projects/github_repos/avgn_paper/data/processed/tachibana_rat/2019-09-26_16-31-03/JSON/20181010_095344_384K_1Ch_a14_r.JSON\n",
      "/mnt/cube/tsainbur/Projects/github_repos/avgn_paper/data/processed/tachibana_rat/2019-09-26_16-31-03/JSON/20181010_093817_384K_1Ch_a42_r.JSON\n",
      "/mnt/cube/tsainbur/Projects/github_repos/avgn_paper/data/processed/tachibana_gerbil/2019-09-26_16-31-03/JSON/uSFMdata.JSON\n",
      "/mnt/cube/tsainbur/Projects/github_repos/avgn_paper/data/processed/tachibana_gerbil/2019-09-26_16-31-03/JSON/uFMdata.JSON\n",
      "/mnt/cube/tsainbur/Projects/github_repos/avgn_paper/data/processed/tachibana_mouse/2019-09-26_16-31-03/JSON/BALB128-4vsBALBfe.JSON\n",
      "/mnt/cube/tsainbur/Projects/github_repos/avgn_paper/data/processed/tachibana_mouse/2019-09-26_16-31-03/JSON/ClnBALB124-4vsBALBfe.JSON\n",
      "/mnt/cube/tsainbur/Projects/github_repos/avgn_paper/data/processed/tachibana_mouse/2019-09-26_16-31-03/JSON/F_140526Can16-1test2_2Novel.JSON\n",
      "/mnt/cube/tsainbur/Projects/github_repos/avgn_paper/data/processed/tachibana_mouse/2019-09-26_16-31-03/JSON/B_140513Aco59_2Home2.JSON\n",
      "/mnt/cube/tsainbur/Projects/github_repos/avgn_paper/data/processed/tachibana_mouse/2019-09-26_16-31-03/JSON/L_3_1vsBBE2.JSON\n",
      "/mnt/cube/tsainbur/Projects/github_repos/avgn_paper/data/processed/tachibana_mouse/2019-09-26_16-31-03/JSON/C_140526Can15-1test1_1Home.JSON\n",
      "/mnt/cube/tsainbur/Projects/github_repos/avgn_paper/data/processed/tachibana_mouse/2019-09-26_16-31-03/JSON/H_9_2vsBBA-E2Novel.JSON\n",
      "/mnt/cube/tsainbur/Projects/github_repos/avgn_paper/data/processed/tachibana_mouse/2019-09-26_16-31-03/JSON/E_140526Can16-1test1_2Home.JSON\n",
      "/mnt/cube/tsainbur/Projects/github_repos/avgn_paper/data/processed/tachibana_mouse/2019-09-26_16-31-03/JSON/D_140526Can15-1test2_2Home.JSON\n",
      "/mnt/cube/tsainbur/Projects/github_repos/avgn_paper/data/processed/tachibana_mouse/2019-09-26_16-31-03/JSON/I_140526Aco65-1test1_1Home.JSON\n",
      "/mnt/cube/tsainbur/Projects/github_repos/avgn_paper/data/processed/tachibana_mouse/2019-09-26_16-31-03/JSON/A_140513Aco59_2Home1.JSON\n",
      "/mnt/cube/tsainbur/Projects/github_repos/avgn_paper/data/processed/tachibana_mouse/2019-09-26_16-31-03/JSON/G_9_2vsBBE2Home1.JSON\n",
      "\n"
     ]
    },
    {
     "name": "stderr",
     "output_type": "stream",
     "text": [
      "[Parallel(n_jobs=1)]: Using backend SequentialBackend with 1 concurrent workers.\n",
      "[Parallel(n_jobs=1)]: Done   1 out of   1 | elapsed:    0.0s remaining:    0.0s\n",
      "[Parallel(n_jobs=1)]: Done   2 out of   2 | elapsed:    0.0s remaining:    0.0s\n",
      "[Parallel(n_jobs=1)]: Done   3 out of   3 | elapsed:    0.0s remaining:    0.0s\n",
      "[Parallel(n_jobs=1)]: Done   4 out of   4 | elapsed:    0.0s remaining:    0.0s\n",
      "[Parallel(n_jobs=1)]: Done   5 out of   5 | elapsed:    0.1s remaining:    0.0s\n",
      "[Parallel(n_jobs=1)]: Done   6 out of   6 | elapsed:    0.1s remaining:    0.0s\n",
      "[Parallel(n_jobs=1)]: Done   7 out of   7 | elapsed:    0.1s remaining:    0.0s\n",
      "[Parallel(n_jobs=1)]: Done   8 out of   8 | elapsed:    0.1s remaining:    0.0s\n",
      "[Parallel(n_jobs=1)]: Done   9 out of   9 | elapsed:    0.1s remaining:    0.0s\n",
      "[Parallel(n_jobs=1)]: Done  21 out of  21 | elapsed:    0.2s finished\n"
     ]
    }
   ],
   "source": [
    "with Parallel(n_jobs=1, verbose=10) as parallel:\n",
    "    parallel(\n",
    "        delayed(generate_json)(\n",
    "            row,\n",
    "            DT_ID\n",
    "        )\n",
    "        for idx, row in tqdm(wav_df.iterrows(), total=len(wav_df))\n",
    "    );"
   ]
  }
 ],
 "metadata": {
  "kernelspec": {
   "display_name": "Python 3",
   "language": "python",
   "name": "python3"
  },
  "language_info": {
   "codemirror_mode": {
    "name": "ipython",
    "version": 3
   },
   "file_extension": ".py",
   "mimetype": "text/x-python",
   "name": "python",
   "nbconvert_exporter": "python",
   "pygments_lexer": "ipython3",
   "version": "3.6.7"
  }
 },
 "nbformat": 4,
 "nbformat_minor": 2
}
