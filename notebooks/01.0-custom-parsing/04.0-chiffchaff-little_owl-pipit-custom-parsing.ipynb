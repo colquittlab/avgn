{
 "cells": [
  {
   "cell_type": "markdown",
   "metadata": {},
   "source": [
    "### Chiffchaff, little owl, tree pipit custom parsing\n",
    "- This dataset has:\n",
    "    - A number of CSVs with individual ID corresponding to each WAV file\n",
    "    - WAV files for vocalization\n",
    "    - WAV files with only background noise for each vocalization\n",
    "- This notebook creates a JSON corresponding to each WAV file (and Noise file where available).\n",
    "- Dataset origin:\n",
    "    - https://zenodo.org/record/1413495#.XQ0UM29KjUK\n",
    "    - https://href.li/?https://royalsocietypublishing.org/doi/full/10.1098/rsif.2018.0940"
   ]
  },
  {
   "cell_type": "code",
   "execution_count": 1,
   "metadata": {
    "ExecuteTime": {
     "end_time": "2019-06-23T18:01:15.379768Z",
     "start_time": "2019-06-23T18:01:13.495399Z"
    }
   },
   "outputs": [],
   "source": [
    "from avgn.utils.general import prepare_env"
   ]
  },
  {
   "cell_type": "code",
   "execution_count": 2,
   "metadata": {
    "ExecuteTime": {
     "end_time": "2019-06-23T18:01:15.418031Z",
     "start_time": "2019-06-23T18:01:15.382186Z"
    }
   },
   "outputs": [
    {
     "name": "stdout",
     "output_type": "stream",
     "text": [
      "env: CUDA_VISIBLE_DEVICES=GPU\n"
     ]
    }
   ],
   "source": [
    "prepare_env()"
   ]
  },
  {
   "cell_type": "markdown",
   "metadata": {},
   "source": [
    "### Import relevant packages"
   ]
  },
  {
   "cell_type": "code",
   "execution_count": 3,
   "metadata": {
    "ExecuteTime": {
     "end_time": "2019-06-23T18:01:16.205943Z",
     "start_time": "2019-06-23T18:01:15.421618Z"
    }
   },
   "outputs": [
    {
     "name": "stderr",
     "output_type": "stream",
     "text": [
      "/mnt/cube/tsainbur/conda_envs/tpy3/lib/python3.6/site-packages/tqdm/autonotebook/__init__.py:14: TqdmExperimentalWarning: Using `tqdm.autonotebook.tqdm` in notebook mode. Use `tqdm.tqdm` instead to force console mode (e.g. in jupyter console)\n",
      "  \" (e.g. in jupyter console)\", TqdmExperimentalWarning)\n"
     ]
    }
   ],
   "source": [
    "from joblib import Parallel, delayed\n",
    "from tqdm.autonotebook import tqdm\n",
    "import pandas as pd\n",
    "pd.options.display.max_columns = None\n",
    "import librosa\n",
    "from datetime import datetime\n",
    "import numpy as np"
   ]
  },
  {
   "cell_type": "code",
   "execution_count": 4,
   "metadata": {
    "ExecuteTime": {
     "end_time": "2019-06-23T18:01:16.243927Z",
     "start_time": "2019-06-23T18:01:16.208258Z"
    }
   },
   "outputs": [],
   "source": [
    "import avgn\n",
    "from avgn.custom_parsing.stowell_birds import parse_csv, generate_json\n",
    "from avgn.utils.paths import DATA_DIR"
   ]
  },
  {
   "cell_type": "markdown",
   "metadata": {},
   "source": [
    "### Load data in original format"
   ]
  },
  {
   "cell_type": "code",
   "execution_count": 5,
   "metadata": {
    "ExecuteTime": {
     "end_time": "2019-06-23T18:01:16.378368Z",
     "start_time": "2019-06-23T18:01:16.245745Z"
    }
   },
   "outputs": [
    {
     "data": {
      "text/plain": [
       "'2019-06-23_11-01-16'"
      ]
     },
     "execution_count": 5,
     "metadata": {},
     "output_type": "execute_result"
    }
   ],
   "source": [
    "# create a unique datetime identifier for the files output by this notebook\n",
    "DT_ID = datetime.now().strftime(\"%Y-%m-%d_%H-%M-%S\")\n",
    "DT_ID"
   ]
  },
  {
   "cell_type": "code",
   "execution_count": 6,
   "metadata": {
    "ExecuteTime": {
     "end_time": "2019-06-23T18:01:16.477888Z",
     "start_time": "2019-06-23T18:01:16.382262Z"
    }
   },
   "outputs": [
    {
     "data": {
      "text/plain": [
       "PosixPath('/mnt/cube/Datasets/StowellBirdID')"
      ]
     },
     "execution_count": 6,
     "metadata": {},
     "output_type": "execute_result"
    }
   ],
   "source": [
    "DSLOC = avgn.utils.paths.Path('/mnt/cube/Datasets/StowellBirdID/')\n",
    "DSLOC"
   ]
  },
  {
   "cell_type": "code",
   "execution_count": 7,
   "metadata": {
    "ExecuteTime": {
     "end_time": "2019-06-23T18:01:16.589562Z",
     "start_time": "2019-06-23T18:01:16.479905Z"
    }
   },
   "outputs": [
    {
     "data": {
      "text/plain": [
       "(20,\n",
       " [PosixPath('/mnt/cube/Datasets/StowellBirdID/csv/chiffchaff-acrossyear-bg-trn.csv'),\n",
       "  PosixPath('/mnt/cube/Datasets/StowellBirdID/csv/pipit-withinyear-fg-tst.csv'),\n",
       "  PosixPath('/mnt/cube/Datasets/StowellBirdID/csv/chiffchaff-acrossyear-bg-tst.csv')])"
      ]
     },
     "execution_count": 7,
     "metadata": {},
     "output_type": "execute_result"
    }
   ],
   "source": [
    "CSVs = list(DSLOC.glob('csv/*.csv'))\n",
    "len(CSVs), CSVs[:3]"
   ]
  },
  {
   "cell_type": "code",
   "execution_count": 8,
   "metadata": {
    "ExecuteTime": {
     "end_time": "2019-06-23T18:01:16.781137Z",
     "start_time": "2019-06-23T18:01:16.592794Z"
    }
   },
   "outputs": [
    {
     "data": {
      "text/html": [
       "<div>\n",
       "<style scoped>\n",
       "    .dataframe tbody tr th:only-of-type {\n",
       "        vertical-align: middle;\n",
       "    }\n",
       "\n",
       "    .dataframe tbody tr th {\n",
       "        vertical-align: top;\n",
       "    }\n",
       "\n",
       "    .dataframe thead th {\n",
       "        text-align: right;\n",
       "    }\n",
       "</style>\n",
       "<table border=\"1\" class=\"dataframe\">\n",
       "  <thead>\n",
       "    <tr style=\"text-align: right;\">\n",
       "      <th></th>\n",
       "      <th>species</th>\n",
       "      <th>withinacross</th>\n",
       "      <th>fgbg</th>\n",
       "      <th>traintest</th>\n",
       "      <th>csvloc</th>\n",
       "    </tr>\n",
       "  </thead>\n",
       "  <tbody>\n",
       "    <tr>\n",
       "      <th>0</th>\n",
       "      <td>chiffchaff</td>\n",
       "      <td>acrossyear</td>\n",
       "      <td>bg</td>\n",
       "      <td>trn</td>\n",
       "      <td>/mnt/cube/Datasets/StowellBirdID/csv/chiffchaf...</td>\n",
       "    </tr>\n",
       "    <tr>\n",
       "      <th>1</th>\n",
       "      <td>pipit</td>\n",
       "      <td>withinyear</td>\n",
       "      <td>fg</td>\n",
       "      <td>tst</td>\n",
       "      <td>/mnt/cube/Datasets/StowellBirdID/csv/pipit-wit...</td>\n",
       "    </tr>\n",
       "    <tr>\n",
       "      <th>2</th>\n",
       "      <td>chiffchaff</td>\n",
       "      <td>acrossyear</td>\n",
       "      <td>bg</td>\n",
       "      <td>tst</td>\n",
       "      <td>/mnt/cube/Datasets/StowellBirdID/csv/chiffchaf...</td>\n",
       "    </tr>\n",
       "  </tbody>\n",
       "</table>\n",
       "</div>"
      ],
      "text/plain": [
       "      species withinacross fgbg traintest  \\\n",
       "0  chiffchaff   acrossyear   bg       trn   \n",
       "1       pipit   withinyear   fg       tst   \n",
       "2  chiffchaff   acrossyear   bg       tst   \n",
       "\n",
       "                                              csvloc  \n",
       "0  /mnt/cube/Datasets/StowellBirdID/csv/chiffchaf...  \n",
       "1  /mnt/cube/Datasets/StowellBirdID/csv/pipit-wit...  \n",
       "2  /mnt/cube/Datasets/StowellBirdID/csv/chiffchaf...  "
      ]
     },
     "execution_count": 8,
     "metadata": {},
     "output_type": "execute_result"
    }
   ],
   "source": [
    "csv_df = pd.DataFrame(\n",
    "    [csv.stem.split(\"-\") + [csv] for csv in CSVs],\n",
    "    columns=[\"species\", \"withinacross\", \"fgbg\", \"traintest\", \"csvloc\"],\n",
    ")\n",
    "csv_df[:3]"
   ]
  },
  {
   "cell_type": "code",
   "execution_count": 9,
   "metadata": {
    "ExecuteTime": {
     "end_time": "2019-06-23T18:01:45.410742Z",
     "start_time": "2019-06-23T18:01:16.784379Z"
    }
   },
   "outputs": [
    {
     "data": {
      "application/vnd.jupyter.widget-view+json": {
       "model_id": "295ee25b21724c91a117d90f7af2509b",
       "version_major": 2,
       "version_minor": 0
      },
      "text/plain": [
       "HBox(children=(IntProgress(value=0, max=20), HTML(value='')))"
      ]
     },
     "metadata": {},
     "output_type": "display_data"
    },
    {
     "name": "stderr",
     "output_type": "stream",
     "text": [
      "[Parallel(n_jobs=-1)]: Using backend LokyBackend with 24 concurrent workers.\n"
     ]
    },
    {
     "name": "stdout",
     "output_type": "stream",
     "text": [
      "\n"
     ]
    },
    {
     "name": "stderr",
     "output_type": "stream",
     "text": [
      "[Parallel(n_jobs=-1)]: Done   3 out of  20 | elapsed:    5.2s remaining:   29.6s\n",
      "[Parallel(n_jobs=-1)]: Done   6 out of  20 | elapsed:    5.4s remaining:   12.7s\n",
      "[Parallel(n_jobs=-1)]: Done   9 out of  20 | elapsed:    5.8s remaining:    7.0s\n",
      "[Parallel(n_jobs=-1)]: Done  12 out of  20 | elapsed:    6.0s remaining:    4.0s\n",
      "[Parallel(n_jobs=-1)]: Done  15 out of  20 | elapsed:    6.6s remaining:    2.2s\n",
      "[Parallel(n_jobs=-1)]: Done  18 out of  20 | elapsed:    9.1s remaining:    1.0s\n",
      "[Parallel(n_jobs=-1)]: Done  20 out of  20 | elapsed:   28.5s finished\n"
     ]
    }
   ],
   "source": [
    "with Parallel(n_jobs=-1, verbose=10) as parallel:\n",
    "    wav_df = parallel(\n",
    "        delayed(parse_csv)(\n",
    "            csvrow,\n",
    "            DSLOC\n",
    "        )\n",
    "        for idx, csvrow in tqdm(csv_df.iterrows(), total=len(csv_df))\n",
    "    );\n",
    "wav_df = pd.concat(wav_df)"
   ]
  },
  {
   "cell_type": "code",
   "execution_count": 10,
   "metadata": {
    "ExecuteTime": {
     "end_time": "2019-06-23T18:01:45.689415Z",
     "start_time": "2019-06-23T18:01:45.413325Z"
    }
   },
   "outputs": [
    {
     "name": "stdout",
     "output_type": "stream",
     "text": [
      "18110\n"
     ]
    },
    {
     "data": {
      "text/html": [
       "<div>\n",
       "<style scoped>\n",
       "    .dataframe tbody tr th:only-of-type {\n",
       "        vertical-align: middle;\n",
       "    }\n",
       "\n",
       "    .dataframe tbody tr th {\n",
       "        vertical-align: top;\n",
       "    }\n",
       "\n",
       "    .dataframe thead th {\n",
       "        text-align: right;\n",
       "    }\n",
       "</style>\n",
       "<table border=\"1\" class=\"dataframe\">\n",
       "  <thead>\n",
       "    <tr style=\"text-align: right;\">\n",
       "      <th></th>\n",
       "      <th>species</th>\n",
       "      <th>year</th>\n",
       "      <th>fgbg</th>\n",
       "      <th>trntst</th>\n",
       "      <th>indv</th>\n",
       "      <th>cutted</th>\n",
       "      <th>groundx</th>\n",
       "      <th>wavnum</th>\n",
       "      <th>wavloc</th>\n",
       "    </tr>\n",
       "  </thead>\n",
       "  <tbody>\n",
       "    <tr>\n",
       "      <th>0</th>\n",
       "      <td>chiffchaff</td>\n",
       "      <td>acrossyear</td>\n",
       "      <td>bg</td>\n",
       "      <td>trn</td>\n",
       "      <td>F72726</td>\n",
       "      <td>cutted</td>\n",
       "      <td>bgx</td>\n",
       "      <td>0000</td>\n",
       "      <td>/mnt/cube/Datasets/StowellBirdID/wav/chiffchaf...</td>\n",
       "    </tr>\n",
       "    <tr>\n",
       "      <th>1</th>\n",
       "      <td>chiffchaff</td>\n",
       "      <td>acrossyear</td>\n",
       "      <td>bg</td>\n",
       "      <td>trn</td>\n",
       "      <td>F72726</td>\n",
       "      <td>cutted</td>\n",
       "      <td>bgx</td>\n",
       "      <td>0001</td>\n",
       "      <td>/mnt/cube/Datasets/StowellBirdID/wav/chiffchaf...</td>\n",
       "    </tr>\n",
       "    <tr>\n",
       "      <th>2</th>\n",
       "      <td>chiffchaff</td>\n",
       "      <td>acrossyear</td>\n",
       "      <td>bg</td>\n",
       "      <td>trn</td>\n",
       "      <td>F72726</td>\n",
       "      <td>cutted</td>\n",
       "      <td>bgx</td>\n",
       "      <td>0002</td>\n",
       "      <td>/mnt/cube/Datasets/StowellBirdID/wav/chiffchaf...</td>\n",
       "    </tr>\n",
       "  </tbody>\n",
       "</table>\n",
       "</div>"
      ],
      "text/plain": [
       "      species        year fgbg trntst    indv  cutted groundx wavnum  \\\n",
       "0  chiffchaff  acrossyear   bg    trn  F72726  cutted     bgx   0000   \n",
       "1  chiffchaff  acrossyear   bg    trn  F72726  cutted     bgx   0001   \n",
       "2  chiffchaff  acrossyear   bg    trn  F72726  cutted     bgx   0002   \n",
       "\n",
       "                                              wavloc  \n",
       "0  /mnt/cube/Datasets/StowellBirdID/wav/chiffchaf...  \n",
       "1  /mnt/cube/Datasets/StowellBirdID/wav/chiffchaf...  \n",
       "2  /mnt/cube/Datasets/StowellBirdID/wav/chiffchaf...  "
      ]
     },
     "metadata": {},
     "output_type": "display_data"
    }
   ],
   "source": [
    "print(len(wav_df))\n",
    "display(wav_df[:3])"
   ]
  },
  {
   "cell_type": "code",
   "execution_count": 11,
   "metadata": {
    "ExecuteTime": {
     "end_time": "2019-06-23T18:01:45.795522Z",
     "start_time": "2019-06-23T18:01:45.691229Z"
    }
   },
   "outputs": [
    {
     "data": {
      "text/plain": [
       "0.7427388183324131"
      ]
     },
     "execution_count": 11,
     "metadata": {},
     "output_type": "execute_result"
    }
   ],
   "source": [
    "np.sum(wav_df.trntst == 'trn')/len(wav_df)"
   ]
  },
  {
   "cell_type": "code",
   "execution_count": 12,
   "metadata": {
    "ExecuteTime": {
     "end_time": "2019-06-23T18:01:45.892708Z",
     "start_time": "2019-06-23T18:01:45.798702Z"
    }
   },
   "outputs": [
    {
     "data": {
      "text/plain": [
       "array(['acrossyear', 'withinyear'], dtype=object)"
      ]
     },
     "execution_count": 12,
     "metadata": {},
     "output_type": "execute_result"
    }
   ],
   "source": [
    "wav_df.year.unique()"
   ]
  },
  {
   "cell_type": "code",
   "execution_count": 13,
   "metadata": {
    "ExecuteTime": {
     "end_time": "2019-06-23T18:01:46.006860Z",
     "start_time": "2019-06-23T18:01:45.894801Z"
    }
   },
   "outputs": [
    {
     "data": {
      "text/plain": [
       "array(['cutted', 'pipit2017fg', 'littleowl2017bg', 'pipit2017bg',\n",
       "       'littleowl2017fg', 'linhart2015marnosong'], dtype=object)"
      ]
     },
     "execution_count": 13,
     "metadata": {},
     "output_type": "execute_result"
    }
   ],
   "source": [
    "wav_df.cutted.unique()"
   ]
  },
  {
   "cell_type": "code",
   "execution_count": 14,
   "metadata": {
    "ExecuteTime": {
     "end_time": "2019-06-23T18:01:46.094815Z",
     "start_time": "2019-06-23T18:01:46.019043Z"
    }
   },
   "outputs": [
    {
     "data": {
      "text/plain": [
       "array(['chiffchaff', 'pipit', 'littleowl'], dtype=object)"
      ]
     },
     "execution_count": 14,
     "metadata": {},
     "output_type": "execute_result"
    }
   ],
   "source": [
    "wav_df.species.unique()"
   ]
  },
  {
   "cell_type": "code",
   "execution_count": 15,
   "metadata": {
    "ExecuteTime": {
     "end_time": "2019-06-23T18:01:46.193694Z",
     "start_time": "2019-06-23T18:01:46.098574Z"
    }
   },
   "outputs": [
    {
     "data": {
      "text/plain": [
       "array(['bg', 'fg'], dtype=object)"
      ]
     },
     "execution_count": 15,
     "metadata": {},
     "output_type": "execute_result"
    }
   ],
   "source": [
    "wav_df.fgbg.unique()"
   ]
  },
  {
   "cell_type": "markdown",
   "metadata": {},
   "source": [
    "### Find corresponding WAVs and noise"
   ]
  },
  {
   "cell_type": "code",
   "execution_count": 18,
   "metadata": {
    "ExecuteTime": {
     "end_time": "2019-06-24T04:10:47.909073Z",
     "start_time": "2019-06-24T04:09:55.825966Z"
    },
    "scrolled": true
   },
   "outputs": [
    {
     "data": {
      "application/vnd.jupyter.widget-view+json": {
       "model_id": "964b8ac2771749509301a46e3644d5f8",
       "version_major": 2,
       "version_minor": 0
      },
      "text/plain": [
       "HBox(children=(IntProgress(value=0, max=9148), HTML(value='')))"
      ]
     },
     "metadata": {},
     "output_type": "display_data"
    },
    {
     "name": "stderr",
     "output_type": "stream",
     "text": [
      "[Parallel(n_jobs=-1)]: Using backend LokyBackend with 24 concurrent workers.\n",
      "[Parallel(n_jobs=-1)]: Done   2 tasks      | elapsed:    5.1s\n",
      "[Parallel(n_jobs=-1)]: Done  13 tasks      | elapsed:    5.2s\n",
      "[Parallel(n_jobs=-1)]: Done  24 tasks      | elapsed:    5.3s\n",
      "[Parallel(n_jobs=-1)]: Done  37 tasks      | elapsed:    5.4s\n",
      "[Parallel(n_jobs=-1)]: Done  50 tasks      | elapsed:    5.4s\n",
      "[Parallel(n_jobs=-1)]: Done  65 tasks      | elapsed:    5.5s\n",
      "[Parallel(n_jobs=-1)]: Done  80 tasks      | elapsed:    5.5s\n",
      "[Parallel(n_jobs=-1)]: Batch computation too fast (0.1991s.) Setting batch_size=2.\n",
      "[Parallel(n_jobs=-1)]: Done  97 tasks      | elapsed:    5.6s\n",
      "[Parallel(n_jobs=-1)]: Done 114 tasks      | elapsed:    5.8s\n",
      "[Parallel(n_jobs=-1)]: Done 133 tasks      | elapsed:    5.9s\n",
      "[Parallel(n_jobs=-1)]: Done 171 tasks      | elapsed:    6.0s\n",
      "[Parallel(n_jobs=-1)]: Done 213 tasks      | elapsed:    6.2s\n",
      "[Parallel(n_jobs=-1)]: Done 255 tasks      | elapsed:    6.3s\n",
      "[Parallel(n_jobs=-1)]: Done 301 tasks      | elapsed:    6.5s\n",
      "[Parallel(n_jobs=-1)]: Done 347 tasks      | elapsed:    6.6s\n",
      "[Parallel(n_jobs=-1)]: Done 397 tasks      | elapsed:    6.8s\n",
      "[Parallel(n_jobs=-1)]: Done 447 tasks      | elapsed:    7.0s\n",
      "[Parallel(n_jobs=-1)]: Done 501 tasks      | elapsed:    7.2s\n",
      "[Parallel(n_jobs=-1)]: Done 555 tasks      | elapsed:    7.4s\n",
      "[Parallel(n_jobs=-1)]: Done 613 tasks      | elapsed:    7.6s\n",
      "[Parallel(n_jobs=-1)]: Done 671 tasks      | elapsed:    7.9s\n",
      "[Parallel(n_jobs=-1)]: Done 733 tasks      | elapsed:    8.3s\n",
      "[Parallel(n_jobs=-1)]: Done 795 tasks      | elapsed:    8.6s\n",
      "[Parallel(n_jobs=-1)]: Done 861 tasks      | elapsed:    9.0s\n",
      "[Parallel(n_jobs=-1)]: Done 927 tasks      | elapsed:    9.3s\n",
      "[Parallel(n_jobs=-1)]: Done 997 tasks      | elapsed:    9.7s\n",
      "[Parallel(n_jobs=-1)]: Done 1067 tasks      | elapsed:   10.1s\n",
      "[Parallel(n_jobs=-1)]: Done 1141 tasks      | elapsed:   10.5s\n",
      "[Parallel(n_jobs=-1)]: Done 1215 tasks      | elapsed:   10.8s\n",
      "[Parallel(n_jobs=-1)]: Done 1293 tasks      | elapsed:   11.2s\n",
      "[Parallel(n_jobs=-1)]: Done 1371 tasks      | elapsed:   11.6s\n",
      "[Parallel(n_jobs=-1)]: Done 1453 tasks      | elapsed:   11.9s\n",
      "[Parallel(n_jobs=-1)]: Done 1535 tasks      | elapsed:   12.3s\n",
      "[Parallel(n_jobs=-1)]: Done 1621 tasks      | elapsed:   12.6s\n",
      "[Parallel(n_jobs=-1)]: Done 1707 tasks      | elapsed:   13.0s\n",
      "[Parallel(n_jobs=-1)]: Done 1797 tasks      | elapsed:   13.4s\n",
      "[Parallel(n_jobs=-1)]: Done 1887 tasks      | elapsed:   13.7s\n",
      "[Parallel(n_jobs=-1)]: Done 1981 tasks      | elapsed:   14.1s\n",
      "[Parallel(n_jobs=-1)]: Done 2075 tasks      | elapsed:   14.5s\n",
      "[Parallel(n_jobs=-1)]: Done 2173 tasks      | elapsed:   15.0s\n",
      "[Parallel(n_jobs=-1)]: Done 2271 tasks      | elapsed:   15.8s\n",
      "[Parallel(n_jobs=-1)]: Done 2373 tasks      | elapsed:   16.6s\n",
      "[Parallel(n_jobs=-1)]: Done 2475 tasks      | elapsed:   17.4s\n",
      "[Parallel(n_jobs=-1)]: Done 2581 tasks      | elapsed:   18.3s\n",
      "[Parallel(n_jobs=-1)]: Done 2687 tasks      | elapsed:   19.1s\n",
      "[Parallel(n_jobs=-1)]: Done 2797 tasks      | elapsed:   19.8s\n",
      "[Parallel(n_jobs=-1)]: Done 2907 tasks      | elapsed:   20.5s\n",
      "[Parallel(n_jobs=-1)]: Done 3021 tasks      | elapsed:   21.3s\n",
      "[Parallel(n_jobs=-1)]: Done 3135 tasks      | elapsed:   22.2s\n",
      "[Parallel(n_jobs=-1)]: Done 3253 tasks      | elapsed:   23.0s\n",
      "[Parallel(n_jobs=-1)]: Done 3371 tasks      | elapsed:   23.8s\n",
      "[Parallel(n_jobs=-1)]: Done 3493 tasks      | elapsed:   24.6s\n",
      "[Parallel(n_jobs=-1)]: Done 3615 tasks      | elapsed:   25.5s\n",
      "[Parallel(n_jobs=-1)]: Done 3741 tasks      | elapsed:   26.3s\n",
      "[Parallel(n_jobs=-1)]: Done 3867 tasks      | elapsed:   27.1s\n",
      "[Parallel(n_jobs=-1)]: Done 3997 tasks      | elapsed:   28.0s\n",
      "[Parallel(n_jobs=-1)]: Done 4127 tasks      | elapsed:   28.9s\n",
      "[Parallel(n_jobs=-1)]: Done 4261 tasks      | elapsed:   29.9s\n",
      "[Parallel(n_jobs=-1)]: Done 4395 tasks      | elapsed:   30.8s\n",
      "[Parallel(n_jobs=-1)]: Done 4533 tasks      | elapsed:   31.8s\n",
      "[Parallel(n_jobs=-1)]: Done 4671 tasks      | elapsed:   32.8s\n",
      "[Parallel(n_jobs=-1)]: Done 4813 tasks      | elapsed:   33.6s\n",
      "[Parallel(n_jobs=-1)]: Done 4955 tasks      | elapsed:   34.3s\n",
      "[Parallel(n_jobs=-1)]: Done 5101 tasks      | elapsed:   34.8s\n",
      "[Parallel(n_jobs=-1)]: Done 5247 tasks      | elapsed:   35.6s\n",
      "[Parallel(n_jobs=-1)]: Done 5397 tasks      | elapsed:   36.3s\n",
      "[Parallel(n_jobs=-1)]: Done 5547 tasks      | elapsed:   37.1s\n",
      "[Parallel(n_jobs=-1)]: Done 5701 tasks      | elapsed:   37.7s\n",
      "[Parallel(n_jobs=-1)]: Done 5855 tasks      | elapsed:   38.5s\n",
      "[Parallel(n_jobs=-1)]: Done 6013 tasks      | elapsed:   39.2s\n",
      "[Parallel(n_jobs=-1)]: Done 6171 tasks      | elapsed:   40.5s\n",
      "[Parallel(n_jobs=-1)]: Done 6333 tasks      | elapsed:   41.9s\n",
      "[Parallel(n_jobs=-1)]: Done 6495 tasks      | elapsed:   43.1s\n",
      "[Parallel(n_jobs=-1)]: Done 6661 tasks      | elapsed:   44.2s\n",
      "[Parallel(n_jobs=-1)]: Done 6827 tasks      | elapsed:   45.1s\n",
      "[Parallel(n_jobs=-1)]: Done 6997 tasks      | elapsed:   45.7s\n",
      "[Parallel(n_jobs=-1)]: Done 7167 tasks      | elapsed:   46.2s\n",
      "[Parallel(n_jobs=-1)]: Done 7341 tasks      | elapsed:   46.7s\n",
      "[Parallel(n_jobs=-1)]: Done 7515 tasks      | elapsed:   47.2s\n",
      "[Parallel(n_jobs=-1)]: Done 7693 tasks      | elapsed:   47.7s\n",
      "[Parallel(n_jobs=-1)]: Done 7871 tasks      | elapsed:   48.2s\n",
      "[Parallel(n_jobs=-1)]: Done 8053 tasks      | elapsed:   48.7s\n",
      "[Parallel(n_jobs=-1)]: Done 8235 tasks      | elapsed:   49.3s\n",
      "[Parallel(n_jobs=-1)]: Done 8421 tasks      | elapsed:   49.9s\n",
      "[Parallel(n_jobs=-1)]: Done 8607 tasks      | elapsed:   50.5s\n",
      "[Parallel(n_jobs=-1)]: Done 8797 tasks      | elapsed:   51.1s\n",
      "[Parallel(n_jobs=-1)]: Done 8987 tasks      | elapsed:   51.7s\n"
     ]
    },
    {
     "name": "stdout",
     "output_type": "stream",
     "text": [
      "\n"
     ]
    },
    {
     "name": "stderr",
     "output_type": "stream",
     "text": [
      "[Parallel(n_jobs=-1)]: Done 9101 out of 9148 | elapsed:   52.0s remaining:    0.3s\n",
      "[Parallel(n_jobs=-1)]: Done 9148 out of 9148 | elapsed:   52.0s finished\n"
     ]
    }
   ],
   "source": [
    "with Parallel(n_jobs=-1, verbose=10) as parallel:\n",
    "    parallel(\n",
    "        delayed(generate_json)(\n",
    "            row, DT_ID, noise_indv_df=wav_df[(wav_df.indv == row.indv)]\n",
    "        )\n",
    "        for idx, row in tqdm(\n",
    "            wav_df[wav_df.fgbg == \"fg\"].iterrows(),\n",
    "            total=int(np.sum(wav_df.fgbg == \"fg\")),\n",
    "        )\n",
    "    )"
   ]
  },
  {
   "cell_type": "code",
   "execution_count": null,
   "metadata": {},
   "outputs": [],
   "source": []
  }
 ],
 "metadata": {
  "kernelspec": {
   "display_name": "Python 3",
   "language": "python",
   "name": "python3"
  },
  "language_info": {
   "codemirror_mode": {
    "name": "ipython",
    "version": 3
   },
   "file_extension": ".py",
   "mimetype": "text/x-python",
   "name": "python",
   "nbconvert_exporter": "python",
   "pygments_lexer": "ipython3",
   "version": "3.6.8"
  }
 },
 "nbformat": 4,
 "nbformat_minor": 2
}
