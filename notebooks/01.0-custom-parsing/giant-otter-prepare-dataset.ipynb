{
 "cells": [
  {
   "cell_type": "code",
   "execution_count": 1,
   "metadata": {
    "ExecuteTime": {
     "end_time": "2019-10-01T04:39:30.364812Z",
     "start_time": "2019-10-01T04:39:30.341451Z"
    }
   },
   "outputs": [],
   "source": [
    "%load_ext autoreload\n",
    "%autoreload 2"
   ]
  },
  {
   "cell_type": "markdown",
   "metadata": {},
   "source": [
    "### giant otter vocalizations\n",
    "- ~500 vocalizations from https://journals.plos.org/plosone/article?id=10.1371/journal.pone.0112562"
   ]
  },
  {
   "cell_type": "code",
   "execution_count": 2,
   "metadata": {
    "ExecuteTime": {
     "end_time": "2019-10-01T04:39:34.532091Z",
     "start_time": "2019-10-01T04:39:30.366790Z"
    }
   },
   "outputs": [
    {
     "name": "stderr",
     "output_type": "stream",
     "text": [
      "/mnt/cube/tsainbur/conda_envs/tpy3/lib/python3.6/site-packages/tqdm/autonotebook/__init__.py:14: TqdmExperimentalWarning: Using `tqdm.autonotebook.tqdm` in notebook mode. Use `tqdm.tqdm` instead to force console mode (e.g. in jupyter console)\n",
      "  \" (e.g. in jupyter console)\", TqdmExperimentalWarning)\n"
     ]
    }
   ],
   "source": [
    "from joblib import Parallel, delayed\n",
    "from tqdm.autonotebook import tqdm\n",
    "import pandas as pd\n",
    "import librosa\n",
    "from datetime import datetime\n",
    "import json"
   ]
  },
  {
   "cell_type": "code",
   "execution_count": 3,
   "metadata": {
    "ExecuteTime": {
     "end_time": "2019-10-01T04:39:34.821358Z",
     "start_time": "2019-10-01T04:39:34.534497Z"
    }
   },
   "outputs": [],
   "source": [
    "import pandas as pd\n",
    "import numpy as np\n",
    "import matplotlib.pyplot as plt"
   ]
  },
  {
   "cell_type": "code",
   "execution_count": 4,
   "metadata": {
    "ExecuteTime": {
     "end_time": "2019-10-01T04:39:34.889541Z",
     "start_time": "2019-10-01T04:39:34.823359Z"
    }
   },
   "outputs": [],
   "source": [
    "from avgn.utils.paths import DATA_DIR, ensure_dir"
   ]
  },
  {
   "cell_type": "code",
   "execution_count": 5,
   "metadata": {
    "ExecuteTime": {
     "end_time": "2019-10-01T04:39:34.940203Z",
     "start_time": "2019-10-01T04:39:34.891592Z"
    }
   },
   "outputs": [],
   "source": [
    "DSLOC = DATA_DIR /\"raw/otter/\""
   ]
  },
  {
   "cell_type": "code",
   "execution_count": 6,
   "metadata": {
    "ExecuteTime": {
     "end_time": "2019-10-01T04:39:35.050227Z",
     "start_time": "2019-10-01T04:39:34.942168Z"
    }
   },
   "outputs": [
    {
     "data": {
      "text/plain": [
       "453"
      ]
     },
     "execution_count": 6,
     "metadata": {},
     "output_type": "execute_result"
    }
   ],
   "source": [
    "wavfiles = list(DSLOC.glob('zip_contents/*.wav'))\n",
    "len(wavfiles)"
   ]
  },
  {
   "cell_type": "code",
   "execution_count": 7,
   "metadata": {
    "ExecuteTime": {
     "end_time": "2019-10-01T04:39:36.230000Z",
     "start_time": "2019-10-01T04:39:35.052950Z"
    }
   },
   "outputs": [],
   "source": [
    "wf_df = pd.DataFrame(columns = ['wav_loc', 'id', 'call_type'])\n",
    "for wf in wavfiles:\n",
    "    call_id, call_type = wf.stem[6:].split('_')\n",
    "    wf_df.loc[len(wf_df)] = [wf, call_id, call_type]"
   ]
  },
  {
   "cell_type": "code",
   "execution_count": 8,
   "metadata": {
    "ExecuteTime": {
     "end_time": "2019-10-01T04:39:36.278334Z",
     "start_time": "2019-10-01T04:39:36.232008Z"
    }
   },
   "outputs": [
    {
     "data": {
      "text/html": [
       "<div>\n",
       "<style scoped>\n",
       "    .dataframe tbody tr th:only-of-type {\n",
       "        vertical-align: middle;\n",
       "    }\n",
       "\n",
       "    .dataframe tbody tr th {\n",
       "        vertical-align: top;\n",
       "    }\n",
       "\n",
       "    .dataframe thead th {\n",
       "        text-align: right;\n",
       "    }\n",
       "</style>\n",
       "<table border=\"1\" class=\"dataframe\">\n",
       "  <thead>\n",
       "    <tr style=\"text-align: right;\">\n",
       "      <th></th>\n",
       "      <th>wav_loc</th>\n",
       "      <th>id</th>\n",
       "      <th>call_type</th>\n",
       "    </tr>\n",
       "  </thead>\n",
       "  <tbody>\n",
       "    <tr>\n",
       "      <th>0</th>\n",
       "      <td>/mnt/cube/tsainbur/Projects/github_repos/avgn_...</td>\n",
       "      <td>S357</td>\n",
       "      <td>snort</td>\n",
       "    </tr>\n",
       "    <tr>\n",
       "      <th>1</th>\n",
       "      <td>/mnt/cube/tsainbur/Projects/github_repos/avgn_...</td>\n",
       "      <td>S054</td>\n",
       "      <td>begging scream</td>\n",
       "    </tr>\n",
       "    <tr>\n",
       "      <th>2</th>\n",
       "      <td>/mnt/cube/tsainbur/Projects/github_repos/avgn_...</td>\n",
       "      <td>S121</td>\n",
       "      <td>contact call</td>\n",
       "    </tr>\n",
       "  </tbody>\n",
       "</table>\n",
       "</div>"
      ],
      "text/plain": [
       "                                             wav_loc    id       call_type\n",
       "0  /mnt/cube/tsainbur/Projects/github_repos/avgn_...  S357           snort\n",
       "1  /mnt/cube/tsainbur/Projects/github_repos/avgn_...  S054  begging scream\n",
       "2  /mnt/cube/tsainbur/Projects/github_repos/avgn_...  S121    contact call"
      ]
     },
     "execution_count": 8,
     "metadata": {},
     "output_type": "execute_result"
    }
   ],
   "source": [
    "wf_df[:3]"
   ]
  },
  {
   "cell_type": "code",
   "execution_count": 9,
   "metadata": {
    "ExecuteTime": {
     "end_time": "2019-10-01T04:39:36.358395Z",
     "start_time": "2019-10-01T04:39:36.280288Z"
    }
   },
   "outputs": [
    {
     "data": {
      "text/plain": [
       "453"
      ]
     },
     "execution_count": 9,
     "metadata": {},
     "output_type": "execute_result"
    }
   ],
   "source": [
    "len(wf_df)"
   ]
  },
  {
   "cell_type": "code",
   "execution_count": 10,
   "metadata": {
    "ExecuteTime": {
     "end_time": "2019-10-01T04:39:36.442374Z",
     "start_time": "2019-10-01T04:39:36.360393Z"
    }
   },
   "outputs": [
    {
     "data": {
      "text/plain": [
       "array(['snort', 'begging scream', 'contact call', 'bark', 'hah',\n",
       "       'begging scream gradation', 'whistle', 'Ascending scream', 'growl',\n",
       "       'whistle double', 'isolation call', 'whine', 'wavering scream',\n",
       "       'close call', 'contact call gradation', 'hum', 'begging call',\n",
       "       'hum short', 'hum gradation', 'suckling call', 'underwater call',\n",
       "       'Distress call 1', 'begging call like', 'contact call like',\n",
       "       'high whistle', 'low whistle', 'Distress call 2', 'hum like',\n",
       "       'bark like', 'hum gradation like'], dtype=object)"
      ]
     },
     "execution_count": 10,
     "metadata": {},
     "output_type": "execute_result"
    }
   ],
   "source": [
    "wf_df.call_type.unique()"
   ]
  },
  {
   "cell_type": "code",
   "execution_count": 11,
   "metadata": {
    "ExecuteTime": {
     "end_time": "2019-10-01T04:39:36.525486Z",
     "start_time": "2019-10-01T04:39:36.444354Z"
    }
   },
   "outputs": [
    {
     "data": {
      "text/plain": [
       "30"
      ]
     },
     "execution_count": 11,
     "metadata": {},
     "output_type": "execute_result"
    }
   ],
   "source": [
    "len(wf_df.call_type.unique())"
   ]
  },
  {
   "cell_type": "markdown",
   "metadata": {},
   "source": [
    "### create json"
   ]
  },
  {
   "cell_type": "code",
   "execution_count": 12,
   "metadata": {
    "ExecuteTime": {
     "end_time": "2019-10-01T04:39:36.607011Z",
     "start_time": "2019-10-01T04:39:36.527504Z"
    }
   },
   "outputs": [],
   "source": [
    "from avgn.utils.audio import get_samplerate\n",
    "from avgn.utils.json import NoIndent, NoIndentEncoder\n",
    "from datetime import datetime\n",
    "import librosa\n",
    "import json"
   ]
  },
  {
   "cell_type": "code",
   "execution_count": 13,
   "metadata": {
    "ExecuteTime": {
     "end_time": "2019-10-01T04:39:36.690274Z",
     "start_time": "2019-10-01T04:39:36.608970Z"
    }
   },
   "outputs": [],
   "source": [
    "DATASET_ID = \"giant_otter\""
   ]
  },
  {
   "cell_type": "code",
   "execution_count": 14,
   "metadata": {
    "ExecuteTime": {
     "end_time": "2019-10-01T04:39:36.774981Z",
     "start_time": "2019-10-01T04:39:36.694556Z"
    }
   },
   "outputs": [
    {
     "data": {
      "text/plain": [
       "'2019-09-30_21-39-36'"
      ]
     },
     "execution_count": 14,
     "metadata": {},
     "output_type": "execute_result"
    }
   ],
   "source": [
    "# create a unique datetime identifier for the files output by this notebook\n",
    "DT_ID = datetime.now().strftime(\"%Y-%m-%d_%H-%M-%S\")\n",
    "DT_ID"
   ]
  },
  {
   "cell_type": "code",
   "execution_count": 16,
   "metadata": {
    "ExecuteTime": {
     "end_time": "2019-10-01T04:39:48.000333Z",
     "start_time": "2019-10-01T04:39:46.674150Z"
    }
   },
   "outputs": [
    {
     "data": {
      "application/vnd.jupyter.widget-view+json": {
       "model_id": "545fd728379140bb831d4e1cea3a0954",
       "version_major": 2,
       "version_minor": 0
      },
      "text/plain": [
       "HBox(children=(IntProgress(value=0, max=453), HTML(value='')))"
      ]
     },
     "metadata": {},
     "output_type": "display_data"
    },
    {
     "name": "stdout",
     "output_type": "stream",
     "text": [
      "\n"
     ]
    }
   ],
   "source": [
    "for idx, row in tqdm(wf_df.iterrows(), total=len(wf_df)):\n",
    "    \n",
    "    json_out = (\n",
    "        DATA_DIR\n",
    "        / \"processed\"\n",
    "        / DATASET_ID\n",
    "        / DT_ID\n",
    "        / \"JSON\"\n",
    "        / (row.wav_loc.stem.replace(\" \", \"_\")  + \".JSON\")\n",
    "    )\n",
    "    \n",
    "    rate = get_samplerate(row.wav_loc.as_posix())\n",
    "    bout_duration = librosa.get_duration(filename = row.wav_loc.as_posix())\n",
    "    \n",
    "    # wav general information\n",
    "    json_dict = {}\n",
    "    json_dict['fid'] = row['id']\n",
    "    json_dict[\"species\"] = \"Pteronura brasiliensis\"\n",
    "    json_dict[\"common_name\"] = \"Giant otter\"\n",
    "    json_dict[\"samplerate_hz\"] = rate\n",
    "    json_dict[\"original_wav\"] = row.wav_loc.as_posix()\n",
    "    json_dict[\"length_s\"] = bout_duration\n",
    "    json_dict[\"wav_loc\"] = row.wav_loc.as_posix()\n",
    "    json_dict[\"indvs\"] = {\n",
    "        \"UNK\": {\n",
    "            'syllables':\n",
    "            {\n",
    "                \"start_times\": [0.0],\n",
    "                \"end_times\": [bout_duration],\n",
    "                \"labels\": [row.call_type]\n",
    "            }\n",
    "        }\n",
    "    }\n",
    "    json_txt = json.dumps(json_dict, cls=NoIndentEncoder, indent=2)\n",
    "    \n",
    "    # save json\n",
    "    ensure_dir(json_out.as_posix())\n",
    "    print(json_txt, file=open(json_out.as_posix(), \"w\"))\n",
    "    "
   ]
  },
  {
   "cell_type": "code",
   "execution_count": null,
   "metadata": {},
   "outputs": [],
   "source": []
  }
 ],
 "metadata": {
  "kernelspec": {
   "display_name": "Python 3",
   "language": "python",
   "name": "python3"
  },
  "language_info": {
   "codemirror_mode": {
    "name": "ipython",
    "version": 3
   },
   "file_extension": ".py",
   "mimetype": "text/x-python",
   "name": "python",
   "nbconvert_exporter": "python",
   "pygments_lexer": "ipython3",
   "version": "3.6.7"
  }
 },
 "nbformat": 4,
 "nbformat_minor": 2
}
