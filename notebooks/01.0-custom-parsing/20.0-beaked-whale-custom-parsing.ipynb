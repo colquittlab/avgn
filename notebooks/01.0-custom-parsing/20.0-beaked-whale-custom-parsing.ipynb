{
 "cells": [
  {
   "cell_type": "markdown",
   "metadata": {},
   "source": [
    "### Beaked whale custom parsing\n",
    "- An labelled (but smaller) dataset of zebra finch vocalizations\n",
    "    - .WAV files with individual labels\n",
    "- This notebook creates a JSON corresponding to each WAV file (and Noise file where available).\n",
    "- Dataset origin:\n",
    "    - https://zenodo.org/record/3237218"
   ]
  },
  {
   "cell_type": "code",
   "execution_count": 1,
   "metadata": {
    "ExecuteTime": {
     "end_time": "2019-09-30T21:41:46.506910Z",
     "start_time": "2019-09-30T21:41:44.082418Z"
    }
   },
   "outputs": [
    {
     "name": "stderr",
     "output_type": "stream",
     "text": [
      "/mnt/cube/tsainbur/conda_envs/tpy3/lib/python3.6/site-packages/tqdm/autonotebook/__init__.py:14: TqdmExperimentalWarning: Using `tqdm.autonotebook.tqdm` in notebook mode. Use `tqdm.tqdm` instead to force console mode (e.g. in jupyter console)\n",
      "  \" (e.g. in jupyter console)\", TqdmExperimentalWarning)\n"
     ]
    }
   ],
   "source": [
    "from avgn.utils.general import prepare_env"
   ]
  },
  {
   "cell_type": "code",
   "execution_count": 2,
   "metadata": {
    "ExecuteTime": {
     "end_time": "2019-09-30T21:41:46.549282Z",
     "start_time": "2019-09-30T21:41:46.509318Z"
    }
   },
   "outputs": [
    {
     "name": "stdout",
     "output_type": "stream",
     "text": [
      "env: CUDA_VISIBLE_DEVICES=GPU\n"
     ]
    }
   ],
   "source": [
    "prepare_env()"
   ]
  },
  {
   "cell_type": "markdown",
   "metadata": {},
   "source": [
    "### Import relevant packages"
   ]
  },
  {
   "cell_type": "code",
   "execution_count": 3,
   "metadata": {
    "ExecuteTime": {
     "end_time": "2019-09-30T21:41:47.000833Z",
     "start_time": "2019-09-30T21:41:46.551644Z"
    }
   },
   "outputs": [],
   "source": [
    "from joblib import Parallel, delayed\n",
    "from tqdm.autonotebook import tqdm\n",
    "import pandas as pd\n",
    "pd.options.display.max_columns = None\n",
    "import librosa\n",
    "from datetime import datetime\n",
    "import numpy as np"
   ]
  },
  {
   "cell_type": "code",
   "execution_count": 4,
   "metadata": {
    "ExecuteTime": {
     "end_time": "2019-09-30T21:41:47.106456Z",
     "start_time": "2019-09-30T21:41:47.003030Z"
    }
   },
   "outputs": [],
   "source": [
    "import avgn\n",
    "from avgn.custom_parsing.beaked_whale_hildebrand import generate_wav_json\n",
    "from avgn.utils.paths import DATA_DIR"
   ]
  },
  {
   "cell_type": "markdown",
   "metadata": {},
   "source": [
    "### Load data in original format"
   ]
  },
  {
   "cell_type": "code",
   "execution_count": 5,
   "metadata": {
    "ExecuteTime": {
     "end_time": "2019-09-30T21:41:47.143711Z",
     "start_time": "2019-09-30T21:41:47.108613Z"
    }
   },
   "outputs": [
    {
     "data": {
      "text/plain": [
       "'2019-09-30_14-41-47'"
      ]
     },
     "execution_count": 5,
     "metadata": {},
     "output_type": "execute_result"
    }
   ],
   "source": [
    "# create a unique datetime identifier for the files output by this notebook\n",
    "DT_ID = datetime.now().strftime(\"%Y-%m-%d_%H-%M-%S\")\n",
    "DT_ID"
   ]
  },
  {
   "cell_type": "code",
   "execution_count": 6,
   "metadata": {
    "ExecuteTime": {
     "end_time": "2019-09-30T21:41:47.224293Z",
     "start_time": "2019-09-30T21:41:47.145498Z"
    }
   },
   "outputs": [
    {
     "data": {
      "text/plain": [
       "PosixPath('/mnt/cube/tsainbur/Projects/github_repos/BeakedWhaleClassification/data/DSE230_version_Data/whale_data_15mb.np')"
      ]
     },
     "execution_count": 6,
     "metadata": {},
     "output_type": "execute_result"
    }
   ],
   "source": [
    "DSLOC = (\n",
    "    avgn.utils.paths.Path(\n",
    "        \"/mnt/cube/tsainbur/Projects/github_repos/BeakedWhaleClassification/\"\n",
    "    )\n",
    "    / \"data\"\n",
    "    / \"DSE230_version_Data\"\n",
    "    / \"whale_data_15mb.np\"\n",
    ")\n",
    "DSLOC"
   ]
  },
  {
   "cell_type": "code",
   "execution_count": 7,
   "metadata": {
    "ExecuteTime": {
     "end_time": "2019-09-30T21:41:47.305070Z",
     "start_time": "2019-09-30T21:41:47.226045Z"
    }
   },
   "outputs": [],
   "source": [
    "rate = 200000"
   ]
  },
  {
   "cell_type": "code",
   "execution_count": 8,
   "metadata": {
    "ExecuteTime": {
     "end_time": "2019-09-30T21:41:47.380154Z",
     "start_time": "2019-09-30T21:41:47.306839Z"
    }
   },
   "outputs": [],
   "source": [
    "def unpackArray(x, data_type=np.int16):\n",
    "    return np.frombuffer(x, dtype=data_type)\n"
   ]
  },
  {
   "cell_type": "code",
   "execution_count": 9,
   "metadata": {
    "ExecuteTime": {
     "end_time": "2019-09-30T21:41:47.753250Z",
     "start_time": "2019-09-30T21:41:47.382618Z"
    }
   },
   "outputs": [],
   "source": [
    "file_data = np.load(DSLOC.as_posix())\n",
    "\n",
    "song_df = pd.DataFrame(\n",
    "    file_data,\n",
    "    columns=[\n",
    "        \"time\",\n",
    "        \"species\",\n",
    "        \"site\",\n",
    "        \"rec_no\",\n",
    "        \"bout_i\",\n",
    "        \"peak2peak\",\n",
    "        \"MSN\",\n",
    "        \"MSP\",\n",
    "        \"TPWS1\",\n",
    "        \"MD1\",\n",
    "        \"FD1\",\n",
    "        \"TPWS2\",\n",
    "        \"MD2\",\n",
    "        \"FD2\",\n",
    "        \"TPWS3\",\n",
    "        \"MD3\",\n",
    "        \"FD3\",\n",
    "    ],\n",
    ")\n",
    "song_df.MSN = [unpackArray(i, data_type=np.float64) for i in song_df.MSN.values]\n",
    "song_df.MSP = [unpackArray(i, data_type=np.float64) for i in song_df.MSP.values]"
   ]
  },
  {
   "cell_type": "code",
   "execution_count": 10,
   "metadata": {
    "ExecuteTime": {
     "end_time": "2019-09-30T21:41:47.826214Z",
     "start_time": "2019-09-30T21:41:47.755311Z"
    }
   },
   "outputs": [
    {
     "data": {
      "text/html": [
       "<div>\n",
       "<style scoped>\n",
       "    .dataframe tbody tr th:only-of-type {\n",
       "        vertical-align: middle;\n",
       "    }\n",
       "\n",
       "    .dataframe tbody tr th {\n",
       "        vertical-align: top;\n",
       "    }\n",
       "\n",
       "    .dataframe thead th {\n",
       "        text-align: right;\n",
       "    }\n",
       "</style>\n",
       "<table border=\"1\" class=\"dataframe\">\n",
       "  <thead>\n",
       "    <tr style=\"text-align: right;\">\n",
       "      <th></th>\n",
       "      <th>time</th>\n",
       "      <th>species</th>\n",
       "      <th>site</th>\n",
       "      <th>rec_no</th>\n",
       "      <th>bout_i</th>\n",
       "      <th>peak2peak</th>\n",
       "      <th>MSN</th>\n",
       "      <th>MSP</th>\n",
       "      <th>TPWS1</th>\n",
       "      <th>MD1</th>\n",
       "      <th>FD1</th>\n",
       "      <th>TPWS2</th>\n",
       "      <th>MD2</th>\n",
       "      <th>FD2</th>\n",
       "      <th>TPWS3</th>\n",
       "      <th>MD3</th>\n",
       "      <th>FD3</th>\n",
       "    </tr>\n",
       "  </thead>\n",
       "  <tbody>\n",
       "    <tr>\n",
       "      <th>0</th>\n",
       "      <td>2010-08-10 11:45:36.626459</td>\n",
       "      <td>Cuviers</td>\n",
       "      <td>DT</td>\n",
       "      <td>01</td>\n",
       "      <td>5</td>\n",
       "      <td>50.2422</td>\n",
       "      <td>[9.3197, -13.5086, -6.1229, 5.5962, -0.8494, 1...</td>\n",
       "      <td>[-37.7052, -40.2157, -64.4694, -69.3526, -68.2...</td>\n",
       "      <td>1</td>\n",
       "      <td>0</td>\n",
       "      <td>0</td>\n",
       "      <td>1</td>\n",
       "      <td>0</td>\n",
       "      <td>0</td>\n",
       "      <td>0</td>\n",
       "      <td>0</td>\n",
       "      <td>0</td>\n",
       "    </tr>\n",
       "    <tr>\n",
       "      <th>1</th>\n",
       "      <td>2010-08-10 11:46:06.004604</td>\n",
       "      <td>Cuviers</td>\n",
       "      <td>DT</td>\n",
       "      <td>01</td>\n",
       "      <td>5</td>\n",
       "      <td>55.0377</td>\n",
       "      <td>[-2.2228, 6.5712, -14.2926, 8.2005, -1.0006, 2...</td>\n",
       "      <td>[-34.7333, -37.8125, -76.5551, -63.8601, -63.2...</td>\n",
       "      <td>1</td>\n",
       "      <td>0</td>\n",
       "      <td>0</td>\n",
       "      <td>1</td>\n",
       "      <td>0</td>\n",
       "      <td>0</td>\n",
       "      <td>0</td>\n",
       "      <td>0</td>\n",
       "      <td>0</td>\n",
       "    </tr>\n",
       "    <tr>\n",
       "      <th>2</th>\n",
       "      <td>2010-08-10 12:11:25.866437</td>\n",
       "      <td>Cuviers</td>\n",
       "      <td>DT</td>\n",
       "      <td>01</td>\n",
       "      <td>5</td>\n",
       "      <td>44.9439</td>\n",
       "      <td>[5.8497, 0.9312, -1.3678, -1.0723, -4.6082, 0....</td>\n",
       "      <td>[-39.6219, -42.9117, -70.0049, -80.345, -82.53...</td>\n",
       "      <td>1</td>\n",
       "      <td>0</td>\n",
       "      <td>0</td>\n",
       "      <td>1</td>\n",
       "      <td>0</td>\n",
       "      <td>0</td>\n",
       "      <td>0</td>\n",
       "      <td>0</td>\n",
       "      <td>0</td>\n",
       "    </tr>\n",
       "  </tbody>\n",
       "</table>\n",
       "</div>"
      ],
      "text/plain": [
       "                         time  species site rec_no bout_i peak2peak  \\\n",
       "0  2010-08-10 11:45:36.626459  Cuviers   DT     01      5   50.2422   \n",
       "1  2010-08-10 11:46:06.004604  Cuviers   DT     01      5   55.0377   \n",
       "2  2010-08-10 12:11:25.866437  Cuviers   DT     01      5   44.9439   \n",
       "\n",
       "                                                 MSN  \\\n",
       "0  [9.3197, -13.5086, -6.1229, 5.5962, -0.8494, 1...   \n",
       "1  [-2.2228, 6.5712, -14.2926, 8.2005, -1.0006, 2...   \n",
       "2  [5.8497, 0.9312, -1.3678, -1.0723, -4.6082, 0....   \n",
       "\n",
       "                                                 MSP TPWS1 MD1 FD1 TPWS2 MD2  \\\n",
       "0  [-37.7052, -40.2157, -64.4694, -69.3526, -68.2...     1   0   0     1   0   \n",
       "1  [-34.7333, -37.8125, -76.5551, -63.8601, -63.2...     1   0   0     1   0   \n",
       "2  [-39.6219, -42.9117, -70.0049, -80.345, -82.53...     1   0   0     1   0   \n",
       "\n",
       "  FD2 TPWS3 MD3 FD3  \n",
       "0   0     0   0   0  \n",
       "1   0     0   0   0  \n",
       "2   0     0   0   0  "
      ]
     },
     "execution_count": 10,
     "metadata": {},
     "output_type": "execute_result"
    }
   ],
   "source": [
    "song_df[:3]"
   ]
  },
  {
   "cell_type": "code",
   "execution_count": 11,
   "metadata": {
    "ExecuteTime": {
     "end_time": "2019-09-30T21:41:47.897719Z",
     "start_time": "2019-09-30T21:41:47.828014Z"
    }
   },
   "outputs": [
    {
     "data": {
      "text/plain": [
       "4175"
      ]
     },
     "execution_count": 11,
     "metadata": {},
     "output_type": "execute_result"
    }
   ],
   "source": [
    "len(song_df)"
   ]
  },
  {
   "cell_type": "markdown",
   "metadata": {
    "ExecuteTime": {
     "end_time": "2019-06-27T05:58:57.045051Z",
     "start_time": "2019-06-27T05:58:56.989680Z"
    }
   },
   "source": [
    "### create JSON and WAV for each file"
   ]
  },
  {
   "cell_type": "code",
   "execution_count": 12,
   "metadata": {
    "ExecuteTime": {
     "end_time": "2019-09-30T21:41:56.272502Z",
     "start_time": "2019-09-30T21:41:47.899503Z"
    }
   },
   "outputs": [
    {
     "data": {
      "application/vnd.jupyter.widget-view+json": {
       "model_id": "bfee3fe24a3a4f06aec4be8753dd01d2",
       "version_major": 2,
       "version_minor": 0
      },
      "text/plain": [
       "HBox(children=(IntProgress(value=0, max=4175), HTML(value='')))"
      ]
     },
     "metadata": {},
     "output_type": "display_data"
    },
    {
     "name": "stderr",
     "output_type": "stream",
     "text": [
      "[Parallel(n_jobs=-1)]: Using backend LokyBackend with 24 concurrent workers.\n",
      "[Parallel(n_jobs=-1)]: Done   2 tasks      | elapsed:    4.9s\n",
      "[Parallel(n_jobs=-1)]: Done  13 tasks      | elapsed:    5.0s\n",
      "[Parallel(n_jobs=-1)]: Done  24 tasks      | elapsed:    5.0s\n",
      "[Parallel(n_jobs=-1)]: Done  37 tasks      | elapsed:    5.0s\n",
      "[Parallel(n_jobs=-1)]: Batch computation too fast (0.1947s.) Setting batch_size=2.\n",
      "[Parallel(n_jobs=-1)]: Done  50 tasks      | elapsed:    5.0s\n",
      "[Parallel(n_jobs=-1)]: Done  65 tasks      | elapsed:    5.1s\n",
      "[Parallel(n_jobs=-1)]: Batch computation too fast (0.0801s.) Setting batch_size=8.\n",
      "[Parallel(n_jobs=-1)]: Done  91 tasks      | elapsed:    5.2s\n",
      "[Parallel(n_jobs=-1)]: Done 131 tasks      | elapsed:    5.3s\n",
      "[Parallel(n_jobs=-1)]: Batch computation too fast (0.1718s.) Setting batch_size=18.\n",
      "[Parallel(n_jobs=-1)]: Done 260 tasks      | elapsed:    5.5s\n",
      "[Parallel(n_jobs=-1)]: Done 400 tasks      | elapsed:    5.8s\n",
      "[Parallel(n_jobs=-1)]: Done 504 tasks      | elapsed:    6.0s\n",
      "[Parallel(n_jobs=-1)]: Done 882 tasks      | elapsed:    6.2s\n",
      "[Parallel(n_jobs=-1)]: Done 1260 tasks      | elapsed:    6.5s\n",
      "[Parallel(n_jobs=-1)]: Done 1674 tasks      | elapsed:    7.0s\n",
      "[Parallel(n_jobs=-1)]: Done 2088 tasks      | elapsed:    7.4s\n",
      "[Parallel(n_jobs=-1)]: Done 2538 tasks      | elapsed:    7.7s\n",
      "[Parallel(n_jobs=-1)]: Done 2988 tasks      | elapsed:    8.0s\n"
     ]
    },
    {
     "name": "stdout",
     "output_type": "stream",
     "text": [
      "\n"
     ]
    },
    {
     "name": "stderr",
     "output_type": "stream",
     "text": [
      "[Parallel(n_jobs=-1)]: Done 4175 out of 4175 | elapsed:    8.2s finished\n"
     ]
    }
   ],
   "source": [
    "with Parallel(n_jobs=-1, verbose=10) as parallel:\n",
    "    parallel(\n",
    "        delayed(generate_wav_json)(\n",
    "            row, rate, DT_ID\n",
    "        )\n",
    "        for idx, row in tqdm(song_df.iterrows(), total = len(song_df))\n",
    "    )"
   ]
  },
  {
   "cell_type": "code",
   "execution_count": null,
   "metadata": {},
   "outputs": [],
   "source": []
  }
 ],
 "metadata": {
  "kernelspec": {
   "display_name": "Python 3",
   "language": "python",
   "name": "python3"
  },
  "language_info": {
   "codemirror_mode": {
    "name": "ipython",
    "version": 3
   },
   "file_extension": ".py",
   "mimetype": "text/x-python",
   "name": "python",
   "nbconvert_exporter": "python",
   "pygments_lexer": "ipython3",
   "version": "3.6.7"
  }
 },
 "nbformat": 4,
 "nbformat_minor": 2
}
