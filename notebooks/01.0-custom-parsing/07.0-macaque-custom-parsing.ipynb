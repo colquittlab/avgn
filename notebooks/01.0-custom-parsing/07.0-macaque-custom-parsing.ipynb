{
 "cells": [
  {
   "cell_type": "markdown",
   "metadata": {},
   "source": [
    "### Macaque custom parsing\n",
    "- This dataset has vocalizations from several individuals. Calls are already broken down into individual coos. FIles include :\n",
    "    - .WAV files of vocalizations and filename with ID\n",
    "- This notebook creates a JSON corresponding to each WAV file\n",
    "- Dataset origin:\n",
    "    - https://www.ncbi.nlm.nih.gov/pmc/articles/PMC4806230/\n",
    "    - https://datadryad.org/handle/10255/dryad.101951"
   ]
  },
  {
   "cell_type": "code",
   "execution_count": 1,
   "metadata": {
    "ExecuteTime": {
     "end_time": "2019-06-24T04:14:58.147531Z",
     "start_time": "2019-06-24T04:14:56.345804Z"
    }
   },
   "outputs": [],
   "source": [
    "from avgn.utils.general import prepare_env"
   ]
  },
  {
   "cell_type": "code",
   "execution_count": 2,
   "metadata": {
    "ExecuteTime": {
     "end_time": "2019-06-24T04:14:58.210757Z",
     "start_time": "2019-06-24T04:14:58.152123Z"
    }
   },
   "outputs": [
    {
     "name": "stdout",
     "output_type": "stream",
     "text": [
      "env: CUDA_VISIBLE_DEVICES=GPU\n"
     ]
    }
   ],
   "source": [
    "prepare_env()"
   ]
  },
  {
   "cell_type": "markdown",
   "metadata": {},
   "source": [
    "### Import relevant packages"
   ]
  },
  {
   "cell_type": "code",
   "execution_count": 3,
   "metadata": {
    "ExecuteTime": {
     "end_time": "2019-06-24T04:14:59.008124Z",
     "start_time": "2019-06-24T04:14:58.213454Z"
    }
   },
   "outputs": [
    {
     "name": "stderr",
     "output_type": "stream",
     "text": [
      "/mnt/cube/tsainbur/conda_envs/tpy3/lib/python3.6/site-packages/tqdm/autonotebook/__init__.py:14: TqdmExperimentalWarning: Using `tqdm.autonotebook.tqdm` in notebook mode. Use `tqdm.tqdm` instead to force console mode (e.g. in jupyter console)\n",
      "  \" (e.g. in jupyter console)\", TqdmExperimentalWarning)\n"
     ]
    }
   ],
   "source": [
    "from joblib import Parallel, delayed\n",
    "from tqdm.autonotebook import tqdm\n",
    "import pandas as pd\n",
    "pd.options.display.max_columns = None\n",
    "import librosa\n",
    "from datetime import datetime\n",
    "import numpy as np"
   ]
  },
  {
   "cell_type": "code",
   "execution_count": 4,
   "metadata": {
    "ExecuteTime": {
     "end_time": "2019-06-24T04:14:59.071278Z",
     "start_time": "2019-06-24T04:14:59.011955Z"
    }
   },
   "outputs": [],
   "source": [
    "import avgn\n",
    "from avgn.custom_parsing.fukushima_macaque import generate_json\n",
    "from avgn.utils.paths import DATA_DIR"
   ]
  },
  {
   "cell_type": "markdown",
   "metadata": {},
   "source": [
    "### Load data in original format"
   ]
  },
  {
   "cell_type": "code",
   "execution_count": 5,
   "metadata": {
    "ExecuteTime": {
     "end_time": "2019-06-24T04:14:59.234640Z",
     "start_time": "2019-06-24T04:14:59.074324Z"
    }
   },
   "outputs": [],
   "source": [
    "DATASET_ID = 'macaque_coo'"
   ]
  },
  {
   "cell_type": "code",
   "execution_count": 6,
   "metadata": {
    "ExecuteTime": {
     "end_time": "2019-06-24T04:14:59.343885Z",
     "start_time": "2019-06-24T04:14:59.237116Z"
    }
   },
   "outputs": [
    {
     "data": {
      "text/plain": [
       "'2019-06-23_21-14-59'"
      ]
     },
     "execution_count": 6,
     "metadata": {},
     "output_type": "execute_result"
    }
   ],
   "source": [
    "# create a unique datetime identifier for the files output by this notebook\n",
    "DT_ID = datetime.now().strftime(\"%Y-%m-%d_%H-%M-%S\")\n",
    "DT_ID"
   ]
  },
  {
   "cell_type": "code",
   "execution_count": 7,
   "metadata": {
    "ExecuteTime": {
     "end_time": "2019-06-24T04:14:59.457670Z",
     "start_time": "2019-06-24T04:14:59.347349Z"
    }
   },
   "outputs": [
    {
     "data": {
      "text/plain": [
       "PosixPath('/mnt/cube/Datasets/Macaque')"
      ]
     },
     "execution_count": 7,
     "metadata": {},
     "output_type": "execute_result"
    }
   ],
   "source": [
    "DSLOC = avgn.utils.paths.Path('/mnt/cube/Datasets/Macaque/')\n",
    "DSLOC"
   ]
  },
  {
   "cell_type": "code",
   "execution_count": 8,
   "metadata": {
    "ExecuteTime": {
     "end_time": "2019-06-24T04:14:59.651138Z",
     "start_time": "2019-06-24T04:14:59.459446Z"
    }
   },
   "outputs": [],
   "source": [
    "WAVLIST = list((DSLOC / 'dataupload').expanduser().glob('*/*.wav'))"
   ]
  },
  {
   "cell_type": "code",
   "execution_count": 14,
   "metadata": {
    "ExecuteTime": {
     "end_time": "2019-06-24T04:16:08.975164Z",
     "start_time": "2019-06-24T04:16:08.825084Z"
    }
   },
   "outputs": [
    {
     "data": {
      "application/vnd.jupyter.widget-view+json": {
       "model_id": "87bba2514ad04b9ebea183c4573a72f4",
       "version_major": 2,
       "version_minor": 0
      },
      "text/plain": [
       "HBox(children=(IntProgress(value=0, max=7285), HTML(value='')))"
      ]
     },
     "metadata": {},
     "output_type": "display_data"
    }
   ],
   "source": [
    "wav_df = pd.DataFrame(\n",
    "    [[wav, wav.parent.stem, int(wav.stem[2:])] for wav in tqdm(WAVLIST)],\n",
    "    columns=[\"wavloc\", \"indv\", \"idnum\"],\n",
    ")"
   ]
  },
  {
   "cell_type": "code",
   "execution_count": 15,
   "metadata": {
    "ExecuteTime": {
     "end_time": "2019-06-24T04:16:10.680301Z",
     "start_time": "2019-06-24T04:16:10.588202Z"
    }
   },
   "outputs": [
    {
     "name": "stdout",
     "output_type": "stream",
     "text": [
      "7285\n"
     ]
    },
    {
     "data": {
      "text/html": [
       "<div>\n",
       "<style scoped>\n",
       "    .dataframe tbody tr th:only-of-type {\n",
       "        vertical-align: middle;\n",
       "    }\n",
       "\n",
       "    .dataframe tbody tr th {\n",
       "        vertical-align: top;\n",
       "    }\n",
       "\n",
       "    .dataframe thead th {\n",
       "        text-align: right;\n",
       "    }\n",
       "</style>\n",
       "<table border=\"1\" class=\"dataframe\">\n",
       "  <thead>\n",
       "    <tr style=\"text-align: right;\">\n",
       "      <th></th>\n",
       "      <th>wavloc</th>\n",
       "      <th>indv</th>\n",
       "      <th>idnum</th>\n",
       "    </tr>\n",
       "  </thead>\n",
       "  <tbody>\n",
       "    <tr>\n",
       "      <th>0</th>\n",
       "      <td>/mnt/cube/Datasets/Macaque/dataupload/IO/IO184...</td>\n",
       "      <td>IO</td>\n",
       "      <td>184</td>\n",
       "    </tr>\n",
       "    <tr>\n",
       "      <th>1</th>\n",
       "      <td>/mnt/cube/Datasets/Macaque/dataupload/IO/IO623...</td>\n",
       "      <td>IO</td>\n",
       "      <td>623</td>\n",
       "    </tr>\n",
       "    <tr>\n",
       "      <th>2</th>\n",
       "      <td>/mnt/cube/Datasets/Macaque/dataupload/IO/IO997...</td>\n",
       "      <td>IO</td>\n",
       "      <td>997</td>\n",
       "    </tr>\n",
       "  </tbody>\n",
       "</table>\n",
       "</div>"
      ],
      "text/plain": [
       "                                              wavloc indv  idnum\n",
       "0  /mnt/cube/Datasets/Macaque/dataupload/IO/IO184...   IO    184\n",
       "1  /mnt/cube/Datasets/Macaque/dataupload/IO/IO623...   IO    623\n",
       "2  /mnt/cube/Datasets/Macaque/dataupload/IO/IO997...   IO    997"
      ]
     },
     "execution_count": 15,
     "metadata": {},
     "output_type": "execute_result"
    }
   ],
   "source": [
    "print(len(wav_df))\n",
    "wav_df[:3]"
   ]
  },
  {
   "cell_type": "markdown",
   "metadata": {},
   "source": [
    "### Generate JSONS"
   ]
  },
  {
   "cell_type": "code",
   "execution_count": 17,
   "metadata": {
    "ExecuteTime": {
     "end_time": "2019-06-24T04:16:30.093494Z",
     "start_time": "2019-06-24T04:16:20.237221Z"
    },
    "scrolled": true
   },
   "outputs": [
    {
     "data": {
      "application/vnd.jupyter.widget-view+json": {
       "model_id": "5f69df4d0e1b4151a009ff9c7d03f7f0",
       "version_major": 2,
       "version_minor": 0
      },
      "text/plain": [
       "HBox(children=(IntProgress(value=0, max=7285), HTML(value='')))"
      ]
     },
     "metadata": {},
     "output_type": "display_data"
    },
    {
     "name": "stderr",
     "output_type": "stream",
     "text": [
      "[Parallel(n_jobs=-1)]: Using backend LokyBackend with 24 concurrent workers.\n",
      "[Parallel(n_jobs=-1)]: Done   2 tasks      | elapsed:    5.0s\n",
      "[Parallel(n_jobs=-1)]: Done  13 tasks      | elapsed:    5.0s\n",
      "[Parallel(n_jobs=-1)]: Done  24 tasks      | elapsed:    5.1s\n",
      "[Parallel(n_jobs=-1)]: Done  37 tasks      | elapsed:    5.1s\n",
      "[Parallel(n_jobs=-1)]: Done  50 tasks      | elapsed:    5.1s\n",
      "[Parallel(n_jobs=-1)]: Done  65 tasks      | elapsed:    5.2s\n",
      "[Parallel(n_jobs=-1)]: Done  80 tasks      | elapsed:    5.2s\n",
      "[Parallel(n_jobs=-1)]: Batch computation too fast (0.1706s.) Setting batch_size=2.\n",
      "[Parallel(n_jobs=-1)]: Done  97 tasks      | elapsed:    5.2s\n",
      "[Parallel(n_jobs=-1)]: Done 114 tasks      | elapsed:    5.2s\n",
      "[Parallel(n_jobs=-1)]: Batch computation too fast (0.0469s.) Setting batch_size=16.\n",
      "[Parallel(n_jobs=-1)]: Done 138 tasks      | elapsed:    5.3s\n",
      "[Parallel(n_jobs=-1)]: Done 176 tasks      | elapsed:    5.5s\n",
      "[Parallel(n_jobs=-1)]: Done 218 tasks      | elapsed:    5.6s\n",
      "[Parallel(n_jobs=-1)]: Done 526 tasks      | elapsed:    5.7s\n",
      "[Parallel(n_jobs=-1)]: Done 894 tasks      | elapsed:    5.9s\n",
      "[Parallel(n_jobs=-1)]: Done 1262 tasks      | elapsed:    6.1s\n",
      "[Parallel(n_jobs=-1)]: Done 1662 tasks      | elapsed:    6.4s\n",
      "[Parallel(n_jobs=-1)]: Done 2062 tasks      | elapsed:    6.6s\n",
      "[Parallel(n_jobs=-1)]: Done 2494 tasks      | elapsed:    6.8s\n",
      "[Parallel(n_jobs=-1)]: Done 2926 tasks      | elapsed:    7.1s\n",
      "[Parallel(n_jobs=-1)]: Done 3390 tasks      | elapsed:    7.4s\n",
      "[Parallel(n_jobs=-1)]: Done 3854 tasks      | elapsed:    7.7s\n",
      "[Parallel(n_jobs=-1)]: Done 4350 tasks      | elapsed:    8.0s\n",
      "[Parallel(n_jobs=-1)]: Done 4846 tasks      | elapsed:    8.5s\n",
      "[Parallel(n_jobs=-1)]: Done 5374 tasks      | elapsed:    8.8s\n",
      "[Parallel(n_jobs=-1)]: Done 5902 tasks      | elapsed:    9.1s\n",
      "[Parallel(n_jobs=-1)]: Done 6462 tasks      | elapsed:    9.4s\n",
      "[Parallel(n_jobs=-1)]: Done 7285 out of 7285 | elapsed:    9.7s finished\n"
     ]
    }
   ],
   "source": [
    "with Parallel(n_jobs=-1, verbose=10) as parallel:\n",
    "    parallel(\n",
    "        delayed(generate_json)(row, DT_ID)\n",
    "        for idx, row in tqdm(wav_df.iterrows(), total=len(wav_df))\n",
    "    )"
   ]
  },
  {
   "cell_type": "code",
   "execution_count": null,
   "metadata": {},
   "outputs": [],
   "source": []
  }
 ],
 "metadata": {
  "kernelspec": {
   "display_name": "Python 3",
   "language": "python",
   "name": "python3"
  },
  "language_info": {
   "codemirror_mode": {
    "name": "ipython",
    "version": 3
   },
   "file_extension": ".py",
   "mimetype": "text/x-python",
   "name": "python",
   "nbconvert_exporter": "python",
   "pygments_lexer": "ipython3",
   "version": "3.6.7"
  }
 },
 "nbformat": 4,
 "nbformat_minor": 2
}
