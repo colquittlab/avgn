{
 "cells": [
  {
   "cell_type": "markdown",
   "metadata": {},
   "source": [
    "### Corn crake custom parsing\n",
    "- This dataset has:\n",
    "    - A CSV of corn crake vocalizations\n",
    "    - MP3 files for each vocalization, with several syllables per mp3, annotated by age, sex, recording group, date, etc\n",
    "- This notebook creates a JSON corresponding to each WAV file, as well as a WAV file from the MP3\n",
    "- Dataset origin:\n",
    "    - https://link.springer.com/article/10.1007/s10336-017-1438-7\n",
    "    - http://www.tierstimmenarchiv.de/webinterface/contents/treebrowser.php"
   ]
  },
  {
   "cell_type": "code",
   "execution_count": 1,
   "metadata": {
    "ExecuteTime": {
     "end_time": "2019-06-23T18:02:13.614287Z",
     "start_time": "2019-06-23T18:02:12.198191Z"
    }
   },
   "outputs": [],
   "source": [
    "from avgn.utils.general import prepare_env"
   ]
  },
  {
   "cell_type": "code",
   "execution_count": 2,
   "metadata": {
    "ExecuteTime": {
     "end_time": "2019-06-23T18:02:13.651813Z",
     "start_time": "2019-06-23T18:02:13.616499Z"
    }
   },
   "outputs": [
    {
     "name": "stdout",
     "output_type": "stream",
     "text": [
      "env: CUDA_VISIBLE_DEVICES=GPU\n"
     ]
    }
   ],
   "source": [
    "prepare_env()"
   ]
  },
  {
   "cell_type": "markdown",
   "metadata": {},
   "source": [
    "### Import relevant packages"
   ]
  },
  {
   "cell_type": "code",
   "execution_count": 3,
   "metadata": {
    "ExecuteTime": {
     "end_time": "2019-06-23T18:02:14.215909Z",
     "start_time": "2019-06-23T18:02:13.653466Z"
    }
   },
   "outputs": [
    {
     "name": "stderr",
     "output_type": "stream",
     "text": [
      "/mnt/cube/tsainbur/conda_envs/tpy3/lib/python3.6/site-packages/tqdm/autonotebook/__init__.py:14: TqdmExperimentalWarning: Using `tqdm.autonotebook.tqdm` in notebook mode. Use `tqdm.tqdm` instead to force console mode (e.g. in jupyter console)\n",
      "  \" (e.g. in jupyter console)\", TqdmExperimentalWarning)\n"
     ]
    }
   ],
   "source": [
    "from joblib import Parallel, delayed\n",
    "from tqdm.autonotebook import tqdm\n",
    "import pandas as pd\n",
    "pd.options.display.max_columns = None\n",
    "import librosa\n",
    "from datetime import datetime\n",
    "import numpy as np"
   ]
  },
  {
   "cell_type": "code",
   "execution_count": 4,
   "metadata": {
    "ExecuteTime": {
     "end_time": "2019-06-23T18:02:14.247762Z",
     "start_time": "2019-06-23T18:02:14.217785Z"
    }
   },
   "outputs": [],
   "source": [
    "import avgn\n",
    "from avgn.custom_parsing.budka_corncrake import generate_wav_json\n",
    "from avgn.utils.paths import DATA_DIR"
   ]
  },
  {
   "cell_type": "markdown",
   "metadata": {},
   "source": [
    "### Load data in original format"
   ]
  },
  {
   "cell_type": "code",
   "execution_count": 5,
   "metadata": {
    "ExecuteTime": {
     "end_time": "2019-06-23T18:02:14.345089Z",
     "start_time": "2019-06-23T18:02:14.249635Z"
    }
   },
   "outputs": [],
   "source": [
    "DATASET_ID = 'budka_crex_crex'"
   ]
  },
  {
   "cell_type": "code",
   "execution_count": 6,
   "metadata": {
    "ExecuteTime": {
     "end_time": "2019-06-23T18:02:14.445008Z",
     "start_time": "2019-06-23T18:02:14.346971Z"
    }
   },
   "outputs": [
    {
     "data": {
      "text/plain": [
       "'2019-06-23_11-02-14'"
      ]
     },
     "execution_count": 6,
     "metadata": {},
     "output_type": "execute_result"
    }
   ],
   "source": [
    "# create a unique datetime identifier for the files output by this notebook\n",
    "DT_ID = datetime.now().strftime(\"%Y-%m-%d_%H-%M-%S\")\n",
    "DT_ID"
   ]
  },
  {
   "cell_type": "code",
   "execution_count": 7,
   "metadata": {
    "ExecuteTime": {
     "end_time": "2019-06-23T18:02:14.539828Z",
     "start_time": "2019-06-23T18:02:14.446903Z"
    }
   },
   "outputs": [
    {
     "data": {
      "text/plain": [
       "PosixPath('/mnt/cube/Datasets/animalsoundarchive/crex_crex')"
      ]
     },
     "execution_count": 7,
     "metadata": {},
     "output_type": "execute_result"
    }
   ],
   "source": [
    "DSLOC = avgn.utils.paths.Path('/mnt/cube/Datasets/animalsoundarchive/crex_crex/')\n",
    "DSLOC"
   ]
  },
  {
   "cell_type": "code",
   "execution_count": 8,
   "metadata": {
    "ExecuteTime": {
     "end_time": "2019-06-23T18:02:14.643028Z",
     "start_time": "2019-06-23T18:02:14.542412Z"
    }
   },
   "outputs": [
    {
     "data": {
      "text/plain": [
       "(233,\n",
       " array([PosixPath('/mnt/cube/Datasets/animalsoundarchive/crex_crex/Crex_crex_89582_short.mp3'),\n",
       "        PosixPath('/mnt/cube/Datasets/animalsoundarchive/crex_crex/Crex_crex_89583_short.mp3'),\n",
       "        PosixPath('/mnt/cube/Datasets/animalsoundarchive/crex_crex/Crex_crex_89584_short.mp3'),\n",
       "        PosixPath('/mnt/cube/Datasets/animalsoundarchive/crex_crex/Crex_crex_89585_short.mp3'),\n",
       "        PosixPath('/mnt/cube/Datasets/animalsoundarchive/crex_crex/Crex_crex_89586_short.mp3')],\n",
       "       dtype=object))"
      ]
     },
     "execution_count": 8,
     "metadata": {},
     "output_type": "execute_result"
    }
   ],
   "source": [
    "fg_list = np.array(list(DSLOC.glob('*.mp3')))\n",
    "len(fg_list), np.sort(fg_list)[-5:]"
   ]
  },
  {
   "cell_type": "code",
   "execution_count": 9,
   "metadata": {
    "ExecuteTime": {
     "end_time": "2019-06-23T18:02:15.114119Z",
     "start_time": "2019-06-23T18:02:14.644765Z"
    }
   },
   "outputs": [],
   "source": [
    "vocalization_lib = pd.read_csv(DSLOC.parent / 'recording_df.csv')\n",
    "voc_df = vocalization_lib[(vocalization_lib.species == 'Crex crex')  & (vocalization_lib.author == 'Budka, Michal')]"
   ]
  },
  {
   "cell_type": "code",
   "execution_count": 10,
   "metadata": {
    "ExecuteTime": {
     "end_time": "2019-06-23T18:02:15.148396Z",
     "start_time": "2019-06-23T18:02:15.115932Z"
    }
   },
   "outputs": [],
   "source": [
    "voc_df = voc_df[\n",
    "    [\n",
    "        \"filename\",\n",
    "        \"species\",\n",
    "        \"latitude\",\n",
    "        \"longitude\",\n",
    "        \"altitude\",\n",
    "        \"recording_date\",\n",
    "        \"recording_time\",\n",
    "        \"sex\",\n",
    "        \"age\",\n",
    "        \"sound_type\",\n",
    "        \"collection\",\n",
    "        \"filename_ext\",\n",
    "        \"description\",\n",
    "        \"duration\",\n",
    "        \"notes\",\n",
    "        \"unique_identifier\",\n",
    "        \"bytes\",\n",
    "        \"recording_type\",\n",
    "        \"recording_equipment\",\n",
    "        \"notes\"\n",
    "    ]\n",
    "]"
   ]
  },
  {
   "cell_type": "code",
   "execution_count": 11,
   "metadata": {
    "ExecuteTime": {
     "end_time": "2019-06-23T18:02:15.268833Z",
     "start_time": "2019-06-23T18:02:15.150080Z"
    }
   },
   "outputs": [
    {
     "data": {
      "text/html": [
       "<div>\n",
       "<style scoped>\n",
       "    .dataframe tbody tr th:only-of-type {\n",
       "        vertical-align: middle;\n",
       "    }\n",
       "\n",
       "    .dataframe tbody tr th {\n",
       "        vertical-align: top;\n",
       "    }\n",
       "\n",
       "    .dataframe thead th {\n",
       "        text-align: right;\n",
       "    }\n",
       "</style>\n",
       "<table border=\"1\" class=\"dataframe\">\n",
       "  <thead>\n",
       "    <tr style=\"text-align: right;\">\n",
       "      <th></th>\n",
       "      <th>filename</th>\n",
       "      <th>species</th>\n",
       "      <th>latitude</th>\n",
       "      <th>longitude</th>\n",
       "      <th>altitude</th>\n",
       "      <th>recording_date</th>\n",
       "      <th>recording_time</th>\n",
       "      <th>sex</th>\n",
       "      <th>age</th>\n",
       "      <th>sound_type</th>\n",
       "      <th>collection</th>\n",
       "      <th>filename_ext</th>\n",
       "      <th>description</th>\n",
       "      <th>duration</th>\n",
       "      <th>notes</th>\n",
       "      <th>unique_identifier</th>\n",
       "      <th>bytes</th>\n",
       "      <th>recording_type</th>\n",
       "      <th>recording_equipment</th>\n",
       "      <th>notes</th>\n",
       "    </tr>\n",
       "  </thead>\n",
       "  <tbody>\n",
       "    <tr>\n",
       "      <th>7401</th>\n",
       "      <td>Crex_crex_89354</td>\n",
       "      <td>Crex crex</td>\n",
       "      <td>49.30593</td>\n",
       "      <td>22.03909</td>\n",
       "      <td>531.0</td>\n",
       "      <td>8.6.2011</td>\n",
       "      <td>22:09</td>\n",
       "      <td>male</td>\n",
       "      <td>adult</td>\n",
       "      <td>song</td>\n",
       "      <td>J_Orn</td>\n",
       "      <td>Crex_crex_89354_short.mp3</td>\n",
       "      <td>Song of corncrake. Recording used in Budka M. ...</td>\n",
       "      <td>00:00:29</td>\n",
       "      <td>NaN</td>\n",
       "      <td>J_Orn:Crex_crex_89354</td>\n",
       "      <td>471000.0</td>\n",
       "      <td>w</td>\n",
       "      <td>Marantz PMD 620, Sennheiser ME 67</td>\n",
       "      <td>NaN</td>\n",
       "    </tr>\n",
       "    <tr>\n",
       "      <th>7402</th>\n",
       "      <td>Crex_crex_89355</td>\n",
       "      <td>Crex crex</td>\n",
       "      <td>49.30919</td>\n",
       "      <td>22.03963</td>\n",
       "      <td>550.0</td>\n",
       "      <td>8.6.2011</td>\n",
       "      <td>22:55</td>\n",
       "      <td>male</td>\n",
       "      <td>adult</td>\n",
       "      <td>song</td>\n",
       "      <td>J_Orn</td>\n",
       "      <td>Crex_crex_89355_short.mp3</td>\n",
       "      <td>Song of corncrake. Recording used in Budka M. ...</td>\n",
       "      <td>00:00:25</td>\n",
       "      <td>NaN</td>\n",
       "      <td>J_Orn:Crex_crex_89355</td>\n",
       "      <td>395000.0</td>\n",
       "      <td>w</td>\n",
       "      <td>Marantz PMD 620, Sennheiser ME 67</td>\n",
       "      <td>NaN</td>\n",
       "    </tr>\n",
       "    <tr>\n",
       "      <th>7403</th>\n",
       "      <td>Crex_crex_89356</td>\n",
       "      <td>Crex crex</td>\n",
       "      <td>49.30871</td>\n",
       "      <td>22.05282</td>\n",
       "      <td>553.0</td>\n",
       "      <td>8.6.2011</td>\n",
       "      <td>23:51</td>\n",
       "      <td>male</td>\n",
       "      <td>adult</td>\n",
       "      <td>song</td>\n",
       "      <td>J_Orn</td>\n",
       "      <td>Crex_crex_89356_short.mp3</td>\n",
       "      <td>Song of corncrake. Recording used in Budka M. ...</td>\n",
       "      <td>00:00:25</td>\n",
       "      <td>NaN</td>\n",
       "      <td>J_Orn:Crex_crex_89356</td>\n",
       "      <td>405000.0</td>\n",
       "      <td>w</td>\n",
       "      <td>Marantz PMD 620, Sennheiser ME 67</td>\n",
       "      <td>NaN</td>\n",
       "    </tr>\n",
       "  </tbody>\n",
       "</table>\n",
       "</div>"
      ],
      "text/plain": [
       "             filename    species  latitude  longitude  altitude  \\\n",
       "7401  Crex_crex_89354  Crex crex  49.30593   22.03909     531.0   \n",
       "7402  Crex_crex_89355  Crex crex  49.30919   22.03963     550.0   \n",
       "7403  Crex_crex_89356  Crex crex  49.30871   22.05282     553.0   \n",
       "\n",
       "     recording_date recording_time   sex    age sound_type collection  \\\n",
       "7401       8.6.2011          22:09  male  adult       song      J_Orn   \n",
       "7402       8.6.2011          22:55  male  adult       song      J_Orn   \n",
       "7403       8.6.2011          23:51  male  adult       song      J_Orn   \n",
       "\n",
       "                   filename_ext  \\\n",
       "7401  Crex_crex_89354_short.mp3   \n",
       "7402  Crex_crex_89355_short.mp3   \n",
       "7403  Crex_crex_89356_short.mp3   \n",
       "\n",
       "                                            description  duration notes  \\\n",
       "7401  Song of corncrake. Recording used in Budka M. ...  00:00:29   NaN   \n",
       "7402  Song of corncrake. Recording used in Budka M. ...  00:00:25   NaN   \n",
       "7403  Song of corncrake. Recording used in Budka M. ...  00:00:25   NaN   \n",
       "\n",
       "          unique_identifier     bytes recording_type  \\\n",
       "7401  J_Orn:Crex_crex_89354  471000.0              w   \n",
       "7402  J_Orn:Crex_crex_89355  395000.0              w   \n",
       "7403  J_Orn:Crex_crex_89356  405000.0              w   \n",
       "\n",
       "                    recording_equipment notes  \n",
       "7401  Marantz PMD 620, Sennheiser ME 67   NaN  \n",
       "7402  Marantz PMD 620, Sennheiser ME 67   NaN  \n",
       "7403  Marantz PMD 620, Sennheiser ME 67   NaN  "
      ]
     },
     "execution_count": 11,
     "metadata": {},
     "output_type": "execute_result"
    }
   ],
   "source": [
    "voc_df[:3]"
   ]
  },
  {
   "cell_type": "markdown",
   "metadata": {},
   "source": [
    "### generate JSON, save WAV"
   ]
  },
  {
   "cell_type": "code",
   "execution_count": 12,
   "metadata": {
    "ExecuteTime": {
     "end_time": "2019-06-23T18:02:32.788640Z",
     "start_time": "2019-06-23T18:02:15.270558Z"
    }
   },
   "outputs": [
    {
     "data": {
      "application/vnd.jupyter.widget-view+json": {
       "model_id": "d61592a99cea48bf86a6052516e60d02",
       "version_major": 2,
       "version_minor": 0
      },
      "text/plain": [
       "HBox(children=(IntProgress(value=0, max=233), HTML(value='')))"
      ]
     },
     "metadata": {},
     "output_type": "display_data"
    },
    {
     "name": "stderr",
     "output_type": "stream",
     "text": [
      "[Parallel(n_jobs=-1)]: Using backend LokyBackend with 24 concurrent workers.\n",
      "[Parallel(n_jobs=-1)]: Done   2 tasks      | elapsed:    7.7s\n",
      "[Parallel(n_jobs=-1)]: Done  13 tasks      | elapsed:    8.3s\n",
      "[Parallel(n_jobs=-1)]: Done  24 tasks      | elapsed:    8.8s\n",
      "[Parallel(n_jobs=-1)]: Done  37 tasks      | elapsed:    9.2s\n",
      "[Parallel(n_jobs=-1)]: Done  50 tasks      | elapsed:    9.9s\n",
      "[Parallel(n_jobs=-1)]: Done  65 tasks      | elapsed:   10.4s\n",
      "[Parallel(n_jobs=-1)]: Done  80 tasks      | elapsed:   11.1s\n",
      "[Parallel(n_jobs=-1)]: Done  97 tasks      | elapsed:   11.8s\n",
      "[Parallel(n_jobs=-1)]: Done 114 tasks      | elapsed:   12.5s\n",
      "[Parallel(n_jobs=-1)]: Done 133 tasks      | elapsed:   13.3s\n",
      "[Parallel(n_jobs=-1)]: Done 152 tasks      | elapsed:   14.2s\n",
      "[Parallel(n_jobs=-1)]: Done 173 tasks      | elapsed:   15.3s\n"
     ]
    },
    {
     "name": "stdout",
     "output_type": "stream",
     "text": [
      "\n"
     ]
    },
    {
     "name": "stderr",
     "output_type": "stream",
     "text": [
      "[Parallel(n_jobs=-1)]: Done 210 out of 233 | elapsed:   16.6s remaining:    1.8s\n",
      "[Parallel(n_jobs=-1)]: Done 233 out of 233 | elapsed:   17.4s finished\n"
     ]
    }
   ],
   "source": [
    "with Parallel(n_jobs=-1, verbose=10) as parallel:\n",
    "    parallel(\n",
    "        delayed(generate_wav_json)(\n",
    "            row,\n",
    "            DT_ID,\n",
    "            mp3_path=fg_list[row.filename_ext == np.array([i.name for i in fg_list])][\n",
    "                0\n",
    "            ],\n",
    "        )\n",
    "        for idx, row in tqdm(voc_df.iterrows(), total=len(voc_df))\n",
    "    )"
   ]
  }
 ],
 "metadata": {
  "kernelspec": {
   "display_name": "Python 3",
   "language": "python",
   "name": "python3"
  },
  "language_info": {
   "codemirror_mode": {
    "name": "ipython",
    "version": 3
   },
   "file_extension": ".py",
   "mimetype": "text/x-python",
   "name": "python",
   "nbconvert_exporter": "python",
   "pygments_lexer": "ipython3",
   "version": "3.6.7"
  }
 },
 "nbformat": 4,
 "nbformat_minor": 2
}
