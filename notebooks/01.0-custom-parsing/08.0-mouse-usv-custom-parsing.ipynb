{
 "cells": [
  {
   "cell_type": "markdown",
   "metadata": {},
   "source": [
    "### Mouse USV custom parsing\n",
    "- This dataset has a number of WAV files and corresponding respiratory data that is not properly aligned to the WAV data. Respiratory data is aligned in a second dataset by the same author though. I only downloaded a subset of the large dataset here. WAVs mostly continuously contain vocalizations (a little noisy though), so I'm not further segmenting vocalization files. \n",
    "    - .WAV files of vocalizations and filename with ID\n",
    "- This notebook creates a JSON corresponding to each WAV file. \n",
    "- Dataset origin:\n",
    "    - https://journals.plos.org/plosone/article?id=10.1371/journal.pone.0199929\n",
    "    - https://datadryad.org/handle/10255/dryad.177144"
   ]
  },
  {
   "cell_type": "code",
   "execution_count": 33,
   "metadata": {
    "ExecuteTime": {
     "end_time": "2019-06-24T05:11:50.872202Z",
     "start_time": "2019-06-24T05:11:50.600259Z"
    }
   },
   "outputs": [],
   "source": [
    "from avgn.utils.general import prepare_env"
   ]
  },
  {
   "cell_type": "code",
   "execution_count": 34,
   "metadata": {
    "ExecuteTime": {
     "end_time": "2019-06-24T05:11:51.350146Z",
     "start_time": "2019-06-24T05:11:51.308435Z"
    }
   },
   "outputs": [
    {
     "name": "stdout",
     "output_type": "stream",
     "text": [
      "The autoreload extension is already loaded. To reload it, use:\n",
      "  %reload_ext autoreload\n",
      "env: CUDA_VISIBLE_DEVICES=GPU\n"
     ]
    }
   ],
   "source": [
    "prepare_env()"
   ]
  },
  {
   "cell_type": "markdown",
   "metadata": {},
   "source": [
    "### Import relevant packages"
   ]
  },
  {
   "cell_type": "code",
   "execution_count": 35,
   "metadata": {
    "ExecuteTime": {
     "end_time": "2019-06-24T05:11:51.833318Z",
     "start_time": "2019-06-24T05:11:51.759300Z"
    }
   },
   "outputs": [],
   "source": [
    "from joblib import Parallel, delayed\n",
    "from tqdm.autonotebook import tqdm\n",
    "import pandas as pd\n",
    "pd.options.display.max_columns = None\n",
    "import librosa\n",
    "from datetime import datetime\n",
    "import numpy as np"
   ]
  },
  {
   "cell_type": "code",
   "execution_count": 66,
   "metadata": {
    "ExecuteTime": {
     "end_time": "2019-06-24T05:17:24.450947Z",
     "start_time": "2019-06-24T05:17:24.200452Z"
    }
   },
   "outputs": [],
   "source": [
    "import avgn\n",
    "from avgn.custom_parsing.castellucci_mouse_usv import generate_json\n",
    "from avgn.utils.paths import DATA_DIR"
   ]
  },
  {
   "cell_type": "markdown",
   "metadata": {},
   "source": [
    "### Load data in original format"
   ]
  },
  {
   "cell_type": "code",
   "execution_count": 37,
   "metadata": {
    "ExecuteTime": {
     "end_time": "2019-06-24T05:11:52.218230Z",
     "start_time": "2019-06-24T05:11:52.163533Z"
    }
   },
   "outputs": [],
   "source": [
    "DATASET_ID = 'castellucci_mouse_usv'"
   ]
  },
  {
   "cell_type": "code",
   "execution_count": 38,
   "metadata": {
    "ExecuteTime": {
     "end_time": "2019-06-24T05:11:52.388468Z",
     "start_time": "2019-06-24T05:11:52.324755Z"
    }
   },
   "outputs": [
    {
     "data": {
      "text/plain": [
       "'2019-06-23_22-11-52'"
      ]
     },
     "execution_count": 38,
     "metadata": {},
     "output_type": "execute_result"
    }
   ],
   "source": [
    "# create a unique datetime identifier for the files output by this notebook\n",
    "DT_ID = datetime.now().strftime(\"%Y-%m-%d_%H-%M-%S\")\n",
    "DT_ID"
   ]
  },
  {
   "cell_type": "code",
   "execution_count": 39,
   "metadata": {
    "ExecuteTime": {
     "end_time": "2019-06-24T05:11:52.528917Z",
     "start_time": "2019-06-24T05:11:52.470921Z"
    }
   },
   "outputs": [
    {
     "data": {
      "text/plain": [
       "PosixPath('/mnt/cube/Datasets/mouse_usv')"
      ]
     },
     "execution_count": 39,
     "metadata": {},
     "output_type": "execute_result"
    }
   ],
   "source": [
    "DSLOC = avgn.utils.paths.Path('/mnt/cube/Datasets/mouse_usv')\n",
    "DSLOC"
   ]
  },
  {
   "cell_type": "markdown",
   "metadata": {},
   "source": [
    "### Parse Wav Info"
   ]
  },
  {
   "cell_type": "code",
   "execution_count": 40,
   "metadata": {
    "ExecuteTime": {
     "end_time": "2019-06-24T05:11:52.844248Z",
     "start_time": "2019-06-24T05:11:52.775245Z"
    }
   },
   "outputs": [
    {
     "data": {
      "text/plain": [
       "[PosixPath('/mnt/cube/Datasets/mouse_usv/VOC591/VOC591_Isolation_Call_CMPA_8_9_2016_14_6.04.WAV'),\n",
       " PosixPath('/mnt/cube/Datasets/mouse_usv/VOC591/VOC591_VOC571_SONG_CMPA_10_7_2016_73_22.97.WAV'),\n",
       " PosixPath('/mnt/cube/Datasets/mouse_usv/VOC591/VOC591_VOC583_SONG_CMPA_9_3_2016_39_19.17.WAV')]"
      ]
     },
     "execution_count": 40,
     "metadata": {},
     "output_type": "execute_result"
    }
   ],
   "source": [
    "wav_files = list(DSLOC.expanduser().glob('*/*.WAV'))\n",
    "wav_files[:3]"
   ]
  },
  {
   "cell_type": "code",
   "execution_count": 41,
   "metadata": {
    "ExecuteTime": {
     "end_time": "2019-06-24T05:11:54.758909Z",
     "start_time": "2019-06-24T05:11:53.931514Z"
    }
   },
   "outputs": [
    {
     "data": {
      "application/vnd.jupyter.widget-view+json": {
       "model_id": "155cc0a6d3c14afa90c2e90b93a3da5d",
       "version_major": 2,
       "version_minor": 0
      },
      "text/plain": [
       "HBox(children=(IntProgress(value=0, max=215), HTML(value='')))"
      ]
     },
     "metadata": {},
     "output_type": "display_data"
    },
    {
     "name": "stdout",
     "output_type": "stream",
     "text": [
      "\n"
     ]
    }
   ],
   "source": [
    "wf_df = pd.DataFrame(\n",
    "    columns=[\n",
    "        \"indv\",\n",
    "        \"MaleMouse\",\n",
    "        \"FemaleMouse\",\n",
    "        \"SONG\",\n",
    "        \"CMPA\",\n",
    "        \"month\",\n",
    "        \"day\",\n",
    "        \"year\",\n",
    "        \"AGE\",\n",
    "        \"Weight\",\n",
    "        \"wav_loc\",\n",
    "    ]\n",
    ")\n",
    "for wf in tqdm(wav_files):\n",
    "    if len(wf.stem.split(\"_\")) != 9: continue\n",
    "    wf_df.loc[len(wf_df)] = [wf.parent.stem] + wf.stem.split(\"_\") + [wf]"
   ]
  },
  {
   "cell_type": "code",
   "execution_count": 42,
   "metadata": {
    "ExecuteTime": {
     "end_time": "2019-06-24T05:11:54.820740Z",
     "start_time": "2019-06-24T05:11:54.763289Z"
    }
   },
   "outputs": [
    {
     "data": {
      "text/plain": [
       "143"
      ]
     },
     "execution_count": 42,
     "metadata": {},
     "output_type": "execute_result"
    }
   ],
   "source": [
    "len(wf_df)"
   ]
  },
  {
   "cell_type": "code",
   "execution_count": 43,
   "metadata": {
    "ExecuteTime": {
     "end_time": "2019-06-24T05:11:55.034591Z",
     "start_time": "2019-06-24T05:11:54.956473Z"
    }
   },
   "outputs": [
    {
     "data": {
      "text/html": [
       "<div>\n",
       "<style scoped>\n",
       "    .dataframe tbody tr th:only-of-type {\n",
       "        vertical-align: middle;\n",
       "    }\n",
       "\n",
       "    .dataframe tbody tr th {\n",
       "        vertical-align: top;\n",
       "    }\n",
       "\n",
       "    .dataframe thead th {\n",
       "        text-align: right;\n",
       "    }\n",
       "</style>\n",
       "<table border=\"1\" class=\"dataframe\">\n",
       "  <thead>\n",
       "    <tr style=\"text-align: right;\">\n",
       "      <th></th>\n",
       "      <th>indv</th>\n",
       "      <th>MaleMouse</th>\n",
       "      <th>FemaleMouse</th>\n",
       "      <th>SONG</th>\n",
       "      <th>CMPA</th>\n",
       "      <th>month</th>\n",
       "      <th>day</th>\n",
       "      <th>year</th>\n",
       "      <th>AGE</th>\n",
       "      <th>Weight</th>\n",
       "      <th>wav_loc</th>\n",
       "    </tr>\n",
       "  </thead>\n",
       "  <tbody>\n",
       "    <tr>\n",
       "      <th>0</th>\n",
       "      <td>VOC591</td>\n",
       "      <td>VOC591</td>\n",
       "      <td>Isolation</td>\n",
       "      <td>Call</td>\n",
       "      <td>CMPA</td>\n",
       "      <td>8</td>\n",
       "      <td>9</td>\n",
       "      <td>2016</td>\n",
       "      <td>14</td>\n",
       "      <td>6.04</td>\n",
       "      <td>/mnt/cube/Datasets/mouse_usv/VOC591/VOC591_Iso...</td>\n",
       "    </tr>\n",
       "    <tr>\n",
       "      <th>1</th>\n",
       "      <td>VOC591</td>\n",
       "      <td>VOC591</td>\n",
       "      <td>VOC571</td>\n",
       "      <td>SONG</td>\n",
       "      <td>CMPA</td>\n",
       "      <td>10</td>\n",
       "      <td>7</td>\n",
       "      <td>2016</td>\n",
       "      <td>73</td>\n",
       "      <td>22.97</td>\n",
       "      <td>/mnt/cube/Datasets/mouse_usv/VOC591/VOC591_VOC...</td>\n",
       "    </tr>\n",
       "    <tr>\n",
       "      <th>2</th>\n",
       "      <td>VOC591</td>\n",
       "      <td>VOC591</td>\n",
       "      <td>VOC583</td>\n",
       "      <td>SONG</td>\n",
       "      <td>CMPA</td>\n",
       "      <td>9</td>\n",
       "      <td>3</td>\n",
       "      <td>2016</td>\n",
       "      <td>39</td>\n",
       "      <td>19.17</td>\n",
       "      <td>/mnt/cube/Datasets/mouse_usv/VOC591/VOC591_VOC...</td>\n",
       "    </tr>\n",
       "  </tbody>\n",
       "</table>\n",
       "</div>"
      ],
      "text/plain": [
       "     indv MaleMouse FemaleMouse  SONG  CMPA month day  year AGE Weight  \\\n",
       "0  VOC591    VOC591   Isolation  Call  CMPA     8   9  2016  14   6.04   \n",
       "1  VOC591    VOC591      VOC571  SONG  CMPA    10   7  2016  73  22.97   \n",
       "2  VOC591    VOC591      VOC583  SONG  CMPA     9   3  2016  39  19.17   \n",
       "\n",
       "                                             wav_loc  \n",
       "0  /mnt/cube/Datasets/mouse_usv/VOC591/VOC591_Iso...  \n",
       "1  /mnt/cube/Datasets/mouse_usv/VOC591/VOC591_VOC...  \n",
       "2  /mnt/cube/Datasets/mouse_usv/VOC591/VOC591_VOC...  "
      ]
     },
     "execution_count": 43,
     "metadata": {},
     "output_type": "execute_result"
    }
   ],
   "source": [
    "wf_df[:3]"
   ]
  },
  {
   "cell_type": "code",
   "execution_count": 57,
   "metadata": {
    "ExecuteTime": {
     "end_time": "2019-06-24T05:13:53.664670Z",
     "start_time": "2019-06-24T05:13:53.599403Z"
    }
   },
   "outputs": [
    {
     "data": {
      "text/plain": [
       "array(['CMPA'], dtype=object)"
      ]
     },
     "execution_count": 57,
     "metadata": {},
     "output_type": "execute_result"
    }
   ],
   "source": [
    "wf_df.CMPA.unique()"
   ]
  },
  {
   "cell_type": "markdown",
   "metadata": {},
   "source": [
    "### Create JSON for files"
   ]
  },
  {
   "cell_type": "code",
   "execution_count": 68,
   "metadata": {
    "ExecuteTime": {
     "end_time": "2019-06-24T05:18:38.600178Z",
     "start_time": "2019-06-24T05:18:25.156728Z"
    }
   },
   "outputs": [
    {
     "data": {
      "application/vnd.jupyter.widget-view+json": {
       "model_id": "bfde8c67b1504aa58e099c3fc633868f",
       "version_major": 2,
       "version_minor": 0
      },
      "text/plain": [
       "HBox(children=(IntProgress(value=0, max=143), HTML(value='')))"
      ]
     },
     "metadata": {},
     "output_type": "display_data"
    },
    {
     "name": "stderr",
     "output_type": "stream",
     "text": [
      "[Parallel(n_jobs=-1)]: Using backend LokyBackend with 24 concurrent workers.\n",
      "[Parallel(n_jobs=-1)]: Done   2 tasks      | elapsed:    6.0s\n",
      "[Parallel(n_jobs=-1)]: Done  13 tasks      | elapsed:    6.5s\n",
      "[Parallel(n_jobs=-1)]: Done  24 tasks      | elapsed:    6.6s\n",
      "[Parallel(n_jobs=-1)]: Done  37 tasks      | elapsed:    8.1s\n",
      "[Parallel(n_jobs=-1)]: Done  50 tasks      | elapsed:    8.8s\n",
      "[Parallel(n_jobs=-1)]: Done  65 tasks      | elapsed:    9.7s\n",
      "[Parallel(n_jobs=-1)]: Done  80 tasks      | elapsed:   10.5s\n"
     ]
    },
    {
     "name": "stdout",
     "output_type": "stream",
     "text": [
      "\n"
     ]
    },
    {
     "name": "stderr",
     "output_type": "stream",
     "text": [
      "[Parallel(n_jobs=-1)]: Done 111 out of 143 | elapsed:   12.3s remaining:    3.6s\n",
      "[Parallel(n_jobs=-1)]: Done 126 out of 143 | elapsed:   13.0s remaining:    1.7s\n",
      "[Parallel(n_jobs=-1)]: Done 141 out of 143 | elapsed:   13.0s remaining:    0.2s\n",
      "[Parallel(n_jobs=-1)]: Done 143 out of 143 | elapsed:   13.0s finished\n"
     ]
    }
   ],
   "source": [
    "with Parallel(n_jobs=-1, verbose=10) as parallel:\n",
    "    parallel(\n",
    "        delayed(generate_json)(\n",
    "            row, DT_ID\n",
    "        )\n",
    "        for idx, row in tqdm(wf_df.iterrows(), total=len(wf_df))\n",
    "    )"
   ]
  }
 ],
 "metadata": {
  "kernelspec": {
   "display_name": "Python 3",
   "language": "python",
   "name": "python3"
  },
  "language_info": {
   "codemirror_mode": {
    "name": "ipython",
    "version": 3
   },
   "file_extension": ".py",
   "mimetype": "text/x-python",
   "name": "python",
   "nbconvert_exporter": "python",
   "pygments_lexer": "ipython3",
   "version": "3.6.7"
  }
 },
 "nbformat": 4,
 "nbformat_minor": 2
}
