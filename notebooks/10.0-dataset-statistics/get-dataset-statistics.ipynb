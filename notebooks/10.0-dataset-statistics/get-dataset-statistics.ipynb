{
 "cells": [
  {
   "cell_type": "code",
   "execution_count": 1,
   "metadata": {
    "ExecuteTime": {
     "end_time": "2019-11-14T16:04:26.542686Z",
     "start_time": "2019-11-14T16:04:26.521821Z"
    }
   },
   "outputs": [],
   "source": [
    "%load_ext autoreload\n",
    "%autoreload 2"
   ]
  },
  {
   "cell_type": "code",
   "execution_count": 2,
   "metadata": {
    "ExecuteTime": {
     "end_time": "2019-11-14T16:04:31.859658Z",
     "start_time": "2019-11-14T16:04:26.544643Z"
    }
   },
   "outputs": [
    {
     "name": "stderr",
     "output_type": "stream",
     "text": [
      "/mnt/cube/tsainbur/conda_envs/tpy3/lib/python3.6/site-packages/tqdm/autonotebook/__init__.py:14: TqdmExperimentalWarning: Using `tqdm.autonotebook.tqdm` in notebook mode. Use `tqdm.tqdm` instead to force console mode (e.g. in jupyter console)\n",
      "  \" (e.g. in jupyter console)\", TqdmExperimentalWarning)\n"
     ]
    }
   ],
   "source": [
    "import numpy as np\n",
    "import matplotlib.pyplot as plt\n",
    "%matplotlib inline\n",
    "from tqdm.autonotebook import tqdm\n",
    "from joblib import Parallel, delayed\n",
    "import umap\n",
    "import pandas as pd\n",
    "import collections"
   ]
  },
  {
   "cell_type": "code",
   "execution_count": 3,
   "metadata": {
    "ExecuteTime": {
     "end_time": "2019-11-14T16:04:32.121806Z",
     "start_time": "2019-11-14T16:04:31.864056Z"
    }
   },
   "outputs": [],
   "source": [
    "from avgn.utils.paths import DATA_DIR, most_recent_subdirectory, ensure_dir"
   ]
  },
  {
   "cell_type": "code",
   "execution_count": 4,
   "metadata": {
    "ExecuteTime": {
     "end_time": "2019-11-14T16:04:32.180930Z",
     "start_time": "2019-11-14T16:04:32.127649Z"
    }
   },
   "outputs": [],
   "source": [
    "from avgn.utils.hparams import HParams\n",
    "from avgn.dataset import DataSet "
   ]
  },
  {
   "cell_type": "code",
   "execution_count": 5,
   "metadata": {
    "ExecuteTime": {
     "end_time": "2019-11-14T16:04:32.256907Z",
     "start_time": "2019-11-14T16:04:32.183385Z"
    }
   },
   "outputs": [],
   "source": [
    "from avgn.dataset_names import species_dict"
   ]
  },
  {
   "cell_type": "code",
   "execution_count": 6,
   "metadata": {
    "ExecuteTime": {
     "end_time": "2019-11-14T16:04:32.370401Z",
     "start_time": "2019-11-14T16:04:32.258912Z"
    }
   },
   "outputs": [
    {
     "data": {
      "text/plain": [
       "['castellucci_mouse_usv_segmented',\n",
       " 'BIRD_DB_Vireo_cassinii',\n",
       " 'gibbon_morita_segmented',\n",
       " 'bengalese_finch_sober',\n",
       " 'buckeye',\n",
       " 'swamp_sparrow',\n",
       " 'mobysound_humpback_whale',\n",
       " 'koumura_bengalese_finch',\n",
       " 'batsong_segmented',\n",
       " 'giant_otter',\n",
       " 'BIRD_DB_Toxostoma_redivivum',\n",
       " 'zebra_finch_gardner_segmented',\n",
       " 'katahira_white_munia_segmented',\n",
       " 'european_starling_gentner_segmented',\n",
       " 'macaque_coo',\n",
       " 'zebra_finch_theunisson',\n",
       " 'marmoset',\n",
       " 'hildebrand_Cuviers_beaked_whale',\n",
       " 'hildebrand_Gervaiss_beaked_whale',\n",
       " 'NA_BIRDS_american_crow',\n",
       " 'NA_BIRDS_american_yellow_warbler',\n",
       " 'NA_BIRDS_blue_jay',\n",
       " 'NA_BIRDS_cedar_waxwing',\n",
       " 'NA_BIRDS_chipping_sparrow',\n",
       " 'NA_BIRDS_common_yellowthroat',\n",
       " 'NA_BIRDS_great_blue_heron',\n",
       " 'NA_BIRDS_house_finch',\n",
       " 'NA_BIRDS_indigo_bunting',\n",
       " 'NA_BIRDS_marsh_wren',\n",
       " 'NA_BIRDS_song_sparrow',\n",
       " 'canary_segmented']"
      ]
     },
     "execution_count": 6,
     "metadata": {},
     "output_type": "execute_result"
    }
   ],
   "source": [
    "list(species_dict.keys())"
   ]
  },
  {
   "cell_type": "code",
   "execution_count": 7,
   "metadata": {
    "ExecuteTime": {
     "end_time": "2019-11-14T16:04:32.497390Z",
     "start_time": "2019-11-14T16:04:32.372473Z"
    }
   },
   "outputs": [],
   "source": [
    "DATASET_IDs = list(species_dict.keys())"
   ]
  },
  {
   "cell_type": "code",
   "execution_count": 8,
   "metadata": {
    "ExecuteTime": {
     "end_time": "2019-11-14T16:04:32.610356Z",
     "start_time": "2019-11-14T16:04:32.499827Z"
    }
   },
   "outputs": [],
   "source": [
    "hparams = HParams()"
   ]
  },
  {
   "cell_type": "code",
   "execution_count": 9,
   "metadata": {
    "ExecuteTime": {
     "end_time": "2019-11-14T16:04:32.713869Z",
     "start_time": "2019-11-14T16:04:32.612489Z"
    }
   },
   "outputs": [],
   "source": [
    "def get_call_types(sample_json):\n",
    "    call_types = []\n",
    "    for ct in sample_json[\"indvs\"][\n",
    "        list(sample_json[\"indvs\"].keys())[0]\n",
    "    ].keys():\n",
    "        if (\n",
    "            type(\n",
    "                sample_json[\"indvs\"][list(sample_json[\"indvs\"].keys())[0]][\n",
    "                    ct\n",
    "                ]\n",
    "            )\n",
    "            == collections.OrderedDict\n",
    "        ):\n",
    "            if \"start_times\" in list(\n",
    "                sample_json[\"indvs\"][list(sample_json[\"indvs\"].keys())[0]][\n",
    "                    ct\n",
    "                ].keys()\n",
    "            ):\n",
    "                call_types.append(ct)\n",
    "    return call_types"
   ]
  },
  {
   "cell_type": "code",
   "execution_count": 10,
   "metadata": {
    "ExecuteTime": {
     "end_time": "2019-11-14T16:04:32.796767Z",
     "start_time": "2019-11-14T16:04:32.715921Z"
    }
   },
   "outputs": [],
   "source": [
    "import librosa"
   ]
  },
  {
   "cell_type": "code",
   "execution_count": 11,
   "metadata": {
    "ExecuteTime": {
     "end_time": "2019-11-14T16:09:06.455801Z",
     "start_time": "2019-11-14T16:04:32.800147Z"
    }
   },
   "outputs": [
    {
     "data": {
      "application/vnd.jupyter.widget-view+json": {
       "model_id": "b5073b0958f54d8c9c11af46915c6678",
       "version_major": 2,
       "version_minor": 0
      },
      "text/plain": [
       "HBox(children=(IntProgress(value=0, description='datasets', max=31, style=ProgressStyle(description_width='ini…"
      ]
     },
     "metadata": {},
     "output_type": "display_data"
    },
    {
     "data": {
      "application/vnd.jupyter.widget-view+json": {
       "model_id": "8c6ff5dfc8bc4edc845e97b835c4f056",
       "version_major": 2,
       "version_minor": 0
      },
      "text/plain": [
       "HBox(children=(IntProgress(value=0, description='loading json', max=2320, style=ProgressStyle(description_widt…"
      ]
     },
     "metadata": {},
     "output_type": "display_data"
    },
    {
     "name": "stderr",
     "output_type": "stream",
     "text": [
      "[Parallel(n_jobs=-1)]: Using backend LokyBackend with 24 concurrent workers.\n",
      "[Parallel(n_jobs=-1)]: Done   2 tasks      | elapsed:    4.8s\n",
      "[Parallel(n_jobs=-1)]: Done 535 tasks      | elapsed:    5.3s\n",
      "[Parallel(n_jobs=-1)]: Done 2320 out of 2320 | elapsed:    5.7s finished\n"
     ]
    },
    {
     "data": {
      "application/vnd.jupyter.widget-view+json": {
       "model_id": "",
       "version_major": 2,
       "version_minor": 0
      },
      "text/plain": [
       "HBox(children=(IntProgress(value=0, description='getting unique individuals', max=2320, style=ProgressStyle(de…"
      ]
     },
     "metadata": {},
     "output_type": "display_data"
    },
    {
     "data": {
      "application/vnd.jupyter.widget-view+json": {
       "model_id": "",
       "version_major": 2,
       "version_minor": 0
      },
      "text/plain": [
       "HBox(children=(IntProgress(value=0, max=2320), HTML(value='')))"
      ]
     },
     "metadata": {},
     "output_type": "display_data"
    },
    {
     "data": {
      "application/vnd.jupyter.widget-view+json": {
       "model_id": "1a76ba9a9db74f399b8d4ac6b9a23e58",
       "version_major": 2,
       "version_minor": 0
      },
      "text/plain": [
       "HBox(children=(IntProgress(value=0, description='loading json', max=258, style=ProgressStyle(description_width…"
      ]
     },
     "metadata": {},
     "output_type": "display_data"
    },
    {
     "name": "stderr",
     "output_type": "stream",
     "text": [
      "[Parallel(n_jobs=-1)]: Using backend LokyBackend with 24 concurrent workers.\n",
      "[Parallel(n_jobs=-1)]: Done 258 out of 258 | elapsed:    0.1s finished\n"
     ]
    },
    {
     "data": {
      "application/vnd.jupyter.widget-view+json": {
       "model_id": "",
       "version_major": 2,
       "version_minor": 0
      },
      "text/plain": [
       "HBox(children=(IntProgress(value=0, description='getting unique individuals', max=258, style=ProgressStyle(des…"
      ]
     },
     "metadata": {},
     "output_type": "display_data"
    },
    {
     "data": {
      "application/vnd.jupyter.widget-view+json": {
       "model_id": "",
       "version_major": 2,
       "version_minor": 0
      },
      "text/plain": [
       "HBox(children=(IntProgress(value=0, max=258), HTML(value='')))"
      ]
     },
     "metadata": {},
     "output_type": "display_data"
    },
    {
     "data": {
      "application/vnd.jupyter.widget-view+json": {
       "model_id": "7525187e0b9849cd8f2c245455cc7ec1",
       "version_major": 2,
       "version_minor": 0
      },
      "text/plain": [
       "HBox(children=(IntProgress(value=0, description='loading json', max=248, style=ProgressStyle(description_width…"
      ]
     },
     "metadata": {},
     "output_type": "display_data"
    },
    {
     "name": "stderr",
     "output_type": "stream",
     "text": [
      "[Parallel(n_jobs=-1)]: Using backend LokyBackend with 24 concurrent workers.\n",
      "[Parallel(n_jobs=-1)]: Done 248 out of 248 | elapsed:    0.0s finished\n"
     ]
    },
    {
     "data": {
      "application/vnd.jupyter.widget-view+json": {
       "model_id": "",
       "version_major": 2,
       "version_minor": 0
      },
      "text/plain": [
       "HBox(children=(IntProgress(value=0, description='getting unique individuals', max=248, style=ProgressStyle(des…"
      ]
     },
     "metadata": {},
     "output_type": "display_data"
    },
    {
     "data": {
      "application/vnd.jupyter.widget-view+json": {
       "model_id": "",
       "version_major": 2,
       "version_minor": 0
      },
      "text/plain": [
       "HBox(children=(IntProgress(value=0, max=248), HTML(value='')))"
      ]
     },
     "metadata": {},
     "output_type": "display_data"
    },
    {
     "data": {
      "application/vnd.jupyter.widget-view+json": {
       "model_id": "d50c0cc8e57744128bcf319a1ba08762",
       "version_major": 2,
       "version_minor": 0
      },
      "text/plain": [
       "HBox(children=(IntProgress(value=0, description='loading json', max=251, style=ProgressStyle(description_width…"
      ]
     },
     "metadata": {},
     "output_type": "display_data"
    },
    {
     "name": "stderr",
     "output_type": "stream",
     "text": [
      "[Parallel(n_jobs=-1)]: Using backend LokyBackend with 24 concurrent workers.\n",
      "[Parallel(n_jobs=-1)]: Done   2 tasks      | elapsed:    0.0s\n",
      "[Parallel(n_jobs=-1)]: Done 251 out of 251 | elapsed:    0.1s finished\n"
     ]
    },
    {
     "data": {
      "application/vnd.jupyter.widget-view+json": {
       "model_id": "",
       "version_major": 2,
       "version_minor": 0
      },
      "text/plain": [
       "HBox(children=(IntProgress(value=0, description='getting unique individuals', max=251, style=ProgressStyle(des…"
      ]
     },
     "metadata": {},
     "output_type": "display_data"
    },
    {
     "data": {
      "application/vnd.jupyter.widget-view+json": {
       "model_id": "",
       "version_major": 2,
       "version_minor": 0
      },
      "text/plain": [
       "HBox(children=(IntProgress(value=0, max=251), HTML(value='')))"
      ]
     },
     "metadata": {},
     "output_type": "display_data"
    },
    {
     "data": {
      "application/vnd.jupyter.widget-view+json": {
       "model_id": "44987a3358fd43a6a26d3074caa80f0b",
       "version_major": 2,
       "version_minor": 0
      },
      "text/plain": [
       "HBox(children=(IntProgress(value=0, description='loading json', max=248, style=ProgressStyle(description_width…"
      ]
     },
     "metadata": {},
     "output_type": "display_data"
    },
    {
     "name": "stderr",
     "output_type": "stream",
     "text": [
      "[Parallel(n_jobs=-1)]: Using backend LokyBackend with 24 concurrent workers.\n",
      "[Parallel(n_jobs=-1)]: Done 248 out of 248 | elapsed:    0.1s finished\n"
     ]
    },
    {
     "data": {
      "application/vnd.jupyter.widget-view+json": {
       "model_id": "",
       "version_major": 2,
       "version_minor": 0
      },
      "text/plain": [
       "HBox(children=(IntProgress(value=0, description='getting unique individuals', max=248, style=ProgressStyle(des…"
      ]
     },
     "metadata": {},
     "output_type": "display_data"
    },
    {
     "data": {
      "application/vnd.jupyter.widget-view+json": {
       "model_id": "",
       "version_major": 2,
       "version_minor": 0
      },
      "text/plain": [
       "HBox(children=(IntProgress(value=0, max=248), HTML(value='')))"
      ]
     },
     "metadata": {},
     "output_type": "display_data"
    },
    {
     "data": {
      "application/vnd.jupyter.widget-view+json": {
       "model_id": "ce6454d309ef4eddba185526b105de97",
       "version_major": 2,
       "version_minor": 0
      },
      "text/plain": [
       "HBox(children=(IntProgress(value=0, description='loading json', max=246, style=ProgressStyle(description_width…"
      ]
     },
     "metadata": {},
     "output_type": "display_data"
    },
    {
     "name": "stderr",
     "output_type": "stream",
     "text": [
      "[Parallel(n_jobs=-1)]: Using backend LokyBackend with 24 concurrent workers.\n",
      "[Parallel(n_jobs=-1)]: Done 246 out of 246 | elapsed:    0.1s finished\n"
     ]
    },
    {
     "data": {
      "application/vnd.jupyter.widget-view+json": {
       "model_id": "",
       "version_major": 2,
       "version_minor": 0
      },
      "text/plain": [
       "HBox(children=(IntProgress(value=0, description='getting unique individuals', max=246, style=ProgressStyle(des…"
      ]
     },
     "metadata": {},
     "output_type": "display_data"
    },
    {
     "data": {
      "application/vnd.jupyter.widget-view+json": {
       "model_id": "",
       "version_major": 2,
       "version_minor": 0
      },
      "text/plain": [
       "HBox(children=(IntProgress(value=0, max=246), HTML(value='')))"
      ]
     },
     "metadata": {},
     "output_type": "display_data"
    },
    {
     "data": {
      "application/vnd.jupyter.widget-view+json": {
       "model_id": "373219d7649a405e8dc5d632c6f2bebc",
       "version_major": 2,
       "version_minor": 0
      },
      "text/plain": [
       "HBox(children=(IntProgress(value=0, description='loading json', max=255, style=ProgressStyle(description_width…"
      ]
     },
     "metadata": {},
     "output_type": "display_data"
    },
    {
     "name": "stderr",
     "output_type": "stream",
     "text": [
      "[Parallel(n_jobs=-1)]: Using backend LokyBackend with 24 concurrent workers.\n",
      "[Parallel(n_jobs=-1)]: Done 255 out of 255 | elapsed:    0.1s finished\n"
     ]
    },
    {
     "data": {
      "application/vnd.jupyter.widget-view+json": {
       "model_id": "",
       "version_major": 2,
       "version_minor": 0
      },
      "text/plain": [
       "HBox(children=(IntProgress(value=0, description='getting unique individuals', max=255, style=ProgressStyle(des…"
      ]
     },
     "metadata": {},
     "output_type": "display_data"
    },
    {
     "data": {
      "application/vnd.jupyter.widget-view+json": {
       "model_id": "",
       "version_major": 2,
       "version_minor": 0
      },
      "text/plain": [
       "HBox(children=(IntProgress(value=0, max=255), HTML(value='')))"
      ]
     },
     "metadata": {},
     "output_type": "display_data"
    },
    {
     "data": {
      "application/vnd.jupyter.widget-view+json": {
       "model_id": "947fbd9136b0439384c461801a8d3927",
       "version_major": 2,
       "version_minor": 0
      },
      "text/plain": [
       "HBox(children=(IntProgress(value=0, description='loading json', max=252, style=ProgressStyle(description_width…"
      ]
     },
     "metadata": {},
     "output_type": "display_data"
    },
    {
     "name": "stderr",
     "output_type": "stream",
     "text": [
      "[Parallel(n_jobs=-1)]: Using backend LokyBackend with 24 concurrent workers.\n",
      "[Parallel(n_jobs=-1)]: Done   2 tasks      | elapsed:    0.0s\n",
      "[Parallel(n_jobs=-1)]: Done 252 out of 252 | elapsed:    0.1s finished\n"
     ]
    },
    {
     "data": {
      "application/vnd.jupyter.widget-view+json": {
       "model_id": "",
       "version_major": 2,
       "version_minor": 0
      },
      "text/plain": [
       "HBox(children=(IntProgress(value=0, description='getting unique individuals', max=252, style=ProgressStyle(des…"
      ]
     },
     "metadata": {},
     "output_type": "display_data"
    },
    {
     "data": {
      "application/vnd.jupyter.widget-view+json": {
       "model_id": "",
       "version_major": 2,
       "version_minor": 0
      },
      "text/plain": [
       "HBox(children=(IntProgress(value=0, max=252), HTML(value='')))"
      ]
     },
     "metadata": {},
     "output_type": "display_data"
    },
    {
     "data": {
      "application/vnd.jupyter.widget-view+json": {
       "model_id": "9425cfacf8f345c8ad11098da1bc0c57",
       "version_major": 2,
       "version_minor": 0
      },
      "text/plain": [
       "HBox(children=(IntProgress(value=0, description='loading json', max=245, style=ProgressStyle(description_width…"
      ]
     },
     "metadata": {},
     "output_type": "display_data"
    },
    {
     "name": "stderr",
     "output_type": "stream",
     "text": [
      "[Parallel(n_jobs=-1)]: Using backend LokyBackend with 24 concurrent workers.\n",
      "[Parallel(n_jobs=-1)]: Done   2 tasks      | elapsed:    0.0s\n",
      "[Parallel(n_jobs=-1)]: Done 245 out of 245 | elapsed:    0.1s finished\n"
     ]
    },
    {
     "data": {
      "application/vnd.jupyter.widget-view+json": {
       "model_id": "",
       "version_major": 2,
       "version_minor": 0
      },
      "text/plain": [
       "HBox(children=(IntProgress(value=0, description='getting unique individuals', max=245, style=ProgressStyle(des…"
      ]
     },
     "metadata": {},
     "output_type": "display_data"
    },
    {
     "data": {
      "application/vnd.jupyter.widget-view+json": {
       "model_id": "",
       "version_major": 2,
       "version_minor": 0
      },
      "text/plain": [
       "HBox(children=(IntProgress(value=0, max=245), HTML(value='')))"
      ]
     },
     "metadata": {},
     "output_type": "display_data"
    },
    {
     "data": {
      "application/vnd.jupyter.widget-view+json": {
       "model_id": "ee5e8055a4ec4e349599cd750a211801",
       "version_major": 2,
       "version_minor": 0
      },
      "text/plain": [
       "HBox(children=(IntProgress(value=0, description='loading json', max=250, style=ProgressStyle(description_width…"
      ]
     },
     "metadata": {},
     "output_type": "display_data"
    },
    {
     "name": "stderr",
     "output_type": "stream",
     "text": [
      "[Parallel(n_jobs=-1)]: Using backend LokyBackend with 24 concurrent workers.\n",
      "[Parallel(n_jobs=-1)]: Done   2 tasks      | elapsed:    0.0s\n",
      "[Parallel(n_jobs=-1)]: Done 250 out of 250 | elapsed:    0.1s finished\n"
     ]
    },
    {
     "data": {
      "application/vnd.jupyter.widget-view+json": {
       "model_id": "",
       "version_major": 2,
       "version_minor": 0
      },
      "text/plain": [
       "HBox(children=(IntProgress(value=0, description='getting unique individuals', max=250, style=ProgressStyle(des…"
      ]
     },
     "metadata": {},
     "output_type": "display_data"
    },
    {
     "data": {
      "application/vnd.jupyter.widget-view+json": {
       "model_id": "",
       "version_major": 2,
       "version_minor": 0
      },
      "text/plain": [
       "HBox(children=(IntProgress(value=0, max=250), HTML(value='')))"
      ]
     },
     "metadata": {},
     "output_type": "display_data"
    },
    {
     "data": {
      "application/vnd.jupyter.widget-view+json": {
       "model_id": "ef5ab3cfb4424bceae07f00a10e95e7c",
       "version_major": 2,
       "version_minor": 0
      },
      "text/plain": [
       "HBox(children=(IntProgress(value=0, description='loading json', max=246, style=ProgressStyle(description_width…"
      ]
     },
     "metadata": {},
     "output_type": "display_data"
    },
    {
     "name": "stderr",
     "output_type": "stream",
     "text": [
      "[Parallel(n_jobs=-1)]: Using backend LokyBackend with 24 concurrent workers.\n",
      "[Parallel(n_jobs=-1)]: Done 246 out of 246 | elapsed:    0.1s finished\n"
     ]
    },
    {
     "data": {
      "application/vnd.jupyter.widget-view+json": {
       "model_id": "",
       "version_major": 2,
       "version_minor": 0
      },
      "text/plain": [
       "HBox(children=(IntProgress(value=0, description='getting unique individuals', max=246, style=ProgressStyle(des…"
      ]
     },
     "metadata": {},
     "output_type": "display_data"
    },
    {
     "data": {
      "application/vnd.jupyter.widget-view+json": {
       "model_id": "",
       "version_major": 2,
       "version_minor": 0
      },
      "text/plain": [
       "HBox(children=(IntProgress(value=0, max=246), HTML(value='')))"
      ]
     },
     "metadata": {},
     "output_type": "display_data"
    },
    {
     "data": {
      "application/vnd.jupyter.widget-view+json": {
       "model_id": "d0b892aa2f884ce6ab7861b875efc0f1",
       "version_major": 2,
       "version_minor": 0
      },
      "text/plain": [
       "HBox(children=(IntProgress(value=0, description='loading json', max=252, style=ProgressStyle(description_width…"
      ]
     },
     "metadata": {},
     "output_type": "display_data"
    },
    {
     "name": "stderr",
     "output_type": "stream",
     "text": [
      "[Parallel(n_jobs=-1)]: Using backend LokyBackend with 24 concurrent workers.\n",
      "[Parallel(n_jobs=-1)]: Done 252 out of 252 | elapsed:    0.1s finished\n"
     ]
    },
    {
     "data": {
      "application/vnd.jupyter.widget-view+json": {
       "model_id": "",
       "version_major": 2,
       "version_minor": 0
      },
      "text/plain": [
       "HBox(children=(IntProgress(value=0, description='getting unique individuals', max=252, style=ProgressStyle(des…"
      ]
     },
     "metadata": {},
     "output_type": "display_data"
    },
    {
     "data": {
      "application/vnd.jupyter.widget-view+json": {
       "model_id": "",
       "version_major": 2,
       "version_minor": 0
      },
      "text/plain": [
       "HBox(children=(IntProgress(value=0, max=252), HTML(value='')))"
      ]
     },
     "metadata": {},
     "output_type": "display_data"
    },
    {
     "data": {
      "application/vnd.jupyter.widget-view+json": {
       "model_id": "1f448fe6e23a49c7b584d9577bae130f",
       "version_major": 2,
       "version_minor": 0
      },
      "text/plain": [
       "HBox(children=(IntProgress(value=0, description='loading json', max=1936, style=ProgressStyle(description_widt…"
      ]
     },
     "metadata": {},
     "output_type": "display_data"
    },
    {
     "name": "stderr",
     "output_type": "stream",
     "text": [
      "[Parallel(n_jobs=-1)]: Using backend LokyBackend with 24 concurrent workers.\n",
      "[Parallel(n_jobs=-1)]: Done 1936 out of 1936 | elapsed:    0.4s finished\n"
     ]
    },
    {
     "data": {
      "application/vnd.jupyter.widget-view+json": {
       "model_id": "",
       "version_major": 2,
       "version_minor": 0
      },
      "text/plain": [
       "HBox(children=(IntProgress(value=0, description='getting unique individuals', max=1936, style=ProgressStyle(de…"
      ]
     },
     "metadata": {},
     "output_type": "display_data"
    },
    {
     "data": {
      "application/vnd.jupyter.widget-view+json": {
       "model_id": "",
       "version_major": 2,
       "version_minor": 0
      },
      "text/plain": [
       "HBox(children=(IntProgress(value=0, max=1936), HTML(value='')))"
      ]
     },
     "metadata": {},
     "output_type": "display_data"
    },
    {
     "data": {
      "application/vnd.jupyter.widget-view+json": {
       "model_id": "68c4753b0b424682892af5d27ff7d32c",
       "version_major": 2,
       "version_minor": 0
      },
      "text/plain": [
       "HBox(children=(IntProgress(value=0, description='loading json', max=2237, style=ProgressStyle(description_widt…"
      ]
     },
     "metadata": {},
     "output_type": "display_data"
    },
    {
     "name": "stderr",
     "output_type": "stream",
     "text": [
      "[Parallel(n_jobs=-1)]: Using backend LokyBackend with 24 concurrent workers.\n",
      "[Parallel(n_jobs=-1)]: Done   2 tasks      | elapsed:    0.0s\n",
      "[Parallel(n_jobs=-1)]: Done 2237 out of 2237 | elapsed:    0.3s finished\n"
     ]
    },
    {
     "data": {
      "application/vnd.jupyter.widget-view+json": {
       "model_id": "",
       "version_major": 2,
       "version_minor": 0
      },
      "text/plain": [
       "HBox(children=(IntProgress(value=0, description='getting unique individuals', max=2237, style=ProgressStyle(de…"
      ]
     },
     "metadata": {},
     "output_type": "display_data"
    },
    {
     "data": {
      "application/vnd.jupyter.widget-view+json": {
       "model_id": "",
       "version_major": 2,
       "version_minor": 0
      },
      "text/plain": [
       "HBox(children=(IntProgress(value=0, max=2237), HTML(value='')))"
      ]
     },
     "metadata": {},
     "output_type": "display_data"
    },
    {
     "data": {
      "application/vnd.jupyter.widget-view+json": {
       "model_id": "4b542997ff754ec7886ef45e576ee8b1",
       "version_major": 2,
       "version_minor": 0
      },
      "text/plain": [
       "HBox(children=(IntProgress(value=0, description='loading json', max=768, style=ProgressStyle(description_width…"
      ]
     },
     "metadata": {},
     "output_type": "display_data"
    },
    {
     "name": "stderr",
     "output_type": "stream",
     "text": [
      "[Parallel(n_jobs=-1)]: Using backend LokyBackend with 24 concurrent workers.\n",
      "[Parallel(n_jobs=-1)]: Done 768 out of 768 | elapsed:    0.3s finished\n"
     ]
    },
    {
     "data": {
      "application/vnd.jupyter.widget-view+json": {
       "model_id": "",
       "version_major": 2,
       "version_minor": 0
      },
      "text/plain": [
       "HBox(children=(IntProgress(value=0, description='getting unique individuals', max=768, style=ProgressStyle(des…"
      ]
     },
     "metadata": {},
     "output_type": "display_data"
    },
    {
     "data": {
      "application/vnd.jupyter.widget-view+json": {
       "model_id": "",
       "version_major": 2,
       "version_minor": 0
      },
      "text/plain": [
       "HBox(children=(IntProgress(value=0, max=768), HTML(value='')))"
      ]
     },
     "metadata": {},
     "output_type": "display_data"
    },
    {
     "data": {
      "application/vnd.jupyter.widget-view+json": {
       "model_id": "4421255d3b014d47885cb3a9707918d2",
       "version_major": 2,
       "version_minor": 0
      },
      "text/plain": [
       "HBox(children=(IntProgress(value=0, description='loading json', max=3347, style=ProgressStyle(description_widt…"
      ]
     },
     "metadata": {},
     "output_type": "display_data"
    },
    {
     "name": "stderr",
     "output_type": "stream",
     "text": [
      "[Parallel(n_jobs=-1)]: Using backend LokyBackend with 24 concurrent workers.\n",
      "[Parallel(n_jobs=-1)]: Done   2 tasks      | elapsed:    0.0s\n",
      "[Parallel(n_jobs=-1)]: Done 3347 out of 3347 | elapsed:    0.6s finished\n"
     ]
    },
    {
     "data": {
      "application/vnd.jupyter.widget-view+json": {
       "model_id": "",
       "version_major": 2,
       "version_minor": 0
      },
      "text/plain": [
       "HBox(children=(IntProgress(value=0, description='getting unique individuals', max=3347, style=ProgressStyle(de…"
      ]
     },
     "metadata": {},
     "output_type": "display_data"
    },
    {
     "data": {
      "application/vnd.jupyter.widget-view+json": {
       "model_id": "",
       "version_major": 2,
       "version_minor": 0
      },
      "text/plain": [
       "HBox(children=(IntProgress(value=0, max=3347), HTML(value='')))"
      ]
     },
     "metadata": {},
     "output_type": "display_data"
    },
    {
     "data": {
      "application/vnd.jupyter.widget-view+json": {
       "model_id": "c71530e77c6c47c4a3d5bc35429b9c7f",
       "version_major": 2,
       "version_minor": 0
      },
      "text/plain": [
       "HBox(children=(IntProgress(value=0, description='loading json', max=7284, style=ProgressStyle(description_widt…"
      ]
     },
     "metadata": {},
     "output_type": "display_data"
    },
    {
     "name": "stderr",
     "output_type": "stream",
     "text": [
      "[Parallel(n_jobs=-1)]: Using backend LokyBackend with 24 concurrent workers.\n",
      "[Parallel(n_jobs=-1)]: Done   2 tasks      | elapsed:    0.0s\n",
      "[Parallel(n_jobs=-1)]: Done 7284 out of 7284 | elapsed:    1.0s finished\n"
     ]
    },
    {
     "data": {
      "application/vnd.jupyter.widget-view+json": {
       "model_id": "",
       "version_major": 2,
       "version_minor": 0
      },
      "text/plain": [
       "HBox(children=(IntProgress(value=0, description='getting unique individuals', max=7284, style=ProgressStyle(de…"
      ]
     },
     "metadata": {},
     "output_type": "display_data"
    },
    {
     "data": {
      "application/vnd.jupyter.widget-view+json": {
       "model_id": "",
       "version_major": 2,
       "version_minor": 0
      },
      "text/plain": [
       "HBox(children=(IntProgress(value=0, max=7284), HTML(value='')))"
      ]
     },
     "metadata": {},
     "output_type": "display_data"
    },
    {
     "data": {
      "application/vnd.jupyter.widget-view+json": {
       "model_id": "03a00fc9129c4da1ae6955b3d92fcedf",
       "version_major": 2,
       "version_minor": 0
      },
      "text/plain": [
       "HBox(children=(IntProgress(value=0, description='loading json', max=3805, style=ProgressStyle(description_widt…"
      ]
     },
     "metadata": {},
     "output_type": "display_data"
    },
    {
     "name": "stderr",
     "output_type": "stream",
     "text": [
      "[Parallel(n_jobs=-1)]: Using backend LokyBackend with 24 concurrent workers.\n",
      "[Parallel(n_jobs=-1)]: Done  22 tasks      | elapsed:    0.1s\n",
      "[Parallel(n_jobs=-1)]: Done 3805 out of 3805 | elapsed:    0.7s finished\n"
     ]
    },
    {
     "data": {
      "application/vnd.jupyter.widget-view+json": {
       "model_id": "",
       "version_major": 2,
       "version_minor": 0
      },
      "text/plain": [
       "HBox(children=(IntProgress(value=0, description='getting unique individuals', max=3805, style=ProgressStyle(de…"
      ]
     },
     "metadata": {},
     "output_type": "display_data"
    },
    {
     "data": {
      "application/vnd.jupyter.widget-view+json": {
       "model_id": "",
       "version_major": 2,
       "version_minor": 0
      },
      "text/plain": [
       "HBox(children=(IntProgress(value=0, max=3805), HTML(value='')))"
      ]
     },
     "metadata": {},
     "output_type": "display_data"
    },
    {
     "data": {
      "application/vnd.jupyter.widget-view+json": {
       "model_id": "1a69675289b247ab9b4f616b1f8bf376",
       "version_major": 2,
       "version_minor": 0
      },
      "text/plain": [
       "HBox(children=(IntProgress(value=0, description='loading json', max=169, style=ProgressStyle(description_width…"
      ]
     },
     "metadata": {},
     "output_type": "display_data"
    },
    {
     "name": "stderr",
     "output_type": "stream",
     "text": [
      "[Parallel(n_jobs=-1)]: Using backend LokyBackend with 24 concurrent workers.\n",
      "[Parallel(n_jobs=-1)]: Done   2 tasks      | elapsed:    0.0s\n",
      "[Parallel(n_jobs=-1)]: Done 169 out of 169 | elapsed:    0.2s finished\n"
     ]
    },
    {
     "data": {
      "application/vnd.jupyter.widget-view+json": {
       "model_id": "",
       "version_major": 2,
       "version_minor": 0
      },
      "text/plain": [
       "HBox(children=(IntProgress(value=0, description='getting unique individuals', max=169, style=ProgressStyle(des…"
      ]
     },
     "metadata": {},
     "output_type": "display_data"
    },
    {
     "data": {
      "application/vnd.jupyter.widget-view+json": {
       "model_id": "",
       "version_major": 2,
       "version_minor": 0
      },
      "text/plain": [
       "HBox(children=(IntProgress(value=0, max=169), HTML(value='')))"
      ]
     },
     "metadata": {},
     "output_type": "display_data"
    },
    {
     "data": {
      "application/vnd.jupyter.widget-view+json": {
       "model_id": "d64d0911731e45d0871062f35cf51e59",
       "version_major": 2,
       "version_minor": 0
      },
      "text/plain": [
       "HBox(children=(IntProgress(value=0, description='loading json', max=18028, style=ProgressStyle(description_wid…"
      ]
     },
     "metadata": {},
     "output_type": "display_data"
    },
    {
     "name": "stderr",
     "output_type": "stream",
     "text": [
      "[Parallel(n_jobs=-1)]: Using backend LokyBackend with 24 concurrent workers.\n",
      "[Parallel(n_jobs=-1)]: Done   2 tasks      | elapsed:    0.0s\n",
      "[Parallel(n_jobs=-1)]: Done 5664 tasks      | elapsed:    1.1s\n",
      "[Parallel(n_jobs=-1)]: Done 18028 out of 18028 | elapsed:    2.4s finished\n"
     ]
    },
    {
     "data": {
      "application/vnd.jupyter.widget-view+json": {
       "model_id": "",
       "version_major": 2,
       "version_minor": 0
      },
      "text/plain": [
       "HBox(children=(IntProgress(value=0, description='getting unique individuals', max=18028, style=ProgressStyle(d…"
      ]
     },
     "metadata": {},
     "output_type": "display_data"
    },
    {
     "data": {
      "application/vnd.jupyter.widget-view+json": {
       "model_id": "",
       "version_major": 2,
       "version_minor": 0
      },
      "text/plain": [
       "HBox(children=(IntProgress(value=0, max=18028), HTML(value='')))"
      ]
     },
     "metadata": {},
     "output_type": "display_data"
    },
    {
     "data": {
      "application/vnd.jupyter.widget-view+json": {
       "model_id": "9b9209c38edc497ab6daf45e330e69aa",
       "version_major": 2,
       "version_minor": 0
      },
      "text/plain": [
       "HBox(children=(IntProgress(value=0, description='loading json', max=92, style=ProgressStyle(description_width=…"
      ]
     },
     "metadata": {},
     "output_type": "display_data"
    },
    {
     "name": "stderr",
     "output_type": "stream",
     "text": [
      "[Parallel(n_jobs=-1)]: Using backend LokyBackend with 24 concurrent workers.\n",
      "[Parallel(n_jobs=-1)]: Done   2 tasks      | elapsed:    0.0s\n",
      "[Parallel(n_jobs=-1)]: Done  45 out of  92 | elapsed:    0.1s remaining:    0.1s\n",
      "[Parallel(n_jobs=-1)]: Done  92 out of  92 | elapsed:    0.2s finished\n"
     ]
    },
    {
     "data": {
      "application/vnd.jupyter.widget-view+json": {
       "model_id": "",
       "version_major": 2,
       "version_minor": 0
      },
      "text/plain": [
       "HBox(children=(IntProgress(value=0, description='getting unique individuals', max=92, style=ProgressStyle(desc…"
      ]
     },
     "metadata": {},
     "output_type": "display_data"
    },
    {
     "data": {
      "application/vnd.jupyter.widget-view+json": {
       "model_id": "",
       "version_major": 2,
       "version_minor": 0
      },
      "text/plain": [
       "HBox(children=(IntProgress(value=0, max=92), HTML(value='')))"
      ]
     },
     "metadata": {},
     "output_type": "display_data"
    },
    {
     "data": {
      "application/vnd.jupyter.widget-view+json": {
       "model_id": "a0a604bb2b2e4010a009cccf0f66699c",
       "version_major": 2,
       "version_minor": 0
      },
      "text/plain": [
       "HBox(children=(IntProgress(value=0, description='loading json', max=452, style=ProgressStyle(description_width…"
      ]
     },
     "metadata": {},
     "output_type": "display_data"
    },
    {
     "name": "stderr",
     "output_type": "stream",
     "text": [
      "[Parallel(n_jobs=-1)]: Using backend LokyBackend with 24 concurrent workers.\n",
      "[Parallel(n_jobs=-1)]: Done   2 tasks      | elapsed:    0.0s\n",
      "[Parallel(n_jobs=-1)]: Done 452 out of 452 | elapsed:    0.1s finished\n"
     ]
    },
    {
     "data": {
      "application/vnd.jupyter.widget-view+json": {
       "model_id": "",
       "version_major": 2,
       "version_minor": 0
      },
      "text/plain": [
       "HBox(children=(IntProgress(value=0, description='getting unique individuals', max=452, style=ProgressStyle(des…"
      ]
     },
     "metadata": {},
     "output_type": "display_data"
    },
    {
     "data": {
      "application/vnd.jupyter.widget-view+json": {
       "model_id": "",
       "version_major": 2,
       "version_minor": 0
      },
      "text/plain": [
       "HBox(children=(IntProgress(value=0, max=452), HTML(value='')))"
      ]
     },
     "metadata": {},
     "output_type": "display_data"
    },
    {
     "data": {
      "application/vnd.jupyter.widget-view+json": {
       "model_id": "8a68b0c4140c46aa8cf5405479260c2b",
       "version_major": 2,
       "version_minor": 0
      },
      "text/plain": [
       "HBox(children=(IntProgress(value=0, description='loading json', max=83823, style=ProgressStyle(description_wid…"
      ]
     },
     "metadata": {},
     "output_type": "display_data"
    },
    {
     "name": "stderr",
     "output_type": "stream",
     "text": [
      "[Parallel(n_jobs=-1)]: Using backend LokyBackend with 24 concurrent workers.\n",
      "[Parallel(n_jobs=-1)]: Done 480 tasks      | elapsed:    0.2s\n",
      "[Parallel(n_jobs=-1)]: Done 25020 tasks      | elapsed:    3.2s\n",
      "[Parallel(n_jobs=-1)]: Done 68520 tasks      | elapsed:    8.2s\n",
      "[Parallel(n_jobs=-1)]: Done 83823 out of 83823 | elapsed:   10.0s finished\n"
     ]
    },
    {
     "data": {
      "application/vnd.jupyter.widget-view+json": {
       "model_id": "",
       "version_major": 2,
       "version_minor": 0
      },
      "text/plain": [
       "HBox(children=(IntProgress(value=0, description='getting unique individuals', max=83823, style=ProgressStyle(d…"
      ]
     },
     "metadata": {},
     "output_type": "display_data"
    },
    {
     "data": {
      "application/vnd.jupyter.widget-view+json": {
       "model_id": "",
       "version_major": 2,
       "version_minor": 0
      },
      "text/plain": [
       "HBox(children=(IntProgress(value=0, max=83823), HTML(value='')))"
      ]
     },
     "metadata": {},
     "output_type": "display_data"
    },
    {
     "data": {
      "application/vnd.jupyter.widget-view+json": {
       "model_id": "438f4c9eba9c41608dff50e79cadd9c0",
       "version_major": 2,
       "version_minor": 0
      },
      "text/plain": [
       "HBox(children=(IntProgress(value=0, description='loading json', max=2964, style=ProgressStyle(description_widt…"
      ]
     },
     "metadata": {},
     "output_type": "display_data"
    },
    {
     "name": "stderr",
     "output_type": "stream",
     "text": [
      "[Parallel(n_jobs=-1)]: Using backend LokyBackend with 24 concurrent workers.\n",
      "[Parallel(n_jobs=-1)]: Done  10 tasks      | elapsed:    0.0s\n",
      "[Parallel(n_jobs=-1)]: Done 2964 out of 2964 | elapsed:    0.5s finished\n"
     ]
    },
    {
     "data": {
      "application/vnd.jupyter.widget-view+json": {
       "model_id": "",
       "version_major": 2,
       "version_minor": 0
      },
      "text/plain": [
       "HBox(children=(IntProgress(value=0, description='getting unique individuals', max=2964, style=ProgressStyle(de…"
      ]
     },
     "metadata": {},
     "output_type": "display_data"
    },
    {
     "data": {
      "application/vnd.jupyter.widget-view+json": {
       "model_id": "",
       "version_major": 2,
       "version_minor": 0
      },
      "text/plain": [
       "HBox(children=(IntProgress(value=0, max=2964), HTML(value='')))"
      ]
     },
     "metadata": {},
     "output_type": "display_data"
    },
    {
     "data": {
      "application/vnd.jupyter.widget-view+json": {
       "model_id": "35fa4a75eab441cc844696874566b40a",
       "version_major": 2,
       "version_minor": 0
      },
      "text/plain": [
       "HBox(children=(IntProgress(value=0, description='loading json', max=13, style=ProgressStyle(description_width=…"
      ]
     },
     "metadata": {},
     "output_type": "display_data"
    },
    {
     "name": "stderr",
     "output_type": "stream",
     "text": [
      "[Parallel(n_jobs=-1)]: Using backend LokyBackend with 24 concurrent workers.\n",
      "[Parallel(n_jobs=-1)]: Done   8 out of  13 | elapsed:    0.0s remaining:    0.0s\n",
      "[Parallel(n_jobs=-1)]: Done  13 out of  13 | elapsed:    0.0s finished\n"
     ]
    },
    {
     "data": {
      "application/vnd.jupyter.widget-view+json": {
       "model_id": "",
       "version_major": 2,
       "version_minor": 0
      },
      "text/plain": [
       "HBox(children=(IntProgress(value=0, description='getting unique individuals', max=13, style=ProgressStyle(desc…"
      ]
     },
     "metadata": {},
     "output_type": "display_data"
    },
    {
     "data": {
      "application/vnd.jupyter.widget-view+json": {
       "model_id": "",
       "version_major": 2,
       "version_minor": 0
      },
      "text/plain": [
       "HBox(children=(IntProgress(value=0, max=13), HTML(value='')))"
      ]
     },
     "metadata": {},
     "output_type": "display_data"
    },
    {
     "data": {
      "application/vnd.jupyter.widget-view+json": {
       "model_id": "ed345f25f86f4d019ef0fa2c1fdc77a1",
       "version_major": 2,
       "version_minor": 0
      },
      "text/plain": [
       "HBox(children=(IntProgress(value=0, description='loading json', max=1867, style=ProgressStyle(description_widt…"
      ]
     },
     "metadata": {},
     "output_type": "display_data"
    },
    {
     "name": "stderr",
     "output_type": "stream",
     "text": [
      "[Parallel(n_jobs=-1)]: Using backend LokyBackend with 24 concurrent workers.\n",
      "[Parallel(n_jobs=-1)]: Done   3 tasks      | elapsed:    0.0s\n",
      "[Parallel(n_jobs=-1)]: Done 1867 out of 1867 | elapsed:    0.5s finished\n"
     ]
    },
    {
     "data": {
      "application/vnd.jupyter.widget-view+json": {
       "model_id": "",
       "version_major": 2,
       "version_minor": 0
      },
      "text/plain": [
       "HBox(children=(IntProgress(value=0, description='getting unique individuals', max=1867, style=ProgressStyle(de…"
      ]
     },
     "metadata": {},
     "output_type": "display_data"
    },
    {
     "data": {
      "application/vnd.jupyter.widget-view+json": {
       "model_id": "",
       "version_major": 2,
       "version_minor": 0
      },
      "text/plain": [
       "HBox(children=(IntProgress(value=0, max=1867), HTML(value='')))"
      ]
     },
     "metadata": {},
     "output_type": "display_data"
    },
    {
     "data": {
      "application/vnd.jupyter.widget-view+json": {
       "model_id": "57112d64603e49ed9f12d1b48fa9a6f8",
       "version_major": 2,
       "version_minor": 0
      },
      "text/plain": [
       "HBox(children=(IntProgress(value=0, description='loading json', max=254, style=ProgressStyle(description_width…"
      ]
     },
     "metadata": {},
     "output_type": "display_data"
    },
    {
     "name": "stderr",
     "output_type": "stream",
     "text": [
      "[Parallel(n_jobs=-1)]: Using backend LokyBackend with 24 concurrent workers.\n",
      "[Parallel(n_jobs=-1)]: Done   2 tasks      | elapsed:    0.1s\n",
      "[Parallel(n_jobs=-1)]: Done 254 out of 254 | elapsed:    2.5s finished\n"
     ]
    },
    {
     "data": {
      "application/vnd.jupyter.widget-view+json": {
       "model_id": "",
       "version_major": 2,
       "version_minor": 0
      },
      "text/plain": [
       "HBox(children=(IntProgress(value=0, description='getting unique individuals', max=254, style=ProgressStyle(des…"
      ]
     },
     "metadata": {},
     "output_type": "display_data"
    },
    {
     "data": {
      "application/vnd.jupyter.widget-view+json": {
       "model_id": "",
       "version_major": 2,
       "version_minor": 0
      },
      "text/plain": [
       "HBox(children=(IntProgress(value=0, max=254), HTML(value='')))"
      ]
     },
     "metadata": {},
     "output_type": "display_data"
    },
    {
     "data": {
      "application/vnd.jupyter.widget-view+json": {
       "model_id": "0a6bb94963de497bb38c22424cb5bf5c",
       "version_major": 2,
       "version_minor": 0
      },
      "text/plain": [
       "HBox(children=(IntProgress(value=0, description='loading json', max=2663, style=ProgressStyle(description_widt…"
      ]
     },
     "metadata": {},
     "output_type": "display_data"
    },
    {
     "name": "stderr",
     "output_type": "stream",
     "text": [
      "[Parallel(n_jobs=-1)]: Using backend LokyBackend with 24 concurrent workers.\n",
      "[Parallel(n_jobs=-1)]: Done 336 tasks      | elapsed:    0.2s\n",
      "[Parallel(n_jobs=-1)]: Done 2663 out of 2663 | elapsed:    0.5s finished\n"
     ]
    },
    {
     "data": {
      "application/vnd.jupyter.widget-view+json": {
       "model_id": "",
       "version_major": 2,
       "version_minor": 0
      },
      "text/plain": [
       "HBox(children=(IntProgress(value=0, description='getting unique individuals', max=2663, style=ProgressStyle(de…"
      ]
     },
     "metadata": {},
     "output_type": "display_data"
    },
    {
     "data": {
      "application/vnd.jupyter.widget-view+json": {
       "model_id": "",
       "version_major": 2,
       "version_minor": 0
      },
      "text/plain": [
       "HBox(children=(IntProgress(value=0, max=2663), HTML(value='')))"
      ]
     },
     "metadata": {},
     "output_type": "display_data"
    },
    {
     "data": {
      "application/vnd.jupyter.widget-view+json": {
       "model_id": "ce65916887bd48a1833be44fbf9ba5a6",
       "version_major": 2,
       "version_minor": 0
      },
      "text/plain": [
       "HBox(children=(IntProgress(value=0, description='loading json', max=128, style=ProgressStyle(description_width…"
      ]
     },
     "metadata": {},
     "output_type": "display_data"
    },
    {
     "name": "stderr",
     "output_type": "stream",
     "text": [
      "[Parallel(n_jobs=-1)]: Using backend LokyBackend with 24 concurrent workers.\n",
      "[Parallel(n_jobs=-1)]: Done   2 tasks      | elapsed:    0.0s\n",
      "[Parallel(n_jobs=-1)]: Done 128 out of 128 | elapsed:    0.1s finished\n"
     ]
    },
    {
     "data": {
      "application/vnd.jupyter.widget-view+json": {
       "model_id": "",
       "version_major": 2,
       "version_minor": 0
      },
      "text/plain": [
       "HBox(children=(IntProgress(value=0, description='getting unique individuals', max=128, style=ProgressStyle(des…"
      ]
     },
     "metadata": {},
     "output_type": "display_data"
    },
    {
     "data": {
      "application/vnd.jupyter.widget-view+json": {
       "model_id": "",
       "version_major": 2,
       "version_minor": 0
      },
      "text/plain": [
       "HBox(children=(IntProgress(value=0, max=128), HTML(value='')))"
      ]
     },
     "metadata": {},
     "output_type": "display_data"
    },
    {
     "data": {
      "application/vnd.jupyter.widget-view+json": {
       "model_id": "d42665f779e94e08a6b812ba1f4a7234",
       "version_major": 2,
       "version_minor": 0
      },
      "text/plain": [
       "HBox(children=(IntProgress(value=0, description='loading json', max=422, style=ProgressStyle(description_width…"
      ]
     },
     "metadata": {},
     "output_type": "display_data"
    },
    {
     "name": "stderr",
     "output_type": "stream",
     "text": [
      "[Parallel(n_jobs=-1)]: Using backend LokyBackend with 24 concurrent workers.\n",
      "[Parallel(n_jobs=-1)]: Done   2 tasks      | elapsed:    0.0s\n",
      "[Parallel(n_jobs=-1)]: Done 422 out of 422 | elapsed:    0.2s finished\n"
     ]
    },
    {
     "data": {
      "application/vnd.jupyter.widget-view+json": {
       "model_id": "",
       "version_major": 2,
       "version_minor": 0
      },
      "text/plain": [
       "HBox(children=(IntProgress(value=0, description='getting unique individuals', max=422, style=ProgressStyle(des…"
      ]
     },
     "metadata": {},
     "output_type": "display_data"
    },
    {
     "data": {
      "application/vnd.jupyter.widget-view+json": {
       "model_id": "",
       "version_major": 2,
       "version_minor": 0
      },
      "text/plain": [
       "HBox(children=(IntProgress(value=0, max=422), HTML(value='')))"
      ]
     },
     "metadata": {},
     "output_type": "display_data"
    },
    {
     "data": {
      "application/vnd.jupyter.widget-view+json": {
       "model_id": "b557c24cfbf44682b5cbcd5a8c96ac6a",
       "version_major": 2,
       "version_minor": 0
      },
      "text/plain": [
       "HBox(children=(IntProgress(value=0, description='loading json', max=133, style=ProgressStyle(description_width…"
      ]
     },
     "metadata": {},
     "output_type": "display_data"
    },
    {
     "name": "stderr",
     "output_type": "stream",
     "text": [
      "[Parallel(n_jobs=-1)]: Using backend LokyBackend with 24 concurrent workers.\n",
      "[Parallel(n_jobs=-1)]: Done   2 tasks      | elapsed:    0.0s\n",
      "[Parallel(n_jobs=-1)]: Done 133 out of 133 | elapsed:    0.1s finished\n"
     ]
    },
    {
     "data": {
      "application/vnd.jupyter.widget-view+json": {
       "model_id": "",
       "version_major": 2,
       "version_minor": 0
      },
      "text/plain": [
       "HBox(children=(IntProgress(value=0, description='getting unique individuals', max=133, style=ProgressStyle(des…"
      ]
     },
     "metadata": {},
     "output_type": "display_data"
    },
    {
     "data": {
      "application/vnd.jupyter.widget-view+json": {
       "model_id": "",
       "version_major": 2,
       "version_minor": 0
      },
      "text/plain": [
       "HBox(children=(IntProgress(value=0, max=133), HTML(value='')))"
      ]
     },
     "metadata": {},
     "output_type": "display_data"
    },
    {
     "name": "stdout",
     "output_type": "stream",
     "text": [
      "\n"
     ]
    }
   ],
   "source": [
    "dataset_df = pd.DataFrame(\n",
    "    columns=[\n",
    "        \"DatasetID\",\n",
    "        \"individuals\",\n",
    "        \"#individuals\",\n",
    "        \"#units\",\n",
    "        \"total_length_s\",\n",
    "        \"wav_lengths\",\n",
    "        \"unit_types\",\n",
    "        \"#wavs\",\n",
    "        \"element_lengths\",\n",
    "        \"median_element_lengths\",\n",
    "        \"mean_element_lengths\",\n",
    "    ]\n",
    ")\n",
    "for dataset_id in tqdm(DATASET_IDs[::-1], desc=\"datasets\"):\n",
    "    # create a dataset object\n",
    "    dataset = DataSet(dataset_id, hparams=hparams, build_mel_matrix=False)\n",
    "\n",
    "    # get call types in dataset\n",
    "    call_types = get_call_types(dataset.sample_json)\n",
    "\n",
    "    # get unique individuals\n",
    "    unique_indvs = np.unique(np.concatenate([list(i) for i in dataset.json_indv]))\n",
    "\n",
    "    # length of each wav file\n",
    "    wav_lengths = []\n",
    "    # number of calls\n",
    "    n_calls = {i: 0 for i in call_types}\n",
    "    element_lengths = {i: [] for i in call_types}\n",
    "    # loop through data files\n",
    "    for jf in tqdm(dataset.data_files, leave=False):\n",
    "\n",
    "        # load data\n",
    "        dat = dataset.data_files[jf].data\n",
    "\n",
    "        # length of wav file\n",
    "        if \"length_s\" in dat.keys():\n",
    "            if dataset_id in [\n",
    "                \"hildebrand_Cuviers_beaked_whale\",\n",
    "                \"hildebrand_Gervaiss_beaked_whale\",\n",
    "            ]:\n",
    "                data, rate = librosa.core.load(dat[\"wav_loc\"])\n",
    "                wav_lengths.append(len(data) / rate)\n",
    "            else:\n",
    "                wav_lengths.append(dat[\"length_s\"])\n",
    "        else:\n",
    "            data, rate = librosa.core.load(dat[\"wav_loc\"])\n",
    "            wav_lengths.append(len(data) / rate)\n",
    "\n",
    "        # get number of calls in this file\n",
    "        for indv in list(dat[\"indvs\"].keys()):\n",
    "            for ct in call_types:\n",
    "                if ct in list(dat[\"indvs\"][indv]):\n",
    "                    st = dat[\"indvs\"][indv][ct][\"start_times\"]\n",
    "                    et = dat[\"indvs\"][indv][ct][\"end_times\"]\n",
    "                    n_calls[ct] += len(dat[\"indvs\"][indv][ct][\"start_times\"])\n",
    "                    element_lengths[ct].append([i - j for i, j in zip(et, st)])\n",
    "\n",
    "    median_element_lengths = {\n",
    "        i: np.median(np.concatenate(element_lengths[i])) for i in element_lengths.keys()\n",
    "    }\n",
    "    mean_element_lengths = {\n",
    "        i: np.mean(np.concatenate(element_lengths[i])) for i in element_lengths.keys()\n",
    "    }\n",
    "\n",
    "    dataset_df.loc[len(dataset_df)] = [\n",
    "        dataset_id,\n",
    "        unique_indvs,\n",
    "        len(unique_indvs),\n",
    "        n_calls,\n",
    "        np.sum(wav_lengths),\n",
    "        wav_lengths,\n",
    "        call_types,\n",
    "        len(dataset.data_files),\n",
    "        element_lengths,\n",
    "        median_element_lengths,\n",
    "        mean_element_lengths,\n",
    "    ]\n",
    "    #break"
   ]
  },
  {
   "cell_type": "code",
   "execution_count": 12,
   "metadata": {
    "ExecuteTime": {
     "end_time": "2019-11-14T16:09:08.488392Z",
     "start_time": "2019-11-14T16:09:06.458173Z"
    }
   },
   "outputs": [
    {
     "data": {
      "text/html": [
       "<div>\n",
       "<style scoped>\n",
       "    .dataframe tbody tr th:only-of-type {\n",
       "        vertical-align: middle;\n",
       "    }\n",
       "\n",
       "    .dataframe tbody tr th {\n",
       "        vertical-align: top;\n",
       "    }\n",
       "\n",
       "    .dataframe thead th {\n",
       "        text-align: right;\n",
       "    }\n",
       "</style>\n",
       "<table border=\"1\" class=\"dataframe\">\n",
       "  <thead>\n",
       "    <tr style=\"text-align: right;\">\n",
       "      <th></th>\n",
       "      <th>DatasetID</th>\n",
       "      <th>individuals</th>\n",
       "      <th>#individuals</th>\n",
       "      <th>#units</th>\n",
       "      <th>total_length_s</th>\n",
       "      <th>wav_lengths</th>\n",
       "      <th>unit_types</th>\n",
       "      <th>#wavs</th>\n",
       "      <th>element_lengths</th>\n",
       "      <th>median_element_lengths</th>\n",
       "      <th>mean_element_lengths</th>\n",
       "    </tr>\n",
       "  </thead>\n",
       "  <tbody>\n",
       "    <tr>\n",
       "      <th>0</th>\n",
       "      <td>canary_segmented</td>\n",
       "      <td>[bird1, bird2, bird3, bird4, bird6]</td>\n",
       "      <td>5</td>\n",
       "      <td>{'phrases': 22167, 'syllables': 497338}</td>\n",
       "      <td>36986.856042</td>\n",
       "      <td>[13.502916666666666, 7.711291666666667, 9.2793...</td>\n",
       "      <td>[phrases, syllables]</td>\n",
       "      <td>2320</td>\n",
       "      <td>{'phrases': [[0.5822916666666667, 1.0129166666...</td>\n",
       "      <td>{'phrases': 1.3189583333333328, 'syllables': 0...</td>\n",
       "      <td>{'phrases': 1.6103567118548243, 'syllables': 0...</td>\n",
       "    </tr>\n",
       "    <tr>\n",
       "      <th>1</th>\n",
       "      <td>NA_BIRDS_song_sparrow</td>\n",
       "      <td>[UNK]</td>\n",
       "      <td>1</td>\n",
       "      <td>{'syllables': 258}</td>\n",
       "      <td>32.803062</td>\n",
       "      <td>[0.07503125, 0.13003125, 0.08503125, 0.1550312...</td>\n",
       "      <td>[syllables]</td>\n",
       "      <td>258</td>\n",
       "      <td>{'syllables': [[0.07503125], [0.13003125], [0....</td>\n",
       "      <td>{'syllables': 0.10503125}</td>\n",
       "      <td>{'syllables': 0.1271436531007752}</td>\n",
       "    </tr>\n",
       "    <tr>\n",
       "      <th>2</th>\n",
       "      <td>NA_BIRDS_marsh_wren</td>\n",
       "      <td>[UNK]</td>\n",
       "      <td>1</td>\n",
       "      <td>{'syllables': 248}</td>\n",
       "      <td>23.807750</td>\n",
       "      <td>[0.05503125, 0.13503125, 0.12003125, 0.1050312...</td>\n",
       "      <td>[syllables]</td>\n",
       "      <td>248</td>\n",
       "      <td>{'syllables': [[0.05503125], [0.13503125], [0....</td>\n",
       "      <td>{'syllables': 0.09003125}</td>\n",
       "      <td>{'syllables': 0.09599899193548388}</td>\n",
       "    </tr>\n",
       "    <tr>\n",
       "      <th>3</th>\n",
       "      <td>NA_BIRDS_indigo_bunting</td>\n",
       "      <td>[UNK]</td>\n",
       "      <td>1</td>\n",
       "      <td>{'syllables': 251}</td>\n",
       "      <td>35.977844</td>\n",
       "      <td>[0.21003125, 0.07003125, 0.23003125, 0.1150312...</td>\n",
       "      <td>[syllables]</td>\n",
       "      <td>251</td>\n",
       "      <td>{'syllables': [[0.21003125], [0.07003125], [0....</td>\n",
       "      <td>{'syllables': 0.13503125}</td>\n",
       "      <td>{'syllables': 0.14333802290836653}</td>\n",
       "    </tr>\n",
       "    <tr>\n",
       "      <th>4</th>\n",
       "      <td>NA_BIRDS_house_finch</td>\n",
       "      <td>[UNK]</td>\n",
       "      <td>1</td>\n",
       "      <td>{'syllables': 248}</td>\n",
       "      <td>25.937750</td>\n",
       "      <td>[0.20503125, 0.07003125, 0.09503125, 0.1100312...</td>\n",
       "      <td>[syllables]</td>\n",
       "      <td>248</td>\n",
       "      <td>{'syllables': [[0.20503125], [0.07003125], [0....</td>\n",
       "      <td>{'syllables': 0.09253125}</td>\n",
       "      <td>{'syllables': 0.10458770161290323}</td>\n",
       "    </tr>\n",
       "    <tr>\n",
       "      <th>5</th>\n",
       "      <td>NA_BIRDS_great_blue_heron</td>\n",
       "      <td>[UNK]</td>\n",
       "      <td>1</td>\n",
       "      <td>{'syllables': 246}</td>\n",
       "      <td>44.092688</td>\n",
       "      <td>[0.28503125, 0.06503125, 0.34503125, 0.2050312...</td>\n",
       "      <td>[syllables]</td>\n",
       "      <td>246</td>\n",
       "      <td>{'syllables': [[0.28503125], [0.06503125], [0....</td>\n",
       "      <td>{'syllables': 0.13753125}</td>\n",
       "      <td>{'syllables': 0.17923856707317073}</td>\n",
       "    </tr>\n",
       "    <tr>\n",
       "      <th>6</th>\n",
       "      <td>NA_BIRDS_common_yellowthroat</td>\n",
       "      <td>[UNK]</td>\n",
       "      <td>1</td>\n",
       "      <td>{'syllables': 255}</td>\n",
       "      <td>35.422187</td>\n",
       "      <td>[0.16503125, 0.04503125, 0.09503125, 0.1000312...</td>\n",
       "      <td>[syllables]</td>\n",
       "      <td>255</td>\n",
       "      <td>{'syllables': [[0.16503125], [0.04503125], [0....</td>\n",
       "      <td>{'syllables': 0.10003125}</td>\n",
       "      <td>{'syllables': 0.13891053921568627}</td>\n",
       "    </tr>\n",
       "    <tr>\n",
       "      <th>7</th>\n",
       "      <td>NA_BIRDS_chipping_sparrow</td>\n",
       "      <td>[UNK]</td>\n",
       "      <td>1</td>\n",
       "      <td>{'syllables': 252}</td>\n",
       "      <td>24.942875</td>\n",
       "      <td>[0.09503125, 0.45003125, 0.04503125, 0.1050312...</td>\n",
       "      <td>[syllables]</td>\n",
       "      <td>252</td>\n",
       "      <td>{'syllables': [[0.09503125], [0.45003125], [0....</td>\n",
       "      <td>{'syllables': 0.09003125}</td>\n",
       "      <td>{'syllables': 0.09897966269841268}</td>\n",
       "    </tr>\n",
       "    <tr>\n",
       "      <th>8</th>\n",
       "      <td>NA_BIRDS_cedar_waxwing</td>\n",
       "      <td>[UNK]</td>\n",
       "      <td>1</td>\n",
       "      <td>{'syllables': 245}</td>\n",
       "      <td>115.972531</td>\n",
       "      <td>[0.55003125, 0.90003125, 0.17003125, 0.3400312...</td>\n",
       "      <td>[syllables]</td>\n",
       "      <td>245</td>\n",
       "      <td>{'syllables': [[0.55003125], [0.90003125], [0....</td>\n",
       "      <td>{'syllables': 0.42503125}</td>\n",
       "      <td>{'syllables': 0.4733572704081633}</td>\n",
       "    </tr>\n",
       "    <tr>\n",
       "      <th>9</th>\n",
       "      <td>NA_BIRDS_blue_jay</td>\n",
       "      <td>[UNK]</td>\n",
       "      <td>1</td>\n",
       "      <td>{'syllables': 250}</td>\n",
       "      <td>141.217781</td>\n",
       "      <td>[0.55003125, 0.41503125, 0.34503125, 0.3950312...</td>\n",
       "      <td>[syllables]</td>\n",
       "      <td>250</td>\n",
       "      <td>{'syllables': [[0.55003125], [0.41503125], [0....</td>\n",
       "      <td>{'syllables': 0.47003125}</td>\n",
       "      <td>{'syllables': 0.5648711249999999}</td>\n",
       "    </tr>\n",
       "    <tr>\n",
       "      <th>10</th>\n",
       "      <td>NA_BIRDS_american_yellow_warbler</td>\n",
       "      <td>[UNK]</td>\n",
       "      <td>1</td>\n",
       "      <td>{'syllables': 246}</td>\n",
       "      <td>21.447688</td>\n",
       "      <td>[0.06503125, 0.07003125, 0.05003125, 0.1000312...</td>\n",
       "      <td>[syllables]</td>\n",
       "      <td>246</td>\n",
       "      <td>{'syllables': [[0.06503125], [0.07003125], [0....</td>\n",
       "      <td>{'syllables': 0.07753125}</td>\n",
       "      <td>{'syllables': 0.08718572154471545}</td>\n",
       "    </tr>\n",
       "    <tr>\n",
       "      <th>11</th>\n",
       "      <td>NA_BIRDS_american_crow</td>\n",
       "      <td>[UNK]</td>\n",
       "      <td>1</td>\n",
       "      <td>{'syllables': 252}</td>\n",
       "      <td>100.483906</td>\n",
       "      <td>[0.46503125, 0.41503125, 0.22003125, 0.8150312...</td>\n",
       "      <td>[syllables]</td>\n",
       "      <td>252</td>\n",
       "      <td>{'syllables': [[0.46503125], [0.41503125], [0....</td>\n",
       "      <td>{'syllables': 0.37003125}</td>\n",
       "      <td>{'syllables': 0.39874565972222226}</td>\n",
       "    </tr>\n",
       "    <tr>\n",
       "      <th>12</th>\n",
       "      <td>hildebrand_Gervaiss_beaked_whale</td>\n",
       "      <td>[UNK]</td>\n",
       "      <td>1</td>\n",
       "      <td>{'clicks': 1936}</td>\n",
       "      <td>2.019410</td>\n",
       "      <td>[0.0010430839002267573, 0.0010430839002267573,...</td>\n",
       "      <td>[clicks]</td>\n",
       "      <td>1936</td>\n",
       "      <td>{'clicks': [[0.00101], [0.00101], [0.00101], [...</td>\n",
       "      <td>{'clicks': 0.00101}</td>\n",
       "      <td>{'clicks': 0.0010100000000000003}</td>\n",
       "    </tr>\n",
       "    <tr>\n",
       "      <th>13</th>\n",
       "      <td>hildebrand_Cuviers_beaked_whale</td>\n",
       "      <td>[UNK]</td>\n",
       "      <td>1</td>\n",
       "      <td>{'clicks': 2237}</td>\n",
       "      <td>2.333379</td>\n",
       "      <td>[0.0010430839002267573, 0.0010430839002267573,...</td>\n",
       "      <td>[clicks]</td>\n",
       "      <td>2237</td>\n",
       "      <td>{'clicks': [[0.00101], [0.00101], [0.00101], [...</td>\n",
       "      <td>{'clicks': 0.00101}</td>\n",
       "      <td>{'clicks': 0.0010100000000000003}</td>\n",
       "    </tr>\n",
       "    <tr>\n",
       "      <th>14</th>\n",
       "      <td>marmoset</td>\n",
       "      <td>[abu, aladdin, angel, apollo, ares, baloo, ban...</td>\n",
       "      <td>33</td>\n",
       "      <td>{'calls': 14289}</td>\n",
       "      <td>76400.728222</td>\n",
       "      <td>[29.876149490373727, 40.63898074745187, 142.59...</td>\n",
       "      <td>[calls]</td>\n",
       "      <td>768</td>\n",
       "      <td>{'calls': [[2.1870108417310803, 2.095557030293...</td>\n",
       "      <td>{'calls': 1.084347416282526}</td>\n",
       "      <td>{'calls': 1.147352583134226}</td>\n",
       "    </tr>\n",
       "    <tr>\n",
       "      <th>15</th>\n",
       "      <td>zebra_finch_theunisson</td>\n",
       "      <td>[BlaBla0506, BlaLbl8026, BluRas07dd, BluRas61d...</td>\n",
       "      <td>46</td>\n",
       "      <td>{'elements': 3347}</td>\n",
       "      <td>1364.970658</td>\n",
       "      <td>[0.09238095238095238, 0.14798185941043085, 0.1...</td>\n",
       "      <td>[elements]</td>\n",
       "      <td>3347</td>\n",
       "      <td>{'elements': [[0.09238095238095238], [0.147981...</td>\n",
       "      <td>{'elements': 0.15344671201814059}</td>\n",
       "      <td>{'elements': 0.4078191388097914}</td>\n",
       "    </tr>\n",
       "    <tr>\n",
       "      <th>16</th>\n",
       "      <td>macaque_coo</td>\n",
       "      <td>[AL, BE, IO, MU, QU, SN, TH, TW]</td>\n",
       "      <td>8</td>\n",
       "      <td>{'coos': 7284}</td>\n",
       "      <td>2550.858136</td>\n",
       "      <td>[0.26808388629474894, 0.5829851724420414, 0.22...</td>\n",
       "      <td>[coos]</td>\n",
       "      <td>7284</td>\n",
       "      <td>{'coos': [[0.26808388629474894], [0.5829851724...</td>\n",
       "      <td>{'coos': 0.32374866879659214}</td>\n",
       "      <td>{'coos': 0.3502001834765793}</td>\n",
       "    </tr>\n",
       "    <tr>\n",
       "      <th>17</th>\n",
       "      <td>european_starling_gentner_segmented</td>\n",
       "      <td>[b1053, b1060, b1066, b1076, b1077, b1125, b1143]</td>\n",
       "      <td>7</td>\n",
       "      <td>{'syllables': 164230}</td>\n",
       "      <td>194529.938707</td>\n",
       "      <td>[26.09, 48.81, 35.86, 41.99, 66.64, 23.56, 47....</td>\n",
       "      <td>[syllables]</td>\n",
       "      <td>3805</td>\n",
       "      <td>{'syllables': [[0.17099999999999937], [0.21600...</td>\n",
       "      <td>{'syllables': 0.5769999999999982}</td>\n",
       "      <td>{'syllables': 0.6180342629239481}</td>\n",
       "    </tr>\n",
       "    <tr>\n",
       "      <th>18</th>\n",
       "      <td>katahira_white_munia_segmented</td>\n",
       "      <td>[WM01, WM02, WM03, WM04, WM05, WM06, WM07, WM0...</td>\n",
       "      <td>44</td>\n",
       "      <td>{'syllables': 109851}</td>\n",
       "      <td>17118.458414</td>\n",
       "      <td>[30.790854166666666, 177.3405, 80.887291666666...</td>\n",
       "      <td>[syllables]</td>\n",
       "      <td>169</td>\n",
       "      <td>{'syllables': [[0.012000000000000004, 0.010000...</td>\n",
       "      <td>{'syllables': 0.05000000000001137}</td>\n",
       "      <td>{'syllables': 0.06002599885299206}</td>\n",
       "    </tr>\n",
       "    <tr>\n",
       "      <th>19</th>\n",
       "      <td>zebra_finch_gardner_segmented</td>\n",
       "      <td>[lny42, lny64, lr12, lr13, lr28, lr77]</td>\n",
       "      <td>6</td>\n",
       "      <td>{'motifs': 18028, 'syllables': 65892}</td>\n",
       "      <td>8799.923118</td>\n",
       "      <td>[0.44295833333333334, 0.4775625, 0.75063488162...</td>\n",
       "      <td>[motifs, syllables]</td>\n",
       "      <td>18028</td>\n",
       "      <td>{'motifs': [[0.44295833333333334], [0.4775625]...</td>\n",
       "      <td>{'motifs': 0.44295833333333334, 'syllables': 0...</td>\n",
       "      <td>{'motifs': 0.4881253116283993, 'syllables': 0....</td>\n",
       "    </tr>\n",
       "    <tr>\n",
       "      <th>20</th>\n",
       "      <td>BIRD_DB_Toxostoma_redivivum</td>\n",
       "      <td>[CATH-CCCAI, CATH-CCCAJ, CATH-CP1, CATH-TLR1, ...</td>\n",
       "      <td>18</td>\n",
       "      <td>{'syllables': 15328}</td>\n",
       "      <td>19958.901315</td>\n",
       "      <td>[277.89061224489797, 113.8184126984127, 383.26...</td>\n",
       "      <td>[syllables]</td>\n",
       "      <td>92</td>\n",
       "      <td>{'syllables': [[0.06830250009910219, 0.2802757...</td>\n",
       "      <td>{'syllables': 0.14602603469463205}</td>\n",
       "      <td>{'syllables': 0.1737563712941249}</td>\n",
       "    </tr>\n",
       "    <tr>\n",
       "      <th>21</th>\n",
       "      <td>giant_otter</td>\n",
       "      <td>[UNK]</td>\n",
       "      <td>1</td>\n",
       "      <td>{'syllables': 452}</td>\n",
       "      <td>390.373552</td>\n",
       "      <td>[0.41148958333333335, 1.4422916666666667, 2.29...</td>\n",
       "      <td>[syllables]</td>\n",
       "      <td>452</td>\n",
       "      <td>{'syllables': [[0.41148958333333335], [1.44229...</td>\n",
       "      <td>{'syllables': 0.6795729166666666}</td>\n",
       "      <td>{'syllables': 0.8636583010693216}</td>\n",
       "    </tr>\n",
       "    <tr>\n",
       "      <th>22</th>\n",
       "      <td>batsong_segmented</td>\n",
       "      <td>[-101, -102, -103, -105, -107, -108, -109, -11...</td>\n",
       "      <td>83</td>\n",
       "      <td>{'syllables': 423043}</td>\n",
       "      <td>166676.758208</td>\n",
       "      <td>[1.543488, 3.247424, 2.16608, 2.198848, 1.9694...</td>\n",
       "      <td>[syllables]</td>\n",
       "      <td>83823</td>\n",
       "      <td>{'syllables': [[0.07600000000000001, 0.1344999...</td>\n",
       "      <td>{'syllables': 0.04249999999999998}</td>\n",
       "      <td>{'syllables': 0.06073014529492275}</td>\n",
       "    </tr>\n",
       "    <tr>\n",
       "      <th>23</th>\n",
       "      <td>koumura_bengalese_finch</td>\n",
       "      <td>[Bird0, Bird1, Bird10, Bird2, Bird3, Bird4, Bi...</td>\n",
       "      <td>11</td>\n",
       "      <td>{'notes': 214915}</td>\n",
       "      <td>35365.890000</td>\n",
       "      <td>[21.543, 3.651, 21.53, 11.075, 9.352, 11.25, 1...</td>\n",
       "      <td>[notes]</td>\n",
       "      <td>2964</td>\n",
       "      <td>{'notes': [[0.09699999999999998, 0.10000000000...</td>\n",
       "      <td>{'notes': 0.08899999999999997}</td>\n",
       "      <td>{'notes': 0.08940550915478213}</td>\n",
       "    </tr>\n",
       "    <tr>\n",
       "      <th>24</th>\n",
       "      <td>mobysound_humpback_whale</td>\n",
       "      <td>[UNK]</td>\n",
       "      <td>1</td>\n",
       "      <td>{'syllables': 2006}</td>\n",
       "      <td>6730.795750</td>\n",
       "      <td>[255.65, 909.05575, 189.14575, 340.67775, 865....</td>\n",
       "      <td>[syllables]</td>\n",
       "      <td>13</td>\n",
       "      <td>{'syllables': [[1.4099999070167542, 1.83999991...</td>\n",
       "      <td>{'syllables': 1.6500091552734375}</td>\n",
       "      <td>{'syllables': 1.8883949642999103}</td>\n",
       "    </tr>\n",
       "    <tr>\n",
       "      <th>25</th>\n",
       "      <td>swamp_sparrow</td>\n",
       "      <td>[MIWAT01, MIWAT02, MIWAT03, MIWAT04, MIWAT05, ...</td>\n",
       "      <td>616</td>\n",
       "      <td>{'elements': 97513}</td>\n",
       "      <td>4571.087800</td>\n",
       "      <td>[2.3912925170068027, 2.2822222222222224, 2.288...</td>\n",
       "      <td>[elements]</td>\n",
       "      <td>1867</td>\n",
       "      <td>{'elements': [[0.007499999999999993, 0.0189999...</td>\n",
       "      <td>{'elements': 0.020999999999999908}</td>\n",
       "      <td>{'elements': 0.025480689754186613}</td>\n",
       "    </tr>\n",
       "    <tr>\n",
       "      <th>26</th>\n",
       "      <td>buckeye</td>\n",
       "      <td>[s01, s02, s03, s04, s05, s06, s07, s08, s09, ...</td>\n",
       "      <td>40</td>\n",
       "      <td>{'words': 283721, 'phones': 837896}</td>\n",
       "      <td>135708.354000</td>\n",
       "      <td>[564.33, 566.179625, 570.82, 558.159, 715.2413...</td>\n",
       "      <td>[words, phones]</td>\n",
       "      <td>254</td>\n",
       "      <td>{'words': [[0.2651729999999972, 0.177541000000...</td>\n",
       "      <td>{'words': 0.20490499999999656, 'phones': 0.068...</td>\n",
       "      <td>{'words': 0.24163235755901044, 'phones': 0.081...</td>\n",
       "    </tr>\n",
       "    <tr>\n",
       "      <th>27</th>\n",
       "      <td>bengalese_finch_sober</td>\n",
       "      <td>[bl26lb16, gr41rd51, gy6or6, or60yw70]</td>\n",
       "      <td>4</td>\n",
       "      <td>{'syllables': 215480}</td>\n",
       "      <td>40205.631531</td>\n",
       "      <td>[6.99703125, 11.48240625, 13.43946875, 9.07871...</td>\n",
       "      <td>[syllables]</td>\n",
       "      <td>2663</td>\n",
       "      <td>{'syllables': [[0.038000000000000006, 0.050937...</td>\n",
       "      <td>{'syllables': 0.06496875000000024}</td>\n",
       "      <td>{'syllables': 0.06951954759947326}</td>\n",
       "    </tr>\n",
       "    <tr>\n",
       "      <th>28</th>\n",
       "      <td>gibbon_morita_segmented</td>\n",
       "      <td>[UNK]</td>\n",
       "      <td>1</td>\n",
       "      <td>{'syllables': 10333}</td>\n",
       "      <td>230400.000000</td>\n",
       "      <td>[1800.0, 1800.0, 1800.0, 1800.0, 1800.0, 1800....</td>\n",
       "      <td>[syllables]</td>\n",
       "      <td>128</td>\n",
       "      <td>{'syllables': [[1.9399999999999977, 1.89999999...</td>\n",
       "      <td>{'syllables': 2.9599999999999795}</td>\n",
       "      <td>{'syllables': 3.1430968740927128}</td>\n",
       "    </tr>\n",
       "    <tr>\n",
       "      <th>29</th>\n",
       "      <td>BIRD_DB_Vireo_cassinii</td>\n",
       "      <td>[?, AGBk, AGO, AOBu, AYO, BuRA, CAVI, CAVI Eas...</td>\n",
       "      <td>48</td>\n",
       "      <td>{'syllables': 67316}</td>\n",
       "      <td>434782.359909</td>\n",
       "      <td>[2165.8166666666666, 352.11, 570.18, 238.48333...</td>\n",
       "      <td>[syllables]</td>\n",
       "      <td>422</td>\n",
       "      <td>{'syllables': [[0.30123608422298265, 0.3843356...</td>\n",
       "      <td>{'syllables': 0.3323984377632314}</td>\n",
       "      <td>{'syllables': 0.353174692055965}</td>\n",
       "    </tr>\n",
       "    <tr>\n",
       "      <th>30</th>\n",
       "      <td>castellucci_mouse_usv_segmented</td>\n",
       "      <td>[VOC591, VOC592, VOC594, VOC597]</td>\n",
       "      <td>4</td>\n",
       "      <td>{'syllables': 34124}</td>\n",
       "      <td>25276.973056</td>\n",
       "      <td>[182.84544, 181.075968, 182.157312, 240.484352...</td>\n",
       "      <td>[syllables]</td>\n",
       "      <td>133</td>\n",
       "      <td>{'syllables': [[0.016000000000019554, 0.012000...</td>\n",
       "      <td>{'syllables': 0.01799999999998647}</td>\n",
       "      <td>{'syllables': 0.022886883132107187}</td>\n",
       "    </tr>\n",
       "  </tbody>\n",
       "</table>\n",
       "</div>"
      ],
      "text/plain": [
       "                              DatasetID  \\\n",
       "0                      canary_segmented   \n",
       "1                 NA_BIRDS_song_sparrow   \n",
       "2                   NA_BIRDS_marsh_wren   \n",
       "3               NA_BIRDS_indigo_bunting   \n",
       "4                  NA_BIRDS_house_finch   \n",
       "5             NA_BIRDS_great_blue_heron   \n",
       "6          NA_BIRDS_common_yellowthroat   \n",
       "7             NA_BIRDS_chipping_sparrow   \n",
       "8                NA_BIRDS_cedar_waxwing   \n",
       "9                     NA_BIRDS_blue_jay   \n",
       "10     NA_BIRDS_american_yellow_warbler   \n",
       "11               NA_BIRDS_american_crow   \n",
       "12     hildebrand_Gervaiss_beaked_whale   \n",
       "13      hildebrand_Cuviers_beaked_whale   \n",
       "14                             marmoset   \n",
       "15               zebra_finch_theunisson   \n",
       "16                          macaque_coo   \n",
       "17  european_starling_gentner_segmented   \n",
       "18       katahira_white_munia_segmented   \n",
       "19        zebra_finch_gardner_segmented   \n",
       "20          BIRD_DB_Toxostoma_redivivum   \n",
       "21                          giant_otter   \n",
       "22                    batsong_segmented   \n",
       "23              koumura_bengalese_finch   \n",
       "24             mobysound_humpback_whale   \n",
       "25                        swamp_sparrow   \n",
       "26                              buckeye   \n",
       "27                bengalese_finch_sober   \n",
       "28              gibbon_morita_segmented   \n",
       "29               BIRD_DB_Vireo_cassinii   \n",
       "30      castellucci_mouse_usv_segmented   \n",
       "\n",
       "                                          individuals #individuals  \\\n",
       "0                 [bird1, bird2, bird3, bird4, bird6]            5   \n",
       "1                                               [UNK]            1   \n",
       "2                                               [UNK]            1   \n",
       "3                                               [UNK]            1   \n",
       "4                                               [UNK]            1   \n",
       "5                                               [UNK]            1   \n",
       "6                                               [UNK]            1   \n",
       "7                                               [UNK]            1   \n",
       "8                                               [UNK]            1   \n",
       "9                                               [UNK]            1   \n",
       "10                                              [UNK]            1   \n",
       "11                                              [UNK]            1   \n",
       "12                                              [UNK]            1   \n",
       "13                                              [UNK]            1   \n",
       "14  [abu, aladdin, angel, apollo, ares, baloo, ban...           33   \n",
       "15  [BlaBla0506, BlaLbl8026, BluRas07dd, BluRas61d...           46   \n",
       "16                   [AL, BE, IO, MU, QU, SN, TH, TW]            8   \n",
       "17  [b1053, b1060, b1066, b1076, b1077, b1125, b1143]            7   \n",
       "18  [WM01, WM02, WM03, WM04, WM05, WM06, WM07, WM0...           44   \n",
       "19             [lny42, lny64, lr12, lr13, lr28, lr77]            6   \n",
       "20  [CATH-CCCAI, CATH-CCCAJ, CATH-CP1, CATH-TLR1, ...           18   \n",
       "21                                              [UNK]            1   \n",
       "22  [-101, -102, -103, -105, -107, -108, -109, -11...           83   \n",
       "23  [Bird0, Bird1, Bird10, Bird2, Bird3, Bird4, Bi...           11   \n",
       "24                                              [UNK]            1   \n",
       "25  [MIWAT01, MIWAT02, MIWAT03, MIWAT04, MIWAT05, ...          616   \n",
       "26  [s01, s02, s03, s04, s05, s06, s07, s08, s09, ...           40   \n",
       "27             [bl26lb16, gr41rd51, gy6or6, or60yw70]            4   \n",
       "28                                              [UNK]            1   \n",
       "29  [?, AGBk, AGO, AOBu, AYO, BuRA, CAVI, CAVI Eas...           48   \n",
       "30                   [VOC591, VOC592, VOC594, VOC597]            4   \n",
       "\n",
       "                                     #units  total_length_s  \\\n",
       "0   {'phrases': 22167, 'syllables': 497338}    36986.856042   \n",
       "1                        {'syllables': 258}       32.803062   \n",
       "2                        {'syllables': 248}       23.807750   \n",
       "3                        {'syllables': 251}       35.977844   \n",
       "4                        {'syllables': 248}       25.937750   \n",
       "5                        {'syllables': 246}       44.092688   \n",
       "6                        {'syllables': 255}       35.422187   \n",
       "7                        {'syllables': 252}       24.942875   \n",
       "8                        {'syllables': 245}      115.972531   \n",
       "9                        {'syllables': 250}      141.217781   \n",
       "10                       {'syllables': 246}       21.447688   \n",
       "11                       {'syllables': 252}      100.483906   \n",
       "12                         {'clicks': 1936}        2.019410   \n",
       "13                         {'clicks': 2237}        2.333379   \n",
       "14                         {'calls': 14289}    76400.728222   \n",
       "15                       {'elements': 3347}     1364.970658   \n",
       "16                           {'coos': 7284}     2550.858136   \n",
       "17                    {'syllables': 164230}   194529.938707   \n",
       "18                    {'syllables': 109851}    17118.458414   \n",
       "19    {'motifs': 18028, 'syllables': 65892}     8799.923118   \n",
       "20                     {'syllables': 15328}    19958.901315   \n",
       "21                       {'syllables': 452}      390.373552   \n",
       "22                    {'syllables': 423043}   166676.758208   \n",
       "23                        {'notes': 214915}    35365.890000   \n",
       "24                      {'syllables': 2006}     6730.795750   \n",
       "25                      {'elements': 97513}     4571.087800   \n",
       "26      {'words': 283721, 'phones': 837896}   135708.354000   \n",
       "27                    {'syllables': 215480}    40205.631531   \n",
       "28                     {'syllables': 10333}   230400.000000   \n",
       "29                     {'syllables': 67316}   434782.359909   \n",
       "30                     {'syllables': 34124}    25276.973056   \n",
       "\n",
       "                                          wav_lengths            unit_types  \\\n",
       "0   [13.502916666666666, 7.711291666666667, 9.2793...  [phrases, syllables]   \n",
       "1   [0.07503125, 0.13003125, 0.08503125, 0.1550312...           [syllables]   \n",
       "2   [0.05503125, 0.13503125, 0.12003125, 0.1050312...           [syllables]   \n",
       "3   [0.21003125, 0.07003125, 0.23003125, 0.1150312...           [syllables]   \n",
       "4   [0.20503125, 0.07003125, 0.09503125, 0.1100312...           [syllables]   \n",
       "5   [0.28503125, 0.06503125, 0.34503125, 0.2050312...           [syllables]   \n",
       "6   [0.16503125, 0.04503125, 0.09503125, 0.1000312...           [syllables]   \n",
       "7   [0.09503125, 0.45003125, 0.04503125, 0.1050312...           [syllables]   \n",
       "8   [0.55003125, 0.90003125, 0.17003125, 0.3400312...           [syllables]   \n",
       "9   [0.55003125, 0.41503125, 0.34503125, 0.3950312...           [syllables]   \n",
       "10  [0.06503125, 0.07003125, 0.05003125, 0.1000312...           [syllables]   \n",
       "11  [0.46503125, 0.41503125, 0.22003125, 0.8150312...           [syllables]   \n",
       "12  [0.0010430839002267573, 0.0010430839002267573,...              [clicks]   \n",
       "13  [0.0010430839002267573, 0.0010430839002267573,...              [clicks]   \n",
       "14  [29.876149490373727, 40.63898074745187, 142.59...               [calls]   \n",
       "15  [0.09238095238095238, 0.14798185941043085, 0.1...            [elements]   \n",
       "16  [0.26808388629474894, 0.5829851724420414, 0.22...                [coos]   \n",
       "17  [26.09, 48.81, 35.86, 41.99, 66.64, 23.56, 47....           [syllables]   \n",
       "18  [30.790854166666666, 177.3405, 80.887291666666...           [syllables]   \n",
       "19  [0.44295833333333334, 0.4775625, 0.75063488162...   [motifs, syllables]   \n",
       "20  [277.89061224489797, 113.8184126984127, 383.26...           [syllables]   \n",
       "21  [0.41148958333333335, 1.4422916666666667, 2.29...           [syllables]   \n",
       "22  [1.543488, 3.247424, 2.16608, 2.198848, 1.9694...           [syllables]   \n",
       "23  [21.543, 3.651, 21.53, 11.075, 9.352, 11.25, 1...               [notes]   \n",
       "24  [255.65, 909.05575, 189.14575, 340.67775, 865....           [syllables]   \n",
       "25  [2.3912925170068027, 2.2822222222222224, 2.288...            [elements]   \n",
       "26  [564.33, 566.179625, 570.82, 558.159, 715.2413...       [words, phones]   \n",
       "27  [6.99703125, 11.48240625, 13.43946875, 9.07871...           [syllables]   \n",
       "28  [1800.0, 1800.0, 1800.0, 1800.0, 1800.0, 1800....           [syllables]   \n",
       "29  [2165.8166666666666, 352.11, 570.18, 238.48333...           [syllables]   \n",
       "30  [182.84544, 181.075968, 182.157312, 240.484352...           [syllables]   \n",
       "\n",
       "    #wavs                                    element_lengths  \\\n",
       "0    2320  {'phrases': [[0.5822916666666667, 1.0129166666...   \n",
       "1     258  {'syllables': [[0.07503125], [0.13003125], [0....   \n",
       "2     248  {'syllables': [[0.05503125], [0.13503125], [0....   \n",
       "3     251  {'syllables': [[0.21003125], [0.07003125], [0....   \n",
       "4     248  {'syllables': [[0.20503125], [0.07003125], [0....   \n",
       "5     246  {'syllables': [[0.28503125], [0.06503125], [0....   \n",
       "6     255  {'syllables': [[0.16503125], [0.04503125], [0....   \n",
       "7     252  {'syllables': [[0.09503125], [0.45003125], [0....   \n",
       "8     245  {'syllables': [[0.55003125], [0.90003125], [0....   \n",
       "9     250  {'syllables': [[0.55003125], [0.41503125], [0....   \n",
       "10    246  {'syllables': [[0.06503125], [0.07003125], [0....   \n",
       "11    252  {'syllables': [[0.46503125], [0.41503125], [0....   \n",
       "12   1936  {'clicks': [[0.00101], [0.00101], [0.00101], [...   \n",
       "13   2237  {'clicks': [[0.00101], [0.00101], [0.00101], [...   \n",
       "14    768  {'calls': [[2.1870108417310803, 2.095557030293...   \n",
       "15   3347  {'elements': [[0.09238095238095238], [0.147981...   \n",
       "16   7284  {'coos': [[0.26808388629474894], [0.5829851724...   \n",
       "17   3805  {'syllables': [[0.17099999999999937], [0.21600...   \n",
       "18    169  {'syllables': [[0.012000000000000004, 0.010000...   \n",
       "19  18028  {'motifs': [[0.44295833333333334], [0.4775625]...   \n",
       "20     92  {'syllables': [[0.06830250009910219, 0.2802757...   \n",
       "21    452  {'syllables': [[0.41148958333333335], [1.44229...   \n",
       "22  83823  {'syllables': [[0.07600000000000001, 0.1344999...   \n",
       "23   2964  {'notes': [[0.09699999999999998, 0.10000000000...   \n",
       "24     13  {'syllables': [[1.4099999070167542, 1.83999991...   \n",
       "25   1867  {'elements': [[0.007499999999999993, 0.0189999...   \n",
       "26    254  {'words': [[0.2651729999999972, 0.177541000000...   \n",
       "27   2663  {'syllables': [[0.038000000000000006, 0.050937...   \n",
       "28    128  {'syllables': [[1.9399999999999977, 1.89999999...   \n",
       "29    422  {'syllables': [[0.30123608422298265, 0.3843356...   \n",
       "30    133  {'syllables': [[0.016000000000019554, 0.012000...   \n",
       "\n",
       "                               median_element_lengths  \\\n",
       "0   {'phrases': 1.3189583333333328, 'syllables': 0...   \n",
       "1                           {'syllables': 0.10503125}   \n",
       "2                           {'syllables': 0.09003125}   \n",
       "3                           {'syllables': 0.13503125}   \n",
       "4                           {'syllables': 0.09253125}   \n",
       "5                           {'syllables': 0.13753125}   \n",
       "6                           {'syllables': 0.10003125}   \n",
       "7                           {'syllables': 0.09003125}   \n",
       "8                           {'syllables': 0.42503125}   \n",
       "9                           {'syllables': 0.47003125}   \n",
       "10                          {'syllables': 0.07753125}   \n",
       "11                          {'syllables': 0.37003125}   \n",
       "12                                {'clicks': 0.00101}   \n",
       "13                                {'clicks': 0.00101}   \n",
       "14                       {'calls': 1.084347416282526}   \n",
       "15                  {'elements': 0.15344671201814059}   \n",
       "16                      {'coos': 0.32374866879659214}   \n",
       "17                  {'syllables': 0.5769999999999982}   \n",
       "18                 {'syllables': 0.05000000000001137}   \n",
       "19  {'motifs': 0.44295833333333334, 'syllables': 0...   \n",
       "20                 {'syllables': 0.14602603469463205}   \n",
       "21                  {'syllables': 0.6795729166666666}   \n",
       "22                 {'syllables': 0.04249999999999998}   \n",
       "23                     {'notes': 0.08899999999999997}   \n",
       "24                  {'syllables': 1.6500091552734375}   \n",
       "25                 {'elements': 0.020999999999999908}   \n",
       "26  {'words': 0.20490499999999656, 'phones': 0.068...   \n",
       "27                 {'syllables': 0.06496875000000024}   \n",
       "28                  {'syllables': 2.9599999999999795}   \n",
       "29                  {'syllables': 0.3323984377632314}   \n",
       "30                 {'syllables': 0.01799999999998647}   \n",
       "\n",
       "                                 mean_element_lengths  \n",
       "0   {'phrases': 1.6103567118548243, 'syllables': 0...  \n",
       "1                   {'syllables': 0.1271436531007752}  \n",
       "2                  {'syllables': 0.09599899193548388}  \n",
       "3                  {'syllables': 0.14333802290836653}  \n",
       "4                  {'syllables': 0.10458770161290323}  \n",
       "5                  {'syllables': 0.17923856707317073}  \n",
       "6                  {'syllables': 0.13891053921568627}  \n",
       "7                  {'syllables': 0.09897966269841268}  \n",
       "8                   {'syllables': 0.4733572704081633}  \n",
       "9                   {'syllables': 0.5648711249999999}  \n",
       "10                 {'syllables': 0.08718572154471545}  \n",
       "11                 {'syllables': 0.39874565972222226}  \n",
       "12                  {'clicks': 0.0010100000000000003}  \n",
       "13                  {'clicks': 0.0010100000000000003}  \n",
       "14                       {'calls': 1.147352583134226}  \n",
       "15                   {'elements': 0.4078191388097914}  \n",
       "16                       {'coos': 0.3502001834765793}  \n",
       "17                  {'syllables': 0.6180342629239481}  \n",
       "18                 {'syllables': 0.06002599885299206}  \n",
       "19  {'motifs': 0.4881253116283993, 'syllables': 0....  \n",
       "20                  {'syllables': 0.1737563712941249}  \n",
       "21                  {'syllables': 0.8636583010693216}  \n",
       "22                 {'syllables': 0.06073014529492275}  \n",
       "23                     {'notes': 0.08940550915478213}  \n",
       "24                  {'syllables': 1.8883949642999103}  \n",
       "25                 {'elements': 0.025480689754186613}  \n",
       "26  {'words': 0.24163235755901044, 'phones': 0.081...  \n",
       "27                 {'syllables': 0.06951954759947326}  \n",
       "28                  {'syllables': 3.1430968740927128}  \n",
       "29                   {'syllables': 0.353174692055965}  \n",
       "30                {'syllables': 0.022886883132107187}  "
      ]
     },
     "execution_count": 12,
     "metadata": {},
     "output_type": "execute_result"
    }
   ],
   "source": [
    "dataset_df"
   ]
  },
  {
   "cell_type": "code",
   "execution_count": 13,
   "metadata": {
    "ExecuteTime": {
     "end_time": "2019-11-14T16:09:08.818461Z",
     "start_time": "2019-11-14T16:09:08.490659Z"
    }
   },
   "outputs": [
    {
     "data": {
      "text/plain": [
       "OrderedDict([('datetime', '2016-08-05_00-00-00'),\n",
       "             ('samplerate_hz', 250000),\n",
       "             ('length_s', 241.958912),\n",
       "             ('wav_loc',\n",
       "              '/mnt/cube/Datasets/mouse_usv/VOC591/VOC591_Isolation_Call_CMPA_8_5_2016_10_4.17.WAV'),\n",
       "             ('age', '10'),\n",
       "             ('FemaleMouse', 'Isolation'),\n",
       "             ('call_type', 'Call'),\n",
       "             ('weight', '4.17'),\n",
       "             ('indvs',\n",
       "              OrderedDict([('VOC591',\n",
       "                            OrderedDict([('syllables',\n",
       "                                          OrderedDict([('start_times',\n",
       "                                                        [2.33,\n",
       "                                                         2.522,\n",
       "                                                         2.756,\n",
       "                                                         12.552,\n",
       "                                                         12.76,\n",
       "                                                         12.972,\n",
       "                                                         13.108,\n",
       "                                                         13.128,\n",
       "                                                         13.152,\n",
       "                                                         13.33,\n",
       "                                                         13.356,\n",
       "                                                         24.842,\n",
       "                                                         25.032,\n",
       "                                                         29.55,\n",
       "                                                         29.756,\n",
       "                                                         29.994,\n",
       "                                                         31.274,\n",
       "                                                         42.732,\n",
       "                                                         43.09,\n",
       "                                                         43.29,\n",
       "                                                         43.318,\n",
       "                                                         43.33,\n",
       "                                                         43.518,\n",
       "                                                         43.542,\n",
       "                                                         44.182,\n",
       "                                                         44.21,\n",
       "                                                         44.366,\n",
       "                                                         44.554,\n",
       "                                                         44.582,\n",
       "                                                         46.164,\n",
       "                                                         46.89,\n",
       "                                                         48.156,\n",
       "                                                         48.372,\n",
       "                                                         48.74,\n",
       "                                                         48.94,\n",
       "                                                         49.12,\n",
       "                                                         49.302,\n",
       "                                                         49.632,\n",
       "                                                         51.688,\n",
       "                                                         64.646,\n",
       "                                                         64.952,\n",
       "                                                         65.5,\n",
       "                                                         65.672,\n",
       "                                                         65.866,\n",
       "                                                         66.244,\n",
       "                                                         66.392,\n",
       "                                                         75.574,\n",
       "                                                         75.726,\n",
       "                                                         75.774,\n",
       "                                                         85.644,\n",
       "                                                         91.7,\n",
       "                                                         102.13,\n",
       "                                                         122.044,\n",
       "                                                         122.788,\n",
       "                                                         124.896,\n",
       "                                                         125.97,\n",
       "                                                         129.47,\n",
       "                                                         129.526,\n",
       "                                                         129.644,\n",
       "                                                         129.702,\n",
       "                                                         129.858,\n",
       "                                                         130.324,\n",
       "                                                         130.466,\n",
       "                                                         134.548,\n",
       "                                                         140.012,\n",
       "                                                         158.502,\n",
       "                                                         158.682,\n",
       "                                                         165.158,\n",
       "                                                         170.658,\n",
       "                                                         171.094,\n",
       "                                                         171.234,\n",
       "                                                         171.44,\n",
       "                                                         178.374,\n",
       "                                                         178.548,\n",
       "                                                         180.164,\n",
       "                                                         183.332,\n",
       "                                                         219.716,\n",
       "                                                         230.516,\n",
       "                                                         230.736,\n",
       "                                                         234.264,\n",
       "                                                         237.468,\n",
       "                                                         237.632,\n",
       "                                                         237.704,\n",
       "                                                         237.894,\n",
       "                                                         238.1,\n",
       "                                                         238.138,\n",
       "                                                         238.262,\n",
       "                                                         238.444,\n",
       "                                                         238.662]),\n",
       "                                                       ('end_times',\n",
       "                                                        [2.368,\n",
       "                                                         2.58,\n",
       "                                                         2.776,\n",
       "                                                         12.564,\n",
       "                                                         12.776,\n",
       "                                                         13.006,\n",
       "                                                         13.12,\n",
       "                                                         13.142,\n",
       "                                                         13.192,\n",
       "                                                         13.346,\n",
       "                                                         13.368,\n",
       "                                                         24.852,\n",
       "                                                         25.046,\n",
       "                                                         29.584,\n",
       "                                                         29.784,\n",
       "                                                         30.012,\n",
       "                                                         31.286,\n",
       "                                                         42.744,\n",
       "                                                         43.12,\n",
       "                                                         43.306,\n",
       "                                                         43.328,\n",
       "                                                         43.348,\n",
       "                                                         43.53,\n",
       "                                                         43.592,\n",
       "                                                         44.198,\n",
       "                                                         44.226,\n",
       "                                                         44.386,\n",
       "                                                         44.572,\n",
       "                                                         44.594,\n",
       "                                                         46.196,\n",
       "                                                         46.902,\n",
       "                                                         48.168,\n",
       "                                                         48.386,\n",
       "                                                         48.796,\n",
       "                                                         48.96,\n",
       "                                                         49.134,\n",
       "                                                         49.314,\n",
       "                                                         49.648,\n",
       "                                                         51.72,\n",
       "                                                         64.656,\n",
       "                                                         64.966,\n",
       "                                                         65.51,\n",
       "                                                         65.686,\n",
       "                                                         65.884,\n",
       "                                                         66.262,\n",
       "                                                         66.412,\n",
       "                                                         75.584,\n",
       "                                                         75.772,\n",
       "                                                         75.794,\n",
       "                                                         85.666,\n",
       "                                                         91.714,\n",
       "                                                         102.144,\n",
       "                                                         122.058,\n",
       "                                                         122.798,\n",
       "                                                         124.912,\n",
       "                                                         125.98,\n",
       "                                                         129.486,\n",
       "                                                         129.538,\n",
       "                                                         129.692,\n",
       "                                                         129.72,\n",
       "                                                         129.956,\n",
       "                                                         130.352,\n",
       "                                                         130.5,\n",
       "                                                         134.564,\n",
       "                                                         140.024,\n",
       "                                                         158.516,\n",
       "                                                         158.704,\n",
       "                                                         165.17,\n",
       "                                                         170.67,\n",
       "                                                         171.104,\n",
       "                                                         171.248,\n",
       "                                                         171.452,\n",
       "                                                         178.398,\n",
       "                                                         178.56,\n",
       "                                                         180.178,\n",
       "                                                         183.344,\n",
       "                                                         219.744,\n",
       "                                                         230.534,\n",
       "                                                         230.754,\n",
       "                                                         234.278,\n",
       "                                                         237.482,\n",
       "                                                         237.65,\n",
       "                                                         237.726,\n",
       "                                                         237.92,\n",
       "                                                         238.11,\n",
       "                                                         238.15,\n",
       "                                                         238.282,\n",
       "                                                         238.48,\n",
       "                                                         238.676])]))]))]))])"
      ]
     },
     "execution_count": 13,
     "metadata": {},
     "output_type": "execute_result"
    }
   ],
   "source": [
    "dat"
   ]
  },
  {
   "cell_type": "code",
   "execution_count": 14,
   "metadata": {
    "ExecuteTime": {
     "end_time": "2019-11-14T16:09:08.927703Z",
     "start_time": "2019-11-14T16:09:08.820419Z"
    }
   },
   "outputs": [
    {
     "data": {
      "text/plain": [
       "'castellucci_mouse_usv_segmented'"
      ]
     },
     "execution_count": 14,
     "metadata": {},
     "output_type": "execute_result"
    }
   ],
   "source": [
    "dataset_id"
   ]
  },
  {
   "cell_type": "code",
   "execution_count": 15,
   "metadata": {
    "ExecuteTime": {
     "end_time": "2019-11-14T16:09:09.009094Z",
     "start_time": "2019-11-14T16:09:08.931804Z"
    }
   },
   "outputs": [
    {
     "data": {
      "text/plain": [
       "399.5625881307327"
      ]
     },
     "execution_count": 15,
     "metadata": {},
     "output_type": "execute_result"
    }
   ],
   "source": [
    "np.sum(dataset_df.total_length_s.values) / 60/60"
   ]
  },
  {
   "cell_type": "code",
   "execution_count": 16,
   "metadata": {
    "ExecuteTime": {
     "end_time": "2019-11-14T16:09:09.091724Z",
     "start_time": "2019-11-14T16:09:09.011734Z"
    }
   },
   "outputs": [
    {
     "data": {
      "text/plain": [
       "array([{'phrases': 22167, 'syllables': 497338}, {'syllables': 258},\n",
       "       {'syllables': 248}, {'syllables': 251}, {'syllables': 248},\n",
       "       {'syllables': 246}, {'syllables': 255}, {'syllables': 252},\n",
       "       {'syllables': 245}, {'syllables': 250}, {'syllables': 246},\n",
       "       {'syllables': 252}, {'clicks': 1936}, {'clicks': 2237},\n",
       "       {'calls': 14289}, {'elements': 3347}, {'coos': 7284},\n",
       "       {'syllables': 164230}, {'syllables': 109851},\n",
       "       {'motifs': 18028, 'syllables': 65892}, {'syllables': 15328},\n",
       "       {'syllables': 452}, {'syllables': 423043}, {'notes': 214915},\n",
       "       {'syllables': 2006}, {'elements': 97513},\n",
       "       {'words': 283721, 'phones': 837896}, {'syllables': 215480},\n",
       "       {'syllables': 10333}, {'syllables': 67316}, {'syllables': 34124}],\n",
       "      dtype=object)"
      ]
     },
     "execution_count": 16,
     "metadata": {},
     "output_type": "execute_result"
    }
   ],
   "source": [
    "dataset_df['#units'].values"
   ]
  },
  {
   "cell_type": "code",
   "execution_count": 36,
   "metadata": {
    "ExecuteTime": {
     "end_time": "2019-11-14T16:34:09.128861Z",
     "start_time": "2019-11-14T16:34:09.056848Z"
    }
   },
   "outputs": [
    {
     "data": {
      "text/plain": [
       "3111477"
      ]
     },
     "execution_count": 36,
     "metadata": {},
     "output_type": "execute_result"
    }
   ],
   "source": [
    "np.sum(np.concatenate([[i[k] for k in i.keys()] for i in dataset_df['#units'].values]))"
   ]
  },
  {
   "cell_type": "code",
   "execution_count": 17,
   "metadata": {
    "ExecuteTime": {
     "end_time": "2019-11-14T16:09:09.416214Z",
     "start_time": "2019-11-14T16:09:09.095558Z"
    }
   },
   "outputs": [],
   "source": [
    "dataset_df.to_pickle(DATA_DIR / 'dataset_statistics.pickle')"
   ]
  },
  {
   "cell_type": "code",
   "execution_count": 18,
   "metadata": {
    "ExecuteTime": {
     "end_time": "2019-11-14T16:09:09.723426Z",
     "start_time": "2019-11-14T16:09:09.419954Z"
    }
   },
   "outputs": [
    {
     "data": {
      "text/html": [
       "<div>\n",
       "<style scoped>\n",
       "    .dataframe tbody tr th:only-of-type {\n",
       "        vertical-align: middle;\n",
       "    }\n",
       "\n",
       "    .dataframe tbody tr th {\n",
       "        vertical-align: top;\n",
       "    }\n",
       "\n",
       "    .dataframe thead th {\n",
       "        text-align: right;\n",
       "    }\n",
       "</style>\n",
       "<table border=\"1\" class=\"dataframe\">\n",
       "  <thead>\n",
       "    <tr style=\"text-align: right;\">\n",
       "      <th></th>\n",
       "      <th>DatasetID</th>\n",
       "      <th>individuals</th>\n",
       "      <th>#individuals</th>\n",
       "      <th>#units</th>\n",
       "      <th>total_length_s</th>\n",
       "      <th>wav_lengths</th>\n",
       "      <th>unit_types</th>\n",
       "      <th>#wavs</th>\n",
       "      <th>element_lengths</th>\n",
       "      <th>median_element_lengths</th>\n",
       "      <th>mean_element_lengths</th>\n",
       "    </tr>\n",
       "  </thead>\n",
       "  <tbody>\n",
       "    <tr>\n",
       "      <th>0</th>\n",
       "      <td>canary_segmented</td>\n",
       "      <td>[bird1, bird2, bird3, bird4, bird6]</td>\n",
       "      <td>5</td>\n",
       "      <td>{'phrases': 22167, 'syllables': 497338}</td>\n",
       "      <td>36986.856042</td>\n",
       "      <td>[13.502916666666666, 7.711291666666667, 9.2793...</td>\n",
       "      <td>[phrases, syllables]</td>\n",
       "      <td>2320</td>\n",
       "      <td>{'phrases': [[0.5822916666666667, 1.0129166666...</td>\n",
       "      <td>{'phrases': 1.3189583333333328, 'syllables': 0...</td>\n",
       "      <td>{'phrases': 1.6103567118548243, 'syllables': 0...</td>\n",
       "    </tr>\n",
       "    <tr>\n",
       "      <th>1</th>\n",
       "      <td>NA_BIRDS_song_sparrow</td>\n",
       "      <td>[UNK]</td>\n",
       "      <td>1</td>\n",
       "      <td>{'syllables': 258}</td>\n",
       "      <td>32.803062</td>\n",
       "      <td>[0.07503125, 0.13003125, 0.08503125, 0.1550312...</td>\n",
       "      <td>[syllables]</td>\n",
       "      <td>258</td>\n",
       "      <td>{'syllables': [[0.07503125], [0.13003125], [0....</td>\n",
       "      <td>{'syllables': 0.10503125}</td>\n",
       "      <td>{'syllables': 0.1271436531007752}</td>\n",
       "    </tr>\n",
       "    <tr>\n",
       "      <th>2</th>\n",
       "      <td>NA_BIRDS_marsh_wren</td>\n",
       "      <td>[UNK]</td>\n",
       "      <td>1</td>\n",
       "      <td>{'syllables': 248}</td>\n",
       "      <td>23.807750</td>\n",
       "      <td>[0.05503125, 0.13503125, 0.12003125, 0.1050312...</td>\n",
       "      <td>[syllables]</td>\n",
       "      <td>248</td>\n",
       "      <td>{'syllables': [[0.05503125], [0.13503125], [0....</td>\n",
       "      <td>{'syllables': 0.09003125}</td>\n",
       "      <td>{'syllables': 0.09599899193548388}</td>\n",
       "    </tr>\n",
       "  </tbody>\n",
       "</table>\n",
       "</div>"
      ],
      "text/plain": [
       "               DatasetID                          individuals #individuals  \\\n",
       "0       canary_segmented  [bird1, bird2, bird3, bird4, bird6]            5   \n",
       "1  NA_BIRDS_song_sparrow                                [UNK]            1   \n",
       "2    NA_BIRDS_marsh_wren                                [UNK]            1   \n",
       "\n",
       "                                    #units  total_length_s  \\\n",
       "0  {'phrases': 22167, 'syllables': 497338}    36986.856042   \n",
       "1                       {'syllables': 258}       32.803062   \n",
       "2                       {'syllables': 248}       23.807750   \n",
       "\n",
       "                                         wav_lengths            unit_types  \\\n",
       "0  [13.502916666666666, 7.711291666666667, 9.2793...  [phrases, syllables]   \n",
       "1  [0.07503125, 0.13003125, 0.08503125, 0.1550312...           [syllables]   \n",
       "2  [0.05503125, 0.13503125, 0.12003125, 0.1050312...           [syllables]   \n",
       "\n",
       "  #wavs                                    element_lengths  \\\n",
       "0  2320  {'phrases': [[0.5822916666666667, 1.0129166666...   \n",
       "1   258  {'syllables': [[0.07503125], [0.13003125], [0....   \n",
       "2   248  {'syllables': [[0.05503125], [0.13503125], [0....   \n",
       "\n",
       "                              median_element_lengths  \\\n",
       "0  {'phrases': 1.3189583333333328, 'syllables': 0...   \n",
       "1                          {'syllables': 0.10503125}   \n",
       "2                          {'syllables': 0.09003125}   \n",
       "\n",
       "                                mean_element_lengths  \n",
       "0  {'phrases': 1.6103567118548243, 'syllables': 0...  \n",
       "1                  {'syllables': 0.1271436531007752}  \n",
       "2                 {'syllables': 0.09599899193548388}  "
      ]
     },
     "execution_count": 18,
     "metadata": {},
     "output_type": "execute_result"
    }
   ],
   "source": [
    "dataset_df[:3]"
   ]
  },
  {
   "cell_type": "code",
   "execution_count": 19,
   "metadata": {
    "ExecuteTime": {
     "end_time": "2019-11-14T16:09:09.759057Z",
     "start_time": "2019-11-14T16:09:09.725421Z"
    }
   },
   "outputs": [],
   "source": [
    "for i in dataset_df.DatasetID.values:\n",
    "    for i in species_dict[i]['reference'].split(', '):\n",
    "        0"
   ]
  },
  {
   "cell_type": "code",
   "execution_count": 29,
   "metadata": {
    "ExecuteTime": {
     "end_time": "2019-11-14T16:32:02.448672Z",
     "start_time": "2019-11-14T16:32:02.149721Z"
    }
   },
   "outputs": [],
   "source": [
    "dataset_df[\"Species\"] = [species_dict[i][\"species\"] for i in dataset_df.DatasetID]\n",
    "dataset_df[\"# Indv.\"] = [\n",
    "    str(i) if i != 1 else \"Unk.\" for i in dataset_df[\"#individuals\"]\n",
    "]\n",
    "dataset_df[\"# Elements\"] = [\n",
    "    \"makecell\"\n",
    "    + \" newline \".join([k + \": \" + str(i[k]) for k in list(i.keys())])\n",
    "    + \"END\"\n",
    "    for i in dataset_df[\"#units\"].values\n",
    "]\n",
    "dataset_df[\"Median len. (s)\"] = [\n",
    "    \"makecell\"\n",
    "    + \" newline \".join(\n",
    "        [k + \": \" + str(round(i[k], 3)).zfill(3) for k in list(i.keys())]\n",
    "    )\n",
    "    + \"END\"\n",
    "    for i in dataset_df[\"median_element_lengths\"].values\n",
    "]\n",
    "dataset_df[\"Total length (s)\"] = round(dataset_df.total_length_s, 1)\n",
    "dataset_df[\"# Rec.\"] = dataset_df[\"#wavs\"]\n",
    "dataset_df[\"References\"] = [\n",
    "    \"REF\"\n",
    "    + \", \".join([i for i in species_dict[i][\"reference\"].split(\", \")])\n",
    "    + \"END\"\n",
    "    for i in dataset_df.DatasetID.values\n",
    "]"
   ]
  },
  {
   "cell_type": "code",
   "execution_count": 30,
   "metadata": {
    "ExecuteTime": {
     "end_time": "2019-11-14T16:32:02.597907Z",
     "start_time": "2019-11-14T16:32:02.451687Z"
    }
   },
   "outputs": [
    {
     "data": {
      "text/plain": [
       "'makecellphrases: 22167 newline syllables: 497338END'"
      ]
     },
     "execution_count": 30,
     "metadata": {},
     "output_type": "execute_result"
    }
   ],
   "source": [
    "dataset_df[[\"Species\",\n",
    "            \"# Indv.\",\n",
    "            \"# Elements\",\n",
    "            \"Median len. (s)\",\n",
    "            \"Total length (s)\",\n",
    "            \"# Rec.\",\n",
    "            \"References\"]]['# Elements'].values[0]"
   ]
  },
  {
   "cell_type": "code",
   "execution_count": 31,
   "metadata": {
    "ExecuteTime": {
     "end_time": "2019-11-14T16:32:02.702565Z",
     "start_time": "2019-11-14T16:32:02.602844Z"
    }
   },
   "outputs": [
    {
     "data": {
      "text/html": [
       "<div>\n",
       "<style scoped>\n",
       "    .dataframe tbody tr th:only-of-type {\n",
       "        vertical-align: middle;\n",
       "    }\n",
       "\n",
       "    .dataframe tbody tr th {\n",
       "        vertical-align: top;\n",
       "    }\n",
       "\n",
       "    .dataframe thead th {\n",
       "        text-align: right;\n",
       "    }\n",
       "</style>\n",
       "<table border=\"1\" class=\"dataframe\">\n",
       "  <thead>\n",
       "    <tr style=\"text-align: right;\">\n",
       "      <th></th>\n",
       "      <th>Species</th>\n",
       "      <th># Indv.</th>\n",
       "      <th># Elements</th>\n",
       "      <th>Median len. (s)</th>\n",
       "      <th>Total length (s)</th>\n",
       "      <th># Rec.</th>\n",
       "      <th>References</th>\n",
       "    </tr>\n",
       "  </thead>\n",
       "  <tbody>\n",
       "    <tr>\n",
       "      <th>0</th>\n",
       "      <td>Canary</td>\n",
       "      <td>5</td>\n",
       "      <td>makecellphrases: 22167 newline syllables: 497338END</td>\n",
       "      <td>makecellphrases: 1.319 newline syllables: 0.04END</td>\n",
       "      <td>36986.9</td>\n",
       "      <td>2320</td>\n",
       "      <td>REFmarkowitz2013longEND</td>\n",
       "    </tr>\n",
       "    <tr>\n",
       "      <th>1</th>\n",
       "      <td>Song sparrow</td>\n",
       "      <td>Unk.</td>\n",
       "      <td>makecellsyllables: 258END</td>\n",
       "      <td>makecellsyllables: 0.105END</td>\n",
       "      <td>32.8</td>\n",
       "      <td>258</td>\n",
       "      <td>REFzhao2017automated, zhaozhao20181250690END</td>\n",
       "    </tr>\n",
       "    <tr>\n",
       "      <th>2</th>\n",
       "      <td>Marsh wren</td>\n",
       "      <td>Unk.</td>\n",
       "      <td>makecellsyllables: 248END</td>\n",
       "      <td>makecellsyllables: 0.09END</td>\n",
       "      <td>23.8</td>\n",
       "      <td>248</td>\n",
       "      <td>REFzhao2017automated, zhaozhao20181250690END</td>\n",
       "    </tr>\n",
       "    <tr>\n",
       "      <th>3</th>\n",
       "      <td>Indigo bunting</td>\n",
       "      <td>Unk.</td>\n",
       "      <td>makecellsyllables: 251END</td>\n",
       "      <td>makecellsyllables: 0.135END</td>\n",
       "      <td>36.0</td>\n",
       "      <td>251</td>\n",
       "      <td>REFzhao2017automated, zhaozhao20181250690END</td>\n",
       "    </tr>\n",
       "    <tr>\n",
       "      <th>4</th>\n",
       "      <td>House finch</td>\n",
       "      <td>Unk.</td>\n",
       "      <td>makecellsyllables: 248END</td>\n",
       "      <td>makecellsyllables: 0.093END</td>\n",
       "      <td>25.9</td>\n",
       "      <td>248</td>\n",
       "      <td>REFzhao2017automated, zhaozhao20181250690END</td>\n",
       "    </tr>\n",
       "    <tr>\n",
       "      <th>5</th>\n",
       "      <td>Great blue heron</td>\n",
       "      <td>Unk.</td>\n",
       "      <td>makecellsyllables: 246END</td>\n",
       "      <td>makecellsyllables: 0.138END</td>\n",
       "      <td>44.1</td>\n",
       "      <td>246</td>\n",
       "      <td>REFzhao2017automated, zhaozhao20181250690END</td>\n",
       "    </tr>\n",
       "    <tr>\n",
       "      <th>6</th>\n",
       "      <td>Common yellowthroat</td>\n",
       "      <td>Unk.</td>\n",
       "      <td>makecellsyllables: 255END</td>\n",
       "      <td>makecellsyllables: 0.1END</td>\n",
       "      <td>35.4</td>\n",
       "      <td>255</td>\n",
       "      <td>REFzhao2017automated, zhaozhao20181250690END</td>\n",
       "    </tr>\n",
       "    <tr>\n",
       "      <th>7</th>\n",
       "      <td>Chipping sparrow</td>\n",
       "      <td>Unk.</td>\n",
       "      <td>makecellsyllables: 252END</td>\n",
       "      <td>makecellsyllables: 0.09END</td>\n",
       "      <td>24.9</td>\n",
       "      <td>252</td>\n",
       "      <td>REFzhao2017automated, zhaozhao20181250690END</td>\n",
       "    </tr>\n",
       "    <tr>\n",
       "      <th>8</th>\n",
       "      <td>Cedar waxwind</td>\n",
       "      <td>Unk.</td>\n",
       "      <td>makecellsyllables: 245END</td>\n",
       "      <td>makecellsyllables: 0.425END</td>\n",
       "      <td>116.0</td>\n",
       "      <td>245</td>\n",
       "      <td>REFzhao2017automated, zhaozhao20181250690END</td>\n",
       "    </tr>\n",
       "    <tr>\n",
       "      <th>9</th>\n",
       "      <td>Blue jay</td>\n",
       "      <td>Unk.</td>\n",
       "      <td>makecellsyllables: 250END</td>\n",
       "      <td>makecellsyllables: 0.47END</td>\n",
       "      <td>141.2</td>\n",
       "      <td>250</td>\n",
       "      <td>REFzhao2017automated, zhaozhao20181250690END</td>\n",
       "    </tr>\n",
       "    <tr>\n",
       "      <th>10</th>\n",
       "      <td>Yellow warbler</td>\n",
       "      <td>Unk.</td>\n",
       "      <td>makecellsyllables: 246END</td>\n",
       "      <td>makecellsyllables: 0.078END</td>\n",
       "      <td>21.4</td>\n",
       "      <td>246</td>\n",
       "      <td>REFzhao2017automated, zhaozhao20181250690END</td>\n",
       "    </tr>\n",
       "    <tr>\n",
       "      <th>11</th>\n",
       "      <td>American crow</td>\n",
       "      <td>Unk.</td>\n",
       "      <td>makecellsyllables: 252END</td>\n",
       "      <td>makecellsyllables: 0.37END</td>\n",
       "      <td>100.5</td>\n",
       "      <td>252</td>\n",
       "      <td>REFzhao2017automated, zhaozhao20181250690END</td>\n",
       "    </tr>\n",
       "    <tr>\n",
       "      <th>12</th>\n",
       "      <td>Gervais's beaked whale</td>\n",
       "      <td>Unk.</td>\n",
       "      <td>makecellclicks: 1936END</td>\n",
       "      <td>makecellclicks: 0.001END</td>\n",
       "      <td>2.0</td>\n",
       "      <td>1936</td>\n",
       "      <td>REFhildebrand2015passive, BeakedWhaleClassificationEND</td>\n",
       "    </tr>\n",
       "    <tr>\n",
       "      <th>13</th>\n",
       "      <td>Curvier's beajed whale</td>\n",
       "      <td>Unk.</td>\n",
       "      <td>makecellclicks: 2237END</td>\n",
       "      <td>makecellclicks: 0.001END</td>\n",
       "      <td>2.3</td>\n",
       "      <td>2237</td>\n",
       "      <td>REFhildebrand2015passive, BeakedWhaleClassificationEND</td>\n",
       "    </tr>\n",
       "    <tr>\n",
       "      <th>14</th>\n",
       "      <td>Common marmoset</td>\n",
       "      <td>33</td>\n",
       "      <td>makecellcalls: 14289END</td>\n",
       "      <td>makecellcalls: 1.084END</td>\n",
       "      <td>76400.7</td>\n",
       "      <td>768</td>\n",
       "      <td>REFmiller2010communicativeEND</td>\n",
       "    </tr>\n",
       "    <tr>\n",
       "      <th>15</th>\n",
       "      <td>Zebra finch</td>\n",
       "      <td>46</td>\n",
       "      <td>makecellelements: 3347END</td>\n",
       "      <td>makecellelements: 0.153END</td>\n",
       "      <td>1365.0</td>\n",
       "      <td>3347</td>\n",
       "      <td>REFelie2016vocal, elie2018zebraEND</td>\n",
       "    </tr>\n",
       "    <tr>\n",
       "      <th>16</th>\n",
       "      <td>Macaque</td>\n",
       "      <td>8</td>\n",
       "      <td>makecellcoos: 7284END</td>\n",
       "      <td>makecellcoos: 0.324END</td>\n",
       "      <td>2550.9</td>\n",
       "      <td>7284</td>\n",
       "      <td>REFfukushima2015distributed, Fukushima2016END</td>\n",
       "    </tr>\n",
       "    <tr>\n",
       "      <th>17</th>\n",
       "      <td>European starling</td>\n",
       "      <td>7</td>\n",
       "      <td>makecellsyllables: 164230END</td>\n",
       "      <td>makecellsyllables: 0.577END</td>\n",
       "      <td>194529.9</td>\n",
       "      <td>3805</td>\n",
       "      <td>REFarneodoEND</td>\n",
       "    </tr>\n",
       "    <tr>\n",
       "      <th>18</th>\n",
       "      <td>White-rumped munia</td>\n",
       "      <td>44</td>\n",
       "      <td>makecellsyllables: 109851END</td>\n",
       "      <td>makecellsyllables: 0.05END</td>\n",
       "      <td>17118.5</td>\n",
       "      <td>169</td>\n",
       "      <td>REFkatahira2013simpleEND</td>\n",
       "    </tr>\n",
       "    <tr>\n",
       "      <th>19</th>\n",
       "      <td>Zebra finch</td>\n",
       "      <td>6</td>\n",
       "      <td>makecellmotifs: 18028 newline syllables: 65892END</td>\n",
       "      <td>makecellmotifs: 0.443 newline syllables: 0.105END</td>\n",
       "      <td>8799.9</td>\n",
       "      <td>18028</td>\n",
       "      <td>REFpearre2017fastEND</td>\n",
       "    </tr>\n",
       "    <tr>\n",
       "      <th>20</th>\n",
       "      <td>California thrasher</td>\n",
       "      <td>18</td>\n",
       "      <td>makecellsyllables: 15328END</td>\n",
       "      <td>makecellsyllables: 0.146END</td>\n",
       "      <td>19958.9</td>\n",
       "      <td>92</td>\n",
       "      <td>REFcody2016structure, arriaga2015birdEND</td>\n",
       "    </tr>\n",
       "    <tr>\n",
       "      <th>21</th>\n",
       "      <td>Giant otter</td>\n",
       "      <td>Unk.</td>\n",
       "      <td>makecellsyllables: 452END</td>\n",
       "      <td>makecellsyllables: 0.68END</td>\n",
       "      <td>390.4</td>\n",
       "      <td>452</td>\n",
       "      <td>REFmumm2014vocalEND</td>\n",
       "    </tr>\n",
       "    <tr>\n",
       "      <th>22</th>\n",
       "      <td>Egyptian fruit bat</td>\n",
       "      <td>83</td>\n",
       "      <td>makecellsyllables: 423043END</td>\n",
       "      <td>makecellsyllables: 0.042END</td>\n",
       "      <td>166676.8</td>\n",
       "      <td>83823</td>\n",
       "      <td>REFprat2017annotated, prattaubprattyovel2017END</td>\n",
       "    </tr>\n",
       "    <tr>\n",
       "      <th>23</th>\n",
       "      <td>Bengalese finch</td>\n",
       "      <td>11</td>\n",
       "      <td>makecellnotes: 214915END</td>\n",
       "      <td>makecellnotes: 0.089END</td>\n",
       "      <td>35365.9</td>\n",
       "      <td>2964</td>\n",
       "      <td>REFkoumura2016automatic, Koumura2016END</td>\n",
       "    </tr>\n",
       "    <tr>\n",
       "      <th>24</th>\n",
       "      <td>Humpback whale</td>\n",
       "      <td>Unk.</td>\n",
       "      <td>makecellsyllables: 2006END</td>\n",
       "      <td>makecellsyllables: 1.65END</td>\n",
       "      <td>6730.8</td>\n",
       "      <td>13</td>\n",
       "      <td>REFmellinger2006mobysoundEND</td>\n",
       "    </tr>\n",
       "    <tr>\n",
       "      <th>25</th>\n",
       "      <td>Swamp sparrow</td>\n",
       "      <td>616</td>\n",
       "      <td>makecellelements: 97513END</td>\n",
       "      <td>makecellelements: 0.021END</td>\n",
       "      <td>4571.1</td>\n",
       "      <td>1867</td>\n",
       "      <td>REFlachlan2018cultural, Lachlan2018END</td>\n",
       "    </tr>\n",
       "    <tr>\n",
       "      <th>26</th>\n",
       "      <td>Human (English)</td>\n",
       "      <td>40</td>\n",
       "      <td>makecellwords: 283721 newline phones: 837896END</td>\n",
       "      <td>makecellwords: 0.205 newline phones: 0.069END</td>\n",
       "      <td>135708.4</td>\n",
       "      <td>254</td>\n",
       "      <td>REFpitt2007buckeyeEND</td>\n",
       "    </tr>\n",
       "    <tr>\n",
       "      <th>27</th>\n",
       "      <td>Bengalese finch</td>\n",
       "      <td>4</td>\n",
       "      <td>makecellsyllables: 215480END</td>\n",
       "      <td>makecellsyllables: 0.065END</td>\n",
       "      <td>40205.6</td>\n",
       "      <td>2663</td>\n",
       "      <td>REFNicholson2017END</td>\n",
       "    </tr>\n",
       "    <tr>\n",
       "      <th>28</th>\n",
       "      <td>Gibbon</td>\n",
       "      <td>Unk.</td>\n",
       "      <td>makecellsyllables: 10333END</td>\n",
       "      <td>makecellsyllables: 2.96END</td>\n",
       "      <td>230400.0</td>\n",
       "      <td>128</td>\n",
       "      <td>REFmorita2019superregularEND</td>\n",
       "    </tr>\n",
       "    <tr>\n",
       "      <th>29</th>\n",
       "      <td>Cassin's vireo</td>\n",
       "      <td>48</td>\n",
       "      <td>makecellsyllables: 67316END</td>\n",
       "      <td>makecellsyllables: 0.332END</td>\n",
       "      <td>434782.4</td>\n",
       "      <td>422</td>\n",
       "      <td>REFhedley2016complexity, arriaga2015birdEND</td>\n",
       "    </tr>\n",
       "    <tr>\n",
       "      <th>30</th>\n",
       "      <td>Mouse</td>\n",
       "      <td>4</td>\n",
       "      <td>makecellsyllables: 34124END</td>\n",
       "      <td>makecellsyllables: 0.018END</td>\n",
       "      <td>25277.0</td>\n",
       "      <td>133</td>\n",
       "      <td>REFcastellucci2018temporalEND</td>\n",
       "    </tr>\n",
       "  </tbody>\n",
       "</table>\n",
       "</div>"
      ],
      "text/plain": [
       "                   Species # Indv.  \\\n",
       "0   Canary                  5        \n",
       "1   Song sparrow            Unk.     \n",
       "2   Marsh wren              Unk.     \n",
       "3   Indigo bunting          Unk.     \n",
       "4   House finch             Unk.     \n",
       "5   Great blue heron        Unk.     \n",
       "6   Common yellowthroat     Unk.     \n",
       "7   Chipping sparrow        Unk.     \n",
       "8   Cedar waxwind           Unk.     \n",
       "9   Blue jay                Unk.     \n",
       "10  Yellow warbler          Unk.     \n",
       "11  American crow           Unk.     \n",
       "12  Gervais's beaked whale  Unk.     \n",
       "13  Curvier's beajed whale  Unk.     \n",
       "14  Common marmoset         33       \n",
       "15  Zebra finch             46       \n",
       "16  Macaque                 8        \n",
       "17  European starling       7        \n",
       "18  White-rumped munia      44       \n",
       "19  Zebra finch             6        \n",
       "20  California thrasher     18       \n",
       "21  Giant otter             Unk.     \n",
       "22  Egyptian fruit bat      83       \n",
       "23  Bengalese finch         11       \n",
       "24  Humpback whale          Unk.     \n",
       "25  Swamp sparrow           616      \n",
       "26  Human (English)         40       \n",
       "27  Bengalese finch         4        \n",
       "28  Gibbon                  Unk.     \n",
       "29  Cassin's vireo          48       \n",
       "30  Mouse                   4        \n",
       "\n",
       "                                             # Elements  \\\n",
       "0   makecellphrases: 22167 newline syllables: 497338END   \n",
       "1   makecellsyllables: 258END                             \n",
       "2   makecellsyllables: 248END                             \n",
       "3   makecellsyllables: 251END                             \n",
       "4   makecellsyllables: 248END                             \n",
       "5   makecellsyllables: 246END                             \n",
       "6   makecellsyllables: 255END                             \n",
       "7   makecellsyllables: 252END                             \n",
       "8   makecellsyllables: 245END                             \n",
       "9   makecellsyllables: 250END                             \n",
       "10  makecellsyllables: 246END                             \n",
       "11  makecellsyllables: 252END                             \n",
       "12  makecellclicks: 1936END                               \n",
       "13  makecellclicks: 2237END                               \n",
       "14  makecellcalls: 14289END                               \n",
       "15  makecellelements: 3347END                             \n",
       "16  makecellcoos: 7284END                                 \n",
       "17  makecellsyllables: 164230END                          \n",
       "18  makecellsyllables: 109851END                          \n",
       "19  makecellmotifs: 18028 newline syllables: 65892END     \n",
       "20  makecellsyllables: 15328END                           \n",
       "21  makecellsyllables: 452END                             \n",
       "22  makecellsyllables: 423043END                          \n",
       "23  makecellnotes: 214915END                              \n",
       "24  makecellsyllables: 2006END                            \n",
       "25  makecellelements: 97513END                            \n",
       "26  makecellwords: 283721 newline phones: 837896END       \n",
       "27  makecellsyllables: 215480END                          \n",
       "28  makecellsyllables: 10333END                           \n",
       "29  makecellsyllables: 67316END                           \n",
       "30  makecellsyllables: 34124END                           \n",
       "\n",
       "                                      Median len. (s)  Total length (s)  \\\n",
       "0   makecellphrases: 1.319 newline syllables: 0.04END  36986.9            \n",
       "1   makecellsyllables: 0.105END                        32.8               \n",
       "2   makecellsyllables: 0.09END                         23.8               \n",
       "3   makecellsyllables: 0.135END                        36.0               \n",
       "4   makecellsyllables: 0.093END                        25.9               \n",
       "5   makecellsyllables: 0.138END                        44.1               \n",
       "6   makecellsyllables: 0.1END                          35.4               \n",
       "7   makecellsyllables: 0.09END                         24.9               \n",
       "8   makecellsyllables: 0.425END                        116.0              \n",
       "9   makecellsyllables: 0.47END                         141.2              \n",
       "10  makecellsyllables: 0.078END                        21.4               \n",
       "11  makecellsyllables: 0.37END                         100.5              \n",
       "12  makecellclicks: 0.001END                           2.0                \n",
       "13  makecellclicks: 0.001END                           2.3                \n",
       "14  makecellcalls: 1.084END                            76400.7            \n",
       "15  makecellelements: 0.153END                         1365.0             \n",
       "16  makecellcoos: 0.324END                             2550.9             \n",
       "17  makecellsyllables: 0.577END                        194529.9           \n",
       "18  makecellsyllables: 0.05END                         17118.5            \n",
       "19  makecellmotifs: 0.443 newline syllables: 0.105END  8799.9             \n",
       "20  makecellsyllables: 0.146END                        19958.9            \n",
       "21  makecellsyllables: 0.68END                         390.4              \n",
       "22  makecellsyllables: 0.042END                        166676.8           \n",
       "23  makecellnotes: 0.089END                            35365.9            \n",
       "24  makecellsyllables: 1.65END                         6730.8             \n",
       "25  makecellelements: 0.021END                         4571.1             \n",
       "26  makecellwords: 0.205 newline phones: 0.069END      135708.4           \n",
       "27  makecellsyllables: 0.065END                        40205.6            \n",
       "28  makecellsyllables: 2.96END                         230400.0           \n",
       "29  makecellsyllables: 0.332END                        434782.4           \n",
       "30  makecellsyllables: 0.018END                        25277.0            \n",
       "\n",
       "   # Rec.                                              References  \n",
       "0   2320   REFmarkowitz2013longEND                                 \n",
       "1   258    REFzhao2017automated, zhaozhao20181250690END            \n",
       "2   248    REFzhao2017automated, zhaozhao20181250690END            \n",
       "3   251    REFzhao2017automated, zhaozhao20181250690END            \n",
       "4   248    REFzhao2017automated, zhaozhao20181250690END            \n",
       "5   246    REFzhao2017automated, zhaozhao20181250690END            \n",
       "6   255    REFzhao2017automated, zhaozhao20181250690END            \n",
       "7   252    REFzhao2017automated, zhaozhao20181250690END            \n",
       "8   245    REFzhao2017automated, zhaozhao20181250690END            \n",
       "9   250    REFzhao2017automated, zhaozhao20181250690END            \n",
       "10  246    REFzhao2017automated, zhaozhao20181250690END            \n",
       "11  252    REFzhao2017automated, zhaozhao20181250690END            \n",
       "12  1936   REFhildebrand2015passive, BeakedWhaleClassificationEND  \n",
       "13  2237   REFhildebrand2015passive, BeakedWhaleClassificationEND  \n",
       "14  768    REFmiller2010communicativeEND                           \n",
       "15  3347   REFelie2016vocal, elie2018zebraEND                      \n",
       "16  7284   REFfukushima2015distributed, Fukushima2016END           \n",
       "17  3805   REFarneodoEND                                           \n",
       "18  169    REFkatahira2013simpleEND                                \n",
       "19  18028  REFpearre2017fastEND                                    \n",
       "20  92     REFcody2016structure, arriaga2015birdEND                \n",
       "21  452    REFmumm2014vocalEND                                     \n",
       "22  83823  REFprat2017annotated, prattaubprattyovel2017END         \n",
       "23  2964   REFkoumura2016automatic, Koumura2016END                 \n",
       "24  13     REFmellinger2006mobysoundEND                            \n",
       "25  1867   REFlachlan2018cultural, Lachlan2018END                  \n",
       "26  254    REFpitt2007buckeyeEND                                   \n",
       "27  2663   REFNicholson2017END                                     \n",
       "28  128    REFmorita2019superregularEND                            \n",
       "29  422    REFhedley2016complexity, arriaga2015birdEND             \n",
       "30  133    REFcastellucci2018temporalEND                           "
      ]
     },
     "execution_count": 31,
     "metadata": {},
     "output_type": "execute_result"
    }
   ],
   "source": [
    "dataset_df[[\"Species\",\n",
    "            \"# Indv.\",\n",
    "            \"# Elements\",\n",
    "            \"Median len. (s)\",\n",
    "            \"Total length (s)\",\n",
    "            \"# Rec.\",\n",
    "            \"References\"]]"
   ]
  },
  {
   "cell_type": "code",
   "execution_count": 32,
   "metadata": {
    "ExecuteTime": {
     "end_time": "2019-11-14T16:32:02.791804Z",
     "start_time": "2019-11-14T16:32:02.705342Z"
    }
   },
   "outputs": [],
   "source": [
    "pd.set_option('display.max_colwidth', -1)"
   ]
  },
  {
   "cell_type": "code",
   "execution_count": 33,
   "metadata": {
    "ExecuteTime": {
     "end_time": "2019-11-14T16:32:03.812796Z",
     "start_time": "2019-11-14T16:32:03.730378Z"
    }
   },
   "outputs": [
    {
     "name": "stdout",
     "output_type": "stream",
     "text": [
      "\\begin{tabular}{llllrll}\n",
      "\\toprule\n",
      "                Species & \\# Indv. &                                           \\# Elements &                                    Median len. (s) &  Total length (s) & \\# Rec. &                                              References \\\\\n",
      "\\midrule\n",
      " American crow &  Unk. &  \\makecell{syllables: 252} &  \\makecell{syllables: 0.37} &  100.5 &  252 &  \\cite{zhao2017automated, zhaozhao20181250690} \\\\\n",
      " Bengalese finch &  4 &  \\makecell{syllables: 215480} &  \\makecell{syllables: 0.065} &  40205.6 &  2663 &  \\cite{Nicholson2017} \\\\\n",
      " Bengalese finch &  11 &  \\makecell{notes: 214915} &  \\makecell{notes: 0.089} &  35365.9 &  2964 &  \\cite{koumura2016automatic, Koumura2016} \\\\\n",
      " Blue jay &  Unk. &  \\makecell{syllables: 250} &  \\makecell{syllables: 0.47} &  141.2 &  250 &  \\cite{zhao2017automated, zhaozhao20181250690} \\\\\n",
      " California thrasher &  18 &  \\makecell{syllables: 15328} &  \\makecell{syllables: 0.146} &  19958.9 &  92 &  \\cite{cody2016structure, arriaga2015bird} \\\\\n",
      " Canary &  5 &  \\makecell{phrases: 22167 \\\\ syllables: 497338} &  \\makecell{phrases: 1.319 \\\\ syllables: 0.04} &  36986.9 &  2320 &  \\cite{markowitz2013long} \\\\\n",
      " Cassin's vireo &  48 &  \\makecell{syllables: 67316} &  \\makecell{syllables: 0.332} &  434782.4 &  422 &  \\cite{hedley2016complexity, arriaga2015bird} \\\\\n",
      " Cedar waxwind &  Unk. &  \\makecell{syllables: 245} &  \\makecell{syllables: 0.425} &  116.0 &  245 &  \\cite{zhao2017automated, zhaozhao20181250690} \\\\\n",
      " Chipping sparrow &  Unk. &  \\makecell{syllables: 252} &  \\makecell{syllables: 0.09} &  24.9 &  252 &  \\cite{zhao2017automated, zhaozhao20181250690} \\\\\n",
      " Common marmoset &  33 &  \\makecell{calls: 14289} &  \\makecell{calls: 1.084} &  76400.7 &  768 &  \\cite{miller2010communicative} \\\\\n",
      " Common yellowthroat &  Unk. &  \\makecell{syllables: 255} &  \\makecell{syllables: 0.1} &  35.4 &  255 &  \\cite{zhao2017automated, zhaozhao20181250690} \\\\\n",
      " Curvier's beajed whale &  Unk. &  \\makecell{clicks: 2237} &  \\makecell{clicks: 0.001} &  2.3 &  2237 &  \\cite{hildebrand2015passive, BeakedWhaleClassification} \\\\\n",
      " Egyptian fruit bat &  83 &  \\makecell{syllables: 423043} &  \\makecell{syllables: 0.042} &  166676.8 &  83823 &  \\cite{prat2017annotated, prattaubprattyovel2017} \\\\\n",
      " European starling &  7 &  \\makecell{syllables: 164230} &  \\makecell{syllables: 0.577} &  194529.9 &  3805 &  \\cite{arneodo} \\\\\n",
      " Gervais's beaked whale &  Unk. &  \\makecell{clicks: 1936} &  \\makecell{clicks: 0.001} &  2.0 &  1936 &  \\cite{hildebrand2015passive, BeakedWhaleClassification} \\\\\n",
      " Giant otter &  Unk. &  \\makecell{syllables: 452} &  \\makecell{syllables: 0.68} &  390.4 &  452 &  \\cite{mumm2014vocal} \\\\\n",
      " Gibbon &  Unk. &  \\makecell{syllables: 10333} &  \\makecell{syllables: 2.96} &  230400.0 &  128 &  \\cite{morita2019superregular} \\\\\n",
      " Great blue heron &  Unk. &  \\makecell{syllables: 246} &  \\makecell{syllables: 0.138} &  44.1 &  246 &  \\cite{zhao2017automated, zhaozhao20181250690} \\\\\n",
      " House finch &  Unk. &  \\makecell{syllables: 248} &  \\makecell{syllables: 0.093} &  25.9 &  248 &  \\cite{zhao2017automated, zhaozhao20181250690} \\\\\n",
      " Human (English) &  40 &  \\makecell{words: 283721 \\\\ phones: 837896} &  \\makecell{words: 0.205 \\\\ phones: 0.069} &  135708.4 &  254 &  \\cite{pitt2007buckeye} \\\\\n",
      " Humpback whale &  Unk. &  \\makecell{syllables: 2006} &  \\makecell{syllables: 1.65} &  6730.8 &  13 &  \\cite{mellinger2006mobysound} \\\\\n",
      " Indigo bunting &  Unk. &  \\makecell{syllables: 251} &  \\makecell{syllables: 0.135} &  36.0 &  251 &  \\cite{zhao2017automated, zhaozhao20181250690} \\\\\n",
      " Macaque &  8 &  \\makecell{coos: 7284} &  \\makecell{coos: 0.324} &  2550.9 &  7284 &  \\cite{fukushima2015distributed, Fukushima2016} \\\\\n",
      " Marsh wren &  Unk. &  \\makecell{syllables: 248} &  \\makecell{syllables: 0.09} &  23.8 &  248 &  \\cite{zhao2017automated, zhaozhao20181250690} \\\\\n",
      " Mouse &  4 &  \\makecell{syllables: 34124} &  \\makecell{syllables: 0.018} &  25277.0 &  133 &  \\cite{castellucci2018temporal} \\\\\n",
      " Song sparrow &  Unk. &  \\makecell{syllables: 258} &  \\makecell{syllables: 0.105} &  32.8 &  258 &  \\cite{zhao2017automated, zhaozhao20181250690} \\\\\n",
      " Swamp sparrow &  616 &  \\makecell{elements: 97513} &  \\makecell{elements: 0.021} &  4571.1 &  1867 &  \\cite{lachlan2018cultural, Lachlan2018} \\\\\n",
      " White-rumped munia &  44 &  \\makecell{syllables: 109851} &  \\makecell{syllables: 0.05} &  17118.5 &  169 &  \\cite{katahira2013simple} \\\\\n",
      " Yellow warbler &  Unk. &  \\makecell{syllables: 246} &  \\makecell{syllables: 0.078} &  21.4 &  246 &  \\cite{zhao2017automated, zhaozhao20181250690} \\\\\n",
      " Zebra finch &  6 &  \\makecell{motifs: 18028 \\\\ syllables: 65892} &  \\makecell{motifs: 0.443 \\\\ syllables: 0.105} &  8799.9 &  18028 &  \\cite{pearre2017fast} \\\\\n",
      " Zebra finch &  46 &  \\makecell{elements: 3347} &  \\makecell{elements: 0.153} &  1365.0 &  3347 &  \\cite{elie2016vocal, elie2018zebra} \\\\\n",
      "\\bottomrule\n",
      "\\end{tabular}\n",
      "\n"
     ]
    }
   ],
   "source": [
    "print(\n",
    "    dataset_df[\n",
    "        [\n",
    "            \"Species\",\n",
    "            \"# Indv.\",\n",
    "            \"# Elements\",\n",
    "            \"Median len. (s)\",\n",
    "            \"Total length (s)\",\n",
    "            \"# Rec.\",\n",
    "            \"References\",\n",
    "        ]\n",
    "    ].sort_values(by='Species')\n",
    "    .to_latex(index=False, bold_rows=True)\n",
    "    .replace(\"makecell\", \"\\makecell{\")\n",
    "    .replace(\"END\", \"}\")\n",
    "    .replace(\"newline\", \"\\\\\\\\\")\n",
    "    .replace('REF', '\\cite{')\n",
    ")"
   ]
  },
  {
   "cell_type": "code",
   "execution_count": null,
   "metadata": {},
   "outputs": [],
   "source": []
  },
  {
   "cell_type": "code",
   "execution_count": null,
   "metadata": {},
   "outputs": [],
   "source": []
  }
 ],
 "metadata": {
  "kernelspec": {
   "display_name": "Python 3",
   "language": "python",
   "name": "python3"
  },
  "language_info": {
   "codemirror_mode": {
    "name": "ipython",
    "version": 3
   },
   "file_extension": ".py",
   "mimetype": "text/x-python",
   "name": "python",
   "nbconvert_exporter": "python",
   "pygments_lexer": "ipython3",
   "version": "3.6.7"
  }
 },
 "nbformat": 4,
 "nbformat_minor": 2
}
