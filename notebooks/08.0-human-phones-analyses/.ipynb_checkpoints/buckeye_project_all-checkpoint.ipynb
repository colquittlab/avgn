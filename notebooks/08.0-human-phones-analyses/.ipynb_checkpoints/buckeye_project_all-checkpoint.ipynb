{
 "cells": [
  {
   "cell_type": "code",
   "execution_count": 11,
   "metadata": {
    "ExecuteTime": {
     "end_time": "2019-11-08T23:25:04.509816Z",
     "start_time": "2019-11-08T23:25:04.473343Z"
    }
   },
   "outputs": [
    {
     "name": "stdout",
     "output_type": "stream",
     "text": [
      "The autoreload extension is already loaded. To reload it, use:\n",
      "  %reload_ext autoreload\n"
     ]
    }
   ],
   "source": [
    "%load_ext autoreload\n",
    "%autoreload 2\n",
    "%env CUDA_DEVICE_ORDER=PCI_BUS_ID\n",
    "%env CUDA_VISIBLE_DEVICES=2"
   ]
  },
  {
   "cell_type": "code",
   "execution_count": null,
   "metadata": {},
   "outputs": [],
   "source": [
    "from cuml.manifold.umap import UMAP as cumlUMAP"
   ]
  },
  {
   "cell_type": "code",
   "execution_count": 12,
   "metadata": {
    "ExecuteTime": {
     "end_time": "2019-11-08T23:25:18.665922Z",
     "start_time": "2019-11-08T23:25:18.594934Z"
    }
   },
   "outputs": [],
   "source": [
    "import numpy as np\n",
    "import matplotlib.pyplot as plt\n",
    "%matplotlib inline\n",
    "from tqdm.autonotebook import tqdm\n",
    "from joblib import Parallel, delayed\n",
    "import umap\n",
    "import pandas as pd"
   ]
  },
  {
   "cell_type": "code",
   "execution_count": 23,
   "metadata": {
    "ExecuteTime": {
     "end_time": "2019-11-08T23:26:12.393952Z",
     "start_time": "2019-11-08T23:26:12.066738Z"
    }
   },
   "outputs": [],
   "source": [
    "from avgn.utils.paths import DATA_DIR, most_recent_subdirectory, ensure_dir\n",
    "from avgn.visualization.spectrogram import draw_spec_set\n",
    "from avgn.utils.buckeye_utils import VOWEL_CONSONANT\n",
    "from avgn.signalprocessing.create_spectrogram_dataset import flatten_spectrograms\n"
   ]
  },
  {
   "cell_type": "markdown",
   "metadata": {},
   "source": [
    "### load data"
   ]
  },
  {
   "cell_type": "code",
   "execution_count": 14,
   "metadata": {
    "ExecuteTime": {
     "end_time": "2019-11-08T23:25:19.736426Z",
     "start_time": "2019-11-08T23:25:19.675979Z"
    }
   },
   "outputs": [],
   "source": [
    "DATASET_ID = 'buckeye'"
   ]
  },
  {
   "cell_type": "code",
   "execution_count": 15,
   "metadata": {
    "ExecuteTime": {
     "end_time": "2019-11-08T23:25:20.099520Z",
     "start_time": "2019-11-08T23:25:20.035067Z"
    }
   },
   "outputs": [
    {
     "data": {
      "text/plain": [
       "PosixPath('/local/home/tsainbur/github_repos/avgn_paper/data/syllable_dfs/buckeye/phones_uniform_32.pickle')"
      ]
     },
     "execution_count": 15,
     "metadata": {},
     "output_type": "execute_result"
    }
   ],
   "source": [
    "df_loc = DATA_DIR / 'syllable_dfs' / DATASET_ID / 'phones_uniform_32.pickle'\n",
    "df_loc"
   ]
  },
  {
   "cell_type": "code",
   "execution_count": 16,
   "metadata": {
    "ExecuteTime": {
     "end_time": "2019-11-08T23:25:23.946130Z",
     "start_time": "2019-11-08T23:25:20.408568Z"
    }
   },
   "outputs": [],
   "source": [
    "syllable_df = pd.read_pickle(df_loc)"
   ]
  },
  {
   "cell_type": "code",
   "execution_count": 17,
   "metadata": {
    "ExecuteTime": {
     "end_time": "2019-11-08T23:25:27.364521Z",
     "start_time": "2019-11-08T23:25:27.027860Z"
    }
   },
   "outputs": [
    {
     "data": {
      "text/html": [
       "<div>\n",
       "<style scoped>\n",
       "    .dataframe tbody tr th:only-of-type {\n",
       "        vertical-align: middle;\n",
       "    }\n",
       "\n",
       "    .dataframe tbody tr th {\n",
       "        vertical-align: top;\n",
       "    }\n",
       "\n",
       "    .dataframe thead th {\n",
       "        text-align: right;\n",
       "    }\n",
       "</style>\n",
       "<table border=\"1\" class=\"dataframe\">\n",
       "  <thead>\n",
       "    <tr style=\"text-align: right;\">\n",
       "      <th></th>\n",
       "      <th>start_time</th>\n",
       "      <th>end_time</th>\n",
       "      <th>labels</th>\n",
       "      <th>word</th>\n",
       "      <th>utterance_number</th>\n",
       "      <th>position_in_utterance</th>\n",
       "      <th>position_in_word</th>\n",
       "      <th>word_number</th>\n",
       "      <th>indv</th>\n",
       "      <th>indvi</th>\n",
       "      <th>age</th>\n",
       "      <th>sex</th>\n",
       "      <th>key</th>\n",
       "      <th>rate</th>\n",
       "      <th>spectrogram</th>\n",
       "    </tr>\n",
       "  </thead>\n",
       "  <tbody>\n",
       "    <tr>\n",
       "      <th>0</th>\n",
       "      <td>24.457298</td>\n",
       "      <td>24.722471</td>\n",
       "      <td>ah</td>\n",
       "      <td>uh</td>\n",
       "      <td>0</td>\n",
       "      <td>0</td>\n",
       "      <td>0</td>\n",
       "      <td>0</td>\n",
       "      <td>s25</td>\n",
       "      <td>0</td>\n",
       "      <td>o</td>\n",
       "      <td>f</td>\n",
       "      <td>s2501b</td>\n",
       "      <td>16000</td>\n",
       "      <td>[[0, 0, 0, 0, 0, 1, 0, 19, 97, 138, 152, 160, ...</td>\n",
       "    </tr>\n",
       "    <tr>\n",
       "      <th>1</th>\n",
       "      <td>24.722471</td>\n",
       "      <td>24.792000</td>\n",
       "      <td>ih</td>\n",
       "      <td>it's</td>\n",
       "      <td>1</td>\n",
       "      <td>1</td>\n",
       "      <td>0</td>\n",
       "      <td>1</td>\n",
       "      <td>s25</td>\n",
       "      <td>0</td>\n",
       "      <td>o</td>\n",
       "      <td>f</td>\n",
       "      <td>s2501b</td>\n",
       "      <td>16000</td>\n",
       "      <td>[[195, 168, 157, 159, 157, 156, 159, 157, 155,...</td>\n",
       "    </tr>\n",
       "    <tr>\n",
       "      <th>2</th>\n",
       "      <td>24.792000</td>\n",
       "      <td>24.847660</td>\n",
       "      <td>t</td>\n",
       "      <td>it's</td>\n",
       "      <td>2</td>\n",
       "      <td>1</td>\n",
       "      <td>1</td>\n",
       "      <td>1</td>\n",
       "      <td>s25</td>\n",
       "      <td>0</td>\n",
       "      <td>o</td>\n",
       "      <td>f</td>\n",
       "      <td>s2501b</td>\n",
       "      <td>16000</td>\n",
       "      <td>[[235, 216, 198, 187, 172, 158, 146, 128, 105,...</td>\n",
       "    </tr>\n",
       "  </tbody>\n",
       "</table>\n",
       "</div>"
      ],
      "text/plain": [
       "   start_time   end_time labels  word  utterance_number  \\\n",
       "0   24.457298  24.722471     ah    uh                 0   \n",
       "1   24.722471  24.792000     ih  it's                 1   \n",
       "2   24.792000  24.847660      t  it's                 2   \n",
       "\n",
       "   position_in_utterance  position_in_word  word_number indv  indvi age sex  \\\n",
       "0                      0                 0            0  s25      0   o   f   \n",
       "1                      1                 0            1  s25      0   o   f   \n",
       "2                      1                 1            1  s25      0   o   f   \n",
       "\n",
       "      key   rate                                        spectrogram  \n",
       "0  s2501b  16000  [[0, 0, 0, 0, 0, 1, 0, 19, 97, 138, 152, 160, ...  \n",
       "1  s2501b  16000  [[195, 168, 157, 159, 157, 156, 159, 157, 155,...  \n",
       "2  s2501b  16000  [[235, 216, 198, 187, 172, 158, 146, 128, 105,...  "
      ]
     },
     "execution_count": 17,
     "metadata": {},
     "output_type": "execute_result"
    }
   ],
   "source": [
    "syllable_df[:3]"
   ]
  },
  {
   "cell_type": "code",
   "execution_count": 18,
   "metadata": {
    "ExecuteTime": {
     "end_time": "2019-11-08T23:25:30.334055Z",
     "start_time": "2019-11-08T23:25:28.132999Z"
    }
   },
   "outputs": [
    {
     "data": {
      "text/html": [
       "<div>\n",
       "<style scoped>\n",
       "    .dataframe tbody tr th:only-of-type {\n",
       "        vertical-align: middle;\n",
       "    }\n",
       "\n",
       "    .dataframe tbody tr th {\n",
       "        vertical-align: top;\n",
       "    }\n",
       "\n",
       "    .dataframe thead th {\n",
       "        text-align: right;\n",
       "    }\n",
       "</style>\n",
       "<table border=\"1\" class=\"dataframe\">\n",
       "  <thead>\n",
       "    <tr style=\"text-align: right;\">\n",
       "      <th></th>\n",
       "      <th>s25</th>\n",
       "      <th>s08</th>\n",
       "      <th>s24</th>\n",
       "      <th>s40</th>\n",
       "      <th>s15</th>\n",
       "      <th>s17</th>\n",
       "      <th>s13</th>\n",
       "      <th>s16</th>\n",
       "      <th>s26</th>\n",
       "      <th>s35</th>\n",
       "      <th>...</th>\n",
       "      <th>s32</th>\n",
       "      <th>s01</th>\n",
       "      <th>s14</th>\n",
       "      <th>s28</th>\n",
       "      <th>s29</th>\n",
       "      <th>s31</th>\n",
       "      <th>s39</th>\n",
       "      <th>s04</th>\n",
       "      <th>s33</th>\n",
       "      <th>s21</th>\n",
       "    </tr>\n",
       "  </thead>\n",
       "  <tbody>\n",
       "    <tr>\n",
       "      <th>0</th>\n",
       "      <td>25202</td>\n",
       "      <td>22740</td>\n",
       "      <td>20594</td>\n",
       "      <td>20875</td>\n",
       "      <td>24782</td>\n",
       "      <td>15757</td>\n",
       "      <td>27232</td>\n",
       "      <td>34809</td>\n",
       "      <td>13275</td>\n",
       "      <td>26874</td>\n",
       "      <td>...</td>\n",
       "      <td>17189</td>\n",
       "      <td>14526</td>\n",
       "      <td>26115</td>\n",
       "      <td>20719</td>\n",
       "      <td>23643</td>\n",
       "      <td>15280</td>\n",
       "      <td>20782</td>\n",
       "      <td>19112</td>\n",
       "      <td>17679</td>\n",
       "      <td>13974</td>\n",
       "    </tr>\n",
       "  </tbody>\n",
       "</table>\n",
       "<p>1 rows × 40 columns</p>\n",
       "</div>"
      ],
      "text/plain": [
       "     s25    s08    s24    s40    s15    s17    s13    s16    s26    s35  ...  \\\n",
       "0  25202  22740  20594  20875  24782  15757  27232  34809  13275  26874  ...   \n",
       "\n",
       "     s32    s01    s14    s28    s29    s31    s39    s04    s33    s21  \n",
       "0  17189  14526  26115  20719  23643  15280  20782  19112  17679  13974  \n",
       "\n",
       "[1 rows x 40 columns]"
      ]
     },
     "execution_count": 18,
     "metadata": {},
     "output_type": "execute_result"
    }
   ],
   "source": [
    "# individuals\n",
    "pd.DataFrame({i:[np.sum(syllable_df.indv == i)] for i in syllable_df.indv.unique()})"
   ]
  },
  {
   "cell_type": "code",
   "execution_count": 19,
   "metadata": {
    "ExecuteTime": {
     "end_time": "2019-11-08T23:25:36.733163Z",
     "start_time": "2019-11-08T23:25:32.446221Z"
    }
   },
   "outputs": [
    {
     "data": {
      "text/html": [
       "<div>\n",
       "<style scoped>\n",
       "    .dataframe tbody tr th:only-of-type {\n",
       "        vertical-align: middle;\n",
       "    }\n",
       "\n",
       "    .dataframe tbody tr th {\n",
       "        vertical-align: top;\n",
       "    }\n",
       "\n",
       "    .dataframe thead th {\n",
       "        text-align: right;\n",
       "    }\n",
       "</style>\n",
       "<table border=\"1\" class=\"dataframe\">\n",
       "  <thead>\n",
       "    <tr style=\"text-align: right;\">\n",
       "      <th></th>\n",
       "      <th>ah</th>\n",
       "      <th>ih</th>\n",
       "      <th>n</th>\n",
       "      <th>s</th>\n",
       "      <th>eh</th>\n",
       "      <th>t</th>\n",
       "      <th>iy</th>\n",
       "      <th>r</th>\n",
       "      <th>k</th>\n",
       "      <th>l</th>\n",
       "      <th>...</th>\n",
       "      <th>en</th>\n",
       "      <th>uh</th>\n",
       "      <th>sh</th>\n",
       "      <th>aw</th>\n",
       "      <th>ch</th>\n",
       "      <th>jh</th>\n",
       "      <th>el</th>\n",
       "      <th>em</th>\n",
       "      <th>zh</th>\n",
       "      <th>own</th>\n",
       "    </tr>\n",
       "  </thead>\n",
       "  <tbody>\n",
       "    <tr>\n",
       "      <th>0</th>\n",
       "      <td>70395</td>\n",
       "      <td>63002</td>\n",
       "      <td>49641</td>\n",
       "      <td>41791</td>\n",
       "      <td>36258</td>\n",
       "      <td>33962</td>\n",
       "      <td>33462</td>\n",
       "      <td>30467</td>\n",
       "      <td>27235</td>\n",
       "      <td>27012</td>\n",
       "      <td>...</td>\n",
       "      <td>6241</td>\n",
       "      <td>6056</td>\n",
       "      <td>5985</td>\n",
       "      <td>4934</td>\n",
       "      <td>4750</td>\n",
       "      <td>4525</td>\n",
       "      <td>4145</td>\n",
       "      <td>3003</td>\n",
       "      <td>1007</td>\n",
       "      <td>669</td>\n",
       "    </tr>\n",
       "  </tbody>\n",
       "</table>\n",
       "<p>1 rows × 45 columns</p>\n",
       "</div>"
      ],
      "text/plain": [
       "      ah     ih      n      s     eh      t     iy      r      k      l  ...  \\\n",
       "0  70395  63002  49641  41791  36258  33962  33462  30467  27235  27012  ...   \n",
       "\n",
       "     en    uh    sh    aw    ch    jh    el    em    zh  own  \n",
       "0  6241  6056  5985  4934  4750  4525  4145  3003  1007  669  \n",
       "\n",
       "[1 rows x 45 columns]"
      ]
     },
     "execution_count": 19,
     "metadata": {},
     "output_type": "execute_result"
    }
   ],
   "source": [
    "# most frequent_phones\n",
    "freq_phones = (\n",
    "    pd.DataFrame(\n",
    "        {i: [np.sum(syllable_df.labels == i)] for i in syllable_df.labels.unique()}\n",
    "    )\n",
    "    .T.sort_values(by=0, ascending=False)[:45]\n",
    "    .T\n",
    ")\n",
    "freq_phones"
   ]
  },
  {
   "cell_type": "code",
   "execution_count": 21,
   "metadata": {
    "ExecuteTime": {
     "end_time": "2019-11-08T23:25:55.171098Z",
     "start_time": "2019-11-08T23:25:54.884698Z"
    }
   },
   "outputs": [],
   "source": [
    "subset_df = syllable_df[\n",
    "    syllable_df.labels.isin(freq_phones.columns)\n",
    "]\n",
    "\n",
    "specs = flatten_spectrograms(list(subset_df.spectrogram.values))"
   ]
  },
  {
   "cell_type": "code",
   "execution_count": 24,
   "metadata": {
    "ExecuteTime": {
     "end_time": "2019-11-08T23:26:17.863643Z",
     "start_time": "2019-11-08T23:26:15.053625Z"
    }
   },
   "outputs": [
    {
     "data": {
      "text/plain": [
       "(834134, 1024)"
      ]
     },
     "execution_count": 24,
     "metadata": {},
     "output_type": "execute_result"
    }
   ],
   "source": [
    "specs_flattened = flatten_spectrograms(specs)\n",
    "np.shape(specs_flattened)"
   ]
  },
  {
   "cell_type": "markdown",
   "metadata": {},
   "source": [
    "#### cluster and plot"
   ]
  },
  {
   "cell_type": "code",
   "execution_count": null,
   "metadata": {},
   "outputs": [],
   "source": [
    "cuml_umap = cumlUMAP()"
   ]
  },
  {
   "cell_type": "code",
   "execution_count": 18,
   "metadata": {
    "ExecuteTime": {
     "end_time": "2019-10-11T22:36:57.709777Z",
     "start_time": "2019-10-11T22:34:02.848981Z"
    }
   },
   "outputs": [
    {
     "name": "stderr",
     "output_type": "stream",
     "text": [
      "/mnt/cube/tsainbur/conda_envs/tpy3/lib/python3.6/site-packages/ipykernel_launcher.py:1: UserWarning: Parameter should_downcast is deprecated, use convert_dtype in fit, fit_transform and transform  methods instead. \n",
      "  \"\"\"Entry point for launching an IPython kernel.\n",
      "/mnt/cube/tsainbur/conda_envs/tpy3/lib/python3.6/site-packages/ipykernel_launcher.py:2: UserWarning: Parameter should_downcast is deprecated, use convert_dtype in fit, fit_transform and transform  methods instead. \n",
      "  \n"
     ]
    }
   ],
   "source": [
    "embedding = cuml_umap.fit_transform(specs_flattened)\n",
    "np.shape(embedding)"
   ]
  },
  {
   "cell_type": "code",
   "execution_count": 20,
   "metadata": {
    "ExecuteTime": {
     "end_time": "2019-10-11T22:36:58.719444Z",
     "start_time": "2019-10-11T22:36:58.632196Z"
    }
   },
   "outputs": [
    {
     "data": {
      "text/plain": [
       "(837207, 2)"
      ]
     },
     "execution_count": 20,
     "metadata": {},
     "output_type": "execute_result"
    }
   ],
   "source": []
  },
  {
   "cell_type": "code",
   "execution_count": 21,
   "metadata": {
    "ExecuteTime": {
     "end_time": "2019-10-11T22:36:59.369655Z",
     "start_time": "2019-10-11T22:36:58.723151Z"
    }
   },
   "outputs": [],
   "source": [
    "z  = list(embedding)"
   ]
  },
  {
   "cell_type": "code",
   "execution_count": 22,
   "metadata": {
    "ExecuteTime": {
     "end_time": "2019-10-11T22:37:02.479217Z",
     "start_time": "2019-10-11T22:36:59.400242Z"
    }
   },
   "outputs": [],
   "source": [
    "z = np.vstack(z)"
   ]
  },
  {
   "cell_type": "code",
   "execution_count": null,
   "metadata": {},
   "outputs": [],
   "source": []
  }
 ],
 "metadata": {
  "kernelspec": {
   "display_name": "Python 3",
   "language": "python",
   "name": "python3"
  },
  "language_info": {
   "codemirror_mode": {
    "name": "ipython",
    "version": 3
   },
   "file_extension": ".py",
   "mimetype": "text/x-python",
   "name": "python",
   "nbconvert_exporter": "python",
   "pygments_lexer": "ipython3",
   "version": "3.6.7"
  }
 },
 "nbformat": 4,
 "nbformat_minor": 2
}
