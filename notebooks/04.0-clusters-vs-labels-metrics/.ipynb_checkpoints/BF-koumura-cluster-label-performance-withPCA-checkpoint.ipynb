{
 "cells": [
  {
   "cell_type": "code",
   "execution_count": 1,
   "metadata": {
    "ExecuteTime": {
     "end_time": "2020-03-09T22:44:40.714906Z",
     "start_time": "2020-03-09T22:44:40.709349Z"
    }
   },
   "outputs": [
    {
     "name": "stdout",
     "output_type": "stream",
     "text": [
      "env: CUDA_DEVICE_ORDER=PCI_BUS_ID\n",
      "env: CUDA_VISIBLE_DEVICES=0\n"
     ]
    }
   ],
   "source": [
    "%env CUDA_DEVICE_ORDER=PCI_BUS_ID\n",
    "%env CUDA_VISIBLE_DEVICES=0"
   ]
  },
  {
   "cell_type": "code",
   "execution_count": 2,
   "metadata": {
    "ExecuteTime": {
     "end_time": "2020-03-09T22:44:40.735251Z",
     "start_time": "2020-03-09T22:44:40.717668Z"
    }
   },
   "outputs": [],
   "source": [
    "%load_ext autoreload\n",
    "%autoreload 2"
   ]
  },
  {
   "cell_type": "code",
   "execution_count": 3,
   "metadata": {
    "ExecuteTime": {
     "end_time": "2020-03-09T22:44:43.907643Z",
     "start_time": "2020-03-09T22:44:40.736275Z"
    }
   },
   "outputs": [
    {
     "name": "stderr",
     "output_type": "stream",
     "text": [
      "/mnt/cube/tsainbur/conda_envs/tpy3/lib/python3.6/site-packages/tqdm/autonotebook/__init__.py:14: TqdmExperimentalWarning: Using `tqdm.autonotebook.tqdm` in notebook mode. Use `tqdm.tqdm` instead to force console mode (e.g. in jupyter console)\n",
      "  \" (e.g. in jupyter console)\", TqdmExperimentalWarning)\n"
     ]
    }
   ],
   "source": [
    "import numpy as np\n",
    "import matplotlib.pyplot as plt\n",
    "%matplotlib inline\n",
    "from tqdm.autonotebook import tqdm\n",
    "from joblib import Parallel, delayed\n",
    "import umap\n",
    "import pandas as pd"
   ]
  },
  {
   "cell_type": "code",
   "execution_count": 4,
   "metadata": {
    "ExecuteTime": {
     "end_time": "2020-03-09T22:44:44.432734Z",
     "start_time": "2020-03-09T22:44:43.909854Z"
    }
   },
   "outputs": [],
   "source": [
    "from avgn.utils.paths import DATA_DIR, most_recent_subdirectory, ensure_dir\n",
    "from avgn.signalprocessing.create_spectrogram_dataset import flatten_spectrograms\n",
    "from avgn.visualization.spectrogram import draw_spec_set\n",
    "from avgn.visualization.quickplots import draw_projection_plots"
   ]
  },
  {
   "cell_type": "markdown",
   "metadata": {},
   "source": [
    "### Collect data"
   ]
  },
  {
   "cell_type": "code",
   "execution_count": 5,
   "metadata": {
    "ExecuteTime": {
     "end_time": "2020-03-09T22:44:44.459859Z",
     "start_time": "2020-03-09T22:44:44.437069Z"
    }
   },
   "outputs": [],
   "source": [
    "DATASET_ID = 'koumura_bengalese_finch'"
   ]
  },
  {
   "cell_type": "code",
   "execution_count": 6,
   "metadata": {
    "ExecuteTime": {
     "end_time": "2020-03-09T22:44:44.478442Z",
     "start_time": "2020-03-09T22:44:44.461318Z"
    }
   },
   "outputs": [],
   "source": [
    "from avgn.visualization.projections import (\n",
    "    scatter_projections,\n",
    "    draw_projection_transitions,\n",
    ")"
   ]
  },
  {
   "cell_type": "code",
   "execution_count": 7,
   "metadata": {
    "ExecuteTime": {
     "end_time": "2020-03-09T22:44:44.500851Z",
     "start_time": "2020-03-09T22:44:44.479941Z"
    }
   },
   "outputs": [
    {
     "data": {
      "text/plain": [
       "PosixPath('/mnt/cube/tsainbur/Projects/github_repos/avgn_paper/data/syllable_dfs/koumura_bengalese_finch/bf.pickle')"
      ]
     },
     "execution_count": 7,
     "metadata": {},
     "output_type": "execute_result"
    }
   ],
   "source": [
    "df_loc =  DATA_DIR / 'syllable_dfs' / DATASET_ID / 'bf.pickle'\n",
    "df_loc"
   ]
  },
  {
   "cell_type": "code",
   "execution_count": 8,
   "metadata": {
    "ExecuteTime": {
     "end_time": "2020-03-09T22:44:45.042649Z",
     "start_time": "2020-03-09T22:44:44.502206Z"
    }
   },
   "outputs": [],
   "source": [
    "syllable_df = pd.read_pickle(df_loc)"
   ]
  },
  {
   "cell_type": "code",
   "execution_count": 9,
   "metadata": {
    "ExecuteTime": {
     "end_time": "2020-03-09T22:44:45.114711Z",
     "start_time": "2020-03-09T22:44:45.044733Z"
    }
   },
   "outputs": [
    {
     "data": {
      "text/html": [
       "<div>\n",
       "<style scoped>\n",
       "    .dataframe tbody tr th:only-of-type {\n",
       "        vertical-align: middle;\n",
       "    }\n",
       "\n",
       "    .dataframe tbody tr th {\n",
       "        vertical-align: top;\n",
       "    }\n",
       "\n",
       "    .dataframe thead th {\n",
       "        text-align: right;\n",
       "    }\n",
       "</style>\n",
       "<table border=\"1\" class=\"dataframe\">\n",
       "  <thead>\n",
       "    <tr style=\"text-align: right;\">\n",
       "      <th></th>\n",
       "      <th>start_time</th>\n",
       "      <th>end_time</th>\n",
       "      <th>labels</th>\n",
       "      <th>sequence_num</th>\n",
       "      <th>indv</th>\n",
       "      <th>indvi</th>\n",
       "      <th>key</th>\n",
       "      <th>rate</th>\n",
       "      <th>spectrogram</th>\n",
       "    </tr>\n",
       "  </thead>\n",
       "  <tbody>\n",
       "    <tr>\n",
       "      <th>0</th>\n",
       "      <td>1.158</td>\n",
       "      <td>1.249</td>\n",
       "      <td>0</td>\n",
       "      <td>0</td>\n",
       "      <td>Bird3</td>\n",
       "      <td>0</td>\n",
       "      <td>Bird3_322</td>\n",
       "      <td>32000</td>\n",
       "      <td>[[0, 0, 0, 110, 190, 203, 216, 217, 216, 219, ...</td>\n",
       "    </tr>\n",
       "    <tr>\n",
       "      <th>1</th>\n",
       "      <td>1.323</td>\n",
       "      <td>1.404</td>\n",
       "      <td>0</td>\n",
       "      <td>0</td>\n",
       "      <td>Bird3</td>\n",
       "      <td>0</td>\n",
       "      <td>Bird3_322</td>\n",
       "      <td>32000</td>\n",
       "      <td>[[0, 0, 0, 54, 164, 182, 187, 191, 196, 196, 1...</td>\n",
       "    </tr>\n",
       "    <tr>\n",
       "      <th>2</th>\n",
       "      <td>1.530</td>\n",
       "      <td>1.564</td>\n",
       "      <td>0</td>\n",
       "      <td>0</td>\n",
       "      <td>Bird3</td>\n",
       "      <td>0</td>\n",
       "      <td>Bird3_322</td>\n",
       "      <td>32000</td>\n",
       "      <td>[[0, 0, 0, 0, 0, 106, 100, 181, 209, 202, 196,...</td>\n",
       "    </tr>\n",
       "  </tbody>\n",
       "</table>\n",
       "</div>"
      ],
      "text/plain": [
       "   start_time  end_time labels  sequence_num   indv  indvi        key   rate  \\\n",
       "0       1.158     1.249      0             0  Bird3      0  Bird3_322  32000   \n",
       "1       1.323     1.404      0             0  Bird3      0  Bird3_322  32000   \n",
       "2       1.530     1.564      0             0  Bird3      0  Bird3_322  32000   \n",
       "\n",
       "                                         spectrogram  \n",
       "0  [[0, 0, 0, 110, 190, 203, 216, 217, 216, 219, ...  \n",
       "1  [[0, 0, 0, 54, 164, 182, 187, 191, 196, 196, 1...  \n",
       "2  [[0, 0, 0, 0, 0, 106, 100, 181, 209, 202, 196,...  "
      ]
     },
     "execution_count": 9,
     "metadata": {},
     "output_type": "execute_result"
    }
   ],
   "source": [
    "syllable_df[:3]"
   ]
  },
  {
   "cell_type": "code",
   "execution_count": 10,
   "metadata": {
    "ExecuteTime": {
     "end_time": "2020-03-09T22:44:45.141374Z",
     "start_time": "2020-03-09T22:44:45.116855Z"
    }
   },
   "outputs": [
    {
     "data": {
      "text/plain": [
       "214925"
      ]
     },
     "execution_count": 10,
     "metadata": {},
     "output_type": "execute_result"
    }
   ],
   "source": [
    "len(syllable_df)"
   ]
  },
  {
   "cell_type": "code",
   "execution_count": 11,
   "metadata": {
    "ExecuteTime": {
     "end_time": "2020-03-09T22:44:45.163138Z",
     "start_time": "2020-03-09T22:44:45.142678Z"
    }
   },
   "outputs": [],
   "source": [
    "def norm(x):\n",
    "    return (x - np.min(x)) / (np.max(x) - np.min(x))"
   ]
  },
  {
   "cell_type": "markdown",
   "metadata": {},
   "source": [
    "### cluster"
   ]
  },
  {
   "cell_type": "code",
   "execution_count": 12,
   "metadata": {
    "ExecuteTime": {
     "end_time": "2020-03-09T22:44:45.182079Z",
     "start_time": "2020-03-09T22:44:45.164421Z"
    }
   },
   "outputs": [],
   "source": [
    "from avgn.visualization.projections import scatter_spec\n",
    "from avgn.utils.general import save_fig\n",
    "from avgn.utils.paths import FIGURE_DIR, ensure_dir"
   ]
  },
  {
   "cell_type": "code",
   "execution_count": 13,
   "metadata": {
    "ExecuteTime": {
     "end_time": "2020-03-09T22:44:45.504004Z",
     "start_time": "2020-03-09T22:44:45.183387Z"
    }
   },
   "outputs": [],
   "source": [
    "from cuml.manifold.umap import UMAP as cumlUMAP"
   ]
  },
  {
   "cell_type": "code",
   "execution_count": 14,
   "metadata": {
    "ExecuteTime": {
     "end_time": "2020-03-09T22:44:45.543248Z",
     "start_time": "2020-03-09T22:44:45.506661Z"
    }
   },
   "outputs": [
    {
     "name": "stderr",
     "output_type": "stream",
     "text": [
      "/mnt/cube/tsainbur/conda_envs/tpy3/lib/python3.6/site-packages/sklearn/externals/six.py:31: FutureWarning: The module is deprecated in version 0.21 and will be removed in version 0.23 since we've dropped support for Python 2.7. Please rely on the official version of six (https://pypi.org/project/six/).\n",
      "  \"(https://pypi.org/project/six/).\", FutureWarning)\n",
      "/mnt/cube/tsainbur/conda_envs/tpy3/lib/python3.6/site-packages/sklearn/externals/joblib/__init__.py:15: FutureWarning: sklearn.externals.joblib is deprecated in 0.21 and will be removed in 0.23. Please import this functionality directly from joblib, which can be installed with: pip install joblib. If this warning is raised when loading pickled models, you may need to re-serialize those models with scikit-learn 0.21+.\n",
      "  warnings.warn(msg, category=FutureWarning)\n"
     ]
    }
   ],
   "source": [
    "import hdbscan"
   ]
  },
  {
   "cell_type": "code",
   "execution_count": 15,
   "metadata": {
    "ExecuteTime": {
     "end_time": "2020-03-09T22:44:45.567010Z",
     "start_time": "2020-03-09T22:44:45.545016Z"
    }
   },
   "outputs": [],
   "source": [
    "from avgn.visualization.projections import draw_projection_transitions"
   ]
  },
  {
   "cell_type": "code",
   "execution_count": 16,
   "metadata": {
    "ExecuteTime": {
     "end_time": "2020-03-09T22:44:45.587291Z",
     "start_time": "2020-03-09T22:44:45.568541Z"
    }
   },
   "outputs": [],
   "source": [
    "from sklearn.decomposition import PCA\n",
    "\n"
   ]
  },
  {
   "cell_type": "code",
   "execution_count": null,
   "metadata": {
    "ExecuteTime": {
     "start_time": "2020-03-09T22:45:15.914Z"
    },
    "scrolled": true
   },
   "outputs": [
    {
     "data": {
      "application/vnd.jupyter.widget-view+json": {
       "model_id": "bafe331a34c941dbba904297ec970b8d",
       "version_major": 2,
       "version_minor": 0
      },
      "text/plain": [
       "HBox(children=(IntProgress(value=0, max=11), HTML(value='')))"
      ]
     },
     "metadata": {},
     "output_type": "display_data"
    },
    {
     "name": "stdout",
     "output_type": "stream",
     "text": [
      "Bird3 29470\n"
     ]
    },
    {
     "name": "stderr",
     "output_type": "stream",
     "text": [
      "/mnt/cube/tsainbur/conda_envs/tpy3/lib/python3.6/site-packages/ipykernel_launcher.py:22: UserWarning: Parameter should_downcast is deprecated, use convert_dtype in fit, fit_transform and transform  methods instead. \n",
      "/mnt/cube/tsainbur/conda_envs/tpy3/lib/python3.6/site-packages/ipykernel_launcher.py:23: UserWarning: Parameter should_downcast is deprecated, use convert_dtype in fit, fit_transform and transform  methods instead. \n"
     ]
    },
    {
     "data": {
      "application/vnd.jupyter.widget-view+json": {
       "model_id": "5817db5e54094e2c9039e8f2733fdd76",
       "version_major": 2,
       "version_minor": 0
      },
      "text/plain": [
       "HBox(children=(IntProgress(value=0, max=402), HTML(value='')))"
      ]
     },
     "metadata": {},
     "output_type": "display_data"
    },
    {
     "name": "stdout",
     "output_type": "stream",
     "text": [
      "Bird1 35728\n"
     ]
    },
    {
     "name": "stderr",
     "output_type": "stream",
     "text": [
      "/mnt/cube/tsainbur/conda_envs/tpy3/lib/python3.6/site-packages/ipykernel_launcher.py:22: UserWarning: Parameter should_downcast is deprecated, use convert_dtype in fit, fit_transform and transform  methods instead. \n",
      "/mnt/cube/tsainbur/conda_envs/tpy3/lib/python3.6/site-packages/ipykernel_launcher.py:23: UserWarning: Parameter should_downcast is deprecated, use convert_dtype in fit, fit_transform and transform  methods instead. \n"
     ]
    }
   ],
   "source": [
    "fig, ax = plt.subplots(nrows=2, ncols=len(syllable_df.indv.unique()), figsize=(10*len(syllable_df.indv.unique()), 20))\n",
    "\n",
    "indv_dfs = {}\n",
    "for indvi, indv in enumerate(tqdm(syllable_df.indv.unique())):\n",
    "    #if indv != 'Bird5': continue\n",
    "    indv_dfs[indv] = syllable_df[syllable_df.indv == indv]\n",
    "    indv_dfs[indv] = indv_dfs[indv].sort_values(by=[\"key\", \"start_time\"])\n",
    "    print(indv, len(indv_dfs[indv]))\n",
    "    specs = [norm(i) for i in indv_dfs[indv].spectrogram.values]\n",
    "    \n",
    "    # sequencing\n",
    "    indv_dfs[indv][\"syllables_sequence_id\"] = None\n",
    "    indv_dfs[indv][\"syllables_sequence_pos\"] = None\n",
    "    for ki, key in enumerate(indv_dfs[indv].key.unique()):\n",
    "        indv_dfs[indv].loc[indv_dfs[indv].key == key, \"syllables_sequence_id\"] = ki\n",
    "        indv_dfs[indv].loc[indv_dfs[indv].key == key, \"syllables_sequence_pos\"] = np.arange(\n",
    "            np.sum(indv_dfs[indv].key == key)\n",
    "        )\n",
    "        \n",
    "    # umap\n",
    "    specs_flattened = flatten_spectrograms(specs)\n",
    "    cuml_umap = cumlUMAP(min_dist=0.5)\n",
    "    z = list(cuml_umap.fit_transform(specs_flattened))\n",
    "    indv_dfs[indv][\"umap\"] = z\n",
    "    \n",
    "    pca = PCA(n_components=100)\n",
    "    z_pca = pca.fit_transform(specs_flattened)\n",
    "    indv_dfs[indv][\"PCA\"] = list(z_pca)\n",
    "\n",
    "    # plot\n",
    "    scatter_spec(\n",
    "        np.vstack(z),\n",
    "        specs,\n",
    "        column_size=15,\n",
    "        #x_range = [-5.5,7],\n",
    "        #y_range = [-10,10],\n",
    "        pal_color=\"hls\",\n",
    "        color_points=False,\n",
    "        enlarge_points=20,\n",
    "        figsize=(10, 10),\n",
    "        scatter_kwargs = {\n",
    "            'labels': list(indv_dfs[indv].labels.values),\n",
    "            'alpha':0.25,\n",
    "            's': 1,\n",
    "            'show_legend': False\n",
    "        },\n",
    "        matshow_kwargs = {\n",
    "            'cmap': plt.cm.Greys\n",
    "        },\n",
    "        line_kwargs = {\n",
    "            'lw':1,\n",
    "            'ls':\"solid\",\n",
    "            'alpha':0.25,\n",
    "        },\n",
    "        draw_lines=True,\n",
    "        ax= ax[0,indvi]\n",
    "    );\n",
    "    \n",
    "    draw_projection_transitions(\n",
    "        projections=np.array(list(indv_dfs[indv]['umap'].values)),\n",
    "        sequence_ids=indv_dfs[indv][\"syllables_sequence_id\"],\n",
    "        sequence_pos=indv_dfs[indv][\"syllables_sequence_pos\"],\n",
    "        ax=ax[1,indvi],\n",
    "    )\n",
    "\n",
    "    "
   ]
  },
  {
   "cell_type": "markdown",
   "metadata": {},
   "source": [
    "### label"
   ]
  },
  {
   "cell_type": "code",
   "execution_count": null,
   "metadata": {
    "ExecuteTime": {
     "start_time": "2020-03-09T22:45:18.829Z"
    }
   },
   "outputs": [],
   "source": [
    "from sklearn.cluster import MiniBatchKMeans"
   ]
  },
  {
   "cell_type": "code",
   "execution_count": null,
   "metadata": {
    "ExecuteTime": {
     "start_time": "2020-03-09T22:45:19.245Z"
    },
    "scrolled": true
   },
   "outputs": [],
   "source": [
    "for indv in tqdm(indv_dfs.keys()):\n",
    "    ### cluster\n",
    "    \n",
    "    z = list(indv_dfs[indv][\"PCA\"].values)\n",
    "\n",
    "    ### HDBSCAN on PCA\n",
    "    clusterer = hdbscan.HDBSCAN(\n",
    "        min_cluster_size=int(len(z) * 0.001), # the smallest size we would expect a cluster to be\n",
    "        min_samples=1, # larger values = more conservative clustering\n",
    "    )\n",
    "    clusterer.fit(z_pca);\n",
    "    syllable_df['hdbscan_labels_PCA'] = clusterer.labels_\n",
    "    \n",
    "    \n",
    "    #break\n",
    "    z = list(indv_dfs[indv][\"umap\"].values)\n",
    "    \n",
    "    # HDBSCAN UMAP\n",
    "    clusterer = hdbscan.HDBSCAN(\n",
    "        min_cluster_size=int(len(z) * 0.01), # the smallest size we would expect a cluster to be\n",
    "        min_samples=1, # larger values = more conservative clustering\n",
    "    )\n",
    "    clusterer.fit(z);\n",
    "    indv_dfs[indv]['hdbscan_labels'] = clusterer.labels_\n",
    "    \n",
    "    # HDBSCAN \n",
    "    specs = [norm(i) for i in indv_dfs[indv].spectrogram.values]\n",
    "    specs_flattened = flatten_spectrograms(specs)\n",
    "    \n",
    "    # kmeans\n",
    "    # get number of possible states\n",
    "    n_states = len(indv_dfs[indv].labels.unique())\n",
    "\n",
    "    kmeans = MiniBatchKMeans(n_clusters = n_states).fit(z)\n",
    "    indv_dfs[indv]['kmeans_labels'] = kmeans.labels_\n",
    "    \n",
    "    # kmeans data\n",
    "    kmeans = MiniBatchKMeans(n_clusters = n_states).fit(specs_flattened)\n",
    "    indv_dfs[indv]['kmeans__pix_labels'] = kmeans.labels_"
   ]
  },
  {
   "cell_type": "markdown",
   "metadata": {},
   "source": [
    "### plot"
   ]
  },
  {
   "cell_type": "code",
   "execution_count": null,
   "metadata": {
    "ExecuteTime": {
     "start_time": "2020-03-09T22:45:21.381Z"
    },
    "scrolled": false
   },
   "outputs": [],
   "source": [
    "for indv in tqdm(indv_dfs.keys()):\n",
    "    print(indv)\n",
    "    fig, axs = plt.subplots(ncols=5, figsize=(50, 10))\n",
    "    draw_projection_transitions(\n",
    "        projections=np.array(list(indv_dfs[indv][\"umap\"].values)),\n",
    "        sequence_ids=indv_dfs[indv][\"syllables_sequence_id\"],\n",
    "        sequence_pos=indv_dfs[indv][\"syllables_sequence_pos\"],\n",
    "        ax=axs[0],\n",
    "    )\n",
    "\n",
    "    for i, lab in enumerate(\n",
    "        [\n",
    "            \"labels\",\n",
    "            \"kmeans_labels\",\n",
    "            \"kmeans__pix_labels\",\n",
    "            \"hdbscan_labels\",\n",
    "            \"hdbscan_labels_PCA\"\n",
    "        ]\n",
    "    ):\n",
    "\n",
    "        scatter_spec(\n",
    "            np.array(list(indv_dfs[indv][\"umap\"].values)),\n",
    "            specs = indv_dfs[indv].spectrogram.values,\n",
    "            column_size=15,\n",
    "            # x_range = [-5.5,7],\n",
    "            # y_range = [-10,10],\n",
    "            pal_color=\"hls\",\n",
    "            color_points=False,\n",
    "            enlarge_points=20,\n",
    "            figsize=(10, 10),\n",
    "            scatter_kwargs={\n",
    "                \"labels\": list(indv_dfs[indv][lab].values),\n",
    "                \"alpha\": 0.25,\n",
    "                \"s\": 1,\n",
    "                \"show_legend\": False,\n",
    "            },\n",
    "            matshow_kwargs={\"cmap\": plt.cm.Greys},\n",
    "            line_kwargs={\"lw\": 1, \"ls\": \"solid\", \"alpha\": 0.25},\n",
    "            draw_lines=True,\n",
    "            ax=axs[i + 1],\n",
    "        )\n",
    "        axs[i + 1].set_title(lab)\n",
    "    plt.show()"
   ]
  },
  {
   "cell_type": "markdown",
   "metadata": {},
   "source": [
    "### human vs algorithmic labelling similarity"
   ]
  },
  {
   "cell_type": "code",
   "execution_count": null,
   "metadata": {
    "ExecuteTime": {
     "start_time": "2020-03-09T22:45:21.708Z"
    }
   },
   "outputs": [],
   "source": [
    "import sklearn.metrics"
   ]
  },
  {
   "cell_type": "code",
   "execution_count": null,
   "metadata": {
    "ExecuteTime": {
     "start_time": "2020-03-09T22:45:21.869Z"
    }
   },
   "outputs": [],
   "source": [
    "performance_df = pd.DataFrame(columns = ['indv', 'cluster', 'homogeneity', 'completeness', 'V-Measure', 'Adj. MI'])\n",
    "for indv in tqdm(indv_dfs.keys()):\n",
    "    for cluster in ['hdbscan_labels', 'kmeans__pix_labels', 'kmeans_labels']:\n",
    "        homogenaity, completeness, v_measure = sklearn.metrics.homogeneity_completeness_v_measure(\n",
    "            list(indv_dfs[indv].labels), list(indv_dfs[indv][cluster].values)\n",
    "        )\n",
    "        ami = sklearn.metrics.adjusted_mutual_info_score(\n",
    "            list(indv_dfs[indv].labels), list(indv_dfs[indv][cluster].values)\n",
    "        )\n",
    "        performance_df.loc[len(performance_df)] = [indv, cluster, homogenaity, completeness, v_measure, ami]"
   ]
  },
  {
   "cell_type": "code",
   "execution_count": null,
   "metadata": {
    "ExecuteTime": {
     "start_time": "2020-03-09T22:45:22.036Z"
    }
   },
   "outputs": [],
   "source": [
    "performance_df[:4]"
   ]
  },
  {
   "cell_type": "code",
   "execution_count": null,
   "metadata": {
    "ExecuteTime": {
     "start_time": "2020-03-09T22:45:22.205Z"
    }
   },
   "outputs": [],
   "source": [
    "summary = performance_df.groupby(['cluster']).describe()"
   ]
  },
  {
   "cell_type": "code",
   "execution_count": null,
   "metadata": {
    "ExecuteTime": {
     "start_time": "2020-03-09T22:45:22.526Z"
    }
   },
   "outputs": [],
   "source": [
    "cats = [\"homogeneity\", \"completeness\", \"V-Measure\", \"Adj. MI\"]\n",
    "results_latex_df = pd.DataFrame(\n",
    "    columns=[\"Homogeneity\", \"Completeness\", \"V-Measure\", \"Adjusted MI\"]\n",
    ")\n",
    "\n",
    "labs = [['hdbscan_labels', 'HDBSCAN/UMAP'], ['kmeans__pix_labels', 'KMeans'], ['kmeans_labels', 'KMeans/UMAP'], [\"HDBSCAN/PCA\", \"hdbscan_labels_PCA\"]]\n",
    "\n",
    "for lab, name in labs:\n",
    "    results_latex_df.loc[name] = [\n",
    "        str(\n",
    "            round(np.mean(performance_df[performance_df.cluster == lab][i].values),3)\n",
    "        ).zfill(3)\n",
    "        + \"\\u00B1\"\n",
    "        + str(\n",
    "            round(np.std(performance_df[performance_df.cluster == lab][i].values),3)\n",
    "        ).zfill(3)\n",
    "        for i in cats\n",
    "    ]\n",
    "results_latex_df = pd.concat([results_latex_df], keys=[''], names=['Koumura et al., ()'])\n",
    "results_latex_df"
   ]
  },
  {
   "cell_type": "code",
   "execution_count": null,
   "metadata": {
    "ExecuteTime": {
     "start_time": "2020-03-09T22:45:23.142Z"
    }
   },
   "outputs": [],
   "source": [
    "results_string = results_latex_df.to_latex(bold_rows=True, escape=False)\\\n",
    "      .replace('>', '$>$')\\\n",
    ".replace('±', '$\\pm$')\\\n",
    "      .replace('<', '$<$')\\\n",
    "      .replace('superlabel', '')\\\n",
    "     .replace('\\n\\\\textbf', '\\n\\midrule\\n\\\\textbf')\n",
    "print(results_string)\n"
   ]
  },
  {
   "cell_type": "code",
   "execution_count": null,
   "metadata": {
    "ExecuteTime": {
     "start_time": "2020-03-09T22:45:23.317Z"
    }
   },
   "outputs": [],
   "source": [
    "import seaborn as sns\n",
    "sns.set_context(\"paper\", font_scale=2)"
   ]
  },
  {
   "cell_type": "code",
   "execution_count": null,
   "metadata": {
    "ExecuteTime": {
     "start_time": "2020-03-09T22:45:28.583Z"
    }
   },
   "outputs": [],
   "source": [
    "fig, axs = plt.subplots(ncols = 4, figsize=(20,4))\n",
    "\n",
    "for ci, column in enumerate([\"homogeneity\", \"completeness\", \"V-Measure\", \"Adj. MI\"]):\n",
    "    sns.boxplot(x=\"cluster\", y=column, data =performance_df, ax = axs[ci])\n",
    "    sns.swarmplot(x=\"cluster\", y=column, data =performance_df, ax = axs[ci], color=\".25\")\n",
    "    axs[ci].set_ylim([0.5,1])\n",
    "    #axs[ci].set_xticklabels(['HDBSCAN/UMAP', 'KMeans', 'KMeans/UMAP'], rotation=45, ha='right')\n",
    "    axs[ci].set_xlabel('')\n",
    "    axs[ci].set_ylabel('')\n",
    "    axs[ci].set_title(column)\n",
    "\n"
   ]
  },
  {
   "cell_type": "code",
   "execution_count": null,
   "metadata": {},
   "outputs": [],
   "source": []
  }
 ],
 "metadata": {
  "kernelspec": {
   "display_name": "Python 3",
   "language": "python",
   "name": "python3"
  },
  "language_info": {
   "codemirror_mode": {
    "name": "ipython",
    "version": 3
   },
   "file_extension": ".py",
   "mimetype": "text/x-python",
   "name": "python",
   "nbconvert_exporter": "python",
   "pygments_lexer": "ipython3",
   "version": "3.6.7"
  }
 },
 "nbformat": 4,
 "nbformat_minor": 2
}
