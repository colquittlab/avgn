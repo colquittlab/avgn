{
 "cells": [
  {
   "cell_type": "code",
   "execution_count": 5,
   "metadata": {
    "ExecuteTime": {
     "end_time": "2019-12-05T04:07:31.211706Z",
     "start_time": "2019-12-05T04:07:31.141673Z"
    }
   },
   "outputs": [
    {
     "name": "stdout",
     "output_type": "stream",
     "text": [
      "The autoreload extension is already loaded. To reload it, use:\n",
      "  %reload_ext autoreload\n"
     ]
    }
   ],
   "source": [
    "%load_ext autoreload\n",
    "%autoreload 2"
   ]
  },
  {
   "cell_type": "code",
   "execution_count": 6,
   "metadata": {
    "ExecuteTime": {
     "end_time": "2019-12-05T04:07:31.358479Z",
     "start_time": "2019-12-05T04:07:31.291578Z"
    }
   },
   "outputs": [],
   "source": [
    "import numpy as np\n",
    "import pandas as pd\n",
    "from avgn.utils.paths import DATA_DIR, most_recent_subdirectory, ensure_dir\n",
    "from sklearn.preprocessing import scale\n",
    "import matplotlib.pyplot as plt\n",
    "from tqdm.autonotebook import tqdm"
   ]
  },
  {
   "cell_type": "code",
   "execution_count": 7,
   "metadata": {
    "ExecuteTime": {
     "end_time": "2019-12-05T04:07:31.470373Z",
     "start_time": "2019-12-05T04:07:31.415592Z"
    }
   },
   "outputs": [],
   "source": [
    "from avgn.visualization.projections import scatter_spec\n",
    "from avgn.utils.general import save_fig\n",
    "from avgn.utils.paths import FIGURE_DIR, ensure_dir"
   ]
  },
  {
   "cell_type": "code",
   "execution_count": 8,
   "metadata": {
    "ExecuteTime": {
     "end_time": "2019-12-05T04:07:31.780614Z",
     "start_time": "2019-12-05T04:07:31.558640Z"
    }
   },
   "outputs": [
    {
     "data": {
      "text/html": [
       "<div>\n",
       "<style scoped>\n",
       "    .dataframe tbody tr th:only-of-type {\n",
       "        vertical-align: middle;\n",
       "    }\n",
       "\n",
       "    .dataframe tbody tr th {\n",
       "        vertical-align: top;\n",
       "    }\n",
       "\n",
       "    .dataframe thead th {\n",
       "        text-align: right;\n",
       "    }\n",
       "</style>\n",
       "<table border=\"1\" class=\"dataframe\">\n",
       "  <thead>\n",
       "    <tr style=\"text-align: right;\">\n",
       "      <th></th>\n",
       "      <th>ds</th>\n",
       "      <th>indv</th>\n",
       "      <th>_loc</th>\n",
       "    </tr>\n",
       "  </thead>\n",
       "  <tbody>\n",
       "    <tr>\n",
       "      <th>1</th>\n",
       "      <td>castellucci_mouse_usv_segmented</td>\n",
       "      <td>VOC597</td>\n",
       "      <td>/local/home/tsainbur/github_repos/avgn_paper/d...</td>\n",
       "    </tr>\n",
       "    <tr>\n",
       "      <th>3</th>\n",
       "      <td>castellucci_mouse_usv_segmented</td>\n",
       "      <td>VOC592</td>\n",
       "      <td>/local/home/tsainbur/github_repos/avgn_paper/d...</td>\n",
       "    </tr>\n",
       "    <tr>\n",
       "      <th>4</th>\n",
       "      <td>castellucci_mouse_usv_segmented</td>\n",
       "      <td>VOC591</td>\n",
       "      <td>/local/home/tsainbur/github_repos/avgn_paper/d...</td>\n",
       "    </tr>\n",
       "  </tbody>\n",
       "</table>\n",
       "</div>"
      ],
      "text/plain": [
       "                                ds    indv  \\\n",
       "1  castellucci_mouse_usv_segmented  VOC597   \n",
       "3  castellucci_mouse_usv_segmented  VOC592   \n",
       "4  castellucci_mouse_usv_segmented  VOC591   \n",
       "\n",
       "                                                _loc  \n",
       "1  /local/home/tsainbur/github_repos/avgn_paper/d...  \n",
       "3  /local/home/tsainbur/github_repos/avgn_paper/d...  \n",
       "4  /local/home/tsainbur/github_repos/avgn_paper/d...  "
      ]
     },
     "execution_count": 8,
     "metadata": {},
     "output_type": "execute_result"
    }
   ],
   "source": [
    "datasets = list(DATA_DIR.glob('embeddings/0.5/*/*.pickle'))\n",
    "datasets = pd.DataFrame([[i.parent.stem, i.stem, i] for i in datasets], columns = ['ds', 'indv', '_loc'])\n",
    "mask = np.array([i[:3] == '0.5' for i in datasets.indv.values])\n",
    "datasets = datasets[mask]\n",
    "datasets['indv'] = np.array([i[4:] for i in datasets.indv.values])\n",
    "datasets[:3]"
   ]
  },
  {
   "cell_type": "code",
   "execution_count": 9,
   "metadata": {
    "ExecuteTime": {
     "end_time": "2019-12-05T04:07:31.822207Z",
     "start_time": "2019-12-05T04:07:31.783010Z"
    }
   },
   "outputs": [
    {
     "data": {
      "text/plain": [
       "array(['castellucci_mouse_usv_segmented', 'BIRD_DB_Vireo_cassinii',\n",
       "       'gibbon_morita_segmented', 'bengalese_finch_sober',\n",
       "       'batsong_segmented', 'BIRD_DB_Toxostoma_redivivum', 'buckeye',\n",
       "       'swamp_sparrow', 'mobysound_humpback_whale',\n",
       "       'koumura_bengalese_finch', 'katahira_white_munia_segmented',\n",
       "       'canary_segmented', 'zebra_finch_gardner_segmented', 'giant_otter',\n",
       "       'european_starling_gentner_segmented'], dtype=object)"
      ]
     },
     "execution_count": 9,
     "metadata": {},
     "output_type": "execute_result"
    }
   ],
   "source": [
    "datasets.ds.unique()"
   ]
  },
  {
   "cell_type": "code",
   "execution_count": 14,
   "metadata": {
    "ExecuteTime": {
     "end_time": "2019-12-05T04:07:54.403267Z",
     "start_time": "2019-12-05T04:07:54.209455Z"
    }
   },
   "outputs": [
    {
     "data": {
      "text/plain": [
       "PosixPath('/local/home/tsainbur/github_repos/avgn_paper/data/embeddings/0.5/canary_segmented/0.5_bird1.pickle')"
      ]
     },
     "execution_count": 14,
     "metadata": {},
     "output_type": "execute_result"
    }
   ],
   "source": [
    "ds = 'canary_segmented'\n",
    "ds_loc = datasets[datasets.ds == ds].iloc[0]._loc\n",
    "ds_loc"
   ]
  },
  {
   "cell_type": "code",
   "execution_count": 15,
   "metadata": {
    "ExecuteTime": {
     "end_time": "2019-12-05T04:07:55.523108Z",
     "start_time": "2019-12-05T04:07:54.406292Z"
    }
   },
   "outputs": [],
   "source": [
    "syllable_df = pd.read_pickle(ds_loc)"
   ]
  },
  {
   "cell_type": "code",
   "execution_count": 16,
   "metadata": {
    "ExecuteTime": {
     "end_time": "2019-12-05T04:07:55.686874Z",
     "start_time": "2019-12-05T04:07:55.544532Z"
    }
   },
   "outputs": [
    {
     "data": {
      "text/html": [
       "<div>\n",
       "<style scoped>\n",
       "    .dataframe tbody tr th:only-of-type {\n",
       "        vertical-align: middle;\n",
       "    }\n",
       "\n",
       "    .dataframe tbody tr th {\n",
       "        vertical-align: top;\n",
       "    }\n",
       "\n",
       "    .dataframe thead th {\n",
       "        text-align: right;\n",
       "    }\n",
       "</style>\n",
       "<table border=\"1\" class=\"dataframe\">\n",
       "  <thead>\n",
       "    <tr style=\"text-align: right;\">\n",
       "      <th></th>\n",
       "      <th>start_time</th>\n",
       "      <th>end_time</th>\n",
       "      <th>indv</th>\n",
       "      <th>indvi</th>\n",
       "      <th>key</th>\n",
       "      <th>rate</th>\n",
       "      <th>spectrogram</th>\n",
       "      <th>phrase</th>\n",
       "      <th>med_time</th>\n",
       "      <th>umap</th>\n",
       "    </tr>\n",
       "  </thead>\n",
       "  <tbody>\n",
       "    <tr>\n",
       "      <th>0</th>\n",
       "      <td>0.020</td>\n",
       "      <td>0.059</td>\n",
       "      <td>bird1</td>\n",
       "      <td>0</td>\n",
       "      <td>bird1_0267_2004_04_06_07_49</td>\n",
       "      <td>48000</td>\n",
       "      <td>[[0, 0, 0, 0, 0, 0, 0, 0, 0, 0, 0, 0, 0, 0, 0,...</td>\n",
       "      <td>1</td>\n",
       "      <td>0.0395</td>\n",
       "      <td>[-5.738251686096191, 3.9702301025390625]</td>\n",
       "    </tr>\n",
       "    <tr>\n",
       "      <th>1</th>\n",
       "      <td>0.086</td>\n",
       "      <td>0.127</td>\n",
       "      <td>bird1</td>\n",
       "      <td>0</td>\n",
       "      <td>bird1_0267_2004_04_06_07_49</td>\n",
       "      <td>48000</td>\n",
       "      <td>[[0, 0, 0, 0, 0, 0, 0, 0, 0, 0, 0, 0, 0, 0, 0,...</td>\n",
       "      <td>1</td>\n",
       "      <td>0.1065</td>\n",
       "      <td>[-6.2376508712768555, 4.821612358093262]</td>\n",
       "    </tr>\n",
       "    <tr>\n",
       "      <th>2</th>\n",
       "      <td>0.149</td>\n",
       "      <td>0.191</td>\n",
       "      <td>bird1</td>\n",
       "      <td>0</td>\n",
       "      <td>bird1_0267_2004_04_06_07_49</td>\n",
       "      <td>48000</td>\n",
       "      <td>[[0, 0, 0, 0, 0, 0, 0, 0, 0, 0, 0, 0, 0, 0, 0,...</td>\n",
       "      <td>1</td>\n",
       "      <td>0.1700</td>\n",
       "      <td>[-6.4705400466918945, 5.514357089996338]</td>\n",
       "    </tr>\n",
       "  </tbody>\n",
       "</table>\n",
       "</div>"
      ],
      "text/plain": [
       "   start_time  end_time   indv  indvi                          key   rate  \\\n",
       "0       0.020     0.059  bird1      0  bird1_0267_2004_04_06_07_49  48000   \n",
       "1       0.086     0.127  bird1      0  bird1_0267_2004_04_06_07_49  48000   \n",
       "2       0.149     0.191  bird1      0  bird1_0267_2004_04_06_07_49  48000   \n",
       "\n",
       "                                         spectrogram phrase  med_time  \\\n",
       "0  [[0, 0, 0, 0, 0, 0, 0, 0, 0, 0, 0, 0, 0, 0, 0,...      1    0.0395   \n",
       "1  [[0, 0, 0, 0, 0, 0, 0, 0, 0, 0, 0, 0, 0, 0, 0,...      1    0.1065   \n",
       "2  [[0, 0, 0, 0, 0, 0, 0, 0, 0, 0, 0, 0, 0, 0, 0,...      1    0.1700   \n",
       "\n",
       "                                       umap  \n",
       "0  [-5.738251686096191, 3.9702301025390625]  \n",
       "1  [-6.2376508712768555, 4.821612358093262]  \n",
       "2  [-6.4705400466918945, 5.514357089996338]  "
      ]
     },
     "execution_count": 16,
     "metadata": {},
     "output_type": "execute_result"
    }
   ],
   "source": [
    "syllable_df[:3]"
   ]
  },
  {
   "cell_type": "code",
   "execution_count": 17,
   "metadata": {
    "ExecuteTime": {
     "end_time": "2019-12-05T04:07:56.115516Z",
     "start_time": "2019-12-05T04:07:55.688834Z"
    }
   },
   "outputs": [],
   "source": [
    "specs = np.stack(syllable_df['spectrogram'].values)"
   ]
  },
  {
   "cell_type": "code",
   "execution_count": 18,
   "metadata": {
    "ExecuteTime": {
     "end_time": "2019-12-05T04:07:56.173929Z",
     "start_time": "2019-12-05T04:07:56.123844Z"
    }
   },
   "outputs": [
    {
     "data": {
      "text/plain": [
       "(104685, 32, 24)"
      ]
     },
     "execution_count": 18,
     "metadata": {},
     "output_type": "execute_result"
    }
   ],
   "source": [
    "np.shape(specs)"
   ]
  },
  {
   "cell_type": "code",
   "execution_count": 19,
   "metadata": {
    "ExecuteTime": {
     "end_time": "2019-12-05T04:07:56.641955Z",
     "start_time": "2019-12-05T04:07:56.176197Z"
    }
   },
   "outputs": [],
   "source": [
    "embedding = np.vstack(syllable_df['umap'].values)"
   ]
  },
  {
   "cell_type": "code",
   "execution_count": 20,
   "metadata": {
    "ExecuteTime": {
     "end_time": "2019-12-05T04:07:56.683683Z",
     "start_time": "2019-12-05T04:07:56.644730Z"
    }
   },
   "outputs": [
    {
     "data": {
      "text/plain": [
       "(104685, 2)"
      ]
     },
     "execution_count": 20,
     "metadata": {},
     "output_type": "execute_result"
    }
   ],
   "source": [
    "np.shape(embedding)"
   ]
  },
  {
   "cell_type": "code",
   "execution_count": 23,
   "metadata": {
    "ExecuteTime": {
     "end_time": "2019-12-05T04:08:16.747322Z",
     "start_time": "2019-12-05T04:08:14.945357Z"
    }
   },
   "outputs": [
    {
     "data": {
      "text/plain": [
       "(-15, 15)"
      ]
     },
     "execution_count": 23,
     "metadata": {},
     "output_type": "execute_result"
    },
    {
     "data": {
      "image/png": "[encoded data removed]",
      "text/plain": [
       "<Figure size 432x288 with 1 Axes>"
      ]
     },
     "metadata": {
      "needs_background": "light"
     },
     "output_type": "display_data"
    }
   ],
   "source": [
    "fig, ax = plt.subplots()\n",
    "ax.scatter(embedding[:,0], embedding[:,1], s=1, color='k', alpha = 0.1)\n",
    "ax.set_xlim([-15,15])\n",
    "ax.set_ylim([-15,15])"
   ]
  },
  {
   "cell_type": "code",
   "execution_count": null,
   "metadata": {
    "ExecuteTime": {
     "start_time": "2019-12-05T04:09:10.294Z"
    }
   },
   "outputs": [],
   "source": [
    "nex = -1\n",
    "scatter_spec(\n",
    "    embedding[:nex],\n",
    "    specs[:nex],\n",
    "    column_size=8,\n",
    "    #x_range = [-4.5,4],\n",
    "    #y_range = [-4.5,5.5],\n",
    "    pal_color=\"hls\",\n",
    "    color_points=False,\n",
    "    enlarge_points=0,\n",
    "    figsize=(10, 10),\n",
    "    range_pad = 0.2,\n",
    "    scatter_kwargs = {\n",
    "        'labels': syllable_df.phrase.values[:nex],\n",
    "        'alpha':0.05,\n",
    "        's': 0.1,\n",
    "        'show_legend': False\n",
    "    },\n",
    "    matshow_kwargs = {\n",
    "        'cmap': plt.cm.Greys\n",
    "    },\n",
    "    line_kwargs = {\n",
    "        'lw':3,\n",
    "        'ls':\"dashed\",\n",
    "        'alpha':0.25,\n",
    "    },\n",
    "    draw_lines=True,\n",
    "    n_subset= 1000,\n",
    "    border_line_width = 3,\n",
    "\n",
    ");\n",
    "#save_fig(FIGURE_DIR / 'discrete_umap' / ds, dpi=300, save_jpg=True, save_png=True)"
   ]
  },
  {
   "cell_type": "code",
   "execution_count": null,
   "metadata": {},
   "outputs": [],
   "source": []
  }
 ],
 "metadata": {
  "kernelspec": {
   "display_name": "Python 3",
   "language": "python",
   "name": "python3"
  },
  "language_info": {
   "codemirror_mode": {
    "name": "ipython",
    "version": 3
   },
   "file_extension": ".py",
   "mimetype": "text/x-python",
   "name": "python",
   "nbconvert_exporter": "python",
   "pygments_lexer": "ipython3",
   "version": "3.6.7"
  }
 },
 "nbformat": 4,
 "nbformat_minor": 2
}
