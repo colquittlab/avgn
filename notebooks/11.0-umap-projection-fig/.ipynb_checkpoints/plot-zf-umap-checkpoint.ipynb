{
 "cells": [
  {
   "cell_type": "code",
   "execution_count": 1,
   "metadata": {
    "ExecuteTime": {
     "end_time": "2019-12-05T04:11:00.173109Z",
     "start_time": "2019-12-05T04:11:00.132467Z"
    }
   },
   "outputs": [],
   "source": [
    "%load_ext autoreload\n",
    "%autoreload 2"
   ]
  },
  {
   "cell_type": "code",
   "execution_count": 2,
   "metadata": {
    "ExecuteTime": {
     "end_time": "2019-12-05T04:11:03.799144Z",
     "start_time": "2019-12-05T04:11:00.289091Z"
    }
   },
   "outputs": [
    {
     "name": "stderr",
     "output_type": "stream",
     "text": [
      "/mnt/cube/tsainbur/conda_envs/tpy3/lib/python3.6/site-packages/tqdm/autonotebook/__init__.py:14: TqdmExperimentalWarning: Using `tqdm.autonotebook.tqdm` in notebook mode. Use `tqdm.tqdm` instead to force console mode (e.g. in jupyter console)\n",
      "  \" (e.g. in jupyter console)\", TqdmExperimentalWarning)\n"
     ]
    }
   ],
   "source": [
    "import numpy as np\n",
    "import pandas as pd\n",
    "from avgn.utils.paths import DATA_DIR, most_recent_subdirectory, ensure_dir\n",
    "from sklearn.preprocessing import scale\n",
    "import matplotlib.pyplot as plt\n",
    "from tqdm.autonotebook import tqdm"
   ]
  },
  {
   "cell_type": "code",
   "execution_count": 3,
   "metadata": {
    "ExecuteTime": {
     "end_time": "2019-12-05T04:11:05.691432Z",
     "start_time": "2019-12-05T04:11:03.802037Z"
    }
   },
   "outputs": [],
   "source": [
    "from avgn.visualization.projections import scatter_spec\n",
    "from avgn.utils.general import save_fig\n",
    "from avgn.utils.paths import FIGURE_DIR, ensure_dir"
   ]
  },
  {
   "cell_type": "code",
   "execution_count": 4,
   "metadata": {
    "ExecuteTime": {
     "end_time": "2019-12-05T04:11:05.908614Z",
     "start_time": "2019-12-05T04:11:05.693641Z"
    }
   },
   "outputs": [
    {
     "data": {
      "text/html": [
       "<div>\n",
       "<style scoped>\n",
       "    .dataframe tbody tr th:only-of-type {\n",
       "        vertical-align: middle;\n",
       "    }\n",
       "\n",
       "    .dataframe tbody tr th {\n",
       "        vertical-align: top;\n",
       "    }\n",
       "\n",
       "    .dataframe thead th {\n",
       "        text-align: right;\n",
       "    }\n",
       "</style>\n",
       "<table border=\"1\" class=\"dataframe\">\n",
       "  <thead>\n",
       "    <tr style=\"text-align: right;\">\n",
       "      <th></th>\n",
       "      <th>ds</th>\n",
       "      <th>indv</th>\n",
       "      <th>_loc</th>\n",
       "    </tr>\n",
       "  </thead>\n",
       "  <tbody>\n",
       "    <tr>\n",
       "      <th>1</th>\n",
       "      <td>castellucci_mouse_usv_segmented</td>\n",
       "      <td>VOC597</td>\n",
       "      <td>/local/home/tsainbur/github_repos/avgn_paper/d...</td>\n",
       "    </tr>\n",
       "    <tr>\n",
       "      <th>3</th>\n",
       "      <td>castellucci_mouse_usv_segmented</td>\n",
       "      <td>VOC592</td>\n",
       "      <td>/local/home/tsainbur/github_repos/avgn_paper/d...</td>\n",
       "    </tr>\n",
       "    <tr>\n",
       "      <th>4</th>\n",
       "      <td>castellucci_mouse_usv_segmented</td>\n",
       "      <td>VOC591</td>\n",
       "      <td>/local/home/tsainbur/github_repos/avgn_paper/d...</td>\n",
       "    </tr>\n",
       "  </tbody>\n",
       "</table>\n",
       "</div>"
      ],
      "text/plain": [
       "                                ds    indv  \\\n",
       "1  castellucci_mouse_usv_segmented  VOC597   \n",
       "3  castellucci_mouse_usv_segmented  VOC592   \n",
       "4  castellucci_mouse_usv_segmented  VOC591   \n",
       "\n",
       "                                                _loc  \n",
       "1  /local/home/tsainbur/github_repos/avgn_paper/d...  \n",
       "3  /local/home/tsainbur/github_repos/avgn_paper/d...  \n",
       "4  /local/home/tsainbur/github_repos/avgn_paper/d...  "
      ]
     },
     "execution_count": 4,
     "metadata": {},
     "output_type": "execute_result"
    }
   ],
   "source": [
    "datasets = list(DATA_DIR.glob('embeddings/0.5/*/*.pickle'))\n",
    "datasets = pd.DataFrame([[i.parent.stem, i.stem, i] for i in datasets], columns = ['ds', 'indv', '_loc'])\n",
    "mask = np.array([i[:3] == '0.5' for i in datasets.indv.values])\n",
    "datasets = datasets[mask]\n",
    "datasets['indv'] = np.array([i[4:] for i in datasets.indv.values])\n",
    "datasets[:3]"
   ]
  },
  {
   "cell_type": "code",
   "execution_count": 5,
   "metadata": {
    "ExecuteTime": {
     "end_time": "2019-12-05T04:11:05.946449Z",
     "start_time": "2019-12-05T04:11:05.911119Z"
    }
   },
   "outputs": [
    {
     "data": {
      "text/plain": [
       "array(['castellucci_mouse_usv_segmented', 'BIRD_DB_Vireo_cassinii',\n",
       "       'gibbon_morita_segmented', 'bengalese_finch_sober',\n",
       "       'batsong_segmented', 'BIRD_DB_Toxostoma_redivivum', 'buckeye',\n",
       "       'swamp_sparrow', 'mobysound_humpback_whale',\n",
       "       'koumura_bengalese_finch', 'katahira_white_munia_segmented',\n",
       "       'canary_segmented', 'zebra_finch_gardner_segmented', 'giant_otter',\n",
       "       'european_starling_gentner_segmented'], dtype=object)"
      ]
     },
     "execution_count": 5,
     "metadata": {},
     "output_type": "execute_result"
    }
   ],
   "source": [
    "datasets.ds.unique()"
   ]
  },
  {
   "cell_type": "code",
   "execution_count": 39,
   "metadata": {
    "ExecuteTime": {
     "end_time": "2019-12-05T04:11:36.179226Z",
     "start_time": "2019-12-05T04:11:36.108203Z"
    }
   },
   "outputs": [
    {
     "data": {
      "text/plain": [
       "PosixPath('/local/home/tsainbur/github_repos/avgn_paper/data/embeddings/0.5/zebra_finch_gardner_segmented/0.5_lr12.pickle')"
      ]
     },
     "execution_count": 39,
     "metadata": {},
     "output_type": "execute_result"
    }
   ],
   "source": [
    "ds = 'zebra_finch_gardner_segmented'\n",
    "ds_loc = datasets[datasets.ds == ds].iloc[4]._loc\n",
    "ds_loc"
   ]
  },
  {
   "cell_type": "code",
   "execution_count": 40,
   "metadata": {
    "ExecuteTime": {
     "end_time": "2019-12-05T04:11:36.480816Z",
     "start_time": "2019-12-05T04:11:36.300394Z"
    }
   },
   "outputs": [],
   "source": [
    "syllable_df = pd.read_pickle(ds_loc)"
   ]
  },
  {
   "cell_type": "code",
   "execution_count": 41,
   "metadata": {
    "ExecuteTime": {
     "end_time": "2019-12-05T04:11:36.606056Z",
     "start_time": "2019-12-05T04:11:36.485623Z"
    }
   },
   "outputs": [
    {
     "data": {
      "text/html": [
       "<div>\n",
       "<style scoped>\n",
       "    .dataframe tbody tr th:only-of-type {\n",
       "        vertical-align: middle;\n",
       "    }\n",
       "\n",
       "    .dataframe tbody tr th {\n",
       "        vertical-align: top;\n",
       "    }\n",
       "\n",
       "    .dataframe thead th {\n",
       "        text-align: right;\n",
       "    }\n",
       "</style>\n",
       "<table border=\"1\" class=\"dataframe\">\n",
       "  <thead>\n",
       "    <tr style=\"text-align: right;\">\n",
       "      <th></th>\n",
       "      <th>start_time</th>\n",
       "      <th>end_time</th>\n",
       "      <th>indv</th>\n",
       "      <th>indvi</th>\n",
       "      <th>key</th>\n",
       "      <th>rate</th>\n",
       "      <th>spectrogram</th>\n",
       "      <th>umap</th>\n",
       "    </tr>\n",
       "  </thead>\n",
       "  <tbody>\n",
       "    <tr>\n",
       "      <th>0</th>\n",
       "      <td>0.000</td>\n",
       "      <td>0.143</td>\n",
       "      <td>lr12</td>\n",
       "      <td>0</td>\n",
       "      <td>lr12_2551</td>\n",
       "      <td>48000</td>\n",
       "      <td>[[0.11670862, 0.06737542, 0.084003605, 0.12961...</td>\n",
       "      <td>[-1.3477970361709595, 6.185983657836914]</td>\n",
       "    </tr>\n",
       "    <tr>\n",
       "      <th>1</th>\n",
       "      <td>0.149</td>\n",
       "      <td>0.227</td>\n",
       "      <td>lr12</td>\n",
       "      <td>0</td>\n",
       "      <td>lr12_2551</td>\n",
       "      <td>48000</td>\n",
       "      <td>[[0.0, 0.0, 0.06625868, 0.10274482, 0.05996425...</td>\n",
       "      <td>[-6.336395263671875, -3.676926612854004]</td>\n",
       "    </tr>\n",
       "    <tr>\n",
       "      <th>2</th>\n",
       "      <td>0.239</td>\n",
       "      <td>0.343</td>\n",
       "      <td>lr12</td>\n",
       "      <td>0</td>\n",
       "      <td>lr12_2551</td>\n",
       "      <td>48000</td>\n",
       "      <td>[[0.0, 0.27093738, 0.040522195, 0.114609785, 0...</td>\n",
       "      <td>[6.30099630355835, -9.148778915405273]</td>\n",
       "    </tr>\n",
       "  </tbody>\n",
       "</table>\n",
       "</div>"
      ],
      "text/plain": [
       "   start_time  end_time  indv  indvi        key   rate  \\\n",
       "0       0.000     0.143  lr12      0  lr12_2551  48000   \n",
       "1       0.149     0.227  lr12      0  lr12_2551  48000   \n",
       "2       0.239     0.343  lr12      0  lr12_2551  48000   \n",
       "\n",
       "                                         spectrogram  \\\n",
       "0  [[0.11670862, 0.06737542, 0.084003605, 0.12961...   \n",
       "1  [[0.0, 0.0, 0.06625868, 0.10274482, 0.05996425...   \n",
       "2  [[0.0, 0.27093738, 0.040522195, 0.114609785, 0...   \n",
       "\n",
       "                                       umap  \n",
       "0  [-1.3477970361709595, 6.185983657836914]  \n",
       "1  [-6.336395263671875, -3.676926612854004]  \n",
       "2    [6.30099630355835, -9.148778915405273]  "
      ]
     },
     "execution_count": 41,
     "metadata": {},
     "output_type": "execute_result"
    }
   ],
   "source": [
    "syllable_df[:3]"
   ]
  },
  {
   "cell_type": "code",
   "execution_count": 42,
   "metadata": {
    "ExecuteTime": {
     "end_time": "2019-12-05T04:11:36.851214Z",
     "start_time": "2019-12-05T04:11:36.735092Z"
    }
   },
   "outputs": [],
   "source": [
    "specs = np.stack(syllable_df['spectrogram'].values)"
   ]
  },
  {
   "cell_type": "code",
   "execution_count": 43,
   "metadata": {
    "ExecuteTime": {
     "end_time": "2019-12-05T04:11:36.951757Z",
     "start_time": "2019-12-05T04:11:36.911239Z"
    }
   },
   "outputs": [
    {
     "data": {
      "text/plain": [
       "(11369, 32, 18)"
      ]
     },
     "execution_count": 43,
     "metadata": {},
     "output_type": "execute_result"
    }
   ],
   "source": [
    "np.shape(specs)"
   ]
  },
  {
   "cell_type": "code",
   "execution_count": 44,
   "metadata": {
    "ExecuteTime": {
     "end_time": "2019-12-05T04:11:37.223742Z",
     "start_time": "2019-12-05T04:11:37.103212Z"
    }
   },
   "outputs": [],
   "source": [
    "embedding = np.vstack(syllable_df['umap'].values)"
   ]
  },
  {
   "cell_type": "code",
   "execution_count": 45,
   "metadata": {
    "ExecuteTime": {
     "end_time": "2019-12-05T04:11:37.352460Z",
     "start_time": "2019-12-05T04:11:37.295720Z"
    }
   },
   "outputs": [
    {
     "data": {
      "text/plain": [
       "(11369, 2)"
      ]
     },
     "execution_count": 45,
     "metadata": {},
     "output_type": "execute_result"
    }
   ],
   "source": [
    "np.shape(embedding)"
   ]
  },
  {
   "cell_type": "code",
   "execution_count": 46,
   "metadata": {
    "ExecuteTime": {
     "end_time": "2019-12-05T04:11:38.034510Z",
     "start_time": "2019-12-05T04:11:37.609835Z"
    }
   },
   "outputs": [
    {
     "data": {
      "text/plain": [
       "(-15, 15)"
      ]
     },
     "execution_count": 46,
     "metadata": {},
     "output_type": "execute_result"
    },
    {
     "data": {
      "image/png": "[encoded data removed]",
      "text/plain": [
       "<Figure size 432x288 with 1 Axes>"
      ]
     },
     "metadata": {
      "needs_background": "light"
     },
     "output_type": "display_data"
    }
   ],
   "source": [
    "fig, ax = plt.subplots()\n",
    "ax.scatter(embedding[:,0], embedding[:,1], s=1, color='k', alpha = 0.1)\n",
    "ax.set_xlim([-15,15])\n",
    "ax.set_ylim([-15,15])"
   ]
  },
  {
   "cell_type": "code",
   "execution_count": null,
   "metadata": {
    "ExecuteTime": {
     "start_time": "2019-12-05T04:11:52.217Z"
    }
   },
   "outputs": [],
   "source": [
    "nex = -1\n",
    "scatter_spec(\n",
    "    embedding[:nex],\n",
    "    specs[:nex],\n",
    "    column_size=8,\n",
    "    #x_range = [-4.5,4],\n",
    "    #y_range = [-4.5,5.5],\n",
    "    pal_color=\"hls\",\n",
    "    color_points=False,\n",
    "    enlarge_points=0,\n",
    "    figsize=(10, 10),\n",
    "    range_pad = 0.15,\n",
    "    scatter_kwargs = {\n",
    "        #'labels': syllable_df.phrase.values[:nex],\n",
    "        'alpha':0.25,\n",
    "        's': 0.1,\n",
    "        'show_legend': False\n",
    "    },\n",
    "    matshow_kwargs = {\n",
    "        'cmap': plt.cm.Greys\n",
    "    },\n",
    "    line_kwargs = {\n",
    "        'lw':3,\n",
    "        'ls':\"dashed\",\n",
    "        'alpha':0.25,\n",
    "    },\n",
    "    draw_lines=True,\n",
    "    n_subset= 1000,\n",
    "    border_line_width = 3,\n",
    "\n",
    ");\n",
    "#save_fig(FIGURE_DIR / 'discrete_umap' / ds, dpi=300, save_jpg=True, save_png=True)"
   ]
  },
  {
   "cell_type": "code",
   "execution_count": null,
   "metadata": {},
   "outputs": [],
   "source": []
  }
 ],
 "metadata": {
  "kernelspec": {
   "display_name": "Python 3",
   "language": "python",
   "name": "python3"
  },
  "language_info": {
   "codemirror_mode": {
    "name": "ipython",
    "version": 3
   },
   "file_extension": ".py",
   "mimetype": "text/x-python",
   "name": "python",
   "nbconvert_exporter": "python",
   "pygments_lexer": "ipython3",
   "version": "3.6.7"
  }
 },
 "nbformat": 4,
 "nbformat_minor": 2
}
