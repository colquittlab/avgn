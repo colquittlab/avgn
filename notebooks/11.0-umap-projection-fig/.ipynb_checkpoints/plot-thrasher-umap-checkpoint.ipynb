{
 "cells": [
  {
   "cell_type": "code",
   "execution_count": 1,
   "metadata": {
    "ExecuteTime": {
     "end_time": "2019-12-05T04:25:11.667475Z",
     "start_time": "2019-12-05T04:25:11.513272Z"
    }
   },
   "outputs": [],
   "source": [
    "%load_ext autoreload\n",
    "%autoreload 2"
   ]
  },
  {
   "cell_type": "code",
   "execution_count": 2,
   "metadata": {
    "ExecuteTime": {
     "end_time": "2019-12-05T04:25:15.198085Z",
     "start_time": "2019-12-05T04:25:11.732929Z"
    }
   },
   "outputs": [
    {
     "name": "stderr",
     "output_type": "stream",
     "text": [
      "/mnt/cube/tsainbur/conda_envs/tpy3/lib/python3.6/site-packages/tqdm/autonotebook/__init__.py:14: TqdmExperimentalWarning: Using `tqdm.autonotebook.tqdm` in notebook mode. Use `tqdm.tqdm` instead to force console mode (e.g. in jupyter console)\n",
      "  \" (e.g. in jupyter console)\", TqdmExperimentalWarning)\n"
     ]
    }
   ],
   "source": [
    "import numpy as np\n",
    "import pandas as pd\n",
    "from avgn.utils.paths import DATA_DIR, most_recent_subdirectory, ensure_dir\n",
    "from sklearn.preprocessing import scale\n",
    "import matplotlib.pyplot as plt\n",
    "from tqdm.autonotebook import tqdm"
   ]
  },
  {
   "cell_type": "code",
   "execution_count": 3,
   "metadata": {
    "ExecuteTime": {
     "end_time": "2019-12-05T04:25:17.342190Z",
     "start_time": "2019-12-05T04:25:15.200880Z"
    }
   },
   "outputs": [],
   "source": [
    "from avgn.visualization.projections import scatter_spec\n",
    "from avgn.utils.general import save_fig\n",
    "from avgn.utils.paths import FIGURE_DIR, ensure_dir"
   ]
  },
  {
   "cell_type": "code",
   "execution_count": 4,
   "metadata": {
    "ExecuteTime": {
     "end_time": "2019-12-05T04:25:17.601507Z",
     "start_time": "2019-12-05T04:25:17.344443Z"
    }
   },
   "outputs": [
    {
     "data": {
      "text/html": [
       "<div>\n",
       "<style scoped>\n",
       "    .dataframe tbody tr th:only-of-type {\n",
       "        vertical-align: middle;\n",
       "    }\n",
       "\n",
       "    .dataframe tbody tr th {\n",
       "        vertical-align: top;\n",
       "    }\n",
       "\n",
       "    .dataframe thead th {\n",
       "        text-align: right;\n",
       "    }\n",
       "</style>\n",
       "<table border=\"1\" class=\"dataframe\">\n",
       "  <thead>\n",
       "    <tr style=\"text-align: right;\">\n",
       "      <th></th>\n",
       "      <th>ds</th>\n",
       "      <th>indv</th>\n",
       "      <th>_loc</th>\n",
       "    </tr>\n",
       "  </thead>\n",
       "  <tbody>\n",
       "    <tr>\n",
       "      <th>1</th>\n",
       "      <td>castellucci_mouse_usv_segmented</td>\n",
       "      <td>VOC597</td>\n",
       "      <td>/local/home/tsainbur/github_repos/avgn_paper/d...</td>\n",
       "    </tr>\n",
       "    <tr>\n",
       "      <th>3</th>\n",
       "      <td>castellucci_mouse_usv_segmented</td>\n",
       "      <td>VOC592</td>\n",
       "      <td>/local/home/tsainbur/github_repos/avgn_paper/d...</td>\n",
       "    </tr>\n",
       "    <tr>\n",
       "      <th>4</th>\n",
       "      <td>castellucci_mouse_usv_segmented</td>\n",
       "      <td>VOC591</td>\n",
       "      <td>/local/home/tsainbur/github_repos/avgn_paper/d...</td>\n",
       "    </tr>\n",
       "  </tbody>\n",
       "</table>\n",
       "</div>"
      ],
      "text/plain": [
       "                                ds    indv  \\\n",
       "1  castellucci_mouse_usv_segmented  VOC597   \n",
       "3  castellucci_mouse_usv_segmented  VOC592   \n",
       "4  castellucci_mouse_usv_segmented  VOC591   \n",
       "\n",
       "                                                _loc  \n",
       "1  /local/home/tsainbur/github_repos/avgn_paper/d...  \n",
       "3  /local/home/tsainbur/github_repos/avgn_paper/d...  \n",
       "4  /local/home/tsainbur/github_repos/avgn_paper/d...  "
      ]
     },
     "execution_count": 4,
     "metadata": {},
     "output_type": "execute_result"
    }
   ],
   "source": [
    "datasets = list(DATA_DIR.glob('embeddings/0.5/*/*.pickle'))\n",
    "datasets = pd.DataFrame([[i.parent.stem, i.stem, i] for i in datasets], columns = ['ds', 'indv', '_loc'])\n",
    "mask = np.array([i[:3] == '0.5' for i in datasets.indv.values])\n",
    "datasets = datasets[mask]\n",
    "datasets['indv'] = np.array([i[4:] for i in datasets.indv.values])\n",
    "datasets[:3]"
   ]
  },
  {
   "cell_type": "code",
   "execution_count": 5,
   "metadata": {
    "ExecuteTime": {
     "end_time": "2019-12-05T04:25:17.671107Z",
     "start_time": "2019-12-05T04:25:17.607866Z"
    }
   },
   "outputs": [
    {
     "data": {
      "text/plain": [
       "array(['castellucci_mouse_usv_segmented', 'BIRD_DB_Vireo_cassinii',\n",
       "       'gibbon_morita_segmented', 'bengalese_finch_sober',\n",
       "       'batsong_segmented', 'BIRD_DB_Toxostoma_redivivum', 'buckeye',\n",
       "       'swamp_sparrow', 'mobysound_humpback_whale',\n",
       "       'koumura_bengalese_finch', 'katahira_white_munia_segmented',\n",
       "       'canary_segmented', 'zebra_finch_gardner_segmented', 'giant_otter',\n",
       "       'european_starling_gentner_segmented'], dtype=object)"
      ]
     },
     "execution_count": 5,
     "metadata": {},
     "output_type": "execute_result"
    }
   ],
   "source": [
    "datasets.ds.unique()"
   ]
  },
  {
   "cell_type": "code",
   "execution_count": 6,
   "metadata": {
    "ExecuteTime": {
     "end_time": "2019-12-05T04:25:17.763298Z",
     "start_time": "2019-12-05T04:25:17.675187Z"
    }
   },
   "outputs": [
    {
     "data": {
      "text/plain": [
       "PosixPath('/local/home/tsainbur/github_repos/avgn_paper/data/embeddings/0.5/european_starling_gentner_segmented/0.5_b1053.pickle')"
      ]
     },
     "execution_count": 6,
     "metadata": {},
     "output_type": "execute_result"
    }
   ],
   "source": [
    "ds = 'european_starling_gentner_segmented'\n",
    "ds_loc = datasets[datasets.ds == ds].iloc[3]._loc\n",
    "ds_loc"
   ]
  },
  {
   "cell_type": "code",
   "execution_count": 7,
   "metadata": {
    "ExecuteTime": {
     "end_time": "2019-12-05T04:25:18.142176Z",
     "start_time": "2019-12-05T04:25:17.767565Z"
    }
   },
   "outputs": [],
   "source": [
    "syllable_df = pd.read_pickle(ds_loc)"
   ]
  },
  {
   "cell_type": "code",
   "execution_count": 8,
   "metadata": {
    "ExecuteTime": {
     "end_time": "2019-12-05T04:25:18.298937Z",
     "start_time": "2019-12-05T04:25:18.144783Z"
    }
   },
   "outputs": [
    {
     "data": {
      "text/html": [
       "<div>\n",
       "<style scoped>\n",
       "    .dataframe tbody tr th:only-of-type {\n",
       "        vertical-align: middle;\n",
       "    }\n",
       "\n",
       "    .dataframe tbody tr th {\n",
       "        vertical-align: top;\n",
       "    }\n",
       "\n",
       "    .dataframe thead th {\n",
       "        text-align: right;\n",
       "    }\n",
       "</style>\n",
       "<table border=\"1\" class=\"dataframe\">\n",
       "  <thead>\n",
       "    <tr style=\"text-align: right;\">\n",
       "      <th></th>\n",
       "      <th>start_time</th>\n",
       "      <th>end_time</th>\n",
       "      <th>indv</th>\n",
       "      <th>indvi</th>\n",
       "      <th>key</th>\n",
       "      <th>rate</th>\n",
       "      <th>spectrogram</th>\n",
       "      <th>umap</th>\n",
       "    </tr>\n",
       "  </thead>\n",
       "  <tbody>\n",
       "    <tr>\n",
       "      <th>0</th>\n",
       "      <td>6.159</td>\n",
       "      <td>6.524</td>\n",
       "      <td>b1053</td>\n",
       "      <td>0</td>\n",
       "      <td>2017-11-15_17-06-12-070000</td>\n",
       "      <td>44100</td>\n",
       "      <td>[[0, 0, 0, 50, 70, 100, 96, 60, 102, 106, 67, ...</td>\n",
       "      <td>[-1.8563454151153564, -3.051983594894409]</td>\n",
       "    </tr>\n",
       "    <tr>\n",
       "      <th>1</th>\n",
       "      <td>11.670</td>\n",
       "      <td>12.485</td>\n",
       "      <td>b1053</td>\n",
       "      <td>0</td>\n",
       "      <td>2017-11-15_17-06-12-070000</td>\n",
       "      <td>44100</td>\n",
       "      <td>[[9, 95, 125, 117, 102, 47, 3, 10, 9, 9, 9, 9,...</td>\n",
       "      <td>[-8.346613883972168, -3.4710214138031006]</td>\n",
       "    </tr>\n",
       "    <tr>\n",
       "      <th>2</th>\n",
       "      <td>16.529</td>\n",
       "      <td>17.235</td>\n",
       "      <td>b1053</td>\n",
       "      <td>0</td>\n",
       "      <td>2017-11-15_17-06-12-070000</td>\n",
       "      <td>44100</td>\n",
       "      <td>[[6, 6, 89, 105, 79, 30, 8, 6, 6, 6, 6, 6, 6, ...</td>\n",
       "      <td>[-8.368520736694336, -3.477166175842285]</td>\n",
       "    </tr>\n",
       "  </tbody>\n",
       "</table>\n",
       "</div>"
      ],
      "text/plain": [
       "   start_time  end_time   indv  indvi                         key   rate  \\\n",
       "0       6.159     6.524  b1053      0  2017-11-15_17-06-12-070000  44100   \n",
       "1      11.670    12.485  b1053      0  2017-11-15_17-06-12-070000  44100   \n",
       "2      16.529    17.235  b1053      0  2017-11-15_17-06-12-070000  44100   \n",
       "\n",
       "                                         spectrogram  \\\n",
       "0  [[0, 0, 0, 50, 70, 100, 96, 60, 102, 106, 67, ...   \n",
       "1  [[9, 95, 125, 117, 102, 47, 3, 10, 9, 9, 9, 9,...   \n",
       "2  [[6, 6, 89, 105, 79, 30, 8, 6, 6, 6, 6, 6, 6, ...   \n",
       "\n",
       "                                        umap  \n",
       "0  [-1.8563454151153564, -3.051983594894409]  \n",
       "1  [-8.346613883972168, -3.4710214138031006]  \n",
       "2   [-8.368520736694336, -3.477166175842285]  "
      ]
     },
     "execution_count": 8,
     "metadata": {},
     "output_type": "execute_result"
    }
   ],
   "source": [
    "syllable_df[:3]"
   ]
  },
  {
   "cell_type": "code",
   "execution_count": 9,
   "metadata": {
    "ExecuteTime": {
     "end_time": "2019-12-05T04:25:18.409979Z",
     "start_time": "2019-12-05T04:25:18.300982Z"
    }
   },
   "outputs": [],
   "source": [
    "specs = np.stack(syllable_df['spectrogram'].values)"
   ]
  },
  {
   "cell_type": "code",
   "execution_count": 10,
   "metadata": {
    "ExecuteTime": {
     "end_time": "2019-12-05T04:25:18.454598Z",
     "start_time": "2019-12-05T04:25:18.412664Z"
    }
   },
   "outputs": [
    {
     "data": {
      "text/plain": [
       "(24110, 32, 27)"
      ]
     },
     "execution_count": 10,
     "metadata": {},
     "output_type": "execute_result"
    }
   ],
   "source": [
    "np.shape(specs)"
   ]
  },
  {
   "cell_type": "code",
   "execution_count": 11,
   "metadata": {
    "ExecuteTime": {
     "end_time": "2019-12-05T04:25:18.616696Z",
     "start_time": "2019-12-05T04:25:18.456595Z"
    }
   },
   "outputs": [],
   "source": [
    "embedding = np.vstack(syllable_df['umap'].values)"
   ]
  },
  {
   "cell_type": "code",
   "execution_count": 12,
   "metadata": {
    "ExecuteTime": {
     "end_time": "2019-12-05T04:25:18.660299Z",
     "start_time": "2019-12-05T04:25:18.619082Z"
    }
   },
   "outputs": [
    {
     "data": {
      "text/plain": [
       "(24110, 2)"
      ]
     },
     "execution_count": 12,
     "metadata": {},
     "output_type": "execute_result"
    }
   ],
   "source": [
    "np.shape(embedding)"
   ]
  },
  {
   "cell_type": "code",
   "execution_count": 13,
   "metadata": {
    "ExecuteTime": {
     "end_time": "2019-12-05T04:25:19.412341Z",
     "start_time": "2019-12-05T04:25:18.662420Z"
    }
   },
   "outputs": [
    {
     "data": {
      "text/plain": [
       "(-15, 15)"
      ]
     },
     "execution_count": 13,
     "metadata": {},
     "output_type": "execute_result"
    },
    {
     "data": {
      "image/png": "[encoded data removed]",
      "text/plain": [
       "<Figure size 432x288 with 1 Axes>"
      ]
     },
     "metadata": {
      "needs_background": "light"
     },
     "output_type": "display_data"
    }
   ],
   "source": [
    "fig, ax = plt.subplots()\n",
    "ax.scatter(embedding[:,0], embedding[:,1], s=1, color='k', alpha = 0.1)\n",
    "ax.set_xlim([-15,15])\n",
    "ax.set_ylim([-15,15])"
   ]
  },
  {
   "cell_type": "code",
   "execution_count": null,
   "metadata": {
    "ExecuteTime": {
     "start_time": "2019-12-05T04:26:51.262Z"
    }
   },
   "outputs": [],
   "source": [
    "nex = -1\n",
    "scatter_spec(\n",
    "    embedding[:nex],\n",
    "    specs[:nex],\n",
    "    column_size=8,\n",
    "    #x_range = [-4.5,4],\n",
    "    #y_range = [-4.5,5.5],\n",
    "    pal_color=\"hls\",\n",
    "    color_points=False,\n",
    "    enlarge_points=0,\n",
    "    figsize=(10, 10),\n",
    "    range_pad = 0.15,\n",
    "    scatter_kwargs = {\n",
    "        #'labels': syllable_df.phrase.values[:nex],\n",
    "        'alpha':0.2,\n",
    "        's': 1,\n",
    "        'show_legend': False\n",
    "    },\n",
    "    matshow_kwargs = {\n",
    "        'cmap': plt.cm.Greys\n",
    "    },\n",
    "    line_kwargs = {\n",
    "        'lw':3,\n",
    "        'ls':\"dashed\",\n",
    "        'alpha':0.25,\n",
    "    },\n",
    "    draw_lines=True,\n",
    "    n_subset= 1000,\n",
    "    border_line_width = 3,\n",
    "\n",
    ");\n",
    "save_fig(FIGURE_DIR / 'discrete_umap' / ds, dpi=300, save_jpg=True, save_png=True)"
   ]
  },
  {
   "cell_type": "code",
   "execution_count": null,
   "metadata": {},
   "outputs": [],
   "source": []
  }
 ],
 "metadata": {
  "kernelspec": {
   "display_name": "Python 3",
   "language": "python",
   "name": "python3"
  },
  "language_info": {
   "codemirror_mode": {
    "name": "ipython",
    "version": 3
   },
   "file_extension": ".py",
   "mimetype": "text/x-python",
   "name": "python",
   "nbconvert_exporter": "python",
   "pygments_lexer": "ipython3",
   "version": "3.6.7"
  }
 },
 "nbformat": 4,
 "nbformat_minor": 2
}
