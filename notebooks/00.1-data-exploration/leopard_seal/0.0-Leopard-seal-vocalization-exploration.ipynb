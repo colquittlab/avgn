{
 "cells": [
  {
   "cell_type": "code",
   "execution_count": 1,
   "metadata": {
    "ExecuteTime": {
     "end_time": "2019-05-24T19:37:50.866183Z",
     "start_time": "2019-05-24T19:37:50.734157Z"
    }
   },
   "outputs": [
    {
     "name": "stdout",
     "output_type": "stream",
     "text": [
      "env: CUDA_VISIBLE_DEVICES=[]\n"
     ]
    }
   ],
   "source": [
    "%load_ext autoreload\n",
    "%autoreload 2\n",
    "%env CUDA_VISIBLE_DEVICES=[]"
   ]
  },
  {
   "cell_type": "markdown",
   "metadata": {},
   "source": [
    "### Leopard seal vocalizations\n",
    "Source:\n",
    "- https://www.mobysound.org/\n",
    "- http://localhost:8186/tree/Datasets/mobysound/leopard_seal\n",
    "\n",
    "\n",
    "**Note**: This dataset is very noisy"
   ]
  },
  {
   "cell_type": "code",
   "execution_count": 2,
   "metadata": {
    "ExecuteTime": {
     "end_time": "2019-05-24T19:37:55.852531Z",
     "start_time": "2019-05-24T19:37:51.047268Z"
    }
   },
   "outputs": [],
   "source": [
    "from pathlib2 import Path\n",
    "import numpy as np \n",
    "import pandas as pd\n",
    "import matplotlib.pyplot as plt\n",
    "import tensorflow as tf"
   ]
  },
  {
   "cell_type": "code",
   "execution_count": 305,
   "metadata": {
    "ExecuteTime": {
     "end_time": "2019-05-24T20:29:56.172547Z",
     "start_time": "2019-05-24T20:29:56.061318Z"
    }
   },
   "outputs": [],
   "source": [
    "from tqdm.autonotebook import tqdm\n",
    "from librosa.core.time_frequency import mel_frequencies\n",
    "from avgn_paper.signalprocessing.spectrogramming_tf import spectrogram_tensorflow\n",
    "from avgn_paper.utils.audio import load_wav, float32_to_int16, int16_to_float32, write_wav\n",
    "from avgn_paper.visualization.spectrogram import visualize_spec, plot_spec\n",
    "from avgn_paper.utils.general import HParams\n",
    "from avgn_paper.signalprocessing.filtering import butter_bandpass_filter"
   ]
  },
  {
   "cell_type": "markdown",
   "metadata": {},
   "source": [
    "### data locations"
   ]
  },
  {
   "cell_type": "code",
   "execution_count": 4,
   "metadata": {
    "ExecuteTime": {
     "end_time": "2019-05-24T19:38:04.848517Z",
     "start_time": "2019-05-24T19:38:04.726212Z"
    }
   },
   "outputs": [],
   "source": [
    "DSLOC = Path('/mnt/cube/Datasets/mobysound/leopard_seal/')\n",
    "readme = DSLOC/'readme_1st.txt'\n",
    "readme = [line for line in open(readme, 'r')]  "
   ]
  },
  {
   "cell_type": "markdown",
   "metadata": {},
   "source": [
    "### Load labels"
   ]
  },
  {
   "cell_type": "code",
   "execution_count": 6,
   "metadata": {
    "ExecuteTime": {
     "end_time": "2019-05-24T19:38:43.239431Z",
     "start_time": "2019-05-24T19:38:43.170615Z"
    }
   },
   "outputs": [],
   "source": [
    "LABEL_LOC = DSLOC / 'low_double_trill.xls'"
   ]
  },
  {
   "cell_type": "code",
   "execution_count": null,
   "metadata": {},
   "outputs": [],
   "source": [
    "rate = 1000"
   ]
  },
  {
   "cell_type": "code",
   "execution_count": 62,
   "metadata": {
    "ExecuteTime": {
     "end_time": "2019-05-24T19:52:21.286927Z",
     "start_time": "2019-05-24T19:52:21.185571Z"
    }
   },
   "outputs": [],
   "source": [
    "def get_sec(time_str):\n",
    "    if '.' in time_str:\n",
    "        time_str, ms = time_str.split('.')\n",
    "    else:\n",
    "        ms = '0'\n",
    "    h, m, s = time_str.split(':')\n",
    "    return int(h) * 3600 + int(m) * 60 + int(s) + float('.'+ms)"
   ]
  },
  {
   "cell_type": "code",
   "execution_count": 63,
   "metadata": {
    "ExecuteTime": {
     "end_time": "2019-05-24T19:52:21.761197Z",
     "start_time": "2019-05-24T19:52:21.344768Z"
    }
   },
   "outputs": [
    {
     "data": {
      "text/plain": [
       "7249"
      ]
     },
     "execution_count": 63,
     "metadata": {},
     "output_type": "execute_result"
    }
   ],
   "source": [
    "label_df = pd.read_excel(LABEL_LOC)\n",
    "label_df['start_time_s'] = [get_sec(time_str) for time_str in label_df['Start time [hh:mm:ss.ss]'].values]\n",
    "label_df['end_time_s'] = [get_sec(time_str) for time_str in label_df['End time [hh:mm:ss.ss]'].values]\n",
    "len(label_df)"
   ]
  },
  {
   "cell_type": "code",
   "execution_count": 65,
   "metadata": {
    "ExecuteTime": {
     "end_time": "2019-05-24T19:52:50.649830Z",
     "start_time": "2019-05-24T19:52:50.139419Z"
    }
   },
   "outputs": [
    {
     "data": {
      "text/html": [
       "<div>\n",
       "<style scoped>\n",
       "    .dataframe tbody tr th:only-of-type {\n",
       "        vertical-align: middle;\n",
       "    }\n",
       "\n",
       "    .dataframe tbody tr th {\n",
       "        vertical-align: top;\n",
       "    }\n",
       "\n",
       "    .dataframe thead th {\n",
       "        text-align: right;\n",
       "    }\n",
       "</style>\n",
       "<table border=\"1\" class=\"dataframe\">\n",
       "  <thead>\n",
       "    <tr style=\"text-align: right;\">\n",
       "      <th></th>\n",
       "      <th>Start time [hh:mm:ss.ss]</th>\n",
       "      <th>End time [hh:mm:ss.ss]</th>\n",
       "      <th>Start time [s]</th>\n",
       "      <th>End time [s]</th>\n",
       "      <th>Duration [s]</th>\n",
       "      <th>Low frequency [Hz]</th>\n",
       "      <th>High frequency [Hz]</th>\n",
       "      <th>Bandwidth [Hz]</th>\n",
       "      <th>start_time_s</th>\n",
       "      <th>end_time_s</th>\n",
       "    </tr>\n",
       "  </thead>\n",
       "  <tbody>\n",
       "    <tr>\n",
       "      <th>0</th>\n",
       "      <td>0:02:19.09</td>\n",
       "      <td>0:02:27.98</td>\n",
       "      <td>139.0927</td>\n",
       "      <td>147.9815</td>\n",
       "      <td>8.8889</td>\n",
       "      <td>247.8689</td>\n",
       "      <td>323.6066</td>\n",
       "      <td>75.7377</td>\n",
       "      <td>139.09</td>\n",
       "      <td>147.98</td>\n",
       "    </tr>\n",
       "    <tr>\n",
       "      <th>1</th>\n",
       "      <td>0:03:48.68</td>\n",
       "      <td>0:03:56.33</td>\n",
       "      <td>228.6791</td>\n",
       "      <td>236.3334</td>\n",
       "      <td>7.6543</td>\n",
       "      <td>319.6721</td>\n",
       "      <td>369.8361</td>\n",
       "      <td>50.1639</td>\n",
       "      <td>228.68</td>\n",
       "      <td>236.33</td>\n",
       "    </tr>\n",
       "    <tr>\n",
       "      <th>2</th>\n",
       "      <td>0:04:51.27</td>\n",
       "      <td>0:04:59.09</td>\n",
       "      <td>291.2697</td>\n",
       "      <td>299.0887</td>\n",
       "      <td>7.8189</td>\n",
       "      <td>259.6721</td>\n",
       "      <td>320.6557</td>\n",
       "      <td>60.9836</td>\n",
       "      <td>291.27</td>\n",
       "      <td>299.09</td>\n",
       "    </tr>\n",
       "  </tbody>\n",
       "</table>\n",
       "</div>"
      ],
      "text/plain": [
       "  Start time [hh:mm:ss.ss] End time [hh:mm:ss.ss]  Start time [s]  \\\n",
       "0               0:02:19.09             0:02:27.98        139.0927   \n",
       "1               0:03:48.68             0:03:56.33        228.6791   \n",
       "2               0:04:51.27             0:04:59.09        291.2697   \n",
       "\n",
       "   End time [s]  Duration [s]  Low frequency [Hz]  High frequency [Hz]  \\\n",
       "0      147.9815        8.8889            247.8689             323.6066   \n",
       "1      236.3334        7.6543            319.6721             369.8361   \n",
       "2      299.0887        7.8189            259.6721             320.6557   \n",
       "\n",
       "   Bandwidth [Hz]  start_time_s  end_time_s  \n",
       "0         75.7377        139.09      147.98  \n",
       "1         50.1639        228.68      236.33  \n",
       "2         60.9836        291.27      299.09  "
      ]
     },
     "execution_count": 65,
     "metadata": {},
     "output_type": "execute_result"
    }
   ],
   "source": [
    "label_df[:3]"
   ]
  },
  {
   "cell_type": "markdown",
   "metadata": {},
   "source": [
    "### Make wav dataset"
   ]
  },
  {
   "cell_type": "code",
   "execution_count": 130,
   "metadata": {
    "ExecuteTime": {
     "end_time": "2019-05-24T20:07:38.300931Z",
     "start_time": "2019-05-24T20:07:38.125159Z"
    }
   },
   "outputs": [
    {
     "data": {
      "text/plain": [
       "[PosixPath('/mnt/cube/Datasets/mobysound/leopard_seal/data/20071216-0000.wav'),\n",
       " PosixPath('/mnt/cube/Datasets/mobysound/leopard_seal/data/20071216-0001.wav'),\n",
       " PosixPath('/mnt/cube/Datasets/mobysound/leopard_seal/data/20071216-0002.wav')]"
      ]
     },
     "execution_count": 130,
     "metadata": {},
     "output_type": "execute_result"
    }
   ],
   "source": [
    "wavs = list((DSLOC / 'data').glob('2*.wav'))\n",
    "wavs.sort()\n",
    "len(wavs)\n",
    "wavs[:3]"
   ]
  },
  {
   "cell_type": "code",
   "execution_count": 246,
   "metadata": {
    "ExecuteTime": {
     "end_time": "2019-05-24T20:22:26.709102Z",
     "start_time": "2019-05-24T20:22:24.854479Z"
    }
   },
   "outputs": [
    {
     "data": {
      "application/vnd.jupyter.widget-view+json": {
       "model_id": "1b1a7ea726a948fb8e72cc2cd2bf3552",
       "version_major": 2,
       "version_minor": 0
      },
      "text/plain": [
       "HBox(children=(IntProgress(value=0, max=3922), HTML(value='')))"
      ]
     },
     "metadata": {},
     "output_type": "display_data"
    }
   ],
   "source": [
    "long_wav = np.concatenate([load_wav(wav_loc)[1] for wav_loc in tqdm(wavs)])"
   ]
  },
  {
   "cell_type": "code",
   "execution_count": 247,
   "metadata": {
    "ExecuteTime": {
     "end_time": "2019-05-24T20:22:31.585502Z",
     "start_time": "2019-05-24T20:22:31.479707Z"
    }
   },
   "outputs": [
    {
     "data": {
      "text/plain": [
       "230044268"
      ]
     },
     "execution_count": 247,
     "metadata": {},
     "output_type": "execute_result"
    }
   ],
   "source": [
    "len(long_wav)"
   ]
  },
  {
   "cell_type": "code",
   "execution_count": 131,
   "metadata": {
    "ExecuteTime": {
     "end_time": "2019-05-24T20:07:59.995798Z",
     "start_time": "2019-05-24T20:07:38.738181Z"
    }
   },
   "outputs": [
    {
     "data": {
      "application/vnd.jupyter.widget-view+json": {
       "model_id": "401dab38a63b4a27808d7ad3bba25a77",
       "version_major": 2,
       "version_minor": 0
      },
      "text/plain": [
       "HBox(children=(IntProgress(value=0, max=3922), HTML(value='')))"
      ]
     },
     "metadata": {},
     "output_type": "display_data"
    }
   ],
   "source": [
    "wav_ds = pd.DataFrame(columns = ['rate', 'data', 'file', 'wloc', 'wav_st', 'wav_et', 'ds_len'])\n",
    "st = 0\n",
    "for wav_loc in tqdm(wavs):\n",
    "    rate, data = load_wav(wav_loc)\n",
    "    ds_len = len(data)/rate\n",
    "    wav_ds.loc[len(wav_ds)] = [rate, data, wav_loc.stem, wav_loc, st, st+ds_len, ds_len]\n",
    "    st+=ds_len"
   ]
  },
  {
   "cell_type": "code",
   "execution_count": 133,
   "metadata": {
    "ExecuteTime": {
     "end_time": "2019-05-24T20:08:08.419221Z",
     "start_time": "2019-05-24T20:08:08.317288Z"
    }
   },
   "outputs": [
    {
     "data": {
      "text/plain": [
       "array([1000], dtype=object)"
      ]
     },
     "execution_count": 133,
     "metadata": {},
     "output_type": "execute_result"
    }
   ],
   "source": [
    "np.unique(wav_ds.rate.values)"
   ]
  },
  {
   "cell_type": "code",
   "execution_count": 134,
   "metadata": {
    "ExecuteTime": {
     "end_time": "2019-05-24T20:08:09.158708Z",
     "start_time": "2019-05-24T20:08:09.015098Z"
    }
   },
   "outputs": [
    {
     "data": {
      "text/html": [
       "<div>\n",
       "<style scoped>\n",
       "    .dataframe tbody tr th:only-of-type {\n",
       "        vertical-align: middle;\n",
       "    }\n",
       "\n",
       "    .dataframe tbody tr th {\n",
       "        vertical-align: top;\n",
       "    }\n",
       "\n",
       "    .dataframe thead th {\n",
       "        text-align: right;\n",
       "    }\n",
       "</style>\n",
       "<table border=\"1\" class=\"dataframe\">\n",
       "  <thead>\n",
       "    <tr style=\"text-align: right;\">\n",
       "      <th></th>\n",
       "      <th>rate</th>\n",
       "      <th>data</th>\n",
       "      <th>file</th>\n",
       "      <th>wloc</th>\n",
       "      <th>wav_st</th>\n",
       "      <th>wav_et</th>\n",
       "      <th>ds_len</th>\n",
       "    </tr>\n",
       "  </thead>\n",
       "  <tbody>\n",
       "    <tr>\n",
       "      <th>0</th>\n",
       "      <td>1000</td>\n",
       "      <td>[-122, -787, -415, -390, 201, 232, 61, 281, 25...</td>\n",
       "      <td>20071216-0000</td>\n",
       "      <td>/mnt/cube/Datasets/mobysound/leopard_seal/data...</td>\n",
       "      <td>0</td>\n",
       "      <td>38.288</td>\n",
       "      <td>38.288</td>\n",
       "    </tr>\n",
       "    <tr>\n",
       "      <th>1</th>\n",
       "      <td>1000</td>\n",
       "      <td>[38, -199, -19, -14, 141, 433, 125, 185, 532, ...</td>\n",
       "      <td>20071216-0001</td>\n",
       "      <td>/mnt/cube/Datasets/mobysound/leopard_seal/data...</td>\n",
       "      <td>38.288</td>\n",
       "      <td>100.280</td>\n",
       "      <td>61.992</td>\n",
       "    </tr>\n",
       "    <tr>\n",
       "      <th>2</th>\n",
       "      <td>1000</td>\n",
       "      <td>[-192, -832, -217, 591, 379, 615, 610, 137, 17...</td>\n",
       "      <td>20071216-0002</td>\n",
       "      <td>/mnt/cube/Datasets/mobysound/leopard_seal/data...</td>\n",
       "      <td>100.28</td>\n",
       "      <td>160.292</td>\n",
       "      <td>60.012</td>\n",
       "    </tr>\n",
       "    <tr>\n",
       "      <th>3</th>\n",
       "      <td>1000</td>\n",
       "      <td>[107, 110, -135, -70, 160, -185, -189, -14, 38...</td>\n",
       "      <td>20071216-0003</td>\n",
       "      <td>/mnt/cube/Datasets/mobysound/leopard_seal/data...</td>\n",
       "      <td>160.292</td>\n",
       "      <td>196.448</td>\n",
       "      <td>36.156</td>\n",
       "    </tr>\n",
       "    <tr>\n",
       "      <th>4</th>\n",
       "      <td>1000</td>\n",
       "      <td>[-110, -266, -361, -76, -89, 55, 169, 483, -15...</td>\n",
       "      <td>20071216-0004</td>\n",
       "      <td>/mnt/cube/Datasets/mobysound/leopard_seal/data...</td>\n",
       "      <td>196.448</td>\n",
       "      <td>256.460</td>\n",
       "      <td>60.012</td>\n",
       "    </tr>\n",
       "  </tbody>\n",
       "</table>\n",
       "</div>"
      ],
      "text/plain": [
       "   rate                                               data           file  \\\n",
       "0  1000  [-122, -787, -415, -390, 201, 232, 61, 281, 25...  20071216-0000   \n",
       "1  1000  [38, -199, -19, -14, 141, 433, 125, 185, 532, ...  20071216-0001   \n",
       "2  1000  [-192, -832, -217, 591, 379, 615, 610, 137, 17...  20071216-0002   \n",
       "3  1000  [107, 110, -135, -70, 160, -185, -189, -14, 38...  20071216-0003   \n",
       "4  1000  [-110, -266, -361, -76, -89, 55, 169, 483, -15...  20071216-0004   \n",
       "\n",
       "                                                wloc   wav_st   wav_et  ds_len  \n",
       "0  /mnt/cube/Datasets/mobysound/leopard_seal/data...        0   38.288  38.288  \n",
       "1  /mnt/cube/Datasets/mobysound/leopard_seal/data...   38.288  100.280  61.992  \n",
       "2  /mnt/cube/Datasets/mobysound/leopard_seal/data...   100.28  160.292  60.012  \n",
       "3  /mnt/cube/Datasets/mobysound/leopard_seal/data...  160.292  196.448  36.156  \n",
       "4  /mnt/cube/Datasets/mobysound/leopard_seal/data...  196.448  256.460  60.012  "
      ]
     },
     "execution_count": 134,
     "metadata": {},
     "output_type": "execute_result"
    }
   ],
   "source": [
    "wav_ds[:5]"
   ]
  },
  {
   "cell_type": "markdown",
   "metadata": {},
   "source": [
    "### grab a single test syllable"
   ]
  },
  {
   "cell_type": "code",
   "execution_count": 333,
   "metadata": {
    "ExecuteTime": {
     "end_time": "2019-05-24T20:31:14.119124Z",
     "start_time": "2019-05-24T20:31:13.650942Z"
    }
   },
   "outputs": [
    {
     "name": "stdout",
     "output_type": "stream",
     "text": [
      "100.0\n"
     ]
    }
   ],
   "source": [
    "win_length_ms = 100\n",
    "hop_length_ms = 10\n",
    "print(win_length_ms/1000*rate)\n",
    "hparams = HParams(  \n",
    "    # spectrogramming\n",
    "    win_length = int(rate/1000 * win_length_ms),\n",
    "    n_fft = 2048,\n",
    "    hop_length= int(rate/1000 * hop_length_ms),\n",
    "    ref_level_db = 20,\n",
    "    min_level_db = -70,\n",
    "    # mel scaling\n",
    "    num_mel_bins = 64,\n",
    "    mel_lower_edge_hertz = 0,\n",
    "    mel_upper_edge_hertz = 2000,\n",
    "    # inversion\n",
    "    power = 1.5, # for spectral inversion\n",
    "    griffin_lim_iters = 50,\n",
    "    pad=True,\n",
    "    #\n",
    ")"
   ]
  },
  {
   "cell_type": "code",
   "execution_count": 334,
   "metadata": {
    "ExecuteTime": {
     "end_time": "2019-05-24T20:31:14.249091Z",
     "start_time": "2019-05-24T20:31:14.121664Z"
    }
   },
   "outputs": [
    {
     "data": {
      "text/plain": [
       "Start time [hh:mm:ss.ss]     41:26:36.78\n",
       "End time [hh:mm:ss.ss]       41:26:40.41\n",
       "Start time [s]                    149197\n",
       "End time [s]                      149200\n",
       "Duration [s]                      3.6349\n",
       "Low frequency [Hz]               297.315\n",
       "High frequency [Hz]              343.624\n",
       "Bandwidth [Hz]                   46.3087\n",
       "start_time_s                      149197\n",
       "end_time_s                        149200\n",
       "Name: 1000, dtype: object"
      ]
     },
     "execution_count": 334,
     "metadata": {},
     "output_type": "execute_result"
    }
   ],
   "source": [
    "syll_row"
   ]
  },
  {
   "cell_type": "code",
   "execution_count": null,
   "metadata": {
    "ExecuteTime": {
     "end_time": "2019-05-24T20:29:44.281725Z",
     "start_time": "2019-05-24T20:29:44.178965Z"
    }
   },
   "outputs": [],
   "source": []
  },
  {
   "cell_type": "code",
   "execution_count": 335,
   "metadata": {
    "ExecuteTime": {
     "end_time": "2019-05-24T20:31:14.465752Z",
     "start_time": "2019-05-24T20:31:14.251207Z"
    }
   },
   "outputs": [],
   "source": [
    "syll_row = label_df.iloc[1000]\n",
    "syll_data = long_wav[int(syll_row.start_time_s*rate):int(syll_row.end_time_s*rate)]\n",
    "#syll_data = butter_bandpass_filter(syll_data, lowcut = syll_row['Low frequency [Hz]'], highcut=syll_row['High frequency [Hz]'], fs=rate, order=2)\n",
    "spectrogram = spectrogram_tensorflow(int16_to_float32(syll_data), hparams)"
   ]
  },
  {
   "cell_type": "code",
   "execution_count": 336,
   "metadata": {
    "ExecuteTime": {
     "end_time": "2019-05-24T20:31:14.703060Z",
     "start_time": "2019-05-24T20:31:14.468514Z"
    }
   },
   "outputs": [
    {
     "data": {
      "text/plain": [
       "(-0.5, 362.5, -0.5, 1024.5)"
      ]
     },
     "execution_count": 336,
     "metadata": {},
     "output_type": "execute_result"
    },
    {
     "data": {
      "image/png": "[encoded data removed]",
      "text/plain": [
       "<Figure size 720x360 with 1 Axes>"
      ]
     },
     "metadata": {
      "needs_background": "light"
     },
     "output_type": "display_data"
    }
   ],
   "source": [
    "fig, ax = plt.subplots(figsize=(10,5))\n",
    "ax.matshow(spectrogram.numpy().T, origin='lower', aspect='auto', cmap = plt.cm.afmhot)\n",
    "ax.axis('off')"
   ]
  },
  {
   "cell_type": "markdown",
   "metadata": {},
   "source": [
    "### make syllable dataset"
   ]
  },
  {
   "cell_type": "code",
   "execution_count": 338,
   "metadata": {
    "ExecuteTime": {
     "end_time": "2019-05-24T20:57:18.376426Z",
     "start_time": "2019-05-24T20:56:53.111278Z"
    }
   },
   "outputs": [
    {
     "data": {
      "application/vnd.jupyter.widget-view+json": {
       "model_id": "4b8040633c424aa39837696729fcca2a",
       "version_major": 2,
       "version_minor": 0
      },
      "text/plain": [
       "HBox(children=(IntProgress(value=0, max=7249), HTML(value='')))"
      ]
     },
     "metadata": {},
     "output_type": "display_data"
    }
   ],
   "source": [
    "syllable_df = pd.DataFrame(columns=[\"data\", \"start_time_s\", \"end_time_s\"])\n",
    "for idx, syll_row in tqdm(label_df.iterrows(), total=len(label_df)):\n",
    "    syll_data = long_wav[\n",
    "        int(syll_row.start_time_s * rate) : int(syll_row.end_time_s * rate)\n",
    "    ]\n",
    "    #syll_data = butter_bandpass_filter(\n",
    "    #    syll_data,\n",
    "    #    lowcut=syll_row[\"Low frequency [Hz]\"],\n",
    "    #    highcut=syll_row[\"High frequency [Hz]\"],\n",
    "    #    fs=rate,\n",
    "    #    order=2,\n",
    "    #)\n",
    "    #spectrogram = spectrogram_tensorflow(int16_to_float32(syll_data), hparams)\n",
    "    syllable_df.loc[len(syllable_df)] = [\n",
    "        syll_data,\n",
    "        syll_row.start_time_s,\n",
    "        syll_row.end_time_s,\n",
    "    ]"
   ]
  },
  {
   "cell_type": "code",
   "execution_count": null,
   "metadata": {},
   "outputs": [],
   "source": []
  }
 ],
 "metadata": {
  "kernelspec": {
   "display_name": "Python 3",
   "language": "python",
   "name": "python3"
  },
  "language_info": {
   "codemirror_mode": {
    "name": "ipython",
    "version": 3
   },
   "file_extension": ".py",
   "mimetype": "text/x-python",
   "name": "python",
   "nbconvert_exporter": "python",
   "pygments_lexer": "ipython3",
   "version": "3.6.8"
  }
 },
 "nbformat": 4,
 "nbformat_minor": 2
}
