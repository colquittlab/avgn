{
 "cells": [
  {
   "cell_type": "markdown",
   "metadata": {},
   "source": [
    "### giant otter vocalizations\n",
    "- ~500 vocalizations from https://journals.plos.org/plosone/article?id=10.1371/journal.pone.0112562"
   ]
  },
  {
   "cell_type": "code",
   "execution_count": 1,
   "metadata": {
    "ExecuteTime": {
     "end_time": "2020-04-24T17:14:51.622626Z",
     "start_time": "2020-04-24T17:14:50.791897Z"
    }
   },
   "outputs": [],
   "source": [
    "import pandas as pd\n",
    "import numpy as np\n",
    "import matplotlib.pyplot as plt"
   ]
  },
  {
   "cell_type": "code",
   "execution_count": 2,
   "metadata": {
    "ExecuteTime": {
     "end_time": "2020-04-24T17:14:53.094889Z",
     "start_time": "2020-04-24T17:14:51.625045Z"
    }
   },
   "outputs": [
    {
     "name": "stderr",
     "output_type": "stream",
     "text": [
      "/mnt/cube/tsainbur/conda_envs/tpy3/lib/python3.6/site-packages/tqdm/autonotebook/__init__.py:14: TqdmExperimentalWarning: Using `tqdm.autonotebook.tqdm` in notebook mode. Use `tqdm.tqdm` instead to force console mode (e.g. in jupyter console)\n",
      "  \" (e.g. in jupyter console)\", TqdmExperimentalWarning)\n"
     ]
    }
   ],
   "source": [
    "from avgn.utils.paths import DATA_DIR, ensure_dir"
   ]
  },
  {
   "cell_type": "code",
   "execution_count": 3,
   "metadata": {
    "ExecuteTime": {
     "end_time": "2020-04-24T17:14:53.099818Z",
     "start_time": "2020-04-24T17:14:53.097148Z"
    }
   },
   "outputs": [],
   "source": [
    "DSLOC = DATA_DIR /\"raw/otter/\""
   ]
  },
  {
   "cell_type": "code",
   "execution_count": 4,
   "metadata": {
    "ExecuteTime": {
     "end_time": "2020-04-24T17:14:53.113802Z",
     "start_time": "2020-04-24T17:14:53.102232Z"
    }
   },
   "outputs": [
    {
     "data": {
      "text/plain": [
       "PosixPath('/mnt/cube/tsainbur/Projects/github_repos/avgn_paper/data/raw/otter')"
      ]
     },
     "execution_count": 4,
     "metadata": {},
     "output_type": "execute_result"
    }
   ],
   "source": [
    "DSLOC"
   ]
  },
  {
   "cell_type": "code",
   "execution_count": 5,
   "metadata": {
    "ExecuteTime": {
     "end_time": "2020-04-24T17:14:53.225634Z",
     "start_time": "2020-04-24T17:14:53.115013Z"
    }
   },
   "outputs": [
    {
     "data": {
      "text/plain": [
       "453"
      ]
     },
     "execution_count": 5,
     "metadata": {},
     "output_type": "execute_result"
    }
   ],
   "source": [
    "wavfiles = list(DSLOC.glob('zip_contents/*.wav'))\n",
    "len(wavfiles)"
   ]
  },
  {
   "cell_type": "code",
   "execution_count": 6,
   "metadata": {
    "ExecuteTime": {
     "end_time": "2020-04-24T17:14:53.895988Z",
     "start_time": "2020-04-24T17:14:53.227317Z"
    }
   },
   "outputs": [],
   "source": [
    "wf_df = pd.DataFrame(columns = ['wav_loc', 'id', 'call_type'])\n",
    "for wf in wavfiles:\n",
    "    call_id, call_type = wf.stem[6:].split('_')\n",
    "    wf_df.loc[len(wf_df)] = [wf, call_id, call_type]"
   ]
  },
  {
   "cell_type": "code",
   "execution_count": 7,
   "metadata": {
    "ExecuteTime": {
     "end_time": "2020-04-24T17:14:53.906099Z",
     "start_time": "2020-04-24T17:14:53.897144Z"
    }
   },
   "outputs": [
    {
     "data": {
      "text/html": [
       "<div>\n",
       "<style scoped>\n",
       "    .dataframe tbody tr th:only-of-type {\n",
       "        vertical-align: middle;\n",
       "    }\n",
       "\n",
       "    .dataframe tbody tr th {\n",
       "        vertical-align: top;\n",
       "    }\n",
       "\n",
       "    .dataframe thead th {\n",
       "        text-align: right;\n",
       "    }\n",
       "</style>\n",
       "<table border=\"1\" class=\"dataframe\">\n",
       "  <thead>\n",
       "    <tr style=\"text-align: right;\">\n",
       "      <th></th>\n",
       "      <th>wav_loc</th>\n",
       "      <th>id</th>\n",
       "      <th>call_type</th>\n",
       "    </tr>\n",
       "  </thead>\n",
       "  <tbody>\n",
       "    <tr>\n",
       "      <th>0</th>\n",
       "      <td>/mnt/cube/tsainbur/Projects/github_repos/avgn_...</td>\n",
       "      <td>S357</td>\n",
       "      <td>snort</td>\n",
       "    </tr>\n",
       "    <tr>\n",
       "      <th>1</th>\n",
       "      <td>/mnt/cube/tsainbur/Projects/github_repos/avgn_...</td>\n",
       "      <td>S054</td>\n",
       "      <td>begging scream</td>\n",
       "    </tr>\n",
       "    <tr>\n",
       "      <th>2</th>\n",
       "      <td>/mnt/cube/tsainbur/Projects/github_repos/avgn_...</td>\n",
       "      <td>S121</td>\n",
       "      <td>contact call</td>\n",
       "    </tr>\n",
       "  </tbody>\n",
       "</table>\n",
       "</div>"
      ],
      "text/plain": [
       "                                             wav_loc    id       call_type\n",
       "0  /mnt/cube/tsainbur/Projects/github_repos/avgn_...  S357           snort\n",
       "1  /mnt/cube/tsainbur/Projects/github_repos/avgn_...  S054  begging scream\n",
       "2  /mnt/cube/tsainbur/Projects/github_repos/avgn_...  S121    contact call"
      ]
     },
     "execution_count": 7,
     "metadata": {},
     "output_type": "execute_result"
    }
   ],
   "source": [
    "wf_df[:3]"
   ]
  },
  {
   "cell_type": "code",
   "execution_count": 9,
   "metadata": {
    "ExecuteTime": {
     "end_time": "2020-04-24T17:15:10.901118Z",
     "start_time": "2020-04-24T17:15:10.896465Z"
    }
   },
   "outputs": [
    {
     "data": {
      "text/plain": [
       "array([PosixPath('/mnt/cube/tsainbur/Projects/github_repos/avgn_paper/data/raw/otter/zip_contents/Audio S357_snort.wav'),\n",
       "       PosixPath('/mnt/cube/tsainbur/Projects/github_repos/avgn_paper/data/raw/otter/zip_contents/Audio S054_begging scream.wav'),\n",
       "       PosixPath('/mnt/cube/tsainbur/Projects/github_repos/avgn_paper/data/raw/otter/zip_contents/Audio S121_contact call.wav'),\n",
       "       PosixPath('/mnt/cube/tsainbur/Projects/github_repos/avgn_paper/data/raw/otter/zip_contents/Audio S014_bark.wav')],\n",
       "      dtype=object)"
      ]
     },
     "execution_count": 9,
     "metadata": {},
     "output_type": "execute_result"
    }
   ],
   "source": [
    "wf_df.wav_loc.values[:4]"
   ]
  },
  {
   "cell_type": "code",
   "execution_count": 23,
   "metadata": {
    "ExecuteTime": {
     "end_time": "2019-10-01T04:20:52.083610Z",
     "start_time": "2019-10-01T04:20:52.075170Z"
    }
   },
   "outputs": [
    {
     "data": {
      "text/plain": [
       "453"
      ]
     },
     "execution_count": 23,
     "metadata": {},
     "output_type": "execute_result"
    }
   ],
   "source": [
    "len(wf_df)"
   ]
  },
  {
   "cell_type": "code",
   "execution_count": 22,
   "metadata": {
    "ExecuteTime": {
     "end_time": "2019-10-01T04:20:38.154855Z",
     "start_time": "2019-10-01T04:20:38.144558Z"
    }
   },
   "outputs": [
    {
     "data": {
      "text/plain": [
       "array(['snort', 'begging scream', 'contact call', 'bark', 'hah',\n",
       "       'begging scream gradation', 'whistle', 'Ascending scream', 'growl',\n",
       "       'whistle double', 'isolation call', 'whine', 'wavering scream',\n",
       "       'close call', 'contact call gradation', 'hum', 'begging call',\n",
       "       'hum short', 'hum gradation', 'suckling call', 'underwater call',\n",
       "       'Distress call 1', 'begging call like', 'contact call like',\n",
       "       'high whistle', 'low whistle', 'Distress call 2', 'hum like',\n",
       "       'bark like', 'hum gradation like'], dtype=object)"
      ]
     },
     "execution_count": 22,
     "metadata": {},
     "output_type": "execute_result"
    }
   ],
   "source": [
    "wf_df.call_type.unique()"
   ]
  },
  {
   "cell_type": "code",
   "execution_count": 24,
   "metadata": {
    "ExecuteTime": {
     "end_time": "2019-10-01T04:20:56.926274Z",
     "start_time": "2019-10-01T04:20:56.916085Z"
    }
   },
   "outputs": [
    {
     "data": {
      "text/plain": [
       "30"
      ]
     },
     "execution_count": 24,
     "metadata": {},
     "output_type": "execute_result"
    }
   ],
   "source": [
    "len(wf_df.call_type.unique())"
   ]
  },
  {
   "cell_type": "code",
   "execution_count": null,
   "metadata": {},
   "outputs": [],
   "source": []
  }
 ],
 "metadata": {
  "kernelspec": {
   "display_name": "Python 3",
   "language": "python",
   "name": "python3"
  },
  "language_info": {
   "codemirror_mode": {
    "name": "ipython",
    "version": 3
   },
   "file_extension": ".py",
   "mimetype": "text/x-python",
   "name": "python",
   "nbconvert_exporter": "python",
   "pygments_lexer": "ipython3",
   "version": "3.6.7"
  }
 },
 "nbformat": 4,
 "nbformat_minor": 2
}
