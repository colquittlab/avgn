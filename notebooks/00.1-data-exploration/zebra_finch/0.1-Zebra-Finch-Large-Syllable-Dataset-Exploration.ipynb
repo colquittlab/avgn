{
 "cells": [
  {
   "cell_type": "code",
   "execution_count": 1,
   "metadata": {
    "ExecuteTime": {
     "end_time": "2019-09-29T22:44:01.584277Z",
     "start_time": "2019-09-29T22:44:01.442085Z"
    }
   },
   "outputs": [
    {
     "name": "stdout",
     "output_type": "stream",
     "text": [
      "env: CUDA_VISIBLE_DEVICES=[]\n"
     ]
    }
   ],
   "source": [
    "%load_ext autoreload\n",
    "%autoreload 2\n",
    "%env CUDA_VISIBLE_DEVICES=[]"
   ]
  },
  {
   "cell_type": "markdown",
   "metadata": {},
   "source": [
    "### Zebra Finch vocalizations\n",
    "Source:\n",
    "- https://journals.plos.org/plosone/article?id=10.1371/journal.pone.0181992\n",
    "- https://osf.io/bx76r/\n",
    "- http://localhost:8186/notebooks/tsainbur/Projects/github_repos/animalvocalizationgenerativenet/notebooks/birdsong/zebra_finch/1.0-segment-song-from-wavs.ipynb\n",
    "\n",
    "This dataset is larger than the other, but only contains songs, and from fewer individuals"
   ]
  },
  {
   "cell_type": "code",
   "execution_count": 2,
   "metadata": {
    "ExecuteTime": {
     "end_time": "2019-09-29T22:44:09.585009Z",
     "start_time": "2019-09-29T22:44:01.709069Z"
    }
   },
   "outputs": [],
   "source": [
    "from pathlib2 import Path\n",
    "import numpy as np \n",
    "import pandas as pd\n",
    "import matplotlib.pyplot as plt\n",
    "import tensorflow as tf\n",
    "import re\n",
    "import IPython\n",
    "import seaborn as sns"
   ]
  },
  {
   "cell_type": "code",
   "execution_count": null,
   "metadata": {
    "ExecuteTime": {
     "end_time": "2019-09-29T22:44:10.209825Z",
     "start_time": "2019-09-29T22:44:01.993Z"
    }
   },
   "outputs": [],
   "source": [
    "import pdb\n",
    "from joblib import Parallel, delayed\n",
    "n_jobs = 10\n",
    "verbosity = 5"
   ]
  },
  {
   "cell_type": "code",
   "execution_count": 10,
   "metadata": {
    "ExecuteTime": {
     "end_time": "2019-09-29T22:44:28.839604Z",
     "start_time": "2019-09-29T22:44:28.732851Z"
    }
   },
   "outputs": [],
   "source": [
    "from tqdm.autonotebook import tqdm"
   ]
  },
  {
   "cell_type": "markdown",
   "metadata": {},
   "source": [
    "### data locations"
   ]
  },
  {
   "cell_type": "code",
   "execution_count": 5,
   "metadata": {
    "ExecuteTime": {
     "end_time": "2019-09-29T22:44:20.075382Z",
     "start_time": "2019-09-29T22:44:19.972169Z"
    }
   },
   "outputs": [],
   "source": [
    "DSLOC = Path('/mnt/cube/Datasets/ZebraFinch/OSF-BX76R/')"
   ]
  },
  {
   "cell_type": "code",
   "execution_count": 6,
   "metadata": {
    "ExecuteTime": {
     "end_time": "2019-09-29T22:44:20.309658Z",
     "start_time": "2019-09-29T22:44:20.123393Z"
    }
   },
   "outputs": [
    {
     "data": {
      "text/plain": [
       "8"
      ]
     },
     "execution_count": 6,
     "metadata": {},
     "output_type": "execute_result"
    }
   ],
   "source": [
    "MATFILES = list(DSLOC.expanduser().glob('*/*.mat'))\n",
    "MATFILES = [i for i in MATFILES if i.stem[0]!='.']\n",
    "len(MATFILES)"
   ]
  },
  {
   "cell_type": "code",
   "execution_count": 7,
   "metadata": {
    "ExecuteTime": {
     "end_time": "2019-09-29T22:44:20.441911Z",
     "start_time": "2019-09-29T22:44:20.312085Z"
    }
   },
   "outputs": [
    {
     "data": {
      "text/plain": [
       "[PosixPath('/mnt/cube/Datasets/ZebraFinch/OSF-BX76R/lr13/song.mat'),\n",
       " PosixPath('/mnt/cube/Datasets/ZebraFinch/OSF-BX76R/lr77/song.mat'),\n",
       " PosixPath('/mnt/cube/Datasets/ZebraFinch/OSF-BX76R/lr28/song.mat'),\n",
       " PosixPath('/mnt/cube/Datasets/ZebraFinch/OSF-BX76R/lny46/song.mat'),\n",
       " PosixPath('/mnt/cube/Datasets/ZebraFinch/OSF-BX76R/lny4rb/song.mat'),\n",
       " PosixPath('/mnt/cube/Datasets/ZebraFinch/OSF-BX76R/lr12/song.mat'),\n",
       " PosixPath('/mnt/cube/Datasets/ZebraFinch/OSF-BX76R/lny64/song.mat'),\n",
       " PosixPath('/mnt/cube/Datasets/ZebraFinch/OSF-BX76R/lny42/song.mat')]"
      ]
     },
     "execution_count": 7,
     "metadata": {},
     "output_type": "execute_result"
    }
   ],
   "source": [
    "MATFILES"
   ]
  },
  {
   "cell_type": "code",
   "execution_count": 8,
   "metadata": {
    "ExecuteTime": {
     "end_time": "2019-09-29T22:44:20.521682Z",
     "start_time": "2019-09-29T22:44:20.444918Z"
    }
   },
   "outputs": [],
   "source": [
    "import h5py as h5"
   ]
  },
  {
   "cell_type": "code",
   "execution_count": 11,
   "metadata": {
    "ExecuteTime": {
     "end_time": "2019-09-29T22:44:35.586598Z",
     "start_time": "2019-09-29T22:44:30.300475Z"
    }
   },
   "outputs": [
    {
     "data": {
      "application/vnd.jupyter.widget-view+json": {
       "model_id": "00b28c0604eb4ee4811a012c589dda87",
       "version_major": 2,
       "version_minor": 0
      },
      "text/plain": [
       "HBox(children=(IntProgress(value=0, max=8), HTML(value='')))"
      ]
     },
     "metadata": {},
     "output_type": "display_data"
    },
    {
     "name": "stdout",
     "output_type": "stream",
     "text": [
      "\n"
     ]
    }
   ],
   "source": [
    "for mat_file in tqdm(MATFILES):\n",
    "    indv = mat_file.parent.stem\n",
    "    # try loading the MAT file\n",
    "    try:\n",
    "        with h5.File(mat_file) as f: \n",
    "            song = f['song'].value\n",
    "            rate = f['fs'].value[0]\n",
    "    except: \n",
    "        print(indv +' failed')\n",
    "        continue\n",
    "    break"
   ]
  },
  {
   "cell_type": "code",
   "execution_count": 12,
   "metadata": {
    "ExecuteTime": {
     "end_time": "2019-09-29T22:44:35.681249Z",
     "start_time": "2019-09-29T22:44:35.591087Z"
    }
   },
   "outputs": [
    {
     "data": {
      "text/plain": [
       "(3000, 22923)"
      ]
     },
     "execution_count": 12,
     "metadata": {},
     "output_type": "execute_result"
    }
   ],
   "source": [
    "np.shape(song)"
   ]
  },
  {
   "cell_type": "code",
   "execution_count": 14,
   "metadata": {
    "ExecuteTime": {
     "end_time": "2019-09-29T22:44:45.210043Z",
     "start_time": "2019-09-29T22:44:44.851752Z"
    }
   },
   "outputs": [
    {
     "data": {
      "text/plain": [
       "[<matplotlib.lines.Line2D at 0x7f9d79415d68>]"
      ]
     },
     "execution_count": 14,
     "metadata": {},
     "output_type": "execute_result"
    },
    {
     "data": {
      "image/png": "[encoded data removed]",
      "text/plain": [
       "<Figure size 432x288 with 1 Axes>"
      ]
     },
     "metadata": {
      "needs_background": "light"
     },
     "output_type": "display_data"
    }
   ],
   "source": [
    "plt.plot(song[0,:])"
   ]
  },
  {
   "cell_type": "code",
   "execution_count": 15,
   "metadata": {
    "ExecuteTime": {
     "end_time": "2019-09-29T22:44:50.320950Z",
     "start_time": "2019-09-29T22:44:50.023095Z"
    }
   },
   "outputs": [
    {
     "data": {
      "text/plain": [
       "[<matplotlib.lines.Line2D at 0x7f9d793dedd8>]"
      ]
     },
     "execution_count": 15,
     "metadata": {},
     "output_type": "execute_result"
    },
    {
     "data": {
      "image/png": "[encoded data removed]",
      "text/plain": [
       "<Figure size 432x288 with 1 Axes>"
      ]
     },
     "metadata": {
      "needs_background": "light"
     },
     "output_type": "display_data"
    }
   ],
   "source": [
    "plt.plot(song[1,:])"
   ]
  },
  {
   "cell_type": "code",
   "execution_count": null,
   "metadata": {},
   "outputs": [],
   "source": []
  }
 ],
 "metadata": {
  "kernelspec": {
   "display_name": "Python 3",
   "language": "python",
   "name": "python3"
  },
  "language_info": {
   "codemirror_mode": {
    "name": "ipython",
    "version": 3
   },
   "file_extension": ".py",
   "mimetype": "text/x-python",
   "name": "python",
   "nbconvert_exporter": "python",
   "pygments_lexer": "ipython3",
   "version": "3.6.7"
  }
 },
 "nbformat": 4,
 "nbformat_minor": 2
}
