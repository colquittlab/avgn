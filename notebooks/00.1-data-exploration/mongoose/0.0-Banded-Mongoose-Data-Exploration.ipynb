{
 "cells": [
  {
   "cell_type": "code",
   "execution_count": 1,
   "metadata": {
    "ExecuteTime": {
     "end_time": "2019-06-06T06:02:45.976656Z",
     "start_time": "2019-06-06T06:02:45.623879Z"
    }
   },
   "outputs": [
    {
     "name": "stdout",
     "output_type": "stream",
     "text": [
      "env: CUDA_VISIBLE_DEVICES=[]\n"
     ]
    }
   ],
   "source": [
    "%load_ext autoreload\n",
    "%autoreload 2\n",
    "%env CUDA_VISIBLE_DEVICES=[]"
   ]
  },
  {
   "cell_type": "markdown",
   "metadata": {},
   "source": [
    "### Banded Mongoose vocalizations\n",
    "Source:\n",
    "- https://www.zora.uzh.ch/id/eprint/78275/1/David_Jansen_PhD_thesis_03MAY13.pdf\n",
    "- https://mynotebook.labarchives.com/doi/OTAxMC4zfDY5MzEvNjkzMS9Ob3RlYm9vay80MTA2NzYyMjY3fDIyODcyLjM=/10.6070/H4W37T8Q"
   ]
  },
  {
   "cell_type": "code",
   "execution_count": 2,
   "metadata": {
    "ExecuteTime": {
     "end_time": "2019-06-06T06:02:52.545656Z",
     "start_time": "2019-06-06T06:02:46.186330Z"
    }
   },
   "outputs": [],
   "source": [
    "from pathlib2 import Path\n",
    "import numpy as np \n",
    "import pandas as pd\n",
    "import matplotlib.pyplot as plt\n",
    "import tensorflow as tf\n",
    "import re\n",
    "import IPython\n",
    "from datetime import datetime"
   ]
  },
  {
   "cell_type": "code",
   "execution_count": 3,
   "metadata": {
    "ExecuteTime": {
     "end_time": "2019-06-06T06:02:54.439299Z",
     "start_time": "2019-06-06T06:02:52.551643Z"
    }
   },
   "outputs": [],
   "source": [
    "from avgn_paper.signalprocessing import spectrogramming as sg"
   ]
  },
  {
   "cell_type": "code",
   "execution_count": 4,
   "metadata": {
    "ExecuteTime": {
     "end_time": "2019-06-06T06:02:54.523368Z",
     "start_time": "2019-06-06T06:02:54.444114Z"
    }
   },
   "outputs": [],
   "source": [
    "import pdb\n",
    "from joblib import Parallel, delayed\n",
    "n_jobs = 10\n",
    "verbosity = 5"
   ]
  },
  {
   "cell_type": "code",
   "execution_count": 5,
   "metadata": {
    "ExecuteTime": {
     "end_time": "2019-06-06T06:02:54.659002Z",
     "start_time": "2019-06-06T06:02:54.528883Z"
    }
   },
   "outputs": [
    {
     "name": "stderr",
     "output_type": "stream",
     "text": [
      "/mnt/cube/tsainbur/conda_envs/tpy3/lib/python3.6/site-packages/tqdm/autonotebook/__init__.py:14: TqdmExperimentalWarning: Using `tqdm.autonotebook.tqdm` in notebook mode. Use `tqdm.tqdm` instead to force console mode (e.g. in jupyter console)\n",
      "  \" (e.g. in jupyter console)\", TqdmExperimentalWarning)\n"
     ]
    }
   ],
   "source": [
    "from tqdm.autonotebook import tqdm\n",
    "from librosa.core.time_frequency import mel_frequencies\n",
    "from avgn_paper.signalprocessing.spectrogramming_tf import spectrogram_tensorflow\n",
    "from avgn_paper.utils.audio import load_wav, float32_to_int16, int16_to_float32, write_wav\n",
    "from avgn_paper.visualization.spectrogram import visualize_spec, plot_spec\n",
    "from avgn_paper.utils.general import HParams\n",
    "from avgn_paper.signalprocessing.filtering import butter_bandpass_filter"
   ]
  },
  {
   "cell_type": "markdown",
   "metadata": {},
   "source": [
    "### data locations"
   ]
  },
  {
   "cell_type": "code",
   "execution_count": 6,
   "metadata": {
    "ExecuteTime": {
     "end_time": "2019-06-06T06:02:54.731561Z",
     "start_time": "2019-06-06T06:02:54.662056Z"
    }
   },
   "outputs": [],
   "source": [
    "DSLOC = Path('/mnt/cube/Datasets/mongoose')"
   ]
  },
  {
   "cell_type": "code",
   "execution_count": 7,
   "metadata": {
    "ExecuteTime": {
     "end_time": "2019-06-06T06:02:54.850991Z",
     "start_time": "2019-06-06T06:02:54.734884Z"
    }
   },
   "outputs": [
    {
     "data": {
      "text/plain": [
       "495"
      ]
     },
     "execution_count": 7,
     "metadata": {},
     "output_type": "execute_result"
    }
   ],
   "source": [
    "WAVLIST = list((DSLOC / '1. orgional recordings').expanduser().glob('*.wav'))\n",
    "len(WAVLIST)"
   ]
  },
  {
   "cell_type": "code",
   "execution_count": 8,
   "metadata": {
    "ExecuteTime": {
     "end_time": "2019-06-06T06:02:54.963414Z",
     "start_time": "2019-06-06T06:02:54.854688Z"
    }
   },
   "outputs": [
    {
     "data": {
      "text/plain": [
       "['close call',\n",
       " 'search',\n",
       " '15',\n",
       " 'M50',\n",
       " '9.13',\n",
       " '20090923am',\n",
       " '15',\n",
       " 'M50',\n",
       " 'focal',\n",
       " 'audio']"
      ]
     },
     "execution_count": 8,
     "metadata": {},
     "output_type": "execute_result"
    }
   ],
   "source": [
    "WAVLIST[0].stem.split('_')"
   ]
  },
  {
   "cell_type": "code",
   "execution_count": 9,
   "metadata": {
    "ExecuteTime": {
     "end_time": "2019-06-06T06:02:55.061625Z",
     "start_time": "2019-06-06T06:02:54.965416Z"
    }
   },
   "outputs": [
    {
     "data": {
      "text/plain": [
       "array([ 5,  6,  7,  8,  9, 10, 11, 12])"
      ]
     },
     "execution_count": 9,
     "metadata": {},
     "output_type": "execute_result"
    }
   ],
   "source": [
    "np.unique([len(wf.stem.split('_')) for wf in WAVLIST])"
   ]
  },
  {
   "cell_type": "code",
   "execution_count": 10,
   "metadata": {
    "ExecuteTime": {
     "end_time": "2019-06-06T06:02:58.503405Z",
     "start_time": "2019-06-06T06:02:55.063715Z"
    }
   },
   "outputs": [
    {
     "name": "stderr",
     "output_type": "stream",
     "text": [
      "/mnt/cube/tsainbur/conda_envs/tpy3/lib/python3.6/site-packages/scipy/io/wavfile.py:273: WavFileWarning: Chunk (non-data) not understood, skipping it.\n",
      "  WavFileWarning)\n"
     ]
    },
    {
     "name": "stdout",
     "output_type": "stream",
     "text": [
      "Unsupported bit depth: the wav file has 24-bit data.\n",
      "test\n",
      "Unsupported bit depth: the wav file has 24-bit data.\n",
      "test\n"
     ]
    }
   ],
   "source": [
    "# parse wav file name\n",
    "syllable_df = pd.DataFrame(\n",
    "    columns=[\n",
    "        \"call_type\",\n",
    "        \"group\",\n",
    "        \"indv\",\n",
    "        \"date\",\n",
    "        \"dist\",\n",
    "        \"wav_loc\",\n",
    "        \"rate\",\n",
    "        \"vocdata\",\n",
    "        \"voc_len\",\n",
    "    ]\n",
    ")\n",
    "for wf in WAVLIST:\n",
    "    wav_items = wf.stem.split(\"_\")\n",
    "\n",
    "    if len(wav_items) > 5:\n",
    "        close_call = wav_items[0]\n",
    "        search_move_forage = wav_items[1]\n",
    "        group = wav_items[2]\n",
    "        indv_ID = wav_items[3]\n",
    "        dist = wav_items[4]\n",
    "        date = wav_items[5].split(\" \")[0]\n",
    "    else:\n",
    "        close_call = wav_items[0]\n",
    "        search_move_forage = wav_items[1]\n",
    "        group = wav_items[2]\n",
    "        indv_ID = wav_items[3]\n",
    "        date = wav_items[4].split(\" \")[0]\n",
    "        dist = None\n",
    "    try:\n",
    "        datetime_object = datetime.strptime(date, \"%Y%m%d%p\")\n",
    "    except:\n",
    "        try:\n",
    "            datetime_object = datetime.strptime(date, \"%Y%m%d\")\n",
    "        except:\n",
    "            try:\n",
    "                close_call = wav_items[0]\n",
    "                search_move_forage = wav_items[1]\n",
    "                group = wav_items[2]\n",
    "                indv_ID = wav_items[3]\n",
    "                date = wav_items[4].split(\" \")[0]\n",
    "                datetime_object = datetime.strptime(date, \"%Y%m%d%p\")\n",
    "            except:\n",
    "                try:\n",
    "                    close_call = wav_items[0]\n",
    "                    search_move_forage = wav_items[1]\n",
    "                    group = wav_items[2]\n",
    "                    indv_ID = wav_items[3]\n",
    "                    dist = wav_items[5]\n",
    "                    date = wav_items[6].split(\" \")[0]\n",
    "                    datetime_object = datetime.strptime(date, \"%Y%m%d%p\")\n",
    "                except:\n",
    "                    continue\n",
    "\n",
    "    rate, data = load_wav(wf)\n",
    "\n",
    "    if rate is None: \n",
    "        print('test')\n",
    "        continue\n",
    "    \n",
    "    data = butter_bandpass_filter(data, lowcut = 500, highcut=15000, fs=rate, order=4)\n",
    "\n",
    "    syllable_df.loc[len(syllable_df)] = [\n",
    "        search_move_forage,\n",
    "        group,\n",
    "        indv_ID,\n",
    "        date,\n",
    "        dist,\n",
    "        wf,\n",
    "        rate,\n",
    "        data,\n",
    "        len(data) / rate,\n",
    "    ]"
   ]
  },
  {
   "cell_type": "code",
   "execution_count": 11,
   "metadata": {
    "ExecuteTime": {
     "end_time": "2019-06-06T06:02:58.562837Z",
     "start_time": "2019-06-06T06:02:58.505271Z"
    }
   },
   "outputs": [
    {
     "data": {
      "text/plain": [
       "489"
      ]
     },
     "execution_count": 11,
     "metadata": {},
     "output_type": "execute_result"
    }
   ],
   "source": [
    "len(syllable_df)"
   ]
  },
  {
   "cell_type": "code",
   "execution_count": 12,
   "metadata": {
    "ExecuteTime": {
     "end_time": "2019-06-06T06:02:58.766701Z",
     "start_time": "2019-06-06T06:02:58.564552Z"
    }
   },
   "outputs": [
    {
     "data": {
      "text/html": [
       "<div>\n",
       "<style scoped>\n",
       "    .dataframe tbody tr th:only-of-type {\n",
       "        vertical-align: middle;\n",
       "    }\n",
       "\n",
       "    .dataframe tbody tr th {\n",
       "        vertical-align: top;\n",
       "    }\n",
       "\n",
       "    .dataframe thead th {\n",
       "        text-align: right;\n",
       "    }\n",
       "</style>\n",
       "<table border=\"1\" class=\"dataframe\">\n",
       "  <thead>\n",
       "    <tr style=\"text-align: right;\">\n",
       "      <th></th>\n",
       "      <th>call_type</th>\n",
       "      <th>group</th>\n",
       "      <th>indv</th>\n",
       "      <th>date</th>\n",
       "      <th>dist</th>\n",
       "      <th>wav_loc</th>\n",
       "      <th>rate</th>\n",
       "      <th>vocdata</th>\n",
       "      <th>voc_len</th>\n",
       "    </tr>\n",
       "  </thead>\n",
       "  <tbody>\n",
       "    <tr>\n",
       "      <th>0</th>\n",
       "      <td>search</td>\n",
       "      <td>15</td>\n",
       "      <td>M50</td>\n",
       "      <td>20090923am</td>\n",
       "      <td>9.13</td>\n",
       "      <td>/mnt/cube/Datasets/mongoose/1. orgional record...</td>\n",
       "      <td>44100</td>\n",
       "      <td>[6.060841181458646, 14.491478295106566, 2.9347...</td>\n",
       "      <td>0.151088</td>\n",
       "    </tr>\n",
       "    <tr>\n",
       "      <th>1</th>\n",
       "      <td>move</td>\n",
       "      <td>1H</td>\n",
       "      <td>F80</td>\n",
       "      <td>20100316am</td>\n",
       "      <td>3.08</td>\n",
       "      <td>/mnt/cube/Datasets/mongoose/1. orgional record...</td>\n",
       "      <td>44100</td>\n",
       "      <td>[-27.161547516907266, -101.86537075030316, -13...</td>\n",
       "      <td>0.437392</td>\n",
       "    </tr>\n",
       "    <tr>\n",
       "      <th>2</th>\n",
       "      <td>move</td>\n",
       "      <td>11</td>\n",
       "      <td>M54</td>\n",
       "      <td>20110524am</td>\n",
       "      <td>0.44</td>\n",
       "      <td>/mnt/cube/Datasets/mongoose/1. orgional record...</td>\n",
       "      <td>44100</td>\n",
       "      <td>[1355.1591930542907, 4628.926282431502, 5394.3...</td>\n",
       "      <td>0.285941</td>\n",
       "    </tr>\n",
       "  </tbody>\n",
       "</table>\n",
       "</div>"
      ],
      "text/plain": [
       "  call_type group indv        date  dist  \\\n",
       "0    search    15  M50  20090923am  9.13   \n",
       "1      move    1H  F80  20100316am  3.08   \n",
       "2      move    11  M54  20110524am  0.44   \n",
       "\n",
       "                                             wav_loc   rate  \\\n",
       "0  /mnt/cube/Datasets/mongoose/1. orgional record...  44100   \n",
       "1  /mnt/cube/Datasets/mongoose/1. orgional record...  44100   \n",
       "2  /mnt/cube/Datasets/mongoose/1. orgional record...  44100   \n",
       "\n",
       "                                             vocdata   voc_len  \n",
       "0  [6.060841181458646, 14.491478295106566, 2.9347...  0.151088  \n",
       "1  [-27.161547516907266, -101.86537075030316, -13...  0.437392  \n",
       "2  [1355.1591930542907, 4628.926282431502, 5394.3...  0.285941  "
      ]
     },
     "execution_count": 12,
     "metadata": {},
     "output_type": "execute_result"
    }
   ],
   "source": [
    "syllable_df[:3]"
   ]
  },
  {
   "cell_type": "code",
   "execution_count": 14,
   "metadata": {
    "ExecuteTime": {
     "end_time": "2019-06-06T06:03:07.355310Z",
     "start_time": "2019-06-06T06:03:07.228601Z"
    }
   },
   "outputs": [
    {
     "data": {
      "text/plain": [
       "42"
      ]
     },
     "execution_count": 14,
     "metadata": {},
     "output_type": "execute_result"
    }
   ],
   "source": [
    "len(np.unique(syllable_df.indv))"
   ]
  },
  {
   "cell_type": "code",
   "execution_count": 21,
   "metadata": {
    "ExecuteTime": {
     "end_time": "2019-05-27T21:34:26.197068Z",
     "start_time": "2019-05-27T21:34:25.724906Z"
    }
   },
   "outputs": [],
   "source": [
    "import seaborn as sns"
   ]
  },
  {
   "cell_type": "code",
   "execution_count": 22,
   "metadata": {
    "ExecuteTime": {
     "end_time": "2019-05-27T21:34:27.597414Z",
     "start_time": "2019-05-27T21:34:26.200305Z"
    }
   },
   "outputs": [
    {
     "name": "stderr",
     "output_type": "stream",
     "text": [
      "/mnt/cube/tsainbur/conda_envs/tpy3/lib/python3.6/site-packages/scipy/stats/stats.py:1713: FutureWarning: Using a non-tuple sequence for multidimensional indexing is deprecated; use `arr[tuple(seq)]` instead of `arr[seq]`. In the future this will be interpreted as an array index, `arr[np.array(seq)]`, which will result either in an error or a different result.\n",
      "  return np.add.reduce(sorted[indexer] * weights, axis=axis) / sumval\n",
      "/mnt/cube/tsainbur/conda_envs/tpy3/lib/python3.6/site-packages/numpy/core/_methods.py:140: RuntimeWarning: Degrees of freedom <= 0 for slice\n",
      "  keepdims=keepdims)\n",
      "/mnt/cube/tsainbur/conda_envs/tpy3/lib/python3.6/site-packages/numpy/core/_methods.py:132: RuntimeWarning: invalid value encountered in double_scalars\n",
      "  ret = ret.dtype.type(ret / rcount)\n",
      "/mnt/cube/tsainbur/conda_envs/tpy3/lib/python3.6/site-packages/statsmodels/nonparametric/bandwidths.py:20: RuntimeWarning: invalid value encountered in minimum\n",
      "  return np.minimum(np.std(X, axis=0, ddof=1), IQR)\n",
      "/mnt/cube/tsainbur/conda_envs/tpy3/lib/python3.6/site-packages/numpy/core/fromnumeric.py:83: RuntimeWarning: invalid value encountered in reduce\n",
      "  return ufunc.reduce(obj, axis, dtype, out, **passkwargs)\n"
     ]
    },
    {
     "data": {
      "image/png": "[encoded data removed]",
      "text/plain": [
       "<Figure size 432x288 with 1 Axes>"
      ]
     },
     "metadata": {
      "needs_background": "light"
     },
     "output_type": "display_data"
    }
   ],
   "source": [
    "for indv in np.unique(syllable_df.indv):\n",
    "    sns.distplot(syllable_df[syllable_df.indv==indv][\"voc_len\"], label=indv)\n",
    "#plt.legend()"
   ]
  },
  {
   "cell_type": "markdown",
   "metadata": {},
   "source": [
    "### Create spectrogram"
   ]
  },
  {
   "cell_type": "code",
   "execution_count": 23,
   "metadata": {
    "ExecuteTime": {
     "end_time": "2019-05-27T21:34:27.658929Z",
     "start_time": "2019-05-27T21:34:27.599626Z"
    }
   },
   "outputs": [],
   "source": [
    "def prepare_mel_matrix(hparams, return_numpy=True):\n",
    "    # create a filter to convolve with the spectrogram\n",
    "    mel_matrix = tf.signal.linear_to_mel_weight_matrix(\n",
    "        num_mel_bins=hparams.num_mel_bins,\n",
    "        num_spectrogram_bins=int(hparams.n_fft / 2) + 1,\n",
    "        sample_rate=rate,\n",
    "        lower_edge_hertz=hparams.mel_lower_edge_hertz,\n",
    "        upper_edge_hertz=hparams.mel_upper_edge_hertz,\n",
    "        dtype=tf.dtypes.float32,\n",
    "        name=None,\n",
    "    )\n",
    "    \n",
    "    # gets the center frequencies of mel bands\n",
    "    mel_f = mel_frequencies(\n",
    "        n_mels=hparams.num_mel_bins + 2,\n",
    "        fmin=hparams.mel_lower_edge_hertz,\n",
    "        fmax=hparams.mel_upper_edge_hertz,\n",
    "    )\n",
    "\n",
    "    # Slaney-style mel is scaled to be approx constant energy per channel (from librosa)\n",
    "    enorm = tf.dtypes.cast(\n",
    "        tf.expand_dims(\n",
    "            tf.constant(\n",
    "                2.0 / (mel_f[2 : hparams.num_mel_bins + 2] - mel_f[: hparams.num_mel_bins])\n",
    "            ),\n",
    "            0,\n",
    "        ),\n",
    "        tf.float32,\n",
    "    )\n",
    "\n",
    "    mel_matrix = tf.multiply(mel_matrix, enorm)\n",
    "    mel_matrix = tf.divide(mel_matrix, tf.reduce_sum(mel_matrix, axis=0))\n",
    "    if return_numpy:\n",
    "        return mel_matrix.numpy()\n",
    "    else:\n",
    "        return mel_matrix"
   ]
  },
  {
   "cell_type": "code",
   "execution_count": 82,
   "metadata": {
    "ExecuteTime": {
     "end_time": "2019-05-27T21:40:38.395836Z",
     "start_time": "2019-05-27T21:40:37.867186Z"
    }
   },
   "outputs": [
    {
     "name": "stdout",
     "output_type": "stream",
     "text": [
      "220.5\n",
      "44.1\n"
     ]
    }
   ],
   "source": [
    "win_length_ms = 5\n",
    "hop_length_ms = 1\n",
    "print(win_length_ms / 1000 * rate)\n",
    "print(hop_length_ms / 1000 * rate)\n",
    "\n",
    "hparams = HParams(\n",
    "    # spectrogramming\n",
    "    win_length=int(rate / 1000 * win_length_ms),\n",
    "    n_fft=1024,\n",
    "    hop_length=int(rate / 1000 * hop_length_ms),\n",
    "    ref_level_db=20,\n",
    "    min_level_db=-50,\n",
    "    preemphasis=0.97,\n",
    "    # mel scaling\n",
    "    num_mel_bins=64,\n",
    "    mel_lower_edge_hertz=20,\n",
    "    mel_upper_edge_hertz=4000,\n",
    "    # inversion\n",
    "    power=1.5,  # for spectral inversion\n",
    "    griffin_lim_iters=50,\n",
    "    pad=True,\n",
    "    #\n",
    ")\n",
    "mel_matrix = prepare_mel_matrix(hparams)"
   ]
  },
  {
   "cell_type": "code",
   "execution_count": 98,
   "metadata": {
    "ExecuteTime": {
     "end_time": "2019-05-27T21:41:28.348532Z",
     "start_time": "2019-05-27T21:41:28.234828Z"
    }
   },
   "outputs": [],
   "source": [
    "audio = int16_to_float32(syllable_df.vocdata.values[18])\n",
    "spectrogram = sg.spectrogram(audio, hparams)\n",
    "mel_spec = np.dot(spectrogram.T, mel_matrix).T"
   ]
  },
  {
   "cell_type": "code",
   "execution_count": 99,
   "metadata": {
    "ExecuteTime": {
     "end_time": "2019-05-27T21:41:28.692382Z",
     "start_time": "2019-05-27T21:41:28.414610Z"
    }
   },
   "outputs": [
    {
     "data": {
      "text/html": [
       "\n",
       "                <audio controls=\"controls\" >\n",
       "                    <source src=\"data:audio/wav;base64,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\" type=\"audio/wav\" />\n",
       "                    Your browser does not support the audio element.\n",
       "                </audio>\n",
       "              "
      ],
      "text/plain": [
       "<IPython.lib.display.Audio object>"
      ]
     },
     "execution_count": 99,
     "metadata": {},
     "output_type": "execute_result"
    },
    {
     "data": {
      "image/png": "[encoded data removed]",
      "text/plain": [
       "<Figure size 432x288 with 1 Axes>"
      ]
     },
     "metadata": {
      "needs_background": "light"
     },
     "output_type": "display_data"
    }
   ],
   "source": [
    "plt.plot(audio)\n",
    "IPython.display.Audio(data=audio, rate=rate)"
   ]
  },
  {
   "cell_type": "code",
   "execution_count": 100,
   "metadata": {
    "ExecuteTime": {
     "end_time": "2019-05-27T21:41:29.082674Z",
     "start_time": "2019-05-27T21:41:28.694808Z"
    }
   },
   "outputs": [
    {
     "data": {
      "text/plain": [
       "<matplotlib.image.AxesImage at 0x7f198024fc50>"
      ]
     },
     "execution_count": 100,
     "metadata": {},
     "output_type": "execute_result"
    },
    {
     "data": {
      "image/png": "[encoded data removed]",
      "text/plain": [
       "<Figure size 720x360 with 2 Axes>"
      ]
     },
     "metadata": {
      "needs_background": "light"
     },
     "output_type": "display_data"
    }
   ],
   "source": [
    "fig, axs = plt.subplots(ncols = 2, figsize=(10,5))\n",
    "axs[0].matshow(spectrogram, origin='lower', aspect='auto', cmap = plt.cm.afmhot)\n",
    "axs[1].matshow(mel_spec, origin='lower', aspect='auto', cmap = plt.cm.afmhot)\n",
    "#ax.axis('off')"
   ]
  },
  {
   "cell_type": "code",
   "execution_count": null,
   "metadata": {},
   "outputs": [],
   "source": []
  },
  {
   "cell_type": "code",
   "execution_count": null,
   "metadata": {},
   "outputs": [],
   "source": []
  },
  {
   "cell_type": "code",
   "execution_count": null,
   "metadata": {},
   "outputs": [],
   "source": []
  },
  {
   "cell_type": "code",
   "execution_count": null,
   "metadata": {},
   "outputs": [],
   "source": []
  }
 ],
 "metadata": {
  "kernelspec": {
   "display_name": "Python 3",
   "language": "python",
   "name": "python3"
  },
  "language_info": {
   "codemirror_mode": {
    "name": "ipython",
    "version": 3
   },
   "file_extension": ".py",
   "mimetype": "text/x-python",
   "name": "python",
   "nbconvert_exporter": "python",
   "pygments_lexer": "ipython3",
   "version": "3.6.7"
  }
 },
 "nbformat": 4,
 "nbformat_minor": 2
}
