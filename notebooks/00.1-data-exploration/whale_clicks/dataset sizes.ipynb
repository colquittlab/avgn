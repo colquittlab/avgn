{
 "cells": [
  {
   "cell_type": "markdown",
   "metadata": {},
   "source": [
    "- mesoplodon - medium\n",
    "- Orca - ~1200 clicks\n",
    "- Pac whitesided dolphin - large\n",
    "- Pilot whale - large\n",
    "- Rissos - medium large\n",
    "- Rough tooth - small\n",
    "- sperm whale  - large\n",
    "- spotted dolphin - maybe\n",
    "- striped dolphin - small\n",
    "- ziphius - small to medium\n",
    "- gray whale - confusing"
   ]
  },
  {
   "cell_type": "code",
   "execution_count": 1,
   "metadata": {
    "ExecuteTime": {
     "end_time": "2019-05-29T18:14:54.865128Z",
     "start_time": "2019-05-29T18:14:54.859257Z"
    }
   },
   "outputs": [],
   "source": [
    "fl = '/mnt/cube/Datasets/mobysound/5thworkshop/whistle_annotations/bottlenose/palmyra092007FS192-070924-205305.bin'"
   ]
  },
  {
   "cell_type": "code",
   "execution_count": 5,
   "metadata": {
    "ExecuteTime": {
     "end_time": "2019-05-29T18:16:21.447640Z",
     "start_time": "2019-05-29T18:16:21.436217Z"
    }
   },
   "outputs": [],
   "source": [
    "import struct\n",
    "\n",
    "data = open(fl, \"rb\").read()"
   ]
  },
  {
   "cell_type": "code",
   "execution_count": 7,
   "metadata": {
    "ExecuteTime": {
     "end_time": "2019-05-29T18:16:36.557190Z",
     "start_time": "2019-05-29T18:16:36.548435Z"
    }
   },
   "outputs": [
    {
     "data": {
      "text/plain": [
       "4247980"
      ]
     },
     "execution_count": 7,
     "metadata": {},
     "output_type": "execute_result"
    }
   ],
   "source": [
    "len(data)"
   ]
  },
  {
   "cell_type": "code",
   "execution_count": 8,
   "metadata": {
    "ExecuteTime": {
     "end_time": "2019-05-29T18:16:40.714979Z",
     "start_time": "2019-05-29T18:16:40.706716Z"
    }
   },
   "outputs": [
    {
     "data": {
      "text/plain": [
       "b'\\x00\\x00\\x01'"
      ]
     },
     "execution_count": 8,
     "metadata": {},
     "output_type": "execute_result"
    }
   ],
   "source": [
    "data[:3]"
   ]
  },
  {
   "cell_type": "code",
   "execution_count": null,
   "metadata": {},
   "outputs": [],
   "source": []
  }
 ],
 "metadata": {
  "kernelspec": {
   "display_name": "Python 3",
   "language": "python",
   "name": "python3"
  },
  "language_info": {
   "codemirror_mode": {
    "name": "ipython",
    "version": 3
   },
   "file_extension": ".py",
   "mimetype": "text/x-python",
   "name": "python",
   "nbconvert_exporter": "python",
   "pygments_lexer": "ipython3",
   "version": "3.6.8"
  }
 },
 "nbformat": 4,
 "nbformat_minor": 2
}
