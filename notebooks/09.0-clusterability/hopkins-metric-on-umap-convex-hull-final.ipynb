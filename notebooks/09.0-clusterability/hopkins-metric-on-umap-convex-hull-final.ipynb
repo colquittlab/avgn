{
 "cells": [
  {
   "cell_type": "code",
   "execution_count": 9,
   "metadata": {
    "ExecuteTime": {
     "end_time": "2020-03-09T21:21:35.886526Z",
     "start_time": "2020-03-09T21:21:35.653821Z"
    }
   },
   "outputs": [
    {
     "name": "stdout",
     "output_type": "stream",
     "text": [
      "The autoreload extension is already loaded. To reload it, use:\n",
      "  %reload_ext autoreload\n"
     ]
    }
   ],
   "source": [
    "%load_ext autoreload\n",
    "%autoreload 2"
   ]
  },
  {
   "cell_type": "code",
   "execution_count": 10,
   "metadata": {
    "ExecuteTime": {
     "end_time": "2020-03-09T21:21:35.909524Z",
     "start_time": "2020-03-09T21:21:35.889648Z"
    }
   },
   "outputs": [],
   "source": [
    "import numpy as np\n",
    "import pandas as pd\n",
    "from avgn.utils.paths import DATA_DIR, most_recent_subdirectory, ensure_dir\n",
    "from sklearn.preprocessing import scale\n",
    "#from pyclustertend import hopkins, vat, ivat\n",
    "import matplotlib.pyplot as plt\n",
    "from tqdm.autonotebook import tqdm"
   ]
  },
  {
   "cell_type": "code",
   "execution_count": 14,
   "metadata": {
    "ExecuteTime": {
     "end_time": "2020-03-09T21:22:28.744823Z",
     "start_time": "2020-03-09T21:22:28.719612Z"
    }
   },
   "outputs": [],
   "source": [
    "from avgn.clusterability.hopkins import hopkins_statistic"
   ]
  },
  {
   "cell_type": "code",
   "execution_count": 15,
   "metadata": {
    "ExecuteTime": {
     "end_time": "2020-03-09T21:22:28.900615Z",
     "start_time": "2020-03-09T21:22:28.871145Z"
    }
   },
   "outputs": [
    {
     "data": {
      "text/plain": [
       "98"
      ]
     },
     "execution_count": 15,
     "metadata": {},
     "output_type": "execute_result"
    }
   ],
   "source": [
    "datasets = list(DATA_DIR.glob('embeddings/*/*.pickle'))\n",
    "len(datasets)"
   ]
  },
  {
   "cell_type": "code",
   "execution_count": 16,
   "metadata": {
    "ExecuteTime": {
     "end_time": "2020-03-09T21:22:30.264914Z",
     "start_time": "2020-03-09T21:22:30.239502Z"
    },
    "scrolled": true
   },
   "outputs": [
    {
     "data": {
      "text/plain": [
       "[PosixPath('/mnt/cube/tsainbur/Projects/github_repos/avgn_paper/data/embeddings/koumura_bengalese_finch/Bird0.pickle'),\n",
       " PosixPath('/mnt/cube/tsainbur/Projects/github_repos/avgn_paper/data/embeddings/koumura_bengalese_finch/Bird2.pickle'),\n",
       " PosixPath('/mnt/cube/tsainbur/Projects/github_repos/avgn_paper/data/embeddings/koumura_bengalese_finch/Bird9.pickle'),\n",
       " PosixPath('/mnt/cube/tsainbur/Projects/github_repos/avgn_paper/data/embeddings/koumura_bengalese_finch/Bird4.pickle'),\n",
       " PosixPath('/mnt/cube/tsainbur/Projects/github_repos/avgn_paper/data/embeddings/koumura_bengalese_finch/Bird6.pickle'),\n",
       " PosixPath('/mnt/cube/tsainbur/Projects/github_repos/avgn_paper/data/embeddings/koumura_bengalese_finch/Bird10.pickle'),\n",
       " PosixPath('/mnt/cube/tsainbur/Projects/github_repos/avgn_paper/data/embeddings/koumura_bengalese_finch/Bird5.pickle'),\n",
       " PosixPath('/mnt/cube/tsainbur/Projects/github_repos/avgn_paper/data/embeddings/koumura_bengalese_finch/Bird8.pickle'),\n",
       " PosixPath('/mnt/cube/tsainbur/Projects/github_repos/avgn_paper/data/embeddings/koumura_bengalese_finch/Bird7.pickle'),\n",
       " PosixPath('/mnt/cube/tsainbur/Projects/github_repos/avgn_paper/data/embeddings/koumura_bengalese_finch/Bird1.pickle'),\n",
       " PosixPath('/mnt/cube/tsainbur/Projects/github_repos/avgn_paper/data/embeddings/koumura_bengalese_finch/Bird3.pickle'),\n",
       " PosixPath('/mnt/cube/tsainbur/Projects/github_repos/avgn_paper/data/embeddings/gibbon_morita_segmented/full.pickle'),\n",
       " PosixPath('/mnt/cube/tsainbur/Projects/github_repos/avgn_paper/data/embeddings/katahira_white_munia_segmented/WM14.pickle'),\n",
       " PosixPath('/mnt/cube/tsainbur/Projects/github_repos/avgn_paper/data/embeddings/katahira_white_munia_segmented/WM19.pickle'),\n",
       " PosixPath('/mnt/cube/tsainbur/Projects/github_repos/avgn_paper/data/embeddings/katahira_white_munia_segmented/WM02.pickle'),\n",
       " PosixPath('/mnt/cube/tsainbur/Projects/github_repos/avgn_paper/data/embeddings/katahira_white_munia_segmented/WM42.pickle'),\n",
       " PosixPath('/mnt/cube/tsainbur/Projects/github_repos/avgn_paper/data/embeddings/katahira_white_munia_segmented/WM35.pickle'),\n",
       " PosixPath('/mnt/cube/tsainbur/Projects/github_repos/avgn_paper/data/embeddings/katahira_white_munia_segmented/WM38.pickle'),\n",
       " PosixPath('/mnt/cube/tsainbur/Projects/github_repos/avgn_paper/data/embeddings/katahira_white_munia_segmented/WM23.pickle'),\n",
       " PosixPath('/mnt/cube/tsainbur/Projects/github_repos/avgn_paper/data/embeddings/katahira_white_munia_segmented/WM16.pickle'),\n",
       " PosixPath('/mnt/cube/tsainbur/Projects/github_repos/avgn_paper/data/embeddings/katahira_white_munia_segmented/WM40.pickle'),\n",
       " PosixPath('/mnt/cube/tsainbur/Projects/github_repos/avgn_paper/data/embeddings/katahira_white_munia_segmented/WM37.pickle'),\n",
       " PosixPath('/mnt/cube/tsainbur/Projects/github_repos/avgn_paper/data/embeddings/katahira_white_munia_segmented/WM21.pickle'),\n",
       " PosixPath('/mnt/cube/tsainbur/Projects/github_repos/avgn_paper/data/embeddings/katahira_white_munia_segmented/WM06.pickle'),\n",
       " PosixPath('/mnt/cube/tsainbur/Projects/github_repos/avgn_paper/data/embeddings/katahira_white_munia_segmented/WM10.pickle'),\n",
       " PosixPath('/mnt/cube/tsainbur/Projects/github_repos/avgn_paper/data/embeddings/katahira_white_munia_segmented/WM27.pickle'),\n",
       " PosixPath('/mnt/cube/tsainbur/Projects/github_repos/avgn_paper/data/embeddings/katahira_white_munia_segmented/WM31.pickle'),\n",
       " PosixPath('/mnt/cube/tsainbur/Projects/github_repos/avgn_paper/data/embeddings/katahira_white_munia_segmented/WM04.pickle'),\n",
       " PosixPath('/mnt/cube/tsainbur/Projects/github_repos/avgn_paper/data/embeddings/katahira_white_munia_segmented/WM44.pickle'),\n",
       " PosixPath('/mnt/cube/tsainbur/Projects/github_repos/avgn_paper/data/embeddings/katahira_white_munia_segmented/WM12.pickle'),\n",
       " PosixPath('/mnt/cube/tsainbur/Projects/github_repos/avgn_paper/data/embeddings/katahira_white_munia_segmented/WM09.pickle'),\n",
       " PosixPath('/mnt/cube/tsainbur/Projects/github_repos/avgn_paper/data/embeddings/katahira_white_munia_segmented/WM25.pickle'),\n",
       " PosixPath('/mnt/cube/tsainbur/Projects/github_repos/avgn_paper/data/embeddings/katahira_white_munia_segmented/WM33.pickle'),\n",
       " PosixPath('/mnt/cube/tsainbur/Projects/github_repos/avgn_paper/data/embeddings/katahira_white_munia_segmented/WM28.pickle'),\n",
       " PosixPath('/mnt/cube/tsainbur/Projects/github_repos/avgn_paper/data/embeddings/katahira_white_munia_segmented/WM30.pickle'),\n",
       " PosixPath('/mnt/cube/tsainbur/Projects/github_repos/avgn_paper/data/embeddings/katahira_white_munia_segmented/WM26.pickle'),\n",
       " PosixPath('/mnt/cube/tsainbur/Projects/github_repos/avgn_paper/data/embeddings/katahira_white_munia_segmented/WM11.pickle'),\n",
       " PosixPath('/mnt/cube/tsainbur/Projects/github_repos/avgn_paper/data/embeddings/katahira_white_munia_segmented/WM07.pickle'),\n",
       " PosixPath('/mnt/cube/tsainbur/Projects/github_repos/avgn_paper/data/embeddings/katahira_white_munia_segmented/WM32.pickle'),\n",
       " PosixPath('/mnt/cube/tsainbur/Projects/github_repos/avgn_paper/data/embeddings/katahira_white_munia_segmented/WM29.pickle'),\n",
       " PosixPath('/mnt/cube/tsainbur/Projects/github_repos/avgn_paper/data/embeddings/katahira_white_munia_segmented/WM24.pickle'),\n",
       " PosixPath('/mnt/cube/tsainbur/Projects/github_repos/avgn_paper/data/embeddings/katahira_white_munia_segmented/WM13.pickle'),\n",
       " PosixPath('/mnt/cube/tsainbur/Projects/github_repos/avgn_paper/data/embeddings/katahira_white_munia_segmented/WM08.pickle'),\n",
       " PosixPath('/mnt/cube/tsainbur/Projects/github_repos/avgn_paper/data/embeddings/katahira_white_munia_segmented/WM05.pickle'),\n",
       " PosixPath('/mnt/cube/tsainbur/Projects/github_repos/avgn_paper/data/embeddings/katahira_white_munia_segmented/WM39.pickle'),\n",
       " PosixPath('/mnt/cube/tsainbur/Projects/github_repos/avgn_paper/data/embeddings/katahira_white_munia_segmented/WM22.pickle'),\n",
       " PosixPath('/mnt/cube/tsainbur/Projects/github_repos/avgn_paper/data/embeddings/katahira_white_munia_segmented/WM34.pickle'),\n",
       " PosixPath('/mnt/cube/tsainbur/Projects/github_repos/avgn_paper/data/embeddings/katahira_white_munia_segmented/WM18.pickle'),\n",
       " PosixPath('/mnt/cube/tsainbur/Projects/github_repos/avgn_paper/data/embeddings/katahira_white_munia_segmented/WM43.pickle'),\n",
       " PosixPath('/mnt/cube/tsainbur/Projects/github_repos/avgn_paper/data/embeddings/katahira_white_munia_segmented/WM03.pickle'),\n",
       " PosixPath('/mnt/cube/tsainbur/Projects/github_repos/avgn_paper/data/embeddings/katahira_white_munia_segmented/WM15.pickle'),\n",
       " PosixPath('/mnt/cube/tsainbur/Projects/github_repos/avgn_paper/data/embeddings/katahira_white_munia_segmented/WM20.pickle'),\n",
       " PosixPath('/mnt/cube/tsainbur/Projects/github_repos/avgn_paper/data/embeddings/katahira_white_munia_segmented/WM36.pickle'),\n",
       " PosixPath('/mnt/cube/tsainbur/Projects/github_repos/avgn_paper/data/embeddings/katahira_white_munia_segmented/WM01.pickle'),\n",
       " PosixPath('/mnt/cube/tsainbur/Projects/github_repos/avgn_paper/data/embeddings/katahira_white_munia_segmented/WM41.pickle'),\n",
       " PosixPath('/mnt/cube/tsainbur/Projects/github_repos/avgn_paper/data/embeddings/katahira_white_munia_segmented/WM17.pickle'),\n",
       " PosixPath('/mnt/cube/tsainbur/Projects/github_repos/avgn_paper/data/embeddings/zebra_finch_gardner_segmented/lr12.pickle'),\n",
       " PosixPath('/mnt/cube/tsainbur/Projects/github_repos/avgn_paper/data/embeddings/zebra_finch_gardner_segmented/lr28.pickle'),\n",
       " PosixPath('/mnt/cube/tsainbur/Projects/github_repos/avgn_paper/data/embeddings/zebra_finch_gardner_segmented/lny42.pickle'),\n",
       " PosixPath('/mnt/cube/tsainbur/Projects/github_repos/avgn_paper/data/embeddings/zebra_finch_gardner_segmented/lr77.pickle'),\n",
       " PosixPath('/mnt/cube/tsainbur/Projects/github_repos/avgn_paper/data/embeddings/zebra_finch_gardner_segmented/lr13.pickle'),\n",
       " PosixPath('/mnt/cube/tsainbur/Projects/github_repos/avgn_paper/data/embeddings/zebra_finch_gardner_segmented/lny64.pickle'),\n",
       " PosixPath('/mnt/cube/tsainbur/Projects/github_repos/avgn_paper/data/embeddings/giant_otter/full.pickle'),\n",
       " PosixPath('/mnt/cube/tsainbur/Projects/github_repos/avgn_paper/data/embeddings/swamp_sparrow/full-pad.pickle'),\n",
       " PosixPath('/mnt/cube/tsainbur/Projects/github_repos/avgn_paper/data/embeddings/canary_segmented/bird2.pickle'),\n",
       " PosixPath('/mnt/cube/tsainbur/Projects/github_repos/avgn_paper/data/embeddings/canary_segmented/bird4.pickle'),\n",
       " PosixPath('/mnt/cube/tsainbur/Projects/github_repos/avgn_paper/data/embeddings/canary_segmented/bird6.pickle'),\n",
       " PosixPath('/mnt/cube/tsainbur/Projects/github_repos/avgn_paper/data/embeddings/canary_segmented/bird1.pickle'),\n",
       " PosixPath('/mnt/cube/tsainbur/Projects/github_repos/avgn_paper/data/embeddings/canary_segmented/bird3.pickle'),\n",
       " PosixPath('/mnt/cube/tsainbur/Projects/github_repos/avgn_paper/data/embeddings/european_starling_gentner_segmented/b1077.pickle'),\n",
       " PosixPath('/mnt/cube/tsainbur/Projects/github_repos/avgn_paper/data/embeddings/european_starling_gentner_segmented/b1125.pickle'),\n",
       " PosixPath('/mnt/cube/tsainbur/Projects/github_repos/avgn_paper/data/embeddings/european_starling_gentner_segmented/b1053.pickle'),\n",
       " PosixPath('/mnt/cube/tsainbur/Projects/github_repos/avgn_paper/data/embeddings/european_starling_gentner_segmented/b1066.pickle'),\n",
       " PosixPath('/mnt/cube/tsainbur/Projects/github_repos/avgn_paper/data/embeddings/european_starling_gentner_segmented/b1143.pickle'),\n",
       " PosixPath('/mnt/cube/tsainbur/Projects/github_repos/avgn_paper/data/embeddings/european_starling_gentner_segmented/b1076.pickle'),\n",
       " PosixPath('/mnt/cube/tsainbur/Projects/github_repos/avgn_paper/data/embeddings/european_starling_gentner_segmented/b1060.pickle'),\n",
       " PosixPath('/mnt/cube/tsainbur/Projects/github_repos/avgn_paper/data/embeddings/BIRD_DB_Vireo_cassinii/full.pickle'),\n",
       " PosixPath('/mnt/cube/tsainbur/Projects/github_repos/avgn_paper/data/embeddings/batsong_segmented/full.pickle'),\n",
       " PosixPath('/mnt/cube/tsainbur/Projects/github_repos/avgn_paper/data/embeddings/mobysound_humpback_whale/full.pickle'),\n",
       " PosixPath('/mnt/cube/tsainbur/Projects/github_repos/avgn_paper/data/embeddings/buckeye/human_full.pickle'),\n",
       " PosixPath('/mnt/cube/tsainbur/Projects/github_repos/avgn_paper/data/embeddings/BIRD_DB_Toxostoma_redivivum/CATH-TLR2.pickle'),\n",
       " PosixPath('/mnt/cube/tsainbur/Projects/github_repos/avgn_paper/data/embeddings/BIRD_DB_Toxostoma_redivivum/CATH-TLR4.pickle'),\n",
       " PosixPath('/mnt/cube/tsainbur/Projects/github_repos/avgn_paper/data/embeddings/BIRD_DB_Toxostoma_redivivum/CATH-TLR9.pickle'),\n",
       " PosixPath('/mnt/cube/tsainbur/Projects/github_repos/avgn_paper/data/embeddings/BIRD_DB_Toxostoma_redivivum/CATH-TLR7.pickle'),\n",
       " PosixPath('/mnt/cube/tsainbur/Projects/github_repos/avgn_paper/data/embeddings/BIRD_DB_Toxostoma_redivivum/CATH-TLR12.pickle'),\n",
       " PosixPath('/mnt/cube/tsainbur/Projects/github_repos/avgn_paper/data/embeddings/BIRD_DB_Toxostoma_redivivum/CATH-TLR8.pickle'),\n",
       " PosixPath('/mnt/cube/tsainbur/Projects/github_repos/avgn_paper/data/embeddings/BIRD_DB_Toxostoma_redivivum/CATH-TLR10.pickle'),\n",
       " PosixPath('/mnt/cube/tsainbur/Projects/github_repos/avgn_paper/data/embeddings/BIRD_DB_Toxostoma_redivivum/CATH-TLR3.pickle'),\n",
       " PosixPath('/mnt/cube/tsainbur/Projects/github_repos/avgn_paper/data/embeddings/BIRD_DB_Toxostoma_redivivum/CATH-TLR1.pickle'),\n",
       " PosixPath('/mnt/cube/tsainbur/Projects/github_repos/avgn_paper/data/embeddings/BIRD_DB_Toxostoma_redivivum/CATH-CP1.pickle'),\n",
       " PosixPath('/mnt/cube/tsainbur/Projects/github_repos/avgn_paper/data/embeddings/bengalese_finch_sober/or60yw70.pickle'),\n",
       " PosixPath('/mnt/cube/tsainbur/Projects/github_repos/avgn_paper/data/embeddings/bengalese_finch_sober/gy6or6.pickle'),\n",
       " PosixPath('/mnt/cube/tsainbur/Projects/github_repos/avgn_paper/data/embeddings/bengalese_finch_sober/gr41rd51.pickle'),\n",
       " PosixPath('/mnt/cube/tsainbur/Projects/github_repos/avgn_paper/data/embeddings/bengalese_finch_sober/bl26lb16.pickle'),\n",
       " PosixPath('/mnt/cube/tsainbur/Projects/github_repos/avgn_paper/data/embeddings/castellucci_mouse_usv_segmented/VOC592.pickle'),\n",
       " PosixPath('/mnt/cube/tsainbur/Projects/github_repos/avgn_paper/data/embeddings/castellucci_mouse_usv_segmented/VOC594.pickle'),\n",
       " PosixPath('/mnt/cube/tsainbur/Projects/github_repos/avgn_paper/data/embeddings/castellucci_mouse_usv_segmented/VOC597.pickle'),\n",
       " PosixPath('/mnt/cube/tsainbur/Projects/github_repos/avgn_paper/data/embeddings/castellucci_mouse_usv_segmented/VOC591.pickle')]"
      ]
     },
     "execution_count": 16,
     "metadata": {},
     "output_type": "execute_result"
    }
   ],
   "source": [
    "datasets"
   ]
  },
  {
   "cell_type": "code",
   "execution_count": 17,
   "metadata": {
    "ExecuteTime": {
     "end_time": "2020-03-09T21:22:36.233274Z",
     "start_time": "2020-03-09T21:22:35.998714Z"
    }
   },
   "outputs": [],
   "source": [
    "def remove_outliers(z, pct = 99.5):\n",
    "    \"\"\" GPU based UMAP algorithm produces some outliers that UMAP does not, but is much faster\n",
    "    this is a quick fix for that. \n",
    "    \"\"\"\n",
    "    _min = np.percentile(z, (100-pct), axis=0)\n",
    "    _max = np.percentile(z, pct, axis=0)\n",
    "    for col in range(np.shape(z)[1]):\n",
    "        mask = z[:,col] < _min[col]\n",
    "        z[mask,col] = _min[col]\n",
    "        mask = z[:,col] > _max[col]\n",
    "        z[mask,col] = _max[col]\n",
    "    return z"
   ]
  },
  {
   "cell_type": "code",
   "execution_count": 22,
   "metadata": {
    "ExecuteTime": {
     "end_time": "2020-03-09T21:28:37.058545Z",
     "start_time": "2020-03-09T21:28:36.978064Z"
    }
   },
   "outputs": [],
   "source": [
    "??hopkins_statistic"
   ]
  },
  {
   "cell_type": "code",
   "execution_count": 18,
   "metadata": {
    "ExecuteTime": {
     "end_time": "2020-03-09T21:22:36.401097Z",
     "start_time": "2020-03-09T21:22:36.375165Z"
    }
   },
   "outputs": [],
   "source": [
    "def gen_clusterability_df(dataset):\n",
    "    \"\"\"\n",
    "    m_prop_n is the number of samples over X to perform hopkins statistic on (.1 is reccomended)\n",
    "    \"\"\"\n",
    "    save_loc = DATA_DIR / 'clusterability' / 'convex_sample' / \\\n",
    "        (dataset.parent.stem + '_ ' + dataset.stem + '.pickle')\n",
    "\n",
    "    if save_loc.exists():\n",
    "        return\n",
    "\n",
    "    ds = pd.read_pickle(dataset)\n",
    "    specs = np.stack(ds[['spectrogram']].spectrogram.values)\n",
    "    specs = specs.reshape(len(specs), -1)\n",
    "    specs = scale(specs)\n",
    "\n",
    "    umap_proj = np.vstack(ds[['umap']].umap.values)\n",
    "    umap_proj = remove_outliers(umap_proj, pct=99.5)\n",
    "    umap_proj = scale(umap_proj)\n",
    "\n",
    "    print((dataset, np.shape(umap_proj)))\n",
    "    fig, ax = plt.subplots()\n",
    "    ax.scatter(umap_proj[:, 0], umap_proj[:, 1], s=1, color='k', alpha=0.1)\n",
    "    plt.show()\n",
    "\n",
    "    hopkins_dict = {\n",
    "        'umap':\n",
    "        {\n",
    "            0.01: hopkins_statistic(umap_proj, m_prop_n=0.01, n_neighbors=1, distribution=\"uniform_convex_hull\"),\n",
    "            0.1: hopkins_statistic(umap_proj, m_prop_n=0.1, n_neighbors=1, distribution=\"uniform_convex_hull\"),\n",
    "        },\n",
    "\n",
    "    }\n",
    "\n",
    "    clusterability_df = pd.DataFrame([[dataset, dataset.parent.stem, dataset.stem,\n",
    "                                       hopkins_dict['umap'][0.01], hopkins_dict['umap'][0.1], ]], columns=[\n",
    "        'df', 'dataset', 'indv',\n",
    "        'umap_hopkins_1', 'umap_hopkins_10'\n",
    "    ])\n",
    "\n",
    "    clusterability_df.to_pickle(save_loc)"
   ]
  },
  {
   "cell_type": "code",
   "execution_count": 19,
   "metadata": {
    "ExecuteTime": {
     "end_time": "2020-03-09T21:22:44.084085Z",
     "start_time": "2020-03-09T21:22:44.045957Z"
    }
   },
   "outputs": [],
   "source": [
    "ensure_dir(DATA_DIR / 'clusterability' / 'convex_sample')"
   ]
  },
  {
   "cell_type": "code",
   "execution_count": 20,
   "metadata": {
    "ExecuteTime": {
     "end_time": "2020-03-09T21:22:44.354094Z",
     "start_time": "2020-03-09T21:22:44.331535Z"
    }
   },
   "outputs": [],
   "source": [
    "from joblib import Parallel, delayed"
   ]
  },
  {
   "cell_type": "code",
   "execution_count": 21,
   "metadata": {
    "ExecuteTime": {
     "end_time": "2020-03-09T21:25:14.167192Z",
     "start_time": "2020-03-09T21:22:48.878772Z"
    }
   },
   "outputs": [
    {
     "data": {
      "application/vnd.jupyter.widget-view+json": {
       "model_id": "ce8df925a2904262b57aeb3fd59e11c7",
       "version_major": 2,
       "version_minor": 0
      },
      "text/plain": [
       "HBox(children=(IntProgress(value=0, max=98), HTML(value='')))"
      ]
     },
     "metadata": {},
     "output_type": "display_data"
    },
    {
     "name": "stderr",
     "output_type": "stream",
     "text": [
      "[Parallel(n_jobs=-1)]: Using backend LokyBackend with 32 concurrent workers.\n",
      "[Parallel(n_jobs=-1)]: Done   8 tasks      | elapsed:   10.2s\n",
      "[Parallel(n_jobs=-1)]: Done  21 tasks      | elapsed:   10.9s\n",
      "[Parallel(n_jobs=-1)]: Done  34 tasks      | elapsed:   11.5s\n"
     ]
    },
    {
     "name": "stdout",
     "output_type": "stream",
     "text": [
      "\n"
     ]
    },
    {
     "name": "stderr",
     "output_type": "stream",
     "text": [
      "[Parallel(n_jobs=-1)]: Done  45 out of  98 | elapsed:   12.3s remaining:   14.5s\n",
      "[Parallel(n_jobs=-1)]: Done  55 out of  98 | elapsed:   14.5s remaining:   11.4s\n",
      "[Parallel(n_jobs=-1)]: Done  65 out of  98 | elapsed:   15.7s remaining:    8.0s\n",
      "[Parallel(n_jobs=-1)]: Done  75 out of  98 | elapsed:   22.1s remaining:    6.8s\n",
      "[Parallel(n_jobs=-1)]: Done  85 out of  98 | elapsed:   26.5s remaining:    4.1s\n",
      "[Parallel(n_jobs=-1)]: Done  95 out of  98 | elapsed:   34.1s remaining:    1.1s\n",
      "[Parallel(n_jobs=-1)]: Done  98 out of  98 | elapsed:  2.4min finished\n"
     ]
    }
   ],
   "source": [
    "clust_data = Parallel(n_jobs=-1, verbose=10)(\n",
    "    delayed(gen_clusterability_df)(dataset)\n",
    "    for dataset in tqdm(datasets)\n",
    ")"
   ]
  },
  {
   "cell_type": "code",
   "execution_count": null,
   "metadata": {},
   "outputs": [],
   "source": []
  }
 ],
 "metadata": {
  "kernelspec": {
   "display_name": "Python 3",
   "language": "python",
   "name": "python3"
  },
  "language_info": {
   "codemirror_mode": {
    "name": "ipython",
    "version": 3
   },
   "file_extension": ".py",
   "mimetype": "text/x-python",
   "name": "python",
   "nbconvert_exporter": "python",
   "pygments_lexer": "ipython3",
   "version": "3.6.7"
  }
 },
 "nbformat": 4,
 "nbformat_minor": 2
}
