{
 "cells": [
  {
   "cell_type": "code",
   "execution_count": 1,
   "metadata": {
    "ExecuteTime": {
     "end_time": "2020-04-24T19:31:49.209423Z",
     "start_time": "2020-04-24T19:31:49.194271Z"
    }
   },
   "outputs": [],
   "source": [
    "%load_ext autoreload\n",
    "%autoreload 2"
   ]
  },
  {
   "cell_type": "code",
   "execution_count": 2,
   "metadata": {
    "ExecuteTime": {
     "end_time": "2020-04-24T19:31:51.307733Z",
     "start_time": "2020-04-24T19:31:49.210753Z"
    }
   },
   "outputs": [
    {
     "name": "stderr",
     "output_type": "stream",
     "text": [
      "/mnt/cube/tsainbur/conda_envs/tpy3/lib/python3.6/site-packages/tqdm/autonotebook/__init__.py:14: TqdmExperimentalWarning: Using `tqdm.autonotebook.tqdm` in notebook mode. Use `tqdm.tqdm` instead to force console mode (e.g. in jupyter console)\n",
      "  \" (e.g. in jupyter console)\", TqdmExperimentalWarning)\n"
     ]
    }
   ],
   "source": [
    "import numpy as np\n",
    "import pandas as pd\n",
    "from avgn.utils.paths import DATA_DIR, most_recent_subdirectory, ensure_dir\n",
    "from sklearn.preprocessing import scale\n",
    "import matplotlib.pyplot as plt\n",
    "from tqdm.autonotebook import tqdm"
   ]
  },
  {
   "cell_type": "code",
   "execution_count": 3,
   "metadata": {
    "ExecuteTime": {
     "end_time": "2020-04-24T19:31:51.376962Z",
     "start_time": "2020-04-24T19:31:51.309729Z"
    }
   },
   "outputs": [],
   "source": [
    "import seaborn as sns"
   ]
  },
  {
   "cell_type": "code",
   "execution_count": 4,
   "metadata": {
    "ExecuteTime": {
     "end_time": "2020-04-24T19:31:51.397212Z",
     "start_time": "2020-04-24T19:31:51.378869Z"
    }
   },
   "outputs": [],
   "source": [
    "from avgn.dataset_names import species_dict"
   ]
  },
  {
   "cell_type": "code",
   "execution_count": 5,
   "metadata": {
    "ExecuteTime": {
     "end_time": "2020-04-24T19:31:51.424631Z",
     "start_time": "2020-04-24T19:31:51.398614Z"
    }
   },
   "outputs": [
    {
     "data": {
      "text/plain": [
       "[PosixPath('/mnt/cube/tsainbur/Projects/github_repos/avgn_paper/data/clusterability/convex_sample_indvs/indvs_ s08.pickle'),\n",
       " PosixPath('/mnt/cube/tsainbur/Projects/github_repos/avgn_paper/data/clusterability/convex_sample_indvs/indvs_ AGO.pickle'),\n",
       " PosixPath('/mnt/cube/tsainbur/Projects/github_repos/avgn_paper/data/clusterability/convex_sample_indvs/katahira_white_munia_segmented_ WM35.pickle')]"
      ]
     },
     "execution_count": 5,
     "metadata": {},
     "output_type": "execute_result"
    }
   ],
   "source": [
    "hopkins_dfs = list(DATA_DIR.glob('clusterability/convex_sample_indvs/*.pickle'))\n",
    "hopkins_dfs[:3]"
   ]
  },
  {
   "cell_type": "code",
   "execution_count": 6,
   "metadata": {
    "ExecuteTime": {
     "end_time": "2020-04-24T19:31:51.971286Z",
     "start_time": "2020-04-24T19:31:51.427260Z"
    }
   },
   "outputs": [
    {
     "data": {
      "application/vnd.jupyter.widget-view+json": {
       "model_id": "b1615529e86148ce8607aa2924b0182f",
       "version_major": 2,
       "version_minor": 0
      },
      "text/plain": [
       "HBox(children=(IntProgress(value=0, max=291), HTML(value='')))"
      ]
     },
     "metadata": {},
     "output_type": "display_data"
    },
    {
     "name": "stdout",
     "output_type": "stream",
     "text": [
      "\n"
     ]
    }
   ],
   "source": [
    "clusterability_df = pd.concat([pd.read_pickle(i) for i in tqdm(hopkins_dfs)])"
   ]
  },
  {
   "cell_type": "code",
   "execution_count": 7,
   "metadata": {
    "ExecuteTime": {
     "end_time": "2020-04-24T19:31:51.991377Z",
     "start_time": "2020-04-24T19:31:51.973136Z"
    }
   },
   "outputs": [
    {
     "data": {
      "text/plain": [
       "291"
      ]
     },
     "execution_count": 7,
     "metadata": {},
     "output_type": "execute_result"
    }
   ],
   "source": [
    "len(clusterability_df)"
   ]
  },
  {
   "cell_type": "code",
   "execution_count": 8,
   "metadata": {
    "ExecuteTime": {
     "end_time": "2020-04-24T19:31:52.023227Z",
     "start_time": "2020-04-24T19:31:51.992731Z"
    }
   },
   "outputs": [
    {
     "data": {
      "text/html": [
       "<div>\n",
       "<style scoped>\n",
       "    .dataframe tbody tr th:only-of-type {\n",
       "        vertical-align: middle;\n",
       "    }\n",
       "\n",
       "    .dataframe tbody tr th {\n",
       "        vertical-align: top;\n",
       "    }\n",
       "\n",
       "    .dataframe thead th {\n",
       "        text-align: right;\n",
       "    }\n",
       "</style>\n",
       "<table border=\"1\" class=\"dataframe\">\n",
       "  <thead>\n",
       "    <tr style=\"text-align: right;\">\n",
       "      <th></th>\n",
       "      <th>df</th>\n",
       "      <th>dataset</th>\n",
       "      <th>indv</th>\n",
       "      <th>umap_hopkins_1</th>\n",
       "      <th>umap_hopkins_10</th>\n",
       "      <th>nex</th>\n",
       "    </tr>\n",
       "  </thead>\n",
       "  <tbody>\n",
       "    <tr>\n",
       "      <th>0</th>\n",
       "      <td>/mnt/cube/tsainbur/Projects/github_repos/avgn_...</td>\n",
       "      <td>buckeye</td>\n",
       "      <td>s08</td>\n",
       "      <td>0.926159</td>\n",
       "      <td>0.939742</td>\n",
       "      <td>22728</td>\n",
       "    </tr>\n",
       "    <tr>\n",
       "      <th>0</th>\n",
       "      <td>/mnt/cube/tsainbur/Projects/github_repos/avgn_...</td>\n",
       "      <td>BIRD_DB_Vireo_cassinii</td>\n",
       "      <td>AGO</td>\n",
       "      <td>0.987790</td>\n",
       "      <td>0.988549</td>\n",
       "      <td>4595</td>\n",
       "    </tr>\n",
       "    <tr>\n",
       "      <th>0</th>\n",
       "      <td>/mnt/cube/tsainbur/Projects/github_repos/avgn_...</td>\n",
       "      <td>katahira_white_munia_segmented</td>\n",
       "      <td>WM35</td>\n",
       "      <td>0.981893</td>\n",
       "      <td>0.967158</td>\n",
       "      <td>2290</td>\n",
       "    </tr>\n",
       "  </tbody>\n",
       "</table>\n",
       "</div>"
      ],
      "text/plain": [
       "                                                  df  \\\n",
       "0  /mnt/cube/tsainbur/Projects/github_repos/avgn_...   \n",
       "0  /mnt/cube/tsainbur/Projects/github_repos/avgn_...   \n",
       "0  /mnt/cube/tsainbur/Projects/github_repos/avgn_...   \n",
       "\n",
       "                          dataset  indv  umap_hopkins_1  umap_hopkins_10  \\\n",
       "0                         buckeye   s08        0.926159         0.939742   \n",
       "0          BIRD_DB_Vireo_cassinii   AGO        0.987790         0.988549   \n",
       "0  katahira_white_munia_segmented  WM35        0.981893         0.967158   \n",
       "\n",
       "     nex  \n",
       "0  22728  \n",
       "0   4595  \n",
       "0   2290  "
      ]
     },
     "execution_count": 8,
     "metadata": {},
     "output_type": "execute_result"
    }
   ],
   "source": [
    "clusterability_df[:3]"
   ]
  },
  {
   "cell_type": "code",
   "execution_count": 10,
   "metadata": {
    "ExecuteTime": {
     "end_time": "2020-04-24T19:31:52.065373Z",
     "start_time": "2020-04-24T19:31:52.048190Z"
    }
   },
   "outputs": [],
   "source": [
    "clusterability_df['species'] = [species_dict[ds]['species']  for ds in clusterability_df['dataset'].values]\n",
    "clusterability_df['family'] = [species_dict[ds]['group']  for ds in clusterability_df['dataset'].values]"
   ]
  },
  {
   "cell_type": "code",
   "execution_count": 23,
   "metadata": {
    "ExecuteTime": {
     "end_time": "2020-04-24T19:42:54.969647Z",
     "start_time": "2020-04-24T19:42:54.704836Z"
    }
   },
   "outputs": [
    {
     "data": {
      "text/html": [
       "<div>\n",
       "<style scoped>\n",
       "    .dataframe tbody tr th:only-of-type {\n",
       "        vertical-align: middle;\n",
       "    }\n",
       "\n",
       "    .dataframe tbody tr th {\n",
       "        vertical-align: top;\n",
       "    }\n",
       "\n",
       "    .dataframe thead th {\n",
       "        text-align: right;\n",
       "    }\n",
       "</style>\n",
       "<table border=\"1\" class=\"dataframe\">\n",
       "  <thead>\n",
       "    <tr style=\"text-align: right;\">\n",
       "      <th></th>\n",
       "      <th>df</th>\n",
       "      <th>dataset</th>\n",
       "      <th>indv</th>\n",
       "      <th>umap_hopkins_1</th>\n",
       "      <th>umap_hopkins_10</th>\n",
       "      <th>nex</th>\n",
       "      <th>species</th>\n",
       "      <th>family</th>\n",
       "      <th>hopkins_inverse</th>\n",
       "    </tr>\n",
       "  </thead>\n",
       "  <tbody>\n",
       "    <tr>\n",
       "      <th>0</th>\n",
       "      <td>/mnt/cube/tsainbur/Projects/github_repos/avgn_...</td>\n",
       "      <td>buckeye</td>\n",
       "      <td>s08</td>\n",
       "      <td>0.926159</td>\n",
       "      <td>0.939742</td>\n",
       "      <td>22728</td>\n",
       "      <td>Human (English)</td>\n",
       "      <td>mammal</td>\n",
       "      <td>0.060258</td>\n",
       "    </tr>\n",
       "    <tr>\n",
       "      <th>0</th>\n",
       "      <td>/mnt/cube/tsainbur/Projects/github_repos/avgn_...</td>\n",
       "      <td>BIRD_DB_Vireo_cassinii</td>\n",
       "      <td>AGO</td>\n",
       "      <td>0.987790</td>\n",
       "      <td>0.988549</td>\n",
       "      <td>4595</td>\n",
       "      <td>Cassin's vireo</td>\n",
       "      <td>songbird</td>\n",
       "      <td>0.011451</td>\n",
       "    </tr>\n",
       "    <tr>\n",
       "      <th>0</th>\n",
       "      <td>/mnt/cube/tsainbur/Projects/github_repos/avgn_...</td>\n",
       "      <td>katahira_white_munia_segmented</td>\n",
       "      <td>WM35</td>\n",
       "      <td>0.981893</td>\n",
       "      <td>0.967158</td>\n",
       "      <td>2290</td>\n",
       "      <td>White-rumped munia</td>\n",
       "      <td>songbird</td>\n",
       "      <td>0.032842</td>\n",
       "    </tr>\n",
       "  </tbody>\n",
       "</table>\n",
       "</div>"
      ],
      "text/plain": [
       "                                                  df  \\\n",
       "0  /mnt/cube/tsainbur/Projects/github_repos/avgn_...   \n",
       "0  /mnt/cube/tsainbur/Projects/github_repos/avgn_...   \n",
       "0  /mnt/cube/tsainbur/Projects/github_repos/avgn_...   \n",
       "\n",
       "                          dataset  indv  umap_hopkins_1  umap_hopkins_10  \\\n",
       "0                         buckeye   s08        0.926159         0.939742   \n",
       "0          BIRD_DB_Vireo_cassinii   AGO        0.987790         0.988549   \n",
       "0  katahira_white_munia_segmented  WM35        0.981893         0.967158   \n",
       "\n",
       "     nex             species    family  hopkins_inverse  \n",
       "0  22728     Human (English)    mammal         0.060258  \n",
       "0   4595      Cassin's vireo  songbird         0.011451  \n",
       "0   2290  White-rumped munia  songbird         0.032842  "
      ]
     },
     "execution_count": 23,
     "metadata": {},
     "output_type": "execute_result"
    }
   ],
   "source": [
    "clusterability_df[:3]"
   ]
  },
  {
   "cell_type": "code",
   "execution_count": 11,
   "metadata": {
    "ExecuteTime": {
     "end_time": "2020-04-24T19:31:52.082282Z",
     "start_time": "2020-04-24T19:31:52.066761Z"
    }
   },
   "outputs": [],
   "source": [
    "from avgn.utils.general import save_fig\n",
    "from avgn.utils.paths import FIGURE_DIR, ensure_dir"
   ]
  },
  {
   "cell_type": "code",
   "execution_count": 12,
   "metadata": {
    "ExecuteTime": {
     "end_time": "2020-04-24T19:31:52.105098Z",
     "start_time": "2020-04-24T19:31:52.083656Z"
    }
   },
   "outputs": [],
   "source": [
    "ensure_dir(FIGURE_DIR / 'hopkins')"
   ]
  },
  {
   "cell_type": "code",
   "execution_count": 25,
   "metadata": {
    "ExecuteTime": {
     "end_time": "2020-04-24T19:44:11.321655Z",
     "start_time": "2020-04-24T19:44:11.071847Z"
    }
   },
   "outputs": [],
   "source": [
    "clusterability_df['hopkins'] = 1 - clusterability_df['umap_hopkins_10']"
   ]
  },
  {
   "cell_type": "code",
   "execution_count": 21,
   "metadata": {
    "ExecuteTime": {
     "end_time": "2020-04-24T19:32:51.077845Z",
     "start_time": "2020-04-24T19:32:50.726291Z"
    },
    "code_folding": [],
    "scrolled": false
   },
   "outputs": [
    {
     "data": {
      "text/plain": [
       "(13.75, -0.5)"
      ]
     },
     "execution_count": 21,
     "metadata": {},
     "output_type": "execute_result"
    },
    {
     "data": {
      "image/png": "[encoded data removed]",
      "text/plain": [
       "<Figure size 450x720 with 1 Axes>"
      ]
     },
     "metadata": {},
     "output_type": "display_data"
    }
   ],
   "source": [
    "sns.set(style='white', font_scale=2)\n",
    "\n",
    "metric = 'umap_hopkins_10'\n",
    "fig, ax = plt.subplots(ncols=1, figsize=(6.25, 10))\n",
    "\n",
    "# log scale\n",
    "result = clusterability_df.groupby([\"species\", 'family'])[metric].aggregate(\n",
    "    np.mean).reset_index().sort_values(metric)#, ascending=False)\n",
    "result[metric] = (1 - result[metric])\n",
    "\n",
    "# create bar chart\n",
    "bar = sns.barplot(\n",
    "    x=metric,\n",
    "    y=\"species\",\n",
    "    hue='family',\n",
    "    dodge=False,\n",
    "    data=result,\n",
    "    ax=ax,\n",
    "    linewidth=3,\n",
    "    edgecolor=\"0\",\n",
    "    order=result['species'],\n",
    "    #log=True,\n",
    "    #width = 1,\n",
    "    palette = sns.color_palette('Set1')\n",
    ")\n",
    "ax.set_xlabel('Clusterability ($\\it{Hopkin\\'s\\ statistic}$)', fontsize=24)\n",
    "ax.set_ylabel('')\n",
    "ax.get_legend().remove()\n",
    "\n",
    "for axis in ['top','left','right']:\n",
    "    ax.spines[axis].set_linewidth(0)\n",
    "ax.spines['bottom'].set_linewidth(5)\n",
    "#ax.set_xscale('log')\n",
    "\n",
    "ylim = ax.get_ylim()\n",
    "ax.set_ylim([ylim[0]+.25, ylim[1]])\n",
    "#ax.set_xlim([0.5,1])\n",
    "\n",
    "#save_fig(FIGURE_DIR / 'hopkins' / ('hopkins_comparison_indv_'+ metric), dpi=300, save_jpg=False, save_png=True, save_pdf=True)"
   ]
  },
  {
   "cell_type": "code",
   "execution_count": 97,
   "metadata": {
    "ExecuteTime": {
     "end_time": "2020-04-25T19:46:31.174826Z",
     "start_time": "2020-04-25T19:46:30.917551Z"
    }
   },
   "outputs": [
    {
     "data": {
      "text/plain": [
       "'umap_hopkins_10'"
      ]
     },
     "execution_count": 97,
     "metadata": {},
     "output_type": "execute_result"
    }
   ],
   "source": [
    "metric"
   ]
  },
  {
   "cell_type": "code",
   "execution_count": 98,
   "metadata": {
    "ExecuteTime": {
     "end_time": "2020-04-25T19:46:37.710605Z",
     "start_time": "2020-04-25T19:46:35.923523Z"
    },
    "scrolled": true
   },
   "outputs": [
    {
     "data": {
      "image/png": "[encoded data removed]",
      "text/plain": [
       "<Figure size 450x720 with 1 Axes>"
      ]
     },
     "metadata": {},
     "output_type": "display_data"
    }
   ],
   "source": [
    "fig, ax = plt.subplots(ncols=1, figsize=(6.25, 10))\n",
    "\n",
    "\n",
    "# create bar chart\n",
    "bar = sns.barplot(\n",
    "    x=\"hopkins\",\n",
    "    y=\"species\",\n",
    "    hue='family',\n",
    "    dodge=False,\n",
    "    data=clusterability_df,\n",
    "    ax=ax,\n",
    "    linewidth=3,\n",
    "    edgecolor=\"0\",\n",
    "    order=result['species'],\n",
    "    #log=True,\n",
    "    #width = 1,\n",
    "    palette = sns.color_palette('Set1')\n",
    ")\n",
    "\n",
    "for l in ax.lines:\n",
    "    #print(l.get_linewidth())\n",
    "    plt.setp(l,linewidth=7)\n",
    "\n",
    "ax.set_xlabel('Clusterability ($\\it{Hopkin\\'s\\ statistic}$)', fontsize=24)\n",
    "ax.set_ylabel('')\n",
    "ax.get_legend().remove()\n",
    "\n",
    "for axis in ['top','left','right']:\n",
    "    ax.spines[axis].set_linewidth(0)\n",
    "ax.spines['bottom'].set_linewidth(5)\n",
    "#ax.set_xscale('log')\n",
    "\n",
    "ylim = ax.get_ylim()\n",
    "ax.set_ylim([ylim[0]+.25, ylim[1]])\n",
    "#ax.set_xlim([0.5,1])\n",
    "save_fig(FIGURE_DIR / 'hopkins' / ('hopkins_comparison_indv_'+ metric), dpi=300, save_jpg=False, save_png=True, save_pdf=True)"
   ]
  },
  {
   "cell_type": "code",
   "execution_count": 31,
   "metadata": {
    "ExecuteTime": {
     "end_time": "2020-04-24T22:43:01.900376Z",
     "start_time": "2020-04-24T22:43:00.744646Z"
    }
   },
   "outputs": [],
   "source": [
    "%load_ext rpy2.ipython"
   ]
  },
  {
   "cell_type": "code",
   "execution_count": 52,
   "metadata": {
    "ExecuteTime": {
     "end_time": "2020-04-24T22:51:46.431120Z",
     "start_time": "2020-04-24T22:51:46.403675Z"
    }
   },
   "outputs": [
    {
     "data": {
      "text/html": [
       "<div>\n",
       "<style scoped>\n",
       "    .dataframe tbody tr th:only-of-type {\n",
       "        vertical-align: middle;\n",
       "    }\n",
       "\n",
       "    .dataframe tbody tr th {\n",
       "        vertical-align: top;\n",
       "    }\n",
       "\n",
       "    .dataframe thead th {\n",
       "        text-align: right;\n",
       "    }\n",
       "</style>\n",
       "<table border=\"1\" class=\"dataframe\">\n",
       "  <thead>\n",
       "    <tr style=\"text-align: right;\">\n",
       "      <th></th>\n",
       "      <th>indv</th>\n",
       "      <th>nex</th>\n",
       "      <th>species</th>\n",
       "      <th>family</th>\n",
       "      <th>hopkins</th>\n",
       "    </tr>\n",
       "  </thead>\n",
       "  <tbody>\n",
       "    <tr>\n",
       "      <th>0</th>\n",
       "      <td>s08</td>\n",
       "      <td>22728</td>\n",
       "      <td>Human (English)</td>\n",
       "      <td>mammal</td>\n",
       "      <td>0.060258</td>\n",
       "    </tr>\n",
       "    <tr>\n",
       "      <th>0</th>\n",
       "      <td>AGO</td>\n",
       "      <td>4595</td>\n",
       "      <td>Cassin's vireo</td>\n",
       "      <td>songbird</td>\n",
       "      <td>0.011451</td>\n",
       "    </tr>\n",
       "    <tr>\n",
       "      <th>0</th>\n",
       "      <td>WM35</td>\n",
       "      <td>2290</td>\n",
       "      <td>White-rumped munia</td>\n",
       "      <td>songbird</td>\n",
       "      <td>0.032842</td>\n",
       "    </tr>\n",
       "  </tbody>\n",
       "</table>\n",
       "</div>"
      ],
      "text/plain": [
       "   indv    nex             species    family   hopkins\n",
       "0   s08  22728     Human (English)    mammal  0.060258\n",
       "0   AGO   4595      Cassin's vireo  songbird  0.011451\n",
       "0  WM35   2290  White-rumped munia  songbird  0.032842"
      ]
     },
     "execution_count": 52,
     "metadata": {},
     "output_type": "execute_result"
    }
   ],
   "source": [
    "cdf = clusterability_df[['indv', 'nex', 'species', 'family', 'hopkins']]\n",
    "cdf = cdf[cdf.species.isin(['Giant otter', 'Gibbon']) == False]\n",
    "cdf[:3]"
   ]
  },
  {
   "cell_type": "code",
   "execution_count": 75,
   "metadata": {
    "ExecuteTime": {
     "end_time": "2020-04-25T00:01:26.783684Z",
     "start_time": "2020-04-25T00:01:23.609470Z"
    }
   },
   "outputs": [
    {
     "data": {
      "text/plain": [
       "289"
      ]
     },
     "execution_count": 75,
     "metadata": {},
     "output_type": "execute_result"
    }
   ],
   "source": [
    "len(cdf)"
   ]
  },
  {
   "cell_type": "code",
   "execution_count": 53,
   "metadata": {
    "ExecuteTime": {
     "end_time": "2020-04-24T22:51:47.897635Z",
     "start_time": "2020-04-24T22:51:47.877001Z"
    }
   },
   "outputs": [
    {
     "data": {
      "text/plain": [
       "array(['Human (English)', \"Cassin's vireo\", 'White-rumped munia',\n",
       "       'Bengalese finch', 'Swamp sparrow', 'Egyptian fruit bat',\n",
       "       'Zebra finch', 'European starling', 'Canary', 'Mouse',\n",
       "       'California thrasher', 'Humpback whale'], dtype=object)"
      ]
     },
     "execution_count": 53,
     "metadata": {},
     "output_type": "execute_result"
    }
   ],
   "source": [
    "cdf.species.unique()"
   ]
  },
  {
   "cell_type": "code",
   "execution_count": 95,
   "metadata": {
    "ExecuteTime": {
     "end_time": "2020-04-25T02:51:04.946417Z",
     "start_time": "2020-04-25T02:51:04.605286Z"
    }
   },
   "outputs": [
    {
     "name": "stdout",
     "output_type": "stream",
     "text": [
      "Data: cdf\n",
      "Models:\n",
      "m0: log(hopkins) ~ nex.z + (1 | species)\n",
      "m1: log(hopkins) ~ family + nex.z + (1 | species)\n",
      "   npar    AIC    BIC  logLik deviance  Chisq Df Pr(>Chisq)    \n",
      "m0    4 435.86 450.53 -213.93   427.86                         \n",
      "m1    5 417.85 436.19 -203.93   407.85 20.007  1  7.714e-06 ***\n",
      "---\n",
      "Signif. codes:  0 ‘***’ 0.001 ‘**’ 0.01 ‘*’ 0.05 ‘.’ 0.1 ‘ ’ 1\n"
     ]
    }
   ],
   "source": [
    "%%R -i cdf\n",
    "library('lme4')\n",
    "cdf$nex.z <- (cdf$nex - mean(cdf$nex))/sd(cdf$nex)\n",
    "m0 <- lmer(log(hopkins) ~ nex.z + (1| species), data=cdf, REML=F)\n",
    "m1 <- lmer(log(hopkins) ~ family + nex.z + (1| species), data=cdf, REML=F)\n",
    "anova(m0,m1, test= 'Chisq')"
   ]
  },
  {
   "cell_type": "code",
   "execution_count": null,
   "metadata": {},
   "outputs": [],
   "source": [
    "#7.714e-06"
   ]
  },
  {
   "cell_type": "markdown",
   "metadata": {},
   "source": [
    "### Save for paper"
   ]
  },
  {
   "cell_type": "code",
   "execution_count": 99,
   "metadata": {
    "ExecuteTime": {
     "end_time": "2020-04-28T22:52:32.716861Z",
     "start_time": "2020-04-28T22:52:32.684738Z"
    }
   },
   "outputs": [
    {
     "data": {
      "text/html": [
       "<div>\n",
       "<style scoped>\n",
       "    .dataframe tbody tr th:only-of-type {\n",
       "        vertical-align: middle;\n",
       "    }\n",
       "\n",
       "    .dataframe tbody tr th {\n",
       "        vertical-align: top;\n",
       "    }\n",
       "\n",
       "    .dataframe thead th {\n",
       "        text-align: right;\n",
       "    }\n",
       "</style>\n",
       "<table border=\"1\" class=\"dataframe\">\n",
       "  <thead>\n",
       "    <tr style=\"text-align: right;\">\n",
       "      <th></th>\n",
       "      <th>df</th>\n",
       "      <th>dataset</th>\n",
       "      <th>indv</th>\n",
       "      <th>umap_hopkins_1</th>\n",
       "      <th>umap_hopkins_10</th>\n",
       "      <th>nex</th>\n",
       "      <th>species</th>\n",
       "      <th>family</th>\n",
       "      <th>hopkins_inverse</th>\n",
       "      <th>hopkins</th>\n",
       "    </tr>\n",
       "  </thead>\n",
       "  <tbody>\n",
       "    <tr>\n",
       "      <th>0</th>\n",
       "      <td>/mnt/cube/tsainbur/Projects/github_repos/avgn_...</td>\n",
       "      <td>buckeye</td>\n",
       "      <td>s08</td>\n",
       "      <td>0.926159</td>\n",
       "      <td>0.939742</td>\n",
       "      <td>22728</td>\n",
       "      <td>Human (English)</td>\n",
       "      <td>mammal</td>\n",
       "      <td>0.060258</td>\n",
       "      <td>0.060258</td>\n",
       "    </tr>\n",
       "    <tr>\n",
       "      <th>0</th>\n",
       "      <td>/mnt/cube/tsainbur/Projects/github_repos/avgn_...</td>\n",
       "      <td>BIRD_DB_Vireo_cassinii</td>\n",
       "      <td>AGO</td>\n",
       "      <td>0.987790</td>\n",
       "      <td>0.988549</td>\n",
       "      <td>4595</td>\n",
       "      <td>Cassin's vireo</td>\n",
       "      <td>songbird</td>\n",
       "      <td>0.011451</td>\n",
       "      <td>0.011451</td>\n",
       "    </tr>\n",
       "    <tr>\n",
       "      <th>0</th>\n",
       "      <td>/mnt/cube/tsainbur/Projects/github_repos/avgn_...</td>\n",
       "      <td>katahira_white_munia_segmented</td>\n",
       "      <td>WM35</td>\n",
       "      <td>0.981893</td>\n",
       "      <td>0.967158</td>\n",
       "      <td>2290</td>\n",
       "      <td>White-rumped munia</td>\n",
       "      <td>songbird</td>\n",
       "      <td>0.032842</td>\n",
       "      <td>0.032842</td>\n",
       "    </tr>\n",
       "  </tbody>\n",
       "</table>\n",
       "</div>"
      ],
      "text/plain": [
       "                                                  df  \\\n",
       "0  /mnt/cube/tsainbur/Projects/github_repos/avgn_...   \n",
       "0  /mnt/cube/tsainbur/Projects/github_repos/avgn_...   \n",
       "0  /mnt/cube/tsainbur/Projects/github_repos/avgn_...   \n",
       "\n",
       "                          dataset  indv  umap_hopkins_1  umap_hopkins_10  \\\n",
       "0                         buckeye   s08        0.926159         0.939742   \n",
       "0          BIRD_DB_Vireo_cassinii   AGO        0.987790         0.988549   \n",
       "0  katahira_white_munia_segmented  WM35        0.981893         0.967158   \n",
       "\n",
       "     nex             species    family  hopkins_inverse   hopkins  \n",
       "0  22728     Human (English)    mammal         0.060258  0.060258  \n",
       "0   4595      Cassin's vireo  songbird         0.011451  0.011451  \n",
       "0   2290  White-rumped munia  songbird         0.032842  0.032842  "
      ]
     },
     "execution_count": 99,
     "metadata": {},
     "output_type": "execute_result"
    }
   ],
   "source": [
    "clusterability_df[:3]"
   ]
  },
  {
   "cell_type": "code",
   "execution_count": 101,
   "metadata": {
    "ExecuteTime": {
     "end_time": "2020-04-28T22:53:18.229270Z",
     "start_time": "2020-04-28T22:53:18.195358Z"
    }
   },
   "outputs": [],
   "source": [
    "ensure_dir(DATA_DIR / \"paper_data\" / \"hopkins_species_comparison\" )\n",
    "clusterability_df.to_pickle(DATA_DIR / \"paper_data\" / \"hopkins_species_comparison\" / \"all_species.pickle\")"
   ]
  },
  {
   "cell_type": "code",
   "execution_count": 102,
   "metadata": {
    "ExecuteTime": {
     "end_time": "2020-04-29T13:54:44.756934Z",
     "start_time": "2020-04-29T13:54:42.563571Z"
    }
   },
   "outputs": [
    {
     "data": {
      "text/plain": [
       "'0.25.3'"
      ]
     },
     "execution_count": 102,
     "metadata": {},
     "output_type": "execute_result"
    }
   ],
   "source": [
    "pd.__version__"
   ]
  },
  {
   "cell_type": "code",
   "execution_count": null,
   "metadata": {},
   "outputs": [],
   "source": []
  }
 ],
 "metadata": {
  "kernelspec": {
   "display_name": "Python 3",
   "language": "python",
   "name": "python3"
  },
  "language_info": {
   "codemirror_mode": {
    "name": "ipython",
    "version": 3
   },
   "file_extension": ".py",
   "mimetype": "text/x-python",
   "name": "python",
   "nbconvert_exporter": "python",
   "pygments_lexer": "ipython3",
   "version": "3.6.7"
  }
 },
 "nbformat": 4,
 "nbformat_minor": 2
}
