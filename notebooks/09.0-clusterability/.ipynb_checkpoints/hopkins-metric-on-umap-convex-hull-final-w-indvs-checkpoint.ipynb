{
 "cells": [
  {
   "cell_type": "code",
   "execution_count": 1,
   "metadata": {
    "ExecuteTime": {
     "end_time": "2020-04-24T19:27:14.991615Z",
     "start_time": "2020-04-24T19:27:14.980882Z"
    }
   },
   "outputs": [],
   "source": [
    "%load_ext autoreload\n",
    "%autoreload 2"
   ]
  },
  {
   "cell_type": "code",
   "execution_count": null,
   "metadata": {
    "ExecuteTime": {
     "start_time": "2020-04-24T19:27:14.951Z"
    }
   },
   "outputs": [
    {
     "name": "stderr",
     "output_type": "stream",
     "text": [
      "/mnt/cube/tsainbur/conda_envs/tpy3/lib/python3.6/site-packages/tqdm/autonotebook/__init__.py:14: TqdmExperimentalWarning: Using `tqdm.autonotebook.tqdm` in notebook mode. Use `tqdm.tqdm` instead to force console mode (e.g. in jupyter console)\n",
      "  \" (e.g. in jupyter console)\", TqdmExperimentalWarning)\n"
     ]
    }
   ],
   "source": [
    "import numpy as np\n",
    "import pandas as pd\n",
    "from avgn.utils.paths import DATA_DIR, most_recent_subdirectory, ensure_dir\n",
    "from sklearn.preprocessing import scale\n",
    "#from pyclustertend import hopkins, vat, ivat\n",
    "import matplotlib.pyplot as plt\n",
    "from tqdm.autonotebook import tqdm"
   ]
  },
  {
   "cell_type": "code",
   "execution_count": null,
   "metadata": {
    "ExecuteTime": {
     "start_time": "2020-04-24T19:27:14.952Z"
    }
   },
   "outputs": [],
   "source": [
    "from avgn.clusterability.hopkins import hopkins_statistic"
   ]
  },
  {
   "cell_type": "code",
   "execution_count": null,
   "metadata": {
    "ExecuteTime": {
     "start_time": "2020-04-24T19:27:14.953Z"
    }
   },
   "outputs": [
    {
     "data": {
      "text/plain": [
       "296"
      ]
     },
     "execution_count": 4,
     "metadata": {},
     "output_type": "execute_result"
    }
   ],
   "source": [
    "datasets = list(DATA_DIR.glob('embeddings/**/*.pickle'))\n",
    "len(datasets)"
   ]
  },
  {
   "cell_type": "code",
   "execution_count": null,
   "metadata": {
    "ExecuteTime": {
     "start_time": "2020-04-24T19:27:14.954Z"
    }
   },
   "outputs": [],
   "source": [
    "datasets = [i for i in datasets if i.parent.stem not in [\n",
    "    'buckeye',\n",
    "    'BIRD_DB_Vireo_cassinii',\n",
    "    'swamp_sparrow',\n",
    "    'batsong_segmented'\n",
    "]]"
   ]
  },
  {
   "cell_type": "code",
   "execution_count": null,
   "metadata": {
    "ExecuteTime": {
     "start_time": "2020-04-24T19:27:14.955Z"
    }
   },
   "outputs": [
    {
     "data": {
      "text/plain": [
       "291"
      ]
     },
     "execution_count": 6,
     "metadata": {},
     "output_type": "execute_result"
    }
   ],
   "source": [
    "len(datasets)"
   ]
  },
  {
   "cell_type": "code",
   "execution_count": null,
   "metadata": {
    "ExecuteTime": {
     "start_time": "2020-04-24T19:27:14.956Z"
    }
   },
   "outputs": [],
   "source": [
    "def remove_outliers(z, pct = 99.5):\n",
    "    \"\"\" GPU based UMAP algorithm produces some outliers that UMAP does not, but is much faster\n",
    "    this is a quick fix for that. \n",
    "    \"\"\"\n",
    "    _min = np.percentile(z, (100-pct), axis=0)\n",
    "    _max = np.percentile(z, pct, axis=0)\n",
    "    for col in range(np.shape(z)[1]):\n",
    "        mask = z[:,col] < _min[col]\n",
    "        z[mask,col] = _min[col]\n",
    "        mask = z[:,col] > _max[col]\n",
    "        z[mask,col] = _max[col]\n",
    "    return z"
   ]
  },
  {
   "cell_type": "code",
   "execution_count": null,
   "metadata": {
    "ExecuteTime": {
     "start_time": "2020-04-24T19:27:14.957Z"
    }
   },
   "outputs": [],
   "source": [
    "ensure_dir(DATA_DIR / 'clusterability' / 'convex_sample_indvs')"
   ]
  },
  {
   "cell_type": "code",
   "execution_count": null,
   "metadata": {
    "ExecuteTime": {
     "start_time": "2020-04-24T19:27:14.957Z"
    }
   },
   "outputs": [],
   "source": [
    "def gen_clusterability_df(dataset):\n",
    "    \"\"\"\n",
    "    m_prop_n is the number of samples over X to perform hopkins statistic on (.1 is reccomended)\n",
    "    \"\"\"\n",
    "    save_loc = DATA_DIR / 'clusterability' / 'convex_sample_indvs' / \\\n",
    "        (dataset.parent.stem + '_ ' + dataset.stem + '.pickle')\n",
    "\n",
    "    #if save_loc.exists():\n",
    "    #    return\n",
    "\n",
    "    ds = pd.read_pickle(dataset)\n",
    "    specs = np.stack(ds[['spectrogram']].spectrogram.values)\n",
    "    specs = specs.reshape(len(specs), -1)\n",
    "    specs = scale(specs)\n",
    "\n",
    "    umap_proj = np.vstack(ds[['umap']].umap.values)\n",
    "    umap_proj = remove_outliers(umap_proj, pct=99.5)\n",
    "    umap_proj = scale(umap_proj)\n",
    "    \n",
    "    nex = len(umap_proj)\n",
    "\n",
    "    print((dataset, np.shape(umap_proj)))\n",
    "    fig, ax = plt.subplots()\n",
    "    ax.scatter(umap_proj[:, 0], umap_proj[:, 1], s=1, color='k', alpha=0.1)\n",
    "    plt.show()\n",
    "\n",
    "    hopkins_dict = {\n",
    "        'umap':\n",
    "        {\n",
    "            0.01: hopkins_statistic(umap_proj, m_prop_n=0.01, n_neighbors=1, distribution=\"uniform_convex_hull\"),\n",
    "            0.1: hopkins_statistic(umap_proj, m_prop_n=0.1, n_neighbors=1, distribution=\"uniform_convex_hull\"),\n",
    "        },\n",
    "\n",
    "    }\n",
    "    \n",
    "    dsname =  dataset.parent.parent.stem if dataset.parent.stem == 'indvs' else dataset.parent.stem\n",
    "\n",
    "    clusterability_df = pd.DataFrame([[dataset, dsname, dataset.stem,\n",
    "                                       hopkins_dict['umap'][0.01], hopkins_dict['umap'][0.1], nex]], columns=[\n",
    "        'df', 'dataset', 'indv',\n",
    "        'umap_hopkins_1', 'umap_hopkins_10', 'nex'\n",
    "    ])\n",
    "\n",
    "    clusterability_df.to_pickle(save_loc)"
   ]
  },
  {
   "cell_type": "code",
   "execution_count": null,
   "metadata": {
    "ExecuteTime": {
     "start_time": "2020-04-24T19:27:14.958Z"
    }
   },
   "outputs": [],
   "source": [
    "ensure_dir(DATA_DIR / 'clusterability' / 'convex_sample')"
   ]
  },
  {
   "cell_type": "code",
   "execution_count": null,
   "metadata": {
    "ExecuteTime": {
     "start_time": "2020-04-24T19:27:14.959Z"
    }
   },
   "outputs": [],
   "source": [
    "from joblib import Parallel, delayed"
   ]
  },
  {
   "cell_type": "code",
   "execution_count": null,
   "metadata": {
    "ExecuteTime": {
     "start_time": "2020-04-24T19:27:14.960Z"
    }
   },
   "outputs": [
    {
     "data": {
      "application/vnd.jupyter.widget-view+json": {
       "model_id": "0880fb1b852e4b7cbb55e8c597a30325",
       "version_major": 2,
       "version_minor": 0
      },
      "text/plain": [
       "HBox(children=(IntProgress(value=0, max=291), HTML(value='')))"
      ]
     },
     "metadata": {},
     "output_type": "display_data"
    },
    {
     "name": "stderr",
     "output_type": "stream",
     "text": [
      "[Parallel(n_jobs=-1)]: Using backend LokyBackend with 32 concurrent workers.\n"
     ]
    }
   ],
   "source": [
    "clust_data = Parallel(n_jobs=-1, verbose=10)(\n",
    "    delayed(gen_clusterability_df)(dataset)\n",
    "    for dataset in tqdm(datasets)\n",
    ")"
   ]
  },
  {
   "cell_type": "code",
   "execution_count": null,
   "metadata": {},
   "outputs": [],
   "source": []
  }
 ],
 "metadata": {
  "kernelspec": {
   "display_name": "Python 3",
   "language": "python",
   "name": "python3"
  },
  "language_info": {
   "codemirror_mode": {
    "name": "ipython",
    "version": 3
   },
   "file_extension": ".py",
   "mimetype": "text/x-python",
   "name": "python",
   "nbconvert_exporter": "python",
   "pygments_lexer": "ipython3",
   "version": "3.6.7"
  }
 },
 "nbformat": 4,
 "nbformat_minor": 2
}
