{
 "cells": [
  {
   "cell_type": "code",
   "execution_count": 1,
   "metadata": {
    "ExecuteTime": {
     "end_time": "2020-04-24T18:36:35.520295Z",
     "start_time": "2020-04-24T18:36:35.407892Z"
    }
   },
   "outputs": [],
   "source": [
    "%load_ext autoreload\n",
    "%autoreload 2"
   ]
  },
  {
   "cell_type": "code",
   "execution_count": 2,
   "metadata": {
    "ExecuteTime": {
     "end_time": "2020-04-24T18:36:38.682464Z",
     "start_time": "2020-04-24T18:36:36.370229Z"
    }
   },
   "outputs": [
    {
     "name": "stderr",
     "output_type": "stream",
     "text": [
      "/mnt/cube/tsainbur/conda_envs/tpy3/lib/python3.6/site-packages/tqdm/autonotebook/__init__.py:14: TqdmExperimentalWarning: Using `tqdm.autonotebook.tqdm` in notebook mode. Use `tqdm.tqdm` instead to force console mode (e.g. in jupyter console)\n",
      "  \" (e.g. in jupyter console)\", TqdmExperimentalWarning)\n"
     ]
    }
   ],
   "source": [
    "import numpy as np\n",
    "import pandas as pd\n",
    "from avgn.utils.paths import DATA_DIR, most_recent_subdirectory, ensure_dir\n",
    "from sklearn.preprocessing import scale\n",
    "import matplotlib.pyplot as plt\n",
    "from tqdm.autonotebook import tqdm"
   ]
  },
  {
   "cell_type": "code",
   "execution_count": 3,
   "metadata": {
    "ExecuteTime": {
     "end_time": "2020-04-24T18:36:38.751345Z",
     "start_time": "2020-04-24T18:36:38.684033Z"
    }
   },
   "outputs": [],
   "source": [
    "import seaborn as sns"
   ]
  },
  {
   "cell_type": "code",
   "execution_count": 4,
   "metadata": {
    "ExecuteTime": {
     "end_time": "2020-04-24T18:36:38.770295Z",
     "start_time": "2020-04-24T18:36:38.752786Z"
    }
   },
   "outputs": [],
   "source": [
    "from avgn.dataset_names import species_dict"
   ]
  },
  {
   "cell_type": "code",
   "execution_count": 5,
   "metadata": {
    "ExecuteTime": {
     "end_time": "2020-04-24T18:36:38.791001Z",
     "start_time": "2020-04-24T18:36:38.771985Z"
    }
   },
   "outputs": [
    {
     "data": {
      "text/plain": [
       "[PosixPath('/mnt/cube/tsainbur/Projects/github_repos/avgn_paper/data/clusterability/convex_sample_indvs2/castellucci_mouse_usv_segmented_ VOC594.pickle'),\n",
       " PosixPath('/mnt/cube/tsainbur/Projects/github_repos/avgn_paper/data/clusterability/convex_sample_indvs2/BIRD_DB_Toxostoma_redivivum_ CATH-CP1.pickle'),\n",
       " PosixPath('/mnt/cube/tsainbur/Projects/github_repos/avgn_paper/data/clusterability/convex_sample_indvs2/indvs_ s16.pickle')]"
      ]
     },
     "execution_count": 5,
     "metadata": {},
     "output_type": "execute_result"
    }
   ],
   "source": [
    "hopkins_dfs = list(DATA_DIR.glob('clusterability/convex_sample_indvs2/*.pickle'))\n",
    "hopkins_dfs[:3]"
   ]
  },
  {
   "cell_type": "code",
   "execution_count": 6,
   "metadata": {
    "ExecuteTime": {
     "end_time": "2020-04-24T18:36:39.101160Z",
     "start_time": "2020-04-24T18:36:38.792212Z"
    }
   },
   "outputs": [
    {
     "data": {
      "application/vnd.jupyter.widget-view+json": {
       "model_id": "4d26776ad35b46cba879cce2b3220577",
       "version_major": 2,
       "version_minor": 0
      },
      "text/plain": [
       "HBox(children=(IntProgress(value=0, max=216), HTML(value='')))"
      ]
     },
     "metadata": {},
     "output_type": "display_data"
    },
    {
     "name": "stdout",
     "output_type": "stream",
     "text": [
      "\n"
     ]
    }
   ],
   "source": [
    "clusterability_df = pd.concat([pd.read_pickle(i) for i in tqdm(hopkins_dfs)])"
   ]
  },
  {
   "cell_type": "code",
   "execution_count": 7,
   "metadata": {
    "ExecuteTime": {
     "end_time": "2020-04-24T18:36:39.120657Z",
     "start_time": "2020-04-24T18:36:39.102212Z"
    }
   },
   "outputs": [],
   "source": [
    "clusterability_df['species'] = [species_dict[ds]['species']  for ds in clusterability_df['dataset'].values]\n",
    "clusterability_df['family'] = [species_dict[ds]['group']  for ds in clusterability_df['dataset'].values]"
   ]
  },
  {
   "cell_type": "code",
   "execution_count": 8,
   "metadata": {
    "ExecuteTime": {
     "end_time": "2020-04-24T18:36:39.136395Z",
     "start_time": "2020-04-24T18:36:39.121795Z"
    }
   },
   "outputs": [],
   "source": [
    "pd.set_option('display.max_rows', 100)"
   ]
  },
  {
   "cell_type": "code",
   "execution_count": 9,
   "metadata": {
    "ExecuteTime": {
     "end_time": "2020-04-24T18:36:39.152172Z",
     "start_time": "2020-04-24T18:36:39.137484Z"
    }
   },
   "outputs": [],
   "source": [
    "clusterability_df['single_indv'] = True\n",
    "grouped_indvs = ['giant_otter', 'gibbon_morita_segmented']"
   ]
  },
  {
   "cell_type": "code",
   "execution_count": 10,
   "metadata": {
    "ExecuteTime": {
     "end_time": "2020-04-24T18:36:39.171499Z",
     "start_time": "2020-04-24T18:36:39.153197Z"
    }
   },
   "outputs": [],
   "source": [
    "clusterability_df.loc[clusterability_df.dataset.isin(grouped_indvs), 'single_indv'] = False"
   ]
  },
  {
   "cell_type": "code",
   "execution_count": 11,
   "metadata": {
    "ExecuteTime": {
     "end_time": "2020-04-24T18:36:40.700958Z",
     "start_time": "2020-04-24T18:36:40.673390Z"
    }
   },
   "outputs": [
    {
     "data": {
      "text/html": [
       "<div>\n",
       "<style scoped>\n",
       "    .dataframe tbody tr th:only-of-type {\n",
       "        vertical-align: middle;\n",
       "    }\n",
       "\n",
       "    .dataframe tbody tr th {\n",
       "        vertical-align: top;\n",
       "    }\n",
       "\n",
       "    .dataframe thead th {\n",
       "        text-align: right;\n",
       "    }\n",
       "</style>\n",
       "<table border=\"1\" class=\"dataframe\">\n",
       "  <thead>\n",
       "    <tr style=\"text-align: right;\">\n",
       "      <th></th>\n",
       "      <th>df</th>\n",
       "      <th>dataset</th>\n",
       "      <th>indv</th>\n",
       "      <th>umap_hopkins_1</th>\n",
       "      <th>umap_hopkins_10</th>\n",
       "      <th>species</th>\n",
       "      <th>family</th>\n",
       "      <th>single_indv</th>\n",
       "    </tr>\n",
       "  </thead>\n",
       "  <tbody>\n",
       "    <tr>\n",
       "      <th>0</th>\n",
       "      <td>/mnt/cube/tsainbur/Projects/github_repos/avgn_...</td>\n",
       "      <td>castellucci_mouse_usv_segmented</td>\n",
       "      <td>VOC594</td>\n",
       "      <td>0.847924</td>\n",
       "      <td>0.851207</td>\n",
       "      <td>Mouse</td>\n",
       "      <td>mammal</td>\n",
       "      <td>True</td>\n",
       "    </tr>\n",
       "    <tr>\n",
       "      <th>0</th>\n",
       "      <td>/mnt/cube/tsainbur/Projects/github_repos/avgn_...</td>\n",
       "      <td>BIRD_DB_Toxostoma_redivivum</td>\n",
       "      <td>CATH-CP1</td>\n",
       "      <td>0.980506</td>\n",
       "      <td>0.977293</td>\n",
       "      <td>California thrasher</td>\n",
       "      <td>songbird</td>\n",
       "      <td>True</td>\n",
       "    </tr>\n",
       "    <tr>\n",
       "      <th>0</th>\n",
       "      <td>/mnt/cube/tsainbur/Projects/github_repos/avgn_...</td>\n",
       "      <td>buckeye</td>\n",
       "      <td>s16</td>\n",
       "      <td>0.882050</td>\n",
       "      <td>0.875757</td>\n",
       "      <td>Human (English)</td>\n",
       "      <td>mammal</td>\n",
       "      <td>True</td>\n",
       "    </tr>\n",
       "  </tbody>\n",
       "</table>\n",
       "</div>"
      ],
      "text/plain": [
       "                                                  df  \\\n",
       "0  /mnt/cube/tsainbur/Projects/github_repos/avgn_...   \n",
       "0  /mnt/cube/tsainbur/Projects/github_repos/avgn_...   \n",
       "0  /mnt/cube/tsainbur/Projects/github_repos/avgn_...   \n",
       "\n",
       "                           dataset      indv  umap_hopkins_1  umap_hopkins_10  \\\n",
       "0  castellucci_mouse_usv_segmented    VOC594        0.847924         0.851207   \n",
       "0      BIRD_DB_Toxostoma_redivivum  CATH-CP1        0.980506         0.977293   \n",
       "0                          buckeye       s16        0.882050         0.875757   \n",
       "\n",
       "               species    family  single_indv  \n",
       "0                Mouse    mammal         True  \n",
       "0  California thrasher  songbird         True  \n",
       "0      Human (English)    mammal         True  "
      ]
     },
     "execution_count": 11,
     "metadata": {},
     "output_type": "execute_result"
    }
   ],
   "source": [
    "clusterability_df[:3]"
   ]
  },
  {
   "cell_type": "code",
   "execution_count": 12,
   "metadata": {
    "ExecuteTime": {
     "end_time": "2020-04-24T18:36:42.820402Z",
     "start_time": "2020-04-24T18:36:42.514120Z"
    }
   },
   "outputs": [],
   "source": [
    "import statsmodels.api as sm\n",
    "import statsmodels.formula.api as smf"
   ]
  },
  {
   "cell_type": "code",
   "execution_count": 25,
   "metadata": {
    "ExecuteTime": {
     "end_time": "2020-04-24T18:40:07.603651Z",
     "start_time": "2020-04-24T18:40:07.567001Z"
    }
   },
   "outputs": [],
   "source": [
    "md = smf.ols(\n",
    "    formula=\"umap_hopkins_10 ~ C(family)\",\n",
    "    groups=clusterability_df[\"single_indv\"],\n",
    "    data=clusterability_df,\n",
    ").fit()"
   ]
  },
  {
   "cell_type": "code",
   "execution_count": 26,
   "metadata": {
    "ExecuteTime": {
     "end_time": "2020-04-24T18:40:07.725863Z",
     "start_time": "2020-04-24T18:40:07.697629Z"
    }
   },
   "outputs": [
    {
     "name": "stdout",
     "output_type": "stream",
     "text": [
      "                            OLS Regression Results                            \n",
      "==============================================================================\n",
      "Dep. Variable:        umap_hopkins_10   R-squared:                       0.258\n",
      "Model:                            OLS   Adj. R-squared:                  0.254\n",
      "Method:                 Least Squares   F-statistic:                     74.30\n",
      "Date:                Fri, 24 Apr 2020   Prob (F-statistic):           1.50e-15\n",
      "Time:                        11:40:07   Log-Likelihood:                 234.73\n",
      "No. Observations:                 216   AIC:                            -465.5\n",
      "Df Residuals:                     214   BIC:                            -458.7\n",
      "Df Model:                           1                                         \n",
      "Covariance Type:            nonrobust                                         \n",
      "=========================================================================================\n",
      "                            coef    std err          t      P>|t|      [0.025      0.975]\n",
      "-----------------------------------------------------------------------------------------\n",
      "Intercept                 0.8588      0.009     98.794      0.000       0.842       0.876\n",
      "C(family)[T.songbird]     0.0977      0.011      8.620      0.000       0.075       0.120\n",
      "==============================================================================\n",
      "Omnibus:                       80.875   Durbin-Watson:                   2.105\n",
      "Prob(Omnibus):                  0.000   Jarque-Bera (JB):              184.536\n",
      "Skew:                          -1.790   Prob(JB):                     8.48e-41\n",
      "Kurtosis:                       5.772   Cond. No.                         2.88\n",
      "==============================================================================\n",
      "\n",
      "Warnings:\n",
      "[1] Standard Errors assume that the covariance matrix of the errors is correctly specified.\n"
     ]
    }
   ],
   "source": [
    "print(md.summary())"
   ]
  }
 ],
 "metadata": {
  "kernelspec": {
   "display_name": "Python 3",
   "language": "python",
   "name": "python3"
  },
  "language_info": {
   "codemirror_mode": {
    "name": "ipython",
    "version": 3
   },
   "file_extension": ".py",
   "mimetype": "text/x-python",
   "name": "python",
   "nbconvert_exporter": "python",
   "pygments_lexer": "ipython3",
   "version": "3.6.7"
  }
 },
 "nbformat": 4,
 "nbformat_minor": 2
}
