{
 "cells": [
  {
   "cell_type": "markdown",
   "metadata": {},
   "source": [
    "#### color as unique colors"
   ]
  },
  {
   "cell_type": "code",
   "execution_count": 1,
   "metadata": {
    "ExecuteTime": {
     "end_time": "2020-03-17T03:22:53.067746Z",
     "start_time": "2020-03-17T03:22:49.019734Z"
    }
   },
   "outputs": [
    {
     "name": "stderr",
     "output_type": "stream",
     "text": [
      "/mnt/cube/tsainbur/conda_envs/tpy3/lib/python3.6/site-packages/tqdm/autonotebook/__init__.py:14: TqdmExperimentalWarning: Using `tqdm.autonotebook.tqdm` in notebook mode. Use `tqdm.tqdm` instead to force console mode (e.g. in jupyter console)\n",
      "  \" (e.g. in jupyter console)\", TqdmExperimentalWarning)\n"
     ]
    }
   ],
   "source": [
    "import pandas as pd\n",
    "import numpy as np\n",
    "import umap\n",
    "import networkx as nx\n",
    "import matplotlib.pyplot as plt\n",
    "from tqdm.autonotebook import tqdm"
   ]
  },
  {
   "cell_type": "code",
   "execution_count": 2,
   "metadata": {
    "ExecuteTime": {
     "end_time": "2020-03-17T03:22:53.091317Z",
     "start_time": "2020-03-17T03:22:53.070538Z"
    }
   },
   "outputs": [
    {
     "name": "stderr",
     "output_type": "stream",
     "text": [
      "/mnt/cube/tsainbur/conda_envs/tpy3/lib/python3.6/site-packages/sklearn/externals/six.py:31: FutureWarning: The module is deprecated in version 0.21 and will be removed in version 0.23 since we've dropped support for Python 2.7. Please rely on the official version of six (https://pypi.org/project/six/).\n",
      "  \"(https://pypi.org/project/six/).\", FutureWarning)\n",
      "/mnt/cube/tsainbur/conda_envs/tpy3/lib/python3.6/site-packages/sklearn/externals/joblib/__init__.py:15: FutureWarning: sklearn.externals.joblib is deprecated in 0.21 and will be removed in 0.23. Please import this functionality directly from joblib, which can be installed with: pip install joblib. If this warning is raised when loading pickled models, you may need to re-serialize those models with scikit-learn 0.21+.\n",
      "  warnings.warn(msg, category=FutureWarning)\n"
     ]
    }
   ],
   "source": [
    "import hdbscan"
   ]
  },
  {
   "cell_type": "code",
   "execution_count": 3,
   "metadata": {
    "ExecuteTime": {
     "end_time": "2020-03-17T03:22:53.175148Z",
     "start_time": "2020-03-17T03:22:53.093713Z"
    }
   },
   "outputs": [],
   "source": [
    "from matplotlib.colors import ListedColormap, LinearSegmentedColormap\n",
    "import seaborn as sns\n",
    "\n",
    "pal = sns.color_palette('Set1', 3)\n",
    "custommap = ListedColormap([\n",
    "    list(pal[0])+[1],\n",
    "    list(pal[1])+[1],\n",
    "    list(pal[2])+[1],\n",
    "], name='custommap')"
   ]
  },
  {
   "cell_type": "code",
   "execution_count": 113,
   "metadata": {
    "ExecuteTime": {
     "end_time": "2020-03-17T04:04:58.147080Z",
     "start_time": "2020-03-17T04:04:58.141552Z"
    }
   },
   "outputs": [],
   "source": [
    "pal = sns.color_palette(\"Dark2\", 3)\n",
    "darkmmap = ListedColormap([\n",
    "    list(pal[1])+[1],\n",
    "    list(pal[2])+[1],\n",
    "], name='custommap')\n"
   ]
  },
  {
   "cell_type": "code",
   "execution_count": 4,
   "metadata": {
    "ExecuteTime": {
     "end_time": "2020-03-17T03:22:53.181200Z",
     "start_time": "2020-03-17T03:22:53.177646Z"
    }
   },
   "outputs": [],
   "source": [
    "pal = sns.color_palette('Set1', 3)\n",
    "greymap = ListedColormap([\n",
    "    [0,0,0,1],\n",
    "], name='greymap')"
   ]
  },
  {
   "cell_type": "code",
   "execution_count": 5,
   "metadata": {
    "ExecuteTime": {
     "end_time": "2020-03-17T03:22:53.216834Z",
     "start_time": "2020-03-17T03:22:53.183156Z"
    }
   },
   "outputs": [
    {
     "data": {
      "text/html": [
       "<div>\n",
       "<style scoped>\n",
       "    .dataframe tbody tr th:only-of-type {\n",
       "        vertical-align: middle;\n",
       "    }\n",
       "\n",
       "    .dataframe tbody tr th {\n",
       "        vertical-align: top;\n",
       "    }\n",
       "\n",
       "    .dataframe thead th {\n",
       "        text-align: right;\n",
       "    }\n",
       "</style>\n",
       "<table border=\"1\" class=\"dataframe\">\n",
       "  <thead>\n",
       "    <tr style=\"text-align: right;\">\n",
       "      <th></th>\n",
       "      <th>data_</th>\n",
       "      <th>embedding</th>\n",
       "      <th>label</th>\n",
       "      <th>spectral_embedding</th>\n",
       "      <th>random_embedding</th>\n",
       "    </tr>\n",
       "  </thead>\n",
       "  <tbody>\n",
       "    <tr>\n",
       "      <th>0</th>\n",
       "      <td>[-0.05812716910083182, 4.13056997182554, -4.25...</td>\n",
       "      <td>[-0.6344973, 7.345195]</td>\n",
       "      <td>0</td>\n",
       "      <td>[0.5911517811478506, -0.008832536128889757]</td>\n",
       "      <td>[0.8012730174926173, 0.4181146018414298]</td>\n",
       "    </tr>\n",
       "    <tr>\n",
       "      <th>1</th>\n",
       "      <td>[-3.359090593844753, 6.596416658084696, -8.878...</td>\n",
       "      <td>[0.5659561, 7.679983]</td>\n",
       "      <td>0</td>\n",
       "      <td>[0.9150689049483262, -0.08201851022513977]</td>\n",
       "      <td>[0.1839182266849685, 0.8222152743104965]</td>\n",
       "    </tr>\n",
       "    <tr>\n",
       "      <th>2</th>\n",
       "      <td>[-7.067464840991654, -10.093321663983687, -11....</td>\n",
       "      <td>[-4.5785413, 5.883973]</td>\n",
       "      <td>1</td>\n",
       "      <td>[-0.5792991372167784, -0.7744489820127733]</td>\n",
       "      <td>[0.9097859226100449, 0.04633064990967861]</td>\n",
       "    </tr>\n",
       "  </tbody>\n",
       "</table>\n",
       "</div>"
      ],
      "text/plain": [
       "                                               data_               embedding  \\\n",
       "0  [-0.05812716910083182, 4.13056997182554, -4.25...  [-0.6344973, 7.345195]   \n",
       "1  [-3.359090593844753, 6.596416658084696, -8.878...   [0.5659561, 7.679983]   \n",
       "2  [-7.067464840991654, -10.093321663983687, -11....  [-4.5785413, 5.883973]   \n",
       "\n",
       "   label                           spectral_embedding  \\\n",
       "0      0  [0.5911517811478506, -0.008832536128889757]   \n",
       "1      0   [0.9150689049483262, -0.08201851022513977]   \n",
       "2      1   [-0.5792991372167784, -0.7744489820127733]   \n",
       "\n",
       "                            random_embedding  \n",
       "0   [0.8012730174926173, 0.4181146018414298]  \n",
       "1   [0.1839182266849685, 0.8222152743104965]  \n",
       "2  [0.9097859226100449, 0.04633064990967861]  "
      ]
     },
     "execution_count": 5,
     "metadata": {},
     "output_type": "execute_result"
    }
   ],
   "source": [
    "point_df = pd.read_pickle('point_df.pickle')\n",
    "point_df[:3]"
   ]
  },
  {
   "cell_type": "code",
   "execution_count": 6,
   "metadata": {
    "ExecuteTime": {
     "end_time": "2020-03-17T03:22:54.707424Z",
     "start_time": "2020-03-17T03:22:54.703963Z"
    }
   },
   "outputs": [],
   "source": [
    "cluster_id = point_df.label.values\n",
    "points = np.vstack(point_df.embedding.values)"
   ]
  },
  {
   "cell_type": "code",
   "execution_count": 7,
   "metadata": {
    "ExecuteTime": {
     "end_time": "2020-03-17T03:22:54.879338Z",
     "start_time": "2020-03-17T03:22:54.870072Z"
    }
   },
   "outputs": [
    {
     "data": {
      "text/plain": [
       "HDBSCAN(algorithm='best', allow_single_cluster=False, alpha=1.0,\n",
       "        approx_min_span_tree=True, cluster_selection_method='eom',\n",
       "        core_dist_n_jobs=4, gen_min_span_tree=True, leaf_size=40,\n",
       "        match_reference_implementation=False, memory=Memory(location=None),\n",
       "        metric='euclidean', min_cluster_size=3, min_samples=None, p=None,\n",
       "        prediction_data=False)"
      ]
     },
     "execution_count": 7,
     "metadata": {},
     "output_type": "execute_result"
    }
   ],
   "source": [
    "clusterer = hdbscan.HDBSCAN(min_cluster_size=3, gen_min_span_tree=True)\n",
    "clusterer.fit(points)"
   ]
  },
  {
   "cell_type": "code",
   "execution_count": 8,
   "metadata": {
    "ExecuteTime": {
     "end_time": "2020-03-17T03:22:55.020449Z",
     "start_time": "2020-03-17T03:22:55.016086Z"
    }
   },
   "outputs": [
    {
     "data": {
      "text/plain": [
       "array([1, 1, 1, 0, 0, 1, 0, 0, 1, 1, 0, 1, 1, 1, 1, 0, 1, 1, 1, 1])"
      ]
     },
     "execution_count": 8,
     "metadata": {},
     "output_type": "execute_result"
    }
   ],
   "source": [
    "clusterer.labels_"
   ]
  },
  {
   "cell_type": "code",
   "execution_count": 15,
   "metadata": {
    "ExecuteTime": {
     "end_time": "2020-03-17T03:23:11.906338Z",
     "start_time": "2020-03-17T03:23:11.879330Z"
    }
   },
   "outputs": [
    {
     "data": {
      "text/html": [
       "<div>\n",
       "<style scoped>\n",
       "    .dataframe tbody tr th:only-of-type {\n",
       "        vertical-align: middle;\n",
       "    }\n",
       "\n",
       "    .dataframe tbody tr th {\n",
       "        vertical-align: top;\n",
       "    }\n",
       "\n",
       "    .dataframe thead th {\n",
       "        text-align: right;\n",
       "    }\n",
       "</style>\n",
       "<table border=\"1\" class=\"dataframe\">\n",
       "  <thead>\n",
       "    <tr style=\"text-align: right;\">\n",
       "      <th></th>\n",
       "      <th>source</th>\n",
       "      <th>target</th>\n",
       "      <th>weight</th>\n",
       "      <th>norm_weight</th>\n",
       "      <th>norm_weight2</th>\n",
       "    </tr>\n",
       "  </thead>\n",
       "  <tbody>\n",
       "    <tr>\n",
       "      <th>0</th>\n",
       "      <td>3.0</td>\n",
       "      <td>6.0</td>\n",
       "      <td>0.790078</td>\n",
       "      <td>5.118869</td>\n",
       "      <td>0.809169</td>\n",
       "    </tr>\n",
       "    <tr>\n",
       "      <th>1</th>\n",
       "      <td>7.0</td>\n",
       "      <td>6.0</td>\n",
       "      <td>0.790078</td>\n",
       "      <td>5.118869</td>\n",
       "      <td>0.809169</td>\n",
       "    </tr>\n",
       "    <tr>\n",
       "      <th>2</th>\n",
       "      <td>3.0</td>\n",
       "      <td>10.0</td>\n",
       "      <td>0.790078</td>\n",
       "      <td>5.118869</td>\n",
       "      <td>0.809169</td>\n",
       "    </tr>\n",
       "  </tbody>\n",
       "</table>\n",
       "</div>"
      ],
      "text/plain": [
       "   source  target    weight  norm_weight  norm_weight2\n",
       "0     3.0     6.0  0.790078     5.118869      0.809169\n",
       "1     7.0     6.0  0.790078     5.118869      0.809169\n",
       "2     3.0    10.0  0.790078     5.118869      0.809169"
      ]
     },
     "execution_count": 15,
     "metadata": {},
     "output_type": "execute_result"
    }
   ],
   "source": [
    "edge_df = pd.DataFrame(clusterer.minimum_spanning_tree_._mst, columns = [\"source\", \"target\", \"weight\"])\n",
    "edge_df['norm_weight'] = 2 * (np.log(edge_df.weight.max() /edge_df.weight.values) + 1.0)\n",
    "edge_df['norm_weight2'] = 1-np.log(1+edge_df.weight / edge_df.weight.max())\n",
    "edge_df[:3]"
   ]
  },
  {
   "cell_type": "code",
   "execution_count": 16,
   "metadata": {
    "ExecuteTime": {
     "end_time": "2020-03-17T03:23:12.218768Z",
     "start_time": "2020-03-17T03:23:12.215876Z"
    }
   },
   "outputs": [],
   "source": [
    "### Plotting"
   ]
  },
  {
   "cell_type": "code",
   "execution_count": 17,
   "metadata": {
    "ExecuteTime": {
     "end_time": "2020-03-17T03:23:12.416380Z",
     "start_time": "2020-03-17T03:23:12.413297Z"
    }
   },
   "outputs": [],
   "source": [
    "node_size = 100\n",
    "cmap = custommap # plt.cm.tab20c# plt.cm.brg # plt.cm.Dark2\n",
    "padding = 0.05"
   ]
  },
  {
   "cell_type": "code",
   "execution_count": 18,
   "metadata": {
    "ExecuteTime": {
     "end_time": "2020-03-17T03:23:12.794690Z",
     "start_time": "2020-03-17T03:23:12.695781Z"
    }
   },
   "outputs": [
    {
     "data": {
      "text/plain": [
       "(-7.592742550588851, 2.2810773732435745)"
      ]
     },
     "execution_count": 18,
     "metadata": {},
     "output_type": "execute_result"
    },
    {
     "data": {
      "image/png": "[encoded data removed]",
      "text/plain": [
       "<Figure size 360x360 with 1 Axes>"
      ]
     },
     "metadata": {
      "needs_background": "light"
     },
     "output_type": "display_data"
    }
   ],
   "source": [
    "fig = plt.figure(figsize=(5,5))\n",
    "\n",
    "ax  = fig.add_subplot(1,1,1,)\n",
    "ax.grid(b=True, which='major', color='#CCCCCC', linewidth=2, linestyle='-', zorder = -100)\n",
    "ax.set_xticklabels([]); ax.set_yticklabels([]);\n",
    "ax.set_facecolor((0,0,0,0.01))\n",
    "\n",
    "ax.scatter(points[:,0], points[:,1], c=cluster_id, cmap = cmap, s=node_size, zorder = 100)\n",
    "\n",
    "[i.set_linewidth(3) for i in ax.spines.values()]\n",
    "\n",
    "ymin, ymax = ax.get_ylim()\n",
    "xmin, xmax = ax.get_xlim()\n",
    "\n",
    "new_ylim = np.array([ymin - (ymax - ymin)*padding, ymax + (ymax - ymin)*padding])\n",
    "new_xlim = np.array([xmin - (xmax - xmin)*padding, xmax + (xmax - xmin)*padding])\n",
    "if np.diff(new_xlim) > np.diff(new_ylim):\n",
    "    new_ylim = [\n",
    "        new_ylim[0] - (np.diff(new_xlim) - np.diff(new_ylim)) /2,\n",
    "        new_ylim[1] + (np.diff(new_xlim) - np.diff(new_ylim)) /2\n",
    "               ]\n",
    "elif np.diff(new_xlim) < np.diff(new_ylim):\n",
    "    new_xlim = [\n",
    "        new_xlim[0] - (np.diff(new_ylim) - np.diff(new_xlim)) /2,\n",
    "        new_xlim[1] + (np.diff(new_ylim) - np.diff(new_xlim)) /2\n",
    "               ]\n",
    "ax.set_ylim(new_ylim)\n",
    "ax.set_xlim(new_xlim)"
   ]
  },
  {
   "cell_type": "code",
   "execution_count": 114,
   "metadata": {
    "ExecuteTime": {
     "end_time": "2020-03-17T04:05:00.732633Z",
     "start_time": "2020-03-17T04:05:00.631856Z"
    }
   },
   "outputs": [
    {
     "data": {
      "text/plain": [
       "(-7.592742550588851, 2.2810773732435745)"
      ]
     },
     "execution_count": 114,
     "metadata": {},
     "output_type": "execute_result"
    },
    {
     "data": {
      "image/png": "[encoded data removed]",
      "text/plain": [
       "<Figure size 360x360 with 1 Axes>"
      ]
     },
     "metadata": {
      "needs_background": "light"
     },
     "output_type": "display_data"
    }
   ],
   "source": [
    "fig = plt.figure(figsize=(5,5))\n",
    "\n",
    "ax  = fig.add_subplot(1,1,1,)\n",
    "ax.grid(b=True, which='major', color='#CCCCCC', linewidth=2, linestyle='-', zorder = -100)\n",
    "ax.set_xticklabels([]); ax.set_yticklabels([]);\n",
    "ax.set_facecolor((0,0,0,0.01))\n",
    "ax.scatter(points[:,0], points[:,1], c=clusterer.labels_, cmap = darkmmap, s=node_size, zorder = 100)\n",
    "\n",
    "[i.set_linewidth(3) for i in ax.spines.values()]\n",
    "\n",
    "ymin, ymax = ax.get_ylim()\n",
    "xmin, xmax = ax.get_xlim()\n",
    "\n",
    "new_ylim = np.array([ymin - (ymax - ymin)*padding, ymax + (ymax - ymin)*padding])\n",
    "new_xlim = np.array([xmin - (xmax - xmin)*padding, xmax + (xmax - xmin)*padding])\n",
    "if np.diff(new_xlim) > np.diff(new_ylim):\n",
    "    new_ylim = [\n",
    "        new_ylim[0] - (np.diff(new_xlim) - np.diff(new_ylim)) /2,\n",
    "        new_ylim[1] + (np.diff(new_xlim) - np.diff(new_ylim)) /2\n",
    "               ]\n",
    "elif np.diff(new_xlim) < np.diff(new_ylim):\n",
    "    new_xlim = [\n",
    "        new_xlim[0] - (np.diff(new_ylim) - np.diff(new_xlim)) /2,\n",
    "        new_xlim[1] + (np.diff(new_ylim) - np.diff(new_xlim)) /2\n",
    "               ]\n",
    "ax.set_ylim(new_ylim)\n",
    "ax.set_xlim(new_xlim)"
   ]
  },
  {
   "cell_type": "code",
   "execution_count": 20,
   "metadata": {
    "ExecuteTime": {
     "end_time": "2020-03-17T03:23:13.519005Z",
     "start_time": "2020-03-17T03:23:13.507202Z"
    }
   },
   "outputs": [
    {
     "data": {
      "text/html": [
       "<div>\n",
       "<style scoped>\n",
       "    .dataframe tbody tr th:only-of-type {\n",
       "        vertical-align: middle;\n",
       "    }\n",
       "\n",
       "    .dataframe tbody tr th {\n",
       "        vertical-align: top;\n",
       "    }\n",
       "\n",
       "    .dataframe thead th {\n",
       "        text-align: right;\n",
       "    }\n",
       "</style>\n",
       "<table border=\"1\" class=\"dataframe\">\n",
       "  <thead>\n",
       "    <tr style=\"text-align: right;\">\n",
       "      <th></th>\n",
       "      <th>source</th>\n",
       "      <th>target</th>\n",
       "      <th>weight</th>\n",
       "      <th>norm_weight</th>\n",
       "      <th>norm_weight2</th>\n",
       "    </tr>\n",
       "  </thead>\n",
       "  <tbody>\n",
       "    <tr>\n",
       "      <th>0</th>\n",
       "      <td>3.0</td>\n",
       "      <td>6.0</td>\n",
       "      <td>0.790078</td>\n",
       "      <td>5.118869</td>\n",
       "      <td>0.809169</td>\n",
       "    </tr>\n",
       "    <tr>\n",
       "      <th>1</th>\n",
       "      <td>7.0</td>\n",
       "      <td>6.0</td>\n",
       "      <td>0.790078</td>\n",
       "      <td>5.118869</td>\n",
       "      <td>0.809169</td>\n",
       "    </tr>\n",
       "    <tr>\n",
       "      <th>2</th>\n",
       "      <td>3.0</td>\n",
       "      <td>10.0</td>\n",
       "      <td>0.790078</td>\n",
       "      <td>5.118869</td>\n",
       "      <td>0.809169</td>\n",
       "    </tr>\n",
       "  </tbody>\n",
       "</table>\n",
       "</div>"
      ],
      "text/plain": [
       "   source  target    weight  norm_weight  norm_weight2\n",
       "0     3.0     6.0  0.790078     5.118869      0.809169\n",
       "1     7.0     6.0  0.790078     5.118869      0.809169\n",
       "2     3.0    10.0  0.790078     5.118869      0.809169"
      ]
     },
     "execution_count": 20,
     "metadata": {},
     "output_type": "execute_result"
    }
   ],
   "source": [
    "edge_df[:3]"
   ]
  },
  {
   "cell_type": "code",
   "execution_count": 21,
   "metadata": {
    "ExecuteTime": {
     "end_time": "2020-03-17T03:23:14.213434Z",
     "start_time": "2020-03-17T03:23:14.042944Z"
    }
   },
   "outputs": [
    {
     "data": {
      "application/vnd.jupyter.widget-view+json": {
       "model_id": "",
       "version_major": 2,
       "version_minor": 0
      },
      "text/plain": [
       "HBox(children=(IntProgress(value=0, max=19), HTML(value='')))"
      ]
     },
     "metadata": {},
     "output_type": "display_data"
    },
    {
     "name": "stdout",
     "output_type": "stream",
     "text": [
      "\r"
     ]
    },
    {
     "data": {
      "text/plain": [
       "(-7.592742550588851, 2.2810773732435745)"
      ]
     },
     "execution_count": 21,
     "metadata": {},
     "output_type": "execute_result"
    },
    {
     "data": {
      "image/png": "[encoded data removed]",
      "text/plain": [
       "<Figure size 360x360 with 1 Axes>"
      ]
     },
     "metadata": {
      "needs_background": "light"
     },
     "output_type": "display_data"
    }
   ],
   "source": [
    "fig = plt.figure(figsize=(5,5))\n",
    "\n",
    "ax  = fig.add_subplot(1,1,1,)\n",
    "ax.grid(b=True, which='major', color='#CCCCCC', linewidth=1, linestyle='-', zorder = -100)\n",
    "ax.set_xticklabels([]); ax.set_yticklabels([]);\n",
    "ax.set_facecolor((0,0,0,0.01))\n",
    "\n",
    "ax.scatter(points[:,0], points[:,1], c=cluster_id, cmap = cmap, s=node_size, zorder = 100)\n",
    "\n",
    "for idx, row in tqdm(edge_df.iterrows(), total=len(edge_df), leave=False):\n",
    "    st = point_df.iloc[int(row.source)].embedding\n",
    "    ed = point_df.iloc[int(row.target)].embedding\n",
    "    ax.plot([st[0], ed[0]], [st[1], ed[1]], alpha =row.norm_weight2, color= 'black', lw=row.norm_weight)\n",
    "    \n",
    "[i.set_linewidth(3) for i in ax.spines.values()]\n",
    "ax.set_xticklabels([]); ax.set_yticklabels([]); \n",
    "\n",
    "\n",
    "ymin, ymax = ax.get_ylim()\n",
    "xmin, xmax = ax.get_xlim()\n",
    "\n",
    "new_ylim = np.array([ymin - (ymax - ymin)*padding, ymax + (ymax - ymin)*padding])\n",
    "new_xlim = np.array([xmin - (xmax - xmin)*padding, xmax + (xmax - xmin)*padding])\n",
    "if np.diff(new_xlim) > np.diff(new_ylim):\n",
    "    new_ylim = [\n",
    "        new_ylim[0] - (np.diff(new_xlim) - np.diff(new_ylim)) /2,\n",
    "        new_ylim[1] + (np.diff(new_xlim) - np.diff(new_ylim)) /2\n",
    "               ]\n",
    "elif np.diff(new_xlim) < np.diff(new_ylim):\n",
    "    new_xlim = [\n",
    "        new_xlim[0] - (np.diff(new_ylim) - np.diff(new_xlim)) /2,\n",
    "        new_xlim[1] + (np.diff(new_ylim) - np.diff(new_xlim)) /2\n",
    "               ]\n",
    "ax.set_ylim(new_ylim)\n",
    "ax.set_xlim(new_xlim)"
   ]
  },
  {
   "cell_type": "code",
   "execution_count": 23,
   "metadata": {
    "ExecuteTime": {
     "end_time": "2020-03-17T03:23:39.699712Z",
     "start_time": "2020-03-17T03:23:39.695942Z"
    }
   },
   "outputs": [],
   "source": [
    "from scipy.cluster.hierarchy import dendrogram"
   ]
  },
  {
   "cell_type": "code",
   "execution_count": 25,
   "metadata": {
    "ExecuteTime": {
     "end_time": "2020-03-17T03:23:50.405818Z",
     "start_time": "2020-03-17T03:23:50.401180Z"
    }
   },
   "outputs": [],
   "source": [
    "X = dendrogram_data['icoord']\n",
    "Y = dendrogram_data['dcoord']\n",
    "XLOCS = np.sort(np.array(X)[np.array(Y) == 0])"
   ]
  },
  {
   "cell_type": "code",
   "execution_count": 105,
   "metadata": {
    "ExecuteTime": {
     "end_time": "2020-03-17T04:00:10.509079Z",
     "start_time": "2020-03-17T04:00:10.298357Z"
    }
   },
   "outputs": [
    {
     "data": {
      "image/png": "[encoded data removed]",
      "text/plain": [
       "<Figure size 360x360 with 1 Axes>"
      ]
     },
     "metadata": {
      "needs_background": "light"
     },
     "output_type": "display_data"
    }
   ],
   "source": [
    "fig, ax = plt.subplots(figsize=(5,5))\n",
    "dendrogram_data = dendrogram(clusterer.single_linkage_tree_._linkage, p=0, truncate_mode=None, no_plot=True, );\n",
    "\n",
    "clusterer.single_linkage_tree_.plot(axis = ax, cmap=greymap, vary_line_width=True, colorbar=False) # cmap='plasma'\n",
    "ax.set_ylabel('Distance', fontsize=20)\n",
    "ax.spines['left'].set_linewidth(2)\n",
    "ax.yaxis.set_tick_params(labelsize=14)\n",
    "\n",
    "for lf, x in zip(dendrogram_data['leaves'], XLOCS):\n",
    "    y = 0\n",
    "    color = pal[point_df['label'].values[lf]]\n",
    "    ax.scatter([x], [y], color=color,  s= 100, zorder=-10000)    \n",
    "plt.show()\n"
   ]
  },
  {
   "cell_type": "code",
   "execution_count": 106,
   "metadata": {
    "ExecuteTime": {
     "end_time": "2020-03-17T04:00:38.587842Z",
     "start_time": "2020-03-17T04:00:38.481578Z"
    }
   },
   "outputs": [
    {
     "data": {
      "image/png": "[encoded data removed]",
      "text/plain": [
       "<Figure size 360x360 with 1 Axes>"
      ]
     },
     "metadata": {
      "needs_background": "light"
     },
     "output_type": "display_data"
    }
   ],
   "source": [
    "fig, ax = plt.subplots(figsize=(5,5))\n",
    "ax = clusterer.condensed_tree_.plot(\n",
    "    axis = ax, \n",
    "    cmap = plt.cm.Greys,\n",
    "    log_size=False,\n",
    "    select_clusters=False,\n",
    "    label_clusters=False,\n",
    "    colorbar=False\n",
    ")\n",
    "ax.set_ylabel('$\\lambda$ value', fontsize=20)\n",
    "ax.spines['left'].set_linewidth(2)\n",
    "ax.yaxis.set_tick_params(labelsize=14)\n",
    "#plt.colorbar(sm)"
   ]
  },
  {
   "cell_type": "code",
   "execution_count": null,
   "metadata": {},
   "outputs": [],
   "source": []
  },
  {
   "cell_type": "code",
   "execution_count": 117,
   "metadata": {
    "ExecuteTime": {
     "end_time": "2020-03-17T04:05:28.333577Z",
     "start_time": "2020-03-17T04:05:28.207966Z"
    }
   },
   "outputs": [
    {
     "data": {
      "image/png": "[encoded data removed]",
      "text/plain": [
       "<Figure size 360x360 with 1 Axes>"
      ]
     },
     "metadata": {
      "needs_background": "light"
     },
     "output_type": "display_data"
    }
   ],
   "source": [
    "selection_palette = sns.color_palette(\"Dark2\", 3)[1:] #plt.cm.PiYG #sns.color_palette()\n",
    "from matplotlib.patches import Ellipse\n",
    "\n",
    "CB_LEFT = 0\n",
    "CB_RIGHT = 1\n",
    "CB_BOTTOM = 2\n",
    "CB_TOP = 3\n",
    "leaf_separation=1\n",
    "log_size=False\n",
    "max_rectangles_per_icicle=20\n",
    "cmap = plt.cm.Greys\n",
    "\n",
    "fig, ax = plt.subplots(figsize=(5,5))\n",
    "\n",
    "plot_data = clusterer.condensed_tree_.get_plot_data(leaf_separation=leaf_separation,\n",
    "                                       log_size=log_size,\n",
    "                                       max_rectangle_per_icicle=max_rectangles_per_icicle)\n",
    "sm = plt.cm.ScalarMappable(cmap=cmap,\n",
    "                                       norm=plt.Normalize(0, max(plot_data['bar_widths'])))\n",
    "sm.set_array(plot_data['bar_widths'])\n",
    "bar_colors = [sm.to_rgba(x) for x in plot_data['bar_widths']]\n",
    "\n",
    "ax.bar(\n",
    "    plot_data['bar_centers'],\n",
    "    plot_data['bar_tops'],\n",
    "    bottom=plot_data['bar_bottoms'],\n",
    "    width=plot_data['bar_widths'],\n",
    "    color=bar_colors,\n",
    "    align='center',\n",
    "    linewidth=0\n",
    ")\n",
    "\n",
    "drawlines = []\n",
    "for xs, ys in zip(plot_data['line_xs'], plot_data['line_ys']):\n",
    "    drawlines.append(xs)\n",
    "    drawlines.append(ys)\n",
    "ax.plot(*drawlines, color='black', linewidth=1)\n",
    "\n",
    "\n",
    "# invert axis\n",
    "ax.set_xticks([])\n",
    "for side in ('right', 'top', 'bottom'):\n",
    "    ax.spines[side].set_visible(False)\n",
    "ax.invert_yaxis()\n",
    "ax.set_ylabel('$\\lambda$ value', fontsize=20)\n",
    "\n",
    "# colorbar\n",
    "#cb = plt.colorbar(sm)\n",
    "#cb.ax.set_ylabel('Number of points', fontsize=20)\n",
    "#cb.ax.yaxis.set_tick_params(labelsize=14)\n",
    "\n",
    "ax.spines['left'].set_linewidth(2)\n",
    "ax.yaxis.set_tick_params(labelsize=14)\n",
    "\n",
    "\n",
    "chosen_clusters = clusterer.condensed_tree_._select_clusters()\n",
    "            \n",
    "# Extract the chosen cluster bounds. If enough duplicate data points exist in the\n",
    "# data the lambda value might be infinite. This breaks labeling and highlighting\n",
    "# the chosen clusters.\n",
    "cluster_bounds = np.array([ plot_data['cluster_bounds'][c] for c in chosen_clusters ])\n",
    "if not np.isfinite(cluster_bounds).all():\n",
    "    warn('Infinite lambda values encountered in chosen clusters.'\n",
    "         ' This might be due to duplicates in the data.')\n",
    "\n",
    "# Extract the plot range of the y-axis and set default center and height values for ellipses.\n",
    "# Extremly dense clusters might result in near infinite lambda values. Setting max_height\n",
    "# based on the percentile should alleviate the impact on plotting.\n",
    "plot_range = np.hstack([plot_data['bar_tops'], plot_data['bar_bottoms']])\n",
    "plot_range = plot_range[np.isfinite(plot_range)]\n",
    "mean_y_center = np.mean([np.max(plot_range), np.min(plot_range)])\n",
    "max_height = np.diff(np.percentile(plot_range, q=[10,90]))\n",
    "\n",
    "for i, c in enumerate(chosen_clusters):\n",
    "    c_bounds = plot_data['cluster_bounds'][c]\n",
    "    width = (c_bounds[CB_RIGHT] - c_bounds[CB_LEFT])\n",
    "    height = (c_bounds[CB_TOP] - c_bounds[CB_BOTTOM])\n",
    "    center = (\n",
    "        np.mean([c_bounds[CB_LEFT], c_bounds[CB_RIGHT]]),\n",
    "        np.mean([c_bounds[CB_TOP], c_bounds[CB_BOTTOM]]),\n",
    "    )\n",
    "\n",
    "    # Set center and height to default values if necessary\n",
    "    if not np.isfinite(center[1]):\n",
    "        center = (center[0], mean_y_center)\n",
    "    if not np.isfinite(height):\n",
    "        height = max_height\n",
    "\n",
    "    # Ensure the ellipse is visible\n",
    "    min_height = 0.1*max_height\n",
    "    if height < min_height:\n",
    "        height = min_height\n",
    "\n",
    "    if selection_palette is not None and \\\n",
    "            len(selection_palette) >= len(chosen_clusters):\n",
    "        oval_color = selection_palette[i]\n",
    "    else:\n",
    "        oval_color = 'r'\n",
    "\n",
    "    box = Ellipse(\n",
    "        center,\n",
    "        2.0 * width,\n",
    "        1.2 * height,\n",
    "        facecolor='none',\n",
    "        edgecolor=oval_color,\n",
    "        linewidth=6\n",
    "    )\n",
    "\n",
    "    ax.annotate(str(i), xy=center,\n",
    "                  xytext=(center[0] - 4.0 * width, center[1] + 0.65 * height),\n",
    "                  horizontalalignment='left',\n",
    "                  verticalalignment='bottom')\n",
    "\n",
    "    ax.add_artist(box)\n",
    "\n"
   ]
  },
  {
   "cell_type": "code",
   "execution_count": null,
   "metadata": {},
   "outputs": [],
   "source": []
  },
  {
   "cell_type": "code",
   "execution_count": 90,
   "metadata": {
    "ExecuteTime": {
     "end_time": "2020-03-17T03:52:30.505195Z",
     "start_time": "2020-03-17T03:52:30.382086Z"
    }
   },
   "outputs": [
    {
     "data": {
      "image/png": "[encoded data removed]",
      "text/plain": [
       "<Figure size 432x288 with 1 Axes>"
      ]
     },
     "metadata": {
      "needs_background": "light"
     },
     "output_type": "display_data"
    }
   ],
   "source": [
    "leaf_separation=1\n",
    "log_size=False\n",
    "max_rectangles_per_icicle=20\n",
    "cmap = plt.cm.Greys\n",
    "\n",
    "fig, ax = plt.subplots()\n",
    "\n",
    "plot_data = clusterer.condensed_tree_.get_plot_data(leaf_separation=leaf_separation,\n",
    "                                       log_size=log_size,\n",
    "                                       max_rectangle_per_icicle=max_rectangles_per_icicle)\n",
    "sm = plt.cm.ScalarMappable(cmap=cmap,\n",
    "                                       norm=plt.Normalize(0, max(plot_data['bar_widths'])))\n",
    "sm.set_array(plot_data['bar_widths'])\n",
    "bar_colors = [sm.to_rgba(x) for x in plot_data['bar_widths']]\n",
    "\n",
    "ax.bar(\n",
    "    plot_data['bar_centers'],\n",
    "    plot_data['bar_tops'],\n",
    "    bottom=plot_data['bar_bottoms'],\n",
    "    width=plot_data['bar_widths'],\n",
    "    color=bar_colors,\n",
    "    align='center',\n",
    "    linewidth=0\n",
    ")\n",
    "\n",
    "drawlines = []\n",
    "for xs, ys in zip(plot_data['line_xs'], plot_data['line_ys']):\n",
    "    drawlines.append(xs)\n",
    "    drawlines.append(ys)\n",
    "ax.plot(*drawlines, color='black', linewidth=1)\n",
    "\n",
    "\n",
    "# invert axis\n",
    "ax.set_xticks([])\n",
    "for side in ('right', 'top', 'bottom'):\n",
    "    ax.spines[side].set_visible(False)\n",
    "ax.invert_yaxis()\n",
    "ax.set_ylabel('$\\lambda$ value', fontsize=20)\n",
    "\n",
    "# colorbar\n",
    "#cb = plt.colorbar(sm)\n",
    "#cb.ax.set_ylabel('Number of points', fontsize=20)\n",
    "#cb.ax.yaxis.set_tick_params(labelsize=14)\n",
    "\n",
    "ax.spines['left'].set_linewidth(2)\n",
    "ax.yaxis.set_tick_params(labelsize=14)"
   ]
  },
  {
   "cell_type": "code",
   "execution_count": 87,
   "metadata": {
    "ExecuteTime": {
     "end_time": "2020-03-17T03:48:30.595276Z",
     "start_time": "2020-03-17T03:48:30.591044Z"
    }
   },
   "outputs": [],
   "source": [
    "cb.ax.yaxis.set_tick_params(labelsize=14)"
   ]
  },
  {
   "cell_type": "code",
   "execution_count": 33,
   "metadata": {
    "ExecuteTime": {
     "end_time": "2020-03-17T03:25:34.673923Z",
     "start_time": "2020-03-17T03:25:34.568581Z"
    }
   },
   "outputs": [
    {
     "data": {
      "text/plain": [
       "<matplotlib.axes._subplots.AxesSubplot at 0x7feb2e408438>"
      ]
     },
     "execution_count": 33,
     "metadata": {},
     "output_type": "execute_result"
    },
    {
     "data": {
      "image/png": "[encoded data removed]",
      "text/plain": [
       "<Figure size 432x288 with 2 Axes>"
      ]
     },
     "metadata": {
      "needs_background": "light"
     },
     "output_type": "display_data"
    }
   ],
   "source": [
    "clusterer.minimum_spanning_tree_.plot(edge_cmap='viridis',\n",
    "                                      edge_alpha=0.6,\n",
    "                                      node_size=80,\n",
    "                                      edge_linewidth=2)"
   ]
  },
  {
   "cell_type": "code",
   "execution_count": 34,
   "metadata": {
    "ExecuteTime": {
     "end_time": "2020-03-16T20:47:55.150807Z",
     "start_time": "2020-03-16T20:47:54.979557Z"
    }
   },
   "outputs": [
    {
     "data": {
      "text/plain": [
       "<matplotlib.axes._subplots.AxesSubplot at 0x7f121caa5908>"
      ]
     },
     "execution_count": 34,
     "metadata": {},
     "output_type": "execute_result"
    },
    {
     "data": {
      "image/png": "[encoded data removed]",
      "text/plain": [
       "<Figure size 432x288 with 2 Axes>"
      ]
     },
     "metadata": {
      "needs_background": "light"
     },
     "output_type": "display_data"
    }
   ],
   "source": [
    "clusterer.condensed_tree_.plot(select_clusters=True, selection_palette=sns.color_palette())"
   ]
  },
  {
   "cell_type": "code",
   "execution_count": null,
   "metadata": {},
   "outputs": [],
   "source": []
  }
 ],
 "metadata": {
  "kernelspec": {
   "display_name": "Python 3",
   "language": "python",
   "name": "python3"
  },
  "language_info": {
   "codemirror_mode": {
    "name": "ipython",
    "version": 3
   },
   "file_extension": ".py",
   "mimetype": "text/x-python",
   "name": "python",
   "nbconvert_exporter": "python",
   "pygments_lexer": "ipython3",
   "version": "3.6.7"
  }
 },
 "nbformat": 4,
 "nbformat_minor": 2
}
