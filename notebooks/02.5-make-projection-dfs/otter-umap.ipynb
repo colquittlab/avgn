{
 "cells": [
  {
   "cell_type": "code",
   "execution_count": 1,
   "metadata": {
    "ExecuteTime": {
     "end_time": "2019-11-11T03:05:05.885976Z",
     "start_time": "2019-11-11T03:05:05.834714Z"
    }
   },
   "outputs": [
    {
     "name": "stdout",
     "output_type": "stream",
     "text": [
      "env: CUDA_DEVICE_ORDER=PCI_BUS_ID\n",
      "env: CUDA_VISIBLE_DEVICES=2\n"
     ]
    }
   ],
   "source": [
    "%load_ext autoreload\n",
    "%autoreload 2\n",
    "%env CUDA_DEVICE_ORDER=PCI_BUS_ID\n",
    "%env CUDA_VISIBLE_DEVICES=2"
   ]
  },
  {
   "cell_type": "code",
   "execution_count": 2,
   "metadata": {
    "ExecuteTime": {
     "end_time": "2019-11-11T03:05:13.059802Z",
     "start_time": "2019-11-11T03:05:06.167834Z"
    }
   },
   "outputs": [
    {
     "name": "stderr",
     "output_type": "stream",
     "text": [
      "/mnt/cube/tsainbur/conda_envs/tpy3/lib/python3.6/site-packages/tqdm/autonotebook/__init__.py:14: TqdmExperimentalWarning: Using `tqdm.autonotebook.tqdm` in notebook mode. Use `tqdm.tqdm` instead to force console mode (e.g. in jupyter console)\n",
      "  \" (e.g. in jupyter console)\", TqdmExperimentalWarning)\n"
     ]
    }
   ],
   "source": [
    "import numpy as np\n",
    "import matplotlib.pyplot as plt\n",
    "from tqdm.autonotebook import tqdm\n",
    "import pandas as pd\n",
    "from cuml.manifold.umap import UMAP as cumlUMAP\n",
    "from avgn.utils.paths import DATA_DIR, most_recent_subdirectory, ensure_dir\n",
    "from avgn.signalprocessing.create_spectrogram_dataset import flatten_spectrograms"
   ]
  },
  {
   "cell_type": "markdown",
   "metadata": {},
   "source": [
    "### load data"
   ]
  },
  {
   "cell_type": "code",
   "execution_count": 3,
   "metadata": {
    "ExecuteTime": {
     "end_time": "2019-11-11T03:05:13.098870Z",
     "start_time": "2019-11-11T03:05:13.062770Z"
    }
   },
   "outputs": [],
   "source": [
    "DATASET_ID = 'giant_otter'\n",
    "df_loc =  DATA_DIR / 'syllable_dfs' / DATASET_ID / 'otter.pickle'"
   ]
  },
  {
   "cell_type": "code",
   "execution_count": 4,
   "metadata": {
    "ExecuteTime": {
     "end_time": "2019-11-11T03:05:15.899769Z",
     "start_time": "2019-11-11T03:05:13.100655Z"
    }
   },
   "outputs": [],
   "source": [
    "syllable_df = pd.read_pickle(df_loc)\n",
    "del syllable_df['audio']"
   ]
  },
  {
   "cell_type": "code",
   "execution_count": 5,
   "metadata": {
    "ExecuteTime": {
     "end_time": "2019-11-11T03:05:16.061860Z",
     "start_time": "2019-11-11T03:05:15.905205Z"
    }
   },
   "outputs": [
    {
     "data": {
      "text/html": [
       "<div>\n",
       "<style scoped>\n",
       "    .dataframe tbody tr th:only-of-type {\n",
       "        vertical-align: middle;\n",
       "    }\n",
       "\n",
       "    .dataframe tbody tr th {\n",
       "        vertical-align: top;\n",
       "    }\n",
       "\n",
       "    .dataframe thead th {\n",
       "        text-align: right;\n",
       "    }\n",
       "</style>\n",
       "<table border=\"1\" class=\"dataframe\">\n",
       "  <thead>\n",
       "    <tr style=\"text-align: right;\">\n",
       "      <th></th>\n",
       "      <th>start_time</th>\n",
       "      <th>end_time</th>\n",
       "      <th>labels</th>\n",
       "      <th>indv</th>\n",
       "      <th>indvi</th>\n",
       "      <th>key</th>\n",
       "      <th>rate</th>\n",
       "      <th>spectrogram</th>\n",
       "    </tr>\n",
       "  </thead>\n",
       "  <tbody>\n",
       "    <tr>\n",
       "      <th>0</th>\n",
       "      <td>0.0</td>\n",
       "      <td>1.213917</td>\n",
       "      <td>isolation call</td>\n",
       "      <td>UNK</td>\n",
       "      <td>0</td>\n",
       "      <td>Audio_S287_isolation_call</td>\n",
       "      <td>96000</td>\n",
       "      <td>[[0.0, 0.0, 0.0, 0.0028829596, -0.009689297, 0...</td>\n",
       "    </tr>\n",
       "    <tr>\n",
       "      <th>0</th>\n",
       "      <td>0.0</td>\n",
       "      <td>0.737667</td>\n",
       "      <td>close call</td>\n",
       "      <td>UNK</td>\n",
       "      <td>0</td>\n",
       "      <td>Audio_S105_close_call</td>\n",
       "      <td>96000</td>\n",
       "      <td>[[0.0, 0.0, 0.0, 0.0, 0.0, 2.2376324e-05, -0.0...</td>\n",
       "    </tr>\n",
       "    <tr>\n",
       "      <th>0</th>\n",
       "      <td>0.0</td>\n",
       "      <td>1.098792</td>\n",
       "      <td>suckling call</td>\n",
       "      <td>UNK</td>\n",
       "      <td>0</td>\n",
       "      <td>Audio_S450_suckling_call</td>\n",
       "      <td>96000</td>\n",
       "      <td>[[0.0, 0.0, 0.0, 0.0, 0.00026210205, 0.0034825...</td>\n",
       "    </tr>\n",
       "  </tbody>\n",
       "</table>\n",
       "</div>"
      ],
      "text/plain": [
       "   start_time  end_time          labels indv  indvi  \\\n",
       "0         0.0  1.213917  isolation call  UNK      0   \n",
       "0         0.0  0.737667      close call  UNK      0   \n",
       "0         0.0  1.098792   suckling call  UNK      0   \n",
       "\n",
       "                         key   rate  \\\n",
       "0  Audio_S287_isolation_call  96000   \n",
       "0      Audio_S105_close_call  96000   \n",
       "0   Audio_S450_suckling_call  96000   \n",
       "\n",
       "                                         spectrogram  \n",
       "0  [[0.0, 0.0, 0.0, 0.0028829596, -0.009689297, 0...  \n",
       "0  [[0.0, 0.0, 0.0, 0.0, 0.0, 2.2376324e-05, -0.0...  \n",
       "0  [[0.0, 0.0, 0.0, 0.0, 0.00026210205, 0.0034825...  "
      ]
     },
     "execution_count": 5,
     "metadata": {},
     "output_type": "execute_result"
    }
   ],
   "source": [
    "syllable_df[:3]"
   ]
  },
  {
   "cell_type": "code",
   "execution_count": 6,
   "metadata": {
    "ExecuteTime": {
     "end_time": "2019-11-11T03:05:16.161589Z",
     "start_time": "2019-11-11T03:05:16.064207Z"
    }
   },
   "outputs": [
    {
     "data": {
      "text/plain": [
       "(32, 31)"
      ]
     },
     "execution_count": 6,
     "metadata": {},
     "output_type": "execute_result"
    }
   ],
   "source": [
    "np.shape(syllable_df.spectrogram.values[0])"
   ]
  },
  {
   "cell_type": "markdown",
   "metadata": {},
   "source": [
    "### project"
   ]
  },
  {
   "cell_type": "code",
   "execution_count": 7,
   "metadata": {
    "ExecuteTime": {
     "end_time": "2019-11-11T03:05:16.311946Z",
     "start_time": "2019-11-11T03:05:16.163386Z"
    }
   },
   "outputs": [
    {
     "data": {
      "application/vnd.jupyter.widget-view+json": {
       "model_id": "85b2d58f37a2437ba8de28a6b7337c18",
       "version_major": 2,
       "version_minor": 0
      },
      "text/plain": [
       "HBox(children=(IntProgress(value=0, max=453), HTML(value='')))"
      ]
     },
     "metadata": {},
     "output_type": "display_data"
    },
    {
     "name": "stdout",
     "output_type": "stream",
     "text": [
      "\n"
     ]
    },
    {
     "data": {
      "text/plain": [
       "(453, 992)"
      ]
     },
     "execution_count": 7,
     "metadata": {},
     "output_type": "execute_result"
    }
   ],
   "source": [
    "specs = list(syllable_df.spectrogram.values)\n",
    "specs = [i/np.max(i) for i in tqdm(specs)]\n",
    "specs_flattened = flatten_spectrograms(specs)\n",
    "np.shape(specs_flattened)"
   ]
  },
  {
   "cell_type": "code",
   "execution_count": 8,
   "metadata": {
    "ExecuteTime": {
     "end_time": "2019-11-11T03:05:22.432199Z",
     "start_time": "2019-11-11T03:05:16.315582Z"
    }
   },
   "outputs": [
    {
     "name": "stderr",
     "output_type": "stream",
     "text": [
      "/mnt/cube/tsainbur/conda_envs/tpy3/lib/python3.6/site-packages/ipykernel_launcher.py:1: UserWarning: Parameter should_downcast is deprecated, use convert_dtype in fit, fit_transform and transform  methods instead. \n",
      "  \"\"\"Entry point for launching an IPython kernel.\n",
      "/mnt/cube/tsainbur/conda_envs/tpy3/lib/python3.6/site-packages/ipykernel_launcher.py:2: UserWarning: Parameter should_downcast is deprecated, use convert_dtype in fit, fit_transform and transform  methods instead. \n",
      "  \n"
     ]
    }
   ],
   "source": [
    "cuml_umap = cumlUMAP()\n",
    "embedding = cuml_umap.fit_transform(specs_flattened)"
   ]
  },
  {
   "cell_type": "code",
   "execution_count": 9,
   "metadata": {
    "ExecuteTime": {
     "end_time": "2019-11-11T03:05:22.480652Z",
     "start_time": "2019-11-11T03:05:22.434900Z"
    }
   },
   "outputs": [],
   "source": [
    "syllable_df['umap'] = list(embedding)"
   ]
  },
  {
   "cell_type": "code",
   "execution_count": 10,
   "metadata": {
    "ExecuteTime": {
     "end_time": "2019-11-11T03:05:22.672453Z",
     "start_time": "2019-11-11T03:05:22.482703Z"
    }
   },
   "outputs": [
    {
     "data": {
      "text/html": [
       "<div>\n",
       "<style scoped>\n",
       "    .dataframe tbody tr th:only-of-type {\n",
       "        vertical-align: middle;\n",
       "    }\n",
       "\n",
       "    .dataframe tbody tr th {\n",
       "        vertical-align: top;\n",
       "    }\n",
       "\n",
       "    .dataframe thead th {\n",
       "        text-align: right;\n",
       "    }\n",
       "</style>\n",
       "<table border=\"1\" class=\"dataframe\">\n",
       "  <thead>\n",
       "    <tr style=\"text-align: right;\">\n",
       "      <th></th>\n",
       "      <th>start_time</th>\n",
       "      <th>end_time</th>\n",
       "      <th>labels</th>\n",
       "      <th>indv</th>\n",
       "      <th>indvi</th>\n",
       "      <th>key</th>\n",
       "      <th>rate</th>\n",
       "      <th>spectrogram</th>\n",
       "      <th>umap</th>\n",
       "    </tr>\n",
       "  </thead>\n",
       "  <tbody>\n",
       "    <tr>\n",
       "      <th>0</th>\n",
       "      <td>0.0</td>\n",
       "      <td>1.213917</td>\n",
       "      <td>isolation call</td>\n",
       "      <td>UNK</td>\n",
       "      <td>0</td>\n",
       "      <td>Audio_S287_isolation_call</td>\n",
       "      <td>96000</td>\n",
       "      <td>[[0.0, 0.0, 0.0, 0.0028829596, -0.009689297, 0...</td>\n",
       "      <td>[-0.22454500198364258, 2.0831315517425537]</td>\n",
       "    </tr>\n",
       "    <tr>\n",
       "      <th>0</th>\n",
       "      <td>0.0</td>\n",
       "      <td>0.737667</td>\n",
       "      <td>close call</td>\n",
       "      <td>UNK</td>\n",
       "      <td>0</td>\n",
       "      <td>Audio_S105_close_call</td>\n",
       "      <td>96000</td>\n",
       "      <td>[[0.0, 0.0, 0.0, 0.0, 0.0, 2.2376324e-05, -0.0...</td>\n",
       "      <td>[1.342240571975708, 2.0259692668914795]</td>\n",
       "    </tr>\n",
       "    <tr>\n",
       "      <th>0</th>\n",
       "      <td>0.0</td>\n",
       "      <td>1.098792</td>\n",
       "      <td>suckling call</td>\n",
       "      <td>UNK</td>\n",
       "      <td>0</td>\n",
       "      <td>Audio_S450_suckling_call</td>\n",
       "      <td>96000</td>\n",
       "      <td>[[0.0, 0.0, 0.0, 0.0, 0.00026210205, 0.0034825...</td>\n",
       "      <td>[0.27581146359443665, 1.2636289596557617]</td>\n",
       "    </tr>\n",
       "  </tbody>\n",
       "</table>\n",
       "</div>"
      ],
      "text/plain": [
       "   start_time  end_time          labels indv  indvi  \\\n",
       "0         0.0  1.213917  isolation call  UNK      0   \n",
       "0         0.0  0.737667      close call  UNK      0   \n",
       "0         0.0  1.098792   suckling call  UNK      0   \n",
       "\n",
       "                         key   rate  \\\n",
       "0  Audio_S287_isolation_call  96000   \n",
       "0      Audio_S105_close_call  96000   \n",
       "0   Audio_S450_suckling_call  96000   \n",
       "\n",
       "                                         spectrogram  \\\n",
       "0  [[0.0, 0.0, 0.0, 0.0028829596, -0.009689297, 0...   \n",
       "0  [[0.0, 0.0, 0.0, 0.0, 0.0, 2.2376324e-05, -0.0...   \n",
       "0  [[0.0, 0.0, 0.0, 0.0, 0.00026210205, 0.0034825...   \n",
       "\n",
       "                                         umap  \n",
       "0  [-0.22454500198364258, 2.0831315517425537]  \n",
       "0     [1.342240571975708, 2.0259692668914795]  \n",
       "0   [0.27581146359443665, 1.2636289596557617]  "
      ]
     },
     "execution_count": 10,
     "metadata": {},
     "output_type": "execute_result"
    }
   ],
   "source": [
    "syllable_df[:3]"
   ]
  },
  {
   "cell_type": "code",
   "execution_count": 12,
   "metadata": {
    "ExecuteTime": {
     "end_time": "2019-11-11T03:05:30.484819Z",
     "start_time": "2019-11-11T03:05:30.099393Z"
    }
   },
   "outputs": [
    {
     "data": {
      "text/plain": [
       "(-8, 8)"
      ]
     },
     "execution_count": 12,
     "metadata": {},
     "output_type": "execute_result"
    },
    {
     "data": {
      "image/png": "[encoded data removed]",
      "text/plain": [
       "<Figure size 432x288 with 1 Axes>"
      ]
     },
     "metadata": {
      "needs_background": "light"
     },
     "output_type": "display_data"
    }
   ],
   "source": [
    "fig, ax = plt.subplots()\n",
    "ax.scatter(embedding[:,0], embedding[:,1], s=1, color='k', alpha = 1)\n",
    "ax.set_xlim([-8,8])\n",
    "ax.set_ylim([-8,8])"
   ]
  },
  {
   "cell_type": "markdown",
   "metadata": {},
   "source": [
    "### Save"
   ]
  },
  {
   "cell_type": "code",
   "execution_count": 13,
   "metadata": {
    "ExecuteTime": {
     "end_time": "2019-11-11T03:05:37.663083Z",
     "start_time": "2019-11-11T03:05:37.586995Z"
    }
   },
   "outputs": [],
   "source": [
    "ensure_dir(DATA_DIR / 'embeddings' / DATASET_ID / 'full')"
   ]
  },
  {
   "cell_type": "code",
   "execution_count": 14,
   "metadata": {
    "ExecuteTime": {
     "end_time": "2019-11-11T03:05:37.964467Z",
     "start_time": "2019-11-11T03:05:37.775954Z"
    }
   },
   "outputs": [],
   "source": [
    "syllable_df.to_pickle(DATA_DIR / 'embeddings' / DATASET_ID / 'full.pickle')"
   ]
  },
  {
   "cell_type": "code",
   "execution_count": null,
   "metadata": {},
   "outputs": [],
   "source": []
  }
 ],
 "metadata": {
  "kernelspec": {
   "display_name": "Python 3",
   "language": "python",
   "name": "python3"
  },
  "language_info": {
   "codemirror_mode": {
    "name": "ipython",
    "version": 3
   },
   "file_extension": ".py",
   "mimetype": "text/x-python",
   "name": "python",
   "nbconvert_exporter": "python",
   "pygments_lexer": "ipython3",
   "version": "3.6.7"
  }
 },
 "nbformat": 4,
 "nbformat_minor": 2
}
