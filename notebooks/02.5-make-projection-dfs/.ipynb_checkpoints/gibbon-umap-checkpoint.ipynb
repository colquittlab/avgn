{
 "cells": [
  {
   "cell_type": "code",
   "execution_count": 1,
   "metadata": {
    "ExecuteTime": {
     "end_time": "2019-11-11T03:07:58.963228Z",
     "start_time": "2019-11-11T03:07:58.917318Z"
    }
   },
   "outputs": [
    {
     "name": "stdout",
     "output_type": "stream",
     "text": [
      "env: CUDA_DEVICE_ORDER=PCI_BUS_ID\n",
      "env: CUDA_VISIBLE_DEVICES=2\n"
     ]
    }
   ],
   "source": [
    "%load_ext autoreload\n",
    "%autoreload 2\n",
    "%env CUDA_DEVICE_ORDER=PCI_BUS_ID\n",
    "%env CUDA_VISIBLE_DEVICES=2"
   ]
  },
  {
   "cell_type": "code",
   "execution_count": 2,
   "metadata": {
    "ExecuteTime": {
     "end_time": "2019-11-11T03:08:05.136122Z",
     "start_time": "2019-11-11T03:07:59.200928Z"
    }
   },
   "outputs": [
    {
     "name": "stderr",
     "output_type": "stream",
     "text": [
      "/mnt/cube/tsainbur/conda_envs/tpy3/lib/python3.6/site-packages/tqdm/autonotebook/__init__.py:14: TqdmExperimentalWarning: Using `tqdm.autonotebook.tqdm` in notebook mode. Use `tqdm.tqdm` instead to force console mode (e.g. in jupyter console)\n",
      "  \" (e.g. in jupyter console)\", TqdmExperimentalWarning)\n"
     ]
    }
   ],
   "source": [
    "import numpy as np\n",
    "import matplotlib.pyplot as plt\n",
    "from tqdm.autonotebook import tqdm\n",
    "import pandas as pd\n",
    "from cuml.manifold.umap import UMAP as cumlUMAP\n",
    "from avgn.utils.paths import DATA_DIR, most_recent_subdirectory, ensure_dir\n",
    "from avgn.signalprocessing.create_spectrogram_dataset import flatten_spectrograms"
   ]
  },
  {
   "cell_type": "markdown",
   "metadata": {},
   "source": [
    "### load data"
   ]
  },
  {
   "cell_type": "code",
   "execution_count": 3,
   "metadata": {
    "ExecuteTime": {
     "end_time": "2019-11-11T03:08:05.176491Z",
     "start_time": "2019-11-11T03:08:05.139366Z"
    }
   },
   "outputs": [],
   "source": [
    "DATASET_ID = 'gibbon_morita_segmented'\n",
    "df_loc =  DATA_DIR / 'syllable_dfs' / DATASET_ID / 'gibbon_lower.pickle'"
   ]
  },
  {
   "cell_type": "code",
   "execution_count": 4,
   "metadata": {
    "ExecuteTime": {
     "end_time": "2019-11-11T03:08:23.827838Z",
     "start_time": "2019-11-11T03:08:05.178422Z"
    }
   },
   "outputs": [],
   "source": [
    "syllable_df = pd.read_pickle(df_loc)\n",
    "del syllable_df['audio']"
   ]
  },
  {
   "cell_type": "code",
   "execution_count": 5,
   "metadata": {
    "ExecuteTime": {
     "end_time": "2019-11-11T03:08:24.007671Z",
     "start_time": "2019-11-11T03:08:23.832323Z"
    }
   },
   "outputs": [
    {
     "data": {
      "text/html": [
       "<div>\n",
       "<style scoped>\n",
       "    .dataframe tbody tr th:only-of-type {\n",
       "        vertical-align: middle;\n",
       "    }\n",
       "\n",
       "    .dataframe tbody tr th {\n",
       "        vertical-align: top;\n",
       "    }\n",
       "\n",
       "    .dataframe thead th {\n",
       "        text-align: right;\n",
       "    }\n",
       "</style>\n",
       "<table border=\"1\" class=\"dataframe\">\n",
       "  <thead>\n",
       "    <tr style=\"text-align: right;\">\n",
       "      <th></th>\n",
       "      <th>start_time</th>\n",
       "      <th>end_time</th>\n",
       "      <th>indv</th>\n",
       "      <th>indvi</th>\n",
       "      <th>key</th>\n",
       "      <th>rate</th>\n",
       "      <th>spectrogram</th>\n",
       "    </tr>\n",
       "  </thead>\n",
       "  <tbody>\n",
       "    <tr>\n",
       "      <th>0</th>\n",
       "      <td>349.04</td>\n",
       "      <td>350.98</td>\n",
       "      <td>UNK</td>\n",
       "      <td>0</td>\n",
       "      <td>20170912-070002_01_ch</td>\n",
       "      <td>16000</td>\n",
       "      <td>[[5, 5, 5, 17, 11, 10, 14, 14, 8, 10, 10, 13, ...</td>\n",
       "    </tr>\n",
       "    <tr>\n",
       "      <th>1</th>\n",
       "      <td>390.04</td>\n",
       "      <td>391.94</td>\n",
       "      <td>UNK</td>\n",
       "      <td>0</td>\n",
       "      <td>20170912-070002_01_ch</td>\n",
       "      <td>16000</td>\n",
       "      <td>[[3, 3, 3, 4, 8, 4, 4, 6, 5, 5, 6, 3, 4, 7, 5,...</td>\n",
       "    </tr>\n",
       "    <tr>\n",
       "      <th>2</th>\n",
       "      <td>422.44</td>\n",
       "      <td>425.08</td>\n",
       "      <td>UNK</td>\n",
       "      <td>0</td>\n",
       "      <td>20170912-070002_01_ch</td>\n",
       "      <td>16000</td>\n",
       "      <td>[[4, 4, 4, 4, 4, 4, 4, 4, 4, 4, 4, 4, 4, 4, 4,...</td>\n",
       "    </tr>\n",
       "  </tbody>\n",
       "</table>\n",
       "</div>"
      ],
      "text/plain": [
       "   start_time  end_time indv  indvi                    key   rate  \\\n",
       "0      349.04    350.98  UNK      0  20170912-070002_01_ch  16000   \n",
       "1      390.04    391.94  UNK      0  20170912-070002_01_ch  16000   \n",
       "2      422.44    425.08  UNK      0  20170912-070002_01_ch  16000   \n",
       "\n",
       "                                         spectrogram  \n",
       "0  [[5, 5, 5, 17, 11, 10, 14, 14, 8, 10, 10, 13, ...  \n",
       "1  [[3, 3, 3, 4, 8, 4, 4, 6, 5, 5, 6, 3, 4, 7, 5,...  \n",
       "2  [[4, 4, 4, 4, 4, 4, 4, 4, 4, 4, 4, 4, 4, 4, 4,...  "
      ]
     },
     "execution_count": 5,
     "metadata": {},
     "output_type": "execute_result"
    }
   ],
   "source": [
    "syllable_df[:3]"
   ]
  },
  {
   "cell_type": "code",
   "execution_count": 6,
   "metadata": {
    "ExecuteTime": {
     "end_time": "2019-11-11T03:08:24.144478Z",
     "start_time": "2019-11-11T03:08:24.010390Z"
    }
   },
   "outputs": [
    {
     "data": {
      "text/plain": [
       "(32, 34)"
      ]
     },
     "execution_count": 6,
     "metadata": {},
     "output_type": "execute_result"
    }
   ],
   "source": [
    "np.shape(syllable_df.spectrogram.values[0])"
   ]
  },
  {
   "cell_type": "markdown",
   "metadata": {},
   "source": [
    "### project"
   ]
  },
  {
   "cell_type": "code",
   "execution_count": 7,
   "metadata": {
    "ExecuteTime": {
     "end_time": "2019-11-11T03:08:25.010788Z",
     "start_time": "2019-11-11T03:08:24.146387Z"
    }
   },
   "outputs": [
    {
     "data": {
      "application/vnd.jupyter.widget-view+json": {
       "model_id": "2ec9bac883f04f878f268c7535298ab1",
       "version_major": 2,
       "version_minor": 0
      },
      "text/plain": [
       "HBox(children=(IntProgress(value=0, max=9220), HTML(value='')))"
      ]
     },
     "metadata": {},
     "output_type": "display_data"
    },
    {
     "name": "stdout",
     "output_type": "stream",
     "text": [
      "\n"
     ]
    },
    {
     "data": {
      "text/plain": [
       "(9220, 1088)"
      ]
     },
     "execution_count": 7,
     "metadata": {},
     "output_type": "execute_result"
    }
   ],
   "source": [
    "specs = list(syllable_df.spectrogram.values)\n",
    "specs = [i/np.max(i) for i in tqdm(specs)]\n",
    "specs_flattened = flatten_spectrograms(specs)\n",
    "np.shape(specs_flattened)"
   ]
  },
  {
   "cell_type": "code",
   "execution_count": 8,
   "metadata": {
    "ExecuteTime": {
     "end_time": "2019-11-11T03:08:31.336157Z",
     "start_time": "2019-11-11T03:08:25.012765Z"
    }
   },
   "outputs": [
    {
     "name": "stderr",
     "output_type": "stream",
     "text": [
      "/mnt/cube/tsainbur/conda_envs/tpy3/lib/python3.6/site-packages/ipykernel_launcher.py:1: UserWarning: Parameter should_downcast is deprecated, use convert_dtype in fit, fit_transform and transform  methods instead. \n",
      "  \"\"\"Entry point for launching an IPython kernel.\n",
      "/mnt/cube/tsainbur/conda_envs/tpy3/lib/python3.6/site-packages/ipykernel_launcher.py:2: UserWarning: Parameter should_downcast is deprecated, use convert_dtype in fit, fit_transform and transform  methods instead. \n",
      "  \n"
     ]
    }
   ],
   "source": [
    "cuml_umap = cumlUMAP()\n",
    "embedding = cuml_umap.fit_transform(specs_flattened)"
   ]
  },
  {
   "cell_type": "code",
   "execution_count": 9,
   "metadata": {
    "ExecuteTime": {
     "end_time": "2019-11-11T03:08:31.415597Z",
     "start_time": "2019-11-11T03:08:31.341049Z"
    }
   },
   "outputs": [],
   "source": [
    "syllable_df['umap'] = list(embedding)"
   ]
  },
  {
   "cell_type": "code",
   "execution_count": 10,
   "metadata": {
    "ExecuteTime": {
     "end_time": "2019-11-11T03:08:31.708926Z",
     "start_time": "2019-11-11T03:08:31.419563Z"
    }
   },
   "outputs": [
    {
     "data": {
      "text/html": [
       "<div>\n",
       "<style scoped>\n",
       "    .dataframe tbody tr th:only-of-type {\n",
       "        vertical-align: middle;\n",
       "    }\n",
       "\n",
       "    .dataframe tbody tr th {\n",
       "        vertical-align: top;\n",
       "    }\n",
       "\n",
       "    .dataframe thead th {\n",
       "        text-align: right;\n",
       "    }\n",
       "</style>\n",
       "<table border=\"1\" class=\"dataframe\">\n",
       "  <thead>\n",
       "    <tr style=\"text-align: right;\">\n",
       "      <th></th>\n",
       "      <th>start_time</th>\n",
       "      <th>end_time</th>\n",
       "      <th>indv</th>\n",
       "      <th>indvi</th>\n",
       "      <th>key</th>\n",
       "      <th>rate</th>\n",
       "      <th>spectrogram</th>\n",
       "      <th>umap</th>\n",
       "    </tr>\n",
       "  </thead>\n",
       "  <tbody>\n",
       "    <tr>\n",
       "      <th>0</th>\n",
       "      <td>349.04</td>\n",
       "      <td>350.98</td>\n",
       "      <td>UNK</td>\n",
       "      <td>0</td>\n",
       "      <td>20170912-070002_01_ch</td>\n",
       "      <td>16000</td>\n",
       "      <td>[[5, 5, 5, 17, 11, 10, 14, 14, 8, 10, 10, 13, ...</td>\n",
       "      <td>[-1.8018972873687744, 1.0580998659133911]</td>\n",
       "    </tr>\n",
       "    <tr>\n",
       "      <th>1</th>\n",
       "      <td>390.04</td>\n",
       "      <td>391.94</td>\n",
       "      <td>UNK</td>\n",
       "      <td>0</td>\n",
       "      <td>20170912-070002_01_ch</td>\n",
       "      <td>16000</td>\n",
       "      <td>[[3, 3, 3, 4, 8, 4, 4, 6, 5, 5, 6, 3, 4, 7, 5,...</td>\n",
       "      <td>[-1.610033631324768, 1.1491953134536743]</td>\n",
       "    </tr>\n",
       "    <tr>\n",
       "      <th>2</th>\n",
       "      <td>422.44</td>\n",
       "      <td>425.08</td>\n",
       "      <td>UNK</td>\n",
       "      <td>0</td>\n",
       "      <td>20170912-070002_01_ch</td>\n",
       "      <td>16000</td>\n",
       "      <td>[[4, 4, 4, 4, 4, 4, 4, 4, 4, 4, 4, 4, 4, 4, 4,...</td>\n",
       "      <td>[-0.7707808017730713, 0.859735906124115]</td>\n",
       "    </tr>\n",
       "  </tbody>\n",
       "</table>\n",
       "</div>"
      ],
      "text/plain": [
       "   start_time  end_time indv  indvi                    key   rate  \\\n",
       "0      349.04    350.98  UNK      0  20170912-070002_01_ch  16000   \n",
       "1      390.04    391.94  UNK      0  20170912-070002_01_ch  16000   \n",
       "2      422.44    425.08  UNK      0  20170912-070002_01_ch  16000   \n",
       "\n",
       "                                         spectrogram  \\\n",
       "0  [[5, 5, 5, 17, 11, 10, 14, 14, 8, 10, 10, 13, ...   \n",
       "1  [[3, 3, 3, 4, 8, 4, 4, 6, 5, 5, 6, 3, 4, 7, 5,...   \n",
       "2  [[4, 4, 4, 4, 4, 4, 4, 4, 4, 4, 4, 4, 4, 4, 4,...   \n",
       "\n",
       "                                        umap  \n",
       "0  [-1.8018972873687744, 1.0580998659133911]  \n",
       "1   [-1.610033631324768, 1.1491953134536743]  \n",
       "2   [-0.7707808017730713, 0.859735906124115]  "
      ]
     },
     "execution_count": 10,
     "metadata": {},
     "output_type": "execute_result"
    }
   ],
   "source": [
    "syllable_df[:3]"
   ]
  },
  {
   "cell_type": "code",
   "execution_count": 11,
   "metadata": {
    "ExecuteTime": {
     "end_time": "2019-11-11T03:08:32.250549Z",
     "start_time": "2019-11-11T03:08:31.712800Z"
    }
   },
   "outputs": [
    {
     "data": {
      "text/plain": [
       "(-8, 8)"
      ]
     },
     "execution_count": 11,
     "metadata": {},
     "output_type": "execute_result"
    },
    {
     "data": {
      "image/png": "[encoded data removed]",
      "text/plain": [
       "<Figure size 432x288 with 1 Axes>"
      ]
     },
     "metadata": {
      "needs_background": "light"
     },
     "output_type": "display_data"
    }
   ],
   "source": [
    "fig, ax = plt.subplots()\n",
    "ax.scatter(embedding[:,0], embedding[:,1], s=1, color='k', alpha = 1)\n",
    "ax.set_xlim([-8,8])\n",
    "ax.set_ylim([-8,8])"
   ]
  },
  {
   "cell_type": "markdown",
   "metadata": {},
   "source": [
    "### Save"
   ]
  },
  {
   "cell_type": "code",
   "execution_count": 12,
   "metadata": {
    "ExecuteTime": {
     "end_time": "2019-11-11T03:08:32.330407Z",
     "start_time": "2019-11-11T03:08:32.255183Z"
    }
   },
   "outputs": [],
   "source": [
    "ensure_dir(DATA_DIR / 'embeddings' / DATASET_ID / 'full')"
   ]
  },
  {
   "cell_type": "code",
   "execution_count": 13,
   "metadata": {
    "ExecuteTime": {
     "end_time": "2019-11-11T03:08:32.783539Z",
     "start_time": "2019-11-11T03:08:32.334791Z"
    }
   },
   "outputs": [],
   "source": [
    "syllable_df.to_pickle(DATA_DIR / 'embeddings' / DATASET_ID / 'full.pickle')"
   ]
  },
  {
   "cell_type": "code",
   "execution_count": null,
   "metadata": {},
   "outputs": [],
   "source": []
  }
 ],
 "metadata": {
  "kernelspec": {
   "display_name": "Python 3",
   "language": "python",
   "name": "python3"
  },
  "language_info": {
   "codemirror_mode": {
    "name": "ipython",
    "version": 3
   },
   "file_extension": ".py",
   "mimetype": "text/x-python",
   "name": "python",
   "nbconvert_exporter": "python",
   "pygments_lexer": "ipython3",
   "version": "3.6.7"
  }
 },
 "nbformat": 4,
 "nbformat_minor": 2
}
