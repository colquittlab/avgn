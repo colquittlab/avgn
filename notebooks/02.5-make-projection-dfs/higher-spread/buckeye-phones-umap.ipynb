{
 "cells": [
  {
   "cell_type": "code",
   "execution_count": 1,
   "metadata": {
    "ExecuteTime": {
     "end_time": "2019-12-04T20:37:01.248700Z",
     "start_time": "2019-12-04T20:37:01.199512Z"
    }
   },
   "outputs": [
    {
     "name": "stdout",
     "output_type": "stream",
     "text": [
      "env: CUDA_DEVICE_ORDER=PCI_BUS_ID\n",
      "env: CUDA_VISIBLE_DEVICES=2\n"
     ]
    }
   ],
   "source": [
    "%load_ext autoreload\n",
    "%autoreload 2\n",
    "%env CUDA_DEVICE_ORDER=PCI_BUS_ID\n",
    "%env CUDA_VISIBLE_DEVICES=2"
   ]
  },
  {
   "cell_type": "code",
   "execution_count": 2,
   "metadata": {
    "ExecuteTime": {
     "end_time": "2019-12-04T20:37:04.701054Z",
     "start_time": "2019-12-04T20:37:01.342929Z"
    }
   },
   "outputs": [
    {
     "name": "stderr",
     "output_type": "stream",
     "text": [
      "/mnt/cube/tsainbur/conda_envs/tpy3/lib/python3.6/site-packages/tqdm/autonotebook/__init__.py:14: TqdmExperimentalWarning: Using `tqdm.autonotebook.tqdm` in notebook mode. Use `tqdm.tqdm` instead to force console mode (e.g. in jupyter console)\n",
      "  \" (e.g. in jupyter console)\", TqdmExperimentalWarning)\n"
     ]
    }
   ],
   "source": [
    "import numpy as np\n",
    "import matplotlib.pyplot as plt\n",
    "from tqdm.autonotebook import tqdm\n",
    "import pandas as pd\n",
    "from cuml.manifold.umap import UMAP as cumlUMAP\n",
    "from avgn.utils.paths import DATA_DIR, most_recent_subdirectory, ensure_dir\n",
    "from avgn.signalprocessing.create_spectrogram_dataset import flatten_spectrograms"
   ]
  },
  {
   "cell_type": "markdown",
   "metadata": {},
   "source": [
    "### load data"
   ]
  },
  {
   "cell_type": "code",
   "execution_count": 3,
   "metadata": {
    "ExecuteTime": {
     "end_time": "2019-12-04T20:37:04.742845Z",
     "start_time": "2019-12-04T20:37:04.704994Z"
    }
   },
   "outputs": [],
   "source": [
    "DATASET_ID = 'buckeye'\n",
    "df_loc =  DATA_DIR / 'syllable_dfs' / DATASET_ID / 'phones.pickle'"
   ]
  },
  {
   "cell_type": "code",
   "execution_count": 4,
   "metadata": {
    "ExecuteTime": {
     "end_time": "2019-12-04T20:38:28.138321Z",
     "start_time": "2019-12-04T20:37:04.744793Z"
    }
   },
   "outputs": [],
   "source": [
    "syllable_df = pd.read_pickle(df_loc)\n",
    "del syllable_df['audio']"
   ]
  },
  {
   "cell_type": "code",
   "execution_count": 5,
   "metadata": {
    "ExecuteTime": {
     "end_time": "2019-12-04T20:38:28.697240Z",
     "start_time": "2019-12-04T20:38:28.173684Z"
    }
   },
   "outputs": [
    {
     "data": {
      "text/html": [
       "<div>\n",
       "<style scoped>\n",
       "    .dataframe tbody tr th:only-of-type {\n",
       "        vertical-align: middle;\n",
       "    }\n",
       "\n",
       "    .dataframe tbody tr th {\n",
       "        vertical-align: top;\n",
       "    }\n",
       "\n",
       "    .dataframe thead th {\n",
       "        text-align: right;\n",
       "    }\n",
       "</style>\n",
       "<table border=\"1\" class=\"dataframe\">\n",
       "  <thead>\n",
       "    <tr style=\"text-align: right;\">\n",
       "      <th></th>\n",
       "      <th>start_time</th>\n",
       "      <th>end_time</th>\n",
       "      <th>labels</th>\n",
       "      <th>word</th>\n",
       "      <th>utterance_number</th>\n",
       "      <th>position_in_utterance</th>\n",
       "      <th>position_in_word</th>\n",
       "      <th>word_number</th>\n",
       "      <th>indv</th>\n",
       "      <th>indvi</th>\n",
       "      <th>age</th>\n",
       "      <th>sex</th>\n",
       "      <th>key</th>\n",
       "      <th>rate</th>\n",
       "      <th>spectrogram</th>\n",
       "    </tr>\n",
       "  </thead>\n",
       "  <tbody>\n",
       "    <tr>\n",
       "      <th>0</th>\n",
       "      <td>4.885333</td>\n",
       "      <td>4.988600</td>\n",
       "      <td>w</td>\n",
       "      <td>well</td>\n",
       "      <td>0</td>\n",
       "      <td>0</td>\n",
       "      <td>0</td>\n",
       "      <td>0</td>\n",
       "      <td>s07</td>\n",
       "      <td>0</td>\n",
       "      <td>o</td>\n",
       "      <td>f</td>\n",
       "      <td>s0702b</td>\n",
       "      <td>16000</td>\n",
       "      <td>[[2, 2, 2, 2, 0, 44, 79, 95, 86, 81, 77, 38, 3...</td>\n",
       "    </tr>\n",
       "    <tr>\n",
       "      <th>1</th>\n",
       "      <td>4.988600</td>\n",
       "      <td>5.114649</td>\n",
       "      <td>eh</td>\n",
       "      <td>well</td>\n",
       "      <td>1</td>\n",
       "      <td>0</td>\n",
       "      <td>1</td>\n",
       "      <td>0</td>\n",
       "      <td>s07</td>\n",
       "      <td>0</td>\n",
       "      <td>o</td>\n",
       "      <td>f</td>\n",
       "      <td>s0702b</td>\n",
       "      <td>16000</td>\n",
       "      <td>[[4, 4, 174, 166, 164, 162, 160, 159, 159, 161...</td>\n",
       "    </tr>\n",
       "    <tr>\n",
       "      <th>2</th>\n",
       "      <td>5.114649</td>\n",
       "      <td>5.255262</td>\n",
       "      <td>l</td>\n",
       "      <td>well</td>\n",
       "      <td>2</td>\n",
       "      <td>0</td>\n",
       "      <td>2</td>\n",
       "      <td>0</td>\n",
       "      <td>s07</td>\n",
       "      <td>0</td>\n",
       "      <td>o</td>\n",
       "      <td>f</td>\n",
       "      <td>s0702b</td>\n",
       "      <td>16000</td>\n",
       "      <td>[[5, 5, 170, 156, 156, 154, 151, 149, 147, 144...</td>\n",
       "    </tr>\n",
       "  </tbody>\n",
       "</table>\n",
       "</div>"
      ],
      "text/plain": [
       "   start_time  end_time labels  word  utterance_number  position_in_utterance  \\\n",
       "0    4.885333  4.988600      w  well                 0                      0   \n",
       "1    4.988600  5.114649     eh  well                 1                      0   \n",
       "2    5.114649  5.255262      l  well                 2                      0   \n",
       "\n",
       "   position_in_word  word_number indv  indvi age sex     key   rate  \\\n",
       "0                 0            0  s07      0   o   f  s0702b  16000   \n",
       "1                 1            0  s07      0   o   f  s0702b  16000   \n",
       "2                 2            0  s07      0   o   f  s0702b  16000   \n",
       "\n",
       "                                         spectrogram  \n",
       "0  [[2, 2, 2, 2, 0, 44, 79, 95, 86, 81, 77, 38, 3...  \n",
       "1  [[4, 4, 174, 166, 164, 162, 160, 159, 159, 161...  \n",
       "2  [[5, 5, 170, 156, 156, 154, 151, 149, 147, 144...  "
      ]
     },
     "execution_count": 5,
     "metadata": {},
     "output_type": "execute_result"
    }
   ],
   "source": [
    "syllable_df[:3]"
   ]
  },
  {
   "cell_type": "code",
   "execution_count": 6,
   "metadata": {
    "ExecuteTime": {
     "end_time": "2019-12-04T20:38:28.794853Z",
     "start_time": "2019-12-04T20:38:28.702922Z"
    }
   },
   "outputs": [
    {
     "data": {
      "text/plain": [
       "(32, 24)"
      ]
     },
     "execution_count": 6,
     "metadata": {},
     "output_type": "execute_result"
    }
   ],
   "source": [
    "np.shape(syllable_df.spectrogram.values[0])"
   ]
  },
  {
   "cell_type": "markdown",
   "metadata": {},
   "source": [
    "### project"
   ]
  },
  {
   "cell_type": "code",
   "execution_count": 7,
   "metadata": {
    "ExecuteTime": {
     "end_time": "2019-12-04T20:39:03.725611Z",
     "start_time": "2019-12-04T20:38:28.798725Z"
    }
   },
   "outputs": [
    {
     "data": {
      "application/vnd.jupyter.widget-view+json": {
       "model_id": "7246f41aa2274369a96ce17b12264ee7",
       "version_major": 2,
       "version_minor": 0
      },
      "text/plain": [
       "HBox(children=(IntProgress(value=0, max=837207), HTML(value='')))"
      ]
     },
     "metadata": {},
     "output_type": "display_data"
    },
    {
     "name": "stdout",
     "output_type": "stream",
     "text": [
      "\n"
     ]
    },
    {
     "data": {
      "text/plain": [
       "(837207, 768)"
      ]
     },
     "execution_count": 7,
     "metadata": {},
     "output_type": "execute_result"
    }
   ],
   "source": [
    "specs = list(syllable_df.spectrogram.values)\n",
    "specs = [i/np.max(i) for i in tqdm(specs)]\n",
    "specs_flattened = flatten_spectrograms(specs)\n",
    "np.shape(specs_flattened)"
   ]
  },
  {
   "cell_type": "code",
   "execution_count": 8,
   "metadata": {
    "ExecuteTime": {
     "end_time": "2019-12-04T20:42:18.135087Z",
     "start_time": "2019-12-04T20:39:03.727776Z"
    }
   },
   "outputs": [
    {
     "name": "stderr",
     "output_type": "stream",
     "text": [
      "/mnt/cube/tsainbur/conda_envs/tpy3/lib/python3.6/site-packages/ipykernel_launcher.py:2: UserWarning: Parameter should_downcast is deprecated, use convert_dtype in fit, fit_transform and transform  methods instead. \n",
      "  \n",
      "/mnt/cube/tsainbur/conda_envs/tpy3/lib/python3.6/site-packages/ipykernel_launcher.py:3: UserWarning: Parameter should_downcast is deprecated, use convert_dtype in fit, fit_transform and transform  methods instead. \n",
      "  This is separate from the ipykernel package so we can avoid doing imports until\n"
     ]
    }
   ],
   "source": [
    "min_dist = 0.5\n",
    "cuml_umap = cumlUMAP(min_dist = min_dist)\n",
    "embedding = cuml_umap.fit_transform(specs_flattened)"
   ]
  },
  {
   "cell_type": "code",
   "execution_count": 9,
   "metadata": {
    "ExecuteTime": {
     "end_time": "2019-12-04T20:42:19.104869Z",
     "start_time": "2019-12-04T20:42:18.139139Z"
    }
   },
   "outputs": [],
   "source": [
    "syllable_df['umap'] = list(embedding)"
   ]
  },
  {
   "cell_type": "code",
   "execution_count": 10,
   "metadata": {
    "ExecuteTime": {
     "end_time": "2019-12-04T20:42:19.280484Z",
     "start_time": "2019-12-04T20:42:19.132521Z"
    }
   },
   "outputs": [
    {
     "data": {
      "text/html": [
       "<div>\n",
       "<style scoped>\n",
       "    .dataframe tbody tr th:only-of-type {\n",
       "        vertical-align: middle;\n",
       "    }\n",
       "\n",
       "    .dataframe tbody tr th {\n",
       "        vertical-align: top;\n",
       "    }\n",
       "\n",
       "    .dataframe thead th {\n",
       "        text-align: right;\n",
       "    }\n",
       "</style>\n",
       "<table border=\"1\" class=\"dataframe\">\n",
       "  <thead>\n",
       "    <tr style=\"text-align: right;\">\n",
       "      <th></th>\n",
       "      <th>start_time</th>\n",
       "      <th>end_time</th>\n",
       "      <th>labels</th>\n",
       "      <th>word</th>\n",
       "      <th>utterance_number</th>\n",
       "      <th>position_in_utterance</th>\n",
       "      <th>position_in_word</th>\n",
       "      <th>word_number</th>\n",
       "      <th>indv</th>\n",
       "      <th>indvi</th>\n",
       "      <th>age</th>\n",
       "      <th>sex</th>\n",
       "      <th>key</th>\n",
       "      <th>rate</th>\n",
       "      <th>spectrogram</th>\n",
       "      <th>umap</th>\n",
       "    </tr>\n",
       "  </thead>\n",
       "  <tbody>\n",
       "    <tr>\n",
       "      <th>0</th>\n",
       "      <td>4.885333</td>\n",
       "      <td>4.988600</td>\n",
       "      <td>w</td>\n",
       "      <td>well</td>\n",
       "      <td>0</td>\n",
       "      <td>0</td>\n",
       "      <td>0</td>\n",
       "      <td>0</td>\n",
       "      <td>s07</td>\n",
       "      <td>0</td>\n",
       "      <td>o</td>\n",
       "      <td>f</td>\n",
       "      <td>s0702b</td>\n",
       "      <td>16000</td>\n",
       "      <td>[[2, 2, 2, 2, 0, 44, 79, 95, 86, 81, 77, 38, 3...</td>\n",
       "      <td>[2.356422185897827, 0.031862981617450714]</td>\n",
       "    </tr>\n",
       "    <tr>\n",
       "      <th>1</th>\n",
       "      <td>4.988600</td>\n",
       "      <td>5.114649</td>\n",
       "      <td>eh</td>\n",
       "      <td>well</td>\n",
       "      <td>1</td>\n",
       "      <td>0</td>\n",
       "      <td>1</td>\n",
       "      <td>0</td>\n",
       "      <td>s07</td>\n",
       "      <td>0</td>\n",
       "      <td>o</td>\n",
       "      <td>f</td>\n",
       "      <td>s0702b</td>\n",
       "      <td>16000</td>\n",
       "      <td>[[4, 4, 174, 166, 164, 162, 160, 159, 159, 161...</td>\n",
       "      <td>[0.8278802037239075, -5.5014262199401855]</td>\n",
       "    </tr>\n",
       "    <tr>\n",
       "      <th>2</th>\n",
       "      <td>5.114649</td>\n",
       "      <td>5.255262</td>\n",
       "      <td>l</td>\n",
       "      <td>well</td>\n",
       "      <td>2</td>\n",
       "      <td>0</td>\n",
       "      <td>2</td>\n",
       "      <td>0</td>\n",
       "      <td>s07</td>\n",
       "      <td>0</td>\n",
       "      <td>o</td>\n",
       "      <td>f</td>\n",
       "      <td>s0702b</td>\n",
       "      <td>16000</td>\n",
       "      <td>[[5, 5, 170, 156, 156, 154, 151, 149, 147, 144...</td>\n",
       "      <td>[2.133000612258911, -4.7591471672058105]</td>\n",
       "    </tr>\n",
       "  </tbody>\n",
       "</table>\n",
       "</div>"
      ],
      "text/plain": [
       "   start_time  end_time labels  word  utterance_number  position_in_utterance  \\\n",
       "0    4.885333  4.988600      w  well                 0                      0   \n",
       "1    4.988600  5.114649     eh  well                 1                      0   \n",
       "2    5.114649  5.255262      l  well                 2                      0   \n",
       "\n",
       "   position_in_word  word_number indv  indvi age sex     key   rate  \\\n",
       "0                 0            0  s07      0   o   f  s0702b  16000   \n",
       "1                 1            0  s07      0   o   f  s0702b  16000   \n",
       "2                 2            0  s07      0   o   f  s0702b  16000   \n",
       "\n",
       "                                         spectrogram  \\\n",
       "0  [[2, 2, 2, 2, 0, 44, 79, 95, 86, 81, 77, 38, 3...   \n",
       "1  [[4, 4, 174, 166, 164, 162, 160, 159, 159, 161...   \n",
       "2  [[5, 5, 170, 156, 156, 154, 151, 149, 147, 144...   \n",
       "\n",
       "                                        umap  \n",
       "0  [2.356422185897827, 0.031862981617450714]  \n",
       "1  [0.8278802037239075, -5.5014262199401855]  \n",
       "2   [2.133000612258911, -4.7591471672058105]  "
      ]
     },
     "execution_count": 10,
     "metadata": {},
     "output_type": "execute_result"
    }
   ],
   "source": [
    "syllable_df[:3]"
   ]
  },
  {
   "cell_type": "code",
   "execution_count": 11,
   "metadata": {
    "ExecuteTime": {
     "end_time": "2019-12-04T20:42:29.909222Z",
     "start_time": "2019-12-04T20:42:19.282468Z"
    }
   },
   "outputs": [
    {
     "data": {
      "text/plain": [
       "(-8, 8)"
      ]
     },
     "execution_count": 11,
     "metadata": {},
     "output_type": "execute_result"
    },
    {
     "data": {
      "image/png": "[encoded data removed]",
      "text/plain": [
       "<Figure size 432x288 with 1 Axes>"
      ]
     },
     "metadata": {
      "needs_background": "light"
     },
     "output_type": "display_data"
    }
   ],
   "source": [
    "fig, ax = plt.subplots()\n",
    "ax.scatter(embedding[:,0], embedding[:,1], s=1, color='k', alpha = 0.005)\n",
    "ax.set_xlim([-8,8])\n",
    "ax.set_ylim([-8,8])"
   ]
  },
  {
   "cell_type": "markdown",
   "metadata": {},
   "source": [
    "### Save"
   ]
  },
  {
   "cell_type": "code",
   "execution_count": 12,
   "metadata": {
    "ExecuteTime": {
     "end_time": "2019-12-04T20:42:30.042749Z",
     "start_time": "2019-12-04T20:42:29.911691Z"
    }
   },
   "outputs": [],
   "source": [
    "ensure_dir(DATA_DIR / 'embeddings' / DATASET_ID / 'human_full')"
   ]
  },
  {
   "cell_type": "code",
   "execution_count": 13,
   "metadata": {
    "ExecuteTime": {
     "end_time": "2019-12-04T20:42:47.716957Z",
     "start_time": "2019-12-04T20:42:30.044596Z"
    }
   },
   "outputs": [],
   "source": [
    "syllable_df.to_pickle(DATA_DIR / 'embeddings' / DATASET_ID / (str(min_dist) + '_humans_full.pickle'))"
   ]
  },
  {
   "cell_type": "code",
   "execution_count": null,
   "metadata": {},
   "outputs": [],
   "source": []
  }
 ],
 "metadata": {
  "kernelspec": {
   "display_name": "Python 3",
   "language": "python",
   "name": "python3"
  },
  "language_info": {
   "codemirror_mode": {
    "name": "ipython",
    "version": 3
   },
   "file_extension": ".py",
   "mimetype": "text/x-python",
   "name": "python",
   "nbconvert_exporter": "python",
   "pygments_lexer": "ipython3",
   "version": "3.6.7"
  }
 },
 "nbformat": 4,
 "nbformat_minor": 2
}
