{
 "cells": [
  {
   "cell_type": "code",
   "execution_count": 1,
   "metadata": {
    "ExecuteTime": {
     "end_time": "2019-12-04T20:45:47.138181Z",
     "start_time": "2019-12-04T20:45:47.113763Z"
    }
   },
   "outputs": [
    {
     "name": "stdout",
     "output_type": "stream",
     "text": [
      "env: CUDA_DEVICE_ORDER=PCI_BUS_ID\n",
      "env: CUDA_VISIBLE_DEVICES=2\n"
     ]
    }
   ],
   "source": [
    "%load_ext autoreload\n",
    "%autoreload 2\n",
    "%env CUDA_DEVICE_ORDER=PCI_BUS_ID\n",
    "%env CUDA_VISIBLE_DEVICES=2"
   ]
  },
  {
   "cell_type": "code",
   "execution_count": 2,
   "metadata": {
    "ExecuteTime": {
     "end_time": "2019-12-04T20:45:50.469905Z",
     "start_time": "2019-12-04T20:45:47.141046Z"
    }
   },
   "outputs": [
    {
     "name": "stderr",
     "output_type": "stream",
     "text": [
      "/mnt/cube/tsainbur/conda_envs/tpy3/lib/python3.6/site-packages/tqdm/autonotebook/__init__.py:14: TqdmExperimentalWarning: Using `tqdm.autonotebook.tqdm` in notebook mode. Use `tqdm.tqdm` instead to force console mode (e.g. in jupyter console)\n",
      "  \" (e.g. in jupyter console)\", TqdmExperimentalWarning)\n"
     ]
    }
   ],
   "source": [
    "import numpy as np\n",
    "import matplotlib.pyplot as plt\n",
    "from tqdm.autonotebook import tqdm\n",
    "import pandas as pd\n",
    "from cuml.manifold.umap import UMAP as cumlUMAP\n",
    "from avgn.utils.paths import DATA_DIR, most_recent_subdirectory, ensure_dir\n",
    "from avgn.signalprocessing.create_spectrogram_dataset import flatten_spectrograms"
   ]
  },
  {
   "cell_type": "markdown",
   "metadata": {},
   "source": [
    "### load data"
   ]
  },
  {
   "cell_type": "code",
   "execution_count": 3,
   "metadata": {
    "ExecuteTime": {
     "end_time": "2019-12-04T20:45:50.506882Z",
     "start_time": "2019-12-04T20:45:50.472245Z"
    }
   },
   "outputs": [],
   "source": [
    "DATASET_ID = 'koumura_bengalese_finch'\n",
    "df_loc =  DATA_DIR / 'syllable_dfs' / DATASET_ID / 'bf.pickle'"
   ]
  },
  {
   "cell_type": "code",
   "execution_count": 4,
   "metadata": {
    "ExecuteTime": {
     "end_time": "2019-12-04T20:45:57.545231Z",
     "start_time": "2019-12-04T20:45:50.508796Z"
    }
   },
   "outputs": [],
   "source": [
    "syllable_df = pd.read_pickle(df_loc)"
   ]
  },
  {
   "cell_type": "code",
   "execution_count": 5,
   "metadata": {
    "ExecuteTime": {
     "end_time": "2019-12-04T20:45:57.904691Z",
     "start_time": "2019-12-04T20:45:57.550524Z"
    }
   },
   "outputs": [
    {
     "data": {
      "text/html": [
       "<div>\n",
       "<style scoped>\n",
       "    .dataframe tbody tr th:only-of-type {\n",
       "        vertical-align: middle;\n",
       "    }\n",
       "\n",
       "    .dataframe tbody tr th {\n",
       "        vertical-align: top;\n",
       "    }\n",
       "\n",
       "    .dataframe thead th {\n",
       "        text-align: right;\n",
       "    }\n",
       "</style>\n",
       "<table border=\"1\" class=\"dataframe\">\n",
       "  <thead>\n",
       "    <tr style=\"text-align: right;\">\n",
       "      <th></th>\n",
       "      <th>start_time</th>\n",
       "      <th>end_time</th>\n",
       "      <th>labels</th>\n",
       "      <th>sequence_num</th>\n",
       "      <th>indv</th>\n",
       "      <th>indvi</th>\n",
       "      <th>key</th>\n",
       "      <th>rate</th>\n",
       "      <th>spectrogram</th>\n",
       "    </tr>\n",
       "  </thead>\n",
       "  <tbody>\n",
       "    <tr>\n",
       "      <th>0</th>\n",
       "      <td>1.059</td>\n",
       "      <td>1.156</td>\n",
       "      <td>0</td>\n",
       "      <td>0</td>\n",
       "      <td>Bird1</td>\n",
       "      <td>0</td>\n",
       "      <td>Bird1_70</td>\n",
       "      <td>32000</td>\n",
       "      <td>[[0, 0, 0, 0, 0, 0, 0, 7, 11, 9, 22, 85, 67, 4...</td>\n",
       "    </tr>\n",
       "    <tr>\n",
       "      <th>1</th>\n",
       "      <td>1.208</td>\n",
       "      <td>1.308</td>\n",
       "      <td>0</td>\n",
       "      <td>0</td>\n",
       "      <td>Bird1</td>\n",
       "      <td>0</td>\n",
       "      <td>Bird1_70</td>\n",
       "      <td>32000</td>\n",
       "      <td>[[0, 0, 0, 0, 0, 0, 0, 8, 7, 17, 15, 24, 15, 2...</td>\n",
       "    </tr>\n",
       "    <tr>\n",
       "      <th>2</th>\n",
       "      <td>1.360</td>\n",
       "      <td>1.451</td>\n",
       "      <td>0</td>\n",
       "      <td>0</td>\n",
       "      <td>Bird1</td>\n",
       "      <td>0</td>\n",
       "      <td>Bird1_70</td>\n",
       "      <td>32000</td>\n",
       "      <td>[[0, 0, 0, 0, 0, 0, 0, 3, 23, 70, 54, 14, 27, ...</td>\n",
       "    </tr>\n",
       "  </tbody>\n",
       "</table>\n",
       "</div>"
      ],
      "text/plain": [
       "   start_time  end_time labels  sequence_num   indv  indvi       key   rate  \\\n",
       "0       1.059     1.156      0             0  Bird1      0  Bird1_70  32000   \n",
       "1       1.208     1.308      0             0  Bird1      0  Bird1_70  32000   \n",
       "2       1.360     1.451      0             0  Bird1      0  Bird1_70  32000   \n",
       "\n",
       "                                         spectrogram  \n",
       "0  [[0, 0, 0, 0, 0, 0, 0, 7, 11, 9, 22, 85, 67, 4...  \n",
       "1  [[0, 0, 0, 0, 0, 0, 0, 8, 7, 17, 15, 24, 15, 2...  \n",
       "2  [[0, 0, 0, 0, 0, 0, 0, 3, 23, 70, 54, 14, 27, ...  "
      ]
     },
     "execution_count": 5,
     "metadata": {},
     "output_type": "execute_result"
    }
   ],
   "source": [
    "syllable_df[:3]"
   ]
  },
  {
   "cell_type": "code",
   "execution_count": 6,
   "metadata": {
    "ExecuteTime": {
     "end_time": "2019-12-04T20:45:57.946440Z",
     "start_time": "2019-12-04T20:45:57.906932Z"
    }
   },
   "outputs": [
    {
     "data": {
      "text/plain": [
       "(64, 53)"
      ]
     },
     "execution_count": 6,
     "metadata": {},
     "output_type": "execute_result"
    }
   ],
   "source": [
    "np.shape(syllable_df.spectrogram.values[0])"
   ]
  },
  {
   "cell_type": "markdown",
   "metadata": {},
   "source": [
    "### project"
   ]
  },
  {
   "cell_type": "code",
   "execution_count": 7,
   "metadata": {
    "ExecuteTime": {
     "end_time": "2019-12-04T20:45:58.035436Z",
     "start_time": "2019-12-04T20:45:57.948507Z"
    }
   },
   "outputs": [],
   "source": [
    "ensure_dir(DATA_DIR / 'embeddings' / DATASET_ID / 'full')"
   ]
  },
  {
   "cell_type": "code",
   "execution_count": 8,
   "metadata": {
    "ExecuteTime": {
     "end_time": "2019-12-04T20:47:05.509903Z",
     "start_time": "2019-12-04T20:45:58.037495Z"
    }
   },
   "outputs": [
    {
     "data": {
      "application/vnd.jupyter.widget-view+json": {
       "model_id": "fbc21518ecb7400cade27f12cee41bed",
       "version_major": 2,
       "version_minor": 0
      },
      "text/plain": [
       "HBox(children=(IntProgress(value=0, max=11), HTML(value='')))"
      ]
     },
     "metadata": {},
     "output_type": "display_data"
    },
    {
     "data": {
      "application/vnd.jupyter.widget-view+json": {
       "model_id": "5e170216355a440fbed408c95c65704c",
       "version_major": 2,
       "version_minor": 0
      },
      "text/plain": [
       "HBox(children=(IntProgress(value=0, max=35606), HTML(value='')))"
      ]
     },
     "metadata": {},
     "output_type": "display_data"
    },
    {
     "name": "stdout",
     "output_type": "stream",
     "text": [
      "(35606, 3392)\n"
     ]
    },
    {
     "name": "stderr",
     "output_type": "stream",
     "text": [
      "/mnt/cube/tsainbur/conda_envs/tpy3/lib/python3.6/site-packages/ipykernel_launcher.py:10: UserWarning: Parameter should_downcast is deprecated, use convert_dtype in fit, fit_transform and transform  methods instead. \n",
      "  # Remove the CWD from sys.path while we load stuff.\n",
      "/mnt/cube/tsainbur/conda_envs/tpy3/lib/python3.6/site-packages/ipykernel_launcher.py:11: UserWarning: Parameter should_downcast is deprecated, use convert_dtype in fit, fit_transform and transform  methods instead. \n",
      "  # This is added back by InteractiveShellApp.init_path()\n",
      "/mnt/cube/tsainbur/conda_envs/tpy3/lib/python3.6/site-packages/ipykernel_launcher.py:12: SettingWithCopyWarning: \n",
      "A value is trying to be set on a copy of a slice from a DataFrame.\n",
      "Try using .loc[row_indexer,col_indexer] = value instead\n",
      "\n",
      "See the caveats in the documentation: http://pandas.pydata.org/pandas-docs/stable/indexing.html#indexing-view-versus-copy\n",
      "  if sys.path[0] == '':\n"
     ]
    },
    {
     "data": {
      "application/vnd.jupyter.widget-view+json": {
       "model_id": "c6702f0f5ff248bf8bb65c6ad3149b06",
       "version_major": 2,
       "version_minor": 0
      },
      "text/plain": [
       "HBox(children=(IntProgress(value=0, max=26127), HTML(value='')))"
      ]
     },
     "metadata": {},
     "output_type": "display_data"
    },
    {
     "name": "stdout",
     "output_type": "stream",
     "text": [
      "(26127, 3392)\n"
     ]
    },
    {
     "name": "stderr",
     "output_type": "stream",
     "text": [
      "/mnt/cube/tsainbur/conda_envs/tpy3/lib/python3.6/site-packages/ipykernel_launcher.py:10: UserWarning: Parameter should_downcast is deprecated, use convert_dtype in fit, fit_transform and transform  methods instead. \n",
      "  # Remove the CWD from sys.path while we load stuff.\n",
      "/mnt/cube/tsainbur/conda_envs/tpy3/lib/python3.6/site-packages/ipykernel_launcher.py:11: UserWarning: Parameter should_downcast is deprecated, use convert_dtype in fit, fit_transform and transform  methods instead. \n",
      "  # This is added back by InteractiveShellApp.init_path()\n"
     ]
    },
    {
     "data": {
      "application/vnd.jupyter.widget-view+json": {
       "model_id": "0ee6a6eb86694cbe8ac37145c69384d3",
       "version_major": 2,
       "version_minor": 0
      },
      "text/plain": [
       "HBox(children=(IntProgress(value=0, max=20525), HTML(value='')))"
      ]
     },
     "metadata": {},
     "output_type": "display_data"
    },
    {
     "name": "stdout",
     "output_type": "stream",
     "text": [
      "(20525, 3392)\n"
     ]
    },
    {
     "data": {
      "application/vnd.jupyter.widget-view+json": {
       "model_id": "18ef1b21e08e4f43989277f092b9b25d",
       "version_major": 2,
       "version_minor": 0
      },
      "text/plain": [
       "HBox(children=(IntProgress(value=0, max=7652), HTML(value='')))"
      ]
     },
     "metadata": {},
     "output_type": "display_data"
    },
    {
     "name": "stdout",
     "output_type": "stream",
     "text": [
      "(7652, 3392)\n"
     ]
    },
    {
     "data": {
      "application/vnd.jupyter.widget-view+json": {
       "model_id": "9eb9e1a39a044244a805429209f70d69",
       "version_major": 2,
       "version_minor": 0
      },
      "text/plain": [
       "HBox(children=(IntProgress(value=0, max=20722), HTML(value='')))"
      ]
     },
     "metadata": {},
     "output_type": "display_data"
    },
    {
     "name": "stdout",
     "output_type": "stream",
     "text": [
      "(20722, 3392)\n"
     ]
    },
    {
     "data": {
      "application/vnd.jupyter.widget-view+json": {
       "model_id": "27b4272ddfba4102bd6b79d4fa966141",
       "version_major": 2,
       "version_minor": 0
      },
      "text/plain": [
       "HBox(children=(IntProgress(value=0, max=19541), HTML(value='')))"
      ]
     },
     "metadata": {},
     "output_type": "display_data"
    },
    {
     "name": "stdout",
     "output_type": "stream",
     "text": [
      "(19541, 3392)\n"
     ]
    },
    {
     "data": {
      "application/vnd.jupyter.widget-view+json": {
       "model_id": "466d32e5565947b08bb2326cbbe27075",
       "version_major": 2,
       "version_minor": 0
      },
      "text/plain": [
       "HBox(children=(IntProgress(value=0, max=26891), HTML(value='')))"
      ]
     },
     "metadata": {},
     "output_type": "display_data"
    },
    {
     "name": "stdout",
     "output_type": "stream",
     "text": [
      "(26891, 3392)\n"
     ]
    },
    {
     "data": {
      "application/vnd.jupyter.widget-view+json": {
       "model_id": "6ac8400358cd43ab8189b2930513ea4a",
       "version_major": 2,
       "version_minor": 0
      },
      "text/plain": [
       "HBox(children=(IntProgress(value=0, max=29470), HTML(value='')))"
      ]
     },
     "metadata": {},
     "output_type": "display_data"
    },
    {
     "name": "stdout",
     "output_type": "stream",
     "text": [
      "(29470, 3392)\n"
     ]
    },
    {
     "data": {
      "application/vnd.jupyter.widget-view+json": {
       "model_id": "ab370a13fa144dbc8df1a3382c13e564",
       "version_major": 2,
       "version_minor": 0
      },
      "text/plain": [
       "HBox(children=(IntProgress(value=0, max=5743), HTML(value='')))"
      ]
     },
     "metadata": {},
     "output_type": "display_data"
    },
    {
     "name": "stdout",
     "output_type": "stream",
     "text": [
      "(5743, 3392)\n"
     ]
    },
    {
     "data": {
      "application/vnd.jupyter.widget-view+json": {
       "model_id": "c364e7658a1d4933a2994562b34d19d8",
       "version_major": 2,
       "version_minor": 0
      },
      "text/plain": [
       "HBox(children=(IntProgress(value=0, max=17653), HTML(value='')))"
      ]
     },
     "metadata": {},
     "output_type": "display_data"
    },
    {
     "name": "stdout",
     "output_type": "stream",
     "text": [
      "(17653, 3392)\n"
     ]
    },
    {
     "data": {
      "application/vnd.jupyter.widget-view+json": {
       "model_id": "a0e752fca9d54d5081c7a1c505856e31",
       "version_major": 2,
       "version_minor": 0
      },
      "text/plain": [
       "HBox(children=(IntProgress(value=0, max=4985), HTML(value='')))"
      ]
     },
     "metadata": {},
     "output_type": "display_data"
    },
    {
     "name": "stdout",
     "output_type": "stream",
     "text": [
      "(4985, 3392)\n",
      "\n"
     ]
    }
   ],
   "source": [
    "for indv in tqdm(syllable_df.indv.unique()):\n",
    "    subset_df = syllable_df[syllable_df.indv == indv]\n",
    "    \n",
    "    specs = list(subset_df.spectrogram.values)\n",
    "    specs = [i/np.max(i) for i in tqdm(specs)]\n",
    "    specs_flattened = flatten_spectrograms(specs)\n",
    "    print(np.shape(specs_flattened))\n",
    "    \n",
    "    min_dist = 0.5\n",
    "    cuml_umap = cumlUMAP(min_dist = min_dist)\n",
    "    embedding = cuml_umap.fit_transform(specs_flattened)\n",
    "    subset_df['umap'] = list(embedding)\n",
    "    \n",
    "    fig, ax = plt.subplots()\n",
    "    ax.scatter(embedding[:,0], embedding[:,1], s=1, color='k', alpha = 0.05)\n",
    "    ax.set_xlim([-8,8])\n",
    "    ax.set_ylim([-8,8])\n",
    "    plt.show()\n",
    "    \n",
    "    subset_df.to_pickle(DATA_DIR / 'embeddings' / DATASET_ID / (str(min_dist) + '_' + indv + '.pickle'))"
   ]
  },
  {
   "cell_type": "code",
   "execution_count": null,
   "metadata": {},
   "outputs": [],
   "source": []
  }
 ],
 "metadata": {
  "kernelspec": {
   "display_name": "Python 3",
   "language": "python",
   "name": "python3"
  },
  "language_info": {
   "codemirror_mode": {
    "name": "ipython",
    "version": 3
   },
   "file_extension": ".py",
   "mimetype": "text/x-python",
   "name": "python",
   "nbconvert_exporter": "python",
   "pygments_lexer": "ipython3",
   "version": "3.6.7"
  }
 },
 "nbformat": 4,
 "nbformat_minor": 2
}
