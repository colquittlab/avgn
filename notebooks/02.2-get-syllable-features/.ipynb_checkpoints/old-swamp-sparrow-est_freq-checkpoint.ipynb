{
 "cells": [
  {
   "cell_type": "code",
   "execution_count": 1,
   "metadata": {
    "ExecuteTime": {
     "end_time": "2020-03-13T00:56:57.774920Z",
     "start_time": "2020-03-13T00:56:57.756642Z"
    }
   },
   "outputs": [],
   "source": [
    "%load_ext autoreload\n",
    "%autoreload 2"
   ]
  },
  {
   "cell_type": "code",
   "execution_count": 2,
   "metadata": {
    "ExecuteTime": {
     "end_time": "2020-03-13T00:57:00.970497Z",
     "start_time": "2020-03-13T00:56:57.776605Z"
    }
   },
   "outputs": [
    {
     "name": "stderr",
     "output_type": "stream",
     "text": [
      "/mnt/cube/tsainbur/conda_envs/tpy3/lib/python3.6/site-packages/tqdm/autonotebook/__init__.py:14: TqdmExperimentalWarning: Using `tqdm.autonotebook.tqdm` in notebook mode. Use `tqdm.tqdm` instead to force console mode (e.g. in jupyter console)\n",
      "  \" (e.g. in jupyter console)\", TqdmExperimentalWarning)\n"
     ]
    }
   ],
   "source": [
    "import numpy as np\n",
    "import matplotlib.pyplot as plt\n",
    "%matplotlib inline\n",
    "from tqdm.autonotebook import tqdm\n",
    "from joblib import Parallel, delayed\n",
    "import umap\n",
    "import pandas as pd"
   ]
  },
  {
   "cell_type": "code",
   "execution_count": 3,
   "metadata": {
    "ExecuteTime": {
     "end_time": "2020-03-13T00:57:01.441114Z",
     "start_time": "2020-03-13T00:57:00.971911Z"
    }
   },
   "outputs": [],
   "source": [
    "from avgn.utils.paths import DATA_DIR, most_recent_subdirectory, ensure_dir\n",
    "from avgn.signalprocessing.create_spectrogram_dataset import flatten_spectrograms\n",
    "from avgn.visualization.spectrogram import draw_spec_set\n",
    "from avgn.visualization.quickplots import draw_projection_plots"
   ]
  },
  {
   "cell_type": "code",
   "execution_count": 4,
   "metadata": {
    "ExecuteTime": {
     "end_time": "2020-03-13T00:57:02.063306Z",
     "start_time": "2020-03-13T00:57:01.444391Z"
    }
   },
   "outputs": [],
   "source": [
    "from soundsig.sound import BioSound "
   ]
  },
  {
   "cell_type": "markdown",
   "metadata": {},
   "source": [
    "### Collect data"
   ]
  },
  {
   "cell_type": "code",
   "execution_count": 5,
   "metadata": {
    "ExecuteTime": {
     "end_time": "2020-03-13T00:57:02.097028Z",
     "start_time": "2020-03-13T00:57:02.070289Z"
    }
   },
   "outputs": [],
   "source": [
    "DATASET_ID = 'swamp_sparrow'"
   ]
  },
  {
   "cell_type": "code",
   "execution_count": 6,
   "metadata": {
    "ExecuteTime": {
     "end_time": "2020-03-13T00:57:02.120218Z",
     "start_time": "2020-03-13T00:57:02.098275Z"
    }
   },
   "outputs": [
    {
     "data": {
      "text/plain": [
       "PosixPath('/mnt/cube/tsainbur/Projects/github_repos/avgn_paper/data/syllable_dfs/swamp_sparrow/swampsparrow-pad.pickle')"
      ]
     },
     "execution_count": 6,
     "metadata": {},
     "output_type": "execute_result"
    }
   ],
   "source": [
    "df_loc =  DATA_DIR / 'syllable_dfs' / DATASET_ID / 'swampsparrow-pad.pickle'\n",
    "df_loc"
   ]
  },
  {
   "cell_type": "code",
   "execution_count": 7,
   "metadata": {
    "ExecuteTime": {
     "end_time": "2020-03-13T00:57:03.183254Z",
     "start_time": "2020-03-13T00:57:02.121664Z"
    }
   },
   "outputs": [],
   "source": [
    "syllable_df = pd.read_pickle(df_loc)"
   ]
  },
  {
   "cell_type": "code",
   "execution_count": 8,
   "metadata": {
    "ExecuteTime": {
     "end_time": "2020-03-13T00:57:03.224920Z",
     "start_time": "2020-03-13T00:57:03.185513Z"
    }
   },
   "outputs": [],
   "source": [
    "syllable_df[\"syll_len\"] = syllable_df.end_time - syllable_df.start_time"
   ]
  },
  {
   "cell_type": "code",
   "execution_count": 9,
   "metadata": {
    "ExecuteTime": {
     "end_time": "2020-03-13T00:57:03.252615Z",
     "start_time": "2020-03-13T00:57:03.226927Z"
    }
   },
   "outputs": [
    {
     "data": {
      "text/plain": [
       "97528"
      ]
     },
     "execution_count": 9,
     "metadata": {},
     "output_type": "execute_result"
    }
   ],
   "source": [
    "len(syllable_df)"
   ]
  },
  {
   "cell_type": "code",
   "execution_count": 10,
   "metadata": {
    "ExecuteTime": {
     "end_time": "2020-03-13T00:57:03.323436Z",
     "start_time": "2020-03-13T00:57:03.254006Z"
    }
   },
   "outputs": [
    {
     "data": {
      "text/html": [
       "<div>\n",
       "<style scoped>\n",
       "    .dataframe tbody tr th:only-of-type {\n",
       "        vertical-align: middle;\n",
       "    }\n",
       "\n",
       "    .dataframe tbody tr th {\n",
       "        vertical-align: top;\n",
       "    }\n",
       "\n",
       "    .dataframe thead th {\n",
       "        text-align: right;\n",
       "    }\n",
       "</style>\n",
       "<table border=\"1\" class=\"dataframe\">\n",
       "  <thead>\n",
       "    <tr style=\"text-align: right;\">\n",
       "      <th></th>\n",
       "      <th>start_time</th>\n",
       "      <th>end_time</th>\n",
       "      <th>syllable</th>\n",
       "      <th>pos_in_syllable</th>\n",
       "      <th>indv</th>\n",
       "      <th>indvi</th>\n",
       "      <th>key</th>\n",
       "      <th>audio</th>\n",
       "      <th>rate</th>\n",
       "      <th>spectrogram</th>\n",
       "      <th>syll_len</th>\n",
       "    </tr>\n",
       "  </thead>\n",
       "  <tbody>\n",
       "    <tr>\n",
       "      <th>0</th>\n",
       "      <td>0.1015</td>\n",
       "      <td>0.1160</td>\n",
       "      <td>0.0</td>\n",
       "      <td>0.0</td>\n",
       "      <td>NYMONT33</td>\n",
       "      <td>0</td>\n",
       "      <td>SWSP09MONT33P1</td>\n",
       "      <td>[-0.0, 9.530822842799384e-05, 0.00046982690049...</td>\n",
       "      <td>44100</td>\n",
       "      <td>[[0.0, 0.0, 0.0, 0.0, 0.0, 0.0, 0.0, 0.0, 0.0,...</td>\n",
       "      <td>0.0145</td>\n",
       "    </tr>\n",
       "    <tr>\n",
       "      <th>1</th>\n",
       "      <td>0.1460</td>\n",
       "      <td>0.2095</td>\n",
       "      <td>0.0</td>\n",
       "      <td>1.0</td>\n",
       "      <td>NYMONT33</td>\n",
       "      <td>0</td>\n",
       "      <td>SWSP09MONT33P1</td>\n",
       "      <td>[0.0, -0.0003121317332160884, -0.0008303958537...</td>\n",
       "      <td>44100</td>\n",
       "      <td>[[0.0, 0.0, 0.0, 0.0, 0.0, 0.0, 0.0, 0.0, 0.0,...</td>\n",
       "      <td>0.0635</td>\n",
       "    </tr>\n",
       "    <tr>\n",
       "      <th>2</th>\n",
       "      <td>0.2510</td>\n",
       "      <td>0.2620</td>\n",
       "      <td>1.0</td>\n",
       "      <td>0.0</td>\n",
       "      <td>NYMONT33</td>\n",
       "      <td>0</td>\n",
       "      <td>SWSP09MONT33P1</td>\n",
       "      <td>[0.0, 0.0014956086103258461, 0.003453462802130...</td>\n",
       "      <td>44100</td>\n",
       "      <td>[[0.0, 0.0, 0.0, 0.0, 0.0, 0.0, 0.0, 0.0, 0.0,...</td>\n",
       "      <td>0.0110</td>\n",
       "    </tr>\n",
       "  </tbody>\n",
       "</table>\n",
       "</div>"
      ],
      "text/plain": [
       "   start_time  end_time  syllable  pos_in_syllable      indv  indvi  \\\n",
       "0      0.1015    0.1160       0.0              0.0  NYMONT33      0   \n",
       "1      0.1460    0.2095       0.0              1.0  NYMONT33      0   \n",
       "2      0.2510    0.2620       1.0              0.0  NYMONT33      0   \n",
       "\n",
       "              key                                              audio   rate  \\\n",
       "0  SWSP09MONT33P1  [-0.0, 9.530822842799384e-05, 0.00046982690049...  44100   \n",
       "1  SWSP09MONT33P1  [0.0, -0.0003121317332160884, -0.0008303958537...  44100   \n",
       "2  SWSP09MONT33P1  [0.0, 0.0014956086103258461, 0.003453462802130...  44100   \n",
       "\n",
       "                                         spectrogram  syll_len  \n",
       "0  [[0.0, 0.0, 0.0, 0.0, 0.0, 0.0, 0.0, 0.0, 0.0,...    0.0145  \n",
       "1  [[0.0, 0.0, 0.0, 0.0, 0.0, 0.0, 0.0, 0.0, 0.0,...    0.0635  \n",
       "2  [[0.0, 0.0, 0.0, 0.0, 0.0, 0.0, 0.0, 0.0, 0.0,...    0.0110  "
      ]
     },
     "execution_count": 10,
     "metadata": {},
     "output_type": "execute_result"
    }
   ],
   "source": [
    "syllable_df[:3]"
   ]
  },
  {
   "cell_type": "code",
   "execution_count": null,
   "metadata": {},
   "outputs": [],
   "source": []
  },
  {
   "cell_type": "code",
   "execution_count": 11,
   "metadata": {
    "ExecuteTime": {
     "end_time": "2020-03-13T00:57:13.029756Z",
     "start_time": "2020-03-13T00:57:03.325060Z"
    }
   },
   "outputs": [
    {
     "data": {
      "application/vnd.jupyter.widget-view+json": {
       "model_id": "1103fbb7d0ff476a9dcadc83dc6e1a7a",
       "version_major": 2,
       "version_minor": 0
      },
      "text/plain": [
       "HBox(children=(IntProgress(value=0, max=97528), HTML(value='')))"
      ]
     },
     "metadata": {},
     "output_type": "display_data"
    },
    {
     "name": "stdout",
     "output_type": "stream",
     "text": [
      "\n"
     ]
    }
   ],
   "source": [
    "syllable_df['nsamp'] = [len(row.audio) for idx, row in tqdm(syllable_df.iterrows(), total=len(syllable_df))]"
   ]
  },
  {
   "cell_type": "code",
   "execution_count": 12,
   "metadata": {
    "ExecuteTime": {
     "end_time": "2020-03-13T00:57:13.274518Z",
     "start_time": "2020-03-13T00:57:13.031793Z"
    }
   },
   "outputs": [
    {
     "data": {
      "image/png": "[encoded data removed]",
      "text/plain": [
       "<Figure size 432x288 with 1 Axes>"
      ]
     },
     "metadata": {
      "needs_background": "light"
     },
     "output_type": "display_data"
    }
   ],
   "source": [
    "plt.hist(syllable_df['nsamp'].values, bins=50);"
   ]
  },
  {
   "cell_type": "code",
   "execution_count": 13,
   "metadata": {
    "ExecuteTime": {
     "end_time": "2020-03-13T00:57:13.303178Z",
     "start_time": "2020-03-13T00:57:13.276279Z"
    }
   },
   "outputs": [],
   "source": [
    "import IPython.display as ipd"
   ]
  },
  {
   "cell_type": "code",
   "execution_count": 14,
   "metadata": {
    "ExecuteTime": {
     "end_time": "2020-03-13T00:57:13.325873Z",
     "start_time": "2020-03-13T00:57:13.304732Z"
    }
   },
   "outputs": [],
   "source": [
    "import noisereduce as nr"
   ]
  },
  {
   "cell_type": "code",
   "execution_count": 274,
   "metadata": {
    "ExecuteTime": {
     "end_time": "2020-03-13T03:19:09.622111Z",
     "start_time": "2020-03-13T03:19:09.436692Z"
    }
   },
   "outputs": [
    {
     "data": {
      "application/vnd.jupyter.widget-view+json": {
       "model_id": "9856729c8c4c4b6e8be0731ba616db6e",
       "version_major": 2,
       "version_minor": 0
      },
      "text/plain": [
       "HBox(children=(IntProgress(value=0, max=97528), HTML(value='')))"
      ]
     },
     "metadata": {},
     "output_type": "display_data"
    },
    {
     "data": {
      "text/plain": [
       "[<matplotlib.lines.Line2D at 0x7fe10edf0668>]"
      ]
     },
     "execution_count": 274,
     "metadata": {},
     "output_type": "execute_result"
    },
    {
     "data": {
      "image/png": "[encoded data removed]",
      "text/plain": [
       "<Figure size 432x288 with 1 Axes>"
      ]
     },
     "metadata": {
      "needs_background": "light"
     },
     "output_type": "display_data"
    }
   ],
   "source": [
    "for idx, row in tqdm(syllable_df[:10].iterrows(), total=len(syllable_df)):\n",
    "    \n",
    "    audio = row.audio\n",
    "    nraudio = nr.reduce_noise(audio_clip=audio, n_std_thresh=0.5, win_length=512, n_fft = 512,hop_length=32, verbose=False)\n",
    "    plt.plot(audio)\n",
    "    plt.plot(nraudio)\n",
    "    break"
   ]
  },
  {
   "cell_type": "code",
   "execution_count": null,
   "metadata": {},
   "outputs": [],
   "source": []
  },
  {
   "cell_type": "code",
   "execution_count": 289,
   "metadata": {
    "ExecuteTime": {
     "end_time": "2020-03-13T03:22:30.855773Z",
     "start_time": "2020-03-13T03:22:30.423350Z"
    },
    "scrolled": false
   },
   "outputs": [
    {
     "data": {
      "application/vnd.jupyter.widget-view+json": {
       "model_id": "2074a0f57d2948bcab59c22478ac06c9",
       "version_major": 2,
       "version_minor": 0
      },
      "text/plain": [
       "HBox(children=(IntProgress(value=0, max=97528), HTML(value='')))"
      ]
     },
     "metadata": {},
     "output_type": "display_data"
    },
    {
     "data": {
      "image/png": "[encoded data removed]",
      "text/plain": [
       "<Figure size 288x418.909 with 1 Axes>"
      ]
     },
     "metadata": {
      "needs_background": "light"
     },
     "output_type": "display_data"
    }
   ],
   "source": [
    "for idx, row in tqdm(syllable_df[:10].iterrows(), total=len(syllable_df)):\n",
    "    plt.matshow(row.spectrogram, origin='lower')\n",
    "    plt.scatter(np.arange(len(row.spectrogram.T)), np.argmax(row.spectrogram, axis=0), color='red')\n",
    "    plt.show()\n",
    "    break"
   ]
  },
  {
   "cell_type": "code",
   "execution_count": null,
   "metadata": {},
   "outputs": [],
   "source": [
    "# convert spectrogram bins to Hz"
   ]
  },
  {
   "cell_type": "code",
   "execution_count": null,
   "metadata": {},
   "outputs": [],
   "source": [
    "from avgn.signalprocessing.spectrogramming import (\n",
    "    spectrogram, melspectrogram, inv_spectrogram, _build_mel_basis,\n",
    "    _build_mel_inversion_basis, spectrogram_librosa, inv_spectrogram_librosa, _mel_to_linear)\n",
    "from avgn.utils.hparams import HParams\n",
    "from IPython.display import display, Audio"
   ]
  },
  {
   "cell_type": "code",
   "execution_count": 294,
   "metadata": {
    "ExecuteTime": {
     "end_time": "2020-03-13T03:27:24.606812Z",
     "start_time": "2020-03-13T03:27:24.282482Z"
    }
   },
   "outputs": [],
   "source": [
    "mel_lower_edge_hertz=1000\n",
    "mel_upper_edge_hertz=22000\n",
    "num_mel_bins = 32\n",
    "num_freq = 1024\n",
    "fs = 44100.0"
   ]
  },
  {
   "cell_type": "code",
   "execution_count": 299,
   "metadata": {
    "ExecuteTime": {
     "end_time": "2020-03-13T03:30:46.621327Z",
     "start_time": "2020-03-13T03:30:46.593837Z"
    }
   },
   "outputs": [],
   "source": [
    "_mel_basis = librosa.filters.mel(\n",
    "        fs,\n",
    "        1024,\n",
    "        n_mels=32,\n",
    "        fmin=1000, \n",
    "        fmax=22000,\n",
    "    )"
   ]
  },
  {
   "cell_type": "code",
   "execution_count": 300,
   "metadata": {
    "ExecuteTime": {
     "end_time": "2020-03-13T03:30:51.631470Z",
     "start_time": "2020-03-13T03:30:51.601898Z"
    }
   },
   "outputs": [],
   "source": [
    "_mel_inversion_basis = _build_mel_inversion_basis(_mel_basis)"
   ]
  },
  {
   "cell_type": "code",
   "execution_count": 301,
   "metadata": {
    "ExecuteTime": {
     "end_time": "2020-03-13T03:31:04.543772Z",
     "start_time": "2020-03-13T03:31:04.513536Z"
    }
   },
   "outputs": [],
   "source": [
    "mel_inv_spec = _mel_to_linear(row.spectrogram, _mel_inverse_basis = _mel_inversion_basis)"
   ]
  },
  {
   "cell_type": "code",
   "execution_count": 311,
   "metadata": {
    "ExecuteTime": {
     "end_time": "2020-03-13T03:32:39.618216Z",
     "start_time": "2020-03-13T03:32:39.588783Z"
    }
   },
   "outputs": [],
   "source": [
    "fmax = np.argmax(mel_inv_spec, axis=0)"
   ]
  },
  {
   "cell_type": "code",
   "execution_count": 325,
   "metadata": {
    "ExecuteTime": {
     "end_time": "2020-03-13T03:35:47.948543Z",
     "start_time": "2020-03-13T03:35:47.920285Z"
    }
   },
   "outputs": [
    {
     "data": {
      "text/plain": [
       "array([    0.       ,     0.       ,     0.       ,     0.       ,\n",
       "       11800.1953125, 14298.046875 , 14298.046875 , 13006.0546875,\n",
       "       11886.328125 , 10852.734375 , 10766.6015625,  9819.140625 ,\n",
       "        9819.140625 ,  8957.8125   ,  8957.8125   ,  8182.6171875,\n",
       "        8096.484375 ,     0.       ,     0.       ,     0.       ,\n",
       "           0.       ,     0.       ])"
      ]
     },
     "execution_count": 325,
     "metadata": {},
     "output_type": "execute_result"
    }
   ],
   "source": [
    "fmax * fs / (num_freq / 2) "
   ]
  },
  {
   "cell_type": "code",
   "execution_count": 321,
   "metadata": {
    "ExecuteTime": {
     "end_time": "2020-03-13T03:34:59.512187Z",
     "start_time": "2020-03-13T03:34:59.407946Z"
    }
   },
   "outputs": [
    {
     "data": {
      "text/plain": [
       "<matplotlib.image.AxesImage at 0x7fe0d5a80cc0>"
      ]
     },
     "execution_count": 321,
     "metadata": {},
     "output_type": "execute_result"
    },
    {
     "data": {
      "image/png": "[encoded data removed]",
      "text/plain": [
       "<Figure size 432x288 with 1 Axes>"
      ]
     },
     "metadata": {
      "needs_background": "light"
     },
     "output_type": "display_data"
    }
   ],
   "source": [
    "fig, ax = plt.subplots()\n",
    "ax.matshow(mel_inv_spec, origin=\"lower\", aspect=\"auto\", extent = [0, len(fmax), 0, 1])\n",
    "#ax.scatter(np.arange(len(fmax)), fmax, color='red')"
   ]
  },
  {
   "cell_type": "code",
   "execution_count": null,
   "metadata": {},
   "outputs": [],
   "source": []
  }
 ],
 "metadata": {
  "kernelspec": {
   "display_name": "Python 3",
   "language": "python",
   "name": "python3"
  },
  "language_info": {
   "codemirror_mode": {
    "name": "ipython",
    "version": 3
   },
   "file_extension": ".py",
   "mimetype": "text/x-python",
   "name": "python",
   "nbconvert_exporter": "python",
   "pygments_lexer": "ipython3",
   "version": "3.6.7"
  }
 },
 "nbformat": 4,
 "nbformat_minor": 2
}
