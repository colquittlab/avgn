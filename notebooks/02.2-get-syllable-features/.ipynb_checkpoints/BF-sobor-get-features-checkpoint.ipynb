{
 "cells": [
  {
   "cell_type": "code",
   "execution_count": 1,
   "metadata": {
    "ExecuteTime": {
     "end_time": "2020-02-29T02:18:51.504533Z",
     "start_time": "2020-02-29T02:18:51.492172Z"
    }
   },
   "outputs": [],
   "source": [
    "%load_ext autoreload\n",
    "%autoreload 2"
   ]
  },
  {
   "cell_type": "code",
   "execution_count": 2,
   "metadata": {
    "ExecuteTime": {
     "end_time": "2020-02-29T02:18:54.327727Z",
     "start_time": "2020-02-29T02:18:51.506585Z"
    }
   },
   "outputs": [
    {
     "name": "stderr",
     "output_type": "stream",
     "text": [
      "/mnt/cube/tsainbur/conda_envs/tpy3/lib/python3.6/site-packages/tqdm/autonotebook/__init__.py:14: TqdmExperimentalWarning: Using `tqdm.autonotebook.tqdm` in notebook mode. Use `tqdm.tqdm` instead to force console mode (e.g. in jupyter console)\n",
      "  \" (e.g. in jupyter console)\", TqdmExperimentalWarning)\n",
      "/mnt/cube/tsainbur/conda_envs/tpy3/lib/python3.6/site-packages/sklearn/externals/joblib/__init__.py:15: FutureWarning: sklearn.externals.joblib is deprecated in 0.21 and will be removed in 0.23. Please import this functionality directly from joblib, which can be installed with: pip install joblib. If this warning is raised when loading pickled models, you may need to re-serialize those models with scikit-learn 0.21+.\n",
      "  warnings.warn(msg, category=FutureWarning)\n"
     ]
    }
   ],
   "source": [
    "import numpy as np\n",
    "import matplotlib.pyplot as plt\n",
    "%matplotlib inline\n",
    "from tqdm.autonotebook import tqdm\n",
    "from joblib import Parallel, delayed\n",
    "import umap\n",
    "import pandas as pd"
   ]
  },
  {
   "cell_type": "code",
   "execution_count": 3,
   "metadata": {
    "ExecuteTime": {
     "end_time": "2020-02-29T02:18:54.855776Z",
     "start_time": "2020-02-29T02:18:54.329460Z"
    }
   },
   "outputs": [],
   "source": [
    "from avgn.utils.paths import DATA_DIR, most_recent_subdirectory, ensure_dir\n",
    "from avgn.signalprocessing.create_spectrogram_dataset import flatten_spectrograms\n",
    "from avgn.visualization.spectrogram import draw_spec_set\n",
    "from avgn.visualization.quickplots import draw_projection_plots"
   ]
  },
  {
   "cell_type": "code",
   "execution_count": 4,
   "metadata": {
    "ExecuteTime": {
     "end_time": "2020-02-29T02:18:55.257819Z",
     "start_time": "2020-02-29T02:18:54.857742Z"
    }
   },
   "outputs": [],
   "source": [
    "from soundsig.sound import BioSound "
   ]
  },
  {
   "cell_type": "markdown",
   "metadata": {},
   "source": [
    "### Collect data"
   ]
  },
  {
   "cell_type": "code",
   "execution_count": 5,
   "metadata": {
    "ExecuteTime": {
     "end_time": "2020-02-29T02:18:55.286192Z",
     "start_time": "2020-02-29T02:18:55.260000Z"
    }
   },
   "outputs": [],
   "source": [
    "DATASET_ID = 'bengalese_finch_sober'"
   ]
  },
  {
   "cell_type": "code",
   "execution_count": 6,
   "metadata": {
    "ExecuteTime": {
     "end_time": "2020-02-29T02:18:55.316587Z",
     "start_time": "2020-02-29T02:18:55.287791Z"
    }
   },
   "outputs": [
    {
     "data": {
      "text/plain": [
       "PosixPath('/mnt/cube/tsainbur/Projects/github_repos/avgn_paper/data/syllable_dfs/bengalese_finch_sober/bf-audio.pickle')"
      ]
     },
     "execution_count": 6,
     "metadata": {},
     "output_type": "execute_result"
    }
   ],
   "source": [
    "df_loc =  DATA_DIR / 'syllable_dfs' / DATASET_ID / 'bf-audio.pickle'\n",
    "df_loc"
   ]
  },
  {
   "cell_type": "code",
   "execution_count": 7,
   "metadata": {
    "ExecuteTime": {
     "end_time": "2020-02-29T02:18:57.202061Z",
     "start_time": "2020-02-29T02:18:55.318015Z"
    }
   },
   "outputs": [],
   "source": [
    "syllable_df = pd.read_pickle(df_loc)"
   ]
  },
  {
   "cell_type": "code",
   "execution_count": 8,
   "metadata": {
    "ExecuteTime": {
     "end_time": "2020-02-29T02:18:57.241095Z",
     "start_time": "2020-02-29T02:18:57.204119Z"
    }
   },
   "outputs": [],
   "source": [
    "syllable_df[\"syll_len\"] = syllable_df.end_time - syllable_df.start_time"
   ]
  },
  {
   "cell_type": "code",
   "execution_count": 9,
   "metadata": {
    "ExecuteTime": {
     "end_time": "2020-02-29T02:18:57.268723Z",
     "start_time": "2020-02-29T02:18:57.242969Z"
    }
   },
   "outputs": [
    {
     "data": {
      "text/plain": [
       "215663"
      ]
     },
     "execution_count": 9,
     "metadata": {},
     "output_type": "execute_result"
    }
   ],
   "source": [
    "len(syllable_df)"
   ]
  },
  {
   "cell_type": "code",
   "execution_count": 10,
   "metadata": {
    "ExecuteTime": {
     "end_time": "2020-02-29T02:18:57.336043Z",
     "start_time": "2020-02-29T02:18:57.270166Z"
    }
   },
   "outputs": [
    {
     "data": {
      "text/html": [
       "<div>\n",
       "<style scoped>\n",
       "    .dataframe tbody tr th:only-of-type {\n",
       "        vertical-align: middle;\n",
       "    }\n",
       "\n",
       "    .dataframe tbody tr th {\n",
       "        vertical-align: top;\n",
       "    }\n",
       "\n",
       "    .dataframe thead th {\n",
       "        text-align: right;\n",
       "    }\n",
       "</style>\n",
       "<table border=\"1\" class=\"dataframe\">\n",
       "  <thead>\n",
       "    <tr style=\"text-align: right;\">\n",
       "      <th></th>\n",
       "      <th>start_time</th>\n",
       "      <th>end_time</th>\n",
       "      <th>labels</th>\n",
       "      <th>indv</th>\n",
       "      <th>indvi</th>\n",
       "      <th>key</th>\n",
       "      <th>audio</th>\n",
       "      <th>rate</th>\n",
       "      <th>spectrogram</th>\n",
       "      <th>syll_len</th>\n",
       "    </tr>\n",
       "  </thead>\n",
       "  <tbody>\n",
       "    <tr>\n",
       "      <th>0</th>\n",
       "      <td>1.058250</td>\n",
       "      <td>1.089219</td>\n",
       "      <td>i</td>\n",
       "      <td>gr41rd51</td>\n",
       "      <td>0</td>\n",
       "      <td>gr41rd51__3part_SYLc_th4191_belowhits_220612_1...</td>\n",
       "      <td>[0.12828393, 0.060129583, -0.21070328, 0.00274...</td>\n",
       "      <td>32000</td>\n",
       "      <td>[[5, 5, 5, 5, 3, 25, 26, 75, 105, 80, 47, 16, ...</td>\n",
       "      <td>0.030969</td>\n",
       "    </tr>\n",
       "    <tr>\n",
       "      <th>1</th>\n",
       "      <td>2.058187</td>\n",
       "      <td>2.117165</td>\n",
       "      <td>i</td>\n",
       "      <td>gr41rd51</td>\n",
       "      <td>0</td>\n",
       "      <td>gr41rd51__3part_SYLc_th4191_belowhits_220612_1...</td>\n",
       "      <td>[0.0013724383, 0.11671471, 0.033512227, 0.0607...</td>\n",
       "      <td>32000</td>\n",
       "      <td>[[4, 4, 4, 4, 16, 8, 6, 11, 7, 3, 3, 14, 51, 2...</td>\n",
       "      <td>0.058978</td>\n",
       "    </tr>\n",
       "    <tr>\n",
       "      <th>2</th>\n",
       "      <td>2.234500</td>\n",
       "      <td>2.285938</td>\n",
       "      <td>i</td>\n",
       "      <td>gr41rd51</td>\n",
       "      <td>0</td>\n",
       "      <td>gr41rd51__3part_SYLc_th4191_belowhits_220612_1...</td>\n",
       "      <td>[0.07955982, 0.05747984, 0.042854592, 0.059728...</td>\n",
       "      <td>32000</td>\n",
       "      <td>[[2, 2, 2, 3, 0, 26, 49, 12, 9, 2, 2, 93, 68, ...</td>\n",
       "      <td>0.051438</td>\n",
       "    </tr>\n",
       "  </tbody>\n",
       "</table>\n",
       "</div>"
      ],
      "text/plain": [
       "   start_time  end_time labels      indv  indvi  \\\n",
       "0    1.058250  1.089219      i  gr41rd51      0   \n",
       "1    2.058187  2.117165      i  gr41rd51      0   \n",
       "2    2.234500  2.285938      i  gr41rd51      0   \n",
       "\n",
       "                                                 key  \\\n",
       "0  gr41rd51__3part_SYLc_th4191_belowhits_220612_1...   \n",
       "1  gr41rd51__3part_SYLc_th4191_belowhits_220612_1...   \n",
       "2  gr41rd51__3part_SYLc_th4191_belowhits_220612_1...   \n",
       "\n",
       "                                               audio   rate  \\\n",
       "0  [0.12828393, 0.060129583, -0.21070328, 0.00274...  32000   \n",
       "1  [0.0013724383, 0.11671471, 0.033512227, 0.0607...  32000   \n",
       "2  [0.07955982, 0.05747984, 0.042854592, 0.059728...  32000   \n",
       "\n",
       "                                         spectrogram  syll_len  \n",
       "0  [[5, 5, 5, 5, 3, 25, 26, 75, 105, 80, 47, 16, ...  0.030969  \n",
       "1  [[4, 4, 4, 4, 16, 8, 6, 11, 7, 3, 3, 14, 51, 2...  0.058978  \n",
       "2  [[2, 2, 2, 3, 0, 26, 49, 12, 9, 2, 2, 93, 68, ...  0.051438  "
      ]
     },
     "execution_count": 10,
     "metadata": {},
     "output_type": "execute_result"
    }
   ],
   "source": [
    "syllable_df[:3]"
   ]
  },
  {
   "cell_type": "code",
   "execution_count": 11,
   "metadata": {
    "ExecuteTime": {
     "end_time": "2020-02-29T02:19:18.776590Z",
     "start_time": "2020-02-29T02:18:57.337665Z"
    }
   },
   "outputs": [
    {
     "data": {
      "application/vnd.jupyter.widget-view+json": {
       "model_id": "a0466c0c12c9460a95b54455b71ca837",
       "version_major": 2,
       "version_minor": 0
      },
      "text/plain": [
       "HBox(children=(IntProgress(value=0, max=215663), HTML(value='')))"
      ]
     },
     "metadata": {},
     "output_type": "display_data"
    },
    {
     "name": "stdout",
     "output_type": "stream",
     "text": [
      "\n"
     ]
    }
   ],
   "source": [
    "syllable_df['nsamp'] = [len(row.audio) for idx, row in tqdm(syllable_df.iterrows(), total=len(syllable_df))]"
   ]
  },
  {
   "cell_type": "code",
   "execution_count": 12,
   "metadata": {
    "ExecuteTime": {
     "end_time": "2020-02-29T02:19:19.039908Z",
     "start_time": "2020-02-29T02:19:18.778141Z"
    }
   },
   "outputs": [
    {
     "data": {
      "image/png": "[encoded data removed]",
      "text/plain": [
       "<Figure size 432x288 with 1 Axes>"
      ]
     },
     "metadata": {
      "needs_background": "light"
     },
     "output_type": "display_data"
    }
   ],
   "source": [
    "plt.hist(syllable_df['nsamp'].values, bins=50);"
   ]
  },
  {
   "cell_type": "code",
   "execution_count": 70,
   "metadata": {
    "ExecuteTime": {
     "end_time": "2020-03-02T00:07:48.715586Z",
     "start_time": "2020-03-02T00:07:48.684166Z"
    }
   },
   "outputs": [],
   "source": [
    "def create_Biosound(audio, rate):\n",
    "    myBioSound = BioSound(soundWave=audio, fs=rate)\n",
    "    # Calculate the spectrogram and the rms\n",
    "    myBioSound.spectroCalc(spec_sample_rate=10000, freq_spacing = 100, min_freq=0, max_freq=10000)\n",
    "    myBioSound.rms = myBioSound.sound.std() \n",
    "\n",
    "    # Calculate amplitude enveloppe\n",
    "    myBioSound.ampenv(cutoff_freq = 20, amp_sample_rate = 500)\n",
    "\n",
    "    # Calculate the power spectrum\n",
    "    myBioSound.spectrum(f_high=15000)\n",
    "\n",
    "    # Calculate fundamental and related values.  These are the default values.\n",
    "    # For the estimation of the fundamental, four methods are available: \n",
    "    # 'AC' - Peak of the auto-correlation function\n",
    "    # 'ACA' - Peak of envelope of auto-correlation function \n",
    "    # 'Cep' - First peak in cepstrum \n",
    "    # 'Stack' - Fitting of harmonic stacks (default - works well for zebra finches)\n",
    "\n",
    "    myBioSound.fundest(maxFund = 1500, minFund = 100, lowFc = 200, highFc = 6000, \n",
    "                       minSaliency = 0.5, debugFig = 0, \n",
    "                       minFormantFreq = 500, maxFormantBW = 500, windowFormant = 0.025,\n",
    "                       method='Stack')\n",
    "\n",
    "    # Calculate the MPS\n",
    "    myBioSound.mpsCalc(window=0.025, Norm = True)\n",
    "    #myBioSound.plot(DBNOISE=50, f_low=250, f_high=10000)  \n",
    "    \n",
    "    return myBioSound"
   ]
  },
  {
   "cell_type": "code",
   "execution_count": 82,
   "metadata": {
    "ExecuteTime": {
     "end_time": "2020-03-02T00:10:21.985502Z",
     "start_time": "2020-03-02T00:10:21.626428Z"
    }
   },
   "outputs": [],
   "source": [
    "def create_BioSound_features(myBioSound):\n",
    "\n",
    "    #try:\n",
    "    if (myBioSound.fund is not None) and (type(myBioSound.fund) is\n",
    "                                           np.float64):\n",
    "        fund = np.float(myBioSound.fund)\n",
    "        cvfund = np.float(myBioSound.cvfund)\n",
    "        maxfund = np.float(myBioSound.maxfund)\n",
    "        minfund = np.float(myBioSound.minfund)\n",
    "    else:\n",
    "        return\n",
    "\n",
    "    # Take the time average formants\n",
    "    meanF1 = np.mean(myBioSound.F1[~np.isnan(myBioSound.F1)])\n",
    "    meanF2 = np.mean(myBioSound.F2[~np.isnan(myBioSound.F2)])\n",
    "    meanF3 = np.mean(myBioSound.F3[~np.isnan(myBioSound.F3)])\n",
    "\n",
    "    features = pd.DataFrame({\n",
    "        \"fund\": [fund],\n",
    "        \"cvfund\": [cvfund],\n",
    "        \"maxfund\": [maxfund],\n",
    "        \"minfund\": [minfund],\n",
    "        \"F1\": [meanF1],\n",
    "        \"F2\": [meanF2],\n",
    "        \"F3\": [meanF3],\n",
    "        \"sal\": [np.float(myBioSound.meansal)],\n",
    "        \"rms\": [np.float(myBioSound.rms)],\n",
    "        \"maxAmp\": [np.float(myBioSound.maxAmp)],\n",
    "        \"meanS\": [np.float(myBioSound.meanspect)],\n",
    "        \"stdS\": [np.float(myBioSound.stdspect)],\n",
    "        \"skewS\": [np.float(myBioSound.skewspect)],\n",
    "        \"kurtS\": [np.float(myBioSound.kurtosisspect)],\n",
    "        \"entS\": [np.float(myBioSound.entropyspect)],\n",
    "        \"q1\": [np.float(myBioSound.q1)],\n",
    "        \"q2\": [np.float(myBioSound.q2)],\n",
    "        \"q3\": [np.float(myBioSound.q3)],\n",
    "        \"meanT\": [np.float(myBioSound.meantime)],\n",
    "        \"stdT\": [np.float(myBioSound.stdtime)],\n",
    "        \"skewT\": [np.float(myBioSound.skewtime)],\n",
    "        \"kurtT\": [np.float(myBioSound.kurtosistime)],\n",
    "        \"entT\": [np.float(myBioSound.entropytime)]\n",
    "    })\n",
    "    #except TypeError:\n",
    "    #    return \n",
    "    return features"
   ]
  },
  {
   "cell_type": "code",
   "execution_count": 83,
   "metadata": {
    "ExecuteTime": {
     "end_time": "2020-03-02T00:10:22.009856Z",
     "start_time": "2020-03-02T00:10:21.987379Z"
    }
   },
   "outputs": [],
   "source": [
    "def get_BioSound_features(audio, rate):\n",
    "    # pad if too short\n",
    "    audio = np.pad(audio, 1050) if len(audio) < 1050 else audio\n",
    "    myBioSound = create_Biosound(audio, rate)\n",
    "    if myBioSound is None:\n",
    "        return\n",
    "    features = create_BioSound_features(myBioSound)\n",
    "    return features"
   ]
  },
  {
   "cell_type": "code",
   "execution_count": 84,
   "metadata": {
    "ExecuteTime": {
     "end_time": "2020-03-02T00:10:22.047903Z",
     "start_time": "2020-03-02T00:10:22.023683Z"
    }
   },
   "outputs": [],
   "source": [
    "import IPython.display as ipd"
   ]
  },
  {
   "cell_type": "code",
   "execution_count": 85,
   "metadata": {
    "ExecuteTime": {
     "end_time": "2020-03-02T00:10:22.204799Z",
     "start_time": "2020-03-02T00:10:22.172080Z"
    }
   },
   "outputs": [],
   "source": [
    "syllable_df = syllable_df[syllable_df.indv == \"or60yw70\"]"
   ]
  },
  {
   "cell_type": "code",
   "execution_count": 91,
   "metadata": {
    "ExecuteTime": {
     "end_time": "2020-03-02T00:17:01.604573Z",
     "start_time": "2020-03-02T00:15:52.223226Z"
    },
    "scrolled": true
   },
   "outputs": [
    {
     "data": {
      "application/vnd.jupyter.widget-view+json": {
       "model_id": "81ec49f3d3e4494ab8f3203d23ca446f",
       "version_major": 2,
       "version_minor": 0
      },
      "text/plain": [
       "HBox(children=(IntProgress(value=0, max=35799), HTML(value='')))"
      ]
     },
     "metadata": {},
     "output_type": "display_data"
    },
    {
     "name": "stderr",
     "output_type": "stream",
     "text": [
      "[Parallel(n_jobs=-1)]: Using backend LokyBackend with 32 concurrent workers.\n",
      "[Parallel(n_jobs=-1)]: Done   2 out of   5 | elapsed:   42.3s remaining:  1.1min\n",
      "[Parallel(n_jobs=-1)]: Done   3 out of   5 | elapsed:   47.3s remaining:   31.6s\n",
      "[Parallel(n_jobs=-1)]: Done   5 out of   5 | elapsed:  1.2min remaining:    0.0s\n",
      "[Parallel(n_jobs=-1)]: Done   5 out of   5 | elapsed:  1.2min finished\n"
     ]
    }
   ],
   "source": [
    "with Parallel(n_jobs=-1, verbose=10) as parallel:\n",
    "    biosound_dfs = parallel(\n",
    "        delayed(get_BioSound_features)(\n",
    "            row.audio, row.rate\n",
    "        )\n",
    "        for idx, row in tqdm(syllable_df.iterrows(), total = len(syllable_df))\n",
    "    )\n",
    "mask = [i is not None for i in biosound_dfs]\n",
    "biosound_df = pd.concat([i for i in biosound_dfs if i is not None], axis=0)"
   ]
  },
  {
   "cell_type": "code",
   "execution_count": 101,
   "metadata": {
    "ExecuteTime": {
     "end_time": "2020-03-02T00:43:33.551232Z",
     "start_time": "2020-03-02T00:43:33.505877Z"
    }
   },
   "outputs": [
    {
     "data": {
      "text/html": [
       "<div>\n",
       "<style scoped>\n",
       "    .dataframe tbody tr th:only-of-type {\n",
       "        vertical-align: middle;\n",
       "    }\n",
       "\n",
       "    .dataframe tbody tr th {\n",
       "        vertical-align: top;\n",
       "    }\n",
       "\n",
       "    .dataframe thead th {\n",
       "        text-align: right;\n",
       "    }\n",
       "</style>\n",
       "<table border=\"1\" class=\"dataframe\">\n",
       "  <thead>\n",
       "    <tr style=\"text-align: right;\">\n",
       "      <th></th>\n",
       "      <th>fund</th>\n",
       "      <th>cvfund</th>\n",
       "      <th>maxfund</th>\n",
       "      <th>minfund</th>\n",
       "      <th>F1</th>\n",
       "      <th>F2</th>\n",
       "      <th>F3</th>\n",
       "      <th>sal</th>\n",
       "      <th>rms</th>\n",
       "      <th>maxAmp</th>\n",
       "      <th>...</th>\n",
       "      <th>kurtS</th>\n",
       "      <th>entS</th>\n",
       "      <th>q1</th>\n",
       "      <th>q2</th>\n",
       "      <th>q3</th>\n",
       "      <th>meanT</th>\n",
       "      <th>stdT</th>\n",
       "      <th>skewT</th>\n",
       "      <th>kurtT</th>\n",
       "      <th>entT</th>\n",
       "    </tr>\n",
       "  </thead>\n",
       "  <tbody>\n",
       "    <tr>\n",
       "      <th>0</th>\n",
       "      <td>251.341057</td>\n",
       "      <td>0.004556</td>\n",
       "      <td>252.825770</td>\n",
       "      <td>249.743914</td>\n",
       "      <td>1199.450287</td>\n",
       "      <td>3253.195245</td>\n",
       "      <td>5133.527157</td>\n",
       "      <td>0.483065</td>\n",
       "      <td>0.363939</td>\n",
       "      <td>0.302618</td>\n",
       "      <td>...</td>\n",
       "      <td>24.953777</td>\n",
       "      <td>0.645038</td>\n",
       "      <td>812.50</td>\n",
       "      <td>1000.0</td>\n",
       "      <td>1875.00</td>\n",
       "      <td>0.024190</td>\n",
       "      <td>0.013786</td>\n",
       "      <td>-0.049487</td>\n",
       "      <td>1.854987</td>\n",
       "      <td>0.998995</td>\n",
       "    </tr>\n",
       "    <tr>\n",
       "      <th>0</th>\n",
       "      <td>279.278827</td>\n",
       "      <td>0.225488</td>\n",
       "      <td>842.100755</td>\n",
       "      <td>267.854279</td>\n",
       "      <td>1076.802190</td>\n",
       "      <td>3184.398505</td>\n",
       "      <td>5128.929286</td>\n",
       "      <td>0.596480</td>\n",
       "      <td>0.434231</td>\n",
       "      <td>0.421003</td>\n",
       "      <td>...</td>\n",
       "      <td>47.433879</td>\n",
       "      <td>0.554666</td>\n",
       "      <td>843.75</td>\n",
       "      <td>875.0</td>\n",
       "      <td>1218.75</td>\n",
       "      <td>0.036630</td>\n",
       "      <td>0.018131</td>\n",
       "      <td>-0.172275</td>\n",
       "      <td>2.007507</td>\n",
       "      <td>0.990769</td>\n",
       "    </tr>\n",
       "    <tr>\n",
       "      <th>0</th>\n",
       "      <td>255.274148</td>\n",
       "      <td>0.009471</td>\n",
       "      <td>258.871534</td>\n",
       "      <td>251.451058</td>\n",
       "      <td>1198.278145</td>\n",
       "      <td>3081.777869</td>\n",
       "      <td>4872.988213</td>\n",
       "      <td>0.515434</td>\n",
       "      <td>0.421931</td>\n",
       "      <td>0.400963</td>\n",
       "      <td>...</td>\n",
       "      <td>45.532051</td>\n",
       "      <td>0.599862</td>\n",
       "      <td>812.50</td>\n",
       "      <td>1062.5</td>\n",
       "      <td>1656.25</td>\n",
       "      <td>0.039321</td>\n",
       "      <td>0.019786</td>\n",
       "      <td>-0.186681</td>\n",
       "      <td>1.994573</td>\n",
       "      <td>0.992938</td>\n",
       "    </tr>\n",
       "  </tbody>\n",
       "</table>\n",
       "<p>3 rows × 23 columns</p>\n",
       "</div>"
      ],
      "text/plain": [
       "         fund    cvfund     maxfund     minfund           F1           F2  \\\n",
       "0  251.341057  0.004556  252.825770  249.743914  1199.450287  3253.195245   \n",
       "0  279.278827  0.225488  842.100755  267.854279  1076.802190  3184.398505   \n",
       "0  255.274148  0.009471  258.871534  251.451058  1198.278145  3081.777869   \n",
       "\n",
       "            F3       sal       rms    maxAmp  ...      kurtS      entS  \\\n",
       "0  5133.527157  0.483065  0.363939  0.302618  ...  24.953777  0.645038   \n",
       "0  5128.929286  0.596480  0.434231  0.421003  ...  47.433879  0.554666   \n",
       "0  4872.988213  0.515434  0.421931  0.400963  ...  45.532051  0.599862   \n",
       "\n",
       "       q1      q2       q3     meanT      stdT     skewT     kurtT      entT  \n",
       "0  812.50  1000.0  1875.00  0.024190  0.013786 -0.049487  1.854987  0.998995  \n",
       "0  843.75   875.0  1218.75  0.036630  0.018131 -0.172275  2.007507  0.990769  \n",
       "0  812.50  1062.5  1656.25  0.039321  0.019786 -0.186681  1.994573  0.992938  \n",
       "\n",
       "[3 rows x 23 columns]"
      ]
     },
     "execution_count": 101,
     "metadata": {},
     "output_type": "execute_result"
    }
   ],
   "source": [
    "biosound_df[:3]"
   ]
  },
  {
   "cell_type": "code",
   "execution_count": 100,
   "metadata": {
    "ExecuteTime": {
     "end_time": "2020-03-02T00:43:13.869451Z",
     "start_time": "2020-03-02T00:43:13.436398Z"
    }
   },
   "outputs": [
    {
     "data": {
      "text/html": [
       "<div>\n",
       "<style scoped>\n",
       "    .dataframe tbody tr th:only-of-type {\n",
       "        vertical-align: middle;\n",
       "    }\n",
       "\n",
       "    .dataframe tbody tr th {\n",
       "        vertical-align: top;\n",
       "    }\n",
       "\n",
       "    .dataframe thead th {\n",
       "        text-align: right;\n",
       "    }\n",
       "</style>\n",
       "<table border=\"1\" class=\"dataframe\">\n",
       "  <thead>\n",
       "    <tr style=\"text-align: right;\">\n",
       "      <th></th>\n",
       "      <th>start_time</th>\n",
       "      <th>end_time</th>\n",
       "      <th>labels</th>\n",
       "      <th>indv</th>\n",
       "      <th>indvi</th>\n",
       "      <th>key</th>\n",
       "      <th>audio</th>\n",
       "      <th>rate</th>\n",
       "      <th>spectrogram</th>\n",
       "      <th>syll_len</th>\n",
       "      <th>...</th>\n",
       "      <th>kurtS</th>\n",
       "      <th>entS</th>\n",
       "      <th>q1</th>\n",
       "      <th>q2</th>\n",
       "      <th>q3</th>\n",
       "      <th>meanT</th>\n",
       "      <th>stdT</th>\n",
       "      <th>skewT</th>\n",
       "      <th>kurtT</th>\n",
       "      <th>entT</th>\n",
       "    </tr>\n",
       "  </thead>\n",
       "  <tbody>\n",
       "    <tr>\n",
       "      <th>0</th>\n",
       "      <td>0.274094</td>\n",
       "      <td>0.323</td>\n",
       "      <td>i</td>\n",
       "      <td>or60yw70</td>\n",
       "      <td>0</td>\n",
       "      <td>or60yw70_280912_1424.1270</td>\n",
       "      <td>[0.10080245, 0.13707133, -0.070215575, 0.07883...</td>\n",
       "      <td>32000</td>\n",
       "      <td>[[0, 0, 0, 0, 42, 62, 23, 98, 111, 62, 97, 63,...</td>\n",
       "      <td>0.048906</td>\n",
       "      <td>...</td>\n",
       "      <td>24.953777</td>\n",
       "      <td>0.645038</td>\n",
       "      <td>812.50</td>\n",
       "      <td>1000.00</td>\n",
       "      <td>1875.00</td>\n",
       "      <td>0.024190</td>\n",
       "      <td>0.013786</td>\n",
       "      <td>-0.049487</td>\n",
       "      <td>1.854987</td>\n",
       "      <td>0.998995</td>\n",
       "    </tr>\n",
       "    <tr>\n",
       "      <th>0</th>\n",
       "      <td>0.274094</td>\n",
       "      <td>0.323</td>\n",
       "      <td>i</td>\n",
       "      <td>or60yw70</td>\n",
       "      <td>0</td>\n",
       "      <td>or60yw70_280912_1424.1270</td>\n",
       "      <td>[0.10080245, 0.13707133, -0.070215575, 0.07883...</td>\n",
       "      <td>32000</td>\n",
       "      <td>[[0, 0, 0, 0, 42, 62, 23, 98, 111, 62, 97, 63,...</td>\n",
       "      <td>0.048906</td>\n",
       "      <td>...</td>\n",
       "      <td>47.433879</td>\n",
       "      <td>0.554666</td>\n",
       "      <td>843.75</td>\n",
       "      <td>875.00</td>\n",
       "      <td>1218.75</td>\n",
       "      <td>0.036630</td>\n",
       "      <td>0.018131</td>\n",
       "      <td>-0.172275</td>\n",
       "      <td>2.007507</td>\n",
       "      <td>0.990769</td>\n",
       "    </tr>\n",
       "    <tr>\n",
       "      <th>0</th>\n",
       "      <td>0.274094</td>\n",
       "      <td>0.323</td>\n",
       "      <td>i</td>\n",
       "      <td>or60yw70</td>\n",
       "      <td>0</td>\n",
       "      <td>or60yw70_280912_1424.1270</td>\n",
       "      <td>[0.10080245, 0.13707133, -0.070215575, 0.07883...</td>\n",
       "      <td>32000</td>\n",
       "      <td>[[0, 0, 0, 0, 42, 62, 23, 98, 111, 62, 97, 63,...</td>\n",
       "      <td>0.048906</td>\n",
       "      <td>...</td>\n",
       "      <td>45.532051</td>\n",
       "      <td>0.599862</td>\n",
       "      <td>812.50</td>\n",
       "      <td>1062.50</td>\n",
       "      <td>1656.25</td>\n",
       "      <td>0.039321</td>\n",
       "      <td>0.019786</td>\n",
       "      <td>-0.186681</td>\n",
       "      <td>1.994573</td>\n",
       "      <td>0.992938</td>\n",
       "    </tr>\n",
       "    <tr>\n",
       "      <th>0</th>\n",
       "      <td>0.274094</td>\n",
       "      <td>0.323</td>\n",
       "      <td>i</td>\n",
       "      <td>or60yw70</td>\n",
       "      <td>0</td>\n",
       "      <td>or60yw70_280912_1424.1270</td>\n",
       "      <td>[0.10080245, 0.13707133, -0.070215575, 0.07883...</td>\n",
       "      <td>32000</td>\n",
       "      <td>[[0, 0, 0, 0, 42, 62, 23, 98, 111, 62, 97, 63,...</td>\n",
       "      <td>0.048906</td>\n",
       "      <td>...</td>\n",
       "      <td>54.232954</td>\n",
       "      <td>0.556753</td>\n",
       "      <td>843.75</td>\n",
       "      <td>1031.25</td>\n",
       "      <td>1593.75</td>\n",
       "      <td>0.039262</td>\n",
       "      <td>0.020534</td>\n",
       "      <td>-0.110463</td>\n",
       "      <td>1.974943</td>\n",
       "      <td>0.995636</td>\n",
       "    </tr>\n",
       "    <tr>\n",
       "      <th>0</th>\n",
       "      <td>0.274094</td>\n",
       "      <td>0.323</td>\n",
       "      <td>i</td>\n",
       "      <td>or60yw70</td>\n",
       "      <td>0</td>\n",
       "      <td>or60yw70_280912_1424.1270</td>\n",
       "      <td>[0.10080245, 0.13707133, -0.070215575, 0.07883...</td>\n",
       "      <td>32000</td>\n",
       "      <td>[[0, 0, 0, 0, 42, 62, 23, 98, 111, 62, 97, 63,...</td>\n",
       "      <td>0.048906</td>\n",
       "      <td>...</td>\n",
       "      <td>43.883344</td>\n",
       "      <td>0.552206</td>\n",
       "      <td>875.00</td>\n",
       "      <td>1062.50</td>\n",
       "      <td>1750.00</td>\n",
       "      <td>0.036028</td>\n",
       "      <td>0.018048</td>\n",
       "      <td>-0.107581</td>\n",
       "      <td>1.989301</td>\n",
       "      <td>0.991166</td>\n",
       "    </tr>\n",
       "  </tbody>\n",
       "</table>\n",
       "<p>5 rows × 57 columns</p>\n",
       "</div>"
      ],
      "text/plain": [
       "   start_time  end_time labels      indv  indvi                        key  \\\n",
       "0    0.274094     0.323      i  or60yw70      0  or60yw70_280912_1424.1270   \n",
       "0    0.274094     0.323      i  or60yw70      0  or60yw70_280912_1424.1270   \n",
       "0    0.274094     0.323      i  or60yw70      0  or60yw70_280912_1424.1270   \n",
       "0    0.274094     0.323      i  or60yw70      0  or60yw70_280912_1424.1270   \n",
       "0    0.274094     0.323      i  or60yw70      0  or60yw70_280912_1424.1270   \n",
       "\n",
       "                                               audio   rate  \\\n",
       "0  [0.10080245, 0.13707133, -0.070215575, 0.07883...  32000   \n",
       "0  [0.10080245, 0.13707133, -0.070215575, 0.07883...  32000   \n",
       "0  [0.10080245, 0.13707133, -0.070215575, 0.07883...  32000   \n",
       "0  [0.10080245, 0.13707133, -0.070215575, 0.07883...  32000   \n",
       "0  [0.10080245, 0.13707133, -0.070215575, 0.07883...  32000   \n",
       "\n",
       "                                         spectrogram  syll_len  ...  \\\n",
       "0  [[0, 0, 0, 0, 42, 62, 23, 98, 111, 62, 97, 63,...  0.048906  ...   \n",
       "0  [[0, 0, 0, 0, 42, 62, 23, 98, 111, 62, 97, 63,...  0.048906  ...   \n",
       "0  [[0, 0, 0, 0, 42, 62, 23, 98, 111, 62, 97, 63,...  0.048906  ...   \n",
       "0  [[0, 0, 0, 0, 42, 62, 23, 98, 111, 62, 97, 63,...  0.048906  ...   \n",
       "0  [[0, 0, 0, 0, 42, 62, 23, 98, 111, 62, 97, 63,...  0.048906  ...   \n",
       "\n",
       "       kurtS      entS      q1       q2       q3     meanT      stdT  \\\n",
       "0  24.953777  0.645038  812.50  1000.00  1875.00  0.024190  0.013786   \n",
       "0  47.433879  0.554666  843.75   875.00  1218.75  0.036630  0.018131   \n",
       "0  45.532051  0.599862  812.50  1062.50  1656.25  0.039321  0.019786   \n",
       "0  54.232954  0.556753  843.75  1031.25  1593.75  0.039262  0.020534   \n",
       "0  43.883344  0.552206  875.00  1062.50  1750.00  0.036028  0.018048   \n",
       "\n",
       "      skewT     kurtT      entT  \n",
       "0 -0.049487  1.854987  0.998995  \n",
       "0 -0.172275  2.007507  0.990769  \n",
       "0 -0.186681  1.994573  0.992938  \n",
       "0 -0.110463  1.974943  0.995636  \n",
       "0 -0.107581  1.989301  0.991166  \n",
       "\n",
       "[5 rows x 57 columns]"
      ]
     },
     "execution_count": 100,
     "metadata": {},
     "output_type": "execute_result"
    }
   ],
   "source": [
    "syllable_df = pd.concat([syllable_df[mask], biosound_df], axis=1)"
   ]
  },
  {
   "cell_type": "code",
   "execution_count": null,
   "metadata": {
    "ExecuteTime": {
     "end_time": "2020-02-29T02:53:42.588933Z",
     "start_time": "2020-02-29T02:50:53.463Z"
    }
   },
   "outputs": [],
   "source": [
    "#ipd.Audio(data=row.audio, rate=row.rate)"
   ]
  },
  {
   "cell_type": "code",
   "execution_count": null,
   "metadata": {
    "ExecuteTime": {
     "end_time": "2020-02-29T02:53:42.589579Z",
     "start_time": "2020-02-29T02:50:53.734Z"
    }
   },
   "outputs": [],
   "source": [
    "save_loc = DATA_DIR / 'syllable_dfs' / DATASET_ID / 'bf-features.pickle'\n",
    "ensure_dir(save_loc)\n",
    "syllable_df.to_pickle(save_loc)"
   ]
  },
  {
   "cell_type": "code",
   "execution_count": 75,
   "metadata": {
    "ExecuteTime": {
     "end_time": "2020-03-02T00:09:14.195722Z",
     "start_time": "2020-03-02T00:08:05.916116Z"
    }
   },
   "outputs": [
    {
     "data": {
      "application/vnd.jupyter.widget-view+json": {
       "model_id": "dba14bde7575470b9f6a63bb830ed3f0",
       "version_major": 2,
       "version_minor": 0
      },
      "text/plain": [
       "HBox(children=(IntProgress(value=0, max=35799), HTML(value='')))"
      ]
     },
     "metadata": {},
     "output_type": "display_data"
    },
    {
     "name": "stderr",
     "output_type": "stream",
     "text": [
      "/mnt/cube/tsainbur/conda_envs/tpy3/lib/python3.6/site-packages/scipy/signal/signaltools.py:2230: FutureWarning: Using a non-tuple sequence for multidimensional indexing is deprecated; use `arr[tuple(seq)]` instead of `arr[seq]`. In the future this will be interpreted as an array index, `arr[np.array(seq)]`, which will result either in an error or a different result.\n",
      "  Y[sl] += X[sl]  # add the component of X at N/2\n",
      "/mnt/cube/tsainbur/conda_envs/tpy3/lib/python3.6/site-packages/scipy/optimize/minpack.py:436: RuntimeWarning: Number of calls to function has reached maxfev = 2200.\n",
      "  warnings.warn(errors[info][0], RuntimeWarning)\n"
     ]
    }
   ],
   "source": [
    "\"\"\"for idx, row in tqdm(syllable_df[1:].iterrows(), total = len(syllable_df)):\n",
    "    audio = row.audio\n",
    "    rate = row.rate\n",
    "    audio = np.pad(audio, 1050) if len(audio) < 1050 else audio\n",
    "    myBioSound = create_Biosound(audio, rate)\n",
    "    features = create_BioSound_features(myBioSound)\n",
    "    break\"\"\""
   ]
  },
  {
   "cell_type": "code",
   "execution_count": 77,
   "metadata": {
    "ExecuteTime": {
     "end_time": "2020-03-02T00:09:22.289497Z",
     "start_time": "2020-03-02T00:09:22.263325Z"
    }
   },
   "outputs": [],
   "source": [
    "features"
   ]
  },
  {
   "cell_type": "code",
   "execution_count": 25,
   "metadata": {
    "ExecuteTime": {
     "end_time": "2020-02-29T02:35:56.518696Z",
     "start_time": "2020-02-29T02:34:44.907573Z"
    }
   },
   "outputs": [
    {
     "data": {
      "application/vnd.jupyter.widget-view+json": {
       "model_id": "e996fa13e8b84ea5bedb72e471167fad",
       "version_major": 2,
       "version_minor": 0
      },
      "text/plain": [
       "HBox(children=(IntProgress(value=0, max=35799), HTML(value='')))"
      ]
     },
     "metadata": {},
     "output_type": "display_data"
    },
    {
     "ename": "TypeError",
     "evalue": "only size-1 arrays can be converted to Python scalars",
     "output_type": "error",
     "traceback": [
      "\u001b[0;31m---------------------------------------------------------------------------\u001b[0m",
      "\u001b[0;31mTypeError\u001b[0m                                 Traceback (most recent call last)",
      "\u001b[0;32m<ipython-input-25-59c1788cb813>\u001b[0m in \u001b[0;36m<module>\u001b[0;34m\u001b[0m\n\u001b[1;32m      4\u001b[0m     \u001b[0maudio\u001b[0m \u001b[0;34m=\u001b[0m \u001b[0mnp\u001b[0m\u001b[0;34m.\u001b[0m\u001b[0mpad\u001b[0m\u001b[0;34m(\u001b[0m\u001b[0maudio\u001b[0m\u001b[0;34m,\u001b[0m \u001b[0;36m1050\u001b[0m\u001b[0;34m)\u001b[0m \u001b[0;32mif\u001b[0m \u001b[0mlen\u001b[0m\u001b[0;34m(\u001b[0m\u001b[0maudio\u001b[0m\u001b[0;34m)\u001b[0m \u001b[0;34m<\u001b[0m \u001b[0;36m1050\u001b[0m \u001b[0;32melse\u001b[0m \u001b[0maudio\u001b[0m\u001b[0;34m\u001b[0m\u001b[0;34m\u001b[0m\u001b[0m\n\u001b[1;32m      5\u001b[0m     \u001b[0mmyBioSound\u001b[0m \u001b[0;34m=\u001b[0m \u001b[0mcreate_Biosound\u001b[0m\u001b[0;34m(\u001b[0m\u001b[0maudio\u001b[0m\u001b[0;34m,\u001b[0m \u001b[0mrate\u001b[0m\u001b[0;34m)\u001b[0m\u001b[0;34m\u001b[0m\u001b[0;34m\u001b[0m\u001b[0m\n\u001b[0;32m----> 6\u001b[0;31m     \u001b[0mfeatures\u001b[0m \u001b[0;34m=\u001b[0m \u001b[0mcreate_BioSound_features\u001b[0m\u001b[0;34m(\u001b[0m\u001b[0mmyBioSound\u001b[0m\u001b[0;34m)\u001b[0m\u001b[0;34m\u001b[0m\u001b[0;34m\u001b[0m\u001b[0m\n\u001b[0m",
      "\u001b[0;32m<ipython-input-14-cf632d06e5c8>\u001b[0m in \u001b[0;36mcreate_BioSound_features\u001b[0;34m(myBioSound)\u001b[0m\n\u001b[1;32m      6\u001b[0m \u001b[0;34m\u001b[0m\u001b[0m\n\u001b[1;32m      7\u001b[0m     \u001b[0;32mif\u001b[0m \u001b[0mmyBioSound\u001b[0m\u001b[0;34m.\u001b[0m\u001b[0mfund\u001b[0m \u001b[0;32mis\u001b[0m \u001b[0;32mnot\u001b[0m \u001b[0;32mNone\u001b[0m\u001b[0;34m:\u001b[0m\u001b[0;34m\u001b[0m\u001b[0;34m\u001b[0m\u001b[0m\n\u001b[0;32m----> 8\u001b[0;31m         \u001b[0mfund\u001b[0m \u001b[0;34m=\u001b[0m \u001b[0mnp\u001b[0m\u001b[0;34m.\u001b[0m\u001b[0mfloat\u001b[0m\u001b[0;34m(\u001b[0m\u001b[0mmyBioSound\u001b[0m\u001b[0;34m.\u001b[0m\u001b[0mfund\u001b[0m\u001b[0;34m)\u001b[0m\u001b[0;34m\u001b[0m\u001b[0;34m\u001b[0m\u001b[0m\n\u001b[0m\u001b[1;32m      9\u001b[0m         \u001b[0mcvfund\u001b[0m \u001b[0;34m=\u001b[0m \u001b[0mnp\u001b[0m\u001b[0;34m.\u001b[0m\u001b[0mfloat\u001b[0m\u001b[0;34m(\u001b[0m\u001b[0mmyBioSound\u001b[0m\u001b[0;34m.\u001b[0m\u001b[0mcvfund\u001b[0m\u001b[0;34m)\u001b[0m\u001b[0;34m\u001b[0m\u001b[0;34m\u001b[0m\u001b[0m\n\u001b[1;32m     10\u001b[0m         \u001b[0mmaxfund\u001b[0m \u001b[0;34m=\u001b[0m \u001b[0mnp\u001b[0m\u001b[0;34m.\u001b[0m\u001b[0mfloat\u001b[0m\u001b[0;34m(\u001b[0m\u001b[0mmyBioSound\u001b[0m\u001b[0;34m.\u001b[0m\u001b[0mmaxfund\u001b[0m\u001b[0;34m)\u001b[0m\u001b[0;34m\u001b[0m\u001b[0;34m\u001b[0m\u001b[0m\n",
      "\u001b[0;31mTypeError\u001b[0m: only size-1 arrays can be converted to Python scalars"
     ]
    }
   ],
   "source": [
    "\"\"\"\n",
    "    \n",
    "myBioSound = BioSound(soundWave=audio, fs=rate)\n",
    "# Calculate the spectrogram and the rms\n",
    "myBioSound.spectroCalc(spec_sample_rate=10000, freq_spacing = 100, min_freq=0, max_freq=10000)\n",
    "myBioSound.rms = myBioSound.sound.std() \n",
    "\n",
    "# Calculate amplitude enveloppe\n",
    "myBioSound.ampenv(cutoff_freq = 20, amp_sample_rate = 500)\n",
    "\n",
    "# Calculate the power spectrum\n",
    "myBioSound.spectrum(f_high=15000)\n",
    "\n",
    "# Calculate fundamental and related values.  These are the default values.\n",
    "# For the estimation of the fundamental, four methods are available: \n",
    "# 'AC' - Peak of the auto-correlation function\n",
    "# 'ACA' - Peak of envelope of auto-correlation function \n",
    "# 'Cep' - First peak in cepstrum \n",
    "# 'Stack' - Fitting of harmonic stacks (default - works well for zebra finches)\n",
    "\n",
    "myBioSound.fundest(maxFund = 5000, minFund = 100, lowFc = 200, highFc = 6000, \n",
    "                   minSaliency = 0.5, debugFig = 0, \n",
    "                   minFormantFreq = 500, maxFormantBW = 500, windowFormant = 0.025,\n",
    "                   method='Stack')\n",
    "\n",
    "# Calculate the MPS\n",
    "myBioSound.mpsCalc(window=0.025, Norm = True)\n",
    "myBioSound.plot(DBNOISE=50, f_low=250, f_high=10000)  \n",
    "myBioSound.fund\n",
    "\"\"\"\"\"\""
   ]
  },
  {
   "cell_type": "code",
   "execution_count": null,
   "metadata": {},
   "outputs": [],
   "source": []
  }
 ],
 "metadata": {
  "kernelspec": {
   "display_name": "Python 3",
   "language": "python",
   "name": "python3"
  },
  "language_info": {
   "codemirror_mode": {
    "name": "ipython",
    "version": 3
   },
   "file_extension": ".py",
   "mimetype": "text/x-python",
   "name": "python",
   "nbconvert_exporter": "python",
   "pygments_lexer": "ipython3",
   "version": "3.6.7"
  }
 },
 "nbformat": 4,
 "nbformat_minor": 2
}
