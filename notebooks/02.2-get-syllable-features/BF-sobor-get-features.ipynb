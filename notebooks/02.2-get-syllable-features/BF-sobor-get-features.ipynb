{
 "cells": [
  {
   "cell_type": "code",
   "execution_count": 1,
   "metadata": {
    "ExecuteTime": {
     "end_time": "2020-03-02T00:43:51.197299Z",
     "start_time": "2020-03-02T00:43:51.186076Z"
    }
   },
   "outputs": [],
   "source": [
    "%load_ext autoreload\n",
    "%autoreload 2"
   ]
  },
  {
   "cell_type": "code",
   "execution_count": 2,
   "metadata": {
    "ExecuteTime": {
     "end_time": "2020-03-02T00:43:53.883078Z",
     "start_time": "2020-03-02T00:43:51.199125Z"
    }
   },
   "outputs": [
    {
     "name": "stderr",
     "output_type": "stream",
     "text": [
      "/mnt/cube/tsainbur/conda_envs/tpy3/lib/python3.6/site-packages/tqdm/autonotebook/__init__.py:14: TqdmExperimentalWarning: Using `tqdm.autonotebook.tqdm` in notebook mode. Use `tqdm.tqdm` instead to force console mode (e.g. in jupyter console)\n",
      "  \" (e.g. in jupyter console)\", TqdmExperimentalWarning)\n",
      "/mnt/cube/tsainbur/conda_envs/tpy3/lib/python3.6/site-packages/sklearn/externals/joblib/__init__.py:15: FutureWarning: sklearn.externals.joblib is deprecated in 0.21 and will be removed in 0.23. Please import this functionality directly from joblib, which can be installed with: pip install joblib. If this warning is raised when loading pickled models, you may need to re-serialize those models with scikit-learn 0.21+.\n",
      "  warnings.warn(msg, category=FutureWarning)\n"
     ]
    }
   ],
   "source": [
    "import numpy as np\n",
    "import matplotlib.pyplot as plt\n",
    "%matplotlib inline\n",
    "from tqdm.autonotebook import tqdm\n",
    "from joblib import Parallel, delayed\n",
    "import umap\n",
    "import pandas as pd"
   ]
  },
  {
   "cell_type": "code",
   "execution_count": 3,
   "metadata": {
    "ExecuteTime": {
     "end_time": "2020-03-02T00:43:54.364211Z",
     "start_time": "2020-03-02T00:43:53.884339Z"
    }
   },
   "outputs": [],
   "source": [
    "from avgn.utils.paths import DATA_DIR, most_recent_subdirectory, ensure_dir\n",
    "from avgn.signalprocessing.create_spectrogram_dataset import flatten_spectrograms\n",
    "from avgn.visualization.spectrogram import draw_spec_set\n",
    "from avgn.visualization.quickplots import draw_projection_plots"
   ]
  },
  {
   "cell_type": "code",
   "execution_count": 4,
   "metadata": {
    "ExecuteTime": {
     "end_time": "2020-03-02T00:43:54.749914Z",
     "start_time": "2020-03-02T00:43:54.366021Z"
    }
   },
   "outputs": [],
   "source": [
    "from soundsig.sound import BioSound "
   ]
  },
  {
   "cell_type": "markdown",
   "metadata": {},
   "source": [
    "### Collect data"
   ]
  },
  {
   "cell_type": "code",
   "execution_count": 5,
   "metadata": {
    "ExecuteTime": {
     "end_time": "2020-03-02T00:43:54.776313Z",
     "start_time": "2020-03-02T00:43:54.751861Z"
    }
   },
   "outputs": [],
   "source": [
    "DATASET_ID = 'bengalese_finch_sober'"
   ]
  },
  {
   "cell_type": "code",
   "execution_count": 6,
   "metadata": {
    "ExecuteTime": {
     "end_time": "2020-03-02T00:43:54.799737Z",
     "start_time": "2020-03-02T00:43:54.777809Z"
    }
   },
   "outputs": [
    {
     "data": {
      "text/plain": [
       "PosixPath('/mnt/cube/tsainbur/Projects/github_repos/avgn_paper/data/syllable_dfs/bengalese_finch_sober/bf-audio.pickle')"
      ]
     },
     "execution_count": 6,
     "metadata": {},
     "output_type": "execute_result"
    }
   ],
   "source": [
    "df_loc =  DATA_DIR / 'syllable_dfs' / DATASET_ID / 'bf-audio.pickle'\n",
    "df_loc"
   ]
  },
  {
   "cell_type": "code",
   "execution_count": 7,
   "metadata": {
    "ExecuteTime": {
     "end_time": "2020-03-02T00:43:56.664821Z",
     "start_time": "2020-03-02T00:43:54.801082Z"
    }
   },
   "outputs": [],
   "source": [
    "syllable_df = pd.read_pickle(df_loc)"
   ]
  },
  {
   "cell_type": "code",
   "execution_count": 8,
   "metadata": {
    "ExecuteTime": {
     "end_time": "2020-03-02T00:43:56.702519Z",
     "start_time": "2020-03-02T00:43:56.666705Z"
    }
   },
   "outputs": [],
   "source": [
    "syllable_df[\"syll_len\"] = syllable_df.end_time - syllable_df.start_time"
   ]
  },
  {
   "cell_type": "code",
   "execution_count": 9,
   "metadata": {
    "ExecuteTime": {
     "end_time": "2020-03-02T00:43:56.730548Z",
     "start_time": "2020-03-02T00:43:56.704236Z"
    }
   },
   "outputs": [
    {
     "data": {
      "text/plain": [
       "215663"
      ]
     },
     "execution_count": 9,
     "metadata": {},
     "output_type": "execute_result"
    }
   ],
   "source": [
    "len(syllable_df)"
   ]
  },
  {
   "cell_type": "code",
   "execution_count": 10,
   "metadata": {
    "ExecuteTime": {
     "end_time": "2020-03-02T00:43:56.798919Z",
     "start_time": "2020-03-02T00:43:56.731872Z"
    }
   },
   "outputs": [
    {
     "data": {
      "text/html": [
       "<div>\n",
       "<style scoped>\n",
       "    .dataframe tbody tr th:only-of-type {\n",
       "        vertical-align: middle;\n",
       "    }\n",
       "\n",
       "    .dataframe tbody tr th {\n",
       "        vertical-align: top;\n",
       "    }\n",
       "\n",
       "    .dataframe thead th {\n",
       "        text-align: right;\n",
       "    }\n",
       "</style>\n",
       "<table border=\"1\" class=\"dataframe\">\n",
       "  <thead>\n",
       "    <tr style=\"text-align: right;\">\n",
       "      <th></th>\n",
       "      <th>start_time</th>\n",
       "      <th>end_time</th>\n",
       "      <th>labels</th>\n",
       "      <th>indv</th>\n",
       "      <th>indvi</th>\n",
       "      <th>key</th>\n",
       "      <th>audio</th>\n",
       "      <th>rate</th>\n",
       "      <th>spectrogram</th>\n",
       "      <th>syll_len</th>\n",
       "    </tr>\n",
       "  </thead>\n",
       "  <tbody>\n",
       "    <tr>\n",
       "      <th>0</th>\n",
       "      <td>1.058250</td>\n",
       "      <td>1.089219</td>\n",
       "      <td>i</td>\n",
       "      <td>gr41rd51</td>\n",
       "      <td>0</td>\n",
       "      <td>gr41rd51__3part_SYLc_th4191_belowhits_220612_1...</td>\n",
       "      <td>[0.12828393, 0.060129583, -0.21070328, 0.00274...</td>\n",
       "      <td>32000</td>\n",
       "      <td>[[5, 5, 5, 5, 3, 25, 26, 75, 105, 80, 47, 16, ...</td>\n",
       "      <td>0.030969</td>\n",
       "    </tr>\n",
       "    <tr>\n",
       "      <th>1</th>\n",
       "      <td>2.058187</td>\n",
       "      <td>2.117165</td>\n",
       "      <td>i</td>\n",
       "      <td>gr41rd51</td>\n",
       "      <td>0</td>\n",
       "      <td>gr41rd51__3part_SYLc_th4191_belowhits_220612_1...</td>\n",
       "      <td>[0.0013724383, 0.11671471, 0.033512227, 0.0607...</td>\n",
       "      <td>32000</td>\n",
       "      <td>[[4, 4, 4, 4, 16, 8, 6, 11, 7, 3, 3, 14, 51, 2...</td>\n",
       "      <td>0.058978</td>\n",
       "    </tr>\n",
       "    <tr>\n",
       "      <th>2</th>\n",
       "      <td>2.234500</td>\n",
       "      <td>2.285938</td>\n",
       "      <td>i</td>\n",
       "      <td>gr41rd51</td>\n",
       "      <td>0</td>\n",
       "      <td>gr41rd51__3part_SYLc_th4191_belowhits_220612_1...</td>\n",
       "      <td>[0.07955982, 0.05747984, 0.042854592, 0.059728...</td>\n",
       "      <td>32000</td>\n",
       "      <td>[[2, 2, 2, 3, 0, 26, 49, 12, 9, 2, 2, 93, 68, ...</td>\n",
       "      <td>0.051438</td>\n",
       "    </tr>\n",
       "  </tbody>\n",
       "</table>\n",
       "</div>"
      ],
      "text/plain": [
       "   start_time  end_time labels      indv  indvi  \\\n",
       "0    1.058250  1.089219      i  gr41rd51      0   \n",
       "1    2.058187  2.117165      i  gr41rd51      0   \n",
       "2    2.234500  2.285938      i  gr41rd51      0   \n",
       "\n",
       "                                                 key  \\\n",
       "0  gr41rd51__3part_SYLc_th4191_belowhits_220612_1...   \n",
       "1  gr41rd51__3part_SYLc_th4191_belowhits_220612_1...   \n",
       "2  gr41rd51__3part_SYLc_th4191_belowhits_220612_1...   \n",
       "\n",
       "                                               audio   rate  \\\n",
       "0  [0.12828393, 0.060129583, -0.21070328, 0.00274...  32000   \n",
       "1  [0.0013724383, 0.11671471, 0.033512227, 0.0607...  32000   \n",
       "2  [0.07955982, 0.05747984, 0.042854592, 0.059728...  32000   \n",
       "\n",
       "                                         spectrogram  syll_len  \n",
       "0  [[5, 5, 5, 5, 3, 25, 26, 75, 105, 80, 47, 16, ...  0.030969  \n",
       "1  [[4, 4, 4, 4, 16, 8, 6, 11, 7, 3, 3, 14, 51, 2...  0.058978  \n",
       "2  [[2, 2, 2, 3, 0, 26, 49, 12, 9, 2, 2, 93, 68, ...  0.051438  "
      ]
     },
     "execution_count": 10,
     "metadata": {},
     "output_type": "execute_result"
    }
   ],
   "source": [
    "syllable_df[:3]"
   ]
  },
  {
   "cell_type": "code",
   "execution_count": 11,
   "metadata": {
    "ExecuteTime": {
     "end_time": "2020-03-02T00:44:18.017872Z",
     "start_time": "2020-03-02T00:43:56.800416Z"
    }
   },
   "outputs": [
    {
     "data": {
      "application/vnd.jupyter.widget-view+json": {
       "model_id": "7fd08eb863eb4efa88e40ad3689fbf6e",
       "version_major": 2,
       "version_minor": 0
      },
      "text/plain": [
       "HBox(children=(IntProgress(value=0, max=215663), HTML(value='')))"
      ]
     },
     "metadata": {},
     "output_type": "display_data"
    },
    {
     "name": "stdout",
     "output_type": "stream",
     "text": [
      "\n"
     ]
    }
   ],
   "source": [
    "syllable_df['nsamp'] = [len(row.audio) for idx, row in tqdm(syllable_df.iterrows(), total=len(syllable_df))]"
   ]
  },
  {
   "cell_type": "code",
   "execution_count": 12,
   "metadata": {
    "ExecuteTime": {
     "end_time": "2020-03-02T00:44:18.545409Z",
     "start_time": "2020-03-02T00:44:18.020383Z"
    }
   },
   "outputs": [
    {
     "data": {
      "image/png": "[encoded data removed]",
      "text/plain": [
       "<Figure size 432x288 with 1 Axes>"
      ]
     },
     "metadata": {
      "needs_background": "light"
     },
     "output_type": "display_data"
    }
   ],
   "source": [
    "plt.hist(syllable_df['nsamp'].values, bins=50);"
   ]
  },
  {
   "cell_type": "code",
   "execution_count": 13,
   "metadata": {
    "ExecuteTime": {
     "end_time": "2020-03-02T00:44:18.578504Z",
     "start_time": "2020-03-02T00:44:18.547346Z"
    }
   },
   "outputs": [],
   "source": [
    "def create_Biosound(audio, rate):\n",
    "    myBioSound = BioSound(soundWave=audio, fs=rate)\n",
    "    # Calculate the spectrogram and the rms\n",
    "    myBioSound.spectroCalc(spec_sample_rate=10000, freq_spacing = 100, min_freq=0, max_freq=10000)\n",
    "    myBioSound.rms = myBioSound.sound.std() \n",
    "\n",
    "    # Calculate amplitude enveloppe\n",
    "    myBioSound.ampenv(cutoff_freq = 20, amp_sample_rate = 500)\n",
    "\n",
    "    # Calculate the power spectrum\n",
    "    myBioSound.spectrum(f_high=15000)\n",
    "\n",
    "    # Calculate fundamental and related values.  These are the default values.\n",
    "    # For the estimation of the fundamental, four methods are available: \n",
    "    # 'AC' - Peak of the auto-correlation function\n",
    "    # 'ACA' - Peak of envelope of auto-correlation function \n",
    "    # 'Cep' - First peak in cepstrum \n",
    "    # 'Stack' - Fitting of harmonic stacks (default - works well for zebra finches)\n",
    "\n",
    "    myBioSound.fundest(maxFund = 1500, minFund = 100, lowFc = 200, highFc = 6000, \n",
    "                       minSaliency = 0.5, debugFig = 0, \n",
    "                       minFormantFreq = 500, maxFormantBW = 500, windowFormant = 0.025,\n",
    "                       method='Stack')\n",
    "\n",
    "    # Calculate the MPS\n",
    "    myBioSound.mpsCalc(window=0.025, Norm = True)\n",
    "    #myBioSound.plot(DBNOISE=50, f_low=250, f_high=10000)  \n",
    "    \n",
    "    return myBioSound"
   ]
  },
  {
   "cell_type": "code",
   "execution_count": 14,
   "metadata": {
    "ExecuteTime": {
     "end_time": "2020-03-02T00:44:18.615212Z",
     "start_time": "2020-03-02T00:44:18.580312Z"
    }
   },
   "outputs": [],
   "source": [
    "def create_BioSound_features(myBioSound):\n",
    "\n",
    "    #try:\n",
    "    if (myBioSound.fund is not None) and (type(myBioSound.fund) is\n",
    "                                           np.float64):\n",
    "        fund = np.float(myBioSound.fund)\n",
    "        cvfund = np.float(myBioSound.cvfund)\n",
    "        maxfund = np.float(myBioSound.maxfund)\n",
    "        minfund = np.float(myBioSound.minfund)\n",
    "    else:\n",
    "        return\n",
    "\n",
    "    # Take the time average formants\n",
    "    meanF1 = np.mean(myBioSound.F1[~np.isnan(myBioSound.F1)])\n",
    "    meanF2 = np.mean(myBioSound.F2[~np.isnan(myBioSound.F2)])\n",
    "    meanF3 = np.mean(myBioSound.F3[~np.isnan(myBioSound.F3)])\n",
    "\n",
    "    features = pd.DataFrame({\n",
    "        \"fund\": [fund],\n",
    "        \"cvfund\": [cvfund],\n",
    "        \"maxfund\": [maxfund],\n",
    "        \"minfund\": [minfund],\n",
    "        \"F1\": [meanF1],\n",
    "        \"F2\": [meanF2],\n",
    "        \"F3\": [meanF3],\n",
    "        \"sal\": [np.float(myBioSound.meansal)],\n",
    "        \"rms\": [np.float(myBioSound.rms)],\n",
    "        \"maxAmp\": [np.float(myBioSound.maxAmp)],\n",
    "        \"meanS\": [np.float(myBioSound.meanspect)],\n",
    "        \"stdS\": [np.float(myBioSound.stdspect)],\n",
    "        \"skewS\": [np.float(myBioSound.skewspect)],\n",
    "        \"kurtS\": [np.float(myBioSound.kurtosisspect)],\n",
    "        \"entS\": [np.float(myBioSound.entropyspect)],\n",
    "        \"q1\": [np.float(myBioSound.q1)],\n",
    "        \"q2\": [np.float(myBioSound.q2)],\n",
    "        \"q3\": [np.float(myBioSound.q3)],\n",
    "        \"meanT\": [np.float(myBioSound.meantime)],\n",
    "        \"stdT\": [np.float(myBioSound.stdtime)],\n",
    "        \"skewT\": [np.float(myBioSound.skewtime)],\n",
    "        \"kurtT\": [np.float(myBioSound.kurtosistime)],\n",
    "        \"entT\": [np.float(myBioSound.entropytime)]\n",
    "    })\n",
    "    #except TypeError:\n",
    "    #    return \n",
    "    return features"
   ]
  },
  {
   "cell_type": "code",
   "execution_count": 15,
   "metadata": {
    "ExecuteTime": {
     "end_time": "2020-03-02T00:44:18.642516Z",
     "start_time": "2020-03-02T00:44:18.618684Z"
    }
   },
   "outputs": [],
   "source": [
    "def get_BioSound_features(audio, rate):\n",
    "    # pad if too short\n",
    "    audio = np.pad(audio, 1050) if len(audio) < 1050 else audio\n",
    "    myBioSound = create_Biosound(audio, rate)\n",
    "    if myBioSound is None:\n",
    "        return\n",
    "    features = create_BioSound_features(myBioSound)\n",
    "    return features"
   ]
  },
  {
   "cell_type": "code",
   "execution_count": 16,
   "metadata": {
    "ExecuteTime": {
     "end_time": "2020-03-02T00:44:18.667150Z",
     "start_time": "2020-03-02T00:44:18.644395Z"
    }
   },
   "outputs": [],
   "source": [
    "import IPython.display as ipd"
   ]
  },
  {
   "cell_type": "code",
   "execution_count": 17,
   "metadata": {
    "ExecuteTime": {
     "end_time": "2020-03-02T00:44:18.709599Z",
     "start_time": "2020-03-02T00:44:18.668887Z"
    }
   },
   "outputs": [],
   "source": [
    "syllable_df = syllable_df[syllable_df.indv == \"or60yw70\"]"
   ]
  },
  {
   "cell_type": "code",
   "execution_count": 18,
   "metadata": {
    "ExecuteTime": {
     "end_time": "2020-03-02T03:25:54.077880Z",
     "start_time": "2020-03-02T00:44:18.711971Z"
    },
    "scrolled": true
   },
   "outputs": [
    {
     "data": {
      "application/vnd.jupyter.widget-view+json": {
       "model_id": "6d40fe70ebab4cf3a36ef6f939996a33",
       "version_major": 2,
       "version_minor": 0
      },
      "text/plain": [
       "HBox(children=(IntProgress(value=0, max=35799), HTML(value='')))"
      ]
     },
     "metadata": {},
     "output_type": "display_data"
    },
    {
     "name": "stderr",
     "output_type": "stream",
     "text": [
      "[Parallel(n_jobs=-1)]: Using backend LokyBackend with 32 concurrent workers.\n",
      "[Parallel(n_jobs=-1)]: Done   8 tasks      | elapsed:   25.9s\n",
      "[Parallel(n_jobs=-1)]: Done  21 tasks      | elapsed:  1.0min\n",
      "[Parallel(n_jobs=-1)]: Done  34 tasks      | elapsed:  1.5min\n",
      "[Parallel(n_jobs=-1)]: Done  49 tasks      | elapsed:  1.9min\n",
      "[Parallel(n_jobs=-1)]: Done  64 tasks      | elapsed:  2.4min\n",
      "[Parallel(n_jobs=-1)]: Done  81 tasks      | elapsed:  3.3min\n",
      "[Parallel(n_jobs=-1)]: Done  98 tasks      | elapsed:  4.0min\n",
      "[Parallel(n_jobs=-1)]: Done 117 tasks      | elapsed:  4.6min\n",
      "[Parallel(n_jobs=-1)]: Done 136 tasks      | elapsed:  5.4min\n",
      "[Parallel(n_jobs=-1)]: Done 157 tasks      | elapsed:  6.4min\n",
      "[Parallel(n_jobs=-1)]: Done 178 tasks      | elapsed:  7.3min\n",
      "[Parallel(n_jobs=-1)]: Done 201 tasks      | elapsed:  8.2min\n",
      "[Parallel(n_jobs=-1)]: Done 224 tasks      | elapsed:  9.0min\n",
      "[Parallel(n_jobs=-1)]: Done 249 tasks      | elapsed:  9.7min\n",
      "[Parallel(n_jobs=-1)]: Done 274 tasks      | elapsed: 10.8min\n",
      "[Parallel(n_jobs=-1)]: Done 301 tasks      | elapsed: 12.2min\n",
      "[Parallel(n_jobs=-1)]: Done 328 tasks      | elapsed: 13.3min\n",
      "[Parallel(n_jobs=-1)]: Done 357 tasks      | elapsed: 14.5min\n",
      "[Parallel(n_jobs=-1)]: Done 386 tasks      | elapsed: 15.7min\n",
      "[Parallel(n_jobs=-1)]: Done 417 tasks      | elapsed: 17.0min\n",
      "[Parallel(n_jobs=-1)]: Done 448 tasks      | elapsed: 18.2min\n",
      "[Parallel(n_jobs=-1)]: Done 481 tasks      | elapsed: 19.5min\n",
      "[Parallel(n_jobs=-1)]: Done 514 tasks      | elapsed: 20.9min\n",
      "[Parallel(n_jobs=-1)]: Done 549 tasks      | elapsed: 22.4min\n",
      "[Parallel(n_jobs=-1)]: Done 584 tasks      | elapsed: 23.7min\n",
      "[Parallel(n_jobs=-1)]: Done 621 tasks      | elapsed: 25.4min\n",
      "[Parallel(n_jobs=-1)]: Done 658 tasks      | elapsed: 27.1min\n",
      "[Parallel(n_jobs=-1)]: Done 697 tasks      | elapsed: 28.4min\n",
      "[Parallel(n_jobs=-1)]: Done 736 tasks      | elapsed: 30.1min\n",
      "[Parallel(n_jobs=-1)]: Done 777 tasks      | elapsed: 31.8min\n",
      "[Parallel(n_jobs=-1)]: Done 818 tasks      | elapsed: 33.3min\n",
      "[Parallel(n_jobs=-1)]: Done 861 tasks      | elapsed: 35.4min\n",
      "[Parallel(n_jobs=-1)]: Done 904 tasks      | elapsed: 37.5min\n",
      "[Parallel(n_jobs=-1)]: Done 949 tasks      | elapsed: 39.4min\n",
      "[Parallel(n_jobs=-1)]: Done 994 tasks      | elapsed: 41.2min\n",
      "[Parallel(n_jobs=-1)]: Done 1041 tasks      | elapsed: 43.2min\n",
      "[Parallel(n_jobs=-1)]: Done 1088 tasks      | elapsed: 45.1min\n",
      "[Parallel(n_jobs=-1)]: Done 1137 tasks      | elapsed: 46.7min\n",
      "[Parallel(n_jobs=-1)]: Done 1186 tasks      | elapsed: 48.8min\n",
      "[Parallel(n_jobs=-1)]: Done 1237 tasks      | elapsed: 50.8min\n",
      "[Parallel(n_jobs=-1)]: Done 1288 tasks      | elapsed: 52.7min\n",
      "[Parallel(n_jobs=-1)]: Done 1341 tasks      | elapsed: 54.7min\n",
      "[Parallel(n_jobs=-1)]: Done 1394 tasks      | elapsed: 56.8min\n",
      "[Parallel(n_jobs=-1)]: Done 1449 tasks      | elapsed: 58.9min\n",
      "[Parallel(n_jobs=-1)]: Done 1504 tasks      | elapsed: 61.2min\n",
      "[Parallel(n_jobs=-1)]: Done 1561 tasks      | elapsed: 63.6min\n",
      "[Parallel(n_jobs=-1)]: Done 1618 tasks      | elapsed: 66.0min\n",
      "[Parallel(n_jobs=-1)]: Done 1677 tasks      | elapsed: 68.3min\n",
      "[Parallel(n_jobs=-1)]: Done 1736 tasks      | elapsed: 70.7min\n",
      "[Parallel(n_jobs=-1)]: Done 1797 tasks      | elapsed: 73.2min\n",
      "[Parallel(n_jobs=-1)]: Done 1858 tasks      | elapsed: 75.6min\n",
      "[Parallel(n_jobs=-1)]: Done 1921 tasks      | elapsed: 78.2min\n",
      "[Parallel(n_jobs=-1)]: Done 1984 tasks      | elapsed: 80.5min\n",
      "[Parallel(n_jobs=-1)]: Done 2049 tasks      | elapsed: 83.1min\n",
      "[Parallel(n_jobs=-1)]: Done 2114 tasks      | elapsed: 85.9min\n",
      "[Parallel(n_jobs=-1)]: Done 2181 tasks      | elapsed: 88.5min\n",
      "[Parallel(n_jobs=-1)]: Done 2248 tasks      | elapsed: 91.2min\n",
      "[Parallel(n_jobs=-1)]: Done 2317 tasks      | elapsed: 94.1min\n",
      "[Parallel(n_jobs=-1)]: Done 2386 tasks      | elapsed: 97.3min\n",
      "[Parallel(n_jobs=-1)]: Done 2457 tasks      | elapsed: 100.7min\n",
      "[Parallel(n_jobs=-1)]: Done 2528 tasks      | elapsed: 103.2min\n",
      "[Parallel(n_jobs=-1)]: Done 2601 tasks      | elapsed: 106.0min\n",
      "[Parallel(n_jobs=-1)]: Done 2674 tasks      | elapsed: 109.0min\n",
      "[Parallel(n_jobs=-1)]: Done 2749 tasks      | elapsed: 111.7min\n",
      "[Parallel(n_jobs=-1)]: Done 2824 tasks      | elapsed: 114.7min\n",
      "[Parallel(n_jobs=-1)]: Done 2901 tasks      | elapsed: 117.8min\n",
      "[Parallel(n_jobs=-1)]: Done 2978 tasks      | elapsed: 120.8min\n",
      "[Parallel(n_jobs=-1)]: Done 3057 tasks      | elapsed: 124.1min\n",
      "[Parallel(n_jobs=-1)]: Done 3136 tasks      | elapsed: 127.2min\n",
      "[Parallel(n_jobs=-1)]: Done 3217 tasks      | elapsed: 130.5min\n",
      "[Parallel(n_jobs=-1)]: Done 3298 tasks      | elapsed: 133.8min\n",
      "[Parallel(n_jobs=-1)]: Done 3381 tasks      | elapsed: 137.5min\n",
      "[Parallel(n_jobs=-1)]: Done 3464 tasks      | elapsed: 140.8min\n",
      "[Parallel(n_jobs=-1)]: Done 3549 tasks      | elapsed: 144.3min\n",
      "[Parallel(n_jobs=-1)]: Done 3634 tasks      | elapsed: 148.1min\n",
      "[Parallel(n_jobs=-1)]: Done 3721 tasks      | elapsed: 151.7min\n",
      "[Parallel(n_jobs=-1)]: Done 3808 tasks      | elapsed: 155.2min\n",
      "[Parallel(n_jobs=-1)]: Done 3897 tasks      | elapsed: 158.3min\n"
     ]
    },
    {
     "ename": "KeyboardInterrupt",
     "evalue": "",
     "output_type": "error",
     "traceback": [
      "\u001b[0;31m---------------------------------------------------------------------------\u001b[0m",
      "\u001b[0;31mKeyboardInterrupt\u001b[0m                         Traceback (most recent call last)",
      "\u001b[0;32m<ipython-input-18-38da6010734f>\u001b[0m in \u001b[0;36m<module>\u001b[0;34m\u001b[0m\n\u001b[1;32m      4\u001b[0m             \u001b[0mrow\u001b[0m\u001b[0;34m.\u001b[0m\u001b[0maudio\u001b[0m\u001b[0;34m,\u001b[0m \u001b[0mrow\u001b[0m\u001b[0;34m.\u001b[0m\u001b[0mrate\u001b[0m\u001b[0;34m\u001b[0m\u001b[0;34m\u001b[0m\u001b[0m\n\u001b[1;32m      5\u001b[0m         )\n\u001b[0;32m----> 6\u001b[0;31m         \u001b[0;32mfor\u001b[0m \u001b[0midx\u001b[0m\u001b[0;34m,\u001b[0m \u001b[0mrow\u001b[0m \u001b[0;32min\u001b[0m \u001b[0mtqdm\u001b[0m\u001b[0;34m(\u001b[0m\u001b[0msyllable_df\u001b[0m\u001b[0;34m.\u001b[0m\u001b[0miterrows\u001b[0m\u001b[0;34m(\u001b[0m\u001b[0;34m)\u001b[0m\u001b[0;34m,\u001b[0m \u001b[0mtotal\u001b[0m \u001b[0;34m=\u001b[0m \u001b[0mlen\u001b[0m\u001b[0;34m(\u001b[0m\u001b[0msyllable_df\u001b[0m\u001b[0;34m)\u001b[0m\u001b[0;34m)\u001b[0m\u001b[0;34m\u001b[0m\u001b[0;34m\u001b[0m\u001b[0m\n\u001b[0m\u001b[1;32m      7\u001b[0m     )\n\u001b[1;32m      8\u001b[0m \u001b[0mmask\u001b[0m \u001b[0;34m=\u001b[0m \u001b[0;34m[\u001b[0m\u001b[0mi\u001b[0m \u001b[0;32mis\u001b[0m \u001b[0;32mnot\u001b[0m \u001b[0;32mNone\u001b[0m \u001b[0;32mfor\u001b[0m \u001b[0mi\u001b[0m \u001b[0;32min\u001b[0m \u001b[0mbiosound_dfs\u001b[0m\u001b[0;34m]\u001b[0m\u001b[0;34m\u001b[0m\u001b[0;34m\u001b[0m\u001b[0m\n",
      "\u001b[0;32m/mnt/cube/tsainbur/conda_envs/tpy3/lib/python3.6/site-packages/joblib/parallel.py\u001b[0m in \u001b[0;36m__call__\u001b[0;34m(self, iterable)\u001b[0m\n\u001b[1;32m    932\u001b[0m \u001b[0;34m\u001b[0m\u001b[0m\n\u001b[1;32m    933\u001b[0m             \u001b[0;32mwith\u001b[0m \u001b[0mself\u001b[0m\u001b[0;34m.\u001b[0m\u001b[0m_backend\u001b[0m\u001b[0;34m.\u001b[0m\u001b[0mretrieval_context\u001b[0m\u001b[0;34m(\u001b[0m\u001b[0;34m)\u001b[0m\u001b[0;34m:\u001b[0m\u001b[0;34m\u001b[0m\u001b[0;34m\u001b[0m\u001b[0m\n\u001b[0;32m--> 934\u001b[0;31m                 \u001b[0mself\u001b[0m\u001b[0;34m.\u001b[0m\u001b[0mretrieve\u001b[0m\u001b[0;34m(\u001b[0m\u001b[0;34m)\u001b[0m\u001b[0;34m\u001b[0m\u001b[0;34m\u001b[0m\u001b[0m\n\u001b[0m\u001b[1;32m    935\u001b[0m             \u001b[0;31m# Make sure that we get a last message telling us we are done\u001b[0m\u001b[0;34m\u001b[0m\u001b[0;34m\u001b[0m\u001b[0;34m\u001b[0m\u001b[0m\n\u001b[1;32m    936\u001b[0m             \u001b[0melapsed_time\u001b[0m \u001b[0;34m=\u001b[0m \u001b[0mtime\u001b[0m\u001b[0;34m.\u001b[0m\u001b[0mtime\u001b[0m\u001b[0;34m(\u001b[0m\u001b[0;34m)\u001b[0m \u001b[0;34m-\u001b[0m \u001b[0mself\u001b[0m\u001b[0;34m.\u001b[0m\u001b[0m_start_time\u001b[0m\u001b[0;34m\u001b[0m\u001b[0;34m\u001b[0m\u001b[0m\n",
      "\u001b[0;32m/mnt/cube/tsainbur/conda_envs/tpy3/lib/python3.6/site-packages/joblib/parallel.py\u001b[0m in \u001b[0;36mretrieve\u001b[0;34m(self)\u001b[0m\n\u001b[1;32m    831\u001b[0m             \u001b[0;32mtry\u001b[0m\u001b[0;34m:\u001b[0m\u001b[0;34m\u001b[0m\u001b[0;34m\u001b[0m\u001b[0m\n\u001b[1;32m    832\u001b[0m                 \u001b[0;32mif\u001b[0m \u001b[0mgetattr\u001b[0m\u001b[0;34m(\u001b[0m\u001b[0mself\u001b[0m\u001b[0;34m.\u001b[0m\u001b[0m_backend\u001b[0m\u001b[0;34m,\u001b[0m \u001b[0;34m'supports_timeout'\u001b[0m\u001b[0;34m,\u001b[0m \u001b[0;32mFalse\u001b[0m\u001b[0;34m)\u001b[0m\u001b[0;34m:\u001b[0m\u001b[0;34m\u001b[0m\u001b[0;34m\u001b[0m\u001b[0m\n\u001b[0;32m--> 833\u001b[0;31m                     \u001b[0mself\u001b[0m\u001b[0;34m.\u001b[0m\u001b[0m_output\u001b[0m\u001b[0;34m.\u001b[0m\u001b[0mextend\u001b[0m\u001b[0;34m(\u001b[0m\u001b[0mjob\u001b[0m\u001b[0;34m.\u001b[0m\u001b[0mget\u001b[0m\u001b[0;34m(\u001b[0m\u001b[0mtimeout\u001b[0m\u001b[0;34m=\u001b[0m\u001b[0mself\u001b[0m\u001b[0;34m.\u001b[0m\u001b[0mtimeout\u001b[0m\u001b[0;34m)\u001b[0m\u001b[0;34m)\u001b[0m\u001b[0;34m\u001b[0m\u001b[0;34m\u001b[0m\u001b[0m\n\u001b[0m\u001b[1;32m    834\u001b[0m                 \u001b[0;32melse\u001b[0m\u001b[0;34m:\u001b[0m\u001b[0;34m\u001b[0m\u001b[0;34m\u001b[0m\u001b[0m\n\u001b[1;32m    835\u001b[0m                     \u001b[0mself\u001b[0m\u001b[0;34m.\u001b[0m\u001b[0m_output\u001b[0m\u001b[0;34m.\u001b[0m\u001b[0mextend\u001b[0m\u001b[0;34m(\u001b[0m\u001b[0mjob\u001b[0m\u001b[0;34m.\u001b[0m\u001b[0mget\u001b[0m\u001b[0;34m(\u001b[0m\u001b[0;34m)\u001b[0m\u001b[0;34m)\u001b[0m\u001b[0;34m\u001b[0m\u001b[0;34m\u001b[0m\u001b[0m\n",
      "\u001b[0;32m/mnt/cube/tsainbur/conda_envs/tpy3/lib/python3.6/site-packages/joblib/_parallel_backends.py\u001b[0m in \u001b[0;36mwrap_future_result\u001b[0;34m(future, timeout)\u001b[0m\n\u001b[1;32m    519\u001b[0m         AsyncResults.get from multiprocessing.\"\"\"\n\u001b[1;32m    520\u001b[0m         \u001b[0;32mtry\u001b[0m\u001b[0;34m:\u001b[0m\u001b[0;34m\u001b[0m\u001b[0;34m\u001b[0m\u001b[0m\n\u001b[0;32m--> 521\u001b[0;31m             \u001b[0;32mreturn\u001b[0m \u001b[0mfuture\u001b[0m\u001b[0;34m.\u001b[0m\u001b[0mresult\u001b[0m\u001b[0;34m(\u001b[0m\u001b[0mtimeout\u001b[0m\u001b[0;34m=\u001b[0m\u001b[0mtimeout\u001b[0m\u001b[0;34m)\u001b[0m\u001b[0;34m\u001b[0m\u001b[0;34m\u001b[0m\u001b[0m\n\u001b[0m\u001b[1;32m    522\u001b[0m         \u001b[0;32mexcept\u001b[0m \u001b[0mLokyTimeoutError\u001b[0m\u001b[0;34m:\u001b[0m\u001b[0;34m\u001b[0m\u001b[0;34m\u001b[0m\u001b[0m\n\u001b[1;32m    523\u001b[0m             \u001b[0;32mraise\u001b[0m \u001b[0mTimeoutError\u001b[0m\u001b[0;34m(\u001b[0m\u001b[0;34m)\u001b[0m\u001b[0;34m\u001b[0m\u001b[0;34m\u001b[0m\u001b[0m\n",
      "\u001b[0;32m/mnt/cube/tsainbur/conda_envs/tpy3/lib/python3.6/concurrent/futures/_base.py\u001b[0m in \u001b[0;36mresult\u001b[0;34m(self, timeout)\u001b[0m\n\u001b[1;32m    425\u001b[0m                 \u001b[0;32mreturn\u001b[0m \u001b[0mself\u001b[0m\u001b[0;34m.\u001b[0m\u001b[0m__get_result\u001b[0m\u001b[0;34m(\u001b[0m\u001b[0;34m)\u001b[0m\u001b[0;34m\u001b[0m\u001b[0;34m\u001b[0m\u001b[0m\n\u001b[1;32m    426\u001b[0m \u001b[0;34m\u001b[0m\u001b[0m\n\u001b[0;32m--> 427\u001b[0;31m             \u001b[0mself\u001b[0m\u001b[0;34m.\u001b[0m\u001b[0m_condition\u001b[0m\u001b[0;34m.\u001b[0m\u001b[0mwait\u001b[0m\u001b[0;34m(\u001b[0m\u001b[0mtimeout\u001b[0m\u001b[0;34m)\u001b[0m\u001b[0;34m\u001b[0m\u001b[0;34m\u001b[0m\u001b[0m\n\u001b[0m\u001b[1;32m    428\u001b[0m \u001b[0;34m\u001b[0m\u001b[0m\n\u001b[1;32m    429\u001b[0m             \u001b[0;32mif\u001b[0m \u001b[0mself\u001b[0m\u001b[0;34m.\u001b[0m\u001b[0m_state\u001b[0m \u001b[0;32min\u001b[0m \u001b[0;34m[\u001b[0m\u001b[0mCANCELLED\u001b[0m\u001b[0;34m,\u001b[0m \u001b[0mCANCELLED_AND_NOTIFIED\u001b[0m\u001b[0;34m]\u001b[0m\u001b[0;34m:\u001b[0m\u001b[0;34m\u001b[0m\u001b[0;34m\u001b[0m\u001b[0m\n",
      "\u001b[0;32m/mnt/cube/tsainbur/conda_envs/tpy3/lib/python3.6/threading.py\u001b[0m in \u001b[0;36mwait\u001b[0;34m(self, timeout)\u001b[0m\n\u001b[1;32m    293\u001b[0m         \u001b[0;32mtry\u001b[0m\u001b[0;34m:\u001b[0m    \u001b[0;31m# restore state no matter what (e.g., KeyboardInterrupt)\u001b[0m\u001b[0;34m\u001b[0m\u001b[0;34m\u001b[0m\u001b[0m\n\u001b[1;32m    294\u001b[0m             \u001b[0;32mif\u001b[0m \u001b[0mtimeout\u001b[0m \u001b[0;32mis\u001b[0m \u001b[0;32mNone\u001b[0m\u001b[0;34m:\u001b[0m\u001b[0;34m\u001b[0m\u001b[0;34m\u001b[0m\u001b[0m\n\u001b[0;32m--> 295\u001b[0;31m                 \u001b[0mwaiter\u001b[0m\u001b[0;34m.\u001b[0m\u001b[0macquire\u001b[0m\u001b[0;34m(\u001b[0m\u001b[0;34m)\u001b[0m\u001b[0;34m\u001b[0m\u001b[0;34m\u001b[0m\u001b[0m\n\u001b[0m\u001b[1;32m    296\u001b[0m                 \u001b[0mgotit\u001b[0m \u001b[0;34m=\u001b[0m \u001b[0;32mTrue\u001b[0m\u001b[0;34m\u001b[0m\u001b[0;34m\u001b[0m\u001b[0m\n\u001b[1;32m    297\u001b[0m             \u001b[0;32melse\u001b[0m\u001b[0;34m:\u001b[0m\u001b[0;34m\u001b[0m\u001b[0;34m\u001b[0m\u001b[0m\n",
      "\u001b[0;31mKeyboardInterrupt\u001b[0m: "
     ]
    }
   ],
   "source": [
    "with Parallel(n_jobs=-1, verbose=10) as parallel:\n",
    "    biosound_dfs = parallel(\n",
    "        delayed(get_BioSound_features)(\n",
    "            row.audio, row.rate\n",
    "        )\n",
    "        for idx, row in tqdm(syllable_df.iterrows(), total = len(syllable_df))\n",
    "    )\n",
    "mask = [i is not None for i in biosound_dfs]\n",
    "biosound_df = pd.concat([i for i in biosound_dfs if i is not None], axis=0)"
   ]
  },
  {
   "cell_type": "code",
   "execution_count": null,
   "metadata": {
    "ExecuteTime": {
     "end_time": "2020-03-02T03:25:54.082543Z",
     "start_time": "2020-03-02T00:43:51.179Z"
    }
   },
   "outputs": [],
   "source": [
    "biosound_df[:3]"
   ]
  },
  {
   "cell_type": "code",
   "execution_count": null,
   "metadata": {
    "ExecuteTime": {
     "end_time": "2020-03-02T03:25:54.084217Z",
     "start_time": "2020-03-02T00:43:51.181Z"
    }
   },
   "outputs": [],
   "source": [
    "syllable_df = pd.concat([syllable_df[mask], biosound_df], axis=1)"
   ]
  },
  {
   "cell_type": "code",
   "execution_count": null,
   "metadata": {
    "ExecuteTime": {
     "end_time": "2020-03-02T03:25:54.085903Z",
     "start_time": "2020-03-02T00:43:51.182Z"
    }
   },
   "outputs": [],
   "source": [
    "#ipd.Audio(data=row.audio, rate=row.rate)"
   ]
  },
  {
   "cell_type": "code",
   "execution_count": null,
   "metadata": {
    "ExecuteTime": {
     "end_time": "2020-03-02T03:25:54.086875Z",
     "start_time": "2020-03-02T00:43:51.183Z"
    }
   },
   "outputs": [],
   "source": [
    "save_loc = DATA_DIR / 'syllable_dfs' / DATASET_ID / 'bf-features.pickle'\n",
    "ensure_dir(save_loc)\n",
    "syllable_df.to_pickle(save_loc)"
   ]
  },
  {
   "cell_type": "code",
   "execution_count": null,
   "metadata": {
    "ExecuteTime": {
     "end_time": "2020-03-02T03:25:54.087732Z",
     "start_time": "2020-03-02T00:43:51.184Z"
    }
   },
   "outputs": [],
   "source": [
    "\"\"\"for idx, row in tqdm(syllable_df[1:].iterrows(), total = len(syllable_df)):\n",
    "    audio = row.audio\n",
    "    rate = row.rate\n",
    "    audio = np.pad(audio, 1050) if len(audio) < 1050 else audio\n",
    "    myBioSound = create_Biosound(audio, rate)\n",
    "    features = create_BioSound_features(myBioSound)\n",
    "    break\"\"\""
   ]
  },
  {
   "cell_type": "code",
   "execution_count": null,
   "metadata": {
    "ExecuteTime": {
     "end_time": "2020-03-02T03:25:54.088607Z",
     "start_time": "2020-03-02T00:43:51.185Z"
    }
   },
   "outputs": [],
   "source": [
    "features"
   ]
  },
  {
   "cell_type": "code",
   "execution_count": null,
   "metadata": {
    "ExecuteTime": {
     "end_time": "2020-03-02T03:25:54.089471Z",
     "start_time": "2020-03-02T00:43:51.187Z"
    }
   },
   "outputs": [],
   "source": [
    "\"\"\"\n",
    "    \n",
    "myBioSound = BioSound(soundWave=audio, fs=rate)\n",
    "# Calculate the spectrogram and the rms\n",
    "myBioSound.spectroCalc(spec_sample_rate=10000, freq_spacing = 100, min_freq=0, max_freq=10000)\n",
    "myBioSound.rms = myBioSound.sound.std() \n",
    "\n",
    "# Calculate amplitude enveloppe\n",
    "myBioSound.ampenv(cutoff_freq = 20, amp_sample_rate = 500)\n",
    "\n",
    "# Calculate the power spectrum\n",
    "myBioSound.spectrum(f_high=15000)\n",
    "\n",
    "# Calculate fundamental and related values.  These are the default values.\n",
    "# For the estimation of the fundamental, four methods are available: \n",
    "# 'AC' - Peak of the auto-correlation function\n",
    "# 'ACA' - Peak of envelope of auto-correlation function \n",
    "# 'Cep' - First peak in cepstrum \n",
    "# 'Stack' - Fitting of harmonic stacks (default - works well for zebra finches)\n",
    "\n",
    "myBioSound.fundest(maxFund = 5000, minFund = 100, lowFc = 200, highFc = 6000, \n",
    "                   minSaliency = 0.5, debugFig = 0, \n",
    "                   minFormantFreq = 500, maxFormantBW = 500, windowFormant = 0.025,\n",
    "                   method='Stack')\n",
    "\n",
    "# Calculate the MPS\n",
    "myBioSound.mpsCalc(window=0.025, Norm = True)\n",
    "myBioSound.plot(DBNOISE=50, f_low=250, f_high=10000)  \n",
    "myBioSound.fund\n",
    "\"\"\"\"\"\""
   ]
  },
  {
   "cell_type": "code",
   "execution_count": null,
   "metadata": {},
   "outputs": [],
   "source": []
  }
 ],
 "metadata": {
  "kernelspec": {
   "display_name": "Python 3",
   "language": "python",
   "name": "python3"
  },
  "language_info": {
   "codemirror_mode": {
    "name": "ipython",
    "version": 3
   },
   "file_extension": ".py",
   "mimetype": "text/x-python",
   "name": "python",
   "nbconvert_exporter": "python",
   "pygments_lexer": "ipython3",
   "version": "3.6.7"
  }
 },
 "nbformat": 4,
 "nbformat_minor": 2
}
