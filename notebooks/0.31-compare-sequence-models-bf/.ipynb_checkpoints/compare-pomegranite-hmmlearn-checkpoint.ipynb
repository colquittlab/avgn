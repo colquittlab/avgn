{
 "cells": [
  {
   "cell_type": "code",
   "execution_count": 5,
   "metadata": {
    "ExecuteTime": {
     "end_time": "2020-04-04T00:01:17.466392Z",
     "start_time": "2020-04-04T00:01:17.456053Z"
    }
   },
   "outputs": [
    {
     "name": "stdout",
     "output_type": "stream",
     "text": [
      "Populating the interactive namespace from numpy and matplotlib\n"
     ]
    }
   ],
   "source": [
    "%pylab inline\n",
    "import hmmlearn, pomegranate, time, seaborn\n",
    "from hmmlearn.hmm import *\n",
    "from pomegranate import *\n",
    "seaborn.set_style('whitegrid')"
   ]
  },
  {
   "cell_type": "code",
   "execution_count": 6,
   "metadata": {
    "ExecuteTime": {
     "end_time": "2020-04-04T00:01:17.768522Z",
     "start_time": "2020-04-04T00:01:17.759623Z"
    }
   },
   "outputs": [],
   "source": [
    "def initialize_components(n_components, n_seqs):\n",
    "    \"\"\"\n",
    "    Initialize a transition matrix for a model with a fixed number of components,\n",
    "    for Gaussian emissions with a certain number of dimensions, and a data set\n",
    "    with a certain number of sequences.\n",
    "    \"\"\"\n",
    "    \n",
    "    transmat = numpy.zeros((n_components, n_components))\n",
    "    transmat[-1, -1] = 1\n",
    "    for i in range(n_components-1):\n",
    "        transmat[i, i] = 1\n",
    "        transmat[i, i+1] = 1\n",
    "    transmat[ transmat < 0 ] = 0\n",
    "    transmat = (transmat.T / transmat.sum( axis=1 )).T\n",
    "    \n",
    "    start_probs = numpy.abs( numpy.random.randn(n_components) )\n",
    "    start_probs /= start_probs.sum()\n",
    "\n",
    "    dists = numpy.abs(numpy.random.randn(n_components, 4))\n",
    "    dists = (dists.T / dists.T.sum(axis=0)).T\n",
    "    \n",
    "    seqs = numpy.random.randint(0, 4, (n_seqs, n_components*2, 1))\n",
    "    return transmat, start_probs, dists, seqs\n"
   ]
  },
  {
   "cell_type": "code",
   "execution_count": 7,
   "metadata": {
    "ExecuteTime": {
     "end_time": "2020-04-04T00:01:17.937430Z",
     "start_time": "2020-04-04T00:01:17.931877Z"
    }
   },
   "outputs": [],
   "source": [
    "def hmmlearn_model(transmat, start_probs, dists):\n",
    "    \"\"\"Return a hmmlearn model.\"\"\"\n",
    "\n",
    "    model = MultinomialHMM(n_components=transmat.shape[0], n_iter=1, tol=1e-8)\n",
    "    model.startprob_ = start_probs\n",
    "    model.transmat_ = transmat\n",
    "    model.emissionprob_ = dists\n",
    "    return model"
   ]
  },
  {
   "cell_type": "code",
   "execution_count": 8,
   "metadata": {
    "ExecuteTime": {
     "end_time": "2020-04-04T00:01:18.243348Z",
     "start_time": "2020-04-04T00:01:18.237270Z"
    }
   },
   "outputs": [],
   "source": [
    "def pomegranate_model(transmat, start_probs, dists):\n",
    "    \"\"\"Return a pomegranate model.\"\"\"\n",
    "    \n",
    "    states = [ DiscreteDistribution({ 'A': d[0],\n",
    "                                      'C': d[1],\n",
    "                                      'G': d[2], \n",
    "                                      'T': d[3] }) for d in dists ]\n",
    "    model = HiddenMarkovModel.from_matrix(transmat, states, start_probs, merge='None')\n",
    "    return model\n"
   ]
  },
  {
   "cell_type": "code",
   "execution_count": 17,
   "metadata": {
    "ExecuteTime": {
     "end_time": "2020-04-04T00:03:02.983483Z",
     "start_time": "2020-04-04T00:03:02.969308Z"
    }
   },
   "outputs": [
    {
     "name": "stderr",
     "output_type": "stream",
     "text": [
      "/mnt/cube/tsainbur/conda_envs/tpy3/lib/python3.6/site-packages/tqdm/autonotebook/__init__.py:14: TqdmExperimentalWarning: Using `tqdm.autonotebook.tqdm` in notebook mode. Use `tqdm.tqdm` instead to force console mode (e.g. in jupyter console)\n",
      "  \" (e.g. in jupyter console)\", TqdmExperimentalWarning)\n"
     ]
    }
   ],
   "source": [
    "from tqdm.autonotebook import tqdm"
   ]
  },
  {
   "cell_type": "code",
   "execution_count": null,
   "metadata": {
    "ExecuteTime": {
     "start_time": "2020-04-04T00:03:03.299Z"
    }
   },
   "outputs": [
    {
     "data": {
      "application/vnd.jupyter.widget-view+json": {
       "model_id": "0c1321cb92e34bc6aa7d4c3ce8ec053c",
       "version_major": 2,
       "version_minor": 0
      },
      "text/plain": [
       "HBox(children=(IntProgress(value=0, max=11), HTML(value='')))"
      ]
     },
     "metadata": {},
     "output_type": "display_data"
    },
    {
     "name": "stderr",
     "output_type": "stream",
     "text": [
      "Fitting a model with 10299 free scalar parameters with only 10000 data points will result in a degenerate solution.\n"
     ]
    }
   ],
   "source": [
    "n_seqs = 50\n",
    "hllp, plp = [], []\n",
    "hlv, pv = [], []\n",
    "hlm, pm = [], []\n",
    "hls, ps = [], []\n",
    "hlt, pt = [], []\n",
    "\n",
    "dna = 'ACGT'\n",
    "\n",
    "for i in tqdm(range(10, 100, 10)):\n",
    "    # HMMlearn model\n",
    "    transmat, start_probs, dists, seqs = initialize_components(i, n_seqs)\n",
    "    model = hmmlearn_model(transmat, start_probs, dists)\n",
    "\n",
    "    tic = time.time()\n",
    "    for seq in seqs:\n",
    "        model.score(seq)\n",
    "    hllp.append( time.time() - tic )\n",
    "\n",
    "    tic = time.time()\n",
    "    for seq in seqs:\n",
    "        model.predict(seq)\n",
    "    hlv.append( time.time() - tic )\n",
    "\n",
    "    tic = time.time()\n",
    "    for seq in seqs:\n",
    "        model.predict_proba(seq)\n",
    "    hlm.append( time.time() - tic )    \n",
    "\n",
    "    tic = time.time()\n",
    "    model.fit(seqs.reshape(n_seqs*i*2, 1), lengths=[i*2]*n_seqs)\n",
    "    hlt.append( time.time() - tic )\n",
    "    \n",
    "    # pomegranite model\n",
    "    model = pomegranate_model(transmat, start_probs, dists)\n",
    "    seqs = [[dna[i[0]] for i in seq] for seq in seqs]\n",
    "\n",
    "    tic = time.time()\n",
    "    for seq in seqs:\n",
    "        model.log_probability(seq)\n",
    "    plp.append( time.time() - tic )\n",
    "\n",
    "    tic = time.time()\n",
    "    for seq in seqs:\n",
    "        model.predict(seq)\n",
    "    pv.append( time.time() - tic )\n",
    "\n",
    "    tic = time.time()\n",
    "    for seq in seqs:\n",
    "        model.predict_proba(seq)\n",
    "    pm.append( time.time() - tic )    \n",
    "\n",
    "    tic = time.time()\n",
    "    model.fit(seqs, max_iterations=1, verbose=False)\n",
    "    pt.append( time.time() - tic )"
   ]
  },
  {
   "cell_type": "code",
   "execution_count": null,
   "metadata": {},
   "outputs": [],
   "source": [
    "plt.figure( figsize=(12, 8))\n",
    "plt.xlabel(\"# Components\", fontsize=12 )\n",
    "plt.ylabel(\"pomegranate is x times faster\", fontsize=12 )\n",
    "plt.plot( numpy.array(hllp) / numpy.array(plp), label=\"Log Probability\")\n",
    "plt.plot( numpy.array(hlv) / numpy.array(pv), label=\"Viterbi\")\n",
    "plt.plot( numpy.array(hlm) / numpy.array(pm), label=\"Maximum A Posteriori\")\n",
    "plt.plot( numpy.array(hlt) / numpy.array(pt), label=\"Training\")\n",
    "plt.xticks( xrange(11), xrange(10, 112, 10), fontsize=12 )\n",
    "plt.yticks( fontsize=12 )\n",
    "plt.legend( fontsize=12 )"
   ]
  }
 ],
 "metadata": {
  "kernelspec": {
   "display_name": "Python 3",
   "language": "python",
   "name": "python3"
  },
  "language_info": {
   "codemirror_mode": {
    "name": "ipython",
    "version": 3
   },
   "file_extension": ".py",
   "mimetype": "text/x-python",
   "name": "python",
   "nbconvert_exporter": "python",
   "pygments_lexer": "ipython3",
   "version": "3.6.7"
  }
 },
 "nbformat": 4,
 "nbformat_minor": 2
}
