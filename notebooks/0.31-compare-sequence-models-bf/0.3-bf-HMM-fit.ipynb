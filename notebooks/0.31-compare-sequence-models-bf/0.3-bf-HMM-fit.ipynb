{
 "cells": [
  {
   "cell_type": "code",
   "execution_count": 7,
   "metadata": {
    "ExecuteTime": {
     "end_time": "2020-04-05T20:58:42.062137Z",
     "start_time": "2020-04-05T20:58:41.998773Z"
    }
   },
   "outputs": [
    {
     "name": "stdout",
     "output_type": "stream",
     "text": [
      "The autoreload extension is already loaded. To reload it, use:\n",
      "  %reload_ext autoreload\n",
      "env: CUDA_DEVICE_ORDER=PCI_BUS_ID\n",
      "env: CUDA_VISIBLE_DEVICES=0\n"
     ]
    }
   ],
   "source": [
    "%load_ext autoreload\n",
    "%autoreload 2\n",
    "%env CUDA_DEVICE_ORDER=PCI_BUS_ID\n",
    "%env CUDA_VISIBLE_DEVICES=0"
   ]
  },
  {
   "cell_type": "code",
   "execution_count": 8,
   "metadata": {
    "ExecuteTime": {
     "end_time": "2020-04-05T20:58:42.131624Z",
     "start_time": "2020-04-05T20:58:42.107649Z"
    }
   },
   "outputs": [],
   "source": [
    "import numpy as np\n",
    "import matplotlib.pyplot as plt\n",
    "from tqdm.autonotebook import tqdm\n",
    "import pandas as pd\n",
    "from cuml.manifold.umap import UMAP as cumlUMAP\n",
    "from avgn.utils.paths import DATA_DIR, most_recent_subdirectory, ensure_dir\n",
    "from joblib import Parallel, delayed"
   ]
  },
  {
   "cell_type": "code",
   "execution_count": 9,
   "metadata": {
    "ExecuteTime": {
     "end_time": "2020-04-05T20:58:42.261509Z",
     "start_time": "2020-04-05T20:58:42.236399Z"
    }
   },
   "outputs": [],
   "source": [
    "import pomegranate\n",
    "from pomegranate import DiscreteDistribution, HiddenMarkovModel\n",
    "pomegranate.utils.disable_gpu()\n",
    "from hmmlearn import hmm"
   ]
  },
  {
   "cell_type": "markdown",
   "metadata": {},
   "source": [
    "### Fit models code"
   ]
  },
  {
   "cell_type": "code",
   "execution_count": 17,
   "metadata": {
    "ExecuteTime": {
     "end_time": "2020-04-05T21:18:00.553975Z",
     "start_time": "2020-04-05T21:18:00.215243Z"
    }
   },
   "outputs": [],
   "source": [
    "def AIC(log_likelihood, k):\n",
    "    \"\"\" AIC given log_likelihood and # parameters (k)\n",
    "    \"\"\"\n",
    "    aic = 2 * k - 2 * log_likelihood\n",
    "    return aic\n",
    "\n",
    "\n",
    "def BIC(log_likelihood, n, k):\n",
    "    \"\"\" BIC given log_likelihood, number of observations (n) and # parameters (k)\n",
    "    \"\"\"\n",
    "    bic = np.log(n) * k - 2 * log_likelihood\n",
    "    return bic\n",
    "\n",
    "def fit_hmm(\n",
    "    seqs,\n",
    "    n_components,\n",
    "    prop_test=0.5,\n",
    "    verbose=False,\n",
    "    pom_stop_threshold=1e-8,\n",
    "    pom_max_iterations=1e8,\n",
    "):\n",
    "\n",
    "    # split train and test\n",
    "    if prop_test == 0:\n",
    "        seqs_train = seqs_test = seqs\n",
    "    else:\n",
    "        # split into train and test for cross validation\n",
    "        training_mask = np.random.choice(\n",
    "            np.arange(len(seqs)), size=int(len(seqs) * prop_test), replace=False\n",
    "        )\n",
    "        testing_mask = np.array(\n",
    "            [i for i in np.arange(len(seqs)) if i not in training_mask]\n",
    "        )\n",
    "\n",
    "        seqs_train = np.array(seqs)[training_mask]\n",
    "        seqs_test = np.array(seqs)[testing_mask]\n",
    "\n",
    "        # make sure test set doesn't contain any data that train doesnt\n",
    "        assert np.all(\n",
    "            [\n",
    "                i in np.unique(np.concatenate(seqs_train))\n",
    "                for i in np.unique(np.concatenate(seqs_test))\n",
    "            ]\n",
    "        )\n",
    "\n",
    "    # lengths of sequences\n",
    "    seq_lens = [len(i) for i in seqs_train]\n",
    "\n",
    "    # get states\n",
    "    unique_states = np.unique(np.concatenate(seqs_train))\n",
    "\n",
    "    # model\n",
    "    hmmlearn_model = hmm.MultinomialHMM(n_components=n_components, verbose=verbose).fit(\n",
    "        np.concatenate(seqs_train).reshape(-1, 1), [len(i) for i in seqs_train]\n",
    "    )\n",
    "\n",
    "    # probability of data given model\n",
    "    hmmlearn_log_probability = hmmlearn_model.score(\n",
    "        np.concatenate(seqs_test).reshape(-1, 1), [len(i) for i in seqs_test]\n",
    "    )\n",
    "\n",
    "    # hidden labels\n",
    "    hmmlearn_predictions = [\n",
    "        hmmlearn_model.predict(np.array(seq).reshape(-1, 1)) for seq in seqs\n",
    "    ]\n",
    "\n",
    "    # probability of ending in state, for each state (for pom)\n",
    "    hmmlearn_end_states = np.array([i[-1] for i in hmmlearn_predictions])\n",
    "    end_probs = [\n",
    "        np.sum(hmmlearn_end_states == i)\n",
    "        / (np.sum(np.concatenate(hmmlearn_predictions) == i) + 1)\n",
    "        for i in np.arange(n_components)\n",
    "    ]\n",
    "\n",
    "    # initialize pom\n",
    "    transmat = hmmlearn_model.transmat_\n",
    "    start_probs = hmmlearn_model.startprob_\n",
    "    dists = hmmlearn_model.emissionprob_\n",
    "\n",
    "    states = [\n",
    "        DiscreteDistribution({vis: d[i] for i, vis in enumerate(unique_states)})\n",
    "        for d in dists\n",
    "    ]\n",
    "    pom_model = HiddenMarkovModel.from_matrix(\n",
    "        transition_probabilities=transmat,\n",
    "        distributions=states,\n",
    "        starts=start_probs,\n",
    "        ends=end_probs,  # discluding ends and merge makes models equal log prob\n",
    "        merge=\"None\",\n",
    "    )\n",
    "\n",
    "    # fit pom model\n",
    "    improvement = pom_model.fit(\n",
    "        seqs_train,\n",
    "        max_iterations=pom_max_iterations,\n",
    "        verbose=verbose,\n",
    "        algorithm=\"baum-welch\",\n",
    "        stop_threshold=pom_stop_threshold,\n",
    "        n_jobs=1,\n",
    "    )\n",
    "\n",
    "    pom_log_probability = np.sum([pom_model.log_probability(seq) for seq in seqs_test])\n",
    "\n",
    "    pom_predictions = [pom_model.predict(seq) for seq in seqs]\n",
    "\n",
    "    num_params = pom_model.state_count() + pom_model.edge_count() + pom_model.node_count()\n",
    "    \n",
    "    n_data = np.sum([len(i) for i in seqs_test])\n",
    "    \n",
    "    aic = AIC(pom_log_probability, num_params)\n",
    "    bic = BIC(pom_log_probability, n_data, num_params)\n",
    "\n",
    "    return (\n",
    "        n_components,\n",
    "        hmmlearn_model,\n",
    "        pom_model,\n",
    "        seqs_train,\n",
    "        seqs_test,\n",
    "        hmmlearn_predictions,\n",
    "        pom_predictions,\n",
    "        num_params,\n",
    "        hmmlearn_log_probability,\n",
    "        pom_log_probability,\n",
    "        aic,\n",
    "        bic,\n",
    "    )"
   ]
  },
  {
   "cell_type": "code",
   "execution_count": 18,
   "metadata": {
    "ExecuteTime": {
     "end_time": "2020-04-05T21:18:00.886021Z",
     "start_time": "2020-04-05T21:18:00.851330Z"
    }
   },
   "outputs": [],
   "source": [
    "DATASET_ID = 'koumura_bengalese_finch'\n",
    "embeddings_dfs = list(DATA_DIR.glob('bf_label_dfs/'+DATASET_ID+'/*.pickle'))\n",
    "DATASET_ID = 'bengalese_finch_sober'\n",
    "embeddings_dfs = embeddings_dfs + list(DATA_DIR.glob('bf_label_dfs/'+DATASET_ID+'/*.pickle'))"
   ]
  },
  {
   "cell_type": "code",
   "execution_count": 19,
   "metadata": {
    "ExecuteTime": {
     "end_time": "2020-04-05T21:18:01.333049Z",
     "start_time": "2020-04-05T21:18:01.303360Z"
    }
   },
   "outputs": [
    {
     "data": {
      "text/plain": [
       "[PosixPath('/mnt/cube/tsainbur/Projects/github_repos/avgn_paper/data/bf_label_dfs/koumura_bengalese_finch/Bird9.pickle'),\n",
       " PosixPath('/mnt/cube/tsainbur/Projects/github_repos/avgn_paper/data/bf_label_dfs/koumura_bengalese_finch/Bird4.pickle'),\n",
       " PosixPath('/mnt/cube/tsainbur/Projects/github_repos/avgn_paper/data/bf_label_dfs/koumura_bengalese_finch/Bird10.pickle')]"
      ]
     },
     "execution_count": 19,
     "metadata": {},
     "output_type": "execute_result"
    }
   ],
   "source": [
    "embeddings_dfs[:3]"
   ]
  },
  {
   "cell_type": "code",
   "execution_count": 21,
   "metadata": {
    "ExecuteTime": {
     "end_time": "2020-04-06T05:20:25.974799Z",
     "start_time": "2020-04-05T22:29:14.309997Z"
    },
    "scrolled": true
   },
   "outputs": [
    {
     "data": {
      "application/vnd.jupyter.widget-view+json": {
       "model_id": "21eb4ecd880e4733a5b76584baf34e24",
       "version_major": 2,
       "version_minor": 0
      },
      "text/plain": [
       "HBox(children=(IntProgress(value=0, max=15), HTML(value='')))"
      ]
     },
     "metadata": {},
     "output_type": "display_data"
    },
    {
     "name": "stdout",
     "output_type": "stream",
     "text": [
      "Bird9\n"
     ]
    },
    {
     "data": {
      "application/vnd.jupyter.widget-view+json": {
       "model_id": "8d7d0686b1674f829470305798806e3f",
       "version_major": 2,
       "version_minor": 0
      },
      "text/plain": [
       "HBox(children=(IntProgress(value=0, max=75), HTML(value='')))"
      ]
     },
     "metadata": {},
     "output_type": "display_data"
    },
    {
     "name": "stderr",
     "output_type": "stream",
     "text": [
      "[Parallel(n_jobs=-1)]: Using backend LokyBackend with 32 concurrent workers.\n",
      "[Parallel(n_jobs=-1)]: Done   1 tasks      | elapsed:   46.6s\n",
      "[Parallel(n_jobs=-1)]: Done   2 tasks      | elapsed:  1.1min\n",
      "[Parallel(n_jobs=-1)]: Done   3 tasks      | elapsed:  1.2min\n",
      "[Parallel(n_jobs=-1)]: Done   4 tasks      | elapsed:  1.3min\n",
      "[Parallel(n_jobs=-1)]: Done   5 tasks      | elapsed:  1.4min\n",
      "[Parallel(n_jobs=-1)]: Done   6 tasks      | elapsed:  1.7min\n",
      "[Parallel(n_jobs=-1)]: Done   7 tasks      | elapsed:  1.9min\n",
      "[Parallel(n_jobs=-1)]: Done   8 tasks      | elapsed:  2.4min\n",
      "[Parallel(n_jobs=-1)]: Done   9 tasks      | elapsed:  2.6min\n",
      "[Parallel(n_jobs=-1)]: Done  10 tasks      | elapsed:  2.8min\n",
      "[Parallel(n_jobs=-1)]: Done  11 tasks      | elapsed:  3.1min\n",
      "[Parallel(n_jobs=-1)]: Done  12 tasks      | elapsed:  3.5min\n",
      "[Parallel(n_jobs=-1)]: Done  18 out of  75 | elapsed:  4.6min remaining: 14.6min\n",
      "[Parallel(n_jobs=-1)]: Done  24 out of  75 | elapsed:  5.5min remaining: 11.6min\n",
      "[Parallel(n_jobs=-1)]: Done  30 out of  75 | elapsed:  6.4min remaining:  9.7min\n",
      "[Parallel(n_jobs=-1)]: Done  36 out of  75 | elapsed:  7.5min remaining:  8.1min\n",
      "[Parallel(n_jobs=-1)]: Done  42 out of  75 | elapsed:  8.9min remaining:  7.0min\n",
      "[Parallel(n_jobs=-1)]: Done  48 out of  75 | elapsed: 10.2min remaining:  5.7min\n",
      "[Parallel(n_jobs=-1)]: Done  54 out of  75 | elapsed: 11.1min remaining:  4.3min\n",
      "[Parallel(n_jobs=-1)]: Done  60 out of  75 | elapsed: 12.2min remaining:  3.0min\n",
      "[Parallel(n_jobs=-1)]: Done  66 out of  75 | elapsed: 13.4min remaining:  1.8min\n",
      "[Parallel(n_jobs=-1)]: Done  72 out of  75 | elapsed: 14.4min remaining:   36.1s\n",
      "[Parallel(n_jobs=-1)]: Done  75 out of  75 | elapsed: 15.2min finished\n"
     ]
    },
    {
     "name": "stdout",
     "output_type": "stream",
     "text": [
      "Bird9\n"
     ]
    },
    {
     "data": {
      "application/vnd.jupyter.widget-view+json": {
       "model_id": "7b33f280b7ee4f18ae8d1c06e0d08f47",
       "version_major": 2,
       "version_minor": 0
      },
      "text/plain": [
       "HBox(children=(IntProgress(value=0, max=75), HTML(value='')))"
      ]
     },
     "metadata": {},
     "output_type": "display_data"
    },
    {
     "name": "stderr",
     "output_type": "stream",
     "text": [
      "[Parallel(n_jobs=-1)]: Using backend LokyBackend with 32 concurrent workers.\n",
      "[Parallel(n_jobs=-1)]: Done   1 tasks      | elapsed:   31.5s\n",
      "[Parallel(n_jobs=-1)]: Done   2 tasks      | elapsed:   33.2s\n",
      "[Parallel(n_jobs=-1)]: Done   3 tasks      | elapsed:   40.6s\n",
      "[Parallel(n_jobs=-1)]: Done   4 tasks      | elapsed:   45.4s\n",
      "[Parallel(n_jobs=-1)]: Done   5 tasks      | elapsed:   45.6s\n",
      "[Parallel(n_jobs=-1)]: Done   6 tasks      | elapsed:   49.1s\n",
      "[Parallel(n_jobs=-1)]: Done   7 tasks      | elapsed:   49.3s\n",
      "[Parallel(n_jobs=-1)]: Done   8 tasks      | elapsed:   55.8s\n",
      "[Parallel(n_jobs=-1)]: Done   9 tasks      | elapsed:   56.2s\n",
      "[Parallel(n_jobs=-1)]: Done  10 tasks      | elapsed:  1.0min\n",
      "[Parallel(n_jobs=-1)]: Done  11 tasks      | elapsed:  1.0min\n",
      "[Parallel(n_jobs=-1)]: Done  12 tasks      | elapsed:  1.2min\n",
      "[Parallel(n_jobs=-1)]: Done  18 out of  75 | elapsed:  1.4min remaining:  4.4min\n",
      "[Parallel(n_jobs=-1)]: Done  24 out of  75 | elapsed:  1.8min remaining:  3.8min\n",
      "[Parallel(n_jobs=-1)]: Done  30 out of  75 | elapsed:  2.1min remaining:  3.1min\n",
      "[Parallel(n_jobs=-1)]: Done  36 out of  75 | elapsed:  2.4min remaining:  2.6min\n",
      "[Parallel(n_jobs=-1)]: Done  42 out of  75 | elapsed:  2.6min remaining:  2.0min\n",
      "[Parallel(n_jobs=-1)]: Done  48 out of  75 | elapsed:  2.8min remaining:  1.6min\n",
      "[Parallel(n_jobs=-1)]: Done  54 out of  75 | elapsed:  3.0min remaining:  1.2min\n",
      "[Parallel(n_jobs=-1)]: Done  60 out of  75 | elapsed:  3.3min remaining:   49.5s\n",
      "[Parallel(n_jobs=-1)]: Done  66 out of  75 | elapsed:  4.0min remaining:   32.4s\n",
      "[Parallel(n_jobs=-1)]: Done  72 out of  75 | elapsed:  8.0min remaining:   19.9s\n",
      "[Parallel(n_jobs=-1)]: Done  75 out of  75 | elapsed: 29.3min finished\n"
     ]
    },
    {
     "name": "stdout",
     "output_type": "stream",
     "text": [
      "Bird4\n"
     ]
    },
    {
     "data": {
      "application/vnd.jupyter.widget-view+json": {
       "model_id": "9495d5370b784150bb63db8765238366",
       "version_major": 2,
       "version_minor": 0
      },
      "text/plain": [
       "HBox(children=(IntProgress(value=0, max=75), HTML(value='')))"
      ]
     },
     "metadata": {},
     "output_type": "display_data"
    },
    {
     "name": "stderr",
     "output_type": "stream",
     "text": [
      "[Parallel(n_jobs=-1)]: Using backend LokyBackend with 32 concurrent workers.\n",
      "[Parallel(n_jobs=-1)]: Done   1 tasks      | elapsed:   18.5s\n",
      "[Parallel(n_jobs=-1)]: Done   2 tasks      | elapsed:   18.7s\n",
      "[Parallel(n_jobs=-1)]: Done   3 tasks      | elapsed:   20.1s\n",
      "[Parallel(n_jobs=-1)]: Done   4 tasks      | elapsed:   22.0s\n",
      "[Parallel(n_jobs=-1)]: Done   5 tasks      | elapsed:   22.3s\n",
      "[Parallel(n_jobs=-1)]: Done   6 tasks      | elapsed:   25.2s\n",
      "[Parallel(n_jobs=-1)]: Done   7 tasks      | elapsed:   26.4s\n",
      "[Parallel(n_jobs=-1)]: Done   8 tasks      | elapsed:   26.9s\n",
      "[Parallel(n_jobs=-1)]: Done   9 tasks      | elapsed:   27.6s\n",
      "[Parallel(n_jobs=-1)]: Done  10 tasks      | elapsed:   29.6s\n",
      "[Parallel(n_jobs=-1)]: Done  11 tasks      | elapsed:   30.1s\n",
      "[Parallel(n_jobs=-1)]: Done  12 tasks      | elapsed:   30.7s\n",
      "[Parallel(n_jobs=-1)]: Done  18 out of  75 | elapsed:   35.7s remaining:  1.9min\n",
      "[Parallel(n_jobs=-1)]: Done  24 out of  75 | elapsed:   46.8s remaining:  1.7min\n",
      "[Parallel(n_jobs=-1)]: Done  30 out of  75 | elapsed:   56.6s remaining:  1.4min\n",
      "[Parallel(n_jobs=-1)]: Done  36 out of  75 | elapsed:  1.1min remaining:  1.2min\n",
      "[Parallel(n_jobs=-1)]: Done  42 out of  75 | elapsed:  1.2min remaining:   56.6s\n",
      "[Parallel(n_jobs=-1)]: Done  48 out of  75 | elapsed:  1.3min remaining:   45.4s\n",
      "[Parallel(n_jobs=-1)]: Done  54 out of  75 | elapsed:  1.5min remaining:   34.0s\n",
      "[Parallel(n_jobs=-1)]: Done  60 out of  75 | elapsed:  1.6min remaining:   24.1s\n",
      "[Parallel(n_jobs=-1)]: Done  66 out of  75 | elapsed:  1.7min remaining:   14.1s\n",
      "[Parallel(n_jobs=-1)]: Done  72 out of  75 | elapsed:  2.1min remaining:    5.1s\n",
      "[Parallel(n_jobs=-1)]: Done  75 out of  75 | elapsed:  2.3min finished\n"
     ]
    },
    {
     "name": "stdout",
     "output_type": "stream",
     "text": [
      "Bird10\n"
     ]
    },
    {
     "data": {
      "application/vnd.jupyter.widget-view+json": {
       "model_id": "bc81a816b43247cfae79bef8be4b3f90",
       "version_major": 2,
       "version_minor": 0
      },
      "text/plain": [
       "HBox(children=(IntProgress(value=0, max=75), HTML(value='')))"
      ]
     },
     "metadata": {},
     "output_type": "display_data"
    },
    {
     "name": "stderr",
     "output_type": "stream",
     "text": [
      "[Parallel(n_jobs=-1)]: Using backend LokyBackend with 32 concurrent workers.\n",
      "[Parallel(n_jobs=-1)]: Done   1 tasks      | elapsed:   22.7s\n",
      "[Parallel(n_jobs=-1)]: Done   2 tasks      | elapsed:   26.8s\n",
      "[Parallel(n_jobs=-1)]: Done   3 tasks      | elapsed:   28.5s\n",
      "[Parallel(n_jobs=-1)]: Done   4 tasks      | elapsed:   39.4s\n",
      "[Parallel(n_jobs=-1)]: Done   5 tasks      | elapsed:   40.7s\n",
      "[Parallel(n_jobs=-1)]: Done   6 tasks      | elapsed:   43.8s\n",
      "[Parallel(n_jobs=-1)]: Done   7 tasks      | elapsed:   45.0s\n",
      "[Parallel(n_jobs=-1)]: Done   8 tasks      | elapsed:   46.4s\n",
      "[Parallel(n_jobs=-1)]: Done   9 tasks      | elapsed:   48.2s\n",
      "[Parallel(n_jobs=-1)]: Done  10 tasks      | elapsed:   52.7s\n",
      "[Parallel(n_jobs=-1)]: Done  11 tasks      | elapsed:   53.2s\n",
      "[Parallel(n_jobs=-1)]: Done  12 tasks      | elapsed:   57.5s\n",
      "[Parallel(n_jobs=-1)]: Done  18 out of  75 | elapsed:  2.1min remaining:  6.5min\n",
      "[Parallel(n_jobs=-1)]: Done  24 out of  75 | elapsed:  6.5min remaining: 13.7min\n",
      "[Parallel(n_jobs=-1)]: Done  30 out of  75 | elapsed:  7.9min remaining: 11.9min\n",
      "[Parallel(n_jobs=-1)]: Done  36 out of  75 | elapsed: 10.6min remaining: 11.5min\n",
      "[Parallel(n_jobs=-1)]: Done  42 out of  75 | elapsed: 12.6min remaining:  9.9min\n",
      "[Parallel(n_jobs=-1)]: Done  48 out of  75 | elapsed: 13.9min remaining:  7.8min\n",
      "[Parallel(n_jobs=-1)]: Done  54 out of  75 | elapsed: 15.6min remaining:  6.1min\n",
      "[Parallel(n_jobs=-1)]: Done  60 out of  75 | elapsed: 18.1min remaining:  4.5min\n",
      "[Parallel(n_jobs=-1)]: Done  66 out of  75 | elapsed: 20.6min remaining:  2.8min\n",
      "[Parallel(n_jobs=-1)]: Done  72 out of  75 | elapsed: 24.4min remaining:  1.0min\n",
      "[Parallel(n_jobs=-1)]: Done  75 out of  75 | elapsed: 30.1min finished\n"
     ]
    },
    {
     "name": "stdout",
     "output_type": "stream",
     "text": [
      "Bird6\n"
     ]
    },
    {
     "data": {
      "application/vnd.jupyter.widget-view+json": {
       "model_id": "4720c846d75146428a1e5c7d251deaba",
       "version_major": 2,
       "version_minor": 0
      },
      "text/plain": [
       "HBox(children=(IntProgress(value=0, max=75), HTML(value='')))"
      ]
     },
     "metadata": {},
     "output_type": "display_data"
    },
    {
     "name": "stderr",
     "output_type": "stream",
     "text": [
      "[Parallel(n_jobs=-1)]: Using backend LokyBackend with 32 concurrent workers.\n",
      "[Parallel(n_jobs=-1)]: Done   1 tasks      | elapsed:   19.9s\n",
      "[Parallel(n_jobs=-1)]: Done   2 tasks      | elapsed:   20.6s\n",
      "[Parallel(n_jobs=-1)]: Done   3 tasks      | elapsed:   23.0s\n",
      "[Parallel(n_jobs=-1)]: Done   4 tasks      | elapsed:   23.6s\n",
      "[Parallel(n_jobs=-1)]: Done   5 tasks      | elapsed:   24.4s\n",
      "[Parallel(n_jobs=-1)]: Done   6 tasks      | elapsed:   26.2s\n",
      "[Parallel(n_jobs=-1)]: Done   7 tasks      | elapsed:   28.3s\n",
      "[Parallel(n_jobs=-1)]: Done   8 tasks      | elapsed:   29.7s\n",
      "[Parallel(n_jobs=-1)]: Done   9 tasks      | elapsed:   33.6s\n",
      "[Parallel(n_jobs=-1)]: Done  10 tasks      | elapsed:   43.6s\n",
      "[Parallel(n_jobs=-1)]: Done  11 tasks      | elapsed:   45.0s\n",
      "[Parallel(n_jobs=-1)]: Done  12 tasks      | elapsed:   45.5s\n",
      "[Parallel(n_jobs=-1)]: Done  18 out of  75 | elapsed:  1.0min remaining:  3.3min\n",
      "[Parallel(n_jobs=-1)]: Done  24 out of  75 | elapsed:  1.4min remaining:  2.9min\n",
      "[Parallel(n_jobs=-1)]: Done  30 out of  75 | elapsed:  1.7min remaining:  2.5min\n",
      "[Parallel(n_jobs=-1)]: Done  36 out of  75 | elapsed:  1.9min remaining:  2.1min\n",
      "[Parallel(n_jobs=-1)]: Done  42 out of  75 | elapsed:  2.2min remaining:  1.7min\n",
      "[Parallel(n_jobs=-1)]: Done  48 out of  75 | elapsed:  2.3min remaining:  1.3min\n",
      "[Parallel(n_jobs=-1)]: Done  54 out of  75 | elapsed:  2.5min remaining:   58.6s\n",
      "[Parallel(n_jobs=-1)]: Done  60 out of  75 | elapsed:  2.7min remaining:   40.7s\n",
      "[Parallel(n_jobs=-1)]: Done  66 out of  75 | elapsed:  3.3min remaining:   26.6s\n",
      "[Parallel(n_jobs=-1)]: Done  72 out of  75 | elapsed:  3.8min remaining:    9.5s\n",
      "[Parallel(n_jobs=-1)]: Done  75 out of  75 | elapsed:  4.5min finished\n"
     ]
    },
    {
     "name": "stdout",
     "output_type": "stream",
     "text": [
      "Bird0\n"
     ]
    },
    {
     "data": {
      "application/vnd.jupyter.widget-view+json": {
       "model_id": "23c386d194e94e42a82c39650adca025",
       "version_major": 2,
       "version_minor": 0
      },
      "text/plain": [
       "HBox(children=(IntProgress(value=0, max=75), HTML(value='')))"
      ]
     },
     "metadata": {},
     "output_type": "display_data"
    },
    {
     "name": "stderr",
     "output_type": "stream",
     "text": [
      "[Parallel(n_jobs=-1)]: Using backend LokyBackend with 32 concurrent workers.\n",
      "[Parallel(n_jobs=-1)]: Done   1 tasks      | elapsed:   39.8s\n",
      "[Parallel(n_jobs=-1)]: Done   2 tasks      | elapsed:   43.5s\n",
      "[Parallel(n_jobs=-1)]: Done   3 tasks      | elapsed:   52.7s\n",
      "[Parallel(n_jobs=-1)]: Done   4 tasks      | elapsed:   57.8s\n",
      "[Parallel(n_jobs=-1)]: Done   5 tasks      | elapsed:  1.0min\n",
      "[Parallel(n_jobs=-1)]: Done   6 tasks      | elapsed:  1.0min\n",
      "[Parallel(n_jobs=-1)]: Done   7 tasks      | elapsed:  1.0min\n",
      "[Parallel(n_jobs=-1)]: Done   8 tasks      | elapsed:  1.1min\n",
      "[Parallel(n_jobs=-1)]: Done   9 tasks      | elapsed:  1.1min\n",
      "[Parallel(n_jobs=-1)]: Done  10 tasks      | elapsed:  1.4min\n",
      "[Parallel(n_jobs=-1)]: Done  11 tasks      | elapsed:  1.5min\n",
      "[Parallel(n_jobs=-1)]: Done  12 tasks      | elapsed:  1.7min\n",
      "[Parallel(n_jobs=-1)]: Done  18 out of  75 | elapsed:  2.6min remaining:  8.2min\n",
      "[Parallel(n_jobs=-1)]: Done  24 out of  75 | elapsed:  2.9min remaining:  6.1min\n",
      "[Parallel(n_jobs=-1)]: Done  30 out of  75 | elapsed:  3.5min remaining:  5.2min\n",
      "[Parallel(n_jobs=-1)]: Done  36 out of  75 | elapsed:  3.7min remaining:  4.0min\n",
      "[Parallel(n_jobs=-1)]: Done  42 out of  75 | elapsed:  4.3min remaining:  3.4min\n",
      "[Parallel(n_jobs=-1)]: Done  48 out of  75 | elapsed:  4.8min remaining:  2.7min\n",
      "[Parallel(n_jobs=-1)]: Done  54 out of  75 | elapsed:  5.3min remaining:  2.0min\n",
      "[Parallel(n_jobs=-1)]: Done  60 out of  75 | elapsed:  6.1min remaining:  1.5min\n",
      "[Parallel(n_jobs=-1)]: Done  66 out of  75 | elapsed:  6.6min remaining:   54.0s\n",
      "[Parallel(n_jobs=-1)]: Done  72 out of  75 | elapsed:  7.3min remaining:   18.3s\n",
      "[Parallel(n_jobs=-1)]: Done  75 out of  75 | elapsed:  8.6min finished\n"
     ]
    },
    {
     "name": "stdout",
     "output_type": "stream",
     "text": [
      "Bird2\n"
     ]
    },
    {
     "data": {
      "application/vnd.jupyter.widget-view+json": {
       "model_id": "b88b2ed96f3541dfa5723790871796ac",
       "version_major": 2,
       "version_minor": 0
      },
      "text/plain": [
       "HBox(children=(IntProgress(value=0, max=75), HTML(value='')))"
      ]
     },
     "metadata": {},
     "output_type": "display_data"
    },
    {
     "name": "stderr",
     "output_type": "stream",
     "text": [
      "[Parallel(n_jobs=-1)]: Using backend LokyBackend with 32 concurrent workers.\n",
      "[Parallel(n_jobs=-1)]: Done   1 tasks      | elapsed:  2.6min\n",
      "[Parallel(n_jobs=-1)]: Done   2 tasks      | elapsed:  3.1min\n",
      "[Parallel(n_jobs=-1)]: Done   3 tasks      | elapsed:  3.1min\n",
      "[Parallel(n_jobs=-1)]: Done   4 tasks      | elapsed:  3.2min\n",
      "[Parallel(n_jobs=-1)]: Done   5 tasks      | elapsed:  3.9min\n",
      "[Parallel(n_jobs=-1)]: Done   6 tasks      | elapsed:  4.0min\n",
      "[Parallel(n_jobs=-1)]: Done   7 tasks      | elapsed:  4.6min\n",
      "[Parallel(n_jobs=-1)]: Done   8 tasks      | elapsed:  5.0min\n",
      "[Parallel(n_jobs=-1)]: Done   9 tasks      | elapsed:  5.1min\n",
      "[Parallel(n_jobs=-1)]: Done  10 tasks      | elapsed:  5.5min\n",
      "[Parallel(n_jobs=-1)]: Done  11 tasks      | elapsed:  6.5min\n",
      "[Parallel(n_jobs=-1)]: Done  12 tasks      | elapsed:  7.7min\n",
      "[Parallel(n_jobs=-1)]: Done  18 out of  75 | elapsed:  9.4min remaining: 29.7min\n",
      "[Parallel(n_jobs=-1)]: Done  24 out of  75 | elapsed: 12.0min remaining: 25.5min\n",
      "[Parallel(n_jobs=-1)]: Done  30 out of  75 | elapsed: 13.6min remaining: 20.4min\n",
      "[Parallel(n_jobs=-1)]: Done  36 out of  75 | elapsed: 16.0min remaining: 17.4min\n",
      "[Parallel(n_jobs=-1)]: Done  42 out of  75 | elapsed: 17.5min remaining: 13.8min\n",
      "[Parallel(n_jobs=-1)]: Done  48 out of  75 | elapsed: 18.8min remaining: 10.6min\n",
      "[Parallel(n_jobs=-1)]: Done  54 out of  75 | elapsed: 19.8min remaining:  7.7min\n",
      "[Parallel(n_jobs=-1)]: Done  60 out of  75 | elapsed: 21.1min remaining:  5.3min\n",
      "[Parallel(n_jobs=-1)]: Done  66 out of  75 | elapsed: 22.2min remaining:  3.0min\n",
      "[Parallel(n_jobs=-1)]: Done  72 out of  75 | elapsed: 23.9min remaining:   59.8s\n",
      "[Parallel(n_jobs=-1)]: Done  75 out of  75 | elapsed: 31.1min finished\n"
     ]
    },
    {
     "name": "stdout",
     "output_type": "stream",
     "text": [
      "Bird1\n"
     ]
    },
    {
     "data": {
      "application/vnd.jupyter.widget-view+json": {
       "model_id": "e2c7bd1b644644289ec1ed3461affcec",
       "version_major": 2,
       "version_minor": 0
      },
      "text/plain": [
       "HBox(children=(IntProgress(value=0, max=75), HTML(value='')))"
      ]
     },
     "metadata": {},
     "output_type": "display_data"
    },
    {
     "name": "stderr",
     "output_type": "stream",
     "text": [
      "[Parallel(n_jobs=-1)]: Using backend LokyBackend with 32 concurrent workers.\n",
      "[Parallel(n_jobs=-1)]: Done   1 tasks      | elapsed:  1.3min\n",
      "[Parallel(n_jobs=-1)]: Done   2 tasks      | elapsed:  1.6min\n",
      "[Parallel(n_jobs=-1)]: Done   3 tasks      | elapsed:  1.7min\n",
      "[Parallel(n_jobs=-1)]: Done   4 tasks      | elapsed:  2.7min\n",
      "[Parallel(n_jobs=-1)]: Done   5 tasks      | elapsed:  3.2min\n",
      "[Parallel(n_jobs=-1)]: Done   6 tasks      | elapsed:  3.9min\n",
      "[Parallel(n_jobs=-1)]: Done   7 tasks      | elapsed:  4.3min\n",
      "[Parallel(n_jobs=-1)]: Done   8 tasks      | elapsed:  4.3min\n",
      "[Parallel(n_jobs=-1)]: Done   9 tasks      | elapsed:  4.6min\n",
      "[Parallel(n_jobs=-1)]: Done  10 tasks      | elapsed:  5.6min\n",
      "[Parallel(n_jobs=-1)]: Done  11 tasks      | elapsed:  6.1min\n",
      "[Parallel(n_jobs=-1)]: Done  12 tasks      | elapsed:  6.7min\n",
      "[Parallel(n_jobs=-1)]: Done  18 out of  75 | elapsed:  9.8min remaining: 31.0min\n",
      "[Parallel(n_jobs=-1)]: Done  24 out of  75 | elapsed: 11.4min remaining: 24.2min\n",
      "[Parallel(n_jobs=-1)]: Done  30 out of  75 | elapsed: 17.7min remaining: 26.6min\n",
      "[Parallel(n_jobs=-1)]: Done  36 out of  75 | elapsed: 20.3min remaining: 22.0min\n",
      "[Parallel(n_jobs=-1)]: Done  42 out of  75 | elapsed: 24.0min remaining: 18.9min\n",
      "[Parallel(n_jobs=-1)]: Done  48 out of  75 | elapsed: 26.3min remaining: 14.8min\n",
      "[Parallel(n_jobs=-1)]: Done  54 out of  75 | elapsed: 27.2min remaining: 10.6min\n",
      "[Parallel(n_jobs=-1)]: Done  60 out of  75 | elapsed: 29.4min remaining:  7.4min\n",
      "[Parallel(n_jobs=-1)]: Done  66 out of  75 | elapsed: 30.9min remaining:  4.2min\n",
      "[Parallel(n_jobs=-1)]: Done  72 out of  75 | elapsed: 35.2min remaining:  1.5min\n",
      "[Parallel(n_jobs=-1)]: Done  75 out of  75 | elapsed: 42.7min finished\n"
     ]
    },
    {
     "name": "stdout",
     "output_type": "stream",
     "text": [
      "Bird3\n"
     ]
    },
    {
     "data": {
      "application/vnd.jupyter.widget-view+json": {
       "model_id": "5f86051d7aad4cf9857951f4f82ae5f0",
       "version_major": 2,
       "version_minor": 0
      },
      "text/plain": [
       "HBox(children=(IntProgress(value=0, max=75), HTML(value='')))"
      ]
     },
     "metadata": {},
     "output_type": "display_data"
    },
    {
     "name": "stderr",
     "output_type": "stream",
     "text": [
      "[Parallel(n_jobs=-1)]: Using backend LokyBackend with 32 concurrent workers.\n",
      "[Parallel(n_jobs=-1)]: Done   1 tasks      | elapsed:   43.3s\n",
      "[Parallel(n_jobs=-1)]: Done   2 tasks      | elapsed:   44.8s\n",
      "[Parallel(n_jobs=-1)]: Done   3 tasks      | elapsed:  1.0min\n",
      "[Parallel(n_jobs=-1)]: Done   4 tasks      | elapsed:  1.2min\n",
      "[Parallel(n_jobs=-1)]: Done   5 tasks      | elapsed:  1.6min\n",
      "[Parallel(n_jobs=-1)]: Done   6 tasks      | elapsed:  1.8min\n",
      "[Parallel(n_jobs=-1)]: Done   7 tasks      | elapsed:  1.9min\n",
      "[Parallel(n_jobs=-1)]: Done   8 tasks      | elapsed:  1.9min\n",
      "[Parallel(n_jobs=-1)]: Done   9 tasks      | elapsed:  2.0min\n",
      "[Parallel(n_jobs=-1)]: Done  10 tasks      | elapsed:  2.2min\n",
      "[Parallel(n_jobs=-1)]: Done  11 tasks      | elapsed:  2.4min\n",
      "[Parallel(n_jobs=-1)]: Done  12 tasks      | elapsed:  2.5min\n",
      "[Parallel(n_jobs=-1)]: Done  18 out of  75 | elapsed:  3.3min remaining: 10.6min\n",
      "[Parallel(n_jobs=-1)]: Done  24 out of  75 | elapsed:  3.8min remaining:  8.0min\n",
      "[Parallel(n_jobs=-1)]: Done  30 out of  75 | elapsed:  4.8min remaining:  7.2min\n",
      "[Parallel(n_jobs=-1)]: Done  36 out of  75 | elapsed:  5.4min remaining:  5.8min\n",
      "[Parallel(n_jobs=-1)]: Done  42 out of  75 | elapsed:  6.0min remaining:  4.7min\n",
      "[Parallel(n_jobs=-1)]: Done  48 out of  75 | elapsed:  7.1min remaining:  4.0min\n",
      "[Parallel(n_jobs=-1)]: Done  54 out of  75 | elapsed:  7.6min remaining:  2.9min\n",
      "[Parallel(n_jobs=-1)]: Done  60 out of  75 | elapsed:  8.8min remaining:  2.2min\n",
      "[Parallel(n_jobs=-1)]: Done  66 out of  75 | elapsed:  9.5min remaining:  1.3min\n",
      "[Parallel(n_jobs=-1)]: Done  72 out of  75 | elapsed: 10.7min remaining:   26.7s\n",
      "[Parallel(n_jobs=-1)]: Done  75 out of  75 | elapsed: 11.8min finished\n"
     ]
    },
    {
     "name": "stdout",
     "output_type": "stream",
     "text": [
      "Bird5\n"
     ]
    },
    {
     "data": {
      "application/vnd.jupyter.widget-view+json": {
       "model_id": "7514115f8fc84d88954fa1b78817a638",
       "version_major": 2,
       "version_minor": 0
      },
      "text/plain": [
       "HBox(children=(IntProgress(value=0, max=75), HTML(value='')))"
      ]
     },
     "metadata": {},
     "output_type": "display_data"
    },
    {
     "name": "stderr",
     "output_type": "stream",
     "text": [
      "[Parallel(n_jobs=-1)]: Using backend LokyBackend with 32 concurrent workers.\n",
      "/mnt/cube/tsainbur/conda_envs/tpy3/lib/python3.6/site-packages/joblib/externals/loky/process_executor.py:706: UserWarning: A worker stopped while some jobs were given to the executor. This can be caused by a too short worker timeout or by a memory leak.\n",
      "  \"timeout or by a memory leak.\", UserWarning\n",
      "[Parallel(n_jobs=-1)]: Done   1 tasks      | elapsed:    4.8s\n",
      "[Parallel(n_jobs=-1)]: Done   2 tasks      | elapsed:    7.9s\n",
      "[Parallel(n_jobs=-1)]: Done   3 tasks      | elapsed:   13.1s\n",
      "[Parallel(n_jobs=-1)]: Done   4 tasks      | elapsed:   14.8s\n",
      "[Parallel(n_jobs=-1)]: Done   5 tasks      | elapsed:   39.2s\n",
      "[Parallel(n_jobs=-1)]: Done   6 tasks      | elapsed:   57.9s\n",
      "[Parallel(n_jobs=-1)]: Done   7 tasks      | elapsed:  1.2min\n",
      "[Parallel(n_jobs=-1)]: Done   8 tasks      | elapsed:  1.2min\n",
      "[Parallel(n_jobs=-1)]: Done   9 tasks      | elapsed:  1.4min\n",
      "[Parallel(n_jobs=-1)]: Done  10 tasks      | elapsed:  1.6min\n",
      "[Parallel(n_jobs=-1)]: Done  11 tasks      | elapsed:  2.0min\n",
      "[Parallel(n_jobs=-1)]: Done  12 tasks      | elapsed:  2.1min\n",
      "[Parallel(n_jobs=-1)]: Done  18 out of  75 | elapsed:  2.8min remaining:  8.9min\n",
      "[Parallel(n_jobs=-1)]: Done  24 out of  75 | elapsed:  3.3min remaining:  7.1min\n",
      "[Parallel(n_jobs=-1)]: Done  30 out of  75 | elapsed:  4.2min remaining:  6.2min\n",
      "[Parallel(n_jobs=-1)]: Done  36 out of  75 | elapsed:  4.5min remaining:  4.8min\n",
      "[Parallel(n_jobs=-1)]: Done  42 out of  75 | elapsed:  4.9min remaining:  3.9min\n",
      "[Parallel(n_jobs=-1)]: Done  48 out of  75 | elapsed:  5.2min remaining:  3.0min\n",
      "[Parallel(n_jobs=-1)]: Done  54 out of  75 | elapsed:  6.0min remaining:  2.3min\n",
      "[Parallel(n_jobs=-1)]: Done  60 out of  75 | elapsed:  7.1min remaining:  1.8min\n",
      "[Parallel(n_jobs=-1)]: Done  66 out of  75 | elapsed:  8.1min remaining:  1.1min\n",
      "[Parallel(n_jobs=-1)]: Done  72 out of  75 | elapsed:  8.4min remaining:   20.9s\n",
      "[Parallel(n_jobs=-1)]: Done  75 out of  75 | elapsed: 10.4min finished\n"
     ]
    },
    {
     "name": "stdout",
     "output_type": "stream",
     "text": [
      "Bird8\n"
     ]
    },
    {
     "data": {
      "application/vnd.jupyter.widget-view+json": {
       "model_id": "c7996d1595a14c45b6e7ba38aff13d2e",
       "version_major": 2,
       "version_minor": 0
      },
      "text/plain": [
       "HBox(children=(IntProgress(value=0, max=75), HTML(value='')))"
      ]
     },
     "metadata": {},
     "output_type": "display_data"
    },
    {
     "name": "stderr",
     "output_type": "stream",
     "text": [
      "[Parallel(n_jobs=-1)]: Using backend LokyBackend with 32 concurrent workers.\n",
      "[Parallel(n_jobs=-1)]: Done   1 tasks      | elapsed:  1.8min\n",
      "[Parallel(n_jobs=-1)]: Done   2 tasks      | elapsed:  2.3min\n",
      "[Parallel(n_jobs=-1)]: Done   3 tasks      | elapsed:  2.4min\n",
      "[Parallel(n_jobs=-1)]: Done   4 tasks      | elapsed:  3.0min\n",
      "[Parallel(n_jobs=-1)]: Done   5 tasks      | elapsed:  3.0min\n",
      "[Parallel(n_jobs=-1)]: Done   6 tasks      | elapsed:  3.2min\n",
      "[Parallel(n_jobs=-1)]: Done   7 tasks      | elapsed:  3.5min\n",
      "[Parallel(n_jobs=-1)]: Done   8 tasks      | elapsed:  4.6min\n",
      "[Parallel(n_jobs=-1)]: Done   9 tasks      | elapsed:  5.0min\n",
      "[Parallel(n_jobs=-1)]: Done  10 tasks      | elapsed:  5.2min\n",
      "[Parallel(n_jobs=-1)]: Done  11 tasks      | elapsed:  5.7min\n",
      "[Parallel(n_jobs=-1)]: Done  12 tasks      | elapsed:  5.9min\n",
      "[Parallel(n_jobs=-1)]: Done  18 out of  75 | elapsed:  9.0min remaining: 28.5min\n",
      "[Parallel(n_jobs=-1)]: Done  24 out of  75 | elapsed: 11.2min remaining: 23.7min\n",
      "[Parallel(n_jobs=-1)]: Done  30 out of  75 | elapsed: 13.7min remaining: 20.5min\n",
      "[Parallel(n_jobs=-1)]: Done  36 out of  75 | elapsed: 14.6min remaining: 15.8min\n",
      "[Parallel(n_jobs=-1)]: Done  42 out of  75 | elapsed: 18.8min remaining: 14.8min\n",
      "[Parallel(n_jobs=-1)]: Done  48 out of  75 | elapsed: 21.4min remaining: 12.0min\n",
      "[Parallel(n_jobs=-1)]: Done  54 out of  75 | elapsed: 23.1min remaining:  9.0min\n",
      "[Parallel(n_jobs=-1)]: Done  60 out of  75 | elapsed: 27.6min remaining:  6.9min\n",
      "[Parallel(n_jobs=-1)]: Done  66 out of  75 | elapsed: 29.1min remaining:  4.0min\n",
      "[Parallel(n_jobs=-1)]: Done  72 out of  75 | elapsed: 33.1min remaining:  1.4min\n",
      "[Parallel(n_jobs=-1)]: Done  75 out of  75 | elapsed: 44.5min finished\n"
     ]
    },
    {
     "name": "stdout",
     "output_type": "stream",
     "text": [
      "Bird7\n"
     ]
    },
    {
     "data": {
      "application/vnd.jupyter.widget-view+json": {
       "model_id": "c90764f334624099a50dea4acff4cd9b",
       "version_major": 2,
       "version_minor": 0
      },
      "text/plain": [
       "HBox(children=(IntProgress(value=0, max=75), HTML(value='')))"
      ]
     },
     "metadata": {},
     "output_type": "display_data"
    },
    {
     "name": "stderr",
     "output_type": "stream",
     "text": [
      "[Parallel(n_jobs=-1)]: Using backend LokyBackend with 32 concurrent workers.\n",
      "[Parallel(n_jobs=-1)]: Done   1 tasks      | elapsed:  6.4min\n",
      "[Parallel(n_jobs=-1)]: Done   2 tasks      | elapsed:  7.9min\n",
      "[Parallel(n_jobs=-1)]: Done   3 tasks      | elapsed:  8.6min\n",
      "[Parallel(n_jobs=-1)]: Done   4 tasks      | elapsed:  8.6min\n",
      "[Parallel(n_jobs=-1)]: Done   5 tasks      | elapsed:  8.8min\n",
      "[Parallel(n_jobs=-1)]: Done   6 tasks      | elapsed:  8.8min\n",
      "[Parallel(n_jobs=-1)]: Done   7 tasks      | elapsed: 11.2min\n",
      "[Parallel(n_jobs=-1)]: Done   8 tasks      | elapsed: 12.4min\n",
      "[Parallel(n_jobs=-1)]: Done   9 tasks      | elapsed: 12.5min\n",
      "[Parallel(n_jobs=-1)]: Done  10 tasks      | elapsed: 13.6min\n",
      "[Parallel(n_jobs=-1)]: Done  11 tasks      | elapsed: 15.1min\n",
      "[Parallel(n_jobs=-1)]: Done  12 tasks      | elapsed: 15.1min\n",
      "[Parallel(n_jobs=-1)]: Done  18 out of  75 | elapsed: 19.9min remaining: 63.0min\n",
      "[Parallel(n_jobs=-1)]: Done  24 out of  75 | elapsed: 24.5min remaining: 52.1min\n",
      "[Parallel(n_jobs=-1)]: Done  30 out of  75 | elapsed: 25.9min remaining: 38.9min\n",
      "[Parallel(n_jobs=-1)]: Done  36 out of  75 | elapsed: 38.6min remaining: 41.8min\n",
      "[Parallel(n_jobs=-1)]: Done  42 out of  75 | elapsed: 42.5min remaining: 33.4min\n",
      "[Parallel(n_jobs=-1)]: Done  48 out of  75 | elapsed: 47.2min remaining: 26.6min\n",
      "[Parallel(n_jobs=-1)]: Done  54 out of  75 | elapsed: 53.5min remaining: 20.8min\n",
      "[Parallel(n_jobs=-1)]: Done  60 out of  75 | elapsed: 57.2min remaining: 14.3min\n",
      "[Parallel(n_jobs=-1)]: Done  66 out of  75 | elapsed: 61.8min remaining:  8.4min\n",
      "[Parallel(n_jobs=-1)]: Done  72 out of  75 | elapsed: 80.1min remaining:  3.3min\n",
      "[Parallel(n_jobs=-1)]: Done  75 out of  75 | elapsed: 86.6min finished\n"
     ]
    },
    {
     "name": "stdout",
     "output_type": "stream",
     "text": [
      "bl26lb16\n"
     ]
    },
    {
     "data": {
      "application/vnd.jupyter.widget-view+json": {
       "model_id": "c898c293104845e699f05be02e995d1a",
       "version_major": 2,
       "version_minor": 0
      },
      "text/plain": [
       "HBox(children=(IntProgress(value=0, max=75), HTML(value='')))"
      ]
     },
     "metadata": {},
     "output_type": "display_data"
    },
    {
     "name": "stderr",
     "output_type": "stream",
     "text": [
      "[Parallel(n_jobs=-1)]: Using backend LokyBackend with 32 concurrent workers.\n",
      "[Parallel(n_jobs=-1)]: Done   1 tasks      | elapsed:  1.8min\n",
      "[Parallel(n_jobs=-1)]: Done   2 tasks      | elapsed:  1.9min\n",
      "[Parallel(n_jobs=-1)]: Done   3 tasks      | elapsed:  2.2min\n",
      "[Parallel(n_jobs=-1)]: Done   4 tasks      | elapsed:  2.2min\n",
      "[Parallel(n_jobs=-1)]: Done   5 tasks      | elapsed:  2.4min\n",
      "[Parallel(n_jobs=-1)]: Done   6 tasks      | elapsed:  2.5min\n",
      "[Parallel(n_jobs=-1)]: Done   7 tasks      | elapsed:  2.6min\n",
      "[Parallel(n_jobs=-1)]: Done   8 tasks      | elapsed:  2.7min\n",
      "[Parallel(n_jobs=-1)]: Done   9 tasks      | elapsed:  2.9min\n",
      "[Parallel(n_jobs=-1)]: Done  10 tasks      | elapsed:  3.3min\n",
      "[Parallel(n_jobs=-1)]: Done  11 tasks      | elapsed:  3.4min\n",
      "[Parallel(n_jobs=-1)]: Done  12 tasks      | elapsed:  3.8min\n",
      "[Parallel(n_jobs=-1)]: Done  18 out of  75 | elapsed:  5.7min remaining: 18.2min\n",
      "[Parallel(n_jobs=-1)]: Done  24 out of  75 | elapsed:  6.7min remaining: 14.2min\n",
      "[Parallel(n_jobs=-1)]: Done  30 out of  75 | elapsed: 10.0min remaining: 15.0min\n",
      "[Parallel(n_jobs=-1)]: Done  36 out of  75 | elapsed: 12.2min remaining: 13.3min\n",
      "[Parallel(n_jobs=-1)]: Done  42 out of  75 | elapsed: 13.8min remaining: 10.8min\n",
      "[Parallel(n_jobs=-1)]: Done  48 out of  75 | elapsed: 14.5min remaining:  8.2min\n",
      "[Parallel(n_jobs=-1)]: Done  54 out of  75 | elapsed: 15.7min remaining:  6.1min\n",
      "[Parallel(n_jobs=-1)]: Done  60 out of  75 | elapsed: 16.7min remaining:  4.2min\n",
      "[Parallel(n_jobs=-1)]: Done  66 out of  75 | elapsed: 19.8min remaining:  2.7min\n",
      "[Parallel(n_jobs=-1)]: Done  72 out of  75 | elapsed: 21.6min remaining:   54.0s\n",
      "[Parallel(n_jobs=-1)]: Done  75 out of  75 | elapsed: 28.2min finished\n"
     ]
    },
    {
     "name": "stdout",
     "output_type": "stream",
     "text": [
      "gy6or6\n"
     ]
    },
    {
     "data": {
      "application/vnd.jupyter.widget-view+json": {
       "model_id": "b0843b8946ed44fc8b56cee173724d5d",
       "version_major": 2,
       "version_minor": 0
      },
      "text/plain": [
       "HBox(children=(IntProgress(value=0, max=75), HTML(value='')))"
      ]
     },
     "metadata": {},
     "output_type": "display_data"
    },
    {
     "name": "stderr",
     "output_type": "stream",
     "text": [
      "[Parallel(n_jobs=-1)]: Using backend LokyBackend with 32 concurrent workers.\n",
      "[Parallel(n_jobs=-1)]: Done   1 tasks      | elapsed:  1.2min\n",
      "[Parallel(n_jobs=-1)]: Done   2 tasks      | elapsed:  1.8min\n",
      "[Parallel(n_jobs=-1)]: Done   3 tasks      | elapsed:  1.9min\n",
      "[Parallel(n_jobs=-1)]: Done   4 tasks      | elapsed:  2.0min\n",
      "[Parallel(n_jobs=-1)]: Done   5 tasks      | elapsed:  2.3min\n",
      "[Parallel(n_jobs=-1)]: Done   6 tasks      | elapsed:  2.5min\n",
      "[Parallel(n_jobs=-1)]: Done   7 tasks      | elapsed:  2.6min\n",
      "[Parallel(n_jobs=-1)]: Done   8 tasks      | elapsed:  3.5min\n",
      "[Parallel(n_jobs=-1)]: Done   9 tasks      | elapsed:  4.1min\n",
      "[Parallel(n_jobs=-1)]: Done  10 tasks      | elapsed:  4.4min\n",
      "[Parallel(n_jobs=-1)]: Done  11 tasks      | elapsed:  4.9min\n",
      "[Parallel(n_jobs=-1)]: Done  12 tasks      | elapsed:  5.1min\n",
      "[Parallel(n_jobs=-1)]: Done  18 out of  75 | elapsed:  6.6min remaining: 21.0min\n",
      "[Parallel(n_jobs=-1)]: Done  24 out of  75 | elapsed:  8.1min remaining: 17.2min\n",
      "[Parallel(n_jobs=-1)]: Done  30 out of  75 | elapsed: 10.0min remaining: 15.0min\n",
      "[Parallel(n_jobs=-1)]: Done  36 out of  75 | elapsed: 12.2min remaining: 13.2min\n",
      "[Parallel(n_jobs=-1)]: Done  42 out of  75 | elapsed: 14.0min remaining: 11.0min\n",
      "[Parallel(n_jobs=-1)]: Done  48 out of  75 | elapsed: 15.4min remaining:  8.6min\n",
      "[Parallel(n_jobs=-1)]: Done  54 out of  75 | elapsed: 17.3min remaining:  6.7min\n",
      "[Parallel(n_jobs=-1)]: Done  60 out of  75 | elapsed: 18.7min remaining:  4.7min\n",
      "[Parallel(n_jobs=-1)]: Done  66 out of  75 | elapsed: 21.0min remaining:  2.9min\n",
      "[Parallel(n_jobs=-1)]: Done  72 out of  75 | elapsed: 23.1min remaining:   57.7s\n",
      "[Parallel(n_jobs=-1)]: Done  75 out of  75 | elapsed: 25.4min finished\n"
     ]
    },
    {
     "name": "stdout",
     "output_type": "stream",
     "text": [
      "or60yw70\n"
     ]
    },
    {
     "data": {
      "application/vnd.jupyter.widget-view+json": {
       "model_id": "e05edbd88e7e46258849739f04d89ad7",
       "version_major": 2,
       "version_minor": 0
      },
      "text/plain": [
       "HBox(children=(IntProgress(value=0, max=75), HTML(value='')))"
      ]
     },
     "metadata": {},
     "output_type": "display_data"
    },
    {
     "name": "stderr",
     "output_type": "stream",
     "text": [
      "[Parallel(n_jobs=-1)]: Using backend LokyBackend with 32 concurrent workers.\n",
      "[Parallel(n_jobs=-1)]: Done   1 tasks      | elapsed:  2.6min\n",
      "[Parallel(n_jobs=-1)]: Done   2 tasks      | elapsed:  2.9min\n",
      "[Parallel(n_jobs=-1)]: Done   3 tasks      | elapsed:  3.5min\n",
      "[Parallel(n_jobs=-1)]: Done   4 tasks      | elapsed:  4.5min\n",
      "[Parallel(n_jobs=-1)]: Done   5 tasks      | elapsed:  4.9min\n",
      "[Parallel(n_jobs=-1)]: Done   6 tasks      | elapsed:  5.1min\n",
      "[Parallel(n_jobs=-1)]: Done   7 tasks      | elapsed:  5.7min\n",
      "[Parallel(n_jobs=-1)]: Done   8 tasks      | elapsed:  5.8min\n",
      "[Parallel(n_jobs=-1)]: Done   9 tasks      | elapsed:  6.0min\n",
      "[Parallel(n_jobs=-1)]: Done  10 tasks      | elapsed:  6.2min\n",
      "[Parallel(n_jobs=-1)]: Done  11 tasks      | elapsed:  6.8min\n",
      "[Parallel(n_jobs=-1)]: Done  12 tasks      | elapsed:  7.9min\n",
      "[Parallel(n_jobs=-1)]: Done  18 out of  75 | elapsed: 12.6min remaining: 39.8min\n",
      "[Parallel(n_jobs=-1)]: Done  24 out of  75 | elapsed: 14.4min remaining: 30.7min\n",
      "[Parallel(n_jobs=-1)]: Done  30 out of  75 | elapsed: 17.0min remaining: 25.5min\n",
      "[Parallel(n_jobs=-1)]: Done  36 out of  75 | elapsed: 19.9min remaining: 21.6min\n",
      "[Parallel(n_jobs=-1)]: Done  42 out of  75 | elapsed: 23.3min remaining: 18.3min\n",
      "[Parallel(n_jobs=-1)]: Done  48 out of  75 | elapsed: 25.4min remaining: 14.3min\n",
      "[Parallel(n_jobs=-1)]: Done  54 out of  75 | elapsed: 27.7min remaining: 10.8min\n",
      "[Parallel(n_jobs=-1)]: Done  60 out of  75 | elapsed: 30.1min remaining:  7.5min\n",
      "[Parallel(n_jobs=-1)]: Done  66 out of  75 | elapsed: 32.2min remaining:  4.4min\n",
      "[Parallel(n_jobs=-1)]: Done  72 out of  75 | elapsed: 36.2min remaining:  1.5min\n",
      "[Parallel(n_jobs=-1)]: Done  75 out of  75 | elapsed: 38.5min finished\n"
     ]
    }
   ],
   "source": [
    "for loc in tqdm(embeddings_dfs):\n",
    "    print(indv)\n",
    "    # read dataframe\n",
    "    indv_df = pd.read_pickle(loc).sort_values(by=[\"key\", \"start_time\"])\n",
    "    indv = indv_df.indv.unique()[0]\n",
    "\n",
    "    # Get seqs\n",
    "    hand_seqs = [\n",
    "        list(indv_df[indv_df.syllables_sequence_id == seqid][\"labels_num\"].values)\n",
    "        for seqid in indv_df.syllables_sequence_id.unique()\n",
    "    ]\n",
    "\n",
    "    \n",
    "    n_repeats = 5\n",
    "    results = Parallel(n_jobs=-1, verbose=15)(\n",
    "        delayed(fit_hmm)(\n",
    "            hand_seqs,\n",
    "            n_components,\n",
    "            prop_test = 0.0,\n",
    "            verbose=False,\n",
    "            pom_stop_threshold=1e-1,\n",
    "            pom_max_iterations=1e3,\n",
    "        )\n",
    "        for n_components in tqdm(\n",
    "            np.random.permutation(np.repeat(np.arange(15, 45, 2), n_repeats))\n",
    "        )\n",
    "    )\n",
    "    results_df = pd.DataFrame(\n",
    "        results,\n",
    "        columns=[\n",
    "            \"n_components\",\n",
    "            \"hmmlearn_model\",\n",
    "            \"pom_model\",\n",
    "            \"seqs_train\",\n",
    "            \"seqs_test\",\n",
    "            \"hmmlearn_predictions\",\n",
    "            \"pom_predictions\",\n",
    "            \"n_params\",\n",
    "            \"hmmlearn_log_probability\",\n",
    "            \"pom_log_probability\",\n",
    "            \"aic\",\n",
    "            \"bic\",\n",
    "        ],\n",
    "    )\n",
    "    \n",
    "    results_df[\"indv\"] = indv\n",
    "    save_loc = DATA_DIR / \"HMM_fits\" / \"HMM\" / (indv + \".pickle\")\n",
    "    ensure_dir(save_loc)\n",
    "    results_df.to_pickle(save_loc)\n",
    "\n",
    "    "
   ]
  },
  {
   "cell_type": "code",
   "execution_count": null,
   "metadata": {},
   "outputs": [],
   "source": []
  }
 ],
 "metadata": {
  "kernelspec": {
   "display_name": "Python 3",
   "language": "python",
   "name": "python3"
  },
  "language_info": {
   "codemirror_mode": {
    "name": "ipython",
    "version": 3
   },
   "file_extension": ".py",
   "mimetype": "text/x-python",
   "name": "python",
   "nbconvert_exporter": "python",
   "pygments_lexer": "ipython3",
   "version": "3.6.7"
  }
 },
 "nbformat": 4,
 "nbformat_minor": 2
}
