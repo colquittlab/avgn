{
 "cells": [
  {
   "cell_type": "markdown",
   "metadata": {},
   "source": [
    "### giant otter vocalizations\n",
    "- ~500 vocalizations from https://journals.plos.org/plosone/article?id=10.1371/journal.pone.0112562"
   ]
  },
  {
   "cell_type": "code",
   "execution_count": 1,
   "metadata": {
    "ExecuteTime": {
     "end_time": "2019-10-01T03:41:54.784371Z",
     "start_time": "2019-10-01T03:41:54.136683Z"
    }
   },
   "outputs": [],
   "source": [
    "%load_ext autoreload\n",
    "%autoreload 2"
   ]
  },
  {
   "cell_type": "code",
   "execution_count": 12,
   "metadata": {
    "ExecuteTime": {
     "end_time": "2019-10-01T03:48:12.257435Z",
     "start_time": "2019-10-01T03:48:12.188571Z"
    }
   },
   "outputs": [],
   "source": [
    "from avgn.downloading.download import download_tqdm\n",
    "from avgn.utils.paths import DATA_DIR, ensure_dir\n",
    "from avgn.utils.general import unzip_file"
   ]
  },
  {
   "cell_type": "code",
   "execution_count": 9,
   "metadata": {
    "ExecuteTime": {
     "end_time": "2019-10-01T03:47:22.708580Z",
     "start_time": "2019-10-01T03:47:21.221166Z"
    }
   },
   "outputs": [],
   "source": [
    "data_urls = [\n",
    "    ('https://journals.plos.org/plosone/article/file?id=10.1371/journal.pone.0112562.s018&type=supplementary', 'adult.zip'),\n",
    "    ('https://journals.plos.org/plosone/article/file?id=10.1371/journal.pone.0112562.s019&type=supplementary', 'infant.zip'),\n",
    "]\n",
    "output_loc = DATA_DIR /\"raw/otter/\""
   ]
  },
  {
   "cell_type": "code",
   "execution_count": 10,
   "metadata": {
    "ExecuteTime": {
     "end_time": "2019-10-01T03:47:23.291683Z",
     "start_time": "2019-10-01T03:47:22.713785Z"
    }
   },
   "outputs": [
    {
     "data": {
      "application/vnd.jupyter.widget-view+json": {
       "model_id": "e5dc9ca3d9234c32ac65b7d10c5059b9",
       "version_major": 2,
       "version_minor": 0
      },
      "text/plain": [
       "HBox(children=(IntProgress(value=1, bar_style='info', max=1), HTML(value='')))"
      ]
     },
     "metadata": {},
     "output_type": "display_data"
    },
    {
     "name": "stdout",
     "output_type": "stream",
     "text": [
      "\n"
     ]
    }
   ],
   "source": [
    "for url, filename in data_urls:\n",
    "    download_tqdm(url, output_location=output_loc/filename)    "
   ]
  },
  {
   "cell_type": "code",
   "execution_count": 13,
   "metadata": {
    "ExecuteTime": {
     "end_time": "2019-10-01T03:48:15.733721Z",
     "start_time": "2019-10-01T03:48:13.379799Z"
    }
   },
   "outputs": [
    {
     "data": {
      "application/vnd.jupyter.widget-view+json": {
       "model_id": "23bcc3783b2244f3b0f2df87a006a8f7",
       "version_major": 2,
       "version_minor": 0
      },
      "text/plain": [
       "HBox(children=(IntProgress(value=0, max=441), HTML(value='')))"
      ]
     },
     "metadata": {},
     "output_type": "display_data"
    },
    {
     "name": "stdout",
     "output_type": "stream",
     "text": [
      "\n"
     ]
    },
    {
     "data": {
      "application/vnd.jupyter.widget-view+json": {
       "model_id": "ea9a70ccc92c495e975888be2838011e",
       "version_major": 2,
       "version_minor": 0
      },
      "text/plain": [
       "HBox(children=(IntProgress(value=0, max=12), HTML(value='')))"
      ]
     },
     "metadata": {},
     "output_type": "display_data"
    },
    {
     "name": "stdout",
     "output_type": "stream",
     "text": [
      "\n"
     ]
    }
   ],
   "source": [
    "# unzip\n",
    "for url, filename in data_urls:\n",
    "    unzip_file(output_loc/filename, output_loc/\"zip_contents\")"
   ]
  },
  {
   "cell_type": "code",
   "execution_count": null,
   "metadata": {},
   "outputs": [],
   "source": []
  },
  {
   "cell_type": "code",
   "execution_count": null,
   "metadata": {},
   "outputs": [],
   "source": []
  }
 ],
 "metadata": {
  "kernelspec": {
   "display_name": "Python 3",
   "language": "python",
   "name": "python3"
  },
  "language_info": {
   "codemirror_mode": {
    "name": "ipython",
    "version": 3
   },
   "file_extension": ".py",
   "mimetype": "text/x-python",
   "name": "python",
   "nbconvert_exporter": "python",
   "pygments_lexer": "ipython3",
   "version": "3.6.7"
  }
 },
 "nbformat": 4,
 "nbformat_minor": 2
}
