{
 "cells": [
  {
   "cell_type": "markdown",
   "metadata": {},
   "source": [
    "### Download the song dataset from Katahira et al\n",
    "- Data location: https://datadryad.org/resource/doi:10.5061/dryad.6pt8g"
   ]
  },
  {
   "cell_type": "code",
   "execution_count": 1,
   "metadata": {
    "ExecuteTime": {
     "end_time": "2019-09-02T20:24:43.149552Z",
     "start_time": "2019-09-02T20:24:43.128809Z"
    }
   },
   "outputs": [],
   "source": [
    "%load_ext autoreload\n",
    "%autoreload 2"
   ]
  },
  {
   "cell_type": "code",
   "execution_count": 2,
   "metadata": {
    "ExecuteTime": {
     "end_time": "2019-09-02T20:24:46.648402Z",
     "start_time": "2019-09-02T20:24:43.151291Z"
    }
   },
   "outputs": [],
   "source": [
    "from avgn.downloading.download import download_tqdm\n",
    "from avgn.utils.paths import DATA_DIR\n",
    "from avgn.utils.general import unzip_file"
   ]
  },
  {
   "cell_type": "code",
   "execution_count": 4,
   "metadata": {
    "ExecuteTime": {
     "end_time": "2019-09-02T20:25:38.059823Z",
     "start_time": "2019-09-02T20:25:37.396683Z"
    }
   },
   "outputs": [],
   "source": [
    "BF_url = \"https://datadryad.org/bitstream/handle/10255/dryad.55702/BF.zip\"\n",
    "output_loc = DATA_DIR/\"raw/katahira/BF.zip\""
   ]
  },
  {
   "cell_type": "code",
   "execution_count": 33,
   "metadata": {
    "ExecuteTime": {
     "end_time": "2019-09-02T20:38:40.398131Z",
     "start_time": "2019-09-02T20:36:43.043051Z"
    }
   },
   "outputs": [
    {
     "name": "stderr",
     "output_type": "stream",
     "text": [
      "1.08MKB [01:55, 9.36kKB/s]                           \n"
     ]
    }
   ],
   "source": [
    "download_tqdm(BF_url, output_location=output_loc)"
   ]
  },
  {
   "cell_type": "code",
   "execution_count": 45,
   "metadata": {
    "ExecuteTime": {
     "end_time": "2019-09-02T20:42:42.195957Z",
     "start_time": "2019-09-02T20:41:59.187754Z"
    }
   },
   "outputs": [
    {
     "data": {
      "application/vnd.jupyter.widget-view+json": {
       "model_id": "9219085423bc41e7acdceb75242989fe",
       "version_major": 2,
       "version_minor": 0
      },
      "text/plain": [
       "HBox(children=(IntProgress(value=0, max=1395), HTML(value='')))"
      ]
     },
     "metadata": {},
     "output_type": "display_data"
    },
    {
     "name": "stdout",
     "output_type": "stream",
     "text": [
      "\n"
     ]
    }
   ],
   "source": [
    "unzip_file(output_loc, output_loc.parent)"
   ]
  }
 ],
 "metadata": {
  "kernelspec": {
   "display_name": "Python 3",
   "language": "python",
   "name": "python3"
  },
  "language_info": {
   "codemirror_mode": {
    "name": "ipython",
    "version": 3
   },
   "file_extension": ".py",
   "mimetype": "text/x-python",
   "name": "python",
   "nbconvert_exporter": "python",
   "pygments_lexer": "ipython3",
   "version": "3.6.8"
  }
 },
 "nbformat": 4,
 "nbformat_minor": 2
}
