{
 "cells": [
  {
   "cell_type": "markdown",
   "metadata": {},
   "source": [
    "### Download the song dataset from Tachibana et al\n",
    "- Data location: https://sites.google.com/view/rtachi/resources"
   ]
  },
  {
   "cell_type": "code",
   "execution_count": 9,
   "metadata": {
    "ExecuteTime": {
     "end_time": "2019-09-26T18:32:44.836870Z",
     "start_time": "2019-09-26T18:32:44.486584Z"
    }
   },
   "outputs": [
    {
     "name": "stdout",
     "output_type": "stream",
     "text": [
      "The autoreload extension is already loaded. To reload it, use:\n",
      "  %reload_ext autoreload\n"
     ]
    }
   ],
   "source": [
    "%load_ext autoreload\n",
    "%autoreload 2"
   ]
  },
  {
   "cell_type": "code",
   "execution_count": 10,
   "metadata": {
    "ExecuteTime": {
     "end_time": "2019-09-26T18:32:44.977486Z",
     "start_time": "2019-09-26T18:32:44.839637Z"
    }
   },
   "outputs": [],
   "source": [
    "from avgn.downloading.download import download_tqdm\n",
    "from avgn.utils.paths import DATA_DIR, ensure_dir"
   ]
  },
  {
   "cell_type": "code",
   "execution_count": 11,
   "metadata": {
    "ExecuteTime": {
     "end_time": "2019-09-26T18:32:45.059565Z",
     "start_time": "2019-09-26T18:32:44.979533Z"
    }
   },
   "outputs": [],
   "source": [
    "data_urls = [\n",
    "    ('https://uc68dc35c6d050a7d64baaa4c882.dl.dropboxusercontent.com/zip_by_token_key?_download_id=413374838811177760549753661066612050198028547780229057623533942578664&_notify_domain=www.dropbox.com&dl=1&key=ApTNxN2_e0rkMkgpSAsk2OJY7vCoi-P7B3i-Ygem-3lC7tZGPMklet3thNjMGAg3sH6_LHTlcMjypv8tT7BtQa6yKCTXbbGmPPQ1LVhEioGs55-BIPaGkfwku72wkm7x9o_qogtbiKyspejYi0FITw0vBJ3oYNBWa3wOF9W43fIiKPedlUHIzEylb03dDr8ZrGG2OA7O-TvGpobgbQ0Mwane', 'dataset.zip'),\n",
    "]\n",
    "output_loc = DATA_DIR/\"raw/rodent/\""
   ]
  },
  {
   "cell_type": "code",
   "execution_count": 12,
   "metadata": {
    "ExecuteTime": {
     "end_time": "2019-09-26T18:33:34.098645Z",
     "start_time": "2019-09-26T18:32:45.062068Z"
    }
   },
   "outputs": [
    {
     "data": {
      "application/vnd.jupyter.widget-view+json": {
       "model_id": "4be3405090774d2883dba4a64c5ebff5",
       "version_major": 2,
       "version_minor": 0
      },
      "text/plain": [
       "HBox(children=(IntProgress(value=1, bar_style='info', max=1), HTML(value='')))"
      ]
     },
     "metadata": {},
     "output_type": "display_data"
    }
   ],
   "source": [
    "for url, filename in data_urls:\n",
    "    download_tqdm(url, output_location=output_loc/filename)    "
   ]
  },
  {
   "cell_type": "code",
   "execution_count": 13,
   "metadata": {
    "ExecuteTime": {
     "end_time": "2019-09-26T18:45:15.475463Z",
     "start_time": "2019-09-26T18:44:50.131184Z"
    }
   },
   "outputs": [
    {
     "data": {
      "application/vnd.jupyter.widget-view+json": {
       "model_id": "b9ce0295f6104886aa3f8234e453b23b",
       "version_major": 2,
       "version_minor": 0
      },
      "text/plain": [
       "HBox(children=(IntProgress(value=0, max=48), HTML(value='')))"
      ]
     },
     "metadata": {},
     "output_type": "display_data"
    }
   ],
   "source": [
    "# unzip\n",
    "for url, filename in data_urls:\n",
    "    unzip_file(output_loc/filename, output_loc/\"zip_contents\")"
   ]
  },
  {
   "cell_type": "code",
   "execution_count": null,
   "metadata": {},
   "outputs": [],
   "source": []
  }
 ],
 "metadata": {
  "kernelspec": {
   "display_name": "Python 3",
   "language": "python",
   "name": "python3"
  },
  "language_info": {
   "codemirror_mode": {
    "name": "ipython",
    "version": 3
   },
   "file_extension": ".py",
   "mimetype": "text/x-python",
   "name": "python",
   "nbconvert_exporter": "python",
   "pygments_lexer": "ipython3",
   "version": "3.6.7"
  }
 },
 "nbformat": 4,
 "nbformat_minor": 2
}
