{
 "cells": [
  {
   "cell_type": "markdown",
   "metadata": {},
   "source": [
    "### giant otter vocalizations\n",
    "- ~500 vocalizations from https://journals.plos.org/plosone/article?id=10.1371/journal.pone.0112562"
   ]
  },
  {
   "cell_type": "code",
   "execution_count": null,
   "metadata": {
    "ExecuteTime": {
     "start_time": "2019-10-01T04:37:11.989Z"
    }
   },
   "outputs": [],
   "source": [
    "%load_ext autoreload\n",
    "%autoreload 2"
   ]
  },
  {
   "cell_type": "code",
   "execution_count": null,
   "metadata": {
    "ExecuteTime": {
     "start_time": "2019-10-01T04:37:11.992Z"
    }
   },
   "outputs": [
    {
     "name": "stderr",
     "output_type": "stream",
     "text": [
      "/mnt/cube/tsainbur/conda_envs/tpy3/lib/python3.6/site-packages/tqdm/autonotebook/__init__.py:14: TqdmExperimentalWarning: Using `tqdm.autonotebook.tqdm` in notebook mode. Use `tqdm.tqdm` instead to force console mode (e.g. in jupyter console)\n",
      "  \" (e.g. in jupyter console)\", TqdmExperimentalWarning)\n"
     ]
    }
   ],
   "source": [
    "from avgn.downloading.download import download_tqdm\n",
    "from avgn.utils.paths import DATA_DIR, ensure_dir\n",
    "from avgn.utils.general import unzip_file"
   ]
  },
  {
   "cell_type": "code",
   "execution_count": null,
   "metadata": {
    "ExecuteTime": {
     "start_time": "2019-10-01T04:37:11.993Z"
    }
   },
   "outputs": [],
   "source": [
    "data_urls = [\n",
    "        (\"https://ndownloader.figshare.com/files/8879548\", \"files102.zip\"),\n",
    "        (\"https://ndownloader.figshare.com/files/8879596\", \"files103.zip\"),\n",
    "        (\"https://ndownloader.figshare.com/files/8879572\", \"files104.zip\"),\n",
    "        (\"https://ndownloader.figshare.com/files/8879554\", \"files105.zip\"),\n",
    "        (\"https://ndownloader.figshare.com/files/8879578\", \"files106.zip\"),\n",
    "        (\"https://ndownloader.figshare.com/files/8879431\", \"files201.zip\"),\n",
    "        (\"https://ndownloader.figshare.com/files/8879536\", \"files202.zip\"),\n",
    "        (\"https://ndownloader.figshare.com/files/8879521\", \"files203.zip\"),\n",
    "        (\"https://ndownloader.figshare.com/files/8879428\", \"files204.zip\"),\n",
    "        (\"https://ndownloader.figshare.com/files/8879533\", \"files205.zip\"),\n",
    "        (\"https://ndownloader.figshare.com/files/8879425\", \"files206.zip\"),\n",
    "        (\"https://ndownloader.figshare.com/files/8879392\", \"files207.zip\"),\n",
    "        (\"https://ndownloader.figshare.com/files/8879404\", \"files208.zip\"),\n",
    "        (\"https://ndownloader.figshare.com/files/8879338\", \"files209.zip\"),\n",
    "        (\"https://ndownloader.figshare.com/files/8879683\", \"files210.zip\"),\n",
    "        (\"https://ndownloader.figshare.com/files/8879179\", \"files211.zip\"),\n",
    "        (\"https://ndownloader.figshare.com/files/8879287\", \"files212.zip\"),\n",
    "        (\"https://ndownloader.figshare.com/files/8879659\", \"files213.zip\"),\n",
    "        (\"https://ndownloader.figshare.com/files/8879674\", \"files214.zip\"),\n",
    "        (\"https://ndownloader.figshare.com/files/8879662\", \"files215.zip\"),\n",
    "        (\"https://ndownloader.figshare.com/files/8879641\", \"files216.zip\"),\n",
    "        (\"https://ndownloader.figshare.com/files/8879632\", \"files217.zip\"),\n",
    "        (\"https://ndownloader.figshare.com/files/8879653\", \"files218.zip\"),\n",
    "        (\"https://ndownloader.figshare.com/files/8879617\", \"files219.zip\"),\n",
    "        (\"https://ndownloader.figshare.com/files/8879623\", \"files220.zip\"),\n",
    "        (\"https://ndownloader.figshare.com/files/8879611\", \"files221.zip\"),\n",
    "        (\"https://ndownloader.figshare.com/files/8879608\", \"files223.zip\"),\n",
    "]\n",
    "output_loc = DATA_DIR /\"raw/batsong/\""
   ]
  },
  {
   "cell_type": "code",
   "execution_count": null,
   "metadata": {
    "ExecuteTime": {
     "start_time": "2019-10-01T04:37:11.997Z"
    }
   },
   "outputs": [
    {
     "name": "stderr",
     "output_type": "stream",
     "text": [
      "/mnt/cube/tsainbur/Projects/github_repos/avgn_paper/avgn/downloading/download.py:21: UserWarning: File /mnt/cube/tsainbur/Projects/github_repos/avgn_paper/data/raw/batsong/files102.zip already exists\n",
      "  warnings.warn(\"File {} already exists\".format(output_location))\n"
     ]
    },
    {
     "data": {
      "application/vnd.jupyter.widget-view+json": {
       "model_id": "5a80a15c1b7f446f96306e399fa6c0b1",
       "version_major": 2,
       "version_minor": 0
      },
      "text/plain": [
       "HBox(children=(IntProgress(value=0, max=3125772), HTML(value='')))"
      ]
     },
     "metadata": {},
     "output_type": "display_data"
    },
    {
     "name": "stdout",
     "output_type": "stream",
     "text": [
      "\n"
     ]
    },
    {
     "data": {
      "application/vnd.jupyter.widget-view+json": {
       "model_id": "4ed3f0e2fbcb49bba0d4e07d7a8b12c4",
       "version_major": 2,
       "version_minor": 0
      },
      "text/plain": [
       "HBox(children=(IntProgress(value=0, max=3068595), HTML(value='')))"
      ]
     },
     "metadata": {},
     "output_type": "display_data"
    },
    {
     "name": "stdout",
     "output_type": "stream",
     "text": [
      "\n"
     ]
    },
    {
     "data": {
      "application/vnd.jupyter.widget-view+json": {
       "model_id": "23d0e07ffd6a400d8c9c4194864e4061",
       "version_major": 2,
       "version_minor": 0
      },
      "text/plain": [
       "HBox(children=(IntProgress(value=0, max=3152059), HTML(value='')))"
      ]
     },
     "metadata": {},
     "output_type": "display_data"
    },
    {
     "name": "stdout",
     "output_type": "stream",
     "text": [
      "\n"
     ]
    },
    {
     "data": {
      "application/vnd.jupyter.widget-view+json": {
       "model_id": "7c09fc0a8a354cba8d7b62ed821255dd",
       "version_major": 2,
       "version_minor": 0
      },
      "text/plain": [
       "HBox(children=(IntProgress(value=0, max=1074609), HTML(value='')))"
      ]
     },
     "metadata": {},
     "output_type": "display_data"
    },
    {
     "name": "stdout",
     "output_type": "stream",
     "text": [
      "\n"
     ]
    },
    {
     "data": {
      "application/vnd.jupyter.widget-view+json": {
       "model_id": "2f2fab4a2e9849aea07e3db0b62c667f",
       "version_major": 2,
       "version_minor": 0
      },
      "text/plain": [
       "HBox(children=(IntProgress(value=0, max=4394617), HTML(value='')))"
      ]
     },
     "metadata": {},
     "output_type": "display_data"
    },
    {
     "name": "stdout",
     "output_type": "stream",
     "text": [
      "\n"
     ]
    },
    {
     "data": {
      "application/vnd.jupyter.widget-view+json": {
       "model_id": "9e6ceb55665b49cca9e2d4a8d4c8d3bd",
       "version_major": 2,
       "version_minor": 0
      },
      "text/plain": [
       "HBox(children=(IntProgress(value=0, max=4328243), HTML(value='')))"
      ]
     },
     "metadata": {},
     "output_type": "display_data"
    },
    {
     "name": "stdout",
     "output_type": "stream",
     "text": [
      "\n"
     ]
    },
    {
     "data": {
      "application/vnd.jupyter.widget-view+json": {
       "model_id": "e9b52bacd1b14c19a5f603dafae6b59c",
       "version_major": 2,
       "version_minor": 0
      },
      "text/plain": [
       "HBox(children=(IntProgress(value=0, max=4191950), HTML(value='')))"
      ]
     },
     "metadata": {},
     "output_type": "display_data"
    },
    {
     "name": "stdout",
     "output_type": "stream",
     "text": [
      "\n"
     ]
    },
    {
     "data": {
      "application/vnd.jupyter.widget-view+json": {
       "model_id": "af83503e1cb142699aee8bb52db223be",
       "version_major": 2,
       "version_minor": 0
      },
      "text/plain": [
       "HBox(children=(IntProgress(value=0, max=3943995), HTML(value='')))"
      ]
     },
     "metadata": {},
     "output_type": "display_data"
    },
    {
     "name": "stdout",
     "output_type": "stream",
     "text": [
      "\n"
     ]
    },
    {
     "data": {
      "application/vnd.jupyter.widget-view+json": {
       "model_id": "27329722b3114b538942d5a0d7b1c35d",
       "version_major": 2,
       "version_minor": 0
      },
      "text/plain": [
       "HBox(children=(IntProgress(value=0, max=3612745), HTML(value='')))"
      ]
     },
     "metadata": {},
     "output_type": "display_data"
    },
    {
     "name": "stdout",
     "output_type": "stream",
     "text": [
      "\n"
     ]
    },
    {
     "data": {
      "application/vnd.jupyter.widget-view+json": {
       "model_id": "f1c71d529b014022a0980b43a5f97293",
       "version_major": 2,
       "version_minor": 0
      },
      "text/plain": [
       "HBox(children=(IntProgress(value=0, max=3717881), HTML(value='')))"
      ]
     },
     "metadata": {},
     "output_type": "display_data"
    },
    {
     "name": "stdout",
     "output_type": "stream",
     "text": [
      "\n"
     ]
    },
    {
     "data": {
      "application/vnd.jupyter.widget-view+json": {
       "model_id": "ec2a08a77b724ff0bc52fc123a1198a1",
       "version_major": 2,
       "version_minor": 0
      },
      "text/plain": [
       "HBox(children=(IntProgress(value=0, max=3577927), HTML(value='')))"
      ]
     },
     "metadata": {},
     "output_type": "display_data"
    },
    {
     "name": "stdout",
     "output_type": "stream",
     "text": [
      "\n"
     ]
    },
    {
     "data": {
      "application/vnd.jupyter.widget-view+json": {
       "model_id": "f948efa38c2d46d39f747f4eca236fec",
       "version_major": 2,
       "version_minor": 0
      },
      "text/plain": [
       "HBox(children=(IntProgress(value=0, max=3570009), HTML(value='')))"
      ]
     },
     "metadata": {},
     "output_type": "display_data"
    },
    {
     "name": "stdout",
     "output_type": "stream",
     "text": [
      "\n"
     ]
    },
    {
     "data": {
      "application/vnd.jupyter.widget-view+json": {
       "model_id": "e3df4029bdf04642b08bef17b55a138b",
       "version_major": 2,
       "version_minor": 0
      },
      "text/plain": [
       "HBox(children=(IntProgress(value=0, max=3634956), HTML(value='')))"
      ]
     },
     "metadata": {},
     "output_type": "display_data"
    },
    {
     "name": "stdout",
     "output_type": "stream",
     "text": [
      "\n"
     ]
    },
    {
     "data": {
      "application/vnd.jupyter.widget-view+json": {
       "model_id": "f00b24405c2a44728073f3dbc3bb2db1",
       "version_major": 2,
       "version_minor": 0
      },
      "text/plain": [
       "HBox(children=(IntProgress(value=0, max=2977733), HTML(value='')))"
      ]
     },
     "metadata": {},
     "output_type": "display_data"
    }
   ],
   "source": [
    "for url, filename in data_urls:\n",
    "    download_tqdm(url, output_location=output_loc/filename)    "
   ]
  },
  {
   "cell_type": "code",
   "execution_count": null,
   "metadata": {
    "ExecuteTime": {
     "start_time": "2019-10-01T04:37:11.999Z"
    },
    "scrolled": true
   },
   "outputs": [],
   "source": [
    "# unzip\n",
    "for url, filename in data_urls:\n",
    "    unzip_file(output_loc/filename, output_loc/\"zip_contents\"/filename.split('.')[0])"
   ]
  }
 ],
 "metadata": {
  "kernelspec": {
   "display_name": "Python 3",
   "language": "python",
   "name": "python3"
  },
  "language_info": {
   "codemirror_mode": {
    "name": "ipython",
    "version": 3
   },
   "file_extension": ".py",
   "mimetype": "text/x-python",
   "name": "python",
   "nbconvert_exporter": "python",
   "pygments_lexer": "ipython3",
   "version": "3.6.7"
  }
 },
 "nbformat": 4,
 "nbformat_minor": 2
}
