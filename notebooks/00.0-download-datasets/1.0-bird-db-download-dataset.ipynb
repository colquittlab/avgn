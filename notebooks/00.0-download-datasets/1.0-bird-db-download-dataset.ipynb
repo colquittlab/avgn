{
 "cells": [
  {
   "cell_type": "markdown",
   "metadata": {},
   "source": [
    "### download the song datasets from bird-db"
   ]
  },
  {
   "cell_type": "code",
   "execution_count": 1,
   "metadata": {
    "ExecuteTime": {
     "end_time": "2019-06-27T05:24:57.453604Z",
     "start_time": "2019-06-27T05:24:55.521867Z"
    }
   },
   "outputs": [],
   "source": [
    "from avgn.utils.general import prepare_env"
   ]
  },
  {
   "cell_type": "code",
   "execution_count": 2,
   "metadata": {
    "ExecuteTime": {
     "end_time": "2019-06-27T05:24:57.491330Z",
     "start_time": "2019-06-27T05:24:57.455847Z"
    }
   },
   "outputs": [
    {
     "name": "stdout",
     "output_type": "stream",
     "text": [
      "env: CUDA_VISIBLE_DEVICES=GPU\n"
     ]
    }
   ],
   "source": [
    "prepare_env()"
   ]
  },
  {
   "cell_type": "code",
   "execution_count": 3,
   "metadata": {
    "ExecuteTime": {
     "end_time": "2019-06-27T05:24:58.167732Z",
     "start_time": "2019-06-27T05:24:57.493308Z"
    }
   },
   "outputs": [],
   "source": [
    "from avgn.downloading.birdDB import openBirdDB_df, downloadBirdDB"
   ]
  },
  {
   "cell_type": "code",
   "execution_count": 4,
   "metadata": {
    "ExecuteTime": {
     "end_time": "2019-06-27T05:24:58.216535Z",
     "start_time": "2019-06-27T05:24:58.170265Z"
    }
   },
   "outputs": [
    {
     "name": "stderr",
     "output_type": "stream",
     "text": [
      "/mnt/cube/tsainbur/conda_envs/tpy3/lib/python3.6/site-packages/tqdm/autonotebook/__init__.py:14: TqdmExperimentalWarning: Using `tqdm.autonotebook.tqdm` in notebook mode. Use `tqdm.tqdm` instead to force console mode (e.g. in jupyter console)\n",
      "  \" (e.g. in jupyter console)\", TqdmExperimentalWarning)\n"
     ]
    }
   ],
   "source": [
    "import avgn\n",
    "from avgn.utils.paths import DATA_DIR\n",
    "import pandas as pd\n",
    "import xlrd\n",
    "from urllib.error import HTTPError\n",
    "from sklearn.externals.joblib import Parallel, delayed\n",
    "from tqdm.autonotebook import tqdm\n",
    "from datetime import datetime, timedelta\n",
    "import os\n",
    "import urllib.request"
   ]
  },
  {
   "cell_type": "markdown",
   "metadata": {},
   "source": [
    "### Get links to files"
   ]
  },
  {
   "cell_type": "code",
   "execution_count": 5,
   "metadata": {
    "ExecuteTime": {
     "end_time": "2019-06-27T05:24:58.758740Z",
     "start_time": "2019-06-27T05:24:58.218378Z"
    }
   },
   "outputs": [],
   "source": [
    "song_db = openBirdDB_df()"
   ]
  },
  {
   "cell_type": "code",
   "execution_count": 6,
   "metadata": {
    "ExecuteTime": {
     "end_time": "2019-06-27T05:24:58.835331Z",
     "start_time": "2019-06-27T05:24:58.760811Z"
    }
   },
   "outputs": [
    {
     "data": {
      "text/html": [
       "<div>\n",
       "<style scoped>\n",
       "    .dataframe tbody tr th:only-of-type {\n",
       "        vertical-align: middle;\n",
       "    }\n",
       "\n",
       "    .dataframe tbody tr th {\n",
       "        vertical-align: top;\n",
       "    }\n",
       "\n",
       "    .dataframe thead th {\n",
       "        text-align: right;\n",
       "    }\n",
       "</style>\n",
       "<table border=\"1\" class=\"dataframe\">\n",
       "  <thead>\n",
       "    <tr style=\"text-align: right;\">\n",
       "      <th></th>\n",
       "      <th>TrackName</th>\n",
       "      <th>type_of_device</th>\n",
       "      <th>configuration</th>\n",
       "      <th>microphone</th>\n",
       "      <th>recorder</th>\n",
       "      <th>sample_rate</th>\n",
       "      <th>Recordist_first_name</th>\n",
       "      <th>Recordist_last_name</th>\n",
       "      <th>recording_date</th>\n",
       "      <th>recording_time</th>\n",
       "      <th>...</th>\n",
       "      <th>country</th>\n",
       "      <th>state_or_province</th>\n",
       "      <th>vegetation_type</th>\n",
       "      <th>Analysis</th>\n",
       "      <th>Analysis_date</th>\n",
       "      <th>Analysis_method</th>\n",
       "      <th>number_of_phrases</th>\n",
       "      <th>Textgrid_file</th>\n",
       "      <th>Keycode_file</th>\n",
       "      <th>file_stem</th>\n",
       "    </tr>\n",
       "  </thead>\n",
       "  <tbody>\n",
       "    <tr>\n",
       "      <th>1</th>\n",
       "      <td>tCOMM09-1</td>\n",
       "      <td>single microphone</td>\n",
       "      <td>MOC2012</td>\n",
       "      <td>Sennheiser omnidirectional with Telinga parabo...</td>\n",
       "      <td>Marantz PMD650</td>\n",
       "      <td>44.0</td>\n",
       "      <td>Martin</td>\n",
       "      <td>Cody</td>\n",
       "      <td>2009-03-21</td>\n",
       "      <td>08:25:00</td>\n",
       "      <td>...</td>\n",
       "      <td>USA</td>\n",
       "      <td>California</td>\n",
       "      <td>Open Chapparal</td>\n",
       "      <td>CATH processed</td>\n",
       "      <td>2013-02-23</td>\n",
       "      <td>Praat annotation</td>\n",
       "      <td>383.0</td>\n",
       "      <td>Files_TextGrids/2009/March/CATH1.TextGrid</td>\n",
       "      <td>Files_Keys/CATH_2009/TRIPLELETTER_N_CA_phrases...</td>\n",
       "      <td>CATH1</td>\n",
       "    </tr>\n",
       "    <tr>\n",
       "      <th>2</th>\n",
       "      <td>tCOMM09-2</td>\n",
       "      <td>single microphone</td>\n",
       "      <td>MOC2012</td>\n",
       "      <td>Sennheiser omnidirectional with Telinga parabo...</td>\n",
       "      <td>Marantz PMD650</td>\n",
       "      <td>44.0</td>\n",
       "      <td>Martin</td>\n",
       "      <td>Cody</td>\n",
       "      <td>2009-03-21</td>\n",
       "      <td>08:27:00</td>\n",
       "      <td>...</td>\n",
       "      <td>USA</td>\n",
       "      <td>California</td>\n",
       "      <td>Open Chapparal</td>\n",
       "      <td>CATH processed</td>\n",
       "      <td>2013-02-23</td>\n",
       "      <td>Praat annotation</td>\n",
       "      <td>152.0</td>\n",
       "      <td>Files_TextGrids/2009/March/CATH2.TextGrid</td>\n",
       "      <td>Files_Keys/CATH_2009/TRIPLELETTER_N_CA_phrases...</td>\n",
       "      <td>CATH2</td>\n",
       "    </tr>\n",
       "    <tr>\n",
       "      <th>3</th>\n",
       "      <td>tCOMM09-3</td>\n",
       "      <td>single microphone</td>\n",
       "      <td>MOC2012</td>\n",
       "      <td>Sennheiser omnidirectional with Telinga parabo...</td>\n",
       "      <td>Marantz PMD650</td>\n",
       "      <td>44.0</td>\n",
       "      <td>Martin</td>\n",
       "      <td>Cody</td>\n",
       "      <td>2009-03-21</td>\n",
       "      <td>08:28:00</td>\n",
       "      <td>...</td>\n",
       "      <td>USA</td>\n",
       "      <td>California</td>\n",
       "      <td>Open Chapparal</td>\n",
       "      <td>CATH processed</td>\n",
       "      <td>2013-02-23</td>\n",
       "      <td>Praat annotation</td>\n",
       "      <td>140.0</td>\n",
       "      <td>Files_TextGrids/2009/March/CATH3.TextGrid</td>\n",
       "      <td>Files_Keys/CATH_2009/TRIPLELETTER_N_CA_phrases...</td>\n",
       "      <td>CATH3</td>\n",
       "    </tr>\n",
       "  </tbody>\n",
       "</table>\n",
       "<p>3 rows × 45 columns</p>\n",
       "</div>"
      ],
      "text/plain": [
       "   TrackName     type_of_device configuration  \\\n",
       "1  tCOMM09-1  single microphone       MOC2012   \n",
       "2  tCOMM09-2  single microphone       MOC2012   \n",
       "3  tCOMM09-3  single microphone       MOC2012   \n",
       "\n",
       "                                          microphone        recorder  \\\n",
       "1  Sennheiser omnidirectional with Telinga parabo...  Marantz PMD650   \n",
       "2  Sennheiser omnidirectional with Telinga parabo...  Marantz PMD650   \n",
       "3  Sennheiser omnidirectional with Telinga parabo...  Marantz PMD650   \n",
       "\n",
       "   sample_rate Recordist_first_name Recordist_last_name recording_date  \\\n",
       "1         44.0               Martin                Cody     2009-03-21   \n",
       "2         44.0               Martin                Cody     2009-03-21   \n",
       "3         44.0               Martin                Cody     2009-03-21   \n",
       "\n",
       "  recording_time  ... country state_or_province vegetation_type  \\\n",
       "1       08:25:00  ...     USA        California  Open Chapparal   \n",
       "2       08:27:00  ...     USA        California  Open Chapparal   \n",
       "3       08:28:00  ...     USA        California  Open Chapparal   \n",
       "\n",
       "         Analysis  Analysis_date   Analysis_method number_of_phrases  \\\n",
       "1  CATH processed     2013-02-23  Praat annotation             383.0   \n",
       "2  CATH processed     2013-02-23  Praat annotation             152.0   \n",
       "3  CATH processed     2013-02-23  Praat annotation             140.0   \n",
       "\n",
       "                               Textgrid_file  \\\n",
       "1  Files_TextGrids/2009/March/CATH1.TextGrid   \n",
       "2  Files_TextGrids/2009/March/CATH2.TextGrid   \n",
       "3  Files_TextGrids/2009/March/CATH3.TextGrid   \n",
       "\n",
       "                                        Keycode_file file_stem  \n",
       "1  Files_Keys/CATH_2009/TRIPLELETTER_N_CA_phrases...     CATH1  \n",
       "2  Files_Keys/CATH_2009/TRIPLELETTER_N_CA_phrases...     CATH2  \n",
       "3  Files_Keys/CATH_2009/TRIPLELETTER_N_CA_phrases...     CATH3  \n",
       "\n",
       "[3 rows x 45 columns]"
      ]
     },
     "execution_count": 6,
     "metadata": {},
     "output_type": "execute_result"
    }
   ],
   "source": [
    "song_db[:3]"
   ]
  },
  {
   "cell_type": "code",
   "execution_count": 7,
   "metadata": {
    "ExecuteTime": {
     "end_time": "2019-06-27T05:24:58.903305Z",
     "start_time": "2019-06-27T05:24:58.837151Z"
    }
   },
   "outputs": [],
   "source": [
    "bird_db_loc = DATA_DIR / 'raw' / 'bird-db'\n",
    "avgn.utils.paths.ensure_dir(bird_db_loc.as_posix())"
   ]
  },
  {
   "cell_type": "code",
   "execution_count": 11,
   "metadata": {
    "ExecuteTime": {
     "end_time": "2019-06-27T05:38:22.791732Z",
     "start_time": "2019-06-27T05:38:17.441015Z"
    }
   },
   "outputs": [
    {
     "data": {
      "application/vnd.jupyter.widget-view+json": {
       "model_id": "e5b5e9edede0442d97b37c4c2b63eb64",
       "version_major": 2,
       "version_minor": 0
      },
      "text/plain": [
       "HBox(children=(IntProgress(value=0, max=645), HTML(value='')))"
      ]
     },
     "metadata": {},
     "output_type": "display_data"
    },
    {
     "name": "stderr",
     "output_type": "stream",
     "text": [
      "[Parallel(n_jobs=1)]: Using backend SequentialBackend with 1 concurrent workers.\n",
      "[Parallel(n_jobs=1)]: Done   1 out of   1 | elapsed:    0.1s remaining:    0.0s\n",
      "[Parallel(n_jobs=1)]: Done   2 out of   2 | elapsed:    0.1s remaining:    0.0s\n",
      "[Parallel(n_jobs=1)]: Done   3 out of   3 | elapsed:    0.1s remaining:    0.0s\n",
      "[Parallel(n_jobs=1)]: Done   4 out of   4 | elapsed:    0.1s remaining:    0.0s\n",
      "[Parallel(n_jobs=1)]: Done   5 out of   5 | elapsed:    0.1s remaining:    0.0s\n",
      "[Parallel(n_jobs=1)]: Done   6 out of   6 | elapsed:    0.1s remaining:    0.0s\n",
      "[Parallel(n_jobs=1)]: Done   7 out of   7 | elapsed:    0.1s remaining:    0.0s\n",
      "[Parallel(n_jobs=1)]: Done   8 out of   8 | elapsed:    0.1s remaining:    0.0s\n",
      "[Parallel(n_jobs=1)]: Done   9 out of   9 | elapsed:    0.1s remaining:    0.0s\n"
     ]
    },
    {
     "name": "stdout",
     "output_type": "stream",
     "text": [
      "Could not retrieve http://taylor0.biology.ucla.edu/birdDBQuery/Files/Files_TextGrids/2013/May/1021.TextGrid\n",
      "Could not retrieve http://taylor0.biology.ucla.edu/birdDBQuery/Files/Files_TextGrids/2013/May/1022.TextGrid\n",
      "Could not retrieve http://taylor0.biology.ucla.edu/birdDBQuery/Files/Files_TextGrids/2013/May/1023.TextGrid\n",
      "Could not retrieve http://taylor0.biology.ucla.edu/birdDBQuery/Files/Files_TextGrids/2013/Jun/1222.TextGrid\n",
      "Could not retrieve http://taylor0.biology.ucla.edu/birdDBQuery/Files/Files_TextGrids/2013/Jun/1257.TextGrid\n",
      "Could not retrieve http://taylor0.biology.ucla.edu/birdDBQuery/Files/Tracks/2014/May/1438.WAV\n",
      "Could not retrieve http://taylor0.biology.ucla.edu/birdDBQuery/Files/Files_TextGrids/2014/May/1438.TextGrid\n",
      "Could not retrieve http://taylor0.biology.ucla.edu/birdDBQuery/Files/Tracks/2014/May/1454.WAV\n",
      "Could not retrieve http://taylor0.biology.ucla.edu/birdDBQuery/Files/Files_TextGrids/2014/May/1454.TextGrid\n",
      "Could not retrieve http://taylor0.biology.ucla.edu/birdDBQuery/Files/Files_TextGrids/2014/May/1497.TextGrid\n",
      "Could not retrieve http://taylor0.biology.ucla.edu/birdDBQuery/Files/Files_TextGrids/2014/May/1505.TextGrid\n",
      "Could not retrieve http://taylor0.biology.ucla.edu/birdDBQuery/Files/Files_TextGrids/2014/May/1534.TextGrid\n",
      "Could not retrieve http://taylor0.biology.ucla.edu/birdDBQuery/Files/Files_TextGrids/2014/May/1550.TextGrid\n",
      "Could not retrieve http://taylor0.biology.ucla.edu/birdDBQuery/Files/Files_TextGrids/2014/Jun/1593.TextGrid\n",
      "Could not retrieve http://taylor0.biology.ucla.edu/birdDBQuery/Files/Files_TextGrids/2014/Jun/1594.TextGrid\n",
      "Could not retrieve http://taylor0.biology.ucla.edu/birdDBQuery/Files/Files_TextGrids/2014/Jun/1595.TextGrid\n",
      "Could not retrieve http://taylor0.biology.ucla.edu/birdDBQuery/Files/Files_TextGrids/2014/Jun/1596.TextGrid\n",
      "Could not retrieve http://taylor0.biology.ucla.edu/birdDBQuery/Files/Files_TextGrids/2014/Jun/1597.TextGrid\n",
      "Could not retrieve http://taylor0.biology.ucla.edu/birdDBQuery/Files/Files_TextGrids/2014/Jun/1598.TextGrid\n",
      "Could not retrieve http://taylor0.biology.ucla.edu/birdDBQuery/Files/Files_TextGrids/2014/Jun/1599.TextGrid\n",
      "Could not retrieve http://taylor0.biology.ucla.edu/birdDBQuery/Files/Files_TextGrids/2014/Jun/1600.TextGrid\n",
      "Could not retrieve http://taylor0.biology.ucla.edu/birdDBQuery/Files/Files_TextGrids/2014/Jun/1601.TextGrid\n",
      "Could not retrieve http://taylor0.biology.ucla.edu/birdDBQuery/Files/Files_TextGrids/2014/Jun/1602.TextGrid\n",
      "Could not retrieve http://taylor0.biology.ucla.edu/birdDBQuery/Files/Files_TextGrids/2014/Jun/1603.TextGrid\n",
      "Could not retrieve http://taylor0.biology.ucla.edu/birdDBQuery/Files/Files_TextGrids/2014/Jun/1604.TextGrid\n",
      "Could not retrieve http://taylor0.biology.ucla.edu/birdDBQuery/Files/Tracks/2014/Jun/1617.WAV\n",
      "Could not retrieve http://taylor0.biology.ucla.edu/birdDBQuery/Files/Tracks/2009/Jun/GTNP609SATHi.wav\n",
      "Could not retrieve http://taylor0.biology.ucla.edu/birdDBQuery/Files/Tracks/2009/Jun/GTNP609SATHj.wav\n",
      "Could not retrieve http://taylor0.biology.ucla.edu/birdDBQuery/Files/Tracks/2012/Jan/TRK15a-12.WAV\n"
     ]
    },
    {
     "name": "stderr",
     "output_type": "stream",
     "text": [
      "[Parallel(n_jobs=1)]: Done 645 out of 645 | elapsed:    4.8s finished\n"
     ]
    }
   ],
   "source": [
    "with Parallel(n_jobs=1, verbose=10) as parallel:\n",
    "    parallel(delayed(downloadBirdDB)(row, bird_db_loc) \n",
    "        for idx, row in tqdm(song_db.iterrows(), total=len(song_db)))"
   ]
  },
  {
   "cell_type": "code",
   "execution_count": null,
   "metadata": {
    "ExecuteTime": {
     "end_time": "2019-06-27T00:20:48.152678Z",
     "start_time": "2019-06-27T00:20:48.084789Z"
    }
   },
   "outputs": [],
   "source": []
  },
  {
   "cell_type": "code",
   "execution_count": null,
   "metadata": {},
   "outputs": [],
   "source": []
  },
  {
   "cell_type": "code",
   "execution_count": null,
   "metadata": {},
   "outputs": [],
   "source": []
  }
 ],
 "metadata": {
  "kernelspec": {
   "display_name": "Python 3",
   "language": "python",
   "name": "python3"
  },
  "language_info": {
   "codemirror_mode": {
    "name": "ipython",
    "version": 3
   },
   "file_extension": ".py",
   "mimetype": "text/x-python",
   "name": "python",
   "nbconvert_exporter": "python",
   "pygments_lexer": "ipython3",
   "version": "3.6.8"
  }
 },
 "nbformat": 4,
 "nbformat_minor": 2
}
