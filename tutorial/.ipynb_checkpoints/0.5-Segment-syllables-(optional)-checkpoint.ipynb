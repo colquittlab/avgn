{
 "cells": [
  {
   "cell_type": "markdown",
   "metadata": {},
   "source": [
    "# In this notebook, we segment the waveform into putative syllables\n",
    "When a dataset is not pre-segmented into individiual vocal units, we can try to segment it computationally. Here we'll use dynamic thresholding segmentation to segment bouts into syllables.\n",
    "\n",
    "You'll need to install the [vocalseg](https://github.com/timsainb/vocalization-segmentation) package to use this. "
   ]
  },
  {
   "cell_type": "code",
   "execution_count": 1,
   "metadata": {
    "ExecuteTime": {
     "end_time": "2020-11-19T21:05:13.078105Z",
     "start_time": "2020-11-19T21:05:10.949736Z"
    }
   },
   "outputs": [
    {
     "name": "stderr",
     "output_type": "stream",
     "text": [
      "/mnt/cube/tsainbur/conda_envs/tpy3/lib/python3.6/site-packages/tqdm/autonotebook/__init__.py:14: TqdmExperimentalWarning: Using `tqdm.autonotebook.tqdm` in notebook mode. Use `tqdm.tqdm` instead to force console mode (e.g. in jupyter console)\n",
      "  \" (e.g. in jupyter console)\", TqdmExperimentalWarning)\n"
     ]
    }
   ],
   "source": [
    "from avgn.utils.hparams import HParams\n",
    "from avgn.dataset import DataSet"
   ]
  },
  {
   "cell_type": "code",
   "execution_count": 2,
   "metadata": {
    "ExecuteTime": {
     "end_time": "2020-11-19T21:05:13.082298Z",
     "start_time": "2020-11-19T21:05:13.079995Z"
    }
   },
   "outputs": [],
   "source": [
    "DATASET_ID = 'koumura_bengalese_finch'"
   ]
  },
  {
   "cell_type": "code",
   "execution_count": 3,
   "metadata": {
    "ExecuteTime": {
     "end_time": "2020-11-19T21:05:13.093109Z",
     "start_time": "2020-11-19T21:05:13.084185Z"
    }
   },
   "outputs": [],
   "source": [
    "# create a set of hyperparameters for processing this dataset.  \n",
    "hparams = HParams(\n",
    "    num_mel_bins = 64,\n",
    "    mel_lower_edge_hertz=500,\n",
    "    mel_upper_edge_hertz=15000,\n",
    "    butter_lowcut = 500,\n",
    "    butter_highcut = 15000,\n",
    "    ref_level_db = 20,\n",
    "    min_level_db = -30,\n",
    "    mask_spec = True,\n",
    "    win_length_ms = 10,\n",
    "    hop_length_ms = 2,\n",
    "    nex=-1,\n",
    "    n_jobs=-1,\n",
    "    verbosity = 1,\n",
    ")"
   ]
  },
  {
   "cell_type": "markdown",
   "metadata": {},
   "source": [
    "### Create a dataset object\n",
    "The dataset object loads JSONs corresponding to `DATASET_ID` in the data folder. "
   ]
  },
  {
   "cell_type": "code",
   "execution_count": 4,
   "metadata": {
    "ExecuteTime": {
     "end_time": "2020-11-19T21:05:24.116602Z",
     "start_time": "2020-11-19T21:05:13.094637Z"
    }
   },
   "outputs": [
    {
     "data": {
      "application/vnd.jupyter.widget-view+json": {
       "model_id": "d0ae56125b084ed3b0ac8821e4ff261b",
       "version_major": 2,
       "version_minor": 0
      },
      "text/plain": [
       "HBox(children=(IntProgress(value=0, description='loading json', max=2964, style=ProgressStyle(description_widt…"
      ]
     },
     "metadata": {},
     "output_type": "display_data"
    },
    {
     "name": "stderr",
     "output_type": "stream",
     "text": [
      "[Parallel(n_jobs=-1)]: Using backend LokyBackend with 32 concurrent workers.\n",
      "[Parallel(n_jobs=-1)]: Done 136 tasks      | elapsed:    7.0s\n"
     ]
    },
    {
     "name": "stdout",
     "output_type": "stream",
     "text": [
      "\n"
     ]
    },
    {
     "name": "stderr",
     "output_type": "stream",
     "text": [
      "[Parallel(n_jobs=-1)]: Done 1600 tasks      | elapsed:    7.6s\n",
      "[Parallel(n_jobs=-1)]: Done 2720 tasks      | elapsed:    8.0s\n",
      "[Parallel(n_jobs=-1)]: Done 2964 out of 2964 | elapsed:    8.1s finished\n"
     ]
    },
    {
     "data": {
      "application/vnd.jupyter.widget-view+json": {
       "model_id": "",
       "version_major": 2,
       "version_minor": 0
      },
      "text/plain": [
       "HBox(children=(IntProgress(value=0, description='getting unique individuals', max=2964, style=ProgressStyle(de…"
      ]
     },
     "metadata": {},
     "output_type": "display_data"
    },
    {
     "name": "stdout",
     "output_type": "stream",
     "text": [
      "\r"
     ]
    }
   ],
   "source": [
    "# create a dataset object, which\n",
    "dataset = DataSet(DATASET_ID, hparams = hparams)"
   ]
  },
  {
   "cell_type": "code",
   "execution_count": 5,
   "metadata": {
    "ExecuteTime": {
     "end_time": "2020-11-19T21:05:24.127276Z",
     "start_time": "2020-11-19T21:05:24.118720Z"
    }
   },
   "outputs": [
    {
     "name": "stdout",
     "output_type": "stream",
     "text": [
      "{\n",
      "    \"species\": \"Lonchura striata domestica\",\n",
      "    \"common_name\": \"Bengalese finch\",\n",
      "    \"wav_loc\": \"/mnt/cube/tsainbur/Projects/github_repos/avgn_paper/data/raw/koumura/zip_contents/Bird8/Wave/108.wav\",\n",
      "    \"samplerate_hz\": 32000,\n",
      "    \"length_s\": 8.8725,\n",
      "    \"indvs\": {\n",
      "        \"Bird8\": {\n",
      "            \"notes\": {\n",
      "                \"start_times\": [\n",
      "                    1.158,\n",
      "                    1.323,\n",
      "...\n"
     ]
    }
   ],
   "source": [
    "# to make sure everything loaded correctly, lets look at a sample JSON\n",
    "print(json.dumps(dataset.sample_json, indent=4, default=str)[:400] + '...')"
   ]
  },
  {
   "cell_type": "code",
   "execution_count": 6,
   "metadata": {
    "ExecuteTime": {
     "end_time": "2020-11-19T21:05:24.143852Z",
     "start_time": "2020-11-19T21:05:24.128976Z"
    }
   },
   "outputs": [
    {
     "data": {
      "text/plain": [
       "2964"
      ]
     },
     "execution_count": 6,
     "metadata": {},
     "output_type": "execute_result"
    }
   ],
   "source": [
    "# how many wavs are in the dataset?\n",
    "len(dataset.data_files)"
   ]
  },
  {
   "cell_type": "markdown",
   "metadata": {},
   "source": [
    "### Perform segmentation"
   ]
  },
  {
   "cell_type": "code",
   "execution_count": 9,
   "metadata": {
    "ExecuteTime": {
     "end_time": "2020-11-19T21:06:36.070294Z",
     "start_time": "2020-11-19T21:06:36.066541Z"
    }
   },
   "outputs": [],
   "source": [
    "import librosa"
   ]
  },
  {
   "cell_type": "code",
   "execution_count": 11,
   "metadata": {
    "ExecuteTime": {
     "end_time": "2020-11-19T21:07:15.896664Z",
     "start_time": "2020-11-19T21:07:15.890734Z"
    }
   },
   "outputs": [],
   "source": [
    "### segmentation parameters\n",
    "n_fft=1024\n",
    "hop_length_ms=2\n",
    "win_length_ms=4\n",
    "ref_level_db=20\n",
    "pre=0.97\n",
    "min_level_db=-60\n",
    "min_level_db_floor = -20\n",
    "db_delta = 5\n",
    "silence_threshold = 0.05\n",
    "min_silence_for_spec=0.5\n",
    "max_vocal_for_spec=0.5,\n",
    "min_syllable_length_s = 0.01\n",
    "butter_min = 500\n",
    "butter_max = 15000\n",
    "spectral_range = [500, 15000]"
   ]
  },
  {
   "cell_type": "markdown",
   "metadata": {},
   "source": [
    "#### First lets try segmenting an example to make sure the segmentation looks good"
   ]
  },
  {
   "cell_type": "code",
   "execution_count": null,
   "metadata": {},
   "outputs": [],
   "source": []
  },
  {
   "cell_type": "code",
   "execution_count": null,
   "metadata": {},
   "outputs": [],
   "source": [
    "# segment\n",
    "results = dynamic_threshold_segmentation(\n",
    "    data,\n",
    "    rate,\n",
    "    n_fft=n_fft,\n",
    "    hop_length_ms=hop_length_ms,\n",
    "    win_length_ms=win_length_ms,\n",
    "    min_level_db_floor=min_level_db_floor,\n",
    "    db_delta=db_delta,\n",
    "    ref_level_db=ref_level_db,\n",
    "    pre=pre,\n",
    "    min_silence_for_spec=min_silence_for_spec,\n",
    "    max_vocal_for_spec=max_vocal_for_spec,\n",
    "    min_level_db=min_level_db,\n",
    "    silence_threshold=silence_threshold,\n",
    "    verbose=True,\n",
    "    min_syllable_length_s=min_syllable_length_s,\n",
    "    spectral_range=spectral_range,\n",
    ")"
   ]
  }
 ],
 "metadata": {
  "kernelspec": {
   "display_name": "Python 3",
   "language": "python",
   "name": "python3"
  },
  "language_info": {
   "codemirror_mode": {
    "name": "ipython",
    "version": 3
   },
   "file_extension": ".py",
   "mimetype": "text/x-python",
   "name": "python",
   "nbconvert_exporter": "python",
   "pygments_lexer": "ipython3",
   "version": "3.6.7"
  }
 },
 "nbformat": 4,
 "nbformat_minor": 2
}
