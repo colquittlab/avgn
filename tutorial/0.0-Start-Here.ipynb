{
 "cells": [
  {
   "cell_type": "markdown",
   "metadata": {},
   "source": [
    "### AVGN Tutorial\n",
    "This tutorial walks you through getting started with AVGN on a sample dataset, so you can figure out how to use it on your own data. \n",
    "\n",
    "If you're not too familiar with Python, make sure you've first familiarized yourself with Jupyter notebooks and installing pyhton packages. Then come back and try the tutorial. \n",
    "\n",
    "There may be some packages here that you need that aren't installed by default. If you find one of these, just try `pip install`-ing it locally. If you're still having trouble add an issue on the GitHub repository and I'll help you figure it out."
   ]
  },
  {
   "cell_type": "markdown",
   "metadata": {},
   "source": [
    "### Installing AVGN on your computer"
   ]
  },
  {
   "cell_type": "markdown",
   "metadata": {},
   "source": [
    "First, download the repository locally and install it:\n",
    "1. Navigate to the folder in your local environment where you want to install the repository. \n",
    "2. Type `git clone https://github.com/timsainb/avgn_paper.git`\n",
    "3. Open the `avgn_paper` folder\n",
    "4. Install the package by typing `python setup.py develop`"
   ]
  },
  {
   "cell_type": "markdown",
   "metadata": {},
   "source": [
    "Now in python you should be able to `import avgn`"
   ]
  },
  {
   "cell_type": "markdown",
   "metadata": {},
   "source": [
    "### Downloading a sample dataset\n",
    "In this example, we'll download [a dataset of .WAV files of acoustically isolated Bengalese finch song](https://figshare.com/articles/BirdsongRecognition/3470165?file=5463221). Each .WAV is accompanied by a set of hand annotations, giving us the boundaries for each syllable."
   ]
  },
  {
   "cell_type": "code",
   "execution_count": 8,
   "metadata": {
    "ExecuteTime": {
     "end_time": "2020-11-19T17:12:25.183878Z",
     "start_time": "2020-11-19T17:12:25.180110Z"
    }
   },
   "outputs": [],
   "source": [
    "from avgn.downloading.download import download_tqdm\n",
    "from avgn.utils.paths import DATA_DIR\n",
    "from avgn.utils.general import unzip_file\n",
    "from tqdm.autonotebook import tqdm"
   ]
  },
  {
   "cell_type": "code",
   "execution_count": 2,
   "metadata": {
    "ExecuteTime": {
     "end_time": "2020-11-19T17:08:31.034243Z",
     "start_time": "2020-11-19T17:08:31.030724Z"
    }
   },
   "outputs": [],
   "source": [
    "# where the files are located online (url, filename)\n",
    "data_urls = [\n",
    "    ('https://ndownloader.figshare.com/articles/3470165/versions/1', 'all_files.zip'),\n",
    "]\n",
    "# where to save the files\n",
    "output_loc = DATA_DIR/\"raw/koumura/\""
   ]
  },
  {
   "cell_type": "code",
   "execution_count": 3,
   "metadata": {
    "ExecuteTime": {
     "end_time": "2020-11-19T17:11:03.791983Z",
     "start_time": "2020-11-19T17:11:03.682535Z"
    }
   },
   "outputs": [
    {
     "name": "stderr",
     "output_type": "stream",
     "text": [
      "/mnt/cube/tsainbur/Projects/github_repos/avgn_paper/avgn/downloading/download.py:21: UserWarning: File /mnt/cube/tsainbur/Projects/github_repos/avgn_paper/data/raw/koumura/all_files.zip already exists\n",
      "  warnings.warn(\"File {} already exists\".format(output_location))\n"
     ]
    }
   ],
   "source": [
    "# download the files locally\n",
    "for url, filename in data_urls:\n",
    "    download_tqdm(url, output_location=output_loc/filename)"
   ]
  },
  {
   "cell_type": "code",
   "execution_count": 5,
   "metadata": {
    "ExecuteTime": {
     "end_time": "2020-11-19T17:12:04.606614Z",
     "start_time": "2020-11-19T17:12:04.598788Z"
    }
   },
   "outputs": [
    {
     "data": {
      "text/plain": [
       "[PosixPath('/mnt/cube/tsainbur/Projects/github_repos/avgn_paper/data/raw/koumura/zip_contents/Bird6.zip'),\n",
       " PosixPath('/mnt/cube/tsainbur/Projects/github_repos/avgn_paper/data/raw/koumura/zip_contents/Bird1.zip')]"
      ]
     },
     "execution_count": 5,
     "metadata": {},
     "output_type": "execute_result"
    }
   ],
   "source": [
    "# list the downloaded files\n",
    "zip_files = list((output_loc/\"zip_contents\").glob('*.zip'))\n",
    "zip_files[:2]"
   ]
  },
  {
   "cell_type": "code",
   "execution_count": 9,
   "metadata": {
    "ExecuteTime": {
     "end_time": "2020-11-19T17:13:29.455857Z",
     "start_time": "2020-11-19T17:12:26.856913Z"
    }
   },
   "outputs": [
    {
     "data": {
      "application/vnd.jupyter.widget-view+json": {
       "model_id": "141dc4ad84464314be60bfc594cf50de",
       "version_major": 2,
       "version_minor": 0
      },
      "text/plain": [
       "HBox(children=(IntProgress(value=0, max=11), HTML(value='')))"
      ]
     },
     "metadata": {},
     "output_type": "display_data"
    },
    {
     "data": {
      "application/vnd.jupyter.widget-view+json": {
       "model_id": "381a88e192754bf48b9ed051a1c3f087",
       "version_major": 2,
       "version_minor": 0
      },
      "text/plain": [
       "HBox(children=(IntProgress(value=0, max=242), HTML(value='')))"
      ]
     },
     "metadata": {},
     "output_type": "display_data"
    },
    {
     "data": {
      "application/vnd.jupyter.widget-view+json": {
       "model_id": "06e69e5e0649476dabe21712ba6c1f27",
       "version_major": 2,
       "version_minor": 0
      },
      "text/plain": [
       "HBox(children=(IntProgress(value=0, max=322), HTML(value='')))"
      ]
     },
     "metadata": {},
     "output_type": "display_data"
    },
    {
     "data": {
      "application/vnd.jupyter.widget-view+json": {
       "model_id": "70f9af341d4e46bda2b57c706af4e721",
       "version_major": 2,
       "version_minor": 0
      },
      "text/plain": [
       "HBox(children=(IntProgress(value=0, max=149), HTML(value='')))"
      ]
     },
     "metadata": {},
     "output_type": "display_data"
    },
    {
     "data": {
      "application/vnd.jupyter.widget-view+json": {
       "model_id": "453e513de5e649d2adaca53da5c54fba",
       "version_major": 2,
       "version_minor": 0
      },
      "text/plain": [
       "HBox(children=(IntProgress(value=0, max=224), HTML(value='')))"
      ]
     },
     "metadata": {},
     "output_type": "display_data"
    },
    {
     "data": {
      "application/vnd.jupyter.widget-view+json": {
       "model_id": "73095aed8a5e4546ba9e709c9e523434",
       "version_major": 2,
       "version_minor": 0
      },
      "text/plain": [
       "HBox(children=(IntProgress(value=0, max=142), HTML(value='')))"
      ]
     },
     "metadata": {},
     "output_type": "display_data"
    },
    {
     "data": {
      "application/vnd.jupyter.widget-view+json": {
       "model_id": "b489b21153c841f59d8de8aefbf45261",
       "version_major": 2,
       "version_minor": 0
      },
      "text/plain": [
       "HBox(children=(IntProgress(value=0, max=317), HTML(value='')))"
      ]
     },
     "metadata": {},
     "output_type": "display_data"
    },
    {
     "data": {
      "application/vnd.jupyter.widget-view+json": {
       "model_id": "7918f6bf608b4541986154bbf446f004",
       "version_major": 2,
       "version_minor": 0
      },
      "text/plain": [
       "HBox(children=(IntProgress(value=0, max=101), HTML(value='')))"
      ]
     },
     "metadata": {},
     "output_type": "display_data"
    },
    {
     "data": {
      "application/vnd.jupyter.widget-view+json": {
       "model_id": "c1bca1808cb14503bd23026afd2f14ac",
       "version_major": 2,
       "version_minor": 0
      },
      "text/plain": [
       "HBox(children=(IntProgress(value=0, max=448), HTML(value='')))"
      ]
     },
     "metadata": {},
     "output_type": "display_data"
    },
    {
     "data": {
      "application/vnd.jupyter.widget-view+json": {
       "model_id": "1cf7e4bb63b948fea7405333f5cd4437",
       "version_major": 2,
       "version_minor": 0
      },
      "text/plain": [
       "HBox(children=(IntProgress(value=0, max=409), HTML(value='')))"
      ]
     },
     "metadata": {},
     "output_type": "display_data"
    },
    {
     "data": {
      "application/vnd.jupyter.widget-view+json": {
       "model_id": "a029a519f19a485189a41b176cb474f6",
       "version_major": 2,
       "version_minor": 0
      },
      "text/plain": [
       "HBox(children=(IntProgress(value=0, max=346), HTML(value='')))"
      ]
     },
     "metadata": {},
     "output_type": "display_data"
    },
    {
     "data": {
      "application/vnd.jupyter.widget-view+json": {
       "model_id": "d90f0f470de44cd6a72668204ab38522",
       "version_major": 2,
       "version_minor": 0
      },
      "text/plain": [
       "HBox(children=(IntProgress(value=0, max=342), HTML(value='')))"
      ]
     },
     "metadata": {},
     "output_type": "display_data"
    },
    {
     "name": "stdout",
     "output_type": "stream",
     "text": [
      "\n"
     ]
    }
   ],
   "source": [
    "# unzip the files\n",
    "for zf in tqdm(zip_files):\n",
    "    unzip_file(zf, output_loc/\"zip_contents\")"
   ]
  },
  {
   "cell_type": "markdown",
   "metadata": {},
   "source": [
    "### Getting the data into a usable format\n",
    "Now that the data is saved, we want to get the annotations into the same format as all of the other datasets. \n",
    "\n",
    "The format we use is JSON, which just holds a dictionary of information about the dataset. \n",
    "\n",
    "\n",
    "For each .WAV file, we will create a JSON that looks something like this:\n",
    "\n",
    "```\n",
    "{\n",
    "    \"length_s\": 15,\n",
    "    \"samplerate_hz\": 30000,\n",
    "    \"wav_location\": \"/location/of/my/dataset/myfile.wav\",\n",
    "    \"indvs\": {\n",
    "        \"Bird1\": {\n",
    "            \"species\": \"Bengalese finch\",\n",
    "            \"units\": {\n",
    "                \"syllables\": {\n",
    "                    \"start_times\": [1.5, 2.5, 6],\n",
    "                    \"end_times\": [2.3, 4.5, 8],\n",
    "                    \"labels\": [\"a\", \"b\", \"c\"],\n",
    "                },\n",
    "        }\n",
    "    },\n",
    "}\n",
    "```\n",
    "\n",
    "To get data into this format, you're generally going to have two write a custom parser to convert your data from your format into AVGN format. We're going to create a custom parser here for this dataset, as an example. You could also create these JSONs by hand. \n",
    "\n",
    "**Note:** If your dataset is more annotated than that, take a look at the readme.md in the github repository for more examples of JSONs. If your dataset is not already segmented for syllables, don't add \"units\", and you can add them after automatic segmentation."
   ]
  },
  {
   "cell_type": "code",
   "execution_count": 23,
   "metadata": {
    "ExecuteTime": {
     "end_time": "2020-11-19T17:22:58.807847Z",
     "start_time": "2020-11-19T17:22:58.804375Z"
    }
   },
   "outputs": [],
   "source": [
    "from datetime import datetime\n",
    "import avgn.utils\n",
    "import numpy as np"
   ]
  },
  {
   "cell_type": "code",
   "execution_count": 18,
   "metadata": {
    "ExecuteTime": {
     "end_time": "2020-11-19T17:22:23.577593Z",
     "start_time": "2020-11-19T17:22:23.572763Z"
    }
   },
   "outputs": [
    {
     "data": {
      "text/plain": [
       "PosixPath('/mnt/cube/tsainbur/Projects/github_repos/avgn_paper/data/raw/koumura/zip_contents')"
      ]
     },
     "execution_count": 18,
     "metadata": {},
     "output_type": "execute_result"
    }
   ],
   "source": [
    "RAW_DATASET_LOC = output_loc/\"zip_contents\"\n",
    "RAW_DATASET_LOC"
   ]
  },
  {
   "cell_type": "code",
   "execution_count": 12,
   "metadata": {
    "ExecuteTime": {
     "end_time": "2020-11-19T17:21:15.472008Z",
     "start_time": "2020-11-19T17:21:15.468478Z"
    }
   },
   "outputs": [],
   "source": [
    "# first we create a name for our dataset\n",
    "DATASET_ID = 'koumura_bengalese_finch'\n",
    "\n",
    "# create a unique datetime identifier for the files output by this notebook\n",
    "DT_ID = datetime.now().strftime(\"%Y-%m-%d_%H-%M-%S\")"
   ]
  },
  {
   "cell_type": "code",
   "execution_count": 24,
   "metadata": {
    "ExecuteTime": {
     "end_time": "2020-11-19T17:23:00.240262Z",
     "start_time": "2020-11-19T17:23:00.110964Z"
    }
   },
   "outputs": [
    {
     "data": {
      "text/plain": [
       "(2965,\n",
       " array([PosixPath('/mnt/cube/tsainbur/Projects/github_repos/avgn_paper/data/raw/koumura/zip_contents/Bird9/Wave/98.wav'),\n",
       "        PosixPath('/mnt/cube/tsainbur/Projects/github_repos/avgn_paper/data/raw/koumura/zip_contents/Bird9/Wave/99.wav')],\n",
       "       dtype=object))"
      ]
     },
     "execution_count": 24,
     "metadata": {},
     "output_type": "execute_result"
    }
   ],
   "source": [
    "# grab a list of all the raw waveforms\n",
    "wav_list = list(RAW_DATASET_LOC.glob('Bird*/Wave/*.wav'))\n",
    "len(wav_list), np.sort(wav_list)[-2:]"
   ]
  },
  {
   "cell_type": "code",
   "execution_count": 25,
   "metadata": {
    "ExecuteTime": {
     "end_time": "2020-11-19T17:23:24.204136Z",
     "start_time": "2020-11-19T17:23:24.196047Z"
    }
   },
   "outputs": [
    {
     "data": {
      "text/plain": [
       "(11,\n",
       " array([PosixPath('/mnt/cube/tsainbur/Projects/github_repos/avgn_paper/data/raw/koumura/zip_contents/Bird8/Annotation.xml'),\n",
       "        PosixPath('/mnt/cube/tsainbur/Projects/github_repos/avgn_paper/data/raw/koumura/zip_contents/Bird9/Annotation.xml')],\n",
       "       dtype=object))"
      ]
     },
     "execution_count": 25,
     "metadata": {},
     "output_type": "execute_result"
    }
   ],
   "source": [
    "# grab a list of all of the raw annotation files for each bird\n",
    "annotation_files = list(RAW_DATASET_LOC.glob('Bird*/Annotation.xml'))\n",
    "len(annotation_files), np.sort(annotation_files)[-2:]"
   ]
  },
  {
   "cell_type": "markdown",
   "metadata": {
    "ExecuteTime": {
     "end_time": "2020-11-19T17:24:38.517850Z",
     "start_time": "2020-11-19T17:24:38.512891Z"
    }
   },
   "source": [
    "#### Now, for each wav file, we want to generate a JSON, using information from the XML.\n",
    "\n",
    "Lets take a look inside an XML first, to see what's in there. It might be useful to take a look at this XML file in your web browser to get a better idea of what's in there as well."
   ]
  },
  {
   "cell_type": "code",
   "execution_count": 31,
   "metadata": {
    "ExecuteTime": {
     "end_time": "2020-11-19T17:25:22.277232Z",
     "start_time": "2020-11-19T17:25:22.273837Z"
    }
   },
   "outputs": [],
   "source": [
    "import xml.etree.ElementTree\n",
    "import xml.dom.minidom"
   ]
  },
  {
   "cell_type": "code",
   "execution_count": 50,
   "metadata": {
    "ExecuteTime": {
     "end_time": "2020-11-19T17:30:45.686270Z",
     "start_time": "2020-11-19T17:30:44.886310Z"
    }
   },
   "outputs": [
    {
     "name": "stdout",
     "output_type": "stream",
     "text": [
      "<?xml version=\"1.0\" ?>\n",
      "<Sequences>\n",
      "\t<NumSequence>1350</NumSequence>\n",
      "\t<Sequence>\n",
      "\t\t<WaveFileName>0.wav</WaveFileName>\n",
      "\t\t<Position>32000</Position>\n",
      "\t\t<Length>64832</Length>\n",
      "\t\t<NumNote>15</NumNote>\n",
      "\t\t<Note>\n",
      "\t\t\t<Position>5056</Position>\n",
      "\t\t\t<Length>1440</Length>\n",
      "\t\t\t<Label>0</Label>\n",
      "\t\t</Note>\n",
      "\t\t<Note>\n",
      "\t\t\t<Position>8512</Position>\n",
      "\t\t\t<Length>2016</Length>\n",
      "\t\t\t<Label>0</Label>\n",
      "\t\t</Note>\n",
      "\t\t<Note>\n",
      "\t\t\t<Positi...\n"
     ]
    }
   ],
   "source": [
    "# print a sample of the XML\n",
    "parssed  = xml.dom.minidom.parse(annotation_files[0].as_posix()) \n",
    "pretty_xml_as_string = dom.toprettyxml()\n",
    "print(pretty_xml_as_string[:400] + '...')"
   ]
  },
  {
   "cell_type": "markdown",
   "metadata": {
    "ExecuteTime": {
     "end_time": "2020-11-19T17:27:00.422861Z",
     "start_time": "2020-11-19T17:27:00.418708Z"
    }
   },
   "source": [
    "### Parse XML"
   ]
  },
  {
   "cell_type": "markdown",
   "metadata": {},
   "source": [
    "Before we create a JSON, we can create a pandas dataframe with all the relevant info from the XML. This is all very specific to this dataset, but hopefully it gives you an idea of what you need to do for your dataset. "
   ]
  },
  {
   "cell_type": "code",
   "execution_count": 46,
   "metadata": {
    "ExecuteTime": {
     "end_time": "2020-11-19T17:29:53.047369Z",
     "start_time": "2020-11-19T17:29:53.044048Z"
    }
   },
   "outputs": [],
   "source": [
    "import pandas as pd"
   ]
  },
  {
   "cell_type": "code",
   "execution_count": 47,
   "metadata": {
    "ExecuteTime": {
     "end_time": "2020-11-19T17:29:53.186956Z",
     "start_time": "2020-11-19T17:29:53.172403Z"
    }
   },
   "outputs": [
    {
     "data": {
      "text/html": [
       "<div>\n",
       "<style scoped>\n",
       "    .dataframe tbody tr th:only-of-type {\n",
       "        vertical-align: middle;\n",
       "    }\n",
       "\n",
       "    .dataframe tbody tr th {\n",
       "        vertical-align: top;\n",
       "    }\n",
       "\n",
       "    .dataframe thead th {\n",
       "        text-align: right;\n",
       "    }\n",
       "</style>\n",
       "<table border=\"1\" class=\"dataframe\">\n",
       "  <thead>\n",
       "    <tr style=\"text-align: right;\">\n",
       "      <th></th>\n",
       "      <th>bird</th>\n",
       "      <th>WaveFileName</th>\n",
       "      <th>Position</th>\n",
       "      <th>Length</th>\n",
       "      <th>NumNote</th>\n",
       "      <th>NotePositions</th>\n",
       "      <th>NoteLengths</th>\n",
       "      <th>NoteLabels</th>\n",
       "    </tr>\n",
       "  </thead>\n",
       "  <tbody>\n",
       "  </tbody>\n",
       "</table>\n",
       "</div>"
      ],
      "text/plain": [
       "Empty DataFrame\n",
       "Columns: [bird, WaveFileName, Position, Length, NumNote, NotePositions, NoteLengths, NoteLabels]\n",
       "Index: []"
      ]
     },
     "execution_count": 47,
     "metadata": {},
     "output_type": "execute_result"
    }
   ],
   "source": [
    "song_df = pd.DataFrame(\n",
    "        columns=[\n",
    "            \"bird\",\n",
    "            \"WaveFileName\",\n",
    "            \"Position\",\n",
    "            \"Length\",\n",
    "            \"NumNote\",\n",
    "            \"NotePositions\",\n",
    "            \"NoteLengths\",\n",
    "            \"NoteLabels\",\n",
    "        ]\n",
    "    )\n",
    "song_df"
   ]
  },
  {
   "cell_type": "code",
   "execution_count": 48,
   "metadata": {
    "ExecuteTime": {
     "end_time": "2020-11-19T17:30:39.392538Z",
     "start_time": "2020-11-19T17:29:57.394733Z"
    }
   },
   "outputs": [
    {
     "data": {
      "application/vnd.jupyter.widget-view+json": {
       "model_id": "4108bc053d524a729775d34f7db59c6a",
       "version_major": 2,
       "version_minor": 0
      },
      "text/plain": [
       "HBox(children=(IntProgress(value=0, max=11), HTML(value='')))"
      ]
     },
     "metadata": {},
     "output_type": "display_data"
    },
    {
     "data": {
      "application/vnd.jupyter.widget-view+json": {
       "model_id": "",
       "version_major": 2,
       "version_minor": 0
      },
      "text/plain": [
       "HBox(children=(IntProgress(value=0, max=1351), HTML(value='')))"
      ]
     },
     "metadata": {},
     "output_type": "display_data"
    },
    {
     "data": {
      "application/vnd.jupyter.widget-view+json": {
       "model_id": "",
       "version_major": 2,
       "version_minor": 0
      },
      "text/plain": [
       "HBox(children=(IntProgress(value=0, max=2110), HTML(value='')))"
      ]
     },
     "metadata": {},
     "output_type": "display_data"
    },
    {
     "data": {
      "application/vnd.jupyter.widget-view+json": {
       "model_id": "",
       "version_major": 2,
       "version_minor": 0
      },
      "text/plain": [
       "HBox(children=(IntProgress(value=0, max=1964), HTML(value='')))"
      ]
     },
     "metadata": {},
     "output_type": "display_data"
    },
    {
     "data": {
      "application/vnd.jupyter.widget-view+json": {
       "model_id": "",
       "version_major": 2,
       "version_minor": 0
      },
      "text/plain": [
       "HBox(children=(IntProgress(value=0, max=572), HTML(value='')))"
      ]
     },
     "metadata": {},
     "output_type": "display_data"
    },
    {
     "data": {
      "application/vnd.jupyter.widget-view+json": {
       "model_id": "",
       "version_major": 2,
       "version_minor": 0
      },
      "text/plain": [
       "HBox(children=(IntProgress(value=0, max=1486), HTML(value='')))"
      ]
     },
     "metadata": {},
     "output_type": "display_data"
    },
    {
     "data": {
      "application/vnd.jupyter.widget-view+json": {
       "model_id": "",
       "version_major": 2,
       "version_minor": 0
      },
      "text/plain": [
       "HBox(children=(IntProgress(value=0, max=1495), HTML(value='')))"
      ]
     },
     "metadata": {},
     "output_type": "display_data"
    },
    {
     "data": {
      "application/vnd.jupyter.widget-view+json": {
       "model_id": "",
       "version_major": 2,
       "version_minor": 0
      },
      "text/plain": [
       "HBox(children=(IntProgress(value=0, max=412), HTML(value='')))"
      ]
     },
     "metadata": {},
     "output_type": "display_data"
    },
    {
     "data": {
      "application/vnd.jupyter.widget-view+json": {
       "model_id": "",
       "version_major": 2,
       "version_minor": 0
      },
      "text/plain": [
       "HBox(children=(IntProgress(value=0, max=1854), HTML(value='')))"
      ]
     },
     "metadata": {},
     "output_type": "display_data"
    },
    {
     "data": {
      "application/vnd.jupyter.widget-view+json": {
       "model_id": "",
       "version_major": 2,
       "version_minor": 0
      },
      "text/plain": [
       "HBox(children=(IntProgress(value=0, max=419), HTML(value='')))"
      ]
     },
     "metadata": {},
     "output_type": "display_data"
    },
    {
     "data": {
      "application/vnd.jupyter.widget-view+json": {
       "model_id": "",
       "version_major": 2,
       "version_minor": 0
      },
      "text/plain": [
       "HBox(children=(IntProgress(value=0, max=1238), HTML(value='')))"
      ]
     },
     "metadata": {},
     "output_type": "display_data"
    },
    {
     "data": {
      "application/vnd.jupyter.widget-view+json": {
       "model_id": "",
       "version_major": 2,
       "version_minor": 0
      },
      "text/plain": [
       "HBox(children=(IntProgress(value=0, max=2501), HTML(value='')))"
      ]
     },
     "metadata": {},
     "output_type": "display_data"
    },
    {
     "name": "stdout",
     "output_type": "stream",
     "text": [
      "\n"
     ]
    }
   ],
   "source": [
    "# loop through XML annotation files\n",
    "for bird_loc in tqdm(annotation_files):\n",
    "    # grab the\n",
    "    bird_xml = xml.etree.ElementTree.parse(bird_loc).getroot()\n",
    "    bird = bird_loc.parent.stem\n",
    "    # loop through each \"sequence\" in the datset (corresponding to a bout)\n",
    "    for element in tqdm(bird_xml.getchildren(), leave=False):\n",
    "        if element.tag == \"Sequence\":\n",
    "            notePositions = []\n",
    "            noteLengths = []\n",
    "            noteLabels = []\n",
    "            # get the metadata for that sequence \n",
    "            for seq_element in element.getchildren():\n",
    "                if seq_element.tag == \"Position\":\n",
    "                    position = seq_element.text\n",
    "                elif seq_element.tag == \"Length\":\n",
    "                    length = seq_element.text\n",
    "                elif seq_element.tag == \"WaveFileName\":\n",
    "                    WaveFileName = seq_element.text\n",
    "                elif seq_element.tag == \"NumNote\":\n",
    "                    NumNote = seq_element.text\n",
    "                # get the metadata for the note\n",
    "                elif seq_element.tag == \"Note\":\n",
    "                    for note_element in seq_element.getchildren():\n",
    "                        if note_element.tag == \"Label\":\n",
    "                            noteLabels.append(note_element.text)\n",
    "                        elif note_element.tag == \"Position\":\n",
    "                            notePositions.append(note_element.text)\n",
    "                        elif note_element.tag == \"Length\":\n",
    "                            noteLengths.append(note_element.text)\n",
    "            # add to the pandas dataframe\n",
    "            song_df.loc[len(song_df)] = [\n",
    "                bird,\n",
    "                WaveFileName,\n",
    "                position,\n",
    "                length,\n",
    "                NumNote,\n",
    "                notePositions,\n",
    "                noteLengths,\n",
    "                noteLabels,\n",
    "            ]"
   ]
  },
  {
   "cell_type": "code",
   "execution_count": 49,
   "metadata": {
    "ExecuteTime": {
     "end_time": "2020-11-19T17:30:39.408299Z",
     "start_time": "2020-11-19T17:30:39.394203Z"
    }
   },
   "outputs": [
    {
     "data": {
      "text/html": [
       "<div>\n",
       "<style scoped>\n",
       "    .dataframe tbody tr th:only-of-type {\n",
       "        vertical-align: middle;\n",
       "    }\n",
       "\n",
       "    .dataframe tbody tr th {\n",
       "        vertical-align: top;\n",
       "    }\n",
       "\n",
       "    .dataframe thead th {\n",
       "        text-align: right;\n",
       "    }\n",
       "</style>\n",
       "<table border=\"1\" class=\"dataframe\">\n",
       "  <thead>\n",
       "    <tr style=\"text-align: right;\">\n",
       "      <th></th>\n",
       "      <th>bird</th>\n",
       "      <th>WaveFileName</th>\n",
       "      <th>Position</th>\n",
       "      <th>Length</th>\n",
       "      <th>NumNote</th>\n",
       "      <th>NotePositions</th>\n",
       "      <th>NoteLengths</th>\n",
       "      <th>NoteLabels</th>\n",
       "    </tr>\n",
       "  </thead>\n",
       "  <tbody>\n",
       "    <tr>\n",
       "      <th>0</th>\n",
       "      <td>Bird9</td>\n",
       "      <td>0.wav</td>\n",
       "      <td>32000</td>\n",
       "      <td>64832</td>\n",
       "      <td>15</td>\n",
       "      <td>[5056, 8512, 12768, 16800, 21760, 26880, 31808...</td>\n",
       "      <td>[1440, 2016, 2176, 2944, 2784, 2784, 2592, 217...</td>\n",
       "      <td>[0, 0, 0, 0, 0, 0, 0, 1, 1, 2, 3, 4, 4, 4, 5]</td>\n",
       "    </tr>\n",
       "    <tr>\n",
       "      <th>1</th>\n",
       "      <td>Bird9</td>\n",
       "      <td>0.wav</td>\n",
       "      <td>96832</td>\n",
       "      <td>58672</td>\n",
       "      <td>16</td>\n",
       "      <td>[480, 4256, 8000, 11776, 15552, 17952, 21408, ...</td>\n",
       "      <td>[2880, 2880, 2848, 2848, 1792, 2752, 2880, 284...</td>\n",
       "      <td>[5, 5, 5, 5, 3, 4, 4, 4, 4, 4, 4, 4, 4, 5, 1, 1]</td>\n",
       "    </tr>\n",
       "    <tr>\n",
       "      <th>2</th>\n",
       "      <td>Bird9</td>\n",
       "      <td>0.wav</td>\n",
       "      <td>155504</td>\n",
       "      <td>54528</td>\n",
       "      <td>15</td>\n",
       "      <td>[992, 4640, 7072, 10624, 14336, 18176, 22048, ...</td>\n",
       "      <td>[3072, 1664, 2752, 2848, 2880, 2880, 2848, 284...</td>\n",
       "      <td>[2, 3, 4, 4, 4, 5, 5, 5, 5, 5, 3, 4, 4, 4, 4]</td>\n",
       "    </tr>\n",
       "  </tbody>\n",
       "</table>\n",
       "</div>"
      ],
      "text/plain": [
       "    bird WaveFileName Position Length NumNote  \\\n",
       "0  Bird9        0.wav    32000  64832      15   \n",
       "1  Bird9        0.wav    96832  58672      16   \n",
       "2  Bird9        0.wav   155504  54528      15   \n",
       "\n",
       "                                       NotePositions  \\\n",
       "0  [5056, 8512, 12768, 16800, 21760, 26880, 31808...   \n",
       "1  [480, 4256, 8000, 11776, 15552, 17952, 21408, ...   \n",
       "2  [992, 4640, 7072, 10624, 14336, 18176, 22048, ...   \n",
       "\n",
       "                                         NoteLengths  \\\n",
       "0  [1440, 2016, 2176, 2944, 2784, 2784, 2592, 217...   \n",
       "1  [2880, 2880, 2848, 2848, 1792, 2752, 2880, 284...   \n",
       "2  [3072, 1664, 2752, 2848, 2880, 2880, 2848, 284...   \n",
       "\n",
       "                                         NoteLabels  \n",
       "0     [0, 0, 0, 0, 0, 0, 0, 1, 1, 2, 3, 4, 4, 4, 5]  \n",
       "1  [5, 5, 5, 5, 3, 4, 4, 4, 4, 4, 4, 4, 4, 5, 1, 1]  \n",
       "2     [2, 3, 4, 4, 4, 5, 5, 5, 5, 5, 3, 4, 4, 4, 4]  "
      ]
     },
     "execution_count": 49,
     "metadata": {},
     "output_type": "execute_result"
    }
   ],
   "source": [
    "song_df[:3]"
   ]
  },
  {
   "cell_type": "markdown",
   "metadata": {},
   "source": [
    "### Now we can generate a JSON from that pandas dataframe"
   ]
  },
  {
   "cell_type": "code",
   "execution_count": 59,
   "metadata": {
    "ExecuteTime": {
     "end_time": "2020-11-19T17:39:39.484341Z",
     "start_time": "2020-11-19T17:39:39.480813Z"
    }
   },
   "outputs": [],
   "source": [
    "from avgn.utils.audio import get_samplerate\n",
    "import librosa\n",
    "from avgn.utils.json import NoIndent, NoIndentEncoder"
   ]
  },
  {
   "cell_type": "code",
   "execution_count": 65,
   "metadata": {
    "ExecuteTime": {
     "end_time": "2020-11-19T17:40:54.506340Z",
     "start_time": "2020-11-19T17:40:36.573372Z"
    }
   },
   "outputs": [
    {
     "data": {
      "application/vnd.jupyter.widget-view+json": {
       "model_id": "b9c665da764b404a9f5dfd3fd0c2c37e",
       "version_major": 2,
       "version_minor": 0
      },
      "text/plain": [
       "HBox(children=(IntProgress(value=0, max=11), HTML(value='')))"
      ]
     },
     "metadata": {},
     "output_type": "display_data"
    },
    {
     "data": {
      "application/vnd.jupyter.widget-view+json": {
       "model_id": "",
       "version_major": 2,
       "version_minor": 0
      },
      "text/plain": [
       "HBox(children=(IntProgress(value=0, max=135), HTML(value='')))"
      ]
     },
     "metadata": {},
     "output_type": "display_data"
    },
    {
     "data": {
      "application/vnd.jupyter.widget-view+json": {
       "model_id": "",
       "version_major": 2,
       "version_minor": 0
      },
      "text/plain": [
       "HBox(children=(IntProgress(value=0, max=315), HTML(value='')))"
      ]
     },
     "metadata": {},
     "output_type": "display_data"
    },
    {
     "data": {
      "application/vnd.jupyter.widget-view+json": {
       "model_id": "",
       "version_major": 2,
       "version_minor": 0
      },
      "text/plain": [
       "HBox(children=(IntProgress(value=0, max=94), HTML(value='')))"
      ]
     },
     "metadata": {},
     "output_type": "display_data"
    },
    {
     "data": {
      "application/vnd.jupyter.widget-view+json": {
       "model_id": "",
       "version_major": 2,
       "version_minor": 0
      },
      "text/plain": [
       "HBox(children=(IntProgress(value=0, max=339), HTML(value='')))"
      ]
     },
     "metadata": {},
     "output_type": "display_data"
    },
    {
     "data": {
      "application/vnd.jupyter.widget-view+json": {
       "model_id": "",
       "version_major": 2,
       "version_minor": 0
      },
      "text/plain": [
       "HBox(children=(IntProgress(value=0, max=402), HTML(value='')))"
      ]
     },
     "metadata": {},
     "output_type": "display_data"
    },
    {
     "data": {
      "application/vnd.jupyter.widget-view+json": {
       "model_id": "",
       "version_major": 2,
       "version_minor": 0
      },
      "text/plain": [
       "HBox(children=(IntProgress(value=0, max=441), HTML(value='')))"
      ]
     },
     "metadata": {},
     "output_type": "display_data"
    },
    {
     "data": {
      "application/vnd.jupyter.widget-view+json": {
       "model_id": "",
       "version_major": 2,
       "version_minor": 0
      },
      "text/plain": [
       "HBox(children=(IntProgress(value=0, max=335), HTML(value='')))"
      ]
     },
     "metadata": {},
     "output_type": "display_data"
    },
    {
     "data": {
      "application/vnd.jupyter.widget-view+json": {
       "model_id": "",
       "version_major": 2,
       "version_minor": 0
      },
      "text/plain": [
       "HBox(children=(IntProgress(value=0, max=235), HTML(value='')))"
      ]
     },
     "metadata": {},
     "output_type": "display_data"
    },
    {
     "data": {
      "application/vnd.jupyter.widget-view+json": {
       "model_id": "",
       "version_major": 2,
       "version_minor": 0
      },
      "text/plain": [
       "HBox(children=(IntProgress(value=0, max=310), HTML(value='')))"
      ]
     },
     "metadata": {},
     "output_type": "display_data"
    },
    {
     "data": {
      "application/vnd.jupyter.widget-view+json": {
       "model_id": "",
       "version_major": 2,
       "version_minor": 0
      },
      "text/plain": [
       "HBox(children=(IntProgress(value=0, max=142), HTML(value='')))"
      ]
     },
     "metadata": {},
     "output_type": "display_data"
    },
    {
     "data": {
      "application/vnd.jupyter.widget-view+json": {
       "model_id": "",
       "version_major": 2,
       "version_minor": 0
      },
      "text/plain": [
       "HBox(children=(IntProgress(value=0, max=217), HTML(value='')))"
      ]
     },
     "metadata": {},
     "output_type": "display_data"
    },
    {
     "name": "stdout",
     "output_type": "stream",
     "text": [
      "\n"
     ]
    }
   ],
   "source": [
    "# for each bird\n",
    "for bird in tqdm(np.unique(song_df.bird)):\n",
    "    # grab that bird's annotations\n",
    "    bird_df = song_df[song_df.bird == bird]\n",
    "    \n",
    "    # for each wav file produced by that bird\n",
    "    for wfn in tqdm(bird_df.WaveFileName.unique(), leave=False):\n",
    "        \n",
    "        wfn_df = bird_df[bird_df.WaveFileName == wfn]\n",
    "        \n",
    "        # get the location of the wav\n",
    "        wav_loc = RAW_DATASET_LOC / bird / \"Wave\" / wfn\n",
    "    \n",
    "        # get the wav samplerate and duration\n",
    "        sr = get_samplerate(wav_loc.as_posix())\n",
    "        wav_duration = librosa.get_duration(filename=wav_loc)\n",
    "        \n",
    "        # make json dictionary\n",
    "        json_dict = {}\n",
    "        # add species\n",
    "        json_dict[\"species\"] = \"Lonchura striata domestica\"\n",
    "        json_dict[\"common_name\"] = \"Bengalese finch\"\n",
    "        json_dict[\"wav_loc\"] = wav_loc.as_posix()\n",
    "        # rate and length\n",
    "        json_dict[\"samplerate_hz\"] = sr\n",
    "        json_dict[\"length_s\"] = wav_duration\n",
    "        \n",
    "        # make a dataframe of wav info\n",
    "        seq_df = pd.DataFrame(\n",
    "            (\n",
    "                [\n",
    "                    [\n",
    "                        list(np.repeat(sequence_num, len(row.NotePositions))),\n",
    "                        list(row.NoteLabels),\n",
    "                        np.array(\n",
    "                            (np.array(row.NotePositions).astype(\"int\") + int(row.Position))\n",
    "                            / sr\n",
    "                        ).astype(\"float64\"),\n",
    "                        np.array(\n",
    "                            (\n",
    "                                np.array(row.NotePositions).astype(\"int\")\n",
    "                                + np.array(row.NoteLengths).astype(\"int\")\n",
    "                                + int(row.Position)\n",
    "                            )\n",
    "                            / sr\n",
    "                        ).astype(\"float64\"),\n",
    "                    ]\n",
    "                    for sequence_num, (idx, row) in enumerate(wfn_df.iterrows())\n",
    "                ]\n",
    "            ),\n",
    "            columns=[\"sequence_num\", \"labels\", \"start_times\", \"end_times\"],\n",
    "        )\n",
    "        \n",
    "        # add syllable information\n",
    "        json_dict[\"indvs\"] = {\n",
    "            bird: {\n",
    "                \"notes\": {\n",
    "                    \"start_times\": NoIndent(\n",
    "                        list(np.concatenate(seq_df.start_times.values))\n",
    "                    ),\n",
    "                    \"end_times\": NoIndent(list(np.concatenate(seq_df.end_times.values))),\n",
    "                    \"labels\": NoIndent(list(np.concatenate(seq_df.labels.values))),\n",
    "                    \"sequence_num\": NoIndent(\n",
    "                        [int(i) for i in np.concatenate(seq_df.sequence_num.values)]\n",
    "                    ),\n",
    "                }\n",
    "            }\n",
    "        }\n",
    "        \n",
    "        \n",
    "        # dump dict into json format\n",
    "        json_txt = json.dumps(json_dict, cls=NoIndentEncoder, indent=2)\n",
    "\n",
    "        wav_stem = bird + \"_\" + wfn.split(\".\")[0]\n",
    "        json_out = (\n",
    "            DATA_DIR / \"processed\" / DATASET_ID / DT_ID / \"JSON\" / (wav_stem + \".JSON\")\n",
    "        )\n",
    "\n",
    "        # save json\n",
    "        avgn.utils.paths.ensure_dir(json_out.as_posix())\n",
    "        print(json_txt, file=open(json_out.as_posix(), \"w\"))\n",
    "        "
   ]
  },
  {
   "cell_type": "code",
   "execution_count": 66,
   "metadata": {
    "ExecuteTime": {
     "end_time": "2020-11-19T18:31:24.663148Z",
     "start_time": "2020-11-19T18:31:24.658738Z"
    }
   },
   "outputs": [
    {
     "name": "stdout",
     "output_type": "stream",
     "text": [
      "{\n",
      "  \"species\": \"Lonchura striata domestica\",\n",
      "  \"common_name\": \"Bengalese finch\",\n",
      "  \"wav_loc\": \"/mnt/cube/tsainbur/Projects/github_repos/avgn_paper/data/raw/koumura/zip_contents/Bird9/Wave/216.wav\",\n",
      "  \"samplerate_hz\": 32000,\n",
      "  \"length_s\": 11.124,\n",
      "  \"indvs\": {\n",
      "    \"Bird9\": {\n",
      "      \"notes\": {\n",
      "        \"start_times\": [1.158, 1.302, 1.451, 1.605, 1.761, 1.92, 2.094, 2.243, 2.404, 2.563, 2.713, 2.846, 2.971, 3.082, 3.157, 3.262, 3.372, 3.487, 3.6, 3.715, 3.833, 3.949, 4.068, 4.142, 4.249, 4.364, 4.474, 4.587, 4.698, 4.808, 4.916, 5.031, 5.146, 5.275, 5.4, 5.547, 5.657, 5.735, 5.844, 5.959, 6.078, 6.195, 6.313, 6.43, 6.5105, 6.6185, 6.7325, 6.8495, 6.9635, 7.0785, 7.1925, 7.3035, 7.4345, 7.5855, 7.7345, 7.8515, 7.9285, 8.0385, 8.1555, 8.2775, 8.3945, 8.5135, 8.6335, 8.7545, 8.8755, 8.9955, 9.0765, 9.1865, 9.3025, 9.4185, 9.5335, 9.6505, 9.7665, 9.8785],\n",
      "        \"end_times\": [1.204, 1.372, 1.509, 1.673, 1.837, 1.995, 2.173, 2.327, 2.491, 2.647, 2.791, 2.916, 3.063, 3.138, 3.242, 3.35, 3.461, 3.578, 3.691, 3.809, 3.924, 4.041, 4.125, 4.229, 4.339, 4.452, 4.563, 4.674, 4.785, 4.893, 5.005, 5.117, 5.236, 5.347, 5.474, 5.643, 5.714, 5.821, 5.933, 6.05, 6.168, 6.281, 6.399, 6.491, 6.5965, 6.7105, 6.8245, 6.9395, 7.0535, 7.1675, 7.2755, 7.3905, 7.5055, 7.6585, 7.8355, 7.9065, 8.0165, 8.1305, 8.2495, 8.3655, 8.4855, 8.6045, 8.7235, 8.8475, 8.9615, 9.0545, 9.1625, 9.2775, 9.3935, 9.5075, 9.6235, 9.7365, 9.8465, 9.9665],\n",
      "        \"labels\": [\"0\", \"0\", \"0\", \"0\", \"0\", \"0\", \"0\", \"0\", \"0\", \"0\", \"1\", \"1\", \"2\", \"3\", \"4\", \"4\", \"4\", \"5\", \"5\", \"5\", \"5\", \"5\", \"3\", \"4\", \"4\", \"4\", \"4\", \"4\", \"4\", \"4\", \"4\", \"4\", \"5\", \"1\", \"1\", \"2\", \"3\", \"4\", \"4\", \"4\", \"5\", \"5\", \"5\", \"3\", \"4\", \"4\", \"4\", \"4\", \"4\", \"4\", \"4\", \"5\", \"1\", \"1\", \"2\", \"3\", \"4\", \"4\", \"4\", \"5\", \"5\", \"5\", \"5\", \"5\", \"5\", \"3\", \"4\", \"4\", \"4\", \"4\", \"4\", \"4\", \"4\", \"5\"],\n",
      "        \"sequence_num\": [0, 0, 0, 0, 0, 0, 0, 0, 0, 0, 0, 0, 0, 0, 1, 1, 1, 1, 1, 1, 1, 1, 1, 1, 1, 1, 1, 1, 1, 2, 2, 2, 2, 2, 2, 2, 2, 2, 2, 2, 2, 2, 2, 2, 3, 3, 3, 3, 3, 3, 3, 3, 3, 3, 3, 3, 3, 3, 3, 4, 4, 4, 4, 4, 4, 4, 4, 4, 4, 4, 4, 4, 4, 4]\n",
      "      }\n",
      "    }\n",
      "  }\n",
      "}\n"
     ]
    }
   ],
   "source": [
    "# print an example JSON corresponding to the dataset we just made\n",
    "print(json_txt)"
   ]
  },
  {
   "cell_type": "markdown",
   "metadata": {},
   "source": [
    "### Now this dataset is in the right format for further analysis.\n",
    "In the next notebook, we'll segment out the notes/syllables and compute spectrograms that can be projected."
   ]
  },
  {
   "cell_type": "code",
   "execution_count": null,
   "metadata": {},
   "outputs": [],
   "source": []
  }
 ],
 "metadata": {
  "kernelspec": {
   "display_name": "Python 3",
   "language": "python",
   "name": "python3"
  },
  "language_info": {
   "codemirror_mode": {
    "name": "ipython",
    "version": 3
   },
   "file_extension": ".py",
   "mimetype": "text/x-python",
   "name": "python",
   "nbconvert_exporter": "python",
   "pygments_lexer": "ipython3",
   "version": "3.6.7"
  }
 },
 "nbformat": 4,
 "nbformat_minor": 2
}
